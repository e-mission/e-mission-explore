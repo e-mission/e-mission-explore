{
 "metadata": {
  "name": "",
  "signature": "sha256:5a318a9251cc3231aae26697997a9e39b86bbd3dafbe99f87dd6ce5bbc513193"
 },
 "nbformat": 3,
 "nbformat_minor": 0,
 "worksheets": [
  {
   "cells": [
    {
     "cell_type": "code",
     "collapsed": false,
     "input": [
      "import json"
     ],
     "language": "python",
     "metadata": {},
     "outputs": [],
     "prompt_number": 1
    },
    {
     "cell_type": "code",
     "collapsed": false,
     "input": [
      "curr_list = json.load(open(\"/Users/shankari/e-mission/e-mission-data/our_collection_data/android/raw_save_our_data/1421786180.27\"))"
     ],
     "language": "python",
     "metadata": {},
     "outputs": [],
     "prompt_number": 2
    },
    {
     "cell_type": "code",
     "collapsed": false,
     "input": [
      "curr_list[2]"
     ],
     "language": "python",
     "metadata": {},
     "outputs": [
      {
       "metadata": {},
       "output_type": "pyout",
       "prompt_number": 3,
       "text": [
        "{u'activities': [{u'activity': u'unknown',\n",
        "   u'distance': 1126.0961473286152,\n",
        "   u'duration': 495388,\n",
        "   u'endTime': u'20150120T082227-0800',\n",
        "   u'group': u'unknown',\n",
        "   u'startTime': u'20150120T081412-0800',\n",
        "   u'startTimeTs': u'20150120T081412-0800',\n",
        "   u'trackPoints': [{u'accuracy': 4,\n",
        "     u'lat': 37.3917693,\n",
        "     u'lon': -122.0853717,\n",
        "     u'time': u'20150120T081412-0800'},\n",
        "    {u'accuracy': 4,\n",
        "     u'lat': 37.3917693,\n",
        "     u'lon': -122.0853717,\n",
        "     u'time': u'20150120T081412-0800'},\n",
        "    {u'accuracy': 4,\n",
        "     u'lat': 37.3921255,\n",
        "     u'lon': -122.0852058,\n",
        "     u'time': u'20150120T081418-0800'},\n",
        "    {u'accuracy': 4,\n",
        "     u'lat': 37.3924023,\n",
        "     u'lon': -122.0850097,\n",
        "     u'time': u'20150120T081423-0800'},\n",
        "    {u'accuracy': 4,\n",
        "     u'lat': 37.3926765,\n",
        "     u'lon': -122.084828,\n",
        "     u'time': u'20150120T081429-0800'},\n",
        "    {u'accuracy': 4,\n",
        "     u'lat': 37.3926877,\n",
        "     u'lon': -122.0844865,\n",
        "     u'time': u'20150120T081435-0800'},\n",
        "    {u'accuracy': 3.9000000953674316,\n",
        "     u'lat': 37.3926093,\n",
        "     u'lon': -122.0841429,\n",
        "     u'time': u'20150120T081440-0800'},\n",
        "    {u'accuracy': 4,\n",
        "     u'lat': 37.3924788,\n",
        "     u'lon': -122.0836325,\n",
        "     u'time': u'20150120T081446-0800'},\n",
        "    {u'accuracy': 4,\n",
        "     u'lat': 37.3922896,\n",
        "     u'lon': -122.083195,\n",
        "     u'time': u'20150120T081452-0800'},\n",
        "    {u'accuracy': 3.9000000953674316,\n",
        "     u'lat': 37.3921717,\n",
        "     u'lon': -122.0828625,\n",
        "     u'time': u'20150120T081457-0800'},\n",
        "    {u'accuracy': 4,\n",
        "     u'lat': 37.3922957,\n",
        "     u'lon': -122.0825967,\n",
        "     u'time': u'20150120T081503-0800'},\n",
        "    {u'accuracy': 4,\n",
        "     u'lat': 37.3925289,\n",
        "     u'lon': -122.0824615,\n",
        "     u'time': u'20150120T081508-0800'},\n",
        "    {u'accuracy': 4,\n",
        "     u'lat': 37.3927572,\n",
        "     u'lon': -122.0822988,\n",
        "     u'time': u'20150120T081513-0800'},\n",
        "    {u'accuracy': 4,\n",
        "     u'lat': 37.3930571,\n",
        "     u'lon': -122.082143,\n",
        "     u'time': u'20150120T081519-0800'},\n",
        "    {u'accuracy': 3.9000000953674316,\n",
        "     u'lat': 37.3932743,\n",
        "     u'lon': -122.0820092,\n",
        "     u'time': u'20150120T081524-0800'},\n",
        "    {u'accuracy': 3.9000000953674316,\n",
        "     u'lat': 37.3935016,\n",
        "     u'lon': -122.0818568,\n",
        "     u'time': u'20150120T081530-0800'},\n",
        "    {u'accuracy': 3.9000000953674316,\n",
        "     u'lat': 37.3937774,\n",
        "     u'lon': -122.08167,\n",
        "     u'time': u'20150120T081536-0800'},\n",
        "    {u'accuracy': 3.9000000953674316,\n",
        "     u'lat': 37.3940058,\n",
        "     u'lon': -122.0814801,\n",
        "     u'time': u'20150120T081541-0800'},\n",
        "    {u'accuracy': 4,\n",
        "     u'lat': 37.3942479,\n",
        "     u'lon': -122.0813458,\n",
        "     u'time': u'20150120T081546-0800'},\n",
        "    {u'accuracy': 4,\n",
        "     u'lat': 37.3945427,\n",
        "     u'lon': -122.0811991,\n",
        "     u'time': u'20150120T081552-0800'},\n",
        "    {u'accuracy': 34.5,\n",
        "     u'lat': 37.3949048,\n",
        "     u'lon': -122.0815264,\n",
        "     u'time': u'20150120T081614-0800'},\n",
        "    {u'accuracy': 30,\n",
        "     u'lat': 37.3937085,\n",
        "     u'lon': -122.0789284,\n",
        "     u'time': u'20150120T081650-0800'},\n",
        "    {u'accuracy': 30,\n",
        "     u'lat': 37.3936905,\n",
        "     u'lon': -122.0789353,\n",
        "     u'time': u'20150120T081715-0800'},\n",
        "    {u'accuracy': 37.5,\n",
        "     u'lat': 37.3944732,\n",
        "     u'lon': -122.0784653,\n",
        "     u'time': u'20150120T081747-0800'},\n",
        "    {u'accuracy': 42,\n",
        "     u'lat': 37.3946388,\n",
        "     u'lon': -122.07786,\n",
        "     u'time': u'20150120T081822-0800'},\n",
        "    {u'accuracy': 42,\n",
        "     u'lat': 37.3946388,\n",
        "     u'lon': -122.07786,\n",
        "     u'time': u'20150120T081852-0800'},\n",
        "    {u'accuracy': 36,\n",
        "     u'lat': 37.3951032,\n",
        "     u'lon': -122.0778081,\n",
        "     u'time': u'20150120T081923-0800'},\n",
        "    {u'accuracy': 87,\n",
        "     u'lat': 37.3951038,\n",
        "     u'lon': -122.0778044,\n",
        "     u'time': u'20150120T081954-0800'},\n",
        "    {u'accuracy': 87,\n",
        "     u'lat': 37.3951038,\n",
        "     u'lon': -122.0778044,\n",
        "     u'time': u'20150120T082024-0800'},\n",
        "    {u'accuracy': 87,\n",
        "     u'lat': 37.3951038,\n",
        "     u'lon': -122.0778044,\n",
        "     u'time': u'20150120T082055-0800'},\n",
        "    {u'accuracy': 87,\n",
        "     u'lat': 37.3951038,\n",
        "     u'lon': -122.0778044,\n",
        "     u'time': u'20150120T082125-0800'},\n",
        "    {u'accuracy': 87,\n",
        "     u'lat': 37.3951038,\n",
        "     u'lon': -122.0778044,\n",
        "     u'time': u'20150120T082155-0800'}]}],\n",
        " u'endTime': u'20150120T082227-0800',\n",
        " u'startTime': u'20150120T081412-0800',\n",
        " u'startTimeTs': 1421770452253,\n",
        " u'type': u'move'}"
       ]
      }
     ],
     "prompt_number": 3
    },
    {
     "cell_type": "code",
     "collapsed": false,
     "input": [
      "from attrdict import AttrDict"
     ],
     "language": "python",
     "metadata": {},
     "outputs": [],
     "prompt_number": 4
    },
    {
     "cell_type": "code",
     "collapsed": false,
     "input": [
      "from pymongo import MongoClient\n",
      "reconstructedTimeSeriesDb = MongoClient().Stage_database.Stage_Reconstructed_Timeseries\n",
      "reconstructedTripsDb = MongoClient().Stage_database.Stage_Trips_db"
     ],
     "language": "python",
     "metadata": {},
     "outputs": [],
     "prompt_number": 5
    },
    {
     "cell_type": "code",
     "collapsed": false,
     "input": [
      "import logging\n",
      "logging.basicConfig(level=logging.DEBUG)"
     ],
     "language": "python",
     "metadata": {},
     "outputs": [],
     "prompt_number": 6
    },
    {
     "cell_type": "code",
     "collapsed": false,
     "input": [
      "from dateutil import parser"
     ],
     "language": "python",
     "metadata": {},
     "outputs": [],
     "prompt_number": 14
    },
    {
     "cell_type": "code",
     "collapsed": false,
     "input": [
      "import time"
     ],
     "language": "python",
     "metadata": {},
     "outputs": [],
     "prompt_number": 21
    },
    {
     "cell_type": "code",
     "collapsed": false,
     "input": [
      "to_ts = lambda(dt): time.mktime(dt.timetuple())"
     ],
     "language": "python",
     "metadata": {},
     "outputs": [],
     "prompt_number": 25
    },
    {
     "cell_type": "code",
     "collapsed": false,
     "input": [
      "def load_file(curr_list):\n",
      "    for entryJSON in curr_list:\n",
      "        entryDict = AttrDict(entryJSON)\n",
      "        if entryDict.type == \"move\":\n",
      "            trip_id = entryDict.startTime\n",
      "            for i, activity in enumerate(entryDict.activities):\n",
      "                print(\"For trip id = %s, activity %s starts at %s\" % (trip_id, i, activity.startTime))\n",
      "                section = AttrDict()\n",
      "                section.id = trip_id + \"_\"+ str(i)\n",
      "                try:\n",
      "                    section.startTs = to_ts(parser.parse(activity.startTime))\n",
      "                    section.endTs = to_ts(parser.parse(activity.endTime))\n",
      "                except ValueError:\n",
      "                    if len(entryDict.activities) == 1:\n",
      "                        print(\"One section case: Error parsing times %s or %s, using start and end points of the trip %s %s instead\" % \n",
      "                              (activity.startTime, activity.endTime, entryDict.startTime, entryDict.endTime))\n",
      "                        section.startTs = to_ts(parser.parse(entryDict.startTime))\n",
      "                        section.endTs = to_ts(parser.parse(entryDict.endTime))\n",
      "                    else:\n",
      "                        if (i < (len(entryDict.activities) - 1)):\n",
      "                            # This is not the last activity\n",
      "                            print(\"Multi-section, not last section case: Error parsing times %s or %s, using start times of this and next section %s %s instead\" %\n",
      "                                  (activity.startTime, activity.endTime, activity.trackPoints[0].time,\n",
      "                                   entryDict.activities[i+1].trackPoints[0].time))\n",
      "                            section.startTs = to_ts(parser.parse(activity.trackPoints[0].time))\n",
      "                            section.endTs = to_ts(parser.parse(entryDict.activities[i+1].trackPoints[0].time))\n",
      "                        else:\n",
      "                            # This is the last activity\n",
      "                            print(\"Multi-section, last section case: Error parsing times %s or %s, using start times of this and next section %s %s instead\" %\n",
      "                                  (activity.startTime, activity.endTime, activity.trackPoints[0].time,\n",
      "                                   entryDict.endTime))\n",
      "                            section.startTs = to_ts(parser.parse(activity.trackPoints[0].time))\n",
      "                            section.endTs = to_ts(parser.parse(entryDict.endTime))\n",
      "\n",
      "                section.startTime = activity.startTime\n",
      "                section.endTime = activity.endTime\n",
      "                print(\"For section %s, inserting track points %s\" % (section, len(activity.trackPoints)))\n",
      "                reconstructedTripsDb.insert(section)\n",
      "                for i, tp in enumerate(activity.trackPoints):\n",
      "                    point = AttrDict()\n",
      "                    point.idx = i\n",
      "                    point.mLatitude = tp.lat\n",
      "                    point.mLongitude = tp.lon\n",
      "                    point.formatted_time = tp.time\n",
      "                    point.mTime = to_ts(parser.parse(tp.time))\n",
      "                    point.mAccuracy = tp.accuracy\n",
      "                    # print \"Got track point %s\" % point\n",
      "                    reconstructedTimeSeriesDb.insert(point)"
     ],
     "language": "python",
     "metadata": {},
     "outputs": [],
     "prompt_number": 60
    },
    {
     "cell_type": "code",
     "collapsed": false,
     "input": [
      "import os"
     ],
     "language": "python",
     "metadata": {},
     "outputs": [],
     "prompt_number": 51
    },
    {
     "cell_type": "code",
     "collapsed": false,
     "input": [
      "for dirname, dirnames, filenames in os.walk('/Users/shankari/e-mission/e-mission-data/our_collection_data/android/raw_save_our_data/'):\n",
      "    # print dirname\n",
      "    for filename in filenames[0:50]:\n",
      "        print \"Loading %s%s\" % (dirname, filename)\n",
      "        load_file(json.load(open(\"%s%s\" % (dirname, filename))))"
     ],
     "language": "python",
     "metadata": {},
     "outputs": [
      {
       "output_type": "stream",
       "stream": "stdout",
       "text": [
        "Loading /Users/shankari/e-mission/e-mission-data/our_collection_data/android/raw_save_our_data/1421786180.27\n",
        "For trip id = 20150120T081412-0800, activity 0 starts at 20150120T081412-0800\n",
        "For section AttrDict({'endTime': u'20150120T082227-0800', 'startTs': 1421770452.0, 'id': u'20150120T081412-0800_0', 'startTime': u'20150120T081412-0800', 'endTs': 1421770947.0}), inserting track points 32\n",
        "For trip id = 20150120T083030-0800, activity 0 starts at 20150120T083030-0800\n",
        "For section AttrDict({'endTime': u'20150120T091252-0800', 'startTs': 1421771430.0, 'id': u'20150120T083030-0800_0', 'startTime': u'20150120T083030-0800', 'endTs': 1421773972.0}), inserting track points 79\n",
        "For trip id = 20150120T092038-0800, activity 0 starts at 20150120T092038-0800"
       ]
      },
      {
       "output_type": "stream",
       "stream": "stdout",
       "text": [
        "\n",
        "For section AttrDict({'endTime': u'20150120T094031-0800', 'startTs': 1421774438.0, 'id': u'20150120T092038-0800_0', 'startTime': u'20150120T092038-0800', 'endTs': 1421775631.0}), inserting track points 31\n",
        "For trip id = 20150120T095103-0800, activity 0 starts at 20150120T095103-0800\n",
        "For section AttrDict({'endTime': u'20150120T100048-0800', 'startTs': 1421776263.0, 'id': u'20150120T095103-0800_0', 'startTime': u'20150120T095103-0800', 'endTs': 1421776848.0}), inserting track points 19\n",
        "For trip id = 20150120T100601-0800, activity 0 starts at 20150120T100601-0800\n",
        "For section AttrDict({'endTime': u'20150120T103531-0800', 'startTs': 1421777161.0, 'id': u'20150120T100601-0800_0', 'startTime': u'20150120T100601-0800', 'endTs': 1421778931.0}), inserting track points 60\n",
        "Loading /Users/shankari/e-mission/e-mission-data/our_collection_data/android/raw_save_our_data/1421786671.79"
       ]
      },
      {
       "output_type": "stream",
       "stream": "stdout",
       "text": [
        "\n",
        "For trip id = 20150120T081329-0800, activity 0 starts at 20150120T081329-0800\n",
        "For section AttrDict({'endTime': u'20150120T081639-0800', 'startTs': 1421770409.0, 'id': u'20150120T081329-0800_0', 'startTime': u'20150120T081329-0800', 'endTs': 1421770599.0}), inserting track points 7\n",
        "For trip id = 20150120T081329-0800, activity 1 starts at 20150120T081639-0800\n",
        "For section AttrDict({'endTime': u'20150120T081848-0800', 'startTs': 1421770599.0, 'id': u'20150120T081329-0800_1', 'startTime': u'20150120T081639-0800', 'endTs': 1421770728.0}), inserting track points 4\n",
        "For trip id = 20150120T082726-0800, activity 0 starts at 20150120T082726-0800\n",
        "For section AttrDict({'endTime': u'20150120T083212-0800', 'startTs': 1421771246.0, 'id': u'20150120T082726-0800_0', 'startTime': u'20150120T082726-0800', 'endTs': 1421771532.0}), inserting track points 9\n",
        "For trip id = 20150120T084203-0800, activity 0 starts at 20150120T084203-0800\n",
        "For section AttrDict({'endTime': u'20150120T084537-0800', 'startTs': 1421772123.0, 'id': u'20150120T084203-0800_0', 'startTime': u'20150120T084203-0800', 'endTs': 1421772337.0}), inserting track points 9\n",
        "For trip id = 20150120T085309-0800, activity 0 starts at 20150120T085309-0800\n",
        "For section AttrDict({'endTime': u'20150120T085656-0800', 'startTs': 1421772789.0, 'id': u'20150120T085309-0800_0', 'startTime': u'20150120T085309-0800', 'endTs': 1421773016.0}), inserting track points 9\n",
        "For trip id = 20150120T091130-0800, activity 0 starts at 20150120T091130-0800\n",
        "For section AttrDict({'endTime': u'20150120T091757-0800', 'startTs': 1421773890.0, 'id': u'20150120T091130-0800_0', 'startTime': u'20150120T091130-0800', 'endTs': 1421774277.0}), inserting track points 15\n",
        "Loading /Users/shankari/e-mission/e-mission-data/our_collection_data/android/raw_save_our_data/1421802871.02\n",
        "For trip id = 20150120T164520-0800, activity 0 starts at 20150120T164520-0800\n",
        "For section AttrDict({'endTime': u'20150120T164930-0800', 'startTs': 1421801120.0, 'id': u'20150120T164520-0800_0', 'startTime': u'20150120T164520-0800', 'endTs': 1421801370.0}), inserting track points 9\n",
        "For trip id = 20150120T165421-0800, activity 0 starts at 20150120T165421-0800\n",
        "For section AttrDict({'endTime': u'20150120T170533-0800', 'startTs': 1421801661.0, 'id': u'20150120T165421-0800_0', 'startTime': u'20150120T165421-0800', 'endTs': 1421802333.0}), inserting track points 23\n",
        "Loading /Users/shankari/e-mission/e-mission-data/our_collection_data/android/raw_save_our_data/1421804640.82"
       ]
      },
      {
       "output_type": "stream",
       "stream": "stdout",
       "text": [
        "\n",
        "For trip id = 20150120T171905-0800, activity 0 starts at 20150120T171905-0800\n",
        "For section AttrDict({'endTime': u'20150120T172346-0800', 'startTs': 1421803145.0, 'id': u'20150120T171905-0800_0', 'startTime': u'20150120T171905-0800', 'endTs': 1421803426.0}), inserting track points 11\n",
        "Loading /Users/shankari/e-mission/e-mission-data/our_collection_data/android/raw_save_our_data/1421806489.78\n",
        "For trip id = 20150120T173939-0800, activity 0 starts at 20150120T173939-0800\n",
        "For section AttrDict({'endTime': u'20150120T180711-0800', 'startTs': 1421804379.0, 'id': u'20150120T173939-0800_0', 'startTime': u'20150120T173939-0800', 'endTs': 1421806031.0}), inserting track points 39\n",
        "For trip id = 20150120T173939-0800, activity 1 starts at 20150120T180711-0800\n",
        "For section AttrDict({'endTime': u'20150120T180834-0800', 'startTs': 1421806031.0, 'id': u'20150120T173939-0800_1', 'startTime': u'20150120T180711-0800', 'endTs': 1421806114.0}), inserting track points 2\n",
        "Loading /Users/shankari/e-mission/e-mission-data/our_collection_data/android/raw_save_our_data/1421807509.82\n",
        "For trip id = 20150120T174712-0800, activity 0 starts at 20150120T174712-0800\n",
        "For section AttrDict({'endTime': u'20150120T175902-0800', 'startTs': 1421804832.0, 'id': u'20150120T174712-0800_0', 'startTime': u'20150120T174712-0800', 'endTs': 1421805542.0}), inserting track points 29\n",
        "For trip id = 20150120T175906-0800, activity 0 starts at 20150120T175906-0800\n",
        "For section AttrDict({'endTime': u'20150120T175955-0800', 'startTs': 1421805546.0, 'id': u'20150120T175906-0800_0', 'startTime': u'20150120T175906-0800', 'endTs': 1421805595.0}), inserting track points 9\n",
        "For trip id = 20150120T175959-0800, activity 0 starts at 20150120T175959-0800"
       ]
      },
      {
       "output_type": "stream",
       "stream": "stdout",
       "text": [
        "\n",
        "For section AttrDict({'endTime': u'20150120T180059-0800', 'startTs': 1421805599.0, 'id': u'20150120T175959-0800_0', 'startTime': u'20150120T175959-0800', 'endTs': 1421805659.0}), inserting track points 9\n",
        "For trip id = 20150120T180100-0800, activity 0 starts at 20150120T180100-0800\n",
        "For section AttrDict({'endTime': u'20150120T180310-0800', 'startTs': 1421805660.0, 'id': u'20150120T180100-0800_0', 'startTime': u'20150120T180100-0800', 'endTs': 1421805790.0}), inserting track points 9\n",
        "For trip id = 20150120T180314-0800, activity 0 starts at 20150120T180314-0800\n",
        "For section AttrDict({'endTime': u'20150120T180718-0800', 'startTs': 1421805794.0, 'id': u'20150120T180314-0800_0', 'startTime': u'20150120T180314-0800', 'endTs': 1421806038.0}), inserting track points 9\n",
        "For trip id = 20150120T180722-0800, activity 0 starts at 20150120T180722-0800\n",
        "For section AttrDict({'endTime': u'20150120T181131-0800', 'startTs': 1421806042.0, 'id': u'20150120T180722-0800_0', 'startTime': u'20150120T180722-0800', 'endTs': 1421806291.0}), inserting track points 9\n",
        "For trip id = 20150120T181201-0800, activity 0 starts at 20150120T181201-0800\n",
        "For section AttrDict({'endTime': u'20150120T182300-0800', 'startTs': 1421806321.0, 'id': u'20150120T181201-0800_0', 'startTime': u'20150120T181201-0800', 'endTs': 1421806980.0}), inserting track points 21\n",
        "Loading /Users/shankari/e-mission/e-mission-data/our_collection_data/android/raw_save_our_data/1421808864.2\n",
        "For trip id = 20150120T180858-0800, activity 0 starts at 20150120T180858-0800\n",
        "For section AttrDict({'endTime': u'20150120T181321-0800', 'startTs': 1421806138.0, 'id': u'20150120T180858-0800_0', 'startTime': u'20150120T180858-0800', 'endTs': 1421806401.0}), inserting track points 9\n",
        "For trip id = 20150120T182502-0800, activity 0 starts at 20150120T182502-0800\n",
        "For section AttrDict({'endTime': u'20150120T182912-0800', 'startTs': 1421807102.0, 'id': u'20150120T182502-0800_0', 'startTime': u'20150120T182502-0800', 'endTs': 1421807352.0}), inserting track points 9\n",
        "Loading /Users/shankari/e-mission/e-mission-data/our_collection_data/android/raw_save_our_data/1421810050.25\n",
        "For trip id = 20150120T182415-0800, activity 0 starts at 20150120T182415-0800\n",
        "For section AttrDict({'endTime': u'20150120T183230-0800', 'startTs': 1421807055.0, 'id': u'20150120T182415-0800_0', 'startTime': u'20150120T182415-0800', 'endTs': 1421807550.0}), inserting track points 16"
       ]
      },
      {
       "output_type": "stream",
       "stream": "stdout",
       "text": [
        "\n",
        "Loading /Users/shankari/e-mission/e-mission-data/our_collection_data/android/raw_save_our_data/1421810050.47\n",
        "For trip id = 20150120T184825-0800, activity 0 starts at 20150120T184825-0800\n",
        "For section AttrDict({'endTime': u'20150120T185515-0800', 'startTs': 1421808505.0, 'id': u'20150120T184825-0800_0', 'startTime': u'20150120T184825-0800', 'endTs': 1421808915.0}), inserting track points 18\n",
        "Loading /Users/shankari/e-mission/e-mission-data/our_collection_data/android/raw_save_our_data/1421814633.56\n",
        "For trip id = 20150120T184051-0800, activity 0 starts at 20150120T184051-0800\n",
        "For section AttrDict({'endTime': u'20150120T200412-0800', 'startTs': 1421808051.0, 'id': u'20150120T184051-0800_0', 'startTime': u'20150120T184051-0800', 'endTs': 1421813052.0}), inserting track points 162\n",
        "For trip id = 20150120T200648-0800, activity 0 starts at 20150120T200648-0800"
       ]
      },
      {
       "output_type": "stream",
       "stream": "stdout",
       "text": [
        "\n",
        "For section AttrDict({'endTime': u'20150120T201303-0800', 'startTs': 1421813208.0, 'id': u'20150120T200648-0800_0', 'startTime': u'20150120T200648-0800', 'endTs': 1421813583.0}), inserting track points 14\n",
        "Loading /Users/shankari/e-mission/e-mission-data/our_collection_data/android/raw_save_our_data/1421859179.46\n",
        "For trip id = 20150121T081311-0800, activity 0 starts at 20150121T081311-0800\n",
        "For section AttrDict({'endTime': u'20150121T081858-0800', 'startTs': 1421856791.0, 'id': u'20150121T081311-0800_0', 'startTime': u'20150121T081311-0800', 'endTs': 1421857138.0}), inserting track points 12\n",
        "For trip id = 20150121T082438-0800, activity 0 starts at 20150121T082438-0800\n",
        "For section AttrDict({'endTime': u'20150121T082950-0800', 'startTs': 1421857478.0, 'id': u'20150121T082438-0800_0', 'startTime': u'20150121T082438-0800', 'endTs': 1421857790.0}), inserting track points 11\n",
        "Loading /Users/shankari/e-mission/e-mission-data/our_collection_data/android/raw_save_our_data/1421867663.29\n",
        "For trip id = 20150121T101156-0800, activity 0 starts at 20150121T101156-0800\n",
        "For section AttrDict({'endTime': u'20150121T104654-0800', 'startTs': 1421863916.0, 'id': u'20150121T101156-0800_0', 'startTime': u'20150121T101156-0800', 'endTs': 1421866014.0}), inserting track points 60\n",
        "Loading /Users/shankari/e-mission/e-mission-data/our_collection_data/android/raw_save_our_data/1421872593.72"
       ]
      },
      {
       "output_type": "stream",
       "stream": "stdout",
       "text": [
        "\n",
        "For trip id = 20150121T120427-0800, activity 0 starts at 20150121T120427-0800\n",
        "For section AttrDict({'endTime': u'20150121T121646-0800', 'startTs': 1421870667.0, 'id': u'20150121T120427-0800_0', 'startTime': u'20150121T120427-0800', 'endTs': 1421871406.0}), inserting track points 25\n",
        "For trip id = 20150121T122103-0800, activity 0 starts at 20150121T122103-0800\n",
        "For section AttrDict({'endTime': u'20150121T123127-0800', 'startTs': 1421871663.0, 'id': u'20150121T122103-0800_0', 'startTime': u'20150121T122103-0800', 'endTs': 1421872287.0}), inserting track points 22\n",
        "Loading /Users/shankari/e-mission/e-mission-data/our_collection_data/android/raw_save_our_data/1421877231.8\n",
        "For trip id = 20150121T131523-0800, activity 0 starts at 20150121T131523-0800\n",
        "For section AttrDict({'endTime': u'20150121T132646-0800', 'startTs': 1421874923.0, 'id': u'20150121T131523-0800_0', 'startTime': u'20150121T131523-0800', 'endTs': 1421875606.0}), inserting track points 23\n",
        "Loading /Users/shankari/e-mission/e-mission-data/our_collection_data/android/raw_save_our_data/1421884302.99\n",
        "For trip id = 20150121T151641-0800, activity 0 starts at 20150121T151641-0800\n",
        "For section AttrDict({'endTime': u'20150121T152857-0800', 'startTs': 1421882201.0, 'id': u'20150121T151641-0800_0', 'startTime': u'20150121T151641-0800', 'endTs': 1421882937.0}), inserting track points 25\n",
        "Loading /Users/shankari/e-mission/e-mission-data/our_collection_data/android/raw_save_our_data/1421897224.88"
       ]
      },
      {
       "output_type": "stream",
       "stream": "stdout",
       "text": [
        "\n",
        "For trip id = 20150121T162232-0800, activity 0 starts at 20150121T162232-0800\n",
        "For section AttrDict({'endTime': u'20150121T170111-0800', 'startTs': 1421886152.0, 'id': u'20150121T162232-0800_0', 'startTime': u'20150121T162232-0800', 'endTs': 1421888471.0}), inserting track points 41\n",
        "For trip id = 20150121T172104-0800, activity 0 starts at 20150121T172104-0800\n",
        "For section AttrDict({'endTime': u'20150121T172618-0800', 'startTs': 1421889664.0, 'id': u'20150121T172104-0800_0', 'startTime': u'20150121T172104-0800', 'endTs': 1421889978.0}), inserting track points 11\n",
        "For trip id = 20150121T172651-0800, activity 0 starts at 20150121T172651-0800\n",
        "For section AttrDict({'endTime': u'20150121T172954-0800', 'startTs': 1421890011.0, 'id': u'20150121T172651-0800_0', 'startTime': u'20150121T172651-0800', 'endTs': 1421890194.0}), inserting track points 7\n",
        "For trip id = 20150121T172651-0800, activity 1 starts at 20150121T172954-0800\n",
        "For section AttrDict({'endTime': u'20150121T173332-0800', 'startTs': 1421890194.0, 'id': u'20150121T172651-0800_1', 'startTime': u'20150121T172954-0800', 'endTs': 1421890412.0}), inserting track points 8\n",
        "For trip id = 20150121T172651-0800, activity 2 starts at 20150121T173332-0800\n",
        "For section AttrDict({'endTime': u'20150121T173605-0800', 'startTs': 1421890412.0, 'id': u'20150121T172651-0800_2', 'startTime': u'20150121T173332-0800', 'endTs': 1421890565.0}), inserting track points 4\n",
        "For trip id = 20150121T173610-0800, activity 0 starts at 20150121T173610-0800\n",
        "For section AttrDict({'endTime': u'20150121T174322-0800', 'startTs': 1421890570.0, 'id': u'20150121T173610-0800_0', 'startTime': u'20150121T173610-0800', 'endTs': 1421891002.0}), inserting track points 15\n",
        "For trip id = 20150121T185844-0800, activity 0 starts at 20150121T185844-0800"
       ]
      },
      {
       "output_type": "stream",
       "stream": "stdout",
       "text": [
        "\n",
        "For section AttrDict({'endTime': u'20150121T190251-0800', 'startTs': 1421895524.0, 'id': u'20150121T185844-0800_0', 'startTime': u'20150121T185844-0800', 'endTs': 1421895771.0}), inserting track points 9\n",
        "Loading /Users/shankari/e-mission/e-mission-data/our_collection_data/android/raw_save_our_data/1421900074.99\n",
        "For trip id = 20150121T190818-0800, activity 0 starts at 20150121T190818-0800\n",
        "For section AttrDict({'endTime': u'20150121T192626-0800', 'startTs': 1421896098.0, 'id': u'20150121T190818-0800_0', 'startTime': u'20150121T190818-0800', 'endTs': 1421897186.0}), inserting track points 35\n",
        "Loading /Users/shankari/e-mission/e-mission-data/our_collection_data/android/raw_save_our_data/1421913227.42\n",
        "For trip id = 20150118T132712-0800, activity 0 starts at 20150118T132712-0800\n",
        "For section AttrDict({'endTime': u'20150118T133154-0800', 'startTs': 1421616432.0, 'id': u'20150118T132712-0800_0', 'startTime': u'20150118T132712-0800', 'endTs': 1421616714.0}), inserting track points 16\n",
        "For trip id = 20150118T132712-0800, activity 1 starts at 20150118T133154-0800\n",
        "For section AttrDict({'endTime': u'20150118T133152-0800', 'startTs': 1421616714.0, 'id': u'20150118T132712-0800_1', 'startTime': u'20150118T133154-0800', 'endTs': 1421616712.0}), inserting track points 0\n",
        "Loading /Users/shankari/e-mission/e-mission-data/our_collection_data/android/raw_save_our_data/1421938838.36\n",
        "For trip id = 20150122T064811-0800, activity 0 starts at 20150122T064811-0800\n",
        "For section AttrDict({'endTime': u'20150122T065536-0800', 'startTs': 1421938091.0, 'id': u'20150122T064811-0800_0', 'startTime': u'20150122T064811-0800', 'endTs': 1421938536.0}), inserting track points 22\n",
        "Loading /Users/shankari/e-mission/e-mission-data/our_collection_data/android/raw_save_our_data/1421943169.34\n",
        "For trip id = 20150122T070032-0800, activity 0 starts at 20150122T070032-0800\n",
        "For section AttrDict({'endTime': u'20150122T070902-0800', 'startTs': 1421938832.0, 'id': u'20150122T070032-0800_0', 'startTime': u'20150122T070032-0800', 'endTs': 1421939342.0}), inserting track points 18"
       ]
      },
      {
       "output_type": "stream",
       "stream": "stdout",
       "text": [
        "\n",
        "For trip id = 20150122T070911-0800, activity 0 starts at 20150122T070911-0800\n",
        "For section AttrDict({'endTime': u'20150122T071319-0800', 'startTs': 1421939351.0, 'id': u'20150122T070911-0800_0', 'startTime': u'20150122T070911-0800', 'endTs': 1421939599.0}), inserting track points 9\n",
        "For trip id = 20150122T071325-0800, activity 0 starts at 20150122T071325-0800\n",
        "For section AttrDict({'endTime': u'20150122T073102-0800', 'startTs': 1421939605.0, 'id': u'20150122T071325-0800_0', 'startTime': u'20150122T071325-0800', 'endTs': 1421940662.0}), inserting track points 34\n",
        "Loading /Users/shankari/e-mission/e-mission-data/our_collection_data/android/raw_save_our_data/1421945232.51\n",
        "For trip id = 20150122T073710-0800, activity 0 starts at 20150122T073710-0800\n",
        "For section AttrDict({'endTime': u'20150122T081444-0800', 'startTs': 1421941030.0, 'id': u'20150122T073710-0800_0', 'startTime': u'20150122T073710-0800', 'endTs': 1421943284.0}), inserting track points 32\n",
        "For trip id = 20150122T082030-0800, activity 0 starts at 20150122T082030-0800"
       ]
      },
      {
       "output_type": "stream",
       "stream": "stdout",
       "text": [
        "\n",
        "For section AttrDict({'endTime': u'20150122T082831-0800', 'startTs': 1421943630.0, 'id': u'20150122T082030-0800_0', 'startTime': u'20150122T082030-0800', 'endTs': 1421944111.0}), inserting track points 15\n",
        "Loading /Users/shankari/e-mission/e-mission-data/our_collection_data/android/raw_save_our_data/1421945388.09\n",
        "For trip id = 20150122T082549-0800, activity 0 starts at 20150122T082549-0800\n",
        "For section AttrDict({'endTime': u'20150122T083434-0800', 'startTs': 1421943949.0, 'id': u'20150122T082549-0800_0', 'startTime': u'20150122T082549-0800', 'endTs': 1421944474.0}), inserting track points 18\n",
        "Loading /Users/shankari/e-mission/e-mission-data/our_collection_data/android/raw_save_our_data/1421947033.79\n",
        "For trip id = 20150122T082835-0800, activity 0 starts at 20150122T082835-0800\n",
        "For section AttrDict({'endTime': u'20150122T084659-0800', 'startTs': 1421944115.0, 'id': u'20150122T082835-0800_0', 'startTime': u'20150122T082835-0800', 'endTs': 1421945219.0}), inserting track points 37\n",
        "Loading /Users/shankari/e-mission/e-mission-data/our_collection_data/android/raw_save_our_data/1421948686.68\n",
        "For trip id = 20150122T084446-0800, activity 0 starts at 20150122T084446-0800\n",
        "For section AttrDict({'endTime': u'20150122T084825-0800', 'startTs': 1421945086.0, 'id': u'20150122T084446-0800_0', 'startTime': u'20150122T084446-0800', 'endTs': 1421945305.0}), inserting track points 9\n",
        "Loading /Users/shankari/e-mission/e-mission-data/our_collection_data/android/raw_save_our_data/1421979274.52\n",
        "For trip id = 20150122T160713-0800, activity 0 starts at 20150122T160713-0800\n",
        "For section AttrDict({'endTime': u'20150122T163322-0800', 'startTs': 1421971633.0, 'id': u'20150122T160713-0800_0', 'startTime': u'20150122T160713-0800', 'endTs': 1421973202.0}), inserting track points 20\n",
        "For trip id = 20150122T165916-0800, activity 0 starts at 20150122T165916-0800"
       ]
      },
      {
       "output_type": "stream",
       "stream": "stdout",
       "text": [
        "\n",
        "For section AttrDict({'endTime': u'20150122T170410-0800', 'startTs': 1421974756.0, 'id': u'20150122T165916-0800_0', 'startTime': u'20150122T165916-0800', 'endTs': 1421975050.0}), inserting track points 10\n",
        "For trip id = 20150122T174215-0800, activity 0 starts at 20150122T174215-0800\n",
        "For section AttrDict({'endTime': u'20150122T174454-0800', 'startTs': 1421977335.0, 'id': u'20150122T174215-0800_0', 'startTime': u'20150122T174215-0800', 'endTs': 1421977494.0}), inserting track points 9\n",
        "Loading /Users/shankari/e-mission/e-mission-data/our_collection_data/android/raw_save_our_data/1421980243.08\n",
        "For trip id = 20150122T174757-0800, activity 0 starts at 20150122T174757-0800\n",
        "For section AttrDict({'endTime': u'20150122T180946-0800', 'startTs': 1421977677.0, 'id': u'20150122T174757-0800_0', 'startTime': u'20150122T174757-0800', 'endTs': 1421978986.0}), inserting track points 43\n",
        "For trip id = 20150122T181004-0800, activity 0 starts at 20150122T181004-0800\n",
        "For section AttrDict({'endTime': u'20150122T181749-0800', 'startTs': 1421979004.0, 'id': u'20150122T181004-0800_0', 'startTime': u'20150122T181004-0800', 'endTs': 1421979469.0}), inserting track points 16\n",
        "Loading /Users/shankari/e-mission/e-mission-data/our_collection_data/android/raw_save_our_data/1421982038.27\n",
        "For trip id = 20150122T182441-0800, activity 0 starts at 20150122T182441-0800\n",
        "For section AttrDict({'endTime': u'20150122T184654-0800', 'startTs': 1421979881.0, 'id': u'20150122T182441-0800_0', 'startTime': u'20150122T182441-0800', 'endTs': 1421981214.0}), inserting track points 41\n",
        "For trip id = 20150122T184659-0800, activity 0 starts at 20150122T184659-0800"
       ]
      },
      {
       "output_type": "stream",
       "stream": "stdout",
       "text": [
        "\n",
        "For section AttrDict({'endTime': u'20150122T185612-0800', 'startTs': 1421981219.0, 'id': u'20150122T184659-0800_0', 'startTime': u'20150122T184659-0800', 'endTs': 1421981772.0}), inserting track points 19\n",
        "Loading /Users/shankari/e-mission/e-mission-data/our_collection_data/android/raw_save_our_data/1421987438.6\n",
        "For trip id = 20150122T185844-0800, activity 0 starts at 20150122T185844-0800\n",
        "For section AttrDict({'endTime': u'20150122T193810-0800', 'startTs': 1421981924.0, 'id': u'20150122T185844-0800_0', 'startTime': u'20150122T185844-0800', 'endTs': 1421984290.0}), inserting track points 77\n",
        "For trip id = 20150122T185844-0800, activity 1 starts at 20150122T193810-0800"
       ]
      },
      {
       "output_type": "stream",
       "stream": "stdout",
       "text": [
        "\n",
        "For section AttrDict({'endTime': u'20150122T194615-0800', 'startTs': 1421984290.0, 'id': u'20150122T185844-0800_1', 'startTime': u'20150122T193810-0800', 'endTs': 1421984775.0}), inserting track points 15\n",
        "For trip id = 20150122T185844-0800, activity 2 starts at 20150122T194615-0800\n",
        "For section AttrDict({'endTime': u'20150122T200234-0800', 'startTs': 1421984775.0, 'id': u'20150122T185844-0800_2', 'startTime': u'20150122T194615-0800', 'endTs': 1421985754.0}), inserting track points 32\n",
        "Loading /Users/shankari/e-mission/e-mission-data/our_collection_data/android/raw_save_our_data/1422120888.65\n",
        "For trip id = 20150123T103544-0800, activity 0 starts at 118360103T060436-0700\n",
        "One section case: Error parsing times 118360103T060436-0700 or 119190330T205756-0700, using start and end points of the trip 20150123T103544-0800 20150123T111927-0800 instead\n",
        "For section AttrDict({'endTime': u'119190330T205756-0700', 'startTs': 1422038144.0, 'id': u'20150123T103544-0800_0', 'startTime': u'118360103T060436-0700', 'endTs': 1422040767.0}), inserting track points 86\n",
        "For trip id = 20150123T122311-0800, activity 0 starts at 120400705T143715-0800"
       ]
      },
      {
       "output_type": "stream",
       "stream": "stdout",
       "text": [
        "\n",
        "One section case: Error parsing times 120400705T143715-0800 or 121390428T021808-0800, using start and end points of the trip 20150123T122311-0800 20150123T131503-0800 instead\n",
        "For section AttrDict({'endTime': u'121390428T021808-0800', 'startTs': 1422044591.0, 'id': u'20150123T122311-0800_0', 'startTime': u'120400705T143715-0800', 'endTs': 1422047703.0}), inserting track points 133\n",
        "For trip id = 20150123T151012-0800, activity 0 starts at 123580618T023507-0700"
       ]
      },
      {
       "output_type": "stream",
       "stream": "stdout",
       "text": [
        "\n",
        "One section case: Error parsing times 123580618T023507-0700 or 123840120T234532-0800, using start and end points of the trip 20150123T151012-0800 20150123T152339-0800 instead\n",
        "For section AttrDict({'endTime': u'123840120T234532-0800', 'startTs': 1422054612.0, 'id': u'20150123T151012-0800_0', 'startTime': u'123580618T023507-0700', 'endTs': 1422055419.0}), inserting track points 27\n",
        "For trip id = 20150123T152516-0800, activity 0 starts at 123870217T133323-0800\n",
        "One section case: Error parsing times 123870217T133323-0800 or 124140612T101426-0800, using start and end points of the trip 20150123T152516-0800 20150123T153937-0800 instead\n",
        "For section AttrDict({'endTime': u'124140612T101426-0800', 'startTs': 1422055516.0, 'id': u'20150123T152516-0800_0', 'startTime': u'123870217T133323-0800', 'endTs': 1422056377.0}), inserting track points 30\n",
        "For trip id = 20150123T165403-0800, activity 0 starts at 125560213T194115-0800\n",
        "One section case: Error parsing times 125560213T194115-0800 or 125650506T023356-0800, using start and end points of the trip 20150123T165403-0800 20150123T165854-0800 instead\n",
        "For section AttrDict({'endTime': u'125650506T023356-0800', 'startTs': 1422060843.0, 'id': u'20150123T165403-0800_0', 'startTime': u'125560213T194115-0800', 'endTs': 1422061134.0}), inserting track points 22\n",
        "For trip id = 20150123T170005-0800, activity 0 starts at 125670816T174520-0700\n",
        "One section case: Error parsing times 125670816T174520-0700 or 125981111T042706-0800, using start and end points of the trip 20150123T170005-0800 20150123T171631-0800 instead\n",
        "For section AttrDict({'endTime': u'125981111T042706-0800', 'startTs': 1422061205.0, 'id': u'20150123T170005-0800_0', 'startTime': u'125670816T174520-0700', 'endTs': 1422062191.0}), inserting track points 30\n",
        "For trip id = 20150123T180202-0800, activity 0 starts at 126850722T033859-0800"
       ]
      },
      {
       "output_type": "stream",
       "stream": "stdout",
       "text": [
        "\n",
        "One section case: Error parsing times 126850722T033859-0800 or 127390127T224944-0800, using start and end points of the trip 20150123T180202-0800 20150123T183009-0800 instead\n",
        "For section AttrDict({'endTime': u'127390127T224944-0800', 'startTs': 1422064922.0, 'id': u'20150123T180202-0800_0', 'startTime': u'126850722T033859-0800', 'endTs': 1422066609.0}), inserting track points 56\n",
        "Loading /Users/shankari/e-mission/e-mission-data/our_collection_data/android/raw_save_our_data/1422122447.54\n",
        "For trip id = 20150123T103544-0800, activity 0 starts at 118360103T060436-0700\n",
        "One section case: Error parsing times 118360103T060436-0700 or 119190330T205756-0700, using start and end points of the trip 20150123T103544-0800 20150123T111927-0800 instead\n",
        "For section AttrDict({'endTime': u'119190330T205756-0700', 'startTs': 1422038144.0, 'id': u'20150123T103544-0800_0', 'startTime': u'118360103T060436-0700', 'endTs': 1422040767.0}), inserting track points 86\n",
        "For trip id = 20150123T122311-0800, activity 0 starts at 120400705T143715-0800"
       ]
      },
      {
       "output_type": "stream",
       "stream": "stdout",
       "text": [
        "\n",
        "One section case: Error parsing times 120400705T143715-0800 or 121390428T021808-0800, using start and end points of the trip 20150123T122311-0800 20150123T131503-0800 instead\n",
        "For section AttrDict({'endTime': u'121390428T021808-0800', 'startTs': 1422044591.0, 'id': u'20150123T122311-0800_0', 'startTime': u'120400705T143715-0800', 'endTs': 1422047703.0}), inserting track points 133\n",
        "For trip id = 20150123T151012-0800, activity 0 starts at 123580618T023507-0700"
       ]
      },
      {
       "output_type": "stream",
       "stream": "stdout",
       "text": [
        "\n",
        "One section case: Error parsing times 123580618T023507-0700 or 123840120T234532-0800, using start and end points of the trip 20150123T151012-0800 20150123T152339-0800 instead\n",
        "For section AttrDict({'endTime': u'123840120T234532-0800', 'startTs': 1422054612.0, 'id': u'20150123T151012-0800_0', 'startTime': u'123580618T023507-0700', 'endTs': 1422055419.0}), inserting track points 27\n",
        "For trip id = 20150123T152516-0800, activity 0 starts at 123870217T133323-0800\n",
        "One section case: Error parsing times 123870217T133323-0800 or 124140612T101426-0800, using start and end points of the trip 20150123T152516-0800 20150123T153937-0800 instead\n",
        "For section AttrDict({'endTime': u'124140612T101426-0800', 'startTs': 1422055516.0, 'id': u'20150123T152516-0800_0', 'startTime': u'123870217T133323-0800', 'endTs': 1422056377.0}), inserting track points 30\n",
        "For trip id = 20150123T165403-0800, activity 0 starts at 125560213T194115-0800\n",
        "One section case: Error parsing times 125560213T194115-0800 or 125650506T023356-0800, using start and end points of the trip 20150123T165403-0800 20150123T165854-0800 instead\n",
        "For section AttrDict({'endTime': u'125650506T023356-0800', 'startTs': 1422060843.0, 'id': u'20150123T165403-0800_0', 'startTime': u'125560213T194115-0800', 'endTs': 1422061134.0}), inserting track points 22\n",
        "For trip id = 20150123T170005-0800, activity 0 starts at 125670816T174520-0700\n",
        "One section case: Error parsing times 125670816T174520-0700 or 125981111T042706-0800, using start and end points of the trip 20150123T170005-0800 20150123T171631-0800 instead\n",
        "For section AttrDict({'endTime': u'125981111T042706-0800', 'startTs': 1422061205.0, 'id': u'20150123T170005-0800_0', 'startTime': u'125670816T174520-0700', 'endTs': 1422062191.0}), inserting track points 30\n",
        "For trip id = 20150123T180202-0800, activity 0 starts at 126850722T033859-0800"
       ]
      },
      {
       "output_type": "stream",
       "stream": "stdout",
       "text": [
        "\n",
        "One section case: Error parsing times 126850722T033859-0800 or 127390127T224944-0800, using start and end points of the trip 20150123T180202-0800 20150123T183009-0800 instead\n",
        "For section AttrDict({'endTime': u'127390127T224944-0800', 'startTs': 1422064922.0, 'id': u'20150123T180202-0800_0', 'startTime': u'126850722T033859-0800', 'endTs': 1422066609.0}), inserting track points 56\n",
        "Loading /Users/shankari/e-mission/e-mission-data/our_collection_data/android/raw_save_our_data/1422124246.42\n",
        "For trip id = 20150123T103544-0800, activity 0 starts at 118360103T060436-0700\n",
        "One section case: Error parsing times 118360103T060436-0700 or 119190330T205756-0700, using start and end points of the trip 20150123T103544-0800 20150123T111927-0800 instead\n",
        "For section AttrDict({'endTime': u'119190330T205756-0700', 'startTs': 1422038144.0, 'id': u'20150123T103544-0800_0', 'startTime': u'118360103T060436-0700', 'endTs': 1422040767.0}), inserting track points 86\n",
        "For trip id = 20150123T122311-0800, activity 0 starts at 120400705T143715-0800"
       ]
      },
      {
       "output_type": "stream",
       "stream": "stdout",
       "text": [
        "\n",
        "One section case: Error parsing times 120400705T143715-0800 or 121390428T021808-0800, using start and end points of the trip 20150123T122311-0800 20150123T131503-0800 instead\n",
        "For section AttrDict({'endTime': u'121390428T021808-0800', 'startTs': 1422044591.0, 'id': u'20150123T122311-0800_0', 'startTime': u'120400705T143715-0800', 'endTs': 1422047703.0}), inserting track points 133\n",
        "For trip id = 20150123T151012-0800, activity 0 starts at 123580618T023507-0700"
       ]
      },
      {
       "output_type": "stream",
       "stream": "stdout",
       "text": [
        "\n",
        "One section case: Error parsing times 123580618T023507-0700 or 123840120T234532-0800, using start and end points of the trip 20150123T151012-0800 20150123T152339-0800 instead\n",
        "For section AttrDict({'endTime': u'123840120T234532-0800', 'startTs': 1422054612.0, 'id': u'20150123T151012-0800_0', 'startTime': u'123580618T023507-0700', 'endTs': 1422055419.0}), inserting track points 27\n",
        "For trip id = 20150123T152516-0800, activity 0 starts at 123870217T133323-0800\n",
        "One section case: Error parsing times 123870217T133323-0800 or 124140612T101426-0800, using start and end points of the trip 20150123T152516-0800 20150123T153937-0800 instead\n",
        "For section AttrDict({'endTime': u'124140612T101426-0800', 'startTs': 1422055516.0, 'id': u'20150123T152516-0800_0', 'startTime': u'123870217T133323-0800', 'endTs': 1422056377.0}), inserting track points 30\n",
        "For trip id = 20150123T165403-0800, activity 0 starts at 125560213T194115-0800\n",
        "One section case: Error parsing times 125560213T194115-0800 or 125650506T023356-0800, using start and end points of the trip 20150123T165403-0800 20150123T165854-0800 instead\n",
        "For section AttrDict({'endTime': u'125650506T023356-0800', 'startTs': 1422060843.0, 'id': u'20150123T165403-0800_0', 'startTime': u'125560213T194115-0800', 'endTs': 1422061134.0}), inserting track points 22\n",
        "For trip id = 20150123T170005-0800, activity 0 starts at 125670816T174520-0700\n",
        "One section case: Error parsing times 125670816T174520-0700 or 125981111T042706-0800, using start and end points of the trip 20150123T170005-0800 20150123T171631-0800 instead\n",
        "For section AttrDict({'endTime': u'125981111T042706-0800', 'startTs': 1422061205.0, 'id': u'20150123T170005-0800_0', 'startTime': u'125670816T174520-0700', 'endTs': 1422062191.0}), inserting track points 30\n",
        "For trip id = 20150123T180202-0800, activity 0 starts at 126850722T033859-0800"
       ]
      },
      {
       "output_type": "stream",
       "stream": "stdout",
       "text": [
        "\n",
        "One section case: Error parsing times 126850722T033859-0800 or 127390127T224944-0800, using start and end points of the trip 20150123T180202-0800 20150123T183009-0800 instead\n",
        "For section AttrDict({'endTime': u'127390127T224944-0800', 'startTs': 1422064922.0, 'id': u'20150123T180202-0800_0', 'startTime': u'126850722T033859-0800', 'endTs': 1422066609.0}), inserting track points 56\n",
        "Loading /Users/shankari/e-mission/e-mission-data/our_collection_data/android/raw_save_our_data/1422126055.51\n",
        "For trip id = 20150123T103544-0800, activity 0 starts at 118360103T060436-0700\n",
        "One section case: Error parsing times 118360103T060436-0700 or 119190330T205756-0700, using start and end points of the trip 20150123T103544-0800 20150123T111927-0800 instead\n",
        "For section AttrDict({'endTime': u'119190330T205756-0700', 'startTs': 1422038144.0, 'id': u'20150123T103544-0800_0', 'startTime': u'118360103T060436-0700', 'endTs': 1422040767.0}), inserting track points 86\n",
        "For trip id = 20150123T122311-0800, activity 0 starts at 120400705T143715-0800"
       ]
      },
      {
       "output_type": "stream",
       "stream": "stdout",
       "text": [
        "\n",
        "One section case: Error parsing times 120400705T143715-0800 or 121390428T021808-0800, using start and end points of the trip 20150123T122311-0800 20150123T131503-0800 instead\n",
        "For section AttrDict({'endTime': u'121390428T021808-0800', 'startTs': 1422044591.0, 'id': u'20150123T122311-0800_0', 'startTime': u'120400705T143715-0800', 'endTs': 1422047703.0}), inserting track points 133\n",
        "For trip id = 20150123T151012-0800, activity 0 starts at 123580618T023507-0700"
       ]
      },
      {
       "output_type": "stream",
       "stream": "stdout",
       "text": [
        "\n",
        "One section case: Error parsing times 123580618T023507-0700 or 123840120T234532-0800, using start and end points of the trip 20150123T151012-0800 20150123T152339-0800 instead\n",
        "For section AttrDict({'endTime': u'123840120T234532-0800', 'startTs': 1422054612.0, 'id': u'20150123T151012-0800_0', 'startTime': u'123580618T023507-0700', 'endTs': 1422055419.0}), inserting track points 27\n",
        "For trip id = 20150123T152516-0800, activity 0 starts at 123870217T133323-0800\n",
        "One section case: Error parsing times 123870217T133323-0800 or 124140612T101426-0800, using start and end points of the trip 20150123T152516-0800 20150123T153937-0800 instead\n",
        "For section AttrDict({'endTime': u'124140612T101426-0800', 'startTs': 1422055516.0, 'id': u'20150123T152516-0800_0', 'startTime': u'123870217T133323-0800', 'endTs': 1422056377.0}), inserting track points 30\n",
        "For trip id = 20150123T165403-0800, activity 0 starts at 125560213T194115-0800\n",
        "One section case: Error parsing times 125560213T194115-0800 or 125650506T023356-0800, using start and end points of the trip 20150123T165403-0800 20150123T165854-0800 instead\n",
        "For section AttrDict({'endTime': u'125650506T023356-0800', 'startTs': 1422060843.0, 'id': u'20150123T165403-0800_0', 'startTime': u'125560213T194115-0800', 'endTs': 1422061134.0}), inserting track points 22\n",
        "For trip id = 20150123T170005-0800, activity 0 starts at 125670816T174520-0700\n",
        "One section case: Error parsing times 125670816T174520-0700 or 125981111T042706-0800, using start and end points of the trip 20150123T170005-0800 20150123T171631-0800 instead\n",
        "For section AttrDict({'endTime': u'125981111T042706-0800', 'startTs': 1422061205.0, 'id': u'20150123T170005-0800_0', 'startTime': u'125670816T174520-0700', 'endTs': 1422062191.0}), inserting track points 30\n",
        "For trip id = 20150123T180202-0800, activity 0 starts at 126850722T033859-0800"
       ]
      },
      {
       "output_type": "stream",
       "stream": "stdout",
       "text": [
        "\n",
        "One section case: Error parsing times 126850722T033859-0800 or 127390127T224944-0800, using start and end points of the trip 20150123T180202-0800 20150123T183009-0800 instead\n",
        "For section AttrDict({'endTime': u'127390127T224944-0800', 'startTs': 1422064922.0, 'id': u'20150123T180202-0800_0', 'startTime': u'126850722T033859-0800', 'endTs': 1422066609.0}), inserting track points 56\n",
        "For trip id = 20150124T094826-0800, activity 0 starts at 144851210T154622-0700\n",
        "One section case: Error parsing times 144851210T154622-0700 or 145720707T101026-0800, using start and end points of the trip 20150124T094826-0800 20150124T103358-0800 instead\n",
        "For section AttrDict({'endTime': u'145720707T101026-0800', 'startTs': 1422121706.0, 'id': u'20150124T094826-0800_0', 'startTime': u'144851210T154622-0700', 'endTs': 1422124438.0}), inserting track points 91\n",
        "Loading /Users/shankari/e-mission/e-mission-data/our_collection_data/android/raw_save_our_data/1422126882.46"
       ]
      },
      {
       "output_type": "stream",
       "stream": "stdout",
       "text": [
        "\n",
        "For trip id = 20150124T101604-0800, activity 0 starts at 343330316T043319-0800\n",
        "One section case: Error parsing times 343330316T043319-0800 or 343411118T203729-0800, using start and end points of the trip 20150124T101604-0800 20150124T102038-0800 instead\n",
        "For section AttrDict({'endTime': u'343411118T203729-0800', 'startTs': 1422123364.0, 'id': u'20150124T101604-0800_0', 'startTime': u'343330316T043319-0800', 'endTs': 1422123638.0}), inserting track points 13\n",
        "For trip id = 20150124T102701-0800, activity 0 starts at 343540104T032041-0700\n",
        "One section case: Error parsing times 343540104T032041-0700 or 343640807T122936-0800, using start and end points of the trip 20150124T102701-0800 20150124T103235-0800 instead\n",
        "For section AttrDict({'endTime': u'343640807T122936-0800', 'startTs': 1422124021.0, 'id': u'20150124T102701-0800_0', 'startTime': u'343540104T032041-0700', 'endTs': 1422124355.0}), inserting track points 13\n",
        "Loading /Users/shankari/e-mission/e-mission-data/our_collection_data/android/raw_save_our_data/1422128594.59\n",
        "For trip id = 20150123T103544-0800, activity 0 starts at 118360103T060436-0700\n",
        "One section case: Error parsing times 118360103T060436-0700 or 119190330T205756-0700, using start and end points of the trip 20150123T103544-0800 20150123T111927-0800 instead\n",
        "For section AttrDict({'endTime': u'119190330T205756-0700', 'startTs': 1422038144.0, 'id': u'20150123T103544-0800_0', 'startTime': u'118360103T060436-0700', 'endTs': 1422040767.0}), inserting track points 86\n",
        "For trip id = 20150123T122311-0800, activity 0 starts at 120400705T143715-0800"
       ]
      },
      {
       "output_type": "stream",
       "stream": "stdout",
       "text": [
        "\n",
        "One section case: Error parsing times 120400705T143715-0800 or 121390428T021808-0800, using start and end points of the trip 20150123T122311-0800 20150123T131503-0800 instead\n",
        "For section AttrDict({'endTime': u'121390428T021808-0800', 'startTs': 1422044591.0, 'id': u'20150123T122311-0800_0', 'startTime': u'120400705T143715-0800', 'endTs': 1422047703.0}), inserting track points 133\n",
        "For trip id = 20150123T151012-0800, activity 0 starts at 123580618T023507-0700"
       ]
      },
      {
       "output_type": "stream",
       "stream": "stdout",
       "text": [
        "\n",
        "One section case: Error parsing times 123580618T023507-0700 or 123840120T234532-0800, using start and end points of the trip 20150123T151012-0800 20150123T152339-0800 instead\n",
        "For section AttrDict({'endTime': u'123840120T234532-0800', 'startTs': 1422054612.0, 'id': u'20150123T151012-0800_0', 'startTime': u'123580618T023507-0700', 'endTs': 1422055419.0}), inserting track points 27\n",
        "For trip id = 20150123T152516-0800, activity 0 starts at 123870217T133323-0800\n",
        "One section case: Error parsing times 123870217T133323-0800 or 124140612T101426-0800, using start and end points of the trip 20150123T152516-0800 20150123T153937-0800 instead\n",
        "For section AttrDict({'endTime': u'124140612T101426-0800', 'startTs': 1422055516.0, 'id': u'20150123T152516-0800_0', 'startTime': u'123870217T133323-0800', 'endTs': 1422056377.0}), inserting track points 30\n",
        "For trip id = 20150123T165403-0800, activity 0 starts at 125560213T194115-0800\n",
        "One section case: Error parsing times 125560213T194115-0800 or 125650506T023356-0800, using start and end points of the trip 20150123T165403-0800 20150123T165854-0800 instead\n",
        "For section AttrDict({'endTime': u'125650506T023356-0800', 'startTs': 1422060843.0, 'id': u'20150123T165403-0800_0', 'startTime': u'125560213T194115-0800', 'endTs': 1422061134.0}), inserting track points 22\n",
        "For trip id = 20150123T170005-0800, activity 0 starts at 125670816T174520-0700\n",
        "One section case: Error parsing times 125670816T174520-0700 or 125981111T042706-0800, using start and end points of the trip 20150123T170005-0800 20150123T171631-0800 instead\n",
        "For section AttrDict({'endTime': u'125981111T042706-0800', 'startTs': 1422061205.0, 'id': u'20150123T170005-0800_0', 'startTime': u'125670816T174520-0700', 'endTs': 1422062191.0}), inserting track points 30\n",
        "For trip id = 20150123T180202-0800, activity 0 starts at 126850722T033859-0800"
       ]
      },
      {
       "output_type": "stream",
       "stream": "stdout",
       "text": [
        "\n",
        "One section case: Error parsing times 126850722T033859-0800 or 127390127T224944-0800, using start and end points of the trip 20150123T180202-0800 20150123T183009-0800 instead\n",
        "For section AttrDict({'endTime': u'127390127T224944-0800', 'startTs': 1422064922.0, 'id': u'20150123T180202-0800_0', 'startTime': u'126850722T033859-0800', 'endTs': 1422066609.0}), inserting track points 56\n",
        "For trip id = 20150124T094826-0800, activity 0 starts at 144851210T154622-0700\n",
        "One section case: Error parsing times 144851210T154622-0700 or 145720707T101026-0800, using start and end points of the trip 20150124T094826-0800 20150124T103358-0800 instead\n",
        "For section AttrDict({'endTime': u'145720707T101026-0800', 'startTs': 1422121706.0, 'id': u'20150124T094826-0800_0', 'startTime': u'144851210T154622-0700', 'endTs': 1422124438.0}), inserting track points 91\n",
        "For trip id = 20150124T104641-0800, activity 0 starts at 145960822T155748-0800"
       ]
      },
      {
       "output_type": "stream",
       "stream": "stdout",
       "text": [
        "\n",
        "One section case: Error parsing times 145960822T155748-0800 or 146550303T075028-0700, using start and end points of the trip 20150124T104641-0800 20150124T111728-0800 instead\n",
        "For section AttrDict({'endTime': u'146550303T075028-0700', 'startTs': 1422125201.0, 'id': u'20150124T104641-0800_0', 'startTime': u'145960822T155748-0800', 'endTs': 1422127048.0}), inserting track points 59\n",
        "Loading /Users/shankari/e-mission/e-mission-data/our_collection_data/android/raw_save_our_data/1422128684.81\n",
        "For trip id = 20150124T101604-0800, activity 0 starts at 343330316T043319-0800\n",
        "One section case: Error parsing times 343330316T043319-0800 or 343411118T203729-0800, using start and end points of the trip 20150124T101604-0800 20150124T102038-0800 instead\n",
        "For section AttrDict({'endTime': u'343411118T203729-0800', 'startTs': 1422123364.0, 'id': u'20150124T101604-0800_0', 'startTime': u'343330316T043319-0800', 'endTs': 1422123638.0}), inserting track points 13\n",
        "For trip id = 20150124T102701-0800, activity 0 starts at 343540104T032041-0700\n",
        "One section case: Error parsing times 343540104T032041-0700 or 343640807T122936-0800, using start and end points of the trip 20150124T102701-0800 20150124T103235-0800 instead\n",
        "For section AttrDict({'endTime': u'343640807T122936-0800', 'startTs': 1422124021.0, 'id': u'20150124T102701-0800_0', 'startTime': u'343540104T032041-0700', 'endTs': 1422124355.0}), inserting track points 13\n",
        "Loading /Users/shankari/e-mission/e-mission-data/our_collection_data/android/raw_save_our_data/1422131122.87\n",
        "For trip id = 20150123T103544-0800, activity 0 starts at 118360103T060436-0700"
       ]
      },
      {
       "output_type": "stream",
       "stream": "stdout",
       "text": [
        "\n",
        "One section case: Error parsing times 118360103T060436-0700 or 119190330T205756-0700, using start and end points of the trip 20150123T103544-0800 20150123T111927-0800 instead\n",
        "For section AttrDict({'endTime': u'119190330T205756-0700', 'startTs': 1422038144.0, 'id': u'20150123T103544-0800_0', 'startTime': u'118360103T060436-0700', 'endTs': 1422040767.0}), inserting track points 86\n",
        "For trip id = 20150123T122311-0800, activity 0 starts at 120400705T143715-0800\n",
        "One section case: Error parsing times 120400705T143715-0800 or 121390428T021808-0800, using start and end points of the trip 20150123T122311-0800 20150123T131503-0800 instead\n",
        "For section AttrDict({'endTime': u'121390428T021808-0800', 'startTs': 1422044591.0, 'id': u'20150123T122311-0800_0', 'startTime': u'120400705T143715-0800', 'endTs': 1422047703.0}), inserting track points 133\n",
        "For trip id = 20150123T151012-0800, activity 0 starts at 123580618T023507-0700"
       ]
      },
      {
       "output_type": "stream",
       "stream": "stdout",
       "text": [
        "\n",
        "One section case: Error parsing times 123580618T023507-0700 or 123840120T234532-0800, using start and end points of the trip 20150123T151012-0800 20150123T152339-0800 instead\n",
        "For section AttrDict({'endTime': u'123840120T234532-0800', 'startTs': 1422054612.0, 'id': u'20150123T151012-0800_0', 'startTime': u'123580618T023507-0700', 'endTs': 1422055419.0}), inserting track points 27\n",
        "For trip id = 20150123T152516-0800, activity 0 starts at 123870217T133323-0800\n",
        "One section case: Error parsing times 123870217T133323-0800 or 124140612T101426-0800, using start and end points of the trip 20150123T152516-0800 20150123T153937-0800 instead\n",
        "For section AttrDict({'endTime': u'124140612T101426-0800', 'startTs': 1422055516.0, 'id': u'20150123T152516-0800_0', 'startTime': u'123870217T133323-0800', 'endTs': 1422056377.0}), inserting track points 30\n",
        "For trip id = 20150123T165403-0800, activity 0 starts at 125560213T194115-0800\n",
        "One section case: Error parsing times 125560213T194115-0800 or 125650506T023356-0800, using start and end points of the trip 20150123T165403-0800 20150123T165854-0800 instead\n",
        "For section AttrDict({'endTime': u'125650506T023356-0800', 'startTs': 1422060843.0, 'id': u'20150123T165403-0800_0', 'startTime': u'125560213T194115-0800', 'endTs': 1422061134.0}), inserting track points 22\n",
        "For trip id = 20150123T170005-0800, activity 0 starts at 125670816T174520-0700\n",
        "One section case: Error parsing times 125670816T174520-0700 or 125981111T042706-0800, using start and end points of the trip 20150123T170005-0800 20150123T171631-0800 instead\n",
        "For section AttrDict({'endTime': u'125981111T042706-0800', 'startTs': 1422061205.0, 'id': u'20150123T170005-0800_0', 'startTime': u'125670816T174520-0700', 'endTs': 1422062191.0}), inserting track points 30\n",
        "For trip id = 20150123T180202-0800, activity 0 starts at 126850722T033859-0800"
       ]
      },
      {
       "output_type": "stream",
       "stream": "stdout",
       "text": [
        "\n",
        "One section case: Error parsing times 126850722T033859-0800 or 127390127T224944-0800, using start and end points of the trip 20150123T180202-0800 20150123T183009-0800 instead\n",
        "For section AttrDict({'endTime': u'127390127T224944-0800', 'startTs': 1422064922.0, 'id': u'20150123T180202-0800_0', 'startTime': u'126850722T033859-0800', 'endTs': 1422066609.0}), inserting track points 56\n",
        "For trip id = 20150124T094826-0800, activity 0 starts at 144851210T154622-0700\n",
        "One section case: Error parsing times 144851210T154622-0700 or 145720707T101026-0800, using start and end points of the trip 20150124T094826-0800 20150124T103358-0800 instead\n",
        "For section AttrDict({'endTime': u'145720707T101026-0800', 'startTs': 1422121706.0, 'id': u'20150124T094826-0800_0', 'startTime': u'144851210T154622-0700', 'endTs': 1422124438.0}), inserting track points 91\n",
        "For trip id = 20150124T104641-0800, activity 0 starts at 145960822T155748-0800"
       ]
      },
      {
       "output_type": "stream",
       "stream": "stdout",
       "text": [
        "\n",
        "One section case: Error parsing times 145960822T155748-0800 or 146550303T075028-0700, using start and end points of the trip 20150124T104641-0800 20150124T111728-0800 instead\n",
        "For section AttrDict({'endTime': u'146550303T075028-0700', 'startTs': 1422125201.0, 'id': u'20150124T104641-0800_0', 'startTime': u'145960822T155748-0800', 'endTs': 1422127048.0}), inserting track points 59\n",
        "For trip id = 20150124T111800-0800, activity 0 starts at 146560228T091724-0700\n",
        "One section case: Error parsing times 146560228T091724-0700 or 147011226T044101-0800, using start and end points of the trip 20150124T111800-0800 20150124T114207-0800 instead\n",
        "For section AttrDict({'endTime': u'147011226T044101-0800', 'startTs': 1422127080.0, 'id': u'20150124T111800-0800_0', 'startTime': u'146560228T091724-0700', 'endTs': 1422128527.0}), inserting track points 48\n",
        "Loading /Users/shankari/e-mission/e-mission-data/our_collection_data/android/raw_save_our_data/1422131182.37"
       ]
      },
      {
       "output_type": "stream",
       "stream": "stdout",
       "text": [
        "\n",
        "For trip id = 20150124T101604-0800, activity 0 starts at 343330316T043319-0800\n",
        "One section case: Error parsing times 343330316T043319-0800 or 343411118T203729-0800, using start and end points of the trip 20150124T101604-0800 20150124T102038-0800 instead\n",
        "For section AttrDict({'endTime': u'343411118T203729-0800', 'startTs': 1422123364.0, 'id': u'20150124T101604-0800_0', 'startTime': u'343330316T043319-0800', 'endTs': 1422123638.0}), inserting track points 13\n",
        "For trip id = 20150124T102701-0800, activity 0 starts at 343540104T032041-0700\n",
        "One section case: Error parsing times 343540104T032041-0700 or 343640807T122936-0800, using start and end points of the trip 20150124T102701-0800 20150124T103235-0800 instead\n",
        "For section AttrDict({'endTime': u'343640807T122936-0800', 'startTs': 1422124021.0, 'id': u'20150124T102701-0800_0', 'startTime': u'343540104T032041-0700', 'endTs': 1422124355.0}), inserting track points 13\n",
        "Loading /Users/shankari/e-mission/e-mission-data/our_collection_data/android/raw_save_our_data/1422138017.01\n",
        "For trip id = 20150124T133437-0800, activity 0 starts at 20100823T090632-0700\n",
        "For section AttrDict({'endTime': u'20350905T153927-0700', 'startTs': 1282583192.0, 'id': u'20150124T133437-0800_0', 'startTime': u'20100823T090632-0700', 'endTs': 2072648367.0}), inserting track points 28\n",
        "For trip id = 20150124T134952-0800, activity 0 starts at 20390825T101341-0800\n",
        "For section AttrDict({'endTime': u'20660120T043030-0800', 'startTs': 2197908821.0, 'id': u'20150124T134952-0800_0', 'startTime': u'20390825T101341-0800', 'endTs': 3031216230.0}), inserting track points 32\n",
        "Loading /Users/shankari/e-mission/e-mission-data/our_collection_data/android/raw_save_our_data/1422138644.33"
       ]
      },
      {
       "output_type": "stream",
       "stream": "stdout",
       "text": [
        "\n",
        "For trip id = 20150124T140848-0800, activity 0 starts at 149800922T130224-0800\n",
        "One section case: Error parsing times 149800922T130224-0800 or 149920427T204833-0800, using start and end points of the trip 20150124T140848-0800 20150124T141455-0800 instead\n",
        "For section AttrDict({'endTime': u'149920427T204833-0800', 'startTs': 1422137328.0, 'id': u'20150124T140848-0800_0', 'startTime': u'149800922T130224-0800', 'endTs': 1422137695.0}), inserting track points 11\n",
        "Loading /Users/shankari/e-mission/e-mission-data/our_collection_data/android/raw_save_our_data/1422140410.15\n",
        "For trip id = 20150124T140848-0800, activity 0 starts at 149800922T130224-0800\n",
        "One section case: Error parsing times 149800922T130224-0800 or 149920427T204833-0800, using start and end points of the trip 20150124T140848-0800 20150124T141455-0800 instead\n",
        "For section AttrDict({'endTime': u'149920427T204833-0800', 'startTs': 1422137328.0, 'id': u'20150124T140848-0800_0', 'startTime': u'149800922T130224-0800', 'endTs': 1422137695.0}), inserting track points 11\n",
        "Loading /Users/shankari/e-mission/e-mission-data/our_collection_data/android/raw_save_our_data/1422140642.78\n",
        "For trip id = 20150124T140847-0800, activity 0 starts at 20750812T153351-0800\n",
        "For section AttrDict({'endTime': u'20890312T125055-0800', 'startTs': 3332878431.0, 'id': u'20150124T140847-0800_0', 'startTime': u'20750812T153351-0800', 'endTs': 3761499055.0}), inserting track points 15\n",
        "Loading /Users/shankari/e-mission/e-mission-data/our_collection_data/android/raw_save_our_data/1422142243.9\n",
        "For trip id = 20150124T140848-0800, activity 0 starts at 149800922T130224-0800\n",
        "One section case: Error parsing times 149800922T130224-0800 or 149920427T204833-0800, using start and end points of the trip 20150124T140848-0800 20150124T141455-0800 instead\n",
        "For section AttrDict({'endTime': u'149920427T204833-0800', 'startTs': 1422137328.0, 'id': u'20150124T140848-0800_0', 'startTime': u'149800922T130224-0800', 'endTs': 1422137695.0}), inserting track points 11\n",
        "Loading /Users/shankari/e-mission/e-mission-data/our_collection_data/android/raw_save_our_data/1422142442.35\n",
        "For trip id = 20150124T144409-0800, activity 0 starts at 21421114T051936-0700\n",
        "For section AttrDict({'endTime': u'21831022T203725-0800', 'startTs': 5455257576.0, 'id': u'20150124T144409-0800_0', 'startTime': u'21421114T051936-0700', 'endTs': 6747165445.0}), inserting track points 44\n",
        "For trip id = 20150124T151820-0800, activity 0 starts at 22071107T060259-0800"
       ]
      },
      {
       "output_type": "stream",
       "stream": "stdout",
       "text": [
        "\n",
        "For section AttrDict({'endTime': u'22160803T054920-0700', 'startTs': 7505791379.0, 'id': u'20150124T151820-0800_0', 'startTime': u'22071107T060259-0800', 'endTs': 7781579360.0}), inserting track points 10\n",
        "Loading /Users/shankari/e-mission/e-mission-data/our_collection_data/android/raw_save_our_data/1422144047.37\n",
        "For trip id = 20150124T140848-0800, activity 0 starts at 149800922T130224-0800\n",
        "One section case: Error parsing times 149800922T130224-0800 or 149920427T204833-0800, using start and end points of the trip 20150124T140848-0800 20150124T141455-0800 instead\n",
        "For section AttrDict({'endTime': u'149920427T204833-0800', 'startTs': 1422137328.0, 'id': u'20150124T140848-0800_0', 'startTime': u'149800922T130224-0800', 'endTs': 1422137695.0}), inserting track points 11\n",
        "Loading /Users/shankari/e-mission/e-mission-data/our_collection_data/android/raw_save_our_data/1422146678.57\n",
        "For trip id = 20150124T155407-0800, activity 0 starts at 22751127T175742-0700\n",
        "For section AttrDict({'endTime': u'23010128T225701-0800', 'startTs': 9653479062.0, 'id': u'20150124T155407-0800_0', 'startTime': u'22751127T175742-0700', 'endTs': 10447772221.0}), inserting track points 25\n",
        "Loading /Users/shankari/e-mission/e-mission-data/our_collection_data/android/raw_save_our_data/1422147537.67\n",
        "For trip id = 20150124T140848-0800, activity 0 starts at 149800922T130224-0800\n",
        "One section case: Error parsing times 149800922T130224-0800 or 149920427T204833-0800, using start and end points of the trip 20150124T140848-0800 20150124T141455-0800 instead\n",
        "For section AttrDict({'endTime': u'149920427T204833-0800', 'startTs': 1422137328.0, 'id': u'20150124T140848-0800_0', 'startTime': u'149800922T130224-0800', 'endTs': 1422137695.0}), inserting track points 11\n",
        "For trip id = 20150124T164252-0800, activity 0 starts at 152730816T052351-0800\n",
        "One section case: Error parsing times 152730816T052351-0800 or 152840710T230108-0800, using start and end points of the trip 20150124T164252-0800 20150124T164836-0800 instead\n",
        "For section AttrDict({'endTime': u'152840710T230108-0800', 'startTs': 1422146572.0, 'id': u'20150124T164252-0800_0', 'startTime': u'152730816T052351-0800', 'endTs': 1422146916.0}), inserting track points 12\n",
        "Loading /Users/shankari/e-mission/e-mission-data/our_collection_data/android/raw_save_our_data/1422147642.49\n",
        "For trip id = 20150124T140848-0800, activity 0 starts at 149800922T130224-0800\n",
        "One section case: Error parsing times 149800922T130224-0800 or 149920427T204833-0800, using start and end points of the trip 20150124T140848-0800 20150124T141455-0800 instead\n",
        "For section AttrDict({'endTime': u'149920427T204833-0800', 'startTs': 1422137328.0, 'id': u'20150124T140848-0800_0', 'startTime': u'149800922T130224-0800', 'endTs': 1422137695.0}), inserting track points 11\n",
        "For trip id = 20150124T164252-0800, activity 0 starts at 152730816T052351-0800"
       ]
      },
      {
       "output_type": "stream",
       "stream": "stdout",
       "text": [
        "\n",
        "One section case: Error parsing times 152730816T052351-0800 or 152840710T230108-0800, using start and end points of the trip 20150124T164252-0800 20150124T164836-0800 instead\n",
        "For section AttrDict({'endTime': u'152840710T230108-0800', 'startTs': 1422146572.0, 'id': u'20150124T164252-0800_0', 'startTime': u'152730816T052351-0800', 'endTs': 1422146916.0}), inserting track points 12\n",
        "Loading /Users/shankari/e-mission/e-mission-data/our_collection_data/android/raw_save_our_data/1422148482.57\n",
        "For trip id = 20150124T162215-0800, activity 0 starts at 23290527T112310-0800\n",
        "For section AttrDict({'endTime': u'23800725T134011-0800', 'startTs': 11341624990.0, 'id': u'20150124T162215-0800_0', 'startTime': u'23290527T112310-0800', 'endTs': 12956190011.0}), inserting track points 55\n",
        "Loading /Users/shankari/e-mission/e-mission-data/our_collection_data/android/raw_save_our_data/1422149272.86\n",
        "For trip id = 20150122T190510-0800, activity 0 starts at 19700820T052135-0700\n",
        "For section AttrDict({'endTime': u'20150122T190951-0800', 'startTs': 20006495.0, 'id': u'20150122T190510-0800_0', 'startTime': u'19700820T052135-0700', 'endTs': 1421982591.0}), inserting track points 16\n",
        "For trip id = 20150122T190510-0800, activity 1 starts at 20150122T190951-0800\n",
        "For section AttrDict({'endTime': u'19901130T140214-0800', 'startTs': 1421982591.0, 'id': u'20150122T190510-0800_1', 'startTime': u'20150122T190951-0800', 'endTs': 660002534.0}), inserting track points 0\n",
        "Loading /Users/shankari/e-mission/e-mission-data/our_collection_data/android/raw_save_our_data/1422149443.59\n",
        "For trip id = 20150124T140848-0800, activity 0 starts at 149800922T130224-0800\n",
        "One section case: Error parsing times 149800922T130224-0800 or 149920427T204833-0800, using start and end points of the trip 20150124T140848-0800 20150124T141455-0800 instead\n",
        "For section AttrDict({'endTime': u'149920427T204833-0800', 'startTs': 1422137328.0, 'id': u'20150124T140848-0800_0', 'startTime': u'149800922T130224-0800', 'endTs': 1422137695.0}), inserting track points 11\n",
        "For trip id = 20150124T164252-0800, activity 0 starts at 152730816T052351-0800"
       ]
      },
      {
       "output_type": "stream",
       "stream": "stdout",
       "text": [
        "\n",
        "One section case: Error parsing times 152730816T052351-0800 or 152840710T230108-0800, using start and end points of the trip 20150124T164252-0800 20150124T164836-0800 instead\n",
        "For section AttrDict({'endTime': u'152840710T230108-0800', 'startTs': 1422146572.0, 'id': u'20150124T164252-0800_0', 'startTime': u'152730816T052351-0800', 'endTs': 1422146916.0}), inserting track points 12\n"
       ]
      }
     ],
     "prompt_number": 61
    },
    {
     "cell_type": "code",
     "collapsed": false,
     "input": [
      "for pt in reconstructedTripsDb.find({\"startTime\": \"20150120T081412-0800\"}):\n",
      "    print pt"
     ],
     "language": "python",
     "metadata": {},
     "outputs": [
      {
       "output_type": "stream",
       "stream": "stdout",
       "text": [
        "{u'endTime': u'20150120T082227-0800', u'startTs': 1421770452.0, u'endTs': 1421770947.0, u'startTime': u'20150120T081412-0800', u'_id': ObjectId('55c79edef6858f6c17e6b2dc'), u'id': u'20150120T081412-0800_0'}\n",
        "{u'endTime': u'20150120T082227-0800', u'startTs': 1421770452.0, u'endTs': 1421770947.0, u'startTime': u'20150120T081412-0800', u'_id': ObjectId('55c79eeaf6858f6c17e6b2e1'), u'id': u'20150120T081412-0800_0'}\n"
       ]
      }
     ],
     "prompt_number": 35
    },
    {
     "cell_type": "code",
     "collapsed": false,
     "input": [
      "curr_list = json.load(open(\"/Users/shankari/e-mission/e-mission-data/our_collection_data/android/raw_save_our_data/1422149443.59\"))"
     ],
     "language": "python",
     "metadata": {},
     "outputs": [],
     "prompt_number": 57
    },
    {
     "cell_type": "code",
     "collapsed": false,
     "input": [
      "curr_list"
     ],
     "language": "python",
     "metadata": {},
     "outputs": [
      {
       "metadata": {},
       "output_type": "pyout",
       "prompt_number": 58,
       "text": [
        "[{u'endTime': u'20150124T140848-0800',\n",
        "  u'place': {u'id': u'unknown',\n",
        "   u'location': {u'lat': 37.3887598, u'lon': -122.0877164},\n",
        "   u'type': u'unknown'},\n",
        "  u'startTime': u'20150123T121455-0800',\n",
        "  u'startTimeTs': 1422044095262,\n",
        "  u'type': u'place'},\n",
        " {u'activities': [{u'activity': u'unknown',\n",
        "    u'distance': 427.35582304000854,\n",
        "    u'duration': 365931969226,\n",
        "    u'endTime': u'149920427T204833-0800',\n",
        "    u'group': u'unknown',\n",
        "    u'startTime': u'149800922T130224-0800',\n",
        "    u'startTimeTs': u'149800922T130224-0800',\n",
        "    u'trackPoints': [{u'accuracy': 30,\n",
        "      u'lat': 37.3887598,\n",
        "      u'loc_elapsed_ts': 410578923744102,\n",
        "      u'loc_utc_ts': 1422137328941,\n",
        "      u'lon': -122.0877164,\n",
        "      u'time': u'20150124T140848-0800'},\n",
        "     {u'accuracy': 30,\n",
        "      u'lat': 37.3887609,\n",
        "      u'loc_elapsed_ts': 410638840393960,\n",
        "      u'loc_utc_ts': 1422137389058,\n",
        "      u'lon': -122.0877104,\n",
        "      u'time': u'19700105T100358-0800'},\n",
        "     {u'accuracy': 30,\n",
        "      u'lat': 37.3887914,\n",
        "      u'loc_elapsed_ts': 410670154015038,\n",
        "      u'loc_utc_ts': 1422137420372,\n",
        "      u'lon': -122.0876941,\n",
        "      u'time': u'19700105T100430-0800'},\n",
        "     {u'accuracy': 31.309999465942383,\n",
        "      u'lat': 37.3884396,\n",
        "      u'loc_elapsed_ts': 410701336099240,\n",
        "      u'loc_utc_ts': 1422137451557,\n",
        "      u'lon': -122.0857441,\n",
        "      u'time': u'19700105T100501-0800'},\n",
        "     {u'accuracy': 66.38999938964844,\n",
        "      u'lat': 37.3884696,\n",
        "      u'loc_elapsed_ts': 410731234340379,\n",
        "      u'loc_utc_ts': 1422137481450,\n",
        "      u'lon': -122.0866006,\n",
        "      u'time': u'19700105T100531-0800'},\n",
        "     {u'accuracy': 68.11100006103516,\n",
        "      u'lat': 37.3884058,\n",
        "      u'loc_elapsed_ts': 410761275185843,\n",
        "      u'loc_utc_ts': 1422137511490,\n",
        "      u'lon': -122.0865303,\n",
        "      u'time': u'19700105T100601-0800'},\n",
        "     {u'accuracy': 30.02400016784668,\n",
        "      u'lat': 37.388436,\n",
        "      u'loc_elapsed_ts': 410792490193289,\n",
        "      u'loc_utc_ts': 1422137542706,\n",
        "      u'lon': -122.0856993,\n",
        "      u'time': u'19700105T100632-0800'},\n",
        "     {u'accuracy': 62.066001892089844,\n",
        "      u'lat': 37.3884614,\n",
        "      u'loc_elapsed_ts': 410821985358930,\n",
        "      u'loc_utc_ts': 1422137572205,\n",
        "      u'lon': -122.0862961,\n",
        "      u'time': u'19700105T100701-0800'},\n",
        "     {u'accuracy': 71.9739990234375,\n",
        "      u'lat': 37.3884088,\n",
        "      u'loc_elapsed_ts': 410852173696884,\n",
        "      u'loc_utc_ts': 1422137602388,\n",
        "      u'lon': -122.0865835,\n",
        "      u'time': u'19700105T100732-0800'},\n",
        "     {u'accuracy': 83.91000366210938,\n",
        "      u'lat': 37.3884461,\n",
        "      u'loc_elapsed_ts': 410882228306619,\n",
        "      u'loc_utc_ts': 1422137632443,\n",
        "      u'lon': -122.086606,\n",
        "      u'time': u'19700105T100802-0800'},\n",
        "     {u'accuracy': 74.2699966430664,\n",
        "      u'lat': 37.3884751,\n",
        "      u'loc_elapsed_ts': 410912759543884,\n",
        "      u'loc_utc_ts': 1422137662975,\n",
        "      u'lon': -122.0866196,\n",
        "      u'time': u'19700105T100832-0800'}]}],\n",
        "  u'endTime': u'20150124T141455-0800',\n",
        "  u'startTime': u'20150124T140848-0800',\n",
        "  u'startTimeTs': 1422137328941,\n",
        "  u'type': u'move'},\n",
        " {u'place': {u'id': u'unknown',\n",
        "   u'location': {u'lat': 37.3884834, u'lon': -122.0867274},\n",
        "   u'type': u'unknown'},\n",
        "  u'startTime': u'20150124T141455-0800',\n",
        "  u'startTimeTs': 1422137695077,\n",
        "  u'type': u'place'},\n",
        " {u'endTime': u'20150124T164252-0800',\n",
        "  u'place': {u'id': u'unknown',\n",
        "   u'location': {u'lat': 37.3884834, u'lon': -122.0867274},\n",
        "   u'type': u'unknown'},\n",
        "  u'startTime': u'20150124T141455-0800',\n",
        "  u'startTimeTs': 1422137695077,\n",
        "  u'type': u'place'},\n",
        " {u'activities': [{u'activity': u'unknown',\n",
        "    u'distance': 518.7673691511154,\n",
        "    u'duration': 344021837675,\n",
        "    u'endTime': u'152840710T230108-0800',\n",
        "    u'group': u'unknown',\n",
        "    u'startTime': u'152730816T052351-0800',\n",
        "    u'startTimeTs': u'152730816T052351-0800',\n",
        "    u'trackPoints': [{u'accuracy': 36,\n",
        "      u'lat': 37.3906119,\n",
        "      u'loc_elapsed_ts': 419821881831055,\n",
        "      u'loc_utc_ts': 1422146572100,\n",
        "      u'lon': -122.0864272,\n",
        "      u'time': u'20150124T164252-0800'},\n",
        "     {u'accuracy': 25.454999923706055,\n",
        "      u'lat': 37.3906119,\n",
        "      u'loc_elapsed_ts': 419828149890320,\n",
        "      u'loc_utc_ts': 1422146578368,\n",
        "      u'lon': -122.0864272,\n",
        "      u'time': u'19700105T123708-0800'},\n",
        "     {u'accuracy': 297,\n",
        "      u'lat': 37.3888902,\n",
        "      u'loc_elapsed_ts': 419853221374590,\n",
        "      u'loc_utc_ts': 1422146603442,\n",
        "      u'lon': -122.0872277,\n",
        "      u'time': u'19700105T123733-0800'},\n",
        "     {u'accuracy': 31.5,\n",
        "      u'lat': 37.3905341,\n",
        "      u'loc_elapsed_ts': 419886840048975,\n",
        "      u'loc_utc_ts': 1422146637056,\n",
        "      u'lon': -122.0865578,\n",
        "      u'time': u'19700105T123806-0800'},\n",
        "     {u'accuracy': 36,\n",
        "      u'lat': 37.3905449,\n",
        "      u'loc_elapsed_ts': 419915703914297,\n",
        "      u'loc_utc_ts': 1422146666703,\n",
        "      u'lon': -122.0864943,\n",
        "      u'time': u'19700105T123835-0800'},\n",
        "     {u'accuracy': 40.5,\n",
        "      u'lat': 37.39082,\n",
        "      u'loc_elapsed_ts': 419951897777271,\n",
        "      u'loc_utc_ts': 1422146702891,\n",
        "      u'lon': -122.086322,\n",
        "      u'time': u'19700105T123911-0800'},\n",
        "     {u'accuracy': 37.5,\n",
        "      u'lat': 37.390692,\n",
        "      u'loc_elapsed_ts': 419978446474276,\n",
        "      u'loc_utc_ts': 1422146729444,\n",
        "      u'lon': -122.0863988,\n",
        "      u'time': u'19700105T123938-0800'},\n",
        "     {u'accuracy': 55.5,\n",
        "      u'lat': 37.391056,\n",
        "      u'loc_elapsed_ts': 420012100920565,\n",
        "      u'loc_utc_ts': 1422146763097,\n",
        "      u'lon': -122.0861502,\n",
        "      u'time': u'19700105T124012-0800'},\n",
        "     {u'accuracy': 30,\n",
        "      u'lat': 37.3910016,\n",
        "      u'loc_elapsed_ts': 420042918927833,\n",
        "      u'loc_utc_ts': 1422146793915,\n",
        "      u'lon': -122.0861782,\n",
        "      u'time': u'19700105T124042-0800'},\n",
        "     {u'accuracy': 34.5,\n",
        "      u'lat': 37.3910207,\n",
        "      u'loc_elapsed_ts': 420073142977340,\n",
        "      u'loc_utc_ts': 1422146824139,\n",
        "      u'lon': -122.0862702,\n",
        "      u'time': u'19700105T124113-0800'},\n",
        "     {u'accuracy': 36,\n",
        "      u'lat': 37.3910185,\n",
        "      u'loc_elapsed_ts': 420101450959827,\n",
        "      u'loc_utc_ts': 1422146852450,\n",
        "      u'lon': -122.086254,\n",
        "      u'time': u'19700105T124141-0800'},\n",
        "     {u'accuracy': 39,\n",
        "      u'lat': 37.3909735,\n",
        "      u'loc_elapsed_ts': 420132461517823,\n",
        "      u'loc_utc_ts': 1422146883460,\n",
        "      u'lon': -122.0862442,\n",
        "      u'time': u'19700105T124212-0800'}]}],\n",
        "  u'endTime': u'20150124T164836-0800',\n",
        "  u'startTime': u'20150124T164252-0800',\n",
        "  u'startTimeTs': 1422146572100,\n",
        "  u'type': u'move'}]"
       ]
      }
     ],
     "prompt_number": 58
    },
    {
     "cell_type": "code",
     "collapsed": false,
     "input": [],
     "language": "python",
     "metadata": {},
     "outputs": []
    }
   ],
   "metadata": {}
  }
 ]
}