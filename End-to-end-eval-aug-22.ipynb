{
 "metadata": {
  "name": "",
  "signature": "sha256:3ce6d1fe51a22ec539a39375efd78322e16a20fed7cd2f3b4f308b86b0110648"
 },
 "nbformat": 3,
 "nbformat_minor": 0,
 "worksheets": [
  {
   "cells": [
    {
     "cell_type": "code",
     "collapsed": false,
     "input": [
      "import emission.storage.decorations.location_queries as lq"
     ],
     "language": "python",
     "metadata": {},
     "outputs": [],
     "prompt_number": 1
    },
    {
     "cell_type": "code",
     "collapsed": false,
     "input": [
      "import logging\n",
      "logging.getLogger().setLevel(logging.DEBUG)"
     ],
     "language": "python",
     "metadata": {},
     "outputs": [],
     "prompt_number": 2
    },
    {
     "cell_type": "code",
     "collapsed": false,
     "input": [
      "reload(lq)"
     ],
     "language": "python",
     "metadata": {},
     "outputs": [
      {
       "metadata": {},
       "output_type": "pyout",
       "prompt_number": 3,
       "text": [
        "<module 'emission.storage.decorations.location_queries' from '/Users/shankari/e-mission/e-mission-server/emission/storage/decorations/location_queries.pyc'>"
       ]
      }
     ],
     "prompt_number": 3
    },
    {
     "cell_type": "code",
     "collapsed": false,
     "input": [
      "import emission.analysis.classification.cleaning.location_smoothing as ls"
     ],
     "language": "python",
     "metadata": {},
     "outputs": [],
     "prompt_number": 4
    },
    {
     "cell_type": "code",
     "collapsed": false,
     "input": [
      "%matplotlib inline"
     ],
     "language": "python",
     "metadata": {},
     "outputs": [],
     "prompt_number": 5
    },
    {
     "cell_type": "code",
     "collapsed": false,
     "input": [
      "lq.get_uuid_list()"
     ],
     "language": "python",
     "metadata": {},
     "outputs": [
      {
       "metadata": {},
       "output_type": "pyout",
       "prompt_number": 6,
       "text": [
        "[UUID('0763de67-f61e-3f5d-90e7-518e69793954'),\n",
        " UUID('f955cff1-8fb8-3b42-8776-6d8874e5b90a'),\n",
        " UUID('b0d937d0-70ef-305e-9563-440369012b39')]"
       ]
      }
     ],
     "prompt_number": 6
    },
    {
     "cell_type": "code",
     "collapsed": false,
     "input": [
      "import datetime as pydt"
     ],
     "language": "python",
     "metadata": {},
     "outputs": [],
     "prompt_number": 7
    },
    {
     "cell_type": "code",
     "collapsed": false,
     "input": [
      "import pytz"
     ],
     "language": "python",
     "metadata": {},
     "outputs": [],
     "prompt_number": 8
    },
    {
     "cell_type": "code",
     "collapsed": false,
     "input": [
      "get_jan_dt = lambda date: pydt.datetime(2015,7,date,tzinfo=pytz.timezone(\"America/Los_Angeles\"))"
     ],
     "language": "python",
     "metadata": {},
     "outputs": [],
     "prompt_number": 9
    },
    {
     "cell_type": "code",
     "collapsed": false,
     "input": [
      "get_jul_dt = lambda date: pydt.datetime(2015,7,date,tzinfo=pytz.timezone(\"America/Los_Angeles\"))"
     ],
     "language": "python",
     "metadata": {},
     "outputs": [],
     "prompt_number": 10
    },
    {
     "cell_type": "code",
     "collapsed": false,
     "input": [
      "get_aug_dt = lambda date: pydt.datetime(2015,8,date,tzinfo=pytz.timezone(\"America/Los_Angeles\"))"
     ],
     "language": "python",
     "metadata": {},
     "outputs": [],
     "prompt_number": 11
    },
    {
     "cell_type": "code",
     "collapsed": false,
     "input": [
      "import emission.analysis.plotting.leaflet_osm.our_plotter as lo"
     ],
     "language": "python",
     "metadata": {},
     "outputs": [],
     "prompt_number": 12
    },
    {
     "cell_type": "code",
     "collapsed": false,
     "input": [
      "reload(lo)"
     ],
     "language": "python",
     "metadata": {},
     "outputs": [
      {
       "metadata": {},
       "output_type": "pyout",
       "prompt_number": 13,
       "text": [
        "<module 'emission.analysis.plotting.leaflet_osm.our_plotter' from '/Users/shankari/e-mission/e-mission-server/emission/analysis/plotting/leaflet_osm/our_plotter.pyc'>"
       ]
      }
     ],
     "prompt_number": 13
    },
    {
     "cell_type": "code",
     "collapsed": false,
     "input": [
      "import emission.core.get_database as edb"
     ],
     "language": "python",
     "metadata": {},
     "outputs": [],
     "prompt_number": 14
    },
    {
     "cell_type": "code",
     "collapsed": false,
     "input": [
      "from attrdict import AttrDict"
     ],
     "language": "python",
     "metadata": {},
     "outputs": [],
     "prompt_number": 15
    },
    {
     "cell_type": "code",
     "collapsed": false,
     "input": [
      "import pandas as pd"
     ],
     "language": "python",
     "metadata": {},
     "outputs": [],
     "prompt_number": 16
    },
    {
     "cell_type": "code",
     "collapsed": false,
     "input": [
      "import emission.analysis.plotting.leaflet_osm.ipython_helper as ipy"
     ],
     "language": "python",
     "metadata": {},
     "outputs": [],
     "prompt_number": 17
    },
    {
     "cell_type": "markdown",
     "metadata": {},
     "source": [
      "In the previous data collection, it looks like the last entries before a trip end detection all had high accuracies. This means that simply filtering by accuracy is not good enough. Let us take a look at the newer data to see if we still see that behavior."
     ]
    },
    {
     "cell_type": "code",
     "collapsed": false,
     "input": [
      "import emission.core.get_database as edb\n",
      "from uuid import UUID\n",
      "import attrdict as ad\n",
      "import datetime as pydt\n",
      "import emission.analysis.point_features as pf"
     ],
     "language": "python",
     "metadata": {},
     "outputs": [],
     "prompt_number": 18
    },
    {
     "cell_type": "code",
     "collapsed": false,
     "input": [
      "myUUID = UUID('0763de67-f61e-3f5d-90e7-518e69793954')"
     ],
     "language": "python",
     "metadata": {},
     "outputs": [],
     "prompt_number": 19
    },
    {
     "cell_type": "code",
     "collapsed": false,
     "input": [
      "reload(lq)"
     ],
     "language": "python",
     "metadata": {},
     "outputs": [
      {
       "metadata": {},
       "output_type": "pyout",
       "prompt_number": 20,
       "text": [
        "<module 'emission.storage.decorations.location_queries' from '/Users/shankari/e-mission/e-mission-server/emission/storage/decorations/location_queries.pyc'>"
       ]
      }
     ],
     "prompt_number": 20
    },
    {
     "cell_type": "markdown",
     "metadata": {},
     "source": [
      "Our algorithm:\n",
      "1. Remove all low accuracy points\n",
      "1. Remove all points that are identical to the previous one (distance == 0 meters)\n",
      "1. Get all points in the past 5 mins, and the last 10 points\n",
      "1. Pick the set with the oldest point\n",
      "1. See if all points in the set are within 100m of the last point\n",
      "1. If so, end trip, otherwise continue trip"
     ]
    },
    {
     "cell_type": "code",
     "collapsed": false,
     "input": [
      "import emission.analysis.classification.segmentation.trip_segmentation as ts"
     ],
     "language": "python",
     "metadata": {},
     "outputs": [],
     "prompt_number": 21
    },
    {
     "cell_type": "code",
     "collapsed": false,
     "input": [
      "reload(ts)"
     ],
     "language": "python",
     "metadata": {},
     "outputs": [
      {
       "metadata": {},
       "output_type": "pyout",
       "prompt_number": 22,
       "text": [
        "<module 'emission.analysis.classification.segmentation.trip_segmentation' from '/Users/shankari/e-mission/e-mission-server/emission/analysis/classification/segmentation/trip_segmentation.pyc'>"
       ]
      }
     ],
     "prompt_number": 22
    },
    {
     "cell_type": "code",
     "collapsed": false,
     "input": [
      "import emission.analysis.classification.segmentation.section_segmentation as ss"
     ],
     "language": "python",
     "metadata": {},
     "outputs": [],
     "prompt_number": 23
    },
    {
     "cell_type": "code",
     "collapsed": false,
     "input": [
      "reload(ss)"
     ],
     "language": "python",
     "metadata": {},
     "outputs": [
      {
       "metadata": {},
       "output_type": "pyout",
       "prompt_number": 24,
       "text": [
        "<module 'emission.analysis.classification.segmentation.section_segmentation' from '/Users/shankari/e-mission/e-mission-server/emission/analysis/classification/segmentation/section_segmentation.pyc'>"
       ]
      }
     ],
     "prompt_number": 24
    },
    {
     "cell_type": "code",
     "collapsed": false,
     "input": [
      "import emission.analysis.classification.cleaning.speed_outlier_detection as cso\n",
      "import emission.analysis.classification.cleaning.jump_smoothing as cjs"
     ],
     "language": "python",
     "metadata": {},
     "outputs": [],
     "prompt_number": 25
    },
    {
     "cell_type": "code",
     "collapsed": false,
     "input": [
      "reload(cjs)"
     ],
     "language": "python",
     "metadata": {},
     "outputs": [
      {
       "metadata": {},
       "output_type": "pyout",
       "prompt_number": 26,
       "text": [
        "<module 'emission.analysis.classification.cleaning.jump_smoothing' from '/Users/shankari/e-mission/e-mission-server/emission/analysis/classification/cleaning/jump_smoothing.pyc'>"
       ]
      }
     ],
     "prompt_number": 26
    },
    {
     "cell_type": "code",
     "collapsed": false,
     "input": [
      "my_points_time_df_aug_22 = lq.get_plottable_df(myUUID, \"time\", get_aug_dt(22), get_aug_dt(23))"
     ],
     "language": "python",
     "metadata": {},
     "outputs": [
      {
       "output_type": "stream",
       "stream": "stdout",
       "text": [
        "final query = {'metadata.key': 'background/location', '$and': [{'data.mTime': {'$gt': 1440230400000.0}}, {'data.mTime': {'$lt': 1440316800000.0}}], 'user_id': UUID('0763de67-f61e-3f5d-90e7-518e69793954'), 'metadata.filter': 'time'} \n"
       ]
      }
     ],
     "prompt_number": 27
    },
    {
     "cell_type": "code",
     "collapsed": false,
     "input": [
      "my_segment_points_aug_22 = ts.segment_into_trips(my_points_time_df_aug_22)"
     ],
     "language": "python",
     "metadata": {},
     "outputs": [
      {
       "output_type": "stream",
       "stream": "stderr",
       "text": [
        "DEBUG:root:filtering points Int64Index([], dtype='int64')\n"
       ]
      },
      {
       "output_type": "stream",
       "stream": "stderr",
       "text": [
        "DEBUG:root:after accuracy filtering, filtered list size went from (194, 29) to (194, 29)\n"
       ]
      },
      {
       "output_type": "stream",
       "stream": "stderr",
       "text": [
        "DEBUG:root:timeDelta = 0, distanceDelta = %s, returning speed = 0\n"
       ]
      },
      {
       "output_type": "stream",
       "stream": "stderr",
       "text": [
        "DEBUG:root:timeDelta = 0, distanceDelta = %s, returning speed = 0\n"
       ]
      },
      {
       "output_type": "stream",
       "stream": "stderr",
       "text": [
        "DEBUG:root:timeDelta = 0, distanceDelta = %s, returning speed = 0\n"
       ]
      },
      {
       "output_type": "stream",
       "stream": "stderr",
       "text": [
        "DEBUG:root:timeDelta = 0, distanceDelta = %s, returning speed = 0\n"
       ]
      },
      {
       "output_type": "stream",
       "stream": "stderr",
       "text": [
        "DEBUG:root:timeDelta = 0, distanceDelta = %s, returning speed = 0\n"
       ]
      },
      {
       "output_type": "stream",
       "stream": "stderr",
       "text": [
        "DEBUG:root:timeDelta = 0, distanceDelta = %s, returning speed = 0\n"
       ]
      },
      {
       "output_type": "stream",
       "stream": "stderr",
       "text": [
        "DEBUG:root:timeDelta = 0, distanceDelta = %s, returning speed = 0\n"
       ]
      },
      {
       "output_type": "stream",
       "stream": "stderr",
       "text": [
        "DEBUG:root:timeDelta = 0, distanceDelta = %s, returning speed = 0\n"
       ]
      },
      {
       "output_type": "stream",
       "stream": "stdout",
       "text": [
        "------------------------------2015-08-22 11:04:55------------------------------\n",
        "last5MinsDistances = [] with length 0\n",
        "last10PointsDistances = [ 0.] with length 1, shape (1,)\n",
        "len(last10PointsDistances) = 1, len(last5MinsDistances) = 0\n",
        "Too few points to make a decision, continuing\n",
        "------------------------------2015-08-22 11:05:25------------------------------\n",
        "last5MinsDistances = [ 167.08775733] with length 1\n",
        "last10PointsDistances = [ 167.08775733    0.        ] with length 2, shape (2,)\n",
        "len(last10PointsDistances) = 2, len(last5MinsDistances) = 1\n",
        "Too few points to make a decision, continuing\n",
        "------------------------------2015-08-22 11:05:55------------------------------\n",
        "last5MinsDistances = [ 245.18161917   78.66786285] with length 2\n",
        "last10PointsDistances = [ 245.18161917   78.66786285    0.        ] with length 3, shape (3,)\n",
        "len(last10PointsDistances) = 3, len(last5MinsDistances) = 2\n",
        "Too few points to make a decision, continuing\n",
        "------------------------------2015-08-22 11:06:25------------------------------\n",
        "last5MinsDistances = [ 323.23981373  156.76505698   78.14045979] with length 3\n",
        "last10PointsDistances = [ 323.23981373  156.76505698   78.14045979    0.        ] with length 4, shape (4,)\n",
        "len(last10PointsDistances) = 4, len(last5MinsDistances) = 3\n",
        "Too few points to make a decision, continuing\n",
        "------------------------------2015-08-22 11:06:55------------------------------\n",
        "last5MinsDistances = [ 451.59412412  284.52089496  207.29214823  131.11543239] with length 4\n",
        "last10PointsDistances = [ 451.59412412  284.52089496  207.29214823  131.11543239    0.        ] with length 5, shape (5,)\n",
        "len(last10PointsDistances) = 5, len(last5MinsDistances) = 4\n",
        "Too few points to make a decision, continuing\n",
        "------------------------------2015-08-22 11:07:25------------------------------\n",
        "last5MinsDistances = [ 554.48221644  387.55995095  309.32111533  231.43669464  105.61718731] with length 5\n",
        "last10PointsDistances = [ 554.48221644  387.55995095  309.32111533  231.43669464  105.61718731\n",
        "    0.        ] with length 6, shape (6,)"
       ]
      },
      {
       "output_type": "stream",
       "stream": "stdout",
       "text": [
        "\n",
        "len(last10PointsDistances) = 6, len(last5MinsDistances) = 5\n",
        "Too few points to make a decision, continuing\n",
        "------------------------------2015-08-22 11:07:55------------------------------\n",
        "last5MinsDistances = [ 655.83061351  490.15218384  415.56699891  341.85233318  211.6102008\n",
        "  135.57556495] with length 6\n",
        "last10PointsDistances = [ 655.83061351  490.15218384  415.56699891  341.85233318  211.6102008\n",
        "  135.57556495    0.        ] with length 7, shape (7,)\n",
        "len(last10PointsDistances) = 7, len(last5MinsDistances) = 6\n",
        "Too few points to make a decision, continuing\n",
        "------------------------------2015-08-22 11:08:25------------------------------\n",
        "last5MinsDistances = [ 630.3860868   463.76654262  387.66928211  312.18320207  181.07590431\n",
        "   96.71215297   40.02511346] with length 7\n",
        "last10PointsDistances = [ 630.3860868   463.76654262  387.66928211  312.18320207  181.07590431\n",
        "   96.71215297   40.02511346    0.        ] with length 8, shape (8,)\n",
        "len(last10PointsDistances) = 8, len(last5MinsDistances) = 7\n",
        "Too few points to make a decision, continuing\n",
        "------------------------------2015-08-22 11:08:55------------------------------\n",
        "last5MinsDistances = [ 653.14708898  487.33589693  412.562599    338.62715324  208.22158497\n",
        "  131.25476801    4.49289349   35.54456469] with length 8\n",
        "last10PointsDistances = [ 653.14708898  487.33589693  412.562599    338.62715324  208.22158497\n",
        "  131.25476801    4.49289349   35.54456469    0.        ] with length 9, shape (9,)\n",
        "len(last10PointsDistances) = 9, len(last5MinsDistances) = 8\n",
        "last5MinsDistances.max() = 653.147088975, last10PointsDistance.max() = 653.147088975\n",
        "------------------------------2015-08-22 11:09:25------------------------------\n",
        "last5MinsDistances = [ 657.1861857   491.62830997  417.2121607   343.70016645  213.62196384\n",
        "  138.5585164     3.40418989   43.28375018    7.84336252] with length 9\n",
        "last10PointsDistances = [ 491.62830997  417.2121607   343.70016645  213.62196384  138.5585164\n",
        "    3.40418989   43.28375018    7.84336252    0.        ] with length 9, shape (9,)\n",
        "len(last10PointsDistances) = 9, len(last5MinsDistances) = 9\n",
        "last5MinsDistances.max() = 657.186185697, last10PointsDistance.max() = 491.628309971\n",
        "------------------------------2015-08-22 11:09:55------------------------------\n",
        "last5MinsDistances = [ 511.38798832  437.73616167  365.07547553  235.70163162  162.70827317\n",
        "   27.19696476   67.08968249   31.61461132   24.1499318 ] with length 9\n",
        "last10PointsDistances = [ 437.73616167  365.07547553  235.70163162  162.70827317   27.19696476\n",
        "   67.08968249   31.61461132   24.1499318     0.        ] with length 9, shape (9,)"
       ]
      },
      {
       "output_type": "stream",
       "stream": "stdout",
       "text": [
        "\n",
        "len(last10PointsDistances) = 9, len(last5MinsDistances) = 9\n",
        "last5MinsDistances.max() = 511.387988316, last10PointsDistance.max() = 437.73616167\n",
        "------------------------------2015-08-22 11:10:25------------------------------\n",
        "last5MinsDistances = [ 433.11482642  360.08670359  230.37794779  156.01216627   20.43757808\n",
        "   60.15410481   24.78292545   17.56353065    7.05552799] with length 9\n",
        "last10PointsDistances = [ 360.08670359  230.37794779  156.01216627   20.43757808   60.15410481\n",
        "   24.78292545   17.56353065    7.05552799    0.        ] with length 9, shape (9,)\n",
        "len(last10PointsDistances) = 9, len(last5MinsDistances) = 9\n",
        "last5MinsDistances.max() = 433.114826421, last10PointsDistance.max() = 360.086703586\n",
        "------------------------------2015-08-22 11:10:55------------------------------\n",
        "last5MinsDistances = [ 331.43880038  201.21177377  126.47644483   10.41359988   32.69032585\n",
        "    7.80582439   12.58882627   36.42473203   30.06672601] with length 9\n",
        "last10PointsDistances = [ 201.21177377  126.47644483   10.41359988   32.69032585    7.80582439\n",
        "   12.58882627   36.42473203   30.06672601    0.        ] with length 9, shape (9,)\n",
        "len(last10PointsDistances) = 9, len(last5MinsDistances) = 9\n",
        "last5MinsDistances.max() = 331.438800383, last10PointsDistance.max() = 201.211773774\n",
        "------------------------------2015-08-22 11:11:25------------------------------\n",
        "last5MinsDistances = [ 216.35245789  141.46892509    6.06922149   46.08937665   10.5612095\n",
        "    2.91792121   21.24175343   14.64935267   15.45986788] with length 9\n",
        "last10PointsDistances = [ 141.46892509    6.06922149   46.08937665   10.5612095     2.91792121\n",
        "   21.24175343   14.64935267   15.45986788    0.        ] with length 9, shape (9,)\n",
        "len(last10PointsDistances) = 9, len(last5MinsDistances) = 9\n",
        "last5MinsDistances.max() = 216.35245789, last10PointsDistance.max() = 141.468925093\n",
        "------------------------------2015-08-22 11:11:55------------------------------\n",
        "last5MinsDistances = [ 154.35414134   18.79775933   58.41928992   23.10433386   16.00955636\n",
        "    8.85096481    1.7987875    28.56397351   13.1095551 ] with length 9\n",
        "last10PointsDistances = [ 18.79775933  58.41928992  23.10433386  16.00955636   8.85096481\n",
        "   1.7987875   28.56397351  13.1095551    0.        ] with length 9, shape (9,)\n",
        "len(last10PointsDistances) = 9, len(last5MinsDistances) = 9\n",
        "last5MinsDistances.max() = 154.354141337, last10PointsDistance.max() = 58.4192899223\n",
        "------------------------------2015-08-22 11:12:25------------------------------\n",
        "last5MinsDistances = [ 47.7174618   10.01364805  43.2392481   51.08169963  74.2619482\n",
        "  67.22874289  41.4883046   53.7578907   65.45126674] with length 9"
       ]
      },
      {
       "output_type": "stream",
       "stream": "stdout",
       "text": [
        "\n",
        "last10PointsDistances = [ 10.01364805  43.2392481   51.08169963  74.2619482   67.22874289\n",
        "  41.4883046   53.7578907   65.45126674   0.        ] with length 9, shape (9,)\n",
        "len(last10PointsDistances) = 9, len(last5MinsDistances) = 9\n",
        "last5MinsDistances.max() = 74.2619481967, last10PointsDistance.max() = 74.2619481967\n",
        "Found trip end at 2015-08-22 11:07:55\n",
        "------------------------------2015-08-22 11:12:55------------------------------\n",
        "last5MinsDistances = [] with length 0\n",
        "last10PointsDistances = [ 0.] with length 1, shape (1,)\n",
        "len(last10PointsDistances) = 1, len(last5MinsDistances) = 0\n",
        "Too few points to make a decision, continuing\n",
        "------------------------------2015-08-22 11:13:25------------------------------\n",
        "last5MinsDistances = [ 6.56402592] with length 1\n",
        "last10PointsDistances = [ 6.56402592  0.        ] with length 2, shape (2,)\n",
        "len(last10PointsDistances) = 2, len(last5MinsDistances) = 1\n",
        "Too few points to make a decision, continuing\n",
        "------------------------------2015-08-22 11:13:55------------------------------\n",
        "last5MinsDistances = [ 11.0155664    7.05023627] with length 2\n",
        "last10PointsDistances = [ 11.0155664    7.05023627   0.        ] with length 3, shape (3,)\n",
        "len(last10PointsDistances) = 3, len(last5MinsDistances) = 2\n",
        "Too few points to make a decision, continuing\n",
        "------------------------------2015-08-22 11:14:25------------------------------\n",
        "last5MinsDistances = [  1.66104726   7.06948838  12.30766923] with length 3\n",
        "last10PointsDistances = [  1.66104726   7.06948838  12.30766923   0.        ] with length 4, shape (4,)\n",
        "len(last10PointsDistances) = 4, len(last5MinsDistances) = 3\n",
        "Too few points to make a decision, continuing\n",
        "------------------------------2015-08-22 11:14:55------------------------------\n",
        "last5MinsDistances = [ 49.28865709  43.74518015  38.38569659  50.39822194] with length 4\n",
        "last10PointsDistances = [ 49.28865709  43.74518015  38.38569659  50.39822194   0.        ] with length 5, shape (5,)\n",
        "len(last10PointsDistances) = 5, len(last5MinsDistances) = 4\n",
        "Too few points to make a decision, continuing\n",
        "------------------------------2015-08-22 11:15:25------------------------------\n",
        "last5MinsDistances = [ 25.14504274  19.09992623  15.02735038  26.03330886  24.98138171] with length 5\n",
        "last10PointsDistances = [ 25.14504274  19.09992623  15.02735038  26.03330886  24.98138171   0.        ] with length 6, shape (6,)\n",
        "len(last10PointsDistances) = 6, len(last5MinsDistances) = 5\n",
        "Too few points to make a decision, continuing\n",
        "------------------------------2015-08-22 11:15:55------------------------------\n",
        "last5MinsDistances = [ 41.35175683  36.09748642  30.36414786  42.54110189   8.46384249\n",
        "  18.05774574] with length 6\n",
        "last10PointsDistances = [ 41.35175683  36.09748642  30.36414786  42.54110189   8.46384249\n",
        "  18.05774574   0.        ] with length 7, shape (7,)\n",
        "len(last10PointsDistances) = 7, len(last5MinsDistances) = 6\n",
        "Too few points to make a decision, continuing\n",
        "------------------------------2015-08-22 11:16:25------------------------------\n",
        "last5MinsDistances = [ 22.87053667  17.66027129  11.94802682  24.03515071  26.44046958\n",
        "   5.62303199  18.50864764] with length 7"
       ]
      },
      {
       "output_type": "stream",
       "stream": "stdout",
       "text": [
        "\n",
        "last10PointsDistances = [ 22.87053667  17.66027129  11.94802682  24.03515071  26.44046958\n",
        "   5.62303199  18.50864764   0.        ] with length 8, shape (8,)\n",
        "len(last10PointsDistances) = 8, len(last5MinsDistances) = 7\n",
        "Too few points to make a decision, continuing\n",
        "------------------------------2015-08-22 11:16:55------------------------------\n",
        "last5MinsDistances = [ 71.62246837  67.71389819  60.98214771  73.09641907  31.13780207\n",
        "  51.87302792  34.41774414  50.58379344] with length 8\n",
        "last10PointsDistances = [ 71.62246837  67.71389819  60.98214771  73.09641907  31.13780207\n",
        "  51.87302792  34.41774414  50.58379344   0.        ] with length 9, shape (9,)\n",
        "len(last10PointsDistances) = 9, len(last5MinsDistances) = 8\n",
        "last5MinsDistances.max() = 73.0964190654, last10PointsDistance.max() = 73.0964190654\n",
        "Found trip end at 2015-08-22 11:12:55\n",
        "------------------------------2015-08-22 11:17:25------------------------------\n",
        "last5MinsDistances = [] with length 0\n",
        "last10PointsDistances = [ 0.] with length 1, shape (1,)\n",
        "len(last10PointsDistances) = 1, len(last5MinsDistances) = 0\n",
        "Too few points to make a decision, continuing\n",
        "------------------------------2015-08-22 11:21:16------------------------------\n",
        "last5MinsDistances = [ 188.63545821] with length 1\n",
        "last10PointsDistances = [ 188.63545821    0.        ] with length 2, shape (2,)\n",
        "len(last10PointsDistances) = 2, len(last5MinsDistances) = 1\n",
        "Too few points to make a decision, continuing\n",
        "------------------------------2015-08-22 11:21:47------------------------------\n",
        "last5MinsDistances = [ 380.51638475  195.30397156] with length 2\n",
        "last10PointsDistances = [ 380.51638475  195.30397156    0.        ] with length 3, shape (3,)\n",
        "len(last10PointsDistances) = 3, len(last5MinsDistances) = 2\n",
        "Too few points to make a decision, continuing\n",
        "------------------------------2015-08-22 11:22:21------------------------------\n",
        "last5MinsDistances = [ 491.90791967  312.44058782  121.34209729] with length 3\n",
        "last10PointsDistances = [ 491.90791967  312.44058782  121.34209729    0.        ] with length 4, shape (4,)\n",
        "len(last10PointsDistances) = 4, len(last5MinsDistances) = 3\n",
        "Too few points to make a decision, continuing\n",
        "------------------------------2015-08-22 11:22:51------------------------------\n",
        "last5MinsDistances = [ 418.98263044  224.55499501  108.65832403] with length 3\n",
        "last10PointsDistances = [ 600.27420322  418.98263044  224.55499501  108.65832403    0.        ] with length 5, shape (5,)\n",
        "len(last10PointsDistances) = 5, len(last5MinsDistances) = 3\n",
        "Too few points to make a decision, continuing\n",
        "------------------------------2015-08-22 11:23:21------------------------------\n",
        "last5MinsDistances = [ 527.58591802  332.71488527  217.31269283  108.87774369] with length 4\n",
        "last10PointsDistances = [ 709.12480341  527.58591802  332.71488527  217.31269283  108.87774369\n",
        "    0.        ] with length 6, shape (6,)\n",
        "len(last10PointsDistances) = 6, len(last5MinsDistances) = 4\n",
        "Too few points to make a decision, continuing\n",
        "------------------------------2015-08-22 11:23:51------------------------------\n",
        "last5MinsDistances = [ 637.92851982  443.1732445   326.81124594  218.97435565  110.48315869] with length 5"
       ]
      },
      {
       "output_type": "stream",
       "stream": "stdout",
       "text": [
        "\n",
        "last10PointsDistances = [ 818.68154321  637.92851982  443.1732445   326.81124594  218.97435565\n",
        "  110.48315869    0.        ] with length 7, shape (7,)\n",
        "len(last10PointsDistances) = 7, len(last5MinsDistances) = 5\n",
        "Too few points to make a decision, continuing\n",
        "------------------------------2015-08-22 11:24:21------------------------------\n",
        "last5MinsDistances = [ 711.58327395  516.93734768  400.08889936  292.6008661   184.29519662\n",
        "   73.82744101] with length 6\n",
        "last10PointsDistances = [ 891.77889235  711.58327395  516.93734768  400.08889936  292.6008661\n",
        "  184.29519662   73.82744101    0.        ] with length 8, shape (8,)\n",
        "len(last10PointsDistances) = 8, len(last5MinsDistances) = 6\n",
        "Too few points to make a decision, continuing\n",
        "------------------------------2015-08-22 11:24:51------------------------------\n",
        "last5MinsDistances = [ 722.06239393  526.98873801  417.46523355  309.13856891  203.00242792\n",
        "  109.78137316   80.52873647] with length 7\n",
        "last10PointsDistances = [ 906.89267226  722.06239393  526.98873801  417.46523355  309.13856891\n",
        "  203.00242792  109.78137316   80.52873647    0.        ] with length 9, shape (9,)\n",
        "len(last10PointsDistances) = 9, len(last5MinsDistances) = 7\n",
        "last5MinsDistances.max() = 722.06239393, last10PointsDistance.max() = 906.892672261\n",
        "------------------------------2015-08-22 11:25:25------------------------------\n",
        "last5MinsDistances = [ 720.17851966  525.01290415  414.76371763  306.30211609  199.58866167\n",
        "  104.27841561   73.55986204    7.00066904] with length 8\n",
        "last10PointsDistances = [ 720.17851966  525.01290415  414.76371763  306.30211609  199.58866167\n",
        "  104.27841561   73.55986204    7.00066904    0.        ] with length 9, shape (9,)\n",
        "len(last10PointsDistances) = 9, len(last5MinsDistances) = 8\n",
        "last5MinsDistances.max() = 720.178519656, last10PointsDistance.max() = 720.178519656\n",
        "------------------------------2015-08-22 11:25:55------------------------------\n",
        "last5MinsDistances = [ 718.31632951  523.13049166  412.70343154  304.21499534  197.38019716\n",
        "  101.73795649   71.52528973    9.29122853    2.56682539] with length 9\n",
        "last10PointsDistances = [ 523.13049166  412.70343154  304.21499534  197.38019716  101.73795649\n",
        "   71.52528973    9.29122853    2.56682539    0.        ] with length 9, shape (9,)\n",
        "len(last10PointsDistances) = 9, len(last5MinsDistances) = 9\n",
        "last5MinsDistances.max() = 718.316329509, last10PointsDistance.max() = 523.13049166\n",
        "------------------------------2015-08-22 11:26:25------------------------------\n",
        "last5MinsDistances = [ 522.4445867   411.79890277  303.27826802  196.28146301  100.0051537\n",
        "   69.37821199   11.46119654    4.59913661    2.17841604] with length 9"
       ]
      },
      {
       "output_type": "stream",
       "stream": "stdout",
       "text": [
        "\n",
        "last10PointsDistances = [ 411.79890277  303.27826802  196.28146301  100.0051537    69.37821199\n",
        "   11.46119654    4.59913661    2.17841604    0.        ] with length 9, shape (9,)\n",
        "len(last10PointsDistances) = 9, len(last5MinsDistances) = 9\n",
        "last5MinsDistances.max() = 522.444586698, last10PointsDistance.max() = 411.798902774\n",
        "------------------------------2015-08-22 11:26:55------------------------------\n",
        "last5MinsDistances = [ 411.86135845  303.33619223  196.31486489   99.92257064   69.10850568\n",
        "   11.69074559    4.79124346    2.42778626    0.30139389] with length 9\n",
        "last10PointsDistances = [ 303.33619223  196.31486489   99.92257064   69.10850568   11.69074559\n",
        "    4.79124346    2.42778626    0.30139389    0.        ] with length 9, shape (9,)\n",
        "len(last10PointsDistances) = 9, len(last5MinsDistances) = 9\n",
        "last5MinsDistances.max() = 411.861358452, last10PointsDistance.max() = 303.336192228\n",
        "------------------------------2015-08-22 11:27:25------------------------------\n",
        "last5MinsDistances = [ 303.77419103  196.63569241   99.67025575   67.84408526   12.78564734\n",
        "    5.78953637    3.72891182    1.80137948    1.50123549] with length 9\n",
        "last10PointsDistances = [ 196.63569241   99.67025575   67.84408526   12.78564734    5.78953637\n",
        "    3.72891182    1.80137948    1.50123549    0.        ] with length 9, shape (9,)\n",
        "len(last10PointsDistances) = 9, len(last5MinsDistances) = 9\n",
        "last5MinsDistances.max() = 303.774191026, last10PointsDistance.max() = 196.635692411\n",
        "------------------------------2015-08-22 11:27:55------------------------------\n",
        "last5MinsDistances = [ 196.87978638   99.78557574   67.64788138   12.94018257    5.93959841\n",
        "    3.98893161    2.15261661    1.85604031    0.38735098] with length 9\n",
        "last10PointsDistances = [ 99.78557574  67.64788138  12.94018257   5.93959841   3.98893161\n",
        "   2.15261661   1.85604031   0.38735098   0.        ] with length 9, shape (9,)\n",
        "len(last10PointsDistances) = 9, len(last5MinsDistances) = 9\n",
        "last5MinsDistances.max() = 196.879786379, last10PointsDistance.max() = 99.7855757372\n",
        "------------------------------2015-08-22 11:28:25------------------------------\n",
        "last5MinsDistances = [ 99.33551411  64.87784242  15.6745175    8.79743482   7.24059047\n",
        "   5.50893966   5.21022549   3.71046623   3.35865617] with length 9\n",
        "last10PointsDistances = [ 64.87784242  15.6745175    8.79743482   7.24059047   5.50893966\n",
        "   5.21022549   3.71046623   3.35865617   0.        ] with length 9, shape (9,)\n",
        "len(last10PointsDistances) = 9, len(last5MinsDistances) = 9\n",
        "last5MinsDistances.max() = 99.3355141143, last10PointsDistance.max() = 64.8778424155\n",
        "Found trip end at 2015-08-22 11:23:51\n",
        "------------------------------2015-08-22 11:28:55------------------------------\n",
        "last5MinsDistances = [] with length 0"
       ]
      },
      {
       "output_type": "stream",
       "stream": "stdout",
       "text": [
        "\n",
        "last10PointsDistances = [ 0.] with length 1, shape (1,)\n",
        "len(last10PointsDistances) = 1, len(last5MinsDistances) = 0\n",
        "Too few points to make a decision, continuing\n",
        "------------------------------2015-08-22 11:29:25------------------------------\n",
        "last5MinsDistances = [ 2.66961396] with length 1\n",
        "last10PointsDistances = [ 2.66961396  0.        ] with length 2, shape (2,)\n",
        "len(last10PointsDistances) = 2, len(last5MinsDistances) = 1\n",
        "Too few points to make a decision, continuing\n",
        "------------------------------2015-08-22 11:29:55------------------------------\n",
        "last5MinsDistances = [ 0.          2.66961396] with length 2\n",
        "last10PointsDistances = [ 0.          2.66961396  0.        ] with length 3, shape (3,)\n",
        "len(last10PointsDistances) = 3, len(last5MinsDistances) = 2\n",
        "Too few points to make a decision, continuing\n",
        "------------------------------2015-08-22 11:30:25------------------------------\n",
        "last5MinsDistances = [ 0.03774898  2.63585281  0.03774898] with length 3\n",
        "last10PointsDistances = [ 0.03774898  2.63585281  0.03774898  0.        ] with length 4, shape (4,)\n",
        "len(last10PointsDistances) = 4, len(last5MinsDistances) = 3\n",
        "Too few points to make a decision, continuing\n",
        "------------------------------2015-08-22 11:30:55------------------------------\n",
        "last5MinsDistances = [ 0.49881565  2.17958171  0.49881565  0.46278081] with length 4\n",
        "last10PointsDistances = [ 0.49881565  2.17958171  0.49881565  0.46278081  0.        ] with length 5, shape (5,)\n",
        "len(last10PointsDistances) = 5, len(last5MinsDistances) = 4\n",
        "Too few points to make a decision, continuing\n",
        "------------------------------2015-08-22 11:31:25------------------------------\n",
        "last5MinsDistances = [ 3.31591632  0.64710526  3.31591632  3.28196304  2.82447549] with length 5\n",
        "last10PointsDistances = [ 3.31591632  0.64710526  3.31591632  3.28196304  2.82447549  0.        ] with length 6, shape (6,)\n",
        "len(last10PointsDistances) = 6, len(last5MinsDistances) = 5\n",
        "Too few points to make a decision, continuing\n",
        "------------------------------2015-08-22 11:31:55------------------------------\n",
        "last5MinsDistances = [ 2.30175194  0.37545885  2.30175194  2.26853133  1.81557514  1.02051445] with length 6\n",
        "last10PointsDistances = [ 2.30175194  0.37545885  2.30175194  2.26853133  1.81557514  1.02051445\n",
        "  0.        ] with length 7, shape (7,)\n",
        "len(last10PointsDistances) = 7, len(last5MinsDistances) = 6\n",
        "Too few points to make a decision, continuing\n",
        "------------------------------2015-08-22 11:32:26------------------------------\n",
        "last5MinsDistances = [ 3.15893673  0.48933743  3.15893673  3.12518937  2.66873673  0.16181868\n",
        "  0.86074675] with length 7\n",
        "last10PointsDistances = [ 3.15893673  0.48933743  3.15893673  3.12518937  2.66873673  0.16181868\n",
        "  0.86074675  0.        ] with length 8, shape (8,)"
       ]
      },
      {
       "output_type": "stream",
       "stream": "stdout",
       "text": [
        "\n",
        "len(last10PointsDistances) = 8, len(last5MinsDistances) = 7\n",
        "Too few points to make a decision, continuing\n",
        "------------------------------2015-08-22 11:32:56------------------------------\n",
        "last5MinsDistances = [ 0.66146701  3.26609849  0.66146701  0.68386211  1.09756376  3.90693939\n",
        "  2.90755657  3.75377224] with length 8\n",
        "last10PointsDistances = [ 0.66146701  3.26609849  0.66146701  0.68386211  1.09756376  3.90693939\n",
        "  2.90755657  3.75377224  0.        ] with length 9, shape (9,)\n",
        "len(last10PointsDistances) = 9, len(last5MinsDistances) = 8\n",
        "last5MinsDistances.max() = 3.90693939282, last10PointsDistance.max() = 3.90693939282\n",
        "Found trip end at 2015-08-22 11:28:55\n",
        "------------------------------2015-08-22 11:33:26------------------------------\n",
        "last5MinsDistances = [] with length 0\n",
        "last10PointsDistances = [ 0.] with length 1, shape (1,)\n",
        "len(last10PointsDistances) = 1, len(last5MinsDistances) = 0\n",
        "Too few points to make a decision, continuing\n",
        "------------------------------2015-08-22 11:33:56------------------------------\n",
        "last5MinsDistances = [ 3.14805631] with length 1\n",
        "last10PointsDistances = [ 3.14805631  0.        ] with length 2, shape (2,)\n",
        "len(last10PointsDistances) = 2, len(last5MinsDistances) = 1\n",
        "Too few points to make a decision, continuing\n",
        "------------------------------2015-08-22 11:34:26------------------------------\n",
        "last5MinsDistances = [ 0.18874489  2.98002403] with length 2\n",
        "last10PointsDistances = [ 0.18874489  2.98002403  0.        ] with length 3, shape (3,)\n",
        "len(last10PointsDistances) = 3, len(last5MinsDistances) = 2\n",
        "Too few points to make a decision, continuing\n",
        "------------------------------2015-08-22 14:57:05------------------------------\n",
        "last5MinsDistances = [] with length 0\n",
        "last10PointsDistances = [ 136.14306039  133.37590807  135.95441501    0.        ] with length 4, shape (4,)\n",
        "len(last10PointsDistances) = 4, len(last5MinsDistances) = 0\n",
        "Too few points to make a decision, continuing\n",
        "------------------------------2015-08-22 14:57:37------------------------------\n",
        "last5MinsDistances = [ 135.233481] with length 1\n",
        "last10PointsDistances = [ 271.23971382  268.42229806  271.05096899  135.233481      0.        ] with length 5, shape (5,)\n",
        "len(last10PointsDistances) = 5, len(last5MinsDistances) = 1\n",
        "Too few points to make a decision, continuing\n",
        "------------------------------2015-08-22 14:58:09------------------------------\n",
        "last5MinsDistances = [ 148.48549357   13.30787895] with length 2\n",
        "last10PointsDistances = [ 284.5214605   281.70812024  284.33271697  148.48549357   13.30787895\n",
        "    0.        ] with length 6, shape (6,)\n",
        "len(last10PointsDistances) = 6, len(last5MinsDistances) = 2\n",
        "Too few points to make a decision, continuing\n",
        "------------------------------2015-08-22 14:58:41------------------------------\n",
        "last5MinsDistances = [ 218.58483564   83.48032631   70.17753965] with length 3\n",
        "last10PointsDistances = [ 354.67191362  351.86662299  354.48317805  218.58483564   83.48032631\n",
        "   70.17753965    0.        ] with length 7, shape (7,)\n",
        "len(last10PointsDistances) = 7, len(last5MinsDistances) = 3\n",
        "Too few points to make a decision, continuing\n",
        "------------------------------2015-08-22 14:59:02------------------------------\n",
        "last5MinsDistances = [ 272.09330468  147.16818875  135.28695437   82.10388347] with length 4"
       ]
      },
      {
       "output_type": "stream",
       "stream": "stdout",
       "text": [
        "\n",
        "last10PointsDistances = [ 406.05310905  403.52852517  405.86737751  272.09330468  147.16818875\n",
        "  135.28695437   82.10388347    0.        ] with length 8, shape (8,)\n",
        "len(last10PointsDistances) = 8, len(last5MinsDistances) = 4\n",
        "Too few points to make a decision, continuing\n",
        "------------------------------2015-08-22 14:59:07------------------------------\n",
        "last5MinsDistances = [ 266.7032751   140.01252564  127.88076923   72.89672662    9.43823793] with length 5\n",
        "last10PointsDistances = [ 401.20820579  398.64632691  401.02183744  266.7032751   140.01252564\n",
        "  127.88076923   72.89672662    9.43823793    0.        ] with length 9, shape (9,)\n",
        "len(last10PointsDistances) = 9, len(last5MinsDistances) = 5\n",
        "last5MinsDistances.max() = 266.703275104, last10PointsDistance.max() = 401.20820579\n",
        "------------------------------2015-08-22 14:59:43------------------------------\n",
        "last5MinsDistances = [ 216.80826176   82.99459526   69.83957248   13.68045196   72.5495944\n",
        "   63.71401236] with length 6\n",
        "last10PointsDistances = [ 350.17531116  352.7349923   216.80826176   82.99459526   69.83957248\n",
        "   13.68045196   72.5495944    63.71401236    0.        ] with length 9, shape (9,)\n",
        "len(last10PointsDistances) = 9, len(last5MinsDistances) = 6\n",
        "last5MinsDistances.max() = 216.808261757, last10PointsDistance.max() = 352.734992297\n",
        "------------------------------2015-08-22 15:00:13------------------------------\n",
        "last5MinsDistances = [ 229.0827203    94.42458284   81.13441969   12.7275622    70.43599144\n",
        "   61.10712019   13.99422419] with length 7\n",
        "last10PointsDistances = [ 365.03630254  229.0827203    94.42458284   81.13441969   12.7275622\n",
        "   70.43599144   61.10712019   13.99422419    0.        ] with length 9, shape (9,)\n",
        "len(last10PointsDistances) = 9, len(last5MinsDistances) = 7\n",
        "last5MinsDistances.max() = 229.082720298, last10PointsDistance.max() = 365.036302536\n",
        "------------------------------2015-08-22 15:00:43------------------------------\n",
        "last5MinsDistances = [ 259.70568852  128.06979335  115.16957547   52.05002106   34.70066902\n",
        "   25.51145596   46.14783976   39.4291129 ] with length 8\n",
        "last10PointsDistances = [ 259.70568852  128.06979335  115.16957547   52.05002106   34.70066902\n",
        "   25.51145596   46.14783976   39.4291129     0.        ] with length 9, shape (9,)\n",
        "len(last10PointsDistances) = 9, len(last5MinsDistances) = 8\n",
        "last5MinsDistances.max() = 259.705688521, last10PointsDistance.max() = 259.705688521\n",
        "------------------------------2015-08-22 15:01:13------------------------------\n",
        "last5MinsDistances = [ 253.1117413   120.09278097  106.99543061   41.40284      45.76888068\n",
        "   36.41114678   37.21050534   28.67818672   11.5213624 ] with length 9\n",
        "last10PointsDistances = [ 120.09278097  106.99543061   41.40284      45.76888068   36.41114678\n",
        "   37.21050534   28.67818672   11.5213624     0.        ] with length 9, shape (9,)"
       ]
      },
      {
       "output_type": "stream",
       "stream": "stdout",
       "text": [
        "\n",
        "len(last10PointsDistances) = 9, len(last5MinsDistances) = 9\n",
        "last5MinsDistances.max() = 253.1117413, last10PointsDistance.max() = 120.092780974\n",
        "------------------------------2015-08-22 15:01:43------------------------------\n",
        "last5MinsDistances = [ 257.14666744  124.33699931  111.26358571   45.78058664   42.8387183\n",
        "   33.61954354   41.52830681   33.05336456    8.14128816    4.40668917] with length 10\n",
        "last10PointsDistances = [ 111.26358571   45.78058664   42.8387183    33.61954354   41.52830681\n",
        "   33.05336456    8.14128816    4.40668917    0.        ] with length 9, shape (9,)\n",
        "len(last10PointsDistances) = 9, len(last5MinsDistances) = 10\n",
        "last5MinsDistances.max() = 257.146667437, last10PointsDistance.max() = 111.263585706\n",
        "------------------------------2015-08-22 15:02:13------------------------------\n",
        "last5MinsDistances = [ 129.17045803  116.217565     52.25116317   36.05990019   27.01378156\n",
        "   46.91780654   39.5633144     2.2992101    11.10401379    7.15658415] with length 10\n",
        "last10PointsDistances = [ 52.25116317  36.05990019  27.01378156  46.91780654  39.5633144\n",
        "   2.2992101   11.10401379   7.15658415   0.        ] with length 9, shape (9,)\n",
        "len(last10PointsDistances) = 9, len(last5MinsDistances) = 10\n",
        "last5MinsDistances.max() = 129.170458026, last10PointsDistance.max() = 52.2511631733\n",
        "------------------------------2015-08-22 15:02:43------------------------------\n",
        "last5MinsDistances = [ 107.87183737   41.39334622   47.4756525    38.18118527   38.03241644\n",
        "   28.68301315   12.87905932    2.52920355    4.88818198   12.04230415] with length 10\n",
        "last10PointsDistances = [ 47.4756525   38.18118527  38.03241644  28.68301315  12.87905932\n",
        "   2.52920355   4.88818198  12.04230415   0.        ] with length 9, shape (9,)\n",
        "len(last10PointsDistances) = 9, len(last5MinsDistances) = 10\n",
        "last5MinsDistances.max() = 107.871837374, last10PointsDistance.max() = 47.4756525002\n",
        "------------------------------2015-08-22 15:03:13------------------------------\n",
        "last5MinsDistances = [ 53.69797748  34.12144242  25.08798376  47.99962698  41.04261453\n",
        "   1.94510784  12.79754519   9.01323646   1.9392105   13.88193831] with length 10\n",
        "last10PointsDistances = [ 25.08798376  47.99962698  41.04261453   1.94510784  12.79754519\n",
        "   9.01323646   1.9392105   13.88193831   0.        ] with length 9, shape (9,)\n",
        "len(last10PointsDistances) = 9, len(last5MinsDistances) = 10\n",
        "last5MinsDistances.max() = 53.6979774756, last10PointsDistance.max() = 47.9996269785\n",
        "Found trip end at 2015-08-22 14:58:41\n",
        "------------------------------2015-08-22 15:03:43------------------------------\n",
        "last5MinsDistances = [] with length 0\n",
        "last10PointsDistances = [ 0.] with length 1, shape (1,)\n",
        "len(last10PointsDistances) = 1, len(last5MinsDistances) = 0\n",
        "Too few points to make a decision, continuing\n",
        "------------------------------2015-08-22 15:04:13------------------------------\n",
        "last5MinsDistances = [ 5.04344461] with length 1"
       ]
      },
      {
       "output_type": "stream",
       "stream": "stdout",
       "text": [
        "\n",
        "last10PointsDistances = [ 5.04344461  0.        ] with length 2, shape (2,)\n",
        "len(last10PointsDistances) = 2, len(last5MinsDistances) = 1\n",
        "Too few points to make a decision, continuing\n",
        "------------------------------2015-08-22 15:04:43------------------------------\n",
        "last5MinsDistances = [ 5.92613426  9.00345512] with length 2\n",
        "last10PointsDistances = [ 5.92613426  9.00345512  0.        ] with length 3, shape (3,)\n",
        "len(last10PointsDistances) = 3, len(last5MinsDistances) = 2\n",
        "Too few points to make a decision, continuing\n",
        "------------------------------2015-08-22 15:05:13------------------------------\n",
        "last5MinsDistances = [ 4.96543722  8.4163822   1.04720333] with length 3\n",
        "last10PointsDistances = [ 4.96543722  8.4163822   1.04720333  0.        ] with length 4, shape (4,)\n",
        "len(last10PointsDistances) = 4, len(last5MinsDistances) = 3\n",
        "Too few points to make a decision, continuing\n",
        "------------------------------2015-08-22 15:05:43------------------------------\n",
        "last5MinsDistances = [  5.52961886   2.80453194  10.77876324  10.00486348] with length 4\n",
        "last10PointsDistances = [  5.52961886   2.80453194  10.77876324  10.00486348   0.        ] with length 5, shape (5,)\n",
        "len(last10PointsDistances) = 5, len(last5MinsDistances) = 4\n",
        "Too few points to make a decision, continuing\n",
        "------------------------------2015-08-22 15:06:13------------------------------\n",
        "last5MinsDistances = [ 3.68721387  7.58434635  2.37566921  1.33906627  8.91815999] with length 5\n",
        "last10PointsDistances = [ 3.68721387  7.58434635  2.37566921  1.33906627  8.91815999  0.        ] with length 6, shape (6,)\n",
        "len(last10PointsDistances) = 6, len(last5MinsDistances) = 5\n",
        "Too few points to make a decision, continuing\n",
        "------------------------------2015-08-22 15:06:43------------------------------\n",
        "last5MinsDistances = [ 2.69169634  7.28614534  3.79099283  2.74424323  8.18827615  1.43635004] with length 6\n",
        "last10PointsDistances = [ 2.69169634  7.28614534  3.79099283  2.74424323  8.18827615  1.43635004\n",
        "  0.        ] with length 7, shape (7,)\n",
        "len(last10PointsDistances) = 7, len(last5MinsDistances) = 6\n",
        "Too few points to make a decision, continuing\n",
        "------------------------------2015-08-22 15:07:13------------------------------\n",
        "last5MinsDistances = [ 27.31341087  26.03215521  33.23952578  32.26551889  23.33354175\n",
        "  30.95211428  29.69993081] with length 7\n",
        "last10PointsDistances = [ 27.31341087  26.03215521  33.23952578  32.26551889  23.33354175\n",
        "  30.95211428  29.69993081   0.        ] with length 8, shape (8,)\n",
        "len(last10PointsDistances) = 8, len(last5MinsDistances) = 7\n",
        "Too few points to make a decision, continuing\n",
        "------------------------------2015-08-22 15:07:43------------------------------\n",
        "last5MinsDistances = [ 35.82261045  34.28231107  41.74674953  40.78284824  31.64963832\n",
        "  39.47609953  38.23925931   8.56367477] with length 8"
       ]
      },
      {
       "output_type": "stream",
       "stream": "stdout",
       "text": [
        "\n",
        "last10PointsDistances = [ 35.82261045  34.28231107  41.74674953  40.78284824  31.64963832\n",
        "  39.47609953  38.23925931   8.56367477   0.        ] with length 9, shape (9,)\n",
        "len(last10PointsDistances) = 9, len(last5MinsDistances) = 8\n",
        "last5MinsDistances.max() = 41.7467495337, last10PointsDistance.max() = 41.7467495337\n",
        "Found trip end at 2015-08-22 15:03:43\n",
        "------------------------------2015-08-22 15:16:24------------------------------\n",
        "last5MinsDistances = [] with length 0\n",
        "last10PointsDistances = [ 0.] with length 1, shape (1,)\n",
        "len(last10PointsDistances) = 1, len(last5MinsDistances) = 0\n",
        "Too few points to make a decision, continuing\n",
        "------------------------------2015-08-22 15:16:55------------------------------\n",
        "last5MinsDistances = [ 46.73120854] with length 1\n",
        "last10PointsDistances = [ 46.73120854   0.        ] with length 2, shape (2,)\n",
        "len(last10PointsDistances) = 2, len(last5MinsDistances) = 1\n",
        "Too few points to make a decision, continuing\n",
        "------------------------------2015-08-22 15:17:25------------------------------\n",
        "last5MinsDistances = [ 40.90019209   5.87852948] with length 2\n",
        "last10PointsDistances = [ 40.90019209   5.87852948   0.        ] with length 3, shape (3,)\n",
        "len(last10PointsDistances) = 3, len(last5MinsDistances) = 2\n",
        "Too few points to make a decision, continuing\n",
        "------------------------------2015-08-22 15:17:55------------------------------\n",
        "last5MinsDistances = [ 249.19902031  278.65292222  275.23105557] with length 3\n",
        "last10PointsDistances = [ 249.19902031  278.65292222  275.23105557    0.        ] with length 4, shape (4,)\n",
        "len(last10PointsDistances) = 4, len(last5MinsDistances) = 3\n",
        "Too few points to make a decision, continuing\n",
        "------------------------------2015-08-22 15:18:28------------------------------\n",
        "last5MinsDistances = [ 293.84096669  326.81862508  322.98859949   54.78522577] with length 4\n",
        "last10PointsDistances = [ 293.84096669  326.81862508  322.98859949   54.78522577    0.        ] with length 5, shape (5,)\n",
        "len(last10PointsDistances) = 5, len(last5MinsDistances) = 4\n",
        "Too few points to make a decision, continuing\n",
        "------------------------------2015-08-22 15:18:45------------------------------\n",
        "last5MinsDistances = [ 296.41698602  329.77372438  325.89673118   58.96679131    4.52960025] with length 5\n",
        "last10PointsDistances = [ 296.41698602  329.77372438  325.89673118   58.96679131    4.52960025\n",
        "    0.        ] with length 6, shape (6,)\n",
        "len(last10PointsDistances) = 6, len(last5MinsDistances) = 5\n",
        "Too few points to make a decision, continuing\n",
        "------------------------------2015-08-22 15:19:27------------------------------\n",
        "last5MinsDistances = [ 468.81117758  498.02301534  494.75952172  219.7896852   178.23924915\n",
        "  176.71296657] with length 6\n",
        "last10PointsDistances = [ 468.81117758  498.02301534  494.75952172  219.7896852   178.23924915\n",
        "  176.71296657    0.        ] with length 7, shape (7,)\n",
        "len(last10PointsDistances) = 7, len(last5MinsDistances) = 6\n",
        "Too few points to make a decision, continuing\n",
        "------------------------------2015-08-22 15:19:53------------------------------"
       ]
      },
      {
       "output_type": "stream",
       "stream": "stdout",
       "text": [
        "\n",
        "last5MinsDistances = [ 503.26082258  541.01100319  536.61888506  275.55991688  221.14558177\n",
        "  217.27343206  138.29468669] with length 7\n",
        "last10PointsDistances = [ 503.26082258  541.01100319  536.61888506  275.55991688  221.14558177\n",
        "  217.27343206  138.29468669    0.        ] with length 8, shape (8,)\n",
        "len(last10PointsDistances) = 8, len(last5MinsDistances) = 7\n",
        "Too few points to make a decision, continuing\n",
        "------------------------------2015-08-22 15:20:25------------------------------\n",
        "last5MinsDistances = [ 586.01901766  623.27928169  618.96662438  354.23496582  300.61583988\n",
        "  296.98077059  180.33517775   83.12663928] with length 8\n",
        "last10PointsDistances = [ 586.01901766  623.27928169  618.96662438  354.23496582  300.61583988\n",
        "  296.98077059  180.33517775   83.12663928    0.        ] with length 9, shape (9,)\n",
        "len(last10PointsDistances) = 9, len(last5MinsDistances) = 8\n",
        "last5MinsDistances.max() = 623.279281688, last10PointsDistance.max() = 623.279281688\n",
        "------------------------------2015-08-22 15:20:56------------------------------\n",
        "last5MinsDistances = [ 569.70488462  607.16289551  602.82084827  339.06112149  285.21266232\n",
        "  281.51793613  171.3640715    66.57488055   16.75462181] with length 9\n",
        "last10PointsDistances = [ 607.16289551  602.82084827  339.06112149  285.21266232  281.51793613\n",
        "  171.3640715    66.57488055   16.75462181    0.        ] with length 9, shape (9,)\n",
        "len(last10PointsDistances) = 9, len(last5MinsDistances) = 9\n",
        "last5MinsDistances.max() = 607.16289551, last10PointsDistance.max() = 607.16289551\n",
        "------------------------------2015-08-22 15:21:12------------------------------\n",
        "last5MinsDistances = [ 563.12169616  600.62318183  596.27425376  332.79605528  278.88139306\n",
        "  275.1687455   167.46947696   59.95955436   23.3468231     6.62623384] with length 10\n",
        "last10PointsDistances = [ 596.27425376  332.79605528  278.88139306  275.1687455   167.46947696\n",
        "   59.95955436   23.3468231     6.62623384    0.        ] with length 9, shape (9,)\n",
        "len(last10PointsDistances) = 9, len(last5MinsDistances) = 10\n",
        "last5MinsDistances.max() = 600.623181828, last10PointsDistance.max() = 596.274253762\n",
        "------------------------------2015-08-22 15:21:44------------------------------\n",
        "last5MinsDistances = [ 711.98256477  708.04246299  435.9748312   385.29938962  382.24414394\n",
        "  230.5083013   184.02974803  106.77024462  122.57660623  128.61777054] with length 10\n",
        "last10PointsDistances = [ 435.9748312   385.29938962  382.24414394  230.5083013   184.02974803\n",
        "  106.77024462  122.57660623  128.61777054    0.        ] with length 9, shape (9,)"
       ]
      },
      {
       "output_type": "stream",
       "stream": "stdout",
       "text": [
        "\n",
        "len(last10PointsDistances) = 9, len(last5MinsDistances) = 10\n",
        "last5MinsDistances.max() = 711.982564774, last10PointsDistance.max() = 435.974831196\n",
        "------------------------------2015-08-22 15:22:16------------------------------\n",
        "last5MinsDistances = [ 731.41719151  460.49649554  409.15507448  405.97739149  257.58032479\n",
        "  202.31974299  121.28890057  137.87249006  144.2960072    27.98677045] with length 10\n",
        "last10PointsDistances = [ 409.15507448  405.97739149  257.58032479  202.31974299  121.28890057\n",
        "  137.87249006  144.2960072    27.98677045    0.        ] with length 9, shape (9,)\n",
        "len(last10PointsDistances) = 9, len(last5MinsDistances) = 10\n",
        "last5MinsDistances.max() = 731.417191506, last10PointsDistance.max() = 409.155074485\n",
        "------------------------------2015-08-22 15:22:48------------------------------\n",
        "last5MinsDistances = [ 471.67568939  423.64294665  420.99533896  256.54193967  236.51933979\n",
        "  164.54220533  179.42720117  185.02374942   60.53903312   65.21750873] with length 10\n",
        "last10PointsDistances = [ 420.99533896  256.54193967  236.51933979  164.54220533  179.42720117\n",
        "  185.02374942   60.53903312   65.21750873    0.        ] with length 9, shape (9,)\n",
        "len(last10PointsDistances) = 9, len(last5MinsDistances) = 10\n",
        "last5MinsDistances.max() = 471.675689388, last10PointsDistance.max() = 420.995338955\n",
        "------------------------------2015-08-22 15:23:19------------------------------\n",
        "last5MinsDistances = [ 432.41480535  429.6656565   267.43468982  240.56731453  165.74187566\n",
        "  181.22685692  187.08874516   59.30911538   57.51704279   14.76060152] with length 10\n",
        "last10PointsDistances = [ 267.43468982  240.56731453  165.74187566  181.22685692  187.08874516\n",
        "   59.30911538   57.51704279   14.76060152    0.        ] with length 9, shape (9,)\n",
        "len(last10PointsDistances) = 9, len(last5MinsDistances) = 10\n",
        "last5MinsDistances.max() = 432.41480535, last10PointsDistance.max() = 267.43468982\n",
        "------------------------------2015-08-22 15:23:51------------------------------\n",
        "last5MinsDistances = [ 269.89199652  243.190287    168.25078839  183.76558033  189.63993204\n",
        "   61.74167501   59.19758747   16.11510043    2.65348249] with length 9\n",
        "last10PointsDistances = [ 243.190287    168.25078839  183.76558033  189.63993204   61.74167501\n",
        "   59.19758747   16.11510043    2.65348249    0.        ] with length 9, shape (9,)\n",
        "len(last10PointsDistances) = 9, len(last5MinsDistances) = 9\n",
        "last5MinsDistances.max() = 269.891996522, last10PointsDistance.max() = 243.190287001\n",
        "------------------------------2015-08-22 15:24:23------------------------------\n",
        "last5MinsDistances = [ 279.29739132  239.91704251  161.20304849  177.43598467  183.65682658\n",
        "   56.00309138   42.78360087   38.65839641   24.57883273   24.52307515] with length 10"
       ]
      },
      {
       "output_type": "stream",
       "stream": "stdout",
       "text": [
        "\n",
        "last10PointsDistances = [ 161.20304849  177.43598467  183.65682658   56.00309138   42.78360087\n",
        "   38.65839641   24.57883273   24.52307515    0.        ] with length 9, shape (9,)\n",
        "len(last10PointsDistances) = 9, len(last5MinsDistances) = 10\n",
        "last5MinsDistances.max() = 279.297391315, last10PointsDistance.max() = 183.656826583\n",
        "------------------------------2015-08-22 15:24:52------------------------------\n",
        "last5MinsDistances = [ 236.29451318  159.80645965  175.61229831  181.6246756    53.04664087\n",
        "   47.71169179   23.9117534    10.81391257   11.81218949   14.88571435] with length 10\n",
        "last10PointsDistances = [ 175.61229831  181.6246756    53.04664087   47.71169179   23.9117534\n",
        "   10.81391257   11.81218949   14.88571435    0.        ] with length 9, shape (9,)\n",
        "len(last10PointsDistances) = 9, len(last5MinsDistances) = 10\n",
        "last5MinsDistances.max() = 236.294513176, last10PointsDistance.max() = 181.6246756\n",
        "------------------------------2015-08-22 15:25:24------------------------------\n",
        "last5MinsDistances = [ 162.85118051  178.71595421  184.7550549    56.14071613   49.45499589\n",
        "   25.60834399   11.4011934    11.59049733   13.18758385    3.57311328] with length 10\n",
        "last10PointsDistances = [ 184.7550549    56.14071613   49.45499589   25.60834399   11.4011934\n",
        "   11.59049733   13.18758385    3.57311328    0.        ] with length 9, shape (9,)\n",
        "len(last10PointsDistances) = 9, len(last5MinsDistances) = 10\n",
        "last5MinsDistances.max() = 184.755054903, last10PointsDistance.max() = 184.755054903\n",
        "------------------------------2015-08-22 15:25:56------------------------------\n",
        "last5MinsDistances = [ 183.48505176  189.42664018   61.09917194   56.7509019    20.04821511\n",
        "    5.41499978    4.18877153   20.48795382    9.04609476    7.90489071] with length 10\n",
        "last10PointsDistances = [ 61.09917194  56.7509019   20.04821511   5.41499978   4.18877153\n",
        "  20.48795382   9.04609476   7.90489071   0.        ] with length 9, shape (9,)\n",
        "len(last10PointsDistances) = 9, len(last5MinsDistances) = 10\n",
        "last5MinsDistances.max() = 189.42664018, last10PointsDistance.max() = 61.0991719363\n",
        "------------------------------2015-08-22 15:26:12------------------------------\n",
        "last5MinsDistances = [ 187.30902913   59.0121222    55.11266696   19.30949065    4.58498594\n",
        "    4.52696372   20.15649069    7.45657893    7.09234934    2.13590992] with length 10\n",
        "last10PointsDistances = [ 55.11266696  19.30949065   4.58498594   4.52696372  20.15649069\n",
        "   7.45657893   7.09234934   2.13590992   0.        ] with length 9, shape (9,)"
       ]
      },
      {
       "output_type": "stream",
       "stream": "stdout",
       "text": [
        "\n",
        "len(last10PointsDistances) = 9, len(last5MinsDistances) = 10\n",
        "last5MinsDistances.max() = 187.309029131, last10PointsDistance.max() = 55.1126669565\n",
        "------------------------------2015-08-22 15:26:44------------------------------\n",
        "last5MinsDistances = [ 58.85111404  52.33705935  24.81449148  10.1418431    9.72430701\n",
        "  14.82525553   5.85968318   2.9091658    5.66691148   5.55999901] with length 10\n",
        "last10PointsDistances = [ 24.81449148  10.1418431    9.72430701  14.82525553   5.85968318\n",
        "   2.9091658    5.66691148   5.55999901   0.        ] with length 9, shape (9,)\n",
        "len(last10PointsDistances) = 9, len(last5MinsDistances) = 10\n",
        "last5MinsDistances.max() = 58.851114043, last10PointsDistance.max() = 24.8144914835\n",
        "Found trip end at 2015-08-22 15:21:44\n",
        "------------------------------2015-08-22 15:27:16------------------------------\n",
        "last5MinsDistances = [] with length 0\n",
        "last10PointsDistances = [ 0.] with length 1, shape (1,)\n",
        "len(last10PointsDistances) = 1, len(last5MinsDistances) = 0\n",
        "Too few points to make a decision, continuing\n",
        "------------------------------2015-08-22 15:27:47------------------------------\n",
        "last5MinsDistances = [ 2.45933086] with length 1\n",
        "last10PointsDistances = [ 2.45933086  0.        ] with length 2, shape (2,)\n",
        "len(last10PointsDistances) = 2, len(last5MinsDistances) = 1\n",
        "Too few points to make a decision, continuing\n",
        "------------------------------2015-08-22 15:28:19------------------------------\n",
        "last5MinsDistances = [ 2.53855622  4.63126442] with length 2\n",
        "last10PointsDistances = [ 2.53855622  4.63126442  0.        ] with length 3, shape (3,)\n",
        "len(last10PointsDistances) = 3, len(last5MinsDistances) = 2\n",
        "Too few points to make a decision, continuing\n",
        "------------------------------2015-08-22 15:28:51------------------------------\n",
        "last5MinsDistances = [ 0.65509191  2.11129562  3.18975344] with length 3\n",
        "last10PointsDistances = [ 0.65509191  2.11129562  3.18975344  0.        ] with length 4, shape (4,)\n",
        "len(last10PointsDistances) = 4, len(last5MinsDistances) = 3\n",
        "Too few points to make a decision, continuing\n",
        "------------------------------2015-08-22 15:29:23------------------------------\n",
        "last5MinsDistances = [ 2.0174526   4.27066781  0.63251346  2.65308803] with length 4\n",
        "last10PointsDistances = [ 2.0174526   4.27066781  0.63251346  2.65308803  0.        ] with length 5, shape (5,)\n",
        "len(last10PointsDistances) = 5, len(last5MinsDistances) = 4\n",
        "Too few points to make a decision, continuing\n",
        "------------------------------2015-08-22 15:29:52------------------------------\n",
        "last5MinsDistances = [ 1.86302031  4.27730443  1.23343785  2.43157098  0.63773936] with length 5\n",
        "last10PointsDistances = [ 1.86302031  4.27730443  1.23343785  2.43157098  0.63773936  0.        ] with length 6, shape (6,)\n",
        "len(last10PointsDistances) = 6, len(last5MinsDistances) = 5\n",
        "Too few points to make a decision, continuing\n",
        "------------------------------2015-08-22 15:30:24------------------------------\n",
        "last5MinsDistances = [ 3.07393938  5.08766351  0.54841684  3.72731259  1.16884378  1.72909114] with length 6"
       ]
      },
      {
       "output_type": "stream",
       "stream": "stdout",
       "text": [
        "\n",
        "last10PointsDistances = [ 3.07393938  5.08766351  0.54841684  3.72731259  1.16884378  1.72909114\n",
        "  0.        ] with length 7, shape (7,)\n",
        "len(last10PointsDistances) = 7, len(last5MinsDistances) = 6\n",
        "Too few points to make a decision, continuing\n",
        "------------------------------2015-08-22 15:30:56------------------------------\n",
        "last5MinsDistances = [ 1.03120182  3.20907213  1.51991621  1.68629312  1.06479679  1.16722546\n",
        "  2.04745632] with length 7\n",
        "last10PointsDistances = [ 1.03120182  3.20907213  1.51991621  1.68629312  1.06479679  1.16722546\n",
        "  2.04745632  0.        ] with length 8, shape (8,)\n",
        "len(last10PointsDistances) = 8, len(last5MinsDistances) = 7\n",
        "Too few points to make a decision, continuing\n",
        "------------------------------2015-08-22 15:31:28------------------------------\n",
        "last5MinsDistances = [ 5.67730097  7.86775287  3.23654464  6.30048509  3.66372484  3.91398883\n",
        "  2.80544731  4.71318702] with length 8\n",
        "last10PointsDistances = [ 5.67730097  7.86775287  3.23654464  6.30048509  3.66372484  3.91398883\n",
        "  2.80544731  4.71318702  0.        ] with length 9, shape (9,)\n",
        "len(last10PointsDistances) = 9, len(last5MinsDistances) = 8\n",
        "last5MinsDistances.max() = 7.8677528729, last10PointsDistance.max() = 7.8677528729\n",
        "Found trip end at 2015-08-22 15:27:16\n",
        "------------------------------2015-08-22 15:31:44------------------------------\n",
        "last5MinsDistances = [] with length 0\n",
        "last10PointsDistances = [ 0.] with length 1, shape (1,)\n",
        "len(last10PointsDistances) = 1, len(last5MinsDistances) = 0\n",
        "Too few points to make a decision, continuing\n",
        "------------------------------2015-08-22 15:40:26------------------------------\n",
        "last5MinsDistances = [] with length 0\n",
        "last10PointsDistances = [ 123.50268079    0.        ] with length 2, shape (2,)\n",
        "len(last10PointsDistances) = 2, len(last5MinsDistances) = 0\n",
        "Too few points to make a decision, continuing\n",
        "------------------------------2015-08-22 15:49:01------------------------------\n",
        "last5MinsDistances = [] with length 0\n",
        "last10PointsDistances = [   6.01689023  126.87520994    0.        ] with length 3, shape (3,)\n",
        "len(last10PointsDistances) = 3, len(last5MinsDistances) = 0\n",
        "Too few points to make a decision, continuing\n",
        "------------------------------2015-08-22 15:49:36------------------------------\n",
        "last5MinsDistances = [ 2.36490861] with length 1\n",
        "last10PointsDistances = [   6.32856284  124.86948742    2.36490861    0.        ] with length 4, shape (4,)\n",
        "len(last10PointsDistances) = 4, len(last5MinsDistances) = 1\n",
        "Too few points to make a decision, continuing\n",
        "------------------------------2015-08-22 15:50:08------------------------------\n",
        "last5MinsDistances = [ 15.64421813  14.98768539] with length 2\n",
        "last10PointsDistances = [  10.03648882  114.94510191   15.64421813   14.98768539    0.        ] with length 5, shape (5,)\n",
        "len(last10PointsDistances) = 5, len(last5MinsDistances) = 2\n",
        "Too few points to make a decision, continuing\n",
        "------------------------------2015-08-22 15:50:24------------------------------\n",
        "last5MinsDistances = [ 18.9451455   18.42709626   3.5292949 ] with length 3"
       ]
      },
      {
       "output_type": "stream",
       "stream": "stdout",
       "text": [
        "\n",
        "last10PointsDistances = [  13.14066624  113.53662733   18.9451455    18.42709626    3.5292949     0.        ] with length 6, shape (6,)\n",
        "len(last10PointsDistances) = 6, len(last5MinsDistances) = 3\n",
        "Too few points to make a decision, continuing\n",
        "------------------------------2015-08-22 15:50:56------------------------------\n",
        "last5MinsDistances = [ 129.23768205  127.29950616  116.77060795  115.17391033] with length 4\n",
        "last10PointsDistances = [ 125.60806243    7.00219977  129.23768205  127.29950616  116.77060795\n",
        "  115.17391033    0.        ] with length 7, shape (7,)\n",
        "len(last10PointsDistances) = 7, len(last5MinsDistances) = 4\n",
        "Too few points to make a decision, continuing\n",
        "------------------------------2015-08-22 15:51:28------------------------------\n",
        "last5MinsDistances = [ 236.50314327  234.89173643  222.16799552  219.79003343  113.49879647] with length 5\n",
        "last10PointsDistances = [ 231.90192849  118.73719402  236.50314327  234.89173643  222.16799552\n",
        "  219.79003343  113.49879647    0.        ] with length 8, shape (8,)\n",
        "len(last10PointsDistances) = 8, len(last5MinsDistances) = 5\n",
        "Too few points to make a decision, continuing\n",
        "------------------------------2015-08-22 15:52:00------------------------------\n",
        "last5MinsDistances = [ 325.76244671  324.38663972  310.70899308  307.97760668  208.56644773\n",
        "   96.21261561] with length 6\n",
        "last10PointsDistances = [ 320.68862726  214.18433041  325.76244671  324.38663972  310.70899308\n",
        "  307.97760668  208.56644773   96.21261561    0.        ] with length 9, shape (9,)\n",
        "len(last10PointsDistances) = 9, len(last5MinsDistances) = 6\n",
        "last5MinsDistances.max() = 325.762446708, last10PointsDistance.max() = 325.762446708\n",
        "------------------------------2015-08-22 15:52:32------------------------------\n",
        "last5MinsDistances = [ 427.3323038   426.07585192  412.03694276  409.15989469  312.61439165\n",
        "  200.21406556  104.11862688] with length 7\n",
        "last10PointsDistances = [ 318.28046032  427.3323038   426.07585192  412.03694276  409.15989469\n",
        "  312.61439165  200.21406556  104.11862688    0.        ] with length 9, shape (9,)\n",
        "len(last10PointsDistances) = 9, len(last5MinsDistances) = 7\n",
        "last5MinsDistances.max() = 427.332303796, last10PointsDistance.max() = 427.332303796\n",
        "------------------------------2015-08-22 15:53:03------------------------------\n",
        "last5MinsDistances = [ 440.5784695   439.25382132  425.40661541  422.60354254  323.42539371\n",
        "  210.22668726  115.2734784    19.92186754] with length 8\n",
        "last10PointsDistances = [ 440.5784695   439.25382132  425.40661541  422.60354254  323.42539371\n",
        "  210.22668726  115.2734784    19.92186754    0.        ] with length 9, shape (9,)\n",
        "len(last10PointsDistances) = 9, len(last5MinsDistances) = 8\n",
        "last5MinsDistances.max() = 440.578469499, last10PointsDistance.max() = 440.578469499\n",
        "------------------------------2015-08-22 15:53:35------------------------------\n",
        "last5MinsDistances = [ 441.53760328  440.21392621  426.36377395  423.55953328  324.40627253\n",
        "  211.20960317  116.24672118   20.42727825    0.98413055] with length 9"
       ]
      },
      {
       "output_type": "stream",
       "stream": "stdout",
       "text": [
        "\n",
        "last10PointsDistances = [ 440.21392621  426.36377395  423.55953328  324.40627253  211.20960317\n",
        "  116.24672118   20.42727825    0.98413055    0.        ] with length 9, shape (9,)\n",
        "len(last10PointsDistances) = 9, len(last5MinsDistances) = 9\n",
        "last5MinsDistances.max() = 441.537603282, last10PointsDistance.max() = 440.213926214\n",
        "------------------------------2015-08-22 15:54:07------------------------------\n",
        "last5MinsDistances = [ 448.47181632  434.81422837  432.08176335  330.71042158  217.22516357\n",
        "  124.10539949   36.52891597   16.74264448   16.43540549] with length 9\n",
        "last10PointsDistances = [ 434.81422837  432.08176335  330.71042158  217.22516357  124.10539949\n",
        "   36.52891597   16.74264448   16.43540549    0.        ] with length 9, shape (9,)\n",
        "len(last10PointsDistances) = 9, len(last5MinsDistances) = 9\n",
        "last5MinsDistances.max() = 448.471816319, last10PointsDistance.max() = 434.814228368\n",
        "------------------------------2015-08-22 15:54:37------------------------------\n",
        "last5MinsDistances = [ 522.73001417  521.03819464  405.98918515  311.64456226  262.33275519\n",
        "  235.86978126  218.28732525  218.28193539  202.56702589] with length 9\n",
        "last10PointsDistances = [ 521.03819464  405.98918515  311.64456226  262.33275519  235.86978126\n",
        "  218.28732525  218.28193539  202.56702589    0.        ] with length 9, shape (9,)\n",
        "len(last10PointsDistances) = 9, len(last5MinsDistances) = 9\n",
        "last5MinsDistances.max() = 522.730014167, last10PointsDistance.max() = 521.038194637\n",
        "------------------------------2015-08-22 15:55:15------------------------------\n",
        "last5MinsDistances = [ 546.9783551   431.81321873  342.0377394   297.84486088  273.88622431\n",
        "  256.25319536  256.23893678  240.47022043   38.02130733] with length 9\n",
        "last10PointsDistances = [ 431.81321873  342.0377394   297.84486088  273.88622431  256.25319536\n",
        "  256.23893678  240.47022043   38.02130733    0.        ] with length 9, shape (9,)\n",
        "len(last10PointsDistances) = 9, len(last5MinsDistances) = 9\n",
        "last5MinsDistances.max() = 546.9783551, last10PointsDistance.max() = 431.813218728\n",
        "------------------------------2015-08-22 15:55:45------------------------------\n",
        "last5MinsDistances = [ 424.32003007  333.43415096  288.11103391  263.76304632  246.16374103\n",
        "  246.15395859  230.40944785   27.89347849   10.15171939] with length 9\n",
        "last10PointsDistances = [ 333.43415096  288.11103391  263.76304632  246.16374103  246.15395859\n",
        "  230.40944785   27.89347849   10.15171939    0.        ] with length 9, shape (9,)\n",
        "len(last10PointsDistances) = 9, len(last5MinsDistances) = 9\n",
        "last5MinsDistances.max() = 424.32003007, last10PointsDistance.max() = 333.434150964\n",
        "------------------------------2015-08-22 15:56:16------------------------------\n",
        "last5MinsDistances = [ 340.59908324  299.15232787  278.6290543   261.3149123   261.33418114\n",
        "  245.73681203   43.45407736   10.17405723   16.91320059] with length 9"
       ]
      },
      {
       "output_type": "stream",
       "stream": "stdout",
       "text": [
        "\n",
        "last10PointsDistances = [ 299.15232787  278.6290543   261.3149123   261.33418114  245.73681203\n",
        "   43.45407736   10.17405723   16.91320059    0.        ] with length 9, shape (9,)\n",
        "len(last10PointsDistances) = 9, len(last5MinsDistances) = 9\n",
        "last5MinsDistances.max() = 340.599083243, last10PointsDistance.max() = 299.152327868\n",
        "------------------------------2015-08-22 15:56:42------------------------------\n",
        "last5MinsDistances = [ 316.58229511  296.07524168  278.64560515  278.65162565  262.98012594\n",
        "   60.43179466   23.06934659   32.7608789    17.70092958] with length 9\n",
        "last10PointsDistances = [ 296.07524168  278.64560515  278.65162565  262.98012594   60.43179466\n",
        "   23.06934659   32.7608789    17.70092958    0.        ] with length 9, shape (9,)\n",
        "len(last10PointsDistances) = 9, len(last5MinsDistances) = 9\n",
        "last5MinsDistances.max() = 316.582295108, last10PointsDistance.max() = 296.07524168\n",
        "------------------------------2015-08-22 15:57:13------------------------------\n",
        "last5MinsDistances = [ 331.90001275  313.81321747  313.74340238  297.7247917    97.0207952\n",
        "   59.72165809   69.71578714   58.51270776   41.87873778] with length 9\n",
        "last10PointsDistances = [ 313.81321747  313.74340238  297.7247917    97.0207952    59.72165809\n",
        "   69.71578714   58.51270776   41.87873778    0.        ] with length 9, shape (9,)\n",
        "len(last10PointsDistances) = 9, len(last5MinsDistances) = 9\n",
        "last5MinsDistances.max() = 331.900012748, last10PointsDistance.max() = 313.813217471\n",
        "------------------------------2015-08-22 15:57:45------------------------------\n",
        "last5MinsDistances = [ 327.67424686  327.42174057  310.99473387  128.55621793  100.48151611\n",
        "  107.79134898  104.92007217   93.76476477   61.88642545] with length 9\n",
        "last10PointsDistances = [ 327.42174057  310.99473387  128.55621793  100.48151611  107.79134898\n",
        "  104.92007217   93.76476477   61.88642545    0.        ] with length 9, shape (9,)\n",
        "len(last10PointsDistances) = 9, len(last5MinsDistances) = 9\n",
        "last5MinsDistances.max() = 327.674246858, last10PointsDistance.max() = 327.421740566\n",
        "------------------------------2015-08-22 15:58:17------------------------------\n",
        "last5MinsDistances = [ 326.41546994  310.01755698  142.90034948  120.98826536  126.58733236\n",
        "  127.21837498  118.86764464   91.95955507   31.7130132 ] with length 9\n",
        "last10PointsDistances = [ 310.01755698  142.90034948  120.98826536  126.58733236  127.21837498\n",
        "  118.86764464   91.95955507   31.7130132     0.        ] with length 9, shape (9,)\n",
        "len(last10PointsDistances) = 9, len(last5MinsDistances) = 9\n",
        "last5MinsDistances.max() = 326.415469944, last10PointsDistance.max() = 310.017556981\n",
        "------------------------------2015-08-22 15:58:33------------------------------\n",
        "last5MinsDistances = [ 340.05083402  323.95503405  178.67390816  162.30210034  166.5231624\n",
        "  169.5786314   163.05176377  138.20893708   77.56239384   46.28439027] with length 10"
       ]
      },
      {
       "output_type": "stream",
       "stream": "stdout",
       "text": [
        "\n",
        "last10PointsDistances = [ 178.67390816  162.30210034  166.5231624   169.5786314   163.05176377\n",
        "  138.20893708   77.56239384   46.28439027    0.        ] with length 9, shape (9,)\n",
        "len(last10PointsDistances) = 9, len(last5MinsDistances) = 10\n",
        "last5MinsDistances.max() = 340.050834021, last10PointsDistance.max() = 178.673908155\n",
        "------------------------------2015-08-22 15:59:05------------------------------\n",
        "last5MinsDistances = [ 344.97265182  214.2655452   200.15020868  203.8760296   207.7282481\n",
        "  201.69830345  176.83989573  115.68371712   84.88879733   38.83387939] with length 10\n",
        "last10PointsDistances = [ 200.15020868  203.8760296   207.7282481   201.69830345  176.83989573\n",
        "  115.68371712   84.88879733   38.83387939    0.        ] with length 9, shape (9,)\n",
        "len(last10PointsDistances) = 9, len(last5MinsDistances) = 10\n",
        "last5MinsDistances.max() = 344.972651822, last10PointsDistance.max() = 207.728248099\n",
        "------------------------------2015-08-22 15:59:37------------------------------\n",
        "last5MinsDistances = [ 226.40086375  213.11415969  216.64828518  220.81079981  215.01651167\n",
        "  190.38255376  129.20769591   98.42972115   52.32671968   13.54327039] with length 10\n",
        "last10PointsDistances = [ 216.64828518  220.81079981  215.01651167  190.38255376  129.20769591\n",
        "   98.42972115   52.32671968   13.54327039    0.        ] with length 9, shape (9,)\n",
        "len(last10PointsDistances) = 9, len(last5MinsDistances) = 10\n",
        "last5MinsDistances.max() = 226.400863748, last10PointsDistance.max() = 220.810799809\n",
        "------------------------------2015-08-22 16:00:08------------------------------\n",
        "last5MinsDistances = [ 242.1541985   247.05399795  248.75710307  240.40791919  210.00980838\n",
        "  148.39418575  121.6627777    81.60410284   51.2032458    45.10654917] with length 10\n",
        "last10PointsDistances = [ 248.75710307  240.40791919  210.00980838  148.39418575  121.6627777\n",
        "   81.60410284   51.2032458    45.10654917    0.        ] with length 9, shape (9,)\n",
        "len(last10PointsDistances) = 9, len(last5MinsDistances) = 10\n",
        "last5MinsDistances.max() = 248.757103069, last10PointsDistance.max() = 248.757103069\n",
        "------------------------------2015-08-22 16:00:40------------------------------\n",
        "last5MinsDistances = [ 243.72949661  245.67214114  237.56239933  207.68286815  145.94859123\n",
        "  118.72658086   77.89227223   46.65398843   40.35538644    4.75323761] with length 10\n",
        "last10PointsDistances = [ 237.56239933  207.68286815  145.94859123  118.72658086   77.89227223\n",
        "   46.65398843   40.35538644    4.75323761    0.        ] with length 9, shape (9,)\n",
        "len(last10PointsDistances) = 9, len(last5MinsDistances) = 10\n",
        "last5MinsDistances.max() = 245.672141142, last10PointsDistance.max() = 237.562399329\n",
        "------------------------------2015-08-22 16:01:12------------------------------\n",
        "last5MinsDistances = [ 242.64776337  234.15103983  203.53559096  141.96775778  115.48698349\n",
        "   76.18200865   47.71805409   43.22560031    6.59588961    6.75681922] with length 10"
       ]
      },
      {
       "output_type": "stream",
       "stream": "stdout",
       "text": [
        "\n",
        "last10PointsDistances = [ 203.53559096  141.96775778  115.48698349   76.18200865   47.71805409\n",
        "   43.22560031    6.59588961    6.75681922    0.        ] with length 9, shape (9,)\n",
        "len(last10PointsDistances) = 9, len(last5MinsDistances) = 10\n",
        "last5MinsDistances.max() = 242.647763365, last10PointsDistance.max() = 203.53559096\n",
        "------------------------------2015-08-22 16:01:42------------------------------\n",
        "last5MinsDistances = [ 204.43163079  142.89739163  116.52674475   77.37706558   48.98900839\n",
        "   44.41923045    5.99100916    7.05609656    1.27517439] with length 9\n",
        "last10PointsDistances = [ 142.89739163  116.52674475   77.37706558   48.98900839   44.41923045\n",
        "    5.99100916    7.05609656    1.27517439    0.        ] with length 9, shape (9,)\n",
        "len(last10PointsDistances) = 9, len(last5MinsDistances) = 9\n",
        "last5MinsDistances.max() = 204.431630787, last10PointsDistance.max() = 142.897391633\n",
        "------------------------------2015-08-22 16:02:13------------------------------\n",
        "last5MinsDistances = [ 203.25729953  141.61622425  114.85521053   75.05021666   45.92096745\n",
        "   41.17509538    6.8109956     5.45651492    2.13565113    3.24844603] with length 10\n",
        "last10PointsDistances = [ 114.85521053   75.05021666   45.92096745   41.17509538    6.8109956\n",
        "    5.45651492    2.13565113    3.24844603    0.        ] with length 9, shape (9,)\n",
        "len(last10PointsDistances) = 9, len(last5MinsDistances) = 10\n",
        "last5MinsDistances.max() = 203.257299532, last10PointsDistance.max() = 114.855210534\n",
        "------------------------------2015-08-22 16:02:45------------------------------\n",
        "last5MinsDistances = [ 141.50147921  114.71063671   74.85620984   45.67241299   40.91636193\n",
        "    6.95214274    5.40982207    2.3839113     3.50668576    0.25875177] with length 10\n",
        "last10PointsDistances = [ 74.85620984  45.67241299  40.91636193   6.95214274   5.40982207\n",
        "   2.3839113    3.50668576   0.25875177   0.        ] with length 9, shape (9,)\n",
        "len(last10PointsDistances) = 9, len(last5MinsDistances) = 10\n",
        "last5MinsDistances.max() = 141.501479213, last10PointsDistance.max() = 74.8562098369\n",
        "------------------------------2015-08-22 16:03:17------------------------------\n",
        "last5MinsDistances = [ 117.8620519    78.52350725   49.66455642   44.72582278    4.56064113\n",
        "    6.22894609    2.38158421    1.45145712    3.74740069    3.99324339] with length 10\n",
        "last10PointsDistances = [ 49.66455642  44.72582278   4.56064113   6.22894609   2.38158421\n",
        "   1.45145712   3.74740069   3.99324339   0.        ] with length 9, shape (9,)\n",
        "len(last10PointsDistances) = 9, len(last5MinsDistances) = 10\n",
        "last5MinsDistances.max() = 117.862051901, last10PointsDistance.max() = 49.66455642"
       ]
      },
      {
       "output_type": "stream",
       "stream": "stdout",
       "text": [
        "\n",
        "------------------------------2015-08-22 16:03:33------------------------------\n",
        "last5MinsDistances = [ 75.26709756  46.05602734  41.24037466   6.56273747   5.22548125\n",
        "   2.16175058   3.20768369   0.26023445   0.41182875   3.60906349] with length 10\n",
        "last10PointsDistances = [ 41.24037466   6.56273747   5.22548125   2.16175058   3.20768369\n",
        "   0.26023445   0.41182875   3.60906349   0.        ] with length 9, shape (9,)\n",
        "len(last10PointsDistances) = 9, len(last5MinsDistances) = 10\n",
        "last5MinsDistances.max() = 75.2670975591, last10PointsDistance.max() = 41.2403746591\n",
        "Found trip end at 2015-08-22 15:58:33\n",
        "------------------------------2015-08-22 16:04:05------------------------------\n",
        "last5MinsDistances = [] with length 0\n",
        "last10PointsDistances = [ 0.] with length 1, shape (1,)\n",
        "len(last10PointsDistances) = 1, len(last5MinsDistances) = 0\n",
        "Too few points to make a decision, continuing\n",
        "------------------------------2015-08-22 16:04:36------------------------------\n",
        "last5MinsDistances = [ 6.01181724] with length 1\n",
        "last10PointsDistances = [ 6.01181724  0.        ] with length 2, shape (2,)\n",
        "len(last10PointsDistances) = 2, len(last5MinsDistances) = 1\n",
        "Too few points to make a decision, continuing\n",
        "------------------------------2015-08-22 16:05:24------------------------------\n",
        "last5MinsDistances = [ 1.54270479  5.01710455] with length 2\n",
        "last10PointsDistances = [ 1.54270479  5.01710455  0.        ] with length 3, shape (3,)\n",
        "len(last10PointsDistances) = 3, len(last5MinsDistances) = 2\n",
        "Too few points to make a decision, continuing\n",
        "------------------------------2015-08-22 16:05:40------------------------------\n",
        "last5MinsDistances = [ 4.58413438  2.94352196  4.37101312] with length 3\n",
        "last10PointsDistances = [ 4.58413438  2.94352196  4.37101312  0.        ] with length 4, shape (4,)\n",
        "len(last10PointsDistances) = 4, len(last5MinsDistances) = 3\n",
        "Too few points to make a decision, continuing\n",
        "------------------------------2015-08-22 16:06:12------------------------------\n",
        "last5MinsDistances = [ 0.42484337  5.59803307  1.35604981  4.17683152] with length 4\n",
        "last10PointsDistances = [ 0.42484337  5.59803307  1.35604981  4.17683152  0.        ] with length 5, shape (5,)\n",
        "len(last10PointsDistances) = 5, len(last5MinsDistances) = 4\n",
        "Too few points to make a decision, continuing\n",
        "------------------------------2015-08-22 16:06:42------------------------------\n",
        "last5MinsDistances = [ 3.81782189  5.59938403  4.56000531  2.74095936  3.57457643] with length 5\n",
        "last10PointsDistances = [ 3.81782189  5.59938403  4.56000531  2.74095936  3.57457643  0.        ] with length 6, shape (6,)\n",
        "len(last10PointsDistances) = 6, len(last5MinsDistances) = 5\n",
        "Too few points to make a decision, continuing\n",
        "------------------------------2015-08-22 16:07:13------------------------------\n",
        "last5MinsDistances = [ 0.62405078  5.88977313  1.93002318  4.18705597  0.57487501  3.20681424] with length 6"
       ]
      },
      {
       "output_type": "stream",
       "stream": "stdout",
       "text": [
        "\n",
        "last10PointsDistances = [ 0.62405078  5.88977313  1.93002318  4.18705597  0.57487501  3.20681424\n",
        "  0.        ] with length 7, shape (7,)\n",
        "len(last10PointsDistances) = 7, len(last5MinsDistances) = 6\n",
        "Too few points to make a decision, continuing\n",
        "------------------------------2015-08-22 16:07:45------------------------------\n",
        "last5MinsDistances = [ 3.81782189  5.59938403  4.56000531  2.74095936  3.57457643  0.\n",
        "  3.20681424] with length 7\n",
        "last10PointsDistances = [ 3.81782189  5.59938403  4.56000531  2.74095936  3.57457643  0.\n",
        "  3.20681424  0.        ] with length 8, shape (8,)\n",
        "len(last10PointsDistances) = 8, len(last5MinsDistances) = 7\n",
        "Too few points to make a decision, continuing\n",
        "------------------------------2015-08-22 16:08:17------------------------------\n",
        "last5MinsDistances = [ 7.67448181  2.42562678  7.00349001  3.38795554  7.25000239  5.99095493\n",
        "  7.39062719  5.99095493] with length 8\n",
        "last10PointsDistances = [ 7.67448181  2.42562678  7.00349001  3.38795554  7.25000239  5.99095493\n",
        "  7.39062719  5.99095493  0.        ] with length 9, shape (9,)\n",
        "len(last10PointsDistances) = 9, len(last5MinsDistances) = 8\n",
        "last5MinsDistances.max() = 7.67448181157, last10PointsDistance.max() = 7.67448181157\n",
        "Found trip end at 2015-08-22 16:04:05\n",
        "------------------------------2015-08-22 16:08:49------------------------------\n",
        "last5MinsDistances = [] with length 0\n",
        "last10PointsDistances = [ 0.] with length 1, shape (1,)\n",
        "len(last10PointsDistances) = 1, len(last5MinsDistances) = 0\n",
        "Too few points to make a decision, continuing\n",
        "------------------------------2015-08-22 16:39:36------------------------------\n",
        "last5MinsDistances = [] with length 0\n",
        "last10PointsDistances = [ 137.9316053    0.       ] with length 2, shape (2,)\n",
        "len(last10PointsDistances) = 2, len(last5MinsDistances) = 0\n",
        "Too few points to make a decision, continuing\n",
        "------------------------------2015-08-22 16:39:49------------------------------\n",
        "last5MinsDistances = [ 102.04951433] with length 1\n",
        "last10PointsDistances = [ 131.59175488  102.04951433    0.        ] with length 3, shape (3,)\n",
        "len(last10PointsDistances) = 3, len(last5MinsDistances) = 1\n",
        "Too few points to make a decision, continuing\n",
        "------------------------------2015-08-22 16:39:55------------------------------\n",
        "last5MinsDistances = [ 40.73388943  68.16598029] with length 2\n",
        "last10PointsDistances = [ 108.64439566   40.73388943   68.16598029    0.        ] with length 4, shape (4,)\n",
        "len(last10PointsDistances) = 4, len(last5MinsDistances) = 2\n",
        "Too few points to make a decision, continuing\n",
        "------------------------------2015-08-22 16:40:01------------------------------\n",
        "last5MinsDistances = [ 35.12132754  70.73202029   6.4037941 ] with length 3\n",
        "last10PointsDistances = [ 114.50102903   35.12132754   70.73202029    6.4037941     0.        ] with length 5, shape (5,)\n",
        "len(last10PointsDistances) = 5, len(last5MinsDistances) = 3\n",
        "Too few points to make a decision, continuing\n",
        "------------------------------2015-08-22 16:40:06------------------------------\n",
        "last5MinsDistances = [ 29.24624545  74.52266494  12.95560863   6.5762215 ] with length 4"
       ]
      },
      {
       "output_type": "stream",
       "stream": "stdout",
       "text": [
        "\n",
        "last10PointsDistances = [ 120.22857984   29.24624545   74.52266494   12.95560863    6.5762215     0.        ] with length 6, shape (6,)\n",
        "len(last10PointsDistances) = 6, len(last5MinsDistances) = 4\n",
        "Too few points to make a decision, continuing\n",
        "------------------------------2015-08-22 16:40:12------------------------------\n",
        "last5MinsDistances = [ 22.13600571  79.99266737  21.95831667  15.57571109   9.00334457] with length 5\n",
        "last10PointsDistances = [ 128.37684151   22.13600571   79.99266737   21.95831667   15.57571109\n",
        "    9.00334457    0.        ] with length 7, shape (7,)\n",
        "len(last10PointsDistances) = 7, len(last5MinsDistances) = 5\n",
        "Too few points to make a decision, continuing\n",
        "------------------------------2015-08-22 16:40:17------------------------------\n",
        "last5MinsDistances = [ 20.68108045  82.52478457  29.56015125  23.16420238  16.73343067\n",
        "   8.12208018] with length 6\n",
        "last10PointsDistances = [ 136.49882137   20.68108045   82.52478457   29.56015125   23.16420238\n",
        "   16.73343067    8.12208018    0.        ] with length 8, shape (8,)\n",
        "len(last10PointsDistances) = 8, len(last5MinsDistances) = 6\n",
        "Too few points to make a decision, continuing\n",
        "------------------------------2015-08-22 16:40:22------------------------------\n",
        "last5MinsDistances = [ 16.895476    88.62060762  35.76661691  29.36810598  22.81753249\n",
        "  13.83683568   6.73716444] with length 7\n",
        "last10PointsDistances = [ 141.52562448   16.895476     88.62060762   35.76661691   29.36810598\n",
        "   22.81753249   13.83683568    6.73716444    0.        ] with length 9, shape (9,)\n",
        "len(last10PointsDistances) = 9, len(last5MinsDistances) = 7\n",
        "last5MinsDistances.max() = 88.6206076218, last10PointsDistance.max() = 141.525624483\n",
        "------------------------------2015-08-22 16:40:27------------------------------\n",
        "last5MinsDistances = [ 16.57367384  92.00012667  39.97216261  33.57784921  27.01799943\n",
        "  18.02229781  10.89837864   4.23446397] with length 8\n",
        "last10PointsDistances = [ 16.57367384  92.00012667  39.97216261  33.57784921  27.01799943\n",
        "  18.02229781  10.89837864   4.23446397   0.        ] with length 9, shape (9,)\n",
        "len(last10PointsDistances) = 9, len(last5MinsDistances) = 8\n",
        "last5MinsDistances.max() = 92.0001266714, last10PointsDistance.max() = 92.0001266714\n",
        "Found trip end at 2015-08-22 16:39:36\n",
        "------------------------------2015-08-22 16:40:32------------------------------\n",
        "last5MinsDistances = [] with length 0\n",
        "last10PointsDistances = [ 0.] with length 1, shape (1,)\n",
        "len(last10PointsDistances) = 1, len(last5MinsDistances) = 0\n",
        "Too few points to make a decision, continuing\n",
        "------------------------------2015-08-22 16:40:37------------------------------\n",
        "last5MinsDistances = [ 7.90049176] with length 1"
       ]
      },
      {
       "output_type": "stream",
       "stream": "stdout",
       "text": [
        "\n",
        "last10PointsDistances = [ 7.90049176  0.        ] with length 2, shape (2,)\n",
        "len(last10PointsDistances) = 2, len(last5MinsDistances) = 1\n",
        "Too few points to make a decision, continuing\n",
        "------------------------------2015-08-22 16:40:43------------------------------\n",
        "last5MinsDistances = [ 13.77395209   6.18739046] with length 2\n",
        "last10PointsDistances = [ 13.77395209   6.18739046   0.        ] with length 3, shape (3,)\n",
        "len(last10PointsDistances) = 3, len(last5MinsDistances) = 2\n",
        "Too few points to make a decision, continuing\n",
        "------------------------------2015-08-22 16:40:48------------------------------\n",
        "last5MinsDistances = [ 18.91590635  11.25055292   5.1419648 ] with length 3\n",
        "last10PointsDistances = [ 18.91590635  11.25055292   5.1419648    0.        ] with length 4, shape (4,)\n",
        "len(last10PointsDistances) = 4, len(last5MinsDistances) = 3\n",
        "Too few points to make a decision, continuing\n",
        "------------------------------2015-08-22 16:40:53------------------------------\n",
        "last5MinsDistances = [ 23.4759309   15.68566629   9.74419516   4.68511257] with length 4\n",
        "last10PointsDistances = [ 23.4759309   15.68566629   9.74419516   4.68511257   0.        ] with length 5, shape (5,)\n",
        "len(last10PointsDistances) = 5, len(last5MinsDistances) = 4\n",
        "Too few points to make a decision, continuing\n",
        "------------------------------2015-08-22 16:40:58------------------------------\n",
        "last5MinsDistances = [ 29.39454316  21.56885119  15.68207865  10.60635349   5.93867981] with length 5\n",
        "last10PointsDistances = [ 29.39454316  21.56885119  15.68207865  10.60635349   5.93867981   0.        ] with length 6, shape (6,)\n",
        "len(last10PointsDistances) = 6, len(last5MinsDistances) = 5\n",
        "Too few points to make a decision, continuing\n",
        "------------------------------2015-08-22 16:41:03------------------------------\n",
        "last5MinsDistances = [ 35.49927153  27.61977495  21.89332198  16.88720841  12.20211904\n",
        "   6.34489471] with length 6\n",
        "last10PointsDistances = [ 35.49927153  27.61977495  21.89332198  16.88720841  12.20211904\n",
        "   6.34489471   0.        ] with length 7, shape (7,)\n",
        "len(last10PointsDistances) = 7, len(last5MinsDistances) = 6\n",
        "Too few points to make a decision, continuing\n",
        "------------------------------2015-08-22 16:41:08------------------------------\n",
        "last5MinsDistances = [ 42.02360254  34.18410555  28.30676487  23.20514076  18.56340466\n",
        "  12.6306811    6.78022883] with length 7\n",
        "last10PointsDistances = [ 42.02360254  34.18410555  28.30676487  23.20514076  18.56340466\n",
        "  12.6306811    6.78022883   0.        ] with length 8, shape (8,)\n",
        "len(last10PointsDistances) = 8, len(last5MinsDistances) = 7\n",
        "Too few points to make a decision, continuing\n",
        "------------------------------2015-08-22 16:41:13------------------------------\n",
        "last5MinsDistances = [ 47.83027938  40.04453965  34.06550347  28.92984182  24.36319152\n",
        "  18.49116461  12.89648741   6.13134647] with length 8"
       ]
      },
      {
       "output_type": "stream",
       "stream": "stdout",
       "text": [
        "\n",
        "last10PointsDistances = [ 47.83027938  40.04453965  34.06550347  28.92984182  24.36319152\n",
        "  18.49116461  12.89648741   6.13134647   0.        ] with length 9, shape (9,)\n",
        "len(last10PointsDistances) = 9, len(last5MinsDistances) = 8\n",
        "last5MinsDistances.max() = 47.8302793802, last10PointsDistance.max() = 47.8302793802\n",
        "Found trip end at 2015-08-22 16:40:32\n",
        "------------------------------2015-08-22 16:41:18------------------------------\n",
        "last5MinsDistances = [] with length 0\n",
        "last10PointsDistances = [ 0.] with length 1, shape (1,)\n",
        "len(last10PointsDistances) = 1, len(last5MinsDistances) = 0\n",
        "Too few points to make a decision, continuing\n",
        "------------------------------2015-08-22 16:41:24------------------------------\n",
        "last5MinsDistances = [ 5.45827332] with length 1\n",
        "last10PointsDistances = [ 5.45827332  0.        ] with length 2, shape (2,)\n",
        "len(last10PointsDistances) = 2, len(last5MinsDistances) = 1\n",
        "Too few points to make a decision, continuing\n",
        "------------------------------2015-08-22 16:41:29------------------------------\n",
        "last5MinsDistances = [ 13.35708221   7.98618431] with length 2\n",
        "last10PointsDistances = [ 13.35708221   7.98618431   0.        ] with length 3, shape (3,)\n",
        "len(last10PointsDistances) = 3, len(last5MinsDistances) = 2\n",
        "Too few points to make a decision, continuing\n",
        "------------------------------2015-08-22 16:41:35------------------------------\n",
        "last5MinsDistances = [ 21.75678875  16.31188549   8.50287856] with length 3\n",
        "last10PointsDistances = [ 21.75678875  16.31188549   8.50287856   0.        ] with length 4, shape (4,)\n",
        "len(last10PointsDistances) = 4, len(last5MinsDistances) = 3\n",
        "Too few points to make a decision, continuing\n",
        "------------------------------2015-08-22 16:41:40------------------------------\n",
        "last5MinsDistances = [ 27.03052099  21.57755925  13.80127371   5.29869793] with length 4\n",
        "last10PointsDistances = [ 27.03052099  21.57755925  13.80127371   5.29869793   0.        ] with length 5, shape (5,)\n",
        "len(last10PointsDistances) = 5, len(last5MinsDistances) = 4\n",
        "Too few points to make a decision, continuing\n",
        "------------------------------2015-08-22 16:41:45------------------------------\n",
        "last5MinsDistances = [ 31.079067    25.66105856  17.73097027   9.41170755   4.54091442] with length 5\n",
        "last10PointsDistances = [ 31.079067    25.66105856  17.73097027   9.41170755   4.54091442   0.        ] with length 6, shape (6,)\n",
        "len(last10PointsDistances) = 6, len(last5MinsDistances) = 5\n",
        "Too few points to make a decision, continuing\n",
        "------------------------------2015-08-22 16:41:50------------------------------\n",
        "last5MinsDistances = [ 36.03496481  30.59109088  22.73152681  14.27927565   9.04529467\n",
        "   5.16480298] with length 6\n",
        "last10PointsDistances = [ 36.03496481  30.59109088  22.73152681  14.27927565   9.04529467\n",
        "   5.16480298   0.        ] with length 7, shape (7,)\n",
        "len(last10PointsDistances) = 7, len(last5MinsDistances) = 6\n",
        "Too few points to make a decision, continuing\n",
        "------------------------------2015-08-22 16:41:55------------------------------\n",
        "last5MinsDistances = [ 41.3574082   35.93940578  28.0064015   19.66416511  14.53801597\n",
        "  10.27886099   5.61494289] with length 7"
       ]
      },
      {
       "output_type": "stream",
       "stream": "stdout",
       "text": [
        "\n",
        "last10PointsDistances = [ 41.3574082   35.93940578  28.0064015   19.66416511  14.53801597\n",
        "  10.27886099   5.61494289   0.        ] with length 8, shape (8,)\n",
        "len(last10PointsDistances) = 8, len(last5MinsDistances) = 7\n",
        "Too few points to make a decision, continuing\n",
        "------------------------------2015-08-22 16:42:01------------------------------\n",
        "last5MinsDistances = [ 42.6133043   37.21742466  29.2563266   21.00090756  15.96196665\n",
        "  11.5892034    7.19570026   1.72292493] with length 8\n",
        "last10PointsDistances = [ 42.6133043   37.21742466  29.2563266   21.00090756  15.96196665\n",
        "  11.5892034    7.19570026   1.72292493   0.        ] with length 9, shape (9,)\n",
        "len(last10PointsDistances) = 9, len(last5MinsDistances) = 8\n",
        "last5MinsDistances.max() = 42.613304305, last10PointsDistance.max() = 42.613304305\n",
        "Found trip end at 2015-08-22 16:41:18\n",
        "------------------------------2015-08-22 16:42:07------------------------------\n",
        "last5MinsDistances = [] with length 0\n",
        "last10PointsDistances = [ 0.] with length 1, shape (1,)\n",
        "len(last10PointsDistances) = 1, len(last5MinsDistances) = 0\n",
        "Too few points to make a decision, continuing\n",
        "------------------------------2015-08-22 16:42:13------------------------------\n",
        "last5MinsDistances = [ 0.65634408] with length 1\n",
        "last10PointsDistances = [ 0.65634408  0.        ] with length 2, shape (2,)\n",
        "len(last10PointsDistances) = 2, len(last5MinsDistances) = 1\n",
        "Too few points to make a decision, continuing\n",
        "------------------------------2015-08-22 16:42:19------------------------------\n",
        "last5MinsDistances = [ 3.74217325  3.15515322] with length 2\n",
        "last10PointsDistances = [ 3.74217325  3.15515322  0.        ] with length 3, shape (3,)\n",
        "len(last10PointsDistances) = 3, len(last5MinsDistances) = 2\n",
        "Too few points to make a decision, continuing\n",
        "------------------------------2015-08-22 16:42:25------------------------------\n",
        "last5MinsDistances = [ 4.48796122  4.2669662   3.03684853] with length 3\n",
        "last10PointsDistances = [ 4.48796122  4.2669662   3.03684853  0.        ] with length 4, shape (4,)\n",
        "len(last10PointsDistances) = 4, len(last5MinsDistances) = 3\n",
        "Too few points to make a decision, continuing\n",
        "------------------------------2015-08-22 16:42:31------------------------------\n",
        "last5MinsDistances = [ 3.4288768   3.02589167  1.48777685  1.65577458] with length 4\n",
        "last10PointsDistances = [ 3.4288768   3.02589167  1.48777685  1.65577458  0.        ] with length 5, shape (5,)\n",
        "len(last10PointsDistances) = 5, len(last5MinsDistances) = 4\n",
        "Too few points to make a decision, continuing\n",
        "------------------------------2015-08-22 16:42:42------------------------------\n",
        "last5MinsDistances = [ 3.04373829  2.40777188  0.97338902  3.63379536  1.97838129] with length 5\n",
        "last10PointsDistances = [ 3.04373829  2.40777188  0.97338902  3.63379536  1.97838129  0.        ] with length 6, shape (6,)\n",
        "len(last10PointsDistances) = 6, len(last5MinsDistances) = 5\n",
        "Too few points to make a decision, continuing\n",
        "------------------------------2015-08-22 16:42:48------------------------------\n",
        "last5MinsDistances = [ 21.6233755   22.10607291  25.19087657  25.81205214  25.04348314\n",
        "  24.29404357] with length 6"
       ]
      },
      {
       "output_type": "stream",
       "stream": "stdout",
       "text": [
        "\n",
        "last10PointsDistances = [ 21.6233755   22.10607291  25.19087657  25.81205214  25.04348314\n",
        "  24.29404357   0.        ] with length 7, shape (7,)\n",
        "len(last10PointsDistances) = 7, len(last5MinsDistances) = 6\n",
        "Too few points to make a decision, continuing\n",
        "------------------------------2015-08-22 16:42:53------------------------------\n",
        "last5MinsDistances = [ 21.88088675  22.35201774  25.42000258  26.10590872  25.30588174\n",
        "  24.51465058   0.61769415] with length 7\n",
        "last10PointsDistances = [ 21.88088675  22.35201774  25.42000258  26.10590872  25.30588174\n",
        "  24.51465058   0.61769415   0.        ] with length 8, shape (8,)\n",
        "len(last10PointsDistances) = 8, len(last5MinsDistances) = 7\n",
        "Too few points to make a decision, continuing\n"
       ]
      }
     ],
     "prompt_number": 28
    },
    {
     "cell_type": "code",
     "collapsed": false,
     "input": [
      "ipy.inline_map(lo.get_map(pd.DataFrame(my_segment_points_aug_22)))"
     ],
     "language": "python",
     "metadata": {},
     "outputs": [
      {
       "html": [
        "<iframe srcdoc=\"<!DOCTYPE html>\n",
        "<head>\n",
        "   <meta http-equiv=&quot;content-type&quot; content=&quot;text/html; charset=UTF-8&quot; />\n",
        "   <link rel=&quot;stylesheet&quot; href=&quot;https://cdnjs.cloudflare.com/ajax/libs/leaflet/0.7.3/leaflet.css&quot; />\n",
        "   <script src=&quot;https://cdnjs.cloudflare.com/ajax/libs/leaflet/0.7.3/leaflet.js&quot;></script>\n",
        "\n",
        "   <script src=&quot;https://ajax.googleapis.com/ajax/libs/jquery/1.11.1/jquery.min.js&quot;></script>\n",
        "\n",
        "   <link rel=&quot;stylesheet&quot; href=&quot;https://maxcdn.bootstrapcdn.com/bootstrap/3.2.0/css/bootstrap.min.css&quot;>\n",
        "   <link rel=&quot;stylesheet&quot; href=&quot;https://maxcdn.bootstrapcdn.com/bootstrap/3.2.0/css/bootstrap-theme.min.css&quot;>\n",
        "   <script src=&quot;https://maxcdn.bootstrapcdn.com/bootstrap/3.2.0/js/bootstrap.min.js&quot;></script>\n",
        "\n",
        "   <link href=&quot;https://maxcdn.bootstrapcdn.com/font-awesome/4.1.0/css/font-awesome.min.css&quot; rel=&quot;stylesheet&quot;>\n",
        "\n",
        "   <link rel=&quot;stylesheet&quot; href=&quot;https://rawgit.com/lvoogdt/Leaflet.awesome-markers/2.0/develop/dist/leaflet.awesome-markers.css&quot;>\n",
        "   <script src=&quot;https://rawgithub.com/lvoogdt/Leaflet.awesome-markers/2.0/develop/dist/leaflet.awesome-markers.js&quot;></script>\n",
        "\n",
        "\n",
        "   <link rel=&quot;stylesheet&quot; href=&quot;https://cdnjs.cloudflare.com/ajax/libs/leaflet.markercluster/0.4.0/MarkerCluster.Default.css&quot;>\n",
        "   <link rel=&quot;stylesheet&quot; href=&quot;https://cdnjs.cloudflare.com/ajax/libs/leaflet.markercluster/0.4.0/MarkerCluster.css&quot;>\n",
        "   <script src=&quot;https://cdnjs.cloudflare.com/ajax/libs/leaflet.markercluster/0.4.0/leaflet.markercluster-src.js&quot;></script>\n",
        "   <script src=&quot;https://cdnjs.cloudflare.com/ajax/libs/leaflet.markercluster/0.4.0/leaflet.markercluster.js&quot;></script>\n",
        "\n",
        "   <link rel=&quot;stylesheet&quot; href=&quot;https://birdage.github.io/Leaflet.awesome-markers/dist/leaflet.awesome.rotate.css&quot;>\n",
        "\n",
        "   \n",
        "   \n",
        "   \n",
        "   \n",
        "\n",
        "   <style>\n",
        "\n",
        "      html, body {\n",
        "        width: 100%;\n",
        "        height: 100%;\n",
        "        margin: 0;\n",
        "        padding: 0;\n",
        "      }\n",
        "\n",
        "      #map {\n",
        "        position:absolute;\n",
        "        top:0;\n",
        "        bottom:0;\n",
        "        right:0;\n",
        "        left:0;\n",
        "      }\n",
        "\n",
        "   </style>\n",
        "</head>\n",
        "\n",
        "<body>\n",
        "\n",
        "   <div class=&quot;folium-map&quot; id=&quot;folium_96a27ec90e8c4be2a177fb7429e3c308&quot; style=&quot;width: 100%; height: 100%&quot;></div>\n",
        "\n",
        "   <script>\n",
        "\n",
        "      \n",
        "\n",
        "      var base_tile = L.tileLayer('https://{s}.tile.openstreetmap.org/{z}/{x}/{y}.png', {\n",
        "          maxZoom: 18,\n",
        "          minZoom: 1,\n",
        "          attribution: 'Map data (c) <a href=&quot;http://openstreetmap.org&quot;>OpenStreetMap</a> contributors'\n",
        "      });\n",
        "\n",
        "      var baseLayer = {\n",
        "        &quot;Base Layer&quot;: base_tile\n",
        "      };\n",
        "\n",
        "      /*\n",
        "      addition of the wms layers\n",
        "      */\n",
        "\n",
        "      \n",
        "\n",
        "      /*\n",
        "      addition of the tile layers\n",
        "      */\n",
        "      \n",
        "\n",
        "      /*\n",
        "      list of layers to be added\n",
        "      */\n",
        "      var layer_list = {\n",
        "      \n",
        "      };\n",
        "\n",
        "      /*\n",
        "      Bounding box.\n",
        "      */\n",
        "      var southWest = L.latLng(-90, -180),\n",
        "          northEast = L.latLng(90, 180),\n",
        "          bounds = L.latLngBounds(southWest, northEast);\n",
        "\n",
        "      /*\n",
        "      Creates the map and adds the selected layers\n",
        "      */\n",
        "      var map = L.map('folium_96a27ec90e8c4be2a177fb7429e3c308', {\n",
        "                                       center:[37.3911348643, -122.087927121],\n",
        "                                       zoom: 10,\n",
        "                                       maxBounds: bounds,\n",
        "                                       layers: [base_tile]\n",
        "                                     });\n",
        "\n",
        "      L.control.layers(baseLayer, layer_list).addTo(map);\n",
        "\n",
        "      //cluster group\n",
        "      var clusteredmarkers = L.markerClusterGroup();\n",
        "      //section for adding clustered markers\n",
        "      \n",
        "      //add the clustered markers to the group anyway\n",
        "      map.addLayer(clusteredmarkers);\n",
        "\n",
        "      \n",
        "\n",
        "      \n",
        "      var div_marker_1_0_icon = L.divIcon({className: 'leaflet-div-icon', 'iconSize': [5,5]});\n",
        "      var div_marker_1_0 = L.marker([37.3916113, \n",
        "\t\t\t\t\t\t\t-122.0891742],\n",
        "\t\t\t\t\t\t\t{'icon':div_marker_1_0_icon}\n",
        "\t\t\t\t\t\t\t);\n",
        "      div_marker_1_0.bindPopup(&quot;{u'mProvider': u'fused', 'speed': 4.914740782000357, 'formatted_time': Timestamp('2015-08-22 11:04:55'), u'mHasAccuracy': True, u'mHasAltitude': False, u'write_ts': 1440266697774, u'mLat1': 0, u'mDistance': 0, u'mLat2': 0, u'platform': u'android', u'mAccuracy': 51.188, u'mLon1': 0, u'mLon2': 0, u'type': u'message', u'mLatitude': 37.3916113, u'mAltitude': 0.0, u'mExtras': nan, u'mSpeed': 0.0, u'key': u'background/location', u'mInitialBearing': 0, u'mHasSpeed': False, 'distance': 161.74411913563173, u'read_ts': 0, u'mElapsedRealtimeNanos': 162225743000000, u'mResults': [0, 0], 'idx': 0.0, u'mBearing': 0, u'mLongitude': -122.0891742, u'mIsFromMockProvider': False, u'filter': u'time', u'mTime': 1440266695200, u'mHasBearing': False}&quot;);\n",
        "      div_marker_1_0._popup.options.maxWidth = 300;\n",
        "      map.addLayer(div_marker_1_0)\n",
        "      \n",
        "      var div_marker_1_1_icon = L.divIcon({className: 'leaflet-div-icon', 'iconSize': [5,5]});\n",
        "      var div_marker_1_1 = L.marker([37.3939012, \n",
        "\t\t\t\t\t\t\t-122.0960155],\n",
        "\t\t\t\t\t\t\t{'icon':div_marker_1_1_icon}\n",
        "\t\t\t\t\t\t\t);\n",
        "      div_marker_1_1.bindPopup(&quot;{u'mProvider': u'fused', 'speed': 4.518583020587195, 'formatted_time': Timestamp('2015-08-22 11:07:55'), u'mHasAccuracy': True, u'mHasAltitude': False, u'write_ts': 1440266878277, u'mLat1': 0, u'mDistance': 0, u'mLat2': 0, u'platform': u'android', u'mAccuracy': 31.5, u'mLon1': 0, u'mLon2': 0, u'type': u'message', u'mLatitude': 37.3939012, u'mAltitude': 0.0, u'mExtras': nan, u'mSpeed': 0.0, u'key': u'background/location', u'mInitialBearing': 0, u'mHasSpeed': False, 'distance': 135.5755649496982, u'read_ts': 0, u'mElapsedRealtimeNanos': 162405912000000, u'mResults': [0, 0], 'idx': nan, u'mBearing': 0, u'mLongitude': -122.0960155, u'mIsFromMockProvider': False, u'filter': u'time', u'mTime': 1440266875369, u'mHasBearing': False}&quot;);\n",
        "      div_marker_1_1._popup.options.maxWidth = 300;\n",
        "      map.addLayer(div_marker_1_1)\n",
        "      \n",
        "      var div_marker_1_2_icon = L.divIcon({className: 'leaflet-div-icon', 'iconSize': [5,5]});\n",
        "      var div_marker_1_2 = L.marker([37.3938526, \n",
        "\t\t\t\t\t\t\t-122.096291],\n",
        "\t\t\t\t\t\t\t{'icon':div_marker_1_2_icon}\n",
        "\t\t\t\t\t\t\t);\n",
        "      div_marker_1_2.bindPopup(&quot;{u'mProvider': u'fused', 'speed': 2.379803655958943, 'formatted_time': Timestamp('2015-08-22 11:12:55'), u'mHasAccuracy': True, u'mHasAltitude': False, u'write_ts': 1440267175881, u'mLat1': 0, u'mDistance': 0, u'mLat2': 0, u'platform': u'android', u'mAccuracy': 37.5, u'mLon1': 0, u'mLon2': 0, u'type': u'message', u'mLatitude': 37.3938526, u'mAltitude': 0.0, u'mExtras': nan, u'mSpeed': 0.0, u'key': u'background/location', u'mInitialBearing': 0, u'mHasSpeed': False, 'distance': 71.4226673226398, u'read_ts': 0, u'mElapsedRealtimeNanos': 162706095000000, u'mResults': [0, 0], 'idx': nan, u'mBearing': 0, u'mLongitude': -122.096291, u'mIsFromMockProvider': False, u'filter': u'time', u'mTime': 1440267175551, u'mHasBearing': False}&quot;);\n",
        "      div_marker_1_2._popup.options.maxWidth = 300;\n",
        "      map.addLayer(div_marker_1_2)\n",
        "      \n",
        "      var div_marker_1_3_icon = L.divIcon({className: 'leaflet-div-icon', 'iconSize': [5,5]});\n",
        "      var div_marker_1_3 = L.marker([37.3907861, \n",
        "\t\t\t\t\t\t\t-122.0873886],\n",
        "\t\t\t\t\t\t\t{'icon':div_marker_1_3_icon}\n",
        "\t\t\t\t\t\t\t);\n",
        "      div_marker_1_3.bindPopup(&quot;{u'mProvider': u'fused', 'speed': 3.6609284168762093, 'formatted_time': Timestamp('2015-08-22 11:23:51'), u'mHasAccuracy': True, u'mHasAltitude': False, u'write_ts': 1440267831660, u'mLat1': 0, u'mDistance': 0, u'mLat2': 0, u'platform': u'android', u'mAccuracy': 30.0, u'mLon1': 0, u'mLon2': 0, u'type': u'message', u'mLatitude': 37.3907861, u'mAltitude': 0.0, u'mExtras': nan, u'mSpeed': 0.0, u'key': u'background/location', u'mInitialBearing': 0, u'mHasSpeed': False, 'distance': 110.48315869290711, u'read_ts': 0, u'mElapsedRealtimeNanos': 163361880000000, u'mResults': [0, 0], 'idx': nan, u'mBearing': 0, u'mLongitude': -122.0873886, u'mIsFromMockProvider': False, u'filter': u'time', u'mTime': 1440267831337, u'mHasBearing': False}&quot;);\n",
        "      div_marker_1_3._popup.options.maxWidth = 300;\n",
        "      map.addLayer(div_marker_1_3)\n",
        "      \n",
        "      var div_marker_1_4_icon = L.divIcon({className: 'leaflet-div-icon', 'iconSize': [5,5]});\n",
        "      var div_marker_1_4 = L.marker([37.3909335, \n",
        "\t\t\t\t\t\t\t-122.086278],\n",
        "\t\t\t\t\t\t\t{'icon':div_marker_1_4_icon}\n",
        "\t\t\t\t\t\t\t);\n",
        "      div_marker_1_4.bindPopup(&quot;{u'mProvider': u'fused', 'speed': 0.09754375159084859, 'formatted_time': Timestamp('2015-08-22 11:28:55'), u'mHasAccuracy': True, u'mHasAltitude': False, u'write_ts': 1440268136045, u'mLat1': 0, u'mDistance': 0, u'mLat2': 0, u'platform': u'android', u'mAccuracy': 37.5, u'mLon1': 0, u'mLon2': 0, u'type': u'message', u'mLatitude': 37.3909335, u'mAltitude': 0.0, u'mExtras': nan, u'mSpeed': 0.0, u'key': u'background/location', u'mInitialBearing': 0, u'mHasSpeed': False, 'distance': 2.928751141515229, u'read_ts': 0, u'mElapsedRealtimeNanos': 163666280000000, u'mResults': [0, 0], 'idx': nan, u'mBearing': 0, u'mLongitude': -122.086278, u'mIsFromMockProvider': False, u'filter': u'time', u'mTime': 1440268135736, u'mHasBearing': False}&quot;);\n",
        "      div_marker_1_4._popup.options.maxWidth = 300;\n",
        "      map.addLayer(div_marker_1_4)\n",
        "      \n",
        "      var div_marker_1_5_icon = L.divIcon({className: 'leaflet-div-icon', 'iconSize': [5,5]});\n",
        "      var div_marker_1_5 = L.marker([37.3881562, \n",
        "\t\t\t\t\t\t\t-122.0881898],\n",
        "\t\t\t\t\t\t\t{'icon':div_marker_1_5_icon}\n",
        "\t\t\t\t\t\t\t);\n",
        "      div_marker_1_5.bindPopup(&quot;{u'mProvider': u'fused', 'speed': 2.206147112554284, 'formatted_time': Timestamp('2015-08-22 14:58:41'), u'mHasAccuracy': True, u'mHasAltitude': False, u'write_ts': 1440280722642, u'mLat1': 0, u'mDistance': 0, u'mLat2': 0, u'platform': u'android', u'mAccuracy': 49.5, u'mLon1': 0, u'mLon2': 0, u'type': u'message', u'mLatitude': 37.3881562, u'mAltitude': 0.0, u'mExtras': nan, u'mSpeed': 0.0, u'key': u'background/location', u'mInitialBearing': 0, u'mHasSpeed': False, 'distance': 70.17753965035178, u'read_ts': 0, u'mElapsedRealtimeNanos': 176251640000000, u'mResults': [0, 0], 'idx': nan, u'mBearing': 0, u'mLongitude': -122.0881898, u'mIsFromMockProvider': False, u'filter': u'time', u'mTime': 1440280721096, u'mHasBearing': False}&quot;);\n",
        "      div_marker_1_5._popup.options.maxWidth = 300;\n",
        "      map.addLayer(div_marker_1_5)\n",
        "      \n",
        "      var div_marker_1_6_icon = L.divIcon({className: 'leaflet-div-icon', 'iconSize': [5,5]});\n",
        "      var div_marker_1_6 = L.marker([37.3879992, \n",
        "\t\t\t\t\t\t\t-122.0886832],\n",
        "\t\t\t\t\t\t\t{'icon':div_marker_1_6_icon}\n",
        "\t\t\t\t\t\t\t);\n",
        "      div_marker_1_6.bindPopup(&quot;{u'mProvider': u'fused', 'speed': 0.2245427174752327, 'formatted_time': Timestamp('2015-08-22 15:03:43'), u'mHasAccuracy': True, u'mHasAltitude': False, u'write_ts': 1440281023920, u'mLat1': 0, u'mDistance': 0, u'mLat2': 0, u'platform': u'android', u'mAccuracy': 45.0, u'mLon1': 0, u'mLon2': 0, u'type': u'message', u'mLatitude': 37.3879992, u'mAltitude': 0.0, u'mExtras': nan, u'mSpeed': 0.0, u'key': u'background/location', u'mInitialBearing': 0, u'mHasSpeed': False, 'distance': 6.743017805781238, u'read_ts': 0, u'mElapsedRealtimeNanos': 176554070000000, u'mResults': [0, 0], 'idx': nan, u'mBearing': 0, u'mLongitude': -122.0886832, u'mIsFromMockProvider': False, u'filter': u'time', u'mTime': 1440281023526, u'mHasBearing': False}&quot;);\n",
        "      div_marker_1_6._popup.options.maxWidth = 300;\n",
        "      map.addLayer(div_marker_1_6)\n",
        "      \n",
        "      var div_marker_1_7_icon = L.divIcon({className: 'leaflet-div-icon', 'iconSize': [5,5]});\n",
        "      var div_marker_1_7 = L.marker([37.3920722, \n",
        "\t\t\t\t\t\t\t-122.0807561],\n",
        "\t\t\t\t\t\t\t{'icon':div_marker_1_7_icon}\n",
        "\t\t\t\t\t\t\t);\n",
        "      div_marker_1_7.bindPopup(&quot;{u'mProvider': u'fused', 'speed': 4.040644985583882, 'formatted_time': Timestamp('2015-08-22 15:21:44'), u'mHasAccuracy': True, u'mHasAltitude': False, u'write_ts': 1440282120037, u'mLat1': 0, u'mDistance': 0, u'mLat2': 0, u'platform': u'android', u'mAccuracy': 69.886, u'mLon1': 0, u'mLon2': 0, u'type': u'message', u'mLatitude': 37.3920722, u'mAltitude': 0.0, u'mExtras': nan, u'mSpeed': 0.0, u'key': u'background/location', u'mInitialBearing': 0, u'mHasSpeed': False, 'distance': 128.61777053612056, u'read_ts': 0, u'mElapsedRealtimeNanos': 177635095000000, u'mResults': [0, 0], 'idx': nan, u'mBearing': 0, u'mLongitude': -122.0807561, u'mIsFromMockProvider': False, u'filter': u'time', u'mTime': 1440282104552, u'mHasBearing': False}&quot;);\n",
        "      div_marker_1_7._popup.options.maxWidth = 300;\n",
        "      map.addLayer(div_marker_1_7)\n",
        "      \n",
        "      var div_marker_1_8_icon = L.divIcon({className: 'leaflet-div-icon', 'iconSize': [5,5]});\n",
        "      var div_marker_1_8 = L.marker([37.392099, \n",
        "\t\t\t\t\t\t\t-122.0801113],\n",
        "\t\t\t\t\t\t\t{'icon':div_marker_1_8_icon}\n",
        "\t\t\t\t\t\t\t);\n",
        "      div_marker_1_8.bindPopup(&quot;{u'mProvider': u'fused', 'speed': 0.07227913483495017, 'formatted_time': Timestamp('2015-08-22 15:27:16'), u'mHasAccuracy': True, u'mHasAltitude': False, u'write_ts': 1440282448648, u'mLat1': 0, u'mDistance': 0, u'mLat2': 0, u'platform': u'android', u'mAccuracy': 31.5, u'mLon1': 0, u'mLon2': 0, u'type': u'message', u'mLatitude': 37.392099, u'mAltitude': 0.0, u'mExtras': nan, u'mSpeed': 0.0, u'key': u'background/location', u'mInitialBearing': 0, u'mHasSpeed': False, 'distance': 2.2989101625604254, u'read_ts': 0, u'mElapsedRealtimeNanos': 177966612000000, u'mResults': [0, 0], 'idx': nan, u'mBearing': 0, u'mLongitude': -122.0801113, u'mIsFromMockProvider': False, u'filter': u'time', u'mTime': 1440282436068, u'mHasBearing': False}&quot;);\n",
        "      div_marker_1_8._popup.options.maxWidth = 300;\n",
        "      map.addLayer(div_marker_1_8)\n",
        "      \n",
        "      var div_marker_1_9_icon = L.divIcon({className: 'leaflet-div-icon', 'iconSize': [5,5]});\n",
        "      var div_marker_1_9 = L.marker([37.3911618, \n",
        "\t\t\t\t\t\t\t-122.0880419],\n",
        "\t\t\t\t\t\t\t{'icon':div_marker_1_9_icon}\n",
        "\t\t\t\t\t\t\t);\n",
        "      div_marker_1_9.bindPopup(&quot;{u'mProvider': u'fused', 'speed': 2.9096869473701408, 'formatted_time': Timestamp('2015-08-22 15:58:33'), u'mHasAccuracy': True, u'mHasAltitude': False, u'write_ts': 1440284328405, u'mLat1': 0, u'mDistance': 0, u'mLat2': 0, u'platform': u'android', u'mAccuracy': 33.0, u'mLon1': 0, u'mLon2': 0, u'type': u'message', u'mLatitude': 37.3911618, u'mAltitude': 0.0, u'mExtras': nan, u'mSpeed': 0.0, u'key': u'background/location', u'mInitialBearing': 0, u'mHasSpeed': False, 'distance': 46.28439027181683, u'read_ts': 0, u'mElapsedRealtimeNanos': 179843959000000, u'mResults': [0, 0], 'idx': nan, u'mBearing': 0, u'mLongitude': -122.0880419, u'mIsFromMockProvider': False, u'filter': u'time', u'mTime': 1440284313416, u'mHasBearing': False}&quot;);\n",
        "      div_marker_1_9._popup.options.maxWidth = 300;\n",
        "      map.addLayer(div_marker_1_9)\n",
        "      \n",
        "      var div_marker_1_10_icon = L.divIcon({className: 'leaflet-div-icon', 'iconSize': [5,5]});\n",
        "      var div_marker_1_10 = L.marker([37.3910399, \n",
        "\t\t\t\t\t\t\t-122.0888966],\n",
        "\t\t\t\t\t\t\t{'icon':div_marker_1_10_icon}\n",
        "\t\t\t\t\t\t\t);\n",
        "      div_marker_1_10.bindPopup(&quot;{u'mProvider': u'fused', 'speed': 0.20186896154530734, 'formatted_time': Timestamp('2015-08-22 16:04:05'), u'mHasAccuracy': True, u'mHasAltitude': False, u'write_ts': 1440284658717, u'mLat1': 0, u'mDistance': 0, u'mLat2': 0, u'platform': u'android', u'mAccuracy': 36.0, u'mLon1': 0, u'mLon2': 0, u'type': u'message', u'mLatitude': 37.3910399, u'mAltitude': 0.0, u'mExtras': nan, u'mSpeed': 0.0, u'key': u'background/location', u'mInitialBearing': 0, u'mHasSpeed': False, 'distance': 6.420240452986954, u'read_ts': 0, u'mElapsedRealtimeNanos': 180175710000000, u'mResults': [0, 0], 'idx': nan, u'mBearing': 0, u'mLongitude': -122.0888966, u'mIsFromMockProvider': False, u'filter': u'time', u'mTime': 1440284645166, u'mHasBearing': False}&quot;);\n",
        "      div_marker_1_10._popup.options.maxWidth = 300;\n",
        "      map.addLayer(div_marker_1_10)\n",
        "      \n",
        "      var div_marker_1_11_icon = L.divIcon({className: 'leaflet-div-icon', 'iconSize': [5,5]});\n",
        "      var div_marker_1_11 = L.marker([37.3907408, \n",
        "\t\t\t\t\t\t\t-122.0873631],\n",
        "\t\t\t\t\t\t\t{'icon':div_marker_1_11_icon}\n",
        "\t\t\t\t\t\t\t);\n",
        "      div_marker_1_11.bindPopup(&quot;{u'mProvider': u'fused', 'speed': 0.07467726958252807, 'formatted_time': Timestamp('2015-08-22 16:39:36'), u'mHasAccuracy': True, u'mHasAltitude': False, u'write_ts': 1440286777067, u'mLat1': 0, u'mDistance': 0, u'mLat2': 0, u'platform': u'android', u'mAccuracy': 30.0, u'mLon1': 0, u'mLon2': 0, u'type': u'message', u'mLatitude': 37.3907408, u'mAltitude': 0.0, u'mExtras': nan, u'mSpeed': 0.0, u'key': u'background/location', u'mInitialBearing': 0, u'mHasSpeed': False, 'distance': 137.93160530063432, u'read_ts': 0, u'mElapsedRealtimeNanos': 182307086000000, u'mResults': [0, 0], 'idx': nan, u'mBearing': 0, u'mLongitude': -122.0873631, u'mIsFromMockProvider': False, u'filter': u'time', u'mTime': 1440286776303, u'mHasBearing': False}&quot;);\n",
        "      div_marker_1_11._popup.options.maxWidth = 300;\n",
        "      map.addLayer(div_marker_1_11)\n",
        "      \n",
        "      var div_marker_1_12_icon = L.divIcon({className: 'leaflet-div-icon', 'iconSize': [5,5]});\n",
        "      var div_marker_1_12 = L.marker([37.3908273, \n",
        "\t\t\t\t\t\t\t-122.0871766],\n",
        "\t\t\t\t\t\t\t{'icon':div_marker_1_12_icon}\n",
        "\t\t\t\t\t\t\t);\n",
        "      div_marker_1_12.bindPopup(&quot;{u'mProvider': u'fused', 'speed': 1.4320623300934288, 'formatted_time': Timestamp('2015-08-22 16:40:32'), u'mHasAccuracy': True, u'mHasAltitude': True, u'write_ts': 1440286833000, u'mLat1': 0, u'mDistance': 0, u'mLat2': 0, u'platform': u'android', u'mAccuracy': 10.0, u'mLon1': 0, u'mLon2': 0, u'type': u'message', u'mLatitude': 37.3908273, u'mAltitude': -10.0, u'mExtras': nan, u'mSpeed': 1.1259, u'key': u'background/location', u'mInitialBearing': 0, u'mHasSpeed': True, 'distance': 7.198977333379666, u'read_ts': 0, u'mElapsedRealtimeNanos': 182363515888809, u'mResults': [0, 0], 'idx': nan, u'mBearing': 112, u'mLongitude': -122.0871766, u'mIsFromMockProvider': False, u'filter': u'time', u'mTime': 1440286832745, u'mHasBearing': True}&quot;);\n",
        "      div_marker_1_12._popup.options.maxWidth = 300;\n",
        "      map.addLayer(div_marker_1_12)\n",
        "      \n",
        "      var div_marker_1_13_icon = L.divIcon({className: 'leaflet-div-icon', 'iconSize': [5,5]});\n",
        "      var div_marker_1_13 = L.marker([37.390707, \n",
        "\t\t\t\t\t\t\t-122.0866138],\n",
        "\t\t\t\t\t\t\t{'icon':div_marker_1_13_icon}\n",
        "\t\t\t\t\t\t\t);\n",
        "      div_marker_1_13.bindPopup(&quot;{u'mProvider': u'fused', 'speed': 1.3851860046167128, 'formatted_time': Timestamp('2015-08-22 16:41:18'), u'mHasAccuracy': True, u'mHasAltitude': True, u'write_ts': 1440286879151, u'mLat1': 0, u'mDistance': 0, u'mLat2': 0, u'platform': u'android', u'mAccuracy': 10.0, u'mLon1': 0, u'mLon2': 0, u'type': u'message', u'mLatitude': 37.390707, u'mAltitude': -8.29998779296875, u'mExtras': nan, u'mSpeed': 1.06335, u'key': u'background/location', u'mInitialBearing': 0, u'mHasSpeed': True, 'distance': 6.946707813152814, u'read_ts': 0, u'mElapsedRealtimeNanos': 182409532093643, u'mResults': [0, 0], 'idx': nan, u'mBearing': 50, u'mLongitude': -122.0866138, u'mIsFromMockProvider': False, u'filter': u'time', u'mTime': 1440286878755, u'mHasBearing': True}&quot;);\n",
        "      div_marker_1_13._popup.options.maxWidth = 300;\n",
        "      map.addLayer(div_marker_1_13)\n",
        "      \n",
        "\n",
        "      \n",
        "\n",
        "      \n",
        "      var latLngs = [ [37.3916113, -122.0891742],  [37.3939012, -122.0960155],  [37.3938526, -122.096291],  [37.3907861, -122.0873886],  [37.3909335, -122.086278],  [37.3881562, -122.0881898],  [37.3879992, -122.0886832],  [37.3920722, -122.0807561],  [37.392099, -122.0801113],  [37.3911618, -122.0880419],  [37.3910399, -122.0888966],  [37.3907408, -122.0873631],  [37.3908273, -122.0871766],  [37.390707, -122.0866138], ];\n",
        "var line_1 = L.polyline(latLngs,{\n",
        "\n",
        "\n",
        "\n",
        "});\n",
        "      \n",
        "      map.addLayer(line_1);\n",
        "      \n",
        "\n",
        "      \n",
        "\n",
        "      \n",
        "\n",
        "      \n",
        "\n",
        "\n",
        "\n",
        "   </script>\n",
        "\n",
        "</body>\" style=\"width: 100%; height: 510px; border: none\"></iframe>"
       ],
       "metadata": {},
       "output_type": "pyout",
       "prompt_number": 29,
       "text": [
        "<IPython.core.display.HTML at 0x10b907650>"
       ]
      }
     ],
     "prompt_number": 29
    },
    {
     "cell_type": "code",
     "collapsed": false,
     "input": [
      "def make_trip(startDict, endDict):\n",
      "    start = ad.AttrDict(startDict)\n",
      "    end = ad.AttrDict(endDict)\n",
      "    print \"-\" * 20 + str(start.formatted_time) + \" -> \" + str(end.formatted_time) + \"-\" * 20\n",
      "    trip = ad.AttrDict({'user_id': myUUID, 'loc_filter': 'time',\n",
      "                           'start_ts': start.mTime, 'end_ts': end.mTime,\n",
      "                           'start_time': start.formatted_time, 'end_time': end.formatted_time})\n",
      "    return trip"
     ],
     "language": "python",
     "metadata": {},
     "outputs": [],
     "prompt_number": 30
    },
    {
     "cell_type": "code",
     "collapsed": false,
     "input": [
      "my_trips_list_aug_22 = [make_trip(s1, s2) for s1, s2 in zip(my_segment_points_aug_22, my_segment_points_aug_22[1:])]"
     ],
     "language": "python",
     "metadata": {},
     "outputs": [
      {
       "output_type": "stream",
       "stream": "stdout",
       "text": [
        "--------------------2015-08-22 11:04:55 -> 2015-08-22 11:07:55--------------------\n",
        "--------------------2015-08-22 11:07:55 -> 2015-08-22 11:12:55--------------------\n",
        "--------------------2015-08-22 11:12:55 -> 2015-08-22 11:23:51--------------------\n",
        "--------------------2015-08-22 11:23:51 -> 2015-08-22 11:28:55--------------------\n",
        "--------------------2015-08-22 11:28:55 -> 2015-08-22 14:58:41--------------------\n",
        "--------------------2015-08-22 14:58:41 -> 2015-08-22 15:03:43--------------------\n",
        "--------------------2015-08-22 15:03:43 -> 2015-08-22 15:21:44--------------------\n",
        "--------------------2015-08-22 15:21:44 -> 2015-08-22 15:27:16--------------------\n",
        "--------------------2015-08-22 15:27:16 -> 2015-08-22 15:58:33--------------------\n",
        "--------------------2015-08-22 15:58:33 -> 2015-08-22 16:04:05--------------------\n",
        "--------------------2015-08-22 16:04:05 -> 2015-08-22 16:39:36--------------------\n",
        "--------------------2015-08-22 16:39:36 -> 2015-08-22 16:40:32--------------------\n",
        "--------------------2015-08-22 16:40:32 -> 2015-08-22 16:41:18--------------------\n"
       ]
      }
     ],
     "prompt_number": 31
    },
    {
     "cell_type": "code",
     "collapsed": false,
     "input": [
      "trip_section_map = []\n",
      "for trip in my_trips_list_aug_22:\n",
      "    trip_section_map.append((trip, ss.segment_into_sections(trip)))"
     ],
     "language": "python",
     "metadata": {},
     "outputs": [
      {
       "output_type": "stream",
       "stream": "stdout",
       "text": [
        "At 2015-08-22 11:05:23, retained existing activity Activities.ON_BICYCLE\n",
        "At 2015-08-22 11:05:57, retained existing activity Activities.ON_BICYCLE\n",
        "At 2015-08-22 11:06:28, retained existing activity Activities.ON_BICYCLE\n",
        "At 2015-08-22 11:06:57, retained existing activity Activities.ON_BICYCLE\n",
        "At 2015-08-22 11:07:28, retained existing activity Activities.ON_BICYCLE\n",
        "Detected trip end! Ending section at 2015-08-22 11:07:55\n",
        "At 2015-08-22 11:07:58, retained existing activity Activities.ON_BICYCLE"
       ]
      },
      {
       "output_type": "stream",
       "stream": "stdout",
       "text": [
        "\n",
        "At 2015-08-22 11:08:53, retained existing activity Activities.ON_BICYCLE\n",
        "At 2015-08-22 11:09:48, retained existing activity Activities.ON_BICYCLE\n",
        "At 2015-08-22 11:10:53, retained existing activity Activities.ON_BICYCLE\n",
        "At 2015-08-22 11:11:53, retained existing activity Activities.ON_BICYCLE\n",
        "At 2015-08-22 11:12:53, retained existing activity Activities.ON_BICYCLE\n",
        "Detected trip end! Ending section at 2015-08-22 11:12:55\n",
        "At 2015-08-22 11:13:58, retained existing activity Activities.STILL"
       ]
      },
      {
       "output_type": "stream",
       "stream": "stdout",
       "text": [
        "\n",
        "At 2015-08-22 11:14:28, retained existing activity Activities.STILL\n",
        "At 2015-08-22 11:15:24, retained existing activity Activities.STILL\n",
        "At 2015-08-22 11:15:58, retained existing activity Activities.STILL\n",
        "At 2015-08-22 11:16:43, retained existing activity Activities.STILL\n",
        "At 2015-08-22 11:17:13, retained existing activity Activities.STILL\n",
        "At 2015-08-22 11:21:53, found new activity Activities.ON_BICYCLE compared to current Activities.STILL - creating new section with start_time 2015-08-22 11:17:13\n",
        "At 2015-08-22 11:22:23, retained existing activity Activities.ON_BICYCLE\n",
        "At 2015-08-22 11:22:53, retained existing activity Activities.ON_BICYCLE\n",
        "At 2015-08-22 11:23:24, retained existing activity Activities.ON_BICYCLE\n",
        "Detected trip end! Ending section at 2015-08-22 11:23:51\n",
        "At 2015-08-22 11:24:02, retained existing activity Activities.ON_BICYCLE"
       ]
      },
      {
       "output_type": "stream",
       "stream": "stdout",
       "text": [
        "\n",
        "At 2015-08-22 11:24:24, retained existing activity Activities.ON_BICYCLE\n",
        "At 2015-08-22 11:25:31, retained existing activity Activities.ON_BICYCLE\n",
        "At 2015-08-22 11:26:23, retained existing activity Activities.ON_BICYCLE\n",
        "At 2015-08-22 11:26:57, retained existing activity Activities.ON_BICYCLE\n",
        "At 2015-08-22 11:27:27, retained existing activity Activities.ON_BICYCLE\n",
        "At 2015-08-22 11:27:57, retained existing activity Activities.ON_BICYCLE\n",
        "At 2015-08-22 11:28:28, retained existing activity Activities.ON_BICYCLE\n",
        "Detected trip end! Ending section at 2015-08-22 11:28:55\n",
        "At 2015-08-22 11:28:58, retained existing activity Activities.STILL"
       ]
      },
      {
       "output_type": "stream",
       "stream": "stdout",
       "text": [
        "\n",
        "At 2015-08-22 11:29:29, retained existing activity Activities.STILL\n",
        "At 2015-08-22 11:29:58, retained existing activity Activities.STILL\n",
        "At 2015-08-22 11:30:28, retained existing activity Activities.STILL\n",
        "At 2015-08-22 11:30:58, retained existing activity Activities.STILL\n",
        "At 2015-08-22 11:31:28, retained existing activity Activities.STILL\n",
        "At 2015-08-22 11:31:58, retained existing activity Activities.STILL\n",
        "At 2015-08-22 11:32:28, retained existing activity Activities.STILL\n",
        "At 2015-08-22 11:32:58, retained existing activity Activities.STILL\n",
        "At 2015-08-22 11:33:28, retained existing activity Activities.STILL\n",
        "At 2015-08-22 11:33:58, retained existing activity Activities.STILL\n",
        "At 2015-08-22 11:34:28, retained existing activity Activities.STILL\n",
        "At 2015-08-22 14:57:34, found new activity Activities.ON_BICYCLE compared to current Activities.STILL - creating new section with start_time 2015-08-22 11:34:28\n",
        "At 2015-08-22 14:58:15, retained existing activity Activities.ON_BICYCLE\n",
        "Detected trip end! Ending section at 2015-08-22 14:58:41\n",
        "At 2015-08-22 14:58:46, retained existing activity Activities.ON_BICYCLE"
       ]
      },
      {
       "output_type": "stream",
       "stream": "stdout",
       "text": [
        "\n",
        "At 2015-08-22 14:59:31, retained existing activity Activities.ON_BICYCLE\n",
        "At 2015-08-22 15:00:02, retained existing activity Activities.ON_BICYCLE\n",
        "At 2015-08-22 15:01:16, retained existing activity Activities.ON_BICYCLE\n",
        "At 2015-08-22 15:02:03, retained existing activity Activities.ON_BICYCLE\n",
        "At 2015-08-22 15:02:46, retained existing activity Activities.ON_BICYCLE\n",
        "At 2015-08-22 15:03:16, retained existing activity Activities.ON_BICYCLE\n",
        "Detected trip end! Ending section at 2015-08-22 15:03:43\n",
        "At 2015-08-22 15:03:46, retained existing activity Activities.STILL"
       ]
      },
      {
       "output_type": "stream",
       "stream": "stdout",
       "text": [
        "\n",
        "At 2015-08-22 15:04:16, retained existing activity Activities.STILL\n",
        "At 2015-08-22 15:04:46, retained existing activity Activities.STILL\n",
        "At 2015-08-22 15:05:16, retained existing activity Activities.STILL\n",
        "At 2015-08-22 15:05:46, retained existing activity Activities.STILL\n",
        "At 2015-08-22 15:06:24, retained existing activity Activities.STILL\n",
        "At 2015-08-22 15:07:01, found new activity Activities.ON_FOOT compared to current Activities.STILL - creating new section with start_time 2015-08-22 15:06:24\n",
        "At 2015-08-22 15:07:41, retained existing activity Activities.ON_FOOT\n",
        "At 2015-08-22 15:16:46, found new activity Activities.ON_BICYCLE compared to current Activities.ON_FOOT - creating new section with start_time 2015-08-22 15:07:41\n",
        "At 2015-08-22 15:17:28, retained existing activity Activities.ON_BICYCLE\n",
        "At 2015-08-22 15:17:58, retained existing activity Activities.ON_BICYCLE\n",
        "At 2015-08-22 15:18:28, retained existing activity Activities.ON_BICYCLE\n",
        "At 2015-08-22 15:18:58, retained existing activity Activities.ON_BICYCLE\n",
        "At 2015-08-22 15:19:31, retained existing activity Activities.ON_BICYCLE\n",
        "At 2015-08-22 15:20:01, retained existing activity Activities.ON_BICYCLE\n",
        "At 2015-08-22 15:20:55, retained existing activity Activities.ON_BICYCLE\n",
        "At 2015-08-22 15:21:31, found new activity Activities.ON_FOOT compared to current Activities.ON_BICYCLE - creating new section with start_time 2015-08-22 15:20:55\n",
        "Detected trip end! Ending section at 2015-08-22 15:21:44\n",
        "At 2015-08-22 15:22:06, retained existing activity Activities.ON_FOOT"
       ]
      },
      {
       "output_type": "stream",
       "stream": "stdout",
       "text": [
        "\n",
        "At 2015-08-22 15:22:48, retained existing activity Activities.ON_FOOT\n",
        "At 2015-08-22 15:23:57, retained existing activity Activities.ON_FOOT\n",
        "At 2015-08-22 15:24:57, found new activity Activities.IN_VEHICLE compared to current Activities.ON_FOOT - creating new section with start_time 2015-08-22 15:23:57\n",
        "At 2015-08-22 15:25:31, retained existing activity Activities.IN_VEHICLE\n",
        "At 2015-08-22 15:26:02, retained existing activity Activities.IN_VEHICLE\n",
        "At 2015-08-22 15:26:57, retained existing activity Activities.IN_VEHICLE\n",
        "Detected trip end! Ending section at 2015-08-22 15:27:16\n",
        "At 2015-08-22 15:27:57, retained existing activity Activities.STILL"
       ]
      },
      {
       "output_type": "stream",
       "stream": "stdout",
       "text": [
        "\n",
        "At 2015-08-22 15:28:57, retained existing activity Activities.STILL\n",
        "At 2015-08-22 15:29:32, retained existing activity Activities.STILL\n",
        "At 2015-08-22 15:30:02, retained existing activity Activities.STILL\n",
        "At 2015-08-22 15:30:57, retained existing activity Activities.STILL\n",
        "At 2015-08-22 15:31:57, retained existing activity Activities.STILL\n",
        "At 2015-08-22 15:49:31, retained existing activity Activities.STILL\n",
        "At 2015-08-22 15:50:34, retained existing activity Activities.STILL\n",
        "At 2015-08-22 15:51:14, found new activity Activities.ON_BICYCLE compared to current Activities.STILL - creating new section with start_time 2015-08-22 15:50:34\n",
        "At 2015-08-22 15:51:23, retained existing activity Activities.ON_BICYCLE\n",
        "At 2015-08-22 15:51:44, retained existing activity Activities.ON_BICYCLE\n",
        "At 2015-08-22 15:52:14, retained existing activity Activities.ON_BICYCLE\n",
        "At 2015-08-22 15:52:51, found new activity Activities.ON_FOOT compared to current Activities.ON_BICYCLE - creating new section with start_time 2015-08-22 15:52:14\n",
        "At 2015-08-22 15:53:14, retained existing activity Activities.ON_FOOT\n",
        "At 2015-08-22 15:54:01, found new activity Activities.ON_BICYCLE compared to current Activities.ON_FOOT - creating new section with start_time 2015-08-22 15:53:14\n",
        "At 2015-08-22 15:54:51, found new activity Activities.ON_FOOT compared to current Activities.ON_BICYCLE - creating new section with start_time 2015-08-22 15:54:01\n",
        "At 2015-08-22 15:55:53, retained existing activity Activities.ON_FOOT\n",
        "At 2015-08-22 15:57:21, retained existing activity Activities.ON_FOOT\n",
        "At 2015-08-22 15:57:51, retained existing activity Activities.ON_FOOT\n",
        "At 2015-08-22 15:58:21, retained existing activity Activities.ON_FOOT\n",
        "Detected trip end! Ending section at 2015-08-22 15:58:33\n",
        "At 2015-08-22 15:58:51, retained existing activity Activities.ON_FOOT"
       ]
      },
      {
       "output_type": "stream",
       "stream": "stdout",
       "text": [
        "\n",
        "At 2015-08-22 15:59:21, retained existing activity Activities.ON_FOOT\n",
        "At 2015-08-22 15:59:51, retained existing activity Activities.ON_FOOT\n",
        "At 2015-08-22 16:00:21, retained existing activity Activities.ON_FOOT\n",
        "At 2015-08-22 16:00:52, retained existing activity Activities.ON_FOOT\n",
        "At 2015-08-22 16:01:47, retained existing activity Activities.ON_FOOT\n",
        "At 2015-08-22 16:02:51, retained existing activity Activities.ON_FOOT\n",
        "At 2015-08-22 16:03:52, retained existing activity Activities.ON_FOOT\n",
        "Detected trip end! Ending section at 2015-08-22 16:04:05\n",
        "At 2015-08-22 16:04:47, retained existing activity Activities.STILL"
       ]
      },
      {
       "output_type": "stream",
       "stream": "stdout",
       "text": [
        "\n",
        "At 2015-08-22 16:05:22, retained existing activity Activities.STILL\n",
        "At 2015-08-22 16:06:17, retained existing activity Activities.STILL\n",
        "At 2015-08-22 16:07:17, retained existing activity Activities.STILL\n",
        "At 2015-08-22 16:08:17, retained existing activity Activities.STILL\n",
        "Detected trip end! Ending section at 2015-08-22 16:39:36\n",
        "At 2015-08-22 16:39:40, retained existing activity Activities.ON_FOOT"
       ]
      },
      {
       "output_type": "stream",
       "stream": "stdout",
       "text": [
        "\n",
        "At 2015-08-22 16:40:08, retained existing activity Activities.ON_FOOT\n",
        "Detected trip end! Ending section at 2015-08-22 16:40:32\n",
        "At 2015-08-22 16:40:38, retained existing activity Activities.ON_FOOT"
       ]
      },
      {
       "output_type": "stream",
       "stream": "stdout",
       "text": [
        "\n",
        "At 2015-08-22 16:41:08, retained existing activity Activities.ON_FOOT\n",
        "Detected trip end! Ending section at 2015-08-22 16:41:18\n"
       ]
      }
     ],
     "prompt_number": 32
    },
    {
     "cell_type": "code",
     "collapsed": false,
     "input": [
      "section_map_list_22 = lo.get_map_list_after_segmentation(trip_section_map,\n",
      "                                                         cso.BoxplotOutlier(ignore_zeros=True),\n",
      "                                                         cjs.SmoothZigzag())"
     ],
     "language": "python",
     "metadata": {},
     "outputs": [
      {
       "output_type": "stream",
       "stream": "stderr",
       "text": [
        "DEBUG:root:==================== 2015-08-22 11:04:55 -> 2015-08-22 11:07:55 ====================\n"
       ]
      },
      {
       "output_type": "stream",
       "stream": "stderr",
       "text": [
        "DEBUG:root:-------------------- 0: 2015-08-22 11:04:55 -> 2015-08-22 11:07:55 --------------------\n"
       ]
      },
      {
       "output_type": "stream",
       "stream": "stderr",
       "text": [
        "DEBUG:root:filtering points Int64Index([], dtype='int64')\n"
       ]
      },
      {
       "output_type": "stream",
       "stream": "stderr",
       "text": [
        "DEBUG:root:after accuracy filtering, filtered list size went from (5, 28) to (5, 28)\n"
       ]
      },
      {
       "output_type": "stream",
       "stream": "stderr",
       "text": [
        "DEBUG:root:quartile values are 0.25    2.618878\n",
        "0.75    3.725620\n",
        "Name: speed, dtype: float64\n"
       ]
      },
      {
       "output_type": "stream",
       "stream": "stderr",
       "text": [
        "DEBUG:root:iqr 1.10674213718\n"
       ]
      },
      {
       "output_type": "stream",
       "stream": "stderr",
       "text": [
        "DEBUG:root:For cluster 0 - 4, distance = 284.520894957, is_cluster = False\n"
       ]
      },
      {
       "output_type": "stream",
       "stream": "stderr",
       "text": [
        "DEBUG:root:After splitting, segment list is [Segment(0, 4, 284.520894957)] with size 1\n"
       ]
      },
      {
       "output_type": "stream",
       "stream": "stderr",
       "text": [
        "INFO:root:No jumps, nothing to filter\n"
       ]
      },
      {
       "output_type": "stream",
       "stream": "stderr",
       "text": [
        "DEBUG:root:for section AttrDict({'user_id': UUID('0763de67-f61e-3f5d-90e7-518e69793954'), 'start_time': Timestamp('2015-08-22 11:04:55'), 'end_ts': 1440266875369, 'start_ts': 1440266695200, 'end_time': Timestamp('2015-08-22 11:07:55'), 'activity': <Activities.ON_BICYCLE: 1>, 'loc_filter': 'time'}), section_df.shape = (5, 28), formatted_time.head() = 0   2015-08-22 11:05:25\n",
        "1   2015-08-22 11:05:55\n",
        "2   2015-08-22 11:06:25\n",
        "3   2015-08-22 11:06:55\n",
        "4   2015-08-22 11:07:25\n",
        "Name: formatted_time, dtype: datetime64[ns]\n"
       ]
      },
      {
       "output_type": "stream",
       "stream": "stderr",
       "text": [
        "DEBUG:root:==================== 2015-08-22 11:07:55 -> 2015-08-22 11:12:55 ====================\n"
       ]
      },
      {
       "output_type": "stream",
       "stream": "stdout",
       "text": [
        "final query = {'metadata.key': 'background/location', '$and': [{'data.mTime': {'$gt': 1440266695200}}, {'data.mTime': {'$lt': 1440266875369}}], 'user_id': UUID('0763de67-f61e-3f5d-90e7-518e69793954'), 'metadata.filter': 'time'} \n",
        "final query = {'metadata.key': 'background/location', '$and': [{'data.mTime': {'$gt': 1440266875369}}, {'data.mTime': {'$lt': 1440267175551}}], 'user_id': UUID('0763de67-f61e-3f5d-90e7-518e69793954'), 'metadata.filter': 'time'} "
       ]
      },
      {
       "output_type": "stream",
       "stream": "stderr",
       "text": [
        "DEBUG:root:-------------------- 0: 2015-08-22 11:07:55 -> 2015-08-22 11:12:55 --------------------\n"
       ]
      },
      {
       "output_type": "stream",
       "stream": "stderr",
       "text": [
        "DEBUG:root:filtering points Int64Index([], dtype='int64')\n"
       ]
      },
      {
       "output_type": "stream",
       "stream": "stderr",
       "text": [
        "DEBUG:root:after accuracy filtering, filtered list size went from (9, 28) to (9, 28)\n"
       ]
      },
      {
       "output_type": "stream",
       "stream": "stderr",
       "text": [
        "DEBUG:root:quartile values are 0.25    0.392388\n",
        "0.75    1.045228\n",
        "Name: speed, dtype: float64\n"
       ]
      },
      {
       "output_type": "stream",
       "stream": "stderr",
       "text": [
        "DEBUG:root:iqr 0.652840291523\n"
       ]
      },
      {
       "output_type": "stream",
       "stream": "stderr",
       "text": [
        "DEBUG:root:For cluster 0 - 8, distance = 58.4192899223, is_cluster = True\n"
       ]
      },
      {
       "output_type": "stream",
       "stream": "stderr",
       "text": [
        "DEBUG:root:After splitting, segment list is [Segment(0, 8, 58.4192899223)] with size 1\n"
       ]
      },
      {
       "output_type": "stream",
       "stream": "stderr",
       "text": [
        "INFO:root:No jumps, nothing to filter\n"
       ]
      },
      {
       "output_type": "stream",
       "stream": "stderr",
       "text": [
        "DEBUG:root:for section AttrDict({'user_id': UUID('0763de67-f61e-3f5d-90e7-518e69793954'), 'start_time': Timestamp('2015-08-22 11:07:55'), 'end_ts': 1440267175551, 'start_ts': 1440266875369, 'end_time': Timestamp('2015-08-22 11:12:55'), 'activity': <Activities.ON_BICYCLE: 1>, 'loc_filter': 'time'}), section_df.shape = (9, 28), formatted_time.head() = 0   2015-08-22 11:08:25\n",
        "1   2015-08-22 11:08:55\n",
        "2   2015-08-22 11:09:25\n",
        "3   2015-08-22 11:09:55\n",
        "4   2015-08-22 11:10:25\n",
        "Name: formatted_time, dtype: datetime64[ns]\n"
       ]
      },
      {
       "output_type": "stream",
       "stream": "stderr",
       "text": [
        "DEBUG:root:==================== 2015-08-22 11:12:55 -> 2015-08-22 11:23:51 ====================\n"
       ]
      },
      {
       "output_type": "stream",
       "stream": "stdout",
       "text": [
        "\n",
        "final query = {'metadata.key': 'background/location', '$and': [{'data.mTime': {'$gt': 1440267175551}}, {'data.mTime': {'$lt': 1440267831337}}], 'user_id': UUID('0763de67-f61e-3f5d-90e7-518e69793954'), 'metadata.filter': 'time'} "
       ]
      },
      {
       "output_type": "stream",
       "stream": "stderr",
       "text": [
        "DEBUG:root:-------------------- 0: 2015-08-22 11:12:55 -> 2015-08-22 11:17:13 --------------------\n"
       ]
      },
      {
       "output_type": "stream",
       "stream": "stderr",
       "text": [
        "DEBUG:root:filtering points Int64Index([], dtype='int64')\n"
       ]
      },
      {
       "output_type": "stream",
       "stream": "stderr",
       "text": [
        "DEBUG:root:after accuracy filtering, filtered list size went from (8, 29) to (8, 29)\n"
       ]
      },
      {
       "output_type": "stream",
       "stream": "stderr",
       "text": [
        "DEBUG:root:quartile values are 0.25    0.506379\n",
        "0.75    1.253425\n",
        "Name: speed, dtype: float64\n"
       ]
      },
      {
       "output_type": "stream",
       "stream": "stderr",
       "text": [
        "DEBUG:root:iqr 0.747046539281\n"
       ]
      },
      {
       "output_type": "stream",
       "stream": "stderr",
       "text": [
        "DEBUG:root:For cluster 0 - 7, distance = 17.6602712945, is_cluster = True\n"
       ]
      },
      {
       "output_type": "stream",
       "stream": "stderr",
       "text": [
        "DEBUG:root:After splitting, segment list is [Segment(0, 7, 17.6602712945)] with size 1\n"
       ]
      },
      {
       "output_type": "stream",
       "stream": "stderr",
       "text": [
        "INFO:root:No jumps, nothing to filter\n"
       ]
      },
      {
       "output_type": "stream",
       "stream": "stderr",
       "text": [
        "DEBUG:root:for section AttrDict({'user_id': UUID('0763de67-f61e-3f5d-90e7-518e69793954'), 'start_time': Timestamp('2015-08-22 11:12:55'), 'end_ts': 1440267433784, 'start_ts': 1440267175551, 'end_time': '2015-08-22 11:17:13', 'activity': <Activities.STILL: 3>, 'loc_filter': 'time'}), section_df.shape = (8, 29), formatted_time.head() = 0   2015-08-22 11:13:25\n",
        "1   2015-08-22 11:13:55\n",
        "2   2015-08-22 11:14:25\n",
        "3   2015-08-22 11:14:55\n",
        "4   2015-08-22 11:15:25\n",
        "Name: formatted_time, dtype: datetime64[ns]\n"
       ]
      },
      {
       "output_type": "stream",
       "stream": "stderr",
       "text": [
        "DEBUG:root:-------------------- 1: 2015-08-22 11:17:13 -> 2015-08-22 11:23:51 --------------------\n"
       ]
      },
      {
       "output_type": "stream",
       "stream": "stderr",
       "text": [
        "DEBUG:root:filtering points Int64Index([], dtype='int64')\n"
       ]
      },
      {
       "output_type": "stream",
       "stream": "stderr",
       "text": [
        "DEBUG:root:after accuracy filtering, filtered list size went from (8, 29) to (8, 29)\n"
       ]
      },
      {
       "output_type": "stream",
       "stream": "stderr",
       "text": [
        "DEBUG:root:timeDelta = 0, distanceDelta = %s, returning speed = 0\n"
       ]
      },
      {
       "output_type": "stream",
       "stream": "stderr",
       "text": [
        "DEBUG:root:timeDelta = 0, distanceDelta = %s, returning speed = 0\n"
       ]
      },
      {
       "output_type": "stream",
       "stream": "stderr",
       "text": [
        "DEBUG:root:quartile values are 0.25    3.618567\n",
        "0.75    3.631316\n",
        "Name: speed, dtype: float64\n"
       ]
      },
      {
       "output_type": "stream",
       "stream": "stderr",
       "text": [
        "DEBUG:root:iqr 0.0127490633794\n"
       ]
      },
      {
       "output_type": "stream",
       "stream": "stderr",
       "text": [
        "DEBUG:root:For cluster 0 - 3, distance = 188.635458211, is_cluster = False\n"
       ]
      },
      {
       "output_type": "stream",
       "stream": "stderr",
       "text": [
        "DEBUG:root:For cluster 3 - 7, distance = 224.554995011, is_cluster = False\n"
       ]
      },
      {
       "output_type": "stream",
       "stream": "stderr",
       "text": [
        "DEBUG:root:After splitting, segment list is [Segment(0, 3, 188.635458211), Segment(3, 7, 224.554995011)] with size 2\n"
       ]
      },
      {
       "output_type": "stream",
       "stream": "stderr",
       "text": [
        "DEBUG:root:shortest_non_cluster_segment = 0\n"
       ]
      },
      {
       "output_type": "stream",
       "stream": "stderr",
       "text": [
        "DEBUG:root:Processing segment 1: Segment(3, 7, 224.554995011), expecting state Segment_State.BAD\n"
       ]
      },
      {
       "output_type": "stream",
       "stream": "stderr",
       "text": [
        "DEBUG:root:timeDelta = 0, distanceDelta = %s, returning speed = 0\n"
       ]
      },
      {
       "output_type": "stream",
       "stream": "stderr",
       "text": [
        "DEBUG:root:For cluster 5 - 7, distance = 108.65832403, is_cluster = False\n"
       ]
      },
      {
       "output_type": "stream",
       "stream": "stderr",
       "text": [
        "DEBUG:root:For cluster 3 - 5, distance = 0.0, is_cluster = True\n"
       ]
      },
      {
       "output_type": "stream",
       "stream": "stderr",
       "text": [
        "DEBUG:root:Finishing process for Segment(3, 5, 0.0) after splitting mixed cluster\n"
       ]
      },
      {
       "output_type": "stream",
       "stream": "stderr",
       "text": [
        "DEBUG:root:At the end of the loop for direction IterationDirection.RIGHT, i = 2\n"
       ]
      },
      {
       "output_type": "stream",
       "stream": "stderr",
       "text": [
        "DEBUG:root:Processing segment 2: Segment(5, 7, 108.65832403), expecting state Segment_State.GOOD\n"
       ]
      },
      {
       "output_type": "stream",
       "stream": "stderr",
       "text": [
        "DEBUG:root:At the end of the loop for direction IterationDirection.RIGHT, i = 3\n"
       ]
      },
      {
       "output_type": "stream",
       "stream": "stderr",
       "text": [
        "DEBUG:root:Finished marking segment states for direction IterationDirection.RIGHT \n"
       ]
      },
      {
       "output_type": "stream",
       "stream": "stderr",
       "text": [
        "DEBUG:root:Finished marking segment states for direction IterationDirection.LEFT \n"
       ]
      },
      {
       "output_type": "stream",
       "stream": "stderr",
       "text": [
        "DEBUG:root:unknown_segments = []\n"
       ]
      },
      {
       "output_type": "stream",
       "stream": "stderr",
       "text": [
        "DEBUG:root:bad_segments = [Segment(3, 5, 0.0)]\n"
       ]
      },
      {
       "output_type": "stream",
       "stream": "stderr",
       "text": [
        "DEBUG:root:after setting values, outlier_mask = [3 4]\n"
       ]
      },
      {
       "output_type": "stream",
       "stream": "stderr",
       "text": [
        "DEBUG:root:point details are    mLatitude  mLongitude  mAccuracy      formatted_time\n",
        "3  37.392803 -122.091715         39 2015-08-22 11:21:47\n",
        "4  37.392803 -122.091715         39 2015-08-22 11:21:47\n"
       ]
      },
      {
       "output_type": "stream",
       "stream": "stderr",
       "text": [
        "DEBUG:root:timeDelta = 0, distanceDelta = %s, returning speed = 0\n"
       ]
      },
      {
       "output_type": "stream",
       "stream": "stderr",
       "text": [
        "DEBUG:root:quartile values are 0.25    2.918234\n",
        "0.75    3.933428\n",
        "Name: speed, dtype: float64\n"
       ]
      },
      {
       "output_type": "stream",
       "stream": "stderr",
       "text": [
        "DEBUG:root:iqr 1.0151933315\n"
       ]
      },
      {
       "output_type": "stream",
       "stream": "stderr",
       "text": [
        "DEBUG:root:for section AttrDict({'user_id': UUID('0763de67-f61e-3f5d-90e7-518e69793954'), 'start_time': datetime.datetime(2015, 8, 22, 11, 17, 13), 'end_ts': 1440267831337, 'start_ts': 1440267433784, 'end_time': Timestamp('2015-08-22 11:23:51'), 'activity': <Activities.ON_BICYCLE: 1>, 'loc_filter': 'time'}), section_df.shape = (6, 29), formatted_time.head() = 0   2015-08-22 11:17:25\n",
        "1   2015-08-22 11:21:16\n",
        "2   2015-08-22 11:21:16\n",
        "5   2015-08-22 11:22:21\n",
        "6   2015-08-22 11:22:51\n",
        "Name: formatted_time, dtype: datetime64[ns]\n"
       ]
      },
      {
       "output_type": "stream",
       "stream": "stderr",
       "text": [
        "DEBUG:root:==================== 2015-08-22 11:23:51 -> 2015-08-22 11:28:55 ====================\n"
       ]
      },
      {
       "output_type": "stream",
       "stream": "stdout",
       "text": [
        "\n",
        "final query = {'metadata.key': 'background/location', '$and': [{'data.mTime': {'$gt': 1440267831337}}, {'data.mTime': {'$lt': 1440268135736}}], 'user_id': UUID('0763de67-f61e-3f5d-90e7-518e69793954'), 'metadata.filter': 'time'} "
       ]
      },
      {
       "output_type": "stream",
       "stream": "stderr",
       "text": [
        "DEBUG:root:-------------------- 0: 2015-08-22 11:23:51 -> 2015-08-22 11:28:55 --------------------\n"
       ]
      },
      {
       "output_type": "stream",
       "stream": "stderr",
       "text": [
        "DEBUG:root:filtering points Int64Index([], dtype='int64')\n"
       ]
      },
      {
       "output_type": "stream",
       "stream": "stderr",
       "text": [
        "DEBUG:root:after accuracy filtering, filtered list size went from (9, 28) to (9, 28)\n"
       ]
      },
      {
       "output_type": "stream",
       "stream": "stderr",
       "text": [
        "DEBUG:root:quartile values are 0.25    0.040728\n",
        "0.75    0.135226\n",
        "Name: speed, dtype: float64\n"
       ]
      },
      {
       "output_type": "stream",
       "stream": "stderr",
       "text": [
        "DEBUG:root:iqr 0.0944982170122\n"
       ]
      },
      {
       "output_type": "stream",
       "stream": "stderr",
       "text": [
        "DEBUG:root:For cluster 0 - 1, distance = 0.0, is_cluster = True\n"
       ]
      },
      {
       "output_type": "stream",
       "stream": "stderr",
       "text": [
        "DEBUG:root:For cluster 1 - 8, distance = 12.9401825672, is_cluster = True\n"
       ]
      },
      {
       "output_type": "stream",
       "stream": "stderr",
       "text": [
        "DEBUG:root:After splitting, segment list is [Segment(0, 1, 0.0), Segment(1, 8, 12.9401825672)] with size 2\n"
       ]
      },
      {
       "output_type": "stream",
       "stream": "stderr",
       "text": [
        "DEBUG:root:Finished marking segment states for direction IterationDirection.RIGHT \n"
       ]
      },
      {
       "output_type": "stream",
       "stream": "stderr",
       "text": [
        "DEBUG:root:Processing segment 0: Segment(0, 1, 0.0), expecting state Segment_State.BAD\n"
       ]
      },
      {
       "output_type": "stream",
       "stream": "stderr",
       "text": [
        "DEBUG:root:At the end of the loop for direction IterationDirection.LEFT, i = -1\n"
       ]
      },
      {
       "output_type": "stream",
       "stream": "stderr",
       "text": [
        "DEBUG:root:Finished marking segment states for direction IterationDirection.LEFT \n"
       ]
      },
      {
       "output_type": "stream",
       "stream": "stderr",
       "text": [
        "DEBUG:root:unknown_segments = []\n"
       ]
      },
      {
       "output_type": "stream",
       "stream": "stderr",
       "text": [
        "DEBUG:root:bad_segments = [Segment(0, 1, 0.0)]\n"
       ]
      },
      {
       "output_type": "stream",
       "stream": "stderr",
       "text": [
        "DEBUG:root:after setting values, outlier_mask = [0]\n"
       ]
      },
      {
       "output_type": "stream",
       "stream": "stderr",
       "text": [
        "DEBUG:root:point details are    mLatitude  mLongitude  mAccuracy      formatted_time\n",
        "0  37.390425 -122.086687       31.5 2015-08-22 11:24:21\n"
       ]
      },
      {
       "output_type": "stream",
       "stream": "stderr",
       "text": [
        "DEBUG:root:quartile values are 0.25    0.031452\n",
        "0.75    0.098670\n",
        "Name: speed, dtype: float64\n"
       ]
      },
      {
       "output_type": "stream",
       "stream": "stderr",
       "text": [
        "DEBUG:root:iqr 0.0672181303041\n"
       ]
      },
      {
       "output_type": "stream",
       "stream": "stderr",
       "text": [
        "DEBUG:root:for section AttrDict({'user_id': UUID('0763de67-f61e-3f5d-90e7-518e69793954'), 'start_time': Timestamp('2015-08-22 11:23:51'), 'end_ts': 1440268135736, 'start_ts': 1440267831337, 'end_time': Timestamp('2015-08-22 11:28:55'), 'activity': <Activities.ON_BICYCLE: 1>, 'loc_filter': 'time'}), section_df.shape = (8, 28), formatted_time.head() = 1   2015-08-22 11:24:51\n",
        "2   2015-08-22 11:25:25\n",
        "3   2015-08-22 11:25:55\n",
        "4   2015-08-22 11:26:25\n",
        "5   2015-08-22 11:26:55\n",
        "Name: formatted_time, dtype: datetime64[ns]\n"
       ]
      },
      {
       "output_type": "stream",
       "stream": "stderr",
       "text": [
        "DEBUG:root:==================== 2015-08-22 11:28:55 -> 2015-08-22 14:58:41 ====================\n"
       ]
      },
      {
       "output_type": "stream",
       "stream": "stdout",
       "text": [
        "\n",
        "final query = {'metadata.key': 'background/location', '$and': [{'data.mTime': {'$gt': 1440268135736}}, {'data.mTime': {'$lt': 1440280721096}}], 'user_id': UUID('0763de67-f61e-3f5d-90e7-518e69793954'), 'metadata.filter': 'time'} "
       ]
      },
      {
       "output_type": "stream",
       "stream": "stderr",
       "text": [
        "DEBUG:root:-------------------- 0: 2015-08-22 11:28:55 -> 2015-08-22 11:34:28 --------------------\n"
       ]
      },
      {
       "output_type": "stream",
       "stream": "stderr",
       "text": [
        "DEBUG:root:filtering points Int64Index([], dtype='int64')\n"
       ]
      },
      {
       "output_type": "stream",
       "stream": "stderr",
       "text": [
        "DEBUG:root:after accuracy filtering, filtered list size went from (11, 29) to (11, 29)\n"
       ]
      },
      {
       "output_type": "stream",
       "stream": "stderr",
       "text": [
        "DEBUG:root:quartile values are 0.25    0.029888\n",
        "0.75    0.103401\n",
        "Name: speed, dtype: float64\n"
       ]
      },
      {
       "output_type": "stream",
       "stream": "stderr",
       "text": [
        "DEBUG:root:iqr 0.0735135486153\n"
       ]
      },
      {
       "output_type": "stream",
       "stream": "stderr",
       "text": [
        "DEBUG:root:For cluster 0 - 10, distance = 2.88043637566, is_cluster = True\n"
       ]
      },
      {
       "output_type": "stream",
       "stream": "stderr",
       "text": [
        "DEBUG:root:After splitting, segment list is [Segment(0, 10, 2.88043637566)] with size 1\n"
       ]
      },
      {
       "output_type": "stream",
       "stream": "stderr",
       "text": [
        "INFO:root:No jumps, nothing to filter\n"
       ]
      },
      {
       "output_type": "stream",
       "stream": "stderr",
       "text": [
        "DEBUG:root:for section AttrDict({'user_id': UUID('0763de67-f61e-3f5d-90e7-518e69793954'), 'start_time': Timestamp('2015-08-22 11:28:55'), 'end_ts': 1440268468940, 'start_ts': 1440268135736, 'end_time': '2015-08-22 11:34:28', 'activity': <Activities.STILL: 3>, 'loc_filter': 'time'}), section_df.shape = (11, 29), formatted_time.head() = 0   2015-08-22 11:29:25\n",
        "1   2015-08-22 11:29:55\n",
        "2   2015-08-22 11:30:25\n",
        "3   2015-08-22 11:30:55\n",
        "4   2015-08-22 11:31:25\n",
        "Name: formatted_time, dtype: datetime64[ns]\n"
       ]
      },
      {
       "output_type": "stream",
       "stream": "stderr",
       "text": [
        "DEBUG:root:-------------------- 1: 2015-08-22 11:34:28 -> 2015-08-22 14:58:41 --------------------\n"
       ]
      },
      {
       "output_type": "stream",
       "stream": "stderr",
       "text": [
        "DEBUG:root:filtering points Int64Index([], dtype='int64')\n"
       ]
      },
      {
       "output_type": "stream",
       "stream": "stderr",
       "text": [
        "DEBUG:root:after accuracy filtering, filtered list size went from (4, 29) to (4, 29)\n"
       ]
      },
      {
       "output_type": "stream",
       "stream": "stderr",
       "text": [
        "DEBUG:root:timeDelta = 0, distanceDelta = %s, returning speed = 0\n"
       ]
      },
      {
       "output_type": "stream",
       "stream": "stderr",
       "text": [
        "DEBUG:root:quartile values are 0.25    1.375306\n",
        "0.75    3.289601\n",
        "Name: speed, dtype: float64\n"
       ]
      },
      {
       "output_type": "stream",
       "stream": "stderr",
       "text": [
        "DEBUG:root:iqr 1.91429558232\n"
       ]
      },
      {
       "output_type": "stream",
       "stream": "stderr",
       "text": [
        "DEBUG:root:For cluster 0 - 3, distance = 135.233481003, is_cluster = False\n"
       ]
      },
      {
       "output_type": "stream",
       "stream": "stderr",
       "text": [
        "DEBUG:root:After splitting, segment list is [Segment(0, 3, 135.233481003)] with size 1\n"
       ]
      },
      {
       "output_type": "stream",
       "stream": "stderr",
       "text": [
        "INFO:root:No jumps, nothing to filter\n"
       ]
      },
      {
       "output_type": "stream",
       "stream": "stderr",
       "text": [
        "DEBUG:root:for section AttrDict({'user_id': UUID('0763de67-f61e-3f5d-90e7-518e69793954'), 'start_time': datetime.datetime(2015, 8, 22, 11, 34, 28), 'end_ts': 1440280721096, 'start_ts': 1440268468940, 'end_time': Timestamp('2015-08-22 14:58:41'), 'activity': <Activities.ON_BICYCLE: 1>, 'loc_filter': 'time'}), section_df.shape = (4, 29), formatted_time.head() = 0   2015-08-22 14:57:05\n",
        "1   2015-08-22 14:57:05\n",
        "2   2015-08-22 14:57:37\n",
        "3   2015-08-22 14:58:09\n",
        "Name: formatted_time, dtype: datetime64[ns]\n"
       ]
      },
      {
       "output_type": "stream",
       "stream": "stderr",
       "text": [
        "DEBUG:root:==================== 2015-08-22 14:58:41 -> 2015-08-22 15:03:43 ====================\n"
       ]
      },
      {
       "output_type": "stream",
       "stream": "stdout",
       "text": [
        "\n",
        "final query = {'metadata.key': 'background/location', '$and': [{'data.mTime': {'$gt': 1440280721096}}, {'data.mTime': {'$lt': 1440281023526}}], 'user_id': UUID('0763de67-f61e-3f5d-90e7-518e69793954'), 'metadata.filter': 'time'} "
       ]
      },
      {
       "output_type": "stream",
       "stream": "stderr",
       "text": [
        "DEBUG:root:-------------------- 0: 2015-08-22 14:58:41 -> 2015-08-22 15:03:43 --------------------\n"
       ]
      },
      {
       "output_type": "stream",
       "stream": "stderr",
       "text": [
        "DEBUG:root:filtering points Int64Index([], dtype='int64')\n"
       ]
      },
      {
       "output_type": "stream",
       "stream": "stderr",
       "text": [
        "DEBUG:root:after accuracy filtering, filtered list size went from (10, 28) to (10, 28)\n"
       ]
      },
      {
       "output_type": "stream",
       "stream": "stderr",
       "text": [
        "DEBUG:root:quartile values are 0.25    0.38379\n",
        "0.75    1.31540\n",
        "Name: speed, dtype: float64\n"
       ]
      },
      {
       "output_type": "stream",
       "stream": "stderr",
       "text": [
        "DEBUG:root:iqr 0.931610376222\n"
       ]
      },
      {
       "output_type": "stream",
       "stream": "stderr",
       "text": [
        "DEBUG:root:For cluster 0 - 9, distance = 47.4756525002, is_cluster = True\n"
       ]
      },
      {
       "output_type": "stream",
       "stream": "stderr",
       "text": [
        "DEBUG:root:After splitting, segment list is [Segment(0, 9, 47.4756525002)] with size 1\n"
       ]
      },
      {
       "output_type": "stream",
       "stream": "stderr",
       "text": [
        "INFO:root:No jumps, nothing to filter\n"
       ]
      },
      {
       "output_type": "stream",
       "stream": "stderr",
       "text": [
        "DEBUG:root:for section AttrDict({'user_id': UUID('0763de67-f61e-3f5d-90e7-518e69793954'), 'start_time': Timestamp('2015-08-22 14:58:41'), 'end_ts': 1440281023526, 'start_ts': 1440280721096, 'end_time': Timestamp('2015-08-22 15:03:43'), 'activity': <Activities.ON_BICYCLE: 1>, 'loc_filter': 'time'}), section_df.shape = (10, 28), formatted_time.head() = 0   2015-08-22 14:59:02\n",
        "1   2015-08-22 14:59:07\n",
        "2   2015-08-22 14:59:43\n",
        "3   2015-08-22 15:00:13\n",
        "4   2015-08-22 15:00:43\n",
        "Name: formatted_time, dtype: datetime64[ns]\n"
       ]
      },
      {
       "output_type": "stream",
       "stream": "stderr",
       "text": [
        "DEBUG:root:==================== 2015-08-22 15:03:43 -> 2015-08-22 15:21:44 ====================\n"
       ]
      },
      {
       "output_type": "stream",
       "stream": "stdout",
       "text": [
        "\n",
        "final query = {'metadata.key': 'background/location', '$and': [{'data.mTime': {'$gt': 1440281023526}}, {'data.mTime': {'$lt': 1440282104552}}], 'user_id': UUID('0763de67-f61e-3f5d-90e7-518e69793954'), 'metadata.filter': 'time'} "
       ]
      },
      {
       "output_type": "stream",
       "stream": "stderr",
       "text": [
        "DEBUG:root:-------------------- 0: 2015-08-22 15:03:43 -> 2015-08-22 15:06:24 --------------------\n"
       ]
      },
      {
       "output_type": "stream",
       "stream": "stderr",
       "text": [
        "DEBUG:root:filtering points Int64Index([], dtype='int64')\n"
       ]
      },
      {
       "output_type": "stream",
       "stream": "stderr",
       "text": [
        "DEBUG:root:after accuracy filtering, filtered list size went from (5, 29) to (5, 29)\n"
       ]
      },
      {
       "output_type": "stream",
       "stream": "stderr",
       "text": [
        "DEBUG:root:quartile values are 0.25    0.231585\n",
        "0.75    0.308156\n",
        "Name: speed, dtype: float64\n"
       ]
      },
      {
       "output_type": "stream",
       "stream": "stderr",
       "text": [
        "DEBUG:root:iqr 0.0765705284081\n"
       ]
      },
      {
       "output_type": "stream",
       "stream": "stderr",
       "text": [
        "DEBUG:root:For cluster 0 - 4, distance = 2.80453193939, is_cluster = True\n"
       ]
      },
      {
       "output_type": "stream",
       "stream": "stderr",
       "text": [
        "DEBUG:root:After splitting, segment list is [Segment(0, 4, 2.80453193939)] with size 1\n"
       ]
      },
      {
       "output_type": "stream",
       "stream": "stderr",
       "text": [
        "INFO:root:No jumps, nothing to filter\n"
       ]
      },
      {
       "output_type": "stream",
       "stream": "stderr",
       "text": [
        "DEBUG:root:for section AttrDict({'user_id': UUID('0763de67-f61e-3f5d-90e7-518e69793954'), 'start_time': Timestamp('2015-08-22 15:03:43'), 'end_ts': 1440281184822, 'start_ts': 1440281023526, 'end_time': '2015-08-22 15:06:24', 'activity': <Activities.STILL: 3>, 'loc_filter': 'time'}), section_df.shape = (5, 29), formatted_time.head() = 0   2015-08-22 15:04:13\n",
        "1   2015-08-22 15:04:43\n",
        "2   2015-08-22 15:05:13\n",
        "3   2015-08-22 15:05:43\n",
        "4   2015-08-22 15:06:13\n",
        "Name: formatted_time, dtype: datetime64[ns]\n"
       ]
      },
      {
       "output_type": "stream",
       "stream": "stderr",
       "text": [
        "DEBUG:root:-------------------- 1: 2015-08-22 15:06:24 -> 2015-08-22 15:07:41 --------------------\n"
       ]
      },
      {
       "output_type": "stream",
       "stream": "stderr",
       "text": [
        "DEBUG:root:filtering points Int64Index([], dtype='int64')\n"
       ]
      },
      {
       "output_type": "stream",
       "stream": "stderr",
       "text": [
        "DEBUG:root:after accuracy filtering, filtered list size went from (2, 29) to (2, 29)\n"
       ]
      },
      {
       "output_type": "stream",
       "stream": "stderr",
       "text": [
        "DEBUG:root:quartile values are 0.25    0.989173\n",
        "0.75    0.989173\n",
        "Name: speed, dtype: float64\n"
       ]
      },
      {
       "output_type": "stream",
       "stream": "stderr",
       "text": [
        "DEBUG:root:iqr 0.0\n"
       ]
      },
      {
       "output_type": "stream",
       "stream": "stderr",
       "text": [
        "DEBUG:root:For cluster 0 - 1, distance = 0.0, is_cluster = True\n"
       ]
      },
      {
       "output_type": "stream",
       "stream": "stderr",
       "text": [
        "DEBUG:root:After splitting, segment list is [Segment(0, 1, 0.0)] with size 1\n"
       ]
      },
      {
       "output_type": "stream",
       "stream": "stderr",
       "text": [
        "INFO:root:No jumps, nothing to filter\n"
       ]
      },
      {
       "output_type": "stream",
       "stream": "stderr",
       "text": [
        "DEBUG:root:for section AttrDict({'user_id': UUID('0763de67-f61e-3f5d-90e7-518e69793954'), 'start_time': datetime.datetime(2015, 8, 22, 15, 6, 24), 'end_ts': 1440281261807, 'start_ts': 1440281184822, 'end_time': '2015-08-22 15:07:41', 'activity': <Activities.ON_FOOT: 2>, 'loc_filter': 'time'}), section_df.shape = (2, 29), formatted_time.head() = 0   2015-08-22 15:06:43\n",
        "1   2015-08-22 15:07:13\n",
        "Name: formatted_time, dtype: datetime64[ns]\n"
       ]
      },
      {
       "output_type": "stream",
       "stream": "stderr",
       "text": [
        "DEBUG:root:-------------------- 2: 2015-08-22 15:07:41 -> 2015-08-22 15:20:55 --------------------\n"
       ]
      },
      {
       "output_type": "stream",
       "stream": "stderr",
       "text": [
        "DEBUG:root:filtering points Int64Index([], dtype='int64')\n"
       ]
      },
      {
       "output_type": "stream",
       "stream": "stderr",
       "text": [
        "DEBUG:root:after accuracy filtering, filtered list size went from (11, 29) to (11, 29)\n"
       ]
      },
      {
       "output_type": "stream",
       "stream": "stderr",
       "text": [
        "DEBUG:root:timeDelta = 0, distanceDelta = %s, returning speed = 0\n"
       ]
      },
      {
       "output_type": "stream",
       "stream": "stderr",
       "text": [
        "DEBUG:root:quartile values are 0.25    0.265184\n",
        "0.75    4.203148\n",
        "Name: speed, dtype: float64\n"
       ]
      },
      {
       "output_type": "stream",
       "stream": "stderr",
       "text": [
        "DEBUG:root:iqr 3.93796480987\n"
       ]
      },
      {
       "output_type": "stream",
       "stream": "stderr",
       "text": [
        "DEBUG:root:For cluster 0 - 10, distance = 629.925473984, is_cluster = False\n"
       ]
      },
      {
       "output_type": "stream",
       "stream": "stderr",
       "text": [
        "DEBUG:root:After splitting, segment list is [Segment(0, 10, 629.925473984)] with size 1\n"
       ]
      },
      {
       "output_type": "stream",
       "stream": "stderr",
       "text": [
        "INFO:root:No jumps, nothing to filter\n"
       ]
      },
      {
       "output_type": "stream",
       "stream": "stderr",
       "text": [
        "DEBUG:root:for section AttrDict({'user_id': UUID('0763de67-f61e-3f5d-90e7-518e69793954'), 'start_time': datetime.datetime(2015, 8, 22, 15, 7, 41), 'end_ts': 1440282055499, 'start_ts': 1440281261807, 'end_time': '2015-08-22 15:20:55', 'activity': <Activities.ON_BICYCLE: 1>, 'loc_filter': 'time'}), section_df.shape = (11, 29), formatted_time.head() = 0   2015-08-22 15:07:43\n",
        "1   2015-08-22 15:16:24\n",
        "2   2015-08-22 15:16:24\n",
        "3   2015-08-22 15:16:55\n",
        "4   2015-08-22 15:17:25\n",
        "Name: formatted_time, dtype: datetime64[ns]\n"
       ]
      },
      {
       "output_type": "stream",
       "stream": "stderr",
       "text": [
        "DEBUG:root:-------------------- 3: 2015-08-22 15:20:55 -> 2015-08-22 15:21:44 --------------------\n"
       ]
      },
      {
       "output_type": "stream",
       "stream": "stderr",
       "text": [
        "DEBUG:root:filtering points Int64Index([], dtype='int64')\n"
       ]
      },
      {
       "output_type": "stream",
       "stream": "stderr",
       "text": [
        "DEBUG:root:after accuracy filtering, filtered list size went from (2, 29) to (2, 29)\n"
       ]
      },
      {
       "output_type": "stream",
       "stream": "stderr",
       "text": [
        "DEBUG:root:quartile values are 0.25    0.416456\n",
        "0.75    0.416456\n",
        "Name: speed, dtype: float64\n"
       ]
      },
      {
       "output_type": "stream",
       "stream": "stderr",
       "text": [
        "DEBUG:root:iqr 0.0\n"
       ]
      },
      {
       "output_type": "stream",
       "stream": "stderr",
       "text": [
        "DEBUG:root:For cluster 0 - 1, distance = 0.0, is_cluster = True\n"
       ]
      },
      {
       "output_type": "stream",
       "stream": "stderr",
       "text": [
        "DEBUG:root:After splitting, segment list is [Segment(0, 1, 0.0)] with size 1\n"
       ]
      },
      {
       "output_type": "stream",
       "stream": "stderr",
       "text": [
        "INFO:root:No jumps, nothing to filter\n"
       ]
      },
      {
       "output_type": "stream",
       "stream": "stderr",
       "text": [
        "DEBUG:root:for section AttrDict({'user_id': UUID('0763de67-f61e-3f5d-90e7-518e69793954'), 'start_time': datetime.datetime(2015, 8, 22, 15, 20, 55), 'end_ts': 1440282104552, 'start_ts': 1440282055499, 'end_time': Timestamp('2015-08-22 15:21:44'), 'activity': <Activities.ON_FOOT: 2>, 'loc_filter': 'time'}), section_df.shape = (2, 29), formatted_time.head() = 0   2015-08-22 15:20:56\n",
        "1   2015-08-22 15:21:12\n",
        "Name: formatted_time, dtype: datetime64[ns]\n"
       ]
      },
      {
       "output_type": "stream",
       "stream": "stderr",
       "text": [
        "DEBUG:root:==================== 2015-08-22 15:21:44 -> 2015-08-22 15:27:16 ====================\n"
       ]
      },
      {
       "output_type": "stream",
       "stream": "stdout",
       "text": [
        "\n",
        "final query = {'metadata.key': 'background/location', '$and': [{'data.mTime': {'$gt': 1440282104552}}, {'data.mTime': {'$lt': 1440282436068}}], 'user_id': UUID('0763de67-f61e-3f5d-90e7-518e69793954'), 'metadata.filter': 'time'} "
       ]
      },
      {
       "output_type": "stream",
       "stream": "stderr",
       "text": [
        "DEBUG:root:-------------------- 0: 2015-08-22 15:21:44 -> 2015-08-22 15:23:57 --------------------\n"
       ]
      },
      {
       "output_type": "stream",
       "stream": "stderr",
       "text": [
        "DEBUG:root:filtering points Int64Index([], dtype='int64')\n"
       ]
      },
      {
       "output_type": "stream",
       "stream": "stderr",
       "text": [
        "DEBUG:root:after accuracy filtering, filtered list size went from (4, 28) to (4, 28)\n"
       ]
      },
      {
       "output_type": "stream",
       "stream": "stderr",
       "text": [
        "DEBUG:root:quartile values are 0.25    0.273790\n",
        "0.75    1.257542\n",
        "Name: speed, dtype: float64\n"
       ]
      },
      {
       "output_type": "stream",
       "stream": "stderr",
       "text": [
        "DEBUG:root:iqr 0.983752533624\n"
       ]
      },
      {
       "output_type": "stream",
       "stream": "stderr",
       "text": [
        "DEBUG:root:For cluster 0 - 3, distance = 57.5170427933, is_cluster = True\n"
       ]
      },
      {
       "output_type": "stream",
       "stream": "stderr",
       "text": [
        "DEBUG:root:After splitting, segment list is [Segment(0, 3, 57.5170427933)] with size 1\n"
       ]
      },
      {
       "output_type": "stream",
       "stream": "stderr",
       "text": [
        "INFO:root:No jumps, nothing to filter\n"
       ]
      },
      {
       "output_type": "stream",
       "stream": "stderr",
       "text": [
        "DEBUG:root:for section AttrDict({'user_id': UUID('0763de67-f61e-3f5d-90e7-518e69793954'), 'start_time': Timestamp('2015-08-22 15:21:44'), 'end_ts': 1440282237237, 'start_ts': 1440282104552, 'end_time': '2015-08-22 15:23:57', 'activity': <Activities.ON_FOOT: 2>, 'loc_filter': 'time'}), section_df.shape = (4, 28), formatted_time.head() = 0   2015-08-22 15:22:16\n",
        "1   2015-08-22 15:22:48\n",
        "2   2015-08-22 15:23:19\n",
        "3   2015-08-22 15:23:51\n",
        "Name: formatted_time, dtype: datetime64[ns]\n"
       ]
      },
      {
       "output_type": "stream",
       "stream": "stderr",
       "text": [
        "DEBUG:root:-------------------- 1: 2015-08-22 15:23:57 -> 2015-08-22 15:27:16 --------------------\n"
       ]
      },
      {
       "output_type": "stream",
       "stream": "stderr",
       "text": [
        "DEBUG:root:filtering points Int64Index([], dtype='int64')\n"
       ]
      },
      {
       "output_type": "stream",
       "stream": "stderr",
       "text": [
        "DEBUG:root:after accuracy filtering, filtered list size went from (6, 28) to (6, 28)\n"
       ]
      },
      {
       "output_type": "stream",
       "stream": "stderr",
       "text": [
        "DEBUG:root:quartile values are 0.25    0.134309\n",
        "0.75    0.248519\n",
        "Name: speed, dtype: float64\n"
       ]
      },
      {
       "output_type": "stream",
       "stream": "stderr",
       "text": [
        "DEBUG:root:iqr 0.114210332243\n"
       ]
      },
      {
       "output_type": "stream",
       "stream": "stderr",
       "text": [
        "DEBUG:root:For cluster 0 - 5, distance = 20.1564906927, is_cluster = True\n"
       ]
      },
      {
       "output_type": "stream",
       "stream": "stderr",
       "text": [
        "DEBUG:root:After splitting, segment list is [Segment(0, 5, 20.1564906927)] with size 1\n"
       ]
      },
      {
       "output_type": "stream",
       "stream": "stderr",
       "text": [
        "INFO:root:No jumps, nothing to filter\n"
       ]
      },
      {
       "output_type": "stream",
       "stream": "stderr",
       "text": [
        "DEBUG:root:for section AttrDict({'user_id': UUID('0763de67-f61e-3f5d-90e7-518e69793954'), 'start_time': datetime.datetime(2015, 8, 22, 15, 23, 57), 'end_ts': 1440282436068, 'start_ts': 1440282237237, 'end_time': Timestamp('2015-08-22 15:27:16'), 'activity': <Activities.IN_VEHICLE: 0>, 'loc_filter': 'time'}), section_df.shape = (6, 28), formatted_time.head() = 0   2015-08-22 15:24:23\n",
        "1   2015-08-22 15:24:52\n",
        "2   2015-08-22 15:25:24\n",
        "3   2015-08-22 15:25:56\n",
        "4   2015-08-22 15:26:12\n",
        "Name: formatted_time, dtype: datetime64[ns]\n"
       ]
      },
      {
       "output_type": "stream",
       "stream": "stderr",
       "text": [
        "DEBUG:root:==================== 2015-08-22 15:27:16 -> 2015-08-22 15:58:33 ====================\n"
       ]
      },
      {
       "output_type": "stream",
       "stream": "stdout",
       "text": [
        "\n",
        "final query = {'metadata.key': 'background/location', '$and': [{'data.mTime': {'$gt': 1440282436068}}, {'data.mTime': {'$lt': 1440284313416}}], 'user_id': UUID('0763de67-f61e-3f5d-90e7-518e69793954'), 'metadata.filter': 'time'} "
       ]
      },
      {
       "output_type": "stream",
       "stream": "stderr",
       "text": [
        "DEBUG:root:-------------------- 0: 2015-08-22 15:27:16 -> 2015-08-22 15:50:34 --------------------\n"
       ]
      },
      {
       "output_type": "stream",
       "stream": "stderr",
       "text": [
        "DEBUG:root:filtering points Int64Index([], dtype='int64')\n"
       ]
      },
      {
       "output_type": "stream",
       "stream": "stderr",
       "text": [
        "DEBUG:root:after accuracy filtering, filtered list size went from (16, 29) to (16, 29)\n"
       ]
      },
      {
       "output_type": "stream",
       "stream": "stderr",
       "text": [
        "DEBUG:root:timeDelta = 0, distanceDelta = %s, returning speed = 0\n"
       ]
      },
      {
       "output_type": "stream",
       "stream": "stderr",
       "text": [
        "DEBUG:root:timeDelta = 0, distanceDelta = %s, returning speed = 0\n"
       ]
      },
      {
       "output_type": "stream",
       "stream": "stderr",
       "text": [
        "DEBUG:root:quartile values are 0.25    0.066259\n",
        "0.75    0.236381\n",
        "Name: speed, dtype: float64\n"
       ]
      },
      {
       "output_type": "stream",
       "stream": "stderr",
       "text": [
        "DEBUG:root:iqr 0.170121742897\n"
       ]
      },
      {
       "output_type": "stream",
       "stream": "stderr",
       "text": [
        "DEBUG:root:For cluster 0 - 15, distance = 7.00056214492, is_cluster = True\n"
       ]
      },
      {
       "output_type": "stream",
       "stream": "stderr",
       "text": [
        "DEBUG:root:After splitting, segment list is [Segment(0, 15, 7.00056214492)] with size 1\n"
       ]
      },
      {
       "output_type": "stream",
       "stream": "stderr",
       "text": [
        "INFO:root:No jumps, nothing to filter\n"
       ]
      },
      {
       "output_type": "stream",
       "stream": "stderr",
       "text": [
        "DEBUG:root:for section AttrDict({'user_id': UUID('0763de67-f61e-3f5d-90e7-518e69793954'), 'start_time': Timestamp('2015-08-22 15:27:16'), 'end_ts': 1440283834694, 'start_ts': 1440282436068, 'end_time': '2015-08-22 15:50:34', 'activity': <Activities.STILL: 3>, 'loc_filter': 'time'}), section_df.shape = (16, 29), formatted_time.head() = 0   2015-08-22 15:27:47\n",
        "1   2015-08-22 15:28:19\n",
        "2   2015-08-22 15:28:51\n",
        "3   2015-08-22 15:29:23\n",
        "4   2015-08-22 15:29:52\n",
        "Name: formatted_time, dtype: datetime64[ns]\n"
       ]
      },
      {
       "output_type": "stream",
       "stream": "stderr",
       "text": [
        "DEBUG:root:-------------------- 1: 2015-08-22 15:50:34 -> 2015-08-22 15:52:14 --------------------\n"
       ]
      },
      {
       "output_type": "stream",
       "stream": "stderr",
       "text": [
        "DEBUG:root:filtering points Int64Index([], dtype='int64')\n"
       ]
      },
      {
       "output_type": "stream",
       "stream": "stderr",
       "text": [
        "DEBUG:root:after accuracy filtering, filtered list size went from (3, 29) to (3, 29)\n"
       ]
      },
      {
       "output_type": "stream",
       "stream": "stderr",
       "text": [
        "DEBUG:root:quartile values are 0.25    3.160083\n",
        "0.75    3.430473\n",
        "Name: speed, dtype: float64\n"
       ]
      },
      {
       "output_type": "stream",
       "stream": "stderr",
       "text": [
        "DEBUG:root:iqr 0.270390241339\n"
       ]
      },
      {
       "output_type": "stream",
       "stream": "stderr",
       "text": [
        "DEBUG:root:For cluster 0 - 2, distance = 113.498796467, is_cluster = False\n"
       ]
      },
      {
       "output_type": "stream",
       "stream": "stderr",
       "text": [
        "DEBUG:root:After splitting, segment list is [Segment(0, 2, 113.498796467)] with size 1\n"
       ]
      },
      {
       "output_type": "stream",
       "stream": "stderr",
       "text": [
        "INFO:root:No jumps, nothing to filter\n"
       ]
      },
      {
       "output_type": "stream",
       "stream": "stderr",
       "text": [
        "DEBUG:root:for section AttrDict({'user_id': UUID('0763de67-f61e-3f5d-90e7-518e69793954'), 'start_time': datetime.datetime(2015, 8, 22, 15, 50, 34), 'end_ts': 1440283934276, 'start_ts': 1440283834694, 'end_time': '2015-08-22 15:52:14', 'activity': <Activities.ON_BICYCLE: 1>, 'loc_filter': 'time'}), section_df.shape = (3, 29), formatted_time.head() = 0   2015-08-22 15:50:56\n",
        "1   2015-08-22 15:51:28\n",
        "2   2015-08-22 15:52:00\n",
        "Name: formatted_time, dtype: datetime64[ns]\n"
       ]
      },
      {
       "output_type": "stream",
       "stream": "stderr",
       "text": [
        "DEBUG:root:-------------------- 2: 2015-08-22 15:52:14 -> 2015-08-22 15:53:14 --------------------\n"
       ]
      },
      {
       "output_type": "stream",
       "stream": "stderr",
       "text": [
        "DEBUG:root:filtering points Int64Index([], dtype='int64')\n"
       ]
      },
      {
       "output_type": "stream",
       "stream": "stderr",
       "text": [
        "DEBUG:root:after accuracy filtering, filtered list size went from (2, 29) to (2, 29)\n"
       ]
      },
      {
       "output_type": "stream",
       "stream": "stderr",
       "text": [
        "DEBUG:root:quartile values are 0.25    0.626356\n",
        "0.75    0.626356\n",
        "Name: speed, dtype: float64\n"
       ]
      },
      {
       "output_type": "stream",
       "stream": "stderr",
       "text": [
        "DEBUG:root:iqr 0.0\n"
       ]
      },
      {
       "output_type": "stream",
       "stream": "stderr",
       "text": [
        "DEBUG:root:For cluster 0 - 1, distance = 0.0, is_cluster = True\n"
       ]
      },
      {
       "output_type": "stream",
       "stream": "stderr",
       "text": [
        "DEBUG:root:After splitting, segment list is [Segment(0, 1, 0.0)] with size 1\n"
       ]
      },
      {
       "output_type": "stream",
       "stream": "stderr",
       "text": [
        "INFO:root:No jumps, nothing to filter\n"
       ]
      },
      {
       "output_type": "stream",
       "stream": "stderr",
       "text": [
        "DEBUG:root:for section AttrDict({'user_id': UUID('0763de67-f61e-3f5d-90e7-518e69793954'), 'start_time': datetime.datetime(2015, 8, 22, 15, 52, 14), 'end_ts': 1440283994612, 'start_ts': 1440283934276, 'end_time': '2015-08-22 15:53:14', 'activity': <Activities.ON_FOOT: 2>, 'loc_filter': 'time'}), section_df.shape = (2, 29), formatted_time.head() = 0   2015-08-22 15:52:32\n",
        "1   2015-08-22 15:53:03\n",
        "Name: formatted_time, dtype: datetime64[ns]\n"
       ]
      },
      {
       "output_type": "stream",
       "stream": "stderr",
       "text": [
        "DEBUG:root:-------------------- 3: 2015-08-22 15:53:14 -> 2015-08-22 15:54:01 --------------------\n"
       ]
      },
      {
       "output_type": "stream",
       "stream": "stderr",
       "text": [
        "DEBUG:root:filtering points Int64Index([], dtype='int64')\n"
       ]
      },
      {
       "output_type": "stream",
       "stream": "stderr",
       "text": [
        "DEBUG:root:after accuracy filtering, filtered list size went from (1, 29) to (1, 29)\n"
       ]
      },
      {
       "output_type": "stream",
       "stream": "stderr",
       "text": [
        "DEBUG:root:quartile values are 0.25   NaN\n",
        "0.75   NaN\n",
        "Name: speed, dtype: float64\n"
       ]
      },
      {
       "output_type": "stream",
       "stream": "stderr",
       "text": [
        "DEBUG:root:iqr nan\n"
       ]
      },
      {
       "output_type": "stream",
       "stream": "stdout",
       "text": [
        "\n",
        "Caught error Cannot assign nan to integer series while processing section, skipping..."
       ]
      },
      {
       "output_type": "stream",
       "stream": "stderr",
       "text": [
        "DEBUG:root:for section AttrDict({'user_id': UUID('0763de67-f61e-3f5d-90e7-518e69793954'), 'start_time': datetime.datetime(2015, 8, 22, 15, 53, 14), 'end_ts': 1440284041482, 'start_ts': 1440283994612, 'end_time': '2015-08-22 15:54:01', 'activity': <Activities.ON_BICYCLE: 1>, 'loc_filter': 'time'}), section_df.shape = (1, 29), formatted_time.head() = 0   2015-08-22 15:53:35\n",
        "Name: formatted_time, dtype: datetime64[ns]\n"
       ]
      },
      {
       "output_type": "stream",
       "stream": "stderr",
       "text": [
        "DEBUG:root:-------------------- 4: 2015-08-22 15:54:01 -> 2015-08-22 15:58:33 --------------------\n"
       ]
      },
      {
       "output_type": "stream",
       "stream": "stderr",
       "text": [
        "DEBUG:root:filtering points Int64Index([], dtype='int64')\n"
       ]
      },
      {
       "output_type": "stream",
       "stream": "stderr",
       "text": [
        "DEBUG:root:after accuracy filtering, filtered list size went from (9, 29) to (9, 29)\n"
       ]
      },
      {
       "output_type": "stream",
       "stream": "stderr",
       "text": [
        "DEBUG:root:quartile values are 0.25    0.651001\n",
        "0.75    1.473402\n",
        "Name: speed, dtype: float64\n"
       ]
      },
      {
       "output_type": "stream",
       "stream": "stderr",
       "text": [
        "DEBUG:root:iqr 0.822401459964\n"
       ]
      },
      {
       "output_type": "stream",
       "stream": "stderr",
       "text": [
        "DEBUG:root:For cluster 0 - 1, distance = 0.0, is_cluster = True\n"
       ]
      },
      {
       "output_type": "stream",
       "stream": "stderr",
       "text": [
        "DEBUG:root:For cluster 1 - 8, distance = 128.556217934, is_cluster = False\n"
       ]
      },
      {
       "output_type": "stream",
       "stream": "stderr",
       "text": [
        "DEBUG:root:After splitting, segment list is [Segment(0, 1, 0.0), Segment(1, 8, 128.556217934)] with size 2\n"
       ]
      },
      {
       "output_type": "stream",
       "stream": "stderr",
       "text": [
        "DEBUG:root:shortest_non_cluster_segment = 1\n"
       ]
      },
      {
       "output_type": "stream",
       "stream": "stderr",
       "text": [
        "DEBUG:root:Finished marking segment states for direction IterationDirection.RIGHT \n"
       ]
      },
      {
       "output_type": "stream",
       "stream": "stderr",
       "text": [
        "DEBUG:root:Processing segment 0: Segment(0, 1, 0.0), expecting state Segment_State.BAD\n"
       ]
      },
      {
       "output_type": "stream",
       "stream": "stderr",
       "text": [
        "DEBUG:root:At the end of the loop for direction IterationDirection.LEFT, i = -1\n"
       ]
      },
      {
       "output_type": "stream",
       "stream": "stderr",
       "text": [
        "DEBUG:root:Finished marking segment states for direction IterationDirection.LEFT \n"
       ]
      },
      {
       "output_type": "stream",
       "stream": "stderr",
       "text": [
        "DEBUG:root:unknown_segments = []\n"
       ]
      },
      {
       "output_type": "stream",
       "stream": "stderr",
       "text": [
        "DEBUG:root:bad_segments = [Segment(0, 1, 0.0)]\n"
       ]
      },
      {
       "output_type": "stream",
       "stream": "stderr",
       "text": [
        "DEBUG:root:after setting values, outlier_mask = [0]\n"
       ]
      },
      {
       "output_type": "stream",
       "stream": "stderr",
       "text": [
        "DEBUG:root:point details are    mLatitude  mLongitude  mAccuracy      formatted_time\n",
        "0  37.392846  -122.08505       58.5 2015-08-22 15:54:07\n"
       ]
      },
      {
       "output_type": "stream",
       "stream": "stderr",
       "text": [
        "DEBUG:root:quartile values are 0.25    0.621170\n",
        "0.75    1.156307\n",
        "Name: speed, dtype: float64\n"
       ]
      },
      {
       "output_type": "stream",
       "stream": "stderr",
       "text": [
        "DEBUG:root:iqr 0.535137049483\n"
       ]
      },
      {
       "output_type": "stream",
       "stream": "stderr",
       "text": [
        "DEBUG:root:for section AttrDict({'user_id': UUID('0763de67-f61e-3f5d-90e7-518e69793954'), 'start_time': datetime.datetime(2015, 8, 22, 15, 54, 1), 'end_ts': 1440284313416, 'start_ts': 1440284041482, 'end_time': Timestamp('2015-08-22 15:58:33'), 'activity': <Activities.ON_FOOT: 2>, 'loc_filter': 'time'}), section_df.shape = (8, 29), formatted_time.head() = 1   2015-08-22 15:54:37\n",
        "2   2015-08-22 15:55:15\n",
        "3   2015-08-22 15:55:45\n",
        "4   2015-08-22 15:56:16\n",
        "5   2015-08-22 15:56:42\n",
        "Name: formatted_time, dtype: datetime64[ns]\n"
       ]
      },
      {
       "output_type": "stream",
       "stream": "stderr",
       "text": [
        "DEBUG:root:==================== 2015-08-22 15:58:33 -> 2015-08-22 16:04:05 ====================\n"
       ]
      },
      {
       "output_type": "stream",
       "stream": "stdout",
       "text": [
        "\n",
        "final query = {'metadata.key': 'background/location', '$and': [{'data.mTime': {'$gt': 1440284313416}}, {'data.mTime': {'$lt': 1440284645166}}], 'user_id': UUID('0763de67-f61e-3f5d-90e7-518e69793954'), 'metadata.filter': 'time'} "
       ]
      },
      {
       "output_type": "stream",
       "stream": "stderr",
       "text": [
        "DEBUG:root:-------------------- 0: 2015-08-22 15:58:33 -> 2015-08-22 16:04:05 --------------------\n"
       ]
      },
      {
       "output_type": "stream",
       "stream": "stderr",
       "text": [
        "DEBUG:root:filtering points Int64Index([], dtype='int64')\n"
       ]
      },
      {
       "output_type": "stream",
       "stream": "stderr",
       "text": [
        "DEBUG:root:after accuracy filtering, filtered list size went from (10, 28) to (10, 28)\n"
       ]
      },
      {
       "output_type": "stream",
       "stream": "stderr",
       "text": [
        "DEBUG:root:quartile values are 0.25    0.102168\n",
        "0.75    0.226871\n",
        "Name: speed, dtype: float64\n"
       ]
      },
      {
       "output_type": "stream",
       "stream": "stderr",
       "text": [
        "DEBUG:root:iqr 0.124702521081\n"
       ]
      },
      {
       "output_type": "stream",
       "stream": "stderr",
       "text": [
        "DEBUG:root:For cluster 0 - 2, distance = 13.5432703889, is_cluster = True\n"
       ]
      },
      {
       "output_type": "stream",
       "stream": "stderr",
       "text": [
        "DEBUG:root:For cluster 2 - 9, distance = 4.56064112783, is_cluster = True\n"
       ]
      },
      {
       "output_type": "stream",
       "stream": "stderr",
       "text": [
        "DEBUG:root:After splitting, segment list is [Segment(0, 2, 13.5432703889), Segment(2, 9, 4.56064112783)] with size 2\n"
       ]
      },
      {
       "output_type": "stream",
       "stream": "stderr",
       "text": [
        "DEBUG:root:Processing segment 1: Segment(2, 9, 4.56064112783), expecting state Segment_State.BAD\n"
       ]
      },
      {
       "output_type": "stream",
       "stream": "stderr",
       "text": [
        "DEBUG:root:At the end of the loop for direction IterationDirection.RIGHT, i = 2\n"
       ]
      },
      {
       "output_type": "stream",
       "stream": "stderr",
       "text": [
        "DEBUG:root:Finished marking segment states for direction IterationDirection.RIGHT \n"
       ]
      },
      {
       "output_type": "stream",
       "stream": "stderr",
       "text": [
        "DEBUG:root:Finished marking segment states for direction IterationDirection.LEFT \n"
       ]
      },
      {
       "output_type": "stream",
       "stream": "stderr",
       "text": [
        "DEBUG:root:unknown_segments = []\n"
       ]
      },
      {
       "output_type": "stream",
       "stream": "stderr",
       "text": [
        "DEBUG:root:bad_segments = [Segment(2, 9, 4.56064112783)]\n"
       ]
      },
      {
       "output_type": "stream",
       "stream": "stderr",
       "text": [
        "DEBUG:root:after setting values, outlier_mask = [2 3 4 5 6 7 8]\n"
       ]
      },
      {
       "output_type": "stream",
       "stream": "stderr",
       "text": [
        "DEBUG:root:point details are    mLatitude  mLongitude  mAccuracy      formatted_time\n",
        "2  37.391108 -122.088963     52.134 2015-08-22 16:00:08\n",
        "3  37.391136 -122.088923     51.000 2015-08-22 16:00:40\n",
        "4  37.391079 -122.088898     31.500 2015-08-22 16:01:12\n",
        "5  37.391074 -122.088911     30.000 2015-08-22 16:01:42\n",
        "6  37.391096 -122.088887     37.500 2015-08-22 16:02:13\n",
        "7  37.391098 -122.088885     36.000 2015-08-22 16:02:45\n",
        "8  37.391080 -122.088925     36.000 2015-08-22 16:03:17\n"
       ]
      },
      {
       "output_type": "stream",
       "stream": "stderr",
       "text": [
        "DEBUG:root:quartile values are 0.25    0.237312\n",
        "0.75    0.362896\n",
        "Name: speed, dtype: float64\n"
       ]
      },
      {
       "output_type": "stream",
       "stream": "stderr",
       "text": [
        "DEBUG:root:iqr 0.125583941843\n"
       ]
      },
      {
       "output_type": "stream",
       "stream": "stderr",
       "text": [
        "DEBUG:root:for section AttrDict({'user_id': UUID('0763de67-f61e-3f5d-90e7-518e69793954'), 'start_time': Timestamp('2015-08-22 15:58:33'), 'end_ts': 1440284645166, 'start_ts': 1440284313416, 'end_time': Timestamp('2015-08-22 16:04:05'), 'activity': <Activities.ON_FOOT: 2>, 'loc_filter': 'time'}), section_df.shape = (3, 28), formatted_time.head() = 0   2015-08-22 15:59:05\n",
        "1   2015-08-22 15:59:37\n",
        "9   2015-08-22 16:03:33\n",
        "Name: formatted_time, dtype: datetime64[ns]\n"
       ]
      },
      {
       "output_type": "stream",
       "stream": "stderr",
       "text": [
        "DEBUG:root:==================== 2015-08-22 16:04:05 -> 2015-08-22 16:39:36 ====================\n"
       ]
      },
      {
       "output_type": "stream",
       "stream": "stdout",
       "text": [
        "\n",
        "final query = {'metadata.key': 'background/location', '$and': [{'data.mTime': {'$gt': 1440284645166}}, {'data.mTime': {'$lt': 1440286776303}}], 'user_id': UUID('0763de67-f61e-3f5d-90e7-518e69793954'), 'metadata.filter': 'time'} "
       ]
      },
      {
       "output_type": "stream",
       "stream": "stderr",
       "text": [
        "DEBUG:root:-------------------- 0: 2015-08-22 16:04:05 -> 2015-08-22 16:39:36 --------------------\n"
       ]
      },
      {
       "output_type": "stream",
       "stream": "stderr",
       "text": [
        "DEBUG:root:filtering points Int64Index([], dtype='int64')\n"
       ]
      },
      {
       "output_type": "stream",
       "stream": "stderr",
       "text": [
        "DEBUG:root:after accuracy filtering, filtered list size went from (9, 28) to (9, 28)\n"
       ]
      },
      {
       "output_type": "stream",
       "stream": "stderr",
       "text": [
        "DEBUG:root:quartile values are 0.25    0.10407\n",
        "0.75    0.19675\n",
        "Name: speed, dtype: float64\n"
       ]
      },
      {
       "output_type": "stream",
       "stream": "stderr",
       "text": [
        "DEBUG:root:iqr 0.0926797120988\n"
       ]
      },
      {
       "output_type": "stream",
       "stream": "stderr",
       "text": [
        "DEBUG:root:For cluster 0 - 8, distance = 2.42562677864, is_cluster = True\n"
       ]
      },
      {
       "output_type": "stream",
       "stream": "stderr",
       "text": [
        "DEBUG:root:After splitting, segment list is [Segment(0, 8, 2.42562677864)] with size 1\n"
       ]
      },
      {
       "output_type": "stream",
       "stream": "stderr",
       "text": [
        "INFO:root:No jumps, nothing to filter\n"
       ]
      },
      {
       "output_type": "stream",
       "stream": "stderr",
       "text": [
        "DEBUG:root:for section AttrDict({'user_id': UUID('0763de67-f61e-3f5d-90e7-518e69793954'), 'start_time': Timestamp('2015-08-22 16:04:05'), 'end_ts': 1440286776303, 'start_ts': 1440284645166, 'end_time': Timestamp('2015-08-22 16:39:36'), 'activity': <Activities.STILL: 3>, 'loc_filter': 'time'}), section_df.shape = (9, 28), formatted_time.head() = 0   2015-08-22 16:04:36\n",
        "1   2015-08-22 16:05:24\n",
        "2   2015-08-22 16:05:40\n",
        "3   2015-08-22 16:06:12\n",
        "4   2015-08-22 16:06:42\n",
        "Name: formatted_time, dtype: datetime64[ns]\n"
       ]
      },
      {
       "output_type": "stream",
       "stream": "stderr",
       "text": [
        "DEBUG:root:==================== 2015-08-22 16:39:36 -> 2015-08-22 16:40:32 ====================\n"
       ]
      },
      {
       "output_type": "stream",
       "stream": "stdout",
       "text": [
        "\n",
        "final query = {'metadata.key': 'background/location', '$and': [{'data.mTime': {'$gt': 1440286776303}}, {'data.mTime': {'$lt': 1440286832745}}], 'user_id': UUID('0763de67-f61e-3f5d-90e7-518e69793954'), 'metadata.filter': 'time'} "
       ]
      },
      {
       "output_type": "stream",
       "stream": "stderr",
       "text": [
        "DEBUG:root:-------------------- 0: 2015-08-22 16:39:36 -> 2015-08-22 16:40:32 --------------------\n"
       ]
      },
      {
       "output_type": "stream",
       "stream": "stderr",
       "text": [
        "DEBUG:root:filtering points Int64Index([], dtype='int64')\n"
       ]
      },
      {
       "output_type": "stream",
       "stream": "stderr",
       "text": [
        "DEBUG:root:after accuracy filtering, filtered list size went from (8, 28) to (8, 28)\n"
       ]
      },
      {
       "output_type": "stream",
       "stream": "stderr",
       "text": [
        "DEBUG:root:quartile values are 0.25    1.188639\n",
        "0.75    1.568490\n",
        "Name: speed, dtype: float64\n"
       ]
      },
      {
       "output_type": "stream",
       "stream": "stderr",
       "text": [
        "DEBUG:root:iqr 0.37985029445\n"
       ]
      },
      {
       "output_type": "stream",
       "stream": "stderr",
       "text": [
        "DEBUG:root:For cluster 0 - 1, distance = 0.0, is_cluster = True\n"
       ]
      },
      {
       "output_type": "stream",
       "stream": "stderr",
       "text": [
        "DEBUG:root:For cluster 1 - 7, distance = 35.7666169101, is_cluster = True\n"
       ]
      },
      {
       "output_type": "stream",
       "stream": "stderr",
       "text": [
        "DEBUG:root:After splitting, segment list is [Segment(0, 1, 0.0), Segment(1, 7, 35.7666169101)] with size 2\n"
       ]
      },
      {
       "output_type": "stream",
       "stream": "stderr",
       "text": [
        "DEBUG:root:Finished marking segment states for direction IterationDirection.RIGHT \n"
       ]
      },
      {
       "output_type": "stream",
       "stream": "stderr",
       "text": [
        "DEBUG:root:Processing segment 0: Segment(0, 1, 0.0), expecting state Segment_State.BAD\n"
       ]
      },
      {
       "output_type": "stream",
       "stream": "stderr",
       "text": [
        "DEBUG:root:At the end of the loop for direction IterationDirection.LEFT, i = -1\n"
       ]
      },
      {
       "output_type": "stream",
       "stream": "stderr",
       "text": [
        "DEBUG:root:Finished marking segment states for direction IterationDirection.LEFT \n"
       ]
      },
      {
       "output_type": "stream",
       "stream": "stderr",
       "text": [
        "DEBUG:root:unknown_segments = []\n"
       ]
      },
      {
       "output_type": "stream",
       "stream": "stderr",
       "text": [
        "DEBUG:root:bad_segments = [Segment(0, 1, 0.0)]\n"
       ]
      },
      {
       "output_type": "stream",
       "stream": "stderr",
       "text": [
        "DEBUG:root:after setting values, outlier_mask = [0]\n"
       ]
      },
      {
       "output_type": "stream",
       "stream": "stderr",
       "text": [
        "DEBUG:root:point details are    mLatitude  mLongitude  mAccuracy      formatted_time\n",
        "0  37.391642 -122.087584         10 2015-08-22 16:39:49\n"
       ]
      },
      {
       "output_type": "stream",
       "stream": "stderr",
       "text": [
        "DEBUG:root:quartile values are 0.25    1.132363\n",
        "0.75    1.478155\n",
        "Name: speed, dtype: float64\n"
       ]
      },
      {
       "output_type": "stream",
       "stream": "stderr",
       "text": [
        "DEBUG:root:iqr 0.345791405158\n"
       ]
      },
      {
       "output_type": "stream",
       "stream": "stderr",
       "text": [
        "DEBUG:root:for section AttrDict({'user_id': UUID('0763de67-f61e-3f5d-90e7-518e69793954'), 'start_time': Timestamp('2015-08-22 16:39:36'), 'end_ts': 1440286832745, 'start_ts': 1440286776303, 'end_time': Timestamp('2015-08-22 16:40:32'), 'activity': <Activities.ON_FOOT: 2>, 'loc_filter': 'time'}), section_df.shape = (7, 28), formatted_time.head() = 1   2015-08-22 16:39:55\n",
        "2   2015-08-22 16:40:01\n",
        "3   2015-08-22 16:40:06\n",
        "4   2015-08-22 16:40:12\n",
        "5   2015-08-22 16:40:17\n",
        "Name: formatted_time, dtype: datetime64[ns]\n"
       ]
      },
      {
       "output_type": "stream",
       "stream": "stderr",
       "text": [
        "DEBUG:root:==================== 2015-08-22 16:40:32 -> 2015-08-22 16:41:18 ====================\n"
       ]
      },
      {
       "output_type": "stream",
       "stream": "stdout",
       "text": [
        "\n",
        "final query = {'metadata.key': 'background/location', '$and': [{'data.mTime': {'$gt': 1440286832745}}, {'data.mTime': {'$lt': 1440286878755}}], 'user_id': UUID('0763de67-f61e-3f5d-90e7-518e69793954'), 'metadata.filter': 'time'} "
       ]
      },
      {
       "output_type": "stream",
       "stream": "stderr",
       "text": [
        "DEBUG:root:-------------------- 0: 2015-08-22 16:40:32 -> 2015-08-22 16:41:18 --------------------\n"
       ]
      },
      {
       "output_type": "stream",
       "stream": "stderr",
       "text": [
        "DEBUG:root:filtering points Int64Index([], dtype='int64')\n"
       ]
      },
      {
       "output_type": "stream",
       "stream": "stderr",
       "text": [
        "DEBUG:root:after accuracy filtering, filtered list size went from (8, 28) to (8, 28)\n"
       ]
      },
      {
       "output_type": "stream",
       "stream": "stderr",
       "text": [
        "DEBUG:root:quartile values are 0.25    1.037143\n",
        "0.75    1.245864\n",
        "Name: speed, dtype: float64\n"
       ]
      },
      {
       "output_type": "stream",
       "stream": "stderr",
       "text": [
        "DEBUG:root:iqr 0.208720845385\n"
       ]
      },
      {
       "output_type": "stream",
       "stream": "stderr",
       "text": [
        "DEBUG:root:For cluster 0 - 7, distance = 34.1841055459, is_cluster = True\n"
       ]
      },
      {
       "output_type": "stream",
       "stream": "stderr",
       "text": [
        "DEBUG:root:After splitting, segment list is [Segment(0, 7, 34.1841055459)] with size 1\n"
       ]
      },
      {
       "output_type": "stream",
       "stream": "stderr",
       "text": [
        "INFO:root:No jumps, nothing to filter\n"
       ]
      },
      {
       "output_type": "stream",
       "stream": "stderr",
       "text": [
        "DEBUG:root:for section AttrDict({'user_id': UUID('0763de67-f61e-3f5d-90e7-518e69793954'), 'start_time': Timestamp('2015-08-22 16:40:32'), 'end_ts': 1440286878755, 'start_ts': 1440286832745, 'end_time': Timestamp('2015-08-22 16:41:18'), 'activity': <Activities.ON_FOOT: 2>, 'loc_filter': 'time'}), section_df.shape = (8, 28), formatted_time.head() = 0   2015-08-22 16:40:37\n",
        "1   2015-08-22 16:40:43\n",
        "2   2015-08-22 16:40:48\n",
        "3   2015-08-22 16:40:53\n",
        "4   2015-08-22 16:40:58\n",
        "Name: formatted_time, dtype: datetime64[ns]\n"
       ]
      },
      {
       "output_type": "stream",
       "stream": "stdout",
       "text": [
        "\n"
       ]
      }
     ],
     "prompt_number": 33
    },
    {
     "cell_type": "code",
     "collapsed": false,
     "input": [
      "ipy.inline_maps([[map] for map in section_map_list_22], len(section_map_list_22), 1)"
     ],
     "language": "python",
     "metadata": {},
     "outputs": [
      {
       "html": [
        "<iframe srcdoc=\"<table width=&quot;100%&quot;>\n",
        "<tr><td>&lt;iframe srcdoc=&quot;&lt;!DOCTYPE html&gt;\n",
        "&lt;head&gt;\n",
        "   &lt;meta http-equiv=&amp;quot;content-type&amp;quot; content=&amp;quot;text/html; charset=UTF-8&amp;quot; /&gt;\n",
        "   &lt;link rel=&amp;quot;stylesheet&amp;quot; href=&amp;quot;https://cdnjs.cloudflare.com/ajax/libs/leaflet/0.7.3/leaflet.css&amp;quot; /&gt;\n",
        "   &lt;script src=&amp;quot;https://cdnjs.cloudflare.com/ajax/libs/leaflet/0.7.3/leaflet.js&amp;quot;&gt;&lt;/script&gt;\n",
        "\n",
        "   &lt;script src=&amp;quot;https://ajax.googleapis.com/ajax/libs/jquery/1.11.1/jquery.min.js&amp;quot;&gt;&lt;/script&gt;\n",
        "\n",
        "   &lt;link rel=&amp;quot;stylesheet&amp;quot; href=&amp;quot;https://maxcdn.bootstrapcdn.com/bootstrap/3.2.0/css/bootstrap.min.css&amp;quot;&gt;\n",
        "   &lt;link rel=&amp;quot;stylesheet&amp;quot; href=&amp;quot;https://maxcdn.bootstrapcdn.com/bootstrap/3.2.0/css/bootstrap-theme.min.css&amp;quot;&gt;\n",
        "   &lt;script src=&amp;quot;https://maxcdn.bootstrapcdn.com/bootstrap/3.2.0/js/bootstrap.min.js&amp;quot;&gt;&lt;/script&gt;\n",
        "\n",
        "   &lt;link href=&amp;quot;https://maxcdn.bootstrapcdn.com/font-awesome/4.1.0/css/font-awesome.min.css&amp;quot; rel=&amp;quot;stylesheet&amp;quot;&gt;\n",
        "\n",
        "   &lt;link rel=&amp;quot;stylesheet&amp;quot; href=&amp;quot;https://rawgit.com/lvoogdt/Leaflet.awesome-markers/2.0/develop/dist/leaflet.awesome-markers.css&amp;quot;&gt;\n",
        "   &lt;script src=&amp;quot;https://rawgithub.com/lvoogdt/Leaflet.awesome-markers/2.0/develop/dist/leaflet.awesome-markers.js&amp;quot;&gt;&lt;/script&gt;\n",
        "\n",
        "\n",
        "   &lt;link rel=&amp;quot;stylesheet&amp;quot; href=&amp;quot;https://cdnjs.cloudflare.com/ajax/libs/leaflet.markercluster/0.4.0/MarkerCluster.Default.css&amp;quot;&gt;\n",
        "   &lt;link rel=&amp;quot;stylesheet&amp;quot; href=&amp;quot;https://cdnjs.cloudflare.com/ajax/libs/leaflet.markercluster/0.4.0/MarkerCluster.css&amp;quot;&gt;\n",
        "   &lt;script src=&amp;quot;https://cdnjs.cloudflare.com/ajax/libs/leaflet.markercluster/0.4.0/leaflet.markercluster-src.js&amp;quot;&gt;&lt;/script&gt;\n",
        "   &lt;script src=&amp;quot;https://cdnjs.cloudflare.com/ajax/libs/leaflet.markercluster/0.4.0/leaflet.markercluster.js&amp;quot;&gt;&lt;/script&gt;\n",
        "\n",
        "   &lt;link rel=&amp;quot;stylesheet&amp;quot; href=&amp;quot;https://birdage.github.io/Leaflet.awesome-markers/dist/leaflet.awesome.rotate.css&amp;quot;&gt;\n",
        "\n",
        "   \n",
        "   \n",
        "   \n",
        "   \n",
        "\n",
        "   &lt;style&gt;\n",
        "\n",
        "      html, body {\n",
        "        width: 100%;\n",
        "        height: 100%;\n",
        "        margin: 0;\n",
        "        padding: 0;\n",
        "      }\n",
        "\n",
        "      #map {\n",
        "        position:absolute;\n",
        "        top:0;\n",
        "        bottom:0;\n",
        "        right:0;\n",
        "        left:0;\n",
        "      }\n",
        "\n",
        "   &lt;/style&gt;\n",
        "&lt;/head&gt;\n",
        "\n",
        "&lt;body&gt;\n",
        "\n",
        "   &lt;div class=&amp;quot;folium-map&amp;quot; id=&amp;quot;folium_d6d69a8eb72946aeb84a7efad2268d28&amp;quot; style=&amp;quot;width: 100%; height: 100%&amp;quot;&gt;&lt;/div&gt;\n",
        "\n",
        "   &lt;script&gt;\n",
        "\n",
        "      \n",
        "\n",
        "      var base_tile = L.tileLayer('https://{s}.tile.openstreetmap.org/{z}/{x}/{y}.png', {\n",
        "          maxZoom: 18,\n",
        "          minZoom: 1,\n",
        "          attribution: 'Map data (c) &lt;a href=&amp;quot;http://openstreetmap.org&amp;quot;&gt;OpenStreetMap&lt;/a&gt; contributors'\n",
        "      });\n",
        "\n",
        "      var baseLayer = {\n",
        "        &amp;quot;Base Layer&amp;quot;: base_tile\n",
        "      };\n",
        "\n",
        "      /*\n",
        "      addition of the wms layers\n",
        "      */\n",
        "\n",
        "      \n",
        "\n",
        "      /*\n",
        "      addition of the tile layers\n",
        "      */\n",
        "      \n",
        "\n",
        "      /*\n",
        "      list of layers to be added\n",
        "      */\n",
        "      var layer_list = {\n",
        "      \n",
        "      };\n",
        "\n",
        "      /*\n",
        "      Bounding box.\n",
        "      */\n",
        "      var southWest = L.latLng(-90, -180),\n",
        "          northEast = L.latLng(90, 180),\n",
        "          bounds = L.latLngBounds(southWest, northEast);\n",
        "\n",
        "      /*\n",
        "      Creates the map and adds the selected layers\n",
        "      */\n",
        "      var map = L.map('folium_d6d69a8eb72946aeb84a7efad2268d28', {\n",
        "                                       center:[37.39321534, -122.09255916],\n",
        "                                       zoom: 10,\n",
        "                                       maxBounds: bounds,\n",
        "                                       layers: [base_tile]\n",
        "                                     });\n",
        "\n",
        "      L.control.layers(baseLayer, layer_list).addTo(map);\n",
        "\n",
        "      //cluster group\n",
        "      var clusteredmarkers = L.markerClusterGroup();\n",
        "      //section for adding clustered markers\n",
        "      \n",
        "      //add the clustered markers to the group anyway\n",
        "      map.addLayer(clusteredmarkers);\n",
        "\n",
        "      \n",
        "\n",
        "      \n",
        "      var div_marker_1_0_icon = L.divIcon({className: 'leaflet-div-icon', 'iconSize': [5,5]});\n",
        "      var div_marker_1_0 = L.marker([37.3923462, \n",
        "\t\t\t\t\t\t\t-122.0908239],\n",
        "\t\t\t\t\t\t\t{'icon':div_marker_1_0_icon}\n",
        "\t\t\t\t\t\t\t);\n",
        "      div_marker_1_0.bindPopup(&amp;quot;{u'mProvider': u'fused', 'formatted_time': Timestamp('2015-08-22 11:05:25'), u'mHasAccuracy': True, u'mHasAltitude': False, u'write_ts': 1440266728446, u'mLat1': 0, u'mDistance': 0, u'mLat2': 0, u'platform': u'android', u'mAccuracy': 42.0, u'mLon1': 0, u'mLon2': 0, u'type': u'message', u'mLatitude': 37.3923462, u'mAltitude': 0, u'mSpeed': 0, u'key': u'background/location', u'mInitialBearing': 0, u'mHasSpeed': False, u'read_ts': 0, u'mElapsedRealtimeNanos': 162255823000000, u'mResults': [0, 0], u'mBearing': 0, u'mLongitude': -122.0908239, u'mIsFromMockProvider': False, u'filter': u'time', u'mTime': 1440266725280, u'mHasBearing': False}&amp;quot;);\n",
        "      div_marker_1_0._popup.options.maxWidth = 300;\n",
        "      map.addLayer(div_marker_1_0)\n",
        "      \n",
        "      var div_marker_1_1_icon = L.divIcon({className: 'leaflet-div-icon', 'iconSize': [5,5]});\n",
        "      var div_marker_1_1 = L.marker([37.3927786, \n",
        "\t\t\t\t\t\t\t-122.0915287],\n",
        "\t\t\t\t\t\t\t{'icon':div_marker_1_1_icon}\n",
        "\t\t\t\t\t\t\t);\n",
        "      div_marker_1_1.bindPopup(&amp;quot;{u'mProvider': u'fused', 'formatted_time': Timestamp('2015-08-22 11:05:55'), u'mHasAccuracy': True, u'mHasAltitude': False, u'write_ts': 1440266759237, u'mLat1': 0, u'mDistance': 0, u'mLat2': 0, u'platform': u'android', u'mAccuracy': 25.0, u'mLon1': 0, u'mLon2': 0, u'type': u'message', u'mLatitude': 37.3927786, u'mAltitude': 0, u'mSpeed': 0, u'key': u'background/location', u'mInitialBearing': 0, u'mHasSpeed': False, u'read_ts': 0, u'mElapsedRealtimeNanos': 162285800000000, u'mResults': [0, 0], u'mBearing': 0, u'mLongitude': -122.0915287, u'mIsFromMockProvider': False, u'filter': u'time', u'mTime': 1440266755256, u'mHasBearing': False}&amp;quot;);\n",
        "      div_marker_1_1._popup.options.maxWidth = 300;\n",
        "      map.addLayer(div_marker_1_1)\n",
        "      \n",
        "      var div_marker_1_2_icon = L.divIcon({className: 'leaflet-div-icon', 'iconSize': [5,5]});\n",
        "      var div_marker_1_2 = L.marker([37.3931815, \n",
        "\t\t\t\t\t\t\t-122.0922534],\n",
        "\t\t\t\t\t\t\t{'icon':div_marker_1_2_icon}\n",
        "\t\t\t\t\t\t\t);\n",
        "      div_marker_1_2.bindPopup(&amp;quot;{u'mProvider': u'fused', 'formatted_time': Timestamp('2015-08-22 11:06:25'), u'mHasAccuracy': True, u'mHasAltitude': False, u'write_ts': 1440266787992, u'mLat1': 0, u'mDistance': 0, u'mLat2': 0, u'platform': u'android', u'mAccuracy': 30.0, u'mLon1': 0, u'mLon2': 0, u'type': u'message', u'mLatitude': 37.3931815, u'mAltitude': 0, u'mSpeed': 0, u'key': u'background/location', u'mInitialBearing': 0, u'mHasSpeed': False, u'read_ts': 0, u'mElapsedRealtimeNanos': 162315826000000, u'mResults': [0, 0], u'mBearing': 0, u'mLongitude': -122.0922534, u'mIsFromMockProvider': False, u'filter': u'time', u'mTime': 1440266785282, u'mHasBearing': False}&amp;quot;);\n",
        "      div_marker_1_2._popup.options.maxWidth = 300;\n",
        "      map.addLayer(div_marker_1_2)\n",
        "      \n",
        "      var div_marker_1_3_icon = L.divIcon({className: 'leaflet-div-icon', 'iconSize': [5,5]});\n",
        "      var div_marker_1_3 = L.marker([37.3935603, \n",
        "\t\t\t\t\t\t\t-122.0936589],\n",
        "\t\t\t\t\t\t\t{'icon':div_marker_1_3_icon}\n",
        "\t\t\t\t\t\t\t);\n",
        "      div_marker_1_3.bindPopup(&amp;quot;{u'mProvider': u'fused', 'formatted_time': Timestamp('2015-08-22 11:06:55'), u'mHasAccuracy': True, u'mHasAltitude': False, u'write_ts': 1440266818280, u'mLat1': 0, u'mDistance': 0, u'mLat2': 0, u'platform': u'android', u'mAccuracy': 34.5, u'mLon1': 0, u'mLon2': 0, u'type': u'message', u'mLatitude': 37.3935603, u'mAltitude': 0, u'mSpeed': 0, u'key': u'background/location', u'mInitialBearing': 0, u'mHasSpeed': False, u'read_ts': 0, u'mElapsedRealtimeNanos': 162345823000000, u'mResults': [0, 0], u'mBearing': 0, u'mLongitude': -122.0936589, u'mIsFromMockProvider': False, u'filter': u'time', u'mTime': 1440266815279, u'mHasBearing': False}&amp;quot;);\n",
        "      div_marker_1_3._popup.options.maxWidth = 300;\n",
        "      map.addLayer(div_marker_1_3)\n",
        "      \n",
        "      var div_marker_1_4_icon = L.divIcon({className: 'leaflet-div-icon', 'iconSize': [5,5]});\n",
        "      var div_marker_1_4 = L.marker([37.3942101, \n",
        "\t\t\t\t\t\t\t-122.0945309],\n",
        "\t\t\t\t\t\t\t{'icon':div_marker_1_4_icon}\n",
        "\t\t\t\t\t\t\t);\n",
        "      div_marker_1_4.bindPopup(&amp;quot;{u'mProvider': u'fused', 'formatted_time': Timestamp('2015-08-22 11:07:25'), u'mHasAccuracy': True, u'mHasAltitude': False, u'write_ts': 1440266848779, u'mLat1': 0, u'mDistance': 0, u'mLat2': 0, u'platform': u'android', u'mAccuracy': 84.328, u'mLon1': 0, u'mLon2': 0, u'type': u'message', u'mLatitude': 37.3942101, u'mAltitude': 0, u'mSpeed': 0, u'key': u'background/location', u'mInitialBearing': 0, u'mHasSpeed': False, u'read_ts': 0, u'mElapsedRealtimeNanos': 162375908000000, u'mResults': [0, 0], u'mBearing': 0, u'mLongitude': -122.0945309, u'mIsFromMockProvider': False, u'filter': u'time', u'mTime': 1440266845365, u'mHasBearing': False}&amp;quot;);\n",
        "      div_marker_1_4._popup.options.maxWidth = 300;\n",
        "      map.addLayer(div_marker_1_4)\n",
        "      \n",
        "\n",
        "      \n",
        "\n",
        "      \n",
        "      var latLngs = [ [37.3923462, -122.0908239],  [37.3927786, -122.0915287],  [37.3931815, -122.0922534],  [37.3935603, -122.0936589],  [37.3942101, -122.0945309], ];\n",
        "var line_1 = L.polyline(latLngs,{\n",
        "color: 'blue',\n",
        "\n",
        "\n",
        "});\n",
        "      line_1.bindPopup(&amp;quot;Activities.ON_BICYCLE&amp;quot;);\n",
        "      line_1._popup.options.maxWidth = 300;\n",
        "      map.addLayer(line_1);\n",
        "      \n",
        "\n",
        "      \n",
        "\n",
        "      \n",
        "\n",
        "      \n",
        "\n",
        "\n",
        "\n",
        "   &lt;/script&gt;\n",
        "\n",
        "&lt;/body&gt;&quot; style=&quot;width: 100%; height: 510px; border: none&quot;&gt;&lt;/iframe&gt;</td></tr>\n",
        "<tr><td>&lt;iframe srcdoc=&quot;&lt;!DOCTYPE html&gt;\n",
        "&lt;head&gt;\n",
        "   &lt;meta http-equiv=&amp;quot;content-type&amp;quot; content=&amp;quot;text/html; charset=UTF-8&amp;quot; /&gt;\n",
        "   &lt;link rel=&amp;quot;stylesheet&amp;quot; href=&amp;quot;https://cdnjs.cloudflare.com/ajax/libs/leaflet/0.7.3/leaflet.css&amp;quot; /&gt;\n",
        "   &lt;script src=&amp;quot;https://cdnjs.cloudflare.com/ajax/libs/leaflet/0.7.3/leaflet.js&amp;quot;&gt;&lt;/script&gt;\n",
        "\n",
        "   &lt;script src=&amp;quot;https://ajax.googleapis.com/ajax/libs/jquery/1.11.1/jquery.min.js&amp;quot;&gt;&lt;/script&gt;\n",
        "\n",
        "   &lt;link rel=&amp;quot;stylesheet&amp;quot; href=&amp;quot;https://maxcdn.bootstrapcdn.com/bootstrap/3.2.0/css/bootstrap.min.css&amp;quot;&gt;\n",
        "   &lt;link rel=&amp;quot;stylesheet&amp;quot; href=&amp;quot;https://maxcdn.bootstrapcdn.com/bootstrap/3.2.0/css/bootstrap-theme.min.css&amp;quot;&gt;\n",
        "   &lt;script src=&amp;quot;https://maxcdn.bootstrapcdn.com/bootstrap/3.2.0/js/bootstrap.min.js&amp;quot;&gt;&lt;/script&gt;\n",
        "\n",
        "   &lt;link href=&amp;quot;https://maxcdn.bootstrapcdn.com/font-awesome/4.1.0/css/font-awesome.min.css&amp;quot; rel=&amp;quot;stylesheet&amp;quot;&gt;\n",
        "\n",
        "   &lt;link rel=&amp;quot;stylesheet&amp;quot; href=&amp;quot;https://rawgit.com/lvoogdt/Leaflet.awesome-markers/2.0/develop/dist/leaflet.awesome-markers.css&amp;quot;&gt;\n",
        "   &lt;script src=&amp;quot;https://rawgithub.com/lvoogdt/Leaflet.awesome-markers/2.0/develop/dist/leaflet.awesome-markers.js&amp;quot;&gt;&lt;/script&gt;\n",
        "\n",
        "\n",
        "   &lt;link rel=&amp;quot;stylesheet&amp;quot; href=&amp;quot;https://cdnjs.cloudflare.com/ajax/libs/leaflet.markercluster/0.4.0/MarkerCluster.Default.css&amp;quot;&gt;\n",
        "   &lt;link rel=&amp;quot;stylesheet&amp;quot; href=&amp;quot;https://cdnjs.cloudflare.com/ajax/libs/leaflet.markercluster/0.4.0/MarkerCluster.css&amp;quot;&gt;\n",
        "   &lt;script src=&amp;quot;https://cdnjs.cloudflare.com/ajax/libs/leaflet.markercluster/0.4.0/leaflet.markercluster-src.js&amp;quot;&gt;&lt;/script&gt;\n",
        "   &lt;script src=&amp;quot;https://cdnjs.cloudflare.com/ajax/libs/leaflet.markercluster/0.4.0/leaflet.markercluster.js&amp;quot;&gt;&lt;/script&gt;\n",
        "\n",
        "   &lt;link rel=&amp;quot;stylesheet&amp;quot; href=&amp;quot;https://birdage.github.io/Leaflet.awesome-markers/dist/leaflet.awesome.rotate.css&amp;quot;&gt;\n",
        "\n",
        "   \n",
        "   \n",
        "   \n",
        "   \n",
        "\n",
        "   &lt;style&gt;\n",
        "\n",
        "      html, body {\n",
        "        width: 100%;\n",
        "        height: 100%;\n",
        "        margin: 0;\n",
        "        padding: 0;\n",
        "      }\n",
        "\n",
        "      #map {\n",
        "        position:absolute;\n",
        "        top:0;\n",
        "        bottom:0;\n",
        "        right:0;\n",
        "        left:0;\n",
        "      }\n",
        "\n",
        "   &lt;/style&gt;\n",
        "&lt;/head&gt;\n",
        "\n",
        "&lt;body&gt;\n",
        "\n",
        "   &lt;div class=&amp;quot;folium-map&amp;quot; id=&amp;quot;folium_eb6367af1fa844809327bd73de14c03d&amp;quot; style=&amp;quot;width: 100%; height: 100%&amp;quot;&gt;&lt;/div&gt;\n",
        "\n",
        "   &lt;script&gt;\n",
        "\n",
        "      \n",
        "\n",
        "      var base_tile = L.tileLayer('https://{s}.tile.openstreetmap.org/{z}/{x}/{y}.png', {\n",
        "          maxZoom: 18,\n",
        "          minZoom: 1,\n",
        "          attribution: 'Map data (c) &lt;a href=&amp;quot;http://openstreetmap.org&amp;quot;&gt;OpenStreetMap&lt;/a&gt; contributors'\n",
        "      });\n",
        "\n",
        "      var baseLayer = {\n",
        "        &amp;quot;Base Layer&amp;quot;: base_tile\n",
        "      };\n",
        "\n",
        "      /*\n",
        "      addition of the wms layers\n",
        "      */\n",
        "\n",
        "      \n",
        "\n",
        "      /*\n",
        "      addition of the tile layers\n",
        "      */\n",
        "      \n",
        "\n",
        "      /*\n",
        "      list of layers to be added\n",
        "      */\n",
        "      var layer_list = {\n",
        "      \n",
        "      };\n",
        "\n",
        "      /*\n",
        "      Bounding box.\n",
        "      */\n",
        "      var southWest = L.latLng(-90, -180),\n",
        "          northEast = L.latLng(90, 180),\n",
        "          bounds = L.latLngBounds(southWest, northEast);\n",
        "\n",
        "      /*\n",
        "      Creates the map and adds the selected layers\n",
        "      */\n",
        "      var map = L.map('folium_eb6367af1fa844809327bd73de14c03d', {\n",
        "                                       center:[37.393923, -122.095993622],\n",
        "                                       zoom: 10,\n",
        "                                       maxBounds: bounds,\n",
        "                                       layers: [base_tile]\n",
        "                                     });\n",
        "\n",
        "      L.control.layers(baseLayer, layer_list).addTo(map);\n",
        "\n",
        "      //cluster group\n",
        "      var clusteredmarkers = L.markerClusterGroup();\n",
        "      //section for adding clustered markers\n",
        "      \n",
        "      //add the clustered markers to the group anyway\n",
        "      map.addLayer(clusteredmarkers);\n",
        "\n",
        "      \n",
        "\n",
        "      \n",
        "      var div_marker_1_0_icon = L.divIcon({className: 'leaflet-div-icon', 'iconSize': [5,5]});\n",
        "      var div_marker_1_0 = L.marker([37.3940608, \n",
        "\t\t\t\t\t\t\t-122.0956094],\n",
        "\t\t\t\t\t\t\t{'icon':div_marker_1_0_icon}\n",
        "\t\t\t\t\t\t\t);\n",
        "      div_marker_1_0.bindPopup(&amp;quot;{u'mProvider': u'fused', 'formatted_time': Timestamp('2015-08-22 11:08:25'), u'mHasAccuracy': True, u'mHasAltitude': False, u'write_ts': 1440266909563, u'mLat1': 0, u'mDistance': 0, u'mLat2': 0, u'platform': u'android', u'mAccuracy': 41.688, u'mLon1': 0, u'mLon2': 0, u'type': u'message', u'mLatitude': 37.3940608, u'mAltitude': 0, u'mSpeed': 0, u'key': u'background/location', u'mInitialBearing': 0, u'mHasSpeed': False, u'read_ts': 0, u'mElapsedRealtimeNanos': 162435962000000, u'mResults': [0, 0], u'mBearing': 0, u'mLongitude': -122.0956094, u'mIsFromMockProvider': False, u'filter': u'time', u'mTime': 1440266905419, u'mHasBearing': False}&amp;quot;);\n",
        "      div_marker_1_0._popup.options.maxWidth = 300;\n",
        "      map.addLayer(div_marker_1_0)\n",
        "      \n",
        "      var div_marker_1_1_icon = L.divIcon({className: 'leaflet-div-icon', 'iconSize': [5,5]});\n",
        "      var div_marker_1_1 = L.marker([37.3939216, \n",
        "\t\t\t\t\t\t\t-122.0959716],\n",
        "\t\t\t\t\t\t\t{'icon':div_marker_1_1_icon}\n",
        "\t\t\t\t\t\t\t);\n",
        "      div_marker_1_1.bindPopup(&amp;quot;{u'mProvider': u'fused', 'formatted_time': Timestamp('2015-08-22 11:08:55'), u'mHasAccuracy': True, u'mHasAltitude': False, u'write_ts': 1440266935811, u'mLat1': 0, u'mDistance': 0, u'mLat2': 0, u'platform': u'android', u'mAccuracy': 57.0, u'mLon1': 0, u'mLon2': 0, u'type': u'message', u'mLatitude': 37.3939216, u'mAltitude': 0, u'mSpeed': 0, u'key': u'background/location', u'mInitialBearing': 0, u'mHasSpeed': False, u'read_ts': 0, u'mElapsedRealtimeNanos': 162466026000000, u'mResults': [0, 0], u'mBearing': 0, u'mLongitude': -122.0959716, u'mIsFromMockProvider': False, u'filter': u'time', u'mTime': 1440266935482, u'mHasBearing': False}&amp;quot;);\n",
        "      div_marker_1_1._popup.options.maxWidth = 300;\n",
        "      map.addLayer(div_marker_1_1)\n",
        "      \n",
        "      var div_marker_1_2_icon = L.divIcon({className: 'leaflet-div-icon', 'iconSize': [5,5]});\n",
        "      var div_marker_1_2 = L.marker([37.39388, \n",
        "\t\t\t\t\t\t\t-122.0960433],\n",
        "\t\t\t\t\t\t\t{'icon':div_marker_1_2_icon}\n",
        "\t\t\t\t\t\t\t);\n",
        "      div_marker_1_2.bindPopup(&amp;quot;{u'mProvider': u'fused', 'formatted_time': Timestamp('2015-08-22 11:09:25'), u'mHasAccuracy': True, u'mHasAltitude': False, u'write_ts': 1440266965843, u'mLat1': 0, u'mDistance': 0, u'mLat2': 0, u'platform': u'android', u'mAccuracy': 45.0, u'mLon1': 0, u'mLon2': 0, u'type': u'message', u'mLatitude': 37.39388, u'mAltitude': 0, u'mSpeed': 0, u'key': u'background/location', u'mInitialBearing': 0, u'mHasSpeed': False, u'read_ts': 0, u'mElapsedRealtimeNanos': 162495968000000, u'mResults': [0, 0], u'mBearing': 0, u'mLongitude': -122.0960433, u'mIsFromMockProvider': False, u'filter': u'time', u'mTime': 1440266965424, u'mHasBearing': False}&amp;quot;);\n",
        "      div_marker_1_2._popup.options.maxWidth = 300;\n",
        "      map.addLayer(div_marker_1_2)\n",
        "      \n",
        "      var div_marker_1_3_icon = L.divIcon({className: 'leaflet-div-icon', 'iconSize': [5,5]});\n",
        "      var div_marker_1_3 = L.marker([37.3938216, \n",
        "\t\t\t\t\t\t\t-122.0963066],\n",
        "\t\t\t\t\t\t\t{'icon':div_marker_1_3_icon}\n",
        "\t\t\t\t\t\t\t);\n",
        "      div_marker_1_3.bindPopup(&amp;quot;{u'mProvider': u'fused', 'formatted_time': Timestamp('2015-08-22 11:09:55'), u'mHasAccuracy': True, u'mHasAltitude': False, u'write_ts': 1440266995784, u'mLat1': 0, u'mDistance': 0, u'mLat2': 0, u'platform': u'android', u'mAccuracy': 30.0, u'mLon1': 0, u'mLon2': 0, u'type': u'message', u'mLatitude': 37.3938216, u'mAltitude': 0, u'mSpeed': 0, u'key': u'background/location', u'mInitialBearing': 0, u'mHasSpeed': False, u'read_ts': 0, u'mElapsedRealtimeNanos': 162526036000000, u'mResults': [0, 0], u'mBearing': 0, u'mLongitude': -122.0963066, u'mIsFromMockProvider': False, u'filter': u'time', u'mTime': 1440266995492, u'mHasBearing': False}&amp;quot;);\n",
        "      div_marker_1_3._popup.options.maxWidth = 300;\n",
        "      map.addLayer(div_marker_1_3)\n",
        "      \n",
        "      var div_marker_1_4_icon = L.divIcon({className: 'leaflet-div-icon', 'iconSize': [5,5]});\n",
        "      var div_marker_1_4 = L.marker([37.3938565, \n",
        "\t\t\t\t\t\t\t-122.0962399],\n",
        "\t\t\t\t\t\t\t{'icon':div_marker_1_4_icon}\n",
        "\t\t\t\t\t\t\t);\n",
        "      div_marker_1_4.bindPopup(&amp;quot;{u'mProvider': u'fused', 'formatted_time': Timestamp('2015-08-22 11:10:25'), u'mHasAccuracy': True, u'mHasAltitude': False, u'write_ts': 1440267025744, u'mLat1': 0, u'mDistance': 0, u'mLat2': 0, u'platform': u'android', u'mAccuracy': 61.5, u'mLon1': 0, u'mLon2': 0, u'type': u'message', u'mLatitude': 37.3938565, u'mAltitude': 0, u'mSpeed': 0, u'key': u'background/location', u'mInitialBearing': 0, u'mHasSpeed': False, u'read_ts': 0, u'mElapsedRealtimeNanos': 162555956000000, u'mResults': [0, 0], u'mBearing': 0, u'mLongitude': -122.0962399, u'mIsFromMockProvider': False, u'filter': u'time', u'mTime': 1440267025412, u'mHasBearing': False}&amp;quot;);\n",
        "      div_marker_1_4._popup.options.maxWidth = 300;\n",
        "      map.addLayer(div_marker_1_4)\n",
        "      \n",
        "      var div_marker_1_5_icon = L.divIcon({className: 'leaflet-div-icon', 'iconSize': [5,5]});\n",
        "      var div_marker_1_5 = L.marker([37.3938796, \n",
        "\t\t\t\t\t\t\t-122.0959008],\n",
        "\t\t\t\t\t\t\t{'icon':div_marker_1_5_icon}\n",
        "\t\t\t\t\t\t\t);\n",
        "      div_marker_1_5.bindPopup(&amp;quot;{u'mProvider': u'fused', 'formatted_time': Timestamp('2015-08-22 11:10:55'), u'mHasAccuracy': True, u'mHasAltitude': False, u'write_ts': 1440267055866, u'mLat1': 0, u'mDistance': 0, u'mLat2': 0, u'platform': u'android', u'mAccuracy': 40.5, u'mLon1': 0, u'mLon2': 0, u'type': u'message', u'mLatitude': 37.3938796, u'mAltitude': 0, u'mSpeed': 0, u'key': u'background/location', u'mInitialBearing': 0, u'mHasSpeed': False, u'read_ts': 0, u'mElapsedRealtimeNanos': 162586037000000, u'mResults': [0, 0], u'mBearing': 0, u'mLongitude': -122.0959008, u'mIsFromMockProvider': False, u'filter': u'time', u'mTime': 1440267055493, u'mHasBearing': False}&amp;quot;);\n",
        "      div_marker_1_5._popup.options.maxWidth = 300;\n",
        "      map.addLayer(div_marker_1_5)\n",
        "      \n",
        "      var div_marker_1_6_icon = L.divIcon({className: 'leaflet-div-icon', 'iconSize': [5,5]});\n",
        "      var div_marker_1_6 = L.marker([37.3938749, \n",
        "\t\t\t\t\t\t\t-122.0960757],\n",
        "\t\t\t\t\t\t\t{'icon':div_marker_1_6_icon}\n",
        "\t\t\t\t\t\t\t);\n",
        "      div_marker_1_6.bindPopup(&amp;quot;{u'mProvider': u'fused', 'formatted_time': Timestamp('2015-08-22 11:11:25'), u'mHasAccuracy': True, u'mHasAltitude': False, u'write_ts': 1440267085873, u'mLat1': 0, u'mDistance': 0, u'mLat2': 0, u'platform': u'android', u'mAccuracy': 45.0, u'mLon1': 0, u'mLon2': 0, u'type': u'message', u'mLatitude': 37.3938749, u'mAltitude': 0, u'mSpeed': 0, u'key': u'background/location', u'mInitialBearing': 0, u'mHasSpeed': False, u'read_ts': 0, u'mElapsedRealtimeNanos': 162616021000000, u'mResults': [0, 0], u'mBearing': 0, u'mLongitude': -122.0960757, u'mIsFromMockProvider': False, u'filter': u'time', u'mTime': 1440267085478, u'mHasBearing': False}&amp;quot;);\n",
        "      div_marker_1_6._popup.options.maxWidth = 300;\n",
        "      map.addLayer(div_marker_1_6)\n",
        "      \n",
        "      var div_marker_1_7_icon = L.divIcon({className: 'leaflet-div-icon', 'iconSize': [5,5]});\n",
        "      var div_marker_1_7 = L.marker([37.3938663, \n",
        "\t\t\t\t\t\t\t-122.0962237],\n",
        "\t\t\t\t\t\t\t{'icon':div_marker_1_7_icon}\n",
        "\t\t\t\t\t\t\t);\n",
        "      div_marker_1_7.bindPopup(&amp;quot;{u'mProvider': u'fused', 'formatted_time': Timestamp('2015-08-22 11:11:55'), u'mHasAccuracy': True, u'mHasAltitude': False, u'write_ts': 1440267116033, u'mLat1': 0, u'mDistance': 0, u'mLat2': 0, u'platform': u'android', u'mAccuracy': 52.5, u'mLon1': 0, u'mLon2': 0, u'type': u'message', u'mLatitude': 37.3938663, u'mAltitude': 0, u'mSpeed': 0, u'key': u'background/location', u'mInitialBearing': 0, u'mHasSpeed': False, u'read_ts': 0, u'mElapsedRealtimeNanos': 162646098000000, u'mResults': [0, 0], u'mBearing': 0, u'mLongitude': -122.0962237, u'mIsFromMockProvider': False, u'filter': u'time', u'mTime': 1440267115555, u'mHasBearing': False}&amp;quot;);\n",
        "      div_marker_1_7._popup.options.maxWidth = 300;\n",
        "      map.addLayer(div_marker_1_7)\n",
        "      \n",
        "      var div_marker_1_8_icon = L.divIcon({className: 'leaflet-div-icon', 'iconSize': [5,5]});\n",
        "      var div_marker_1_8 = L.marker([37.3941457, \n",
        "\t\t\t\t\t\t\t-122.0955716],\n",
        "\t\t\t\t\t\t\t{'icon':div_marker_1_8_icon}\n",
        "\t\t\t\t\t\t\t);\n",
        "      div_marker_1_8.bindPopup(&amp;quot;{u'mProvider': u'fused', 'formatted_time': Timestamp('2015-08-22 11:12:25'), u'mHasAccuracy': True, u'mHasAltitude': False, u'write_ts': 1440267145909, u'mLat1': 0, u'mDistance': 0, u'mLat2': 0, u'platform': u'android', u'mAccuracy': 36.0, u'mLon1': 0, u'mLon2': 0, u'type': u'message', u'mLatitude': 37.3941457, u'mAltitude': 0, u'mSpeed': 0, u'key': u'background/location', u'mInitialBearing': 0, u'mHasSpeed': False, u'read_ts': 0, u'mElapsedRealtimeNanos': 162676083000000, u'mResults': [0, 0], u'mBearing': 0, u'mLongitude': -122.0955716, u'mIsFromMockProvider': False, u'filter': u'time', u'mTime': 1440267145539, u'mHasBearing': False}&amp;quot;);\n",
        "      div_marker_1_8._popup.options.maxWidth = 300;\n",
        "      map.addLayer(div_marker_1_8)\n",
        "      \n",
        "\n",
        "      \n",
        "\n",
        "      \n",
        "      var latLngs = [ [37.3940608, -122.0956094],  [37.3939216, -122.0959716],  [37.39388, -122.0960433],  [37.3938216, -122.0963066],  [37.3938565, -122.0962399],  [37.3938796, -122.0959008],  [37.3938749, -122.0960757],  [37.3938663, -122.0962237],  [37.3941457, -122.0955716], ];\n",
        "var line_1 = L.polyline(latLngs,{\n",
        "color: 'blue',\n",
        "\n",
        "\n",
        "});\n",
        "      line_1.bindPopup(&amp;quot;Activities.ON_BICYCLE&amp;quot;);\n",
        "      line_1._popup.options.maxWidth = 300;\n",
        "      map.addLayer(line_1);\n",
        "      \n",
        "\n",
        "      \n",
        "\n",
        "      \n",
        "\n",
        "      \n",
        "\n",
        "\n",
        "\n",
        "   &lt;/script&gt;\n",
        "\n",
        "&lt;/body&gt;&quot; style=&quot;width: 100%; height: 510px; border: none&quot;&gt;&lt;/iframe&gt;</td></tr>\n",
        "<tr><td>&lt;iframe srcdoc=&quot;&lt;!DOCTYPE html&gt;\n",
        "&lt;head&gt;\n",
        "   &lt;meta http-equiv=&amp;quot;content-type&amp;quot; content=&amp;quot;text/html; charset=UTF-8&amp;quot; /&gt;\n",
        "   &lt;link rel=&amp;quot;stylesheet&amp;quot; href=&amp;quot;https://cdnjs.cloudflare.com/ajax/libs/leaflet/0.7.3/leaflet.css&amp;quot; /&gt;\n",
        "   &lt;script src=&amp;quot;https://cdnjs.cloudflare.com/ajax/libs/leaflet/0.7.3/leaflet.js&amp;quot;&gt;&lt;/script&gt;\n",
        "\n",
        "   &lt;script src=&amp;quot;https://ajax.googleapis.com/ajax/libs/jquery/1.11.1/jquery.min.js&amp;quot;&gt;&lt;/script&gt;\n",
        "\n",
        "   &lt;link rel=&amp;quot;stylesheet&amp;quot; href=&amp;quot;https://maxcdn.bootstrapcdn.com/bootstrap/3.2.0/css/bootstrap.min.css&amp;quot;&gt;\n",
        "   &lt;link rel=&amp;quot;stylesheet&amp;quot; href=&amp;quot;https://maxcdn.bootstrapcdn.com/bootstrap/3.2.0/css/bootstrap-theme.min.css&amp;quot;&gt;\n",
        "   &lt;script src=&amp;quot;https://maxcdn.bootstrapcdn.com/bootstrap/3.2.0/js/bootstrap.min.js&amp;quot;&gt;&lt;/script&gt;\n",
        "\n",
        "   &lt;link href=&amp;quot;https://maxcdn.bootstrapcdn.com/font-awesome/4.1.0/css/font-awesome.min.css&amp;quot; rel=&amp;quot;stylesheet&amp;quot;&gt;\n",
        "\n",
        "   &lt;link rel=&amp;quot;stylesheet&amp;quot; href=&amp;quot;https://rawgit.com/lvoogdt/Leaflet.awesome-markers/2.0/develop/dist/leaflet.awesome-markers.css&amp;quot;&gt;\n",
        "   &lt;script src=&amp;quot;https://rawgithub.com/lvoogdt/Leaflet.awesome-markers/2.0/develop/dist/leaflet.awesome-markers.js&amp;quot;&gt;&lt;/script&gt;\n",
        "\n",
        "\n",
        "   &lt;link rel=&amp;quot;stylesheet&amp;quot; href=&amp;quot;https://cdnjs.cloudflare.com/ajax/libs/leaflet.markercluster/0.4.0/MarkerCluster.Default.css&amp;quot;&gt;\n",
        "   &lt;link rel=&amp;quot;stylesheet&amp;quot; href=&amp;quot;https://cdnjs.cloudflare.com/ajax/libs/leaflet.markercluster/0.4.0/MarkerCluster.css&amp;quot;&gt;\n",
        "   &lt;script src=&amp;quot;https://cdnjs.cloudflare.com/ajax/libs/leaflet.markercluster/0.4.0/leaflet.markercluster-src.js&amp;quot;&gt;&lt;/script&gt;\n",
        "   &lt;script src=&amp;quot;https://cdnjs.cloudflare.com/ajax/libs/leaflet.markercluster/0.4.0/leaflet.markercluster.js&amp;quot;&gt;&lt;/script&gt;\n",
        "\n",
        "   &lt;link rel=&amp;quot;stylesheet&amp;quot; href=&amp;quot;https://birdage.github.io/Leaflet.awesome-markers/dist/leaflet.awesome.rotate.css&amp;quot;&gt;\n",
        "\n",
        "   \n",
        "   \n",
        "   \n",
        "   \n",
        "\n",
        "   &lt;style&gt;\n",
        "\n",
        "      html, body {\n",
        "        width: 100%;\n",
        "        height: 100%;\n",
        "        margin: 0;\n",
        "        padding: 0;\n",
        "      }\n",
        "\n",
        "      #map {\n",
        "        position:absolute;\n",
        "        top:0;\n",
        "        bottom:0;\n",
        "        right:0;\n",
        "        left:0;\n",
        "      }\n",
        "\n",
        "   &lt;/style&gt;\n",
        "&lt;/head&gt;\n",
        "\n",
        "&lt;body&gt;\n",
        "\n",
        "   &lt;div class=&amp;quot;folium-map&amp;quot; id=&amp;quot;folium_9a83305eefd141d08606c1b64ebd9bf7&amp;quot; style=&amp;quot;width: 100%; height: 100%&amp;quot;&gt;&lt;/div&gt;\n",
        "\n",
        "   &lt;script&gt;\n",
        "\n",
        "      \n",
        "\n",
        "      var base_tile = L.tileLayer('https://{s}.tile.openstreetmap.org/{z}/{x}/{y}.png', {\n",
        "          maxZoom: 18,\n",
        "          minZoom: 1,\n",
        "          attribution: 'Map data (c) &lt;a href=&amp;quot;http://openstreetmap.org&amp;quot;&gt;OpenStreetMap&lt;/a&gt; contributors'\n",
        "      });\n",
        "\n",
        "      var baseLayer = {\n",
        "        &amp;quot;Base Layer&amp;quot;: base_tile\n",
        "      };\n",
        "\n",
        "      /*\n",
        "      addition of the wms layers\n",
        "      */\n",
        "\n",
        "      \n",
        "\n",
        "      /*\n",
        "      addition of the tile layers\n",
        "      */\n",
        "      \n",
        "\n",
        "      /*\n",
        "      list of layers to be added\n",
        "      */\n",
        "      var layer_list = {\n",
        "      \n",
        "      };\n",
        "\n",
        "      /*\n",
        "      Bounding box.\n",
        "      */\n",
        "      var southWest = L.latLng(-90, -180),\n",
        "          northEast = L.latLng(90, 180),\n",
        "          bounds = L.latLngBounds(southWest, northEast);\n",
        "\n",
        "      /*\n",
        "      Creates the map and adds the selected layers\n",
        "      */\n",
        "      var map = L.map('folium_9a83305eefd141d08606c1b64ebd9bf7', {\n",
        "                                       center:[37.3933076688, -122.093958863],\n",
        "                                       zoom: 10,\n",
        "                                       maxBounds: bounds,\n",
        "                                       layers: [base_tile]\n",
        "                                     });\n",
        "\n",
        "      L.control.layers(baseLayer, layer_list).addTo(map);\n",
        "\n",
        "      //cluster group\n",
        "      var clusteredmarkers = L.markerClusterGroup();\n",
        "      //section for adding clustered markers\n",
        "      \n",
        "      //add the clustered markers to the group anyway\n",
        "      map.addLayer(clusteredmarkers);\n",
        "\n",
        "      \n",
        "\n",
        "      \n",
        "      var div_marker_1_0_icon = L.divIcon({className: 'leaflet-div-icon', 'iconSize': [5,5]});\n",
        "      var div_marker_1_0 = L.marker([37.3938309, \n",
        "\t\t\t\t\t\t\t-122.0962219],\n",
        "\t\t\t\t\t\t\t{'icon':div_marker_1_0_icon}\n",
        "\t\t\t\t\t\t\t);\n",
        "      div_marker_1_0.bindPopup(&amp;quot;{u'mProvider': u'fused', 'formatted_time': Timestamp('2015-08-22 11:13:25'), u'mHasAccuracy': True, u'mHasAltitude': False, u'write_ts': 1440267205939, u'mLat1': 0, u'mDistance': 0, u'mLat2': 0, u'platform': u'android', u'mAccuracy': 45.0, u'mLon1': 0, u'mLon2': 0, u'type': u'message', u'mLatitude': 37.3938309, u'mAltitude': 0, u'mExtras': nan, u'mSpeed': 0, u'key': u'background/location', u'mInitialBearing': 0, u'mHasSpeed': False, u'read_ts': 0, u'mElapsedRealtimeNanos': 162736117000000, u'mResults': [0, 0], u'mBearing': 0, u'mLongitude': -122.0962219, u'mIsFromMockProvider': False, u'filter': u'time', u'mTime': 1440267205574, u'mHasBearing': False}&amp;quot;);\n",
        "      div_marker_1_0._popup.options.maxWidth = 300;\n",
        "      map.addLayer(div_marker_1_0)\n",
        "      \n",
        "      var div_marker_1_1_icon = L.divIcon({className: 'leaflet-div-icon', 'iconSize': [5,5]});\n",
        "      var div_marker_1_1 = L.marker([37.3938798, \n",
        "\t\t\t\t\t\t\t-122.0961711],\n",
        "\t\t\t\t\t\t\t{'icon':div_marker_1_1_icon}\n",
        "\t\t\t\t\t\t\t);\n",
        "      div_marker_1_1.bindPopup(&amp;quot;{u'mProvider': u'fused', 'formatted_time': Timestamp('2015-08-22 11:13:55'), u'mHasAccuracy': True, u'mHasAltitude': False, u'write_ts': 1440267235982, u'mLat1': 0, u'mDistance': 0, u'mLat2': 0, u'platform': u'android', u'mAccuracy': 100.5, u'mLon1': 0, u'mLon2': 0, u'type': u'message', u'mLatitude': 37.3938798, u'mAltitude': 0, u'mExtras': nan, u'mSpeed': 0, u'key': u'background/location', u'mInitialBearing': 0, u'mHasSpeed': False, u'read_ts': 0, u'mElapsedRealtimeNanos': 162766140000000, u'mResults': [0, 0], u'mBearing': 0, u'mLongitude': -122.0961711, u'mIsFromMockProvider': False, u'filter': u'time', u'mTime': 1440267235596, u'mHasBearing': False}&amp;quot;);\n",
        "      div_marker_1_1._popup.options.maxWidth = 300;\n",
        "      map.addLayer(div_marker_1_1)\n",
        "      \n",
        "      var div_marker_1_2_icon = L.divIcon({className: 'leaflet-div-icon', 'iconSize': [5,5]});\n",
        "      var div_marker_1_2 = L.marker([37.39384, \n",
        "\t\t\t\t\t\t\t-122.0963011],\n",
        "\t\t\t\t\t\t\t{'icon':div_marker_1_2_icon}\n",
        "\t\t\t\t\t\t\t);\n",
        "      div_marker_1_2.bindPopup(&amp;quot;{u'mProvider': u'fused', 'formatted_time': Timestamp('2015-08-22 11:14:25'), u'mHasAccuracy': True, u'mHasAltitude': False, u'write_ts': 1440267266019, u'mLat1': 0, u'mDistance': 0, u'mLat2': 0, u'platform': u'android', u'mAccuracy': 36.0, u'mLon1': 0, u'mLon2': 0, u'type': u'message', u'mLatitude': 37.39384, u'mAltitude': 0, u'mExtras': nan, u'mSpeed': 0, u'key': u'background/location', u'mInitialBearing': 0, u'mHasSpeed': False, u'read_ts': 0, u'mElapsedRealtimeNanos': 162796136000000, u'mResults': [0, 0], u'mBearing': 0, u'mLongitude': -122.0963011, u'mIsFromMockProvider': False, u'filter': u'time', u'mTime': 1440267265592, u'mHasBearing': False}&amp;quot;);\n",
        "      div_marker_1_2._popup.options.maxWidth = 300;\n",
        "      map.addLayer(div_marker_1_2)\n",
        "      \n",
        "      var div_marker_1_3_icon = L.divIcon({className: 'leaflet-div-icon', 'iconSize': [5,5]});\n",
        "      var div_marker_1_3 = L.marker([37.3939197, \n",
        "\t\t\t\t\t\t\t-122.0957395],\n",
        "\t\t\t\t\t\t\t{'icon':div_marker_1_3_icon}\n",
        "\t\t\t\t\t\t\t);\n",
        "      div_marker_1_3.bindPopup(&amp;quot;{u'mProvider': u'fused', 'formatted_time': Timestamp('2015-08-22 11:14:55'), u'mHasAccuracy': True, u'mHasAltitude': False, u'write_ts': 1440267296136, u'mLat1': 0, u'mDistance': 0, u'mLat2': 0, u'platform': u'android', u'mAccuracy': 42.0, u'mLon1': 0, u'mLon2': 0, u'type': u'message', u'mLatitude': 37.3939197, u'mAltitude': 0, u'mExtras': nan, u'mSpeed': 0, u'key': u'background/location', u'mInitialBearing': 0, u'mHasSpeed': False, u'read_ts': 0, u'mElapsedRealtimeNanos': 162826235000000, u'mResults': [0, 0], u'mBearing': 0, u'mLongitude': -122.0957395, u'mIsFromMockProvider': False, u'filter': u'time', u'mTime': 1440267295691, u'mHasBearing': False}&amp;quot;);\n",
        "      div_marker_1_3._popup.options.maxWidth = 300;\n",
        "      map.addLayer(div_marker_1_3)\n",
        "      \n",
        "      var div_marker_1_4_icon = L.divIcon({className: 'leaflet-div-icon', 'iconSize': [5,5]});\n",
        "      var div_marker_1_4 = L.marker([37.3938457, \n",
        "\t\t\t\t\t\t\t-122.0960065],\n",
        "\t\t\t\t\t\t\t{'icon':div_marker_1_4_icon}\n",
        "\t\t\t\t\t\t\t);\n",
        "      div_marker_1_4.bindPopup(&amp;quot;{u'mProvider': u'fused', 'formatted_time': Timestamp('2015-08-22 11:15:25'), u'mHasAccuracy': True, u'mHasAltitude': False, u'write_ts': 1440267326129, u'mLat1': 0, u'mDistance': 0, u'mLat2': 0, u'platform': u'android', u'mAccuracy': 84.0, u'mLon1': 0, u'mLon2': 0, u'type': u'message', u'mLatitude': 37.3938457, u'mAltitude': 0, u'mExtras': nan, u'mSpeed': 0, u'key': u'background/location', u'mInitialBearing': 0, u'mHasSpeed': False, u'read_ts': 0, u'mElapsedRealtimeNanos': 162856245000000, u'mResults': [0, 0], u'mBearing': 0, u'mLongitude': -122.0960065, u'mIsFromMockProvider': False, u'filter': u'time', u'mTime': 1440267325701, u'mHasBearing': False}&amp;quot;);\n",
        "      div_marker_1_4._popup.options.maxWidth = 300;\n",
        "      map.addLayer(div_marker_1_4)\n",
        "      \n",
        "      var div_marker_1_5_icon = L.divIcon({className: 'leaflet-div-icon', 'iconSize': [5,5]});\n",
        "      var div_marker_1_5 = L.marker([37.3939327, \n",
        "\t\t\t\t\t\t\t-122.0958339],\n",
        "\t\t\t\t\t\t\t{'icon':div_marker_1_5_icon}\n",
        "\t\t\t\t\t\t\t);\n",
        "      div_marker_1_5.bindPopup(&amp;quot;{u'mProvider': u'fused', 'formatted_time': Timestamp('2015-08-22 11:15:55'), u'mHasAccuracy': True, u'mHasAltitude': False, u'write_ts': 1440267355996, u'mLat1': 0, u'mDistance': 0, u'mLat2': 0, u'platform': u'android', u'mAccuracy': 55.5, u'mLon1': 0, u'mLon2': 0, u'type': u'message', u'mLatitude': 37.3939327, u'mAltitude': 0, u'mExtras': nan, u'mSpeed': 0, u'key': u'background/location', u'mInitialBearing': 0, u'mHasSpeed': False, u'read_ts': 0, u'mElapsedRealtimeNanos': 162886218000000, u'mResults': [0, 0], u'mBearing': 0, u'mLongitude': -122.0958339, u'mIsFromMockProvider': False, u'filter': u'time', u'mTime': 1440267355675, u'mHasBearing': False}&amp;quot;);\n",
        "      div_marker_1_5._popup.options.maxWidth = 300;\n",
        "      map.addLayer(div_marker_1_5)\n",
        "      \n",
        "      var div_marker_1_6_icon = L.divIcon({className: 'leaflet-div-icon', 'iconSize': [5,5]});\n",
        "      var div_marker_1_6 = L.marker([37.3938903, \n",
        "\t\t\t\t\t\t\t-122.0960365],\n",
        "\t\t\t\t\t\t\t{'icon':div_marker_1_6_icon}\n",
        "\t\t\t\t\t\t\t);\n",
        "      div_marker_1_6.bindPopup(&amp;quot;{u'mProvider': u'fused', 'formatted_time': Timestamp('2015-08-22 11:16:25'), u'mHasAccuracy': True, u'mHasAltitude': False, u'write_ts': 1440267386128, u'mLat1': 0, u'mDistance': 0, u'mLat2': 0, u'platform': u'android', u'mAccuracy': 45.0, u'mLon1': 0, u'mLon2': 0, u'type': u'message', u'mLatitude': 37.3938903, u'mAltitude': 0, u'mExtras': nan, u'mSpeed': 0, u'key': u'background/location', u'mInitialBearing': 0, u'mHasSpeed': False, u'read_ts': 0, u'mElapsedRealtimeNanos': 162916286000000, u'mResults': [0, 0], u'mBearing': 0, u'mLongitude': -122.0960365, u'mIsFromMockProvider': False, u'filter': u'time', u'mTime': 1440267385742, u'mHasBearing': False}&amp;quot;);\n",
        "      div_marker_1_6._popup.options.maxWidth = 300;\n",
        "      map.addLayer(div_marker_1_6)\n",
        "      \n",
        "      var div_marker_1_7_icon = L.divIcon({className: 'leaflet-div-icon', 'iconSize': [5,5]});\n",
        "      var div_marker_1_7 = L.marker([37.3941722, \n",
        "\t\t\t\t\t\t\t-122.0955871],\n",
        "\t\t\t\t\t\t\t{'icon':div_marker_1_7_icon}\n",
        "\t\t\t\t\t\t\t);\n",
        "      div_marker_1_7.bindPopup(&amp;quot;{u'mProvider': u'fused', 'formatted_time': Timestamp('2015-08-22 11:16:55'), u'mHasAccuracy': True, u'mHasAltitude': False, u'write_ts': 1440267416195, u'mLat1': 0, u'mDistance': 0, u'mLat2': 0, u'platform': u'android', u'mAccuracy': 39.0, u'mLon1': 0, u'mLon2': 0, u'type': u'message', u'mLatitude': 37.3941722, u'mAltitude': 0, u'mExtras': nan, u'mSpeed': 0, u'key': u'background/location', u'mInitialBearing': 0, u'mHasSpeed': False, u'read_ts': 0, u'mElapsedRealtimeNanos': 162946317000000, u'mResults': [0, 0], u'mBearing': 0, u'mLongitude': -122.0955871, u'mIsFromMockProvider': False, u'filter': u'time', u'mTime': 1440267415774, u'mHasBearing': False}&amp;quot;);\n",
        "      div_marker_1_7._popup.options.maxWidth = 300;\n",
        "      map.addLayer(div_marker_1_7)\n",
        "      \n",
        "      var div_marker_2_0_icon = L.divIcon({className: 'leaflet-div-icon', 'iconSize': [5,5]});\n",
        "      var div_marker_2_0 = L.marker([37.3938447, \n",
        "\t\t\t\t\t\t\t-122.0958181],\n",
        "\t\t\t\t\t\t\t{'icon':div_marker_2_0_icon}\n",
        "\t\t\t\t\t\t\t);\n",
        "      div_marker_2_0.bindPopup(&amp;quot;{u'mProvider': u'fused', 'formatted_time': Timestamp('2015-08-22 11:17:25'), u'mHasAccuracy': True, u'mHasAltitude': False, u'write_ts': 1440267446141, u'mLat1': 0, u'mDistance': 0, u'mLat2': 0, u'platform': u'android', u'mAccuracy': 33.0, u'mLon1': 0, u'mLon2': 0, u'type': u'message', u'mLatitude': 37.3938447, u'mAltitude': 0, u'mExtras': nan, u'mSpeed': 0, u'key': u'background/location', u'mInitialBearing': 0, u'mHasSpeed': False, u'read_ts': 0, u'mElapsedRealtimeNanos': 162976312000000, u'mResults': [0, 0], u'mBearing': 0, u'mLongitude': -122.0958181, u'mIsFromMockProvider': False, u'filter': u'time', u'mTime': 1440267445769, u'mHasBearing': False}&amp;quot;);\n",
        "      div_marker_2_0._popup.options.maxWidth = 300;\n",
        "      map.addLayer(div_marker_2_0)\n",
        "      \n",
        "      var div_marker_2_1_icon = L.divIcon({className: 'leaflet-div-icon', 'iconSize': [5,5]});\n",
        "      var div_marker_2_1 = L.marker([37.3935522, \n",
        "\t\t\t\t\t\t\t-122.0937148],\n",
        "\t\t\t\t\t\t\t{'icon':div_marker_2_1_icon}\n",
        "\t\t\t\t\t\t\t);\n",
        "      div_marker_2_1.bindPopup(&amp;quot;{u'mProvider': u'fused', 'formatted_time': Timestamp('2015-08-22 11:21:16'), u'mHasAccuracy': True, u'mHasAltitude': False, u'write_ts': 1440267677032, u'mLat1': 0, u'mDistance': 0, u'mLat2': 0, u'platform': u'android', u'mAccuracy': 57.0, u'mLon1': 0, u'mLon2': 0, u'type': u'message', u'mLatitude': 37.3935522, u'mAltitude': 0, u'mExtras': nan, u'mSpeed': 0, u'key': u'background/location', u'mInitialBearing': 0, u'mHasSpeed': False, u'read_ts': 0, u'mElapsedRealtimeNanos': 163207134000000, u'mResults': [0, 0], u'mBearing': 0, u'mLongitude': -122.0937148, u'mIsFromMockProvider': False, u'filter': u'time', u'mTime': 1440267676590, u'mHasBearing': False}&amp;quot;);\n",
        "      div_marker_2_1._popup.options.maxWidth = 300;\n",
        "      map.addLayer(div_marker_2_1)\n",
        "      \n",
        "      var div_marker_2_2_icon = L.divIcon({className: 'leaflet-div-icon', 'iconSize': [5,5]});\n",
        "      var div_marker_2_2 = L.marker([37.3935522, \n",
        "\t\t\t\t\t\t\t-122.0937148],\n",
        "\t\t\t\t\t\t\t{'icon':div_marker_2_2_icon}\n",
        "\t\t\t\t\t\t\t);\n",
        "      div_marker_2_2.bindPopup(&amp;quot;{u'mProvider': u'fused', 'formatted_time': Timestamp('2015-08-22 11:21:16'), u'mHasAccuracy': True, u'mHasAltitude': False, u'write_ts': 1440267677927, u'mLat1': 0, u'mDistance': 0, u'mLat2': 0, u'platform': u'android', u'mAccuracy': 57.0, u'mLon1': 0, u'mLon2': 0, u'type': u'message', u'mLatitude': 37.3935522, u'mAltitude': 0, u'mExtras': {u'mAllowFds': True, u'mFdsKnown': True, u'mHasFds': False, u'mParcelledData': {u'mNativePtr': 1497532936, u'mOwnsNativeParcelObject': True}}, u'mSpeed': 0, u'key': u'background/location', u'mInitialBearing': 0, u'mHasSpeed': False, u'read_ts': 0, u'mElapsedRealtimeNanos': 163207134000000, u'mResults': [0, 0], u'mBearing': 0, u'mLongitude': -122.0937148, u'mIsFromMockProvider': False, u'filter': u'time', u'mTime': 1440267676590, u'mHasBearing': False}&amp;quot;);\n",
        "      div_marker_2_2._popup.options.maxWidth = 300;\n",
        "      map.addLayer(div_marker_2_2)\n",
        "      \n",
        "      var div_marker_2_3_icon = L.divIcon({className: 'leaflet-div-icon', 'iconSize': [5,5]});\n",
        "      var div_marker_2_3 = L.marker([37.3920385, \n",
        "\t\t\t\t\t\t\t-122.0907352],\n",
        "\t\t\t\t\t\t\t{'icon':div_marker_2_3_icon}\n",
        "\t\t\t\t\t\t\t);\n",
        "      div_marker_2_3.bindPopup(&amp;quot;{u'mProvider': u'fused', 'formatted_time': Timestamp('2015-08-22 11:22:21'), u'mHasAccuracy': True, u'mHasAltitude': False, u'write_ts': 1440267743579, u'mLat1': 0, u'mDistance': 0, u'mLat2': 0, u'platform': u'android', u'mAccuracy': 30.0, u'mLon1': 0, u'mLon2': 0, u'type': u'message', u'mLatitude': 37.3920385, u'mAltitude': 0, u'mExtras': nan, u'mSpeed': 0, u'key': u'background/location', u'mInitialBearing': 0, u'mHasSpeed': False, u'read_ts': 0, u'mElapsedRealtimeNanos': 163271691000000, u'mResults': [0, 0], u'mBearing': 0, u'mLongitude': -122.0907352, u'mIsFromMockProvider': False, u'filter': u'time', u'mTime': 1440267741147, u'mHasBearing': False}&amp;quot;);\n",
        "      div_marker_2_3._popup.options.maxWidth = 300;\n",
        "      map.addLayer(div_marker_2_3)\n",
        "      \n",
        "      var div_marker_2_4_icon = L.divIcon({className: 'leaflet-div-icon', 'iconSize': [5,5]});\n",
        "      var div_marker_2_4 = L.marker([37.391713, \n",
        "\t\t\t\t\t\t\t-122.0895755],\n",
        "\t\t\t\t\t\t\t{'icon':div_marker_2_4_icon}\n",
        "\t\t\t\t\t\t\t);\n",
        "      div_marker_2_4.bindPopup(&amp;quot;{u'mProvider': u'fused', 'formatted_time': Timestamp('2015-08-22 11:22:51'), u'mHasAccuracy': True, u'mHasAltitude': False, u'write_ts': 1440267774109, u'mLat1': 0, u'mDistance': 0, u'mLat2': 0, u'platform': u'android', u'mAccuracy': 45.687, u'mLon1': 0, u'mLon2': 0, u'type': u'message', u'mLatitude': 37.391713, u'mAltitude': 0, u'mExtras': nan, u'mSpeed': 0, u'key': u'background/location', u'mInitialBearing': 0, u'mHasSpeed': False, u'read_ts': 0, u'mElapsedRealtimeNanos': 163301718000000, u'mResults': [0, 0], u'mBearing': 0, u'mLongitude': -122.0895755, u'mIsFromMockProvider': False, u'filter': u'time', u'mTime': 1440267771175, u'mHasBearing': False}&amp;quot;);\n",
        "      div_marker_2_4._popup.options.maxWidth = 300;\n",
        "      map.addLayer(div_marker_2_4)\n",
        "      \n",
        "      var div_marker_2_5_icon = L.divIcon({className: 'leaflet-div-icon', 'iconSize': [5,5]});\n",
        "      var div_marker_2_5 = L.marker([37.3913046, \n",
        "\t\t\t\t\t\t\t-122.0884554],\n",
        "\t\t\t\t\t\t\t{'icon':div_marker_2_5_icon}\n",
        "\t\t\t\t\t\t\t);\n",
        "      div_marker_2_5.bindPopup(&amp;quot;{u'mProvider': u'fused', 'formatted_time': Timestamp('2015-08-22 11:23:21'), u'mHasAccuracy': True, u'mHasAltitude': False, u'write_ts': 1440267804218, u'mLat1': 0, u'mDistance': 0, u'mLat2': 0, u'platform': u'android', u'mAccuracy': 35.929, u'mLon1': 0, u'mLon2': 0, u'type': u'message', u'mLatitude': 37.3913046, u'mAltitude': 0, u'mExtras': nan, u'mSpeed': 0, u'key': u'background/location', u'mInitialBearing': 0, u'mHasSpeed': False, u'read_ts': 0, u'mElapsedRealtimeNanos': 163331702000000, u'mResults': [0, 0], u'mBearing': 0, u'mLongitude': -122.0884554, u'mIsFromMockProvider': False, u'filter': u'time', u'mTime': 1440267801158, u'mHasBearing': False}&amp;quot;);\n",
        "      div_marker_2_5._popup.options.maxWidth = 300;\n",
        "      map.addLayer(div_marker_2_5)\n",
        "      \n",
        "\n",
        "      \n",
        "\n",
        "      \n",
        "      var latLngs = [ [37.3938309, -122.0962219],  [37.3938798, -122.0961711],  [37.39384, -122.0963011],  [37.3939197, -122.0957395],  [37.3938457, -122.0960065],  [37.3939327, -122.0958339],  [37.3938903, -122.0960365],  [37.3941722, -122.0955871], ];\n",
        "var line_1 = L.polyline(latLngs,{\n",
        "color: 'cyan',\n",
        "\n",
        "\n",
        "});\n",
        "      line_1.bindPopup(&amp;quot;Activities.STILL&amp;quot;);\n",
        "      line_1._popup.options.maxWidth = 300;\n",
        "      map.addLayer(line_1);\n",
        "      \n",
        "      var latLngs = [ [37.3938447, -122.0958181],  [37.3935522, -122.0937148],  [37.3935522, -122.0937148],  [37.3920385, -122.0907352],  [37.391713, -122.0895755],  [37.3913046, -122.0884554], ];\n",
        "var line_2 = L.polyline(latLngs,{\n",
        "color: 'blue',\n",
        "\n",
        "\n",
        "});\n",
        "      line_2.bindPopup(&amp;quot;Activities.ON_BICYCLE&amp;quot;);\n",
        "      line_2._popup.options.maxWidth = 300;\n",
        "      map.addLayer(line_2);\n",
        "      \n",
        "      var latLngs = [ [37.3941722, -122.0955871],  [37.3938447, -122.0958181], ];\n",
        "var line_3 = L.polyline(latLngs,{\n",
        "color: 'yellow',\n",
        "\n",
        "\n",
        "});\n",
        "      line_3.bindPopup(&amp;quot;Activities.STILL -&gt; Activities.ON_BICYCLE&amp;quot;);\n",
        "      line_3._popup.options.maxWidth = 300;\n",
        "      map.addLayer(line_3);\n",
        "      \n",
        "\n",
        "      \n",
        "\n",
        "      \n",
        "\n",
        "      \n",
        "\n",
        "\n",
        "\n",
        "   &lt;/script&gt;\n",
        "\n",
        "&lt;/body&gt;&quot; style=&quot;width: 100%; height: 510px; border: none&quot;&gt;&lt;/iframe&gt;</td></tr>\n",
        "<tr><td>&lt;iframe srcdoc=&quot;&lt;!DOCTYPE html&gt;\n",
        "&lt;head&gt;\n",
        "   &lt;meta http-equiv=&amp;quot;content-type&amp;quot; content=&amp;quot;text/html; charset=UTF-8&amp;quot; /&gt;\n",
        "   &lt;link rel=&amp;quot;stylesheet&amp;quot; href=&amp;quot;https://cdnjs.cloudflare.com/ajax/libs/leaflet/0.7.3/leaflet.css&amp;quot; /&gt;\n",
        "   &lt;script src=&amp;quot;https://cdnjs.cloudflare.com/ajax/libs/leaflet/0.7.3/leaflet.js&amp;quot;&gt;&lt;/script&gt;\n",
        "\n",
        "   &lt;script src=&amp;quot;https://ajax.googleapis.com/ajax/libs/jquery/1.11.1/jquery.min.js&amp;quot;&gt;&lt;/script&gt;\n",
        "\n",
        "   &lt;link rel=&amp;quot;stylesheet&amp;quot; href=&amp;quot;https://maxcdn.bootstrapcdn.com/bootstrap/3.2.0/css/bootstrap.min.css&amp;quot;&gt;\n",
        "   &lt;link rel=&amp;quot;stylesheet&amp;quot; href=&amp;quot;https://maxcdn.bootstrapcdn.com/bootstrap/3.2.0/css/bootstrap-theme.min.css&amp;quot;&gt;\n",
        "   &lt;script src=&amp;quot;https://maxcdn.bootstrapcdn.com/bootstrap/3.2.0/js/bootstrap.min.js&amp;quot;&gt;&lt;/script&gt;\n",
        "\n",
        "   &lt;link href=&amp;quot;https://maxcdn.bootstrapcdn.com/font-awesome/4.1.0/css/font-awesome.min.css&amp;quot; rel=&amp;quot;stylesheet&amp;quot;&gt;\n",
        "\n",
        "   &lt;link rel=&amp;quot;stylesheet&amp;quot; href=&amp;quot;https://rawgit.com/lvoogdt/Leaflet.awesome-markers/2.0/develop/dist/leaflet.awesome-markers.css&amp;quot;&gt;\n",
        "   &lt;script src=&amp;quot;https://rawgithub.com/lvoogdt/Leaflet.awesome-markers/2.0/develop/dist/leaflet.awesome-markers.js&amp;quot;&gt;&lt;/script&gt;\n",
        "\n",
        "\n",
        "   &lt;link rel=&amp;quot;stylesheet&amp;quot; href=&amp;quot;https://cdnjs.cloudflare.com/ajax/libs/leaflet.markercluster/0.4.0/MarkerCluster.Default.css&amp;quot;&gt;\n",
        "   &lt;link rel=&amp;quot;stylesheet&amp;quot; href=&amp;quot;https://cdnjs.cloudflare.com/ajax/libs/leaflet.markercluster/0.4.0/MarkerCluster.css&amp;quot;&gt;\n",
        "   &lt;script src=&amp;quot;https://cdnjs.cloudflare.com/ajax/libs/leaflet.markercluster/0.4.0/leaflet.markercluster-src.js&amp;quot;&gt;&lt;/script&gt;\n",
        "   &lt;script src=&amp;quot;https://cdnjs.cloudflare.com/ajax/libs/leaflet.markercluster/0.4.0/leaflet.markercluster.js&amp;quot;&gt;&lt;/script&gt;\n",
        "\n",
        "   &lt;link rel=&amp;quot;stylesheet&amp;quot; href=&amp;quot;https://birdage.github.io/Leaflet.awesome-markers/dist/leaflet.awesome.rotate.css&amp;quot;&gt;\n",
        "\n",
        "   \n",
        "   \n",
        "   \n",
        "   \n",
        "\n",
        "   &lt;style&gt;\n",
        "\n",
        "      html, body {\n",
        "        width: 100%;\n",
        "        height: 100%;\n",
        "        margin: 0;\n",
        "        padding: 0;\n",
        "      }\n",
        "\n",
        "      #map {\n",
        "        position:absolute;\n",
        "        top:0;\n",
        "        bottom:0;\n",
        "        right:0;\n",
        "        left:0;\n",
        "      }\n",
        "\n",
        "   &lt;/style&gt;\n",
        "&lt;/head&gt;\n",
        "\n",
        "&lt;body&gt;\n",
        "\n",
        "   &lt;div class=&amp;quot;folium-map&amp;quot; id=&amp;quot;folium_727eaf73920d414e990817eb08cafd65&amp;quot; style=&amp;quot;width: 100%; height: 100%&amp;quot;&gt;&lt;/div&gt;\n",
        "\n",
        "   &lt;script&gt;\n",
        "\n",
        "      \n",
        "\n",
        "      var base_tile = L.tileLayer('https://{s}.tile.openstreetmap.org/{z}/{x}/{y}.png', {\n",
        "          maxZoom: 18,\n",
        "          minZoom: 1,\n",
        "          attribution: 'Map data (c) &lt;a href=&amp;quot;http://openstreetmap.org&amp;quot;&gt;OpenStreetMap&lt;/a&gt; contributors'\n",
        "      });\n",
        "\n",
        "      var baseLayer = {\n",
        "        &amp;quot;Base Layer&amp;quot;: base_tile\n",
        "      };\n",
        "\n",
        "      /*\n",
        "      addition of the wms layers\n",
        "      */\n",
        "\n",
        "      \n",
        "\n",
        "      /*\n",
        "      addition of the tile layers\n",
        "      */\n",
        "      \n",
        "\n",
        "      /*\n",
        "      list of layers to be added\n",
        "      */\n",
        "      var layer_list = {\n",
        "      \n",
        "      };\n",
        "\n",
        "      /*\n",
        "      Bounding box.\n",
        "      */\n",
        "      var southWest = L.latLng(-90, -180),\n",
        "          northEast = L.latLng(90, 180),\n",
        "          bounds = L.latLngBounds(southWest, northEast);\n",
        "\n",
        "      /*\n",
        "      Creates the map and adds the selected layers\n",
        "      */\n",
        "      var map = L.map('folium_727eaf73920d414e990817eb08cafd65', {\n",
        "                                       center:[37.3909000556, -122.086305322],\n",
        "                                       zoom: 10,\n",
        "                                       maxBounds: bounds,\n",
        "                                       layers: [base_tile]\n",
        "                                     });\n",
        "\n",
        "      L.control.layers(baseLayer, layer_list).addTo(map);\n",
        "\n",
        "      //cluster group\n",
        "      var clusteredmarkers = L.markerClusterGroup();\n",
        "      //section for adding clustered markers\n",
        "      \n",
        "      //add the clustered markers to the group anyway\n",
        "      map.addLayer(clusteredmarkers);\n",
        "\n",
        "      \n",
        "\n",
        "      \n",
        "      var div_marker_1_0_icon = L.divIcon({className: 'leaflet-div-icon', 'iconSize': [5,5]});\n",
        "      var div_marker_1_0 = L.marker([37.3910285, \n",
        "\t\t\t\t\t\t\t-122.086184],\n",
        "\t\t\t\t\t\t\t{'icon':div_marker_1_0_icon}\n",
        "\t\t\t\t\t\t\t);\n",
        "      div_marker_1_0.bindPopup(&amp;quot;{u'mProvider': u'fused', 'formatted_time': Timestamp('2015-08-22 11:24:51'), u'mHasAccuracy': True, u'mHasAltitude': False, u'write_ts': 1440267891819, u'mLat1': 0, u'mDistance': 0, u'mLat2': 0, u'platform': u'android', u'mAccuracy': 43.5, u'mLon1': 0, u'mLon2': 0, u'type': u'message', u'mLatitude': 37.3910285, u'mAltitude': 0, u'mSpeed': 0, u'key': u'background/location', u'mInitialBearing': 0, u'mHasSpeed': False, u'read_ts': 0, u'mElapsedRealtimeNanos': 163422043000000, u'mResults': [0, 0], u'mBearing': 0, u'mLongitude': -122.086184, u'mIsFromMockProvider': False, u'filter': u'time', u'mTime': 1440267891499, u'mHasBearing': False}&amp;quot;);\n",
        "      div_marker_1_0._popup.options.maxWidth = 300;\n",
        "      map.addLayer(div_marker_1_0)\n",
        "      \n",
        "      var div_marker_1_1_icon = L.divIcon({className: 'leaflet-div-icon', 'iconSize': [5,5]});\n",
        "      var div_marker_1_1 = L.marker([37.3909794, \n",
        "\t\t\t\t\t\t\t-122.0862336],\n",
        "\t\t\t\t\t\t\t{'icon':div_marker_1_1_icon}\n",
        "\t\t\t\t\t\t\t);\n",
        "      div_marker_1_1.bindPopup(&amp;quot;{u'mProvider': u'fused', 'formatted_time': Timestamp('2015-08-22 11:25:25'), u'mHasAccuracy': True, u'mHasAltitude': False, u'write_ts': 1440267925995, u'mLat1': 0, u'mDistance': 0, u'mLat2': 0, u'platform': u'android', u'mAccuracy': 37.5, u'mLon1': 0, u'mLon2': 0, u'type': u'message', u'mLatitude': 37.3909794, u'mAltitude': 0, u'mSpeed': 0, u'key': u'background/location', u'mInitialBearing': 0, u'mHasSpeed': False, u'read_ts': 0, u'mElapsedRealtimeNanos': 163456108000000, u'mResults': [0, 0], u'mBearing': 0, u'mLongitude': -122.0862336, u'mIsFromMockProvider': False, u'filter': u'time', u'mTime': 1440267925564, u'mHasBearing': False}&amp;quot;);\n",
        "      div_marker_1_1._popup.options.maxWidth = 300;\n",
        "      map.addLayer(div_marker_1_1)\n",
        "      \n",
        "      var div_marker_1_2_icon = L.divIcon({className: 'leaflet-div-icon', 'iconSize': [5,5]});\n",
        "      var div_marker_1_2 = L.marker([37.3909715, \n",
        "\t\t\t\t\t\t\t-122.0862609],\n",
        "\t\t\t\t\t\t\t{'icon':div_marker_1_2_icon}\n",
        "\t\t\t\t\t\t\t);\n",
        "      div_marker_1_2.bindPopup(&amp;quot;{u'mProvider': u'fused', 'formatted_time': Timestamp('2015-08-22 11:25:55'), u'mHasAccuracy': True, u'mHasAltitude': False, u'write_ts': 1440267955912, u'mLat1': 0, u'mDistance': 0, u'mLat2': 0, u'platform': u'android', u'mAccuracy': 37.5, u'mLon1': 0, u'mLon2': 0, u'type': u'message', u'mLatitude': 37.3909715, u'mAltitude': 0, u'mSpeed': 0, u'key': u'background/location', u'mInitialBearing': 0, u'mHasSpeed': False, u'read_ts': 0, u'mElapsedRealtimeNanos': 163486115000000, u'mResults': [0, 0], u'mBearing': 0, u'mLongitude': -122.0862609, u'mIsFromMockProvider': False, u'filter': u'time', u'mTime': 1440267955571, u'mHasBearing': False}&amp;quot;);\n",
        "      div_marker_1_2._popup.options.maxWidth = 300;\n",
        "      map.addLayer(div_marker_1_2)\n",
        "      \n",
        "      var div_marker_1_3_icon = L.divIcon({className: 'leaflet-div-icon', 'iconSize': [5,5]});\n",
        "      var div_marker_1_3 = L.marker([37.3909568, \n",
        "\t\t\t\t\t\t\t-122.0862772],\n",
        "\t\t\t\t\t\t\t{'icon':div_marker_1_3_icon}\n",
        "\t\t\t\t\t\t\t);\n",
        "      div_marker_1_3.bindPopup(&amp;quot;{u'mProvider': u'fused', 'formatted_time': Timestamp('2015-08-22 11:26:25'), u'mHasAccuracy': True, u'mHasAltitude': False, u'write_ts': 1440267986654, u'mLat1': 0, u'mDistance': 0, u'mLat2': 0, u'platform': u'android', u'mAccuracy': 36.0, u'mLon1': 0, u'mLon2': 0, u'type': u'message', u'mLatitude': 37.3909568, u'mAltitude': 0, u'mSpeed': 0, u'key': u'background/location', u'mInitialBearing': 0, u'mHasSpeed': False, u'read_ts': 0, u'mElapsedRealtimeNanos': 163516133000000, u'mResults': [0, 0], u'mBearing': 0, u'mLongitude': -122.0862772, u'mIsFromMockProvider': False, u'filter': u'time', u'mTime': 1440267985589, u'mHasBearing': False}&amp;quot;);\n",
        "      div_marker_1_3._popup.options.maxWidth = 300;\n",
        "      map.addLayer(div_marker_1_3)\n",
        "      \n",
        "      var div_marker_1_4_icon = L.divIcon({className: 'leaflet-div-icon', 'iconSize': [5,5]});\n",
        "      var div_marker_1_4 = L.marker([37.3909541, \n",
        "\t\t\t\t\t\t\t-122.0862775],\n",
        "\t\t\t\t\t\t\t{'icon':div_marker_1_4_icon}\n",
        "\t\t\t\t\t\t\t);\n",
        "      div_marker_1_4.bindPopup(&amp;quot;{u'mProvider': u'fused', 'formatted_time': Timestamp('2015-08-22 11:26:55'), u'mHasAccuracy': True, u'mHasAltitude': False, u'write_ts': 1440268016006, u'mLat1': 0, u'mDistance': 0, u'mLat2': 0, u'platform': u'android', u'mAccuracy': 37.5, u'mLon1': 0, u'mLon2': 0, u'type': u'message', u'mLatitude': 37.3909541, u'mAltitude': 0, u'mSpeed': 0, u'key': u'background/location', u'mInitialBearing': 0, u'mHasSpeed': False, u'read_ts': 0, u'mElapsedRealtimeNanos': 163546161000000, u'mResults': [0, 0], u'mBearing': 0, u'mLongitude': -122.0862775, u'mIsFromMockProvider': False, u'filter': u'time', u'mTime': 1440268015617, u'mHasBearing': False}&amp;quot;);\n",
        "      div_marker_1_4._popup.options.maxWidth = 300;\n",
        "      map.addLayer(div_marker_1_4)\n",
        "      \n",
        "      var div_marker_1_5_icon = L.divIcon({className: 'leaflet-div-icon', 'iconSize': [5,5]});\n",
        "      var div_marker_1_5 = L.marker([37.3909406, \n",
        "\t\t\t\t\t\t\t-122.0862773],\n",
        "\t\t\t\t\t\t\t{'icon':div_marker_1_5_icon}\n",
        "\t\t\t\t\t\t\t);\n",
        "      div_marker_1_5.bindPopup(&amp;quot;{u'mProvider': u'fused', 'formatted_time': Timestamp('2015-08-22 11:27:25'), u'mHasAccuracy': True, u'mHasAltitude': False, u'write_ts': 1440268045979, u'mLat1': 0, u'mDistance': 0, u'mLat2': 0, u'platform': u'android', u'mAccuracy': 37.5, u'mLon1': 0, u'mLon2': 0, u'type': u'message', u'mLatitude': 37.3909406, u'mAltitude': 0, u'mSpeed': 0, u'key': u'background/location', u'mInitialBearing': 0, u'mHasSpeed': False, u'read_ts': 0, u'mElapsedRealtimeNanos': 163576183000000, u'mResults': [0, 0], u'mBearing': 0, u'mLongitude': -122.0862773, u'mIsFromMockProvider': False, u'filter': u'time', u'mTime': 1440268045639, u'mHasBearing': False}&amp;quot;);\n",
        "      div_marker_1_5._popup.options.maxWidth = 300;\n",
        "      map.addLayer(div_marker_1_5)\n",
        "      \n",
        "      var div_marker_1_6_icon = L.divIcon({className: 'leaflet-div-icon', 'iconSize': [5,5]});\n",
        "      var div_marker_1_6 = L.marker([37.3909375, \n",
        "\t\t\t\t\t\t\t-122.0862753],\n",
        "\t\t\t\t\t\t\t{'icon':div_marker_1_6_icon}\n",
        "\t\t\t\t\t\t\t);\n",
        "      div_marker_1_6.bindPopup(&amp;quot;{u'mProvider': u'fused', 'formatted_time': Timestamp('2015-08-22 11:27:55'), u'mHasAccuracy': True, u'mHasAltitude': False, u'write_ts': 1440268076012, u'mLat1': 0, u'mDistance': 0, u'mLat2': 0, u'platform': u'android', u'mAccuracy': 39.0, u'mLon1': 0, u'mLon2': 0, u'type': u'message', u'mLatitude': 37.3909375, u'mAltitude': 0, u'mSpeed': 0, u'key': u'background/location', u'mInitialBearing': 0, u'mHasSpeed': False, u'read_ts': 0, u'mElapsedRealtimeNanos': 163606212000000, u'mResults': [0, 0], u'mBearing': 0, u'mLongitude': -122.0862753, u'mIsFromMockProvider': False, u'filter': u'time', u'mTime': 1440268075669, u'mHasBearing': False}&amp;quot;);\n",
        "      div_marker_1_6._popup.options.maxWidth = 300;\n",
        "      map.addLayer(div_marker_1_6)\n",
        "      \n",
        "      var div_marker_1_7_icon = L.divIcon({className: 'leaflet-div-icon', 'iconSize': [5,5]});\n",
        "      var div_marker_1_7 = L.marker([37.3909073, \n",
        "\t\t\t\t\t\t\t-122.0862746],\n",
        "\t\t\t\t\t\t\t{'icon':div_marker_1_7_icon}\n",
        "\t\t\t\t\t\t\t);\n",
        "      div_marker_1_7.bindPopup(&amp;quot;{u'mProvider': u'fused', 'formatted_time': Timestamp('2015-08-22 11:28:25'), u'mHasAccuracy': True, u'mHasAltitude': False, u'write_ts': 1440268106062, u'mLat1': 0, u'mDistance': 0, u'mLat2': 0, u'platform': u'android', u'mAccuracy': 33.0, u'mLon1': 0, u'mLon2': 0, u'type': u'message', u'mLatitude': 37.3909073, u'mAltitude': 0, u'mSpeed': 0, u'key': u'background/location', u'mInitialBearing': 0, u'mHasSpeed': False, u'read_ts': 0, u'mElapsedRealtimeNanos': 163636254000000, u'mResults': [0, 0], u'mBearing': 0, u'mLongitude': -122.0862746, u'mIsFromMockProvider': False, u'filter': u'time', u'mTime': 1440268105711, u'mHasBearing': False}&amp;quot;);\n",
        "      div_marker_1_7._popup.options.maxWidth = 300;\n",
        "      map.addLayer(div_marker_1_7)\n",
        "      \n",
        "\n",
        "      \n",
        "\n",
        "      \n",
        "      var latLngs = [ [37.3910285, -122.086184],  [37.3909794, -122.0862336],  [37.3909715, -122.0862609],  [37.3909568, -122.0862772],  [37.3909541, -122.0862775],  [37.3909406, -122.0862773],  [37.3909375, -122.0862753],  [37.3909073, -122.0862746], ];\n",
        "var line_1 = L.polyline(latLngs,{\n",
        "color: 'blue',\n",
        "\n",
        "\n",
        "});\n",
        "      line_1.bindPopup(&amp;quot;Activities.ON_BICYCLE&amp;quot;);\n",
        "      line_1._popup.options.maxWidth = 300;\n",
        "      map.addLayer(line_1);\n",
        "      \n",
        "\n",
        "      \n",
        "\n",
        "      \n",
        "\n",
        "      \n",
        "\n",
        "\n",
        "\n",
        "   &lt;/script&gt;\n",
        "\n",
        "&lt;/body&gt;&quot; style=&quot;width: 100%; height: 510px; border: none&quot;&gt;&lt;/iframe&gt;</td></tr>\n",
        "<tr><td>&lt;iframe srcdoc=&quot;&lt;!DOCTYPE html&gt;\n",
        "&lt;head&gt;\n",
        "   &lt;meta http-equiv=&amp;quot;content-type&amp;quot; content=&amp;quot;text/html; charset=UTF-8&amp;quot; /&gt;\n",
        "   &lt;link rel=&amp;quot;stylesheet&amp;quot; href=&amp;quot;https://cdnjs.cloudflare.com/ajax/libs/leaflet/0.7.3/leaflet.css&amp;quot; /&gt;\n",
        "   &lt;script src=&amp;quot;https://cdnjs.cloudflare.com/ajax/libs/leaflet/0.7.3/leaflet.js&amp;quot;&gt;&lt;/script&gt;\n",
        "\n",
        "   &lt;script src=&amp;quot;https://ajax.googleapis.com/ajax/libs/jquery/1.11.1/jquery.min.js&amp;quot;&gt;&lt;/script&gt;\n",
        "\n",
        "   &lt;link rel=&amp;quot;stylesheet&amp;quot; href=&amp;quot;https://maxcdn.bootstrapcdn.com/bootstrap/3.2.0/css/bootstrap.min.css&amp;quot;&gt;\n",
        "   &lt;link rel=&amp;quot;stylesheet&amp;quot; href=&amp;quot;https://maxcdn.bootstrapcdn.com/bootstrap/3.2.0/css/bootstrap-theme.min.css&amp;quot;&gt;\n",
        "   &lt;script src=&amp;quot;https://maxcdn.bootstrapcdn.com/bootstrap/3.2.0/js/bootstrap.min.js&amp;quot;&gt;&lt;/script&gt;\n",
        "\n",
        "   &lt;link href=&amp;quot;https://maxcdn.bootstrapcdn.com/font-awesome/4.1.0/css/font-awesome.min.css&amp;quot; rel=&amp;quot;stylesheet&amp;quot;&gt;\n",
        "\n",
        "   &lt;link rel=&amp;quot;stylesheet&amp;quot; href=&amp;quot;https://rawgit.com/lvoogdt/Leaflet.awesome-markers/2.0/develop/dist/leaflet.awesome-markers.css&amp;quot;&gt;\n",
        "   &lt;script src=&amp;quot;https://rawgithub.com/lvoogdt/Leaflet.awesome-markers/2.0/develop/dist/leaflet.awesome-markers.js&amp;quot;&gt;&lt;/script&gt;\n",
        "\n",
        "\n",
        "   &lt;link rel=&amp;quot;stylesheet&amp;quot; href=&amp;quot;https://cdnjs.cloudflare.com/ajax/libs/leaflet.markercluster/0.4.0/MarkerCluster.Default.css&amp;quot;&gt;\n",
        "   &lt;link rel=&amp;quot;stylesheet&amp;quot; href=&amp;quot;https://cdnjs.cloudflare.com/ajax/libs/leaflet.markercluster/0.4.0/MarkerCluster.css&amp;quot;&gt;\n",
        "   &lt;script src=&amp;quot;https://cdnjs.cloudflare.com/ajax/libs/leaflet.markercluster/0.4.0/leaflet.markercluster-src.js&amp;quot;&gt;&lt;/script&gt;\n",
        "   &lt;script src=&amp;quot;https://cdnjs.cloudflare.com/ajax/libs/leaflet.markercluster/0.4.0/leaflet.markercluster.js&amp;quot;&gt;&lt;/script&gt;\n",
        "\n",
        "   &lt;link rel=&amp;quot;stylesheet&amp;quot; href=&amp;quot;https://birdage.github.io/Leaflet.awesome-markers/dist/leaflet.awesome.rotate.css&amp;quot;&gt;\n",
        "\n",
        "   \n",
        "   \n",
        "   \n",
        "   \n",
        "\n",
        "   &lt;style&gt;\n",
        "\n",
        "      html, body {\n",
        "        width: 100%;\n",
        "        height: 100%;\n",
        "        margin: 0;\n",
        "        padding: 0;\n",
        "      }\n",
        "\n",
        "      #map {\n",
        "        position:absolute;\n",
        "        top:0;\n",
        "        bottom:0;\n",
        "        right:0;\n",
        "        left:0;\n",
        "      }\n",
        "\n",
        "   &lt;/style&gt;\n",
        "&lt;/head&gt;\n",
        "\n",
        "&lt;body&gt;\n",
        "\n",
        "   &lt;div class=&amp;quot;folium-map&amp;quot; id=&amp;quot;folium_d98a68214c304952a988444d49b690b6&amp;quot; style=&amp;quot;width: 100%; height: 100%&amp;quot;&gt;&lt;/div&gt;\n",
        "\n",
        "   &lt;script&gt;\n",
        "\n",
        "      \n",
        "\n",
        "      var base_tile = L.tileLayer('https://{s}.tile.openstreetmap.org/{z}/{x}/{y}.png', {\n",
        "          maxZoom: 18,\n",
        "          minZoom: 1,\n",
        "          attribution: 'Map data (c) &lt;a href=&amp;quot;http://openstreetmap.org&amp;quot;&gt;OpenStreetMap&lt;/a&gt; contributors'\n",
        "      });\n",
        "\n",
        "      var baseLayer = {\n",
        "        &amp;quot;Base Layer&amp;quot;: base_tile\n",
        "      };\n",
        "\n",
        "      /*\n",
        "      addition of the wms layers\n",
        "      */\n",
        "\n",
        "      \n",
        "\n",
        "      /*\n",
        "      addition of the tile layers\n",
        "      */\n",
        "      \n",
        "\n",
        "      /*\n",
        "      list of layers to be added\n",
        "      */\n",
        "      var layer_list = {\n",
        "      \n",
        "      };\n",
        "\n",
        "      /*\n",
        "      Bounding box.\n",
        "      */\n",
        "      var southWest = L.latLng(-90, -180),\n",
        "          northEast = L.latLng(90, 180),\n",
        "          bounds = L.latLngBounds(southWest, northEast);\n",
        "\n",
        "      /*\n",
        "      Creates the map and adds the selected layers\n",
        "      */\n",
        "      var map = L.map('folium_d98a68214c304952a988444d49b690b6', {\n",
        "                                       center:[37.39051486, -122.086575673],\n",
        "                                       zoom: 10,\n",
        "                                       maxBounds: bounds,\n",
        "                                       layers: [base_tile]\n",
        "                                     });\n",
        "\n",
        "      L.control.layers(baseLayer, layer_list).addTo(map);\n",
        "\n",
        "      //cluster group\n",
        "      var clusteredmarkers = L.markerClusterGroup();\n",
        "      //section for adding clustered markers\n",
        "      \n",
        "      //add the clustered markers to the group anyway\n",
        "      map.addLayer(clusteredmarkers);\n",
        "\n",
        "      \n",
        "\n",
        "      \n",
        "      var div_marker_1_0_icon = L.divIcon({className: 'leaflet-div-icon', 'iconSize': [5,5]});\n",
        "      var div_marker_1_0 = L.marker([37.3909575, \n",
        "\t\t\t\t\t\t\t-122.0862772],\n",
        "\t\t\t\t\t\t\t{'icon':div_marker_1_0_icon}\n",
        "\t\t\t\t\t\t\t);\n",
        "      div_marker_1_0.bindPopup(&amp;quot;{u'mProvider': u'fused', 'formatted_time': Timestamp('2015-08-22 11:29:25'), u'mHasAccuracy': True, u'mHasAltitude': False, u'write_ts': 1440268166396, u'mLat1': 0, u'mDistance': 0, u'mLat2': 0, u'platform': u'android', u'mAccuracy': 36.0, u'mLon1': 0, u'mLon2': 0, u'type': u'message', u'mLatitude': 37.3909575, u'mAltitude': 0, u'mExtras': nan, u'mSpeed': 0, u'key': u'background/location', u'mInitialBearing': 0, u'mHasSpeed': False, u'read_ts': 0, u'mElapsedRealtimeNanos': 163696306000000, u'mResults': [0, 0], u'mBearing': 0, u'mLongitude': -122.0862772, u'mIsFromMockProvider': False, u'filter': u'time', u'mTime': 1440268165762, u'mHasBearing': False}&amp;quot;);\n",
        "      div_marker_1_0._popup.options.maxWidth = 300;\n",
        "      map.addLayer(div_marker_1_0)\n",
        "      \n",
        "      var div_marker_1_1_icon = L.divIcon({className: 'leaflet-div-icon', 'iconSize': [5,5]});\n",
        "      var div_marker_1_1 = L.marker([37.3909335, \n",
        "\t\t\t\t\t\t\t-122.086278],\n",
        "\t\t\t\t\t\t\t{'icon':div_marker_1_1_icon}\n",
        "\t\t\t\t\t\t\t);\n",
        "      div_marker_1_1.bindPopup(&amp;quot;{u'mProvider': u'fused', 'formatted_time': Timestamp('2015-08-22 11:29:55'), u'mHasAccuracy': True, u'mHasAltitude': False, u'write_ts': 1440268196228, u'mLat1': 0, u'mDistance': 0, u'mLat2': 0, u'platform': u'android', u'mAccuracy': 37.5, u'mLon1': 0, u'mLon2': 0, u'type': u'message', u'mLatitude': 37.3909335, u'mAltitude': 0, u'mExtras': nan, u'mSpeed': 0, u'key': u'background/location', u'mInitialBearing': 0, u'mHasSpeed': False, u'read_ts': 0, u'mElapsedRealtimeNanos': 163726435000000, u'mResults': [0, 0], u'mBearing': 0, u'mLongitude': -122.086278, u'mIsFromMockProvider': False, u'filter': u'time', u'mTime': 1440268195892, u'mHasBearing': False}&amp;quot;);\n",
        "      div_marker_1_1._popup.options.maxWidth = 300;\n",
        "      map.addLayer(div_marker_1_1)\n",
        "      \n",
        "      var div_marker_1_2_icon = L.divIcon({className: 'leaflet-div-icon', 'iconSize': [5,5]});\n",
        "      var div_marker_1_2 = L.marker([37.3909338, \n",
        "\t\t\t\t\t\t\t-122.0862778],\n",
        "\t\t\t\t\t\t\t{'icon':div_marker_1_2_icon}\n",
        "\t\t\t\t\t\t\t);\n",
        "      div_marker_1_2.bindPopup(&amp;quot;{u'mProvider': u'fused', 'formatted_time': Timestamp('2015-08-22 11:30:25'), u'mHasAccuracy': True, u'mHasAltitude': False, u'write_ts': 1440268226191, u'mLat1': 0, u'mDistance': 0, u'mLat2': 0, u'platform': u'android', u'mAccuracy': 37.5, u'mLon1': 0, u'mLon2': 0, u'type': u'message', u'mLatitude': 37.3909338, u'mAltitude': 0, u'mExtras': nan, u'mSpeed': 0, u'key': u'background/location', u'mInitialBearing': 0, u'mHasSpeed': False, u'read_ts': 0, u'mElapsedRealtimeNanos': 163756358000000, u'mResults': [0, 0], u'mBearing': 0, u'mLongitude': -122.0862778, u'mIsFromMockProvider': False, u'filter': u'time', u'mTime': 1440268225814, u'mHasBearing': False}&amp;quot;);\n",
        "      div_marker_1_2._popup.options.maxWidth = 300;\n",
        "      map.addLayer(div_marker_1_2)\n",
        "      \n",
        "      var div_marker_1_3_icon = L.divIcon({className: 'leaflet-div-icon', 'iconSize': [5,5]});\n",
        "      var div_marker_1_3 = L.marker([37.3909379, \n",
        "\t\t\t\t\t\t\t-122.0862769],\n",
        "\t\t\t\t\t\t\t{'icon':div_marker_1_3_icon}\n",
        "\t\t\t\t\t\t\t);\n",
        "      div_marker_1_3.bindPopup(&amp;quot;{u'mProvider': u'fused', 'formatted_time': Timestamp('2015-08-22 11:30:55'), u'mHasAccuracy': True, u'mHasAltitude': False, u'write_ts': 1440268256171, u'mLat1': 0, u'mDistance': 0, u'mLat2': 0, u'platform': u'android', u'mAccuracy': 37.5, u'mLon1': 0, u'mLon2': 0, u'type': u'message', u'mLatitude': 37.3909379, u'mAltitude': 0, u'mExtras': nan, u'mSpeed': 0, u'key': u'background/location', u'mInitialBearing': 0, u'mHasSpeed': False, u'read_ts': 0, u'mElapsedRealtimeNanos': 163786397000000, u'mResults': [0, 0], u'mBearing': 0, u'mLongitude': -122.0862769, u'mIsFromMockProvider': False, u'filter': u'time', u'mTime': 1440268255853, u'mHasBearing': False}&amp;quot;);\n",
        "      div_marker_1_3._popup.options.maxWidth = 300;\n",
        "      map.addLayer(div_marker_1_3)\n",
        "      \n",
        "      var div_marker_1_4_icon = L.divIcon({className: 'leaflet-div-icon', 'iconSize': [5,5]});\n",
        "      var div_marker_1_4 = L.marker([37.3909633, \n",
        "\t\t\t\t\t\t\t-122.0862766],\n",
        "\t\t\t\t\t\t\t{'icon':div_marker_1_4_icon}\n",
        "\t\t\t\t\t\t\t);\n",
        "      div_marker_1_4.bindPopup(&amp;quot;{u'mProvider': u'fused', 'formatted_time': Timestamp('2015-08-22 11:31:25'), u'mHasAccuracy': True, u'mHasAltitude': False, u'write_ts': 1440268286449, u'mLat1': 0, u'mDistance': 0, u'mLat2': 0, u'platform': u'android', u'mAccuracy': 39.0, u'mLon1': 0, u'mLon2': 0, u'type': u'message', u'mLatitude': 37.3909633, u'mAltitude': 0, u'mExtras': nan, u'mSpeed': 0, u'key': u'background/location', u'mInitialBearing': 0, u'mHasSpeed': False, u'read_ts': 0, u'mElapsedRealtimeNanos': 163816429000000, u'mResults': [0, 0], u'mBearing': 0, u'mLongitude': -122.0862766, u'mIsFromMockProvider': False, u'filter': u'time', u'mTime': 1440268285886, u'mHasBearing': False}&amp;quot;);\n",
        "      div_marker_1_4._popup.options.maxWidth = 300;\n",
        "      map.addLayer(div_marker_1_4)\n",
        "      \n",
        "      var div_marker_1_5_icon = L.divIcon({className: 'leaflet-div-icon', 'iconSize': [5,5]});\n",
        "      var div_marker_1_5 = L.marker([37.3909542, \n",
        "\t\t\t\t\t\t\t-122.0862781],\n",
        "\t\t\t\t\t\t\t{'icon':div_marker_1_5_icon}\n",
        "\t\t\t\t\t\t\t);\n",
        "      div_marker_1_5.bindPopup(&amp;quot;{u'mProvider': u'fused', 'formatted_time': Timestamp('2015-08-22 11:31:55'), u'mHasAccuracy': True, u'mHasAltitude': False, u'write_ts': 1440268316278, u'mLat1': 0, u'mDistance': 0, u'mLat2': 0, u'platform': u'android', u'mAccuracy': 39.0, u'mLon1': 0, u'mLon2': 0, u'type': u'message', u'mLatitude': 37.3909542, u'mAltitude': 0, u'mExtras': nan, u'mSpeed': 0, u'key': u'background/location', u'mInitialBearing': 0, u'mHasSpeed': False, u'read_ts': 0, u'mElapsedRealtimeNanos': 163846464000000, u'mResults': [0, 0], u'mBearing': 0, u'mLongitude': -122.0862781, u'mIsFromMockProvider': False, u'filter': u'time', u'mTime': 1440268315920, u'mHasBearing': False}&amp;quot;);\n",
        "      div_marker_1_5._popup.options.maxWidth = 300;\n",
        "      map.addLayer(div_marker_1_5)\n",
        "      \n",
        "      var div_marker_1_6_icon = L.divIcon({className: 'leaflet-div-icon', 'iconSize': [5,5]});\n",
        "      var div_marker_1_6 = L.marker([37.3909619, \n",
        "\t\t\t\t\t\t\t-122.0862771],\n",
        "\t\t\t\t\t\t\t{'icon':div_marker_1_6_icon}\n",
        "\t\t\t\t\t\t\t);\n",
        "      div_marker_1_6.bindPopup(&amp;quot;{u'mProvider': u'fused', 'formatted_time': Timestamp('2015-08-22 11:32:26'), u'mHasAccuracy': True, u'mHasAltitude': False, u'write_ts': 1440268346476, u'mLat1': 0, u'mDistance': 0, u'mLat2': 0, u'platform': u'android', u'mAccuracy': 60.0, u'mLon1': 0, u'mLon2': 0, u'type': u'message', u'mLatitude': 37.3909619, u'mAltitude': 0, u'mExtras': nan, u'mSpeed': 0, u'key': u'background/location', u'mInitialBearing': 0, u'mHasSpeed': False, u'read_ts': 0, u'mElapsedRealtimeNanos': 163876640000000, u'mResults': [0, 0], u'mBearing': 0, u'mLongitude': -122.0862771, u'mIsFromMockProvider': False, u'filter': u'time', u'mTime': 1440268346096, u'mHasBearing': False}&amp;quot;);\n",
        "      div_marker_1_6._popup.options.maxWidth = 300;\n",
        "      map.addLayer(div_marker_1_6)\n",
        "      \n",
        "      var div_marker_1_7_icon = L.divIcon({className: 'leaflet-div-icon', 'iconSize': [5,5]});\n",
        "      var div_marker_1_7 = L.marker([37.3909282, \n",
        "\t\t\t\t\t\t\t-122.0862746],\n",
        "\t\t\t\t\t\t\t{'icon':div_marker_1_7_icon}\n",
        "\t\t\t\t\t\t\t);\n",
        "      div_marker_1_7.bindPopup(&amp;quot;{u'mProvider': u'fused', 'formatted_time': Timestamp('2015-08-22 11:32:56'), u'mHasAccuracy': True, u'mHasAltitude': False, u'write_ts': 1440268376430, u'mLat1': 0, u'mDistance': 0, u'mLat2': 0, u'platform': u'android', u'mAccuracy': 31.5, u'mLon1': 0, u'mLon2': 0, u'type': u'message', u'mLatitude': 37.3909282, u'mAltitude': 0, u'mExtras': nan, u'mSpeed': 0, u'key': u'background/location', u'mInitialBearing': 0, u'mHasSpeed': False, u'read_ts': 0, u'mElapsedRealtimeNanos': 163906657000000, u'mResults': [0, 0], u'mBearing': 0, u'mLongitude': -122.0862746, u'mIsFromMockProvider': False, u'filter': u'time', u'mTime': 1440268376113, u'mHasBearing': False}&amp;quot;);\n",
        "      div_marker_1_7._popup.options.maxWidth = 300;\n",
        "      map.addLayer(div_marker_1_7)\n",
        "      \n",
        "      var div_marker_1_8_icon = L.divIcon({className: 'leaflet-div-icon', 'iconSize': [5,5]});\n",
        "      var div_marker_1_8 = L.marker([37.3909599, \n",
        "\t\t\t\t\t\t\t-122.0862756],\n",
        "\t\t\t\t\t\t\t{'icon':div_marker_1_8_icon}\n",
        "\t\t\t\t\t\t\t);\n",
        "      div_marker_1_8.bindPopup(&amp;quot;{u'mProvider': u'fused', 'formatted_time': Timestamp('2015-08-22 11:33:26'), u'mHasAccuracy': True, u'mHasAltitude': False, u'write_ts': 1440268406540, u'mLat1': 0, u'mDistance': 0, u'mLat2': 0, u'platform': u'android', u'mAccuracy': 33.0, u'mLon1': 0, u'mLon2': 0, u'type': u'message', u'mLatitude': 37.3909599, u'mAltitude': 0, u'mExtras': nan, u'mSpeed': 0, u'key': u'background/location', u'mInitialBearing': 0, u'mHasSpeed': False, u'read_ts': 0, u'mElapsedRealtimeNanos': 163936686000000, u'mResults': [0, 0], u'mBearing': 0, u'mLongitude': -122.0862756, u'mIsFromMockProvider': False, u'filter': u'time', u'mTime': 1440268406142, u'mHasBearing': False}&amp;quot;);\n",
        "      div_marker_1_8._popup.options.maxWidth = 300;\n",
        "      map.addLayer(div_marker_1_8)\n",
        "      \n",
        "      var div_marker_1_9_icon = L.divIcon({className: 'leaflet-div-icon', 'iconSize': [5,5]});\n",
        "      var div_marker_1_9 = L.marker([37.3909316, \n",
        "\t\t\t\t\t\t\t-122.0862766],\n",
        "\t\t\t\t\t\t\t{'icon':div_marker_1_9_icon}\n",
        "\t\t\t\t\t\t\t);\n",
        "      div_marker_1_9.bindPopup(&amp;quot;{u'mProvider': u'fused', 'formatted_time': Timestamp('2015-08-22 11:33:56'), u'mHasAccuracy': True, u'mHasAltitude': False, u'write_ts': 1440268436486, u'mLat1': 0, u'mDistance': 0, u'mLat2': 0, u'platform': u'android', u'mAccuracy': 37.5, u'mLon1': 0, u'mLon2': 0, u'type': u'message', u'mLatitude': 37.3909316, u'mAltitude': 0, u'mExtras': nan, u'mSpeed': 0, u'key': u'background/location', u'mInitialBearing': 0, u'mHasSpeed': False, u'read_ts': 0, u'mElapsedRealtimeNanos': 163966719000000, u'mResults': [0, 0], u'mBearing': 0, u'mLongitude': -122.0862766, u'mIsFromMockProvider': False, u'filter': u'time', u'mTime': 1440268436175, u'mHasBearing': False}&amp;quot;);\n",
        "      div_marker_1_9._popup.options.maxWidth = 300;\n",
        "      map.addLayer(div_marker_1_9)\n",
        "      \n",
        "      var div_marker_1_10_icon = L.divIcon({className: 'leaflet-div-icon', 'iconSize': [5,5]});\n",
        "      var div_marker_1_10 = L.marker([37.3909584, \n",
        "\t\t\t\t\t\t\t-122.0862766],\n",
        "\t\t\t\t\t\t\t{'icon':div_marker_1_10_icon}\n",
        "\t\t\t\t\t\t\t);\n",
        "      div_marker_1_10.bindPopup(&amp;quot;{u'mProvider': u'fused', 'formatted_time': Timestamp('2015-08-22 11:34:26'), u'mHasAccuracy': True, u'mHasAltitude': False, u'write_ts': 1440268466589, u'mLat1': 0, u'mDistance': 0, u'mLat2': 0, u'platform': u'android', u'mAccuracy': 37.5, u'mLon1': 0, u'mLon2': 0, u'type': u'message', u'mLatitude': 37.3909584, u'mAltitude': 0, u'mExtras': nan, u'mSpeed': 0, u'key': u'background/location', u'mInitialBearing': 0, u'mHasSpeed': False, u'read_ts': 0, u'mElapsedRealtimeNanos': 163996775000000, u'mResults': [0, 0], u'mBearing': 0, u'mLongitude': -122.0862766, u'mIsFromMockProvider': False, u'filter': u'time', u'mTime': 1440268466232, u'mHasBearing': False}&amp;quot;);\n",
        "      div_marker_1_10._popup.options.maxWidth = 300;\n",
        "      map.addLayer(div_marker_1_10)\n",
        "      \n",
        "      var div_marker_2_0_icon = L.divIcon({className: 'leaflet-div-icon', 'iconSize': [5,5]});\n",
        "      var div_marker_2_0 = L.marker([37.3898971, \n",
        "\t\t\t\t\t\t\t-122.0870407],\n",
        "\t\t\t\t\t\t\t{'icon':div_marker_2_0_icon}\n",
        "\t\t\t\t\t\t\t);\n",
        "      div_marker_2_0.bindPopup(&amp;quot;{u'mProvider': u'fused', 'formatted_time': Timestamp('2015-08-22 14:57:05'), u'mHasAccuracy': True, u'mHasAltitude': False, u'write_ts': 1440280633026, u'mLat1': 0, u'mDistance': 0, u'mLat2': 0, u'platform': u'android', u'mAccuracy': 76.5, u'mLon1': 0, u'mLon2': 0, u'type': u'message', u'mLatitude': 37.3898971, u'mAltitude': 0, u'mExtras': nan, u'mSpeed': 0, u'key': u'background/location', u'mInitialBearing': 0, u'mHasSpeed': False, u'read_ts': 0, u'mElapsedRealtimeNanos': 176156161000000, u'mResults': [0, 0], u'mBearing': 0, u'mLongitude': -122.0870407, u'mIsFromMockProvider': False, u'filter': u'time', u'mTime': 1440280625617, u'mHasBearing': False}&amp;quot;);\n",
        "      div_marker_2_0._popup.options.maxWidth = 300;\n",
        "      map.addLayer(div_marker_2_0)\n",
        "      \n",
        "      var div_marker_2_1_icon = L.divIcon({className: 'leaflet-div-icon', 'iconSize': [5,5]});\n",
        "      var div_marker_2_1 = L.marker([37.3898971, \n",
        "\t\t\t\t\t\t\t-122.0870407],\n",
        "\t\t\t\t\t\t\t{'icon':div_marker_2_1_icon}\n",
        "\t\t\t\t\t\t\t);\n",
        "      div_marker_2_1.bindPopup(&amp;quot;{u'mProvider': u'fused', 'formatted_time': Timestamp('2015-08-22 14:57:05'), u'mHasAccuracy': True, u'mHasAltitude': False, u'write_ts': 1440280634389, u'mLat1': 0, u'mDistance': 0, u'mLat2': 0, u'platform': u'android', u'mAccuracy': 76.5, u'mLon1': 0, u'mLon2': 0, u'type': u'message', u'mLatitude': 37.3898971, u'mAltitude': 0, u'mExtras': {u'mAllowFds': True, u'mFdsKnown': True, u'mHasFds': False, u'mParcelledData': {u'mNativePtr': 1468339888, u'mOwnsNativeParcelObject': True}}, u'mSpeed': 0, u'key': u'background/location', u'mInitialBearing': 0, u'mHasSpeed': False, u'read_ts': 0, u'mElapsedRealtimeNanos': 176156161000000, u'mResults': [0, 0], u'mBearing': 0, u'mLongitude': -122.0870407, u'mIsFromMockProvider': False, u'filter': u'time', u'mTime': 1440280625617, u'mHasBearing': False}&amp;quot;);\n",
        "      div_marker_2_1._popup.options.maxWidth = 300;\n",
        "      map.addLayer(div_marker_2_1)\n",
        "      \n",
        "      var div_marker_2_2_icon = L.divIcon({className: 'leaflet-div-icon', 'iconSize': [5,5]});\n",
        "      var div_marker_2_2 = L.marker([37.3888052, \n",
        "\t\t\t\t\t\t\t-122.0877148],\n",
        "\t\t\t\t\t\t\t{'icon':div_marker_2_2_icon}\n",
        "\t\t\t\t\t\t\t);\n",
        "      div_marker_2_2.bindPopup(&amp;quot;{u'mProvider': u'fused', 'formatted_time': Timestamp('2015-08-22 14:57:37'), u'mHasAccuracy': True, u'mHasAltitude': False, u'write_ts': 1440280662672, u'mLat1': 0, u'mDistance': 0, u'mLat2': 0, u'platform': u'android', u'mAccuracy': 36.0, u'mLon1': 0, u'mLon2': 0, u'type': u'message', u'mLatitude': 37.3888052, u'mAltitude': 0, u'mExtras': nan, u'mSpeed': 0, u'key': u'background/location', u'mInitialBearing': 0, u'mHasSpeed': False, u'read_ts': 0, u'mElapsedRealtimeNanos': 176188004000000, u'mResults': [0, 0], u'mBearing': 0, u'mLongitude': -122.0877148, u'mIsFromMockProvider': False, u'filter': u'time', u'mTime': 1440280657461, u'mHasBearing': False}&amp;quot;);\n",
        "      div_marker_2_2._popup.options.maxWidth = 300;\n",
        "      map.addLayer(div_marker_2_2)\n",
        "      \n",
        "      var div_marker_2_3_icon = L.divIcon({className: 'leaflet-div-icon', 'iconSize': [5,5]});\n",
        "      var div_marker_2_3 = L.marker([37.3887033, \n",
        "\t\t\t\t\t\t\t-122.0877938],\n",
        "\t\t\t\t\t\t\t{'icon':div_marker_2_3_icon}\n",
        "\t\t\t\t\t\t\t);\n",
        "      div_marker_2_3.bindPopup(&amp;quot;{u'mProvider': u'fused', 'formatted_time': Timestamp('2015-08-22 14:58:09'), u'mHasAccuracy': True, u'mHasAltitude': False, u'write_ts': 1440280692574, u'mLat1': 0, u'mDistance': 0, u'mLat2': 0, u'platform': u'android', u'mAccuracy': 40.5, u'mLon1': 0, u'mLon2': 0, u'type': u'message', u'mLatitude': 37.3887033, u'mAltitude': 0, u'mExtras': nan, u'mSpeed': 0, u'key': u'background/location', u'mInitialBearing': 0, u'mHasSpeed': False, u'read_ts': 0, u'mElapsedRealtimeNanos': 176219830000000, u'mResults': [0, 0], u'mBearing': 0, u'mLongitude': -122.0877938, u'mIsFromMockProvider': False, u'filter': u'time', u'mTime': 1440280689286, u'mHasBearing': False}&amp;quot;);\n",
        "      div_marker_2_3._popup.options.maxWidth = 300;\n",
        "      map.addLayer(div_marker_2_3)\n",
        "      \n",
        "\n",
        "      \n",
        "\n",
        "      \n",
        "      var latLngs = [ [37.3909575, -122.0862772],  [37.3909335, -122.086278],  [37.3909338, -122.0862778],  [37.3909379, -122.0862769],  [37.3909633, -122.0862766],  [37.3909542, -122.0862781],  [37.3909619, -122.0862771],  [37.3909282, -122.0862746],  [37.3909599, -122.0862756],  [37.3909316, -122.0862766],  [37.3909584, -122.0862766], ];\n",
        "var line_1 = L.polyline(latLngs,{\n",
        "color: 'cyan',\n",
        "\n",
        "\n",
        "});\n",
        "      line_1.bindPopup(&amp;quot;Activities.STILL&amp;quot;);\n",
        "      line_1._popup.options.maxWidth = 300;\n",
        "      map.addLayer(line_1);\n",
        "      \n",
        "      var latLngs = [ [37.3898971, -122.0870407],  [37.3898971, -122.0870407],  [37.3888052, -122.0877148],  [37.3887033, -122.0877938], ];\n",
        "var line_2 = L.polyline(latLngs,{\n",
        "color: 'blue',\n",
        "\n",
        "\n",
        "});\n",
        "      line_2.bindPopup(&amp;quot;Activities.ON_BICYCLE&amp;quot;);\n",
        "      line_2._popup.options.maxWidth = 300;\n",
        "      map.addLayer(line_2);\n",
        "      \n",
        "      var latLngs = [ [37.3909584, -122.0862766],  [37.3898971, -122.0870407], ];\n",
        "var line_3 = L.polyline(latLngs,{\n",
        "color: 'yellow',\n",
        "\n",
        "\n",
        "});\n",
        "      line_3.bindPopup(&amp;quot;Activities.STILL -&gt; Activities.ON_BICYCLE&amp;quot;);\n",
        "      line_3._popup.options.maxWidth = 300;\n",
        "      map.addLayer(line_3);\n",
        "      \n",
        "\n",
        "      \n",
        "\n",
        "      \n",
        "\n",
        "      \n",
        "\n",
        "\n",
        "\n",
        "   &lt;/script&gt;\n",
        "\n",
        "&lt;/body&gt;&quot; style=&quot;width: 100%; height: 510px; border: none&quot;&gt;&lt;/iframe&gt;</td></tr>\n",
        "<tr><td>&lt;iframe srcdoc=&quot;&lt;!DOCTYPE html&gt;\n",
        "&lt;head&gt;\n",
        "   &lt;meta http-equiv=&amp;quot;content-type&amp;quot; content=&amp;quot;text/html; charset=UTF-8&amp;quot; /&gt;\n",
        "   &lt;link rel=&amp;quot;stylesheet&amp;quot; href=&amp;quot;https://cdnjs.cloudflare.com/ajax/libs/leaflet/0.7.3/leaflet.css&amp;quot; /&gt;\n",
        "   &lt;script src=&amp;quot;https://cdnjs.cloudflare.com/ajax/libs/leaflet/0.7.3/leaflet.js&amp;quot;&gt;&lt;/script&gt;\n",
        "\n",
        "   &lt;script src=&amp;quot;https://ajax.googleapis.com/ajax/libs/jquery/1.11.1/jquery.min.js&amp;quot;&gt;&lt;/script&gt;\n",
        "\n",
        "   &lt;link rel=&amp;quot;stylesheet&amp;quot; href=&amp;quot;https://maxcdn.bootstrapcdn.com/bootstrap/3.2.0/css/bootstrap.min.css&amp;quot;&gt;\n",
        "   &lt;link rel=&amp;quot;stylesheet&amp;quot; href=&amp;quot;https://maxcdn.bootstrapcdn.com/bootstrap/3.2.0/css/bootstrap-theme.min.css&amp;quot;&gt;\n",
        "   &lt;script src=&amp;quot;https://maxcdn.bootstrapcdn.com/bootstrap/3.2.0/js/bootstrap.min.js&amp;quot;&gt;&lt;/script&gt;\n",
        "\n",
        "   &lt;link href=&amp;quot;https://maxcdn.bootstrapcdn.com/font-awesome/4.1.0/css/font-awesome.min.css&amp;quot; rel=&amp;quot;stylesheet&amp;quot;&gt;\n",
        "\n",
        "   &lt;link rel=&amp;quot;stylesheet&amp;quot; href=&amp;quot;https://rawgit.com/lvoogdt/Leaflet.awesome-markers/2.0/develop/dist/leaflet.awesome-markers.css&amp;quot;&gt;\n",
        "   &lt;script src=&amp;quot;https://rawgithub.com/lvoogdt/Leaflet.awesome-markers/2.0/develop/dist/leaflet.awesome-markers.js&amp;quot;&gt;&lt;/script&gt;\n",
        "\n",
        "\n",
        "   &lt;link rel=&amp;quot;stylesheet&amp;quot; href=&amp;quot;https://cdnjs.cloudflare.com/ajax/libs/leaflet.markercluster/0.4.0/MarkerCluster.Default.css&amp;quot;&gt;\n",
        "   &lt;link rel=&amp;quot;stylesheet&amp;quot; href=&amp;quot;https://cdnjs.cloudflare.com/ajax/libs/leaflet.markercluster/0.4.0/MarkerCluster.css&amp;quot;&gt;\n",
        "   &lt;script src=&amp;quot;https://cdnjs.cloudflare.com/ajax/libs/leaflet.markercluster/0.4.0/leaflet.markercluster-src.js&amp;quot;&gt;&lt;/script&gt;\n",
        "   &lt;script src=&amp;quot;https://cdnjs.cloudflare.com/ajax/libs/leaflet.markercluster/0.4.0/leaflet.markercluster.js&amp;quot;&gt;&lt;/script&gt;\n",
        "\n",
        "   &lt;link rel=&amp;quot;stylesheet&amp;quot; href=&amp;quot;https://birdage.github.io/Leaflet.awesome-markers/dist/leaflet.awesome.rotate.css&amp;quot;&gt;\n",
        "\n",
        "   \n",
        "   \n",
        "   \n",
        "   \n",
        "\n",
        "   &lt;style&gt;\n",
        "\n",
        "      html, body {\n",
        "        width: 100%;\n",
        "        height: 100%;\n",
        "        margin: 0;\n",
        "        padding: 0;\n",
        "      }\n",
        "\n",
        "      #map {\n",
        "        position:absolute;\n",
        "        top:0;\n",
        "        bottom:0;\n",
        "        right:0;\n",
        "        left:0;\n",
        "      }\n",
        "\n",
        "   &lt;/style&gt;\n",
        "&lt;/head&gt;\n",
        "\n",
        "&lt;body&gt;\n",
        "\n",
        "   &lt;div class=&amp;quot;folium-map&amp;quot; id=&amp;quot;folium_c2fa3b7751d44f5b88b6356e1d7ecd8f&amp;quot; style=&amp;quot;width: 100%; height: 100%&amp;quot;&gt;&lt;/div&gt;\n",
        "\n",
        "   &lt;script&gt;\n",
        "\n",
        "      \n",
        "\n",
        "      var base_tile = L.tileLayer('https://{s}.tile.openstreetmap.org/{z}/{x}/{y}.png', {\n",
        "          maxZoom: 18,\n",
        "          minZoom: 1,\n",
        "          attribution: 'Map data (c) &lt;a href=&amp;quot;http://openstreetmap.org&amp;quot;&gt;OpenStreetMap&lt;/a&gt; contributors'\n",
        "      });\n",
        "\n",
        "      var baseLayer = {\n",
        "        &amp;quot;Base Layer&amp;quot;: base_tile\n",
        "      };\n",
        "\n",
        "      /*\n",
        "      addition of the wms layers\n",
        "      */\n",
        "\n",
        "      \n",
        "\n",
        "      /*\n",
        "      addition of the tile layers\n",
        "      */\n",
        "      \n",
        "\n",
        "      /*\n",
        "      list of layers to be added\n",
        "      */\n",
        "      var layer_list = {\n",
        "      \n",
        "      };\n",
        "\n",
        "      /*\n",
        "      Bounding box.\n",
        "      */\n",
        "      var southWest = L.latLng(-90, -180),\n",
        "          northEast = L.latLng(90, 180),\n",
        "          bounds = L.latLngBounds(southWest, northEast);\n",
        "\n",
        "      /*\n",
        "      Creates the map and adds the selected layers\n",
        "      */\n",
        "      var map = L.map('folium_c2fa3b7751d44f5b88b6356e1d7ecd8f', {\n",
        "                                       center:[37.38803826, -122.08868487],\n",
        "                                       zoom: 10,\n",
        "                                       maxBounds: bounds,\n",
        "                                       layers: [base_tile]\n",
        "                                     });\n",
        "\n",
        "      L.control.layers(baseLayer, layer_list).addTo(map);\n",
        "\n",
        "      //cluster group\n",
        "      var clusteredmarkers = L.markerClusterGroup();\n",
        "      //section for adding clustered markers\n",
        "      \n",
        "      //add the clustered markers to the group anyway\n",
        "      map.addLayer(clusteredmarkers);\n",
        "\n",
        "      \n",
        "\n",
        "      \n",
        "      var div_marker_1_0_icon = L.divIcon({className: 'leaflet-div-icon', 'iconSize': [5,5]});\n",
        "      var div_marker_1_0 = L.marker([37.3880885, \n",
        "\t\t\t\t\t\t\t-122.0891152],\n",
        "\t\t\t\t\t\t\t{'icon':div_marker_1_0_icon}\n",
        "\t\t\t\t\t\t\t);\n",
        "      div_marker_1_0.bindPopup(&amp;quot;{u'mProvider': u'fused', 'formatted_time': Timestamp('2015-08-22 14:59:02'), u'mHasAccuracy': True, u'mHasAltitude': True, u'write_ts': 1440280742578, u'mLat1': 0, u'mDistance': 0, u'mLat2': 0, u'platform': u'android', u'mAccuracy': 5.0, u'mLon1': 0, u'mLon2': 0, u'type': u'message', u'mLatitude': 37.3880885, u'mAltitude': 17.0, u'mSpeed': 0.37530002, u'key': u'background/location', u'mInitialBearing': 0, u'mHasSpeed': True, u'read_ts': 0, u'mElapsedRealtimeNanos': 176272839710942, u'mResults': [0, 0], u'mBearing': 28, u'mLongitude': -122.0891152, u'mIsFromMockProvider': False, u'filter': u'time', u'mTime': 1440280742307, u'mHasBearing': True}&amp;quot;);\n",
        "      div_marker_1_0._popup.options.maxWidth = 300;\n",
        "      map.addLayer(div_marker_1_0)\n",
        "      \n",
        "      var div_marker_1_1_icon = L.divIcon({className: 'leaflet-div-icon', 'iconSize': [5,5]});\n",
        "      var div_marker_1_1 = L.marker([37.3880786, \n",
        "\t\t\t\t\t\t\t-122.0890091],\n",
        "\t\t\t\t\t\t\t{'icon':div_marker_1_1_icon}\n",
        "\t\t\t\t\t\t\t);\n",
        "      div_marker_1_1.bindPopup(&amp;quot;{u'mProvider': u'fused', 'formatted_time': Timestamp('2015-08-22 14:59:07'), u'mHasAccuracy': True, u'mHasAltitude': True, u'write_ts': 1440280748197, u'mLat1': 0, u'mDistance': 0, u'mLat2': 0, u'platform': u'android', u'mAccuracy': 15.0, u'mLon1': 0, u'mLon2': 0, u'type': u'message', u'mLatitude': 37.3880786, u'mAltitude': -13.899993896484375, u'mSpeed': 0.75060004, u'key': u'background/location', u'mInitialBearing': 0, u'mHasSpeed': True, u'read_ts': 0, u'mElapsedRealtimeNanos': 176278463032476, u'mResults': [0, 0], u'mBearing': 312, u'mLongitude': -122.0890091, u'mIsFromMockProvider': False, u'filter': u'time', u'mTime': 1440280747923, u'mHasBearing': True}&amp;quot;);\n",
        "      div_marker_1_1._popup.options.maxWidth = 300;\n",
        "      map.addLayer(div_marker_1_1)\n",
        "      \n",
        "      var div_marker_1_2_icon = L.divIcon({className: 'leaflet-div-icon', 'iconSize': [5,5]});\n",
        "      var div_marker_1_2 = L.marker([37.3882301, \n",
        "\t\t\t\t\t\t\t-122.0883136],\n",
        "\t\t\t\t\t\t\t{'icon':div_marker_1_2_icon}\n",
        "\t\t\t\t\t\t\t);\n",
        "      div_marker_1_2.bindPopup(&amp;quot;{u'mProvider': u'fused', 'formatted_time': Timestamp('2015-08-22 14:59:43'), u'mHasAccuracy': True, u'mHasAltitude': False, u'write_ts': 1440280786071, u'mLat1': 0, u'mDistance': 0, u'mLat2': 0, u'platform': u'android', u'mAccuracy': 39.0, u'mLon1': 0, u'mLon2': 0, u'type': u'message', u'mLatitude': 37.3882301, u'mAltitude': 0.0, u'mSpeed': 0.0, u'key': u'background/location', u'mInitialBearing': 0, u'mHasSpeed': False, u'read_ts': 0, u'mElapsedRealtimeNanos': 176313869000000, u'mResults': [0, 0], u'mBearing': 0, u'mLongitude': -122.0883136, u'mIsFromMockProvider': False, u'filter': u'time', u'mTime': 1440280783326, u'mHasBearing': False}&amp;quot;);\n",
        "      div_marker_1_2._popup.options.maxWidth = 300;\n",
        "      map.addLayer(div_marker_1_2)\n",
        "      \n",
        "      var div_marker_1_3_icon = L.divIcon({className: 'leaflet-div-icon', 'iconSize': [5,5]});\n",
        "      var div_marker_1_3 = L.marker([37.3881043, \n",
        "\t\t\t\t\t\t\t-122.0883182],\n",
        "\t\t\t\t\t\t\t{'icon':div_marker_1_3_icon}\n",
        "\t\t\t\t\t\t\t);\n",
        "      div_marker_1_3.bindPopup(&amp;quot;{u'mProvider': u'fused', 'formatted_time': Timestamp('2015-08-22 15:00:13'), u'mHasAccuracy': True, u'mHasAltitude': False, u'write_ts': 1440280813759, u'mLat1': 0, u'mDistance': 0, u'mLat2': 0, u'platform': u'android', u'mAccuracy': 48.0, u'mLon1': 0, u'mLon2': 0, u'type': u'message', u'mLatitude': 37.3881043, u'mAltitude': 0.0, u'mSpeed': 0.0, u'key': u'background/location', u'mInitialBearing': 0, u'mHasSpeed': False, u'read_ts': 0, u'mElapsedRealtimeNanos': 176343937000000, u'mResults': [0, 0], u'mBearing': 0, u'mLongitude': -122.0883182, u'mIsFromMockProvider': False, u'filter': u'time', u'mTime': 1440280813393, u'mHasBearing': False}&amp;quot;);\n",
        "      div_marker_1_3._popup.options.maxWidth = 300;\n",
        "      map.addLayer(div_marker_1_3)\n",
        "      \n",
        "      var div_marker_1_4_icon = L.divIcon({className: 'leaflet-div-icon', 'iconSize': [5,5]});\n",
        "      var div_marker_1_4 = L.marker([37.3879922, \n",
        "\t\t\t\t\t\t\t-122.0887416],\n",
        "\t\t\t\t\t\t\t{'icon':div_marker_1_4_icon}\n",
        "\t\t\t\t\t\t\t);\n",
        "      div_marker_1_4.bindPopup(&amp;quot;{u'mProvider': u'fused', 'formatted_time': Timestamp('2015-08-22 15:00:43'), u'mHasAccuracy': True, u'mHasAltitude': False, u'write_ts': 1440280844254, u'mLat1': 0, u'mDistance': 0, u'mLat2': 0, u'platform': u'android', u'mAccuracy': 39.0, u'mLon1': 0, u'mLon2': 0, u'type': u'message', u'mLatitude': 37.3879922, u'mAltitude': 0.0, u'mSpeed': 0.0, u'key': u'background/location', u'mInitialBearing': 0, u'mHasSpeed': False, u'read_ts': 0, u'mElapsedRealtimeNanos': 176373911000000, u'mResults': [0, 0], u'mBearing': 0, u'mLongitude': -122.0887416, u'mIsFromMockProvider': False, u'filter': u'time', u'mTime': 1440280843368, u'mHasBearing': False}&amp;quot;);\n",
        "      div_marker_1_4._popup.options.maxWidth = 300;\n",
        "      map.addLayer(div_marker_1_4)\n",
        "      \n",
        "      var div_marker_1_5_icon = L.divIcon({className: 'leaflet-div-icon', 'iconSize': [5,5]});\n",
        "      var div_marker_1_5 = L.marker([37.3879933, \n",
        "\t\t\t\t\t\t\t-122.0886112],\n",
        "\t\t\t\t\t\t\t{'icon':div_marker_1_5_icon}\n",
        "\t\t\t\t\t\t\t);\n",
        "      div_marker_1_5.bindPopup(&amp;quot;{u'mProvider': u'fused', 'formatted_time': Timestamp('2015-08-22 15:01:13'), u'mHasAccuracy': True, u'mHasAltitude': False, u'write_ts': 1440280873707, u'mLat1': 0, u'mDistance': 0, u'mLat2': 0, u'platform': u'android', u'mAccuracy': 45.0, u'mLon1': 0, u'mLon2': 0, u'type': u'message', u'mLatitude': 37.3879933, u'mAltitude': 0.0, u'mSpeed': 0.0, u'key': u'background/location', u'mInitialBearing': 0, u'mHasSpeed': False, u'read_ts': 0, u'mElapsedRealtimeNanos': 176403932000000, u'mResults': [0, 0], u'mBearing': 0, u'mLongitude': -122.0886112, u'mIsFromMockProvider': False, u'filter': u'time', u'mTime': 1440280873388, u'mHasBearing': False}&amp;quot;);\n",
        "      div_marker_1_5._popup.options.maxWidth = 300;\n",
        "      map.addLayer(div_marker_1_5)\n",
        "      \n",
        "      var div_marker_1_6_icon = L.divIcon({className: 'leaflet-div-icon', 'iconSize': [5,5]});\n",
        "      var div_marker_1_6 = L.marker([37.3879718, \n",
        "\t\t\t\t\t\t\t-122.0886531],\n",
        "\t\t\t\t\t\t\t{'icon':div_marker_1_6_icon}\n",
        "\t\t\t\t\t\t\t);\n",
        "      div_marker_1_6.bindPopup(&amp;quot;{u'mProvider': u'fused', 'formatted_time': Timestamp('2015-08-22 15:01:43'), u'mHasAccuracy': True, u'mHasAltitude': False, u'write_ts': 1440280903822, u'mLat1': 0, u'mDistance': 0, u'mLat2': 0, u'platform': u'android', u'mAccuracy': 45.0, u'mLon1': 0, u'mLon2': 0, u'type': u'message', u'mLatitude': 37.3879718, u'mAltitude': 0.0, u'mSpeed': 0.0, u'key': u'background/location', u'mInitialBearing': 0, u'mHasSpeed': False, u'read_ts': 0, u'mElapsedRealtimeNanos': 176433968000000, u'mResults': [0, 0], u'mBearing': 0, u'mLongitude': -122.0886531, u'mIsFromMockProvider': False, u'filter': u'time', u'mTime': 1440280903424, u'mHasBearing': False}&amp;quot;);\n",
        "      div_marker_1_6._popup.options.maxWidth = 300;\n",
        "      map.addLayer(div_marker_1_6)\n",
        "      \n",
        "      var div_marker_1_7_icon = L.divIcon({className: 'leaflet-div-icon', 'iconSize': [5,5]});\n",
        "      var div_marker_1_7 = L.marker([37.3879724, \n",
        "\t\t\t\t\t\t\t-122.0887341],\n",
        "\t\t\t\t\t\t\t{'icon':div_marker_1_7_icon}\n",
        "\t\t\t\t\t\t\t);\n",
        "      div_marker_1_7.bindPopup(&amp;quot;{u'mProvider': u'fused', 'formatted_time': Timestamp('2015-08-22 15:02:13'), u'mHasAccuracy': True, u'mHasAltitude': False, u'write_ts': 1440280934645, u'mLat1': 0, u'mDistance': 0, u'mLat2': 0, u'platform': u'android', u'mAccuracy': 37.5, u'mLon1': 0, u'mLon2': 0, u'type': u'message', u'mLatitude': 37.3879724, u'mAltitude': 0.0, u'mSpeed': 0.0, u'key': u'background/location', u'mInitialBearing': 0, u'mHasSpeed': False, u'read_ts': 0, u'mElapsedRealtimeNanos': 176463903000000, u'mResults': [0, 0], u'mBearing': 0, u'mLongitude': -122.0887341, u'mIsFromMockProvider': False, u'filter': u'time', u'mTime': 1440280933359, u'mHasBearing': False}&amp;quot;);\n",
        "      div_marker_1_7._popup.options.maxWidth = 300;\n",
        "      map.addLayer(div_marker_1_7)\n",
        "      \n",
        "      var div_marker_1_8_icon = L.divIcon({className: 'leaflet-div-icon', 'iconSize': [5,5]});\n",
        "      var div_marker_1_8 = L.marker([37.3879732, \n",
        "\t\t\t\t\t\t\t-122.0885978],\n",
        "\t\t\t\t\t\t\t{'icon':div_marker_1_8_icon}\n",
        "\t\t\t\t\t\t\t);\n",
        "      div_marker_1_8.bindPopup(&amp;quot;{u'mProvider': u'fused', 'formatted_time': Timestamp('2015-08-22 15:02:43'), u'mHasAccuracy': True, u'mHasAltitude': False, u'write_ts': 1440280966267, u'mLat1': 0, u'mDistance': 0, u'mLat2': 0, u'platform': u'android', u'mAccuracy': 51.0, u'mLon1': 0, u'mLon2': 0, u'type': u'message', u'mLatitude': 37.3879732, u'mAltitude': 0.0, u'mSpeed': 0.0, u'key': u'background/location', u'mInitialBearing': 0, u'mHasSpeed': False, u'read_ts': 0, u'mElapsedRealtimeNanos': 176494023000000, u'mResults': [0, 0], u'mBearing': 0, u'mLongitude': -122.0885978, u'mIsFromMockProvider': False, u'filter': u'time', u'mTime': 1440280963480, u'mHasBearing': False}&amp;quot;);\n",
        "      div_marker_1_8._popup.options.maxWidth = 300;\n",
        "      map.addLayer(div_marker_1_8)\n",
        "      \n",
        "      var div_marker_1_9_icon = L.divIcon({className: 'leaflet-div-icon', 'iconSize': [5,5]});\n",
        "      var div_marker_1_9 = L.marker([37.3879782, \n",
        "\t\t\t\t\t\t\t-122.0887548],\n",
        "\t\t\t\t\t\t\t{'icon':div_marker_1_9_icon}\n",
        "\t\t\t\t\t\t\t);\n",
        "      div_marker_1_9.bindPopup(&amp;quot;{u'mProvider': u'fused', 'formatted_time': Timestamp('2015-08-22 15:03:13'), u'mHasAccuracy': True, u'mHasAltitude': False, u'write_ts': 1440280993815, u'mLat1': 0, u'mDistance': 0, u'mLat2': 0, u'platform': u'android', u'mAccuracy': 33.0, u'mLon1': 0, u'mLon2': 0, u'type': u'message', u'mLatitude': 37.3879782, u'mAltitude': 0.0, u'mSpeed': 0.0, u'key': u'background/location', u'mInitialBearing': 0, u'mHasSpeed': False, u'read_ts': 0, u'mElapsedRealtimeNanos': 176524040000000, u'mResults': [0, 0], u'mBearing': 0, u'mLongitude': -122.0887548, u'mIsFromMockProvider': False, u'filter': u'time', u'mTime': 1440280993496, u'mHasBearing': False}&amp;quot;);\n",
        "      div_marker_1_9._popup.options.maxWidth = 300;\n",
        "      map.addLayer(div_marker_1_9)\n",
        "      \n",
        "\n",
        "      \n",
        "\n",
        "      \n",
        "      var latLngs = [ [37.3880885, -122.0891152],  [37.3880786, -122.0890091],  [37.3882301, -122.0883136],  [37.3881043, -122.0883182],  [37.3879922, -122.0887416],  [37.3879933, -122.0886112],  [37.3879718, -122.0886531],  [37.3879724, -122.0887341],  [37.3879732, -122.0885978],  [37.3879782, -122.0887548], ];\n",
        "var line_1 = L.polyline(latLngs,{\n",
        "color: 'blue',\n",
        "\n",
        "\n",
        "});\n",
        "      line_1.bindPopup(&amp;quot;Activities.ON_BICYCLE&amp;quot;);\n",
        "      line_1._popup.options.maxWidth = 300;\n",
        "      map.addLayer(line_1);\n",
        "      \n",
        "\n",
        "      \n",
        "\n",
        "      \n",
        "\n",
        "      \n",
        "\n",
        "\n",
        "\n",
        "   &lt;/script&gt;\n",
        "\n",
        "&lt;/body&gt;&quot; style=&quot;width: 100%; height: 510px; border: none&quot;&gt;&lt;/iframe&gt;</td></tr>\n",
        "<tr><td>&lt;iframe srcdoc=&quot;&lt;!DOCTYPE html&gt;\n",
        "&lt;head&gt;\n",
        "   &lt;meta http-equiv=&amp;quot;content-type&amp;quot; content=&amp;quot;text/html; charset=UTF-8&amp;quot; /&gt;\n",
        "   &lt;link rel=&amp;quot;stylesheet&amp;quot; href=&amp;quot;https://cdnjs.cloudflare.com/ajax/libs/leaflet/0.7.3/leaflet.css&amp;quot; /&gt;\n",
        "   &lt;script src=&amp;quot;https://cdnjs.cloudflare.com/ajax/libs/leaflet/0.7.3/leaflet.js&amp;quot;&gt;&lt;/script&gt;\n",
        "\n",
        "   &lt;script src=&amp;quot;https://ajax.googleapis.com/ajax/libs/jquery/1.11.1/jquery.min.js&amp;quot;&gt;&lt;/script&gt;\n",
        "\n",
        "   &lt;link rel=&amp;quot;stylesheet&amp;quot; href=&amp;quot;https://maxcdn.bootstrapcdn.com/bootstrap/3.2.0/css/bootstrap.min.css&amp;quot;&gt;\n",
        "   &lt;link rel=&amp;quot;stylesheet&amp;quot; href=&amp;quot;https://maxcdn.bootstrapcdn.com/bootstrap/3.2.0/css/bootstrap-theme.min.css&amp;quot;&gt;\n",
        "   &lt;script src=&amp;quot;https://maxcdn.bootstrapcdn.com/bootstrap/3.2.0/js/bootstrap.min.js&amp;quot;&gt;&lt;/script&gt;\n",
        "\n",
        "   &lt;link href=&amp;quot;https://maxcdn.bootstrapcdn.com/font-awesome/4.1.0/css/font-awesome.min.css&amp;quot; rel=&amp;quot;stylesheet&amp;quot;&gt;\n",
        "\n",
        "   &lt;link rel=&amp;quot;stylesheet&amp;quot; href=&amp;quot;https://rawgit.com/lvoogdt/Leaflet.awesome-markers/2.0/develop/dist/leaflet.awesome-markers.css&amp;quot;&gt;\n",
        "   &lt;script src=&amp;quot;https://rawgithub.com/lvoogdt/Leaflet.awesome-markers/2.0/develop/dist/leaflet.awesome-markers.js&amp;quot;&gt;&lt;/script&gt;\n",
        "\n",
        "\n",
        "   &lt;link rel=&amp;quot;stylesheet&amp;quot; href=&amp;quot;https://cdnjs.cloudflare.com/ajax/libs/leaflet.markercluster/0.4.0/MarkerCluster.Default.css&amp;quot;&gt;\n",
        "   &lt;link rel=&amp;quot;stylesheet&amp;quot; href=&amp;quot;https://cdnjs.cloudflare.com/ajax/libs/leaflet.markercluster/0.4.0/MarkerCluster.css&amp;quot;&gt;\n",
        "   &lt;script src=&amp;quot;https://cdnjs.cloudflare.com/ajax/libs/leaflet.markercluster/0.4.0/leaflet.markercluster-src.js&amp;quot;&gt;&lt;/script&gt;\n",
        "   &lt;script src=&amp;quot;https://cdnjs.cloudflare.com/ajax/libs/leaflet.markercluster/0.4.0/leaflet.markercluster.js&amp;quot;&gt;&lt;/script&gt;\n",
        "\n",
        "   &lt;link rel=&amp;quot;stylesheet&amp;quot; href=&amp;quot;https://birdage.github.io/Leaflet.awesome-markers/dist/leaflet.awesome.rotate.css&amp;quot;&gt;\n",
        "\n",
        "   \n",
        "   \n",
        "   \n",
        "   \n",
        "\n",
        "   &lt;style&gt;\n",
        "\n",
        "      html, body {\n",
        "        width: 100%;\n",
        "        height: 100%;\n",
        "        margin: 0;\n",
        "        padding: 0;\n",
        "      }\n",
        "\n",
        "      #map {\n",
        "        position:absolute;\n",
        "        top:0;\n",
        "        bottom:0;\n",
        "        right:0;\n",
        "        left:0;\n",
        "      }\n",
        "\n",
        "   &lt;/style&gt;\n",
        "&lt;/head&gt;\n",
        "\n",
        "&lt;body&gt;\n",
        "\n",
        "   &lt;div class=&amp;quot;folium-map&amp;quot; id=&amp;quot;folium_4f51d8c69b3646d5b37618f3ea77ea07&amp;quot; style=&amp;quot;width: 100%; height: 100%&amp;quot;&gt;&lt;/div&gt;\n",
        "\n",
        "   &lt;script&gt;\n",
        "\n",
        "      \n",
        "\n",
        "      var base_tile = L.tileLayer('https://{s}.tile.openstreetmap.org/{z}/{x}/{y}.png', {\n",
        "          maxZoom: 18,\n",
        "          minZoom: 1,\n",
        "          attribution: 'Map data (c) &lt;a href=&amp;quot;http://openstreetmap.org&amp;quot;&gt;OpenStreetMap&lt;/a&gt; contributors'\n",
        "      });\n",
        "\n",
        "      var baseLayer = {\n",
        "        &amp;quot;Base Layer&amp;quot;: base_tile\n",
        "      };\n",
        "\n",
        "      /*\n",
        "      addition of the wms layers\n",
        "      */\n",
        "\n",
        "      \n",
        "\n",
        "      /*\n",
        "      addition of the tile layers\n",
        "      */\n",
        "      \n",
        "\n",
        "      /*\n",
        "      list of layers to be added\n",
        "      */\n",
        "      var layer_list = {\n",
        "      \n",
        "      };\n",
        "\n",
        "      /*\n",
        "      Bounding box.\n",
        "      */\n",
        "      var southWest = L.latLng(-90, -180),\n",
        "          northEast = L.latLng(90, 180),\n",
        "          bounds = L.latLngBounds(southWest, northEast);\n",
        "\n",
        "      /*\n",
        "      Creates the map and adds the selected layers\n",
        "      */\n",
        "      var map = L.map('folium_4f51d8c69b3646d5b37618f3ea77ea07', {\n",
        "                                       center:[37.389449075, -122.086231575],\n",
        "                                       zoom: 10,\n",
        "                                       maxBounds: bounds,\n",
        "                                       layers: [base_tile]\n",
        "                                     });\n",
        "\n",
        "      L.control.layers(baseLayer, layer_list).addTo(map);\n",
        "\n",
        "      //cluster group\n",
        "      var clusteredmarkers = L.markerClusterGroup();\n",
        "      //section for adding clustered markers\n",
        "      \n",
        "      //add the clustered markers to the group anyway\n",
        "      map.addLayer(clusteredmarkers);\n",
        "\n",
        "      \n",
        "\n",
        "      \n",
        "      var div_marker_1_0_icon = L.divIcon({className: 'leaflet-div-icon', 'iconSize': [5,5]});\n",
        "      var div_marker_1_0 = L.marker([37.3879716, \n",
        "\t\t\t\t\t\t\t-122.0886379],\n",
        "\t\t\t\t\t\t\t{'icon':div_marker_1_0_icon}\n",
        "\t\t\t\t\t\t\t);\n",
        "      div_marker_1_0.bindPopup(&amp;quot;{u'mProvider': u'fused', 'formatted_time': Timestamp('2015-08-22 15:04:13'), u'mHasAccuracy': True, u'mHasAltitude': False, u'write_ts': 1440281053991, u'mLat1': 0, u'mDistance': 0, u'mLat2': 0, u'platform': u'android', u'mAccuracy': 45.0, u'mLon1': 0, u'mLon2': 0, u'type': u'message', u'mLatitude': 37.3879716, u'mAltitude': 0.0, u'mExtras': nan, u'mSpeed': 0.0, u'key': u'background/location', u'mInitialBearing': 0, u'mHasSpeed': False, u'read_ts': 0, u'mElapsedRealtimeNanos': 176584097000000, u'mResults': [0, 0], u'mBearing': 0, u'mLongitude': -122.0886379, u'mIsFromMockProvider': False, u'filter': u'time', u'mTime': 1440281053553, u'mHasBearing': False}&amp;quot;);\n",
        "      div_marker_1_0._popup.options.maxWidth = 300;\n",
        "      map.addLayer(div_marker_1_0)\n",
        "      \n",
        "      var div_marker_1_1_icon = L.divIcon({className: 'leaflet-div-icon', 'iconSize': [5,5]});\n",
        "      var div_marker_1_1 = L.marker([37.3879706, \n",
        "\t\t\t\t\t\t\t-122.0887398],\n",
        "\t\t\t\t\t\t\t{'icon':div_marker_1_1_icon}\n",
        "\t\t\t\t\t\t\t);\n",
        "      div_marker_1_1.bindPopup(&amp;quot;{u'mProvider': u'fused', 'formatted_time': Timestamp('2015-08-22 15:04:43'), u'mHasAccuracy': True, u'mHasAltitude': False, u'write_ts': 1440281083933, u'mLat1': 0, u'mDistance': 0, u'mLat2': 0, u'platform': u'android', u'mAccuracy': 34.5, u'mLon1': 0, u'mLon2': 0, u'type': u'message', u'mLatitude': 37.3879706, u'mAltitude': 0.0, u'mExtras': nan, u'mSpeed': 0.0, u'key': u'background/location', u'mInitialBearing': 0, u'mHasSpeed': False, u'read_ts': 0, u'mElapsedRealtimeNanos': 176614125000000, u'mResults': [0, 0], u'mBearing': 0, u'mLongitude': -122.0887398, u'mIsFromMockProvider': False, u'filter': u'time', u'mTime': 1440281083581, u'mHasBearing': False}&amp;quot;);\n",
        "      div_marker_1_1._popup.options.maxWidth = 300;\n",
        "      map.addLayer(div_marker_1_1)\n",
        "      \n",
        "      var div_marker_1_2_icon = L.divIcon({className: 'leaflet-div-icon', 'iconSize': [5,5]});\n",
        "      var div_marker_1_2 = L.marker([37.3879782, \n",
        "\t\t\t\t\t\t\t-122.0887328],\n",
        "\t\t\t\t\t\t\t{'icon':div_marker_1_2_icon}\n",
        "\t\t\t\t\t\t\t);\n",
        "      div_marker_1_2.bindPopup(&amp;quot;{u'mProvider': u'fused', 'formatted_time': Timestamp('2015-08-22 15:05:13'), u'mHasAccuracy': True, u'mHasAltitude': False, u'write_ts': 1440281113911, u'mLat1': 0, u'mDistance': 0, u'mLat2': 0, u'platform': u'android', u'mAccuracy': 39.0, u'mLon1': 0, u'mLon2': 0, u'type': u'message', u'mLatitude': 37.3879782, u'mAltitude': 0.0, u'mExtras': nan, u'mSpeed': 0.0, u'key': u'background/location', u'mInitialBearing': 0, u'mHasSpeed': False, u'read_ts': 0, u'mElapsedRealtimeNanos': 176644146000000, u'mResults': [0, 0], u'mBearing': 0, u'mLongitude': -122.0887328, u'mIsFromMockProvider': False, u'filter': u'time', u'mTime': 1440281113602, u'mHasBearing': False}&amp;quot;);\n",
        "      div_marker_1_2._popup.options.maxWidth = 300;\n",
        "      map.addLayer(div_marker_1_2)\n",
        "      \n",
        "      var div_marker_1_3_icon = L.divIcon({className: 'leaflet-div-icon', 'iconSize': [5,5]});\n",
        "      var div_marker_1_3 = L.marker([37.387993, \n",
        "\t\t\t\t\t\t\t-122.0886211],\n",
        "\t\t\t\t\t\t\t{'icon':div_marker_1_3_icon}\n",
        "\t\t\t\t\t\t\t);\n",
        "      div_marker_1_3.bindPopup(&amp;quot;{u'mProvider': u'fused', 'formatted_time': Timestamp('2015-08-22 15:05:43'), u'mHasAccuracy': True, u'mHasAltitude': False, u'write_ts': 1440281144010, u'mLat1': 0, u'mDistance': 0, u'mLat2': 0, u'platform': u'android', u'mAccuracy': 48.0, u'mLon1': 0, u'mLon2': 0, u'type': u'message', u'mLatitude': 37.387993, u'mAltitude': 0.0, u'mExtras': nan, u'mSpeed': 0.0, u'key': u'background/location', u'mInitialBearing': 0, u'mHasSpeed': False, u'read_ts': 0, u'mElapsedRealtimeNanos': 176674179000000, u'mResults': [0, 0], u'mBearing': 0, u'mLongitude': -122.0886211, u'mIsFromMockProvider': False, u'filter': u'time', u'mTime': 1440281143636, u'mHasBearing': False}&amp;quot;);\n",
        "      div_marker_1_3._popup.options.maxWidth = 300;\n",
        "      map.addLayer(div_marker_1_3)\n",
        "      \n",
        "      var div_marker_1_4_icon = L.divIcon({className: 'leaflet-div-icon', 'iconSize': [5,5]});\n",
        "      var div_marker_1_4 = L.marker([37.3879864, \n",
        "\t\t\t\t\t\t\t-122.0887217],\n",
        "\t\t\t\t\t\t\t{'icon':div_marker_1_4_icon}\n",
        "\t\t\t\t\t\t\t);\n",
        "      div_marker_1_4.bindPopup(&amp;quot;{u'mProvider': u'fused', 'formatted_time': Timestamp('2015-08-22 15:06:13'), u'mHasAccuracy': True, u'mHasAltitude': False, u'write_ts': 1440281173970, u'mLat1': 0, u'mDistance': 0, u'mLat2': 0, u'platform': u'android', u'mAccuracy': 42.0, u'mLon1': 0, u'mLon2': 0, u'type': u'message', u'mLatitude': 37.3879864, u'mAltitude': 0.0, u'mExtras': nan, u'mSpeed': 0.0, u'key': u'background/location', u'mInitialBearing': 0, u'mHasSpeed': False, u'read_ts': 0, u'mElapsedRealtimeNanos': 176704191000000, u'mResults': [0, 0], u'mBearing': 0, u'mLongitude': -122.0887217, u'mIsFromMockProvider': False, u'filter': u'time', u'mTime': 1440281173648, u'mHasBearing': False}&amp;quot;);\n",
        "      div_marker_1_4._popup.options.maxWidth = 300;\n",
        "      map.addLayer(div_marker_1_4)\n",
        "      \n",
        "      var div_marker_2_0_icon = L.divIcon({className: 'leaflet-div-icon', 'iconSize': [5,5]});\n",
        "      var div_marker_2_0 = L.marker([37.3879976, \n",
        "\t\t\t\t\t\t\t-122.0887136],\n",
        "\t\t\t\t\t\t\t{'icon':div_marker_2_0_icon}\n",
        "\t\t\t\t\t\t\t);\n",
        "      div_marker_2_0.bindPopup(&amp;quot;{u'mProvider': u'fused', 'formatted_time': Timestamp('2015-08-22 15:06:43'), u'mHasAccuracy': True, u'mHasAltitude': False, u'write_ts': 1440281204027, u'mLat1': 0, u'mDistance': 0, u'mLat2': 0, u'platform': u'android', u'mAccuracy': 57.0, u'mLon1': 0, u'mLon2': 0, u'type': u'message', u'mLatitude': 37.3879976, u'mAltitude': 0.0, u'mExtras': nan, u'mSpeed': 0.0, u'key': u'background/location', u'mInitialBearing': 0, u'mHasSpeed': False, u'read_ts': 0, u'mElapsedRealtimeNanos': 176734203000000, u'mResults': [0, 0], u'mBearing': 0, u'mLongitude': -122.0887136, u'mIsFromMockProvider': False, u'filter': u'time', u'mTime': 1440281203660, u'mHasBearing': False}&amp;quot;);\n",
        "      div_marker_2_0._popup.options.maxWidth = 300;\n",
        "      map.addLayer(div_marker_2_0)\n",
        "      \n",
        "      var div_marker_2_1_icon = L.divIcon({className: 'leaflet-div-icon', 'iconSize': [5,5]});\n",
        "      var div_marker_2_1 = L.marker([37.3881316, \n",
        "\t\t\t\t\t\t\t-122.0884228],\n",
        "\t\t\t\t\t\t\t{'icon':div_marker_2_1_icon}\n",
        "\t\t\t\t\t\t\t);\n",
        "      div_marker_2_1.bindPopup(&amp;quot;{u'mProvider': u'fused', 'formatted_time': Timestamp('2015-08-22 15:07:13'), u'mHasAccuracy': True, u'mHasAltitude': False, u'write_ts': 1440281234005, u'mLat1': 0, u'mDistance': 0, u'mLat2': 0, u'platform': u'android', u'mAccuracy': 46.5, u'mLon1': 0, u'mLon2': 0, u'type': u'message', u'mLatitude': 37.3881316, u'mAltitude': 0.0, u'mExtras': nan, u'mSpeed': 0.0, u'key': u'background/location', u'mInitialBearing': 0, u'mHasSpeed': False, u'read_ts': 0, u'mElapsedRealtimeNanos': 176764229000000, u'mResults': [0, 0], u'mBearing': 0, u'mLongitude': -122.0884228, u'mIsFromMockProvider': False, u'filter': u'time', u'mTime': 1440281233685, u'mHasBearing': False}&amp;quot;);\n",
        "      div_marker_2_1._popup.options.maxWidth = 300;\n",
        "      map.addLayer(div_marker_2_1)\n",
        "      \n",
        "      var div_marker_3_0_icon = L.divIcon({className: 'leaflet-div-icon', 'iconSize': [5,5]});\n",
        "      var div_marker_3_0 = L.marker([37.3881644, \n",
        "\t\t\t\t\t\t\t-122.0883351],\n",
        "\t\t\t\t\t\t\t{'icon':div_marker_3_0_icon}\n",
        "\t\t\t\t\t\t\t);\n",
        "      div_marker_3_0.bindPopup(&amp;quot;{u'mProvider': u'fused', 'formatted_time': Timestamp('2015-08-22 15:07:43'), u'mHasAccuracy': True, u'mHasAltitude': False, u'write_ts': 1440281264096, u'mLat1': 0, u'mDistance': 0, u'mLat2': 0, u'platform': u'android', u'mAccuracy': 52.5, u'mLon1': 0, u'mLon2': 0, u'type': u'message', u'mLatitude': 37.3881644, u'mAltitude': 0.0, u'mExtras': nan, u'mSpeed': 0.0, u'key': u'background/location', u'mInitialBearing': 0, u'mHasSpeed': False, u'read_ts': 0, u'mElapsedRealtimeNanos': 176794311000000, u'mResults': [0, 0], u'mBearing': 0, u'mLongitude': -122.0883351, u'mIsFromMockProvider': False, u'filter': u'time', u'mTime': 1440281263768, u'mHasBearing': False}&amp;quot;);\n",
        "      div_marker_3_0._popup.options.maxWidth = 300;\n",
        "      map.addLayer(div_marker_3_0)\n",
        "      \n",
        "      var div_marker_3_1_icon = L.divIcon({className: 'leaflet-div-icon', 'iconSize': [5,5]});\n",
        "      var div_marker_3_1 = L.marker([37.3891992, \n",
        "\t\t\t\t\t\t\t-122.087517],\n",
        "\t\t\t\t\t\t\t{'icon':div_marker_3_1_icon}\n",
        "\t\t\t\t\t\t\t);\n",
        "      div_marker_3_1.bindPopup(&amp;quot;{u'mProvider': u'fused', 'formatted_time': Timestamp('2015-08-22 15:16:24'), u'mHasAccuracy': True, u'mHasAltitude': False, u'write_ts': 1440281784843, u'mLat1': 0, u'mDistance': 0, u'mLat2': 0, u'platform': u'android', u'mAccuracy': 39.0, u'mLon1': 0, u'mLon2': 0, u'type': u'message', u'mLatitude': 37.3891992, u'mAltitude': 0.0, u'mExtras': nan, u'mSpeed': 0.0, u'key': u'background/location', u'mInitialBearing': 0, u'mHasSpeed': False, u'read_ts': 0, u'mElapsedRealtimeNanos': 177314898000000, u'mResults': [0, 0], u'mBearing': 0, u'mLongitude': -122.087517, u'mIsFromMockProvider': False, u'filter': u'time', u'mTime': 1440281784354, u'mHasBearing': False}&amp;quot;);\n",
        "      div_marker_3_1._popup.options.maxWidth = 300;\n",
        "      map.addLayer(div_marker_3_1)\n",
        "      \n",
        "      var div_marker_3_2_icon = L.divIcon({className: 'leaflet-div-icon', 'iconSize': [5,5]});\n",
        "      var div_marker_3_2 = L.marker([37.3891992, \n",
        "\t\t\t\t\t\t\t-122.087517],\n",
        "\t\t\t\t\t\t\t{'icon':div_marker_3_2_icon}\n",
        "\t\t\t\t\t\t\t);\n",
        "      div_marker_3_2.bindPopup(&amp;quot;{u'mProvider': u'fused', 'formatted_time': Timestamp('2015-08-22 15:16:24'), u'mHasAccuracy': True, u'mHasAltitude': False, u'write_ts': 1440281786028, u'mLat1': 0, u'mDistance': 0, u'mLat2': 0, u'platform': u'android', u'mAccuracy': 39.0, u'mLon1': 0, u'mLon2': 0, u'type': u'message', u'mLatitude': 37.3891992, u'mAltitude': 0.0, u'mExtras': {u'mAllowFds': True, u'mFdsKnown': True, u'mHasFds': False, u'mParcelledData': {u'mNativePtr': 1097647448, u'mOwnsNativeParcelObject': True}}, u'mSpeed': 0.0, u'key': u'background/location', u'mInitialBearing': 0, u'mHasSpeed': False, u'read_ts': 0, u'mElapsedRealtimeNanos': 177314898000000, u'mResults': [0, 0], u'mBearing': 0, u'mLongitude': -122.087517, u'mIsFromMockProvider': False, u'filter': u'time', u'mTime': 1440281784354, u'mHasBearing': False}&amp;quot;);\n",
        "      div_marker_3_2._popup.options.maxWidth = 300;\n",
        "      map.addLayer(div_marker_3_2)\n",
        "      \n",
        "      var div_marker_3_3_icon = L.divIcon({className: 'leaflet-div-icon', 'iconSize': [5,5]});\n",
        "      var div_marker_3_3 = L.marker([37.3888003, \n",
        "\t\t\t\t\t\t\t-122.0876835],\n",
        "\t\t\t\t\t\t\t{'icon':div_marker_3_3_icon}\n",
        "\t\t\t\t\t\t\t);\n",
        "      div_marker_3_3.bindPopup(&amp;quot;{u'mProvider': u'fused', 'formatted_time': Timestamp('2015-08-22 15:16:55'), u'mHasAccuracy': True, u'mHasAltitude': False, u'write_ts': 1440281818495, u'mLat1': 0, u'mDistance': 0, u'mLat2': 0, u'platform': u'android', u'mAccuracy': 49.5, u'mLon1': 0, u'mLon2': 0, u'type': u'message', u'mLatitude': 37.3888003, u'mAltitude': 0.0, u'mExtras': nan, u'mSpeed': 0.0, u'key': u'background/location', u'mInitialBearing': 0, u'mHasSpeed': False, u'read_ts': 0, u'mElapsedRealtimeNanos': 177346117000000, u'mResults': [0, 0], u'mBearing': 0, u'mLongitude': -122.0876835, u'mIsFromMockProvider': False, u'filter': u'time', u'mTime': 1440281815574, u'mHasBearing': False}&amp;quot;);\n",
        "      div_marker_3_3._popup.options.maxWidth = 300;\n",
        "      map.addLayer(div_marker_3_3)\n",
        "      \n",
        "      var div_marker_3_4_icon = L.divIcon({className: 'leaflet-div-icon', 'iconSize': [5,5]});\n",
        "      var div_marker_3_4 = L.marker([37.3888521, \n",
        "\t\t\t\t\t\t\t-122.0876702],\n",
        "\t\t\t\t\t\t\t{'icon':div_marker_3_4_icon}\n",
        "\t\t\t\t\t\t\t);\n",
        "      div_marker_3_4.bindPopup(&amp;quot;{u'mProvider': u'fused', 'formatted_time': Timestamp('2015-08-22 15:17:25'), u'mHasAccuracy': True, u'mHasAltitude': False, u'write_ts': 1440281845864, u'mLat1': 0, u'mDistance': 0, u'mLat2': 0, u'platform': u'android', u'mAccuracy': 48.0, u'mLon1': 0, u'mLon2': 0, u'type': u'message', u'mLatitude': 37.3888521, u'mAltitude': 0.0, u'mExtras': nan, u'mSpeed': 0.0, u'key': u'background/location', u'mInitialBearing': 0, u'mHasSpeed': False, u'read_ts': 0, u'mElapsedRealtimeNanos': 177376056000000, u'mResults': [0, 0], u'mBearing': 0, u'mLongitude': -122.0876702, u'mIsFromMockProvider': False, u'filter': u'time', u'mTime': 1440281845512, u'mHasBearing': False}&amp;quot;);\n",
        "      div_marker_3_4._popup.options.maxWidth = 300;\n",
        "      map.addLayer(div_marker_3_4)\n",
        "      \n",
        "      var div_marker_3_5_icon = L.divIcon({className: 'leaflet-div-icon', 'iconSize': [5,5]});\n",
        "      var div_marker_3_5 = L.marker([37.3898419, \n",
        "\t\t\t\t\t\t\t-122.0848148],\n",
        "\t\t\t\t\t\t\t{'icon':div_marker_3_5_icon}\n",
        "\t\t\t\t\t\t\t);\n",
        "      div_marker_3_5.bindPopup(&amp;quot;{u'mProvider': u'fused', 'formatted_time': Timestamp('2015-08-22 15:17:55'), u'mHasAccuracy': True, u'mHasAltitude': False, u'write_ts': 1440281877357, u'mLat1': 0, u'mDistance': 0, u'mLat2': 0, u'platform': u'android', u'mAccuracy': 40.5, u'mLon1': 0, u'mLon2': 0, u'type': u'message', u'mLatitude': 37.3898419, u'mAltitude': 0.0, u'mExtras': nan, u'mSpeed': 0.0, u'key': u'background/location', u'mInitialBearing': 0, u'mHasSpeed': False, u'read_ts': 0, u'mElapsedRealtimeNanos': 177406283000000, u'mResults': [0, 0], u'mBearing': 0, u'mLongitude': -122.0848148, u'mIsFromMockProvider': False, u'filter': u'time', u'mTime': 1440281875739, u'mHasBearing': False}&amp;quot;);\n",
        "      div_marker_3_5._popup.options.maxWidth = 300;\n",
        "      map.addLayer(div_marker_3_5)\n",
        "      \n",
        "      var div_marker_3_6_icon = L.divIcon({className: 'leaflet-div-icon', 'iconSize': [5,5]});\n",
        "      var div_marker_3_6 = L.marker([37.3902484, \n",
        "\t\t\t\t\t\t\t-122.0844644],\n",
        "\t\t\t\t\t\t\t{'icon':div_marker_3_6_icon}\n",
        "\t\t\t\t\t\t\t);\n",
        "      div_marker_3_6.bindPopup(&amp;quot;{u'mProvider': u'fused', 'formatted_time': Timestamp('2015-08-22 15:18:28'), u'mHasAccuracy': True, u'mHasAltitude': False, u'write_ts': 1440281909166, u'mLat1': 0, u'mDistance': 0, u'mLat2': 0, u'platform': u'android', u'mAccuracy': 30.0, u'mLon1': 0, u'mLon2': 0, u'type': u'message', u'mLatitude': 37.3902484, u'mAltitude': 0.0, u'mExtras': nan, u'mSpeed': 0.0, u'key': u'background/location', u'mInitialBearing': 0, u'mHasSpeed': False, u'read_ts': 0, u'mElapsedRealtimeNanos': 177438869000000, u'mResults': [0, 0], u'mBearing': 0, u'mLongitude': -122.0844644, u'mIsFromMockProvider': False, u'filter': u'time', u'mTime': 1440281908326, u'mHasBearing': False}&amp;quot;);\n",
        "      div_marker_3_6._popup.options.maxWidth = 300;\n",
        "      map.addLayer(div_marker_3_6)\n",
        "      \n",
        "      var div_marker_3_7_icon = L.divIcon({className: 'leaflet-div-icon', 'iconSize': [5,5]});\n",
        "      var div_marker_3_7 = L.marker([37.3902884, \n",
        "\t\t\t\t\t\t\t-122.0844547],\n",
        "\t\t\t\t\t\t\t{'icon':div_marker_3_7_icon}\n",
        "\t\t\t\t\t\t\t);\n",
        "      div_marker_3_7.bindPopup(&amp;quot;{u'mProvider': u'fused', 'formatted_time': Timestamp('2015-08-22 15:18:45'), u'mHasAccuracy': True, u'mHasAltitude': False, u'write_ts': 1440281935063, u'mLat1': 0, u'mDistance': 0, u'mLat2': 0, u'platform': u'android', u'mAccuracy': 30.0, u'mLon1': 0, u'mLon2': 0, u'type': u'message', u'mLatitude': 37.3902884, u'mAltitude': 0.0, u'mExtras': nan, u'mSpeed': 0.0, u'key': u'background/location', u'mInitialBearing': 0, u'mHasSpeed': False, u'read_ts': 0, u'mElapsedRealtimeNanos': 177455951000000, u'mResults': [0, 0], u'mBearing': 0, u'mLongitude': -122.0844547, u'mIsFromMockProvider': False, u'filter': u'time', u'mTime': 1440281925407, u'mHasBearing': False}&amp;quot;);\n",
        "      div_marker_3_7._popup.options.maxWidth = 300;\n",
        "      map.addLayer(div_marker_3_7)\n",
        "      \n",
        "      var div_marker_3_8_icon = L.divIcon({className: 'leaflet-div-icon', 'iconSize': [5,5]});\n",
        "      var div_marker_3_8 = L.marker([37.3905122, \n",
        "\t\t\t\t\t\t\t-122.0824744],\n",
        "\t\t\t\t\t\t\t{'icon':div_marker_3_8_icon}\n",
        "\t\t\t\t\t\t\t);\n",
        "      div_marker_3_8.bindPopup(&amp;quot;{u'mProvider': u'fused', 'formatted_time': Timestamp('2015-08-22 15:19:27'), u'mHasAccuracy': True, u'mHasAltitude': True, u'write_ts': 1440281967947, u'mLat1': 0, u'mDistance': 0, u'mLat2': 0, u'platform': u'android', u'mAccuracy': 10.0, u'mLon1': 0, u'mLon2': 0, u'type': u'message', u'mLatitude': 37.3905122, u'mAltitude': 22.9000244140625, u'mExtras': nan, u'mSpeed': 1.6263, u'key': u'background/location', u'mInitialBearing': 0, u'mHasSpeed': True, u'read_ts': 0, u'mElapsedRealtimeNanos': 177497932636968, u'mResults': [0, 0], u'mBearing': 41, u'mLongitude': -122.0824744, u'mIsFromMockProvider': False, u'filter': u'time', u'mTime': 1440281967450, u'mHasBearing': True}&amp;quot;);\n",
        "      div_marker_3_8._popup.options.maxWidth = 300;\n",
        "      map.addLayer(div_marker_3_8)\n",
        "      \n",
        "      var div_marker_3_9_icon = L.divIcon({className: 'leaflet-div-icon', 'iconSize': [5,5]});\n",
        "      var div_marker_3_9 = L.marker([37.3917297, \n",
        "\t\t\t\t\t\t\t-122.0827941],\n",
        "\t\t\t\t\t\t\t{'icon':div_marker_3_9_icon}\n",
        "\t\t\t\t\t\t\t);\n",
        "      div_marker_3_9.bindPopup(&amp;quot;{u'mProvider': u'fused', 'formatted_time': Timestamp('2015-08-22 15:19:53'), u'mHasAccuracy': True, u'mHasAltitude': False, u'write_ts': 1440281998235, u'mLat1': 0, u'mDistance': 0, u'mLat2': 0, u'platform': u'android', u'mAccuracy': 108.48, u'mLon1': 0, u'mLon2': 0, u'type': u'message', u'mLatitude': 37.3917297, u'mAltitude': 0.0, u'mExtras': nan, u'mSpeed': 0.0, u'key': u'background/location', u'mInitialBearing': 0, u'mHasSpeed': False, u'read_ts': 0, u'mElapsedRealtimeNanos': 177523704000000, u'mResults': [0, 0], u'mBearing': 0, u'mLongitude': -122.0827941, u'mIsFromMockProvider': False, u'filter': u'time', u'mTime': 1440281993160, u'mHasBearing': False}&amp;quot;);\n",
        "      div_marker_3_9._popup.options.maxWidth = 300;\n",
        "      map.addLayer(div_marker_3_9)\n",
        "      \n",
        "      var div_marker_3_10_icon = L.divIcon({className: 'leaflet-div-icon', 'iconSize': [5,5]});\n",
        "      var div_marker_3_10 = L.marker([37.3920826, \n",
        "\t\t\t\t\t\t\t-122.0819646],\n",
        "\t\t\t\t\t\t\t{'icon':div_marker_3_10_icon}\n",
        "\t\t\t\t\t\t\t);\n",
        "      div_marker_3_10.bindPopup(&amp;quot;{u'mProvider': u'fused', 'formatted_time': Timestamp('2015-08-22 15:20:25'), u'mHasAccuracy': True, u'mHasAltitude': False, u'write_ts': 1440282028403, u'mLat1': 0, u'mDistance': 0, u'mLat2': 0, u'platform': u'android', u'mAccuracy': 39.306, u'mLon1': 0, u'mLon2': 0, u'type': u'message', u'mLatitude': 37.3920826, u'mAltitude': 0.0, u'mExtras': nan, u'mSpeed': 0.0, u'key': u'background/location', u'mInitialBearing': 0, u'mHasSpeed': False, u'read_ts': 0, u'mElapsedRealtimeNanos': 177555565000000, u'mResults': [0, 0], u'mBearing': 0, u'mLongitude': -122.0819646, u'mIsFromMockProvider': False, u'filter': u'time', u'mTime': 1440282025022, u'mHasBearing': False}&amp;quot;);\n",
        "      div_marker_3_10._popup.options.maxWidth = 300;\n",
        "      map.addLayer(div_marker_3_10)\n",
        "      \n",
        "      var div_marker_4_0_icon = L.divIcon({className: 'leaflet-div-icon', 'iconSize': [5,5]});\n",
        "      var div_marker_4_0 = L.marker([37.3920306, \n",
        "\t\t\t\t\t\t\t-122.0821426],\n",
        "\t\t\t\t\t\t\t{'icon':div_marker_4_0_icon}\n",
        "\t\t\t\t\t\t\t);\n",
        "      div_marker_4_0.bindPopup(&amp;quot;{u'mProvider': u'fused', 'formatted_time': Timestamp('2015-08-22 15:20:56'), u'mHasAccuracy': True, u'mHasAltitude': False, u'write_ts': 1440282058279, u'mLat1': 0, u'mDistance': 0, u'mLat2': 0, u'platform': u'android', u'mAccuracy': 53.043, u'mLon1': 0, u'mLon2': 0, u'type': u'message', u'mLatitude': 37.3920306, u'mAltitude': 0.0, u'mExtras': nan, u'mSpeed': 0.0, u'key': u'background/location', u'mInitialBearing': 0, u'mHasSpeed': False, u'read_ts': 0, u'mElapsedRealtimeNanos': 177587354000000, u'mResults': [0, 0], u'mBearing': 0, u'mLongitude': -122.0821426, u'mIsFromMockProvider': False, u'filter': u'time', u'mTime': 1440282056810, u'mHasBearing': False}&amp;quot;);\n",
        "      div_marker_4_0._popup.options.maxWidth = 300;\n",
        "      map.addLayer(div_marker_4_0)\n",
        "      \n",
        "      var div_marker_4_1_icon = L.divIcon({className: 'leaflet-div-icon', 'iconSize': [5,5]});\n",
        "      var div_marker_4_1 = L.marker([37.3920035, \n",
        "\t\t\t\t\t\t\t-122.0822094],\n",
        "\t\t\t\t\t\t\t{'icon':div_marker_4_1_icon}\n",
        "\t\t\t\t\t\t\t);\n",
        "      div_marker_4_1.bindPopup(&amp;quot;{u'mProvider': u'fused', 'formatted_time': Timestamp('2015-08-22 15:21:12'), u'mHasAccuracy': True, u'mHasAltitude': False, u'write_ts': 1440282088417, u'mLat1': 0, u'mDistance': 0, u'mLat2': 0, u'platform': u'android', u'mAccuracy': 58.559, u'mLon1': 0, u'mLon2': 0, u'type': u'message', u'mLatitude': 37.3920035, u'mAltitude': 0.0, u'mExtras': nan, u'mSpeed': 0.0, u'key': u'background/location', u'mInitialBearing': 0, u'mHasSpeed': False, u'read_ts': 0, u'mElapsedRealtimeNanos': 177603265000000, u'mResults': [0, 0], u'mBearing': 0, u'mLongitude': -122.0822094, u'mIsFromMockProvider': False, u'filter': u'time', u'mTime': 1440282072721, u'mHasBearing': False}&amp;quot;);\n",
        "      div_marker_4_1._popup.options.maxWidth = 300;\n",
        "      map.addLayer(div_marker_4_1)\n",
        "      \n",
        "\n",
        "      \n",
        "\n",
        "      \n",
        "      var latLngs = [ [37.3879716, -122.0886379],  [37.3879706, -122.0887398],  [37.3879782, -122.0887328],  [37.387993, -122.0886211],  [37.3879864, -122.0887217], ];\n",
        "var line_1 = L.polyline(latLngs,{\n",
        "color: 'cyan',\n",
        "\n",
        "\n",
        "});\n",
        "      line_1.bindPopup(&amp;quot;Activities.STILL&amp;quot;);\n",
        "      line_1._popup.options.maxWidth = 300;\n",
        "      map.addLayer(line_1);\n",
        "      \n",
        "      var latLngs = [ [37.3879976, -122.0887136],  [37.3881316, -122.0884228], ];\n",
        "var line_2 = L.polyline(latLngs,{\n",
        "color: 'chocolate',\n",
        "\n",
        "\n",
        "});\n",
        "      line_2.bindPopup(&amp;quot;Activities.ON_FOOT&amp;quot;);\n",
        "      line_2._popup.options.maxWidth = 300;\n",
        "      map.addLayer(line_2);\n",
        "      \n",
        "      var latLngs = [ [37.3879864, -122.0887217],  [37.3879976, -122.0887136], ];\n",
        "var line_3 = L.polyline(latLngs,{\n",
        "color: 'yellow',\n",
        "\n",
        "\n",
        "});\n",
        "      line_3.bindPopup(&amp;quot;Activities.STILL -&gt; Activities.ON_FOOT&amp;quot;);\n",
        "      line_3._popup.options.maxWidth = 300;\n",
        "      map.addLayer(line_3);\n",
        "      \n",
        "      var latLngs = [ [37.3881644, -122.0883351],  [37.3891992, -122.087517],  [37.3891992, -122.087517],  [37.3888003, -122.0876835],  [37.3888521, -122.0876702],  [37.3898419, -122.0848148],  [37.3902484, -122.0844644],  [37.3902884, -122.0844547],  [37.3905122, -122.0824744],  [37.3917297, -122.0827941],  [37.3920826, -122.0819646], ];\n",
        "var line_4 = L.polyline(latLngs,{\n",
        "color: 'blue',\n",
        "\n",
        "\n",
        "});\n",
        "      line_4.bindPopup(&amp;quot;Activities.ON_BICYCLE&amp;quot;);\n",
        "      line_4._popup.options.maxWidth = 300;\n",
        "      map.addLayer(line_4);\n",
        "      \n",
        "      var latLngs = [ [37.3881316, -122.0884228],  [37.3881644, -122.0883351], ];\n",
        "var line_5 = L.polyline(latLngs,{\n",
        "color: 'yellow',\n",
        "\n",
        "\n",
        "});\n",
        "      line_5.bindPopup(&amp;quot;Activities.ON_FOOT -&gt; Activities.ON_BICYCLE&amp;quot;);\n",
        "      line_5._popup.options.maxWidth = 300;\n",
        "      map.addLayer(line_5);\n",
        "      \n",
        "      var latLngs = [ [37.3920306, -122.0821426],  [37.3920035, -122.0822094], ];\n",
        "var line_6 = L.polyline(latLngs,{\n",
        "color: 'chocolate',\n",
        "\n",
        "\n",
        "});\n",
        "      line_6.bindPopup(&amp;quot;Activities.ON_FOOT&amp;quot;);\n",
        "      line_6._popup.options.maxWidth = 300;\n",
        "      map.addLayer(line_6);\n",
        "      \n",
        "      var latLngs = [ [37.3920826, -122.0819646],  [37.3920306, -122.0821426], ];\n",
        "var line_7 = L.polyline(latLngs,{\n",
        "color: 'yellow',\n",
        "\n",
        "\n",
        "});\n",
        "      line_7.bindPopup(&amp;quot;Activities.ON_BICYCLE -&gt; Activities.ON_FOOT&amp;quot;);\n",
        "      line_7._popup.options.maxWidth = 300;\n",
        "      map.addLayer(line_7);\n",
        "      \n",
        "\n",
        "      \n",
        "\n",
        "      \n",
        "\n",
        "      \n",
        "\n",
        "\n",
        "\n",
        "   &lt;/script&gt;\n",
        "\n",
        "&lt;/body&gt;&quot; style=&quot;width: 100%; height: 510px; border: none&quot;&gt;&lt;/iframe&gt;</td></tr>\n",
        "<tr><td>&lt;iframe srcdoc=&quot;&lt;!DOCTYPE html&gt;\n",
        "&lt;head&gt;\n",
        "   &lt;meta http-equiv=&amp;quot;content-type&amp;quot; content=&amp;quot;text/html; charset=UTF-8&amp;quot; /&gt;\n",
        "   &lt;link rel=&amp;quot;stylesheet&amp;quot; href=&amp;quot;https://cdnjs.cloudflare.com/ajax/libs/leaflet/0.7.3/leaflet.css&amp;quot; /&gt;\n",
        "   &lt;script src=&amp;quot;https://cdnjs.cloudflare.com/ajax/libs/leaflet/0.7.3/leaflet.js&amp;quot;&gt;&lt;/script&gt;\n",
        "\n",
        "   &lt;script src=&amp;quot;https://ajax.googleapis.com/ajax/libs/jquery/1.11.1/jquery.min.js&amp;quot;&gt;&lt;/script&gt;\n",
        "\n",
        "   &lt;link rel=&amp;quot;stylesheet&amp;quot; href=&amp;quot;https://maxcdn.bootstrapcdn.com/bootstrap/3.2.0/css/bootstrap.min.css&amp;quot;&gt;\n",
        "   &lt;link rel=&amp;quot;stylesheet&amp;quot; href=&amp;quot;https://maxcdn.bootstrapcdn.com/bootstrap/3.2.0/css/bootstrap-theme.min.css&amp;quot;&gt;\n",
        "   &lt;script src=&amp;quot;https://maxcdn.bootstrapcdn.com/bootstrap/3.2.0/js/bootstrap.min.js&amp;quot;&gt;&lt;/script&gt;\n",
        "\n",
        "   &lt;link href=&amp;quot;https://maxcdn.bootstrapcdn.com/font-awesome/4.1.0/css/font-awesome.min.css&amp;quot; rel=&amp;quot;stylesheet&amp;quot;&gt;\n",
        "\n",
        "   &lt;link rel=&amp;quot;stylesheet&amp;quot; href=&amp;quot;https://rawgit.com/lvoogdt/Leaflet.awesome-markers/2.0/develop/dist/leaflet.awesome-markers.css&amp;quot;&gt;\n",
        "   &lt;script src=&amp;quot;https://rawgithub.com/lvoogdt/Leaflet.awesome-markers/2.0/develop/dist/leaflet.awesome-markers.js&amp;quot;&gt;&lt;/script&gt;\n",
        "\n",
        "\n",
        "   &lt;link rel=&amp;quot;stylesheet&amp;quot; href=&amp;quot;https://cdnjs.cloudflare.com/ajax/libs/leaflet.markercluster/0.4.0/MarkerCluster.Default.css&amp;quot;&gt;\n",
        "   &lt;link rel=&amp;quot;stylesheet&amp;quot; href=&amp;quot;https://cdnjs.cloudflare.com/ajax/libs/leaflet.markercluster/0.4.0/MarkerCluster.css&amp;quot;&gt;\n",
        "   &lt;script src=&amp;quot;https://cdnjs.cloudflare.com/ajax/libs/leaflet.markercluster/0.4.0/leaflet.markercluster-src.js&amp;quot;&gt;&lt;/script&gt;\n",
        "   &lt;script src=&amp;quot;https://cdnjs.cloudflare.com/ajax/libs/leaflet.markercluster/0.4.0/leaflet.markercluster.js&amp;quot;&gt;&lt;/script&gt;\n",
        "\n",
        "   &lt;link rel=&amp;quot;stylesheet&amp;quot; href=&amp;quot;https://birdage.github.io/Leaflet.awesome-markers/dist/leaflet.awesome.rotate.css&amp;quot;&gt;\n",
        "\n",
        "   \n",
        "   \n",
        "   \n",
        "   \n",
        "\n",
        "   &lt;style&gt;\n",
        "\n",
        "      html, body {\n",
        "        width: 100%;\n",
        "        height: 100%;\n",
        "        margin: 0;\n",
        "        padding: 0;\n",
        "      }\n",
        "\n",
        "      #map {\n",
        "        position:absolute;\n",
        "        top:0;\n",
        "        bottom:0;\n",
        "        right:0;\n",
        "        left:0;\n",
        "      }\n",
        "\n",
        "   &lt;/style&gt;\n",
        "&lt;/head&gt;\n",
        "\n",
        "&lt;body&gt;\n",
        "\n",
        "   &lt;div class=&amp;quot;folium-map&amp;quot; id=&amp;quot;folium_5286b2420c0248b4a1559a32d3e0ad14&amp;quot; style=&amp;quot;width: 100%; height: 100%&amp;quot;&gt;&lt;/div&gt;\n",
        "\n",
        "   &lt;script&gt;\n",
        "\n",
        "      \n",
        "\n",
        "      var base_tile = L.tileLayer('https://{s}.tile.openstreetmap.org/{z}/{x}/{y}.png', {\n",
        "          maxZoom: 18,\n",
        "          minZoom: 1,\n",
        "          attribution: 'Map data (c) &lt;a href=&amp;quot;http://openstreetmap.org&amp;quot;&gt;OpenStreetMap&lt;/a&gt; contributors'\n",
        "      });\n",
        "\n",
        "      var baseLayer = {\n",
        "        &amp;quot;Base Layer&amp;quot;: base_tile\n",
        "      };\n",
        "\n",
        "      /*\n",
        "      addition of the wms layers\n",
        "      */\n",
        "\n",
        "      \n",
        "\n",
        "      /*\n",
        "      addition of the tile layers\n",
        "      */\n",
        "      \n",
        "\n",
        "      /*\n",
        "      list of layers to be added\n",
        "      */\n",
        "      var layer_list = {\n",
        "      \n",
        "      };\n",
        "\n",
        "      /*\n",
        "      Bounding box.\n",
        "      */\n",
        "      var southWest = L.latLng(-90, -180),\n",
        "          northEast = L.latLng(90, 180),\n",
        "          bounds = L.latLngBounds(southWest, northEast);\n",
        "\n",
        "      /*\n",
        "      Creates the map and adds the selected layers\n",
        "      */\n",
        "      var map = L.map('folium_5286b2420c0248b4a1559a32d3e0ad14', {\n",
        "                                       center:[37.39207122, -122.08015655],\n",
        "                                       zoom: 10,\n",
        "                                       maxBounds: bounds,\n",
        "                                       layers: [base_tile]\n",
        "                                     });\n",
        "\n",
        "      L.control.layers(baseLayer, layer_list).addTo(map);\n",
        "\n",
        "      //cluster group\n",
        "      var clusteredmarkers = L.markerClusterGroup();\n",
        "      //section for adding clustered markers\n",
        "      \n",
        "      //add the clustered markers to the group anyway\n",
        "      map.addLayer(clusteredmarkers);\n",
        "\n",
        "      \n",
        "\n",
        "      \n",
        "      var div_marker_1_0_icon = L.divIcon({className: 'leaflet-div-icon', 'iconSize': [5,5]});\n",
        "      var div_marker_1_0 = L.marker([37.3922991, \n",
        "\t\t\t\t\t\t\t-122.080619],\n",
        "\t\t\t\t\t\t\t{'icon':div_marker_1_0_icon}\n",
        "\t\t\t\t\t\t\t);\n",
        "      div_marker_1_0.bindPopup(&amp;quot;{u'mProvider': u'fused', 'formatted_time': Timestamp('2015-08-22 15:22:16'), u'mHasAccuracy': True, u'mHasAltitude': False, u'write_ts': 1440282151818, u'mLat1': 0, u'mDistance': 0, u'mLat2': 0, u'platform': u'android', u'mAccuracy': 46.596, u'mLon1': 0, u'mLon2': 0, u'type': u'message', u'mLatitude': 37.3922991, u'mAltitude': 0, u'mSpeed': 0, u'key': u'background/location', u'mInitialBearing': 0, u'mHasSpeed': False, u'read_ts': 0, u'mElapsedRealtimeNanos': 177666916000000, u'mResults': [0, 0], u'mBearing': 0, u'mLongitude': -122.080619, u'mIsFromMockProvider': False, u'filter': u'time', u'mTime': 1440282136372, u'mHasBearing': False}&amp;quot;);\n",
        "      div_marker_1_0._popup.options.maxWidth = 300;\n",
        "      map.addLayer(div_marker_1_0)\n",
        "      \n",
        "      var div_marker_1_1_icon = L.divIcon({className: 'leaflet-div-icon', 'iconSize': [5,5]});\n",
        "      var div_marker_1_1 = L.marker([37.3918652, \n",
        "\t\t\t\t\t\t\t-122.0801223],\n",
        "\t\t\t\t\t\t\t{'icon':div_marker_1_1_icon}\n",
        "\t\t\t\t\t\t\t);\n",
        "      div_marker_1_1.bindPopup(&amp;quot;{u'mProvider': u'fused', 'formatted_time': Timestamp('2015-08-22 15:22:48'), u'mHasAccuracy': True, u'mHasAltitude': False, u'write_ts': 1440282180322, u'mLat1': 0, u'mDistance': 0, u'mLat2': 0, u'platform': u'android', u'mAccuracy': 40.5, u'mLon1': 0, u'mLon2': 0, u'type': u'message', u'mLatitude': 37.3918652, u'mAltitude': 0, u'mSpeed': 0, u'key': u'background/location', u'mInitialBearing': 0, u'mHasSpeed': False, u'read_ts': 0, u'mElapsedRealtimeNanos': 177698715000000, u'mResults': [0, 0], u'mBearing': 0, u'mLongitude': -122.0801223, u'mIsFromMockProvider': False, u'filter': u'time', u'mTime': 1440282168171, u'mHasBearing': False}&amp;quot;);\n",
        "      div_marker_1_1._popup.options.maxWidth = 300;\n",
        "      map.addLayer(div_marker_1_1)\n",
        "      \n",
        "      var div_marker_1_2_icon = L.divIcon({className: 'leaflet-div-icon', 'iconSize': [5,5]});\n",
        "      var div_marker_1_2 = L.marker([37.3919957, \n",
        "\t\t\t\t\t\t\t-122.0800917],\n",
        "\t\t\t\t\t\t\t{'icon':div_marker_1_2_icon}\n",
        "\t\t\t\t\t\t\t);\n",
        "      div_marker_1_2.bindPopup(&amp;quot;{u'mProvider': u'fused', 'formatted_time': Timestamp('2015-08-22 15:23:19'), u'mHasAccuracy': True, u'mHasAltitude': False, u'write_ts': 1440282208589, u'mLat1': 0, u'mDistance': 0, u'mLat2': 0, u'platform': u'android', u'mAccuracy': 36.0, u'mLon1': 0, u'mLon2': 0, u'type': u'message', u'mLatitude': 37.3919957, u'mAltitude': 0, u'mSpeed': 0, u'key': u'background/location', u'mInitialBearing': 0, u'mHasSpeed': False, u'read_ts': 0, u'mElapsedRealtimeNanos': 177730516000000, u'mResults': [0, 0], u'mBearing': 0, u'mLongitude': -122.0800917, u'mIsFromMockProvider': False, u'filter': u'time', u'mTime': 1440282199972, u'mHasBearing': False}&amp;quot;);\n",
        "      div_marker_1_2._popup.options.maxWidth = 300;\n",
        "      map.addLayer(div_marker_1_2)\n",
        "      \n",
        "      var div_marker_1_3_icon = L.divIcon({className: 'leaflet-div-icon', 'iconSize': [5,5]});\n",
        "      var div_marker_1_3 = L.marker([37.3920022, \n",
        "\t\t\t\t\t\t\t-122.0800628],\n",
        "\t\t\t\t\t\t\t{'icon':div_marker_1_3_icon}\n",
        "\t\t\t\t\t\t\t);\n",
        "      div_marker_1_3.bindPopup(&amp;quot;{u'mProvider': u'fused', 'formatted_time': Timestamp('2015-08-22 15:23:51'), u'mHasAccuracy': True, u'mHasAltitude': False, u'write_ts': 1440282238387, u'mLat1': 0, u'mDistance': 0, u'mLat2': 0, u'platform': u'android', u'mAccuracy': 36.0, u'mLon1': 0, u'mLon2': 0, u'type': u'message', u'mLatitude': 37.3920022, u'mAltitude': 0, u'mSpeed': 0, u'key': u'background/location', u'mInitialBearing': 0, u'mHasSpeed': False, u'read_ts': 0, u'mElapsedRealtimeNanos': 177762323000000, u'mResults': [0, 0], u'mBearing': 0, u'mLongitude': -122.0800628, u'mIsFromMockProvider': False, u'filter': u'time', u'mTime': 1440282231779, u'mHasBearing': False}&amp;quot;);\n",
        "      div_marker_1_3._popup.options.maxWidth = 300;\n",
        "      map.addLayer(div_marker_1_3)\n",
        "      \n",
        "      var div_marker_2_0_icon = L.divIcon({className: 'leaflet-div-icon', 'iconSize': [5,5]});\n",
        "      var div_marker_2_0 = L.marker([37.3922123, \n",
        "\t\t\t\t\t\t\t-122.0801472],\n",
        "\t\t\t\t\t\t\t{'icon':div_marker_2_0_icon}\n",
        "\t\t\t\t\t\t\t);\n",
        "      div_marker_2_0.bindPopup(&amp;quot;{u'mProvider': u'fused', 'formatted_time': Timestamp('2015-08-22 15:24:23'), u'mHasAccuracy': True, u'mHasAltitude': False, u'write_ts': 1440282268892, u'mLat1': 0, u'mDistance': 0, u'mLat2': 0, u'platform': u'android', u'mAccuracy': 90.0, u'mLon1': 0, u'mLon2': 0, u'type': u'message', u'mLatitude': 37.3922123, u'mAltitude': 0, u'mSpeed': 0, u'key': u'background/location', u'mInitialBearing': 0, u'mHasSpeed': False, u'read_ts': 0, u'mElapsedRealtimeNanos': 177794158000000, u'mResults': [0, 0], u'mBearing': 0, u'mLongitude': -122.0801472, u'mIsFromMockProvider': False, u'filter': u'time', u'mTime': 1440282263615, u'mHasBearing': False}&amp;quot;);\n",
        "      div_marker_2_0._popup.options.maxWidth = 300;\n",
        "      map.addLayer(div_marker_2_0)\n",
        "      \n",
        "      var div_marker_2_1_icon = L.divIcon({className: 'leaflet-div-icon', 'iconSize': [5,5]});\n",
        "      var div_marker_2_1 = L.marker([37.3920786, \n",
        "\t\t\t\t\t\t\t-122.0801557],\n",
        "\t\t\t\t\t\t\t{'icon':div_marker_2_1_icon}\n",
        "\t\t\t\t\t\t\t);\n",
        "      div_marker_2_1.bindPopup(&amp;quot;{u'mProvider': u'fused', 'formatted_time': Timestamp('2015-08-22 15:24:52'), u'mHasAccuracy': True, u'mHasAltitude': False, u'write_ts': 1440282301571, u'mLat1': 0, u'mDistance': 0, u'mLat2': 0, u'platform': u'android', u'mAccuracy': 30.0, u'mLon1': 0, u'mLon2': 0, u'type': u'message', u'mLatitude': 37.3920786, u'mAltitude': 0, u'mSpeed': 0, u'key': u'background/location', u'mInitialBearing': 0, u'mHasSpeed': False, u'read_ts': 0, u'mElapsedRealtimeNanos': 177823492000000, u'mResults': [0, 0], u'mBearing': 0, u'mLongitude': -122.0801557, u'mIsFromMockProvider': False, u'filter': u'time', u'mTime': 1440282292948, u'mHasBearing': False}&amp;quot;);\n",
        "      div_marker_2_1._popup.options.maxWidth = 300;\n",
        "      map.addLayer(div_marker_2_1)\n",
        "      \n",
        "      var div_marker_2_2_icon = L.divIcon({className: 'leaflet-div-icon', 'iconSize': [5,5]});\n",
        "      var div_marker_2_2 = L.marker([37.3920955, \n",
        "\t\t\t\t\t\t\t-122.0801213],\n",
        "\t\t\t\t\t\t\t{'icon':div_marker_2_2_icon}\n",
        "\t\t\t\t\t\t\t);\n",
        "      div_marker_2_2.bindPopup(&amp;quot;{u'mProvider': u'fused', 'formatted_time': Timestamp('2015-08-22 15:25:24'), u'mHasAccuracy': True, u'mHasAltitude': False, u'write_ts': 1440282328757, u'mLat1': 0, u'mDistance': 0, u'mLat2': 0, u'platform': u'android', u'mAccuracy': 30.0, u'mLon1': 0, u'mLon2': 0, u'type': u'message', u'mLatitude': 37.3920955, u'mAltitude': 0, u'mSpeed': 0, u'key': u'background/location', u'mInitialBearing': 0, u'mHasSpeed': False, u'read_ts': 0, u'mElapsedRealtimeNanos': 177855296000000, u'mResults': [0, 0], u'mBearing': 0, u'mLongitude': -122.0801213, u'mIsFromMockProvider': False, u'filter': u'time', u'mTime': 1440282324753, u'mHasBearing': False}&amp;quot;);\n",
        "      div_marker_2_2._popup.options.maxWidth = 300;\n",
        "      map.addLayer(div_marker_2_2)\n",
        "      \n",
        "      var div_marker_2_3_icon = L.divIcon({className: 'leaflet-div-icon', 'iconSize': [5,5]});\n",
        "      var div_marker_2_3 = L.marker([37.3920398, \n",
        "\t\t\t\t\t\t\t-122.0800657],\n",
        "\t\t\t\t\t\t\t{'icon':div_marker_2_3_icon}\n",
        "\t\t\t\t\t\t\t);\n",
        "      div_marker_2_3.bindPopup(&amp;quot;{u'mProvider': u'fused', 'formatted_time': Timestamp('2015-08-22 15:25:56'), u'mHasAccuracy': True, u'mHasAltitude': False, u'write_ts': 1440282358563, u'mLat1': 0, u'mDistance': 0, u'mLat2': 0, u'platform': u'android', u'mAccuracy': 30.0, u'mLon1': 0, u'mLon2': 0, u'type': u'message', u'mLatitude': 37.3920398, u'mAltitude': 0, u'mSpeed': 0, u'key': u'background/location', u'mInitialBearing': 0, u'mHasSpeed': False, u'read_ts': 0, u'mElapsedRealtimeNanos': 177887105000000, u'mResults': [0, 0], u'mBearing': 0, u'mLongitude': -122.0800657, u'mIsFromMockProvider': False, u'filter': u'time', u'mTime': 1440282356561, u'mHasBearing': False}&amp;quot;);\n",
        "      div_marker_2_3._popup.options.maxWidth = 300;\n",
        "      map.addLayer(div_marker_2_3)\n",
        "      \n",
        "      var div_marker_2_4_icon = L.divIcon({className: 'leaflet-div-icon', 'iconSize': [5,5]});\n",
        "      var div_marker_2_4 = L.marker([37.3920369, \n",
        "\t\t\t\t\t\t\t-122.0800896],\n",
        "\t\t\t\t\t\t\t{'icon':div_marker_2_4_icon}\n",
        "\t\t\t\t\t\t\t);\n",
        "      div_marker_2_4.bindPopup(&amp;quot;{u'mProvider': u'fused', 'formatted_time': Timestamp('2015-08-22 15:26:12'), u'mHasAccuracy': True, u'mHasAltitude': False, u'write_ts': 1440282388895, u'mLat1': 0, u'mDistance': 0, u'mLat2': 0, u'platform': u'android', u'mAccuracy': 30.0, u'mLon1': 0, u'mLon2': 0, u'type': u'message', u'mLatitude': 37.3920369, u'mAltitude': 0, u'mSpeed': 0, u'key': u'background/location', u'mInitialBearing': 0, u'mHasSpeed': False, u'read_ts': 0, u'mElapsedRealtimeNanos': 177903007000000, u'mResults': [0, 0], u'mBearing': 0, u'mLongitude': -122.0800896, u'mIsFromMockProvider': False, u'filter': u'time', u'mTime': 1440282372464, u'mHasBearing': False}&amp;quot;);\n",
        "      div_marker_2_4._popup.options.maxWidth = 300;\n",
        "      map.addLayer(div_marker_2_4)\n",
        "      \n",
        "      var div_marker_2_5_icon = L.divIcon({className: 'leaflet-div-icon', 'iconSize': [5,5]});\n",
        "      var div_marker_2_5 = L.marker([37.3920869, \n",
        "\t\t\t\t\t\t\t-122.0800902],\n",
        "\t\t\t\t\t\t\t{'icon':div_marker_2_5_icon}\n",
        "\t\t\t\t\t\t\t);\n",
        "      div_marker_2_5.bindPopup(&amp;quot;{u'mProvider': u'fused', 'formatted_time': Timestamp('2015-08-22 15:26:44'), u'mHasAccuracy': True, u'mHasAltitude': False, u'write_ts': 1440282418570, u'mLat1': 0, u'mDistance': 0, u'mLat2': 0, u'platform': u'android', u'mAccuracy': 30.0, u'mLon1': 0, u'mLon2': 0, u'type': u'message', u'mLatitude': 37.3920869, u'mAltitude': 0, u'mSpeed': 0, u'key': u'background/location', u'mInitialBearing': 0, u'mHasSpeed': False, u'read_ts': 0, u'mElapsedRealtimeNanos': 177934806000000, u'mResults': [0, 0], u'mBearing': 0, u'mLongitude': -122.0800902, u'mIsFromMockProvider': False, u'filter': u'time', u'mTime': 1440282404262, u'mHasBearing': False}&amp;quot;);\n",
        "      div_marker_2_5._popup.options.maxWidth = 300;\n",
        "      map.addLayer(div_marker_2_5)\n",
        "      \n",
        "\n",
        "      \n",
        "\n",
        "      \n",
        "      var latLngs = [ [37.3922991, -122.080619],  [37.3918652, -122.0801223],  [37.3919957, -122.0800917],  [37.3920022, -122.0800628], ];\n",
        "var line_1 = L.polyline(latLngs,{\n",
        "color: 'chocolate',\n",
        "\n",
        "\n",
        "});\n",
        "      line_1.bindPopup(&amp;quot;Activities.ON_FOOT&amp;quot;);\n",
        "      line_1._popup.options.maxWidth = 300;\n",
        "      map.addLayer(line_1);\n",
        "      \n",
        "      var latLngs = [ [37.3922123, -122.0801472],  [37.3920786, -122.0801557],  [37.3920955, -122.0801213],  [37.3920398, -122.0800657],  [37.3920369, -122.0800896],  [37.3920869, -122.0800902], ];\n",
        "var line_2 = L.polyline(latLngs,{\n",
        "color: 'black',\n",
        "\n",
        "\n",
        "});\n",
        "      line_2.bindPopup(&amp;quot;Activities.IN_VEHICLE&amp;quot;);\n",
        "      line_2._popup.options.maxWidth = 300;\n",
        "      map.addLayer(line_2);\n",
        "      \n",
        "      var latLngs = [ [37.3920022, -122.0800628],  [37.3922123, -122.0801472], ];\n",
        "var line_3 = L.polyline(latLngs,{\n",
        "color: 'yellow',\n",
        "\n",
        "\n",
        "});\n",
        "      line_3.bindPopup(&amp;quot;Activities.ON_FOOT -&gt; Activities.IN_VEHICLE&amp;quot;);\n",
        "      line_3._popup.options.maxWidth = 300;\n",
        "      map.addLayer(line_3);\n",
        "      \n",
        "\n",
        "      \n",
        "\n",
        "      \n",
        "\n",
        "      \n",
        "\n",
        "\n",
        "\n",
        "   &lt;/script&gt;\n",
        "\n",
        "&lt;/body&gt;&quot; style=&quot;width: 100%; height: 510px; border: none&quot;&gt;&lt;/iframe&gt;</td></tr>\n",
        "<tr><td>&lt;iframe srcdoc=&quot;&lt;!DOCTYPE html&gt;\n",
        "&lt;head&gt;\n",
        "   &lt;meta http-equiv=&amp;quot;content-type&amp;quot; content=&amp;quot;text/html; charset=UTF-8&amp;quot; /&gt;\n",
        "   &lt;link rel=&amp;quot;stylesheet&amp;quot; href=&amp;quot;https://cdnjs.cloudflare.com/ajax/libs/leaflet/0.7.3/leaflet.css&amp;quot; /&gt;\n",
        "   &lt;script src=&amp;quot;https://cdnjs.cloudflare.com/ajax/libs/leaflet/0.7.3/leaflet.js&amp;quot;&gt;&lt;/script&gt;\n",
        "\n",
        "   &lt;script src=&amp;quot;https://ajax.googleapis.com/ajax/libs/jquery/1.11.1/jquery.min.js&amp;quot;&gt;&lt;/script&gt;\n",
        "\n",
        "   &lt;link rel=&amp;quot;stylesheet&amp;quot; href=&amp;quot;https://maxcdn.bootstrapcdn.com/bootstrap/3.2.0/css/bootstrap.min.css&amp;quot;&gt;\n",
        "   &lt;link rel=&amp;quot;stylesheet&amp;quot; href=&amp;quot;https://maxcdn.bootstrapcdn.com/bootstrap/3.2.0/css/bootstrap-theme.min.css&amp;quot;&gt;\n",
        "   &lt;script src=&amp;quot;https://maxcdn.bootstrapcdn.com/bootstrap/3.2.0/js/bootstrap.min.js&amp;quot;&gt;&lt;/script&gt;\n",
        "\n",
        "   &lt;link href=&amp;quot;https://maxcdn.bootstrapcdn.com/font-awesome/4.1.0/css/font-awesome.min.css&amp;quot; rel=&amp;quot;stylesheet&amp;quot;&gt;\n",
        "\n",
        "   &lt;link rel=&amp;quot;stylesheet&amp;quot; href=&amp;quot;https://rawgit.com/lvoogdt/Leaflet.awesome-markers/2.0/develop/dist/leaflet.awesome-markers.css&amp;quot;&gt;\n",
        "   &lt;script src=&amp;quot;https://rawgithub.com/lvoogdt/Leaflet.awesome-markers/2.0/develop/dist/leaflet.awesome-markers.js&amp;quot;&gt;&lt;/script&gt;\n",
        "\n",
        "\n",
        "   &lt;link rel=&amp;quot;stylesheet&amp;quot; href=&amp;quot;https://cdnjs.cloudflare.com/ajax/libs/leaflet.markercluster/0.4.0/MarkerCluster.Default.css&amp;quot;&gt;\n",
        "   &lt;link rel=&amp;quot;stylesheet&amp;quot; href=&amp;quot;https://cdnjs.cloudflare.com/ajax/libs/leaflet.markercluster/0.4.0/MarkerCluster.css&amp;quot;&gt;\n",
        "   &lt;script src=&amp;quot;https://cdnjs.cloudflare.com/ajax/libs/leaflet.markercluster/0.4.0/leaflet.markercluster-src.js&amp;quot;&gt;&lt;/script&gt;\n",
        "   &lt;script src=&amp;quot;https://cdnjs.cloudflare.com/ajax/libs/leaflet.markercluster/0.4.0/leaflet.markercluster.js&amp;quot;&gt;&lt;/script&gt;\n",
        "\n",
        "   &lt;link rel=&amp;quot;stylesheet&amp;quot; href=&amp;quot;https://birdage.github.io/Leaflet.awesome-markers/dist/leaflet.awesome.rotate.css&amp;quot;&gt;\n",
        "\n",
        "   \n",
        "   \n",
        "   \n",
        "   \n",
        "\n",
        "   &lt;style&gt;\n",
        "\n",
        "      html, body {\n",
        "        width: 100%;\n",
        "        height: 100%;\n",
        "        margin: 0;\n",
        "        padding: 0;\n",
        "      }\n",
        "\n",
        "      #map {\n",
        "        position:absolute;\n",
        "        top:0;\n",
        "        bottom:0;\n",
        "        right:0;\n",
        "        left:0;\n",
        "      }\n",
        "\n",
        "   &lt;/style&gt;\n",
        "&lt;/head&gt;\n",
        "\n",
        "&lt;body&gt;\n",
        "\n",
        "   &lt;div class=&amp;quot;folium-map&amp;quot; id=&amp;quot;folium_c65c27c1c8cb49d292c47e822c8b4984&amp;quot; style=&amp;quot;width: 100%; height: 100%&amp;quot;&gt;&lt;/div&gt;\n",
        "\n",
        "   &lt;script&gt;\n",
        "\n",
        "      \n",
        "\n",
        "      var base_tile = L.tileLayer('https://{s}.tile.openstreetmap.org/{z}/{x}/{y}.png', {\n",
        "          maxZoom: 18,\n",
        "          minZoom: 1,\n",
        "          attribution: 'Map data (c) &lt;a href=&amp;quot;http://openstreetmap.org&amp;quot;&gt;OpenStreetMap&lt;/a&gt; contributors'\n",
        "      });\n",
        "\n",
        "      var baseLayer = {\n",
        "        &amp;quot;Base Layer&amp;quot;: base_tile\n",
        "      };\n",
        "\n",
        "      /*\n",
        "      addition of the wms layers\n",
        "      */\n",
        "\n",
        "      \n",
        "\n",
        "      /*\n",
        "      addition of the tile layers\n",
        "      */\n",
        "      \n",
        "\n",
        "      /*\n",
        "      list of layers to be added\n",
        "      */\n",
        "      var layer_list = {\n",
        "      \n",
        "      };\n",
        "\n",
        "      /*\n",
        "      Bounding box.\n",
        "      */\n",
        "      var southWest = L.latLng(-90, -180),\n",
        "          northEast = L.latLng(90, 180),\n",
        "          bounds = L.latLngBounds(southWest, northEast);\n",
        "\n",
        "      /*\n",
        "      Creates the map and adds the selected layers\n",
        "      */\n",
        "      var map = L.map('folium_c65c27c1c8cb49d292c47e822c8b4984', {\n",
        "                                       center:[37.3918755613, -122.082727016],\n",
        "                                       zoom: 10,\n",
        "                                       maxBounds: bounds,\n",
        "                                       layers: [base_tile]\n",
        "                                     });\n",
        "\n",
        "      L.control.layers(baseLayer, layer_list).addTo(map);\n",
        "\n",
        "      //cluster group\n",
        "      var clusteredmarkers = L.markerClusterGroup();\n",
        "      //section for adding clustered markers\n",
        "      \n",
        "      //add the clustered markers to the group anyway\n",
        "      map.addLayer(clusteredmarkers);\n",
        "\n",
        "      \n",
        "\n",
        "      \n",
        "      var div_marker_1_0_icon = L.divIcon({className: 'leaflet-div-icon', 'iconSize': [5,5]});\n",
        "      var div_marker_1_0 = L.marker([37.3920968, \n",
        "\t\t\t\t\t\t\t-122.080139],\n",
        "\t\t\t\t\t\t\t{'icon':div_marker_1_0_icon}\n",
        "\t\t\t\t\t\t\t);\n",
        "      div_marker_1_0.bindPopup(&amp;quot;{u'mProvider': u'fused', 'formatted_time': Timestamp('2015-08-22 15:27:47'), u'mHasAccuracy': True, u'mHasAltitude': False, u'write_ts': 1440282478616, u'mLat1': 0, u'mDistance': 0, u'mLat2': 0, u'platform': u'android', u'mAccuracy': 40.5, u'mLon1': 0, u'mLon2': 0, u'type': u'message', u'mLatitude': 37.3920968, u'mAltitude': 0, u'mExtras': nan, u'mSpeed': 0, u'key': u'background/location', u'mInitialBearing': 0, u'mHasSpeed': False, u'read_ts': 0, u'mElapsedRealtimeNanos': 177998405000000, u'mResults': [0, 0], u'mBearing': 0, u'mLongitude': -122.080139, u'mIsFromMockProvider': False, u'filter': u'time', u'mTime': 1440282467861, u'mHasBearing': False}&amp;quot;);\n",
        "      div_marker_1_0._popup.options.maxWidth = 300;\n",
        "      map.addLayer(div_marker_1_0)\n",
        "      \n",
        "      var div_marker_1_1_icon = L.divIcon({className: 'leaflet-div-icon', 'iconSize': [5,5]});\n",
        "      var div_marker_1_1 = L.marker([37.3920848, \n",
        "\t\t\t\t\t\t\t-122.0800888],\n",
        "\t\t\t\t\t\t\t{'icon':div_marker_1_1_icon}\n",
        "\t\t\t\t\t\t\t);\n",
        "      div_marker_1_1.bindPopup(&amp;quot;{u'mProvider': u'fused', 'formatted_time': Timestamp('2015-08-22 15:28:19'), u'mHasAccuracy': True, u'mHasAltitude': False, u'write_ts': 1440282509004, u'mLat1': 0, u'mDistance': 0, u'mLat2': 0, u'platform': u'android', u'mAccuracy': 36.0, u'mLon1': 0, u'mLon2': 0, u'type': u'message', u'mLatitude': 37.3920848, u'mAltitude': 0, u'mExtras': nan, u'mSpeed': 0, u'key': u'background/location', u'mInitialBearing': 0, u'mHasSpeed': False, u'read_ts': 0, u'mElapsedRealtimeNanos': 178030207000000, u'mResults': [0, 0], u'mBearing': 0, u'mLongitude': -122.0800888, u'mIsFromMockProvider': False, u'filter': u'time', u'mTime': 1440282499663, u'mHasBearing': False}&amp;quot;);\n",
        "      div_marker_1_1._popup.options.maxWidth = 300;\n",
        "      map.addLayer(div_marker_1_1)\n",
        "      \n",
        "      var div_marker_1_2_icon = L.divIcon({className: 'leaflet-div-icon', 'iconSize': [5,5]});\n",
        "      var div_marker_1_2 = L.marker([37.3921032, \n",
        "\t\t\t\t\t\t\t-122.0801165],\n",
        "\t\t\t\t\t\t\t{'icon':div_marker_1_2_icon}\n",
        "\t\t\t\t\t\t\t);\n",
        "      div_marker_1_2.bindPopup(&amp;quot;{u'mProvider': u'fused', 'formatted_time': Timestamp('2015-08-22 15:28:51'), u'mHasAccuracy': True, u'mHasAltitude': False, u'write_ts': 1440282538635, u'mLat1': 0, u'mDistance': 0, u'mLat2': 0, u'platform': u'android', u'mAccuracy': 34.5, u'mLon1': 0, u'mLon2': 0, u'type': u'message', u'mLatitude': 37.3921032, u'mAltitude': 0, u'mExtras': nan, u'mSpeed': 0, u'key': u'background/location', u'mInitialBearing': 0, u'mHasSpeed': False, u'read_ts': 0, u'mElapsedRealtimeNanos': 178062009000000, u'mResults': [0, 0], u'mBearing': 0, u'mLongitude': -122.0801165, u'mIsFromMockProvider': False, u'filter': u'time', u'mTime': 1440282531465, u'mHasBearing': False}&amp;quot;);\n",
        "      div_marker_1_2._popup.options.maxWidth = 300;\n",
        "      map.addLayer(div_marker_1_2)\n",
        "      \n",
        "      var div_marker_1_3_icon = L.divIcon({className: 'leaflet-div-icon', 'iconSize': [5,5]});\n",
        "      var div_marker_1_3 = L.marker([37.3920901, \n",
        "\t\t\t\t\t\t\t-122.0800914],\n",
        "\t\t\t\t\t\t\t{'icon':div_marker_1_3_icon}\n",
        "\t\t\t\t\t\t\t);\n",
        "      div_marker_1_3.bindPopup(&amp;quot;{u'mProvider': u'fused', 'formatted_time': Timestamp('2015-08-22 15:29:23'), u'mHasAccuracy': True, u'mHasAltitude': False, u'write_ts': 1440282569017, u'mLat1': 0, u'mDistance': 0, u'mLat2': 0, u'platform': u'android', u'mAccuracy': 37.5, u'mLon1': 0, u'mLon2': 0, u'type': u'message', u'mLatitude': 37.3920901, u'mAltitude': 0, u'mExtras': nan, u'mSpeed': 0, u'key': u'background/location', u'mInitialBearing': 0, u'mHasSpeed': False, u'read_ts': 0, u'mElapsedRealtimeNanos': 178093811000000, u'mResults': [0, 0], u'mBearing': 0, u'mLongitude': -122.0800914, u'mIsFromMockProvider': False, u'filter': u'time', u'mTime': 1440282563267, u'mHasBearing': False}&amp;quot;);\n",
        "      div_marker_1_3._popup.options.maxWidth = 300;\n",
        "      map.addLayer(div_marker_1_3)\n",
        "      \n",
        "      var div_marker_1_4_icon = L.divIcon({className: 'leaflet-div-icon', 'iconSize': [5,5]});\n",
        "      var div_marker_1_4 = L.marker([37.3920958, \n",
        "\t\t\t\t\t\t\t-122.0800906],\n",
        "\t\t\t\t\t\t\t{'icon':div_marker_1_4_icon}\n",
        "\t\t\t\t\t\t\t);\n",
        "      div_marker_1_4.bindPopup(&amp;quot;{u'mProvider': u'fused', 'formatted_time': Timestamp('2015-08-22 15:29:52'), u'mHasAccuracy': True, u'mHasAltitude': False, u'write_ts': 1440282599121, u'mLat1': 0, u'mDistance': 0, u'mLat2': 0, u'platform': u'android', u'mAccuracy': 37.5, u'mLon1': 0, u'mLon2': 0, u'type': u'message', u'mLatitude': 37.3920958, u'mAltitude': 0, u'mExtras': nan, u'mSpeed': 0, u'key': u'background/location', u'mInitialBearing': 0, u'mHasSpeed': False, u'read_ts': 0, u'mElapsedRealtimeNanos': 178123490000000, u'mResults': [0, 0], u'mBearing': 0, u'mLongitude': -122.0800906, u'mIsFromMockProvider': False, u'filter': u'time', u'mTime': 1440282592946, u'mHasBearing': False}&amp;quot;);\n",
        "      div_marker_1_4._popup.options.maxWidth = 300;\n",
        "      map.addLayer(div_marker_1_4)\n",
        "      \n",
        "      var div_marker_1_5_icon = L.divIcon({className: 'leaflet-div-icon', 'iconSize': [5,5]});\n",
        "      var div_marker_1_5 = L.marker([37.3920809, \n",
        "\t\t\t\t\t\t\t-122.080085],\n",
        "\t\t\t\t\t\t\t{'icon':div_marker_1_5_icon}\n",
        "\t\t\t\t\t\t\t);\n",
        "      div_marker_1_5.bindPopup(&amp;quot;{u'mProvider': u'fused', 'formatted_time': Timestamp('2015-08-22 15:30:24'), u'mHasAccuracy': True, u'mHasAltitude': False, u'write_ts': 1440282628945, u'mLat1': 0, u'mDistance': 0, u'mLat2': 0, u'platform': u'android', u'mAccuracy': 40.5, u'mLon1': 0, u'mLon2': 0, u'type': u'message', u'mLatitude': 37.3920809, u'mAltitude': 0, u'mExtras': nan, u'mSpeed': 0, u'key': u'background/location', u'mInitialBearing': 0, u'mHasSpeed': False, u'read_ts': 0, u'mElapsedRealtimeNanos': 178155284000000, u'mResults': [0, 0], u'mBearing': 0, u'mLongitude': -122.080085, u'mIsFromMockProvider': False, u'filter': u'time', u'mTime': 1440282624740, u'mHasBearing': False}&amp;quot;);\n",
        "      div_marker_1_5._popup.options.maxWidth = 300;\n",
        "      map.addLayer(div_marker_1_5)\n",
        "      \n",
        "      var div_marker_1_6_icon = L.divIcon({className: 'leaflet-div-icon', 'iconSize': [5,5]});\n",
        "      var div_marker_1_6 = L.marker([37.3920924, \n",
        "\t\t\t\t\t\t\t-122.0801031],\n",
        "\t\t\t\t\t\t\t{'icon':div_marker_1_6_icon}\n",
        "\t\t\t\t\t\t\t);\n",
        "      div_marker_1_6.bindPopup(&amp;quot;{u'mProvider': u'fused', 'formatted_time': Timestamp('2015-08-22 15:30:56'), u'mHasAccuracy': True, u'mHasAltitude': False, u'write_ts': 1440282658937, u'mLat1': 0, u'mDistance': 0, u'mLat2': 0, u'platform': u'android', u'mAccuracy': 39.0, u'mLon1': 0, u'mLon2': 0, u'type': u'message', u'mLatitude': 37.3920924, u'mAltitude': 0, u'mExtras': nan, u'mSpeed': 0, u'key': u'background/location', u'mInitialBearing': 0, u'mHasSpeed': False, u'read_ts': 0, u'mElapsedRealtimeNanos': 178187081000000, u'mResults': [0, 0], u'mBearing': 0, u'mLongitude': -122.0801031, u'mIsFromMockProvider': False, u'filter': u'time', u'mTime': 1440282656538, u'mHasBearing': False}&amp;quot;);\n",
        "      div_marker_1_6._popup.options.maxWidth = 300;\n",
        "      map.addLayer(div_marker_1_6)\n",
        "      \n",
        "      var div_marker_1_7_icon = L.divIcon({className: 'leaflet-div-icon', 'iconSize': [5,5]});\n",
        "      var div_marker_1_7 = L.marker([37.3920762, \n",
        "\t\t\t\t\t\t\t-122.0800538],\n",
        "\t\t\t\t\t\t\t{'icon':div_marker_1_7_icon}\n",
        "\t\t\t\t\t\t\t);\n",
        "      div_marker_1_7.bindPopup(&amp;quot;{u'mProvider': u'fused', 'formatted_time': Timestamp('2015-08-22 15:31:28'), u'mHasAccuracy': True, u'mHasAltitude': False, u'write_ts': 1440282689123, u'mLat1': 0, u'mDistance': 0, u'mLat2': 0, u'platform': u'android', u'mAccuracy': 30.0, u'mLon1': 0, u'mLon2': 0, u'type': u'message', u'mLatitude': 37.3920762, u'mAltitude': 0, u'mExtras': nan, u'mSpeed': 0, u'key': u'background/location', u'mInitialBearing': 0, u'mHasSpeed': False, u'read_ts': 0, u'mElapsedRealtimeNanos': 178218872000000, u'mResults': [0, 0], u'mBearing': 0, u'mLongitude': -122.0800538, u'mIsFromMockProvider': False, u'filter': u'time', u'mTime': 1440282688329, u'mHasBearing': False}&amp;quot;);\n",
        "      div_marker_1_7._popup.options.maxWidth = 300;\n",
        "      map.addLayer(div_marker_1_7)\n",
        "      \n",
        "      var div_marker_1_8_icon = L.divIcon({className: 'leaflet-div-icon', 'iconSize': [5,5]});\n",
        "      var div_marker_1_8 = L.marker([37.3920845, \n",
        "\t\t\t\t\t\t\t-122.0801076],\n",
        "\t\t\t\t\t\t\t{'icon':div_marker_1_8_icon}\n",
        "\t\t\t\t\t\t\t);\n",
        "      div_marker_1_8.bindPopup(&amp;quot;{u'mProvider': u'fused', 'formatted_time': Timestamp('2015-08-22 15:31:44'), u'mHasAccuracy': True, u'mHasAltitude': False, u'write_ts': 1440282718982, u'mLat1': 0, u'mDistance': 0, u'mLat2': 0, u'platform': u'android', u'mAccuracy': 30.0, u'mLon1': 0, u'mLon2': 0, u'type': u'message', u'mLatitude': 37.3920845, u'mAltitude': 0, u'mExtras': nan, u'mSpeed': 0, u'key': u'background/location', u'mInitialBearing': 0, u'mHasSpeed': False, u'read_ts': 0, u'mElapsedRealtimeNanos': 178234781000000, u'mResults': [0, 0], u'mBearing': 0, u'mLongitude': -122.0801076, u'mIsFromMockProvider': False, u'filter': u'time', u'mTime': 1440282704238, u'mHasBearing': False}&amp;quot;);\n",
        "      div_marker_1_8._popup.options.maxWidth = 300;\n",
        "      map.addLayer(div_marker_1_8)\n",
        "      \n",
        "      var div_marker_1_9_icon = L.divIcon({className: 'leaflet-div-icon', 'iconSize': [5,5]});\n",
        "      var div_marker_1_9 = L.marker([37.3918311, \n",
        "\t\t\t\t\t\t\t-122.0814687],\n",
        "\t\t\t\t\t\t\t{'icon':div_marker_1_9_icon}\n",
        "\t\t\t\t\t\t\t);\n",
        "      div_marker_1_9.bindPopup(&amp;quot;{u'mProvider': u'fused', 'formatted_time': Timestamp('2015-08-22 15:40:26'), u'mHasAccuracy': True, u'mHasAltitude': False, u'write_ts': 1440283229161, u'mLat1': 0, u'mDistance': 0, u'mLat2': 0, u'platform': u'android', u'mAccuracy': 20.0, u'mLon1': 0, u'mLon2': 0, u'type': u'message', u'mLatitude': 37.3918311, u'mAltitude': 0, u'mExtras': nan, u'mSpeed': 0, u'key': u'background/location', u'mInitialBearing': 0, u'mHasSpeed': False, u'read_ts': 0, u'mElapsedRealtimeNanos': 178757256000000, u'mResults': [0, 0], u'mBearing': 0, u'mLongitude': -122.0814687, u'mIsFromMockProvider': False, u'filter': u'time', u'mTime': 1440283226712, u'mHasBearing': False}&amp;quot;);\n",
        "      div_marker_1_9._popup.options.maxWidth = 300;\n",
        "      map.addLayer(div_marker_1_9)\n",
        "      \n",
        "      var div_marker_1_10_icon = L.divIcon({className: 'leaflet-div-icon', 'iconSize': [5,5]});\n",
        "      var div_marker_1_10 = L.marker([37.3918311, \n",
        "\t\t\t\t\t\t\t-122.0814687],\n",
        "\t\t\t\t\t\t\t{'icon':div_marker_1_10_icon}\n",
        "\t\t\t\t\t\t\t);\n",
        "      div_marker_1_10.bindPopup(&amp;quot;{u'mProvider': u'fused', 'formatted_time': Timestamp('2015-08-22 15:40:26'), u'mHasAccuracy': True, u'mHasAltitude': False, u'write_ts': 1440283230761, u'mLat1': 0, u'mDistance': 0, u'mLat2': 0, u'platform': u'android', u'mAccuracy': 20.0, u'mLon1': 0, u'mLon2': 0, u'type': u'message', u'mLatitude': 37.3918311, u'mAltitude': 0, u'mExtras': {u'mAllowFds': True, u'mFdsKnown': True, u'mHasFds': False, u'mParcelledData': {u'mNativePtr': 1469039272, u'mOwnsNativeParcelObject': True}}, u'mSpeed': 0, u'key': u'background/location', u'mInitialBearing': 0, u'mHasSpeed': False, u'read_ts': 0, u'mElapsedRealtimeNanos': 178757256000000, u'mResults': [0, 0], u'mBearing': 0, u'mLongitude': -122.0814687, u'mIsFromMockProvider': False, u'filter': u'time', u'mTime': 1440283226712, u'mHasBearing': False}&amp;quot;);\n",
        "      div_marker_1_10._popup.options.maxWidth = 300;\n",
        "      map.addLayer(div_marker_1_10)\n",
        "      \n",
        "      var div_marker_1_11_icon = L.divIcon({className: 'leaflet-div-icon', 'iconSize': [5,5]});\n",
        "      var div_marker_1_11 = L.marker([37.392047, \n",
        "\t\t\t\t\t\t\t-122.0800585],\n",
        "\t\t\t\t\t\t\t{'icon':div_marker_1_11_icon}\n",
        "\t\t\t\t\t\t\t);\n",
        "      div_marker_1_11.bindPopup(&amp;quot;{u'mProvider': u'fused', 'formatted_time': Timestamp('2015-08-22 15:49:01'), u'mHasAccuracy': True, u'mHasAltitude': False, u'write_ts': 1440283749882, u'mLat1': 0, u'mDistance': 0, u'mLat2': 0, u'platform': u'android', u'mAccuracy': 37.5, u'mLon1': 0, u'mLon2': 0, u'type': u'message', u'mLatitude': 37.392047, u'mAltitude': 0, u'mExtras': nan, u'mSpeed': 0, u'key': u'background/location', u'mInitialBearing': 0, u'mHasSpeed': False, u'read_ts': 0, u'mElapsedRealtimeNanos': 179271831000000, u'mResults': [0, 0], u'mBearing': 0, u'mLongitude': -122.0800585, u'mIsFromMockProvider': False, u'filter': u'time', u'mTime': 1440283741288, u'mHasBearing': False}&amp;quot;);\n",
        "      div_marker_1_11._popup.options.maxWidth = 300;\n",
        "      map.addLayer(div_marker_1_11)\n",
        "      \n",
        "      var div_marker_1_12_icon = L.divIcon({className: 'leaflet-div-icon', 'iconSize': [5,5]});\n",
        "      var div_marker_1_12 = L.marker([37.392047, \n",
        "\t\t\t\t\t\t\t-122.0800585],\n",
        "\t\t\t\t\t\t\t{'icon':div_marker_1_12_icon}\n",
        "\t\t\t\t\t\t\t);\n",
        "      div_marker_1_12.bindPopup(&amp;quot;{u'mProvider': u'fused', 'formatted_time': Timestamp('2015-08-22 15:49:01'), u'mHasAccuracy': True, u'mHasAltitude': False, u'write_ts': 1440283750878, u'mLat1': 0, u'mDistance': 0, u'mLat2': 0, u'platform': u'android', u'mAccuracy': 37.5, u'mLon1': 0, u'mLon2': 0, u'type': u'message', u'mLatitude': 37.392047, u'mAltitude': 0, u'mExtras': {u'mAllowFds': True, u'mFdsKnown': True, u'mHasFds': False, u'mParcelledData': {u'mNativePtr': 1074154656, u'mOwnsNativeParcelObject': True}}, u'mSpeed': 0, u'key': u'background/location', u'mInitialBearing': 0, u'mHasSpeed': False, u'read_ts': 0, u'mElapsedRealtimeNanos': 179271831000000, u'mResults': [0, 0], u'mBearing': 0, u'mLongitude': -122.0800585, u'mIsFromMockProvider': False, u'filter': u'time', u'mTime': 1440283741288, u'mHasBearing': False}&amp;quot;);\n",
        "      div_marker_1_12._popup.options.maxWidth = 300;\n",
        "      map.addLayer(div_marker_1_12)\n",
        "      \n",
        "      var div_marker_1_13_icon = L.divIcon({className: 'leaflet-div-icon', 'iconSize': [5,5]});\n",
        "      var div_marker_1_13 = L.marker([37.3920326, \n",
        "\t\t\t\t\t\t\t-122.0800782],\n",
        "\t\t\t\t\t\t\t{'icon':div_marker_1_13_icon}\n",
        "\t\t\t\t\t\t\t);\n",
        "      div_marker_1_13.bindPopup(&amp;quot;{u'mProvider': u'fused', 'formatted_time': Timestamp('2015-08-22 15:49:36'), u'mHasAccuracy': True, u'mHasAltitude': False, u'write_ts': 1440283780870, u'mLat1': 0, u'mDistance': 0, u'mLat2': 0, u'platform': u'android', u'mAccuracy': 33.0, u'mLon1': 0, u'mLon2': 0, u'type': u'message', u'mLatitude': 37.3920326, u'mAltitude': 0, u'mExtras': nan, u'mSpeed': 0, u'key': u'background/location', u'mInitialBearing': 0, u'mHasSpeed': False, u'read_ts': 0, u'mElapsedRealtimeNanos': 179307523000000, u'mResults': [0, 0], u'mBearing': 0, u'mLongitude': -122.0800782, u'mIsFromMockProvider': False, u'filter': u'time', u'mTime': 1440283776980, u'mHasBearing': False}&amp;quot;);\n",
        "      div_marker_1_13._popup.options.maxWidth = 300;\n",
        "      map.addLayer(div_marker_1_13)\n",
        "      \n",
        "      var div_marker_1_14_icon = L.divIcon({className: 'leaflet-div-icon', 'iconSize': [5,5]});\n",
        "      var div_marker_1_14 = L.marker([37.392111, \n",
        "\t\t\t\t\t\t\t-122.0802162],\n",
        "\t\t\t\t\t\t\t{'icon':div_marker_1_14_icon}\n",
        "\t\t\t\t\t\t\t);\n",
        "      div_marker_1_14.bindPopup(&amp;quot;{u'mProvider': u'fused', 'formatted_time': Timestamp('2015-08-22 15:50:08'), u'mHasAccuracy': True, u'mHasAltitude': False, u'write_ts': 1440283811017, u'mLat1': 0, u'mDistance': 0, u'mLat2': 0, u'platform': u'android', u'mAccuracy': 58.904, u'mLon1': 0, u'mLon2': 0, u'type': u'message', u'mLatitude': 37.392111, u'mAltitude': 0, u'mExtras': nan, u'mSpeed': 0, u'key': u'background/location', u'mInitialBearing': 0, u'mHasSpeed': False, u'read_ts': 0, u'mElapsedRealtimeNanos': 179339342000000, u'mResults': [0, 0], u'mBearing': 0, u'mLongitude': -122.0802162, u'mIsFromMockProvider': False, u'filter': u'time', u'mTime': 1440283808798, u'mHasBearing': False}&amp;quot;);\n",
        "      div_marker_1_14._popup.options.maxWidth = 300;\n",
        "      map.addLayer(div_marker_1_14)\n",
        "      \n",
        "      var div_marker_1_15_icon = L.divIcon({className: 'leaflet-div-icon', 'iconSize': [5,5]});\n",
        "      var div_marker_1_15 = L.marker([37.3921353, \n",
        "\t\t\t\t\t\t\t-122.0802419],\n",
        "\t\t\t\t\t\t\t{'icon':div_marker_1_15_icon}\n",
        "\t\t\t\t\t\t\t);\n",
        "      div_marker_1_15.bindPopup(&amp;quot;{u'mProvider': u'fused', 'formatted_time': Timestamp('2015-08-22 15:50:24'), u'mHasAccuracy': True, u'mHasAltitude': False, u'write_ts': 1440283840942, u'mLat1': 0, u'mDistance': 0, u'mLat2': 0, u'platform': u'android', u'mAccuracy': 56.453, u'mLon1': 0, u'mLon2': 0, u'type': u'message', u'mLatitude': 37.3921353, u'mAltitude': 0, u'mExtras': nan, u'mSpeed': 0, u'key': u'background/location', u'mInitialBearing': 0, u'mHasSpeed': False, u'read_ts': 0, u'mElapsedRealtimeNanos': 179355251000000, u'mResults': [0, 0], u'mBearing': 0, u'mLongitude': -122.0802419, u'mIsFromMockProvider': False, u'filter': u'time', u'mTime': 1440283824707, u'mHasBearing': False}&amp;quot;);\n",
        "      div_marker_1_15._popup.options.maxWidth = 300;\n",
        "      map.addLayer(div_marker_1_15)\n",
        "      \n",
        "      var div_marker_2_0_icon = L.divIcon({className: 'leaflet-div-icon', 'iconSize': [5,5]});\n",
        "      var div_marker_2_0 = L.marker([37.3918861, \n",
        "\t\t\t\t\t\t\t-122.0815073],\n",
        "\t\t\t\t\t\t\t{'icon':div_marker_2_0_icon}\n",
        "\t\t\t\t\t\t\t);\n",
        "      div_marker_2_0.bindPopup(&amp;quot;{u'mProvider': u'fused', 'formatted_time': Timestamp('2015-08-22 15:50:56'), u'mHasAccuracy': True, u'mHasAltitude': False, u'write_ts': 1440283871067, u'mLat1': 0, u'mDistance': 0, u'mLat2': 0, u'platform': u'android', u'mAccuracy': 38.987, u'mLon1': 0, u'mLon2': 0, u'type': u'message', u'mLatitude': 37.3918861, u'mAltitude': 0, u'mExtras': nan, u'mSpeed': 0, u'key': u'background/location', u'mInitialBearing': 0, u'mHasSpeed': False, u'read_ts': 0, u'mElapsedRealtimeNanos': 179387087000000, u'mResults': [0, 0], u'mBearing': 0, u'mLongitude': -122.0815073, u'mIsFromMockProvider': False, u'filter': u'time', u'mTime': 1440283856544, u'mHasBearing': False}&amp;quot;);\n",
        "      div_marker_2_0._popup.options.maxWidth = 300;\n",
        "      map.addLayer(div_marker_2_0)\n",
        "      \n",
        "      var div_marker_2_1_icon = L.divIcon({className: 'leaflet-div-icon', 'iconSize': [5,5]});\n",
        "      var div_marker_2_1 = L.marker([37.3922036, \n",
        "\t\t\t\t\t\t\t-122.0827283],\n",
        "\t\t\t\t\t\t\t{'icon':div_marker_2_1_icon}\n",
        "\t\t\t\t\t\t\t);\n",
        "      div_marker_2_1.bindPopup(&amp;quot;{u'mProvider': u'fused', 'formatted_time': Timestamp('2015-08-22 15:51:28'), u'mHasAccuracy': True, u'mHasAltitude': False, u'write_ts': 1440283900972, u'mLat1': 0, u'mDistance': 0, u'mLat2': 0, u'platform': u'android', u'mAccuracy': 60.0, u'mLon1': 0, u'mLon2': 0, u'type': u'message', u'mLatitude': 37.3922036, u'mAltitude': 0, u'mExtras': nan, u'mSpeed': 0, u'key': u'background/location', u'mInitialBearing': 0, u'mHasSpeed': False, u'read_ts': 0, u'mElapsedRealtimeNanos': 179418918000000, u'mResults': [0, 0], u'mBearing': 0, u'mLongitude': -122.0827283, u'mIsFromMockProvider': False, u'filter': u'time', u'mTime': 1440283888375, u'mHasBearing': False}&amp;quot;);\n",
        "      div_marker_2_1._popup.options.maxWidth = 300;\n",
        "      map.addLayer(div_marker_2_1)\n",
        "      \n",
        "      var div_marker_2_2_icon = L.divIcon({className: 'leaflet-div-icon', 'iconSize': [5,5]});\n",
        "      var div_marker_2_2 = L.marker([37.3926381, \n",
        "\t\t\t\t\t\t\t-122.0836701],\n",
        "\t\t\t\t\t\t\t{'icon':div_marker_2_2_icon}\n",
        "\t\t\t\t\t\t\t);\n",
        "      div_marker_2_2.bindPopup(&amp;quot;{u'mProvider': u'fused', 'formatted_time': Timestamp('2015-08-22 15:52:00'), u'mHasAccuracy': True, u'mHasAltitude': False, u'write_ts': 1440283931116, u'mLat1': 0, u'mDistance': 0, u'mLat2': 0, u'platform': u'android', u'mAccuracy': 46.5, u'mLon1': 0, u'mLon2': 0, u'type': u'message', u'mLatitude': 37.3926381, u'mAltitude': 0, u'mExtras': nan, u'mSpeed': 0, u'key': u'background/location', u'mInitialBearing': 0, u'mHasSpeed': False, u'read_ts': 0, u'mElapsedRealtimeNanos': 179450725000000, u'mResults': [0, 0], u'mBearing': 0, u'mLongitude': -122.0836701, u'mIsFromMockProvider': False, u'filter': u'time', u'mTime': 1440283920182, u'mHasBearing': False}&amp;quot;);\n",
        "      div_marker_2_2._popup.options.maxWidth = 300;\n",
        "      map.addLayer(div_marker_2_2)\n",
        "      \n",
        "      var div_marker_3_0_icon = L.divIcon({className: 'leaflet-div-icon', 'iconSize': [5,5]});\n",
        "      var div_marker_3_0 = L.marker([37.3930518, \n",
        "\t\t\t\t\t\t\t-122.0847274],\n",
        "\t\t\t\t\t\t\t{'icon':div_marker_3_0_icon}\n",
        "\t\t\t\t\t\t\t);\n",
        "      div_marker_3_0.bindPopup(&amp;quot;{u'mProvider': u'fused', 'formatted_time': Timestamp('2015-08-22 15:52:32'), u'mHasAccuracy': True, u'mHasAltitude': False, u'write_ts': 1440283963054, u'mLat1': 0, u'mDistance': 0, u'mLat2': 0, u'platform': u'android', u'mAccuracy': 45.0, u'mLon1': 0, u'mLon2': 0, u'type': u'message', u'mLatitude': 37.3930518, u'mAltitude': 0, u'mExtras': nan, u'mSpeed': 0, u'key': u'background/location', u'mInitialBearing': 0, u'mHasSpeed': False, u'read_ts': 0, u'mElapsedRealtimeNanos': 179482546000000, u'mResults': [0, 0], u'mBearing': 0, u'mLongitude': -122.0847274, u'mIsFromMockProvider': False, u'filter': u'time', u'mTime': 1440283952002, u'mHasBearing': False}&amp;quot;);\n",
        "      div_marker_3_0._popup.options.maxWidth = 300;\n",
        "      map.addLayer(div_marker_3_0)\n",
        "      \n",
        "      var div_marker_3_1_icon = L.divIcon({className: 'leaflet-div-icon', 'iconSize': [5,5]});\n",
        "      var div_marker_3_1 = L.marker([37.3929512, \n",
        "\t\t\t\t\t\t\t-122.084914],\n",
        "\t\t\t\t\t\t\t{'icon':div_marker_3_1_icon}\n",
        "\t\t\t\t\t\t\t);\n",
        "      div_marker_3_1.bindPopup(&amp;quot;{u'mProvider': u'fused', 'formatted_time': Timestamp('2015-08-22 15:53:03'), u'mHasAccuracy': True, u'mHasAltitude': False, u'write_ts': 1440283991241, u'mLat1': 0, u'mDistance': 0, u'mLat2': 0, u'platform': u'android', u'mAccuracy': 30.0, u'mLon1': 0, u'mLon2': 0, u'type': u'message', u'mLatitude': 37.3929512, u'mAltitude': 0, u'mExtras': nan, u'mSpeed': 0, u'key': u'background/location', u'mInitialBearing': 0, u'mHasSpeed': False, u'read_ts': 0, u'mElapsedRealtimeNanos': 179514352000000, u'mResults': [0, 0], u'mBearing': 0, u'mLongitude': -122.084914, u'mIsFromMockProvider': False, u'filter': u'time', u'mTime': 1440283983808, u'mHasBearing': False}&amp;quot;);\n",
        "      div_marker_3_1._popup.options.maxWidth = 300;\n",
        "      map.addLayer(div_marker_3_1)\n",
        "      \n",
        "      var div_marker_4_0_icon = L.divIcon({className: 'leaflet-div-icon', 'iconSize': [5,5]});\n",
        "      var div_marker_4_0 = L.marker([37.3929551, \n",
        "\t\t\t\t\t\t\t-122.084924],\n",
        "\t\t\t\t\t\t\t{'icon':div_marker_4_0_icon}\n",
        "\t\t\t\t\t\t\t);\n",
        "      div_marker_4_0.bindPopup(&amp;quot;{u'mProvider': u'fused', 'formatted_time': Timestamp('2015-08-22 15:53:35'), u'mHasAccuracy': True, u'mHasAltitude': False, u'write_ts': 1440284021165, u'mLat1': 0, u'mDistance': 0, u'mLat2': 0, u'platform': u'android', u'mAccuracy': 30.0, u'mLon1': 0, u'mLon2': 0, u'type': u'message', u'mLatitude': 37.3929551, u'mAltitude': 0, u'mExtras': nan, u'mSpeed': 0, u'key': u'background/location', u'mInitialBearing': 0, u'mHasSpeed': False, u'read_ts': 0, u'mElapsedRealtimeNanos': 179546187000000, u'mResults': [0, 0], u'mBearing': 0, u'mLongitude': -122.084924, u'mIsFromMockProvider': False, u'filter': u'time', u'mTime': 1440284015643, u'mHasBearing': False}&amp;quot;);\n",
        "      div_marker_4_0._popup.options.maxWidth = 300;\n",
        "      map.addLayer(div_marker_4_0)\n",
        "      \n",
        "      var div_marker_5_0_icon = L.divIcon({className: 'leaflet-div-icon', 'iconSize': [5,5]});\n",
        "      var div_marker_5_0 = L.marker([37.3911957, \n",
        "\t\t\t\t\t\t\t-122.0860199],\n",
        "\t\t\t\t\t\t\t{'icon':div_marker_5_0_icon}\n",
        "\t\t\t\t\t\t\t);\n",
        "      div_marker_5_0.bindPopup(&amp;quot;{u'mProvider': u'fused', 'formatted_time': Timestamp('2015-08-22 15:54:37'), u'mHasAccuracy': True, u'mHasAltitude': False, u'write_ts': 1440284081154, u'mLat1': 0, u'mDistance': 0, u'mLat2': 0, u'platform': u'android', u'mAccuracy': 52.5, u'mLon1': 0, u'mLon2': 0, u'type': u'message', u'mLatitude': 37.3911957, u'mAltitude': 0, u'mExtras': nan, u'mSpeed': 0, u'key': u'background/location', u'mInitialBearing': 0, u'mHasSpeed': False, u'read_ts': 0, u'mElapsedRealtimeNanos': 179607678000000, u'mResults': [0, 0], u'mBearing': 0, u'mLongitude': -122.0860199, u'mIsFromMockProvider': False, u'filter': u'time', u'mTime': 1440284077135, u'mHasBearing': False}&amp;quot;);\n",
        "      div_marker_5_0._popup.options.maxWidth = 300;\n",
        "      map.addLayer(div_marker_5_0)\n",
        "      \n",
        "      var div_marker_5_1_icon = L.divIcon({className: 'leaflet-div-icon', 'iconSize': [5,5]});\n",
        "      var div_marker_5_1 = L.marker([37.3908994, \n",
        "\t\t\t\t\t\t\t-122.0862347],\n",
        "\t\t\t\t\t\t\t{'icon':div_marker_5_1_icon}\n",
        "\t\t\t\t\t\t\t);\n",
        "      div_marker_5_1.bindPopup(&amp;quot;{u'mProvider': u'fused', 'formatted_time': Timestamp('2015-08-22 15:55:15'), u'mHasAccuracy': True, u'mHasAltitude': False, u'write_ts': 1440284116757, u'mLat1': 0, u'mDistance': 0, u'mLat2': 0, u'platform': u'android', u'mAccuracy': 40.5, u'mLon1': 0, u'mLon2': 0, u'type': u'message', u'mLatitude': 37.3908994, u'mAltitude': 0, u'mExtras': nan, u'mSpeed': 0, u'key': u'background/location', u'mInitialBearing': 0, u'mHasSpeed': False, u'read_ts': 0, u'mElapsedRealtimeNanos': 179646503000000, u'mResults': [0, 0], u'mBearing': 0, u'mLongitude': -122.0862347, u'mIsFromMockProvider': False, u'filter': u'time', u'mTime': 1440284115959, u'mHasBearing': False}&amp;quot;);\n",
        "      div_marker_5_1._popup.options.maxWidth = 300;\n",
        "      map.addLayer(div_marker_5_1)\n",
        "      \n",
        "      var div_marker_5_2_icon = L.divIcon({className: 'leaflet-div-icon', 'iconSize': [5,5]});\n",
        "      var div_marker_5_2 = L.marker([37.3909757, \n",
        "\t\t\t\t\t\t\t-122.0861716],\n",
        "\t\t\t\t\t\t\t{'icon':div_marker_5_2_icon}\n",
        "\t\t\t\t\t\t\t);\n",
        "      div_marker_5_2.bindPopup(&amp;quot;{u'mProvider': u'fused', 'formatted_time': Timestamp('2015-08-22 15:55:45'), u'mHasAccuracy': True, u'mHasAltitude': False, u'write_ts': 1440284146456, u'mLat1': 0, u'mDistance': 0, u'mLat2': 0, u'platform': u'android', u'mAccuracy': 30.0, u'mLon1': 0, u'mLon2': 0, u'type': u'message', u'mLatitude': 37.3909757, u'mAltitude': 0, u'mExtras': nan, u'mSpeed': 0, u'key': u'background/location', u'mInitialBearing': 0, u'mHasSpeed': False, u'read_ts': 0, u'mElapsedRealtimeNanos': 179676463000000, u'mResults': [0, 0], u'mBearing': 0, u'mLongitude': -122.0861716, u'mIsFromMockProvider': False, u'filter': u'time', u'mTime': 1440284145919, u'mHasBearing': False}&amp;quot;);\n",
        "      div_marker_5_2._popup.options.maxWidth = 300;\n",
        "      map.addLayer(div_marker_5_2)\n",
        "      \n",
        "      var div_marker_5_3_icon = L.divIcon({className: 'leaflet-div-icon', 'iconSize': [5,5]});\n",
        "      var div_marker_5_3 = L.marker([37.3908236, \n",
        "\t\t\t\t\t\t\t-122.0861702],\n",
        "\t\t\t\t\t\t\t{'icon':div_marker_5_3_icon}\n",
        "\t\t\t\t\t\t\t);\n",
        "      div_marker_5_3.bindPopup(&amp;quot;{u'mProvider': u'fused', 'formatted_time': Timestamp('2015-08-22 15:56:16'), u'mHasAccuracy': True, u'mHasAltitude': False, u'write_ts': 1440284176423, u'mLat1': 0, u'mDistance': 0, u'mLat2': 0, u'platform': u'android', u'mAccuracy': 40.5, u'mLon1': 0, u'mLon2': 0, u'type': u'message', u'mLatitude': 37.3908236, u'mAltitude': 0, u'mExtras': nan, u'mSpeed': 0, u'key': u'background/location', u'mInitialBearing': 0, u'mHasSpeed': False, u'read_ts': 0, u'mElapsedRealtimeNanos': 179706583000000, u'mResults': [0, 0], u'mBearing': 0, u'mLongitude': -122.0861702, u'mIsFromMockProvider': False, u'filter': u'time', u'mTime': 1440284176040, u'mHasBearing': False}&amp;quot;);\n",
        "      div_marker_5_3._popup.options.maxWidth = 300;\n",
        "      map.addLayer(div_marker_5_3)\n",
        "      \n",
        "      var div_marker_5_4_icon = L.divIcon({className: 'leaflet-div-icon', 'iconSize': [5,5]});\n",
        "      var div_marker_5_4 = L.marker([37.3906969, \n",
        "\t\t\t\t\t\t\t-122.0862915],\n",
        "\t\t\t\t\t\t\t{'icon':div_marker_5_4_icon}\n",
        "\t\t\t\t\t\t\t);\n",
        "      div_marker_5_4.bindPopup(&amp;quot;{u'mProvider': u'fused', 'formatted_time': Timestamp('2015-08-22 15:56:42'), u'mHasAccuracy': True, u'mHasAltitude': False, u'write_ts': 1440284208618, u'mLat1': 0, u'mDistance': 0, u'mLat2': 0, u'platform': u'android', u'mAccuracy': 40.5, u'mLon1': 0, u'mLon2': 0, u'type': u'message', u'mLatitude': 37.3906969, u'mAltitude': 0, u'mExtras': nan, u'mSpeed': 0, u'key': u'background/location', u'mInitialBearing': 0, u'mHasSpeed': False, u'read_ts': 0, u'mElapsedRealtimeNanos': 179732583000000, u'mResults': [0, 0], u'mBearing': 0, u'mLongitude': -122.0862915, u'mIsFromMockProvider': False, u'filter': u'time', u'mTime': 1440284202039, u'mHasBearing': False}&amp;quot;);\n",
        "      div_marker_5_4._popup.options.maxWidth = 300;\n",
        "      map.addLayer(div_marker_5_4)\n",
        "      \n",
        "      var div_marker_5_5_icon = L.divIcon({className: 'leaflet-div-icon', 'iconSize': [5,5]});\n",
        "      var div_marker_5_5 = L.marker([37.3905146, \n",
        "\t\t\t\t\t\t\t-122.0867063],\n",
        "\t\t\t\t\t\t\t{'icon':div_marker_5_5_icon}\n",
        "\t\t\t\t\t\t\t);\n",
        "      div_marker_5_5.bindPopup(&amp;quot;{u'mProvider': u'fused', 'formatted_time': Timestamp('2015-08-22 15:57:13'), u'mHasAccuracy': True, u'mHasAltitude': False, u'write_ts': 1440284238474, u'mLat1': 0, u'mDistance': 0, u'mLat2': 0, u'platform': u'android', u'mAccuracy': 30.0, u'mLon1': 0, u'mLon2': 0, u'type': u'message', u'mLatitude': 37.3905146, u'mAltitude': 0, u'mExtras': nan, u'mSpeed': 0, u'key': u'background/location', u'mInitialBearing': 0, u'mHasSpeed': False, u'read_ts': 0, u'mElapsedRealtimeNanos': 179764397000000, u'mResults': [0, 0], u'mBearing': 0, u'mLongitude': -122.0867063, u'mIsFromMockProvider': False, u'filter': u'time', u'mTime': 1440284233854, u'mHasBearing': False}&amp;quot;);\n",
        "      div_marker_5_5._popup.options.maxWidth = 300;\n",
        "      map.addLayer(div_marker_5_5)\n",
        "      \n",
        "      var div_marker_5_6_icon = L.divIcon({className: 'leaflet-div-icon', 'iconSize': [5,5]});\n",
        "      var div_marker_5_6 = L.marker([37.3907304, \n",
        "\t\t\t\t\t\t\t-122.087352],\n",
        "\t\t\t\t\t\t\t{'icon':div_marker_5_6_icon}\n",
        "\t\t\t\t\t\t\t);\n",
        "      div_marker_5_6.bindPopup(&amp;quot;{u'mProvider': u'fused', 'formatted_time': Timestamp('2015-08-22 15:57:45'), u'mHasAccuracy': True, u'mHasAltitude': False, u'write_ts': 1440284268256, u'mLat1': 0, u'mDistance': 0, u'mLat2': 0, u'platform': u'android', u'mAccuracy': 31.5, u'mLon1': 0, u'mLon2': 0, u'type': u'message', u'mLatitude': 37.3907304, u'mAltitude': 0, u'mExtras': nan, u'mSpeed': 0, u'key': u'background/location', u'mInitialBearing': 0, u'mHasSpeed': False, u'read_ts': 0, u'mElapsedRealtimeNanos': 179796222000000, u'mResults': [0, 0], u'mBearing': 0, u'mLongitude': -122.087352, u'mIsFromMockProvider': False, u'filter': u'time', u'mTime': 1440284265678, u'mHasBearing': False}&amp;quot;);\n",
        "      div_marker_5_6._popup.options.maxWidth = 300;\n",
        "      map.addLayer(div_marker_5_6)\n",
        "      \n",
        "      var div_marker_5_7_icon = L.divIcon({className: 'leaflet-div-icon', 'iconSize': [5,5]});\n",
        "      var div_marker_5_7 = L.marker([37.3909339, \n",
        "\t\t\t\t\t\t\t-122.0876035],\n",
        "\t\t\t\t\t\t\t{'icon':div_marker_5_7_icon}\n",
        "\t\t\t\t\t\t\t);\n",
        "      div_marker_5_7.bindPopup(&amp;quot;{u'mProvider': u'fused', 'formatted_time': Timestamp('2015-08-22 15:58:17'), u'mHasAccuracy': True, u'mHasAltitude': False, u'write_ts': 1440284298378, u'mLat1': 0, u'mDistance': 0, u'mLat2': 0, u'platform': u'android', u'mAccuracy': 51.0, u'mLon1': 0, u'mLon2': 0, u'type': u'message', u'mLatitude': 37.3909339, u'mAltitude': 0, u'mExtras': nan, u'mSpeed': 0, u'key': u'background/location', u'mInitialBearing': 0, u'mHasSpeed': False, u'read_ts': 0, u'mElapsedRealtimeNanos': 179828053000000, u'mResults': [0, 0], u'mBearing': 0, u'mLongitude': -122.0876035, u'mIsFromMockProvider': False, u'filter': u'time', u'mTime': 1440284297509, u'mHasBearing': False}&amp;quot;);\n",
        "      div_marker_5_7._popup.options.maxWidth = 300;\n",
        "      map.addLayer(div_marker_5_7)\n",
        "      \n",
        "\n",
        "      \n",
        "\n",
        "      \n",
        "      var latLngs = [ [37.3920968, -122.080139],  [37.3920848, -122.0800888],  [37.3921032, -122.0801165],  [37.3920901, -122.0800914],  [37.3920958, -122.0800906],  [37.3920809, -122.080085],  [37.3920924, -122.0801031],  [37.3920762, -122.0800538],  [37.3920845, -122.0801076],  [37.3918311, -122.0814687],  [37.3918311, -122.0814687],  [37.392047, -122.0800585],  [37.392047, -122.0800585],  [37.3920326, -122.0800782],  [37.392111, -122.0802162],  [37.3921353, -122.0802419], ];\n",
        "var line_1 = L.polyline(latLngs,{\n",
        "color: 'cyan',\n",
        "\n",
        "\n",
        "});\n",
        "      line_1.bindPopup(&amp;quot;Activities.STILL&amp;quot;);\n",
        "      line_1._popup.options.maxWidth = 300;\n",
        "      map.addLayer(line_1);\n",
        "      \n",
        "      var latLngs = [ [37.3918861, -122.0815073],  [37.3922036, -122.0827283],  [37.3926381, -122.0836701], ];\n",
        "var line_2 = L.polyline(latLngs,{\n",
        "color: 'blue',\n",
        "\n",
        "\n",
        "});\n",
        "      line_2.bindPopup(&amp;quot;Activities.ON_BICYCLE&amp;quot;);\n",
        "      line_2._popup.options.maxWidth = 300;\n",
        "      map.addLayer(line_2);\n",
        "      \n",
        "      var latLngs = [ [37.3921353, -122.0802419],  [37.3918861, -122.0815073], ];\n",
        "var line_3 = L.polyline(latLngs,{\n",
        "color: 'yellow',\n",
        "\n",
        "\n",
        "});\n",
        "      line_3.bindPopup(&amp;quot;Activities.STILL -&gt; Activities.ON_BICYCLE&amp;quot;);\n",
        "      line_3._popup.options.maxWidth = 300;\n",
        "      map.addLayer(line_3);\n",
        "      \n",
        "      var latLngs = [ [37.3930518, -122.0847274],  [37.3929512, -122.084914], ];\n",
        "var line_4 = L.polyline(latLngs,{\n",
        "color: 'chocolate',\n",
        "\n",
        "\n",
        "});\n",
        "      line_4.bindPopup(&amp;quot;Activities.ON_FOOT&amp;quot;);\n",
        "      line_4._popup.options.maxWidth = 300;\n",
        "      map.addLayer(line_4);\n",
        "      \n",
        "      var latLngs = [ [37.3926381, -122.0836701],  [37.3930518, -122.0847274], ];\n",
        "var line_5 = L.polyline(latLngs,{\n",
        "color: 'yellow',\n",
        "\n",
        "\n",
        "});\n",
        "      line_5.bindPopup(&amp;quot;Activities.ON_BICYCLE -&gt; Activities.ON_FOOT&amp;quot;);\n",
        "      line_5._popup.options.maxWidth = 300;\n",
        "      map.addLayer(line_5);\n",
        "      \n",
        "      var latLngs = [ [37.3929551, -122.084924], ];\n",
        "var line_6 = L.polyline(latLngs,{\n",
        "color: 'blue',\n",
        "\n",
        "\n",
        "});\n",
        "      line_6.bindPopup(&amp;quot;Activities.ON_BICYCLE&amp;quot;);\n",
        "      line_6._popup.options.maxWidth = 300;\n",
        "      map.addLayer(line_6);\n",
        "      \n",
        "      var latLngs = [ [37.3929512, -122.084914],  [37.3929551, -122.084924], ];\n",
        "var line_7 = L.polyline(latLngs,{\n",
        "color: 'yellow',\n",
        "\n",
        "\n",
        "});\n",
        "      line_7.bindPopup(&amp;quot;Activities.ON_FOOT -&gt; Activities.ON_BICYCLE&amp;quot;);\n",
        "      line_7._popup.options.maxWidth = 300;\n",
        "      map.addLayer(line_7);\n",
        "      \n",
        "      var latLngs = [ [37.3911957, -122.0860199],  [37.3908994, -122.0862347],  [37.3909757, -122.0861716],  [37.3908236, -122.0861702],  [37.3906969, -122.0862915],  [37.3905146, -122.0867063],  [37.3907304, -122.087352],  [37.3909339, -122.0876035], ];\n",
        "var line_8 = L.polyline(latLngs,{\n",
        "color: 'chocolate',\n",
        "\n",
        "\n",
        "});\n",
        "      line_8.bindPopup(&amp;quot;Activities.ON_FOOT&amp;quot;);\n",
        "      line_8._popup.options.maxWidth = 300;\n",
        "      map.addLayer(line_8);\n",
        "      \n",
        "      var latLngs = [ [37.3929551, -122.084924],  [37.3911957, -122.0860199], ];\n",
        "var line_9 = L.polyline(latLngs,{\n",
        "color: 'yellow',\n",
        "\n",
        "\n",
        "});\n",
        "      line_9.bindPopup(&amp;quot;Activities.ON_BICYCLE -&gt; Activities.ON_FOOT&amp;quot;);\n",
        "      line_9._popup.options.maxWidth = 300;\n",
        "      map.addLayer(line_9);\n",
        "      \n",
        "\n",
        "      \n",
        "\n",
        "      \n",
        "\n",
        "      \n",
        "\n",
        "\n",
        "\n",
        "   &lt;/script&gt;\n",
        "\n",
        "&lt;/body&gt;&quot; style=&quot;width: 100%; height: 510px; border: none&quot;&gt;&lt;/iframe&gt;</td></tr>\n",
        "<tr><td>&lt;iframe srcdoc=&quot;&lt;!DOCTYPE html&gt;\n",
        "&lt;head&gt;\n",
        "   &lt;meta http-equiv=&amp;quot;content-type&amp;quot; content=&amp;quot;text/html; charset=UTF-8&amp;quot; /&gt;\n",
        "   &lt;link rel=&amp;quot;stylesheet&amp;quot; href=&amp;quot;https://cdnjs.cloudflare.com/ajax/libs/leaflet/0.7.3/leaflet.css&amp;quot; /&gt;\n",
        "   &lt;script src=&amp;quot;https://cdnjs.cloudflare.com/ajax/libs/leaflet/0.7.3/leaflet.js&amp;quot;&gt;&lt;/script&gt;\n",
        "\n",
        "   &lt;script src=&amp;quot;https://ajax.googleapis.com/ajax/libs/jquery/1.11.1/jquery.min.js&amp;quot;&gt;&lt;/script&gt;\n",
        "\n",
        "   &lt;link rel=&amp;quot;stylesheet&amp;quot; href=&amp;quot;https://maxcdn.bootstrapcdn.com/bootstrap/3.2.0/css/bootstrap.min.css&amp;quot;&gt;\n",
        "   &lt;link rel=&amp;quot;stylesheet&amp;quot; href=&amp;quot;https://maxcdn.bootstrapcdn.com/bootstrap/3.2.0/css/bootstrap-theme.min.css&amp;quot;&gt;\n",
        "   &lt;script src=&amp;quot;https://maxcdn.bootstrapcdn.com/bootstrap/3.2.0/js/bootstrap.min.js&amp;quot;&gt;&lt;/script&gt;\n",
        "\n",
        "   &lt;link href=&amp;quot;https://maxcdn.bootstrapcdn.com/font-awesome/4.1.0/css/font-awesome.min.css&amp;quot; rel=&amp;quot;stylesheet&amp;quot;&gt;\n",
        "\n",
        "   &lt;link rel=&amp;quot;stylesheet&amp;quot; href=&amp;quot;https://rawgit.com/lvoogdt/Leaflet.awesome-markers/2.0/develop/dist/leaflet.awesome-markers.css&amp;quot;&gt;\n",
        "   &lt;script src=&amp;quot;https://rawgithub.com/lvoogdt/Leaflet.awesome-markers/2.0/develop/dist/leaflet.awesome-markers.js&amp;quot;&gt;&lt;/script&gt;\n",
        "\n",
        "\n",
        "   &lt;link rel=&amp;quot;stylesheet&amp;quot; href=&amp;quot;https://cdnjs.cloudflare.com/ajax/libs/leaflet.markercluster/0.4.0/MarkerCluster.Default.css&amp;quot;&gt;\n",
        "   &lt;link rel=&amp;quot;stylesheet&amp;quot; href=&amp;quot;https://cdnjs.cloudflare.com/ajax/libs/leaflet.markercluster/0.4.0/MarkerCluster.css&amp;quot;&gt;\n",
        "   &lt;script src=&amp;quot;https://cdnjs.cloudflare.com/ajax/libs/leaflet.markercluster/0.4.0/leaflet.markercluster-src.js&amp;quot;&gt;&lt;/script&gt;\n",
        "   &lt;script src=&amp;quot;https://cdnjs.cloudflare.com/ajax/libs/leaflet.markercluster/0.4.0/leaflet.markercluster.js&amp;quot;&gt;&lt;/script&gt;\n",
        "\n",
        "   &lt;link rel=&amp;quot;stylesheet&amp;quot; href=&amp;quot;https://birdage.github.io/Leaflet.awesome-markers/dist/leaflet.awesome.rotate.css&amp;quot;&gt;\n",
        "\n",
        "   \n",
        "   \n",
        "   \n",
        "   \n",
        "\n",
        "   &lt;style&gt;\n",
        "\n",
        "      html, body {\n",
        "        width: 100%;\n",
        "        height: 100%;\n",
        "        margin: 0;\n",
        "        padding: 0;\n",
        "      }\n",
        "\n",
        "      #map {\n",
        "        position:absolute;\n",
        "        top:0;\n",
        "        bottom:0;\n",
        "        right:0;\n",
        "        left:0;\n",
        "      }\n",
        "\n",
        "   &lt;/style&gt;\n",
        "&lt;/head&gt;\n",
        "\n",
        "&lt;body&gt;\n",
        "\n",
        "   &lt;div class=&amp;quot;folium-map&amp;quot; id=&amp;quot;folium_65a079a6006d48c7bd027b903b1060d4&amp;quot; style=&amp;quot;width: 100%; height: 100%&amp;quot;&gt;&lt;/div&gt;\n",
        "\n",
        "   &lt;script&gt;\n",
        "\n",
        "      \n",
        "\n",
        "      var base_tile = L.tileLayer('https://{s}.tile.openstreetmap.org/{z}/{x}/{y}.png', {\n",
        "          maxZoom: 18,\n",
        "          minZoom: 1,\n",
        "          attribution: 'Map data (c) &lt;a href=&amp;quot;http://openstreetmap.org&amp;quot;&gt;OpenStreetMap&lt;/a&gt; contributors'\n",
        "      });\n",
        "\n",
        "      var baseLayer = {\n",
        "        &amp;quot;Base Layer&amp;quot;: base_tile\n",
        "      };\n",
        "\n",
        "      /*\n",
        "      addition of the wms layers\n",
        "      */\n",
        "\n",
        "      \n",
        "\n",
        "      /*\n",
        "      addition of the tile layers\n",
        "      */\n",
        "      \n",
        "\n",
        "      /*\n",
        "      list of layers to be added\n",
        "      */\n",
        "      var layer_list = {\n",
        "      \n",
        "      };\n",
        "\n",
        "      /*\n",
        "      Bounding box.\n",
        "      */\n",
        "      var southWest = L.latLng(-90, -180),\n",
        "          northEast = L.latLng(90, 180),\n",
        "          bounds = L.latLngBounds(southWest, northEast);\n",
        "\n",
        "      /*\n",
        "      Creates the map and adds the selected layers\n",
        "      */\n",
        "      var map = L.map('folium_65a079a6006d48c7bd027b903b1060d4', {\n",
        "                                       center:[37.39114469, -122.08882966],\n",
        "                                       zoom: 10,\n",
        "                                       maxBounds: bounds,\n",
        "                                       layers: [base_tile]\n",
        "                                     });\n",
        "\n",
        "      L.control.layers(baseLayer, layer_list).addTo(map);\n",
        "\n",
        "      //cluster group\n",
        "      var clusteredmarkers = L.markerClusterGroup();\n",
        "      //section for adding clustered markers\n",
        "      \n",
        "      //add the clustered markers to the group anyway\n",
        "      map.addLayer(clusteredmarkers);\n",
        "\n",
        "      \n",
        "\n",
        "      \n",
        "      var div_marker_1_0_icon = L.divIcon({className: 'leaflet-div-icon', 'iconSize': [5,5]});\n",
        "      var div_marker_1_0 = L.marker([37.391308, \n",
        "\t\t\t\t\t\t\t-122.0884411],\n",
        "\t\t\t\t\t\t\t{'icon':div_marker_1_0_icon}\n",
        "\t\t\t\t\t\t\t);\n",
        "      div_marker_1_0.bindPopup(&amp;quot;{u'mProvider': u'fused', 'formatted_time': Timestamp('2015-08-22 15:59:05'), u'mHasAccuracy': True, u'mHasAltitude': False, u'write_ts': 1440284358494, u'mLat1': 0, u'mDistance': 0, u'mLat2': 0, u'platform': u'android', u'mAccuracy': 36.967, u'mLon1': 0, u'mLon2': 0, u'type': u'message', u'mLatitude': 37.391308, u'mAltitude': 0, u'mSpeed': 0, u'key': u'background/location', u'mInitialBearing': 0, u'mHasSpeed': False, u'read_ts': 0, u'mElapsedRealtimeNanos': 179875784000000, u'mResults': [0, 0], u'mBearing': 0, u'mLongitude': -122.0884411, u'mIsFromMockProvider': False, u'filter': u'time', u'mTime': 1440284345240, u'mHasBearing': False}&amp;quot;);\n",
        "      div_marker_1_0._popup.options.maxWidth = 300;\n",
        "      map.addLayer(div_marker_1_0)\n",
        "      \n",
        "      var div_marker_1_1_icon = L.divIcon({className: 'leaflet-div-icon', 'iconSize': [5,5]});\n",
        "      var div_marker_1_1 = L.marker([37.3913698, \n",
        "\t\t\t\t\t\t\t-122.0885732],\n",
        "\t\t\t\t\t\t\t{'icon':div_marker_1_1_icon}\n",
        "\t\t\t\t\t\t\t);\n",
        "      div_marker_1_1.bindPopup(&amp;quot;{u'mProvider': u'fused', 'formatted_time': Timestamp('2015-08-22 15:59:37'), u'mHasAccuracy': True, u'mHasAltitude': False, u'write_ts': 1440284388486, u'mLat1': 0, u'mDistance': 0, u'mLat2': 0, u'platform': u'android', u'mAccuracy': 33.956, u'mLon1': 0, u'mLon2': 0, u'type': u'message', u'mLatitude': 37.3913698, u'mAltitude': 0, u'mSpeed': 0, u'key': u'background/location', u'mInitialBearing': 0, u'mHasSpeed': False, u'read_ts': 0, u'mElapsedRealtimeNanos': 179907599000000, u'mResults': [0, 0], u'mBearing': 0, u'mLongitude': -122.0885732, u'mIsFromMockProvider': False, u'filter': u'time', u'mTime': 1440284377055, u'mHasBearing': False}&amp;quot;);\n",
        "      div_marker_1_1._popup.options.maxWidth = 300;\n",
        "      map.addLayer(div_marker_1_1)\n",
        "      \n",
        "      var div_marker_1_2_icon = L.divIcon({className: 'leaflet-div-icon', 'iconSize': [5,5]});\n",
        "      var div_marker_1_2 = L.marker([37.3910974, \n",
        "\t\t\t\t\t\t\t-122.08889],\n",
        "\t\t\t\t\t\t\t{'icon':div_marker_1_2_icon}\n",
        "\t\t\t\t\t\t\t);\n",
        "      div_marker_1_2.bindPopup(&amp;quot;{u'mProvider': u'fused', 'formatted_time': Timestamp('2015-08-22 16:03:33'), u'mHasAccuracy': True, u'mHasAltitude': False, u'write_ts': 1440284628630, u'mLat1': 0, u'mDistance': 0, u'mLat2': 0, u'platform': u'android', u'mAccuracy': 33.0, u'mLon1': 0, u'mLon2': 0, u'type': u'message', u'mLatitude': 37.3910974, u'mAltitude': 0, u'mSpeed': 0, u'key': u'background/location', u'mInitialBearing': 0, u'mHasSpeed': False, u'read_ts': 0, u'mElapsedRealtimeNanos': 180143906000000, u'mResults': [0, 0], u'mBearing': 0, u'mLongitude': -122.08889, u'mIsFromMockProvider': False, u'filter': u'time', u'mTime': 1440284613362, u'mHasBearing': False}&amp;quot;);\n",
        "      div_marker_1_2._popup.options.maxWidth = 300;\n",
        "      map.addLayer(div_marker_1_2)\n",
        "      \n",
        "\n",
        "      \n",
        "\n",
        "      \n",
        "      var latLngs = [ [37.391308, -122.0884411],  [37.3913698, -122.0885732],  [37.3910974, -122.08889], ];\n",
        "var line_1 = L.polyline(latLngs,{\n",
        "color: 'chocolate',\n",
        "\n",
        "\n",
        "});\n",
        "      line_1.bindPopup(&amp;quot;Activities.ON_FOOT&amp;quot;);\n",
        "      line_1._popup.options.maxWidth = 300;\n",
        "      map.addLayer(line_1);\n",
        "      \n",
        "\n",
        "      \n",
        "\n",
        "      \n",
        "\n",
        "      \n",
        "\n",
        "\n",
        "\n",
        "   &lt;/script&gt;\n",
        "\n",
        "&lt;/body&gt;&quot; style=&quot;width: 100%; height: 510px; border: none&quot;&gt;&lt;/iframe&gt;</td></tr>\n",
        "<tr><td>&lt;iframe srcdoc=&quot;&lt;!DOCTYPE html&gt;\n",
        "&lt;head&gt;\n",
        "   &lt;meta http-equiv=&amp;quot;content-type&amp;quot; content=&amp;quot;text/html; charset=UTF-8&amp;quot; /&gt;\n",
        "   &lt;link rel=&amp;quot;stylesheet&amp;quot; href=&amp;quot;https://cdnjs.cloudflare.com/ajax/libs/leaflet/0.7.3/leaflet.css&amp;quot; /&gt;\n",
        "   &lt;script src=&amp;quot;https://cdnjs.cloudflare.com/ajax/libs/leaflet/0.7.3/leaflet.js&amp;quot;&gt;&lt;/script&gt;\n",
        "\n",
        "   &lt;script src=&amp;quot;https://ajax.googleapis.com/ajax/libs/jquery/1.11.1/jquery.min.js&amp;quot;&gt;&lt;/script&gt;\n",
        "\n",
        "   &lt;link rel=&amp;quot;stylesheet&amp;quot; href=&amp;quot;https://maxcdn.bootstrapcdn.com/bootstrap/3.2.0/css/bootstrap.min.css&amp;quot;&gt;\n",
        "   &lt;link rel=&amp;quot;stylesheet&amp;quot; href=&amp;quot;https://maxcdn.bootstrapcdn.com/bootstrap/3.2.0/css/bootstrap-theme.min.css&amp;quot;&gt;\n",
        "   &lt;script src=&amp;quot;https://maxcdn.bootstrapcdn.com/bootstrap/3.2.0/js/bootstrap.min.js&amp;quot;&gt;&lt;/script&gt;\n",
        "\n",
        "   &lt;link href=&amp;quot;https://maxcdn.bootstrapcdn.com/font-awesome/4.1.0/css/font-awesome.min.css&amp;quot; rel=&amp;quot;stylesheet&amp;quot;&gt;\n",
        "\n",
        "   &lt;link rel=&amp;quot;stylesheet&amp;quot; href=&amp;quot;https://rawgit.com/lvoogdt/Leaflet.awesome-markers/2.0/develop/dist/leaflet.awesome-markers.css&amp;quot;&gt;\n",
        "   &lt;script src=&amp;quot;https://rawgithub.com/lvoogdt/Leaflet.awesome-markers/2.0/develop/dist/leaflet.awesome-markers.js&amp;quot;&gt;&lt;/script&gt;\n",
        "\n",
        "\n",
        "   &lt;link rel=&amp;quot;stylesheet&amp;quot; href=&amp;quot;https://cdnjs.cloudflare.com/ajax/libs/leaflet.markercluster/0.4.0/MarkerCluster.Default.css&amp;quot;&gt;\n",
        "   &lt;link rel=&amp;quot;stylesheet&amp;quot; href=&amp;quot;https://cdnjs.cloudflare.com/ajax/libs/leaflet.markercluster/0.4.0/MarkerCluster.css&amp;quot;&gt;\n",
        "   &lt;script src=&amp;quot;https://cdnjs.cloudflare.com/ajax/libs/leaflet.markercluster/0.4.0/leaflet.markercluster-src.js&amp;quot;&gt;&lt;/script&gt;\n",
        "   &lt;script src=&amp;quot;https://cdnjs.cloudflare.com/ajax/libs/leaflet.markercluster/0.4.0/leaflet.markercluster.js&amp;quot;&gt;&lt;/script&gt;\n",
        "\n",
        "   &lt;link rel=&amp;quot;stylesheet&amp;quot; href=&amp;quot;https://birdage.github.io/Leaflet.awesome-markers/dist/leaflet.awesome.rotate.css&amp;quot;&gt;\n",
        "\n",
        "   \n",
        "   \n",
        "   \n",
        "   \n",
        "\n",
        "   &lt;style&gt;\n",
        "\n",
        "      html, body {\n",
        "        width: 100%;\n",
        "        height: 100%;\n",
        "        margin: 0;\n",
        "        padding: 0;\n",
        "      }\n",
        "\n",
        "      #map {\n",
        "        position:absolute;\n",
        "        top:0;\n",
        "        bottom:0;\n",
        "        right:0;\n",
        "        left:0;\n",
        "      }\n",
        "\n",
        "   &lt;/style&gt;\n",
        "&lt;/head&gt;\n",
        "\n",
        "&lt;body&gt;\n",
        "\n",
        "   &lt;div class=&amp;quot;folium-map&amp;quot; id=&amp;quot;folium_8ee6306f924d4db18bd027ee6590055c&amp;quot; style=&amp;quot;width: 100%; height: 100%&amp;quot;&gt;&lt;/div&gt;\n",
        "\n",
        "   &lt;script&gt;\n",
        "\n",
        "      \n",
        "\n",
        "      var base_tile = L.tileLayer('https://{s}.tile.openstreetmap.org/{z}/{x}/{y}.png', {\n",
        "          maxZoom: 18,\n",
        "          minZoom: 1,\n",
        "          attribution: 'Map data (c) &lt;a href=&amp;quot;http://openstreetmap.org&amp;quot;&gt;OpenStreetMap&lt;/a&gt; contributors'\n",
        "      });\n",
        "\n",
        "      var baseLayer = {\n",
        "        &amp;quot;Base Layer&amp;quot;: base_tile\n",
        "      };\n",
        "\n",
        "      /*\n",
        "      addition of the wms layers\n",
        "      */\n",
        "\n",
        "      \n",
        "\n",
        "      /*\n",
        "      addition of the tile layers\n",
        "      */\n",
        "      \n",
        "\n",
        "      /*\n",
        "      list of layers to be added\n",
        "      */\n",
        "      var layer_list = {\n",
        "      \n",
        "      };\n",
        "\n",
        "      /*\n",
        "      Bounding box.\n",
        "      */\n",
        "      var southWest = L.latLng(-90, -180),\n",
        "          northEast = L.latLng(90, 180),\n",
        "          bounds = L.latLngBounds(southWest, northEast);\n",
        "\n",
        "      /*\n",
        "      Creates the map and adds the selected layers\n",
        "      */\n",
        "      var map = L.map('folium_8ee6306f924d4db18bd027ee6590055c', {\n",
        "                                       center:[37.3910645556, -122.088904289],\n",
        "                                       zoom: 10,\n",
        "                                       maxBounds: bounds,\n",
        "                                       layers: [base_tile]\n",
        "                                     });\n",
        "\n",
        "      L.control.layers(baseLayer, layer_list).addTo(map);\n",
        "\n",
        "      //cluster group\n",
        "      var clusteredmarkers = L.markerClusterGroup();\n",
        "      //section for adding clustered markers\n",
        "      \n",
        "      //add the clustered markers to the group anyway\n",
        "      map.addLayer(clusteredmarkers);\n",
        "\n",
        "      \n",
        "\n",
        "      \n",
        "      var div_marker_1_0_icon = L.divIcon({className: 'leaflet-div-icon', 'iconSize': [5,5]});\n",
        "      var div_marker_1_0 = L.marker([37.3910936, \n",
        "\t\t\t\t\t\t\t-122.0888887],\n",
        "\t\t\t\t\t\t\t{'icon':div_marker_1_0_icon}\n",
        "\t\t\t\t\t\t\t);\n",
        "      div_marker_1_0.bindPopup(&amp;quot;{u'mProvider': u'fused', 'formatted_time': Timestamp('2015-08-22 16:04:36'), u'mHasAccuracy': True, u'mHasAltitude': False, u'write_ts': 1440284688689, u'mLat1': 0, u'mDistance': 0, u'mLat2': 0, u'platform': u'android', u'mAccuracy': 30.0, u'mLon1': 0, u'mLon2': 0, u'type': u'message', u'mLatitude': 37.3910936, u'mAltitude': 0, u'mSpeed': 0, u'key': u'background/location', u'mInitialBearing': 0, u'mHasSpeed': False, u'read_ts': 0, u'mElapsedRealtimeNanos': 180207516000000, u'mResults': [0, 0], u'mBearing': 0, u'mLongitude': -122.0888887, u'mIsFromMockProvider': False, u'filter': u'time', u'mTime': 1440284676972, u'mHasBearing': False}&amp;quot;);\n",
        "      div_marker_1_0._popup.options.maxWidth = 300;\n",
        "      map.addLayer(div_marker_1_0)\n",
        "      \n",
        "      var div_marker_1_1_icon = L.divIcon({className: 'leaflet-div-icon', 'iconSize': [5,5]});\n",
        "      var div_marker_1_1 = L.marker([37.3910487, \n",
        "\t\t\t\t\t\t\t-122.0888831],\n",
        "\t\t\t\t\t\t\t{'icon':div_marker_1_1_icon}\n",
        "\t\t\t\t\t\t\t);\n",
        "      div_marker_1_1.bindPopup(&amp;quot;{u'mProvider': u'fused', 'formatted_time': Timestamp('2015-08-22 16:05:24'), u'mHasAccuracy': True, u'mHasAltitude': False, u'write_ts': 1440284726707, u'mLat1': 0, u'mDistance': 0, u'mLat2': 0, u'platform': u'android', u'mAccuracy': 39.0, u'mLon1': 0, u'mLon2': 0, u'type': u'message', u'mLatitude': 37.3910487, u'mAltitude': 0, u'mSpeed': 0, u'key': u'background/location', u'mInitialBearing': 0, u'mHasSpeed': False, u'read_ts': 0, u'mElapsedRealtimeNanos': 180255232000000, u'mResults': [0, 0], u'mBearing': 0, u'mLongitude': -122.0888831, u'mIsFromMockProvider': False, u'filter': u'time', u'mTime': 1440284724689, u'mHasBearing': False}&amp;quot;);\n",
        "      div_marker_1_1._popup.options.maxWidth = 300;\n",
        "      map.addLayer(div_marker_1_1)\n",
        "      \n",
        "      var div_marker_1_2_icon = L.divIcon({className: 'leaflet-div-icon', 'iconSize': [5,5]});\n",
        "      var div_marker_1_2 = L.marker([37.3910782, \n",
        "\t\t\t\t\t\t\t-122.0889158],\n",
        "\t\t\t\t\t\t\t{'icon':div_marker_1_2_icon}\n",
        "\t\t\t\t\t\t\t);\n",
        "      div_marker_1_2.bindPopup(&amp;quot;{u'mProvider': u'fused', 'formatted_time': Timestamp('2015-08-22 16:05:40'), u'mHasAccuracy': True, u'mHasAltitude': False, u'write_ts': 1440284748737, u'mLat1': 0, u'mDistance': 0, u'mLat2': 0, u'platform': u'android', u'mAccuracy': 36.0, u'mLon1': 0, u'mLon2': 0, u'type': u'message', u'mLatitude': 37.3910782, u'mAltitude': 0, u'mSpeed': 0, u'key': u'background/location', u'mInitialBearing': 0, u'mHasSpeed': False, u'read_ts': 0, u'mElapsedRealtimeNanos': 180271135000000, u'mResults': [0, 0], u'mBearing': 0, u'mLongitude': -122.0889158, u'mIsFromMockProvider': False, u'filter': u'time', u'mTime': 1440284740591, u'mHasBearing': False}&amp;quot;);\n",
        "      div_marker_1_2._popup.options.maxWidth = 300;\n",
        "      map.addLayer(div_marker_1_2)\n",
        "      \n",
        "      var div_marker_1_3_icon = L.divIcon({className: 'leaflet-div-icon', 'iconSize': [5,5]});\n",
        "      var div_marker_1_3 = L.marker([37.3910437, \n",
        "\t\t\t\t\t\t\t-122.0888971],\n",
        "\t\t\t\t\t\t\t{'icon':div_marker_1_3_icon}\n",
        "\t\t\t\t\t\t\t);\n",
        "      div_marker_1_3.bindPopup(&amp;quot;{u'mProvider': u'fused', 'formatted_time': Timestamp('2015-08-22 16:06:12'), u'mHasAccuracy': True, u'mHasAltitude': False, u'write_ts': 1440284778831, u'mLat1': 0, u'mDistance': 0, u'mLat2': 0, u'platform': u'android', u'mAccuracy': 36.0, u'mLon1': 0, u'mLon2': 0, u'type': u'message', u'mLatitude': 37.3910437, u'mAltitude': 0, u'mSpeed': 0, u'key': u'background/location', u'mInitialBearing': 0, u'mHasSpeed': False, u'read_ts': 0, u'mElapsedRealtimeNanos': 180302928000000, u'mResults': [0, 0], u'mBearing': 0, u'mLongitude': -122.0888971, u'mIsFromMockProvider': False, u'filter': u'time', u'mTime': 1440284772384, u'mHasBearing': False}&amp;quot;);\n",
        "      div_marker_1_3._popup.options.maxWidth = 300;\n",
        "      map.addLayer(div_marker_1_3)\n",
        "      \n",
        "      var div_marker_1_4_icon = L.divIcon({className: 'leaflet-div-icon', 'iconSize': [5,5]});\n",
        "      var div_marker_1_4 = L.marker([37.3910579, \n",
        "\t\t\t\t\t\t\t-122.0889334],\n",
        "\t\t\t\t\t\t\t{'icon':div_marker_1_4_icon}\n",
        "\t\t\t\t\t\t\t);\n",
        "      div_marker_1_4.bindPopup(&amp;quot;{u'mProvider': u'fused', 'formatted_time': Timestamp('2015-08-22 16:06:42'), u'mHasAccuracy': True, u'mHasAltitude': False, u'write_ts': 1440284808930, u'mLat1': 0, u'mDistance': 0, u'mLat2': 0, u'platform': u'android', u'mAccuracy': 36.0, u'mLon1': 0, u'mLon2': 0, u'type': u'message', u'mLatitude': 37.3910579, u'mAltitude': 0, u'mSpeed': 0, u'key': u'background/location', u'mInitialBearing': 0, u'mHasSpeed': False, u'read_ts': 0, u'mElapsedRealtimeNanos': 180332585000000, u'mResults': [0, 0], u'mBearing': 0, u'mLongitude': -122.0889334, u'mIsFromMockProvider': False, u'filter': u'time', u'mTime': 1440284802041, u'mHasBearing': False}&amp;quot;);\n",
        "      div_marker_1_4._popup.options.maxWidth = 300;\n",
        "      map.addLayer(div_marker_1_4)\n",
        "      \n",
        "      var div_marker_1_5_icon = L.divIcon({className: 'leaflet-div-icon', 'iconSize': [5,5]});\n",
        "      var div_marker_1_5 = L.marker([37.3910419, \n",
        "\t\t\t\t\t\t\t-122.0889032],\n",
        "\t\t\t\t\t\t\t{'icon':div_marker_1_5_icon}\n",
        "\t\t\t\t\t\t\t);\n",
        "      div_marker_1_5.bindPopup(&amp;quot;{u'mProvider': u'fused', 'formatted_time': Timestamp('2015-08-22 16:07:13'), u'mHasAccuracy': True, u'mHasAltitude': False, u'write_ts': 1440284839299, u'mLat1': 0, u'mDistance': 0, u'mLat2': 0, u'platform': u'android', u'mAccuracy': 31.5, u'mLon1': 0, u'mLon2': 0, u'type': u'message', u'mLatitude': 37.3910419, u'mAltitude': 0, u'mSpeed': 0, u'key': u'background/location', u'mInitialBearing': 0, u'mHasSpeed': False, u'read_ts': 0, u'mElapsedRealtimeNanos': 180364381000000, u'mResults': [0, 0], u'mBearing': 0, u'mLongitude': -122.0889032, u'mIsFromMockProvider': False, u'filter': u'time', u'mTime': 1440284833838, u'mHasBearing': False}&amp;quot;);\n",
        "      div_marker_1_5._popup.options.maxWidth = 300;\n",
        "      map.addLayer(div_marker_1_5)\n",
        "      \n",
        "      var div_marker_1_6_icon = L.divIcon({className: 'leaflet-div-icon', 'iconSize': [5,5]});\n",
        "      var div_marker_1_6 = L.marker([37.3910579, \n",
        "\t\t\t\t\t\t\t-122.0889334],\n",
        "\t\t\t\t\t\t\t{'icon':div_marker_1_6_icon}\n",
        "\t\t\t\t\t\t\t);\n",
        "      div_marker_1_6.bindPopup(&amp;quot;{u'mProvider': u'fused', 'formatted_time': Timestamp('2015-08-22 16:07:45'), u'mHasAccuracy': True, u'mHasAltitude': False, u'write_ts': 1440284868974, u'mLat1': 0, u'mDistance': 0, u'mLat2': 0, u'platform': u'android', u'mAccuracy': 36.0, u'mLon1': 0, u'mLon2': 0, u'type': u'message', u'mLatitude': 37.3910579, u'mAltitude': 0, u'mSpeed': 0, u'key': u'background/location', u'mInitialBearing': 0, u'mHasSpeed': False, u'read_ts': 0, u'mElapsedRealtimeNanos': 180396196000000, u'mResults': [0, 0], u'mBearing': 0, u'mLongitude': -122.0889334, u'mIsFromMockProvider': False, u'filter': u'time', u'mTime': 1440284865652, u'mHasBearing': False}&amp;quot;);\n",
        "      div_marker_1_6._popup.options.maxWidth = 300;\n",
        "      map.addLayer(div_marker_1_6)\n",
        "      \n",
        "      var div_marker_1_7_icon = L.divIcon({className: 'leaflet-div-icon', 'iconSize': [5,5]});\n",
        "      var div_marker_1_7 = L.marker([37.3911082, \n",
        "\t\t\t\t\t\t\t-122.0889091],\n",
        "\t\t\t\t\t\t\t{'icon':div_marker_1_7_icon}\n",
        "\t\t\t\t\t\t\t);\n",
        "      div_marker_1_7.bindPopup(&amp;quot;{u'mProvider': u'fused', 'formatted_time': Timestamp('2015-08-22 16:08:17'), u'mHasAccuracy': True, u'mHasAltitude': False, u'write_ts': 1440284898999, u'mLat1': 0, u'mDistance': 0, u'mLat2': 0, u'platform': u'android', u'mAccuracy': 72.0, u'mLon1': 0, u'mLon2': 0, u'type': u'message', u'mLatitude': 37.3911082, u'mAltitude': 0, u'mSpeed': 0, u'key': u'background/location', u'mInitialBearing': 0, u'mHasSpeed': False, u'read_ts': 0, u'mElapsedRealtimeNanos': 180427991000000, u'mResults': [0, 0], u'mBearing': 0, u'mLongitude': -122.0889091, u'mIsFromMockProvider': False, u'filter': u'time', u'mTime': 1440284897447, u'mHasBearing': False}&amp;quot;);\n",
        "      div_marker_1_7._popup.options.maxWidth = 300;\n",
        "      map.addLayer(div_marker_1_7)\n",
        "      \n",
        "      var div_marker_1_8_icon = L.divIcon({className: 'leaflet-div-icon', 'iconSize': [5,5]});\n",
        "      var div_marker_1_8 = L.marker([37.3910509, \n",
        "\t\t\t\t\t\t\t-122.0888748],\n",
        "\t\t\t\t\t\t\t{'icon':div_marker_1_8_icon}\n",
        "\t\t\t\t\t\t\t);\n",
        "      div_marker_1_8.bindPopup(&amp;quot;{u'mProvider': u'fused', 'formatted_time': Timestamp('2015-08-22 16:08:49'), u'mHasAccuracy': True, u'mHasAltitude': False, u'write_ts': 1440284934751, u'mLat1': 0, u'mDistance': 0, u'mLat2': 0, u'platform': u'android', u'mAccuracy': 36.0, u'mLon1': 0, u'mLon2': 0, u'type': u'message', u'mLatitude': 37.3910509, u'mAltitude': 0, u'mSpeed': 0, u'key': u'background/location', u'mInitialBearing': 0, u'mHasSpeed': False, u'read_ts': 0, u'mElapsedRealtimeNanos': 180459810000000, u'mResults': [0, 0], u'mBearing': 0, u'mLongitude': -122.0888748, u'mIsFromMockProvider': False, u'filter': u'time', u'mTime': 1440284929267, u'mHasBearing': False}&amp;quot;);\n",
        "      div_marker_1_8._popup.options.maxWidth = 300;\n",
        "      map.addLayer(div_marker_1_8)\n",
        "      \n",
        "\n",
        "      \n",
        "\n",
        "      \n",
        "      var latLngs = [ [37.3910936, -122.0888887],  [37.3910487, -122.0888831],  [37.3910782, -122.0889158],  [37.3910437, -122.0888971],  [37.3910579, -122.0889334],  [37.3910419, -122.0889032],  [37.3910579, -122.0889334],  [37.3911082, -122.0889091],  [37.3910509, -122.0888748], ];\n",
        "var line_1 = L.polyline(latLngs,{\n",
        "color: 'cyan',\n",
        "\n",
        "\n",
        "});\n",
        "      line_1.bindPopup(&amp;quot;Activities.STILL&amp;quot;);\n",
        "      line_1._popup.options.maxWidth = 300;\n",
        "      map.addLayer(line_1);\n",
        "      \n",
        "\n",
        "      \n",
        "\n",
        "      \n",
        "\n",
        "      \n",
        "\n",
        "\n",
        "\n",
        "   &lt;/script&gt;\n",
        "\n",
        "&lt;/body&gt;&quot; style=&quot;width: 100%; height: 510px; border: none&quot;&gt;&lt;/iframe&gt;</td></tr>\n",
        "<tr><td>&lt;iframe srcdoc=&quot;&lt;!DOCTYPE html&gt;\n",
        "&lt;head&gt;\n",
        "   &lt;meta http-equiv=&amp;quot;content-type&amp;quot; content=&amp;quot;text/html; charset=UTF-8&amp;quot; /&gt;\n",
        "   &lt;link rel=&amp;quot;stylesheet&amp;quot; href=&amp;quot;https://cdnjs.cloudflare.com/ajax/libs/leaflet/0.7.3/leaflet.css&amp;quot; /&gt;\n",
        "   &lt;script src=&amp;quot;https://cdnjs.cloudflare.com/ajax/libs/leaflet/0.7.3/leaflet.js&amp;quot;&gt;&lt;/script&gt;\n",
        "\n",
        "   &lt;script src=&amp;quot;https://ajax.googleapis.com/ajax/libs/jquery/1.11.1/jquery.min.js&amp;quot;&gt;&lt;/script&gt;\n",
        "\n",
        "   &lt;link rel=&amp;quot;stylesheet&amp;quot; href=&amp;quot;https://maxcdn.bootstrapcdn.com/bootstrap/3.2.0/css/bootstrap.min.css&amp;quot;&gt;\n",
        "   &lt;link rel=&amp;quot;stylesheet&amp;quot; href=&amp;quot;https://maxcdn.bootstrapcdn.com/bootstrap/3.2.0/css/bootstrap-theme.min.css&amp;quot;&gt;\n",
        "   &lt;script src=&amp;quot;https://maxcdn.bootstrapcdn.com/bootstrap/3.2.0/js/bootstrap.min.js&amp;quot;&gt;&lt;/script&gt;\n",
        "\n",
        "   &lt;link href=&amp;quot;https://maxcdn.bootstrapcdn.com/font-awesome/4.1.0/css/font-awesome.min.css&amp;quot; rel=&amp;quot;stylesheet&amp;quot;&gt;\n",
        "\n",
        "   &lt;link rel=&amp;quot;stylesheet&amp;quot; href=&amp;quot;https://rawgit.com/lvoogdt/Leaflet.awesome-markers/2.0/develop/dist/leaflet.awesome-markers.css&amp;quot;&gt;\n",
        "   &lt;script src=&amp;quot;https://rawgithub.com/lvoogdt/Leaflet.awesome-markers/2.0/develop/dist/leaflet.awesome-markers.js&amp;quot;&gt;&lt;/script&gt;\n",
        "\n",
        "\n",
        "   &lt;link rel=&amp;quot;stylesheet&amp;quot; href=&amp;quot;https://cdnjs.cloudflare.com/ajax/libs/leaflet.markercluster/0.4.0/MarkerCluster.Default.css&amp;quot;&gt;\n",
        "   &lt;link rel=&amp;quot;stylesheet&amp;quot; href=&amp;quot;https://cdnjs.cloudflare.com/ajax/libs/leaflet.markercluster/0.4.0/MarkerCluster.css&amp;quot;&gt;\n",
        "   &lt;script src=&amp;quot;https://cdnjs.cloudflare.com/ajax/libs/leaflet.markercluster/0.4.0/leaflet.markercluster-src.js&amp;quot;&gt;&lt;/script&gt;\n",
        "   &lt;script src=&amp;quot;https://cdnjs.cloudflare.com/ajax/libs/leaflet.markercluster/0.4.0/leaflet.markercluster.js&amp;quot;&gt;&lt;/script&gt;\n",
        "\n",
        "   &lt;link rel=&amp;quot;stylesheet&amp;quot; href=&amp;quot;https://birdage.github.io/Leaflet.awesome-markers/dist/leaflet.awesome.rotate.css&amp;quot;&gt;\n",
        "\n",
        "   \n",
        "   \n",
        "   \n",
        "   \n",
        "\n",
        "   &lt;style&gt;\n",
        "\n",
        "      html, body {\n",
        "        width: 100%;\n",
        "        height: 100%;\n",
        "        margin: 0;\n",
        "        padding: 0;\n",
        "      }\n",
        "\n",
        "      #map {\n",
        "        position:absolute;\n",
        "        top:0;\n",
        "        bottom:0;\n",
        "        right:0;\n",
        "        left:0;\n",
        "      }\n",
        "\n",
        "   &lt;/style&gt;\n",
        "&lt;/head&gt;\n",
        "\n",
        "&lt;body&gt;\n",
        "\n",
        "   &lt;div class=&amp;quot;folium-map&amp;quot; id=&amp;quot;folium_be980370fe224fe8a501a54fef81f7df&amp;quot; style=&amp;quot;width: 100%; height: 100%&amp;quot;&gt;&lt;/div&gt;\n",
        "\n",
        "   &lt;script&gt;\n",
        "\n",
        "      \n",
        "\n",
        "      var base_tile = L.tileLayer('https://{s}.tile.openstreetmap.org/{z}/{x}/{y}.png', {\n",
        "          maxZoom: 18,\n",
        "          minZoom: 1,\n",
        "          attribution: 'Map data (c) &lt;a href=&amp;quot;http://openstreetmap.org&amp;quot;&gt;OpenStreetMap&lt;/a&gt; contributors'\n",
        "      });\n",
        "\n",
        "      var baseLayer = {\n",
        "        &amp;quot;Base Layer&amp;quot;: base_tile\n",
        "      };\n",
        "\n",
        "      /*\n",
        "      addition of the wms layers\n",
        "      */\n",
        "\n",
        "      \n",
        "\n",
        "      /*\n",
        "      addition of the tile layers\n",
        "      */\n",
        "      \n",
        "\n",
        "      /*\n",
        "      list of layers to be added\n",
        "      */\n",
        "      var layer_list = {\n",
        "      \n",
        "      };\n",
        "\n",
        "      /*\n",
        "      Bounding box.\n",
        "      */\n",
        "      var southWest = L.latLng(-90, -180),\n",
        "          northEast = L.latLng(90, 180),\n",
        "          bounds = L.latLngBounds(southWest, northEast);\n",
        "\n",
        "      /*\n",
        "      Creates the map and adds the selected layers\n",
        "      */\n",
        "      var map = L.map('folium_be980370fe224fe8a501a54fef81f7df', {\n",
        "                                       center:[37.39103105, -122.08745365],\n",
        "                                       zoom: 10,\n",
        "                                       maxBounds: bounds,\n",
        "                                       layers: [base_tile]\n",
        "                                     });\n",
        "\n",
        "      L.control.layers(baseLayer, layer_list).addTo(map);\n",
        "\n",
        "      //cluster group\n",
        "      var clusteredmarkers = L.markerClusterGroup();\n",
        "      //section for adding clustered markers\n",
        "      \n",
        "      //add the clustered markers to the group anyway\n",
        "      map.addLayer(clusteredmarkers);\n",
        "\n",
        "      \n",
        "\n",
        "      \n",
        "      var div_marker_1_0_icon = L.divIcon({className: 'leaflet-div-icon', 'iconSize': [5,5]});\n",
        "      var div_marker_1_0 = L.marker([37.3910305, \n",
        "\t\t\t\t\t\t\t-122.0876453],\n",
        "\t\t\t\t\t\t\t{'icon':div_marker_1_0_icon}\n",
        "\t\t\t\t\t\t\t);\n",
        "      div_marker_1_0.bindPopup(&amp;quot;{u'mProvider': u'fused', 'formatted_time': Timestamp('2015-08-22 16:39:55'), u'mHasAccuracy': True, u'mHasAltitude': True, u'write_ts': 1440286796011, u'mLat1': 0, u'mDistance': 0, u'mLat2': 0, u'platform': u'android', u'mAccuracy': 15, u'mLon1': 0, u'mLon2': 0, u'type': u'message', u'mLatitude': 37.3910305, u'mAltitude': 0.399993896484375, u'mSpeed': 0.0, u'key': u'background/location', u'mInitialBearing': 0, u'mHasSpeed': True, u'read_ts': 0, u'mElapsedRealtimeNanos': 182326522358536, u'mResults': [0, 0], u'mBearing': 107, u'mLongitude': -122.0876453, u'mIsFromMockProvider': False, u'filter': u'time', u'mTime': 1440286795745, u'mHasBearing': True}&amp;quot;);\n",
        "      div_marker_1_0._popup.options.maxWidth = 300;\n",
        "      map.addLayer(div_marker_1_0)\n",
        "      \n",
        "      var div_marker_1_1_icon = L.divIcon({className: 'leaflet-div-icon', 'iconSize': [5,5]});\n",
        "      var div_marker_1_1 = L.marker([37.3910055, \n",
        "\t\t\t\t\t\t\t-122.08758],\n",
        "\t\t\t\t\t\t\t{'icon':div_marker_1_1_icon}\n",
        "\t\t\t\t\t\t\t);\n",
        "      div_marker_1_1.bindPopup(&amp;quot;{u'mProvider': u'fused', 'formatted_time': Timestamp('2015-08-22 16:40:01'), u'mHasAccuracy': True, u'mHasAltitude': True, u'write_ts': 1440286801961, u'mLat1': 0, u'mDistance': 0, u'mLat2': 0, u'platform': u'android', u'mAccuracy': 15, u'mLon1': 0, u'mLon2': 0, u'type': u'message', u'mLatitude': 37.3910055, u'mAltitude': -1.899993896484375, u'mSpeed': 0.5004, u'key': u'background/location', u'mInitialBearing': 0, u'mHasSpeed': True, u'read_ts': 0, u'mElapsedRealtimeNanos': 182332473805069, u'mResults': [0, 0], u'mBearing': 127, u'mLongitude': -122.08758, u'mIsFromMockProvider': False, u'filter': u'time', u'mTime': 1440286801696, u'mHasBearing': True}&amp;quot;);\n",
        "      div_marker_1_1._popup.options.maxWidth = 300;\n",
        "      map.addLayer(div_marker_1_1)\n",
        "      \n",
        "      var div_marker_1_2_icon = L.divIcon({className: 'leaflet-div-icon', 'iconSize': [5,5]});\n",
        "      var div_marker_1_2 = L.marker([37.3909735, \n",
        "\t\t\t\t\t\t\t-122.0875174],\n",
        "\t\t\t\t\t\t\t{'icon':div_marker_1_2_icon}\n",
        "\t\t\t\t\t\t\t);\n",
        "      div_marker_1_2.bindPopup(&amp;quot;{u'mProvider': u'fused', 'formatted_time': Timestamp('2015-08-22 16:40:06'), u'mHasAccuracy': True, u'mHasAltitude': True, u'write_ts': 1440286807076, u'mLat1': 0, u'mDistance': 0, u'mLat2': 0, u'platform': u'android', u'mAccuracy': 15, u'mLon1': 0, u'mLon2': 0, u'type': u'message', u'mLatitude': 37.3909735, u'mAltitude': -3.100006103515625, u'mSpeed': 0.75060004, u'key': u'background/location', u'mInitialBearing': 0, u'mHasSpeed': True, u'read_ts': 0, u'mElapsedRealtimeNanos': 182337525776504, u'mResults': [0, 0], u'mBearing': 119, u'mLongitude': -122.0875174, u'mIsFromMockProvider': False, u'filter': u'time', u'mTime': 1440286806750, u'mHasBearing': True}&amp;quot;);\n",
        "      div_marker_1_2._popup.options.maxWidth = 300;\n",
        "      map.addLayer(div_marker_1_2)\n",
        "      \n",
        "      var div_marker_1_3_icon = L.divIcon({className: 'leaflet-div-icon', 'iconSize': [5,5]});\n",
        "      var div_marker_1_3 = L.marker([37.3909328, \n",
        "\t\t\t\t\t\t\t-122.0874293],\n",
        "\t\t\t\t\t\t\t{'icon':div_marker_1_3_icon}\n",
        "\t\t\t\t\t\t\t);\n",
        "      div_marker_1_3.bindPopup(&amp;quot;{u'mProvider': u'fused', 'formatted_time': Timestamp('2015-08-22 16:40:12'), u'mHasAccuracy': True, u'mHasAltitude': True, u'write_ts': 1440286812920, u'mLat1': 0, u'mDistance': 0, u'mLat2': 0, u'platform': u'android', u'mAccuracy': 10, u'mLon1': 0, u'mLon2': 0, u'type': u'message', u'mLatitude': 37.3909328, u'mAltitude': -8.600006103515625, u'mSpeed': 1.18845, u'key': u'background/location', u'mInitialBearing': 0, u'mHasSpeed': True, u'read_ts': 0, u'mElapsedRealtimeNanos': 182343435474991, u'mResults': [0, 0], u'mBearing': 119, u'mLongitude': -122.0874293, u'mIsFromMockProvider': False, u'filter': u'time', u'mTime': 1440286812662, u'mHasBearing': True}&amp;quot;);\n",
        "      div_marker_1_3._popup.options.maxWidth = 300;\n",
        "      map.addLayer(div_marker_1_3)\n",
        "      \n",
        "      var div_marker_1_4_icon = L.divIcon({className: 'leaflet-div-icon', 'iconSize': [5,5]});\n",
        "      var div_marker_1_4 = L.marker([37.3909257, \n",
        "\t\t\t\t\t\t\t-122.0873378],\n",
        "\t\t\t\t\t\t\t{'icon':div_marker_1_4_icon}\n",
        "\t\t\t\t\t\t\t);\n",
        "      div_marker_1_4.bindPopup(&amp;quot;{u'mProvider': u'fused', 'formatted_time': Timestamp('2015-08-22 16:40:17'), u'mHasAccuracy': True, u'mHasAltitude': True, u'write_ts': 1440286817984, u'mLat1': 0, u'mDistance': 0, u'mLat2': 0, u'platform': u'android', u'mAccuracy': 10, u'mLon1': 0, u'mLon2': 0, u'type': u'message', u'mLatitude': 37.3909257, u'mAltitude': -12.20001220703125, u'mSpeed': 1.06335, u'key': u'background/location', u'mInitialBearing': 0, u'mHasSpeed': True, u'read_ts': 0, u'mElapsedRealtimeNanos': 182348472584366, u'mResults': [0, 0], u'mBearing': 119, u'mLongitude': -122.0873378, u'mIsFromMockProvider': False, u'filter': u'time', u'mTime': 1440286817694, u'mHasBearing': True}&amp;quot;);\n",
        "      div_marker_1_4._popup.options.maxWidth = 300;\n",
        "      map.addLayer(div_marker_1_4)\n",
        "      \n",
        "      var div_marker_1_5_icon = L.divIcon({className: 'leaflet-div-icon', 'iconSize': [5,5]});\n",
        "      var div_marker_1_5 = L.marker([37.3908803, \n",
        "\t\t\t\t\t\t\t-122.0872873],\n",
        "\t\t\t\t\t\t\t{'icon':div_marker_1_5_icon}\n",
        "\t\t\t\t\t\t\t);\n",
        "      div_marker_1_5.bindPopup(&amp;quot;{u'mProvider': u'fused', 'formatted_time': Timestamp('2015-08-22 16:40:22'), u'mHasAccuracy': True, u'mHasAltitude': True, u'write_ts': 1440286822959, u'mLat1': 0, u'mDistance': 0, u'mLat2': 0, u'platform': u'android', u'mAccuracy': 10, u'mLon1': 0, u'mLon2': 0, u'type': u'message', u'mLatitude': 37.3908803, u'mAltitude': -11.600006103515625, u'mSpeed': 1.251, u'key': u'background/location', u'mInitialBearing': 0, u'mHasSpeed': True, u'read_ts': 0, u'mElapsedRealtimeNanos': 182353485615372, u'mResults': [0, 0], u'mBearing': 138, u'mLongitude': -122.0872873, u'mIsFromMockProvider': False, u'filter': u'time', u'mTime': 1440286822707, u'mHasBearing': True}&amp;quot;);\n",
        "      div_marker_1_5._popup.options.maxWidth = 300;\n",
        "      map.addLayer(div_marker_1_5)\n",
        "      \n",
        "      var div_marker_1_6_icon = L.divIcon({className: 'leaflet-div-icon', 'iconSize': [5,5]});\n",
        "      var div_marker_1_6 = L.marker([37.3908585, \n",
        "\t\t\t\t\t\t\t-122.087248],\n",
        "\t\t\t\t\t\t\t{'icon':div_marker_1_6_icon}\n",
        "\t\t\t\t\t\t\t);\n",
        "      div_marker_1_6.bindPopup(&amp;quot;{u'mProvider': u'fused', 'formatted_time': Timestamp('2015-08-22 16:40:27'), u'mHasAccuracy': True, u'mHasAltitude': True, u'write_ts': 1440286827962, u'mLat1': 0, u'mDistance': 0, u'mLat2': 0, u'platform': u'android', u'mAccuracy': 10, u'mLon1': 0, u'mLon2': 0, u'type': u'message', u'mLatitude': 37.3908585, u'mAltitude': -10.899993896484375, u'mSpeed': 1.0008, u'key': u'background/location', u'mInitialBearing': 0, u'mHasSpeed': True, u'read_ts': 0, u'mElapsedRealtimeNanos': 182358495228409, u'mResults': [0, 0], u'mBearing': 123, u'mLongitude': -122.087248, u'mIsFromMockProvider': False, u'filter': u'time', u'mTime': 1440286827718, u'mHasBearing': True}&amp;quot;);\n",
        "      div_marker_1_6._popup.options.maxWidth = 300;\n",
        "      map.addLayer(div_marker_1_6)\n",
        "      \n",
        "\n",
        "      \n",
        "\n",
        "      \n",
        "      var latLngs = [ [37.3910305, -122.0876453],  [37.3910055, -122.08758],  [37.3909735, -122.0875174],  [37.3909328, -122.0874293],  [37.3909257, -122.0873378],  [37.3908803, -122.0872873],  [37.3908585, -122.087248], ];\n",
        "var line_1 = L.polyline(latLngs,{\n",
        "color: 'chocolate',\n",
        "\n",
        "\n",
        "});\n",
        "      line_1.bindPopup(&amp;quot;Activities.ON_FOOT&amp;quot;);\n",
        "      line_1._popup.options.maxWidth = 300;\n",
        "      map.addLayer(line_1);\n",
        "      \n",
        "\n",
        "      \n",
        "\n",
        "      \n",
        "\n",
        "      \n",
        "\n",
        "\n",
        "\n",
        "   &lt;/script&gt;\n",
        "\n",
        "&lt;/body&gt;&quot; style=&quot;width: 100%; height: 510px; border: none&quot;&gt;&lt;/iframe&gt;</td></tr>\n",
        "<tr><td>&lt;iframe srcdoc=&quot;&lt;!DOCTYPE html&gt;\n",
        "&lt;head&gt;\n",
        "   &lt;meta http-equiv=&amp;quot;content-type&amp;quot; content=&amp;quot;text/html; charset=UTF-8&amp;quot; /&gt;\n",
        "   &lt;link rel=&amp;quot;stylesheet&amp;quot; href=&amp;quot;https://cdnjs.cloudflare.com/ajax/libs/leaflet/0.7.3/leaflet.css&amp;quot; /&gt;\n",
        "   &lt;script src=&amp;quot;https://cdnjs.cloudflare.com/ajax/libs/leaflet/0.7.3/leaflet.js&amp;quot;&gt;&lt;/script&gt;\n",
        "\n",
        "   &lt;script src=&amp;quot;https://ajax.googleapis.com/ajax/libs/jquery/1.11.1/jquery.min.js&amp;quot;&gt;&lt;/script&gt;\n",
        "\n",
        "   &lt;link rel=&amp;quot;stylesheet&amp;quot; href=&amp;quot;https://maxcdn.bootstrapcdn.com/bootstrap/3.2.0/css/bootstrap.min.css&amp;quot;&gt;\n",
        "   &lt;link rel=&amp;quot;stylesheet&amp;quot; href=&amp;quot;https://maxcdn.bootstrapcdn.com/bootstrap/3.2.0/css/bootstrap-theme.min.css&amp;quot;&gt;\n",
        "   &lt;script src=&amp;quot;https://maxcdn.bootstrapcdn.com/bootstrap/3.2.0/js/bootstrap.min.js&amp;quot;&gt;&lt;/script&gt;\n",
        "\n",
        "   &lt;link href=&amp;quot;https://maxcdn.bootstrapcdn.com/font-awesome/4.1.0/css/font-awesome.min.css&amp;quot; rel=&amp;quot;stylesheet&amp;quot;&gt;\n",
        "\n",
        "   &lt;link rel=&amp;quot;stylesheet&amp;quot; href=&amp;quot;https://rawgit.com/lvoogdt/Leaflet.awesome-markers/2.0/develop/dist/leaflet.awesome-markers.css&amp;quot;&gt;\n",
        "   &lt;script src=&amp;quot;https://rawgithub.com/lvoogdt/Leaflet.awesome-markers/2.0/develop/dist/leaflet.awesome-markers.js&amp;quot;&gt;&lt;/script&gt;\n",
        "\n",
        "\n",
        "   &lt;link rel=&amp;quot;stylesheet&amp;quot; href=&amp;quot;https://cdnjs.cloudflare.com/ajax/libs/leaflet.markercluster/0.4.0/MarkerCluster.Default.css&amp;quot;&gt;\n",
        "   &lt;link rel=&amp;quot;stylesheet&amp;quot; href=&amp;quot;https://cdnjs.cloudflare.com/ajax/libs/leaflet.markercluster/0.4.0/MarkerCluster.css&amp;quot;&gt;\n",
        "   &lt;script src=&amp;quot;https://cdnjs.cloudflare.com/ajax/libs/leaflet.markercluster/0.4.0/leaflet.markercluster-src.js&amp;quot;&gt;&lt;/script&gt;\n",
        "   &lt;script src=&amp;quot;https://cdnjs.cloudflare.com/ajax/libs/leaflet.markercluster/0.4.0/leaflet.markercluster.js&amp;quot;&gt;&lt;/script&gt;\n",
        "\n",
        "   &lt;link rel=&amp;quot;stylesheet&amp;quot; href=&amp;quot;https://birdage.github.io/Leaflet.awesome-markers/dist/leaflet.awesome.rotate.css&amp;quot;&gt;\n",
        "\n",
        "   \n",
        "   \n",
        "   \n",
        "   \n",
        "\n",
        "   &lt;style&gt;\n",
        "\n",
        "      html, body {\n",
        "        width: 100%;\n",
        "        height: 100%;\n",
        "        margin: 0;\n",
        "        padding: 0;\n",
        "      }\n",
        "\n",
        "      #map {\n",
        "        position:absolute;\n",
        "        top:0;\n",
        "        bottom:0;\n",
        "        right:0;\n",
        "        left:0;\n",
        "      }\n",
        "\n",
        "   &lt;/style&gt;\n",
        "&lt;/head&gt;\n",
        "\n",
        "&lt;body&gt;\n",
        "\n",
        "   &lt;div class=&amp;quot;folium-map&amp;quot; id=&amp;quot;folium_ff0ebb7b88344c84b28ee860f58b6bbe&amp;quot; style=&amp;quot;width: 100%; height: 100%&amp;quot;&gt;&lt;/div&gt;\n",
        "\n",
        "   &lt;script&gt;\n",
        "\n",
        "      \n",
        "\n",
        "      var base_tile = L.tileLayer('https://{s}.tile.openstreetmap.org/{z}/{x}/{y}.png', {\n",
        "          maxZoom: 18,\n",
        "          minZoom: 1,\n",
        "          attribution: 'Map data (c) &lt;a href=&amp;quot;http://openstreetmap.org&amp;quot;&gt;OpenStreetMap&lt;/a&gt; contributors'\n",
        "      });\n",
        "\n",
        "      var baseLayer = {\n",
        "        &amp;quot;Base Layer&amp;quot;: base_tile\n",
        "      };\n",
        "\n",
        "      /*\n",
        "      addition of the wms layers\n",
        "      */\n",
        "\n",
        "      \n",
        "\n",
        "      /*\n",
        "      addition of the tile layers\n",
        "      */\n",
        "      \n",
        "\n",
        "      /*\n",
        "      list of layers to be added\n",
        "      */\n",
        "      var layer_list = {\n",
        "      \n",
        "      };\n",
        "\n",
        "      /*\n",
        "      Bounding box.\n",
        "      */\n",
        "      var southWest = L.latLng(-90, -180),\n",
        "          northEast = L.latLng(90, 180),\n",
        "          bounds = L.latLngBounds(southWest, northEast);\n",
        "\n",
        "      /*\n",
        "      Creates the map and adds the selected layers\n",
        "      */\n",
        "      var map = L.map('folium_ff0ebb7b88344c84b28ee860f58b6bbe', {\n",
        "                                       center:[37.3907285875, -122.086893363],\n",
        "                                       zoom: 10,\n",
        "                                       maxBounds: bounds,\n",
        "                                       layers: [base_tile]\n",
        "                                     });\n",
        "\n",
        "      L.control.layers(baseLayer, layer_list).addTo(map);\n",
        "\n",
        "      //cluster group\n",
        "      var clusteredmarkers = L.markerClusterGroup();\n",
        "      //section for adding clustered markers\n",
        "      \n",
        "      //add the clustered markers to the group anyway\n",
        "      map.addLayer(clusteredmarkers);\n",
        "\n",
        "      \n",
        "\n",
        "      \n",
        "      var div_marker_1_0_icon = L.divIcon({className: 'leaflet-div-icon', 'iconSize': [5,5]});\n",
        "      var div_marker_1_0 = L.marker([37.3907909, \n",
        "\t\t\t\t\t\t\t-122.0870998],\n",
        "\t\t\t\t\t\t\t{'icon':div_marker_1_0_icon}\n",
        "\t\t\t\t\t\t\t);\n",
        "      div_marker_1_0.bindPopup(&amp;quot;{u'mProvider': u'fused', 'formatted_time': Timestamp('2015-08-22 16:40:37'), u'mHasAccuracy': True, u'mHasAltitude': True, u'write_ts': 1440286838055, u'mLat1': 0, u'mDistance': 0, u'mLat2': 0, u'platform': u'android', u'mAccuracy': 10, u'mLon1': 0, u'mLon2': 0, u'type': u'message', u'mLatitude': 37.3907909, u'mAltitude': -6.5, u'mSpeed': 0.93825, u'key': u'background/location', u'mInitialBearing': 0, u'mHasSpeed': True, u'read_ts': 0, u'mElapsedRealtimeNanos': 182368553608536, u'mResults': [0, 0], u'mBearing': 124, u'mLongitude': -122.0870998, u'mIsFromMockProvider': False, u'filter': u'time', u'mTime': 1440286837781, u'mHasBearing': True}&amp;quot;);\n",
        "      div_marker_1_0._popup.options.maxWidth = 300;\n",
        "      map.addLayer(div_marker_1_0)\n",
        "      \n",
        "      var div_marker_1_1_icon = L.divIcon({className: 'leaflet-div-icon', 'iconSize': [5,5]});\n",
        "      var div_marker_1_1 = L.marker([37.3907847, \n",
        "\t\t\t\t\t\t\t-122.0870302],\n",
        "\t\t\t\t\t\t\t{'icon':div_marker_1_1_icon}\n",
        "\t\t\t\t\t\t\t);\n",
        "      div_marker_1_1.bindPopup(&amp;quot;{u'mProvider': u'fused', 'formatted_time': Timestamp('2015-08-22 16:40:43'), u'mHasAccuracy': True, u'mHasAltitude': True, u'write_ts': 1440286843942, u'mLat1': 0, u'mDistance': 0, u'mLat2': 0, u'platform': u'android', u'mAccuracy': 10, u'mLon1': 0, u'mLon2': 0, u'type': u'message', u'mLatitude': 37.3907847, u'mAltitude': -5.70001220703125, u'mSpeed': 0.81315, u'key': u'background/location', u'mInitialBearing': 0, u'mHasSpeed': True, u'read_ts': 0, u'mElapsedRealtimeNanos': 182374459919571, u'mResults': [0, 0], u'mBearing': 111, u'mLongitude': -122.0870302, u'mIsFromMockProvider': False, u'filter': u'time', u'mTime': 1440286843683, u'mHasBearing': True}&amp;quot;);\n",
        "      div_marker_1_1._popup.options.maxWidth = 300;\n",
        "      map.addLayer(div_marker_1_1)\n",
        "      \n",
        "      var div_marker_1_2_icon = L.divIcon({className: 'leaflet-div-icon', 'iconSize': [5,5]});\n",
        "      var div_marker_1_2 = L.marker([37.3907689, \n",
        "\t\t\t\t\t\t\t-122.0869755],\n",
        "\t\t\t\t\t\t\t{'icon':div_marker_1_2_icon}\n",
        "\t\t\t\t\t\t\t);\n",
        "      div_marker_1_2.bindPopup(&amp;quot;{u'mProvider': u'fused', 'formatted_time': Timestamp('2015-08-22 16:40:48'), u'mHasAccuracy': True, u'mHasAltitude': True, u'write_ts': 1440286848982, u'mLat1': 0, u'mDistance': 0, u'mLat2': 0, u'platform': u'android', u'mAccuracy': 10, u'mLon1': 0, u'mLon2': 0, u'type': u'message', u'mLatitude': 37.3907689, u'mAltitude': -7.0, u'mSpeed': 1.31355, u'key': u'background/location', u'mInitialBearing': 0, u'mHasSpeed': True, u'read_ts': 0, u'mElapsedRealtimeNanos': 182379469441055, u'mResults': [0, 0], u'mBearing': 113, u'mLongitude': -122.0869755, u'mIsFromMockProvider': False, u'filter': u'time', u'mTime': 1440286848695, u'mHasBearing': True}&amp;quot;);\n",
        "      div_marker_1_2._popup.options.maxWidth = 300;\n",
        "      map.addLayer(div_marker_1_2)\n",
        "      \n",
        "      var div_marker_1_3_icon = L.divIcon({className: 'leaflet-div-icon', 'iconSize': [5,5]});\n",
        "      var div_marker_1_3 = L.marker([37.3907448, \n",
        "\t\t\t\t\t\t\t-122.086932],\n",
        "\t\t\t\t\t\t\t{'icon':div_marker_1_3_icon}\n",
        "\t\t\t\t\t\t\t);\n",
        "      div_marker_1_3.bindPopup(&amp;quot;{u'mProvider': u'fused', 'formatted_time': Timestamp('2015-08-22 16:40:53'), u'mHasAccuracy': True, u'mHasAltitude': True, u'write_ts': 1440286853971, u'mLat1': 0, u'mDistance': 0, u'mLat2': 0, u'platform': u'android', u'mAccuracy': 10, u'mLon1': 0, u'mLon2': 0, u'type': u'message', u'mLatitude': 37.3907448, u'mAltitude': -6.399993896484375, u'mSpeed': 1.06335, u'key': u'background/location', u'mInitialBearing': 0, u'mHasSpeed': True, u'read_ts': 0, u'mElapsedRealtimeNanos': 182384480488418, u'mResults': [0, 0], u'mBearing': 126, u'mLongitude': -122.086932, u'mIsFromMockProvider': False, u'filter': u'time', u'mTime': 1440286853708, u'mHasBearing': True}&amp;quot;);\n",
        "      div_marker_1_3._popup.options.maxWidth = 300;\n",
        "      map.addLayer(div_marker_1_3)\n",
        "      \n",
        "      var div_marker_1_4_icon = L.divIcon({className: 'leaflet-div-icon', 'iconSize': [5,5]});\n",
        "      var div_marker_1_4 = L.marker([37.3907195, \n",
        "\t\t\t\t\t\t\t-122.0868728],\n",
        "\t\t\t\t\t\t\t{'icon':div_marker_1_4_icon}\n",
        "\t\t\t\t\t\t\t);\n",
        "      div_marker_1_4.bindPopup(&amp;quot;{u'mProvider': u'fused', 'formatted_time': Timestamp('2015-08-22 16:40:58'), u'mHasAccuracy': True, u'mHasAltitude': True, u'write_ts': 1440286858979, u'mLat1': 0, u'mDistance': 0, u'mLat2': 0, u'platform': u'android', u'mAccuracy': 10, u'mLon1': 0, u'mLon2': 0, u'type': u'message', u'mLatitude': 37.3907195, u'mAltitude': -7.100006103515625, u'mSpeed': 1.06335, u'key': u'background/location', u'mInitialBearing': 0, u'mHasSpeed': True, u'read_ts': 0, u'mElapsedRealtimeNanos': 182389488667129, u'mResults': [0, 0], u'mBearing': 131, u'mLongitude': -122.0868728, u'mIsFromMockProvider': False, u'filter': u'time', u'mTime': 1440286858711, u'mHasBearing': True}&amp;quot;);\n",
        "      div_marker_1_4._popup.options.maxWidth = 300;\n",
        "      map.addLayer(div_marker_1_4)\n",
        "      \n",
        "      var div_marker_1_5_icon = L.divIcon({className: 'leaflet-div-icon', 'iconSize': [5,5]});\n",
        "      var div_marker_1_5 = L.marker([37.3906817, \n",
        "\t\t\t\t\t\t\t-122.086819],\n",
        "\t\t\t\t\t\t\t{'icon':div_marker_1_5_icon}\n",
        "\t\t\t\t\t\t\t);\n",
        "      div_marker_1_5.bindPopup(&amp;quot;{u'mProvider': u'fused', 'formatted_time': Timestamp('2015-08-22 16:41:03'), u'mHasAccuracy': True, u'mHasAltitude': True, u'write_ts': 1440286864067, u'mLat1': 0, u'mDistance': 0, u'mLat2': 0, u'platform': u'android', u'mAccuracy': 10, u'mLon1': 0, u'mLon2': 0, u'type': u'message', u'mLatitude': 37.3906817, u'mAltitude': -8.0, u'mSpeed': 1.3761, u'key': u'background/location', u'mInitialBearing': 0, u'mHasSpeed': True, u'read_ts': 0, u'mElapsedRealtimeNanos': 182394500141739, u'mResults': [0, 0], u'mBearing': 134, u'mLongitude': -122.086819, u'mIsFromMockProvider': False, u'filter': u'time', u'mTime': 1440286863722, u'mHasBearing': True}&amp;quot;);\n",
        "      div_marker_1_5._popup.options.maxWidth = 300;\n",
        "      map.addLayer(div_marker_1_5)\n",
        "      \n",
        "      var div_marker_1_6_icon = L.divIcon({className: 'leaflet-div-icon', 'iconSize': [5,5]});\n",
        "      var div_marker_1_6 = L.marker([37.3906712, \n",
        "\t\t\t\t\t\t\t-122.0867434],\n",
        "\t\t\t\t\t\t\t{'icon':div_marker_1_6_icon}\n",
        "\t\t\t\t\t\t\t);\n",
        "      div_marker_1_6.bindPopup(&amp;quot;{u'mProvider': u'fused', 'formatted_time': Timestamp('2015-08-22 16:41:08'), u'mHasAccuracy': True, u'mHasAltitude': True, u'write_ts': 1440286869201, u'mLat1': 0, u'mDistance': 0, u'mLat2': 0, u'platform': u'android', u'mAccuracy': 10, u'mLon1': 0, u'mLon2': 0, u'type': u'message', u'mLatitude': 37.3906712, u'mAltitude': -8.100006103515625, u'mSpeed': 1.251, u'key': u'background/location', u'mInitialBearing': 0, u'mHasSpeed': True, u'read_ts': 0, u'mElapsedRealtimeNanos': 182399510212539, u'mResults': [0, 0], u'mBearing': 106, u'mLongitude': -122.0867434, u'mIsFromMockProvider': False, u'filter': u'time', u'mTime': 1440286868737, u'mHasBearing': True}&amp;quot;);\n",
        "      div_marker_1_6._popup.options.maxWidth = 300;\n",
        "      map.addLayer(div_marker_1_6)\n",
        "      \n",
        "      var div_marker_1_7_icon = L.divIcon({className: 'leaflet-div-icon', 'iconSize': [5,5]});\n",
        "      var div_marker_1_7 = L.marker([37.390667, \n",
        "\t\t\t\t\t\t\t-122.0866742],\n",
        "\t\t\t\t\t\t\t{'icon':div_marker_1_7_icon}\n",
        "\t\t\t\t\t\t\t);\n",
        "      div_marker_1_7.bindPopup(&amp;quot;{u'mProvider': u'fused', 'formatted_time': Timestamp('2015-08-22 16:41:13'), u'mHasAccuracy': True, u'mHasAltitude': True, u'write_ts': 1440286874142, u'mLat1': 0, u'mDistance': 0, u'mLat2': 0, u'platform': u'android', u'mAccuracy': 10, u'mLon1': 0, u'mLon2': 0, u'type': u'message', u'mLatitude': 37.390667, u'mAltitude': -8.399993896484375, u'mSpeed': 1.251, u'key': u'background/location', u'mInitialBearing': 0, u'mHasSpeed': True, u'read_ts': 0, u'mElapsedRealtimeNanos': 182404519550918, u'mResults': [0, 0], u'mBearing': 87, u'mLongitude': -122.0866742, u'mIsFromMockProvider': False, u'filter': u'time', u'mTime': 1440286873740, u'mHasBearing': True}&amp;quot;);\n",
        "      div_marker_1_7._popup.options.maxWidth = 300;\n",
        "      map.addLayer(div_marker_1_7)\n",
        "      \n",
        "\n",
        "      \n",
        "\n",
        "      \n",
        "      var latLngs = [ [37.3907909, -122.0870998],  [37.3907847, -122.0870302],  [37.3907689, -122.0869755],  [37.3907448, -122.086932],  [37.3907195, -122.0868728],  [37.3906817, -122.086819],  [37.3906712, -122.0867434],  [37.390667, -122.0866742], ];\n",
        "var line_1 = L.polyline(latLngs,{\n",
        "color: 'chocolate',\n",
        "\n",
        "\n",
        "});\n",
        "      line_1.bindPopup(&amp;quot;Activities.ON_FOOT&amp;quot;);\n",
        "      line_1._popup.options.maxWidth = 300;\n",
        "      map.addLayer(line_1);\n",
        "      \n",
        "\n",
        "      \n",
        "\n",
        "      \n",
        "\n",
        "      \n",
        "\n",
        "\n",
        "\n",
        "   &lt;/script&gt;\n",
        "\n",
        "&lt;/body&gt;&quot; style=&quot;width: 100%; height: 510px; border: none&quot;&gt;&lt;/iframe&gt;</td></tr>\n",
        "</table>\" style=\"width: 100%; height: 6630px; border: none\"></iframe>"
       ],
       "metadata": {},
       "output_type": "pyout",
       "prompt_number": 34,
       "text": [
        "<IPython.core.display.HTML at 0x10b907790>"
       ]
      }
     ],
     "prompt_number": 34
    },
    {
     "cell_type": "code",
     "collapsed": false,
     "input": [],
     "language": "python",
     "metadata": {},
     "outputs": [],
     "prompt_number": 34
    }
   ],
   "metadata": {}
  }
 ]
}