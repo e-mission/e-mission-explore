{
 "cells": [
  {
   "cell_type": "code",
   "execution_count": 1,
   "metadata": {
    "collapsed": true
   },
   "outputs": [],
   "source": [
    "import emission.storage.timeseries.timequery as estt\n",
    "import emission.storage.timeseries.abstract_timeseries as esta"
   ]
  },
  {
   "cell_type": "code",
   "execution_count": 5,
   "metadata": {
    "collapsed": true
   },
   "outputs": [],
   "source": [
    "import emission.core.get_database as edb\n",
    "import bson.objectid as boi\n",
    "from uuid import UUID"
   ]
  },
  {
   "cell_type": "code",
   "execution_count": 3,
   "metadata": {
    "collapsed": false
   },
   "outputs": [
    {
     "data": {
      "text/plain": [
       "{u'_id': ObjectId('57e44d88f6858f7387263233'),\n",
       " u'data': {u'accuracy': 33.941124,\n",
       "  u'altitude': 0,\n",
       "  u'elapsedRealtimeNanos': 610126618689207L,\n",
       "  u'filter': u'time',\n",
       "  u'fmt_time': u'2016-06-22T20:09:17-07:00',\n",
       "  u'heading': 0,\n",
       "  u'latitude': 37.86835491657257,\n",
       "  u'loc': {u'coordinates': [-122.25289285182953, 37.86835491657257],\n",
       "   u'type': u'Point'},\n",
       "  u'local_dt': {u'day': 22,\n",
       "   u'hour': 20,\n",
       "   u'minute': 9,\n",
       "   u'month': 6,\n",
       "   u'second': 17,\n",
       "   u'timezone': u'America/Los_Angeles',\n",
       "   u'weekday': 2,\n",
       "   u'year': 2016},\n",
       "  u'longitude': -122.25289285182953,\n",
       "  u'sensed_speed': 0,\n",
       "  u'ts': 1466651357},\n",
       " u'metadata': {u'key': u'background/filtered_location',\n",
       "  u'platform': u'android',\n",
       "  u'read_ts': 0,\n",
       "  u'time_zone': u'America/Los_Angeles',\n",
       "  u'type': u'sensor-data',\n",
       "  u'write_fmt_time': u'2016-06-22T21:43:36.201000-07:00',\n",
       "  u'write_local_dt': {u'day': 22,\n",
       "   u'hour': 21,\n",
       "   u'minute': 43,\n",
       "   u'month': 6,\n",
       "   u'second': 36,\n",
       "   u'timezone': u'America/Los_Angeles',\n",
       "   u'weekday': 2,\n",
       "   u'year': 2016},\n",
       "  u'write_ts': 1466657016.201},\n",
       " u'user_id': UUID('96993ce8-e550-4535-aa28-836804596d92')}"
      ]
     },
     "execution_count": 3,
     "metadata": {},
     "output_type": "execute_result"
    }
   ],
   "source": [
    "edb.get_timeseries_db().find_one({\"_id\": boi.ObjectId('57e44d88f6858f7387263233')})"
   ]
  },
  {
   "cell_type": "code",
   "execution_count": 6,
   "metadata": {
    "collapsed": false
   },
   "outputs": [],
   "source": [
    "tq = estt.TimeQuery(\"metadata.write_ts\", 1466657016.201 - 100, 1466657016.201 + 100)\n",
    "loc_df = esta.TimeSeries.get_time_series(UUID('96993ce8-e550-4535-aa28-836804596d92')).get_data_df(\"background/filtered_location\", tq)"
   ]
  },
  {
   "cell_type": "code",
   "execution_count": 7,
   "metadata": {
    "collapsed": false
   },
   "outputs": [
    {
     "data": {
      "text/plain": [
       "10"
      ]
     },
     "execution_count": 7,
     "metadata": {},
     "output_type": "execute_result"
    }
   ],
   "source": [
    "len(loc_df)"
   ]
  },
  {
   "cell_type": "code",
   "execution_count": 8,
   "metadata": {
    "collapsed": false
   },
   "outputs": [
    {
     "data": {
      "text/plain": [
       "[nan,\n",
       " 17.506999969482422,\n",
       " 14.493000030517578,\n",
       " 16.608999967575073,\n",
       " 15.391000032424927,\n",
       " -5633.0,\n",
       " 5660.6779999732971,\n",
       " 30.950000047683716,\n",
       " 31.240000009536743,\n",
       " 31.131999969482422]"
      ]
     },
     "execution_count": 8,
     "metadata": {},
     "output_type": "execute_result"
    }
   ],
   "source": [
    "loc_df.ts.diff().tolist()"
   ]
  },
  {
   "cell_type": "code",
   "execution_count": 9,
   "metadata": {
    "collapsed": false
   },
   "outputs": [
    {
     "name": "stdout",
     "output_type": "stream",
     "text": [
      "Int64Index([5], dtype='int64') 1\n"
     ]
    },
    {
     "data": {
      "text/html": [
       "<div>\n",
       "<table border=\"1\" class=\"dataframe\">\n",
       "  <thead>\n",
       "    <tr style=\"text-align: right;\">\n",
       "      <th></th>\n",
       "      <th>fmt_time</th>\n",
       "      <th>_id</th>\n",
       "    </tr>\n",
       "  </thead>\n",
       "  <tbody>\n",
       "    <tr>\n",
       "      <th>5</th>\n",
       "      <td>2016-06-22T20:09:17-07:00</td>\n",
       "      <td>57e44d88f6858f7387263233</td>\n",
       "    </tr>\n",
       "  </tbody>\n",
       "</table>\n",
       "</div>"
      ],
      "text/plain": [
       "                    fmt_time                       _id\n",
       "5  2016-06-22T20:09:17-07:00  57e44d88f6858f7387263233"
      ]
     },
     "execution_count": 9,
     "metadata": {},
     "output_type": "execute_result"
    }
   ],
   "source": [
    "to_del = loc_df[loc_df.ts.diff() < 0][[\"fmt_time\", \"_id\"]]\n",
    "print to_del.index, len(to_del)\n",
    "to_del"
   ]
  },
  {
   "cell_type": "code",
   "execution_count": 11,
   "metadata": {
    "collapsed": false
   },
   "outputs": [
    {
     "data": {
      "text/plain": [
       "9"
      ]
     },
     "execution_count": 11,
     "metadata": {},
     "output_type": "execute_result"
    }
   ],
   "source": [
    "len(loc_df.drop(to_del.index.tolist()))"
   ]
  },
  {
   "cell_type": "code",
   "execution_count": 14,
   "metadata": {
    "collapsed": false
   },
   "outputs": [
    {
     "data": {
      "text/plain": [
       "{u'n': 1, u'ok': 1}"
      ]
     },
     "execution_count": 14,
     "metadata": {},
     "output_type": "execute_result"
    }
   ],
   "source": [
    "out_of_order_id_list = to_del[\"_id\"].tolist()\n",
    "edb.get_timeseries_db().remove({\"_id\": {\"$in\": out_of_order_id_list}})"
   ]
  },
  {
   "cell_type": "code",
   "execution_count": null,
   "metadata": {
    "collapsed": true
   },
   "outputs": [],
   "source": []
  }
 ],
 "metadata": {
  "kernelspec": {
   "display_name": "Python 2",
   "language": "python",
   "name": "python2"
  },
  "language_info": {
   "codemirror_mode": {
    "name": "ipython",
    "version": 2
   },
   "file_extension": ".py",
   "mimetype": "text/x-python",
   "name": "python",
   "nbconvert_exporter": "python",
   "pygments_lexer": "ipython2",
   "version": "2.7.11"
  }
 },
 "nbformat": 4,
 "nbformat_minor": 0
}
