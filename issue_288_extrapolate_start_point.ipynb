{
 "cells": [
  {
   "cell_type": "code",
   "execution_count": 1,
   "metadata": {
    "collapsed": true
   },
   "outputs": [],
   "source": [
    "# Change the CWD to be the root so that the giles_conf.json file is found in the correct location\n",
    "import os\n",
    "os.chdir(\"../../../\")"
   ]
  },
  {
   "cell_type": "code",
   "execution_count": 2,
   "metadata": {
    "collapsed": true
   },
   "outputs": [],
   "source": [
    "import pandas as pd\n",
    "pd.options.display.float_format = '{:.6f}'.format"
   ]
  },
  {
   "cell_type": "code",
   "execution_count": 3,
   "metadata": {
    "collapsed": false
   },
   "outputs": [],
   "source": [
    "import pandas as pd\n",
    "import emission.core.get_database as edb\n",
    "import bson.objectid as boi\n",
    "import numpy as np\n",
    "import scipy.interpolate as spi\n",
    "import arrow"
   ]
  },
  {
   "cell_type": "code",
   "execution_count": 4,
   "metadata": {
    "collapsed": true
   },
   "outputs": [],
   "source": [
    "import emission.storage.decorations.analysis_timeseries_queries as esda\n",
    "import emission.storage.timeseries.abstract_timeseries as esta\n",
    "import emission.core.wrapper.entry as ecwe\n",
    "import emission.core.wrapper.location as ecwl\n",
    "import emission.analysis.intake.cleaning.location_smoothing as eaicl"
   ]
  },
  {
   "cell_type": "code",
   "execution_count": 5,
   "metadata": {
    "collapsed": true
   },
   "outputs": [],
   "source": [
    "import emission.analysis.plotting.geojson.geojson_feature_converter as gfc\n",
    "import emission.analysis.plotting.leaflet_osm.ipython_helper as ipy\n",
    "import emission.analysis.plotting.leaflet_osm.our_plotter as lo"
   ]
  },
  {
   "cell_type": "code",
   "execution_count": 6,
   "metadata": {
    "collapsed": false
   },
   "outputs": [
    {
     "data": {
      "text/plain": [
       "[UUID('c528bcd2-a88b-3e82-be62-ef4f2396967a')]"
      ]
     },
     "execution_count": 6,
     "metadata": {},
     "output_type": "execute_result"
    }
   ],
   "source": [
    "edb.get_timeseries_db().distinct('user_id')"
   ]
  },
  {
   "cell_type": "code",
   "execution_count": 7,
   "metadata": {
    "collapsed": false
   },
   "outputs": [],
   "source": [
    "curr_id = edb.get_timeseries_db().distinct('user_id')[0]\n",
    "trips_df = esda.get_data_df(esda.RAW_TRIP_KEY, curr_id, time_query=None)"
   ]
  },
  {
   "cell_type": "code",
   "execution_count": 8,
   "metadata": {
    "collapsed": false
   },
   "outputs": [
    {
     "data": {
      "text/html": [
       "<div>\n",
       "<table border=\"1\" class=\"dataframe\">\n",
       "  <thead>\n",
       "    <tr style=\"text-align: right;\">\n",
       "      <th></th>\n",
       "      <th>_id</th>\n",
       "      <th>start_fmt_time</th>\n",
       "      <th>start_ts</th>\n",
       "      <th>end_fmt_time</th>\n",
       "      <th>end_ts</th>\n",
       "      <th>start_place</th>\n",
       "    </tr>\n",
       "  </thead>\n",
       "  <tbody>\n",
       "    <tr>\n",
       "      <th>0</th>\n",
       "      <td>57bdd2aff6858f83e9b6c4a6</td>\n",
       "      <td>2016-02-22T08:58:38.727512-08:00</td>\n",
       "      <td>1456160318.727512</td>\n",
       "      <td>2016-02-22T09:02:37.006508-08:00</td>\n",
       "      <td>1456160557.006508</td>\n",
       "      <td>57bdd2aff6858f83e9b6c4a5</td>\n",
       "    </tr>\n",
       "    <tr>\n",
       "      <th>1</th>\n",
       "      <td>57bdd2aff6858f83e9b6c4a8</td>\n",
       "      <td>2016-02-22T10:06:20.206589-08:00</td>\n",
       "      <td>1456164380.206589</td>\n",
       "      <td>2016-02-22T10:07:00.000028-08:00</td>\n",
       "      <td>1456164420.000028</td>\n",
       "      <td>57bdd2aff6858f83e9b6c4a7</td>\n",
       "    </tr>\n",
       "    <tr>\n",
       "      <th>2</th>\n",
       "      <td>57bdd2aff6858f83e9b6c4aa</td>\n",
       "      <td>2016-02-22T10:27:11.000019-08:00</td>\n",
       "      <td>1456165631.000019</td>\n",
       "      <td>2016-02-22T10:30:15.000020-08:00</td>\n",
       "      <td>1456165815.000020</td>\n",
       "      <td>57bdd2aff6858f83e9b6c4a9</td>\n",
       "    </tr>\n",
       "    <tr>\n",
       "      <th>3</th>\n",
       "      <td>57bdd2aff6858f83e9b6c4ac</td>\n",
       "      <td>2016-02-22T13:07:22.999994-08:00</td>\n",
       "      <td>1456175242.999994</td>\n",
       "      <td>2016-02-22T13:13:16.999949-08:00</td>\n",
       "      <td>1456175596.999949</td>\n",
       "      <td>57bdd2aff6858f83e9b6c4ab</td>\n",
       "    </tr>\n",
       "    <tr>\n",
       "      <th>4</th>\n",
       "      <td>57bdd2aff6858f83e9b6c4ae</td>\n",
       "      <td>2016-02-22T15:35:58.097793-08:00</td>\n",
       "      <td>1456184158.097793</td>\n",
       "      <td>2016-02-22T15:37:35.000060-08:00</td>\n",
       "      <td>1456184255.000060</td>\n",
       "      <td>57bdd2aff6858f83e9b6c4ad</td>\n",
       "    </tr>\n",
       "    <tr>\n",
       "      <th>5</th>\n",
       "      <td>57bdd2aff6858f83e9b6c4b0</td>\n",
       "      <td>2016-02-22T15:49:46.999964-08:00</td>\n",
       "      <td>1456184986.999964</td>\n",
       "      <td>2016-02-22T16:04:02.000039-08:00</td>\n",
       "      <td>1456185842.000039</td>\n",
       "      <td>57bdd2aff6858f83e9b6c4af</td>\n",
       "    </tr>\n",
       "    <tr>\n",
       "      <th>6</th>\n",
       "      <td>57bdd2aff6858f83e9b6c4b2</td>\n",
       "      <td>2016-02-22T16:49:34.000114-08:00</td>\n",
       "      <td>1456188574.000114</td>\n",
       "      <td>2016-02-22T16:57:04.000037-08:00</td>\n",
       "      <td>1456189024.000037</td>\n",
       "      <td>57bdd2aff6858f83e9b6c4b1</td>\n",
       "    </tr>\n",
       "    <tr>\n",
       "      <th>7</th>\n",
       "      <td>57bdd2aff6858f83e9b6c4b4</td>\n",
       "      <td>2016-02-22T19:40:59.136611-08:00</td>\n",
       "      <td>1456198859.136611</td>\n",
       "      <td>2016-02-22T19:48:14.999756-08:00</td>\n",
       "      <td>1456199294.999756</td>\n",
       "      <td>57bdd2aff6858f83e9b6c4b3</td>\n",
       "    </tr>\n",
       "    <tr>\n",
       "      <th>8</th>\n",
       "      <td>57bdd2aff6858f83e9b6c4b6</td>\n",
       "      <td>2016-02-22T19:58:56.999930-08:00</td>\n",
       "      <td>1456199936.999930</td>\n",
       "      <td>2016-02-22T20:11:47.000001-08:00</td>\n",
       "      <td>1456200707.000001</td>\n",
       "      <td>57bdd2aff6858f83e9b6c4b5</td>\n",
       "    </tr>\n",
       "  </tbody>\n",
       "</table>\n",
       "</div>"
      ],
      "text/plain": [
       "                        _id                    start_fmt_time  \\\n",
       "0  57bdd2aff6858f83e9b6c4a6  2016-02-22T08:58:38.727512-08:00   \n",
       "1  57bdd2aff6858f83e9b6c4a8  2016-02-22T10:06:20.206589-08:00   \n",
       "2  57bdd2aff6858f83e9b6c4aa  2016-02-22T10:27:11.000019-08:00   \n",
       "3  57bdd2aff6858f83e9b6c4ac  2016-02-22T13:07:22.999994-08:00   \n",
       "4  57bdd2aff6858f83e9b6c4ae  2016-02-22T15:35:58.097793-08:00   \n",
       "5  57bdd2aff6858f83e9b6c4b0  2016-02-22T15:49:46.999964-08:00   \n",
       "6  57bdd2aff6858f83e9b6c4b2  2016-02-22T16:49:34.000114-08:00   \n",
       "7  57bdd2aff6858f83e9b6c4b4  2016-02-22T19:40:59.136611-08:00   \n",
       "8  57bdd2aff6858f83e9b6c4b6  2016-02-22T19:58:56.999930-08:00   \n",
       "\n",
       "           start_ts                      end_fmt_time            end_ts  \\\n",
       "0 1456160318.727512  2016-02-22T09:02:37.006508-08:00 1456160557.006508   \n",
       "1 1456164380.206589  2016-02-22T10:07:00.000028-08:00 1456164420.000028   \n",
       "2 1456165631.000019  2016-02-22T10:30:15.000020-08:00 1456165815.000020   \n",
       "3 1456175242.999994  2016-02-22T13:13:16.999949-08:00 1456175596.999949   \n",
       "4 1456184158.097793  2016-02-22T15:37:35.000060-08:00 1456184255.000060   \n",
       "5 1456184986.999964  2016-02-22T16:04:02.000039-08:00 1456185842.000039   \n",
       "6 1456188574.000114  2016-02-22T16:57:04.000037-08:00 1456189024.000037   \n",
       "7 1456198859.136611  2016-02-22T19:48:14.999756-08:00 1456199294.999756   \n",
       "8 1456199936.999930  2016-02-22T20:11:47.000001-08:00 1456200707.000001   \n",
       "\n",
       "                start_place  \n",
       "0  57bdd2aff6858f83e9b6c4a5  \n",
       "1  57bdd2aff6858f83e9b6c4a7  \n",
       "2  57bdd2aff6858f83e9b6c4a9  \n",
       "3  57bdd2aff6858f83e9b6c4ab  \n",
       "4  57bdd2aff6858f83e9b6c4ad  \n",
       "5  57bdd2aff6858f83e9b6c4af  \n",
       "6  57bdd2aff6858f83e9b6c4b1  \n",
       "7  57bdd2aff6858f83e9b6c4b3  \n",
       "8  57bdd2aff6858f83e9b6c4b5  "
      ]
     },
     "execution_count": 8,
     "metadata": {},
     "output_type": "execute_result"
    }
   ],
   "source": [
    "trips_df[[\"_id\", \"start_fmt_time\", \"start_ts\", \"end_fmt_time\", \"end_ts\", \"start_place\"]]"
   ]
  },
  {
   "cell_type": "code",
   "execution_count": 9,
   "metadata": {
    "collapsed": true
   },
   "outputs": [],
   "source": [
    "import emission.storage.decorations.trip_queries as esdt"
   ]
  },
  {
   "cell_type": "markdown",
   "metadata": {},
   "source": [
    "We are going to focus on the trips highlighted in the bug https://github.com/e-mission/e-mission-server/issues/288"
   ]
  },
  {
   "cell_type": "markdown",
   "metadata": {},
   "source": [
    "## Short trips highlighted in the bug"
   ]
  },
  {
   "cell_type": "markdown",
   "metadata": {},
   "source": [
    "### Trip from Kaiser to Cognition (\\_id = 57bb7d6af6858f2284bb4682)"
   ]
  },
  {
   "cell_type": "code",
   "execution_count": 10,
   "metadata": {
    "collapsed": true
   },
   "outputs": [],
   "source": [
    "kctrip = trips_df.iloc[1] "
   ]
  },
  {
   "cell_type": "code",
   "execution_count": 11,
   "metadata": {
    "collapsed": true
   },
   "outputs": [],
   "source": [
    "kcid = kctrip._id"
   ]
  },
  {
   "cell_type": "code",
   "execution_count": 12,
   "metadata": {
    "collapsed": false
   },
   "outputs": [],
   "source": [
    "section_entry = esdt.get_raw_sections_for_trip(curr_id, kcid)[0]"
   ]
  },
  {
   "cell_type": "code",
   "execution_count": 13,
   "metadata": {
    "collapsed": false
   },
   "outputs": [
    {
     "data": {
      "text/plain": [
       "({\"coordinates\": [-122.0835895956217, 37.38701632412202], \"type\": \"Point\"},\n",
       " u'2016-02-22T10:06:20.206589-08:00')"
      ]
     },
     "execution_count": 13,
     "metadata": {},
     "output_type": "execute_result"
    }
   ],
   "source": [
    "section_entry.data.start_loc, section_entry.data.start_fmt_time"
   ]
  },
  {
   "cell_type": "code",
   "execution_count": 14,
   "metadata": {
    "collapsed": false
   },
   "outputs": [],
   "source": [
    "ts = esta.TimeSeries.get_time_series(curr_id)"
   ]
  },
  {
   "cell_type": "code",
   "execution_count": 15,
   "metadata": {
    "collapsed": false
   },
   "outputs": [],
   "source": [
    "# loc_entry_df.append(loc_entry_df).reset_index()[[\"fmt_time\", \"ts\"]]"
   ]
  },
  {
   "cell_type": "code",
   "execution_count": 16,
   "metadata": {
    "collapsed": false
   },
   "outputs": [
    {
     "data": {
      "text/plain": [
       "[(1456164380.206589,\n",
       "  u'2016-02-22T10:06:20.206589-08:00',\n",
       "  [-122.0835895956217, 37.38701632412202]),\n",
       " (1456164381.940137,\n",
       "  u'2016-02-22T10:06:21.940137-08:00',\n",
       "  [-122.0832249430214, 37.38680795769895]),\n",
       " (1456164420.000028,\n",
       "  u'2016-02-22T10:07:00.000028-08:00',\n",
       "  [-122.0834267792498, 37.38637934908027])]"
      ]
     },
     "execution_count": 16,
     "metadata": {},
     "output_type": "execute_result"
    }
   ],
   "source": [
    "loc_entry_it = ts.find_entries([\"background/filtered_location\"],\n",
    "                                   esda.get_time_query_for_trip_like(\n",
    "                                       esda.RAW_SECTION_KEY, section_entry.get_id()))\n",
    "loc_entry_list = [ecwe.Entry(e) for e in loc_entry_it]\n",
    "[(e.data.ts, e.data.fmt_time, e.data.loc.coordinates) for e in loc_entry_list]"
   ]
  },
  {
   "cell_type": "markdown",
   "metadata": {},
   "source": [
    "#### 2-D interpolation"
   ]
  },
  {
   "cell_type": "code",
   "execution_count": 17,
   "metadata": {
    "collapsed": true
   },
   "outputs": [],
   "source": [
    "if len(loc_entry_list) < 4:\n",
    "    loc_entry_list.extend(loc_entry_list)"
   ]
  },
  {
   "cell_type": "code",
   "execution_count": 18,
   "metadata": {
    "collapsed": false
   },
   "outputs": [
    {
     "data": {
      "text/plain": [
       "6"
      ]
     },
     "execution_count": 18,
     "metadata": {},
     "output_type": "execute_result"
    }
   ],
   "source": [
    "len(loc_entry_list)"
   ]
  },
  {
   "cell_type": "code",
   "execution_count": 19,
   "metadata": {
    "collapsed": false
   },
   "outputs": [],
   "source": [
    "loc_entry_df = pd.DataFrame([ts._to_df_entry(e) for e in loc_entry_list])"
   ]
  },
  {
   "cell_type": "code",
   "execution_count": 20,
   "metadata": {
    "collapsed": false
   },
   "outputs": [],
   "source": [
    "time_fn = spi.interp2d(np.array(loc_entry_df.latitude), np.array(loc_entry_df.longitude), np.array(loc_entry_df.ts))"
   ]
  },
  {
   "cell_type": "code",
   "execution_count": 21,
   "metadata": {
    "collapsed": false
   },
   "outputs": [],
   "source": [
    "start_place = ts.get_entry_from_id(esda.RAW_PLACE_KEY, trips_df.iloc[1].start_place)"
   ]
  },
  {
   "cell_type": "code",
   "execution_count": 22,
   "metadata": {
    "collapsed": false
   },
   "outputs": [
    {
     "data": {
      "text/plain": [
       "Entry({u'data': {u'enter_fmt_time': u'2016-02-22T09:02:37.006508-08:00', u'exit_local_dt': {u'hour': 10, u'month': 2, u'second': 20, u'weekday': 0, u'year': 2016, u'timezone': u'America/Los_Angeles', u'day': 22, u'minute': 6}, u'exit_fmt_time': u'2016-02-22T10:06:20.206589-08:00', u'enter_local_dt': {u'hour': 9, u'month': 2, u'second': 37, u'weekday': 0, u'year': 2016, u'timezone': u'America/Los_Angeles', u'day': 22, u'minute': 2}, u'ending_trip': ObjectId('57bdd2aff6858f83e9b6c4a6'), u'starting_trip': ObjectId('57bdd2aff6858f83e9b6c4a8'), u'source': u'DwellSegmentationDistFilter', u'location': {u'type': u'Point', u'coordinates': [-122.0812194754829, 37.38939195184179]}, u'enter_ts': 1456160557.006508, u'duration': 3823.200080871582, u'exit_ts': 1456164380.206589}, u'_id': ObjectId('57bdd2aff6858f83e9b6c4a7'), u'user_id': UUID('c528bcd2-a88b-3e82-be62-ef4f2396967a'), u'metadata': {u'write_fmt_time': u'2016-08-24T10:00:31.303532-07:00', u'write_ts': 1472058031.303532, u'time_zone': u'America/Los_Angeles', u'platform': u'server', u'write_local_dt': {u'hour': 10, u'month': 8, u'second': 31, u'weekday': 2, u'year': 2016, u'timezone': u'America/Los_Angeles', u'day': 24, u'minute': 0}, u'key': u'segmentation/raw_place'}})"
      ]
     },
     "execution_count": 22,
     "metadata": {},
     "output_type": "execute_result"
    }
   ],
   "source": [
    "start_place"
   ]
  },
  {
   "cell_type": "code",
   "execution_count": 23,
   "metadata": {
    "collapsed": false
   },
   "outputs": [
    {
     "data": {
      "text/plain": [
       "<Arrow [2012-08-30T01:38:01.451709-07:00]>"
      ]
     },
     "execution_count": 23,
     "metadata": {},
     "output_type": "execute_result"
    }
   ],
   "source": [
    "arrow.get(time_fn(start_place.data.location.coordinates[1], start_place.data.location.coordinates[0])).to(\"America/Los_Angeles\")"
   ]
  },
  {
   "cell_type": "code",
   "execution_count": 24,
   "metadata": {
    "collapsed": false
   },
   "outputs": [
    {
     "data": {
      "text/plain": [
       "<Arrow [2023-04-21T17:09:20.374315-07:00]>"
      ]
     },
     "execution_count": 24,
     "metadata": {},
     "output_type": "execute_result"
    }
   ],
   "source": [
    "arrow.get(time_fn(start_place.data.location.coordinates[0], start_place.data.location.coordinates[1])).to(\"America/Los_Angeles\")"
   ]
  },
  {
   "cell_type": "markdown",
   "metadata": {},
   "source": [
    "#### Doesn't work!!"
   ]
  },
  {
   "cell_type": "markdown",
   "metadata": {},
   "source": [
    "#### Use average time and distance to start to estimate travel time"
   ]
  },
  {
   "cell_type": "code",
   "execution_count": 25,
   "metadata": {
    "collapsed": true
   },
   "outputs": [],
   "source": [
    "import emission.analysis.intake.cleaning.clean_and_resample as eaicc\n",
    "import emission.analysis.point_features as pf\n",
    "import emission.core.common as ecc"
   ]
  },
  {
   "cell_type": "code",
   "execution_count": 26,
   "metadata": {
    "collapsed": false
   },
   "outputs": [],
   "source": [
    "with_speeds_df = eaicl.add_dist_heading_speed(loc_entry_df)"
   ]
  },
  {
   "cell_type": "code",
   "execution_count": 27,
   "metadata": {
    "collapsed": true
   },
   "outputs": [],
   "source": [
    "with_speeds_df_nona = with_speeds_df.dropna()"
   ]
  },
  {
   "cell_type": "code",
   "execution_count": 28,
   "metadata": {
    "collapsed": false
   },
   "outputs": [
    {
     "data": {
      "text/plain": [
       "1.336997664083294"
      ]
     },
     "execution_count": 28,
     "metadata": {},
     "output_type": "execute_result"
    }
   ],
   "source": [
    "with_speeds_df.speed.median()"
   ]
  },
  {
   "cell_type": "code",
   "execution_count": 29,
   "metadata": {
    "collapsed": true
   },
   "outputs": [],
   "source": [
    "start_place = ts.get_entry_from_id(esda.RAW_PLACE_KEY, kctrip.start_place)"
   ]
  },
  {
   "cell_type": "code",
   "execution_count": 30,
   "metadata": {
    "collapsed": false
   },
   "outputs": [
    {
     "data": {
      "text/plain": [
       "([-122.0835895956217, 37.387016324122023],\n",
       " [-122.0812194754829, 37.38939195184179])"
      ]
     },
     "execution_count": 30,
     "metadata": {},
     "output_type": "execute_result"
    }
   ],
   "source": [
    "[loc_entry_df.iloc[0].longitude, loc_entry_df.iloc[0].latitude], start_place.data.location.coordinates"
   ]
  },
  {
   "cell_type": "code",
   "execution_count": 31,
   "metadata": {
    "collapsed": false
   },
   "outputs": [
    {
     "name": "stdout",
     "output_type": "stream",
     "text": [
      "337.085318098\n"
     ]
    }
   ],
   "source": [
    "add_dist = ecc.calDistance(loc_entry_list[0].data.loc.coordinates, start_place.data.location.coordinates)\n",
    "print add_dist"
   ]
  },
  {
   "cell_type": "code",
   "execution_count": 32,
   "metadata": {
    "collapsed": false
   },
   "outputs": [
    {
     "data": {
      "text/plain": [
       "252.12109725653383"
      ]
     },
     "execution_count": 32,
     "metadata": {},
     "output_type": "execute_result"
    }
   ],
   "source": [
    "add_time = add_dist / with_speeds_df.speed.median()\n",
    "add_time"
   ]
  },
  {
   "cell_type": "code",
   "execution_count": 33,
   "metadata": {
    "collapsed": false
   },
   "outputs": [
    {
     "data": {
      "text/plain": [
       "4.868684954275564"
      ]
     },
     "execution_count": 33,
     "metadata": {},
     "output_type": "execute_result"
    }
   ],
   "source": [
    "(40 + add_time) / 60"
   ]
  },
  {
   "cell_type": "code",
   "execution_count": 34,
   "metadata": {
    "collapsed": false
   },
   "outputs": [
    {
     "data": {
      "text/plain": [
       "412.0853180981027"
      ]
     },
     "execution_count": 34,
     "metadata": {},
     "output_type": "execute_result"
    }
   ],
   "source": [
    "75 + add_dist"
   ]
  },
  {
   "cell_type": "markdown",
   "metadata": {},
   "source": [
    "### Close enough to the real values (418m/3 mins)"
   ]
  },
  {
   "cell_type": "markdown",
   "metadata": {},
   "source": [
    "### Trip from home to the bookstore (\\_id = 57bb7d67f6858f2284bb465d)"
   ]
  },
  {
   "cell_type": "code",
   "execution_count": 35,
   "metadata": {
    "collapsed": true
   },
   "outputs": [],
   "source": [
    "hbtrip = trips_df.iloc[-2]"
   ]
  },
  {
   "cell_type": "code",
   "execution_count": 36,
   "metadata": {
    "collapsed": true
   },
   "outputs": [],
   "source": [
    "hbid = hbtrip._id"
   ]
  },
  {
   "cell_type": "code",
   "execution_count": 37,
   "metadata": {
    "collapsed": false
   },
   "outputs": [
    {
     "data": {
      "text/plain": [
       "3"
      ]
     },
     "execution_count": 37,
     "metadata": {},
     "output_type": "execute_result"
    }
   ],
   "source": [
    "len(esdt.get_raw_sections_for_trip(curr_id, hbid))"
   ]
  },
  {
   "cell_type": "code",
   "execution_count": 38,
   "metadata": {
    "collapsed": false
   },
   "outputs": [
    {
     "name": "stdout",
     "output_type": "stream",
     "text": [
      "2016-02-22T19:40:59.136611-08:00 2016-02-22T19:41:02.000037-08:00 MotionTypes.BICYCLING None\n",
      "2016-02-22T19:41:41.000092-08:00 2016-02-22T19:41:41.000092-08:00 MotionTypes.RUNNING 57bdd2b0f6858f83e9b6c4c6\n",
      "2016-02-22T19:42:16.000092-08:00 2016-02-22T19:48:14.999756-08:00 MotionTypes.WALKING 57bdd2b0f6858f83e9b6c4c8\n"
     ]
    }
   ],
   "source": [
    "for s in esdt.get_raw_sections_for_trip(curr_id, hbid):\n",
    "    print s.data.start_fmt_time, s.data.end_fmt_time, s.data.sensed_mode, s.data.start_stop"
   ]
  },
  {
   "cell_type": "code",
   "execution_count": 39,
   "metadata": {
    "collapsed": false
   },
   "outputs": [],
   "source": [
    "section_entry = esdt.get_raw_sections_for_trip(curr_id, hbid)[0]"
   ]
  },
  {
   "cell_type": "code",
   "execution_count": 40,
   "metadata": {
    "collapsed": false
   },
   "outputs": [
    {
     "data": {
      "text/plain": [
       "({\"coordinates\": [-122.083723212413, 37.39098770265726], \"type\": \"Point\"},\n",
       " u'2016-02-22T19:40:59.136611-08:00')"
      ]
     },
     "execution_count": 40,
     "metadata": {},
     "output_type": "execute_result"
    }
   ],
   "source": [
    "section_entry.data.start_loc, section_entry.data.start_fmt_time"
   ]
  },
  {
   "cell_type": "code",
   "execution_count": 41,
   "metadata": {
    "collapsed": false
   },
   "outputs": [],
   "source": [
    "ts = esta.TimeSeries.get_time_series(curr_id)"
   ]
  },
  {
   "cell_type": "code",
   "execution_count": 42,
   "metadata": {
    "collapsed": false
   },
   "outputs": [],
   "source": [
    "# loc_entry_df.append(loc_entry_df).reset_index()[[\"fmt_time\", \"ts\"]]"
   ]
  },
  {
   "cell_type": "code",
   "execution_count": 43,
   "metadata": {
    "collapsed": false
   },
   "outputs": [
    {
     "data": {
      "text/plain": [
       "[(1456198859.136611,\n",
       "  u'2016-02-22T19:40:59.136611-08:00',\n",
       "  [-122.083723212413, 37.39098770265726]),\n",
       " (1456198862.000037,\n",
       "  u'2016-02-22T19:41:02.000037-08:00',\n",
       "  [-122.0837376640384, 37.39093872721995])]"
      ]
     },
     "execution_count": 43,
     "metadata": {},
     "output_type": "execute_result"
    }
   ],
   "source": [
    "loc_entry_it = ts.find_entries([\"background/filtered_location\"],\n",
    "                                   esda.get_time_query_for_trip_like(\n",
    "                                       esda.RAW_SECTION_KEY, section_entry.get_id()))\n",
    "loc_entry_list = [ecwe.Entry(e) for e in loc_entry_it]\n",
    "[(e.data.ts, e.data.fmt_time, e.data.loc.coordinates) for e in loc_entry_list]"
   ]
  },
  {
   "cell_type": "markdown",
   "metadata": {},
   "source": [
    "#### 2-D interpolation"
   ]
  },
  {
   "cell_type": "code",
   "execution_count": 44,
   "metadata": {
    "collapsed": true
   },
   "outputs": [],
   "source": [
    "if len(loc_entry_list) < 4:\n",
    "    loc_entry_list.extend(loc_entry_list)"
   ]
  },
  {
   "cell_type": "code",
   "execution_count": 45,
   "metadata": {
    "collapsed": true
   },
   "outputs": [],
   "source": [
    "loc_entry_df = pd.DataFrame([ts._to_df_entry(e) for e in loc_entry_list])"
   ]
  },
  {
   "cell_type": "code",
   "execution_count": 46,
   "metadata": {
    "collapsed": false
   },
   "outputs": [
    {
     "data": {
      "text/plain": [
       "(array([ 37.3909877 ,  37.39093873,  37.3909877 ,  37.39093873]),\n",
       " array([-122.08372321, -122.08373766, -122.08372321, -122.08373766]),\n",
       " array([  1.45619886e+09,   1.45619886e+09,   1.45619886e+09,\n",
       "          1.45619886e+09]))"
      ]
     },
     "execution_count": 46,
     "metadata": {},
     "output_type": "execute_result"
    }
   ],
   "source": [
    "np.array(loc_entry_df.latitude), np.array(loc_entry_df.longitude), np.array(loc_entry_df.ts)"
   ]
  },
  {
   "cell_type": "code",
   "execution_count": 47,
   "metadata": {
    "collapsed": false
   },
   "outputs": [
    {
     "data": {
      "text/plain": [
       "(4, 4, 4)"
      ]
     },
     "execution_count": 47,
     "metadata": {},
     "output_type": "execute_result"
    }
   ],
   "source": [
    "len(np.array(loc_entry_df.latitude)), len(np.array(loc_entry_df.longitude)), len(np.array(loc_entry_df.ts))"
   ]
  },
  {
   "cell_type": "code",
   "execution_count": 48,
   "metadata": {
    "collapsed": false
   },
   "outputs": [],
   "source": [
    "time_fn = spi.interp2d(np.array(loc_entry_df.latitude), np.array(loc_entry_df.longitude), np.array(loc_entry_df.ts))"
   ]
  },
  {
   "cell_type": "code",
   "execution_count": 49,
   "metadata": {
    "collapsed": false
   },
   "outputs": [],
   "source": [
    "start_place = ts.get_entry_from_id(esda.RAW_PLACE_KEY, hbtrip.start_place)"
   ]
  },
  {
   "cell_type": "code",
   "execution_count": 50,
   "metadata": {
    "collapsed": false
   },
   "outputs": [
    {
     "data": {
      "text/plain": [
       "Entry({u'data': {u'enter_fmt_time': u'2016-02-22T16:57:04.000037-08:00', u'exit_local_dt': {u'hour': 19, u'month': 2, u'second': 59, u'weekday': 0, u'year': 2016, u'timezone': u'America/Los_Angeles', u'day': 22, u'minute': 40}, u'exit_fmt_time': u'2016-02-22T19:40:59.136611-08:00', u'enter_local_dt': {u'hour': 16, u'month': 2, u'second': 4, u'weekday': 0, u'year': 2016, u'timezone': u'America/Los_Angeles', u'day': 22, u'minute': 57}, u'ending_trip': ObjectId('57bdd2aff6858f83e9b6c4b2'), u'starting_trip': ObjectId('57bdd2aff6858f83e9b6c4b4'), u'source': u'DwellSegmentationDistFilter', u'location': {u'type': u'Point', u'coordinates': [-122.0864089802965, 37.39077901331944]}, u'enter_ts': 1456189024.000037, u'duration': 9835.136574029922, u'exit_ts': 1456198859.136611}, u'_id': ObjectId('57bdd2aff6858f83e9b6c4b3'), u'user_id': UUID('c528bcd2-a88b-3e82-be62-ef4f2396967a'), u'metadata': {u'write_fmt_time': u'2016-08-24T10:00:31.465567-07:00', u'write_ts': 1472058031.465567, u'time_zone': u'America/Los_Angeles', u'platform': u'server', u'write_local_dt': {u'hour': 10, u'month': 8, u'second': 31, u'weekday': 2, u'year': 2016, u'timezone': u'America/Los_Angeles', u'day': 24, u'minute': 0}, u'key': u'segmentation/raw_place'}})"
      ]
     },
     "execution_count": 50,
     "metadata": {},
     "output_type": "execute_result"
    }
   ],
   "source": [
    "start_place"
   ]
  },
  {
   "cell_type": "code",
   "execution_count": 51,
   "metadata": {
    "collapsed": false
   },
   "outputs": [
    {
     "data": {
      "text/plain": [
       "{\"coordinates\": [-122.0864089802965, 37.39077901331944], \"type\": \"Point\"}"
      ]
     },
     "execution_count": 51,
     "metadata": {},
     "output_type": "execute_result"
    }
   ],
   "source": [
    "start_place.data.location"
   ]
  },
  {
   "cell_type": "code",
   "execution_count": 52,
   "metadata": {
    "collapsed": false
   },
   "outputs": [
    {
     "data": {
      "text/plain": [
       "<Arrow [2016-02-22T19:41:02.000037-08:00]>"
      ]
     },
     "execution_count": 52,
     "metadata": {},
     "output_type": "execute_result"
    }
   ],
   "source": [
    "arrow.get(time_fn(start_place.data.location.coordinates[1], start_place.data.location.coordinates[0])).to(\"America/Los_Angeles\")"
   ]
  },
  {
   "cell_type": "code",
   "execution_count": 53,
   "metadata": {
    "collapsed": false
   },
   "outputs": [
    {
     "data": {
      "text/plain": [
       "<Arrow [1969-12-31T16:00:00-08:00]>"
      ]
     },
     "execution_count": 53,
     "metadata": {},
     "output_type": "execute_result"
    }
   ],
   "source": [
    "arrow.get(time_fn(start_place.data.location.coordinates[0], start_place.data.location.coordinates[1])).to(\"America/Los_Angeles\")"
   ]
  },
  {
   "cell_type": "markdown",
   "metadata": {},
   "source": [
    "#### Doesn't work!! (19:41:02) is after the current trip start"
   ]
  },
  {
   "cell_type": "markdown",
   "metadata": {},
   "source": [
    "#### Use average time and distance to start to estimate travel time"
   ]
  },
  {
   "cell_type": "code",
   "execution_count": 54,
   "metadata": {
    "collapsed": true
   },
   "outputs": [],
   "source": [
    "import emission.analysis.intake.cleaning.clean_and_resample as eaicc\n",
    "import emission.analysis.point_features as pf\n",
    "import emission.core.common as ecc"
   ]
  },
  {
   "cell_type": "code",
   "execution_count": 55,
   "metadata": {
    "collapsed": false
   },
   "outputs": [
    {
     "data": {
      "text/html": [
       "<div>\n",
       "<table border=\"1\" class=\"dataframe\">\n",
       "  <thead>\n",
       "    <tr style=\"text-align: right;\">\n",
       "      <th></th>\n",
       "      <th>ts</th>\n",
       "      <th>fmt_time</th>\n",
       "      <th>latitude</th>\n",
       "      <th>longitude</th>\n",
       "    </tr>\n",
       "  </thead>\n",
       "  <tbody>\n",
       "    <tr>\n",
       "      <th>0</th>\n",
       "      <td>1456198859.136611</td>\n",
       "      <td>2016-02-22T19:40:59.136611-08:00</td>\n",
       "      <td>37.390988</td>\n",
       "      <td>-122.083723</td>\n",
       "    </tr>\n",
       "    <tr>\n",
       "      <th>1</th>\n",
       "      <td>1456198862.000037</td>\n",
       "      <td>2016-02-22T19:41:02.000037-08:00</td>\n",
       "      <td>37.390939</td>\n",
       "      <td>-122.083738</td>\n",
       "    </tr>\n",
       "  </tbody>\n",
       "</table>\n",
       "</div>"
      ],
      "text/plain": [
       "                 ts                          fmt_time  latitude   longitude\n",
       "0 1456198859.136611  2016-02-22T19:40:59.136611-08:00 37.390988 -122.083723\n",
       "1 1456198862.000037  2016-02-22T19:41:02.000037-08:00 37.390939 -122.083738"
      ]
     },
     "execution_count": 55,
     "metadata": {},
     "output_type": "execute_result"
    }
   ],
   "source": [
    "loc_entry_it = ts.find_entries([\"background/filtered_location\"],\n",
    "                                   esda.get_time_query_for_trip_like(\n",
    "                                       esda.RAW_SECTION_KEY, section_entry.get_id()))\n",
    "loc_entry_list = [ecwe.Entry(e) for e in loc_entry_it]\n",
    "loc_entry_df = pd.DataFrame([ts._to_df_entry(e) for e in loc_entry_list])\n",
    "loc_entry_df[[\"ts\", \"fmt_time\", \"latitude\", \"longitude\"]]"
   ]
  },
  {
   "cell_type": "code",
   "execution_count": 56,
   "metadata": {
    "collapsed": false
   },
   "outputs": [],
   "source": [
    "with_speeds_df = eaicl.add_dist_heading_speed(loc_entry_df)"
   ]
  },
  {
   "cell_type": "code",
   "execution_count": 57,
   "metadata": {
    "collapsed": false
   },
   "outputs": [
    {
     "data": {
      "text/plain": [
       "(0   0.000000\n",
       " 1   1.953422\n",
       " Name: speed, dtype: float64, 0   -1.000000\n",
       " 1    0.830000\n",
       " Name: sensed_speed, dtype: float64)"
      ]
     },
     "execution_count": 57,
     "metadata": {},
     "output_type": "execute_result"
    }
   ],
   "source": [
    "with_speeds_df.speed, with_speeds_df.sensed_speed"
   ]
  },
  {
   "cell_type": "code",
   "execution_count": 58,
   "metadata": {
    "collapsed": true
   },
   "outputs": [],
   "source": [
    "with_speeds_df_nona = with_speeds_df.dropna()"
   ]
  },
  {
   "cell_type": "code",
   "execution_count": 59,
   "metadata": {
    "collapsed": false
   },
   "outputs": [
    {
     "data": {
      "text/plain": [
       "0   0.000000\n",
       "1   1.953422\n",
       "Name: speed, dtype: float64"
      ]
     },
     "execution_count": 59,
     "metadata": {},
     "output_type": "execute_result"
    }
   ],
   "source": [
    "with_speeds_df.speed"
   ]
  },
  {
   "cell_type": "code",
   "execution_count": 60,
   "metadata": {
    "collapsed": false
   },
   "outputs": [
    {
     "data": {
      "text/plain": [
       "0.9767110416278179"
      ]
     },
     "execution_count": 60,
     "metadata": {},
     "output_type": "execute_result"
    }
   ],
   "source": [
    "with_speeds_df.speed.median()"
   ]
  },
  {
   "cell_type": "code",
   "execution_count": 61,
   "metadata": {
    "collapsed": true
   },
   "outputs": [],
   "source": [
    "start_place = ts.get_entry_from_id(esda.RAW_PLACE_KEY, hbtrip.start_place)"
   ]
  },
  {
   "cell_type": "code",
   "execution_count": 62,
   "metadata": {
    "collapsed": false
   },
   "outputs": [
    {
     "data": {
      "text/plain": [
       "([[-122.083723212413, 37.39098770265726]],\n",
       " [-122.0864089802965, 37.39077901331944])"
      ]
     },
     "execution_count": 62,
     "metadata": {},
     "output_type": "execute_result"
    }
   ],
   "source": [
    "[loc_entry_list[0].data.loc.coordinates], start_place.data.location.coordinates"
   ]
  },
  {
   "cell_type": "code",
   "execution_count": 63,
   "metadata": {
    "collapsed": false
   },
   "outputs": [
    {
     "name": "stdout",
     "output_type": "stream",
     "text": [
      "238.407845367\n"
     ]
    }
   ],
   "source": [
    "add_dist = ecc.calDistance(loc_entry_list[0].data.loc.coordinates, start_place.data.location.coordinates)\n",
    "print add_dist"
   ]
  },
  {
   "cell_type": "markdown",
   "metadata": {},
   "source": [
    "speed ($s$) is in m/s. dist ($d$) is in meters.\n",
    "so what we really need is\n",
    "\n",
    "| Distance (m) | Time (s) | \n",
    "| --- | ---- |\n",
    "| $s$ m | 1 sec |\n",
    "| $d$ m | ? secs = $\\frac{d}{s}$ |"
   ]
  },
  {
   "cell_type": "code",
   "execution_count": 64,
   "metadata": {
    "collapsed": false
   },
   "outputs": [
    {
     "data": {
      "text/plain": [
       "244.09250556802144"
      ]
     },
     "execution_count": 64,
     "metadata": {},
     "output_type": "execute_result"
    }
   ],
   "source": [
    "add_time = add_dist / with_speeds_df.speed.median()\n",
    "add_time"
   ]
  },
  {
   "cell_type": "code",
   "execution_count": 65,
   "metadata": {
    "collapsed": false
   },
   "outputs": [
    {
     "data": {
      "text/plain": [
       "11.06820842613369"
      ]
     },
     "execution_count": 65,
     "metadata": {},
     "output_type": "execute_result"
    }
   ],
   "source": [
    "(7 * 60  + add_time) / 60"
   ]
  },
  {
   "cell_type": "code",
   "execution_count": 66,
   "metadata": {
    "collapsed": false
   },
   "outputs": [
    {
     "data": {
      "text/plain": [
       "594.4078453668861"
      ]
     },
     "execution_count": 66,
     "metadata": {},
     "output_type": "execute_result"
    }
   ],
   "source": [
    "356 + add_dist"
   ]
  },
  {
   "cell_type": "markdown",
   "metadata": {},
   "source": [
    "### Closer to the real values (737m/13 mins), unsure if close enough"
   ]
  },
  {
   "cell_type": "markdown",
   "metadata": {},
   "source": [
    "## Hooking up the results to the standard data structure"
   ]
  },
  {
   "cell_type": "code",
   "execution_count": 67,
   "metadata": {
    "collapsed": true
   },
   "outputs": [],
   "source": [
    "ts_delta = add_dist * with_speeds_df.speed.median()"
   ]
  },
  {
   "cell_type": "code",
   "execution_count": 68,
   "metadata": {
    "collapsed": false
   },
   "outputs": [
    {
     "data": {
      "text/html": [
       "<div>\n",
       "<table border=\"1\" class=\"dataframe\">\n",
       "  <thead>\n",
       "    <tr style=\"text-align: right;\">\n",
       "      <th></th>\n",
       "      <th>ts</th>\n",
       "      <th>fmt_time</th>\n",
       "      <th>latitude</th>\n",
       "      <th>longitude</th>\n",
       "    </tr>\n",
       "  </thead>\n",
       "  <tbody>\n",
       "    <tr>\n",
       "      <th>0</th>\n",
       "      <td>1456198859.136611</td>\n",
       "      <td>2016-02-22T19:40:59.136611-08:00</td>\n",
       "      <td>37.390988</td>\n",
       "      <td>-122.083723</td>\n",
       "    </tr>\n",
       "    <tr>\n",
       "      <th>1</th>\n",
       "      <td>1456198862.000037</td>\n",
       "      <td>2016-02-22T19:41:02.000037-08:00</td>\n",
       "      <td>37.390939</td>\n",
       "      <td>-122.083738</td>\n",
       "    </tr>\n",
       "  </tbody>\n",
       "</table>\n",
       "</div>"
      ],
      "text/plain": [
       "                 ts                          fmt_time  latitude   longitude\n",
       "0 1456198859.136611  2016-02-22T19:40:59.136611-08:00 37.390988 -122.083723\n",
       "1 1456198862.000037  2016-02-22T19:41:02.000037-08:00 37.390939 -122.083738"
      ]
     },
     "execution_count": 68,
     "metadata": {},
     "output_type": "execute_result"
    }
   ],
   "source": [
    "loc_entry_it = ts.find_entries([\"background/filtered_location\"],\n",
    "                                   esda.get_time_query_for_trip_like(\n",
    "                                       esda.RAW_SECTION_KEY, section_entry.get_id()))\n",
    "loc_entry_list = [ecwe.Entry(e) for e in loc_entry_it]\n",
    "loc_entry_df = pd.DataFrame([ts._to_df_entry(e) for e in loc_entry_list])\n",
    "loc_entry_df[[\"ts\", \"fmt_time\", \"latitude\", \"longitude\"]]"
   ]
  },
  {
   "cell_type": "code",
   "execution_count": 69,
   "metadata": {
    "collapsed": false
   },
   "outputs": [
    {
     "data": {
      "text/plain": [
       "Index([              u'_id',          u'accuracy',          u'altitude',\n",
       "                  u'filter',             u'floor',          u'fmt_time',\n",
       "                 u'heading',          u'latitude',               u'loc',\n",
       "            u'local_dt_day',     u'local_dt_hour',   u'local_dt_minute',\n",
       "          u'local_dt_month',   u'local_dt_second', u'local_dt_timezone',\n",
       "        u'local_dt_weekday',     u'local_dt_year',         u'longitude',\n",
       "       u'metadata_write_ts',      u'sensed_speed',                u'ts',\n",
       "                 u'user_id',         u'vaccuracy'],\n",
       "      dtype='object')"
      ]
     },
     "execution_count": 69,
     "metadata": {},
     "output_type": "execute_result"
    }
   ],
   "source": [
    "loc_entry_df.columns"
   ]
  },
  {
   "cell_type": "code",
   "execution_count": 70,
   "metadata": {
    "collapsed": false
   },
   "outputs": [],
   "source": [
    "start_place_enter_loc_entry = ecwe.Entry(ts.get_entry_at_ts(\"background/filtered_location\", \"data.ts\", start_place.data.enter_ts))"
   ]
  },
  {
   "cell_type": "code",
   "execution_count": 71,
   "metadata": {
    "collapsed": false
   },
   "outputs": [
    {
     "data": {
      "text/plain": [
       "Entry({u'user_id': UUID('c528bcd2-a88b-3e82-be62-ef4f2396967a'), u'_id': ObjectId('56cbcb48eaedff78c76364a1'), u'data': {u'loc': {u'type': u'Point', u'coordinates': [-122.0864089802965, 37.39077901331944]}, u'fmt_time': u'2016-02-22T16:57:04.000037-08:00', u'altitude': 23.24042189585946, u'floor': 0, u'vaccuracy': 3, u'ts': 1456189024.000037, u'longitude': -122.0864089802965, u'filter': u'distance', u'local_dt': {u'hour': 16, u'month': 2, u'second': 4, u'weekday': 0, u'year': 2016, u'timezone': u'America/Los_Angeles', u'day': 22, u'minute': 57}, u'latitude': 37.39077901331944, u'heading': 211.2995758056641, u'sensed_speed': 2.700000047683716, u'accuracy': 5}, u'metadata': {u'write_fmt_time': u'2016-02-22T16:57:04.281355-08:00', u'plugin': u'none', u'write_ts': 1456189024.281355, u'time_zone': u'America/Los_Angeles', u'platform': u'ios', u'write_local_dt': {u'hour': 16, u'month': 2, u'second': 4, u'weekday': 0, u'year': 2016, u'timezone': u'America/Los_Angeles', u'day': 22, u'minute': 57}, u'key': u'background/filtered_location', u'read_ts': 0, u'type': u'sensor-data'}})"
      ]
     },
     "execution_count": 71,
     "metadata": {},
     "output_type": "execute_result"
    }
   ],
   "source": [
    "start_place_enter_loc_entry"
   ]
  },
  {
   "cell_type": "code",
   "execution_count": 72,
   "metadata": {
    "collapsed": true
   },
   "outputs": [],
   "source": [
    "loc_entry_list.insert(0, start_place_enter_loc_entry)"
   ]
  },
  {
   "cell_type": "code",
   "execution_count": 73,
   "metadata": {
    "collapsed": false,
    "scrolled": false
   },
   "outputs": [
    {
     "data": {
      "text/html": [
       "<div>\n",
       "<table border=\"1\" class=\"dataframe\">\n",
       "  <thead>\n",
       "    <tr style=\"text-align: right;\">\n",
       "      <th></th>\n",
       "      <th>ts</th>\n",
       "      <th>fmt_time</th>\n",
       "      <th>latitude</th>\n",
       "      <th>longitude</th>\n",
       "    </tr>\n",
       "  </thead>\n",
       "  <tbody>\n",
       "    <tr>\n",
       "      <th>0</th>\n",
       "      <td>1456189024.000037</td>\n",
       "      <td>2016-02-22T16:57:04.000037-08:00</td>\n",
       "      <td>37.390779</td>\n",
       "      <td>-122.086409</td>\n",
       "    </tr>\n",
       "    <tr>\n",
       "      <th>1</th>\n",
       "      <td>1456198859.136611</td>\n",
       "      <td>2016-02-22T19:40:59.136611-08:00</td>\n",
       "      <td>37.390988</td>\n",
       "      <td>-122.083723</td>\n",
       "    </tr>\n",
       "    <tr>\n",
       "      <th>2</th>\n",
       "      <td>1456198862.000037</td>\n",
       "      <td>2016-02-22T19:41:02.000037-08:00</td>\n",
       "      <td>37.390939</td>\n",
       "      <td>-122.083738</td>\n",
       "    </tr>\n",
       "  </tbody>\n",
       "</table>\n",
       "</div>"
      ],
      "text/plain": [
       "                 ts                          fmt_time  latitude   longitude\n",
       "0 1456189024.000037  2016-02-22T16:57:04.000037-08:00 37.390779 -122.086409\n",
       "1 1456198859.136611  2016-02-22T19:40:59.136611-08:00 37.390988 -122.083723\n",
       "2 1456198862.000037  2016-02-22T19:41:02.000037-08:00 37.390939 -122.083738"
      ]
     },
     "execution_count": 73,
     "metadata": {},
     "output_type": "execute_result"
    }
   ],
   "source": [
    "loc_entry_df = pd.DataFrame([ts._to_df_entry(e) for e in loc_entry_list])\n",
    "loc_entry_df[[\"ts\", \"fmt_time\", \"latitude\", \"longitude\"]]"
   ]
  },
  {
   "cell_type": "code",
   "execution_count": 74,
   "metadata": {
    "collapsed": false
   },
   "outputs": [
    {
     "data": {
      "text/plain": [
       "(1456198626.2810359, <Arrow [2016-02-22T19:37:06.281036-08:00]>)"
      ]
     },
     "execution_count": 74,
     "metadata": {},
     "output_type": "execute_result"
    }
   ],
   "source": [
    "new_start_ts = loc_entry_df.loc[1].ts - ts_delta\n",
    "new_start_ts, arrow.get(new_start_ts).to(\"America/Los_Angeles\")"
   ]
  },
  {
   "cell_type": "code",
   "execution_count": 75,
   "metadata": {
    "collapsed": false
   },
   "outputs": [
    {
     "name": "stderr",
     "output_type": "stream",
     "text": [
      "/Users/shankari/OSS/anaconda/lib/python2.7/site-packages/pandas/core/indexing.py:115: SettingWithCopyWarning: \n",
      "A value is trying to be set on a copy of a slice from a DataFrame\n",
      "\n",
      "See the caveats in the documentation: http://pandas.pydata.org/pandas-docs/stable/indexing.html#indexing-view-versus-copy\n",
      "  self._setitem_with_indexer(indexer, value)\n"
     ]
    }
   ],
   "source": [
    "loc_entry_df.ts.iloc[0] = new_start_ts\n",
    "loc_entry_df.fmt_time.iloc[0] = arrow.get(new_start_ts).to(start_place_enter_loc_entry.data.local_dt.timezone)"
   ]
  },
  {
   "cell_type": "code",
   "execution_count": 76,
   "metadata": {
    "collapsed": false,
    "scrolled": true
   },
   "outputs": [
    {
     "data": {
      "text/html": [
       "<div>\n",
       "<table border=\"1\" class=\"dataframe\">\n",
       "  <thead>\n",
       "    <tr style=\"text-align: right;\">\n",
       "      <th></th>\n",
       "      <th>_id</th>\n",
       "      <th>accuracy</th>\n",
       "      <th>altitude</th>\n",
       "      <th>filter</th>\n",
       "      <th>floor</th>\n",
       "      <th>fmt_time</th>\n",
       "      <th>heading</th>\n",
       "      <th>latitude</th>\n",
       "      <th>loc</th>\n",
       "      <th>local_dt_day</th>\n",
       "      <th>...</th>\n",
       "      <th>local_dt_second</th>\n",
       "      <th>local_dt_timezone</th>\n",
       "      <th>local_dt_weekday</th>\n",
       "      <th>local_dt_year</th>\n",
       "      <th>longitude</th>\n",
       "      <th>metadata_write_ts</th>\n",
       "      <th>sensed_speed</th>\n",
       "      <th>ts</th>\n",
       "      <th>user_id</th>\n",
       "      <th>vaccuracy</th>\n",
       "    </tr>\n",
       "  </thead>\n",
       "  <tbody>\n",
       "    <tr>\n",
       "      <th>0</th>\n",
       "      <td>56cbcb48eaedff78c76364a1</td>\n",
       "      <td>5</td>\n",
       "      <td>23.240422</td>\n",
       "      <td>distance</td>\n",
       "      <td>0</td>\n",
       "      <td>2016-02-22T19:37:06.281036-08:00</td>\n",
       "      <td>211.299576</td>\n",
       "      <td>37.390779</td>\n",
       "      <td>{u'type': u'Point', u'coordinates': [-122.0864...</td>\n",
       "      <td>22</td>\n",
       "      <td>...</td>\n",
       "      <td>4</td>\n",
       "      <td>America/Los_Angeles</td>\n",
       "      <td>0</td>\n",
       "      <td>2016</td>\n",
       "      <td>-122.086409</td>\n",
       "      <td>1456189024.281355</td>\n",
       "      <td>2.700000</td>\n",
       "      <td>1456198626.281036</td>\n",
       "      <td>c528bcd2-a88b-3e82-be62-ef4f2396967a</td>\n",
       "      <td>3.000000</td>\n",
       "    </tr>\n",
       "    <tr>\n",
       "      <th>1</th>\n",
       "      <td>56cbf56beaedff78c76369ec</td>\n",
       "      <td>65</td>\n",
       "      <td>33.000000</td>\n",
       "      <td>distance</td>\n",
       "      <td>0</td>\n",
       "      <td>2016-02-22T19:40:59.136611-08:00</td>\n",
       "      <td>-1.000000</td>\n",
       "      <td>37.390988</td>\n",
       "      <td>{u'type': u'Point', u'coordinates': [-122.0837...</td>\n",
       "      <td>22</td>\n",
       "      <td>...</td>\n",
       "      <td>59</td>\n",
       "      <td>America/Los_Angeles</td>\n",
       "      <td>0</td>\n",
       "      <td>2016</td>\n",
       "      <td>-122.083723</td>\n",
       "      <td>1456198860.176294</td>\n",
       "      <td>-1.000000</td>\n",
       "      <td>1456198859.136611</td>\n",
       "      <td>c528bcd2-a88b-3e82-be62-ef4f2396967a</td>\n",
       "      <td>62.250000</td>\n",
       "    </tr>\n",
       "    <tr>\n",
       "      <th>2</th>\n",
       "      <td>56cbf56beaedff78c76369ee</td>\n",
       "      <td>10</td>\n",
       "      <td>33.781250</td>\n",
       "      <td>distance</td>\n",
       "      <td>0</td>\n",
       "      <td>2016-02-22T19:41:02.000037-08:00</td>\n",
       "      <td>158.554688</td>\n",
       "      <td>37.390939</td>\n",
       "      <td>{u'type': u'Point', u'coordinates': [-122.0837...</td>\n",
       "      <td>22</td>\n",
       "      <td>...</td>\n",
       "      <td>2</td>\n",
       "      <td>America/Los_Angeles</td>\n",
       "      <td>0</td>\n",
       "      <td>2016</td>\n",
       "      <td>-122.083738</td>\n",
       "      <td>1456198862.140979</td>\n",
       "      <td>0.830000</td>\n",
       "      <td>1456198862.000037</td>\n",
       "      <td>c528bcd2-a88b-3e82-be62-ef4f2396967a</td>\n",
       "      <td>12.000000</td>\n",
       "    </tr>\n",
       "  </tbody>\n",
       "</table>\n",
       "<p>3 rows × 23 columns</p>\n",
       "</div>"
      ],
      "text/plain": [
       "                        _id  accuracy  altitude    filter  floor  \\\n",
       "0  56cbcb48eaedff78c76364a1         5 23.240422  distance      0   \n",
       "1  56cbf56beaedff78c76369ec        65 33.000000  distance      0   \n",
       "2  56cbf56beaedff78c76369ee        10 33.781250  distance      0   \n",
       "\n",
       "                           fmt_time    heading  latitude  \\\n",
       "0  2016-02-22T19:37:06.281036-08:00 211.299576 37.390779   \n",
       "1  2016-02-22T19:40:59.136611-08:00  -1.000000 37.390988   \n",
       "2  2016-02-22T19:41:02.000037-08:00 158.554688 37.390939   \n",
       "\n",
       "                                                 loc  local_dt_day    ...      \\\n",
       "0  {u'type': u'Point', u'coordinates': [-122.0864...            22    ...       \n",
       "1  {u'type': u'Point', u'coordinates': [-122.0837...            22    ...       \n",
       "2  {u'type': u'Point', u'coordinates': [-122.0837...            22    ...       \n",
       "\n",
       "   local_dt_second    local_dt_timezone  local_dt_weekday  local_dt_year  \\\n",
       "0                4  America/Los_Angeles                 0           2016   \n",
       "1               59  America/Los_Angeles                 0           2016   \n",
       "2                2  America/Los_Angeles                 0           2016   \n",
       "\n",
       "    longitude  metadata_write_ts  sensed_speed                ts  \\\n",
       "0 -122.086409  1456189024.281355      2.700000 1456198626.281036   \n",
       "1 -122.083723  1456198860.176294     -1.000000 1456198859.136611   \n",
       "2 -122.083738  1456198862.140979      0.830000 1456198862.000037   \n",
       "\n",
       "                                user_id  vaccuracy  \n",
       "0  c528bcd2-a88b-3e82-be62-ef4f2396967a   3.000000  \n",
       "1  c528bcd2-a88b-3e82-be62-ef4f2396967a  62.250000  \n",
       "2  c528bcd2-a88b-3e82-be62-ef4f2396967a  12.000000  \n",
       "\n",
       "[3 rows x 23 columns]"
      ]
     },
     "execution_count": 76,
     "metadata": {},
     "output_type": "execute_result"
    }
   ],
   "source": [
    "loc_entry_df"
   ]
  },
  {
   "cell_type": "markdown",
   "metadata": {},
   "source": [
    "## Sanity testing some longer trips (to and from Stevenson in the afternoon)"
   ]
  },
  {
   "cell_type": "markdown",
   "metadata": {},
   "source": [
    "### To Stevenson (around 1pm)"
   ]
  },
  {
   "cell_type": "code",
   "execution_count": 77,
   "metadata": {
    "collapsed": true
   },
   "outputs": [],
   "source": [
    "trip = trips_df.iloc[3] "
   ]
  },
  {
   "cell_type": "code",
   "execution_count": 78,
   "metadata": {
    "collapsed": true
   },
   "outputs": [],
   "source": [
    "trip_id = trip._id"
   ]
  },
  {
   "cell_type": "code",
   "execution_count": 79,
   "metadata": {
    "collapsed": false
   },
   "outputs": [
    {
     "data": {
      "text/plain": [
       "1"
      ]
     },
     "execution_count": 79,
     "metadata": {},
     "output_type": "execute_result"
    }
   ],
   "source": [
    "len(esdt.get_raw_sections_for_trip(curr_id, trip_id))"
   ]
  },
  {
   "cell_type": "code",
   "execution_count": 80,
   "metadata": {
    "collapsed": false
   },
   "outputs": [],
   "source": [
    "section_entry = esdt.get_raw_sections_for_trip(curr_id, trip_id)[0]"
   ]
  },
  {
   "cell_type": "code",
   "execution_count": 81,
   "metadata": {
    "collapsed": false
   },
   "outputs": [
    {
     "data": {
      "text/plain": [
       "({\"coordinates\": [-122.0814648271744, 37.39806556612011], \"type\": \"Point\"},\n",
       " u'2016-02-22T13:07:22.999994-08:00')"
      ]
     },
     "execution_count": 81,
     "metadata": {},
     "output_type": "execute_result"
    }
   ],
   "source": [
    "section_entry.data.start_loc, section_entry.data.start_fmt_time"
   ]
  },
  {
   "cell_type": "code",
   "execution_count": 82,
   "metadata": {
    "collapsed": false
   },
   "outputs": [],
   "source": [
    "ts = esta.TimeSeries.get_time_series(curr_id)"
   ]
  },
  {
   "cell_type": "code",
   "execution_count": 83,
   "metadata": {
    "collapsed": false
   },
   "outputs": [
    {
     "data": {
      "text/html": [
       "<div>\n",
       "<table border=\"1\" class=\"dataframe\">\n",
       "  <thead>\n",
       "    <tr style=\"text-align: right;\">\n",
       "      <th></th>\n",
       "      <th>ts</th>\n",
       "      <th>fmt_time</th>\n",
       "      <th>latitude</th>\n",
       "      <th>longitude</th>\n",
       "    </tr>\n",
       "  </thead>\n",
       "  <tbody>\n",
       "    <tr>\n",
       "      <th>0</th>\n",
       "      <td>1456175242.999994</td>\n",
       "      <td>2016-02-22T13:07:22.999994-08:00</td>\n",
       "      <td>37.398066</td>\n",
       "      <td>-122.081465</td>\n",
       "    </tr>\n",
       "    <tr>\n",
       "      <th>1</th>\n",
       "      <td>1456175245.999949</td>\n",
       "      <td>2016-02-22T13:07:25.999949-08:00</td>\n",
       "      <td>37.398509</td>\n",
       "      <td>-122.081235</td>\n",
       "    </tr>\n",
       "    <tr>\n",
       "      <th>2</th>\n",
       "      <td>1456175248.999949</td>\n",
       "      <td>2016-02-22T13:07:28.999949-08:00</td>\n",
       "      <td>37.398987</td>\n",
       "      <td>-122.081067</td>\n",
       "    </tr>\n",
       "    <tr>\n",
       "      <th>3</th>\n",
       "      <td>1456175252.999949</td>\n",
       "      <td>2016-02-22T13:07:32.999949-08:00</td>\n",
       "      <td>37.399448</td>\n",
       "      <td>-122.080887</td>\n",
       "    </tr>\n",
       "    <tr>\n",
       "      <th>4</th>\n",
       "      <td>1456175262.999950</td>\n",
       "      <td>2016-02-22T13:07:42.999950-08:00</td>\n",
       "      <td>37.399812</td>\n",
       "      <td>-122.081338</td>\n",
       "    </tr>\n",
       "    <tr>\n",
       "      <th>5</th>\n",
       "      <td>1456175269.999950</td>\n",
       "      <td>2016-02-22T13:07:49.999950-08:00</td>\n",
       "      <td>37.399919</td>\n",
       "      <td>-122.081979</td>\n",
       "    </tr>\n",
       "    <tr>\n",
       "      <th>6</th>\n",
       "      <td>1456175275.999949</td>\n",
       "      <td>2016-02-22T13:07:55.999949-08:00</td>\n",
       "      <td>37.400036</td>\n",
       "      <td>-122.082636</td>\n",
       "    </tr>\n",
       "    <tr>\n",
       "      <th>7</th>\n",
       "      <td>1456175279.999950</td>\n",
       "      <td>2016-02-22T13:07:59.999950-08:00</td>\n",
       "      <td>37.400158</td>\n",
       "      <td>-122.083314</td>\n",
       "    </tr>\n",
       "    <tr>\n",
       "      <th>8</th>\n",
       "      <td>1456175283.999949</td>\n",
       "      <td>2016-02-22T13:08:03.999949-08:00</td>\n",
       "      <td>37.400282</td>\n",
       "      <td>-122.083989</td>\n",
       "    </tr>\n",
       "    <tr>\n",
       "      <th>9</th>\n",
       "      <td>1456175287.999949</td>\n",
       "      <td>2016-02-22T13:08:07.999949-08:00</td>\n",
       "      <td>37.400391</td>\n",
       "      <td>-122.084554</td>\n",
       "    </tr>\n",
       "    <tr>\n",
       "      <th>10</th>\n",
       "      <td>1456175299.999949</td>\n",
       "      <td>2016-02-22T13:08:19.999949-08:00</td>\n",
       "      <td>37.400509</td>\n",
       "      <td>-122.085121</td>\n",
       "    </tr>\n",
       "    <tr>\n",
       "      <th>11</th>\n",
       "      <td>1456175306.999950</td>\n",
       "      <td>2016-02-22T13:08:26.999950-08:00</td>\n",
       "      <td>37.401000</td>\n",
       "      <td>-122.084964</td>\n",
       "    </tr>\n",
       "    <tr>\n",
       "      <th>12</th>\n",
       "      <td>1456175311.999950</td>\n",
       "      <td>2016-02-22T13:08:31.999950-08:00</td>\n",
       "      <td>37.401471</td>\n",
       "      <td>-122.084930</td>\n",
       "    </tr>\n",
       "    <tr>\n",
       "      <th>13</th>\n",
       "      <td>1456175317.999950</td>\n",
       "      <td>2016-02-22T13:08:37.999950-08:00</td>\n",
       "      <td>37.402053</td>\n",
       "      <td>-122.085103</td>\n",
       "    </tr>\n",
       "    <tr>\n",
       "      <th>14</th>\n",
       "      <td>1456175322.999949</td>\n",
       "      <td>2016-02-22T13:08:42.999949-08:00</td>\n",
       "      <td>37.402549</td>\n",
       "      <td>-122.085061</td>\n",
       "    </tr>\n",
       "    <tr>\n",
       "      <th>15</th>\n",
       "      <td>1456175334.999949</td>\n",
       "      <td>2016-02-22T13:08:54.999949-08:00</td>\n",
       "      <td>37.402933</td>\n",
       "      <td>-122.084745</td>\n",
       "    </tr>\n",
       "    <tr>\n",
       "      <th>16</th>\n",
       "      <td>1456175549.999949</td>\n",
       "      <td>2016-02-22T13:12:29.999949-08:00</td>\n",
       "      <td>37.403384</td>\n",
       "      <td>-122.084667</td>\n",
       "    </tr>\n",
       "    <tr>\n",
       "      <th>17</th>\n",
       "      <td>1456175596.999949</td>\n",
       "      <td>2016-02-22T13:13:16.999949-08:00</td>\n",
       "      <td>37.403552</td>\n",
       "      <td>-122.084140</td>\n",
       "    </tr>\n",
       "  </tbody>\n",
       "</table>\n",
       "</div>"
      ],
      "text/plain": [
       "                  ts                          fmt_time  latitude   longitude\n",
       "0  1456175242.999994  2016-02-22T13:07:22.999994-08:00 37.398066 -122.081465\n",
       "1  1456175245.999949  2016-02-22T13:07:25.999949-08:00 37.398509 -122.081235\n",
       "2  1456175248.999949  2016-02-22T13:07:28.999949-08:00 37.398987 -122.081067\n",
       "3  1456175252.999949  2016-02-22T13:07:32.999949-08:00 37.399448 -122.080887\n",
       "4  1456175262.999950  2016-02-22T13:07:42.999950-08:00 37.399812 -122.081338\n",
       "5  1456175269.999950  2016-02-22T13:07:49.999950-08:00 37.399919 -122.081979\n",
       "6  1456175275.999949  2016-02-22T13:07:55.999949-08:00 37.400036 -122.082636\n",
       "7  1456175279.999950  2016-02-22T13:07:59.999950-08:00 37.400158 -122.083314\n",
       "8  1456175283.999949  2016-02-22T13:08:03.999949-08:00 37.400282 -122.083989\n",
       "9  1456175287.999949  2016-02-22T13:08:07.999949-08:00 37.400391 -122.084554\n",
       "10 1456175299.999949  2016-02-22T13:08:19.999949-08:00 37.400509 -122.085121\n",
       "11 1456175306.999950  2016-02-22T13:08:26.999950-08:00 37.401000 -122.084964\n",
       "12 1456175311.999950  2016-02-22T13:08:31.999950-08:00 37.401471 -122.084930\n",
       "13 1456175317.999950  2016-02-22T13:08:37.999950-08:00 37.402053 -122.085103\n",
       "14 1456175322.999949  2016-02-22T13:08:42.999949-08:00 37.402549 -122.085061\n",
       "15 1456175334.999949  2016-02-22T13:08:54.999949-08:00 37.402933 -122.084745\n",
       "16 1456175549.999949  2016-02-22T13:12:29.999949-08:00 37.403384 -122.084667\n",
       "17 1456175596.999949  2016-02-22T13:13:16.999949-08:00 37.403552 -122.084140"
      ]
     },
     "execution_count": 83,
     "metadata": {},
     "output_type": "execute_result"
    }
   ],
   "source": [
    "loc_entry_it = ts.find_entries([\"background/filtered_location\"],\n",
    "                                   esda.get_time_query_for_trip_like(\n",
    "                                       esda.RAW_SECTION_KEY, section_entry.get_id()))\n",
    "loc_entry_list = [ecwe.Entry(e) for e in loc_entry_it]\n",
    "loc_entry_df = pd.DataFrame([ts._to_df_entry(e) for e in loc_entry_list])\n",
    "loc_entry_df[[\"ts\", \"fmt_time\", \"latitude\", \"longitude\"]]"
   ]
  },
  {
   "cell_type": "code",
   "execution_count": 84,
   "metadata": {
    "collapsed": false
   },
   "outputs": [
    {
     "name": "stdout",
     "output_type": "stream",
     "text": [
      "Found 18 features from 18 points\n"
     ]
    },
    {
     "data": {
      "text/html": [
       "<iframe srcdoc=\"<table width=&quot;100%&quot;>\n",
       "<tr><td>&lt;iframe srcdoc=&quot;&lt;!DOCTYPE html&gt;\n",
       "&lt;head&gt;\n",
       "   &lt;meta http-equiv=&amp;quot;content-type&amp;quot; content=&amp;quot;text/html; charset=UTF-8&amp;quot; /&gt;\n",
       "   &lt;link rel=&amp;quot;stylesheet&amp;quot; href=&amp;quot;https://cdnjs.cloudflare.com/ajax/libs/leaflet/0.7.3/leaflet.css&amp;quot; /&gt;\n",
       "   &lt;script src=&amp;quot;https://cdnjs.cloudflare.com/ajax/libs/leaflet/0.7.3/leaflet.js&amp;quot;&gt;&lt;/script&gt;\n",
       "\n",
       "   &lt;script src=&amp;quot;https://ajax.googleapis.com/ajax/libs/jquery/1.11.1/jquery.min.js&amp;quot;&gt;&lt;/script&gt;\n",
       "\n",
       "   &lt;link rel=&amp;quot;stylesheet&amp;quot; href=&amp;quot;https://maxcdn.bootstrapcdn.com/bootstrap/3.2.0/css/bootstrap.min.css&amp;quot;&gt;\n",
       "   &lt;link rel=&amp;quot;stylesheet&amp;quot; href=&amp;quot;https://maxcdn.bootstrapcdn.com/bootstrap/3.2.0/css/bootstrap-theme.min.css&amp;quot;&gt;\n",
       "   &lt;script src=&amp;quot;https://maxcdn.bootstrapcdn.com/bootstrap/3.2.0/js/bootstrap.min.js&amp;quot;&gt;&lt;/script&gt;\n",
       "\n",
       "   &lt;link href=&amp;quot;https://maxcdn.bootstrapcdn.com/font-awesome/4.1.0/css/font-awesome.min.css&amp;quot; rel=&amp;quot;stylesheet&amp;quot;&gt;\n",
       "\n",
       "   &lt;link rel=&amp;quot;stylesheet&amp;quot; href=&amp;quot;https://rawgit.com/lvoogdt/Leaflet.awesome-markers/2.0/develop/dist/leaflet.awesome-markers.css&amp;quot;&gt;\n",
       "   &lt;script src=&amp;quot;https://rawgithub.com/lvoogdt/Leaflet.awesome-markers/2.0/develop/dist/leaflet.awesome-markers.js&amp;quot;&gt;&lt;/script&gt;\n",
       "\n",
       "\n",
       "   &lt;link rel=&amp;quot;stylesheet&amp;quot; href=&amp;quot;https://cdnjs.cloudflare.com/ajax/libs/leaflet.markercluster/0.4.0/MarkerCluster.Default.css&amp;quot;&gt;\n",
       "   &lt;link rel=&amp;quot;stylesheet&amp;quot; href=&amp;quot;https://cdnjs.cloudflare.com/ajax/libs/leaflet.markercluster/0.4.0/MarkerCluster.css&amp;quot;&gt;\n",
       "   &lt;script src=&amp;quot;https://cdnjs.cloudflare.com/ajax/libs/leaflet.markercluster/0.4.0/leaflet.markercluster-src.js&amp;quot;&gt;&lt;/script&gt;\n",
       "   &lt;script src=&amp;quot;https://cdnjs.cloudflare.com/ajax/libs/leaflet.markercluster/0.4.0/leaflet.markercluster.js&amp;quot;&gt;&lt;/script&gt;\n",
       "\n",
       "   &lt;link rel=&amp;quot;stylesheet&amp;quot; href=&amp;quot;https://raw.githubusercontent.com/python-visualization/folium/master/folium/templates/leaflet.awesome.rotate.css&amp;quot;&gt;\n",
       "\n",
       "    \n",
       "        \n",
       "        \n",
       "            \n",
       "    \n",
       "        &lt;link rel=&amp;quot;stylesheet&amp;quot; href=&amp;quot;http://code.ionicframework.com/ionicons/1.5.2/css/ionicons.min.css&amp;quot;&gt;\n",
       "    \n",
       "\n",
       "            \n",
       "        \n",
       "    \n",
       "\n",
       "   \n",
       "   \n",
       "   \n",
       "   \n",
       "\n",
       "   &lt;style&gt;\n",
       "\n",
       "      html, body {\n",
       "        width: 100%;\n",
       "        height: 100%;\n",
       "        margin: 0;\n",
       "        padding: 0;\n",
       "      }\n",
       "\n",
       "      #map {\n",
       "        position:absolute;\n",
       "        top:0;\n",
       "        bottom:0;\n",
       "        right:0;\n",
       "        left:0;\n",
       "      }\n",
       "\n",
       "    \n",
       "        \n",
       "        \n",
       "            \n",
       "            \n",
       "        \n",
       "    \n",
       "\n",
       "   &lt;/style&gt;\n",
       "&lt;/head&gt;\n",
       "\n",
       "&lt;body&gt;\n",
       "\n",
       "   &lt;div class=&amp;quot;folium-map&amp;quot; id=&amp;quot;folium_f1773f2337634dd4a657ad1ed1a079f1&amp;quot; style=&amp;quot;width: 100%; height: 100%&amp;quot;&gt;&lt;/div&gt;\n",
       "\n",
       "    \n",
       "        \n",
       "        \n",
       "            \n",
       "            \n",
       "        \n",
       "    \n",
       "\n",
       "   &lt;script&gt;\n",
       "\n",
       "      \n",
       "\n",
       "      var base_tile = L.tileLayer('https://{s}.tile.openstreetmap.org/{z}/{x}/{y}.png', {\n",
       "          maxZoom: 18,\n",
       "          minZoom: 1,\n",
       "          attribution: 'Map data (c) &lt;a href=&amp;quot;http://openstreetmap.org&amp;quot;&gt;OpenStreetMap&lt;/a&gt; contributors'\n",
       "      });\n",
       "\n",
       "      var baseLayer = {\n",
       "        &amp;quot;Base Layer&amp;quot;: base_tile\n",
       "      };\n",
       "\n",
       "      /*\n",
       "      addition of the wms layers\n",
       "      */\n",
       "\n",
       "      \n",
       "\n",
       "      /*\n",
       "      addition of the tile layers\n",
       "      */\n",
       "      \n",
       "\n",
       "      /*\n",
       "      list of layers to be added\n",
       "      */\n",
       "      var layer_list = {\n",
       "      \n",
       "      };\n",
       "\n",
       "      /*\n",
       "      Bounding box.\n",
       "      */\n",
       "      var southWest = L.latLng(-90, -180),\n",
       "          northEast = L.latLng(90, 180),\n",
       "          bounds = L.latLngBounds(southWest, northEast);\n",
       "\n",
       "      /*\n",
       "      Creates the map and adds the selected layers\n",
       "      */\n",
       "      var map = L.map('folium_f1773f2337634dd4a657ad1ed1a079f1', {\n",
       "                                       center:[37.4008088163, -122.082802327],\n",
       "                                       zoom: 10,\n",
       "                                       maxBounds: bounds,\n",
       "                                       layers: [base_tile]\n",
       "                                     });\n",
       "\n",
       "      // L.control.layers(baseLayer, layer_list).addTo(map);\n",
       "\n",
       "      /*\n",
       "      addition of the image layers\n",
       "      */\n",
       "      \n",
       "\n",
       "      //cluster group\n",
       "      var clusteredmarkers = L.markerClusterGroup();\n",
       "      //section for adding clustered markers\n",
       "      \n",
       "      //add the clustered markers to the group anyway\n",
       "      map.addLayer(clusteredmarkers);\n",
       "\n",
       "      \n",
       "\n",
       "      \n",
       "\n",
       "      \n",
       "\n",
       "      \n",
       "\n",
       "      \n",
       "\n",
       "      \n",
       "\n",
       "      \n",
       "\n",
       "\n",
       "\n",
       "    \n",
       "        \n",
       "        \n",
       "            \n",
       "    \n",
       "          function style_feature(feature) {\n",
       "            switch(feature.properties.feature_type) {\n",
       "                case &amp;quot;section&amp;quot;: return style_section(feature);\n",
       "                case &amp;quot;stop&amp;quot;: return style_stop(feature);\n",
       "                default: return {}\n",
       "            }\n",
       "          }\n",
       "\n",
       "          function onEachFeature(feature, layer) {\n",
       "            switch(feature.properties.feature_type) {\n",
       "                case &amp;quot;stop&amp;quot;: layer.bindPopup(&amp;quot;&amp;quot;+feature.properties.duration); break;\n",
       "                case &amp;quot;start_place&amp;quot;: layer.bindPopup(feature.properties.exit_fmt_time); break;\n",
       "                case &amp;quot;end_place&amp;quot;: layer.bindPopup(feature.properties.enter_fmt_time); break;\n",
       "                case &amp;quot;section&amp;quot;: layer.bindPopup(getHumanReadable(feature.properties.sensed_mode)); break;\n",
       "                case &amp;quot;location&amp;quot;: layer.bindPopup(JSON.stringify(feature.properties)); break\n",
       "            }\n",
       "          }\n",
       "\n",
       "          function getHumanReadable(sensed_mode) {\n",
       "            ret_string = sensed_mode.split('.')[1]\n",
       "            if(ret_string == 'ON_FOOT') {\n",
       "                return 'WALKING';\n",
       "            } else {\n",
       "                return ret_string;\n",
       "            }\n",
       "          }\n",
       "\n",
       "          function getColoredStyle(baseDict, color) {\n",
       "            baseDict.color = color\n",
       "            return baseDict\n",
       "          }\n",
       "\n",
       "          function style_section(feature) {\n",
       "            var baseDict = {\n",
       "                    weight: 5,\n",
       "                    opacity: 1,\n",
       "            };\n",
       "            mode_string = getHumanReadable(feature.properties.sensed_mode);\n",
       "            switch(mode_string) {\n",
       "                case &amp;quot;WALKING&amp;quot;: return getColoredStyle(baseDict, 'brown');\n",
       "                case &amp;quot;BICYCLING&amp;quot;: return getColoredStyle(baseDict, 'green');\n",
       "                case &amp;quot;TRANSPORT&amp;quot;: return getColoredStyle(baseDict, 'red');\n",
       "                default: return getColoredStyle(baseDict, 'black');\n",
       "            }\n",
       "          }\n",
       "\n",
       "          function style_stop(feature) {\n",
       "            return {fillColor: 'yellow', fillOpacity: 0.8};\n",
       "          }\n",
       "\n",
       "          var pointIcon = L.divIcon({className: 'leaflet-div-icon', iconSize: [5, 5]});\n",
       "\n",
       "          var startMarker = L.AwesomeMarkers.icon({\n",
       "            icon: 'play',\n",
       "            prefix: 'ion',\n",
       "            markerColor: 'green'\n",
       "          });\n",
       "\n",
       "          var stopMarker = L.AwesomeMarkers.icon({\n",
       "            icon: 'stop',\n",
       "            prefix: 'ion',\n",
       "            markerColor: 'red'\n",
       "          });\n",
       "\n",
       "          function pointFormat(feature, latlng) {\n",
       "            switch(feature.properties.feature_type) {\n",
       "                case &amp;quot;start_place&amp;quot;: return L.marker(latlng, {icon: startMarker})\n",
       "                case &amp;quot;end_place&amp;quot;: return L.marker(latlng, {icon: stopMarker})\n",
       "                case &amp;quot;stop&amp;quot;: return L.circleMarker(latlng)\n",
       "                case &amp;quot;location&amp;quot;: return L.marker(latlng, {icon: pointIcon})\n",
       "                default: alert(&amp;quot;Found unknown type in feature&amp;quot;  + feature); return L.marker(latlng)\n",
       "            }\n",
       "          }\n",
       "    \n",
       "\n",
       "    var gjson_layer_0 = L.geoJson({&amp;quot;type&amp;quot;: &amp;quot;FeatureCollection&amp;quot;, &amp;quot;features&amp;quot;: [{&amp;quot;type&amp;quot;: &amp;quot;FeatureCollection&amp;quot;, &amp;quot;features&amp;quot;: [{&amp;quot;geometry&amp;quot;: {&amp;quot;type&amp;quot;: &amp;quot;Point&amp;quot;, &amp;quot;coordinates&amp;quot;: [-122.0814648271744, 37.39806556612011]}, &amp;quot;type&amp;quot;: &amp;quot;Feature&amp;quot;, &amp;quot;id&amp;quot;: &amp;quot;57bde983f6858fab180a64f6&amp;quot;, &amp;quot;properties&amp;quot;: {&amp;quot;feature_type&amp;quot;: &amp;quot;location&amp;quot;, &amp;quot;fmt_time&amp;quot;: &amp;quot;2016-02-22T13:07:22.999994-08:00&amp;quot;, &amp;quot;latitude&amp;quot;: 37.39806556612011, &amp;quot;_id&amp;quot;: &amp;quot;0&amp;quot;, &amp;quot;ts&amp;quot;: 1456175242.999994, &amp;quot;longitude&amp;quot;: -122.0814648271744}}, {&amp;quot;geometry&amp;quot;: {&amp;quot;type&amp;quot;: &amp;quot;Point&amp;quot;, &amp;quot;coordinates&amp;quot;: [-122.0812345028389, 37.39850888556528]}, &amp;quot;type&amp;quot;: &amp;quot;Feature&amp;quot;, &amp;quot;id&amp;quot;: &amp;quot;57bde983f6858fab180a64f7&amp;quot;, &amp;quot;properties&amp;quot;: {&amp;quot;feature_type&amp;quot;: &amp;quot;location&amp;quot;, &amp;quot;fmt_time&amp;quot;: &amp;quot;2016-02-22T13:07:25.999949-08:00&amp;quot;, &amp;quot;latitude&amp;quot;: 37.39850888556528, &amp;quot;_id&amp;quot;: &amp;quot;1&amp;quot;, &amp;quot;ts&amp;quot;: 1456175245.999949, &amp;quot;longitude&amp;quot;: -122.0812345028389}}, {&amp;quot;geometry&amp;quot;: {&amp;quot;type&amp;quot;: &amp;quot;Point&amp;quot;, &amp;quot;coordinates&amp;quot;: [-122.0810666984471, 37.3989868968559]}, &amp;quot;type&amp;quot;: &amp;quot;Feature&amp;quot;, &amp;quot;id&amp;quot;: &amp;quot;57bde983f6858fab180a64f8&amp;quot;, &amp;quot;properties&amp;quot;: {&amp;quot;feature_type&amp;quot;: &amp;quot;location&amp;quot;, &amp;quot;fmt_time&amp;quot;: &amp;quot;2016-02-22T13:07:28.999949-08:00&amp;quot;, &amp;quot;latitude&amp;quot;: 37.3989868968559, &amp;quot;_id&amp;quot;: &amp;quot;2&amp;quot;, &amp;quot;ts&amp;quot;: 1456175248.999949, &amp;quot;longitude&amp;quot;: -122.0810666984471}}, {&amp;quot;geometry&amp;quot;: {&amp;quot;type&amp;quot;: &amp;quot;Point&amp;quot;, &amp;quot;coordinates&amp;quot;: [-122.0808872314228, 37.39944777857234]}, &amp;quot;type&amp;quot;: &amp;quot;Feature&amp;quot;, &amp;quot;id&amp;quot;: &amp;quot;57bde983f6858fab180a64f9&amp;quot;, &amp;quot;properties&amp;quot;: {&amp;quot;feature_type&amp;quot;: &amp;quot;location&amp;quot;, &amp;quot;fmt_time&amp;quot;: &amp;quot;2016-02-22T13:07:32.999949-08:00&amp;quot;, &amp;quot;latitude&amp;quot;: 37.39944777857234, &amp;quot;_id&amp;quot;: &amp;quot;3&amp;quot;, &amp;quot;ts&amp;quot;: 1456175252.999949, &amp;quot;longitude&amp;quot;: -122.0808872314228}}, {&amp;quot;geometry&amp;quot;: {&amp;quot;type&amp;quot;: &amp;quot;Point&amp;quot;, &amp;quot;coordinates&amp;quot;: [-122.0813378346793, 37.39981154966383]}, &amp;quot;type&amp;quot;: &amp;quot;Feature&amp;quot;, &amp;quot;id&amp;quot;: &amp;quot;57bde983f6858fab180a64fa&amp;quot;, &amp;quot;properties&amp;quot;: {&amp;quot;feature_type&amp;quot;: &amp;quot;location&amp;quot;, &amp;quot;fmt_time&amp;quot;: &amp;quot;2016-02-22T13:07:42.999950-08:00&amp;quot;, &amp;quot;latitude&amp;quot;: 37.39981154966383, &amp;quot;_id&amp;quot;: &amp;quot;4&amp;quot;, &amp;quot;ts&amp;quot;: 1456175262.99995, &amp;quot;longitude&amp;quot;: -122.0813378346793}}, {&amp;quot;geometry&amp;quot;: {&amp;quot;type&amp;quot;: &amp;quot;Point&amp;quot;, &amp;quot;coordinates&amp;quot;: [-122.0819789324014, 37.39991862913892]}, &amp;quot;type&amp;quot;: &amp;quot;Feature&amp;quot;, &amp;quot;id&amp;quot;: &amp;quot;57bde983f6858fab180a64fb&amp;quot;, &amp;quot;properties&amp;quot;: {&amp;quot;feature_type&amp;quot;: &amp;quot;location&amp;quot;, &amp;quot;fmt_time&amp;quot;: &amp;quot;2016-02-22T13:07:49.999950-08:00&amp;quot;, &amp;quot;latitude&amp;quot;: 37.39991862913892, &amp;quot;_id&amp;quot;: &amp;quot;5&amp;quot;, &amp;quot;ts&amp;quot;: 1456175269.99995, &amp;quot;longitude&amp;quot;: -122.0819789324014}}, {&amp;quot;geometry&amp;quot;: {&amp;quot;type&amp;quot;: &amp;quot;Point&amp;quot;, &amp;quot;coordinates&amp;quot;: [-122.0826362674416, 37.40003649972261]}, &amp;quot;type&amp;quot;: &amp;quot;Feature&amp;quot;, &amp;quot;id&amp;quot;: &amp;quot;57bde983f6858fab180a64fc&amp;quot;, &amp;quot;properties&amp;quot;: {&amp;quot;feature_type&amp;quot;: &amp;quot;location&amp;quot;, &amp;quot;fmt_time&amp;quot;: &amp;quot;2016-02-22T13:07:55.999949-08:00&amp;quot;, &amp;quot;latitude&amp;quot;: 37.40003649972261, &amp;quot;_id&amp;quot;: &amp;quot;6&amp;quot;, &amp;quot;ts&amp;quot;: 1456175275.999949, &amp;quot;longitude&amp;quot;: -122.0826362674416}}, {&amp;quot;geometry&amp;quot;: {&amp;quot;type&amp;quot;: &amp;quot;Point&amp;quot;, &amp;quot;coordinates&amp;quot;: [-122.0833136339206, 37.400157961133]}, &amp;quot;type&amp;quot;: &amp;quot;Feature&amp;quot;, &amp;quot;id&amp;quot;: &amp;quot;57bde983f6858fab180a64fd&amp;quot;, &amp;quot;properties&amp;quot;: {&amp;quot;feature_type&amp;quot;: &amp;quot;location&amp;quot;, &amp;quot;fmt_time&amp;quot;: &amp;quot;2016-02-22T13:07:59.999950-08:00&amp;quot;, &amp;quot;latitude&amp;quot;: 37.400157961133, &amp;quot;_id&amp;quot;: &amp;quot;7&amp;quot;, &amp;quot;ts&amp;quot;: 1456175279.99995, &amp;quot;longitude&amp;quot;: -122.0833136339206}}, {&amp;quot;geometry&amp;quot;: {&amp;quot;type&amp;quot;: &amp;quot;Point&amp;quot;, &amp;quot;coordinates&amp;quot;: [-122.0839894883829, 37.40028181817135]}, &amp;quot;type&amp;quot;: &amp;quot;Feature&amp;quot;, &amp;quot;id&amp;quot;: &amp;quot;57bde983f6858fab180a64fe&amp;quot;, &amp;quot;properties&amp;quot;: {&amp;quot;feature_type&amp;quot;: &amp;quot;location&amp;quot;, &amp;quot;fmt_time&amp;quot;: &amp;quot;2016-02-22T13:08:03.999949-08:00&amp;quot;, &amp;quot;latitude&amp;quot;: 37.40028181817135, &amp;quot;_id&amp;quot;: &amp;quot;8&amp;quot;, &amp;quot;ts&amp;quot;: 1456175283.999949, &amp;quot;longitude&amp;quot;: -122.0839894883829}}, {&amp;quot;geometry&amp;quot;: {&amp;quot;type&amp;quot;: &amp;quot;Point&amp;quot;, &amp;quot;coordinates&amp;quot;: [-122.0845537391142, 37.40039094945803]}, &amp;quot;type&amp;quot;: &amp;quot;Feature&amp;quot;, &amp;quot;id&amp;quot;: &amp;quot;57bde983f6858fab180a64ff&amp;quot;, &amp;quot;properties&amp;quot;: {&amp;quot;feature_type&amp;quot;: &amp;quot;location&amp;quot;, &amp;quot;fmt_time&amp;quot;: &amp;quot;2016-02-22T13:08:07.999949-08:00&amp;quot;, &amp;quot;latitude&amp;quot;: 37.40039094945803, &amp;quot;_id&amp;quot;: &amp;quot;9&amp;quot;, &amp;quot;ts&amp;quot;: 1456175287.999949, &amp;quot;longitude&amp;quot;: -122.0845537391142}}, {&amp;quot;geometry&amp;quot;: {&amp;quot;type&amp;quot;: &amp;quot;Point&amp;quot;, &amp;quot;coordinates&amp;quot;: [-122.0851207044091, 37.4005091994522]}, &amp;quot;type&amp;quot;: &amp;quot;Feature&amp;quot;, &amp;quot;id&amp;quot;: &amp;quot;57bde983f6858fab180a6500&amp;quot;, &amp;quot;properties&amp;quot;: {&amp;quot;feature_type&amp;quot;: &amp;quot;location&amp;quot;, &amp;quot;fmt_time&amp;quot;: &amp;quot;2016-02-22T13:08:19.999949-08:00&amp;quot;, &amp;quot;latitude&amp;quot;: 37.4005091994522, &amp;quot;_id&amp;quot;: &amp;quot;10&amp;quot;, &amp;quot;ts&amp;quot;: 1456175299.999949, &amp;quot;longitude&amp;quot;: -122.0851207044091}}, {&amp;quot;geometry&amp;quot;: {&amp;quot;type&amp;quot;: &amp;quot;Point&amp;quot;, &amp;quot;coordinates&amp;quot;: [-122.084963615489, 37.40100029139076]}, &amp;quot;type&amp;quot;: &amp;quot;Feature&amp;quot;, &amp;quot;id&amp;quot;: &amp;quot;57bde983f6858fab180a6501&amp;quot;, &amp;quot;properties&amp;quot;: {&amp;quot;feature_type&amp;quot;: &amp;quot;location&amp;quot;, &amp;quot;fmt_time&amp;quot;: &amp;quot;2016-02-22T13:08:26.999950-08:00&amp;quot;, &amp;quot;latitude&amp;quot;: 37.40100029139076, &amp;quot;_id&amp;quot;: &amp;quot;11&amp;quot;, &amp;quot;ts&amp;quot;: 1456175306.99995, &amp;quot;longitude&amp;quot;: -122.084963615489}}, {&amp;quot;geometry&amp;quot;: {&amp;quot;type&amp;quot;: &amp;quot;Point&amp;quot;, &amp;quot;coordinates&amp;quot;: [-122.0849301186536, 37.40147144744471]}, &amp;quot;type&amp;quot;: &amp;quot;Feature&amp;quot;, &amp;quot;id&amp;quot;: &amp;quot;57bde983f6858fab180a6502&amp;quot;, &amp;quot;properties&amp;quot;: {&amp;quot;feature_type&amp;quot;: &amp;quot;location&amp;quot;, &amp;quot;fmt_time&amp;quot;: &amp;quot;2016-02-22T13:08:31.999950-08:00&amp;quot;, &amp;quot;latitude&amp;quot;: 37.40147144744471, &amp;quot;_id&amp;quot;: &amp;quot;12&amp;quot;, &amp;quot;ts&amp;quot;: 1456175311.99995, &amp;quot;longitude&amp;quot;: -122.0849301186536}}, {&amp;quot;geometry&amp;quot;: {&amp;quot;type&amp;quot;: &amp;quot;Point&amp;quot;, &amp;quot;coordinates&amp;quot;: [-122.0851027387107, 37.40205339741669]}, &amp;quot;type&amp;quot;: &amp;quot;Feature&amp;quot;, &amp;quot;id&amp;quot;: &amp;quot;57bde983f6858fab180a6503&amp;quot;, &amp;quot;properties&amp;quot;: {&amp;quot;feature_type&amp;quot;: &amp;quot;location&amp;quot;, &amp;quot;fmt_time&amp;quot;: &amp;quot;2016-02-22T13:08:37.999950-08:00&amp;quot;, &amp;quot;latitude&amp;quot;: 37.40205339741669, &amp;quot;_id&amp;quot;: &amp;quot;13&amp;quot;, &amp;quot;ts&amp;quot;: 1456175317.99995, &amp;quot;longitude&amp;quot;: -122.0851027387107}}, {&amp;quot;geometry&amp;quot;: {&amp;quot;type&amp;quot;: &amp;quot;Point&amp;quot;, &amp;quot;coordinates&amp;quot;: [-122.0850614709343, 37.40254902196895]}, &amp;quot;type&amp;quot;: &amp;quot;Feature&amp;quot;, &amp;quot;id&amp;quot;: &amp;quot;57bde983f6858fab180a6504&amp;quot;, &amp;quot;properties&amp;quot;: {&amp;quot;feature_type&amp;quot;: &amp;quot;location&amp;quot;, &amp;quot;fmt_time&amp;quot;: &amp;quot;2016-02-22T13:08:42.999949-08:00&amp;quot;, &amp;quot;latitude&amp;quot;: 37.40254902196895, &amp;quot;_id&amp;quot;: &amp;quot;14&amp;quot;, &amp;quot;ts&amp;quot;: 1456175322.999949, &amp;quot;longitude&amp;quot;: -122.0850614709343}}, {&amp;quot;geometry&amp;quot;: {&amp;quot;type&amp;quot;: &amp;quot;Point&amp;quot;, &amp;quot;coordinates&amp;quot;: [-122.0847452793532, 37.40293303581005]}, &amp;quot;type&amp;quot;: &amp;quot;Feature&amp;quot;, &amp;quot;id&amp;quot;: &amp;quot;57bde983f6858fab180a6505&amp;quot;, &amp;quot;properties&amp;quot;: {&amp;quot;feature_type&amp;quot;: &amp;quot;location&amp;quot;, &amp;quot;fmt_time&amp;quot;: &amp;quot;2016-02-22T13:08:54.999949-08:00&amp;quot;, &amp;quot;latitude&amp;quot;: 37.40293303581005, &amp;quot;_id&amp;quot;: &amp;quot;15&amp;quot;, &amp;quot;ts&amp;quot;: 1456175334.999949, &amp;quot;longitude&amp;quot;: -122.0847452793532}}, {&amp;quot;geometry&amp;quot;: {&amp;quot;type&amp;quot;: &amp;quot;Point&amp;quot;, &amp;quot;coordinates&amp;quot;: [-122.0846674685572, 37.40338388368245]}, &amp;quot;type&amp;quot;: &amp;quot;Feature&amp;quot;, &amp;quot;id&amp;quot;: &amp;quot;57bde983f6858fab180a6506&amp;quot;, &amp;quot;properties&amp;quot;: {&amp;quot;feature_type&amp;quot;: &amp;quot;location&amp;quot;, &amp;quot;fmt_time&amp;quot;: &amp;quot;2016-02-22T13:12:29.999949-08:00&amp;quot;, &amp;quot;latitude&amp;quot;: 37.40338388368245, &amp;quot;_id&amp;quot;: &amp;quot;16&amp;quot;, &amp;quot;ts&amp;quot;: 1456175549.999949, &amp;quot;longitude&amp;quot;: -122.0846674685572}}, {&amp;quot;geometry&amp;quot;: {&amp;quot;type&amp;quot;: &amp;quot;Point&amp;quot;, &amp;quot;coordinates&amp;quot;: [-122.0841398277526, 37.40355206656959]}, &amp;quot;type&amp;quot;: &amp;quot;Feature&amp;quot;, &amp;quot;id&amp;quot;: &amp;quot;57bde983f6858fab180a6507&amp;quot;, &amp;quot;properties&amp;quot;: {&amp;quot;feature_type&amp;quot;: &amp;quot;location&amp;quot;, &amp;quot;fmt_time&amp;quot;: &amp;quot;2016-02-22T13:13:16.999949-08:00&amp;quot;, &amp;quot;latitude&amp;quot;: 37.40355206656959, &amp;quot;_id&amp;quot;: &amp;quot;17&amp;quot;, &amp;quot;ts&amp;quot;: 1456175596.999949, &amp;quot;longitude&amp;quot;: -122.0841398277526}}]}, {&amp;quot;geometry&amp;quot;: {&amp;quot;type&amp;quot;: &amp;quot;LineString&amp;quot;, &amp;quot;coordinates&amp;quot;: [[-122.0814648271744, 37.39806556612011], [-122.0812345028389, 37.39850888556528], [-122.0810666984471, 37.3989868968559], [-122.0808872314228, 37.39944777857234], [-122.0813378346793, 37.39981154966383], [-122.0819789324014, 37.39991862913892], [-122.0826362674416, 37.40003649972261], [-122.0833136339206, 37.400157961133], [-122.0839894883829, 37.40028181817135], [-122.0845537391142, 37.40039094945803], [-122.0851207044091, 37.4005091994522], [-122.084963615489, 37.40100029139076], [-122.0849301186536, 37.40147144744471], [-122.0851027387107, 37.40205339741669], [-122.0850614709343, 37.40254902196895], [-122.0847452793532, 37.40293303581005], [-122.0846674685572, 37.40338388368245], [-122.0841398277526, 37.40355206656959]]}, &amp;quot;type&amp;quot;: &amp;quot;Feature&amp;quot;, &amp;quot;id&amp;quot;: null, &amp;quot;properties&amp;quot;: {}}]}, \n",
       "        {style: style_feature,\n",
       "         onEachFeature: onEachFeature,\n",
       "         pointToLayer: pointFormat}).addTo(map)\n",
       "\n",
       "    var autobounds_0 = L.featureGroup([gjson_layer_0]).getBounds()\n",
       "    map.fitBounds(autobounds_0, {&amp;quot;padding&amp;quot;: [5, 5]});\n",
       "    \n",
       "\n",
       "            \n",
       "        \n",
       "    \n",
       "\n",
       "   &lt;/script&gt;\n",
       "\n",
       "&lt;/body&gt;&quot; style=&quot;width: 100%; height: 510px; border: none&quot;&gt;&lt;/iframe&gt;</td></tr>\n",
       "</table>\" style=\"width: 100%; height: 510px; border: none\"></iframe>"
      ],
      "text/plain": [
       "<IPython.core.display.HTML object>"
      ]
     },
     "execution_count": 84,
     "metadata": {},
     "output_type": "execute_result"
    }
   ],
   "source": [
    "ipy.inline_maps([lo.get_maps_for_geojson_unsectioned([gfc.get_feature_list_from_df(loc_entry_df)])])"
   ]
  },
  {
   "cell_type": "code",
   "execution_count": 85,
   "metadata": {
    "collapsed": false
   },
   "outputs": [],
   "source": [
    "with_speeds_df = eaicl.add_dist_heading_speed(loc_entry_df)"
   ]
  },
  {
   "cell_type": "code",
   "execution_count": 86,
   "metadata": {
    "collapsed": false
   },
   "outputs": [
    {
     "data": {
      "text/plain": [
       "(0     0.000000\n",
       " 1    17.776499\n",
       " 2    18.393565\n",
       " 3    13.410949\n",
       " 4     5.674975\n",
       " 5     8.267077\n",
       " 6     9.921079\n",
       " 7    15.335081\n",
       " 8    15.317327\n",
       " 9    12.824680\n",
       " 10    4.314984\n",
       " 11    8.048916\n",
       " 12   10.494730\n",
       " 13   11.080352\n",
       " 14   11.046274\n",
       " 15    4.251954\n",
       " 16    0.235353\n",
       " 17    1.068487\n",
       " Name: speed, dtype: float64, 0    15.010000\n",
       " 1    16.480000\n",
       " 2    16.139999\n",
       " 3    14.350000\n",
       " 4     6.510000\n",
       " 5     9.130000\n",
       " 6    10.440000\n",
       " 7    13.940000\n",
       " 8    14.660000\n",
       " 9    13.220000\n",
       " 10    3.570000\n",
       " 11    8.230000\n",
       " 12   10.840000\n",
       " 13   10.780000\n",
       " 14    9.910000\n",
       " 15    2.410000\n",
       " 16    1.050000\n",
       " 17    1.280000\n",
       " Name: sensed_speed, dtype: float64)"
      ]
     },
     "execution_count": 86,
     "metadata": {},
     "output_type": "execute_result"
    }
   ],
   "source": [
    "with_speeds_df.speed, with_speeds_df.sensed_speed"
   ]
  },
  {
   "cell_type": "code",
   "execution_count": 87,
   "metadata": {
    "collapsed": true
   },
   "outputs": [],
   "source": [
    "with_speeds_df_nona = with_speeds_df.dropna()"
   ]
  },
  {
   "cell_type": "code",
   "execution_count": 88,
   "metadata": {
    "collapsed": false
   },
   "outputs": [
    {
     "data": {
      "text/plain": [
       "0     0.000000\n",
       "1    17.776499\n",
       "2    18.393565\n",
       "3    13.410949\n",
       "4     5.674975\n",
       "5     8.267077\n",
       "6     9.921079\n",
       "7    15.335081\n",
       "8    15.317327\n",
       "9    12.824680\n",
       "10    4.314984\n",
       "11    8.048916\n",
       "12   10.494730\n",
       "13   11.080352\n",
       "14   11.046274\n",
       "15    4.251954\n",
       "16    0.235353\n",
       "17    1.068487\n",
       "Name: speed, dtype: float64"
      ]
     },
     "execution_count": 88,
     "metadata": {},
     "output_type": "execute_result"
    }
   ],
   "source": [
    "with_speeds_df.speed"
   ]
  },
  {
   "cell_type": "code",
   "execution_count": 89,
   "metadata": {
    "collapsed": false
   },
   "outputs": [
    {
     "data": {
      "text/plain": [
       "10.207904896126383"
      ]
     },
     "execution_count": 89,
     "metadata": {},
     "output_type": "execute_result"
    }
   ],
   "source": [
    "with_speeds_df.speed.median()"
   ]
  },
  {
   "cell_type": "code",
   "execution_count": 90,
   "metadata": {
    "collapsed": true
   },
   "outputs": [],
   "source": [
    "start_place = ts.get_entry_from_id(esda.RAW_PLACE_KEY, trip.start_place)"
   ]
  },
  {
   "cell_type": "code",
   "execution_count": 91,
   "metadata": {
    "collapsed": false
   },
   "outputs": [
    {
     "data": {
      "text/plain": [
       "([[-122.0814648271744, 37.39806556612011]],\n",
       " [-122.0865191986059, 37.39084250297154])"
      ]
     },
     "execution_count": 91,
     "metadata": {},
     "output_type": "execute_result"
    }
   ],
   "source": [
    "[loc_entry_list[0].data.loc.coordinates], start_place.data.location.coordinates"
   ]
  },
  {
   "cell_type": "code",
   "execution_count": 92,
   "metadata": {
    "collapsed": false
   },
   "outputs": [
    {
     "name": "stdout",
     "output_type": "stream",
     "text": [
      "918.939745549\n"
     ]
    }
   ],
   "source": [
    "add_dist = ecc.calDistance(loc_entry_list[0].data.loc.coordinates, start_place.data.location.coordinates)\n",
    "print add_dist"
   ]
  },
  {
   "cell_type": "markdown",
   "metadata": {},
   "source": [
    "speed ($s$) is in m/s. dist ($d$) is in meters.\n",
    "so what we really need is\n",
    "\n",
    "| Distance (m) | Time (s) | \n",
    "| --- | ---- |\n",
    "| $s$ m | 1 sec |\n",
    "| $d$ m | ? secs = $\\frac{d}{s}$ |"
   ]
  },
  {
   "cell_type": "code",
   "execution_count": 93,
   "metadata": {
    "collapsed": false
   },
   "outputs": [
    {
     "data": {
      "text/plain": [
       "90.02236550007575"
      ]
     },
     "execution_count": 93,
     "metadata": {},
     "output_type": "execute_result"
    }
   ],
   "source": [
    "add_time = add_dist / with_speeds_df.speed.median()\n",
    "add_time"
   ]
  },
  {
   "cell_type": "code",
   "execution_count": 94,
   "metadata": {
    "collapsed": false
   },
   "outputs": [
    {
     "data": {
      "text/plain": [
       "(5.899999248981476, 7.400372007316071)"
      ]
     },
     "execution_count": 94,
     "metadata": {},
     "output_type": "execute_result"
    }
   ],
   "source": [
    "section_entry.data.duration/60, (section_entry.data.duration  + add_time) / 60"
   ]
  },
  {
   "cell_type": "code",
   "execution_count": 95,
   "metadata": {
    "collapsed": false
   },
   "outputs": [
    {
     "data": {
      "text/plain": [
       "(944.35994144333768, 1863.2996869924398)"
      ]
     },
     "execution_count": 95,
     "metadata": {},
     "output_type": "execute_result"
    }
   ],
   "source": [
    "with_speeds_df_nona.distance.sum(), with_speeds_df_nona.distance.sum() + add_dist"
   ]
  },
  {
   "cell_type": "code",
   "execution_count": 96,
   "metadata": {
    "collapsed": false
   },
   "outputs": [
    {
     "data": {
      "text/plain": [
       "<Arrow [2016-02-22T13:05:52.977628-08:00]>"
      ]
     },
     "execution_count": 96,
     "metadata": {},
     "output_type": "execute_result"
    }
   ],
   "source": [
    "arrow.get(start_place.data.exit_ts - add_time).to(\"America/Los_Angeles\")"
   ]
  },
  {
   "cell_type": "markdown",
   "metadata": {},
   "source": [
    "### From Stevenson (around 3:30pm)"
   ]
  },
  {
   "cell_type": "code",
   "execution_count": 97,
   "metadata": {
    "collapsed": true
   },
   "outputs": [],
   "source": [
    "trip = trips_df.iloc[4] "
   ]
  },
  {
   "cell_type": "code",
   "execution_count": 98,
   "metadata": {
    "collapsed": true
   },
   "outputs": [],
   "source": [
    "trip_id = trip._id"
   ]
  },
  {
   "cell_type": "code",
   "execution_count": 99,
   "metadata": {
    "collapsed": false
   },
   "outputs": [
    {
     "data": {
      "text/plain": [
       "1"
      ]
     },
     "execution_count": 99,
     "metadata": {},
     "output_type": "execute_result"
    }
   ],
   "source": [
    "len(esdt.get_raw_sections_for_trip(curr_id, trip_id))"
   ]
  },
  {
   "cell_type": "code",
   "execution_count": 100,
   "metadata": {
    "collapsed": false
   },
   "outputs": [],
   "source": [
    "section_entry = esdt.get_raw_sections_for_trip(curr_id, trip_id)[0]"
   ]
  },
  {
   "cell_type": "code",
   "execution_count": 101,
   "metadata": {
    "collapsed": false
   },
   "outputs": [
    {
     "data": {
      "text/plain": [
       "({\"coordinates\": [-122.0835446168422, 37.39569463873612], \"type\": \"Point\"},\n",
       " u'2016-02-22T15:35:58.097793-08:00')"
      ]
     },
     "execution_count": 101,
     "metadata": {},
     "output_type": "execute_result"
    }
   ],
   "source": [
    "section_entry.data.start_loc, section_entry.data.start_fmt_time"
   ]
  },
  {
   "cell_type": "code",
   "execution_count": 102,
   "metadata": {
    "collapsed": false
   },
   "outputs": [],
   "source": [
    "ts = esta.TimeSeries.get_time_series(curr_id)"
   ]
  },
  {
   "cell_type": "code",
   "execution_count": 103,
   "metadata": {
    "collapsed": false
   },
   "outputs": [
    {
     "data": {
      "text/html": [
       "<div>\n",
       "<table border=\"1\" class=\"dataframe\">\n",
       "  <thead>\n",
       "    <tr style=\"text-align: right;\">\n",
       "      <th></th>\n",
       "      <th>ts</th>\n",
       "      <th>fmt_time</th>\n",
       "      <th>latitude</th>\n",
       "      <th>longitude</th>\n",
       "    </tr>\n",
       "  </thead>\n",
       "  <tbody>\n",
       "    <tr>\n",
       "      <th>0</th>\n",
       "      <td>1456184158.097793</td>\n",
       "      <td>2016-02-22T15:35:58.097793-08:00</td>\n",
       "      <td>37.395695</td>\n",
       "      <td>-122.083545</td>\n",
       "    </tr>\n",
       "    <tr>\n",
       "      <th>1</th>\n",
       "      <td>1456184158.441907</td>\n",
       "      <td>2016-02-22T15:35:58.441907-08:00</td>\n",
       "      <td>37.395695</td>\n",
       "      <td>-122.083545</td>\n",
       "    </tr>\n",
       "    <tr>\n",
       "      <th>2</th>\n",
       "      <td>1456184160.401226</td>\n",
       "      <td>2016-02-22T15:36:00.401226-08:00</td>\n",
       "      <td>37.395923</td>\n",
       "      <td>-122.083234</td>\n",
       "    </tr>\n",
       "    <tr>\n",
       "      <th>3</th>\n",
       "      <td>1456184183.000059</td>\n",
       "      <td>2016-02-22T15:36:23.000059-08:00</td>\n",
       "      <td>37.395530</td>\n",
       "      <td>-122.083529</td>\n",
       "    </tr>\n",
       "    <tr>\n",
       "      <th>4</th>\n",
       "      <td>1456184189.000060</td>\n",
       "      <td>2016-02-22T15:36:29.000060-08:00</td>\n",
       "      <td>37.395106</td>\n",
       "      <td>-122.083726</td>\n",
       "    </tr>\n",
       "    <tr>\n",
       "      <th>5</th>\n",
       "      <td>1456184194.000060</td>\n",
       "      <td>2016-02-22T15:36:34.000060-08:00</td>\n",
       "      <td>37.394660</td>\n",
       "      <td>-122.083997</td>\n",
       "    </tr>\n",
       "    <tr>\n",
       "      <th>6</th>\n",
       "      <td>1456184199.000059</td>\n",
       "      <td>2016-02-22T15:36:39.000059-08:00</td>\n",
       "      <td>37.394221</td>\n",
       "      <td>-122.084270</td>\n",
       "    </tr>\n",
       "    <tr>\n",
       "      <th>7</th>\n",
       "      <td>1456184203.000060</td>\n",
       "      <td>2016-02-22T15:36:43.000060-08:00</td>\n",
       "      <td>37.393812</td>\n",
       "      <td>-122.084526</td>\n",
       "    </tr>\n",
       "    <tr>\n",
       "      <th>8</th>\n",
       "      <td>1456184207.000059</td>\n",
       "      <td>2016-02-22T15:36:47.000059-08:00</td>\n",
       "      <td>37.393357</td>\n",
       "      <td>-122.084809</td>\n",
       "    </tr>\n",
       "    <tr>\n",
       "      <th>9</th>\n",
       "      <td>1456184211.000059</td>\n",
       "      <td>2016-02-22T15:36:51.000059-08:00</td>\n",
       "      <td>37.392901</td>\n",
       "      <td>-122.085094</td>\n",
       "    </tr>\n",
       "    <tr>\n",
       "      <th>10</th>\n",
       "      <td>1456184215.000059</td>\n",
       "      <td>2016-02-22T15:36:55.000059-08:00</td>\n",
       "      <td>37.392432</td>\n",
       "      <td>-122.085380</td>\n",
       "    </tr>\n",
       "    <tr>\n",
       "      <th>11</th>\n",
       "      <td>1456184219.000060</td>\n",
       "      <td>2016-02-22T15:36:59.000060-08:00</td>\n",
       "      <td>37.391934</td>\n",
       "      <td>-122.085684</td>\n",
       "    </tr>\n",
       "    <tr>\n",
       "      <th>12</th>\n",
       "      <td>1456184223.000060</td>\n",
       "      <td>2016-02-22T15:37:03.000060-08:00</td>\n",
       "      <td>37.391476</td>\n",
       "      <td>-122.085963</td>\n",
       "    </tr>\n",
       "    <tr>\n",
       "      <th>13</th>\n",
       "      <td>1456184228.000060</td>\n",
       "      <td>2016-02-22T15:37:08.000060-08:00</td>\n",
       "      <td>37.391028</td>\n",
       "      <td>-122.086238</td>\n",
       "    </tr>\n",
       "    <tr>\n",
       "      <th>14</th>\n",
       "      <td>1456184234.000059</td>\n",
       "      <td>2016-02-22T15:37:14.000059-08:00</td>\n",
       "      <td>37.390571</td>\n",
       "      <td>-122.086757</td>\n",
       "    </tr>\n",
       "    <tr>\n",
       "      <th>15</th>\n",
       "      <td>1456184255.000060</td>\n",
       "      <td>2016-02-22T15:37:35.000060-08:00</td>\n",
       "      <td>37.390936</td>\n",
       "      <td>-122.086423</td>\n",
       "    </tr>\n",
       "  </tbody>\n",
       "</table>\n",
       "</div>"
      ],
      "text/plain": [
       "                  ts                          fmt_time  latitude   longitude\n",
       "0  1456184158.097793  2016-02-22T15:35:58.097793-08:00 37.395695 -122.083545\n",
       "1  1456184158.441907  2016-02-22T15:35:58.441907-08:00 37.395695 -122.083545\n",
       "2  1456184160.401226  2016-02-22T15:36:00.401226-08:00 37.395923 -122.083234\n",
       "3  1456184183.000059  2016-02-22T15:36:23.000059-08:00 37.395530 -122.083529\n",
       "4  1456184189.000060  2016-02-22T15:36:29.000060-08:00 37.395106 -122.083726\n",
       "5  1456184194.000060  2016-02-22T15:36:34.000060-08:00 37.394660 -122.083997\n",
       "6  1456184199.000059  2016-02-22T15:36:39.000059-08:00 37.394221 -122.084270\n",
       "7  1456184203.000060  2016-02-22T15:36:43.000060-08:00 37.393812 -122.084526\n",
       "8  1456184207.000059  2016-02-22T15:36:47.000059-08:00 37.393357 -122.084809\n",
       "9  1456184211.000059  2016-02-22T15:36:51.000059-08:00 37.392901 -122.085094\n",
       "10 1456184215.000059  2016-02-22T15:36:55.000059-08:00 37.392432 -122.085380\n",
       "11 1456184219.000060  2016-02-22T15:36:59.000060-08:00 37.391934 -122.085684\n",
       "12 1456184223.000060  2016-02-22T15:37:03.000060-08:00 37.391476 -122.085963\n",
       "13 1456184228.000060  2016-02-22T15:37:08.000060-08:00 37.391028 -122.086238\n",
       "14 1456184234.000059  2016-02-22T15:37:14.000059-08:00 37.390571 -122.086757\n",
       "15 1456184255.000060  2016-02-22T15:37:35.000060-08:00 37.390936 -122.086423"
      ]
     },
     "execution_count": 103,
     "metadata": {},
     "output_type": "execute_result"
    }
   ],
   "source": [
    "loc_entry_it = ts.find_entries([\"background/filtered_location\"],\n",
    "                                   esda.get_time_query_for_trip_like(\n",
    "                                       esda.RAW_SECTION_KEY, section_entry.get_id()))\n",
    "loc_entry_list = [ecwe.Entry(e) for e in loc_entry_it]\n",
    "loc_entry_df = pd.DataFrame([ts._to_df_entry(e) for e in loc_entry_list])\n",
    "loc_entry_df[[\"ts\", \"fmt_time\", \"latitude\", \"longitude\"]]"
   ]
  },
  {
   "cell_type": "code",
   "execution_count": 104,
   "metadata": {
    "collapsed": false
   },
   "outputs": [
    {
     "name": "stdout",
     "output_type": "stream",
     "text": [
      "Found 16 features from 16 points\n"
     ]
    },
    {
     "data": {
      "text/html": [
       "<iframe srcdoc=\"<table width=&quot;100%&quot;>\n",
       "<tr><td>&lt;iframe srcdoc=&quot;&lt;!DOCTYPE html&gt;\n",
       "&lt;head&gt;\n",
       "   &lt;meta http-equiv=&amp;quot;content-type&amp;quot; content=&amp;quot;text/html; charset=UTF-8&amp;quot; /&gt;\n",
       "   &lt;link rel=&amp;quot;stylesheet&amp;quot; href=&amp;quot;https://cdnjs.cloudflare.com/ajax/libs/leaflet/0.7.3/leaflet.css&amp;quot; /&gt;\n",
       "   &lt;script src=&amp;quot;https://cdnjs.cloudflare.com/ajax/libs/leaflet/0.7.3/leaflet.js&amp;quot;&gt;&lt;/script&gt;\n",
       "\n",
       "   &lt;script src=&amp;quot;https://ajax.googleapis.com/ajax/libs/jquery/1.11.1/jquery.min.js&amp;quot;&gt;&lt;/script&gt;\n",
       "\n",
       "   &lt;link rel=&amp;quot;stylesheet&amp;quot; href=&amp;quot;https://maxcdn.bootstrapcdn.com/bootstrap/3.2.0/css/bootstrap.min.css&amp;quot;&gt;\n",
       "   &lt;link rel=&amp;quot;stylesheet&amp;quot; href=&amp;quot;https://maxcdn.bootstrapcdn.com/bootstrap/3.2.0/css/bootstrap-theme.min.css&amp;quot;&gt;\n",
       "   &lt;script src=&amp;quot;https://maxcdn.bootstrapcdn.com/bootstrap/3.2.0/js/bootstrap.min.js&amp;quot;&gt;&lt;/script&gt;\n",
       "\n",
       "   &lt;link href=&amp;quot;https://maxcdn.bootstrapcdn.com/font-awesome/4.1.0/css/font-awesome.min.css&amp;quot; rel=&amp;quot;stylesheet&amp;quot;&gt;\n",
       "\n",
       "   &lt;link rel=&amp;quot;stylesheet&amp;quot; href=&amp;quot;https://rawgit.com/lvoogdt/Leaflet.awesome-markers/2.0/develop/dist/leaflet.awesome-markers.css&amp;quot;&gt;\n",
       "   &lt;script src=&amp;quot;https://rawgithub.com/lvoogdt/Leaflet.awesome-markers/2.0/develop/dist/leaflet.awesome-markers.js&amp;quot;&gt;&lt;/script&gt;\n",
       "\n",
       "\n",
       "   &lt;link rel=&amp;quot;stylesheet&amp;quot; href=&amp;quot;https://cdnjs.cloudflare.com/ajax/libs/leaflet.markercluster/0.4.0/MarkerCluster.Default.css&amp;quot;&gt;\n",
       "   &lt;link rel=&amp;quot;stylesheet&amp;quot; href=&amp;quot;https://cdnjs.cloudflare.com/ajax/libs/leaflet.markercluster/0.4.0/MarkerCluster.css&amp;quot;&gt;\n",
       "   &lt;script src=&amp;quot;https://cdnjs.cloudflare.com/ajax/libs/leaflet.markercluster/0.4.0/leaflet.markercluster-src.js&amp;quot;&gt;&lt;/script&gt;\n",
       "   &lt;script src=&amp;quot;https://cdnjs.cloudflare.com/ajax/libs/leaflet.markercluster/0.4.0/leaflet.markercluster.js&amp;quot;&gt;&lt;/script&gt;\n",
       "\n",
       "   &lt;link rel=&amp;quot;stylesheet&amp;quot; href=&amp;quot;https://raw.githubusercontent.com/python-visualization/folium/master/folium/templates/leaflet.awesome.rotate.css&amp;quot;&gt;\n",
       "\n",
       "    \n",
       "        \n",
       "        \n",
       "            \n",
       "    \n",
       "        &lt;link rel=&amp;quot;stylesheet&amp;quot; href=&amp;quot;http://code.ionicframework.com/ionicons/1.5.2/css/ionicons.min.css&amp;quot;&gt;\n",
       "    \n",
       "\n",
       "            \n",
       "        \n",
       "    \n",
       "\n",
       "   \n",
       "   \n",
       "   \n",
       "   \n",
       "\n",
       "   &lt;style&gt;\n",
       "\n",
       "      html, body {\n",
       "        width: 100%;\n",
       "        height: 100%;\n",
       "        margin: 0;\n",
       "        padding: 0;\n",
       "      }\n",
       "\n",
       "      #map {\n",
       "        position:absolute;\n",
       "        top:0;\n",
       "        bottom:0;\n",
       "        right:0;\n",
       "        left:0;\n",
       "      }\n",
       "\n",
       "    \n",
       "        \n",
       "        \n",
       "            \n",
       "            \n",
       "        \n",
       "    \n",
       "\n",
       "   &lt;/style&gt;\n",
       "&lt;/head&gt;\n",
       "\n",
       "&lt;body&gt;\n",
       "\n",
       "   &lt;div class=&amp;quot;folium-map&amp;quot; id=&amp;quot;folium_b86b70d3dad4444491731a53a0e6ecfe&amp;quot; style=&amp;quot;width: 100%; height: 100%&amp;quot;&gt;&lt;/div&gt;\n",
       "\n",
       "    \n",
       "        \n",
       "        \n",
       "            \n",
       "            \n",
       "        \n",
       "    \n",
       "\n",
       "   &lt;script&gt;\n",
       "\n",
       "      \n",
       "\n",
       "      var base_tile = L.tileLayer('https://{s}.tile.openstreetmap.org/{z}/{x}/{y}.png', {\n",
       "          maxZoom: 18,\n",
       "          minZoom: 1,\n",
       "          attribution: 'Map data (c) &lt;a href=&amp;quot;http://openstreetmap.org&amp;quot;&gt;OpenStreetMap&lt;/a&gt; contributors'\n",
       "      });\n",
       "\n",
       "      var baseLayer = {\n",
       "        &amp;quot;Base Layer&amp;quot;: base_tile\n",
       "      };\n",
       "\n",
       "      /*\n",
       "      addition of the wms layers\n",
       "      */\n",
       "\n",
       "      \n",
       "\n",
       "      /*\n",
       "      addition of the tile layers\n",
       "      */\n",
       "      \n",
       "\n",
       "      /*\n",
       "      list of layers to be added\n",
       "      */\n",
       "      var layer_list = {\n",
       "      \n",
       "      };\n",
       "\n",
       "      /*\n",
       "      Bounding box.\n",
       "      */\n",
       "      var southWest = L.latLng(-90, -180),\n",
       "          northEast = L.latLng(90, 180),\n",
       "          bounds = L.latLngBounds(southWest, northEast);\n",
       "\n",
       "      /*\n",
       "      Creates the map and adds the selected layers\n",
       "      */\n",
       "      var map = L.map('folium_b86b70d3dad4444491731a53a0e6ecfe', {\n",
       "                                       center:[37.3933152161, -122.08498367],\n",
       "                                       zoom: 10,\n",
       "                                       maxBounds: bounds,\n",
       "                                       layers: [base_tile]\n",
       "                                     });\n",
       "\n",
       "      // L.control.layers(baseLayer, layer_list).addTo(map);\n",
       "\n",
       "      /*\n",
       "      addition of the image layers\n",
       "      */\n",
       "      \n",
       "\n",
       "      //cluster group\n",
       "      var clusteredmarkers = L.markerClusterGroup();\n",
       "      //section for adding clustered markers\n",
       "      \n",
       "      //add the clustered markers to the group anyway\n",
       "      map.addLayer(clusteredmarkers);\n",
       "\n",
       "      \n",
       "\n",
       "      \n",
       "\n",
       "      \n",
       "\n",
       "      \n",
       "\n",
       "      \n",
       "\n",
       "      \n",
       "\n",
       "      \n",
       "\n",
       "\n",
       "\n",
       "    \n",
       "        \n",
       "        \n",
       "            \n",
       "    \n",
       "          function style_feature(feature) {\n",
       "            switch(feature.properties.feature_type) {\n",
       "                case &amp;quot;section&amp;quot;: return style_section(feature);\n",
       "                case &amp;quot;stop&amp;quot;: return style_stop(feature);\n",
       "                default: return {}\n",
       "            }\n",
       "          }\n",
       "\n",
       "          function onEachFeature(feature, layer) {\n",
       "            switch(feature.properties.feature_type) {\n",
       "                case &amp;quot;stop&amp;quot;: layer.bindPopup(&amp;quot;&amp;quot;+feature.properties.duration); break;\n",
       "                case &amp;quot;start_place&amp;quot;: layer.bindPopup(feature.properties.exit_fmt_time); break;\n",
       "                case &amp;quot;end_place&amp;quot;: layer.bindPopup(feature.properties.enter_fmt_time); break;\n",
       "                case &amp;quot;section&amp;quot;: layer.bindPopup(getHumanReadable(feature.properties.sensed_mode)); break;\n",
       "                case &amp;quot;location&amp;quot;: layer.bindPopup(JSON.stringify(feature.properties)); break\n",
       "            }\n",
       "          }\n",
       "\n",
       "          function getHumanReadable(sensed_mode) {\n",
       "            ret_string = sensed_mode.split('.')[1]\n",
       "            if(ret_string == 'ON_FOOT') {\n",
       "                return 'WALKING';\n",
       "            } else {\n",
       "                return ret_string;\n",
       "            }\n",
       "          }\n",
       "\n",
       "          function getColoredStyle(baseDict, color) {\n",
       "            baseDict.color = color\n",
       "            return baseDict\n",
       "          }\n",
       "\n",
       "          function style_section(feature) {\n",
       "            var baseDict = {\n",
       "                    weight: 5,\n",
       "                    opacity: 1,\n",
       "            };\n",
       "            mode_string = getHumanReadable(feature.properties.sensed_mode);\n",
       "            switch(mode_string) {\n",
       "                case &amp;quot;WALKING&amp;quot;: return getColoredStyle(baseDict, 'brown');\n",
       "                case &amp;quot;BICYCLING&amp;quot;: return getColoredStyle(baseDict, 'green');\n",
       "                case &amp;quot;TRANSPORT&amp;quot;: return getColoredStyle(baseDict, 'red');\n",
       "                default: return getColoredStyle(baseDict, 'black');\n",
       "            }\n",
       "          }\n",
       "\n",
       "          function style_stop(feature) {\n",
       "            return {fillColor: 'yellow', fillOpacity: 0.8};\n",
       "          }\n",
       "\n",
       "          var pointIcon = L.divIcon({className: 'leaflet-div-icon', iconSize: [5, 5]});\n",
       "\n",
       "          var startMarker = L.AwesomeMarkers.icon({\n",
       "            icon: 'play',\n",
       "            prefix: 'ion',\n",
       "            markerColor: 'green'\n",
       "          });\n",
       "\n",
       "          var stopMarker = L.AwesomeMarkers.icon({\n",
       "            icon: 'stop',\n",
       "            prefix: 'ion',\n",
       "            markerColor: 'red'\n",
       "          });\n",
       "\n",
       "          function pointFormat(feature, latlng) {\n",
       "            switch(feature.properties.feature_type) {\n",
       "                case &amp;quot;start_place&amp;quot;: return L.marker(latlng, {icon: startMarker})\n",
       "                case &amp;quot;end_place&amp;quot;: return L.marker(latlng, {icon: stopMarker})\n",
       "                case &amp;quot;stop&amp;quot;: return L.circleMarker(latlng)\n",
       "                case &amp;quot;location&amp;quot;: return L.marker(latlng, {icon: pointIcon})\n",
       "                default: alert(&amp;quot;Found unknown type in feature&amp;quot;  + feature); return L.marker(latlng)\n",
       "            }\n",
       "          }\n",
       "    \n",
       "\n",
       "    var gjson_layer_0 = L.geoJson({&amp;quot;type&amp;quot;: &amp;quot;FeatureCollection&amp;quot;, &amp;quot;features&amp;quot;: [{&amp;quot;type&amp;quot;: &amp;quot;FeatureCollection&amp;quot;, &amp;quot;features&amp;quot;: [{&amp;quot;geometry&amp;quot;: {&amp;quot;type&amp;quot;: &amp;quot;Point&amp;quot;, &amp;quot;coordinates&amp;quot;: [-122.0835446168422, 37.39569463873612]}, &amp;quot;type&amp;quot;: &amp;quot;Feature&amp;quot;, &amp;quot;id&amp;quot;: &amp;quot;57bde983f6858fab180a6508&amp;quot;, &amp;quot;properties&amp;quot;: {&amp;quot;feature_type&amp;quot;: &amp;quot;location&amp;quot;, &amp;quot;fmt_time&amp;quot;: &amp;quot;2016-02-22T15:35:58.097793-08:00&amp;quot;, &amp;quot;latitude&amp;quot;: 37.39569463873612, &amp;quot;_id&amp;quot;: &amp;quot;0&amp;quot;, &amp;quot;ts&amp;quot;: 1456184158.097793, &amp;quot;longitude&amp;quot;: -122.0835446168422}}, {&amp;quot;geometry&amp;quot;: {&amp;quot;type&amp;quot;: &amp;quot;Point&amp;quot;, &amp;quot;coordinates&amp;quot;: [-122.0835446168422, 37.39569463873612]}, &amp;quot;type&amp;quot;: &amp;quot;Feature&amp;quot;, &amp;quot;id&amp;quot;: &amp;quot;57bde983f6858fab180a6509&amp;quot;, &amp;quot;properties&amp;quot;: {&amp;quot;feature_type&amp;quot;: &amp;quot;location&amp;quot;, &amp;quot;fmt_time&amp;quot;: &amp;quot;2016-02-22T15:35:58.441907-08:00&amp;quot;, &amp;quot;latitude&amp;quot;: 37.39569463873612, &amp;quot;_id&amp;quot;: &amp;quot;1&amp;quot;, &amp;quot;ts&amp;quot;: 1456184158.441907, &amp;quot;longitude&amp;quot;: -122.0835446168422}}, {&amp;quot;geometry&amp;quot;: {&amp;quot;type&amp;quot;: &amp;quot;Point&amp;quot;, &amp;quot;coordinates&amp;quot;: [-122.0832342469339, 37.39592319357897]}, &amp;quot;type&amp;quot;: &amp;quot;Feature&amp;quot;, &amp;quot;id&amp;quot;: &amp;quot;57bde983f6858fab180a650a&amp;quot;, &amp;quot;properties&amp;quot;: {&amp;quot;feature_type&amp;quot;: &amp;quot;location&amp;quot;, &amp;quot;fmt_time&amp;quot;: &amp;quot;2016-02-22T15:36:00.401226-08:00&amp;quot;, &amp;quot;latitude&amp;quot;: 37.39592319357897, &amp;quot;_id&amp;quot;: &amp;quot;2&amp;quot;, &amp;quot;ts&amp;quot;: 1456184160.401226, &amp;quot;longitude&amp;quot;: -122.0832342469339}}, {&amp;quot;geometry&amp;quot;: {&amp;quot;type&amp;quot;: &amp;quot;Point&amp;quot;, &amp;quot;coordinates&amp;quot;: [-122.0835293737446, 37.39552970513459]}, &amp;quot;type&amp;quot;: &amp;quot;Feature&amp;quot;, &amp;quot;id&amp;quot;: &amp;quot;57bde983f6858fab180a650b&amp;quot;, &amp;quot;properties&amp;quot;: {&amp;quot;feature_type&amp;quot;: &amp;quot;location&amp;quot;, &amp;quot;fmt_time&amp;quot;: &amp;quot;2016-02-22T15:36:23.000059-08:00&amp;quot;, &amp;quot;latitude&amp;quot;: 37.39552970513459, &amp;quot;_id&amp;quot;: &amp;quot;3&amp;quot;, &amp;quot;ts&amp;quot;: 1456184183.000059, &amp;quot;longitude&amp;quot;: -122.0835293737446}}, {&amp;quot;geometry&amp;quot;: {&amp;quot;type&amp;quot;: &amp;quot;Point&amp;quot;, &amp;quot;coordinates&amp;quot;: [-122.0837258290414, 37.3951055079391]}, &amp;quot;type&amp;quot;: &amp;quot;Feature&amp;quot;, &amp;quot;id&amp;quot;: &amp;quot;57bde983f6858fab180a650c&amp;quot;, &amp;quot;properties&amp;quot;: {&amp;quot;feature_type&amp;quot;: &amp;quot;location&amp;quot;, &amp;quot;fmt_time&amp;quot;: &amp;quot;2016-02-22T15:36:29.000060-08:00&amp;quot;, &amp;quot;latitude&amp;quot;: 37.3951055079391, &amp;quot;_id&amp;quot;: &amp;quot;4&amp;quot;, &amp;quot;ts&amp;quot;: 1456184189.00006, &amp;quot;longitude&amp;quot;: -122.0837258290414}}, {&amp;quot;geometry&amp;quot;: {&amp;quot;type&amp;quot;: &amp;quot;Point&amp;quot;, &amp;quot;coordinates&amp;quot;: [-122.0839973617107, 37.39465961895747]}, &amp;quot;type&amp;quot;: &amp;quot;Feature&amp;quot;, &amp;quot;id&amp;quot;: &amp;quot;57bde983f6858fab180a650d&amp;quot;, &amp;quot;properties&amp;quot;: {&amp;quot;feature_type&amp;quot;: &amp;quot;location&amp;quot;, &amp;quot;fmt_time&amp;quot;: &amp;quot;2016-02-22T15:36:34.000060-08:00&amp;quot;, &amp;quot;latitude&amp;quot;: 37.39465961895747, &amp;quot;_id&amp;quot;: &amp;quot;5&amp;quot;, &amp;quot;ts&amp;quot;: 1456184194.00006, &amp;quot;longitude&amp;quot;: -122.0839973617107}}, {&amp;quot;geometry&amp;quot;: {&amp;quot;type&amp;quot;: &amp;quot;Point&amp;quot;, &amp;quot;coordinates&amp;quot;: [-122.0842703356095, 37.39422119768656]}, &amp;quot;type&amp;quot;: &amp;quot;Feature&amp;quot;, &amp;quot;id&amp;quot;: &amp;quot;57bde983f6858fab180a650e&amp;quot;, &amp;quot;properties&amp;quot;: {&amp;quot;feature_type&amp;quot;: &amp;quot;location&amp;quot;, &amp;quot;fmt_time&amp;quot;: &amp;quot;2016-02-22T15:36:39.000059-08:00&amp;quot;, &amp;quot;latitude&amp;quot;: 37.39422119768656, &amp;quot;_id&amp;quot;: &amp;quot;6&amp;quot;, &amp;quot;ts&amp;quot;: 1456184199.000059, &amp;quot;longitude&amp;quot;: -122.0842703356095}}, {&amp;quot;geometry&amp;quot;: {&amp;quot;type&amp;quot;: &amp;quot;Point&amp;quot;, &amp;quot;coordinates&amp;quot;: [-122.0845255276774, 37.39381171641232]}, &amp;quot;type&amp;quot;: &amp;quot;Feature&amp;quot;, &amp;quot;id&amp;quot;: &amp;quot;57bde983f6858fab180a650f&amp;quot;, &amp;quot;properties&amp;quot;: {&amp;quot;feature_type&amp;quot;: &amp;quot;location&amp;quot;, &amp;quot;fmt_time&amp;quot;: &amp;quot;2016-02-22T15:36:43.000060-08:00&amp;quot;, &amp;quot;latitude&amp;quot;: 37.39381171641232, &amp;quot;_id&amp;quot;: &amp;quot;7&amp;quot;, &amp;quot;ts&amp;quot;: 1456184203.00006, &amp;quot;longitude&amp;quot;: -122.0845255276774}}, {&amp;quot;geometry&amp;quot;: {&amp;quot;type&amp;quot;: &amp;quot;Point&amp;quot;, &amp;quot;coordinates&amp;quot;: [-122.0848091661187, 37.39335728615249]}, &amp;quot;type&amp;quot;: &amp;quot;Feature&amp;quot;, &amp;quot;id&amp;quot;: &amp;quot;57bde983f6858fab180a6510&amp;quot;, &amp;quot;properties&amp;quot;: {&amp;quot;feature_type&amp;quot;: &amp;quot;location&amp;quot;, &amp;quot;fmt_time&amp;quot;: &amp;quot;2016-02-22T15:36:47.000059-08:00&amp;quot;, &amp;quot;latitude&amp;quot;: 37.39335728615249, &amp;quot;_id&amp;quot;: &amp;quot;8&amp;quot;, &amp;quot;ts&amp;quot;: 1456184207.000059, &amp;quot;longitude&amp;quot;: -122.0848091661187}}, {&amp;quot;geometry&amp;quot;: {&amp;quot;type&amp;quot;: &amp;quot;Point&amp;quot;, &amp;quot;coordinates&amp;quot;: [-122.0850936358296, 37.39290088223628]}, &amp;quot;type&amp;quot;: &amp;quot;Feature&amp;quot;, &amp;quot;id&amp;quot;: &amp;quot;57bde983f6858fab180a6511&amp;quot;, &amp;quot;properties&amp;quot;: {&amp;quot;feature_type&amp;quot;: &amp;quot;location&amp;quot;, &amp;quot;fmt_time&amp;quot;: &amp;quot;2016-02-22T15:36:51.000059-08:00&amp;quot;, &amp;quot;latitude&amp;quot;: 37.39290088223628, &amp;quot;_id&amp;quot;: &amp;quot;9&amp;quot;, &amp;quot;ts&amp;quot;: 1456184211.000059, &amp;quot;longitude&amp;quot;: -122.0850936358296}}, {&amp;quot;geometry&amp;quot;: {&amp;quot;type&amp;quot;: &amp;quot;Point&amp;quot;, &amp;quot;coordinates&amp;quot;: [-122.0853804403247, 37.39243160863115]}, &amp;quot;type&amp;quot;: &amp;quot;Feature&amp;quot;, &amp;quot;id&amp;quot;: &amp;quot;57bde983f6858fab180a6512&amp;quot;, &amp;quot;properties&amp;quot;: {&amp;quot;feature_type&amp;quot;: &amp;quot;location&amp;quot;, &amp;quot;fmt_time&amp;quot;: &amp;quot;2016-02-22T15:36:55.000059-08:00&amp;quot;, &amp;quot;latitude&amp;quot;: 37.39243160863115, &amp;quot;_id&amp;quot;: &amp;quot;10&amp;quot;, &amp;quot;ts&amp;quot;: 1456184215.000059, &amp;quot;longitude&amp;quot;: -122.0853804403247}}, {&amp;quot;geometry&amp;quot;: {&amp;quot;type&amp;quot;: &amp;quot;Point&amp;quot;, &amp;quot;coordinates&amp;quot;: [-122.0856844821904, 37.39193405555137]}, &amp;quot;type&amp;quot;: &amp;quot;Feature&amp;quot;, &amp;quot;id&amp;quot;: &amp;quot;57bde983f6858fab180a6513&amp;quot;, &amp;quot;properties&amp;quot;: {&amp;quot;feature_type&amp;quot;: &amp;quot;location&amp;quot;, &amp;quot;fmt_time&amp;quot;: &amp;quot;2016-02-22T15:36:59.000060-08:00&amp;quot;, &amp;quot;latitude&amp;quot;: 37.39193405555137, &amp;quot;_id&amp;quot;: &amp;quot;11&amp;quot;, &amp;quot;ts&amp;quot;: 1456184219.00006, &amp;quot;longitude&amp;quot;: -122.0856844821904}}, {&amp;quot;geometry&amp;quot;: {&amp;quot;type&amp;quot;: &amp;quot;Point&amp;quot;, &amp;quot;coordinates&amp;quot;: [-122.0859629340144, 37.39147577203561]}, &amp;quot;type&amp;quot;: &amp;quot;Feature&amp;quot;, &amp;quot;id&amp;quot;: &amp;quot;57bde983f6858fab180a6514&amp;quot;, &amp;quot;properties&amp;quot;: {&amp;quot;feature_type&amp;quot;: &amp;quot;location&amp;quot;, &amp;quot;fmt_time&amp;quot;: &amp;quot;2016-02-22T15:37:03.000060-08:00&amp;quot;, &amp;quot;latitude&amp;quot;: 37.39147577203561, &amp;quot;_id&amp;quot;: &amp;quot;12&amp;quot;, &amp;quot;ts&amp;quot;: 1456184223.00006, &amp;quot;longitude&amp;quot;: -122.0859629340144}}, {&amp;quot;geometry&amp;quot;: {&amp;quot;type&amp;quot;: &amp;quot;Point&amp;quot;, &amp;quot;coordinates&amp;quot;: [-122.086237555943, 37.39102813682079]}, &amp;quot;type&amp;quot;: &amp;quot;Feature&amp;quot;, &amp;quot;id&amp;quot;: &amp;quot;57bde983f6858fab180a6515&amp;quot;, &amp;quot;properties&amp;quot;: {&amp;quot;feature_type&amp;quot;: &amp;quot;location&amp;quot;, &amp;quot;fmt_time&amp;quot;: &amp;quot;2016-02-22T15:37:08.000060-08:00&amp;quot;, &amp;quot;latitude&amp;quot;: 37.39102813682079, &amp;quot;_id&amp;quot;: &amp;quot;13&amp;quot;, &amp;quot;ts&amp;quot;: 1456184228.00006, &amp;quot;longitude&amp;quot;: -122.086237555943}}, {&amp;quot;geometry&amp;quot;: {&amp;quot;type&amp;quot;: &amp;quot;Point&amp;quot;, &amp;quot;coordinates&amp;quot;: [-122.0867568025008, 37.39057067717683]}, &amp;quot;type&amp;quot;: &amp;quot;Feature&amp;quot;, &amp;quot;id&amp;quot;: &amp;quot;57bde983f6858fab180a6516&amp;quot;, &amp;quot;properties&amp;quot;: {&amp;quot;feature_type&amp;quot;: &amp;quot;location&amp;quot;, &amp;quot;fmt_time&amp;quot;: &amp;quot;2016-02-22T15:37:14.000059-08:00&amp;quot;, &amp;quot;latitude&amp;quot;: 37.39057067717683, &amp;quot;_id&amp;quot;: &amp;quot;14&amp;quot;, &amp;quot;ts&amp;quot;: 1456184234.000059, &amp;quot;longitude&amp;quot;: -122.0867568025008}}, {&amp;quot;geometry&amp;quot;: {&amp;quot;type&amp;quot;: &amp;quot;Point&amp;quot;, &amp;quot;coordinates&amp;quot;: [-122.0864227229004, 37.39093579355384]}, &amp;quot;type&amp;quot;: &amp;quot;Feature&amp;quot;, &amp;quot;id&amp;quot;: &amp;quot;57bde983f6858fab180a6517&amp;quot;, &amp;quot;properties&amp;quot;: {&amp;quot;feature_type&amp;quot;: &amp;quot;location&amp;quot;, &amp;quot;fmt_time&amp;quot;: &amp;quot;2016-02-22T15:37:35.000060-08:00&amp;quot;, &amp;quot;latitude&amp;quot;: 37.39093579355384, &amp;quot;_id&amp;quot;: &amp;quot;15&amp;quot;, &amp;quot;ts&amp;quot;: 1456184255.00006, &amp;quot;longitude&amp;quot;: -122.0864227229004}}]}, {&amp;quot;geometry&amp;quot;: {&amp;quot;type&amp;quot;: &amp;quot;LineString&amp;quot;, &amp;quot;coordinates&amp;quot;: [[-122.0835446168422, 37.39569463873612], [-122.0835446168422, 37.39569463873612], [-122.0832342469339, 37.39592319357897], [-122.0835293737446, 37.39552970513459], [-122.0837258290414, 37.3951055079391], [-122.0839973617107, 37.39465961895747], [-122.0842703356095, 37.39422119768656], [-122.0845255276774, 37.39381171641232], [-122.0848091661187, 37.39335728615249], [-122.0850936358296, 37.39290088223628], [-122.0853804403247, 37.39243160863115], [-122.0856844821904, 37.39193405555137], [-122.0859629340144, 37.39147577203561], [-122.086237555943, 37.39102813682079], [-122.0867568025008, 37.39057067717683], [-122.0864227229004, 37.39093579355384]]}, &amp;quot;type&amp;quot;: &amp;quot;Feature&amp;quot;, &amp;quot;id&amp;quot;: null, &amp;quot;properties&amp;quot;: {}}]}, \n",
       "        {style: style_feature,\n",
       "         onEachFeature: onEachFeature,\n",
       "         pointToLayer: pointFormat}).addTo(map)\n",
       "\n",
       "    var autobounds_0 = L.featureGroup([gjson_layer_0]).getBounds()\n",
       "    map.fitBounds(autobounds_0, {&amp;quot;padding&amp;quot;: [5, 5]});\n",
       "    \n",
       "\n",
       "            \n",
       "        \n",
       "    \n",
       "\n",
       "   &lt;/script&gt;\n",
       "\n",
       "&lt;/body&gt;&quot; style=&quot;width: 100%; height: 510px; border: none&quot;&gt;&lt;/iframe&gt;</td></tr>\n",
       "</table>\" style=\"width: 100%; height: 510px; border: none\"></iframe>"
      ],
      "text/plain": [
       "<IPython.core.display.HTML object>"
      ]
     },
     "execution_count": 104,
     "metadata": {},
     "output_type": "execute_result"
    }
   ],
   "source": [
    "ipy.inline_maps([lo.get_maps_for_geojson_unsectioned([gfc.get_feature_list_from_df(loc_entry_df)])])"
   ]
  },
  {
   "cell_type": "code",
   "execution_count": 105,
   "metadata": {
    "collapsed": false
   },
   "outputs": [],
   "source": [
    "with_speeds_df = eaicl.add_dist_heading_speed(loc_entry_df)"
   ]
  },
  {
   "cell_type": "code",
   "execution_count": 106,
   "metadata": {
    "collapsed": false
   },
   "outputs": [
    {
     "data": {
      "text/plain": [
       "(0     0.000000\n",
       " 1     0.000000\n",
       " 2    19.080527\n",
       " 3     2.253770\n",
       " 4     8.376666\n",
       " 5    11.015684\n",
       " 6    10.877709\n",
       " 7    12.701925\n",
       " 8    14.100501\n",
       " 9    14.157825\n",
       " 10   14.501768\n",
       " 11   15.375246\n",
       " 12   14.146435\n",
       " 13   11.074563\n",
       " 14   11.416149\n",
       " 15    2.390169\n",
       " Name: speed, dtype: float64, 0    -1.000000\n",
       " 1    -1.000000\n",
       " 2     0.520000\n",
       " 3     9.420000\n",
       " 4     8.620000\n",
       " 5    10.600000\n",
       " 6    11.150000\n",
       " 7    12.980000\n",
       " 8    13.400000\n",
       " 9    14.280000\n",
       " 10   14.810000\n",
       " 11   14.580000\n",
       " 12   14.430000\n",
       " 13    9.870000\n",
       " 14    2.420000\n",
       " 15    1.230000\n",
       " Name: sensed_speed, dtype: float64)"
      ]
     },
     "execution_count": 106,
     "metadata": {},
     "output_type": "execute_result"
    }
   ],
   "source": [
    "with_speeds_df.speed, with_speeds_df.sensed_speed"
   ]
  },
  {
   "cell_type": "code",
   "execution_count": 107,
   "metadata": {
    "collapsed": true
   },
   "outputs": [],
   "source": [
    "with_speeds_df_nona = with_speeds_df.dropna()"
   ]
  },
  {
   "cell_type": "code",
   "execution_count": 108,
   "metadata": {
    "collapsed": false
   },
   "outputs": [
    {
     "data": {
      "text/plain": [
       "0     0.000000\n",
       "1     0.000000\n",
       "2    19.080527\n",
       "3     2.253770\n",
       "4     8.376666\n",
       "5    11.015684\n",
       "6    10.877709\n",
       "7    12.701925\n",
       "8    14.100501\n",
       "9    14.157825\n",
       "10   14.501768\n",
       "11   15.375246\n",
       "12   14.146435\n",
       "13   11.074563\n",
       "14   11.416149\n",
       "15    2.390169\n",
       "Name: speed, dtype: float64"
      ]
     },
     "execution_count": 108,
     "metadata": {},
     "output_type": "execute_result"
    }
   ],
   "source": [
    "with_speeds_df.speed"
   ]
  },
  {
   "cell_type": "code",
   "execution_count": 109,
   "metadata": {
    "collapsed": false
   },
   "outputs": [
    {
     "data": {
      "text/plain": [
       "11.245356183166976"
      ]
     },
     "execution_count": 109,
     "metadata": {},
     "output_type": "execute_result"
    }
   ],
   "source": [
    "with_speeds_df.speed.median()"
   ]
  },
  {
   "cell_type": "code",
   "execution_count": 110,
   "metadata": {
    "collapsed": true
   },
   "outputs": [],
   "source": [
    "start_place = ts.get_entry_from_id(esda.RAW_PLACE_KEY, trip.start_place)"
   ]
  },
  {
   "cell_type": "code",
   "execution_count": 111,
   "metadata": {
    "collapsed": false
   },
   "outputs": [
    {
     "data": {
      "text/plain": [
       "([[-122.0835446168422, 37.39569463873612]],\n",
       " [-122.0841398277526, 37.40355206656959])"
      ]
     },
     "execution_count": 111,
     "metadata": {},
     "output_type": "execute_result"
    }
   ],
   "source": [
    "[loc_entry_list[0].data.loc.coordinates], start_place.data.location.coordinates"
   ]
  },
  {
   "cell_type": "code",
   "execution_count": 112,
   "metadata": {
    "collapsed": false
   },
   "outputs": [
    {
     "name": "stdout",
     "output_type": "stream",
     "text": [
      "875.286713476\n"
     ]
    }
   ],
   "source": [
    "add_dist = ecc.calDistance(loc_entry_list[0].data.loc.coordinates, start_place.data.location.coordinates)\n",
    "print add_dist"
   ]
  },
  {
   "cell_type": "markdown",
   "metadata": {},
   "source": [
    "speed ($s$) is in m/s. dist ($d$) is in meters.\n",
    "so what we really need is\n",
    "\n",
    "| Distance (m) | Time (s) | \n",
    "| --- | ---- |\n",
    "| $d$ = 11.24 m | 1 sec |\n",
    "| $d$ = 875.28 m | ? secs = $\\frac{d}{s}$ $\\approx$ 77|"
   ]
  },
  {
   "cell_type": "code",
   "execution_count": 113,
   "metadata": {
    "collapsed": false
   },
   "outputs": [
    {
     "data": {
      "text/plain": [
       "77.83539260285401"
      ]
     },
     "execution_count": 113,
     "metadata": {},
     "output_type": "execute_result"
    }
   ],
   "source": [
    "add_time = add_dist / with_speeds_df.speed.median()\n",
    "add_time"
   ]
  },
  {
   "cell_type": "code",
   "execution_count": 114,
   "metadata": {
    "collapsed": false
   },
   "outputs": [
    {
     "data": {
      "text/plain": [
       "(1.6150377829869589, 2.912294326367859)"
      ]
     },
     "execution_count": 114,
     "metadata": {},
     "output_type": "execute_result"
    }
   ],
   "source": [
    "section_entry.data.duration/60, (section_entry.data.duration  + add_time) / 60"
   ]
  },
  {
   "cell_type": "code",
   "execution_count": 115,
   "metadata": {
    "collapsed": false
   },
   "outputs": [
    {
     "data": {
      "text/plain": [
       "(762.04245176805932, 1637.3291652437929)"
      ]
     },
     "execution_count": 115,
     "metadata": {},
     "output_type": "execute_result"
    }
   ],
   "source": [
    "with_speeds_df_nona.distance.sum(), with_speeds_df_nona.distance.sum() + add_dist"
   ]
  },
  {
   "cell_type": "code",
   "execution_count": 116,
   "metadata": {
    "collapsed": false
   },
   "outputs": [
    {
     "data": {
      "text/plain": [
       "<Arrow [2016-02-22T15:34:40.262400-08:00]>"
      ]
     },
     "execution_count": 116,
     "metadata": {},
     "output_type": "execute_result"
    }
   ],
   "source": [
    "arrow.get(start_place.data.exit_ts - add_time).to(\"America/Los_Angeles\")"
   ]
  },
  {
   "cell_type": "markdown",
   "metadata": {},
   "source": [
    "### Hm, the new duration after everything is just 2.9 $\\approx$ 3 mins! Seems way too short compared to the trip to Stevenson"
   ]
  },
  {
   "cell_type": "markdown",
   "metadata": {},
   "source": [
    "It is because in the trip to Stevenson, although we arrive at the campus by 13:08, we continue to get points until 13:13 as we walk to the classroom. But here, points end at 15:37 and then there's a large gap until we leave for karate at 15:49-ish. If we had got a couple of more points, we would be up there on this too. The bigger issue is that we don't have points for half the trip on each side, and while going to school, the missed points are mostly on a straight line down Shoreline while coming back from school, the missed points are on the Wright curve."
   ]
  },
  {
   "cell_type": "code",
   "execution_count": 125,
   "metadata": {
    "collapsed": false
   },
   "outputs": [
    {
     "data": {
      "text/html": [
       "<div>\n",
       "<table border=\"1\" class=\"dataframe\">\n",
       "  <thead>\n",
       "    <tr style=\"text-align: right;\">\n",
       "      <th></th>\n",
       "      <th>ts</th>\n",
       "      <th>fmt_time</th>\n",
       "      <th>latitude</th>\n",
       "      <th>longitude</th>\n",
       "    </tr>\n",
       "  </thead>\n",
       "  <tbody>\n",
       "    <tr>\n",
       "      <th>43</th>\n",
       "      <td>1456184158.097793</td>\n",
       "      <td>2016-02-22T15:35:58.097793-08:00</td>\n",
       "      <td>37.395695</td>\n",
       "      <td>-122.083545</td>\n",
       "    </tr>\n",
       "    <tr>\n",
       "      <th>44</th>\n",
       "      <td>1456184158.441907</td>\n",
       "      <td>2016-02-22T15:35:58.441907-08:00</td>\n",
       "      <td>37.395695</td>\n",
       "      <td>-122.083545</td>\n",
       "    </tr>\n",
       "    <tr>\n",
       "      <th>45</th>\n",
       "      <td>1456184160.401226</td>\n",
       "      <td>2016-02-22T15:36:00.401226-08:00</td>\n",
       "      <td>37.395923</td>\n",
       "      <td>-122.083234</td>\n",
       "    </tr>\n",
       "    <tr>\n",
       "      <th>46</th>\n",
       "      <td>1456184183.000059</td>\n",
       "      <td>2016-02-22T15:36:23.000059-08:00</td>\n",
       "      <td>37.395530</td>\n",
       "      <td>-122.083529</td>\n",
       "    </tr>\n",
       "    <tr>\n",
       "      <th>47</th>\n",
       "      <td>1456184189.000060</td>\n",
       "      <td>2016-02-22T15:36:29.000060-08:00</td>\n",
       "      <td>37.395106</td>\n",
       "      <td>-122.083726</td>\n",
       "    </tr>\n",
       "    <tr>\n",
       "      <th>48</th>\n",
       "      <td>1456184194.000060</td>\n",
       "      <td>2016-02-22T15:36:34.000060-08:00</td>\n",
       "      <td>37.394660</td>\n",
       "      <td>-122.083997</td>\n",
       "    </tr>\n",
       "    <tr>\n",
       "      <th>49</th>\n",
       "      <td>1456184199.000059</td>\n",
       "      <td>2016-02-22T15:36:39.000059-08:00</td>\n",
       "      <td>37.394221</td>\n",
       "      <td>-122.084270</td>\n",
       "    </tr>\n",
       "    <tr>\n",
       "      <th>50</th>\n",
       "      <td>1456184203.000060</td>\n",
       "      <td>2016-02-22T15:36:43.000060-08:00</td>\n",
       "      <td>37.393812</td>\n",
       "      <td>-122.084526</td>\n",
       "    </tr>\n",
       "    <tr>\n",
       "      <th>51</th>\n",
       "      <td>1456184207.000059</td>\n",
       "      <td>2016-02-22T15:36:47.000059-08:00</td>\n",
       "      <td>37.393357</td>\n",
       "      <td>-122.084809</td>\n",
       "    </tr>\n",
       "    <tr>\n",
       "      <th>52</th>\n",
       "      <td>1456184211.000059</td>\n",
       "      <td>2016-02-22T15:36:51.000059-08:00</td>\n",
       "      <td>37.392901</td>\n",
       "      <td>-122.085094</td>\n",
       "    </tr>\n",
       "    <tr>\n",
       "      <th>53</th>\n",
       "      <td>1456184215.000059</td>\n",
       "      <td>2016-02-22T15:36:55.000059-08:00</td>\n",
       "      <td>37.392432</td>\n",
       "      <td>-122.085380</td>\n",
       "    </tr>\n",
       "    <tr>\n",
       "      <th>54</th>\n",
       "      <td>1456184219.000060</td>\n",
       "      <td>2016-02-22T15:36:59.000060-08:00</td>\n",
       "      <td>37.391934</td>\n",
       "      <td>-122.085684</td>\n",
       "    </tr>\n",
       "    <tr>\n",
       "      <th>55</th>\n",
       "      <td>1456184223.000060</td>\n",
       "      <td>2016-02-22T15:37:03.000060-08:00</td>\n",
       "      <td>37.391476</td>\n",
       "      <td>-122.085963</td>\n",
       "    </tr>\n",
       "    <tr>\n",
       "      <th>56</th>\n",
       "      <td>1456184228.000060</td>\n",
       "      <td>2016-02-22T15:37:08.000060-08:00</td>\n",
       "      <td>37.391028</td>\n",
       "      <td>-122.086238</td>\n",
       "    </tr>\n",
       "    <tr>\n",
       "      <th>57</th>\n",
       "      <td>1456184234.000059</td>\n",
       "      <td>2016-02-22T15:37:14.000059-08:00</td>\n",
       "      <td>37.390571</td>\n",
       "      <td>-122.086757</td>\n",
       "    </tr>\n",
       "    <tr>\n",
       "      <th>58</th>\n",
       "      <td>1456184255.000060</td>\n",
       "      <td>2016-02-22T15:37:35.000060-08:00</td>\n",
       "      <td>37.390936</td>\n",
       "      <td>-122.086423</td>\n",
       "    </tr>\n",
       "    <tr>\n",
       "      <th>59</th>\n",
       "      <td>1456184986.999964</td>\n",
       "      <td>2016-02-22T15:49:46.999964-08:00</td>\n",
       "      <td>37.390607</td>\n",
       "      <td>-122.086820</td>\n",
       "    </tr>\n",
       "    <tr>\n",
       "      <th>60</th>\n",
       "      <td>1456184992.999964</td>\n",
       "      <td>2016-02-22T15:49:52.999964-08:00</td>\n",
       "      <td>37.390845</td>\n",
       "      <td>-122.087312</td>\n",
       "    </tr>\n",
       "    <tr>\n",
       "      <th>61</th>\n",
       "      <td>1456185007.999964</td>\n",
       "      <td>2016-02-22T15:50:07.999964-08:00</td>\n",
       "      <td>37.391313</td>\n",
       "      <td>-122.087413</td>\n",
       "    </tr>\n",
       "    <tr>\n",
       "      <th>62</th>\n",
       "      <td>1456185012.999963</td>\n",
       "      <td>2016-02-22T15:50:12.999963-08:00</td>\n",
       "      <td>37.391755</td>\n",
       "      <td>-122.087148</td>\n",
       "    </tr>\n",
       "    <tr>\n",
       "      <th>63</th>\n",
       "      <td>1456185021.999964</td>\n",
       "      <td>2016-02-22T15:50:21.999964-08:00</td>\n",
       "      <td>37.392174</td>\n",
       "      <td>-122.086897</td>\n",
       "    </tr>\n",
       "    <tr>\n",
       "      <th>64</th>\n",
       "      <td>1456185030.000000</td>\n",
       "      <td>2016-02-22T15:50:30-08:00</td>\n",
       "      <td>37.392600</td>\n",
       "      <td>-122.086637</td>\n",
       "    </tr>\n",
       "    <tr>\n",
       "      <th>65</th>\n",
       "      <td>1456185036.000040</td>\n",
       "      <td>2016-02-22T15:50:36.000040-08:00</td>\n",
       "      <td>37.393033</td>\n",
       "      <td>-122.086372</td>\n",
       "    </tr>\n",
       "    <tr>\n",
       "      <th>66</th>\n",
       "      <td>1456185041.000041</td>\n",
       "      <td>2016-02-22T15:50:41.000041-08:00</td>\n",
       "      <td>37.393435</td>\n",
       "      <td>-122.086096</td>\n",
       "    </tr>\n",
       "    <tr>\n",
       "      <th>67</th>\n",
       "      <td>1456185082.000040</td>\n",
       "      <td>2016-02-22T15:51:22.000040-08:00</td>\n",
       "      <td>37.393223</td>\n",
       "      <td>-122.085552</td>\n",
       "    </tr>\n",
       "    <tr>\n",
       "      <th>68</th>\n",
       "      <td>1456185201.000040</td>\n",
       "      <td>2016-02-22T15:53:21.000040-08:00</td>\n",
       "      <td>37.393128</td>\n",
       "      <td>-122.084846</td>\n",
       "    </tr>\n",
       "    <tr>\n",
       "      <th>69</th>\n",
       "      <td>1456185206.000039</td>\n",
       "      <td>2016-02-22T15:53:26.000039-08:00</td>\n",
       "      <td>37.393505</td>\n",
       "      <td>-122.084460</td>\n",
       "    </tr>\n",
       "    <tr>\n",
       "      <th>70</th>\n",
       "      <td>1456185211.000040</td>\n",
       "      <td>2016-02-22T15:53:31.000040-08:00</td>\n",
       "      <td>37.393987</td>\n",
       "      <td>-122.084190</td>\n",
       "    </tr>\n",
       "    <tr>\n",
       "      <th>71</th>\n",
       "      <td>1456185215.000040</td>\n",
       "      <td>2016-02-22T15:53:35.000040-08:00</td>\n",
       "      <td>37.394419</td>\n",
       "      <td>-122.083903</td>\n",
       "    </tr>\n",
       "    <tr>\n",
       "      <th>72</th>\n",
       "      <td>1456185219.000040</td>\n",
       "      <td>2016-02-22T15:53:39.000040-08:00</td>\n",
       "      <td>37.394824</td>\n",
       "      <td>-122.083636</td>\n",
       "    </tr>\n",
       "    <tr>\n",
       "      <th>73</th>\n",
       "      <td>1456185225.000040</td>\n",
       "      <td>2016-02-22T15:53:45.000040-08:00</td>\n",
       "      <td>37.395241</td>\n",
       "      <td>-122.083378</td>\n",
       "    </tr>\n",
       "  </tbody>\n",
       "</table>\n",
       "</div>"
      ],
      "text/plain": [
       "                  ts                          fmt_time  latitude   longitude\n",
       "43 1456184158.097793  2016-02-22T15:35:58.097793-08:00 37.395695 -122.083545\n",
       "44 1456184158.441907  2016-02-22T15:35:58.441907-08:00 37.395695 -122.083545\n",
       "45 1456184160.401226  2016-02-22T15:36:00.401226-08:00 37.395923 -122.083234\n",
       "46 1456184183.000059  2016-02-22T15:36:23.000059-08:00 37.395530 -122.083529\n",
       "47 1456184189.000060  2016-02-22T15:36:29.000060-08:00 37.395106 -122.083726\n",
       "48 1456184194.000060  2016-02-22T15:36:34.000060-08:00 37.394660 -122.083997\n",
       "49 1456184199.000059  2016-02-22T15:36:39.000059-08:00 37.394221 -122.084270\n",
       "50 1456184203.000060  2016-02-22T15:36:43.000060-08:00 37.393812 -122.084526\n",
       "51 1456184207.000059  2016-02-22T15:36:47.000059-08:00 37.393357 -122.084809\n",
       "52 1456184211.000059  2016-02-22T15:36:51.000059-08:00 37.392901 -122.085094\n",
       "53 1456184215.000059  2016-02-22T15:36:55.000059-08:00 37.392432 -122.085380\n",
       "54 1456184219.000060  2016-02-22T15:36:59.000060-08:00 37.391934 -122.085684\n",
       "55 1456184223.000060  2016-02-22T15:37:03.000060-08:00 37.391476 -122.085963\n",
       "56 1456184228.000060  2016-02-22T15:37:08.000060-08:00 37.391028 -122.086238\n",
       "57 1456184234.000059  2016-02-22T15:37:14.000059-08:00 37.390571 -122.086757\n",
       "58 1456184255.000060  2016-02-22T15:37:35.000060-08:00 37.390936 -122.086423\n",
       "59 1456184986.999964  2016-02-22T15:49:46.999964-08:00 37.390607 -122.086820\n",
       "60 1456184992.999964  2016-02-22T15:49:52.999964-08:00 37.390845 -122.087312\n",
       "61 1456185007.999964  2016-02-22T15:50:07.999964-08:00 37.391313 -122.087413\n",
       "62 1456185012.999963  2016-02-22T15:50:12.999963-08:00 37.391755 -122.087148\n",
       "63 1456185021.999964  2016-02-22T15:50:21.999964-08:00 37.392174 -122.086897\n",
       "64 1456185030.000000         2016-02-22T15:50:30-08:00 37.392600 -122.086637\n",
       "65 1456185036.000040  2016-02-22T15:50:36.000040-08:00 37.393033 -122.086372\n",
       "66 1456185041.000041  2016-02-22T15:50:41.000041-08:00 37.393435 -122.086096\n",
       "67 1456185082.000040  2016-02-22T15:51:22.000040-08:00 37.393223 -122.085552\n",
       "68 1456185201.000040  2016-02-22T15:53:21.000040-08:00 37.393128 -122.084846\n",
       "69 1456185206.000039  2016-02-22T15:53:26.000039-08:00 37.393505 -122.084460\n",
       "70 1456185211.000040  2016-02-22T15:53:31.000040-08:00 37.393987 -122.084190\n",
       "71 1456185215.000040  2016-02-22T15:53:35.000040-08:00 37.394419 -122.083903\n",
       "72 1456185219.000040  2016-02-22T15:53:39.000040-08:00 37.394824 -122.083636\n",
       "73 1456185225.000040  2016-02-22T15:53:45.000040-08:00 37.395241 -122.083378"
      ]
     },
     "execution_count": 125,
     "metadata": {},
     "output_type": "execute_result"
    }
   ],
   "source": [
    "loc_entry_df = ts.get_data_df(\"background/filtered_location\", time_query=None)\n",
    "loc_entry_df[(loc_entry_df.local_dt_hour==15) & (loc_entry_df.local_dt_minute < 55)][[\"ts\", \"fmt_time\", \"latitude\", \"longitude\"]]"
   ]
  },
  {
   "cell_type": "markdown",
   "metadata": {},
   "source": [
    "## Dataframe testing"
   ]
  },
  {
   "cell_type": "code",
   "execution_count": 117,
   "metadata": {
    "collapsed": false
   },
   "outputs": [
    {
     "data": {
      "text/html": [
       "<div>\n",
       "<table border=\"1\" class=\"dataframe\">\n",
       "  <thead>\n",
       "    <tr style=\"text-align: right;\">\n",
       "      <th></th>\n",
       "      <th>A</th>\n",
       "      <th>B</th>\n",
       "    </tr>\n",
       "  </thead>\n",
       "  <tbody>\n",
       "    <tr>\n",
       "      <th>0</th>\n",
       "      <td>1</td>\n",
       "      <td>11</td>\n",
       "    </tr>\n",
       "    <tr>\n",
       "      <th>1</th>\n",
       "      <td>2</td>\n",
       "      <td>12</td>\n",
       "    </tr>\n",
       "    <tr>\n",
       "      <th>2</th>\n",
       "      <td>3</td>\n",
       "      <td>13</td>\n",
       "    </tr>\n",
       "  </tbody>\n",
       "</table>\n",
       "</div>"
      ],
      "text/plain": [
       "   A   B\n",
       "0  1  11\n",
       "1  2  12\n",
       "2  3  13"
      ]
     },
     "execution_count": 117,
     "metadata": {},
     "output_type": "execute_result"
    }
   ],
   "source": [
    "test_df = pd.DataFrame({\"A\": [1,2,3], \"B\": [11,12,13]})\n",
    "test_df"
   ]
  },
  {
   "cell_type": "code",
   "execution_count": 118,
   "metadata": {
    "collapsed": false
   },
   "outputs": [
    {
     "data": {
      "text/html": [
       "<div>\n",
       "<table border=\"1\" class=\"dataframe\">\n",
       "  <thead>\n",
       "    <tr style=\"text-align: right;\">\n",
       "      <th></th>\n",
       "      <th>A</th>\n",
       "      <th>B</th>\n",
       "    </tr>\n",
       "  </thead>\n",
       "  <tbody>\n",
       "    <tr>\n",
       "      <th>0</th>\n",
       "      <td>1</td>\n",
       "      <td>11</td>\n",
       "    </tr>\n",
       "    <tr>\n",
       "      <th>1</th>\n",
       "      <td>2</td>\n",
       "      <td>12</td>\n",
       "    </tr>\n",
       "    <tr>\n",
       "      <th>2</th>\n",
       "      <td>3</td>\n",
       "      <td>13</td>\n",
       "    </tr>\n",
       "    <tr>\n",
       "      <th>-1</th>\n",
       "      <td>0</td>\n",
       "      <td>10</td>\n",
       "    </tr>\n",
       "  </tbody>\n",
       "</table>\n",
       "</div>"
      ],
      "text/plain": [
       "    A   B\n",
       " 0  1  11\n",
       " 1  2  12\n",
       " 2  3  13\n",
       "-1  0  10"
      ]
     },
     "execution_count": 118,
     "metadata": {},
     "output_type": "execute_result"
    }
   ],
   "source": [
    "test_df.loc[-1] = [0, 10]\n",
    "test_df"
   ]
  },
  {
   "cell_type": "code",
   "execution_count": 119,
   "metadata": {
    "collapsed": false,
    "scrolled": true
   },
   "outputs": [
    {
     "data": {
      "text/html": [
       "<div>\n",
       "<table border=\"1\" class=\"dataframe\">\n",
       "  <thead>\n",
       "    <tr style=\"text-align: right;\">\n",
       "      <th></th>\n",
       "      <th>A</th>\n",
       "      <th>B</th>\n",
       "    </tr>\n",
       "  </thead>\n",
       "  <tbody>\n",
       "    <tr>\n",
       "      <th>0</th>\n",
       "      <td>0</td>\n",
       "      <td>10</td>\n",
       "    </tr>\n",
       "    <tr>\n",
       "      <th>1</th>\n",
       "      <td>1</td>\n",
       "      <td>11</td>\n",
       "    </tr>\n",
       "    <tr>\n",
       "      <th>2</th>\n",
       "      <td>2</td>\n",
       "      <td>12</td>\n",
       "    </tr>\n",
       "    <tr>\n",
       "      <th>3</th>\n",
       "      <td>3</td>\n",
       "      <td>13</td>\n",
       "    </tr>\n",
       "  </tbody>\n",
       "</table>\n",
       "</div>"
      ],
      "text/plain": [
       "   A   B\n",
       "0  0  10\n",
       "1  1  11\n",
       "2  2  12\n",
       "3  3  13"
      ]
     },
     "execution_count": 119,
     "metadata": {},
     "output_type": "execute_result"
    }
   ],
   "source": [
    "test_df.sort_index().reset_index(drop=True)"
   ]
  },
  {
   "cell_type": "code",
   "execution_count": 120,
   "metadata": {
    "collapsed": false
   },
   "outputs": [],
   "source": [
    "x = [1,2,3]"
   ]
  },
  {
   "cell_type": "code",
   "execution_count": 121,
   "metadata": {
    "collapsed": false
   },
   "outputs": [
    {
     "data": {
      "text/plain": [
       "[2, 3]"
      ]
     },
     "execution_count": 121,
     "metadata": {},
     "output_type": "execute_result"
    }
   ],
   "source": [
    "x.pop(0)\n",
    "x"
   ]
  },
  {
   "cell_type": "code",
   "execution_count": null,
   "metadata": {
    "collapsed": true
   },
   "outputs": [],
   "source": []
  }
 ],
 "metadata": {
  "kernelspec": {
   "display_name": "Python 2",
   "language": "python",
   "name": "python2"
  },
  "language_info": {
   "codemirror_mode": {
    "name": "ipython",
    "version": 2
   },
   "file_extension": ".py",
   "mimetype": "text/x-python",
   "name": "python",
   "nbconvert_exporter": "python",
   "pygments_lexer": "ipython2",
   "version": "2.7.11"
  }
 },
 "nbformat": 4,
 "nbformat_minor": 0
}
