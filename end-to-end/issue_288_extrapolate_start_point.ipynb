{
 "cells": [
  {
   "cell_type": "code",
   "execution_count": 1,
   "metadata": {
    "collapsed": true
   },
   "outputs": [],
   "source": [
    "# Change the CWD to be the root so that the giles_conf.json file is found in the correct location\n",
    "import os\n",
    "os.chdir(\"../../../\")"
   ]
  },
  {
   "cell_type": "code",
   "execution_count": 2,
   "metadata": {
    "collapsed": true
   },
   "outputs": [],
   "source": [
    "import pandas as pd\n",
    "pd.options.display.float_format = '{:.6f}'.format"
   ]
  },
  {
   "cell_type": "code",
   "execution_count": 3,
   "metadata": {
    "collapsed": false
   },
   "outputs": [],
   "source": [
    "import pandas as pd\n",
    "import emission.core.get_database as edb\n",
    "import bson.objectid as boi\n",
    "import numpy as np\n",
    "import scipy.interpolate as spi\n",
    "import arrow"
   ]
  },
  {
   "cell_type": "code",
   "execution_count": 4,
   "metadata": {
    "collapsed": true
   },
   "outputs": [],
   "source": [
    "import emission.storage.decorations.analysis_timeseries_queries as esda\n",
    "import emission.storage.timeseries.abstract_timeseries as esta\n",
    "import emission.storage.timeseries.builtin_timeseries as estb\n",
    "import emission.core.wrapper.entry as ecwe\n",
    "import emission.core.wrapper.location as ecwl\n",
    "import emission.analysis.intake.cleaning.location_smoothing as eaicl"
   ]
  },
  {
   "cell_type": "code",
   "execution_count": 5,
   "metadata": {
    "collapsed": true
   },
   "outputs": [],
   "source": [
    "import emission.analysis.plotting.geojson.geojson_feature_converter as gfc\n",
    "import emission.analysis.plotting.leaflet_osm.ipython_helper as ipy\n",
    "import emission.analysis.plotting.leaflet_osm.our_plotter as lo"
   ]
  },
  {
   "cell_type": "code",
   "execution_count": 6,
   "metadata": {
    "collapsed": false
   },
   "outputs": [
    {
     "data": {
      "text/plain": [
       "[UUID('079e0f1a-c440-3d7c-b0e7-de160f748e35'),\n",
       " UUID('d1ebc47a-4180-4464-9f83-dabc36c37e39'),\n",
       " UUID('0763de67-f61e-3f5d-90e7-518e69793954')]"
      ]
     },
     "execution_count": 6,
     "metadata": {},
     "output_type": "execute_result"
    }
   ],
   "source": [
    "edb.get_timeseries_db().distinct('user_id')"
   ]
  },
  {
   "cell_type": "code",
   "execution_count": 7,
   "metadata": {
    "collapsed": false
   },
   "outputs": [],
   "source": [
    "curr_id = edb.get_timeseries_db().distinct('user_id')[0]\n",
    "trips_df = esda.get_data_df(esda.RAW_TRIP_KEY, curr_id, time_query=None)"
   ]
  },
  {
   "cell_type": "code",
   "execution_count": 8,
   "metadata": {
    "collapsed": false
   },
   "outputs": [
    {
     "data": {
      "text/html": [
       "<div>\n",
       "<table border=\"1\" class=\"dataframe\">\n",
       "  <thead>\n",
       "    <tr style=\"text-align: right;\">\n",
       "      <th></th>\n",
       "      <th>_id</th>\n",
       "      <th>start_fmt_time</th>\n",
       "      <th>start_ts</th>\n",
       "      <th>end_fmt_time</th>\n",
       "      <th>end_ts</th>\n",
       "      <th>start_place</th>\n",
       "    </tr>\n",
       "  </thead>\n",
       "  <tbody>\n",
       "    <tr>\n",
       "      <th>0</th>\n",
       "      <td>57bfc294f6858f9f05b2b2eb</td>\n",
       "      <td>2016-02-22T13:06:06.142961-08:00</td>\n",
       "      <td>1456175166.142961</td>\n",
       "      <td>2016-02-22T13:13:19.001847-08:00</td>\n",
       "      <td>1456175599.001847</td>\n",
       "      <td>57bfc294f6858f9f05b2b2ea</td>\n",
       "    </tr>\n",
       "    <tr>\n",
       "      <th>1</th>\n",
       "      <td>57bfc294f6858f9f05b2b2ed</td>\n",
       "      <td>2016-02-22T15:33:18.550963-08:00</td>\n",
       "      <td>1456183998.550963</td>\n",
       "      <td>2016-02-22T15:37:12.000136-08:00</td>\n",
       "      <td>1456184232.000136</td>\n",
       "      <td>57bfc294f6858f9f05b2b2ec</td>\n",
       "    </tr>\n",
       "    <tr>\n",
       "      <th>2</th>\n",
       "      <td>57bfc294f6858f9f05b2b2ef</td>\n",
       "      <td>2016-02-22T15:49:43.999972-08:00</td>\n",
       "      <td>1456184983.999972</td>\n",
       "      <td>2016-02-22T16:04:00.997765-08:00</td>\n",
       "      <td>1456185840.997765</td>\n",
       "      <td>57bfc294f6858f9f05b2b2ee</td>\n",
       "    </tr>\n",
       "    <tr>\n",
       "      <th>3</th>\n",
       "      <td>57bfc294f6858f9f05b2b2f1</td>\n",
       "      <td>2016-02-22T16:49:30.999990-08:00</td>\n",
       "      <td>1456188570.999990</td>\n",
       "      <td>2016-02-22T16:56:58.000047-08:00</td>\n",
       "      <td>1456189018.000047</td>\n",
       "      <td>57bfc294f6858f9f05b2b2f0</td>\n",
       "    </tr>\n",
       "    <tr>\n",
       "      <th>4</th>\n",
       "      <td>57bfc294f6858f9f05b2b2f3</td>\n",
       "      <td>2016-02-22T19:41:42.085297-08:00</td>\n",
       "      <td>1456198902.085297</td>\n",
       "      <td>2016-02-22T19:48:35.000033-08:00</td>\n",
       "      <td>1456199315.000033</td>\n",
       "      <td>57bfc294f6858f9f05b2b2f2</td>\n",
       "    </tr>\n",
       "    <tr>\n",
       "      <th>5</th>\n",
       "      <td>57bfc294f6858f9f05b2b2f5</td>\n",
       "      <td>2016-02-22T19:58:50.000111-08:00</td>\n",
       "      <td>1456199930.000111</td>\n",
       "      <td>2016-02-22T20:12:15.000095-08:00</td>\n",
       "      <td>1456200735.000095</td>\n",
       "      <td>57bfc294f6858f9f05b2b2f4</td>\n",
       "    </tr>\n",
       "  </tbody>\n",
       "</table>\n",
       "</div>"
      ],
      "text/plain": [
       "                        _id                    start_fmt_time  \\\n",
       "0  57bfc294f6858f9f05b2b2eb  2016-02-22T13:06:06.142961-08:00   \n",
       "1  57bfc294f6858f9f05b2b2ed  2016-02-22T15:33:18.550963-08:00   \n",
       "2  57bfc294f6858f9f05b2b2ef  2016-02-22T15:49:43.999972-08:00   \n",
       "3  57bfc294f6858f9f05b2b2f1  2016-02-22T16:49:30.999990-08:00   \n",
       "4  57bfc294f6858f9f05b2b2f3  2016-02-22T19:41:42.085297-08:00   \n",
       "5  57bfc294f6858f9f05b2b2f5  2016-02-22T19:58:50.000111-08:00   \n",
       "\n",
       "           start_ts                      end_fmt_time            end_ts  \\\n",
       "0 1456175166.142961  2016-02-22T13:13:19.001847-08:00 1456175599.001847   \n",
       "1 1456183998.550963  2016-02-22T15:37:12.000136-08:00 1456184232.000136   \n",
       "2 1456184983.999972  2016-02-22T16:04:00.997765-08:00 1456185840.997765   \n",
       "3 1456188570.999990  2016-02-22T16:56:58.000047-08:00 1456189018.000047   \n",
       "4 1456198902.085297  2016-02-22T19:48:35.000033-08:00 1456199315.000033   \n",
       "5 1456199930.000111  2016-02-22T20:12:15.000095-08:00 1456200735.000095   \n",
       "\n",
       "                start_place  \n",
       "0  57bfc294f6858f9f05b2b2ea  \n",
       "1  57bfc294f6858f9f05b2b2ec  \n",
       "2  57bfc294f6858f9f05b2b2ee  \n",
       "3  57bfc294f6858f9f05b2b2f0  \n",
       "4  57bfc294f6858f9f05b2b2f2  \n",
       "5  57bfc294f6858f9f05b2b2f4  "
      ]
     },
     "execution_count": 8,
     "metadata": {},
     "output_type": "execute_result"
    }
   ],
   "source": [
    "trips_df[[\"_id\", \"start_fmt_time\", \"start_ts\", \"end_fmt_time\", \"end_ts\", \"start_place\"]]"
   ]
  },
  {
   "cell_type": "code",
   "execution_count": 9,
   "metadata": {
    "collapsed": true
   },
   "outputs": [],
   "source": [
    "import emission.storage.decorations.trip_queries as esdt"
   ]
  },
  {
   "cell_type": "markdown",
   "metadata": {},
   "source": [
    "We are going to focus on the trips highlighted in the bug https://github.com/e-mission/e-mission-server/issues/288"
   ]
  },
  {
   "cell_type": "markdown",
   "metadata": {},
   "source": [
    "## Short trips highlighted in the bug"
   ]
  },
  {
   "cell_type": "markdown",
   "metadata": {},
   "source": [
    "### Trip from Kaiser to Cognition (\\_id = 57bb7d6af6858f2284bb4682)"
   ]
  },
  {
   "cell_type": "code",
   "execution_count": 10,
   "metadata": {
    "collapsed": true
   },
   "outputs": [],
   "source": [
    "kctrip = trips_df.iloc[1] "
   ]
  },
  {
   "cell_type": "code",
   "execution_count": 11,
   "metadata": {
    "collapsed": true
   },
   "outputs": [],
   "source": [
    "kcid = kctrip._id"
   ]
  },
  {
   "cell_type": "code",
   "execution_count": 12,
   "metadata": {
    "collapsed": false
   },
   "outputs": [],
   "source": [
    "section_entry = esdt.get_raw_sections_for_trip(curr_id, kcid)[0]"
   ]
  },
  {
   "cell_type": "code",
   "execution_count": 13,
   "metadata": {
    "collapsed": false
   },
   "outputs": [
    {
     "data": {
      "text/plain": [
       "({\"coordinates\": [-122.0848234194634, 37.40312794587273], \"type\": \"Point\"},\n",
       " u'2016-02-22T15:33:18.550963-08:00')"
      ]
     },
     "execution_count": 13,
     "metadata": {},
     "output_type": "execute_result"
    }
   ],
   "source": [
    "section_entry.data.start_loc, section_entry.data.start_fmt_time"
   ]
  },
  {
   "cell_type": "code",
   "execution_count": 14,
   "metadata": {
    "collapsed": false
   },
   "outputs": [],
   "source": [
    "ts = esta.TimeSeries.get_time_series(curr_id)"
   ]
  },
  {
   "cell_type": "code",
   "execution_count": 15,
   "metadata": {
    "collapsed": false
   },
   "outputs": [],
   "source": [
    "# loc_entry_df.append(loc_entry_df).reset_index()[[\"fmt_time\", \"ts\"]]"
   ]
  },
  {
   "cell_type": "code",
   "execution_count": 16,
   "metadata": {
    "collapsed": false
   },
   "outputs": [
    {
     "data": {
      "text/plain": [
       "[(1456183998.550963,\n",
       "  u'2016-02-22T15:33:18.550963-08:00',\n",
       "  [-122.0848234194634, 37.40312794587273]),\n",
       " (1456184136.000126,\n",
       "  u'2016-02-22T15:35:36.000126-08:00',\n",
       "  [-122.0830013976638, 37.3962290492257]),\n",
       " (1456184145.000135,\n",
       "  u'2016-02-22T15:35:45.000135-08:00',\n",
       "  [-122.0832050779109, 37.39579197488482]),\n",
       " (1456184185.000135,\n",
       "  u'2016-02-22T15:36:25.000135-08:00',\n",
       "  [-122.0836216584985, 37.39545192107315]),\n",
       " (1456184191.000135,\n",
       "  u'2016-02-22T15:36:31.000135-08:00',\n",
       "  [-122.0838668291663, 37.39493111151959]),\n",
       " (1456184196.000135,\n",
       "  u'2016-02-22T15:36:36.000135-08:00',\n",
       "  [-122.0840954036658, 37.39451838660742]),\n",
       " (1456184201.000136,\n",
       "  u'2016-02-22T15:36:41.000136-08:00',\n",
       "  [-122.0843451005612, 37.39408709577973]),\n",
       " (1456184205.000135,\n",
       "  u'2016-02-22T15:36:45.000135-08:00',\n",
       "  [-122.0845944621806, 37.39364503420646]),\n",
       " (1456184209.000136,\n",
       "  u'2016-02-22T15:36:49.000136-08:00',\n",
       "  [-122.0848776028697, 37.39320812750365]),\n",
       " (1456184213.000134,\n",
       "  u'2016-02-22T15:36:53.000134-08:00',\n",
       "  [-122.0852735639755, 37.39277143034841]),\n",
       " (1456184217.000136,\n",
       "  u'2016-02-22T15:36:57.000136-08:00',\n",
       "  [-122.0855334867929, 37.39230522889401]),\n",
       " (1456184221.000135,\n",
       "  u'2016-02-22T15:37:01.000135-08:00',\n",
       "  [-122.0857561101411, 37.39183986562993]),\n",
       " (1456184225.000136,\n",
       "  u'2016-02-22T15:37:05.000136-08:00',\n",
       "  [-122.086080741251, 37.39140907771642]),\n",
       " (1456184232.000136,\n",
       "  u'2016-02-22T15:37:12.000136-08:00',\n",
       "  [-122.0863188711201, 37.39099945410843])]"
      ]
     },
     "execution_count": 16,
     "metadata": {},
     "output_type": "execute_result"
    }
   ],
   "source": [
    "loc_entry_it = ts.find_entries([\"background/filtered_location\"],\n",
    "                                   esda.get_time_query_for_trip_like(\n",
    "                                       esda.RAW_SECTION_KEY, section_entry.get_id()))\n",
    "loc_entry_list = [ecwe.Entry(e) for e in loc_entry_it]\n",
    "[(e.data.ts, e.data.fmt_time, e.data.loc.coordinates) for e in loc_entry_list]"
   ]
  },
  {
   "cell_type": "markdown",
   "metadata": {},
   "source": [
    "#### 2-D interpolation"
   ]
  },
  {
   "cell_type": "code",
   "execution_count": 17,
   "metadata": {
    "collapsed": true
   },
   "outputs": [],
   "source": [
    "if len(loc_entry_list) < 4:\n",
    "    loc_entry_list.extend(loc_entry_list)"
   ]
  },
  {
   "cell_type": "code",
   "execution_count": 18,
   "metadata": {
    "collapsed": false
   },
   "outputs": [
    {
     "data": {
      "text/plain": [
       "14"
      ]
     },
     "execution_count": 18,
     "metadata": {},
     "output_type": "execute_result"
    }
   ],
   "source": [
    "len(loc_entry_list)"
   ]
  },
  {
   "cell_type": "code",
   "execution_count": 19,
   "metadata": {
    "collapsed": false
   },
   "outputs": [],
   "source": [
    "loc_entry_df = estb.BuiltinTimeSeries.to_data_df(\"background/filtered_location\", loc_entry_list)"
   ]
  },
  {
   "cell_type": "code",
   "execution_count": 20,
   "metadata": {
    "collapsed": false
   },
   "outputs": [
    {
     "name": "stderr",
     "output_type": "stream",
     "text": [
      "/Users/shankari/OSS/anaconda/lib/python2.7/site-packages/scipy/interpolate/fitpack.py:975: RuntimeWarning: No more knots can be added because the number of B-spline\n",
      "coefficients already exceeds the number of data points m.\n",
      "Probable causes: either s or m too small. (fp>s)\n",
      "\tkx,ky=1,1 nx,ny=6,6 m=14 fp=3.023549 s=0.000000\n",
      "  warnings.warn(RuntimeWarning(_iermess2[ierm][0] + _mess))\n"
     ]
    }
   ],
   "source": [
    "time_fn = spi.interp2d(np.array(loc_entry_df.latitude), np.array(loc_entry_df.longitude), np.array(loc_entry_df.ts))"
   ]
  },
  {
   "cell_type": "code",
   "execution_count": 21,
   "metadata": {
    "collapsed": false
   },
   "outputs": [],
   "source": [
    "start_place = ts.get_entry_from_id(esda.RAW_PLACE_KEY, trips_df.iloc[1].start_place)"
   ]
  },
  {
   "cell_type": "code",
   "execution_count": 22,
   "metadata": {
    "collapsed": false
   },
   "outputs": [
    {
     "data": {
      "text/plain": [
       "Entry({u'data': {u'enter_fmt_time': u'2016-02-22T13:13:19.001847-08:00', u'exit_local_dt': {u'hour': 15, u'month': 2, u'second': 18, u'weekday': 0, u'year': 2016, u'timezone': u'America/Los_Angeles', u'day': 22, u'minute': 33}, u'exit_fmt_time': u'2016-02-22T15:33:18.550963-08:00', u'enter_local_dt': {u'hour': 13, u'month': 2, u'second': 19, u'weekday': 0, u'year': 2016, u'timezone': u'America/Los_Angeles', u'day': 22, u'minute': 13}, u'ending_trip': ObjectId('57bfc294f6858f9f05b2b2eb'), u'starting_trip': ObjectId('57bfc294f6858f9f05b2b2ed'), u'source': u'DwellSegmentationDistFilter', u'location': {u'type': u'Point', u'coordinates': [-122.0841170289759, 37.40358810875323]}, u'enter_ts': 1456175599.001847, u'duration': 8399.549115896225, u'exit_ts': 1456183998.550963}, u'_id': ObjectId('57bfc294f6858f9f05b2b2ec'), u'user_id': UUID('079e0f1a-c440-3d7c-b0e7-de160f748e35'), u'metadata': {u'write_fmt_time': u'2016-08-25T21:16:20.780295-07:00', u'write_ts': 1472184980.780295, u'time_zone': u'America/Los_Angeles', u'platform': u'server', u'write_local_dt': {u'hour': 21, u'month': 8, u'second': 20, u'weekday': 3, u'year': 2016, u'timezone': u'America/Los_Angeles', u'day': 25, u'minute': 16}, u'key': u'segmentation/raw_place'}})"
      ]
     },
     "execution_count": 22,
     "metadata": {},
     "output_type": "execute_result"
    }
   ],
   "source": [
    "start_place"
   ]
  },
  {
   "cell_type": "code",
   "execution_count": 23,
   "metadata": {
    "collapsed": false
   },
   "outputs": [
    {
     "data": {
      "text/plain": [
       "<Arrow [2016-02-22T15:36:46.667928-08:00]>"
      ]
     },
     "execution_count": 23,
     "metadata": {},
     "output_type": "execute_result"
    }
   ],
   "source": [
    "arrow.get(time_fn(start_place.data.location.coordinates[1], start_place.data.location.coordinates[0])).to(\"America/Los_Angeles\")"
   ]
  },
  {
   "cell_type": "code",
   "execution_count": 24,
   "metadata": {
    "collapsed": false
   },
   "outputs": [
    {
     "data": {
      "text/plain": [
       "<Arrow [1969-12-31T16:00:00-08:00]>"
      ]
     },
     "execution_count": 24,
     "metadata": {},
     "output_type": "execute_result"
    }
   ],
   "source": [
    "arrow.get(time_fn(start_place.data.location.coordinates[0], start_place.data.location.coordinates[1])).to(\"America/Los_Angeles\")"
   ]
  },
  {
   "cell_type": "markdown",
   "metadata": {},
   "source": [
    "#### Doesn't work!!"
   ]
  },
  {
   "cell_type": "markdown",
   "metadata": {},
   "source": [
    "#### Use average time and distance to start to estimate travel time"
   ]
  },
  {
   "cell_type": "code",
   "execution_count": 25,
   "metadata": {
    "collapsed": true
   },
   "outputs": [],
   "source": [
    "import emission.analysis.intake.cleaning.clean_and_resample as eaicc\n",
    "import emission.analysis.point_features as pf\n",
    "import emission.core.common as ecc"
   ]
  },
  {
   "cell_type": "code",
   "execution_count": 26,
   "metadata": {
    "collapsed": false
   },
   "outputs": [],
   "source": [
    "with_speeds_df = eaicl.add_dist_heading_speed(loc_entry_df)"
   ]
  },
  {
   "cell_type": "code",
   "execution_count": 27,
   "metadata": {
    "collapsed": true
   },
   "outputs": [],
   "source": [
    "with_speeds_df_nona = with_speeds_df.dropna()"
   ]
  },
  {
   "cell_type": "code",
   "execution_count": 28,
   "metadata": {
    "collapsed": false
   },
   "outputs": [
    {
     "data": {
      "text/plain": [
       "10.431133232715087"
      ]
     },
     "execution_count": 28,
     "metadata": {},
     "output_type": "execute_result"
    }
   ],
   "source": [
    "with_speeds_df.speed.median()"
   ]
  },
  {
   "cell_type": "code",
   "execution_count": 29,
   "metadata": {
    "collapsed": true
   },
   "outputs": [],
   "source": [
    "start_place = ts.get_entry_from_id(esda.RAW_PLACE_KEY, kctrip.start_place)"
   ]
  },
  {
   "cell_type": "code",
   "execution_count": 30,
   "metadata": {
    "collapsed": false
   },
   "outputs": [
    {
     "data": {
      "text/plain": [
       "([-122.0848234194634, 37.403127945872733],\n",
       " [-122.0841170289759, 37.40358810875323])"
      ]
     },
     "execution_count": 30,
     "metadata": {},
     "output_type": "execute_result"
    }
   ],
   "source": [
    "[loc_entry_df.iloc[0].longitude, loc_entry_df.iloc[0].latitude], start_place.data.location.coordinates"
   ]
  },
  {
   "cell_type": "code",
   "execution_count": 31,
   "metadata": {
    "collapsed": false
   },
   "outputs": [
    {
     "name": "stdout",
     "output_type": "stream",
     "text": [
      "80.6933529753\n"
     ]
    }
   ],
   "source": [
    "add_dist = ecc.calDistance(loc_entry_list[0].data.loc.coordinates, start_place.data.location.coordinates)\n",
    "print add_dist"
   ]
  },
  {
   "cell_type": "code",
   "execution_count": 32,
   "metadata": {
    "collapsed": false
   },
   "outputs": [
    {
     "data": {
      "text/plain": [
       "7.735818455684122"
      ]
     },
     "execution_count": 32,
     "metadata": {},
     "output_type": "execute_result"
    }
   ],
   "source": [
    "add_time = add_dist / with_speeds_df.speed.median()\n",
    "add_time"
   ]
  },
  {
   "cell_type": "code",
   "execution_count": 33,
   "metadata": {
    "collapsed": false
   },
   "outputs": [
    {
     "data": {
      "text/plain": [
       "0.7955969742614021"
      ]
     },
     "execution_count": 33,
     "metadata": {},
     "output_type": "execute_result"
    }
   ],
   "source": [
    "(40 + add_time) / 60"
   ]
  },
  {
   "cell_type": "code",
   "execution_count": 34,
   "metadata": {
    "collapsed": false
   },
   "outputs": [
    {
     "data": {
      "text/plain": [
       "155.69335297533735"
      ]
     },
     "execution_count": 34,
     "metadata": {},
     "output_type": "execute_result"
    }
   ],
   "source": [
    "75 + add_dist"
   ]
  },
  {
   "cell_type": "markdown",
   "metadata": {},
   "source": [
    "### Close enough to the real values (418m/3 mins)"
   ]
  },
  {
   "cell_type": "markdown",
   "metadata": {},
   "source": [
    "### Trip from home to the bookstore (\\_id = 57bb7d67f6858f2284bb465d)"
   ]
  },
  {
   "cell_type": "code",
   "execution_count": 35,
   "metadata": {
    "collapsed": true
   },
   "outputs": [],
   "source": [
    "hbtrip = trips_df.iloc[-2]"
   ]
  },
  {
   "cell_type": "code",
   "execution_count": 36,
   "metadata": {
    "collapsed": true
   },
   "outputs": [],
   "source": [
    "hbid = hbtrip._id"
   ]
  },
  {
   "cell_type": "code",
   "execution_count": 37,
   "metadata": {
    "collapsed": false
   },
   "outputs": [
    {
     "data": {
      "text/plain": [
       "1"
      ]
     },
     "execution_count": 37,
     "metadata": {},
     "output_type": "execute_result"
    }
   ],
   "source": [
    "len(esdt.get_raw_sections_for_trip(curr_id, hbid))"
   ]
  },
  {
   "cell_type": "code",
   "execution_count": 38,
   "metadata": {
    "collapsed": false
   },
   "outputs": [
    {
     "name": "stdout",
     "output_type": "stream",
     "text": [
      "2016-02-22T19:41:42.085297-08:00 2016-02-22T19:48:35.000033-08:00 MotionTypes.WALKING None\n"
     ]
    }
   ],
   "source": [
    "for s in esdt.get_raw_sections_for_trip(curr_id, hbid):\n",
    "    print s.data.start_fmt_time, s.data.end_fmt_time, s.data.sensed_mode, s.data.start_stop"
   ]
  },
  {
   "cell_type": "code",
   "execution_count": 39,
   "metadata": {
    "collapsed": false
   },
   "outputs": [],
   "source": [
    "section_entry = esdt.get_raw_sections_for_trip(curr_id, hbid)[0]"
   ]
  },
  {
   "cell_type": "code",
   "execution_count": 40,
   "metadata": {
    "collapsed": false
   },
   "outputs": [
    {
     "data": {
      "text/plain": [
       "({\"coordinates\": [-122.0826288376279, 37.39067786774222], \"type\": \"Point\"},\n",
       " u'2016-02-22T19:41:42.085297-08:00')"
      ]
     },
     "execution_count": 40,
     "metadata": {},
     "output_type": "execute_result"
    }
   ],
   "source": [
    "section_entry.data.start_loc, section_entry.data.start_fmt_time"
   ]
  },
  {
   "cell_type": "code",
   "execution_count": 41,
   "metadata": {
    "collapsed": false
   },
   "outputs": [],
   "source": [
    "ts = esta.TimeSeries.get_time_series(curr_id)"
   ]
  },
  {
   "cell_type": "code",
   "execution_count": 42,
   "metadata": {
    "collapsed": false
   },
   "outputs": [],
   "source": [
    "# loc_entry_df.append(loc_entry_df).reset_index()[[\"fmt_time\", \"ts\"]]"
   ]
  },
  {
   "cell_type": "code",
   "execution_count": 43,
   "metadata": {
    "collapsed": false
   },
   "outputs": [
    {
     "data": {
      "text/plain": [
       "[(1456198902.085297,\n",
       "  u'2016-02-22T19:41:42.085297-08:00',\n",
       "  [-122.0826288376279, 37.39067786774222]),\n",
       " (1456198902.085297,\n",
       "  u'2016-02-22T19:41:42.085297-08:00',\n",
       "  [-122.0826288376279, 37.39067786774222]),\n",
       " (1456198905.00003,\n",
       "  u'2016-02-22T19:41:45.000030-08:00',\n",
       "  [-122.0828158223276, 37.39063345830645]),\n",
       " (1456198905.00003,\n",
       "  u'2016-02-22T19:41:45.000030-08:00',\n",
       "  [-122.0828158223276, 37.39063345830645]),\n",
       " (1456198969.000034,\n",
       "  u'2016-02-22T19:42:49.000034-08:00',\n",
       "  [-122.0823213738595, 37.39040337506439]),\n",
       " (1456198969.000034,\n",
       "  u'2016-02-22T19:42:49.000034-08:00',\n",
       "  [-122.0823213738595, 37.39040337506439]),\n",
       " (1456199001.000033,\n",
       "  u'2016-02-22T19:43:21.000033-08:00',\n",
       "  [-122.0821464435403, 37.39083759955819]),\n",
       " (1456199001.000033,\n",
       "  u'2016-02-22T19:43:21.000033-08:00',\n",
       "  [-122.0821464435403, 37.39083759955819]),\n",
       " (1456199034.000033,\n",
       "  u'2016-02-22T19:43:54.000033-08:00',\n",
       "  [-122.0819117502515, 37.39125740717854]),\n",
       " (1456199034.000033,\n",
       "  u'2016-02-22T19:43:54.000033-08:00',\n",
       "  [-122.0819117502515, 37.39125740717854]),\n",
       " (1456199080.000033,\n",
       "  u'2016-02-22T19:44:40.000033-08:00',\n",
       "  [-122.0815337264185, 37.39159641325231]),\n",
       " (1456199080.000033,\n",
       "  u'2016-02-22T19:44:40.000033-08:00',\n",
       "  [-122.0815337264185, 37.39159641325231]),\n",
       " (1456199158.000033,\n",
       "  u'2016-02-22T19:45:58.000033-08:00',\n",
       "  [-122.0809587278609, 37.39153438716884]),\n",
       " (1456199158.000033,\n",
       "  u'2016-02-22T19:45:58.000033-08:00',\n",
       "  [-122.0809587278609, 37.39153438716884]),\n",
       " (1456199202.000034,\n",
       "  u'2016-02-22T19:46:42.000034-08:00',\n",
       "  [-122.0804026724045, 37.39163538910206]),\n",
       " (1456199202.000034,\n",
       "  u'2016-02-22T19:46:42.000034-08:00',\n",
       "  [-122.0804026724045, 37.39163538910206]),\n",
       " (1456199231.000033,\n",
       "  u'2016-02-22T19:47:11.000033-08:00',\n",
       "  [-122.0802168456112, 37.39206378817315]),\n",
       " (1456199231.000033,\n",
       "  u'2016-02-22T19:47:11.000033-08:00',\n",
       "  [-122.0802168456112, 37.39206378817315]),\n",
       " (1456199315.000033,\n",
       "  u'2016-02-22T19:48:35.000033-08:00',\n",
       "  [-122.0797878598069, 37.39235883116479]),\n",
       " (1456199315.000033,\n",
       "  u'2016-02-22T19:48:35.000033-08:00',\n",
       "  [-122.0797878598069, 37.39235883116479])]"
      ]
     },
     "execution_count": 43,
     "metadata": {},
     "output_type": "execute_result"
    }
   ],
   "source": [
    "loc_entry_it = ts.find_entries([\"background/filtered_location\"],\n",
    "                                   esda.get_time_query_for_trip_like(\n",
    "                                       esda.RAW_SECTION_KEY, section_entry.get_id()))\n",
    "loc_entry_list = [ecwe.Entry(e) for e in loc_entry_it]\n",
    "[(e.data.ts, e.data.fmt_time, e.data.loc.coordinates) for e in loc_entry_list]"
   ]
  },
  {
   "cell_type": "markdown",
   "metadata": {},
   "source": [
    "#### 2-D interpolation"
   ]
  },
  {
   "cell_type": "code",
   "execution_count": 44,
   "metadata": {
    "collapsed": true
   },
   "outputs": [],
   "source": [
    "if len(loc_entry_list) < 4:\n",
    "    loc_entry_list.extend(loc_entry_list)"
   ]
  },
  {
   "cell_type": "code",
   "execution_count": 45,
   "metadata": {
    "collapsed": true
   },
   "outputs": [],
   "source": [
    "loc_entry_df = estb.BuiltinTimeSeries.to_data_df(\"background/filtered_location\", loc_entry_list)"
   ]
  },
  {
   "cell_type": "code",
   "execution_count": 46,
   "metadata": {
    "collapsed": false
   },
   "outputs": [
    {
     "data": {
      "text/plain": [
       "(array([ 37.39067787,  37.39063346,  37.39040338,  37.3908376 ,\n",
       "         37.39125741,  37.39159641,  37.39153439,  37.39163539,\n",
       "         37.39206379,  37.39235883]),\n",
       " array([-122.08262884, -122.08281582, -122.08232137, -122.08214644,\n",
       "        -122.08191175, -122.08153373, -122.08095873, -122.08040267,\n",
       "        -122.08021685, -122.07978786]),\n",
       " array([  1.45619890e+09,   1.45619891e+09,   1.45619897e+09,\n",
       "          1.45619900e+09,   1.45619903e+09,   1.45619908e+09,\n",
       "          1.45619916e+09,   1.45619920e+09,   1.45619923e+09,\n",
       "          1.45619932e+09]))"
      ]
     },
     "execution_count": 46,
     "metadata": {},
     "output_type": "execute_result"
    }
   ],
   "source": [
    "np.array(loc_entry_df.latitude), np.array(loc_entry_df.longitude), np.array(loc_entry_df.ts)"
   ]
  },
  {
   "cell_type": "code",
   "execution_count": 47,
   "metadata": {
    "collapsed": false
   },
   "outputs": [
    {
     "data": {
      "text/plain": [
       "(10, 10, 10)"
      ]
     },
     "execution_count": 47,
     "metadata": {},
     "output_type": "execute_result"
    }
   ],
   "source": [
    "len(np.array(loc_entry_df.latitude)), len(np.array(loc_entry_df.longitude)), len(np.array(loc_entry_df.ts))"
   ]
  },
  {
   "cell_type": "code",
   "execution_count": 48,
   "metadata": {
    "collapsed": false
   },
   "outputs": [
    {
     "name": "stderr",
     "output_type": "stream",
     "text": [
      "/Users/shankari/OSS/anaconda/lib/python2.7/site-packages/scipy/interpolate/fitpack.py:975: RuntimeWarning: No more knots can be added because the number of B-spline\n",
      "coefficients already exceeds the number of data points m.\n",
      "Probable causes: either s or m too small. (fp>s)\n",
      "\tkx,ky=1,1 nx,ny=6,5 m=10 fp=75.833994 s=0.000000\n",
      "  warnings.warn(RuntimeWarning(_iermess2[ierm][0] + _mess))\n"
     ]
    }
   ],
   "source": [
    "time_fn = spi.interp2d(np.array(loc_entry_df.latitude), np.array(loc_entry_df.longitude), np.array(loc_entry_df.ts))"
   ]
  },
  {
   "cell_type": "code",
   "execution_count": 49,
   "metadata": {
    "collapsed": false
   },
   "outputs": [],
   "source": [
    "start_place = ts.get_entry_from_id(esda.RAW_PLACE_KEY, hbtrip.start_place)"
   ]
  },
  {
   "cell_type": "code",
   "execution_count": 50,
   "metadata": {
    "collapsed": false
   },
   "outputs": [
    {
     "data": {
      "text/plain": [
       "Entry({u'data': {u'enter_fmt_time': u'2016-02-22T16:56:58.000047-08:00', u'exit_local_dt': {u'hour': 19, u'month': 2, u'second': 42, u'weekday': 0, u'year': 2016, u'timezone': u'America/Los_Angeles', u'day': 22, u'minute': 41}, u'exit_fmt_time': u'2016-02-22T19:41:42.085297-08:00', u'enter_local_dt': {u'hour': 16, u'month': 2, u'second': 58, u'weekday': 0, u'year': 2016, u'timezone': u'America/Los_Angeles', u'day': 22, u'minute': 56}, u'ending_trip': ObjectId('57bfc294f6858f9f05b2b2f1'), u'starting_trip': ObjectId('57bfc294f6858f9f05b2b2f3'), u'source': u'DwellSegmentationDistFilter', u'location': {u'type': u'Point', u'coordinates': [-122.0861964953338, 37.39118427507336]}, u'enter_ts': 1456189018.000047, u'duration': 9884.085250139236, u'exit_ts': 1456198902.085297}, u'_id': ObjectId('57bfc294f6858f9f05b2b2f2'), u'user_id': UUID('079e0f1a-c440-3d7c-b0e7-de160f748e35'), u'metadata': {u'write_fmt_time': u'2016-08-25T21:16:20.861673-07:00', u'write_ts': 1472184980.861673, u'time_zone': u'America/Los_Angeles', u'platform': u'server', u'write_local_dt': {u'hour': 21, u'month': 8, u'second': 20, u'weekday': 3, u'year': 2016, u'timezone': u'America/Los_Angeles', u'day': 25, u'minute': 16}, u'key': u'segmentation/raw_place'}})"
      ]
     },
     "execution_count": 50,
     "metadata": {},
     "output_type": "execute_result"
    }
   ],
   "source": [
    "start_place"
   ]
  },
  {
   "cell_type": "code",
   "execution_count": 51,
   "metadata": {
    "collapsed": false
   },
   "outputs": [
    {
     "data": {
      "text/plain": [
       "{\"coordinates\": [-122.0861964953338, 37.39118427507336], \"type\": \"Point\"}"
      ]
     },
     "execution_count": 51,
     "metadata": {},
     "output_type": "execute_result"
    }
   ],
   "source": [
    "start_place.data.location"
   ]
  },
  {
   "cell_type": "code",
   "execution_count": 52,
   "metadata": {
    "collapsed": false
   },
   "outputs": [
    {
     "data": {
      "text/plain": [
       "<Arrow [2016-08-08T10:59:21.083407-07:00]>"
      ]
     },
     "execution_count": 52,
     "metadata": {},
     "output_type": "execute_result"
    }
   ],
   "source": [
    "arrow.get(time_fn(start_place.data.location.coordinates[1], start_place.data.location.coordinates[0])).to(\"America/Los_Angeles\")"
   ]
  },
  {
   "cell_type": "code",
   "execution_count": 53,
   "metadata": {
    "collapsed": false
   },
   "outputs": [
    {
     "data": {
      "text/plain": [
       "<Arrow [1969-12-31T16:00:00-08:00]>"
      ]
     },
     "execution_count": 53,
     "metadata": {},
     "output_type": "execute_result"
    }
   ],
   "source": [
    "arrow.get(time_fn(start_place.data.location.coordinates[0], start_place.data.location.coordinates[1])).to(\"America/Los_Angeles\")"
   ]
  },
  {
   "cell_type": "markdown",
   "metadata": {},
   "source": [
    "#### Doesn't work!! (19:41:02) is after the current trip start"
   ]
  },
  {
   "cell_type": "markdown",
   "metadata": {},
   "source": [
    "#### Use average time and distance to start to estimate travel time"
   ]
  },
  {
   "cell_type": "code",
   "execution_count": 54,
   "metadata": {
    "collapsed": true
   },
   "outputs": [],
   "source": [
    "import emission.analysis.intake.cleaning.clean_and_resample as eaicc\n",
    "import emission.analysis.point_features as pf\n",
    "import emission.core.common as ecc"
   ]
  },
  {
   "cell_type": "code",
   "execution_count": 55,
   "metadata": {
    "collapsed": false
   },
   "outputs": [
    {
     "data": {
      "text/html": [
       "<div>\n",
       "<table border=\"1\" class=\"dataframe\">\n",
       "  <thead>\n",
       "    <tr style=\"text-align: right;\">\n",
       "      <th></th>\n",
       "      <th>ts</th>\n",
       "      <th>fmt_time</th>\n",
       "      <th>latitude</th>\n",
       "      <th>longitude</th>\n",
       "    </tr>\n",
       "  </thead>\n",
       "  <tbody>\n",
       "    <tr>\n",
       "      <th>0</th>\n",
       "      <td>1456198902.085297</td>\n",
       "      <td>2016-02-22T19:41:42.085297-08:00</td>\n",
       "      <td>37.390678</td>\n",
       "      <td>-122.082629</td>\n",
       "    </tr>\n",
       "    <tr>\n",
       "      <th>1</th>\n",
       "      <td>1456198905.000030</td>\n",
       "      <td>2016-02-22T19:41:45.000030-08:00</td>\n",
       "      <td>37.390633</td>\n",
       "      <td>-122.082816</td>\n",
       "    </tr>\n",
       "    <tr>\n",
       "      <th>2</th>\n",
       "      <td>1456198969.000034</td>\n",
       "      <td>2016-02-22T19:42:49.000034-08:00</td>\n",
       "      <td>37.390403</td>\n",
       "      <td>-122.082321</td>\n",
       "    </tr>\n",
       "    <tr>\n",
       "      <th>3</th>\n",
       "      <td>1456199001.000033</td>\n",
       "      <td>2016-02-22T19:43:21.000033-08:00</td>\n",
       "      <td>37.390838</td>\n",
       "      <td>-122.082146</td>\n",
       "    </tr>\n",
       "    <tr>\n",
       "      <th>4</th>\n",
       "      <td>1456199034.000033</td>\n",
       "      <td>2016-02-22T19:43:54.000033-08:00</td>\n",
       "      <td>37.391257</td>\n",
       "      <td>-122.081912</td>\n",
       "    </tr>\n",
       "    <tr>\n",
       "      <th>5</th>\n",
       "      <td>1456199080.000033</td>\n",
       "      <td>2016-02-22T19:44:40.000033-08:00</td>\n",
       "      <td>37.391596</td>\n",
       "      <td>-122.081534</td>\n",
       "    </tr>\n",
       "    <tr>\n",
       "      <th>6</th>\n",
       "      <td>1456199158.000033</td>\n",
       "      <td>2016-02-22T19:45:58.000033-08:00</td>\n",
       "      <td>37.391534</td>\n",
       "      <td>-122.080959</td>\n",
       "    </tr>\n",
       "    <tr>\n",
       "      <th>7</th>\n",
       "      <td>1456199202.000034</td>\n",
       "      <td>2016-02-22T19:46:42.000034-08:00</td>\n",
       "      <td>37.391635</td>\n",
       "      <td>-122.080403</td>\n",
       "    </tr>\n",
       "    <tr>\n",
       "      <th>8</th>\n",
       "      <td>1456199231.000033</td>\n",
       "      <td>2016-02-22T19:47:11.000033-08:00</td>\n",
       "      <td>37.392064</td>\n",
       "      <td>-122.080217</td>\n",
       "    </tr>\n",
       "    <tr>\n",
       "      <th>9</th>\n",
       "      <td>1456199315.000033</td>\n",
       "      <td>2016-02-22T19:48:35.000033-08:00</td>\n",
       "      <td>37.392359</td>\n",
       "      <td>-122.079788</td>\n",
       "    </tr>\n",
       "  </tbody>\n",
       "</table>\n",
       "</div>"
      ],
      "text/plain": [
       "                 ts                          fmt_time  latitude   longitude\n",
       "0 1456198902.085297  2016-02-22T19:41:42.085297-08:00 37.390678 -122.082629\n",
       "1 1456198905.000030  2016-02-22T19:41:45.000030-08:00 37.390633 -122.082816\n",
       "2 1456198969.000034  2016-02-22T19:42:49.000034-08:00 37.390403 -122.082321\n",
       "3 1456199001.000033  2016-02-22T19:43:21.000033-08:00 37.390838 -122.082146\n",
       "4 1456199034.000033  2016-02-22T19:43:54.000033-08:00 37.391257 -122.081912\n",
       "5 1456199080.000033  2016-02-22T19:44:40.000033-08:00 37.391596 -122.081534\n",
       "6 1456199158.000033  2016-02-22T19:45:58.000033-08:00 37.391534 -122.080959\n",
       "7 1456199202.000034  2016-02-22T19:46:42.000034-08:00 37.391635 -122.080403\n",
       "8 1456199231.000033  2016-02-22T19:47:11.000033-08:00 37.392064 -122.080217\n",
       "9 1456199315.000033  2016-02-22T19:48:35.000033-08:00 37.392359 -122.079788"
      ]
     },
     "execution_count": 55,
     "metadata": {},
     "output_type": "execute_result"
    }
   ],
   "source": [
    "loc_entry_it = ts.find_entries([\"background/filtered_location\"],\n",
    "                                   esda.get_time_query_for_trip_like(\n",
    "                                       esda.RAW_SECTION_KEY, section_entry.get_id()))\n",
    "loc_entry_list = [ecwe.Entry(e) for e in loc_entry_it]\n",
    "loc_entry_df = estb.BuiltinTimeSeries.to_data_df(\"background/filtered_location\", loc_entry_list)\n",
    "loc_entry_df[[\"ts\", \"fmt_time\", \"latitude\", \"longitude\"]]"
   ]
  },
  {
   "cell_type": "code",
   "execution_count": 56,
   "metadata": {
    "collapsed": false
   },
   "outputs": [],
   "source": [
    "with_speeds_df = eaicl.add_dist_heading_speed(loc_entry_df)"
   ]
  },
  {
   "cell_type": "code",
   "execution_count": 57,
   "metadata": {
    "collapsed": false
   },
   "outputs": [
    {
     "data": {
      "text/plain": [
       "(0   0.000000\n",
       " 1   5.915331\n",
       " 2   0.790988\n",
       " 3   1.584267\n",
       " 4   1.547820\n",
       " 5   1.094819\n",
       " 6   0.657234\n",
       " 7   1.145274\n",
       " 8   1.737425\n",
       " 9   0.596737\n",
       " Name: speed, dtype: float64, 0   -1.000000\n",
       " 1    1.160000\n",
       " 2    0.520000\n",
       " 3    1.200000\n",
       " 4    1.110000\n",
       " 5    0.520000\n",
       " 6    1.290000\n",
       " 7    1.000000\n",
       " 8    1.560000\n",
       " 9    0.320000\n",
       " Name: sensed_speed, dtype: float64)"
      ]
     },
     "execution_count": 57,
     "metadata": {},
     "output_type": "execute_result"
    }
   ],
   "source": [
    "with_speeds_df.speed, with_speeds_df.sensed_speed"
   ]
  },
  {
   "cell_type": "code",
   "execution_count": 58,
   "metadata": {
    "collapsed": true
   },
   "outputs": [],
   "source": [
    "with_speeds_df_nona = with_speeds_df.dropna()"
   ]
  },
  {
   "cell_type": "code",
   "execution_count": 59,
   "metadata": {
    "collapsed": false
   },
   "outputs": [
    {
     "data": {
      "text/plain": [
       "0   0.000000\n",
       "1   5.915331\n",
       "2   0.790988\n",
       "3   1.584267\n",
       "4   1.547820\n",
       "5   1.094819\n",
       "6   0.657234\n",
       "7   1.145274\n",
       "8   1.737425\n",
       "9   0.596737\n",
       "Name: speed, dtype: float64"
      ]
     },
     "execution_count": 59,
     "metadata": {},
     "output_type": "execute_result"
    }
   ],
   "source": [
    "with_speeds_df.speed"
   ]
  },
  {
   "cell_type": "code",
   "execution_count": 60,
   "metadata": {
    "collapsed": false
   },
   "outputs": [
    {
     "data": {
      "text/plain": [
       "1.1200463971400958"
      ]
     },
     "execution_count": 60,
     "metadata": {},
     "output_type": "execute_result"
    }
   ],
   "source": [
    "with_speeds_df.speed.median()"
   ]
  },
  {
   "cell_type": "code",
   "execution_count": 61,
   "metadata": {
    "collapsed": true
   },
   "outputs": [],
   "source": [
    "start_place = ts.get_entry_from_id(esda.RAW_PLACE_KEY, hbtrip.start_place)"
   ]
  },
  {
   "cell_type": "code",
   "execution_count": 62,
   "metadata": {
    "collapsed": false
   },
   "outputs": [
    {
     "data": {
      "text/plain": [
       "([[-122.0826288376279, 37.39067786774222]],\n",
       " [-122.0861964953338, 37.39118427507336])"
      ]
     },
     "execution_count": 62,
     "metadata": {},
     "output_type": "execute_result"
    }
   ],
   "source": [
    "[loc_entry_list[0].data.loc.coordinates], start_place.data.location.coordinates"
   ]
  },
  {
   "cell_type": "code",
   "execution_count": 63,
   "metadata": {
    "collapsed": false
   },
   "outputs": [
    {
     "name": "stdout",
     "output_type": "stream",
     "text": [
      "320.177270563\n"
     ]
    }
   ],
   "source": [
    "add_dist = ecc.calDistance(loc_entry_list[0].data.loc.coordinates, start_place.data.location.coordinates)\n",
    "print add_dist"
   ]
  },
  {
   "cell_type": "markdown",
   "metadata": {},
   "source": [
    "speed ($s$) is in m/s. dist ($d$) is in meters.\n",
    "so what we really need is\n",
    "\n",
    "| Distance (m) | Time (s) | \n",
    "| --- | ---- |\n",
    "| $s$ m | 1 sec |\n",
    "| $d$ m | ? secs = $\\frac{d}{s}$ |"
   ]
  },
  {
   "cell_type": "code",
   "execution_count": 64,
   "metadata": {
    "collapsed": false
   },
   "outputs": [
    {
     "data": {
      "text/plain": [
       "285.86072093135624"
      ]
     },
     "execution_count": 64,
     "metadata": {},
     "output_type": "execute_result"
    }
   ],
   "source": [
    "add_time = add_dist / with_speeds_df.speed.median()\n",
    "add_time"
   ]
  },
  {
   "cell_type": "code",
   "execution_count": 65,
   "metadata": {
    "collapsed": false
   },
   "outputs": [
    {
     "data": {
      "text/plain": [
       "11.764345348855937"
      ]
     },
     "execution_count": 65,
     "metadata": {},
     "output_type": "execute_result"
    }
   ],
   "source": [
    "(7 * 60  + add_time) / 60"
   ]
  },
  {
   "cell_type": "code",
   "execution_count": 66,
   "metadata": {
    "collapsed": false
   },
   "outputs": [
    {
     "data": {
      "text/plain": [
       "676.1772705630359"
      ]
     },
     "execution_count": 66,
     "metadata": {},
     "output_type": "execute_result"
    }
   ],
   "source": [
    "356 + add_dist"
   ]
  },
  {
   "cell_type": "markdown",
   "metadata": {},
   "source": [
    "### Closer to the real values (737m/13 mins), unsure if close enough"
   ]
  },
  {
   "cell_type": "markdown",
   "metadata": {},
   "source": [
    "## Hooking up the results to the standard data structure"
   ]
  },
  {
   "cell_type": "code",
   "execution_count": 67,
   "metadata": {
    "collapsed": true
   },
   "outputs": [],
   "source": [
    "ts_delta = add_dist * with_speeds_df.speed.median()"
   ]
  },
  {
   "cell_type": "code",
   "execution_count": 68,
   "metadata": {
    "collapsed": false
   },
   "outputs": [
    {
     "data": {
      "text/html": [
       "<div>\n",
       "<table border=\"1\" class=\"dataframe\">\n",
       "  <thead>\n",
       "    <tr style=\"text-align: right;\">\n",
       "      <th></th>\n",
       "      <th>ts</th>\n",
       "      <th>fmt_time</th>\n",
       "      <th>latitude</th>\n",
       "      <th>longitude</th>\n",
       "    </tr>\n",
       "  </thead>\n",
       "  <tbody>\n",
       "    <tr>\n",
       "      <th>0</th>\n",
       "      <td>1456198902.085297</td>\n",
       "      <td>2016-02-22T19:41:42.085297-08:00</td>\n",
       "      <td>37.390678</td>\n",
       "      <td>-122.082629</td>\n",
       "    </tr>\n",
       "    <tr>\n",
       "      <th>1</th>\n",
       "      <td>1456198905.000030</td>\n",
       "      <td>2016-02-22T19:41:45.000030-08:00</td>\n",
       "      <td>37.390633</td>\n",
       "      <td>-122.082816</td>\n",
       "    </tr>\n",
       "    <tr>\n",
       "      <th>2</th>\n",
       "      <td>1456198969.000034</td>\n",
       "      <td>2016-02-22T19:42:49.000034-08:00</td>\n",
       "      <td>37.390403</td>\n",
       "      <td>-122.082321</td>\n",
       "    </tr>\n",
       "    <tr>\n",
       "      <th>3</th>\n",
       "      <td>1456199001.000033</td>\n",
       "      <td>2016-02-22T19:43:21.000033-08:00</td>\n",
       "      <td>37.390838</td>\n",
       "      <td>-122.082146</td>\n",
       "    </tr>\n",
       "    <tr>\n",
       "      <th>4</th>\n",
       "      <td>1456199034.000033</td>\n",
       "      <td>2016-02-22T19:43:54.000033-08:00</td>\n",
       "      <td>37.391257</td>\n",
       "      <td>-122.081912</td>\n",
       "    </tr>\n",
       "    <tr>\n",
       "      <th>5</th>\n",
       "      <td>1456199080.000033</td>\n",
       "      <td>2016-02-22T19:44:40.000033-08:00</td>\n",
       "      <td>37.391596</td>\n",
       "      <td>-122.081534</td>\n",
       "    </tr>\n",
       "    <tr>\n",
       "      <th>6</th>\n",
       "      <td>1456199158.000033</td>\n",
       "      <td>2016-02-22T19:45:58.000033-08:00</td>\n",
       "      <td>37.391534</td>\n",
       "      <td>-122.080959</td>\n",
       "    </tr>\n",
       "    <tr>\n",
       "      <th>7</th>\n",
       "      <td>1456199202.000034</td>\n",
       "      <td>2016-02-22T19:46:42.000034-08:00</td>\n",
       "      <td>37.391635</td>\n",
       "      <td>-122.080403</td>\n",
       "    </tr>\n",
       "    <tr>\n",
       "      <th>8</th>\n",
       "      <td>1456199231.000033</td>\n",
       "      <td>2016-02-22T19:47:11.000033-08:00</td>\n",
       "      <td>37.392064</td>\n",
       "      <td>-122.080217</td>\n",
       "    </tr>\n",
       "    <tr>\n",
       "      <th>9</th>\n",
       "      <td>1456199315.000033</td>\n",
       "      <td>2016-02-22T19:48:35.000033-08:00</td>\n",
       "      <td>37.392359</td>\n",
       "      <td>-122.079788</td>\n",
       "    </tr>\n",
       "  </tbody>\n",
       "</table>\n",
       "</div>"
      ],
      "text/plain": [
       "                 ts                          fmt_time  latitude   longitude\n",
       "0 1456198902.085297  2016-02-22T19:41:42.085297-08:00 37.390678 -122.082629\n",
       "1 1456198905.000030  2016-02-22T19:41:45.000030-08:00 37.390633 -122.082816\n",
       "2 1456198969.000034  2016-02-22T19:42:49.000034-08:00 37.390403 -122.082321\n",
       "3 1456199001.000033  2016-02-22T19:43:21.000033-08:00 37.390838 -122.082146\n",
       "4 1456199034.000033  2016-02-22T19:43:54.000033-08:00 37.391257 -122.081912\n",
       "5 1456199080.000033  2016-02-22T19:44:40.000033-08:00 37.391596 -122.081534\n",
       "6 1456199158.000033  2016-02-22T19:45:58.000033-08:00 37.391534 -122.080959\n",
       "7 1456199202.000034  2016-02-22T19:46:42.000034-08:00 37.391635 -122.080403\n",
       "8 1456199231.000033  2016-02-22T19:47:11.000033-08:00 37.392064 -122.080217\n",
       "9 1456199315.000033  2016-02-22T19:48:35.000033-08:00 37.392359 -122.079788"
      ]
     },
     "execution_count": 68,
     "metadata": {},
     "output_type": "execute_result"
    }
   ],
   "source": [
    "loc_entry_it = ts.find_entries([\"background/filtered_location\"],\n",
    "                                   esda.get_time_query_for_trip_like(\n",
    "                                       esda.RAW_SECTION_KEY, section_entry.get_id()))\n",
    "loc_entry_list = [ecwe.Entry(e) for e in loc_entry_it]\n",
    "loc_entry_df = estb.BuiltinTimeSeries.to_data_df(\"background/filtered_location\", loc_entry_list)\n",
    "loc_entry_df[[\"ts\", \"fmt_time\", \"latitude\", \"longitude\"]]"
   ]
  },
  {
   "cell_type": "code",
   "execution_count": 69,
   "metadata": {
    "collapsed": false
   },
   "outputs": [
    {
     "data": {
      "text/plain": [
       "Index([              u'_id',          u'accuracy',          u'altitude',\n",
       "                  u'filter',             u'floor',          u'fmt_time',\n",
       "                 u'heading',          u'latitude',               u'loc',\n",
       "            u'local_dt_day',     u'local_dt_hour',   u'local_dt_minute',\n",
       "          u'local_dt_month',   u'local_dt_second', u'local_dt_timezone',\n",
       "        u'local_dt_weekday',     u'local_dt_year',         u'longitude',\n",
       "       u'metadata_write_ts',      u'sensed_speed',                u'ts',\n",
       "                 u'user_id',         u'vaccuracy'],\n",
       "      dtype='object')"
      ]
     },
     "execution_count": 69,
     "metadata": {},
     "output_type": "execute_result"
    }
   ],
   "source": [
    "loc_entry_df.columns"
   ]
  },
  {
   "cell_type": "code",
   "execution_count": 70,
   "metadata": {
    "collapsed": false
   },
   "outputs": [],
   "source": [
    "start_place_enter_loc_entry = ecwe.Entry(ts.get_entry_at_ts(\"background/filtered_location\", \"data.ts\", start_place.data.enter_ts))"
   ]
  },
  {
   "cell_type": "code",
   "execution_count": 71,
   "metadata": {
    "collapsed": false
   },
   "outputs": [
    {
     "data": {
      "text/plain": [
       "Entry({u'user_id': UUID('079e0f1a-c440-3d7c-b0e7-de160f748e35'), u'_id': ObjectId('56cbcb4ceaedff78c763669e'), u'data': {u'loc': {u'type': u'Point', u'coordinates': [-122.0861964953338, 37.39118427507336]}, u'fmt_time': u'2016-02-22T16:56:58.000047-08:00', u'altitude': 19.34386975527782, u'floor': 0, u'vaccuracy': 3, u'ts': 1456189018.000047, u'longitude': -122.0861964953338, u'filter': u'distance', u'local_dt': {u'hour': 16, u'month': 2, u'second': 58, u'weekday': 0, u'year': 2016, u'timezone': u'America/Los_Angeles', u'day': 22, u'minute': 56}, u'latitude': 37.39118427507336, u'heading': 206.015625, u'sensed_speed': 9.09000015258789, u'accuracy': 5}, u'metadata': {u'write_fmt_time': u'2016-02-22T16:56:58.174159-08:00', u'plugin': u'none', u'write_ts': 1456189018.174159, u'time_zone': u'America/Los_Angeles', u'platform': u'ios', u'write_local_dt': {u'hour': 16, u'month': 2, u'second': 58, u'weekday': 0, u'year': 2016, u'timezone': u'America/Los_Angeles', u'day': 22, u'minute': 56}, u'key': u'background/filtered_location', u'read_ts': 0, u'type': u'sensor-data'}})"
      ]
     },
     "execution_count": 71,
     "metadata": {},
     "output_type": "execute_result"
    }
   ],
   "source": [
    "start_place_enter_loc_entry"
   ]
  },
  {
   "cell_type": "code",
   "execution_count": 72,
   "metadata": {
    "collapsed": true
   },
   "outputs": [],
   "source": [
    "loc_entry_list.insert(0, start_place_enter_loc_entry)"
   ]
  },
  {
   "cell_type": "code",
   "execution_count": 73,
   "metadata": {
    "collapsed": false,
    "scrolled": false
   },
   "outputs": [
    {
     "data": {
      "text/html": [
       "<div>\n",
       "<table border=\"1\" class=\"dataframe\">\n",
       "  <thead>\n",
       "    <tr style=\"text-align: right;\">\n",
       "      <th></th>\n",
       "      <th>ts</th>\n",
       "      <th>fmt_time</th>\n",
       "      <th>latitude</th>\n",
       "      <th>longitude</th>\n",
       "    </tr>\n",
       "  </thead>\n",
       "  <tbody>\n",
       "    <tr>\n",
       "      <th>0</th>\n",
       "      <td>1456189018.000047</td>\n",
       "      <td>2016-02-22T16:56:58.000047-08:00</td>\n",
       "      <td>37.391184</td>\n",
       "      <td>-122.086196</td>\n",
       "    </tr>\n",
       "    <tr>\n",
       "      <th>1</th>\n",
       "      <td>1456198902.085297</td>\n",
       "      <td>2016-02-22T19:41:42.085297-08:00</td>\n",
       "      <td>37.390678</td>\n",
       "      <td>-122.082629</td>\n",
       "    </tr>\n",
       "    <tr>\n",
       "      <th>2</th>\n",
       "      <td>1456198905.000030</td>\n",
       "      <td>2016-02-22T19:41:45.000030-08:00</td>\n",
       "      <td>37.390633</td>\n",
       "      <td>-122.082816</td>\n",
       "    </tr>\n",
       "    <tr>\n",
       "      <th>3</th>\n",
       "      <td>1456198969.000034</td>\n",
       "      <td>2016-02-22T19:42:49.000034-08:00</td>\n",
       "      <td>37.390403</td>\n",
       "      <td>-122.082321</td>\n",
       "    </tr>\n",
       "    <tr>\n",
       "      <th>4</th>\n",
       "      <td>1456199001.000033</td>\n",
       "      <td>2016-02-22T19:43:21.000033-08:00</td>\n",
       "      <td>37.390838</td>\n",
       "      <td>-122.082146</td>\n",
       "    </tr>\n",
       "    <tr>\n",
       "      <th>5</th>\n",
       "      <td>1456199034.000033</td>\n",
       "      <td>2016-02-22T19:43:54.000033-08:00</td>\n",
       "      <td>37.391257</td>\n",
       "      <td>-122.081912</td>\n",
       "    </tr>\n",
       "    <tr>\n",
       "      <th>6</th>\n",
       "      <td>1456199080.000033</td>\n",
       "      <td>2016-02-22T19:44:40.000033-08:00</td>\n",
       "      <td>37.391596</td>\n",
       "      <td>-122.081534</td>\n",
       "    </tr>\n",
       "    <tr>\n",
       "      <th>7</th>\n",
       "      <td>1456199158.000033</td>\n",
       "      <td>2016-02-22T19:45:58.000033-08:00</td>\n",
       "      <td>37.391534</td>\n",
       "      <td>-122.080959</td>\n",
       "    </tr>\n",
       "    <tr>\n",
       "      <th>8</th>\n",
       "      <td>1456199202.000034</td>\n",
       "      <td>2016-02-22T19:46:42.000034-08:00</td>\n",
       "      <td>37.391635</td>\n",
       "      <td>-122.080403</td>\n",
       "    </tr>\n",
       "    <tr>\n",
       "      <th>9</th>\n",
       "      <td>1456199231.000033</td>\n",
       "      <td>2016-02-22T19:47:11.000033-08:00</td>\n",
       "      <td>37.392064</td>\n",
       "      <td>-122.080217</td>\n",
       "    </tr>\n",
       "    <tr>\n",
       "      <th>10</th>\n",
       "      <td>1456199315.000033</td>\n",
       "      <td>2016-02-22T19:48:35.000033-08:00</td>\n",
       "      <td>37.392359</td>\n",
       "      <td>-122.079788</td>\n",
       "    </tr>\n",
       "  </tbody>\n",
       "</table>\n",
       "</div>"
      ],
      "text/plain": [
       "                  ts                          fmt_time  latitude   longitude\n",
       "0  1456189018.000047  2016-02-22T16:56:58.000047-08:00 37.391184 -122.086196\n",
       "1  1456198902.085297  2016-02-22T19:41:42.085297-08:00 37.390678 -122.082629\n",
       "2  1456198905.000030  2016-02-22T19:41:45.000030-08:00 37.390633 -122.082816\n",
       "3  1456198969.000034  2016-02-22T19:42:49.000034-08:00 37.390403 -122.082321\n",
       "4  1456199001.000033  2016-02-22T19:43:21.000033-08:00 37.390838 -122.082146\n",
       "5  1456199034.000033  2016-02-22T19:43:54.000033-08:00 37.391257 -122.081912\n",
       "6  1456199080.000033  2016-02-22T19:44:40.000033-08:00 37.391596 -122.081534\n",
       "7  1456199158.000033  2016-02-22T19:45:58.000033-08:00 37.391534 -122.080959\n",
       "8  1456199202.000034  2016-02-22T19:46:42.000034-08:00 37.391635 -122.080403\n",
       "9  1456199231.000033  2016-02-22T19:47:11.000033-08:00 37.392064 -122.080217\n",
       "10 1456199315.000033  2016-02-22T19:48:35.000033-08:00 37.392359 -122.079788"
      ]
     },
     "execution_count": 73,
     "metadata": {},
     "output_type": "execute_result"
    }
   ],
   "source": [
    "loc_entry_df = estb.BuiltinTimeSeries.to_data_df(\"background/filtered_location\", loc_entry_list)\n",
    "loc_entry_df[[\"ts\", \"fmt_time\", \"latitude\", \"longitude\"]]"
   ]
  },
  {
   "cell_type": "code",
   "execution_count": 74,
   "metadata": {
    "collapsed": false
   },
   "outputs": [
    {
     "data": {
      "text/plain": [
       "(1456198543.4718988, <Arrow [2016-02-22T19:35:43.471899-08:00]>)"
      ]
     },
     "execution_count": 74,
     "metadata": {},
     "output_type": "execute_result"
    }
   ],
   "source": [
    "new_start_ts = loc_entry_df.loc[1].ts - ts_delta\n",
    "new_start_ts, arrow.get(new_start_ts).to(\"America/Los_Angeles\")"
   ]
  },
  {
   "cell_type": "code",
   "execution_count": 75,
   "metadata": {
    "collapsed": false
   },
   "outputs": [
    {
     "name": "stderr",
     "output_type": "stream",
     "text": [
      "/Users/shankari/OSS/anaconda/lib/python2.7/site-packages/pandas/core/indexing.py:115: SettingWithCopyWarning: \n",
      "A value is trying to be set on a copy of a slice from a DataFrame\n",
      "\n",
      "See the caveats in the documentation: http://pandas.pydata.org/pandas-docs/stable/indexing.html#indexing-view-versus-copy\n",
      "  self._setitem_with_indexer(indexer, value)\n"
     ]
    }
   ],
   "source": [
    "loc_entry_df.ts.iloc[0] = new_start_ts\n",
    "loc_entry_df.fmt_time.iloc[0] = arrow.get(new_start_ts).to(start_place_enter_loc_entry.data.local_dt.timezone)"
   ]
  },
  {
   "cell_type": "code",
   "execution_count": 76,
   "metadata": {
    "collapsed": false,
    "scrolled": true
   },
   "outputs": [
    {
     "data": {
      "text/html": [
       "<div>\n",
       "<table border=\"1\" class=\"dataframe\">\n",
       "  <thead>\n",
       "    <tr style=\"text-align: right;\">\n",
       "      <th></th>\n",
       "      <th>_id</th>\n",
       "      <th>accuracy</th>\n",
       "      <th>altitude</th>\n",
       "      <th>filter</th>\n",
       "      <th>floor</th>\n",
       "      <th>fmt_time</th>\n",
       "      <th>heading</th>\n",
       "      <th>latitude</th>\n",
       "      <th>loc</th>\n",
       "      <th>local_dt_day</th>\n",
       "      <th>...</th>\n",
       "      <th>local_dt_second</th>\n",
       "      <th>local_dt_timezone</th>\n",
       "      <th>local_dt_weekday</th>\n",
       "      <th>local_dt_year</th>\n",
       "      <th>longitude</th>\n",
       "      <th>metadata_write_ts</th>\n",
       "      <th>sensed_speed</th>\n",
       "      <th>ts</th>\n",
       "      <th>user_id</th>\n",
       "      <th>vaccuracy</th>\n",
       "    </tr>\n",
       "  </thead>\n",
       "  <tbody>\n",
       "    <tr>\n",
       "      <th>0</th>\n",
       "      <td>56cbcb4ceaedff78c763669e</td>\n",
       "      <td>5</td>\n",
       "      <td>19.343870</td>\n",
       "      <td>distance</td>\n",
       "      <td>0</td>\n",
       "      <td>2016-02-22T19:35:43.471899-08:00</td>\n",
       "      <td>206.015625</td>\n",
       "      <td>37.391184</td>\n",
       "      <td>{u'type': u'Point', u'coordinates': [-122.0861...</td>\n",
       "      <td>22</td>\n",
       "      <td>...</td>\n",
       "      <td>58</td>\n",
       "      <td>America/Los_Angeles</td>\n",
       "      <td>0</td>\n",
       "      <td>2016</td>\n",
       "      <td>-122.086196</td>\n",
       "      <td>1456189018.174159</td>\n",
       "      <td>9.090000</td>\n",
       "      <td>1456198543.471899</td>\n",
       "      <td>079e0f1a-c440-3d7c-b0e7-de160f748e35</td>\n",
       "      <td>3.000000</td>\n",
       "    </tr>\n",
       "    <tr>\n",
       "      <th>1</th>\n",
       "      <td>56cbf570eaedff78c7636a48</td>\n",
       "      <td>65</td>\n",
       "      <td>29.636635</td>\n",
       "      <td>distance</td>\n",
       "      <td>0</td>\n",
       "      <td>2016-02-22T19:41:42.085297-08:00</td>\n",
       "      <td>-1.000000</td>\n",
       "      <td>37.390678</td>\n",
       "      <td>{u'type': u'Point', u'coordinates': [-122.0826...</td>\n",
       "      <td>22</td>\n",
       "      <td>...</td>\n",
       "      <td>42</td>\n",
       "      <td>America/Los_Angeles</td>\n",
       "      <td>0</td>\n",
       "      <td>2016</td>\n",
       "      <td>-122.082629</td>\n",
       "      <td>1456198903.092138</td>\n",
       "      <td>-1.000000</td>\n",
       "      <td>1456198902.085297</td>\n",
       "      <td>079e0f1a-c440-3d7c-b0e7-de160f748e35</td>\n",
       "      <td>19.940405</td>\n",
       "    </tr>\n",
       "    <tr>\n",
       "      <th>2</th>\n",
       "      <td>56cbf570eaedff78c7636a4c</td>\n",
       "      <td>10</td>\n",
       "      <td>29.574341</td>\n",
       "      <td>distance</td>\n",
       "      <td>0</td>\n",
       "      <td>2016-02-22T19:41:45.000030-08:00</td>\n",
       "      <td>273.515625</td>\n",
       "      <td>37.390633</td>\n",
       "      <td>{u'type': u'Point', u'coordinates': [-122.0828...</td>\n",
       "      <td>22</td>\n",
       "      <td>...</td>\n",
       "      <td>45</td>\n",
       "      <td>America/Los_Angeles</td>\n",
       "      <td>0</td>\n",
       "      <td>2016</td>\n",
       "      <td>-122.082816</td>\n",
       "      <td>1456198905.121114</td>\n",
       "      <td>1.160000</td>\n",
       "      <td>1456198905.000030</td>\n",
       "      <td>079e0f1a-c440-3d7c-b0e7-de160f748e35</td>\n",
       "      <td>4.000000</td>\n",
       "    </tr>\n",
       "    <tr>\n",
       "      <th>3</th>\n",
       "      <td>56cbf570eaedff78c7636a52</td>\n",
       "      <td>10</td>\n",
       "      <td>27.620148</td>\n",
       "      <td>distance</td>\n",
       "      <td>0</td>\n",
       "      <td>2016-02-22T19:42:49.000034-08:00</td>\n",
       "      <td>128.320312</td>\n",
       "      <td>37.390403</td>\n",
       "      <td>{u'type': u'Point', u'coordinates': [-122.0823...</td>\n",
       "      <td>22</td>\n",
       "      <td>...</td>\n",
       "      <td>49</td>\n",
       "      <td>America/Los_Angeles</td>\n",
       "      <td>0</td>\n",
       "      <td>2016</td>\n",
       "      <td>-122.082321</td>\n",
       "      <td>1456198969.145697</td>\n",
       "      <td>0.520000</td>\n",
       "      <td>1456198969.000034</td>\n",
       "      <td>079e0f1a-c440-3d7c-b0e7-de160f748e35</td>\n",
       "      <td>4.000000</td>\n",
       "    </tr>\n",
       "    <tr>\n",
       "      <th>4</th>\n",
       "      <td>56cbf570eaedff78c7636a55</td>\n",
       "      <td>10</td>\n",
       "      <td>26.250458</td>\n",
       "      <td>distance</td>\n",
       "      <td>0</td>\n",
       "      <td>2016-02-22T19:43:21.000033-08:00</td>\n",
       "      <td>67.500000</td>\n",
       "      <td>37.390838</td>\n",
       "      <td>{u'type': u'Point', u'coordinates': [-122.0821...</td>\n",
       "      <td>22</td>\n",
       "      <td>...</td>\n",
       "      <td>21</td>\n",
       "      <td>America/Los_Angeles</td>\n",
       "      <td>0</td>\n",
       "      <td>2016</td>\n",
       "      <td>-122.082146</td>\n",
       "      <td>1456199001.161527</td>\n",
       "      <td>1.200000</td>\n",
       "      <td>1456199001.000033</td>\n",
       "      <td>079e0f1a-c440-3d7c-b0e7-de160f748e35</td>\n",
       "      <td>4.000000</td>\n",
       "    </tr>\n",
       "    <tr>\n",
       "      <th>5</th>\n",
       "      <td>56cbf571eaedff78c7636a5a</td>\n",
       "      <td>5</td>\n",
       "      <td>27.534332</td>\n",
       "      <td>distance</td>\n",
       "      <td>0</td>\n",
       "      <td>2016-02-22T19:43:54.000033-08:00</td>\n",
       "      <td>46.757812</td>\n",
       "      <td>37.391257</td>\n",
       "      <td>{u'type': u'Point', u'coordinates': [-122.0819...</td>\n",
       "      <td>22</td>\n",
       "      <td>...</td>\n",
       "      <td>54</td>\n",
       "      <td>America/Los_Angeles</td>\n",
       "      <td>0</td>\n",
       "      <td>2016</td>\n",
       "      <td>-122.081912</td>\n",
       "      <td>1456199034.163653</td>\n",
       "      <td>1.110000</td>\n",
       "      <td>1456199034.000033</td>\n",
       "      <td>079e0f1a-c440-3d7c-b0e7-de160f748e35</td>\n",
       "      <td>4.000000</td>\n",
       "    </tr>\n",
       "    <tr>\n",
       "      <th>6</th>\n",
       "      <td>56cbf571eaedff78c7636a60</td>\n",
       "      <td>10</td>\n",
       "      <td>24.737732</td>\n",
       "      <td>distance</td>\n",
       "      <td>0</td>\n",
       "      <td>2016-02-22T19:44:40.000033-08:00</td>\n",
       "      <td>39.726562</td>\n",
       "      <td>37.391596</td>\n",
       "      <td>{u'type': u'Point', u'coordinates': [-122.0815...</td>\n",
       "      <td>22</td>\n",
       "      <td>...</td>\n",
       "      <td>40</td>\n",
       "      <td>America/Los_Angeles</td>\n",
       "      <td>0</td>\n",
       "      <td>2016</td>\n",
       "      <td>-122.081534</td>\n",
       "      <td>1456199080.137458</td>\n",
       "      <td>0.520000</td>\n",
       "      <td>1456199080.000033</td>\n",
       "      <td>079e0f1a-c440-3d7c-b0e7-de160f748e35</td>\n",
       "      <td>4.000000</td>\n",
       "    </tr>\n",
       "    <tr>\n",
       "      <th>7</th>\n",
       "      <td>56cbf571eaedff78c7636a64</td>\n",
       "      <td>10</td>\n",
       "      <td>26.791779</td>\n",
       "      <td>distance</td>\n",
       "      <td>0</td>\n",
       "      <td>2016-02-22T19:45:58.000033-08:00</td>\n",
       "      <td>94.921875</td>\n",
       "      <td>37.391534</td>\n",
       "      <td>{u'type': u'Point', u'coordinates': [-122.0809...</td>\n",
       "      <td>22</td>\n",
       "      <td>...</td>\n",
       "      <td>58</td>\n",
       "      <td>America/Los_Angeles</td>\n",
       "      <td>0</td>\n",
       "      <td>2016</td>\n",
       "      <td>-122.080959</td>\n",
       "      <td>1456199158.158537</td>\n",
       "      <td>1.290000</td>\n",
       "      <td>1456199158.000033</td>\n",
       "      <td>079e0f1a-c440-3d7c-b0e7-de160f748e35</td>\n",
       "      <td>4.000000</td>\n",
       "    </tr>\n",
       "    <tr>\n",
       "      <th>8</th>\n",
       "      <td>56cbf571eaedff78c7636a67</td>\n",
       "      <td>5</td>\n",
       "      <td>24.615936</td>\n",
       "      <td>distance</td>\n",
       "      <td>0</td>\n",
       "      <td>2016-02-22T19:46:42.000034-08:00</td>\n",
       "      <td>49.218750</td>\n",
       "      <td>37.391635</td>\n",
       "      <td>{u'type': u'Point', u'coordinates': [-122.0804...</td>\n",
       "      <td>22</td>\n",
       "      <td>...</td>\n",
       "      <td>42</td>\n",
       "      <td>America/Los_Angeles</td>\n",
       "      <td>0</td>\n",
       "      <td>2016</td>\n",
       "      <td>-122.080403</td>\n",
       "      <td>1456199202.161730</td>\n",
       "      <td>1.000000</td>\n",
       "      <td>1456199202.000034</td>\n",
       "      <td>079e0f1a-c440-3d7c-b0e7-de160f748e35</td>\n",
       "      <td>3.000000</td>\n",
       "    </tr>\n",
       "    <tr>\n",
       "      <th>9</th>\n",
       "      <td>56cbf571eaedff78c7636a6b</td>\n",
       "      <td>5</td>\n",
       "      <td>23.957642</td>\n",
       "      <td>distance</td>\n",
       "      <td>0</td>\n",
       "      <td>2016-02-22T19:47:11.000033-08:00</td>\n",
       "      <td>20.390625</td>\n",
       "      <td>37.392064</td>\n",
       "      <td>{u'type': u'Point', u'coordinates': [-122.0802...</td>\n",
       "      <td>22</td>\n",
       "      <td>...</td>\n",
       "      <td>11</td>\n",
       "      <td>America/Los_Angeles</td>\n",
       "      <td>0</td>\n",
       "      <td>2016</td>\n",
       "      <td>-122.080217</td>\n",
       "      <td>1456199231.185850</td>\n",
       "      <td>1.560000</td>\n",
       "      <td>1456199231.000033</td>\n",
       "      <td>079e0f1a-c440-3d7c-b0e7-de160f748e35</td>\n",
       "      <td>3.000000</td>\n",
       "    </tr>\n",
       "    <tr>\n",
       "      <th>10</th>\n",
       "      <td>56cbf571eaedff78c7636a70</td>\n",
       "      <td>10</td>\n",
       "      <td>24.605225</td>\n",
       "      <td>distance</td>\n",
       "      <td>0</td>\n",
       "      <td>2016-02-22T19:48:35.000033-08:00</td>\n",
       "      <td>344.531250</td>\n",
       "      <td>37.392359</td>\n",
       "      <td>{u'type': u'Point', u'coordinates': [-122.0797...</td>\n",
       "      <td>22</td>\n",
       "      <td>...</td>\n",
       "      <td>35</td>\n",
       "      <td>America/Los_Angeles</td>\n",
       "      <td>0</td>\n",
       "      <td>2016</td>\n",
       "      <td>-122.079788</td>\n",
       "      <td>1456199315.157882</td>\n",
       "      <td>0.320000</td>\n",
       "      <td>1456199315.000033</td>\n",
       "      <td>079e0f1a-c440-3d7c-b0e7-de160f748e35</td>\n",
       "      <td>4.000000</td>\n",
       "    </tr>\n",
       "  </tbody>\n",
       "</table>\n",
       "<p>11 rows × 23 columns</p>\n",
       "</div>"
      ],
      "text/plain": [
       "                         _id  accuracy  altitude    filter  floor  \\\n",
       "0   56cbcb4ceaedff78c763669e         5 19.343870  distance      0   \n",
       "1   56cbf570eaedff78c7636a48        65 29.636635  distance      0   \n",
       "2   56cbf570eaedff78c7636a4c        10 29.574341  distance      0   \n",
       "3   56cbf570eaedff78c7636a52        10 27.620148  distance      0   \n",
       "4   56cbf570eaedff78c7636a55        10 26.250458  distance      0   \n",
       "5   56cbf571eaedff78c7636a5a         5 27.534332  distance      0   \n",
       "6   56cbf571eaedff78c7636a60        10 24.737732  distance      0   \n",
       "7   56cbf571eaedff78c7636a64        10 26.791779  distance      0   \n",
       "8   56cbf571eaedff78c7636a67         5 24.615936  distance      0   \n",
       "9   56cbf571eaedff78c7636a6b         5 23.957642  distance      0   \n",
       "10  56cbf571eaedff78c7636a70        10 24.605225  distance      0   \n",
       "\n",
       "                            fmt_time    heading  latitude  \\\n",
       "0   2016-02-22T19:35:43.471899-08:00 206.015625 37.391184   \n",
       "1   2016-02-22T19:41:42.085297-08:00  -1.000000 37.390678   \n",
       "2   2016-02-22T19:41:45.000030-08:00 273.515625 37.390633   \n",
       "3   2016-02-22T19:42:49.000034-08:00 128.320312 37.390403   \n",
       "4   2016-02-22T19:43:21.000033-08:00  67.500000 37.390838   \n",
       "5   2016-02-22T19:43:54.000033-08:00  46.757812 37.391257   \n",
       "6   2016-02-22T19:44:40.000033-08:00  39.726562 37.391596   \n",
       "7   2016-02-22T19:45:58.000033-08:00  94.921875 37.391534   \n",
       "8   2016-02-22T19:46:42.000034-08:00  49.218750 37.391635   \n",
       "9   2016-02-22T19:47:11.000033-08:00  20.390625 37.392064   \n",
       "10  2016-02-22T19:48:35.000033-08:00 344.531250 37.392359   \n",
       "\n",
       "                                                  loc  local_dt_day  \\\n",
       "0   {u'type': u'Point', u'coordinates': [-122.0861...            22   \n",
       "1   {u'type': u'Point', u'coordinates': [-122.0826...            22   \n",
       "2   {u'type': u'Point', u'coordinates': [-122.0828...            22   \n",
       "3   {u'type': u'Point', u'coordinates': [-122.0823...            22   \n",
       "4   {u'type': u'Point', u'coordinates': [-122.0821...            22   \n",
       "5   {u'type': u'Point', u'coordinates': [-122.0819...            22   \n",
       "6   {u'type': u'Point', u'coordinates': [-122.0815...            22   \n",
       "7   {u'type': u'Point', u'coordinates': [-122.0809...            22   \n",
       "8   {u'type': u'Point', u'coordinates': [-122.0804...            22   \n",
       "9   {u'type': u'Point', u'coordinates': [-122.0802...            22   \n",
       "10  {u'type': u'Point', u'coordinates': [-122.0797...            22   \n",
       "\n",
       "      ...      local_dt_second    local_dt_timezone  local_dt_weekday  \\\n",
       "0     ...                   58  America/Los_Angeles                 0   \n",
       "1     ...                   42  America/Los_Angeles                 0   \n",
       "2     ...                   45  America/Los_Angeles                 0   \n",
       "3     ...                   49  America/Los_Angeles                 0   \n",
       "4     ...                   21  America/Los_Angeles                 0   \n",
       "5     ...                   54  America/Los_Angeles                 0   \n",
       "6     ...                   40  America/Los_Angeles                 0   \n",
       "7     ...                   58  America/Los_Angeles                 0   \n",
       "8     ...                   42  America/Los_Angeles                 0   \n",
       "9     ...                   11  America/Los_Angeles                 0   \n",
       "10    ...                   35  America/Los_Angeles                 0   \n",
       "\n",
       "    local_dt_year   longitude  metadata_write_ts  sensed_speed  \\\n",
       "0            2016 -122.086196  1456189018.174159      9.090000   \n",
       "1            2016 -122.082629  1456198903.092138     -1.000000   \n",
       "2            2016 -122.082816  1456198905.121114      1.160000   \n",
       "3            2016 -122.082321  1456198969.145697      0.520000   \n",
       "4            2016 -122.082146  1456199001.161527      1.200000   \n",
       "5            2016 -122.081912  1456199034.163653      1.110000   \n",
       "6            2016 -122.081534  1456199080.137458      0.520000   \n",
       "7            2016 -122.080959  1456199158.158537      1.290000   \n",
       "8            2016 -122.080403  1456199202.161730      1.000000   \n",
       "9            2016 -122.080217  1456199231.185850      1.560000   \n",
       "10           2016 -122.079788  1456199315.157882      0.320000   \n",
       "\n",
       "                  ts                               user_id  vaccuracy  \n",
       "0  1456198543.471899  079e0f1a-c440-3d7c-b0e7-de160f748e35   3.000000  \n",
       "1  1456198902.085297  079e0f1a-c440-3d7c-b0e7-de160f748e35  19.940405  \n",
       "2  1456198905.000030  079e0f1a-c440-3d7c-b0e7-de160f748e35   4.000000  \n",
       "3  1456198969.000034  079e0f1a-c440-3d7c-b0e7-de160f748e35   4.000000  \n",
       "4  1456199001.000033  079e0f1a-c440-3d7c-b0e7-de160f748e35   4.000000  \n",
       "5  1456199034.000033  079e0f1a-c440-3d7c-b0e7-de160f748e35   4.000000  \n",
       "6  1456199080.000033  079e0f1a-c440-3d7c-b0e7-de160f748e35   4.000000  \n",
       "7  1456199158.000033  079e0f1a-c440-3d7c-b0e7-de160f748e35   4.000000  \n",
       "8  1456199202.000034  079e0f1a-c440-3d7c-b0e7-de160f748e35   3.000000  \n",
       "9  1456199231.000033  079e0f1a-c440-3d7c-b0e7-de160f748e35   3.000000  \n",
       "10 1456199315.000033  079e0f1a-c440-3d7c-b0e7-de160f748e35   4.000000  \n",
       "\n",
       "[11 rows x 23 columns]"
      ]
     },
     "execution_count": 76,
     "metadata": {},
     "output_type": "execute_result"
    }
   ],
   "source": [
    "loc_entry_df"
   ]
  },
  {
   "cell_type": "markdown",
   "metadata": {},
   "source": [
    "## Sanity testing some longer trips (to and from Stevenson in the afternoon)"
   ]
  },
  {
   "cell_type": "markdown",
   "metadata": {},
   "source": [
    "### To Stevenson (around 1pm)"
   ]
  },
  {
   "cell_type": "code",
   "execution_count": 77,
   "metadata": {
    "collapsed": true
   },
   "outputs": [],
   "source": [
    "trip = trips_df.iloc[3] "
   ]
  },
  {
   "cell_type": "code",
   "execution_count": 78,
   "metadata": {
    "collapsed": true
   },
   "outputs": [],
   "source": [
    "trip_id = trip._id"
   ]
  },
  {
   "cell_type": "code",
   "execution_count": 79,
   "metadata": {
    "collapsed": false
   },
   "outputs": [
    {
     "data": {
      "text/plain": [
       "1"
      ]
     },
     "execution_count": 79,
     "metadata": {},
     "output_type": "execute_result"
    }
   ],
   "source": [
    "len(esdt.get_raw_sections_for_trip(curr_id, trip_id))"
   ]
  },
  {
   "cell_type": "code",
   "execution_count": 80,
   "metadata": {
    "collapsed": false
   },
   "outputs": [],
   "source": [
    "section_entry = esdt.get_raw_sections_for_trip(curr_id, trip_id)[0]"
   ]
  },
  {
   "cell_type": "code",
   "execution_count": 81,
   "metadata": {
    "collapsed": false
   },
   "outputs": [
    {
     "data": {
      "text/plain": [
       "({\"coordinates\": [-122.1075074003284, 37.41650822575895], \"type\": \"Point\"},\n",
       " u'2016-02-22T16:49:30.999990-08:00')"
      ]
     },
     "execution_count": 81,
     "metadata": {},
     "output_type": "execute_result"
    }
   ],
   "source": [
    "section_entry.data.start_loc, section_entry.data.start_fmt_time"
   ]
  },
  {
   "cell_type": "code",
   "execution_count": 82,
   "metadata": {
    "collapsed": false
   },
   "outputs": [],
   "source": [
    "ts = esta.TimeSeries.get_time_series(curr_id)"
   ]
  },
  {
   "cell_type": "code",
   "execution_count": 83,
   "metadata": {
    "collapsed": false
   },
   "outputs": [
    {
     "data": {
      "text/html": [
       "<div>\n",
       "<table border=\"1\" class=\"dataframe\">\n",
       "  <thead>\n",
       "    <tr style=\"text-align: right;\">\n",
       "      <th></th>\n",
       "      <th>ts</th>\n",
       "      <th>fmt_time</th>\n",
       "      <th>latitude</th>\n",
       "      <th>longitude</th>\n",
       "    </tr>\n",
       "  </thead>\n",
       "  <tbody>\n",
       "    <tr>\n",
       "      <th>0</th>\n",
       "      <td>1456188570.999990</td>\n",
       "      <td>2016-02-22T16:49:30.999990-08:00</td>\n",
       "      <td>37.416508</td>\n",
       "      <td>-122.107507</td>\n",
       "    </tr>\n",
       "    <tr>\n",
       "      <th>1</th>\n",
       "      <td>1456188584.999991</td>\n",
       "      <td>2016-02-22T16:49:44.999991-08:00</td>\n",
       "      <td>37.416215</td>\n",
       "      <td>-122.107048</td>\n",
       "    </tr>\n",
       "    <tr>\n",
       "      <th>2</th>\n",
       "      <td>1456188599.999991</td>\n",
       "      <td>2016-02-22T16:49:59.999991-08:00</td>\n",
       "      <td>37.416502</td>\n",
       "      <td>-122.106603</td>\n",
       "    </tr>\n",
       "    <tr>\n",
       "      <th>3</th>\n",
       "      <td>1456188608.999991</td>\n",
       "      <td>2016-02-22T16:50:08.999991-08:00</td>\n",
       "      <td>37.416960</td>\n",
       "      <td>-122.106372</td>\n",
       "    </tr>\n",
       "    <tr>\n",
       "      <th>4</th>\n",
       "      <td>1456188617.999991</td>\n",
       "      <td>2016-02-22T16:50:17.999991-08:00</td>\n",
       "      <td>37.417360</td>\n",
       "      <td>-122.106064</td>\n",
       "    </tr>\n",
       "    <tr>\n",
       "      <th>5</th>\n",
       "      <td>1456188634.999991</td>\n",
       "      <td>2016-02-22T16:50:34.999991-08:00</td>\n",
       "      <td>37.417269</td>\n",
       "      <td>-122.105452</td>\n",
       "    </tr>\n",
       "    <tr>\n",
       "      <th>6</th>\n",
       "      <td>1456188639.999991</td>\n",
       "      <td>2016-02-22T16:50:39.999991-08:00</td>\n",
       "      <td>37.417048</td>\n",
       "      <td>-122.104952</td>\n",
       "    </tr>\n",
       "    <tr>\n",
       "      <th>7</th>\n",
       "      <td>1456188646.999991</td>\n",
       "      <td>2016-02-22T16:50:46.999991-08:00</td>\n",
       "      <td>37.416786</td>\n",
       "      <td>-122.104473</td>\n",
       "    </tr>\n",
       "    <tr>\n",
       "      <th>8</th>\n",
       "      <td>1456188682.999990</td>\n",
       "      <td>2016-02-22T16:51:22.999990-08:00</td>\n",
       "      <td>37.416511</td>\n",
       "      <td>-122.103954</td>\n",
       "    </tr>\n",
       "    <tr>\n",
       "      <th>9</th>\n",
       "      <td>1456188687.999991</td>\n",
       "      <td>2016-02-22T16:51:27.999991-08:00</td>\n",
       "      <td>37.416253</td>\n",
       "      <td>-122.103464</td>\n",
       "    </tr>\n",
       "    <tr>\n",
       "      <th>10</th>\n",
       "      <td>1456188691.999990</td>\n",
       "      <td>2016-02-22T16:51:31.999990-08:00</td>\n",
       "      <td>37.415956</td>\n",
       "      <td>-122.102917</td>\n",
       "    </tr>\n",
       "    <tr>\n",
       "      <th>11</th>\n",
       "      <td>1456188696.999991</td>\n",
       "      <td>2016-02-22T16:51:36.999991-08:00</td>\n",
       "      <td>37.415647</td>\n",
       "      <td>-122.102343</td>\n",
       "    </tr>\n",
       "    <tr>\n",
       "      <th>12</th>\n",
       "      <td>1456188701.999990</td>\n",
       "      <td>2016-02-22T16:51:41.999990-08:00</td>\n",
       "      <td>37.415379</td>\n",
       "      <td>-122.101833</td>\n",
       "    </tr>\n",
       "    <tr>\n",
       "      <th>13</th>\n",
       "      <td>1456188706.999990</td>\n",
       "      <td>2016-02-22T16:51:46.999990-08:00</td>\n",
       "      <td>37.415085</td>\n",
       "      <td>-122.101296</td>\n",
       "    </tr>\n",
       "    <tr>\n",
       "      <th>14</th>\n",
       "      <td>1456188711.999990</td>\n",
       "      <td>2016-02-22T16:51:51.999990-08:00</td>\n",
       "      <td>37.414716</td>\n",
       "      <td>-122.100794</td>\n",
       "    </tr>\n",
       "    <tr>\n",
       "      <th>15</th>\n",
       "      <td>1456188715.999990</td>\n",
       "      <td>2016-02-22T16:51:55.999990-08:00</td>\n",
       "      <td>37.414351</td>\n",
       "      <td>-122.100409</td>\n",
       "    </tr>\n",
       "    <tr>\n",
       "      <th>16</th>\n",
       "      <td>1456188719.999991</td>\n",
       "      <td>2016-02-22T16:51:59.999991-08:00</td>\n",
       "      <td>37.413908</td>\n",
       "      <td>-122.100018</td>\n",
       "    </tr>\n",
       "    <tr>\n",
       "      <th>17</th>\n",
       "      <td>1456188723.999991</td>\n",
       "      <td>2016-02-22T16:52:03.999991-08:00</td>\n",
       "      <td>37.413450</td>\n",
       "      <td>-122.099603</td>\n",
       "    </tr>\n",
       "    <tr>\n",
       "      <th>18</th>\n",
       "      <td>1456188727.999990</td>\n",
       "      <td>2016-02-22T16:52:07.999990-08:00</td>\n",
       "      <td>37.412991</td>\n",
       "      <td>-122.099163</td>\n",
       "    </tr>\n",
       "    <tr>\n",
       "      <th>19</th>\n",
       "      <td>1456188731.999990</td>\n",
       "      <td>2016-02-22T16:52:11.999990-08:00</td>\n",
       "      <td>37.412570</td>\n",
       "      <td>-122.098665</td>\n",
       "    </tr>\n",
       "    <tr>\n",
       "      <th>20</th>\n",
       "      <td>1456188735.999991</td>\n",
       "      <td>2016-02-22T16:52:15.999991-08:00</td>\n",
       "      <td>37.412227</td>\n",
       "      <td>-122.098109</td>\n",
       "    </tr>\n",
       "    <tr>\n",
       "      <th>21</th>\n",
       "      <td>1456188739.999990</td>\n",
       "      <td>2016-02-22T16:52:19.999990-08:00</td>\n",
       "      <td>37.411964</td>\n",
       "      <td>-122.097497</td>\n",
       "    </tr>\n",
       "    <tr>\n",
       "      <th>22</th>\n",
       "      <td>1456188743.999991</td>\n",
       "      <td>2016-02-22T16:52:23.999991-08:00</td>\n",
       "      <td>37.411787</td>\n",
       "      <td>-122.096843</td>\n",
       "    </tr>\n",
       "    <tr>\n",
       "      <th>23</th>\n",
       "      <td>1456188747.999992</td>\n",
       "      <td>2016-02-22T16:52:27.999992-08:00</td>\n",
       "      <td>37.411682</td>\n",
       "      <td>-122.096155</td>\n",
       "    </tr>\n",
       "    <tr>\n",
       "      <th>24</th>\n",
       "      <td>1456188751.999990</td>\n",
       "      <td>2016-02-22T16:52:31.999990-08:00</td>\n",
       "      <td>37.411658</td>\n",
       "      <td>-122.095465</td>\n",
       "    </tr>\n",
       "    <tr>\n",
       "      <th>25</th>\n",
       "      <td>1456188755.999991</td>\n",
       "      <td>2016-02-22T16:52:35.999991-08:00</td>\n",
       "      <td>37.411652</td>\n",
       "      <td>-122.094786</td>\n",
       "    </tr>\n",
       "    <tr>\n",
       "      <th>26</th>\n",
       "      <td>1456188759.999991</td>\n",
       "      <td>2016-02-22T16:52:39.999991-08:00</td>\n",
       "      <td>37.411642</td>\n",
       "      <td>-122.094087</td>\n",
       "    </tr>\n",
       "    <tr>\n",
       "      <th>27</th>\n",
       "      <td>1456188763.999990</td>\n",
       "      <td>2016-02-22T16:52:43.999990-08:00</td>\n",
       "      <td>37.411624</td>\n",
       "      <td>-122.093369</td>\n",
       "    </tr>\n",
       "    <tr>\n",
       "      <th>28</th>\n",
       "      <td>1456188767.999990</td>\n",
       "      <td>2016-02-22T16:52:47.999990-08:00</td>\n",
       "      <td>37.411546</td>\n",
       "      <td>-122.092660</td>\n",
       "    </tr>\n",
       "    <tr>\n",
       "      <th>29</th>\n",
       "      <td>1456188771.999990</td>\n",
       "      <td>2016-02-22T16:52:51.999990-08:00</td>\n",
       "      <td>37.411371</td>\n",
       "      <td>-122.091963</td>\n",
       "    </tr>\n",
       "    <tr>\n",
       "      <th>...</th>\n",
       "      <td>...</td>\n",
       "      <td>...</td>\n",
       "      <td>...</td>\n",
       "      <td>...</td>\n",
       "    </tr>\n",
       "    <tr>\n",
       "      <th>57</th>\n",
       "      <td>1456188883.999991</td>\n",
       "      <td>2016-02-22T16:54:43.999991-08:00</td>\n",
       "      <td>37.404067</td>\n",
       "      <td>-122.078194</td>\n",
       "    </tr>\n",
       "    <tr>\n",
       "      <th>58</th>\n",
       "      <td>1456188887.999991</td>\n",
       "      <td>2016-02-22T16:54:47.999991-08:00</td>\n",
       "      <td>37.403590</td>\n",
       "      <td>-122.078191</td>\n",
       "    </tr>\n",
       "    <tr>\n",
       "      <th>59</th>\n",
       "      <td>1456188892.999991</td>\n",
       "      <td>2016-02-22T16:54:52.999991-08:00</td>\n",
       "      <td>37.403133</td>\n",
       "      <td>-122.078209</td>\n",
       "    </tr>\n",
       "    <tr>\n",
       "      <th>60</th>\n",
       "      <td>1456188903.999990</td>\n",
       "      <td>2016-02-22T16:55:03.999990-08:00</td>\n",
       "      <td>37.402618</td>\n",
       "      <td>-122.078320</td>\n",
       "    </tr>\n",
       "    <tr>\n",
       "      <th>61</th>\n",
       "      <td>1456188909.000008</td>\n",
       "      <td>2016-02-22T16:55:09.000008-08:00</td>\n",
       "      <td>37.402182</td>\n",
       "      <td>-122.078520</td>\n",
       "    </tr>\n",
       "    <tr>\n",
       "      <th>62</th>\n",
       "      <td>1456188914.000108</td>\n",
       "      <td>2016-02-22T16:55:14.000108-08:00</td>\n",
       "      <td>37.401725</td>\n",
       "      <td>-122.078854</td>\n",
       "    </tr>\n",
       "    <tr>\n",
       "      <th>63</th>\n",
       "      <td>1456188919.000047</td>\n",
       "      <td>2016-02-22T16:55:19.000047-08:00</td>\n",
       "      <td>37.401328</td>\n",
       "      <td>-122.079298</td>\n",
       "    </tr>\n",
       "    <tr>\n",
       "      <th>64</th>\n",
       "      <td>1456188924.000047</td>\n",
       "      <td>2016-02-22T16:55:24.000047-08:00</td>\n",
       "      <td>37.400987</td>\n",
       "      <td>-122.079822</td>\n",
       "    </tr>\n",
       "    <tr>\n",
       "      <th>65</th>\n",
       "      <td>1456188928.000047</td>\n",
       "      <td>2016-02-22T16:55:28.000047-08:00</td>\n",
       "      <td>37.400673</td>\n",
       "      <td>-122.080244</td>\n",
       "    </tr>\n",
       "    <tr>\n",
       "      <th>66</th>\n",
       "      <td>1456188933.000048</td>\n",
       "      <td>2016-02-22T16:55:33.000048-08:00</td>\n",
       "      <td>37.400257</td>\n",
       "      <td>-122.080629</td>\n",
       "    </tr>\n",
       "    <tr>\n",
       "      <th>67</th>\n",
       "      <td>1456188938.000047</td>\n",
       "      <td>2016-02-22T16:55:38.000047-08:00</td>\n",
       "      <td>37.399786</td>\n",
       "      <td>-122.080933</td>\n",
       "    </tr>\n",
       "    <tr>\n",
       "      <th>68</th>\n",
       "      <td>1456188942.000047</td>\n",
       "      <td>2016-02-22T16:55:42.000047-08:00</td>\n",
       "      <td>37.399363</td>\n",
       "      <td>-122.081144</td>\n",
       "    </tr>\n",
       "    <tr>\n",
       "      <th>69</th>\n",
       "      <td>1456188946.000047</td>\n",
       "      <td>2016-02-22T16:55:46.000047-08:00</td>\n",
       "      <td>37.398929</td>\n",
       "      <td>-122.081317</td>\n",
       "    </tr>\n",
       "    <tr>\n",
       "      <th>70</th>\n",
       "      <td>1456188951.000048</td>\n",
       "      <td>2016-02-22T16:55:51.000048-08:00</td>\n",
       "      <td>37.398397</td>\n",
       "      <td>-122.081482</td>\n",
       "    </tr>\n",
       "    <tr>\n",
       "      <th>71</th>\n",
       "      <td>1456188956.000047</td>\n",
       "      <td>2016-02-22T16:55:56.000047-08:00</td>\n",
       "      <td>37.397870</td>\n",
       "      <td>-122.081673</td>\n",
       "    </tr>\n",
       "    <tr>\n",
       "      <th>72</th>\n",
       "      <td>1456188961.000047</td>\n",
       "      <td>2016-02-22T16:56:01.000047-08:00</td>\n",
       "      <td>37.397358</td>\n",
       "      <td>-122.081943</td>\n",
       "    </tr>\n",
       "    <tr>\n",
       "      <th>73</th>\n",
       "      <td>1456188965.000047</td>\n",
       "      <td>2016-02-22T16:56:05.000047-08:00</td>\n",
       "      <td>37.396948</td>\n",
       "      <td>-122.082224</td>\n",
       "    </tr>\n",
       "    <tr>\n",
       "      <th>74</th>\n",
       "      <td>1456188969.000047</td>\n",
       "      <td>2016-02-22T16:56:09.000047-08:00</td>\n",
       "      <td>37.396524</td>\n",
       "      <td>-122.082579</td>\n",
       "    </tr>\n",
       "    <tr>\n",
       "      <th>75</th>\n",
       "      <td>1456188973.000047</td>\n",
       "      <td>2016-02-22T16:56:13.000047-08:00</td>\n",
       "      <td>37.396090</td>\n",
       "      <td>-122.082984</td>\n",
       "    </tr>\n",
       "    <tr>\n",
       "      <th>76</th>\n",
       "      <td>1456188977.000047</td>\n",
       "      <td>2016-02-22T16:56:17.000047-08:00</td>\n",
       "      <td>37.395648</td>\n",
       "      <td>-122.083348</td>\n",
       "    </tr>\n",
       "    <tr>\n",
       "      <th>77</th>\n",
       "      <td>1456188981.000047</td>\n",
       "      <td>2016-02-22T16:56:21.000047-08:00</td>\n",
       "      <td>37.395197</td>\n",
       "      <td>-122.083664</td>\n",
       "    </tr>\n",
       "    <tr>\n",
       "      <th>78</th>\n",
       "      <td>1456188985.000047</td>\n",
       "      <td>2016-02-22T16:56:25.000047-08:00</td>\n",
       "      <td>37.394772</td>\n",
       "      <td>-122.083952</td>\n",
       "    </tr>\n",
       "    <tr>\n",
       "      <th>79</th>\n",
       "      <td>1456188989.000048</td>\n",
       "      <td>2016-02-22T16:56:29.000048-08:00</td>\n",
       "      <td>37.394353</td>\n",
       "      <td>-122.084225</td>\n",
       "    </tr>\n",
       "    <tr>\n",
       "      <th>80</th>\n",
       "      <td>1456188993.000046</td>\n",
       "      <td>2016-02-22T16:56:33.000046-08:00</td>\n",
       "      <td>37.393933</td>\n",
       "      <td>-122.084481</td>\n",
       "    </tr>\n",
       "    <tr>\n",
       "      <th>81</th>\n",
       "      <td>1456188997.000047</td>\n",
       "      <td>2016-02-22T16:56:37.000047-08:00</td>\n",
       "      <td>37.393502</td>\n",
       "      <td>-122.084752</td>\n",
       "    </tr>\n",
       "    <tr>\n",
       "      <th>82</th>\n",
       "      <td>1456189001.000047</td>\n",
       "      <td>2016-02-22T16:56:41.000047-08:00</td>\n",
       "      <td>37.393026</td>\n",
       "      <td>-122.085055</td>\n",
       "    </tr>\n",
       "    <tr>\n",
       "      <th>83</th>\n",
       "      <td>1456189005.000047</td>\n",
       "      <td>2016-02-22T16:56:45.000047-08:00</td>\n",
       "      <td>37.392538</td>\n",
       "      <td>-122.085358</td>\n",
       "    </tr>\n",
       "    <tr>\n",
       "      <th>84</th>\n",
       "      <td>1456189009.000047</td>\n",
       "      <td>2016-02-22T16:56:49.000047-08:00</td>\n",
       "      <td>37.392081</td>\n",
       "      <td>-122.085637</td>\n",
       "    </tr>\n",
       "    <tr>\n",
       "      <th>85</th>\n",
       "      <td>1456189013.000047</td>\n",
       "      <td>2016-02-22T16:56:53.000047-08:00</td>\n",
       "      <td>37.391641</td>\n",
       "      <td>-122.085909</td>\n",
       "    </tr>\n",
       "    <tr>\n",
       "      <th>86</th>\n",
       "      <td>1456189018.000047</td>\n",
       "      <td>2016-02-22T16:56:58.000047-08:00</td>\n",
       "      <td>37.391184</td>\n",
       "      <td>-122.086196</td>\n",
       "    </tr>\n",
       "  </tbody>\n",
       "</table>\n",
       "<p>87 rows × 4 columns</p>\n",
       "</div>"
      ],
      "text/plain": [
       "                  ts                          fmt_time  latitude   longitude\n",
       "0  1456188570.999990  2016-02-22T16:49:30.999990-08:00 37.416508 -122.107507\n",
       "1  1456188584.999991  2016-02-22T16:49:44.999991-08:00 37.416215 -122.107048\n",
       "2  1456188599.999991  2016-02-22T16:49:59.999991-08:00 37.416502 -122.106603\n",
       "3  1456188608.999991  2016-02-22T16:50:08.999991-08:00 37.416960 -122.106372\n",
       "4  1456188617.999991  2016-02-22T16:50:17.999991-08:00 37.417360 -122.106064\n",
       "5  1456188634.999991  2016-02-22T16:50:34.999991-08:00 37.417269 -122.105452\n",
       "6  1456188639.999991  2016-02-22T16:50:39.999991-08:00 37.417048 -122.104952\n",
       "7  1456188646.999991  2016-02-22T16:50:46.999991-08:00 37.416786 -122.104473\n",
       "8  1456188682.999990  2016-02-22T16:51:22.999990-08:00 37.416511 -122.103954\n",
       "9  1456188687.999991  2016-02-22T16:51:27.999991-08:00 37.416253 -122.103464\n",
       "10 1456188691.999990  2016-02-22T16:51:31.999990-08:00 37.415956 -122.102917\n",
       "11 1456188696.999991  2016-02-22T16:51:36.999991-08:00 37.415647 -122.102343\n",
       "12 1456188701.999990  2016-02-22T16:51:41.999990-08:00 37.415379 -122.101833\n",
       "13 1456188706.999990  2016-02-22T16:51:46.999990-08:00 37.415085 -122.101296\n",
       "14 1456188711.999990  2016-02-22T16:51:51.999990-08:00 37.414716 -122.100794\n",
       "15 1456188715.999990  2016-02-22T16:51:55.999990-08:00 37.414351 -122.100409\n",
       "16 1456188719.999991  2016-02-22T16:51:59.999991-08:00 37.413908 -122.100018\n",
       "17 1456188723.999991  2016-02-22T16:52:03.999991-08:00 37.413450 -122.099603\n",
       "18 1456188727.999990  2016-02-22T16:52:07.999990-08:00 37.412991 -122.099163\n",
       "19 1456188731.999990  2016-02-22T16:52:11.999990-08:00 37.412570 -122.098665\n",
       "20 1456188735.999991  2016-02-22T16:52:15.999991-08:00 37.412227 -122.098109\n",
       "21 1456188739.999990  2016-02-22T16:52:19.999990-08:00 37.411964 -122.097497\n",
       "22 1456188743.999991  2016-02-22T16:52:23.999991-08:00 37.411787 -122.096843\n",
       "23 1456188747.999992  2016-02-22T16:52:27.999992-08:00 37.411682 -122.096155\n",
       "24 1456188751.999990  2016-02-22T16:52:31.999990-08:00 37.411658 -122.095465\n",
       "25 1456188755.999991  2016-02-22T16:52:35.999991-08:00 37.411652 -122.094786\n",
       "26 1456188759.999991  2016-02-22T16:52:39.999991-08:00 37.411642 -122.094087\n",
       "27 1456188763.999990  2016-02-22T16:52:43.999990-08:00 37.411624 -122.093369\n",
       "28 1456188767.999990  2016-02-22T16:52:47.999990-08:00 37.411546 -122.092660\n",
       "29 1456188771.999990  2016-02-22T16:52:51.999990-08:00 37.411371 -122.091963\n",
       "..               ...                               ...       ...         ...\n",
       "57 1456188883.999991  2016-02-22T16:54:43.999991-08:00 37.404067 -122.078194\n",
       "58 1456188887.999991  2016-02-22T16:54:47.999991-08:00 37.403590 -122.078191\n",
       "59 1456188892.999991  2016-02-22T16:54:52.999991-08:00 37.403133 -122.078209\n",
       "60 1456188903.999990  2016-02-22T16:55:03.999990-08:00 37.402618 -122.078320\n",
       "61 1456188909.000008  2016-02-22T16:55:09.000008-08:00 37.402182 -122.078520\n",
       "62 1456188914.000108  2016-02-22T16:55:14.000108-08:00 37.401725 -122.078854\n",
       "63 1456188919.000047  2016-02-22T16:55:19.000047-08:00 37.401328 -122.079298\n",
       "64 1456188924.000047  2016-02-22T16:55:24.000047-08:00 37.400987 -122.079822\n",
       "65 1456188928.000047  2016-02-22T16:55:28.000047-08:00 37.400673 -122.080244\n",
       "66 1456188933.000048  2016-02-22T16:55:33.000048-08:00 37.400257 -122.080629\n",
       "67 1456188938.000047  2016-02-22T16:55:38.000047-08:00 37.399786 -122.080933\n",
       "68 1456188942.000047  2016-02-22T16:55:42.000047-08:00 37.399363 -122.081144\n",
       "69 1456188946.000047  2016-02-22T16:55:46.000047-08:00 37.398929 -122.081317\n",
       "70 1456188951.000048  2016-02-22T16:55:51.000048-08:00 37.398397 -122.081482\n",
       "71 1456188956.000047  2016-02-22T16:55:56.000047-08:00 37.397870 -122.081673\n",
       "72 1456188961.000047  2016-02-22T16:56:01.000047-08:00 37.397358 -122.081943\n",
       "73 1456188965.000047  2016-02-22T16:56:05.000047-08:00 37.396948 -122.082224\n",
       "74 1456188969.000047  2016-02-22T16:56:09.000047-08:00 37.396524 -122.082579\n",
       "75 1456188973.000047  2016-02-22T16:56:13.000047-08:00 37.396090 -122.082984\n",
       "76 1456188977.000047  2016-02-22T16:56:17.000047-08:00 37.395648 -122.083348\n",
       "77 1456188981.000047  2016-02-22T16:56:21.000047-08:00 37.395197 -122.083664\n",
       "78 1456188985.000047  2016-02-22T16:56:25.000047-08:00 37.394772 -122.083952\n",
       "79 1456188989.000048  2016-02-22T16:56:29.000048-08:00 37.394353 -122.084225\n",
       "80 1456188993.000046  2016-02-22T16:56:33.000046-08:00 37.393933 -122.084481\n",
       "81 1456188997.000047  2016-02-22T16:56:37.000047-08:00 37.393502 -122.084752\n",
       "82 1456189001.000047  2016-02-22T16:56:41.000047-08:00 37.393026 -122.085055\n",
       "83 1456189005.000047  2016-02-22T16:56:45.000047-08:00 37.392538 -122.085358\n",
       "84 1456189009.000047  2016-02-22T16:56:49.000047-08:00 37.392081 -122.085637\n",
       "85 1456189013.000047  2016-02-22T16:56:53.000047-08:00 37.391641 -122.085909\n",
       "86 1456189018.000047  2016-02-22T16:56:58.000047-08:00 37.391184 -122.086196\n",
       "\n",
       "[87 rows x 4 columns]"
      ]
     },
     "execution_count": 83,
     "metadata": {},
     "output_type": "execute_result"
    }
   ],
   "source": [
    "loc_entry_it = ts.find_entries([\"background/filtered_location\"],\n",
    "                                   esda.get_time_query_for_trip_like(\n",
    "                                       esda.RAW_SECTION_KEY, section_entry.get_id()))\n",
    "loc_entry_list = [ecwe.Entry(e) for e in loc_entry_it]\n",
    "loc_entry_df = estb.BuiltinTimeSeries.to_data_df(\"background/filtered_location\", loc_entry_list)\n",
    "loc_entry_df[[\"ts\", \"fmt_time\", \"latitude\", \"longitude\"]]"
   ]
  },
  {
   "cell_type": "code",
   "execution_count": 84,
   "metadata": {
    "collapsed": false,
    "scrolled": true
   },
   "outputs": [
    {
     "name": "stdout",
     "output_type": "stream",
     "text": [
      "Found 87 features from 87 points\n"
     ]
    },
    {
     "data": {
      "text/html": [
       "<iframe srcdoc=\"<table width=&quot;100%&quot;>\n",
       "<tr><td>&lt;iframe srcdoc=&quot;&lt;!DOCTYPE html&gt;\n",
       "&lt;head&gt;\n",
       "   &lt;meta http-equiv=&amp;quot;content-type&amp;quot; content=&amp;quot;text/html; charset=UTF-8&amp;quot; /&gt;\n",
       "   &lt;link rel=&amp;quot;stylesheet&amp;quot; href=&amp;quot;https://cdnjs.cloudflare.com/ajax/libs/leaflet/0.7.3/leaflet.css&amp;quot; /&gt;\n",
       "   &lt;script src=&amp;quot;https://cdnjs.cloudflare.com/ajax/libs/leaflet/0.7.3/leaflet.js&amp;quot;&gt;&lt;/script&gt;\n",
       "\n",
       "   &lt;script src=&amp;quot;https://ajax.googleapis.com/ajax/libs/jquery/1.11.1/jquery.min.js&amp;quot;&gt;&lt;/script&gt;\n",
       "\n",
       "   &lt;link rel=&amp;quot;stylesheet&amp;quot; href=&amp;quot;https://maxcdn.bootstrapcdn.com/bootstrap/3.2.0/css/bootstrap.min.css&amp;quot;&gt;\n",
       "   &lt;link rel=&amp;quot;stylesheet&amp;quot; href=&amp;quot;https://maxcdn.bootstrapcdn.com/bootstrap/3.2.0/css/bootstrap-theme.min.css&amp;quot;&gt;\n",
       "   &lt;script src=&amp;quot;https://maxcdn.bootstrapcdn.com/bootstrap/3.2.0/js/bootstrap.min.js&amp;quot;&gt;&lt;/script&gt;\n",
       "\n",
       "   &lt;link href=&amp;quot;https://maxcdn.bootstrapcdn.com/font-awesome/4.1.0/css/font-awesome.min.css&amp;quot; rel=&amp;quot;stylesheet&amp;quot;&gt;\n",
       "\n",
       "   &lt;link rel=&amp;quot;stylesheet&amp;quot; href=&amp;quot;https://rawgit.com/lvoogdt/Leaflet.awesome-markers/2.0/develop/dist/leaflet.awesome-markers.css&amp;quot;&gt;\n",
       "   &lt;script src=&amp;quot;https://rawgithub.com/lvoogdt/Leaflet.awesome-markers/2.0/develop/dist/leaflet.awesome-markers.js&amp;quot;&gt;&lt;/script&gt;\n",
       "\n",
       "\n",
       "   &lt;link rel=&amp;quot;stylesheet&amp;quot; href=&amp;quot;https://cdnjs.cloudflare.com/ajax/libs/leaflet.markercluster/0.4.0/MarkerCluster.Default.css&amp;quot;&gt;\n",
       "   &lt;link rel=&amp;quot;stylesheet&amp;quot; href=&amp;quot;https://cdnjs.cloudflare.com/ajax/libs/leaflet.markercluster/0.4.0/MarkerCluster.css&amp;quot;&gt;\n",
       "   &lt;script src=&amp;quot;https://cdnjs.cloudflare.com/ajax/libs/leaflet.markercluster/0.4.0/leaflet.markercluster-src.js&amp;quot;&gt;&lt;/script&gt;\n",
       "   &lt;script src=&amp;quot;https://cdnjs.cloudflare.com/ajax/libs/leaflet.markercluster/0.4.0/leaflet.markercluster.js&amp;quot;&gt;&lt;/script&gt;\n",
       "\n",
       "   &lt;link rel=&amp;quot;stylesheet&amp;quot; href=&amp;quot;https://raw.githubusercontent.com/python-visualization/folium/master/folium/templates/leaflet.awesome.rotate.css&amp;quot;&gt;\n",
       "\n",
       "    \n",
       "        \n",
       "        \n",
       "            \n",
       "    \n",
       "        &lt;link rel=&amp;quot;stylesheet&amp;quot; href=&amp;quot;http://code.ionicframework.com/ionicons/1.5.2/css/ionicons.min.css&amp;quot;&gt;\n",
       "    \n",
       "\n",
       "            \n",
       "        \n",
       "    \n",
       "\n",
       "   \n",
       "   \n",
       "   \n",
       "   \n",
       "\n",
       "   &lt;style&gt;\n",
       "\n",
       "      html, body {\n",
       "        width: 100%;\n",
       "        height: 100%;\n",
       "        margin: 0;\n",
       "        padding: 0;\n",
       "      }\n",
       "\n",
       "      #map {\n",
       "        position:absolute;\n",
       "        top:0;\n",
       "        bottom:0;\n",
       "        right:0;\n",
       "        left:0;\n",
       "      }\n",
       "\n",
       "    \n",
       "        \n",
       "        \n",
       "            \n",
       "            \n",
       "        \n",
       "    \n",
       "\n",
       "   &lt;/style&gt;\n",
       "&lt;/head&gt;\n",
       "\n",
       "&lt;body&gt;\n",
       "\n",
       "   &lt;div class=&amp;quot;folium-map&amp;quot; id=&amp;quot;folium_b5587b6f5c9645da965d265c8b04d126&amp;quot; style=&amp;quot;width: 100%; height: 100%&amp;quot;&gt;&lt;/div&gt;\n",
       "\n",
       "    \n",
       "        \n",
       "        \n",
       "            \n",
       "            \n",
       "        \n",
       "    \n",
       "\n",
       "   &lt;script&gt;\n",
       "\n",
       "      \n",
       "\n",
       "      var base_tile = L.tileLayer('https://{s}.tile.openstreetmap.org/{z}/{x}/{y}.png', {\n",
       "          maxZoom: 18,\n",
       "          minZoom: 1,\n",
       "          attribution: 'Map data (c) &lt;a href=&amp;quot;http://openstreetmap.org&amp;quot;&gt;OpenStreetMap&lt;/a&gt; contributors'\n",
       "      });\n",
       "\n",
       "      var baseLayer = {\n",
       "        &amp;quot;Base Layer&amp;quot;: base_tile\n",
       "      };\n",
       "\n",
       "      /*\n",
       "      addition of the wms layers\n",
       "      */\n",
       "\n",
       "      \n",
       "\n",
       "      /*\n",
       "      addition of the tile layers\n",
       "      */\n",
       "      \n",
       "\n",
       "      /*\n",
       "      list of layers to be added\n",
       "      */\n",
       "      var layer_list = {\n",
       "      \n",
       "      };\n",
       "\n",
       "      /*\n",
       "      Bounding box.\n",
       "      */\n",
       "      var southWest = L.latLng(-90, -180),\n",
       "          northEast = L.latLng(90, 180),\n",
       "          bounds = L.latLngBounds(southWest, northEast);\n",
       "\n",
       "      /*\n",
       "      Creates the map and adds the selected layers\n",
       "      */\n",
       "      var map = L.map('folium_b5587b6f5c9645da965d265c8b04d126', {\n",
       "                                       center:[37.4038462504, -122.096851948],\n",
       "                                       zoom: 10,\n",
       "                                       maxBounds: bounds,\n",
       "                                       layers: [base_tile]\n",
       "                                     });\n",
       "\n",
       "      // L.control.layers(baseLayer, layer_list).addTo(map);\n",
       "\n",
       "      /*\n",
       "      addition of the image layers\n",
       "      */\n",
       "      \n",
       "\n",
       "      //cluster group\n",
       "      var clusteredmarkers = L.markerClusterGroup();\n",
       "      //section for adding clustered markers\n",
       "      \n",
       "      //add the clustered markers to the group anyway\n",
       "      map.addLayer(clusteredmarkers);\n",
       "\n",
       "      \n",
       "\n",
       "      \n",
       "\n",
       "      \n",
       "\n",
       "      \n",
       "\n",
       "      \n",
       "\n",
       "      \n",
       "\n",
       "      \n",
       "\n",
       "\n",
       "\n",
       "    \n",
       "        \n",
       "        \n",
       "            \n",
       "    \n",
       "          function style_feature(feature) {\n",
       "            switch(feature.properties.feature_type) {\n",
       "                case &amp;quot;section&amp;quot;: return style_section(feature);\n",
       "                case &amp;quot;stop&amp;quot;: return style_stop(feature);\n",
       "                default: return {}\n",
       "            }\n",
       "          }\n",
       "\n",
       "          function onEachFeature(feature, layer) {\n",
       "            switch(feature.properties.feature_type) {\n",
       "                case &amp;quot;stop&amp;quot;: layer.bindPopup(&amp;quot;&amp;quot;+feature.properties.duration); break;\n",
       "                case &amp;quot;start_place&amp;quot;: layer.bindPopup(feature.properties.exit_fmt_time); break;\n",
       "                case &amp;quot;end_place&amp;quot;: layer.bindPopup(feature.properties.enter_fmt_time); break;\n",
       "                case &amp;quot;section&amp;quot;: layer.bindPopup(getHumanReadable(feature.properties.sensed_mode)); break;\n",
       "                case &amp;quot;location&amp;quot;: layer.bindPopup(JSON.stringify(feature.properties)); break\n",
       "            }\n",
       "          }\n",
       "\n",
       "          function getHumanReadable(sensed_mode) {\n",
       "            ret_string = sensed_mode.split('.')[1]\n",
       "            if(ret_string == 'ON_FOOT') {\n",
       "                return 'WALKING';\n",
       "            } else {\n",
       "                return ret_string;\n",
       "            }\n",
       "          }\n",
       "\n",
       "          function getColoredStyle(baseDict, color) {\n",
       "            baseDict.color = color\n",
       "            return baseDict\n",
       "          }\n",
       "\n",
       "          function style_section(feature) {\n",
       "            var baseDict = {\n",
       "                    weight: 5,\n",
       "                    opacity: 1,\n",
       "            };\n",
       "            mode_string = getHumanReadable(feature.properties.sensed_mode);\n",
       "            switch(mode_string) {\n",
       "                case &amp;quot;WALKING&amp;quot;: return getColoredStyle(baseDict, 'brown');\n",
       "                case &amp;quot;BICYCLING&amp;quot;: return getColoredStyle(baseDict, 'green');\n",
       "                case &amp;quot;TRANSPORT&amp;quot;: return getColoredStyle(baseDict, 'red');\n",
       "                default: return getColoredStyle(baseDict, 'black');\n",
       "            }\n",
       "          }\n",
       "\n",
       "          function style_stop(feature) {\n",
       "            return {fillColor: 'yellow', fillOpacity: 0.8};\n",
       "          }\n",
       "\n",
       "          var pointIcon = L.divIcon({className: 'leaflet-div-icon', iconSize: [5, 5]});\n",
       "\n",
       "          var startMarker = L.AwesomeMarkers.icon({\n",
       "            icon: 'play',\n",
       "            prefix: 'ion',\n",
       "            markerColor: 'green'\n",
       "          });\n",
       "\n",
       "          var stopMarker = L.AwesomeMarkers.icon({\n",
       "            icon: 'stop',\n",
       "            prefix: 'ion',\n",
       "            markerColor: 'red'\n",
       "          });\n",
       "\n",
       "          function pointFormat(feature, latlng) {\n",
       "            switch(feature.properties.feature_type) {\n",
       "                case &amp;quot;start_place&amp;quot;: return L.marker(latlng, {icon: startMarker})\n",
       "                case &amp;quot;end_place&amp;quot;: return L.marker(latlng, {icon: stopMarker})\n",
       "                case &amp;quot;stop&amp;quot;: return L.circleMarker(latlng)\n",
       "                case &amp;quot;location&amp;quot;: return L.marker(latlng, {icon: pointIcon})\n",
       "                default: alert(&amp;quot;Found unknown type in feature&amp;quot;  + feature); return L.marker(latlng)\n",
       "            }\n",
       "          }\n",
       "    \n",
       "\n",
       "    var gjson_layer_0 = L.geoJson({&amp;quot;type&amp;quot;: &amp;quot;FeatureCollection&amp;quot;, &amp;quot;features&amp;quot;: [{&amp;quot;type&amp;quot;: &amp;quot;FeatureCollection&amp;quot;, &amp;quot;features&amp;quot;: [{&amp;quot;geometry&amp;quot;: {&amp;quot;type&amp;quot;: &amp;quot;Point&amp;quot;, &amp;quot;coordinates&amp;quot;: [-122.1075074003284, 37.41650822575895]}, &amp;quot;type&amp;quot;: &amp;quot;Feature&amp;quot;, &amp;quot;id&amp;quot;: &amp;quot;57bfd04ef6858fb98f6464c8&amp;quot;, &amp;quot;properties&amp;quot;: {&amp;quot;feature_type&amp;quot;: &amp;quot;location&amp;quot;, &amp;quot;fmt_time&amp;quot;: &amp;quot;2016-02-22T16:49:30.999990-08:00&amp;quot;, &amp;quot;latitude&amp;quot;: 37.41650822575895, &amp;quot;_id&amp;quot;: &amp;quot;0&amp;quot;, &amp;quot;ts&amp;quot;: 1456188570.99999, &amp;quot;longitude&amp;quot;: -122.1075074003284}}, {&amp;quot;geometry&amp;quot;: {&amp;quot;type&amp;quot;: &amp;quot;Point&amp;quot;, &amp;quot;coordinates&amp;quot;: [-122.1070484911297, 37.41621473341939]}, &amp;quot;type&amp;quot;: &amp;quot;Feature&amp;quot;, &amp;quot;id&amp;quot;: &amp;quot;57bfd04ef6858fb98f6464c9&amp;quot;, &amp;quot;properties&amp;quot;: {&amp;quot;feature_type&amp;quot;: &amp;quot;location&amp;quot;, &amp;quot;fmt_time&amp;quot;: &amp;quot;2016-02-22T16:49:44.999991-08:00&amp;quot;, &amp;quot;latitude&amp;quot;: 37.41621473341939, &amp;quot;_id&amp;quot;: &amp;quot;1&amp;quot;, &amp;quot;ts&amp;quot;: 1456188584.999991, &amp;quot;longitude&amp;quot;: -122.1070484911297}}, {&amp;quot;geometry&amp;quot;: {&amp;quot;type&amp;quot;: &amp;quot;Point&amp;quot;, &amp;quot;coordinates&amp;quot;: [-122.1066033282523, 37.41650189742205]}, &amp;quot;type&amp;quot;: &amp;quot;Feature&amp;quot;, &amp;quot;id&amp;quot;: &amp;quot;57bfd04ef6858fb98f6464ca&amp;quot;, &amp;quot;properties&amp;quot;: {&amp;quot;feature_type&amp;quot;: &amp;quot;location&amp;quot;, &amp;quot;fmt_time&amp;quot;: &amp;quot;2016-02-22T16:49:59.999991-08:00&amp;quot;, &amp;quot;latitude&amp;quot;: 37.41650189742205, &amp;quot;_id&amp;quot;: &amp;quot;2&amp;quot;, &amp;quot;ts&amp;quot;: 1456188599.999991, &amp;quot;longitude&amp;quot;: -122.1066033282523}}, {&amp;quot;geometry&amp;quot;: {&amp;quot;type&amp;quot;: &amp;quot;Point&amp;quot;, &amp;quot;coordinates&amp;quot;: [-122.1063717362677, 37.41696001033989]}, &amp;quot;type&amp;quot;: &amp;quot;Feature&amp;quot;, &amp;quot;id&amp;quot;: &amp;quot;57bfd04ef6858fb98f6464cb&amp;quot;, &amp;quot;properties&amp;quot;: {&amp;quot;feature_type&amp;quot;: &amp;quot;location&amp;quot;, &amp;quot;fmt_time&amp;quot;: &amp;quot;2016-02-22T16:50:08.999991-08:00&amp;quot;, &amp;quot;latitude&amp;quot;: 37.41696001033989, &amp;quot;_id&amp;quot;: &amp;quot;3&amp;quot;, &amp;quot;ts&amp;quot;: 1456188608.999991, &amp;quot;longitude&amp;quot;: -122.1063717362677}}, {&amp;quot;geometry&amp;quot;: {&amp;quot;type&amp;quot;: &amp;quot;Point&amp;quot;, &amp;quot;coordinates&amp;quot;: [-122.1060636175071, 37.4173596175736]}, &amp;quot;type&amp;quot;: &amp;quot;Feature&amp;quot;, &amp;quot;id&amp;quot;: &amp;quot;57bfd04ef6858fb98f6464cc&amp;quot;, &amp;quot;properties&amp;quot;: {&amp;quot;feature_type&amp;quot;: &amp;quot;location&amp;quot;, &amp;quot;fmt_time&amp;quot;: &amp;quot;2016-02-22T16:50:17.999991-08:00&amp;quot;, &amp;quot;latitude&amp;quot;: 37.4173596175736, &amp;quot;_id&amp;quot;: &amp;quot;4&amp;quot;, &amp;quot;ts&amp;quot;: 1456188617.999991, &amp;quot;longitude&amp;quot;: -122.1060636175071}}, {&amp;quot;geometry&amp;quot;: {&amp;quot;type&amp;quot;: &amp;quot;Point&amp;quot;, &amp;quot;coordinates&amp;quot;: [-122.1054515340198, 37.41726878163758]}, &amp;quot;type&amp;quot;: &amp;quot;Feature&amp;quot;, &amp;quot;id&amp;quot;: &amp;quot;57bfd04ef6858fb98f6464cd&amp;quot;, &amp;quot;properties&amp;quot;: {&amp;quot;feature_type&amp;quot;: &amp;quot;location&amp;quot;, &amp;quot;fmt_time&amp;quot;: &amp;quot;2016-02-22T16:50:34.999991-08:00&amp;quot;, &amp;quot;latitude&amp;quot;: 37.41726878163758, &amp;quot;_id&amp;quot;: &amp;quot;5&amp;quot;, &amp;quot;ts&amp;quot;: 1456188634.999991, &amp;quot;longitude&amp;quot;: -122.1054515340198}}, {&amp;quot;geometry&amp;quot;: {&amp;quot;type&amp;quot;: &amp;quot;Point&amp;quot;, &amp;quot;coordinates&amp;quot;: [-122.1049524167388, 37.41704805969636]}, &amp;quot;type&amp;quot;: &amp;quot;Feature&amp;quot;, &amp;quot;id&amp;quot;: &amp;quot;57bfd04ef6858fb98f6464ce&amp;quot;, &amp;quot;properties&amp;quot;: {&amp;quot;feature_type&amp;quot;: &amp;quot;location&amp;quot;, &amp;quot;fmt_time&amp;quot;: &amp;quot;2016-02-22T16:50:39.999991-08:00&amp;quot;, &amp;quot;latitude&amp;quot;: 37.41704805969636, &amp;quot;_id&amp;quot;: &amp;quot;6&amp;quot;, &amp;quot;ts&amp;quot;: 1456188639.999991, &amp;quot;longitude&amp;quot;: -122.1049524167388}}, {&amp;quot;geometry&amp;quot;: {&amp;quot;type&amp;quot;: &amp;quot;Point&amp;quot;, &amp;quot;coordinates&amp;quot;: [-122.1044734835071, 37.41678566689843]}, &amp;quot;type&amp;quot;: &amp;quot;Feature&amp;quot;, &amp;quot;id&amp;quot;: &amp;quot;57bfd04ef6858fb98f6464cf&amp;quot;, &amp;quot;properties&amp;quot;: {&amp;quot;feature_type&amp;quot;: &amp;quot;location&amp;quot;, &amp;quot;fmt_time&amp;quot;: &amp;quot;2016-02-22T16:50:46.999991-08:00&amp;quot;, &amp;quot;latitude&amp;quot;: 37.41678566689843, &amp;quot;_id&amp;quot;: &amp;quot;7&amp;quot;, &amp;quot;ts&amp;quot;: 1456188646.999991, &amp;quot;longitude&amp;quot;: -122.1044734835071}}, {&amp;quot;geometry&amp;quot;: {&amp;quot;type&amp;quot;: &amp;quot;Point&amp;quot;, &amp;quot;coordinates&amp;quot;: [-122.103953793769, 37.41651122233026]}, &amp;quot;type&amp;quot;: &amp;quot;Feature&amp;quot;, &amp;quot;id&amp;quot;: &amp;quot;57bfd04ef6858fb98f6464d0&amp;quot;, &amp;quot;properties&amp;quot;: {&amp;quot;feature_type&amp;quot;: &amp;quot;location&amp;quot;, &amp;quot;fmt_time&amp;quot;: &amp;quot;2016-02-22T16:51:22.999990-08:00&amp;quot;, &amp;quot;latitude&amp;quot;: 37.41651122233026, &amp;quot;_id&amp;quot;: &amp;quot;8&amp;quot;, &amp;quot;ts&amp;quot;: 1456188682.99999, &amp;quot;longitude&amp;quot;: -122.103953793769}}, {&amp;quot;geometry&amp;quot;: {&amp;quot;type&amp;quot;: &amp;quot;Point&amp;quot;, &amp;quot;coordinates&amp;quot;: [-122.1034641385157, 37.41625331803652]}, &amp;quot;type&amp;quot;: &amp;quot;Feature&amp;quot;, &amp;quot;id&amp;quot;: &amp;quot;57bfd04ef6858fb98f6464d1&amp;quot;, &amp;quot;properties&amp;quot;: {&amp;quot;feature_type&amp;quot;: &amp;quot;location&amp;quot;, &amp;quot;fmt_time&amp;quot;: &amp;quot;2016-02-22T16:51:27.999991-08:00&amp;quot;, &amp;quot;latitude&amp;quot;: 37.41625331803652, &amp;quot;_id&amp;quot;: &amp;quot;9&amp;quot;, &amp;quot;ts&amp;quot;: 1456188687.999991, &amp;quot;longitude&amp;quot;: -122.1034641385157}}, {&amp;quot;geometry&amp;quot;: {&amp;quot;type&amp;quot;: &amp;quot;Point&amp;quot;, &amp;quot;coordinates&amp;quot;: [-122.1029171348755, 37.41595594215897]}, &amp;quot;type&amp;quot;: &amp;quot;Feature&amp;quot;, &amp;quot;id&amp;quot;: &amp;quot;57bfd04ef6858fb98f6464d2&amp;quot;, &amp;quot;properties&amp;quot;: {&amp;quot;feature_type&amp;quot;: &amp;quot;location&amp;quot;, &amp;quot;fmt_time&amp;quot;: &amp;quot;2016-02-22T16:51:31.999990-08:00&amp;quot;, &amp;quot;latitude&amp;quot;: 37.41595594215897, &amp;quot;_id&amp;quot;: &amp;quot;10&amp;quot;, &amp;quot;ts&amp;quot;: 1456188691.99999, &amp;quot;longitude&amp;quot;: -122.1029171348755}}, {&amp;quot;geometry&amp;quot;: {&amp;quot;type&amp;quot;: &amp;quot;Point&amp;quot;, &amp;quot;coordinates&amp;quot;: [-122.1023429487393, 37.41564682898819]}, &amp;quot;type&amp;quot;: &amp;quot;Feature&amp;quot;, &amp;quot;id&amp;quot;: &amp;quot;57bfd04ef6858fb98f6464d3&amp;quot;, &amp;quot;properties&amp;quot;: {&amp;quot;feature_type&amp;quot;: &amp;quot;location&amp;quot;, &amp;quot;fmt_time&amp;quot;: &amp;quot;2016-02-22T16:51:36.999991-08:00&amp;quot;, &amp;quot;latitude&amp;quot;: 37.41564682898819, &amp;quot;_id&amp;quot;: &amp;quot;11&amp;quot;, &amp;quot;ts&amp;quot;: 1456188696.999991, &amp;quot;longitude&amp;quot;: -122.1023429487393}}, {&amp;quot;geometry&amp;quot;: {&amp;quot;type&amp;quot;: &amp;quot;Point&amp;quot;, &amp;quot;coordinates&amp;quot;: [-122.1018334003809, 37.41537947357257]}, &amp;quot;type&amp;quot;: &amp;quot;Feature&amp;quot;, &amp;quot;id&amp;quot;: &amp;quot;57bfd04ef6858fb98f6464d4&amp;quot;, &amp;quot;properties&amp;quot;: {&amp;quot;feature_type&amp;quot;: &amp;quot;location&amp;quot;, &amp;quot;fmt_time&amp;quot;: &amp;quot;2016-02-22T16:51:41.999990-08:00&amp;quot;, &amp;quot;latitude&amp;quot;: 37.41537947357257, &amp;quot;_id&amp;quot;: &amp;quot;12&amp;quot;, &amp;quot;ts&amp;quot;: 1456188701.99999, &amp;quot;longitude&amp;quot;: -122.1018334003809}}, {&amp;quot;geometry&amp;quot;: {&amp;quot;type&amp;quot;: &amp;quot;Point&amp;quot;, &amp;quot;coordinates&amp;quot;: [-122.1012960989245, 37.41508507442239]}, &amp;quot;type&amp;quot;: &amp;quot;Feature&amp;quot;, &amp;quot;id&amp;quot;: &amp;quot;57bfd04ef6858fb98f6464d5&amp;quot;, &amp;quot;properties&amp;quot;: {&amp;quot;feature_type&amp;quot;: &amp;quot;location&amp;quot;, &amp;quot;fmt_time&amp;quot;: &amp;quot;2016-02-22T16:51:46.999990-08:00&amp;quot;, &amp;quot;latitude&amp;quot;: 37.41508507442239, &amp;quot;_id&amp;quot;: &amp;quot;13&amp;quot;, &amp;quot;ts&amp;quot;: 1456188706.99999, &amp;quot;longitude&amp;quot;: -122.1012960989245}}, {&amp;quot;geometry&amp;quot;: {&amp;quot;type&amp;quot;: &amp;quot;Point&amp;quot;, &amp;quot;coordinates&amp;quot;: [-122.1007938311641, 37.41471558812765]}, &amp;quot;type&amp;quot;: &amp;quot;Feature&amp;quot;, &amp;quot;id&amp;quot;: &amp;quot;57bfd04ef6858fb98f6464d6&amp;quot;, &amp;quot;properties&amp;quot;: {&amp;quot;feature_type&amp;quot;: &amp;quot;location&amp;quot;, &amp;quot;fmt_time&amp;quot;: &amp;quot;2016-02-22T16:51:51.999990-08:00&amp;quot;, &amp;quot;latitude&amp;quot;: 37.41471558812765, &amp;quot;_id&amp;quot;: &amp;quot;14&amp;quot;, &amp;quot;ts&amp;quot;: 1456188711.99999, &amp;quot;longitude&amp;quot;: -122.1007938311641}}, {&amp;quot;geometry&amp;quot;: {&amp;quot;type&amp;quot;: &amp;quot;Point&amp;quot;, &amp;quot;coordinates&amp;quot;: [-122.1004092079527, 37.41435110899924]}, &amp;quot;type&amp;quot;: &amp;quot;Feature&amp;quot;, &amp;quot;id&amp;quot;: &amp;quot;57bfd04ef6858fb98f6464d7&amp;quot;, &amp;quot;properties&amp;quot;: {&amp;quot;feature_type&amp;quot;: &amp;quot;location&amp;quot;, &amp;quot;fmt_time&amp;quot;: &amp;quot;2016-02-22T16:51:55.999990-08:00&amp;quot;, &amp;quot;latitude&amp;quot;: 37.41435110899924, &amp;quot;_id&amp;quot;: &amp;quot;15&amp;quot;, &amp;quot;ts&amp;quot;: 1456188715.99999, &amp;quot;longitude&amp;quot;: -122.1004092079527}}, {&amp;quot;geometry&amp;quot;: {&amp;quot;type&amp;quot;: &amp;quot;Point&amp;quot;, &amp;quot;coordinates&amp;quot;: [-122.1000182536636, 37.41390824321417]}, &amp;quot;type&amp;quot;: &amp;quot;Feature&amp;quot;, &amp;quot;id&amp;quot;: &amp;quot;57bfd04ef6858fb98f6464d8&amp;quot;, &amp;quot;properties&amp;quot;: {&amp;quot;feature_type&amp;quot;: &amp;quot;location&amp;quot;, &amp;quot;fmt_time&amp;quot;: &amp;quot;2016-02-22T16:51:59.999991-08:00&amp;quot;, &amp;quot;latitude&amp;quot;: 37.41390824321417, &amp;quot;_id&amp;quot;: &amp;quot;16&amp;quot;, &amp;quot;ts&amp;quot;: 1456188719.999991, &amp;quot;longitude&amp;quot;: -122.1000182536636}}, {&amp;quot;geometry&amp;quot;: {&amp;quot;type&amp;quot;: &amp;quot;Point&amp;quot;, &amp;quot;coordinates&amp;quot;: [-122.0996031818186, 37.41345025602487]}, &amp;quot;type&amp;quot;: &amp;quot;Feature&amp;quot;, &amp;quot;id&amp;quot;: &amp;quot;57bfd04ef6858fb98f6464d9&amp;quot;, &amp;quot;properties&amp;quot;: {&amp;quot;feature_type&amp;quot;: &amp;quot;location&amp;quot;, &amp;quot;fmt_time&amp;quot;: &amp;quot;2016-02-22T16:52:03.999991-08:00&amp;quot;, &amp;quot;latitude&amp;quot;: 37.41345025602487, &amp;quot;_id&amp;quot;: &amp;quot;17&amp;quot;, &amp;quot;ts&amp;quot;: 1456188723.999991, &amp;quot;longitude&amp;quot;: -122.0996031818186}}, {&amp;quot;geometry&amp;quot;: {&amp;quot;type&amp;quot;: &amp;quot;Point&amp;quot;, &amp;quot;coordinates&amp;quot;: [-122.0991632995402, 37.41299113727865]}, &amp;quot;type&amp;quot;: &amp;quot;Feature&amp;quot;, &amp;quot;id&amp;quot;: &amp;quot;57bfd04ef6858fb98f6464da&amp;quot;, &amp;quot;properties&amp;quot;: {&amp;quot;feature_type&amp;quot;: &amp;quot;location&amp;quot;, &amp;quot;fmt_time&amp;quot;: &amp;quot;2016-02-22T16:52:07.999990-08:00&amp;quot;, &amp;quot;latitude&amp;quot;: 37.41299113727865, &amp;quot;_id&amp;quot;: &amp;quot;18&amp;quot;, &amp;quot;ts&amp;quot;: 1456188727.99999, &amp;quot;longitude&amp;quot;: -122.0991632995402}}, {&amp;quot;geometry&amp;quot;: {&amp;quot;type&amp;quot;: &amp;quot;Point&amp;quot;, &amp;quot;coordinates&amp;quot;: [-122.0986653306727, 37.41256986282525]}, &amp;quot;type&amp;quot;: &amp;quot;Feature&amp;quot;, &amp;quot;id&amp;quot;: &amp;quot;57bfd04ef6858fb98f6464db&amp;quot;, &amp;quot;properties&amp;quot;: {&amp;quot;feature_type&amp;quot;: &amp;quot;location&amp;quot;, &amp;quot;fmt_time&amp;quot;: &amp;quot;2016-02-22T16:52:11.999990-08:00&amp;quot;, &amp;quot;latitude&amp;quot;: 37.41256986282525, &amp;quot;_id&amp;quot;: &amp;quot;19&amp;quot;, &amp;quot;ts&amp;quot;: 1456188731.99999, &amp;quot;longitude&amp;quot;: -122.0986653306727}}, {&amp;quot;geometry&amp;quot;: {&amp;quot;type&amp;quot;: &amp;quot;Point&amp;quot;, &amp;quot;coordinates&amp;quot;: [-122.0981094428544, 37.41222691725698]}, &amp;quot;type&amp;quot;: &amp;quot;Feature&amp;quot;, &amp;quot;id&amp;quot;: &amp;quot;57bfd04ef6858fb98f6464dc&amp;quot;, &amp;quot;properties&amp;quot;: {&amp;quot;feature_type&amp;quot;: &amp;quot;location&amp;quot;, &amp;quot;fmt_time&amp;quot;: &amp;quot;2016-02-22T16:52:15.999991-08:00&amp;quot;, &amp;quot;latitude&amp;quot;: 37.41222691725698, &amp;quot;_id&amp;quot;: &amp;quot;20&amp;quot;, &amp;quot;ts&amp;quot;: 1456188735.999991, &amp;quot;longitude&amp;quot;: -122.0981094428544}}, {&amp;quot;geometry&amp;quot;: {&amp;quot;type&amp;quot;: &amp;quot;Point&amp;quot;, &amp;quot;coordinates&amp;quot;: [-122.0974973124658, 37.41196368358788]}, &amp;quot;type&amp;quot;: &amp;quot;Feature&amp;quot;, &amp;quot;id&amp;quot;: &amp;quot;57bfd04ef6858fb98f6464dd&amp;quot;, &amp;quot;properties&amp;quot;: {&amp;quot;feature_type&amp;quot;: &amp;quot;location&amp;quot;, &amp;quot;fmt_time&amp;quot;: &amp;quot;2016-02-22T16:52:19.999990-08:00&amp;quot;, &amp;quot;latitude&amp;quot;: 37.41196368358788, &amp;quot;_id&amp;quot;: &amp;quot;21&amp;quot;, &amp;quot;ts&amp;quot;: 1456188739.99999, &amp;quot;longitude&amp;quot;: -122.0974973124658}}, {&amp;quot;geometry&amp;quot;: {&amp;quot;type&amp;quot;: &amp;quot;Point&amp;quot;, &amp;quot;coordinates&amp;quot;: [-122.0968432725613, 37.4117866577929]}, &amp;quot;type&amp;quot;: &amp;quot;Feature&amp;quot;, &amp;quot;id&amp;quot;: &amp;quot;57bfd04ef6858fb98f6464de&amp;quot;, &amp;quot;properties&amp;quot;: {&amp;quot;feature_type&amp;quot;: &amp;quot;location&amp;quot;, &amp;quot;fmt_time&amp;quot;: &amp;quot;2016-02-22T16:52:23.999991-08:00&amp;quot;, &amp;quot;latitude&amp;quot;: 37.4117866577929, &amp;quot;_id&amp;quot;: &amp;quot;22&amp;quot;, &amp;quot;ts&amp;quot;: 1456188743.999991, &amp;quot;longitude&amp;quot;: -122.0968432725613}}, {&amp;quot;geometry&amp;quot;: {&amp;quot;type&amp;quot;: &amp;quot;Point&amp;quot;, &amp;quot;coordinates&amp;quot;: [-122.0961552021299, 37.41168217736986]}, &amp;quot;type&amp;quot;: &amp;quot;Feature&amp;quot;, &amp;quot;id&amp;quot;: &amp;quot;57bfd04ef6858fb98f6464df&amp;quot;, &amp;quot;properties&amp;quot;: {&amp;quot;feature_type&amp;quot;: &amp;quot;location&amp;quot;, &amp;quot;fmt_time&amp;quot;: &amp;quot;2016-02-22T16:52:27.999992-08:00&amp;quot;, &amp;quot;latitude&amp;quot;: 37.41168217736986, &amp;quot;_id&amp;quot;: &amp;quot;23&amp;quot;, &amp;quot;ts&amp;quot;: 1456188747.999992, &amp;quot;longitude&amp;quot;: -122.0961552021299}}, {&amp;quot;geometry&amp;quot;: {&amp;quot;type&amp;quot;: &amp;quot;Point&amp;quot;, &amp;quot;coordinates&amp;quot;: [-122.0954645333086, 37.41165803748873]}, &amp;quot;type&amp;quot;: &amp;quot;Feature&amp;quot;, &amp;quot;id&amp;quot;: &amp;quot;57bfd04ef6858fb98f6464e0&amp;quot;, &amp;quot;properties&amp;quot;: {&amp;quot;feature_type&amp;quot;: &amp;quot;location&amp;quot;, &amp;quot;fmt_time&amp;quot;: &amp;quot;2016-02-22T16:52:31.999990-08:00&amp;quot;, &amp;quot;latitude&amp;quot;: 37.41165803748873, &amp;quot;_id&amp;quot;: &amp;quot;24&amp;quot;, &amp;quot;ts&amp;quot;: 1456188751.99999, &amp;quot;longitude&amp;quot;: -122.0954645333086}}, {&amp;quot;geometry&amp;quot;: {&amp;quot;type&amp;quot;: &amp;quot;Point&amp;quot;, &amp;quot;coordinates&amp;quot;: [-122.0947861858849, 37.41165233779457]}, &amp;quot;type&amp;quot;: &amp;quot;Feature&amp;quot;, &amp;quot;id&amp;quot;: &amp;quot;57bfd04ef6858fb98f6464e1&amp;quot;, &amp;quot;properties&amp;quot;: {&amp;quot;feature_type&amp;quot;: &amp;quot;location&amp;quot;, &amp;quot;fmt_time&amp;quot;: &amp;quot;2016-02-22T16:52:35.999991-08:00&amp;quot;, &amp;quot;latitude&amp;quot;: 37.41165233779457, &amp;quot;_id&amp;quot;: &amp;quot;25&amp;quot;, &amp;quot;ts&amp;quot;: 1456188755.999991, &amp;quot;longitude&amp;quot;: -122.0947861858849}}, {&amp;quot;geometry&amp;quot;: {&amp;quot;type&amp;quot;: &amp;quot;Point&amp;quot;, &amp;quot;coordinates&amp;quot;: [-122.0940870513414, 37.41164206996319]}, &amp;quot;type&amp;quot;: &amp;quot;Feature&amp;quot;, &amp;quot;id&amp;quot;: &amp;quot;57bfd04ef6858fb98f6464e2&amp;quot;, &amp;quot;properties&amp;quot;: {&amp;quot;feature_type&amp;quot;: &amp;quot;location&amp;quot;, &amp;quot;fmt_time&amp;quot;: &amp;quot;2016-02-22T16:52:39.999991-08:00&amp;quot;, &amp;quot;latitude&amp;quot;: 37.41164206996319, &amp;quot;_id&amp;quot;: &amp;quot;26&amp;quot;, &amp;quot;ts&amp;quot;: 1456188759.999991, &amp;quot;longitude&amp;quot;: -122.0940870513414}}, {&amp;quot;geometry&amp;quot;: {&amp;quot;type&amp;quot;: &amp;quot;Point&amp;quot;, &amp;quot;coordinates&amp;quot;: [-122.0933687222396, 37.41162417459991]}, &amp;quot;type&amp;quot;: &amp;quot;Feature&amp;quot;, &amp;quot;id&amp;quot;: &amp;quot;57bfd04ef6858fb98f6464e3&amp;quot;, &amp;quot;properties&amp;quot;: {&amp;quot;feature_type&amp;quot;: &amp;quot;location&amp;quot;, &amp;quot;fmt_time&amp;quot;: &amp;quot;2016-02-22T16:52:43.999990-08:00&amp;quot;, &amp;quot;latitude&amp;quot;: 37.41162417459991, &amp;quot;_id&amp;quot;: &amp;quot;27&amp;quot;, &amp;quot;ts&amp;quot;: 1456188763.99999, &amp;quot;longitude&amp;quot;: -122.0933687222396}}, {&amp;quot;geometry&amp;quot;: {&amp;quot;type&amp;quot;: &amp;quot;Point&amp;quot;, &amp;quot;coordinates&amp;quot;: [-122.0926596970503, 37.41154639053848]}, &amp;quot;type&amp;quot;: &amp;quot;Feature&amp;quot;, &amp;quot;id&amp;quot;: &amp;quot;57bfd04ef6858fb98f6464e4&amp;quot;, &amp;quot;properties&amp;quot;: {&amp;quot;feature_type&amp;quot;: &amp;quot;location&amp;quot;, &amp;quot;fmt_time&amp;quot;: &amp;quot;2016-02-22T16:52:47.999990-08:00&amp;quot;, &amp;quot;latitude&amp;quot;: 37.41154639053848, &amp;quot;_id&amp;quot;: &amp;quot;28&amp;quot;, &amp;quot;ts&amp;quot;: 1456188767.99999, &amp;quot;longitude&amp;quot;: -122.0926596970503}}, {&amp;quot;geometry&amp;quot;: {&amp;quot;type&amp;quot;: &amp;quot;Point&amp;quot;, &amp;quot;coordinates&amp;quot;: [-122.0919633285348, 37.41137108303365]}, &amp;quot;type&amp;quot;: &amp;quot;Feature&amp;quot;, &amp;quot;id&amp;quot;: &amp;quot;57bfd04ef6858fb98f6464e5&amp;quot;, &amp;quot;properties&amp;quot;: {&amp;quot;feature_type&amp;quot;: &amp;quot;location&amp;quot;, &amp;quot;fmt_time&amp;quot;: &amp;quot;2016-02-22T16:52:51.999990-08:00&amp;quot;, &amp;quot;latitude&amp;quot;: 37.41137108303365, &amp;quot;_id&amp;quot;: &amp;quot;29&amp;quot;, &amp;quot;ts&amp;quot;: 1456188771.99999, &amp;quot;longitude&amp;quot;: -122.0919633285348}}, {&amp;quot;geometry&amp;quot;: {&amp;quot;type&amp;quot;: &amp;quot;Point&amp;quot;, &amp;quot;coordinates&amp;quot;: [-122.0914434829001, 37.41118735171613]}, &amp;quot;type&amp;quot;: &amp;quot;Feature&amp;quot;, &amp;quot;id&amp;quot;: &amp;quot;57bfd04ef6858fb98f6464e6&amp;quot;, &amp;quot;properties&amp;quot;: {&amp;quot;feature_type&amp;quot;: &amp;quot;location&amp;quot;, &amp;quot;fmt_time&amp;quot;: &amp;quot;2016-02-22T16:52:54.999991-08:00&amp;quot;, &amp;quot;latitude&amp;quot;: 37.41118735171613, &amp;quot;_id&amp;quot;: &amp;quot;30&amp;quot;, &amp;quot;ts&amp;quot;: 1456188774.999991, &amp;quot;longitude&amp;quot;: -122.0914434829001}}, {&amp;quot;geometry&amp;quot;: {&amp;quot;type&amp;quot;: &amp;quot;Point&amp;quot;, &amp;quot;coordinates&amp;quot;: [-122.0909282473122, 37.4109816598123]}, &amp;quot;type&amp;quot;: &amp;quot;Feature&amp;quot;, &amp;quot;id&amp;quot;: &amp;quot;57bfd04ef6858fb98f6464e7&amp;quot;, &amp;quot;properties&amp;quot;: {&amp;quot;feature_type&amp;quot;: &amp;quot;location&amp;quot;, &amp;quot;fmt_time&amp;quot;: &amp;quot;2016-02-22T16:52:57.999990-08:00&amp;quot;, &amp;quot;latitude&amp;quot;: 37.4109816598123, &amp;quot;_id&amp;quot;: &amp;quot;31&amp;quot;, &amp;quot;ts&amp;quot;: 1456188777.99999, &amp;quot;longitude&amp;quot;: -122.0909282473122}}, {&amp;quot;geometry&amp;quot;: {&amp;quot;type&amp;quot;: &amp;quot;Point&amp;quot;, &amp;quot;coordinates&amp;quot;: [-122.0902544261162, 37.41071968342867]}, &amp;quot;type&amp;quot;: &amp;quot;Feature&amp;quot;, &amp;quot;id&amp;quot;: &amp;quot;57bfd04ef6858fb98f6464e8&amp;quot;, &amp;quot;properties&amp;quot;: {&amp;quot;feature_type&amp;quot;: &amp;quot;location&amp;quot;, &amp;quot;fmt_time&amp;quot;: &amp;quot;2016-02-22T16:53:01.999991-08:00&amp;quot;, &amp;quot;latitude&amp;quot;: 37.41071968342867, &amp;quot;_id&amp;quot;: &amp;quot;32&amp;quot;, &amp;quot;ts&amp;quot;: 1456188781.999991, &amp;quot;longitude&amp;quot;: -122.0902544261162}}, {&amp;quot;geometry&amp;quot;: {&amp;quot;type&amp;quot;: &amp;quot;Point&amp;quot;, &amp;quot;coordinates&amp;quot;: [-122.0897061658298, 37.4105120217776]}, &amp;quot;type&amp;quot;: &amp;quot;Feature&amp;quot;, &amp;quot;id&amp;quot;: &amp;quot;57bfd04ef6858fb98f6464e9&amp;quot;, &amp;quot;properties&amp;quot;: {&amp;quot;feature_type&amp;quot;: &amp;quot;location&amp;quot;, &amp;quot;fmt_time&amp;quot;: &amp;quot;2016-02-22T16:53:04.999991-08:00&amp;quot;, &amp;quot;latitude&amp;quot;: 37.4105120217776, &amp;quot;_id&amp;quot;: &amp;quot;33&amp;quot;, &amp;quot;ts&amp;quot;: 1456188784.999991, &amp;quot;longitude&amp;quot;: -122.0897061658298}}, {&amp;quot;geometry&amp;quot;: {&amp;quot;type&amp;quot;: &amp;quot;Point&amp;quot;, &amp;quot;coordinates&amp;quot;: [-122.0891804528628, 37.41029828324672]}, &amp;quot;type&amp;quot;: &amp;quot;Feature&amp;quot;, &amp;quot;id&amp;quot;: &amp;quot;57bfd04ef6858fb98f6464ea&amp;quot;, &amp;quot;properties&amp;quot;: {&amp;quot;feature_type&amp;quot;: &amp;quot;location&amp;quot;, &amp;quot;fmt_time&amp;quot;: &amp;quot;2016-02-22T16:53:07.999991-08:00&amp;quot;, &amp;quot;latitude&amp;quot;: 37.41029828324672, &amp;quot;_id&amp;quot;: &amp;quot;34&amp;quot;, &amp;quot;ts&amp;quot;: 1456188787.999991, &amp;quot;longitude&amp;quot;: -122.0891804528628}}, {&amp;quot;geometry&amp;quot;: {&amp;quot;type&amp;quot;: &amp;quot;Point&amp;quot;, &amp;quot;coordinates&amp;quot;: [-122.0886508004014, 37.4100957764661]}, &amp;quot;type&amp;quot;: &amp;quot;Feature&amp;quot;, &amp;quot;id&amp;quot;: &amp;quot;57bfd04ef6858fb98f6464eb&amp;quot;, &amp;quot;properties&amp;quot;: {&amp;quot;feature_type&amp;quot;: &amp;quot;location&amp;quot;, &amp;quot;fmt_time&amp;quot;: &amp;quot;2016-02-22T16:53:10.999991-08:00&amp;quot;, &amp;quot;latitude&amp;quot;: 37.4100957764661, &amp;quot;_id&amp;quot;: &amp;quot;35&amp;quot;, &amp;quot;ts&amp;quot;: 1456188790.999991, &amp;quot;longitude&amp;quot;: -122.0886508004014}}, {&amp;quot;geometry&amp;quot;: {&amp;quot;type&amp;quot;: &amp;quot;Point&amp;quot;, &amp;quot;coordinates&amp;quot;: [-122.0880018734579, 37.40985848478731]}, &amp;quot;type&amp;quot;: &amp;quot;Feature&amp;quot;, &amp;quot;id&amp;quot;: &amp;quot;57bfd04ef6858fb98f6464ec&amp;quot;, &amp;quot;properties&amp;quot;: {&amp;quot;feature_type&amp;quot;: &amp;quot;location&amp;quot;, &amp;quot;fmt_time&amp;quot;: &amp;quot;2016-02-22T16:53:14.999991-08:00&amp;quot;, &amp;quot;latitude&amp;quot;: 37.40985848478731, &amp;quot;_id&amp;quot;: &amp;quot;36&amp;quot;, &amp;quot;ts&amp;quot;: 1456188794.999991, &amp;quot;longitude&amp;quot;: -122.0880018734579}}, {&amp;quot;geometry&amp;quot;: {&amp;quot;type&amp;quot;: &amp;quot;Point&amp;quot;, &amp;quot;coordinates&amp;quot;: [-122.0873749071007, 37.40969340320435]}, &amp;quot;type&amp;quot;: &amp;quot;Feature&amp;quot;, &amp;quot;id&amp;quot;: &amp;quot;57bfd04ef6858fb98f6464ed&amp;quot;, &amp;quot;properties&amp;quot;: {&amp;quot;feature_type&amp;quot;: &amp;quot;location&amp;quot;, &amp;quot;fmt_time&amp;quot;: &amp;quot;2016-02-22T16:53:18.999991-08:00&amp;quot;, &amp;quot;latitude&amp;quot;: 37.40969340320435, &amp;quot;_id&amp;quot;: &amp;quot;37&amp;quot;, &amp;quot;ts&amp;quot;: 1456188798.999991, &amp;quot;longitude&amp;quot;: -122.0873749071007}}, {&amp;quot;geometry&amp;quot;: {&amp;quot;type&amp;quot;: &amp;quot;Point&amp;quot;, &amp;quot;coordinates&amp;quot;: [-122.0867572446559, 37.40959596357998]}, &amp;quot;type&amp;quot;: &amp;quot;Feature&amp;quot;, &amp;quot;id&amp;quot;: &amp;quot;57bfd04ef6858fb98f6464ee&amp;quot;, &amp;quot;properties&amp;quot;: {&amp;quot;feature_type&amp;quot;: &amp;quot;location&amp;quot;, &amp;quot;fmt_time&amp;quot;: &amp;quot;2016-02-22T16:53:22.999991-08:00&amp;quot;, &amp;quot;latitude&amp;quot;: 37.40959596357998, &amp;quot;_id&amp;quot;: &amp;quot;38&amp;quot;, &amp;quot;ts&amp;quot;: 1456188802.999991, &amp;quot;longitude&amp;quot;: -122.0867572446559}}, {&amp;quot;geometry&amp;quot;: {&amp;quot;type&amp;quot;: &amp;quot;Point&amp;quot;, &amp;quot;coordinates&amp;quot;: [-122.0860982594286, 37.40953397940603]}, &amp;quot;type&amp;quot;: &amp;quot;Feature&amp;quot;, &amp;quot;id&amp;quot;: &amp;quot;57bfd04ef6858fb98f6464ef&amp;quot;, &amp;quot;properties&amp;quot;: {&amp;quot;feature_type&amp;quot;: &amp;quot;location&amp;quot;, &amp;quot;fmt_time&amp;quot;: &amp;quot;2016-02-22T16:53:26.999990-08:00&amp;quot;, &amp;quot;latitude&amp;quot;: 37.40953397940603, &amp;quot;_id&amp;quot;: &amp;quot;39&amp;quot;, &amp;quot;ts&amp;quot;: 1456188806.99999, &amp;quot;longitude&amp;quot;: -122.0860982594286}}, {&amp;quot;geometry&amp;quot;: {&amp;quot;type&amp;quot;: &amp;quot;Point&amp;quot;, &amp;quot;coordinates&amp;quot;: [-122.0854335745071, 37.40942727777865]}, &amp;quot;type&amp;quot;: &amp;quot;Feature&amp;quot;, &amp;quot;id&amp;quot;: &amp;quot;57bfd04ef6858fb98f6464f0&amp;quot;, &amp;quot;properties&amp;quot;: {&amp;quot;feature_type&amp;quot;: &amp;quot;location&amp;quot;, &amp;quot;fmt_time&amp;quot;: &amp;quot;2016-02-22T16:53:30.999990-08:00&amp;quot;, &amp;quot;latitude&amp;quot;: 37.40942727777865, &amp;quot;_id&amp;quot;: &amp;quot;40&amp;quot;, &amp;quot;ts&amp;quot;: 1456188810.99999, &amp;quot;longitude&amp;quot;: -122.0854335745071}}, {&amp;quot;geometry&amp;quot;: {&amp;quot;type&amp;quot;: &amp;quot;Point&amp;quot;, &amp;quot;coordinates&amp;quot;: [-122.0847636928056, 37.4092659261426]}, &amp;quot;type&amp;quot;: &amp;quot;Feature&amp;quot;, &amp;quot;id&amp;quot;: &amp;quot;57bfd04ef6858fb98f6464f1&amp;quot;, &amp;quot;properties&amp;quot;: {&amp;quot;feature_type&amp;quot;: &amp;quot;location&amp;quot;, &amp;quot;fmt_time&amp;quot;: &amp;quot;2016-02-22T16:53:34.999991-08:00&amp;quot;, &amp;quot;latitude&amp;quot;: 37.4092659261426, &amp;quot;_id&amp;quot;: &amp;quot;41&amp;quot;, &amp;quot;ts&amp;quot;: 1456188814.999991, &amp;quot;longitude&amp;quot;: -122.0847636928056}}, {&amp;quot;geometry&amp;quot;: {&amp;quot;type&amp;quot;: &amp;quot;Point&amp;quot;, &amp;quot;coordinates&amp;quot;: [-122.0841108263676, 37.40903668109086]}, &amp;quot;type&amp;quot;: &amp;quot;Feature&amp;quot;, &amp;quot;id&amp;quot;: &amp;quot;57bfd04ef6858fb98f6464f2&amp;quot;, &amp;quot;properties&amp;quot;: {&amp;quot;feature_type&amp;quot;: &amp;quot;location&amp;quot;, &amp;quot;fmt_time&amp;quot;: &amp;quot;2016-02-22T16:53:38.999992-08:00&amp;quot;, &amp;quot;latitude&amp;quot;: 37.40903668109086, &amp;quot;_id&amp;quot;: &amp;quot;42&amp;quot;, &amp;quot;ts&amp;quot;: 1456188818.999992, &amp;quot;longitude&amp;quot;: -122.0841108263676}}, {&amp;quot;geometry&amp;quot;: {&amp;quot;type&amp;quot;: &amp;quot;Point&amp;quot;, &amp;quot;coordinates&amp;quot;: [-122.0834846982007, 37.40874117709455]}, &amp;quot;type&amp;quot;: &amp;quot;Feature&amp;quot;, &amp;quot;id&amp;quot;: &amp;quot;57bfd04ef6858fb98f6464f3&amp;quot;, &amp;quot;properties&amp;quot;: {&amp;quot;feature_type&amp;quot;: &amp;quot;location&amp;quot;, &amp;quot;fmt_time&amp;quot;: &amp;quot;2016-02-22T16:53:42.999991-08:00&amp;quot;, &amp;quot;latitude&amp;quot;: 37.40874117709455, &amp;quot;_id&amp;quot;: &amp;quot;43&amp;quot;, &amp;quot;ts&amp;quot;: 1456188822.999991, &amp;quot;longitude&amp;quot;: -122.0834846982007}}, {&amp;quot;geometry&amp;quot;: {&amp;quot;type&amp;quot;: &amp;quot;Point&amp;quot;, &amp;quot;coordinates&amp;quot;: [-122.0829081909005, 37.40845342635867]}, &amp;quot;type&amp;quot;: &amp;quot;Feature&amp;quot;, &amp;quot;id&amp;quot;: &amp;quot;57bfd04ef6858fb98f6464f4&amp;quot;, &amp;quot;properties&amp;quot;: {&amp;quot;feature_type&amp;quot;: &amp;quot;location&amp;quot;, &amp;quot;fmt_time&amp;quot;: &amp;quot;2016-02-22T16:53:46.999991-08:00&amp;quot;, &amp;quot;latitude&amp;quot;: 37.40845342635867, &amp;quot;_id&amp;quot;: &amp;quot;44&amp;quot;, &amp;quot;ts&amp;quot;: 1456188826.999991, &amp;quot;longitude&amp;quot;: -122.0829081909005}}, {&amp;quot;geometry&amp;quot;: {&amp;quot;type&amp;quot;: &amp;quot;Point&amp;quot;, &amp;quot;coordinates&amp;quot;: [-122.0823795442675, 37.40819409027454]}, &amp;quot;type&amp;quot;: &amp;quot;Feature&amp;quot;, &amp;quot;id&amp;quot;: &amp;quot;57bfd04ef6858fb98f6464f5&amp;quot;, &amp;quot;properties&amp;quot;: {&amp;quot;feature_type&amp;quot;: &amp;quot;location&amp;quot;, &amp;quot;fmt_time&amp;quot;: &amp;quot;2016-02-22T16:53:50.999991-08:00&amp;quot;, &amp;quot;latitude&amp;quot;: 37.40819409027454, &amp;quot;_id&amp;quot;: &amp;quot;45&amp;quot;, &amp;quot;ts&amp;quot;: 1456188830.999991, &amp;quot;longitude&amp;quot;: -122.0823795442675}}, {&amp;quot;geometry&amp;quot;: {&amp;quot;type&amp;quot;: &amp;quot;Point&amp;quot;, &amp;quot;coordinates&amp;quot;: [-122.0818730258588, 37.40795051216838]}, &amp;quot;type&amp;quot;: &amp;quot;Feature&amp;quot;, &amp;quot;id&amp;quot;: &amp;quot;57bfd04ef6858fb98f6464f6&amp;quot;, &amp;quot;properties&amp;quot;: {&amp;quot;feature_type&amp;quot;: &amp;quot;location&amp;quot;, &amp;quot;fmt_time&amp;quot;: &amp;quot;2016-02-22T16:53:54.999990-08:00&amp;quot;, &amp;quot;latitude&amp;quot;: 37.40795051216838, &amp;quot;_id&amp;quot;: &amp;quot;46&amp;quot;, &amp;quot;ts&amp;quot;: 1456188834.99999, &amp;quot;longitude&amp;quot;: -122.0818730258588}}, {&amp;quot;geometry&amp;quot;: {&amp;quot;type&amp;quot;: &amp;quot;Point&amp;quot;, &amp;quot;coordinates&amp;quot;: [-122.0813041460906, 37.4076807406148]}, &amp;quot;type&amp;quot;: &amp;quot;Feature&amp;quot;, &amp;quot;id&amp;quot;: &amp;quot;57bfd04ef6858fb98f6464f7&amp;quot;, &amp;quot;properties&amp;quot;: {&amp;quot;feature_type&amp;quot;: &amp;quot;location&amp;quot;, &amp;quot;fmt_time&amp;quot;: &amp;quot;2016-02-22T16:53:59.999991-08:00&amp;quot;, &amp;quot;latitude&amp;quot;: 37.4076807406148, &amp;quot;_id&amp;quot;: &amp;quot;47&amp;quot;, &amp;quot;ts&amp;quot;: 1456188839.999991, &amp;quot;longitude&amp;quot;: -122.0813041460906}}, {&amp;quot;geometry&amp;quot;: {&amp;quot;type&amp;quot;: &amp;quot;Point&amp;quot;, &amp;quot;coordinates&amp;quot;: [-122.080824198315, 37.40742639176306]}, &amp;quot;type&amp;quot;: &amp;quot;Feature&amp;quot;, &amp;quot;id&amp;quot;: &amp;quot;57bfd04ef6858fb98f6464f8&amp;quot;, &amp;quot;properties&amp;quot;: {&amp;quot;feature_type&amp;quot;: &amp;quot;location&amp;quot;, &amp;quot;fmt_time&amp;quot;: &amp;quot;2016-02-22T16:54:03.999990-08:00&amp;quot;, &amp;quot;latitude&amp;quot;: 37.40742639176306, &amp;quot;_id&amp;quot;: &amp;quot;48&amp;quot;, &amp;quot;ts&amp;quot;: 1456188843.99999, &amp;quot;longitude&amp;quot;: -122.080824198315}}, {&amp;quot;geometry&amp;quot;: {&amp;quot;type&amp;quot;: &amp;quot;Point&amp;quot;, &amp;quot;coordinates&amp;quot;: [-122.0802755189334, 37.40717506039646]}, &amp;quot;type&amp;quot;: &amp;quot;Feature&amp;quot;, &amp;quot;id&amp;quot;: &amp;quot;57bfd04ef6858fb98f6464f9&amp;quot;, &amp;quot;properties&amp;quot;: {&amp;quot;feature_type&amp;quot;: &amp;quot;location&amp;quot;, &amp;quot;fmt_time&amp;quot;: &amp;quot;2016-02-22T16:54:07.999991-08:00&amp;quot;, &amp;quot;latitude&amp;quot;: 37.40717506039646, &amp;quot;_id&amp;quot;: &amp;quot;49&amp;quot;, &amp;quot;ts&amp;quot;: 1456188847.999991, &amp;quot;longitude&amp;quot;: -122.0802755189334}}, {&amp;quot;geometry&amp;quot;: {&amp;quot;type&amp;quot;: &amp;quot;Point&amp;quot;, &amp;quot;coordinates&amp;quot;: [-122.0797374007498, 37.40691471848395]}, &amp;quot;type&amp;quot;: &amp;quot;Feature&amp;quot;, &amp;quot;id&amp;quot;: &amp;quot;57bfd04ef6858fb98f6464fa&amp;quot;, &amp;quot;properties&amp;quot;: {&amp;quot;feature_type&amp;quot;: &amp;quot;location&amp;quot;, &amp;quot;fmt_time&amp;quot;: &amp;quot;2016-02-22T16:54:11.999990-08:00&amp;quot;, &amp;quot;latitude&amp;quot;: 37.40691471848395, &amp;quot;_id&amp;quot;: &amp;quot;50&amp;quot;, &amp;quot;ts&amp;quot;: 1456188851.99999, &amp;quot;longitude&amp;quot;: -122.0797374007498}}, {&amp;quot;geometry&amp;quot;: {&amp;quot;type&amp;quot;: &amp;quot;Point&amp;quot;, &amp;quot;coordinates&amp;quot;: [-122.0792330616359, 37.40666506349799]}, &amp;quot;type&amp;quot;: &amp;quot;Feature&amp;quot;, &amp;quot;id&amp;quot;: &amp;quot;57bfd04ef6858fb98f6464fb&amp;quot;, &amp;quot;properties&amp;quot;: {&amp;quot;feature_type&amp;quot;: &amp;quot;location&amp;quot;, &amp;quot;fmt_time&amp;quot;: &amp;quot;2016-02-22T16:54:15.999990-08:00&amp;quot;, &amp;quot;latitude&amp;quot;: 37.40666506349799, &amp;quot;_id&amp;quot;: &amp;quot;51&amp;quot;, &amp;quot;ts&amp;quot;: 1456188855.99999, &amp;quot;longitude&amp;quot;: -122.0792330616359}}, {&amp;quot;geometry&amp;quot;: {&amp;quot;type&amp;quot;: &amp;quot;Point&amp;quot;, &amp;quot;coordinates&amp;quot;: [-122.0786530350756, 37.40636984640106]}, &amp;quot;type&amp;quot;: &amp;quot;Feature&amp;quot;, &amp;quot;id&amp;quot;: &amp;quot;57bfd04ef6858fb98f6464fc&amp;quot;, &amp;quot;properties&amp;quot;: {&amp;quot;feature_type&amp;quot;: &amp;quot;location&amp;quot;, &amp;quot;fmt_time&amp;quot;: &amp;quot;2016-02-22T16:54:20.999991-08:00&amp;quot;, &amp;quot;latitude&amp;quot;: 37.40636984640106, &amp;quot;_id&amp;quot;: &amp;quot;52&amp;quot;, &amp;quot;ts&amp;quot;: 1456188860.999991, &amp;quot;longitude&amp;quot;: -122.0786530350756}}, {&amp;quot;geometry&amp;quot;: {&amp;quot;type&amp;quot;: &amp;quot;Point&amp;quot;, &amp;quot;coordinates&amp;quot;: [-122.078180546055, 37.40602243858215]}, &amp;quot;type&amp;quot;: &amp;quot;Feature&amp;quot;, &amp;quot;id&amp;quot;: &amp;quot;57bfd04ef6858fb98f6464fd&amp;quot;, &amp;quot;properties&amp;quot;: {&amp;quot;feature_type&amp;quot;: &amp;quot;location&amp;quot;, &amp;quot;fmt_time&amp;quot;: &amp;quot;2016-02-22T16:54:26.999991-08:00&amp;quot;, &amp;quot;latitude&amp;quot;: 37.40602243858215, &amp;quot;_id&amp;quot;: &amp;quot;53&amp;quot;, &amp;quot;ts&amp;quot;: 1456188866.999991, &amp;quot;longitude&amp;quot;: -122.078180546055}}, {&amp;quot;geometry&amp;quot;: {&amp;quot;type&amp;quot;: &amp;quot;Point&amp;quot;, &amp;quot;coordinates&amp;quot;: [-122.0781850722824, 37.40552399310973]}, &amp;quot;type&amp;quot;: &amp;quot;Feature&amp;quot;, &amp;quot;id&amp;quot;: &amp;quot;57bfd04ef6858fb98f6464fe&amp;quot;, &amp;quot;properties&amp;quot;: {&amp;quot;feature_type&amp;quot;: &amp;quot;location&amp;quot;, &amp;quot;fmt_time&amp;quot;: &amp;quot;2016-02-22T16:54:31.999991-08:00&amp;quot;, &amp;quot;latitude&amp;quot;: 37.40552399310973, &amp;quot;_id&amp;quot;: &amp;quot;54&amp;quot;, &amp;quot;ts&amp;quot;: 1456188871.999991, &amp;quot;longitude&amp;quot;: -122.0781850722824}}, {&amp;quot;geometry&amp;quot;: {&amp;quot;type&amp;quot;: &amp;quot;Point&amp;quot;, &amp;quot;coordinates&amp;quot;: [-122.078181384245, 37.40505569617954]}, &amp;quot;type&amp;quot;: &amp;quot;Feature&amp;quot;, &amp;quot;id&amp;quot;: &amp;quot;57bfd04ef6858fb98f6464ff&amp;quot;, &amp;quot;properties&amp;quot;: {&amp;quot;feature_type&amp;quot;: &amp;quot;location&amp;quot;, &amp;quot;fmt_time&amp;quot;: &amp;quot;2016-02-22T16:54:35.999991-08:00&amp;quot;, &amp;quot;latitude&amp;quot;: 37.40505569617954, &amp;quot;_id&amp;quot;: &amp;quot;55&amp;quot;, &amp;quot;ts&amp;quot;: 1456188875.999991, &amp;quot;longitude&amp;quot;: -122.078181384245}}, {&amp;quot;geometry&amp;quot;: {&amp;quot;type&amp;quot;: &amp;quot;Point&amp;quot;, &amp;quot;coordinates&amp;quot;: [-122.0781838149969, 37.4045590265071]}, &amp;quot;type&amp;quot;: &amp;quot;Feature&amp;quot;, &amp;quot;id&amp;quot;: &amp;quot;57bfd04ef6858fb98f646500&amp;quot;, &amp;quot;properties&amp;quot;: {&amp;quot;feature_type&amp;quot;: &amp;quot;location&amp;quot;, &amp;quot;fmt_time&amp;quot;: &amp;quot;2016-02-22T16:54:39.999991-08:00&amp;quot;, &amp;quot;latitude&amp;quot;: 37.4045590265071, &amp;quot;_id&amp;quot;: &amp;quot;56&amp;quot;, &amp;quot;ts&amp;quot;: 1456188879.999991, &amp;quot;longitude&amp;quot;: -122.0781838149969}}, {&amp;quot;geometry&amp;quot;: {&amp;quot;type&amp;quot;: &amp;quot;Point&amp;quot;, &amp;quot;coordinates&amp;quot;: [-122.0781936218236, 37.40406726024803]}, &amp;quot;type&amp;quot;: &amp;quot;Feature&amp;quot;, &amp;quot;id&amp;quot;: &amp;quot;57bfd04ef6858fb98f646501&amp;quot;, &amp;quot;properties&amp;quot;: {&amp;quot;feature_type&amp;quot;: &amp;quot;location&amp;quot;, &amp;quot;fmt_time&amp;quot;: &amp;quot;2016-02-22T16:54:43.999991-08:00&amp;quot;, &amp;quot;latitude&amp;quot;: 37.40406726024803, &amp;quot;_id&amp;quot;: &amp;quot;57&amp;quot;, &amp;quot;ts&amp;quot;: 1456188883.999991, &amp;quot;longitude&amp;quot;: -122.0781936218236}}, {&amp;quot;geometry&amp;quot;: {&amp;quot;type&amp;quot;: &amp;quot;Point&amp;quot;, &amp;quot;coordinates&amp;quot;: [-122.0781914425288, 37.40358953367677]}, &amp;quot;type&amp;quot;: &amp;quot;Feature&amp;quot;, &amp;quot;id&amp;quot;: &amp;quot;57bfd04ef6858fb98f646502&amp;quot;, &amp;quot;properties&amp;quot;: {&amp;quot;feature_type&amp;quot;: &amp;quot;location&amp;quot;, &amp;quot;fmt_time&amp;quot;: &amp;quot;2016-02-22T16:54:47.999991-08:00&amp;quot;, &amp;quot;latitude&amp;quot;: 37.40358953367677, &amp;quot;_id&amp;quot;: &amp;quot;58&amp;quot;, &amp;quot;ts&amp;quot;: 1456188887.999991, &amp;quot;longitude&amp;quot;: -122.0781914425288}}, {&amp;quot;geometry&amp;quot;: {&amp;quot;type&amp;quot;: &amp;quot;Point&amp;quot;, &amp;quot;coordinates&amp;quot;: [-122.0782088768874, 37.40313251040634]}, &amp;quot;type&amp;quot;: &amp;quot;Feature&amp;quot;, &amp;quot;id&amp;quot;: &amp;quot;57bfd04ef6858fb98f646503&amp;quot;, &amp;quot;properties&amp;quot;: {&amp;quot;feature_type&amp;quot;: &amp;quot;location&amp;quot;, &amp;quot;fmt_time&amp;quot;: &amp;quot;2016-02-22T16:54:52.999991-08:00&amp;quot;, &amp;quot;latitude&amp;quot;: 37.40313251040634, &amp;quot;_id&amp;quot;: &amp;quot;59&amp;quot;, &amp;quot;ts&amp;quot;: 1456188892.999991, &amp;quot;longitude&amp;quot;: -122.0782088768874}}, {&amp;quot;geometry&amp;quot;: {&amp;quot;type&amp;quot;: &amp;quot;Point&amp;quot;, &amp;quot;coordinates&amp;quot;: [-122.0783201885615, 37.40261819682773]}, &amp;quot;type&amp;quot;: &amp;quot;Feature&amp;quot;, &amp;quot;id&amp;quot;: &amp;quot;57bfd04ef6858fb98f646504&amp;quot;, &amp;quot;properties&amp;quot;: {&amp;quot;feature_type&amp;quot;: &amp;quot;location&amp;quot;, &amp;quot;fmt_time&amp;quot;: &amp;quot;2016-02-22T16:55:03.999990-08:00&amp;quot;, &amp;quot;latitude&amp;quot;: 37.40261819682773, &amp;quot;_id&amp;quot;: &amp;quot;60&amp;quot;, &amp;quot;ts&amp;quot;: 1456188903.99999, &amp;quot;longitude&amp;quot;: -122.0783201885615}}, {&amp;quot;geometry&amp;quot;: {&amp;quot;type&amp;quot;: &amp;quot;Point&amp;quot;, &amp;quot;coordinates&amp;quot;: [-122.0785201807712, 37.40218196067717]}, &amp;quot;type&amp;quot;: &amp;quot;Feature&amp;quot;, &amp;quot;id&amp;quot;: &amp;quot;57bfd04ef6858fb98f646505&amp;quot;, &amp;quot;properties&amp;quot;: {&amp;quot;feature_type&amp;quot;: &amp;quot;location&amp;quot;, &amp;quot;fmt_time&amp;quot;: &amp;quot;2016-02-22T16:55:09.000008-08:00&amp;quot;, &amp;quot;latitude&amp;quot;: 37.40218196067717, &amp;quot;_id&amp;quot;: &amp;quot;61&amp;quot;, &amp;quot;ts&amp;quot;: 1456188909.000008, &amp;quot;longitude&amp;quot;: -122.0785201807712}}, {&amp;quot;geometry&amp;quot;: {&amp;quot;type&amp;quot;: &amp;quot;Point&amp;quot;, &amp;quot;coordinates&amp;quot;: [-122.0788541157935, 37.40172506313529]}, &amp;quot;type&amp;quot;: &amp;quot;Feature&amp;quot;, &amp;quot;id&amp;quot;: &amp;quot;57bfd04ef6858fb98f646506&amp;quot;, &amp;quot;properties&amp;quot;: {&amp;quot;feature_type&amp;quot;: &amp;quot;location&amp;quot;, &amp;quot;fmt_time&amp;quot;: &amp;quot;2016-02-22T16:55:14.000108-08:00&amp;quot;, &amp;quot;latitude&amp;quot;: 37.40172506313529, &amp;quot;_id&amp;quot;: &amp;quot;62&amp;quot;, &amp;quot;ts&amp;quot;: 1456188914.000108, &amp;quot;longitude&amp;quot;: -122.0788541157935}}, {&amp;quot;geometry&amp;quot;: {&amp;quot;type&amp;quot;: &amp;quot;Point&amp;quot;, &amp;quot;coordinates&amp;quot;: [-122.0792980213855, 37.40132780283447]}, &amp;quot;type&amp;quot;: &amp;quot;Feature&amp;quot;, &amp;quot;id&amp;quot;: &amp;quot;57bfd04ef6858fb98f646507&amp;quot;, &amp;quot;properties&amp;quot;: {&amp;quot;feature_type&amp;quot;: &amp;quot;location&amp;quot;, &amp;quot;fmt_time&amp;quot;: &amp;quot;2016-02-22T16:55:19.000047-08:00&amp;quot;, &amp;quot;latitude&amp;quot;: 37.40132780283447, &amp;quot;_id&amp;quot;: &amp;quot;63&amp;quot;, &amp;quot;ts&amp;quot;: 1456188919.000047, &amp;quot;longitude&amp;quot;: -122.0792980213855}}, {&amp;quot;geometry&amp;quot;: {&amp;quot;type&amp;quot;: &amp;quot;Point&amp;quot;, &amp;quot;coordinates&amp;quot;: [-122.0798218065147, 37.40098716228958]}, &amp;quot;type&amp;quot;: &amp;quot;Feature&amp;quot;, &amp;quot;id&amp;quot;: &amp;quot;57bfd04ef6858fb98f646508&amp;quot;, &amp;quot;properties&amp;quot;: {&amp;quot;feature_type&amp;quot;: &amp;quot;location&amp;quot;, &amp;quot;fmt_time&amp;quot;: &amp;quot;2016-02-22T16:55:24.000047-08:00&amp;quot;, &amp;quot;latitude&amp;quot;: 37.40098716228958, &amp;quot;_id&amp;quot;: &amp;quot;64&amp;quot;, &amp;quot;ts&amp;quot;: 1456188924.000047, &amp;quot;longitude&amp;quot;: -122.0798218065147}}, {&amp;quot;geometry&amp;quot;: {&amp;quot;type&amp;quot;: &amp;quot;Point&amp;quot;, &amp;quot;coordinates&amp;quot;: [-122.0802440867965, 37.40067258946355]}, &amp;quot;type&amp;quot;: &amp;quot;Feature&amp;quot;, &amp;quot;id&amp;quot;: &amp;quot;57bfd04ef6858fb98f646509&amp;quot;, &amp;quot;properties&amp;quot;: {&amp;quot;feature_type&amp;quot;: &amp;quot;location&amp;quot;, &amp;quot;fmt_time&amp;quot;: &amp;quot;2016-02-22T16:55:28.000047-08:00&amp;quot;, &amp;quot;latitude&amp;quot;: 37.40067258946355, &amp;quot;_id&amp;quot;: &amp;quot;65&amp;quot;, &amp;quot;ts&amp;quot;: 1456188928.000047, &amp;quot;longitude&amp;quot;: -122.0802440867965}}, {&amp;quot;geometry&amp;quot;: {&amp;quot;type&amp;quot;: &amp;quot;Point&amp;quot;, &amp;quot;coordinates&amp;quot;: [-122.080628564695, 37.40025709852334]}, &amp;quot;type&amp;quot;: &amp;quot;Feature&amp;quot;, &amp;quot;id&amp;quot;: &amp;quot;57bfd04ef6858fb98f64650a&amp;quot;, &amp;quot;properties&amp;quot;: {&amp;quot;feature_type&amp;quot;: &amp;quot;location&amp;quot;, &amp;quot;fmt_time&amp;quot;: &amp;quot;2016-02-22T16:55:33.000048-08:00&amp;quot;, &amp;quot;latitude&amp;quot;: 37.40025709852334, &amp;quot;_id&amp;quot;: &amp;quot;66&amp;quot;, &amp;quot;ts&amp;quot;: 1456188933.000048, &amp;quot;longitude&amp;quot;: -122.080628564695}}, {&amp;quot;geometry&amp;quot;: {&amp;quot;type&amp;quot;: &amp;quot;Point&amp;quot;, &amp;quot;coordinates&amp;quot;: [-122.0809328277801, 37.39978595174607]}, &amp;quot;type&amp;quot;: &amp;quot;Feature&amp;quot;, &amp;quot;id&amp;quot;: &amp;quot;57bfd04ef6858fb98f64650b&amp;quot;, &amp;quot;properties&amp;quot;: {&amp;quot;feature_type&amp;quot;: &amp;quot;location&amp;quot;, &amp;quot;fmt_time&amp;quot;: &amp;quot;2016-02-22T16:55:38.000047-08:00&amp;quot;, &amp;quot;latitude&amp;quot;: 37.39978595174607, &amp;quot;_id&amp;quot;: &amp;quot;67&amp;quot;, &amp;quot;ts&amp;quot;: 1456188938.000047, &amp;quot;longitude&amp;quot;: -122.0809328277801}}, {&amp;quot;geometry&amp;quot;: {&amp;quot;type&amp;quot;: &amp;quot;Point&amp;quot;, &amp;quot;coordinates&amp;quot;: [-122.0811443031971, 37.39936300091203]}, &amp;quot;type&amp;quot;: &amp;quot;Feature&amp;quot;, &amp;quot;id&amp;quot;: &amp;quot;57bfd04ef6858fb98f64650c&amp;quot;, &amp;quot;properties&amp;quot;: {&amp;quot;feature_type&amp;quot;: &amp;quot;location&amp;quot;, &amp;quot;fmt_time&amp;quot;: &amp;quot;2016-02-22T16:55:42.000047-08:00&amp;quot;, &amp;quot;latitude&amp;quot;: 37.39936300091203, &amp;quot;_id&amp;quot;: &amp;quot;68&amp;quot;, &amp;quot;ts&amp;quot;: 1456188942.000047, &amp;quot;longitude&amp;quot;: -122.0811443031971}}, {&amp;quot;geometry&amp;quot;: {&amp;quot;type&amp;quot;: &amp;quot;Point&amp;quot;, &amp;quot;coordinates&amp;quot;: [-122.0813171380405, 37.39892877641823]}, &amp;quot;type&amp;quot;: &amp;quot;Feature&amp;quot;, &amp;quot;id&amp;quot;: &amp;quot;57bfd04ef6858fb98f64650d&amp;quot;, &amp;quot;properties&amp;quot;: {&amp;quot;feature_type&amp;quot;: &amp;quot;location&amp;quot;, &amp;quot;fmt_time&amp;quot;: &amp;quot;2016-02-22T16:55:46.000047-08:00&amp;quot;, &amp;quot;latitude&amp;quot;: 37.39892877641823, &amp;quot;_id&amp;quot;: &amp;quot;69&amp;quot;, &amp;quot;ts&amp;quot;: 1456188946.000047, &amp;quot;longitude&amp;quot;: -122.0813171380405}}, {&amp;quot;geometry&amp;quot;: {&amp;quot;type&amp;quot;: &amp;quot;Point&amp;quot;, &amp;quot;coordinates&amp;quot;: [-122.0814820938949, 37.39839677702393]}, &amp;quot;type&amp;quot;: &amp;quot;Feature&amp;quot;, &amp;quot;id&amp;quot;: &amp;quot;57bfd04ef6858fb98f64650e&amp;quot;, &amp;quot;properties&amp;quot;: {&amp;quot;feature_type&amp;quot;: &amp;quot;location&amp;quot;, &amp;quot;fmt_time&amp;quot;: &amp;quot;2016-02-22T16:55:51.000048-08:00&amp;quot;, &amp;quot;latitude&amp;quot;: 37.39839677702393, &amp;quot;_id&amp;quot;: &amp;quot;70&amp;quot;, &amp;quot;ts&amp;quot;: 1456188951.000048, &amp;quot;longitude&amp;quot;: -122.0814820938949}}, {&amp;quot;geometry&amp;quot;: {&amp;quot;type&amp;quot;: &amp;quot;Point&amp;quot;, &amp;quot;coordinates&amp;quot;: [-122.0816733689253, 37.39787005822863]}, &amp;quot;type&amp;quot;: &amp;quot;Feature&amp;quot;, &amp;quot;id&amp;quot;: &amp;quot;57bfd04ef6858fb98f64650f&amp;quot;, &amp;quot;properties&amp;quot;: {&amp;quot;feature_type&amp;quot;: &amp;quot;location&amp;quot;, &amp;quot;fmt_time&amp;quot;: &amp;quot;2016-02-22T16:55:56.000047-08:00&amp;quot;, &amp;quot;latitude&amp;quot;: 37.39787005822863, &amp;quot;_id&amp;quot;: &amp;quot;71&amp;quot;, &amp;quot;ts&amp;quot;: 1456188956.000047, &amp;quot;longitude&amp;quot;: -122.0816733689253}}, {&amp;quot;geometry&amp;quot;: {&amp;quot;type&amp;quot;: &amp;quot;Point&amp;quot;, &amp;quot;coordinates&amp;quot;: [-122.0819433500264, 37.39735838494953]}, &amp;quot;type&amp;quot;: &amp;quot;Feature&amp;quot;, &amp;quot;id&amp;quot;: &amp;quot;57bfd04ef6858fb98f646510&amp;quot;, &amp;quot;properties&amp;quot;: {&amp;quot;feature_type&amp;quot;: &amp;quot;location&amp;quot;, &amp;quot;fmt_time&amp;quot;: &amp;quot;2016-02-22T16:56:01.000047-08:00&amp;quot;, &amp;quot;latitude&amp;quot;: 37.39735838494953, &amp;quot;_id&amp;quot;: &amp;quot;72&amp;quot;, &amp;quot;ts&amp;quot;: 1456188961.000047, &amp;quot;longitude&amp;quot;: -122.0819433500264}}, {&amp;quot;geometry&amp;quot;: {&amp;quot;type&amp;quot;: &amp;quot;Point&amp;quot;, &amp;quot;coordinates&amp;quot;: [-122.0822235570495, 37.39694804887976]}, &amp;quot;type&amp;quot;: &amp;quot;Feature&amp;quot;, &amp;quot;id&amp;quot;: &amp;quot;57bfd04ef6858fb98f646511&amp;quot;, &amp;quot;properties&amp;quot;: {&amp;quot;feature_type&amp;quot;: &amp;quot;location&amp;quot;, &amp;quot;fmt_time&amp;quot;: &amp;quot;2016-02-22T16:56:05.000047-08:00&amp;quot;, &amp;quot;latitude&amp;quot;: 37.39694804887976, &amp;quot;_id&amp;quot;: &amp;quot;73&amp;quot;, &amp;quot;ts&amp;quot;: 1456188965.000047, &amp;quot;longitude&amp;quot;: -122.0822235570495}}, {&amp;quot;geometry&amp;quot;: {&amp;quot;type&amp;quot;: &amp;quot;Point&amp;quot;, &amp;quot;coordinates&amp;quot;: [-122.0825786144678, 37.39652396648879]}, &amp;quot;type&amp;quot;: &amp;quot;Feature&amp;quot;, &amp;quot;id&amp;quot;: &amp;quot;57bfd04ef6858fb98f646512&amp;quot;, &amp;quot;properties&amp;quot;: {&amp;quot;feature_type&amp;quot;: &amp;quot;location&amp;quot;, &amp;quot;fmt_time&amp;quot;: &amp;quot;2016-02-22T16:56:09.000047-08:00&amp;quot;, &amp;quot;latitude&amp;quot;: 37.39652396648879, &amp;quot;_id&amp;quot;: &amp;quot;74&amp;quot;, &amp;quot;ts&amp;quot;: 1456188969.000047, &amp;quot;longitude&amp;quot;: -122.0825786144678}}, {&amp;quot;geometry&amp;quot;: {&amp;quot;type&amp;quot;: &amp;quot;Point&amp;quot;, &amp;quot;coordinates&amp;quot;: [-122.0829841309433, 37.39609041254725]}, &amp;quot;type&amp;quot;: &amp;quot;Feature&amp;quot;, &amp;quot;id&amp;quot;: &amp;quot;57bfd04ef6858fb98f646513&amp;quot;, &amp;quot;properties&amp;quot;: {&amp;quot;feature_type&amp;quot;: &amp;quot;location&amp;quot;, &amp;quot;fmt_time&amp;quot;: &amp;quot;2016-02-22T16:56:13.000047-08:00&amp;quot;, &amp;quot;latitude&amp;quot;: 37.39609041254725, &amp;quot;_id&amp;quot;: &amp;quot;75&amp;quot;, &amp;quot;ts&amp;quot;: 1456188973.000047, &amp;quot;longitude&amp;quot;: -122.0829841309433}}, {&amp;quot;geometry&amp;quot;: {&amp;quot;type&amp;quot;: &amp;quot;Point&amp;quot;, &amp;quot;coordinates&amp;quot;: [-122.0833483246361, 37.39564809951688]}, &amp;quot;type&amp;quot;: &amp;quot;Feature&amp;quot;, &amp;quot;id&amp;quot;: &amp;quot;57bfd04ef6858fb98f646514&amp;quot;, &amp;quot;properties&amp;quot;: {&amp;quot;feature_type&amp;quot;: &amp;quot;location&amp;quot;, &amp;quot;fmt_time&amp;quot;: &amp;quot;2016-02-22T16:56:17.000047-08:00&amp;quot;, &amp;quot;latitude&amp;quot;: 37.39564809951688, &amp;quot;_id&amp;quot;: &amp;quot;76&amp;quot;, &amp;quot;ts&amp;quot;: 1456188977.000047, &amp;quot;longitude&amp;quot;: -122.0833483246361}}, {&amp;quot;geometry&amp;quot;: {&amp;quot;type&amp;quot;: &amp;quot;Point&amp;quot;, &amp;quot;coordinates&amp;quot;: [-122.0836639871095, 37.39519677594061]}, &amp;quot;type&amp;quot;: &amp;quot;Feature&amp;quot;, &amp;quot;id&amp;quot;: &amp;quot;57bfd04ef6858fb98f646515&amp;quot;, &amp;quot;properties&amp;quot;: {&amp;quot;feature_type&amp;quot;: &amp;quot;location&amp;quot;, &amp;quot;fmt_time&amp;quot;: &amp;quot;2016-02-22T16:56:21.000047-08:00&amp;quot;, &amp;quot;latitude&amp;quot;: 37.39519677594061, &amp;quot;_id&amp;quot;: &amp;quot;77&amp;quot;, &amp;quot;ts&amp;quot;: 1456188981.000047, &amp;quot;longitude&amp;quot;: -122.0836639871095}}, {&amp;quot;geometry&amp;quot;: {&amp;quot;type&amp;quot;: &amp;quot;Point&amp;quot;, &amp;quot;coordinates&amp;quot;: [-122.0839524083976, 37.39477227445449]}, &amp;quot;type&amp;quot;: &amp;quot;Feature&amp;quot;, &amp;quot;id&amp;quot;: &amp;quot;57bfd04ef6858fb98f646516&amp;quot;, &amp;quot;properties&amp;quot;: {&amp;quot;feature_type&amp;quot;: &amp;quot;location&amp;quot;, &amp;quot;fmt_time&amp;quot;: &amp;quot;2016-02-22T16:56:25.000047-08:00&amp;quot;, &amp;quot;latitude&amp;quot;: 37.39477227445449, &amp;quot;_id&amp;quot;: &amp;quot;78&amp;quot;, &amp;quot;ts&amp;quot;: 1456188985.000047, &amp;quot;longitude&amp;quot;: -122.0839524083976}}, {&amp;quot;geometry&amp;quot;: {&amp;quot;type&amp;quot;: &amp;quot;Point&amp;quot;, &amp;quot;coordinates&amp;quot;: [-122.0842253231649, 37.39435259256269]}, &amp;quot;type&amp;quot;: &amp;quot;Feature&amp;quot;, &amp;quot;id&amp;quot;: &amp;quot;57bfd04ef6858fb98f646517&amp;quot;, &amp;quot;properties&amp;quot;: {&amp;quot;feature_type&amp;quot;: &amp;quot;location&amp;quot;, &amp;quot;fmt_time&amp;quot;: &amp;quot;2016-02-22T16:56:29.000048-08:00&amp;quot;, &amp;quot;latitude&amp;quot;: 37.39435259256269, &amp;quot;_id&amp;quot;: &amp;quot;79&amp;quot;, &amp;quot;ts&amp;quot;: 1456188989.000048, &amp;quot;longitude&amp;quot;: -122.0842253231649}}, {&amp;quot;geometry&amp;quot;: {&amp;quot;type&amp;quot;: &amp;quot;Point&amp;quot;, &amp;quot;coordinates&amp;quot;: [-122.0844813064878, 37.39393312021847]}, &amp;quot;type&amp;quot;: &amp;quot;Feature&amp;quot;, &amp;quot;id&amp;quot;: &amp;quot;57bfd04ef6858fb98f646518&amp;quot;, &amp;quot;properties&amp;quot;: {&amp;quot;feature_type&amp;quot;: &amp;quot;location&amp;quot;, &amp;quot;fmt_time&amp;quot;: &amp;quot;2016-02-22T16:56:33.000046-08:00&amp;quot;, &amp;quot;latitude&amp;quot;: 37.39393312021847, &amp;quot;_id&amp;quot;: &amp;quot;80&amp;quot;, &amp;quot;ts&amp;quot;: 1456188993.000046, &amp;quot;longitude&amp;quot;: -122.0844813064878}}, {&amp;quot;geometry&amp;quot;: {&amp;quot;type&amp;quot;: &amp;quot;Point&amp;quot;, &amp;quot;coordinates&amp;quot;: [-122.0847519581412, 37.39350203893836]}, &amp;quot;type&amp;quot;: &amp;quot;Feature&amp;quot;, &amp;quot;id&amp;quot;: &amp;quot;57bfd04ef6858fb98f646519&amp;quot;, &amp;quot;properties&amp;quot;: {&amp;quot;feature_type&amp;quot;: &amp;quot;location&amp;quot;, &amp;quot;fmt_time&amp;quot;: &amp;quot;2016-02-22T16:56:37.000047-08:00&amp;quot;, &amp;quot;latitude&amp;quot;: 37.39350203893836, &amp;quot;_id&amp;quot;: &amp;quot;81&amp;quot;, &amp;quot;ts&amp;quot;: 1456188997.000047, &amp;quot;longitude&amp;quot;: -122.0847519581412}}, {&amp;quot;geometry&amp;quot;: {&amp;quot;type&amp;quot;: &amp;quot;Point&amp;quot;, &amp;quot;coordinates&amp;quot;: [-122.0850549639408, 37.39302561156209]}, &amp;quot;type&amp;quot;: &amp;quot;Feature&amp;quot;, &amp;quot;id&amp;quot;: &amp;quot;57bfd04ef6858fb98f64651a&amp;quot;, &amp;quot;properties&amp;quot;: {&amp;quot;feature_type&amp;quot;: &amp;quot;location&amp;quot;, &amp;quot;fmt_time&amp;quot;: &amp;quot;2016-02-22T16:56:41.000047-08:00&amp;quot;, &amp;quot;latitude&amp;quot;: 37.39302561156209, &amp;quot;_id&amp;quot;: &amp;quot;82&amp;quot;, &amp;quot;ts&amp;quot;: 1456189001.000047, &amp;quot;longitude&amp;quot;: -122.0850549639408}}, {&amp;quot;geometry&amp;quot;: {&amp;quot;type&amp;quot;: &amp;quot;Point&amp;quot;, &amp;quot;coordinates&amp;quot;: [-122.0853583050166, 37.39253807816412]}, &amp;quot;type&amp;quot;: &amp;quot;Feature&amp;quot;, &amp;quot;id&amp;quot;: &amp;quot;57bfd04ef6858fb98f64651b&amp;quot;, &amp;quot;properties&amp;quot;: {&amp;quot;feature_type&amp;quot;: &amp;quot;location&amp;quot;, &amp;quot;fmt_time&amp;quot;: &amp;quot;2016-02-22T16:56:45.000047-08:00&amp;quot;, &amp;quot;latitude&amp;quot;: 37.39253807816412, &amp;quot;_id&amp;quot;: &amp;quot;83&amp;quot;, &amp;quot;ts&amp;quot;: 1456189005.000047, &amp;quot;longitude&amp;quot;: -122.0853583050166}}, {&amp;quot;geometry&amp;quot;: {&amp;quot;type&amp;quot;: &amp;quot;Point&amp;quot;, &amp;quot;coordinates&amp;quot;: [-122.085636919478, 37.3920813482603]}, &amp;quot;type&amp;quot;: &amp;quot;Feature&amp;quot;, &amp;quot;id&amp;quot;: &amp;quot;57bfd04ef6858fb98f64651c&amp;quot;, &amp;quot;properties&amp;quot;: {&amp;quot;feature_type&amp;quot;: &amp;quot;location&amp;quot;, &amp;quot;fmt_time&amp;quot;: &amp;quot;2016-02-22T16:56:49.000047-08:00&amp;quot;, &amp;quot;latitude&amp;quot;: 37.3920813482603, &amp;quot;_id&amp;quot;: &amp;quot;84&amp;quot;, &amp;quot;ts&amp;quot;: 1456189009.000047, &amp;quot;longitude&amp;quot;: -122.085636919478}}, {&amp;quot;geometry&amp;quot;: {&amp;quot;type&amp;quot;: &amp;quot;Point&amp;quot;, &amp;quot;coordinates&amp;quot;: [-122.0859086607789, 37.39164138216282]}, &amp;quot;type&amp;quot;: &amp;quot;Feature&amp;quot;, &amp;quot;id&amp;quot;: &amp;quot;57bfd04ef6858fb98f64651d&amp;quot;, &amp;quot;properties&amp;quot;: {&amp;quot;feature_type&amp;quot;: &amp;quot;location&amp;quot;, &amp;quot;fmt_time&amp;quot;: &amp;quot;2016-02-22T16:56:53.000047-08:00&amp;quot;, &amp;quot;latitude&amp;quot;: 37.39164138216282, &amp;quot;_id&amp;quot;: &amp;quot;85&amp;quot;, &amp;quot;ts&amp;quot;: 1456189013.000047, &amp;quot;longitude&amp;quot;: -122.0859086607789}}, {&amp;quot;geometry&amp;quot;: {&amp;quot;type&amp;quot;: &amp;quot;Point&amp;quot;, &amp;quot;coordinates&amp;quot;: [-122.0861964953338, 37.39118427507336]}, &amp;quot;type&amp;quot;: &amp;quot;Feature&amp;quot;, &amp;quot;id&amp;quot;: &amp;quot;57bfd04ef6858fb98f64651e&amp;quot;, &amp;quot;properties&amp;quot;: {&amp;quot;feature_type&amp;quot;: &amp;quot;location&amp;quot;, &amp;quot;fmt_time&amp;quot;: &amp;quot;2016-02-22T16:56:58.000047-08:00&amp;quot;, &amp;quot;latitude&amp;quot;: 37.39118427507336, &amp;quot;_id&amp;quot;: &amp;quot;86&amp;quot;, &amp;quot;ts&amp;quot;: 1456189018.000047, &amp;quot;longitude&amp;quot;: -122.0861964953338}}]}, {&amp;quot;geometry&amp;quot;: {&amp;quot;type&amp;quot;: &amp;quot;LineString&amp;quot;, &amp;quot;coordinates&amp;quot;: [[-122.1075074003284, 37.41650822575895], [-122.1070484911297, 37.41621473341939], [-122.1066033282523, 37.41650189742205], [-122.1063717362677, 37.41696001033989], [-122.1060636175071, 37.4173596175736], [-122.1054515340198, 37.41726878163758], [-122.1049524167388, 37.41704805969636], [-122.1044734835071, 37.41678566689843], [-122.103953793769, 37.41651122233026], [-122.1034641385157, 37.41625331803652], [-122.1029171348755, 37.41595594215897], [-122.1023429487393, 37.41564682898819], [-122.1018334003809, 37.41537947357257], [-122.1012960989245, 37.41508507442239], [-122.1007938311641, 37.41471558812765], [-122.1004092079527, 37.41435110899924], [-122.1000182536636, 37.41390824321417], [-122.0996031818186, 37.41345025602487], [-122.0991632995402, 37.41299113727865], [-122.0986653306727, 37.41256986282525], [-122.0981094428544, 37.41222691725698], [-122.0974973124658, 37.41196368358788], [-122.0968432725613, 37.4117866577929], [-122.0961552021299, 37.41168217736986], [-122.0954645333086, 37.41165803748873], [-122.0947861858849, 37.41165233779457], [-122.0940870513414, 37.41164206996319], [-122.0933687222396, 37.41162417459991], [-122.0926596970503, 37.41154639053848], [-122.0919633285348, 37.41137108303365], [-122.0914434829001, 37.41118735171613], [-122.0909282473122, 37.4109816598123], [-122.0902544261162, 37.41071968342867], [-122.0897061658298, 37.4105120217776], [-122.0891804528628, 37.41029828324672], [-122.0886508004014, 37.4100957764661], [-122.0880018734579, 37.40985848478731], [-122.0873749071007, 37.40969340320435], [-122.0867572446559, 37.40959596357998], [-122.0860982594286, 37.40953397940603], [-122.0854335745071, 37.40942727777865], [-122.0847636928056, 37.4092659261426], [-122.0841108263676, 37.40903668109086], [-122.0834846982007, 37.40874117709455], [-122.0829081909005, 37.40845342635867], [-122.0823795442675, 37.40819409027454], [-122.0818730258588, 37.40795051216838], [-122.0813041460906, 37.4076807406148], [-122.080824198315, 37.40742639176306], [-122.0802755189334, 37.40717506039646], [-122.0797374007498, 37.40691471848395], [-122.0792330616359, 37.40666506349799], [-122.0786530350756, 37.40636984640106], [-122.078180546055, 37.40602243858215], [-122.0781850722824, 37.40552399310973], [-122.078181384245, 37.40505569617954], [-122.0781838149969, 37.4045590265071], [-122.0781936218236, 37.40406726024803], [-122.0781914425288, 37.40358953367677], [-122.0782088768874, 37.40313251040634], [-122.0783201885615, 37.40261819682773], [-122.0785201807712, 37.40218196067717], [-122.0788541157935, 37.40172506313529], [-122.0792980213855, 37.40132780283447], [-122.0798218065147, 37.40098716228958], [-122.0802440867965, 37.40067258946355], [-122.080628564695, 37.40025709852334], [-122.0809328277801, 37.39978595174607], [-122.0811443031971, 37.39936300091203], [-122.0813171380405, 37.39892877641823], [-122.0814820938949, 37.39839677702393], [-122.0816733689253, 37.39787005822863], [-122.0819433500264, 37.39735838494953], [-122.0822235570495, 37.39694804887976], [-122.0825786144678, 37.39652396648879], [-122.0829841309433, 37.39609041254725], [-122.0833483246361, 37.39564809951688], [-122.0836639871095, 37.39519677594061], [-122.0839524083976, 37.39477227445449], [-122.0842253231649, 37.39435259256269], [-122.0844813064878, 37.39393312021847], [-122.0847519581412, 37.39350203893836], [-122.0850549639408, 37.39302561156209], [-122.0853583050166, 37.39253807816412], [-122.085636919478, 37.3920813482603], [-122.0859086607789, 37.39164138216282], [-122.0861964953338, 37.39118427507336]]}, &amp;quot;type&amp;quot;: &amp;quot;Feature&amp;quot;, &amp;quot;id&amp;quot;: null, &amp;quot;properties&amp;quot;: {}}]}, \n",
       "        {style: style_feature,\n",
       "         onEachFeature: onEachFeature,\n",
       "         pointToLayer: pointFormat}).addTo(map)\n",
       "\n",
       "    var autobounds_0 = L.featureGroup([gjson_layer_0]).getBounds()\n",
       "    map.fitBounds(autobounds_0, {&amp;quot;padding&amp;quot;: [5, 5]});\n",
       "    \n",
       "\n",
       "            \n",
       "        \n",
       "    \n",
       "\n",
       "   &lt;/script&gt;\n",
       "\n",
       "&lt;/body&gt;&quot; style=&quot;width: 100%; height: 510px; border: none&quot;&gt;&lt;/iframe&gt;</td></tr>\n",
       "</table>\" style=\"width: 100%; height: 510px; border: none\"></iframe>"
      ],
      "text/plain": [
       "<IPython.core.display.HTML object>"
      ]
     },
     "execution_count": 84,
     "metadata": {},
     "output_type": "execute_result"
    }
   ],
   "source": [
    "ipy.inline_maps([lo.get_maps_for_geojson_unsectioned([gfc.get_feature_list_from_df(loc_entry_df)])])"
   ]
  },
  {
   "cell_type": "code",
   "execution_count": 85,
   "metadata": {
    "collapsed": false
   },
   "outputs": [],
   "source": [
    "with_speeds_df = eaicl.add_dist_heading_speed(loc_entry_df)"
   ]
  },
  {
   "cell_type": "code",
   "execution_count": 86,
   "metadata": {
    "collapsed": false
   },
   "outputs": [
    {
     "data": {
      "text/plain": [
       "(0     0.000000\n",
       " 1     3.716771\n",
       " 2     3.376557\n",
       " 3     6.099175\n",
       " 4     5.789376\n",
       " 5     3.234787\n",
       " 6    10.090307\n",
       " 7     7.340571\n",
       " 8     1.530999\n",
       " 9    10.377795\n",
       " 10   14.635526\n",
       " 11   12.252217\n",
       " 12   10.786900\n",
       " 13   11.529778\n",
       " 14   12.092465\n",
       " 15   13.220330\n",
       " 16   15.035835\n",
       " 17   15.686972\n",
       " 18   16.038245\n",
       " 19   16.063559\n",
       " 20   15.541513\n",
       " 21   15.369687\n",
       " 22   15.256784\n",
       " 23   15.467901\n",
       " 24   15.264925\n",
       " 25   14.978938\n",
       " 26   15.439729\n",
       " 27   15.868718\n",
       " 28   15.804112\n",
       " 29   16.129860\n",
       "         ...   \n",
       " 57   13.672193\n",
       " 58   13.280280\n",
       " 59   10.168399\n",
       " 60    5.275285\n",
       " 61   10.324750\n",
       " 62   11.749164\n",
       " 63   11.813405\n",
       " 64   11.958951\n",
       " 65   12.784115\n",
       " 66   11.468115\n",
       " 67   11.776243\n",
       " 68   12.651063\n",
       " 69   12.659975\n",
       " 70   12.184777\n",
       " 71   12.191412\n",
       " 72   12.338385\n",
       " 73   12.977288\n",
       " 74   14.158596\n",
       " 75   15.015400\n",
       " 76   14.692795\n",
       " 77   14.352996\n",
       " 78   13.410037\n",
       " 79   13.131630\n",
       " 80   12.959032\n",
       " 81   13.391600\n",
       " 82   14.838791\n",
       " 83   15.118285\n",
       " 84   14.109099\n",
       " 85   13.623716\n",
       " 86   11.366803\n",
       " Name: speed, dtype: float64, 0     3.730000\n",
       " 1     2.670000\n",
       " 2     3.970000\n",
       " 3     7.210000\n",
       " 4     2.350000\n",
       " 5     9.550000\n",
       " 6     9.360000\n",
       " 7     5.200000\n",
       " 8     9.810000\n",
       " 9    12.740000\n",
       " 10   12.410000\n",
       " 11   11.930000\n",
       " 12   10.570000\n",
       " 13   12.210000\n",
       " 14   12.810000\n",
       " 15   14.230000\n",
       " 16   15.680000\n",
       " 17   15.900000\n",
       " 18   16.180000\n",
       " 19   15.770000\n",
       " 20   15.390000\n",
       " 21   15.480000\n",
       " 22   14.940000\n",
       " 23   15.590000\n",
       " 24   15.320000\n",
       " 25   15.080000\n",
       " 26   15.660000\n",
       " 27   16.000000\n",
       " 28   16.040001\n",
       " 29   16.209999\n",
       "         ...   \n",
       " 57   13.420000\n",
       " 58   11.890000\n",
       " 59    8.220000\n",
       " 60    8.540000\n",
       " 61   11.130000\n",
       " 62   11.730000\n",
       " 63   12.030000\n",
       " 64   12.040000\n",
       " 65   12.330000\n",
       " 66   11.240000\n",
       " 67   11.920000\n",
       " 68   12.710000\n",
       " 69   12.410000\n",
       " 70   12.230000\n",
       " 71   12.220000\n",
       " 72   12.460000\n",
       " 73   13.200000\n",
       " 74   15.030000\n",
       " 75   15.040000\n",
       " 76   14.450000\n",
       " 77   13.710000\n",
       " 78   13.160000\n",
       " 79   13.040000\n",
       " 80   12.800000\n",
       " 81   13.200000\n",
       " 82   15.480000\n",
       " 83   14.590000\n",
       " 84   13.890000\n",
       " 85   13.260000\n",
       " 86    9.090000\n",
       " Name: sensed_speed, dtype: float64)"
      ]
     },
     "execution_count": 86,
     "metadata": {},
     "output_type": "execute_result"
    }
   ],
   "source": [
    "with_speeds_df.speed, with_speeds_df.sensed_speed"
   ]
  },
  {
   "cell_type": "code",
   "execution_count": 87,
   "metadata": {
    "collapsed": true
   },
   "outputs": [],
   "source": [
    "with_speeds_df_nona = with_speeds_df.dropna()"
   ]
  },
  {
   "cell_type": "code",
   "execution_count": 88,
   "metadata": {
    "collapsed": false
   },
   "outputs": [
    {
     "data": {
      "text/plain": [
       "0     0.000000\n",
       "1     3.716771\n",
       "2     3.376557\n",
       "3     6.099175\n",
       "4     5.789376\n",
       "5     3.234787\n",
       "6    10.090307\n",
       "7     7.340571\n",
       "8     1.530999\n",
       "9    10.377795\n",
       "10   14.635526\n",
       "11   12.252217\n",
       "12   10.786900\n",
       "13   11.529778\n",
       "14   12.092465\n",
       "15   13.220330\n",
       "16   15.035835\n",
       "17   15.686972\n",
       "18   16.038245\n",
       "19   16.063559\n",
       "20   15.541513\n",
       "21   15.369687\n",
       "22   15.256784\n",
       "23   15.467901\n",
       "24   15.264925\n",
       "25   14.978938\n",
       "26   15.439729\n",
       "27   15.868718\n",
       "28   15.804112\n",
       "29   16.129860\n",
       "        ...   \n",
       "57   13.672193\n",
       "58   13.280280\n",
       "59   10.168399\n",
       "60    5.275285\n",
       "61   10.324750\n",
       "62   11.749164\n",
       "63   11.813405\n",
       "64   11.958951\n",
       "65   12.784115\n",
       "66   11.468115\n",
       "67   11.776243\n",
       "68   12.651063\n",
       "69   12.659975\n",
       "70   12.184777\n",
       "71   12.191412\n",
       "72   12.338385\n",
       "73   12.977288\n",
       "74   14.158596\n",
       "75   15.015400\n",
       "76   14.692795\n",
       "77   14.352996\n",
       "78   13.410037\n",
       "79   13.131630\n",
       "80   12.959032\n",
       "81   13.391600\n",
       "82   14.838791\n",
       "83   15.118285\n",
       "84   14.109099\n",
       "85   13.623716\n",
       "86   11.366803\n",
       "Name: speed, dtype: float64"
      ]
     },
     "execution_count": 88,
     "metadata": {},
     "output_type": "execute_result"
    }
   ],
   "source": [
    "with_speeds_df.speed"
   ]
  },
  {
   "cell_type": "code",
   "execution_count": 89,
   "metadata": {
    "collapsed": false
   },
   "outputs": [
    {
     "data": {
      "text/plain": [
       "13.410037358528445"
      ]
     },
     "execution_count": 89,
     "metadata": {},
     "output_type": "execute_result"
    }
   ],
   "source": [
    "with_speeds_df.speed.median()"
   ]
  },
  {
   "cell_type": "code",
   "execution_count": 90,
   "metadata": {
    "collapsed": true
   },
   "outputs": [],
   "source": [
    "start_place = ts.get_entry_from_id(esda.RAW_PLACE_KEY, trip.start_place)"
   ]
  },
  {
   "cell_type": "code",
   "execution_count": 91,
   "metadata": {
    "collapsed": false
   },
   "outputs": [
    {
     "data": {
      "text/plain": [
       "([[-122.1075074003284, 37.41650822575895]],\n",
       " [-122.1080831532572, 37.41654267538098])"
      ]
     },
     "execution_count": 91,
     "metadata": {},
     "output_type": "execute_result"
    }
   ],
   "source": [
    "[loc_entry_list[0].data.loc.coordinates], start_place.data.location.coordinates"
   ]
  },
  {
   "cell_type": "code",
   "execution_count": 92,
   "metadata": {
    "collapsed": false
   },
   "outputs": [
    {
     "name": "stdout",
     "output_type": "stream",
     "text": [
      "50.9919317646\n"
     ]
    }
   ],
   "source": [
    "add_dist = ecc.calDistance(loc_entry_list[0].data.loc.coordinates, start_place.data.location.coordinates)\n",
    "print add_dist"
   ]
  },
  {
   "cell_type": "markdown",
   "metadata": {},
   "source": [
    "speed ($s$) is in m/s. dist ($d$) is in meters.\n",
    "so what we really need is\n",
    "\n",
    "| Distance (m) | Time (s) | \n",
    "| --- | ---- |\n",
    "| $s$ m | 1 sec |\n",
    "| $d$ m | ? secs = $\\frac{d}{s}$ |"
   ]
  },
  {
   "cell_type": "code",
   "execution_count": 93,
   "metadata": {
    "collapsed": false
   },
   "outputs": [
    {
     "data": {
      "text/plain": [
       "3.8025197396038335"
      ]
     },
     "execution_count": 93,
     "metadata": {},
     "output_type": "execute_result"
    }
   ],
   "source": [
    "add_time = add_dist / with_speeds_df.speed.median()\n",
    "add_time"
   ]
  },
  {
   "cell_type": "code",
   "execution_count": 94,
   "metadata": {
    "collapsed": false
   },
   "outputs": [
    {
     "data": {
      "text/plain": [
       "(7.450000949700674, 7.5133762786940705)"
      ]
     },
     "execution_count": 94,
     "metadata": {},
     "output_type": "execute_result"
    }
   ],
   "source": [
    "section_entry.data.duration/60, (section_entry.data.duration  + add_time) / 60"
   ]
  },
  {
   "cell_type": "code",
   "execution_count": 95,
   "metadata": {
    "collapsed": false
   },
   "outputs": [
    {
     "data": {
      "text/plain": [
       "(4903.3230143310193, 4954.3149460956483)"
      ]
     },
     "execution_count": 95,
     "metadata": {},
     "output_type": "execute_result"
    }
   ],
   "source": [
    "with_speeds_df_nona.distance.sum(), with_speeds_df_nona.distance.sum() + add_dist"
   ]
  },
  {
   "cell_type": "code",
   "execution_count": 96,
   "metadata": {
    "collapsed": false
   },
   "outputs": [
    {
     "data": {
      "text/plain": [
       "<Arrow [2016-02-22T16:49:27.197470-08:00]>"
      ]
     },
     "execution_count": 96,
     "metadata": {},
     "output_type": "execute_result"
    }
   ],
   "source": [
    "arrow.get(start_place.data.exit_ts - add_time).to(\"America/Los_Angeles\")"
   ]
  },
  {
   "cell_type": "markdown",
   "metadata": {},
   "source": [
    "### From Stevenson (around 3:30pm)"
   ]
  },
  {
   "cell_type": "code",
   "execution_count": 97,
   "metadata": {
    "collapsed": true
   },
   "outputs": [],
   "source": [
    "trip = trips_df.iloc[4] "
   ]
  },
  {
   "cell_type": "code",
   "execution_count": 98,
   "metadata": {
    "collapsed": true
   },
   "outputs": [],
   "source": [
    "trip_id = trip._id"
   ]
  },
  {
   "cell_type": "code",
   "execution_count": 99,
   "metadata": {
    "collapsed": false
   },
   "outputs": [
    {
     "data": {
      "text/plain": [
       "1"
      ]
     },
     "execution_count": 99,
     "metadata": {},
     "output_type": "execute_result"
    }
   ],
   "source": [
    "len(esdt.get_raw_sections_for_trip(curr_id, trip_id))"
   ]
  },
  {
   "cell_type": "code",
   "execution_count": 100,
   "metadata": {
    "collapsed": false
   },
   "outputs": [],
   "source": [
    "section_entry = esdt.get_raw_sections_for_trip(curr_id, trip_id)[0]"
   ]
  },
  {
   "cell_type": "code",
   "execution_count": 101,
   "metadata": {
    "collapsed": false
   },
   "outputs": [
    {
     "data": {
      "text/plain": [
       "({\"coordinates\": [-122.0826288376279, 37.39067786774222], \"type\": \"Point\"},\n",
       " u'2016-02-22T19:41:42.085297-08:00')"
      ]
     },
     "execution_count": 101,
     "metadata": {},
     "output_type": "execute_result"
    }
   ],
   "source": [
    "section_entry.data.start_loc, section_entry.data.start_fmt_time"
   ]
  },
  {
   "cell_type": "code",
   "execution_count": 102,
   "metadata": {
    "collapsed": false
   },
   "outputs": [],
   "source": [
    "ts = esta.TimeSeries.get_time_series(curr_id)"
   ]
  },
  {
   "cell_type": "code",
   "execution_count": 103,
   "metadata": {
    "collapsed": false
   },
   "outputs": [
    {
     "data": {
      "text/html": [
       "<div>\n",
       "<table border=\"1\" class=\"dataframe\">\n",
       "  <thead>\n",
       "    <tr style=\"text-align: right;\">\n",
       "      <th></th>\n",
       "      <th>ts</th>\n",
       "      <th>fmt_time</th>\n",
       "      <th>latitude</th>\n",
       "      <th>longitude</th>\n",
       "    </tr>\n",
       "  </thead>\n",
       "  <tbody>\n",
       "    <tr>\n",
       "      <th>0</th>\n",
       "      <td>1456198902.085297</td>\n",
       "      <td>2016-02-22T19:41:42.085297-08:00</td>\n",
       "      <td>37.390678</td>\n",
       "      <td>-122.082629</td>\n",
       "    </tr>\n",
       "    <tr>\n",
       "      <th>1</th>\n",
       "      <td>1456198905.000030</td>\n",
       "      <td>2016-02-22T19:41:45.000030-08:00</td>\n",
       "      <td>37.390633</td>\n",
       "      <td>-122.082816</td>\n",
       "    </tr>\n",
       "    <tr>\n",
       "      <th>2</th>\n",
       "      <td>1456198969.000034</td>\n",
       "      <td>2016-02-22T19:42:49.000034-08:00</td>\n",
       "      <td>37.390403</td>\n",
       "      <td>-122.082321</td>\n",
       "    </tr>\n",
       "    <tr>\n",
       "      <th>3</th>\n",
       "      <td>1456199001.000033</td>\n",
       "      <td>2016-02-22T19:43:21.000033-08:00</td>\n",
       "      <td>37.390838</td>\n",
       "      <td>-122.082146</td>\n",
       "    </tr>\n",
       "    <tr>\n",
       "      <th>4</th>\n",
       "      <td>1456199034.000033</td>\n",
       "      <td>2016-02-22T19:43:54.000033-08:00</td>\n",
       "      <td>37.391257</td>\n",
       "      <td>-122.081912</td>\n",
       "    </tr>\n",
       "    <tr>\n",
       "      <th>5</th>\n",
       "      <td>1456199080.000033</td>\n",
       "      <td>2016-02-22T19:44:40.000033-08:00</td>\n",
       "      <td>37.391596</td>\n",
       "      <td>-122.081534</td>\n",
       "    </tr>\n",
       "    <tr>\n",
       "      <th>6</th>\n",
       "      <td>1456199158.000033</td>\n",
       "      <td>2016-02-22T19:45:58.000033-08:00</td>\n",
       "      <td>37.391534</td>\n",
       "      <td>-122.080959</td>\n",
       "    </tr>\n",
       "    <tr>\n",
       "      <th>7</th>\n",
       "      <td>1456199202.000034</td>\n",
       "      <td>2016-02-22T19:46:42.000034-08:00</td>\n",
       "      <td>37.391635</td>\n",
       "      <td>-122.080403</td>\n",
       "    </tr>\n",
       "    <tr>\n",
       "      <th>8</th>\n",
       "      <td>1456199231.000033</td>\n",
       "      <td>2016-02-22T19:47:11.000033-08:00</td>\n",
       "      <td>37.392064</td>\n",
       "      <td>-122.080217</td>\n",
       "    </tr>\n",
       "    <tr>\n",
       "      <th>9</th>\n",
       "      <td>1456199315.000033</td>\n",
       "      <td>2016-02-22T19:48:35.000033-08:00</td>\n",
       "      <td>37.392359</td>\n",
       "      <td>-122.079788</td>\n",
       "    </tr>\n",
       "  </tbody>\n",
       "</table>\n",
       "</div>"
      ],
      "text/plain": [
       "                 ts                          fmt_time  latitude   longitude\n",
       "0 1456198902.085297  2016-02-22T19:41:42.085297-08:00 37.390678 -122.082629\n",
       "1 1456198905.000030  2016-02-22T19:41:45.000030-08:00 37.390633 -122.082816\n",
       "2 1456198969.000034  2016-02-22T19:42:49.000034-08:00 37.390403 -122.082321\n",
       "3 1456199001.000033  2016-02-22T19:43:21.000033-08:00 37.390838 -122.082146\n",
       "4 1456199034.000033  2016-02-22T19:43:54.000033-08:00 37.391257 -122.081912\n",
       "5 1456199080.000033  2016-02-22T19:44:40.000033-08:00 37.391596 -122.081534\n",
       "6 1456199158.000033  2016-02-22T19:45:58.000033-08:00 37.391534 -122.080959\n",
       "7 1456199202.000034  2016-02-22T19:46:42.000034-08:00 37.391635 -122.080403\n",
       "8 1456199231.000033  2016-02-22T19:47:11.000033-08:00 37.392064 -122.080217\n",
       "9 1456199315.000033  2016-02-22T19:48:35.000033-08:00 37.392359 -122.079788"
      ]
     },
     "execution_count": 103,
     "metadata": {},
     "output_type": "execute_result"
    }
   ],
   "source": [
    "loc_entry_it = ts.find_entries([\"background/filtered_location\"],\n",
    "                                   esda.get_time_query_for_trip_like(\n",
    "                                       esda.RAW_SECTION_KEY, section_entry.get_id()))\n",
    "loc_entry_list = [ecwe.Entry(e) for e in loc_entry_it]\n",
    "loc_entry_df = estb.BuiltinTimeSeries.to_data_df(\"background/filtered_location\", loc_entry_list)\n",
    "loc_entry_df[[\"ts\", \"fmt_time\", \"latitude\", \"longitude\"]]"
   ]
  },
  {
   "cell_type": "code",
   "execution_count": 104,
   "metadata": {
    "collapsed": false
   },
   "outputs": [
    {
     "name": "stdout",
     "output_type": "stream",
     "text": [
      "Found 10 features from 10 points\n"
     ]
    },
    {
     "data": {
      "text/html": [
       "<iframe srcdoc=\"<table width=&quot;100%&quot;>\n",
       "<tr><td>&lt;iframe srcdoc=&quot;&lt;!DOCTYPE html&gt;\n",
       "&lt;head&gt;\n",
       "   &lt;meta http-equiv=&amp;quot;content-type&amp;quot; content=&amp;quot;text/html; charset=UTF-8&amp;quot; /&gt;\n",
       "   &lt;link rel=&amp;quot;stylesheet&amp;quot; href=&amp;quot;https://cdnjs.cloudflare.com/ajax/libs/leaflet/0.7.3/leaflet.css&amp;quot; /&gt;\n",
       "   &lt;script src=&amp;quot;https://cdnjs.cloudflare.com/ajax/libs/leaflet/0.7.3/leaflet.js&amp;quot;&gt;&lt;/script&gt;\n",
       "\n",
       "   &lt;script src=&amp;quot;https://ajax.googleapis.com/ajax/libs/jquery/1.11.1/jquery.min.js&amp;quot;&gt;&lt;/script&gt;\n",
       "\n",
       "   &lt;link rel=&amp;quot;stylesheet&amp;quot; href=&amp;quot;https://maxcdn.bootstrapcdn.com/bootstrap/3.2.0/css/bootstrap.min.css&amp;quot;&gt;\n",
       "   &lt;link rel=&amp;quot;stylesheet&amp;quot; href=&amp;quot;https://maxcdn.bootstrapcdn.com/bootstrap/3.2.0/css/bootstrap-theme.min.css&amp;quot;&gt;\n",
       "   &lt;script src=&amp;quot;https://maxcdn.bootstrapcdn.com/bootstrap/3.2.0/js/bootstrap.min.js&amp;quot;&gt;&lt;/script&gt;\n",
       "\n",
       "   &lt;link href=&amp;quot;https://maxcdn.bootstrapcdn.com/font-awesome/4.1.0/css/font-awesome.min.css&amp;quot; rel=&amp;quot;stylesheet&amp;quot;&gt;\n",
       "\n",
       "   &lt;link rel=&amp;quot;stylesheet&amp;quot; href=&amp;quot;https://rawgit.com/lvoogdt/Leaflet.awesome-markers/2.0/develop/dist/leaflet.awesome-markers.css&amp;quot;&gt;\n",
       "   &lt;script src=&amp;quot;https://rawgithub.com/lvoogdt/Leaflet.awesome-markers/2.0/develop/dist/leaflet.awesome-markers.js&amp;quot;&gt;&lt;/script&gt;\n",
       "\n",
       "\n",
       "   &lt;link rel=&amp;quot;stylesheet&amp;quot; href=&amp;quot;https://cdnjs.cloudflare.com/ajax/libs/leaflet.markercluster/0.4.0/MarkerCluster.Default.css&amp;quot;&gt;\n",
       "   &lt;link rel=&amp;quot;stylesheet&amp;quot; href=&amp;quot;https://cdnjs.cloudflare.com/ajax/libs/leaflet.markercluster/0.4.0/MarkerCluster.css&amp;quot;&gt;\n",
       "   &lt;script src=&amp;quot;https://cdnjs.cloudflare.com/ajax/libs/leaflet.markercluster/0.4.0/leaflet.markercluster-src.js&amp;quot;&gt;&lt;/script&gt;\n",
       "   &lt;script src=&amp;quot;https://cdnjs.cloudflare.com/ajax/libs/leaflet.markercluster/0.4.0/leaflet.markercluster.js&amp;quot;&gt;&lt;/script&gt;\n",
       "\n",
       "   &lt;link rel=&amp;quot;stylesheet&amp;quot; href=&amp;quot;https://raw.githubusercontent.com/python-visualization/folium/master/folium/templates/leaflet.awesome.rotate.css&amp;quot;&gt;\n",
       "\n",
       "    \n",
       "        \n",
       "        \n",
       "            \n",
       "    \n",
       "        &lt;link rel=&amp;quot;stylesheet&amp;quot; href=&amp;quot;http://code.ionicframework.com/ionicons/1.5.2/css/ionicons.min.css&amp;quot;&gt;\n",
       "    \n",
       "\n",
       "            \n",
       "        \n",
       "    \n",
       "\n",
       "   \n",
       "   \n",
       "   \n",
       "   \n",
       "\n",
       "   &lt;style&gt;\n",
       "\n",
       "      html, body {\n",
       "        width: 100%;\n",
       "        height: 100%;\n",
       "        margin: 0;\n",
       "        padding: 0;\n",
       "      }\n",
       "\n",
       "      #map {\n",
       "        position:absolute;\n",
       "        top:0;\n",
       "        bottom:0;\n",
       "        right:0;\n",
       "        left:0;\n",
       "      }\n",
       "\n",
       "    \n",
       "        \n",
       "        \n",
       "            \n",
       "            \n",
       "        \n",
       "    \n",
       "\n",
       "   &lt;/style&gt;\n",
       "&lt;/head&gt;\n",
       "\n",
       "&lt;body&gt;\n",
       "\n",
       "   &lt;div class=&amp;quot;folium-map&amp;quot; id=&amp;quot;folium_dd0dd93a67544bf5831b41f5b12772a7&amp;quot; style=&amp;quot;width: 100%; height: 100%&amp;quot;&gt;&lt;/div&gt;\n",
       "\n",
       "    \n",
       "        \n",
       "        \n",
       "            \n",
       "            \n",
       "        \n",
       "    \n",
       "\n",
       "   &lt;script&gt;\n",
       "\n",
       "      \n",
       "\n",
       "      var base_tile = L.tileLayer('https://{s}.tile.openstreetmap.org/{z}/{x}/{y}.png', {\n",
       "          maxZoom: 18,\n",
       "          minZoom: 1,\n",
       "          attribution: 'Map data (c) &lt;a href=&amp;quot;http://openstreetmap.org&amp;quot;&gt;OpenStreetMap&lt;/a&gt; contributors'\n",
       "      });\n",
       "\n",
       "      var baseLayer = {\n",
       "        &amp;quot;Base Layer&amp;quot;: base_tile\n",
       "      };\n",
       "\n",
       "      /*\n",
       "      addition of the wms layers\n",
       "      */\n",
       "\n",
       "      \n",
       "\n",
       "      /*\n",
       "      addition of the tile layers\n",
       "      */\n",
       "      \n",
       "\n",
       "      /*\n",
       "      list of layers to be added\n",
       "      */\n",
       "      var layer_list = {\n",
       "      \n",
       "      };\n",
       "\n",
       "      /*\n",
       "      Bounding box.\n",
       "      */\n",
       "      var southWest = L.latLng(-90, -180),\n",
       "          northEast = L.latLng(90, 180),\n",
       "          bounds = L.latLngBounds(southWest, northEast);\n",
       "\n",
       "      /*\n",
       "      Creates the map and adds the selected layers\n",
       "      */\n",
       "      var map = L.map('folium_dd0dd93a67544bf5831b41f5b12772a7', {\n",
       "                                       center:[37.3915183495, -122.081208349],\n",
       "                                       zoom: 10,\n",
       "                                       maxBounds: bounds,\n",
       "                                       layers: [base_tile]\n",
       "                                     });\n",
       "\n",
       "      // L.control.layers(baseLayer, layer_list).addTo(map);\n",
       "\n",
       "      /*\n",
       "      addition of the image layers\n",
       "      */\n",
       "      \n",
       "\n",
       "      //cluster group\n",
       "      var clusteredmarkers = L.markerClusterGroup();\n",
       "      //section for adding clustered markers\n",
       "      \n",
       "      //add the clustered markers to the group anyway\n",
       "      map.addLayer(clusteredmarkers);\n",
       "\n",
       "      \n",
       "\n",
       "      \n",
       "\n",
       "      \n",
       "\n",
       "      \n",
       "\n",
       "      \n",
       "\n",
       "      \n",
       "\n",
       "      \n",
       "\n",
       "\n",
       "\n",
       "    \n",
       "        \n",
       "        \n",
       "            \n",
       "    \n",
       "          function style_feature(feature) {\n",
       "            switch(feature.properties.feature_type) {\n",
       "                case &amp;quot;section&amp;quot;: return style_section(feature);\n",
       "                case &amp;quot;stop&amp;quot;: return style_stop(feature);\n",
       "                default: return {}\n",
       "            }\n",
       "          }\n",
       "\n",
       "          function onEachFeature(feature, layer) {\n",
       "            switch(feature.properties.feature_type) {\n",
       "                case &amp;quot;stop&amp;quot;: layer.bindPopup(&amp;quot;&amp;quot;+feature.properties.duration); break;\n",
       "                case &amp;quot;start_place&amp;quot;: layer.bindPopup(feature.properties.exit_fmt_time); break;\n",
       "                case &amp;quot;end_place&amp;quot;: layer.bindPopup(feature.properties.enter_fmt_time); break;\n",
       "                case &amp;quot;section&amp;quot;: layer.bindPopup(getHumanReadable(feature.properties.sensed_mode)); break;\n",
       "                case &amp;quot;location&amp;quot;: layer.bindPopup(JSON.stringify(feature.properties)); break\n",
       "            }\n",
       "          }\n",
       "\n",
       "          function getHumanReadable(sensed_mode) {\n",
       "            ret_string = sensed_mode.split('.')[1]\n",
       "            if(ret_string == 'ON_FOOT') {\n",
       "                return 'WALKING';\n",
       "            } else {\n",
       "                return ret_string;\n",
       "            }\n",
       "          }\n",
       "\n",
       "          function getColoredStyle(baseDict, color) {\n",
       "            baseDict.color = color\n",
       "            return baseDict\n",
       "          }\n",
       "\n",
       "          function style_section(feature) {\n",
       "            var baseDict = {\n",
       "                    weight: 5,\n",
       "                    opacity: 1,\n",
       "            };\n",
       "            mode_string = getHumanReadable(feature.properties.sensed_mode);\n",
       "            switch(mode_string) {\n",
       "                case &amp;quot;WALKING&amp;quot;: return getColoredStyle(baseDict, 'brown');\n",
       "                case &amp;quot;BICYCLING&amp;quot;: return getColoredStyle(baseDict, 'green');\n",
       "                case &amp;quot;TRANSPORT&amp;quot;: return getColoredStyle(baseDict, 'red');\n",
       "                default: return getColoredStyle(baseDict, 'black');\n",
       "            }\n",
       "          }\n",
       "\n",
       "          function style_stop(feature) {\n",
       "            return {fillColor: 'yellow', fillOpacity: 0.8};\n",
       "          }\n",
       "\n",
       "          var pointIcon = L.divIcon({className: 'leaflet-div-icon', iconSize: [5, 5]});\n",
       "\n",
       "          var startMarker = L.AwesomeMarkers.icon({\n",
       "            icon: 'play',\n",
       "            prefix: 'ion',\n",
       "            markerColor: 'green'\n",
       "          });\n",
       "\n",
       "          var stopMarker = L.AwesomeMarkers.icon({\n",
       "            icon: 'stop',\n",
       "            prefix: 'ion',\n",
       "            markerColor: 'red'\n",
       "          });\n",
       "\n",
       "          function pointFormat(feature, latlng) {\n",
       "            switch(feature.properties.feature_type) {\n",
       "                case &amp;quot;start_place&amp;quot;: return L.marker(latlng, {icon: startMarker})\n",
       "                case &amp;quot;end_place&amp;quot;: return L.marker(latlng, {icon: stopMarker})\n",
       "                case &amp;quot;stop&amp;quot;: return L.circleMarker(latlng)\n",
       "                case &amp;quot;location&amp;quot;: return L.marker(latlng, {icon: pointIcon})\n",
       "                default: alert(&amp;quot;Found unknown type in feature&amp;quot;  + feature); return L.marker(latlng)\n",
       "            }\n",
       "          }\n",
       "    \n",
       "\n",
       "    var gjson_layer_0 = L.geoJson({&amp;quot;type&amp;quot;: &amp;quot;FeatureCollection&amp;quot;, &amp;quot;features&amp;quot;: [{&amp;quot;type&amp;quot;: &amp;quot;FeatureCollection&amp;quot;, &amp;quot;features&amp;quot;: [{&amp;quot;geometry&amp;quot;: {&amp;quot;type&amp;quot;: &amp;quot;Point&amp;quot;, &amp;quot;coordinates&amp;quot;: [-122.0826288376279, 37.39067786774222]}, &amp;quot;type&amp;quot;: &amp;quot;Feature&amp;quot;, &amp;quot;id&amp;quot;: &amp;quot;57bfd04ff6858fb98f64651f&amp;quot;, &amp;quot;properties&amp;quot;: {&amp;quot;feature_type&amp;quot;: &amp;quot;location&amp;quot;, &amp;quot;fmt_time&amp;quot;: &amp;quot;2016-02-22T19:41:42.085297-08:00&amp;quot;, &amp;quot;latitude&amp;quot;: 37.39067786774222, &amp;quot;_id&amp;quot;: &amp;quot;0&amp;quot;, &amp;quot;ts&amp;quot;: 1456198902.085297, &amp;quot;longitude&amp;quot;: -122.0826288376279}}, {&amp;quot;geometry&amp;quot;: {&amp;quot;type&amp;quot;: &amp;quot;Point&amp;quot;, &amp;quot;coordinates&amp;quot;: [-122.0828158223276, 37.39063345830645]}, &amp;quot;type&amp;quot;: &amp;quot;Feature&amp;quot;, &amp;quot;id&amp;quot;: &amp;quot;57bfd04ff6858fb98f646520&amp;quot;, &amp;quot;properties&amp;quot;: {&amp;quot;feature_type&amp;quot;: &amp;quot;location&amp;quot;, &amp;quot;fmt_time&amp;quot;: &amp;quot;2016-02-22T19:41:45.000030-08:00&amp;quot;, &amp;quot;latitude&amp;quot;: 37.39063345830645, &amp;quot;_id&amp;quot;: &amp;quot;1&amp;quot;, &amp;quot;ts&amp;quot;: 1456198905.00003, &amp;quot;longitude&amp;quot;: -122.0828158223276}}, {&amp;quot;geometry&amp;quot;: {&amp;quot;type&amp;quot;: &amp;quot;Point&amp;quot;, &amp;quot;coordinates&amp;quot;: [-122.0823213738595, 37.39040337506439]}, &amp;quot;type&amp;quot;: &amp;quot;Feature&amp;quot;, &amp;quot;id&amp;quot;: &amp;quot;57bfd04ff6858fb98f646521&amp;quot;, &amp;quot;properties&amp;quot;: {&amp;quot;feature_type&amp;quot;: &amp;quot;location&amp;quot;, &amp;quot;fmt_time&amp;quot;: &amp;quot;2016-02-22T19:42:49.000034-08:00&amp;quot;, &amp;quot;latitude&amp;quot;: 37.39040337506439, &amp;quot;_id&amp;quot;: &amp;quot;2&amp;quot;, &amp;quot;ts&amp;quot;: 1456198969.000034, &amp;quot;longitude&amp;quot;: -122.0823213738595}}, {&amp;quot;geometry&amp;quot;: {&amp;quot;type&amp;quot;: &amp;quot;Point&amp;quot;, &amp;quot;coordinates&amp;quot;: [-122.0821464435403, 37.39083759955819]}, &amp;quot;type&amp;quot;: &amp;quot;Feature&amp;quot;, &amp;quot;id&amp;quot;: &amp;quot;57bfd04ff6858fb98f646522&amp;quot;, &amp;quot;properties&amp;quot;: {&amp;quot;feature_type&amp;quot;: &amp;quot;location&amp;quot;, &amp;quot;fmt_time&amp;quot;: &amp;quot;2016-02-22T19:43:21.000033-08:00&amp;quot;, &amp;quot;latitude&amp;quot;: 37.39083759955819, &amp;quot;_id&amp;quot;: &amp;quot;3&amp;quot;, &amp;quot;ts&amp;quot;: 1456199001.000033, &amp;quot;longitude&amp;quot;: -122.0821464435403}}, {&amp;quot;geometry&amp;quot;: {&amp;quot;type&amp;quot;: &amp;quot;Point&amp;quot;, &amp;quot;coordinates&amp;quot;: [-122.0819117502515, 37.39125740717854]}, &amp;quot;type&amp;quot;: &amp;quot;Feature&amp;quot;, &amp;quot;id&amp;quot;: &amp;quot;57bfd04ff6858fb98f646523&amp;quot;, &amp;quot;properties&amp;quot;: {&amp;quot;feature_type&amp;quot;: &amp;quot;location&amp;quot;, &amp;quot;fmt_time&amp;quot;: &amp;quot;2016-02-22T19:43:54.000033-08:00&amp;quot;, &amp;quot;latitude&amp;quot;: 37.39125740717854, &amp;quot;_id&amp;quot;: &amp;quot;4&amp;quot;, &amp;quot;ts&amp;quot;: 1456199034.000033, &amp;quot;longitude&amp;quot;: -122.0819117502515}}, {&amp;quot;geometry&amp;quot;: {&amp;quot;type&amp;quot;: &amp;quot;Point&amp;quot;, &amp;quot;coordinates&amp;quot;: [-122.0815337264185, 37.39159641325231]}, &amp;quot;type&amp;quot;: &amp;quot;Feature&amp;quot;, &amp;quot;id&amp;quot;: &amp;quot;57bfd04ff6858fb98f646524&amp;quot;, &amp;quot;properties&amp;quot;: {&amp;quot;feature_type&amp;quot;: &amp;quot;location&amp;quot;, &amp;quot;fmt_time&amp;quot;: &amp;quot;2016-02-22T19:44:40.000033-08:00&amp;quot;, &amp;quot;latitude&amp;quot;: 37.39159641325231, &amp;quot;_id&amp;quot;: &amp;quot;5&amp;quot;, &amp;quot;ts&amp;quot;: 1456199080.000033, &amp;quot;longitude&amp;quot;: -122.0815337264185}}, {&amp;quot;geometry&amp;quot;: {&amp;quot;type&amp;quot;: &amp;quot;Point&amp;quot;, &amp;quot;coordinates&amp;quot;: [-122.0809587278609, 37.39153438716884]}, &amp;quot;type&amp;quot;: &amp;quot;Feature&amp;quot;, &amp;quot;id&amp;quot;: &amp;quot;57bfd04ff6858fb98f646525&amp;quot;, &amp;quot;properties&amp;quot;: {&amp;quot;feature_type&amp;quot;: &amp;quot;location&amp;quot;, &amp;quot;fmt_time&amp;quot;: &amp;quot;2016-02-22T19:45:58.000033-08:00&amp;quot;, &amp;quot;latitude&amp;quot;: 37.39153438716884, &amp;quot;_id&amp;quot;: &amp;quot;6&amp;quot;, &amp;quot;ts&amp;quot;: 1456199158.000033, &amp;quot;longitude&amp;quot;: -122.0809587278609}}, {&amp;quot;geometry&amp;quot;: {&amp;quot;type&amp;quot;: &amp;quot;Point&amp;quot;, &amp;quot;coordinates&amp;quot;: [-122.0804026724045, 37.39163538910206]}, &amp;quot;type&amp;quot;: &amp;quot;Feature&amp;quot;, &amp;quot;id&amp;quot;: &amp;quot;57bfd04ff6858fb98f646526&amp;quot;, &amp;quot;properties&amp;quot;: {&amp;quot;feature_type&amp;quot;: &amp;quot;location&amp;quot;, &amp;quot;fmt_time&amp;quot;: &amp;quot;2016-02-22T19:46:42.000034-08:00&amp;quot;, &amp;quot;latitude&amp;quot;: 37.39163538910206, &amp;quot;_id&amp;quot;: &amp;quot;7&amp;quot;, &amp;quot;ts&amp;quot;: 1456199202.000034, &amp;quot;longitude&amp;quot;: -122.0804026724045}}, {&amp;quot;geometry&amp;quot;: {&amp;quot;type&amp;quot;: &amp;quot;Point&amp;quot;, &amp;quot;coordinates&amp;quot;: [-122.0802168456112, 37.39206378817315]}, &amp;quot;type&amp;quot;: &amp;quot;Feature&amp;quot;, &amp;quot;id&amp;quot;: &amp;quot;57bfd04ff6858fb98f646527&amp;quot;, &amp;quot;properties&amp;quot;: {&amp;quot;feature_type&amp;quot;: &amp;quot;location&amp;quot;, &amp;quot;fmt_time&amp;quot;: &amp;quot;2016-02-22T19:47:11.000033-08:00&amp;quot;, &amp;quot;latitude&amp;quot;: 37.39206378817315, &amp;quot;_id&amp;quot;: &amp;quot;8&amp;quot;, &amp;quot;ts&amp;quot;: 1456199231.000033, &amp;quot;longitude&amp;quot;: -122.0802168456112}}, {&amp;quot;geometry&amp;quot;: {&amp;quot;type&amp;quot;: &amp;quot;Point&amp;quot;, &amp;quot;coordinates&amp;quot;: [-122.0797878598069, 37.39235883116479]}, &amp;quot;type&amp;quot;: &amp;quot;Feature&amp;quot;, &amp;quot;id&amp;quot;: &amp;quot;57bfd04ff6858fb98f646528&amp;quot;, &amp;quot;properties&amp;quot;: {&amp;quot;feature_type&amp;quot;: &amp;quot;location&amp;quot;, &amp;quot;fmt_time&amp;quot;: &amp;quot;2016-02-22T19:48:35.000033-08:00&amp;quot;, &amp;quot;latitude&amp;quot;: 37.39235883116479, &amp;quot;_id&amp;quot;: &amp;quot;9&amp;quot;, &amp;quot;ts&amp;quot;: 1456199315.000033, &amp;quot;longitude&amp;quot;: -122.0797878598069}}]}, {&amp;quot;geometry&amp;quot;: {&amp;quot;type&amp;quot;: &amp;quot;LineString&amp;quot;, &amp;quot;coordinates&amp;quot;: [[-122.0826288376279, 37.39067786774222], [-122.0828158223276, 37.39063345830645], [-122.0823213738595, 37.39040337506439], [-122.0821464435403, 37.39083759955819], [-122.0819117502515, 37.39125740717854], [-122.0815337264185, 37.39159641325231], [-122.0809587278609, 37.39153438716884], [-122.0804026724045, 37.39163538910206], [-122.0802168456112, 37.39206378817315], [-122.0797878598069, 37.39235883116479]]}, &amp;quot;type&amp;quot;: &amp;quot;Feature&amp;quot;, &amp;quot;id&amp;quot;: null, &amp;quot;properties&amp;quot;: {}}]}, \n",
       "        {style: style_feature,\n",
       "         onEachFeature: onEachFeature,\n",
       "         pointToLayer: pointFormat}).addTo(map)\n",
       "\n",
       "    var autobounds_0 = L.featureGroup([gjson_layer_0]).getBounds()\n",
       "    map.fitBounds(autobounds_0, {&amp;quot;padding&amp;quot;: [5, 5]});\n",
       "    \n",
       "\n",
       "            \n",
       "        \n",
       "    \n",
       "\n",
       "   &lt;/script&gt;\n",
       "\n",
       "&lt;/body&gt;&quot; style=&quot;width: 100%; height: 510px; border: none&quot;&gt;&lt;/iframe&gt;</td></tr>\n",
       "</table>\" style=\"width: 100%; height: 510px; border: none\"></iframe>"
      ],
      "text/plain": [
       "<IPython.core.display.HTML object>"
      ]
     },
     "execution_count": 104,
     "metadata": {},
     "output_type": "execute_result"
    }
   ],
   "source": [
    "ipy.inline_maps([lo.get_maps_for_geojson_unsectioned([gfc.get_feature_list_from_df(loc_entry_df)])])"
   ]
  },
  {
   "cell_type": "code",
   "execution_count": 105,
   "metadata": {
    "collapsed": false
   },
   "outputs": [],
   "source": [
    "with_speeds_df = eaicl.add_dist_heading_speed(loc_entry_df)"
   ]
  },
  {
   "cell_type": "code",
   "execution_count": 106,
   "metadata": {
    "collapsed": false
   },
   "outputs": [
    {
     "data": {
      "text/plain": [
       "(0   0.000000\n",
       " 1   5.915331\n",
       " 2   0.790988\n",
       " 3   1.584267\n",
       " 4   1.547820\n",
       " 5   1.094819\n",
       " 6   0.657234\n",
       " 7   1.145274\n",
       " 8   1.737425\n",
       " 9   0.596737\n",
       " Name: speed, dtype: float64, 0   -1.000000\n",
       " 1    1.160000\n",
       " 2    0.520000\n",
       " 3    1.200000\n",
       " 4    1.110000\n",
       " 5    0.520000\n",
       " 6    1.290000\n",
       " 7    1.000000\n",
       " 8    1.560000\n",
       " 9    0.320000\n",
       " Name: sensed_speed, dtype: float64)"
      ]
     },
     "execution_count": 106,
     "metadata": {},
     "output_type": "execute_result"
    }
   ],
   "source": [
    "with_speeds_df.speed, with_speeds_df.sensed_speed"
   ]
  },
  {
   "cell_type": "code",
   "execution_count": 107,
   "metadata": {
    "collapsed": true
   },
   "outputs": [],
   "source": [
    "with_speeds_df_nona = with_speeds_df.dropna()"
   ]
  },
  {
   "cell_type": "code",
   "execution_count": 108,
   "metadata": {
    "collapsed": false
   },
   "outputs": [
    {
     "data": {
      "text/plain": [
       "0   0.000000\n",
       "1   5.915331\n",
       "2   0.790988\n",
       "3   1.584267\n",
       "4   1.547820\n",
       "5   1.094819\n",
       "6   0.657234\n",
       "7   1.145274\n",
       "8   1.737425\n",
       "9   0.596737\n",
       "Name: speed, dtype: float64"
      ]
     },
     "execution_count": 108,
     "metadata": {},
     "output_type": "execute_result"
    }
   ],
   "source": [
    "with_speeds_df.speed"
   ]
  },
  {
   "cell_type": "code",
   "execution_count": 109,
   "metadata": {
    "collapsed": false
   },
   "outputs": [
    {
     "data": {
      "text/plain": [
       "1.1200463971400958"
      ]
     },
     "execution_count": 109,
     "metadata": {},
     "output_type": "execute_result"
    }
   ],
   "source": [
    "with_speeds_df.speed.median()"
   ]
  },
  {
   "cell_type": "code",
   "execution_count": 110,
   "metadata": {
    "collapsed": true
   },
   "outputs": [],
   "source": [
    "start_place = ts.get_entry_from_id(esda.RAW_PLACE_KEY, trip.start_place)"
   ]
  },
  {
   "cell_type": "code",
   "execution_count": 111,
   "metadata": {
    "collapsed": false
   },
   "outputs": [
    {
     "data": {
      "text/plain": [
       "([[-122.0826288376279, 37.39067786774222]],\n",
       " [-122.0861964953338, 37.39118427507336])"
      ]
     },
     "execution_count": 111,
     "metadata": {},
     "output_type": "execute_result"
    }
   ],
   "source": [
    "[loc_entry_list[0].data.loc.coordinates], start_place.data.location.coordinates"
   ]
  },
  {
   "cell_type": "code",
   "execution_count": 112,
   "metadata": {
    "collapsed": false
   },
   "outputs": [
    {
     "name": "stdout",
     "output_type": "stream",
     "text": [
      "320.177270563\n"
     ]
    }
   ],
   "source": [
    "add_dist = ecc.calDistance(loc_entry_list[0].data.loc.coordinates, start_place.data.location.coordinates)\n",
    "print add_dist"
   ]
  },
  {
   "cell_type": "markdown",
   "metadata": {},
   "source": [
    "speed ($s$) is in m/s. dist ($d$) is in meters.\n",
    "so what we really need is\n",
    "\n",
    "| Distance (m) | Time (s) | \n",
    "| --- | ---- |\n",
    "| $d$ = 11.24 m | 1 sec |\n",
    "| $d$ = 875.28 m | ? secs = $\\frac{d}{s}$ $\\approx$ 77|"
   ]
  },
  {
   "cell_type": "code",
   "execution_count": 113,
   "metadata": {
    "collapsed": false
   },
   "outputs": [
    {
     "data": {
      "text/plain": [
       "285.86072093135624"
      ]
     },
     "execution_count": 113,
     "metadata": {},
     "output_type": "execute_result"
    }
   ],
   "source": [
    "add_time = add_dist / with_speeds_df.speed.median()\n",
    "add_time"
   ]
  },
  {
   "cell_type": "code",
   "execution_count": 114,
   "metadata": {
    "collapsed": false
   },
   "outputs": [
    {
     "data": {
      "text/plain": [
       "(6.881912263234456, 11.646257612090393)"
      ]
     },
     "execution_count": 114,
     "metadata": {},
     "output_type": "execute_result"
    }
   ],
   "source": [
    "section_entry.data.duration/60, (section_entry.data.duration  + add_time) / 60"
   ]
  },
  {
   "cell_type": "code",
   "execution_count": 115,
   "metadata": {
    "collapsed": false
   },
   "outputs": [
    {
     "data": {
      "text/plain": [
       "(422.16858730148215, 742.34585786451805)"
      ]
     },
     "execution_count": 115,
     "metadata": {},
     "output_type": "execute_result"
    }
   ],
   "source": [
    "with_speeds_df_nona.distance.sum(), with_speeds_df_nona.distance.sum() + add_dist"
   ]
  },
  {
   "cell_type": "code",
   "execution_count": 116,
   "metadata": {
    "collapsed": false
   },
   "outputs": [
    {
     "data": {
      "text/plain": [
       "<Arrow [2016-02-22T19:36:56.224576-08:00]>"
      ]
     },
     "execution_count": 116,
     "metadata": {},
     "output_type": "execute_result"
    }
   ],
   "source": [
    "arrow.get(start_place.data.exit_ts - add_time).to(\"America/Los_Angeles\")"
   ]
  },
  {
   "cell_type": "markdown",
   "metadata": {},
   "source": [
    "### Hm, the new duration after everything is just 2.9 $\\approx$ 3 mins! Seems way too short compared to the trip to Stevenson"
   ]
  },
  {
   "cell_type": "markdown",
   "metadata": {},
   "source": [
    "It is because in the trip to Stevenson, although we arrive at the campus by 13:08, we continue to get points until 13:13 as we walk to the classroom. But here, points end at 15:37 and then there's a large gap until we leave for karate at 15:49-ish. If we had got a couple of more points, we would be up there on this too. The bigger issue is that we don't have points for half the trip on each side, and while going to school, the missed points are mostly on a straight line down Shoreline while coming back from school, the missed points are on the Wright curve."
   ]
  },
  {
   "cell_type": "code",
   "execution_count": 117,
   "metadata": {
    "collapsed": false,
    "scrolled": true
   },
   "outputs": [
    {
     "data": {
      "text/html": [
       "<div>\n",
       "<table border=\"1\" class=\"dataframe\">\n",
       "  <thead>\n",
       "    <tr style=\"text-align: right;\">\n",
       "      <th></th>\n",
       "      <th>ts</th>\n",
       "      <th>fmt_time</th>\n",
       "      <th>latitude</th>\n",
       "      <th>longitude</th>\n",
       "    </tr>\n",
       "  </thead>\n",
       "  <tbody>\n",
       "    <tr>\n",
       "      <th>27</th>\n",
       "      <td>1456183998.550963</td>\n",
       "      <td>2016-02-22T15:33:18.550963-08:00</td>\n",
       "      <td>37.403128</td>\n",
       "      <td>-122.084823</td>\n",
       "    </tr>\n",
       "    <tr>\n",
       "      <th>28</th>\n",
       "      <td>1456184136.000126</td>\n",
       "      <td>2016-02-22T15:35:36.000126-08:00</td>\n",
       "      <td>37.396229</td>\n",
       "      <td>-122.083001</td>\n",
       "    </tr>\n",
       "    <tr>\n",
       "      <th>29</th>\n",
       "      <td>1456184145.000135</td>\n",
       "      <td>2016-02-22T15:35:45.000135-08:00</td>\n",
       "      <td>37.395792</td>\n",
       "      <td>-122.083205</td>\n",
       "    </tr>\n",
       "    <tr>\n",
       "      <th>30</th>\n",
       "      <td>1456184185.000135</td>\n",
       "      <td>2016-02-22T15:36:25.000135-08:00</td>\n",
       "      <td>37.395452</td>\n",
       "      <td>-122.083622</td>\n",
       "    </tr>\n",
       "    <tr>\n",
       "      <th>31</th>\n",
       "      <td>1456184191.000135</td>\n",
       "      <td>2016-02-22T15:36:31.000135-08:00</td>\n",
       "      <td>37.394931</td>\n",
       "      <td>-122.083867</td>\n",
       "    </tr>\n",
       "    <tr>\n",
       "      <th>32</th>\n",
       "      <td>1456184196.000135</td>\n",
       "      <td>2016-02-22T15:36:36.000135-08:00</td>\n",
       "      <td>37.394518</td>\n",
       "      <td>-122.084095</td>\n",
       "    </tr>\n",
       "    <tr>\n",
       "      <th>33</th>\n",
       "      <td>1456184201.000136</td>\n",
       "      <td>2016-02-22T15:36:41.000136-08:00</td>\n",
       "      <td>37.394087</td>\n",
       "      <td>-122.084345</td>\n",
       "    </tr>\n",
       "    <tr>\n",
       "      <th>34</th>\n",
       "      <td>1456184205.000135</td>\n",
       "      <td>2016-02-22T15:36:45.000135-08:00</td>\n",
       "      <td>37.393645</td>\n",
       "      <td>-122.084594</td>\n",
       "    </tr>\n",
       "    <tr>\n",
       "      <th>35</th>\n",
       "      <td>1456184209.000136</td>\n",
       "      <td>2016-02-22T15:36:49.000136-08:00</td>\n",
       "      <td>37.393208</td>\n",
       "      <td>-122.084878</td>\n",
       "    </tr>\n",
       "    <tr>\n",
       "      <th>36</th>\n",
       "      <td>1456184213.000134</td>\n",
       "      <td>2016-02-22T15:36:53.000134-08:00</td>\n",
       "      <td>37.392771</td>\n",
       "      <td>-122.085274</td>\n",
       "    </tr>\n",
       "    <tr>\n",
       "      <th>37</th>\n",
       "      <td>1456184217.000136</td>\n",
       "      <td>2016-02-22T15:36:57.000136-08:00</td>\n",
       "      <td>37.392305</td>\n",
       "      <td>-122.085533</td>\n",
       "    </tr>\n",
       "    <tr>\n",
       "      <th>38</th>\n",
       "      <td>1456184221.000135</td>\n",
       "      <td>2016-02-22T15:37:01.000135-08:00</td>\n",
       "      <td>37.391840</td>\n",
       "      <td>-122.085756</td>\n",
       "    </tr>\n",
       "    <tr>\n",
       "      <th>39</th>\n",
       "      <td>1456184225.000136</td>\n",
       "      <td>2016-02-22T15:37:05.000136-08:00</td>\n",
       "      <td>37.391409</td>\n",
       "      <td>-122.086081</td>\n",
       "    </tr>\n",
       "    <tr>\n",
       "      <th>40</th>\n",
       "      <td>1456184232.000136</td>\n",
       "      <td>2016-02-22T15:37:12.000136-08:00</td>\n",
       "      <td>37.390999</td>\n",
       "      <td>-122.086319</td>\n",
       "    </tr>\n",
       "    <tr>\n",
       "      <th>41</th>\n",
       "      <td>1456184983.999972</td>\n",
       "      <td>2016-02-22T15:49:43.999972-08:00</td>\n",
       "      <td>37.390523</td>\n",
       "      <td>-122.086676</td>\n",
       "    </tr>\n",
       "    <tr>\n",
       "      <th>42</th>\n",
       "      <td>1456184990.999973</td>\n",
       "      <td>2016-02-22T15:49:50.999973-08:00</td>\n",
       "      <td>37.390788</td>\n",
       "      <td>-122.087183</td>\n",
       "    </tr>\n",
       "    <tr>\n",
       "      <th>43</th>\n",
       "      <td>1456185003.000083</td>\n",
       "      <td>2016-02-22T15:50:03.000083-08:00</td>\n",
       "      <td>37.391099</td>\n",
       "      <td>-122.087604</td>\n",
       "    </tr>\n",
       "    <tr>\n",
       "      <th>44</th>\n",
       "      <td>1456185011.000071</td>\n",
       "      <td>2016-02-22T15:50:11.000071-08:00</td>\n",
       "      <td>37.391622</td>\n",
       "      <td>-122.087306</td>\n",
       "    </tr>\n",
       "    <tr>\n",
       "      <th>45</th>\n",
       "      <td>1456185018.000070</td>\n",
       "      <td>2016-02-22T15:50:18.000070-08:00</td>\n",
       "      <td>37.392047</td>\n",
       "      <td>-122.087006</td>\n",
       "    </tr>\n",
       "    <tr>\n",
       "      <th>46</th>\n",
       "      <td>1456185028.000071</td>\n",
       "      <td>2016-02-22T15:50:28.000071-08:00</td>\n",
       "      <td>37.392510</td>\n",
       "      <td>-122.086713</td>\n",
       "    </tr>\n",
       "    <tr>\n",
       "      <th>47</th>\n",
       "      <td>1456185035.000071</td>\n",
       "      <td>2016-02-22T15:50:35.000071-08:00</td>\n",
       "      <td>37.392992</td>\n",
       "      <td>-122.086431</td>\n",
       "    </tr>\n",
       "    <tr>\n",
       "      <th>48</th>\n",
       "      <td>1456185046.000071</td>\n",
       "      <td>2016-02-22T15:50:46.000071-08:00</td>\n",
       "      <td>37.393398</td>\n",
       "      <td>-122.086168</td>\n",
       "    </tr>\n",
       "    <tr>\n",
       "      <th>49</th>\n",
       "      <td>1456185082.000070</td>\n",
       "      <td>2016-02-22T15:51:22.000070-08:00</td>\n",
       "      <td>37.393208</td>\n",
       "      <td>-122.085542</td>\n",
       "    </tr>\n",
       "    <tr>\n",
       "      <th>50</th>\n",
       "      <td>1456185200.000070</td>\n",
       "      <td>2016-02-22T15:53:20.000070-08:00</td>\n",
       "      <td>37.393052</td>\n",
       "      <td>-122.084991</td>\n",
       "    </tr>\n",
       "    <tr>\n",
       "      <th>51</th>\n",
       "      <td>1456185206.000070</td>\n",
       "      <td>2016-02-22T15:53:26.000070-08:00</td>\n",
       "      <td>37.393484</td>\n",
       "      <td>-122.084543</td>\n",
       "    </tr>\n",
       "    <tr>\n",
       "      <th>52</th>\n",
       "      <td>1456185211.000070</td>\n",
       "      <td>2016-02-22T15:53:31.000070-08:00</td>\n",
       "      <td>37.393959</td>\n",
       "      <td>-122.084215</td>\n",
       "    </tr>\n",
       "    <tr>\n",
       "      <th>53</th>\n",
       "      <td>1456185215.000071</td>\n",
       "      <td>2016-02-22T15:53:35.000071-08:00</td>\n",
       "      <td>37.394407</td>\n",
       "      <td>-122.083940</td>\n",
       "    </tr>\n",
       "    <tr>\n",
       "      <th>54</th>\n",
       "      <td>1456185219.000070</td>\n",
       "      <td>2016-02-22T15:53:39.000070-08:00</td>\n",
       "      <td>37.394826</td>\n",
       "      <td>-122.083671</td>\n",
       "    </tr>\n",
       "    <tr>\n",
       "      <th>55</th>\n",
       "      <td>1456185225.000070</td>\n",
       "      <td>2016-02-22T15:53:45.000070-08:00</td>\n",
       "      <td>37.395221</td>\n",
       "      <td>-122.083339</td>\n",
       "    </tr>\n",
       "  </tbody>\n",
       "</table>\n",
       "</div>"
      ],
      "text/plain": [
       "                  ts                          fmt_time  latitude   longitude\n",
       "27 1456183998.550963  2016-02-22T15:33:18.550963-08:00 37.403128 -122.084823\n",
       "28 1456184136.000126  2016-02-22T15:35:36.000126-08:00 37.396229 -122.083001\n",
       "29 1456184145.000135  2016-02-22T15:35:45.000135-08:00 37.395792 -122.083205\n",
       "30 1456184185.000135  2016-02-22T15:36:25.000135-08:00 37.395452 -122.083622\n",
       "31 1456184191.000135  2016-02-22T15:36:31.000135-08:00 37.394931 -122.083867\n",
       "32 1456184196.000135  2016-02-22T15:36:36.000135-08:00 37.394518 -122.084095\n",
       "33 1456184201.000136  2016-02-22T15:36:41.000136-08:00 37.394087 -122.084345\n",
       "34 1456184205.000135  2016-02-22T15:36:45.000135-08:00 37.393645 -122.084594\n",
       "35 1456184209.000136  2016-02-22T15:36:49.000136-08:00 37.393208 -122.084878\n",
       "36 1456184213.000134  2016-02-22T15:36:53.000134-08:00 37.392771 -122.085274\n",
       "37 1456184217.000136  2016-02-22T15:36:57.000136-08:00 37.392305 -122.085533\n",
       "38 1456184221.000135  2016-02-22T15:37:01.000135-08:00 37.391840 -122.085756\n",
       "39 1456184225.000136  2016-02-22T15:37:05.000136-08:00 37.391409 -122.086081\n",
       "40 1456184232.000136  2016-02-22T15:37:12.000136-08:00 37.390999 -122.086319\n",
       "41 1456184983.999972  2016-02-22T15:49:43.999972-08:00 37.390523 -122.086676\n",
       "42 1456184990.999973  2016-02-22T15:49:50.999973-08:00 37.390788 -122.087183\n",
       "43 1456185003.000083  2016-02-22T15:50:03.000083-08:00 37.391099 -122.087604\n",
       "44 1456185011.000071  2016-02-22T15:50:11.000071-08:00 37.391622 -122.087306\n",
       "45 1456185018.000070  2016-02-22T15:50:18.000070-08:00 37.392047 -122.087006\n",
       "46 1456185028.000071  2016-02-22T15:50:28.000071-08:00 37.392510 -122.086713\n",
       "47 1456185035.000071  2016-02-22T15:50:35.000071-08:00 37.392992 -122.086431\n",
       "48 1456185046.000071  2016-02-22T15:50:46.000071-08:00 37.393398 -122.086168\n",
       "49 1456185082.000070  2016-02-22T15:51:22.000070-08:00 37.393208 -122.085542\n",
       "50 1456185200.000070  2016-02-22T15:53:20.000070-08:00 37.393052 -122.084991\n",
       "51 1456185206.000070  2016-02-22T15:53:26.000070-08:00 37.393484 -122.084543\n",
       "52 1456185211.000070  2016-02-22T15:53:31.000070-08:00 37.393959 -122.084215\n",
       "53 1456185215.000071  2016-02-22T15:53:35.000071-08:00 37.394407 -122.083940\n",
       "54 1456185219.000070  2016-02-22T15:53:39.000070-08:00 37.394826 -122.083671\n",
       "55 1456185225.000070  2016-02-22T15:53:45.000070-08:00 37.395221 -122.083339"
      ]
     },
     "execution_count": 117,
     "metadata": {},
     "output_type": "execute_result"
    }
   ],
   "source": [
    "loc_entry_df = ts.get_data_df(\"background/filtered_location\", time_query=None)\n",
    "loc_entry_df[(loc_entry_df.local_dt_hour==15) & (loc_entry_df.local_dt_minute < 55)][[\"ts\", \"fmt_time\", \"latitude\", \"longitude\"]]"
   ]
  },
  {
   "cell_type": "markdown",
   "metadata": {},
   "source": [
    "### Zero speed investigation"
   ]
  },
  {
   "cell_type": "markdown",
   "metadata": {},
   "source": [
    "Load data for:\n",
    "- iphone_2016-02-22\n",
    "- shankari_2016-06-20"
   ]
  },
  {
   "cell_type": "code",
   "execution_count": 118,
   "metadata": {
    "collapsed": true
   },
   "outputs": [],
   "source": [
    "from uuid import UUID"
   ]
  },
  {
   "cell_type": "code",
   "execution_count": 119,
   "metadata": {
    "collapsed": false
   },
   "outputs": [],
   "source": [
    "query = {'$or': [{'metadata.key': 'background/filtered_location'}], 'user_id': UUID('079e0f1a-c440-3d7c-b0e7-de160f748e35'), 'data.ts': {'$lte': 1456199315.000033, '$gte': 1456198902.085297}}"
   ]
  },
  {
   "cell_type": "code",
   "execution_count": 120,
   "metadata": {
    "collapsed": false,
    "scrolled": true
   },
   "outputs": [
    {
     "data": {
      "text/html": [
       "<div>\n",
       "<table border=\"1\" class=\"dataframe\">\n",
       "  <thead>\n",
       "    <tr style=\"text-align: right;\">\n",
       "      <th></th>\n",
       "      <th>ts</th>\n",
       "      <th>latitude</th>\n",
       "      <th>longitude</th>\n",
       "      <th>metadata_write_ts</th>\n",
       "      <th>_id</th>\n",
       "    </tr>\n",
       "  </thead>\n",
       "  <tbody>\n",
       "    <tr>\n",
       "      <th>0</th>\n",
       "      <td>1456198902.085297</td>\n",
       "      <td>37.390678</td>\n",
       "      <td>-122.082629</td>\n",
       "      <td>1456198903.092138</td>\n",
       "      <td>56cbf570eaedff78c7636a48</td>\n",
       "    </tr>\n",
       "    <tr>\n",
       "      <th>1</th>\n",
       "      <td>1456198902.085297</td>\n",
       "      <td>37.390678</td>\n",
       "      <td>-122.082629</td>\n",
       "      <td>1456198903.092138</td>\n",
       "      <td>56cbd94beaedff78c7636755</td>\n",
       "    </tr>\n",
       "    <tr>\n",
       "      <th>2</th>\n",
       "      <td>1456198905.000030</td>\n",
       "      <td>37.390633</td>\n",
       "      <td>-122.082816</td>\n",
       "      <td>1456198905.121114</td>\n",
       "      <td>56cbf570eaedff78c7636a4c</td>\n",
       "    </tr>\n",
       "    <tr>\n",
       "      <th>3</th>\n",
       "      <td>1456198905.000030</td>\n",
       "      <td>37.390633</td>\n",
       "      <td>-122.082816</td>\n",
       "      <td>1456198905.121114</td>\n",
       "      <td>56cbd94beaedff78c7636757</td>\n",
       "    </tr>\n",
       "    <tr>\n",
       "      <th>4</th>\n",
       "      <td>1456198969.000034</td>\n",
       "      <td>37.390403</td>\n",
       "      <td>-122.082321</td>\n",
       "      <td>1456198969.145697</td>\n",
       "      <td>56cbf570eaedff78c7636a52</td>\n",
       "    </tr>\n",
       "    <tr>\n",
       "      <th>5</th>\n",
       "      <td>1456198969.000034</td>\n",
       "      <td>37.390403</td>\n",
       "      <td>-122.082321</td>\n",
       "      <td>1456198969.145697</td>\n",
       "      <td>56cbd94beaedff78c7636759</td>\n",
       "    </tr>\n",
       "    <tr>\n",
       "      <th>6</th>\n",
       "      <td>1456199001.000033</td>\n",
       "      <td>37.390838</td>\n",
       "      <td>-122.082146</td>\n",
       "      <td>1456199001.161527</td>\n",
       "      <td>56cbf570eaedff78c7636a55</td>\n",
       "    </tr>\n",
       "    <tr>\n",
       "      <th>7</th>\n",
       "      <td>1456199001.000033</td>\n",
       "      <td>37.390838</td>\n",
       "      <td>-122.082146</td>\n",
       "      <td>1456199001.161527</td>\n",
       "      <td>56cbd94beaedff78c763675b</td>\n",
       "    </tr>\n",
       "    <tr>\n",
       "      <th>8</th>\n",
       "      <td>1456199034.000033</td>\n",
       "      <td>37.391257</td>\n",
       "      <td>-122.081912</td>\n",
       "      <td>1456199034.163653</td>\n",
       "      <td>56cbf571eaedff78c7636a5a</td>\n",
       "    </tr>\n",
       "    <tr>\n",
       "      <th>9</th>\n",
       "      <td>1456199034.000033</td>\n",
       "      <td>37.391257</td>\n",
       "      <td>-122.081912</td>\n",
       "      <td>1456199034.163653</td>\n",
       "      <td>56cbd94beaedff78c763675d</td>\n",
       "    </tr>\n",
       "    <tr>\n",
       "      <th>10</th>\n",
       "      <td>1456199080.000033</td>\n",
       "      <td>37.391596</td>\n",
       "      <td>-122.081534</td>\n",
       "      <td>1456199080.137458</td>\n",
       "      <td>56cbf571eaedff78c7636a60</td>\n",
       "    </tr>\n",
       "    <tr>\n",
       "      <th>11</th>\n",
       "      <td>1456199080.000033</td>\n",
       "      <td>37.391596</td>\n",
       "      <td>-122.081534</td>\n",
       "      <td>1456199080.137458</td>\n",
       "      <td>56cbd94beaedff78c7636760</td>\n",
       "    </tr>\n",
       "    <tr>\n",
       "      <th>12</th>\n",
       "      <td>1456199158.000033</td>\n",
       "      <td>37.391534</td>\n",
       "      <td>-122.080959</td>\n",
       "      <td>1456199158.158537</td>\n",
       "      <td>56cbf571eaedff78c7636a64</td>\n",
       "    </tr>\n",
       "    <tr>\n",
       "      <th>13</th>\n",
       "      <td>1456199158.000033</td>\n",
       "      <td>37.391534</td>\n",
       "      <td>-122.080959</td>\n",
       "      <td>1456199158.158537</td>\n",
       "      <td>56cbd94beaedff78c7636762</td>\n",
       "    </tr>\n",
       "    <tr>\n",
       "      <th>14</th>\n",
       "      <td>1456199202.000034</td>\n",
       "      <td>37.391635</td>\n",
       "      <td>-122.080403</td>\n",
       "      <td>1456199202.161730</td>\n",
       "      <td>56cbf571eaedff78c7636a67</td>\n",
       "    </tr>\n",
       "    <tr>\n",
       "      <th>15</th>\n",
       "      <td>1456199202.000034</td>\n",
       "      <td>37.391635</td>\n",
       "      <td>-122.080403</td>\n",
       "      <td>1456199202.161730</td>\n",
       "      <td>56cbd94beaedff78c7636764</td>\n",
       "    </tr>\n",
       "    <tr>\n",
       "      <th>16</th>\n",
       "      <td>1456199231.000033</td>\n",
       "      <td>37.392064</td>\n",
       "      <td>-122.080217</td>\n",
       "      <td>1456199231.185850</td>\n",
       "      <td>56cbf571eaedff78c7636a6b</td>\n",
       "    </tr>\n",
       "    <tr>\n",
       "      <th>17</th>\n",
       "      <td>1456199231.000033</td>\n",
       "      <td>37.392064</td>\n",
       "      <td>-122.080217</td>\n",
       "      <td>1456199231.185850</td>\n",
       "      <td>56cbd94beaedff78c7636766</td>\n",
       "    </tr>\n",
       "    <tr>\n",
       "      <th>18</th>\n",
       "      <td>1456199315.000033</td>\n",
       "      <td>37.392359</td>\n",
       "      <td>-122.079788</td>\n",
       "      <td>1456199315.157882</td>\n",
       "      <td>56cbf571eaedff78c7636a70</td>\n",
       "    </tr>\n",
       "    <tr>\n",
       "      <th>19</th>\n",
       "      <td>1456199315.000033</td>\n",
       "      <td>37.392359</td>\n",
       "      <td>-122.079788</td>\n",
       "      <td>1456199315.157882</td>\n",
       "      <td>56cbd94beaedff78c7636768</td>\n",
       "    </tr>\n",
       "  </tbody>\n",
       "</table>\n",
       "</div>"
      ],
      "text/plain": [
       "                  ts  latitude   longitude  metadata_write_ts  \\\n",
       "0  1456198902.085297 37.390678 -122.082629  1456198903.092138   \n",
       "1  1456198902.085297 37.390678 -122.082629  1456198903.092138   \n",
       "2  1456198905.000030 37.390633 -122.082816  1456198905.121114   \n",
       "3  1456198905.000030 37.390633 -122.082816  1456198905.121114   \n",
       "4  1456198969.000034 37.390403 -122.082321  1456198969.145697   \n",
       "5  1456198969.000034 37.390403 -122.082321  1456198969.145697   \n",
       "6  1456199001.000033 37.390838 -122.082146  1456199001.161527   \n",
       "7  1456199001.000033 37.390838 -122.082146  1456199001.161527   \n",
       "8  1456199034.000033 37.391257 -122.081912  1456199034.163653   \n",
       "9  1456199034.000033 37.391257 -122.081912  1456199034.163653   \n",
       "10 1456199080.000033 37.391596 -122.081534  1456199080.137458   \n",
       "11 1456199080.000033 37.391596 -122.081534  1456199080.137458   \n",
       "12 1456199158.000033 37.391534 -122.080959  1456199158.158537   \n",
       "13 1456199158.000033 37.391534 -122.080959  1456199158.158537   \n",
       "14 1456199202.000034 37.391635 -122.080403  1456199202.161730   \n",
       "15 1456199202.000034 37.391635 -122.080403  1456199202.161730   \n",
       "16 1456199231.000033 37.392064 -122.080217  1456199231.185850   \n",
       "17 1456199231.000033 37.392064 -122.080217  1456199231.185850   \n",
       "18 1456199315.000033 37.392359 -122.079788  1456199315.157882   \n",
       "19 1456199315.000033 37.392359 -122.079788  1456199315.157882   \n",
       "\n",
       "                         _id  \n",
       "0   56cbf570eaedff78c7636a48  \n",
       "1   56cbd94beaedff78c7636755  \n",
       "2   56cbf570eaedff78c7636a4c  \n",
       "3   56cbd94beaedff78c7636757  \n",
       "4   56cbf570eaedff78c7636a52  \n",
       "5   56cbd94beaedff78c7636759  \n",
       "6   56cbf570eaedff78c7636a55  \n",
       "7   56cbd94beaedff78c763675b  \n",
       "8   56cbf571eaedff78c7636a5a  \n",
       "9   56cbd94beaedff78c763675d  \n",
       "10  56cbf571eaedff78c7636a60  \n",
       "11  56cbd94beaedff78c7636760  \n",
       "12  56cbf571eaedff78c7636a64  \n",
       "13  56cbd94beaedff78c7636762  \n",
       "14  56cbf571eaedff78c7636a67  \n",
       "15  56cbd94beaedff78c7636764  \n",
       "16  56cbf571eaedff78c7636a6b  \n",
       "17  56cbd94beaedff78c7636766  \n",
       "18  56cbf571eaedff78c7636a70  \n",
       "19  56cbd94beaedff78c7636768  "
      ]
     },
     "execution_count": 120,
     "metadata": {},
     "output_type": "execute_result"
    }
   ],
   "source": [
    "entries = [ecwe.Entry(e) for e in list(edb.get_timeseries_db().find(query).sort(\"data.ts\"))]\n",
    "loc_entry_df = pd.DataFrame([ts._to_df_entry(e) for e in entries])\n",
    "loc_entry_df[[\"ts\", \"latitude\", \"longitude\", \"metadata_write_ts\", \"_id\"]]"
   ]
  },
  {
   "cell_type": "code",
   "execution_count": 121,
   "metadata": {
    "collapsed": false
   },
   "outputs": [
    {
     "data": {
      "text/html": [
       "<div>\n",
       "<table border=\"1\" class=\"dataframe\">\n",
       "  <thead>\n",
       "    <tr style=\"text-align: right;\">\n",
       "      <th></th>\n",
       "      <th>ts</th>\n",
       "      <th>latitude</th>\n",
       "      <th>longitude</th>\n",
       "      <th>metadata_write_ts</th>\n",
       "      <th>_id</th>\n",
       "    </tr>\n",
       "  </thead>\n",
       "  <tbody>\n",
       "    <tr>\n",
       "      <th>0</th>\n",
       "      <td>1456198902.085297</td>\n",
       "      <td>37.390678</td>\n",
       "      <td>-122.082629</td>\n",
       "      <td>1456198903.092138</td>\n",
       "      <td>56cbf570eaedff78c7636a48</td>\n",
       "    </tr>\n",
       "    <tr>\n",
       "      <th>2</th>\n",
       "      <td>1456198905.000030</td>\n",
       "      <td>37.390633</td>\n",
       "      <td>-122.082816</td>\n",
       "      <td>1456198905.121114</td>\n",
       "      <td>56cbf570eaedff78c7636a4c</td>\n",
       "    </tr>\n",
       "    <tr>\n",
       "      <th>4</th>\n",
       "      <td>1456198969.000034</td>\n",
       "      <td>37.390403</td>\n",
       "      <td>-122.082321</td>\n",
       "      <td>1456198969.145697</td>\n",
       "      <td>56cbf570eaedff78c7636a52</td>\n",
       "    </tr>\n",
       "    <tr>\n",
       "      <th>6</th>\n",
       "      <td>1456199001.000033</td>\n",
       "      <td>37.390838</td>\n",
       "      <td>-122.082146</td>\n",
       "      <td>1456199001.161527</td>\n",
       "      <td>56cbf570eaedff78c7636a55</td>\n",
       "    </tr>\n",
       "    <tr>\n",
       "      <th>8</th>\n",
       "      <td>1456199034.000033</td>\n",
       "      <td>37.391257</td>\n",
       "      <td>-122.081912</td>\n",
       "      <td>1456199034.163653</td>\n",
       "      <td>56cbf571eaedff78c7636a5a</td>\n",
       "    </tr>\n",
       "    <tr>\n",
       "      <th>10</th>\n",
       "      <td>1456199080.000033</td>\n",
       "      <td>37.391596</td>\n",
       "      <td>-122.081534</td>\n",
       "      <td>1456199080.137458</td>\n",
       "      <td>56cbf571eaedff78c7636a60</td>\n",
       "    </tr>\n",
       "    <tr>\n",
       "      <th>12</th>\n",
       "      <td>1456199158.000033</td>\n",
       "      <td>37.391534</td>\n",
       "      <td>-122.080959</td>\n",
       "      <td>1456199158.158537</td>\n",
       "      <td>56cbf571eaedff78c7636a64</td>\n",
       "    </tr>\n",
       "    <tr>\n",
       "      <th>14</th>\n",
       "      <td>1456199202.000034</td>\n",
       "      <td>37.391635</td>\n",
       "      <td>-122.080403</td>\n",
       "      <td>1456199202.161730</td>\n",
       "      <td>56cbf571eaedff78c7636a67</td>\n",
       "    </tr>\n",
       "    <tr>\n",
       "      <th>16</th>\n",
       "      <td>1456199231.000033</td>\n",
       "      <td>37.392064</td>\n",
       "      <td>-122.080217</td>\n",
       "      <td>1456199231.185850</td>\n",
       "      <td>56cbf571eaedff78c7636a6b</td>\n",
       "    </tr>\n",
       "    <tr>\n",
       "      <th>18</th>\n",
       "      <td>1456199315.000033</td>\n",
       "      <td>37.392359</td>\n",
       "      <td>-122.079788</td>\n",
       "      <td>1456199315.157882</td>\n",
       "      <td>56cbf571eaedff78c7636a70</td>\n",
       "    </tr>\n",
       "  </tbody>\n",
       "</table>\n",
       "</div>"
      ],
      "text/plain": [
       "                  ts  latitude   longitude  metadata_write_ts  \\\n",
       "0  1456198902.085297 37.390678 -122.082629  1456198903.092138   \n",
       "2  1456198905.000030 37.390633 -122.082816  1456198905.121114   \n",
       "4  1456198969.000034 37.390403 -122.082321  1456198969.145697   \n",
       "6  1456199001.000033 37.390838 -122.082146  1456199001.161527   \n",
       "8  1456199034.000033 37.391257 -122.081912  1456199034.163653   \n",
       "10 1456199080.000033 37.391596 -122.081534  1456199080.137458   \n",
       "12 1456199158.000033 37.391534 -122.080959  1456199158.158537   \n",
       "14 1456199202.000034 37.391635 -122.080403  1456199202.161730   \n",
       "16 1456199231.000033 37.392064 -122.080217  1456199231.185850   \n",
       "18 1456199315.000033 37.392359 -122.079788  1456199315.157882   \n",
       "\n",
       "                         _id  \n",
       "0   56cbf570eaedff78c7636a48  \n",
       "2   56cbf570eaedff78c7636a4c  \n",
       "4   56cbf570eaedff78c7636a52  \n",
       "6   56cbf570eaedff78c7636a55  \n",
       "8   56cbf571eaedff78c7636a5a  \n",
       "10  56cbf571eaedff78c7636a60  \n",
       "12  56cbf571eaedff78c7636a64  \n",
       "14  56cbf571eaedff78c7636a67  \n",
       "16  56cbf571eaedff78c7636a6b  \n",
       "18  56cbf571eaedff78c7636a70  "
      ]
     },
     "execution_count": 121,
     "metadata": {},
     "output_type": "execute_result"
    }
   ],
   "source": [
    "deduped_loc_entry_df = loc_entry_df.drop_duplicates(subset=[\"ts\", \"metadata_write_ts\", \"latitude\", \"longitude\", \"altitude\", \"accuracy\"])\n",
    "deduped_loc_entry_df[[\"ts\", \"latitude\", \"longitude\", \"metadata_write_ts\", \"_id\"]]"
   ]
  },
  {
   "cell_type": "code",
   "execution_count": 122,
   "metadata": {
    "collapsed": false
   },
   "outputs": [
    {
     "data": {
      "text/plain": [
       "1.1200463971400958"
      ]
     },
     "execution_count": 122,
     "metadata": {},
     "output_type": "execute_result"
    }
   ],
   "source": [
    "with_speeds_df = eaicl.add_dist_heading_speed(deduped_loc_entry_df)\n",
    "with_speeds_df.speed.median()"
   ]
  },
  {
   "cell_type": "code",
   "execution_count": 123,
   "metadata": {
    "collapsed": true
   },
   "outputs": [],
   "source": [
    "from uuid import UUID"
   ]
  },
  {
   "cell_type": "code",
   "execution_count": 124,
   "metadata": {
    "collapsed": false
   },
   "outputs": [],
   "source": [
    "query = {'$or': [{'metadata.key': 'background/filtered_location'}], 'user_id': UUID('0763de67f61e3f5d90e7518e69793954'), 'metadata.write_ts': {'$lte': 1472185672.217289}}"
   ]
  },
  {
   "cell_type": "code",
   "execution_count": 125,
   "metadata": {
    "collapsed": false,
    "scrolled": true
   },
   "outputs": [
    {
     "data": {
      "text/html": [
       "<div>\n",
       "<table border=\"1\" class=\"dataframe\">\n",
       "  <thead>\n",
       "    <tr style=\"text-align: right;\">\n",
       "      <th></th>\n",
       "      <th>ts</th>\n",
       "      <th>latitude</th>\n",
       "      <th>longitude</th>\n",
       "      <th>metadata_write_ts</th>\n",
       "      <th>_id</th>\n",
       "    </tr>\n",
       "  </thead>\n",
       "  <tbody>\n",
       "    <tr>\n",
       "      <th>0</th>\n",
       "      <td>1466436483.395000</td>\n",
       "      <td>37.389805</td>\n",
       "      <td>-122.085786</td>\n",
       "      <td>1466436497.047000</td>\n",
       "      <td>576810cb4a9bba50e3fa1d56</td>\n",
       "    </tr>\n",
       "    <tr>\n",
       "      <th>1</th>\n",
       "      <td>1466436483.395000</td>\n",
       "      <td>37.389805</td>\n",
       "      <td>-122.085786</td>\n",
       "      <td>1466436497.047000</td>\n",
       "      <td>57681ee64a9bba50e3fa1fe0</td>\n",
       "    </tr>\n",
       "    <tr>\n",
       "      <th>2</th>\n",
       "      <td>1466436506.530000</td>\n",
       "      <td>37.389532</td>\n",
       "      <td>-122.085291</td>\n",
       "      <td>1466436508.614000</td>\n",
       "      <td>576810cb4a9bba50e3fa1d59</td>\n",
       "    </tr>\n",
       "    <tr>\n",
       "      <th>3</th>\n",
       "      <td>1466436506.530000</td>\n",
       "      <td>37.389532</td>\n",
       "      <td>-122.085291</td>\n",
       "      <td>1466436508.614000</td>\n",
       "      <td>57681ee64a9bba50e3fa1fe3</td>\n",
       "    </tr>\n",
       "    <tr>\n",
       "      <th>4</th>\n",
       "      <td>1466436515.231000</td>\n",
       "      <td>37.389701</td>\n",
       "      <td>-122.085216</td>\n",
       "      <td>1466436530.006000</td>\n",
       "      <td>576810cb4a9bba50e3fa1d5c</td>\n",
       "    </tr>\n",
       "  </tbody>\n",
       "</table>\n",
       "</div>"
      ],
      "text/plain": [
       "                 ts  latitude   longitude  metadata_write_ts  \\\n",
       "0 1466436483.395000 37.389805 -122.085786  1466436497.047000   \n",
       "1 1466436483.395000 37.389805 -122.085786  1466436497.047000   \n",
       "2 1466436506.530000 37.389532 -122.085291  1466436508.614000   \n",
       "3 1466436506.530000 37.389532 -122.085291  1466436508.614000   \n",
       "4 1466436515.231000 37.389701 -122.085216  1466436530.006000   \n",
       "\n",
       "                        _id  \n",
       "0  576810cb4a9bba50e3fa1d56  \n",
       "1  57681ee64a9bba50e3fa1fe0  \n",
       "2  576810cb4a9bba50e3fa1d59  \n",
       "3  57681ee64a9bba50e3fa1fe3  \n",
       "4  576810cb4a9bba50e3fa1d5c  "
      ]
     },
     "execution_count": 125,
     "metadata": {},
     "output_type": "execute_result"
    }
   ],
   "source": [
    "entries = [ecwe.Entry(e) for e in list(edb.get_timeseries_db().find(query).sort(\"data.ts\"))]\n",
    "loc_entry_df = pd.DataFrame([ts._to_df_entry(e) for e in entries])\n",
    "loc_entry_df[[\"ts\", \"latitude\", \"longitude\", \"metadata_write_ts\", \"_id\"]].head()"
   ]
  },
  {
   "cell_type": "code",
   "execution_count": 126,
   "metadata": {
    "collapsed": false
   },
   "outputs": [
    {
     "data": {
      "text/html": [
       "<div>\n",
       "<table border=\"1\" class=\"dataframe\">\n",
       "  <thead>\n",
       "    <tr style=\"text-align: right;\">\n",
       "      <th></th>\n",
       "      <th>ts</th>\n",
       "      <th>latitude</th>\n",
       "      <th>longitude</th>\n",
       "      <th>metadata_write_ts</th>\n",
       "      <th>_id</th>\n",
       "    </tr>\n",
       "  </thead>\n",
       "  <tbody>\n",
       "    <tr>\n",
       "      <th>0</th>\n",
       "      <td>1466436483.395000</td>\n",
       "      <td>37.389805</td>\n",
       "      <td>-122.085786</td>\n",
       "      <td>1466436497.047000</td>\n",
       "      <td>576810cb4a9bba50e3fa1d56</td>\n",
       "    </tr>\n",
       "    <tr>\n",
       "      <th>2</th>\n",
       "      <td>1466436506.530000</td>\n",
       "      <td>37.389532</td>\n",
       "      <td>-122.085291</td>\n",
       "      <td>1466436508.614000</td>\n",
       "      <td>576810cb4a9bba50e3fa1d59</td>\n",
       "    </tr>\n",
       "    <tr>\n",
       "      <th>4</th>\n",
       "      <td>1466436515.231000</td>\n",
       "      <td>37.389701</td>\n",
       "      <td>-122.085216</td>\n",
       "      <td>1466436530.006000</td>\n",
       "      <td>576810cb4a9bba50e3fa1d5c</td>\n",
       "    </tr>\n",
       "    <tr>\n",
       "      <th>6</th>\n",
       "      <td>1466436546.031000</td>\n",
       "      <td>37.389305</td>\n",
       "      <td>-122.084656</td>\n",
       "      <td>1466436546.833000</td>\n",
       "      <td>576810cb4a9bba50e3fa1d5f</td>\n",
       "    </tr>\n",
       "    <tr>\n",
       "      <th>8</th>\n",
       "      <td>1466436553.963000</td>\n",
       "      <td>37.389305</td>\n",
       "      <td>-122.084656</td>\n",
       "      <td>1466436561.020000</td>\n",
       "      <td>576810cb4a9bba50e3fa1d62</td>\n",
       "    </tr>\n",
       "  </tbody>\n",
       "</table>\n",
       "</div>"
      ],
      "text/plain": [
       "                 ts  latitude   longitude  metadata_write_ts  \\\n",
       "0 1466436483.395000 37.389805 -122.085786  1466436497.047000   \n",
       "2 1466436506.530000 37.389532 -122.085291  1466436508.614000   \n",
       "4 1466436515.231000 37.389701 -122.085216  1466436530.006000   \n",
       "6 1466436546.031000 37.389305 -122.084656  1466436546.833000   \n",
       "8 1466436553.963000 37.389305 -122.084656  1466436561.020000   \n",
       "\n",
       "                        _id  \n",
       "0  576810cb4a9bba50e3fa1d56  \n",
       "2  576810cb4a9bba50e3fa1d59  \n",
       "4  576810cb4a9bba50e3fa1d5c  \n",
       "6  576810cb4a9bba50e3fa1d5f  \n",
       "8  576810cb4a9bba50e3fa1d62  "
      ]
     },
     "execution_count": 126,
     "metadata": {},
     "output_type": "execute_result"
    }
   ],
   "source": [
    "deduped_loc_entry_df = loc_entry_df.drop_duplicates(subset=[\"ts\", \"metadata_write_ts\", \"latitude\", \"longitude\", \"altitude\", \"accuracy\"])\n",
    "deduped_loc_entry_df[[\"ts\", \"latitude\", \"longitude\", \"metadata_write_ts\", \"_id\"]].head()"
   ]
  },
  {
   "cell_type": "markdown",
   "metadata": {},
   "source": [
    "## Dataframe testing"
   ]
  },
  {
   "cell_type": "code",
   "execution_count": 127,
   "metadata": {
    "collapsed": false
   },
   "outputs": [
    {
     "data": {
      "text/html": [
       "<div>\n",
       "<table border=\"1\" class=\"dataframe\">\n",
       "  <thead>\n",
       "    <tr style=\"text-align: right;\">\n",
       "      <th></th>\n",
       "      <th>A</th>\n",
       "      <th>B</th>\n",
       "    </tr>\n",
       "  </thead>\n",
       "  <tbody>\n",
       "    <tr>\n",
       "      <th>0</th>\n",
       "      <td>1</td>\n",
       "      <td>11</td>\n",
       "    </tr>\n",
       "    <tr>\n",
       "      <th>1</th>\n",
       "      <td>2</td>\n",
       "      <td>12</td>\n",
       "    </tr>\n",
       "    <tr>\n",
       "      <th>2</th>\n",
       "      <td>3</td>\n",
       "      <td>13</td>\n",
       "    </tr>\n",
       "  </tbody>\n",
       "</table>\n",
       "</div>"
      ],
      "text/plain": [
       "   A   B\n",
       "0  1  11\n",
       "1  2  12\n",
       "2  3  13"
      ]
     },
     "execution_count": 127,
     "metadata": {},
     "output_type": "execute_result"
    }
   ],
   "source": [
    "test_df = pd.DataFrame({\"A\": [1,2,3], \"B\": [11,12,13]})\n",
    "test_df"
   ]
  },
  {
   "cell_type": "code",
   "execution_count": 128,
   "metadata": {
    "collapsed": false
   },
   "outputs": [
    {
     "data": {
      "text/html": [
       "<div>\n",
       "<table border=\"1\" class=\"dataframe\">\n",
       "  <thead>\n",
       "    <tr style=\"text-align: right;\">\n",
       "      <th></th>\n",
       "      <th>A</th>\n",
       "      <th>B</th>\n",
       "    </tr>\n",
       "  </thead>\n",
       "  <tbody>\n",
       "    <tr>\n",
       "      <th>0</th>\n",
       "      <td>1</td>\n",
       "      <td>11</td>\n",
       "    </tr>\n",
       "    <tr>\n",
       "      <th>1</th>\n",
       "      <td>2</td>\n",
       "      <td>12</td>\n",
       "    </tr>\n",
       "    <tr>\n",
       "      <th>2</th>\n",
       "      <td>3</td>\n",
       "      <td>13</td>\n",
       "    </tr>\n",
       "    <tr>\n",
       "      <th>-1</th>\n",
       "      <td>0</td>\n",
       "      <td>10</td>\n",
       "    </tr>\n",
       "  </tbody>\n",
       "</table>\n",
       "</div>"
      ],
      "text/plain": [
       "    A   B\n",
       " 0  1  11\n",
       " 1  2  12\n",
       " 2  3  13\n",
       "-1  0  10"
      ]
     },
     "execution_count": 128,
     "metadata": {},
     "output_type": "execute_result"
    }
   ],
   "source": [
    "test_df.loc[-1] = {'B': 10, 'A': 0}\n",
    "test_df"
   ]
  },
  {
   "cell_type": "code",
   "execution_count": 129,
   "metadata": {
    "collapsed": false,
    "scrolled": true
   },
   "outputs": [
    {
     "data": {
      "text/html": [
       "<div>\n",
       "<table border=\"1\" class=\"dataframe\">\n",
       "  <thead>\n",
       "    <tr style=\"text-align: right;\">\n",
       "      <th></th>\n",
       "      <th>A</th>\n",
       "      <th>B</th>\n",
       "    </tr>\n",
       "  </thead>\n",
       "  <tbody>\n",
       "    <tr>\n",
       "      <th>0</th>\n",
       "      <td>0</td>\n",
       "      <td>10</td>\n",
       "    </tr>\n",
       "    <tr>\n",
       "      <th>1</th>\n",
       "      <td>1</td>\n",
       "      <td>11</td>\n",
       "    </tr>\n",
       "    <tr>\n",
       "      <th>2</th>\n",
       "      <td>2</td>\n",
       "      <td>12</td>\n",
       "    </tr>\n",
       "    <tr>\n",
       "      <th>3</th>\n",
       "      <td>3</td>\n",
       "      <td>13</td>\n",
       "    </tr>\n",
       "  </tbody>\n",
       "</table>\n",
       "</div>"
      ],
      "text/plain": [
       "   A   B\n",
       "0  0  10\n",
       "1  1  11\n",
       "2  2  12\n",
       "3  3  13"
      ]
     },
     "execution_count": 129,
     "metadata": {},
     "output_type": "execute_result"
    }
   ],
   "source": [
    "test_df.sort_index().reset_index(drop=True)"
   ]
  },
  {
   "cell_type": "code",
   "execution_count": 130,
   "metadata": {
    "collapsed": false
   },
   "outputs": [
    {
     "data": {
      "text/html": [
       "<div>\n",
       "<table border=\"1\" class=\"dataframe\">\n",
       "  <thead>\n",
       "    <tr style=\"text-align: right;\">\n",
       "      <th></th>\n",
       "      <th>A</th>\n",
       "    </tr>\n",
       "  </thead>\n",
       "  <tbody>\n",
       "    <tr>\n",
       "      <th>0</th>\n",
       "      <td>1</td>\n",
       "    </tr>\n",
       "    <tr>\n",
       "      <th>1</th>\n",
       "      <td>2</td>\n",
       "    </tr>\n",
       "    <tr>\n",
       "      <th>2</th>\n",
       "      <td>3</td>\n",
       "    </tr>\n",
       "    <tr>\n",
       "      <th>-1</th>\n",
       "      <td>0</td>\n",
       "    </tr>\n",
       "  </tbody>\n",
       "</table>\n",
       "</div>"
      ],
      "text/plain": [
       "    A\n",
       " 0  1\n",
       " 1  2\n",
       " 2  3\n",
       "-1  0"
      ]
     },
     "execution_count": 130,
     "metadata": {},
     "output_type": "execute_result"
    }
   ],
   "source": [
    "test_df.drop([\"B\"], axis=1)"
   ]
  },
  {
   "cell_type": "code",
   "execution_count": 131,
   "metadata": {
    "collapsed": false
   },
   "outputs": [
    {
     "data": {
      "text/html": [
       "<div>\n",
       "<table border=\"1\" class=\"dataframe\">\n",
       "  <thead>\n",
       "    <tr style=\"text-align: right;\">\n",
       "      <th></th>\n",
       "      <th>A</th>\n",
       "      <th>B</th>\n",
       "    </tr>\n",
       "  </thead>\n",
       "  <tbody>\n",
       "    <tr>\n",
       "      <th>2</th>\n",
       "      <td>3</td>\n",
       "      <td>13</td>\n",
       "    </tr>\n",
       "    <tr>\n",
       "      <th>-1</th>\n",
       "      <td>0</td>\n",
       "      <td>10</td>\n",
       "    </tr>\n",
       "  </tbody>\n",
       "</table>\n",
       "</div>"
      ],
      "text/plain": [
       "    A   B\n",
       " 2  3  13\n",
       "-1  0  10"
      ]
     },
     "execution_count": 131,
     "metadata": {},
     "output_type": "execute_result"
    }
   ],
   "source": [
    "valid = [1,2]\n",
    "test_df[np.logical_not(test_df.A.isin(valid))]"
   ]
  }
 ],
 "metadata": {
  "kernelspec": {
   "display_name": "Python 2",
   "language": "python",
   "name": "python2"
  },
  "language_info": {
   "codemirror_mode": {
    "name": "ipython",
    "version": 2
   },
   "file_extension": ".py",
   "mimetype": "text/x-python",
   "name": "python",
   "nbconvert_exporter": "python",
   "pygments_lexer": "ipython2",
   "version": "2.7.11"
  }
 },
 "nbformat": 4,
 "nbformat_minor": 0
}
