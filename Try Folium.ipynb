{
 "metadata": {
  "name": "",
  "signature": "sha256:c99e4a575126638c0a9163777e306148789ea06981b85207ae82c61cb19e0892"
 },
 "nbformat": 3,
 "nbformat_minor": 0,
 "worksheets": [
  {
   "cells": [
    {
     "cell_type": "code",
     "collapsed": false,
     "input": [
      "import folium"
     ],
     "language": "python",
     "metadata": {},
     "outputs": [],
     "prompt_number": 1
    },
    {
     "cell_type": "code",
     "collapsed": false,
     "input": [
      "from IPython.display import HTML\n",
      "import folium\n",
      " \n",
      "def inline_map(map):\n",
      "    \"\"\"\n",
      "    Embeds the HTML source of the map directly into the IPython notebook.\n",
      "    \n",
      "    This method will not work if the map depends on any files (json data). Also this uses\n",
      "    the HTML5 srcdoc attribute, which may not be supported in all browsers.\n",
      "    \"\"\"\n",
      "    map._build_map()\n",
      "    return HTML('<iframe srcdoc=\"{srcdoc}\" style=\"width: 100%; height: 510px; border: none\"></iframe>'.format(srcdoc=map.HTML.replace('\"', '&quot;')))\n",
      " \n",
      "def embed_map(map, path=\"map.html\"):\n",
      "    \"\"\"\n",
      "    Embeds a linked iframe to the map into the IPython notebook.\n",
      "    \n",
      "    Note: this method will not capture the source of the map into the notebook.\n",
      "    This method should work for all maps (as long as they use relative urls).\n",
      "    \"\"\"\n",
      "    map.create_map(path=path)\n",
      "    return HTML('<iframe src=\"files/{path}\" style=\"width: 100%; height: 510px; border: none\"></iframe>'.format(path=path))"
     ],
     "language": "python",
     "metadata": {},
     "outputs": [],
     "prompt_number": 7
    },
    {
     "cell_type": "code",
     "collapsed": false,
     "input": [
      "def embed_again(fmaps, width='100%', height='510px', *args, **kwargs):\n",
      "    \"\"\"\n",
      "    Embeds a folium map in a IPython/Jupyter notebook.\n",
      "    This method will not work if the map depends on any files (json data). Also this uses\n",
      "    the HTML5 srcdoc attribute, which may not be supported in all browsers.\n",
      "    fmaps -- a single folium map or an iterable containing folium maps\n",
      "    \"\"\"\n",
      "    from IPython.display import HTML\n",
      "    template = '<iframe srcdoc=\"{srcdoc}\" style=\"width: {width}; height: {height}; border: none\"></iframe>'\n",
      "    html = ''\n",
      "    try:\n",
      "        for fmap in fmaps:\n",
      "            fmap._build_map()\n",
      "            html += template.format(\n",
      "                srcdoc=fmap.HTML.replace('\"', '&quot;'),\n",
      "                height=str(height),\n",
      "                width=str(width),\n",
      "            )\n",
      "    except TypeError:\n",
      "        fmap = fmaps\n",
      "        fmap._build_map()\n",
      "        html = template.format(\n",
      "            srcdoc=fmap.HTML.replace('\"', '&quot;'),\n",
      "            height=str(height),\n",
      "            width=str(width),\n",
      "        )\n",
      "        return HTML(html)"
     ],
     "language": "python",
     "metadata": {},
     "outputs": [],
     "prompt_number": 8
    },
    {
     "cell_type": "code",
     "collapsed": false,
     "input": [
      "fmap = folium.Map(location=[37,-122])\n",
      "embed_map(fmap)"
     ],
     "language": "python",
     "metadata": {},
     "outputs": [
      {
       "html": [
        "<iframe src=\"files/map.html\" style=\"width: 100%; height: 510px; border: none\"></iframe>"
       ],
       "metadata": {},
       "output_type": "pyout",
       "prompt_number": 12,
       "text": [
        "<IPython.core.display.HTML at 0x10903ccd0>"
       ]
      }
     ],
     "prompt_number": 12
    },
    {
     "cell_type": "code",
     "collapsed": false,
     "input": [],
     "language": "python",
     "metadata": {},
     "outputs": []
    }
   ],
   "metadata": {}
  }
 ]
}