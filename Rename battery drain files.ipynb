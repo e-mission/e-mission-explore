{
 "metadata": {
  "name": "",
  "signature": "sha256:9e87fa0435ceda284206d24c150408e83ea81e00996d0382502c8cf3ac7d89d4"
 },
 "nbformat": 3,
 "nbformat_minor": 0,
 "worksheets": [
  {
   "cells": [
    {
     "cell_type": "code",
     "collapsed": false,
     "input": [
      "import os"
     ],
     "language": "python",
     "metadata": {},
     "outputs": [],
     "prompt_number": 1
    },
    {
     "cell_type": "code",
     "collapsed": false,
     "input": [
      "os.chdir(\"power_drain/data\")"
     ],
     "language": "python",
     "metadata": {},
     "outputs": [
      {
       "ename": "OSError",
       "evalue": "[Errno 2] No such file or directory: 'power_drain/data'",
       "output_type": "pyerr",
       "traceback": [
        "\u001b[0;31m---------------------------------------------------------------------------\u001b[0m\n\u001b[0;31mOSError\u001b[0m                                   Traceback (most recent call last)",
        "\u001b[0;32m<ipython-input-48-448b637d6a42>\u001b[0m in \u001b[0;36m<module>\u001b[0;34m()\u001b[0m\n\u001b[0;32m----> 1\u001b[0;31m \u001b[0mos\u001b[0m\u001b[0;34m.\u001b[0m\u001b[0mchdir\u001b[0m\u001b[0;34m(\u001b[0m\u001b[0;34m\"power_drain/data\"\u001b[0m\u001b[0;34m)\u001b[0m\u001b[0;34m\u001b[0m\u001b[0m\n\u001b[0m",
        "\u001b[0;31mOSError\u001b[0m: [Errno 2] No such file or directory: 'power_drain/data'"
       ]
      }
     ],
     "prompt_number": 48
    },
    {
     "cell_type": "code",
     "collapsed": false,
     "input": [
      "import fnmatch"
     ],
     "language": "python",
     "metadata": {},
     "outputs": [],
     "prompt_number": 4
    },
    {
     "cell_type": "code",
     "collapsed": false,
     "input": [
      "import datetime\n",
      "import time"
     ],
     "language": "python",
     "metadata": {},
     "outputs": [],
     "prompt_number": 23
    },
    {
     "cell_type": "code",
     "collapsed": false,
     "input": [
      "def to_ts(dt):\n",
      "    return time.mktime(dt.timetuple())"
     ],
     "language": "python",
     "metadata": {},
     "outputs": [],
     "prompt_number": 24
    },
    {
     "cell_type": "code",
     "collapsed": false,
     "input": [
      "print to_ts(datetime.datetime(2015,10,21,10,11,12))\n",
      "print datetime.datetime.fromtimestamp(to_ts(datetime.datetime(2015, 10, 21,10,11,12)))"
     ],
     "language": "python",
     "metadata": {},
     "outputs": [
      {
       "output_type": "stream",
       "stream": "stdout",
       "text": [
        "1445447472.0\n",
        "2015-10-21 10:11:12\n"
       ]
      }
     ],
     "prompt_number": 28
    },
    {
     "cell_type": "code",
     "collapsed": false,
     "input": [
      "def get_fixed_ts(ts):\n",
      "    dt = datetime.datetime.fromtimestamp(ts)\n",
      "    if dt.month == 11:\n",
      "        return to_ts(dt + datetime.timedelta(days=-31))\n",
      "    else:\n",
      "        return to_ts(dt)"
     ],
     "language": "python",
     "metadata": {},
     "outputs": [],
     "prompt_number": 39
    },
    {
     "cell_type": "code",
     "collapsed": false,
     "input": [
      "datetime.datetime.fromtimestamp(get_fixed_ts(to_ts(datetime.datetime(2015,10,21))))"
     ],
     "language": "python",
     "metadata": {},
     "outputs": [
      {
       "metadata": {},
       "output_type": "pyout",
       "prompt_number": 43,
       "text": [
        "datetime.datetime(2015, 10, 21, 0, 0)"
       ]
      }
     ],
     "prompt_number": 43
    },
    {
     "cell_type": "code",
     "collapsed": false,
     "input": [
      "datetime.datetime.fromtimestamp(get_fixed_ts(to_ts(datetime.datetime(2015,11,21))))"
     ],
     "language": "python",
     "metadata": {},
     "outputs": [
      {
       "metadata": {},
       "output_type": "pyout",
       "prompt_number": 45,
       "text": [
        "datetime.datetime(2015, 10, 21, 0, 0)"
       ]
      }
     ],
     "prompt_number": 45
    },
    {
     "cell_type": "code",
     "collapsed": false,
     "input": [
      "def rename_if_needed(fn, start_ts, end_ts):\n",
      "    start_fixed_ts = get_fixed_ts(start_ts)\n",
      "    end_fixed_ts = get_fixed_ts(end_ts)\n",
      "    \n",
      "    fixed_fn = fn\n",
      "    if start_fixed_ts != start_ts:\n",
      "        fixed_fn = fixed_fn.replace(str(start_ts), str(start_fixed_ts))\n",
      "    if end_fixed_ts != end_ts:\n",
      "        fixed_fn = fixed_fn.replace(str(end_ts), str(end_fixed_ts))\n",
      "    \n",
      "    if fn != fixed_fn:\n",
      "        print(\"renaming %s -> %s\" % (fn, fixed_fn))\n",
      "        os.rename(fn, fixed_fn)"
     ],
     "language": "python",
     "metadata": {},
     "outputs": [],
     "prompt_number": 54
    },
    {
     "cell_type": "code",
     "collapsed": false,
     "input": [
      "for path in os.listdir(\".\"):\n",
      "    # print path\n",
      "    filename = path\n",
      "    # print filename\n",
      "    parts = filename.split('_')\n",
      "    # print parts\n",
      "    if fnmatch.fnmatch(filename, \"geofence_100m_*\"):\n",
      "        print parts[7], parts[9]\n",
      "        rename_if_needed(filename, long(parts[7]), long(parts[9]))\n",
      "    if fnmatch.fnmatch(filename, \"no_data_collection*\"):\n",
      "        print parts[3], parts[5]\n",
      "        rename_if_needed(filename, long(parts[3]), long(parts[5]))\n",
      "    if fnmatch.fnmatch(filename, \"mobility_plus_fused*\"):\n",
      "        print parts[6], parts[8]\n",
      "        rename_if_needed(filename, long(parts[6]), long(parts[8]))\n",
      "    if fnmatch.fnmatch(filename, \"ongoing_plus*\"):\n",
      "        print parts[6], parts[8]\n",
      "        rename_if_needed(filename, long(parts[6]), long(parts[8]))"
     ],
     "language": "python",
     "metadata": {},
     "outputs": [
      {
       "output_type": "stream",
       "stream": "stdout",
       "text": [
        "1448128800 1448150400\n",
        "renaming geofence_100m_plus_fused_balanced_power_1min_1448128800_to_1448150400 -> geofence_100m_plus_fused_balanced_power_1min_1445446800.0_to_1445468400.0\n",
        "1448128800 1448150400\n",
        "renaming geofence_100m_plus_fused_balanced_power_1min_1448128800_to_1448150400_checkin -> geofence_100m_plus_fused_balanced_power_1min_1445446800.0_to_1445468400.0_checkin\n",
        "1448106000 1448127600\n",
        "renaming geofence_100m_plus_fused_balanced_power_2sec_1448106000_to_1448127600 -> geofence_100m_plus_fused_balanced_power_2sec_1445424000.0_to_1445445600.0\n",
        "1448106000 1448127600\n",
        "renaming geofence_100m_plus_fused_balanced_power_2sec_1448106000_to_1448127600_checkin -> geofence_100m_plus_fused_balanced_power_2sec_1445424000.0_to_1445445600.0_checkin\n",
        "1445896243 1445918025\n",
        "1445896243 1445918025\n",
        "1445957053 1445979189\n",
        "1445957053 1445979189\n",
        "1448031600 1448053200\n",
        "renaming geofence_100m_plus_fused_balanced_power_30sec_1448031600_to_1448053200 -> geofence_100m_plus_fused_balanced_power_30sec_1445349600.0_to_1445371200.0\n",
        "1448031600 1448053200\n",
        "renaming geofence_100m_plus_fused_balanced_power_30sec_1448031600_to_1448053200_checkin -> geofence_100m_plus_fused_balanced_power_30sec_1445349600.0_to_1445371200.0_checkin\n",
        "1448556300 1445896011\n",
        "renaming geofence_100m_plus_fused_balanced_power_30sec_1448556300_to_1445896011 -> geofence_100m_plus_fused_balanced_power_30sec_1445874300.0_to_1445896011\n",
        "1448556300 1445896011\n",
        "renaming geofence_100m_plus_fused_balanced_power_30sec_1448556300_to_1445896011_checkin -> geofence_100m_plus_fused_balanced_power_30sec_1445874300.0_to_1445896011_checkin\n",
        "1448222400 1448245800\n",
        "renaming geofence_100m_plus_fused_high_accuracy_30sec_1448222400_to_1448245800 -> geofence_100m_plus_fused_high_accuracy_30sec_1445540400.0_to_1445563800.0\n",
        "1448222400 1448245800\n",
        "renaming geofence_100m_plus_fused_high_accuracy_30sec_1448222400_to_1448245800_checkin -> geofence_100m_plus_fused_high_accuracy_30sec_1445540400.0_to_1445563800.0_checkin\n",
        "1448195400 1448215200\n",
        "renaming mobility_plus_fused_balanced_power_1min_1448195400_to_1448215200 -> mobility_plus_fused_balanced_power_1min_1445513400.0_to_1445533200.0\n",
        "1448195400 1448215200\n",
        "renaming mobility_plus_fused_balanced_power_1min_1448195400_to_1448215200_checkin -> mobility_plus_fused_balanced_power_1min_1445513400.0_to_1445533200.0_checkin\n",
        "1445842956 1445865080\n",
        "1445842956 1445865080\n",
        "1445930191 1445953692\n",
        "1445930191 1445953692\n",
        "1446023140 1446044728\n",
        "1446023140 1446044728\n",
        "1446105740 1446128077\n",
        "1446105740 1446128077\n",
        "1446150661 1446174574\n",
        "1446150661 1446174574\n",
        "1446186810 1446212637\n",
        "1446186810 1446212637\n",
        "1448173800 1448195400\n",
        "renaming no_data_collection_1448173800_to_1448195400 -> no_data_collection_1445491800.0_to_1445513400.0\n",
        "1448173800 1448195400\n",
        "renaming no_data_collection_1448173800_to_1448195400_checkin -> no_data_collection_1445491800.0_to_1445513400.0_checkin\n",
        "1448265600 1448287200\n",
        "renaming no_data_collection_1448265600_to_1448287200 -> no_data_collection_1445583600.0_to_1445605200.0\n",
        "1448265600 1448287200\n",
        "renaming no_data_collection_1448265600_to_1448287200_checkin -> no_data_collection_1445583600.0_to_1445605200.0_checkin\n",
        "1448290800 1448312400\n",
        "renaming no_data_collection_1448290800_to_1448312400 -> no_data_collection_1445608800.0_to_1445630400.0\n",
        "1448290800 1448312400\n",
        "renaming no_data_collection_1448290800_to_1448312400_checkin -> no_data_collection_1445608800.0_to_1445630400.0_checkin\n",
        "1448352000 1448373600\n",
        "renaming no_data_collection_1448352000_to_1448373600 -> no_data_collection_1445670000.0_to_1445691600.0\n",
        "1448352000 1448373600\n",
        "renaming no_data_collection_1448352000_to_1448373600_checkin -> no_data_collection_1445670000.0_to_1445691600.0_checkin\n",
        "1448150400 1448172000\n",
        "renaming ongoing_plus_fused_balanced_power_1min_1448150400_to_1448172000 -> ongoing_plus_fused_balanced_power_1min_1445468400.0_to_1445490000.0\n",
        "1448150400 1448172000\n",
        "renaming ongoing_plus_fused_balanced_power_1min_1448150400_to_1448172000_checkin -> ongoing_plus_fused_balanced_power_1min_1445468400.0_to_1445490000.0_checkin\n",
        "1448083800 1448105400\n",
        "renaming ongoing_plus_fused_balanced_power_2sec_1448083800_to_1448105400 -> ongoing_plus_fused_balanced_power_2sec_1445401800.0_to_1445423400.0\n",
        "1448083800 1448105400\n",
        "renaming ongoing_plus_fused_balanced_power_2sec_1448083800_to_1448105400_checkin -> ongoing_plus_fused_balanced_power_2sec_1445401800.0_to_1445423400.0_checkin\n",
        "1445980311 1446002095\n",
        "1445980311 1446002095\n",
        "1446002095 1446023140\n",
        "1446002095 1446023140\n",
        "1446045087 1446068393\n",
        "1446045087 1446068393\n",
        "1446068421 1446105101\n",
        "1446068421 1446105101\n",
        "1446129513 1446150502\n",
        "1446129513 1446150502\n",
        "1448055000 1448076600\n",
        "renaming ongoing_plus_fused_balanced_power_30sec_1448055000_to_1448076600 -> ongoing_plus_fused_balanced_power_30sec_1445373000.0_to_1445394600.0\n",
        "1448055000 1448076600\n",
        "renaming ongoing_plus_fused_balanced_power_30sec_1448055000_to_1448076600_checkin -> ongoing_plus_fused_balanced_power_30sec_1445373000.0_to_1445394600.0_checkin\n",
        "1448245800 1448265600\n",
        "renaming ongoing_plus_fused_high_accuracy_30sec_1448245800_to_1448265600 -> ongoing_plus_fused_high_accuracy_30sec_1445563800.0_to_1445583600.0\n",
        "1448245800 1448265600\n",
        "renaming ongoing_plus_fused_high_accuracy_30sec_1448245800_to_1448265600_checkin -> ongoing_plus_fused_high_accuracy_30sec_1445563800.0_to_1445583600.0_checkin\n"
       ]
      }
     ],
     "prompt_number": 55
    },
    {
     "cell_type": "code",
     "collapsed": false,
     "input": [],
     "language": "python",
     "metadata": {},
     "outputs": []
    }
   ],
   "metadata": {}
  }
 ]
}