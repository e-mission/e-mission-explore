{
 "metadata": {
  "name": "",
  "signature": "sha256:b9dcc1069561914fb571b441dd026d09cc11f8aae5ab8d1bcb1bc2a50d8b968e"
 },
 "nbformat": 3,
 "nbformat_minor": 0,
 "worksheets": [
  {
   "cells": [
    {
     "cell_type": "code",
     "collapsed": false,
     "input": [
      "import pandas as pd"
     ],
     "language": "python",
     "metadata": {},
     "outputs": [],
     "prompt_number": 1
    },
    {
     "cell_type": "code",
     "collapsed": false,
     "input": [
      "%matplotlib inline"
     ],
     "language": "python",
     "metadata": {},
     "outputs": [],
     "prompt_number": 2
    },
    {
     "cell_type": "code",
     "collapsed": false,
     "input": [
      "overall_drain = pd.Series([1.31,1.89,1.81,1.87,0.74,0.91,0.62,1.11,1.0])"
     ],
     "language": "python",
     "metadata": {},
     "outputs": [],
     "prompt_number": 4
    },
    {
     "cell_type": "code",
     "collapsed": false,
     "input": [
      "overall_drain"
     ],
     "language": "python",
     "metadata": {},
     "outputs": [
      {
       "metadata": {},
       "output_type": "pyout",
       "prompt_number": 5,
       "text": [
        "0    1.31\n",
        "1    1.89\n",
        "2    1.81\n",
        "3    1.87\n",
        "4    0.74\n",
        "5    0.91\n",
        "6    0.62\n",
        "7    1.11\n",
        "8    1.00\n",
        "dtype: float64"
       ]
      }
     ],
     "prompt_number": 5
    },
    {
     "cell_type": "code",
     "collapsed": false,
     "input": [
      "overall_drain.describe()"
     ],
     "language": "python",
     "metadata": {},
     "outputs": [
      {
       "metadata": {},
       "output_type": "pyout",
       "prompt_number": 6,
       "text": [
        "count    9.000000\n",
        "mean     1.251111\n",
        "std      0.495718\n",
        "min      0.620000\n",
        "25%      0.910000\n",
        "50%      1.110000\n",
        "75%      1.810000\n",
        "max      1.890000\n",
        "dtype: float64"
       ]
      }
     ],
     "prompt_number": 6
    },
    {
     "cell_type": "code",
     "collapsed": false,
     "input": [
      "overall_drain.plot(kind=\"bar\", title = \"Screen Off Discharge Rate (%/hr)\")"
     ],
     "language": "python",
     "metadata": {},
     "outputs": [
      {
       "metadata": {},
       "output_type": "pyout",
       "prompt_number": 9,
       "text": [
        "<matplotlib.axes.AxesSubplot at 0x109a82190>"
       ]
      },
      {
       "metadata": {},
       "output_type": "display_data",
       "png": "[encoded data removed]",
       "text": [
        "<matplotlib.figure.Figure at 0x109c51390>"
       ]
      }
     ],
     "prompt_number": 9
    },
    {
     "cell_type": "code",
     "collapsed": false,
     "input": [
      "cfc_drain = pd.DataFrame([{'drain': 4.07, 'hours': 6.0},\n",
      " {'drain': 1.86, 'hours': 5.0},\n",
      " {'drain': 3.44, 'hours': 6.0},\n",
      " {'drain': 8.14, 'hours': 13.0},\n",
      " {'drain': 4.36, 'hours': 7.0},\n",
      " {'drain': 8.03, 'hours': 13.0},\n",
      " {'drain': 11.03, 'hours': 19.0},\n",
      " {'drain': 4.67, 'hours': 8.0},\n",
      " {'drain': 3.52, 'hours': 5.0}])"
     ],
     "language": "python",
     "metadata": {},
     "outputs": [],
     "prompt_number": 13
    },
    {
     "cell_type": "code",
     "collapsed": false,
     "input": [
      "cfc_drain.hourly = cfc_drain.drain/cfc_drain.hours"
     ],
     "language": "python",
     "metadata": {},
     "outputs": [],
     "prompt_number": 14
    },
    {
     "cell_type": "code",
     "collapsed": false,
     "input": [
      "cfc_drain.hourly"
     ],
     "language": "python",
     "metadata": {},
     "outputs": [
      {
       "metadata": {},
       "output_type": "pyout",
       "prompt_number": 18,
       "text": [
        "0    0.678333\n",
        "1    0.372000\n",
        "2    0.573333\n",
        "3    0.626154\n",
        "4    0.622857\n",
        "5    0.617692\n",
        "6    0.580526\n",
        "7    0.583750\n",
        "8    0.704000\n",
        "dtype: float64"
       ]
      }
     ],
     "prompt_number": 18
    },
    {
     "cell_type": "code",
     "collapsed": false,
     "input": [
      "cfc_drain.hourly.plot(kind=\"bar\", title = \"cfctracker discharge rate (%/hr)\")"
     ],
     "language": "python",
     "metadata": {},
     "outputs": [
      {
       "metadata": {},
       "output_type": "pyout",
       "prompt_number": 19,
       "text": [
        "<matplotlib.axes.AxesSubplot at 0x109c794d0>"
       ]
      },
      {
       "metadata": {},
       "output_type": "display_data",
       "png": "[encoded data removed]",
       "text": [
        "<matplotlib.figure.Figure at 0x109cdefd0>"
       ]
      }
     ],
     "prompt_number": 19
    },
    {
     "cell_type": "code",
     "collapsed": false,
     "input": [],
     "language": "python",
     "metadata": {},
     "outputs": []
    }
   ],
   "metadata": {}
  }
 ]
}