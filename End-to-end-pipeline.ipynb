{
 "metadata": {
  "name": "",
  "signature": "sha256:afbd2282a259d76aa5e15c07d4acadf56bac85fc11a5de1c04b55cbbfe10c6d0"
 },
 "nbformat": 3,
 "nbformat_minor": 0,
 "worksheets": [
  {
   "cells": [
    {
     "cell_type": "code",
     "collapsed": false,
     "input": [
      "import emission.analysis.plotting.leaflet_osm.ipython_helper as ipy\n",
      "import emission.analysis.plotting.leaflet_osm.our_plotter as lo"
     ],
     "language": "python",
     "metadata": {},
     "outputs": [],
     "prompt_number": 1
    },
    {
     "cell_type": "code",
     "collapsed": false,
     "input": [
      "import datetime as pydt\n",
      "import pytz\n",
      "import time"
     ],
     "language": "python",
     "metadata": {},
     "outputs": [],
     "prompt_number": 2
    },
    {
     "cell_type": "code",
     "collapsed": false,
     "input": [
      "import logging\n",
      "logging.getLogger().setLevel(logging.DEBUG)"
     ],
     "language": "python",
     "metadata": {},
     "outputs": [],
     "prompt_number": 3
    },
    {
     "cell_type": "code",
     "collapsed": false,
     "input": [
      "get_dt = lambda (month,date): time.mktime(pydt.datetime(2015,month,date,tzinfo=pytz.timezone(\"America/Los_Angeles\")).timetuple())"
     ],
     "language": "python",
     "metadata": {},
     "outputs": [],
     "prompt_number": 4
    },
    {
     "cell_type": "code",
     "collapsed": false,
     "input": [
      "get_dt((8,27))"
     ],
     "language": "python",
     "metadata": {},
     "outputs": [
      {
       "metadata": {},
       "output_type": "pyout",
       "prompt_number": 5,
       "text": [
        "1440662400.0"
       ]
      }
     ],
     "prompt_number": 5
    },
    {
     "cell_type": "code",
     "collapsed": false,
     "input": [
      "# import emission.core.get_database as edb\n",
      "# import json\n",
      "# import uuid\n",
      "\n",
      "# logging.info(\"Before loading, timeseries db size = %s\" % edb.get_timeseries_db().count())\n",
      "# entries = json.load(open(\"../../../emission/tests/data/my_data_jul_22.txt\"))\n",
      "# testUUID = uuid.uuid4()\n",
      "# for entry in entries:\n",
      "#     entry[\"user_id\"] = testUUID\n",
      "#     edb.get_timeseries_db().save(entry)"
     ],
     "language": "python",
     "metadata": {},
     "outputs": [],
     "prompt_number": 6
    },
    {
     "cell_type": "code",
     "collapsed": false,
     "input": [
      "import emission.storage.timeseries.abstract_timeseries as esta"
     ],
     "language": "python",
     "metadata": {},
     "outputs": [],
     "prompt_number": 7
    },
    {
     "cell_type": "code",
     "collapsed": false,
     "input": [
      "esta.TimeSeries.get_uuid_list()"
     ],
     "language": "python",
     "metadata": {},
     "outputs": [
      {
       "metadata": {},
       "output_type": "pyout",
       "prompt_number": 8,
       "text": [
        "[UUID('0763de67-f61e-3f5d-90e7-518e69793954'),\n",
        " UUID('f955cff1-8fb8-3b42-8776-6d8874e5b90a'),\n",
        " UUID('b0d937d0-70ef-305e-9563-440369012b39')]"
       ]
      }
     ],
     "prompt_number": 8
    },
    {
     "cell_type": "code",
     "collapsed": false,
     "input": [
      "myuuid = esta.TimeSeries.get_uuid_list()[0]\n",
      "tomuuid = esta.TimeSeries.get_uuid_list()[2]\n",
      "# myuuid = testUUID"
     ],
     "language": "python",
     "metadata": {},
     "outputs": [],
     "prompt_number": 9
    },
    {
     "cell_type": "code",
     "collapsed": false,
     "input": [
      "# import emission.analysis.intake.segmentation.section_segmentation as eaiss\n",
      "# import emission.analysis.intake.segmentation.trip_segmentation as eaist\n",
      "\n",
      "# eaist.segment_current_trips(testUUID)\n",
      "# eaiss.segment_current_sections(testUUID)"
     ],
     "language": "python",
     "metadata": {},
     "outputs": [],
     "prompt_number": 10
    },
    {
     "cell_type": "code",
     "collapsed": false,
     "input": [
      "reload(lo)\n",
      "reload(lo.esdt)"
     ],
     "language": "python",
     "metadata": {},
     "outputs": [
      {
       "metadata": {},
       "output_type": "pyout",
       "prompt_number": 11,
       "text": [
        "<module 'emission.storage.decorations.trip_queries' from '/Users/shankari/e-mission/e-mission-server/emission/storage/decorations/trip_queries.pyc'>"
       ]
      }
     ],
     "prompt_number": 11
    },
    {
     "cell_type": "code",
     "collapsed": false,
     "input": [
      "map_list = lo.get_maps_for_range(myuuid, get_dt((8,27)), get_dt((8,28)))"
     ],
     "language": "python",
     "metadata": {},
     "outputs": [
      {
       "output_type": "stream",
       "stream": "stderr",
       "text": [
        "DEBUG:root:8 places found in database\n"
       ]
      },
      {
       "output_type": "stream",
       "stream": "stderr",
       "text": [
        "DEBUG:root:Considering place 5603ae0cf6858f0cbbb6054f: 2015-08-27 08:30:08.302000-07:00 -> 2015-08-27 08:34:22.943000-07:00 \n"
       ]
      },
      {
       "output_type": "stream",
       "stream": "stderr",
       "text": [
        "DEBUG:root:Considering place 5603ae0cf6858f0cbbb60551: 2015-08-27 08:41:16.784000-07:00 -> 2015-08-27 08:51:58.768000-07:00 \n"
       ]
      },
      {
       "output_type": "stream",
       "stream": "stderr",
       "text": [
        "DEBUG:root:Considering place 5603ae0cf6858f0cbbb60553: 2015-08-27 09:53:44.894000-07:00 -> 2015-08-27 10:05:52.989000-07:00 \n"
       ]
      },
      {
       "output_type": "stream",
       "stream": "stderr",
       "text": [
        "DEBUG:root:Considering place 5603ae0cf6858f0cbbb60555: 2015-08-27 11:14:26.669000-07:00 -> 2015-08-27 11:25:33.687000-07:00 \n"
       ]
      },
      {
       "output_type": "stream",
       "stream": "stderr",
       "text": [
        "DEBUG:root:Considering place 5603ae0cf6858f0cbbb60557: 2015-08-27 11:27:20.477000-07:00 -> 2015-08-27 15:59:27.376000-07:00 \n"
       ]
      },
      {
       "output_type": "stream",
       "stream": "stderr",
       "text": [
        "DEBUG:root:Considering place 5603ae0cf6858f0cbbb60559: 2015-08-27 16:54:28.317000-07:00 -> 2015-08-27 17:03:59.012000-07:00 \n"
       ]
      },
      {
       "output_type": "stream",
       "stream": "stderr",
       "text": [
        "DEBUG:root:Considering place 5603ae0cf6858f0cbbb6055b: 2015-08-27 17:55:34.898000-07:00 -> 2015-08-27 19:21:59.971000-07:00 \n"
       ]
      },
      {
       "output_type": "stream",
       "stream": "stderr",
       "text": [
        "DEBUG:root:Considering place 5603ae0cf6858f0cbbb6055d: 2015-08-27 19:32:22.709000-07:00 -> None \n"
       ]
      },
      {
       "output_type": "stream",
       "stream": "stderr",
       "text": [
        "DEBUG:root:Considering trip 5603ae0cf6858f0cbbb6054e: 2015-08-27 08:18:59.672000-07:00 -> 2015-08-27 08:30:08.302000-07:00 \n"
       ]
      },
      {
       "output_type": "stream",
       "stream": "stderr",
       "text": [
        "DEBUG:root:Considering trip 5603ae0cf6858f0cbbb60550: 2015-08-27 08:34:22.943000-07:00 -> 2015-08-27 08:41:16.784000-07:00 \n"
       ]
      },
      {
       "output_type": "stream",
       "stream": "stderr",
       "text": [
        "DEBUG:root:Considering trip 5603ae0cf6858f0cbbb60552: 2015-08-27 08:51:58.768000-07:00 -> 2015-08-27 09:53:44.894000-07:00 \n"
       ]
      },
      {
       "output_type": "stream",
       "stream": "stderr",
       "text": [
        "DEBUG:root:Considering trip 5603ae0cf6858f0cbbb60554: 2015-08-27 10:05:52.989000-07:00 -> 2015-08-27 11:14:26.669000-07:00 \n"
       ]
      },
      {
       "output_type": "stream",
       "stream": "stderr",
       "text": [
        "DEBUG:root:Considering trip 5603ae0cf6858f0cbbb60556: 2015-08-27 11:25:33.687000-07:00 -> 2015-08-27 11:27:20.477000-07:00 \n"
       ]
      },
      {
       "output_type": "stream",
       "stream": "stderr",
       "text": [
        "DEBUG:root:Considering trip 5603ae0cf6858f0cbbb60558: 2015-08-27 15:59:27.376000-07:00 -> 2015-08-27 16:54:28.317000-07:00 \n"
       ]
      },
      {
       "output_type": "stream",
       "stream": "stderr",
       "text": [
        "DEBUG:root:Considering trip 5603ae0cf6858f0cbbb6055a: 2015-08-27 17:03:59.012000-07:00 -> 2015-08-27 17:55:34.898000-07:00 \n"
       ]
      },
      {
       "output_type": "stream",
       "stream": "stderr",
       "text": [
        "DEBUG:root:Considering trip 5603ae0cf6858f0cbbb6055c: 2015-08-27 19:21:59.971000-07:00 -> 2015-08-27 19:32:22.709000-07:00 \n"
       ]
      },
      {
       "output_type": "stream",
       "stream": "stderr",
       "text": [
        "DEBUG:root:len(places) = 8, len(trips) = 8\n"
       ]
      },
      {
       "output_type": "stream",
       "stream": "stderr",
       "text": [
        "DEBUG:root:Starting with element of type trip, id 5603ae0cf6858f0cbbb6054e, details Trip({u'end_place': ObjectId('5603ae0cf6858f0cbbb6054f'), u'user_id': UUID('0763de67-f61e-3f5d-90e7-518e69793954'), u'start_loc': {u'type': u'Point', u'coordinates': [-122.0846749, 37.393415]}, u'end_ts': 1440689408.302, u'start_ts': 1440688739.672, u'start_fmt_time': u'2015-08-27 08:18:59.672000-07:00', u'end_loc': {u'type': u'Point', u'coordinates': [-122.0835641, 37.4034802]}, u'source': u'DwellSegmentationTimeFilter', u'start_place': ObjectId('5603ae0cf6858f0cbbb6054d'), u'end_fmt_time': u'2015-08-27 08:30:08.302000-07:00', u'duration': 668.6300001144409, u'_id': ObjectId('5603ae0cf6858f0cbbb6054e')})\n"
       ]
      },
      {
       "output_type": "stream",
       "stream": "stderr",
       "text": [
        "DEBUG:root:len(trips) = 8, adding start_place 5603ae0cf6858f0cbbb6054d and end_place 5603ae0cf6858f0cbbb6055d\n"
       ]
      },
      {
       "output_type": "stream",
       "stream": "stderr",
       "text": [
        "DEBUG:root:About to execute query {'trip_id': ObjectId('5603ae0cf6858f0cbbb6054e'), 'user_id': UUID('0763de67-f61e-3f5d-90e7-518e69793954')}\n"
       ]
      },
      {
       "output_type": "stream",
       "stream": "stderr",
       "text": [
        "DEBUG:root:len(places) = 1, len(trips) = 2\n"
       ]
      },
      {
       "output_type": "stream",
       "stream": "stderr",
       "text": [
        "DEBUG:root:Starting with element of type trip, id 5603ae10f6858f0cbbb60581, details Section({u'user_id': UUID('0763de67-f61e-3f5d-90e7-518e69793954'), u'sensed_mode': 1, u'start_loc': {u'type': u'Point', u'coordinates': [-122.0846749, 37.393415]}, u'end_ts': 1440689265.092, u'start_ts': 1440688739.672, u'start_fmt_time': u'2015-08-27 08:18:59.672000-07:00', u'end_loc': {u'type': u'Point', u'coordinates': [-122.0847081, 37.4033491]}, u'source': u'SmoothedHighConfidenceMotion', u'end_fmt_time': u'2015-08-27 08:27:45.092000-07:00', u'duration': 525.420000076294, u'end_stop': ObjectId('5603ae10f6858f0cbbb60583'), u'_id': ObjectId('5603ae10f6858f0cbbb60581'), u'trip_id': ObjectId('5603ae0cf6858f0cbbb6054e')})\n"
       ]
      },
      {
       "output_type": "stream",
       "stream": "stderr",
       "text": [
        "DEBUG:root:sort_key = metadata.write_ts\n"
       ]
      },
      {
       "output_type": "stream",
       "stream": "stderr",
       "text": [
        "DEBUG:root:ret_val = {u'loc': {u'type': u'Point', u'coordinates': [-122.0846749, 37.393415]}, u'fmt_time': u'2015-08-27 08:18:59.672000-07:00', u'altitude': 0, u'ts': 1440688739.672, u'longitude': -122.0846749, u'latitude': 37.393415, '_id': ObjectId('55df34ee7d65cb39ee9865a6'), u'heading': 0, u'sensed_speed': 0, u'accuracy': 43.5} \n"
       ]
      },
      {
       "output_type": "stream",
       "stream": "stderr",
       "text": [
        "DEBUG:root:ret_val = {u'loc': {u'type': u'Point', u'coordinates': [-122.0841016, 37.3941547]}, u'fmt_time': u'2015-08-27 08:19:15.574000-07:00', u'altitude': 0, u'ts': 1440688755.574, u'longitude': -122.0841016, u'latitude': 37.3941547, '_id': ObjectId('55df34ee7d65cb39ee9865a8'), u'heading': 0, u'sensed_speed': 0, u'accuracy': 81} \n"
       ]
      },
      {
       "output_type": "stream",
       "stream": "stderr",
       "text": [
        "DEBUG:root:ret_val = {u'loc': {u'type': u'Point', u'coordinates': [-122.0831438, 37.3956262]}, u'fmt_time': u'2015-08-27 08:19:47.388000-07:00', u'altitude': 0, u'ts': 1440688787.388, u'longitude': -122.0831438, u'latitude': 37.3956262, '_id': ObjectId('55df34ee7d65cb39ee9865aa'), u'heading': 0, u'sensed_speed': 0, u'accuracy': 45} \n"
       ]
      },
      {
       "output_type": "stream",
       "stream": "stderr",
       "text": [
        "DEBUG:root:ret_val = {u'loc': {u'type': u'Point', u'coordinates': [-122.0830409, 37.3957967]}, u'fmt_time': u'2015-08-27 08:20:19.216000-07:00', u'altitude': 0, u'ts': 1440688819.216, u'longitude': -122.0830409, u'latitude': 37.3957967, '_id': ObjectId('55df34ee7d65cb39ee9865ad'), u'heading': 0, u'sensed_speed': 0, u'accuracy': 36} \n"
       ]
      },
      {
       "output_type": "stream",
       "stream": "stderr",
       "text": [
        "DEBUG:root:ret_val = {u'loc': {u'type': u'Point', u'coordinates': [-122.0830094, 37.3959019]}, u'fmt_time': u'2015-08-27 08:20:51.053000-07:00', u'altitude': 0, u'ts': 1440688851.053, u'longitude': -122.0830094, u'latitude': 37.3959019, '_id': ObjectId('55df34ee7d65cb39ee9865af'), u'heading': 0, u'sensed_speed': 0, u'accuracy': 30} \n"
       ]
      },
      {
       "output_type": "stream",
       "stream": "stderr",
       "text": [
        "DEBUG:root:ret_val = {u'loc': {u'type': u'Point', u'coordinates': [-122.0828785, 37.3960132]}, u'fmt_time': u'2015-08-27 08:21:22.869000-07:00', u'altitude': 0, u'ts': 1440688882.869, u'longitude': -122.0828785, u'latitude': 37.3960132, '_id': ObjectId('55df34ee7d65cb39ee9865b1'), u'heading': 0, u'sensed_speed': 0, u'accuracy': 48} \n"
       ]
      },
      {
       "output_type": "stream",
       "stream": "stderr",
       "text": [
        "DEBUG:root:ret_val = {u'loc': {u'type': u'Point', u'coordinates': [-122.0828663, 37.3960665]}, u'fmt_time': u'2015-08-27 08:21:38.781000-07:00', u'altitude': 0, u'ts': 1440688898.781, u'longitude': -122.0828663, u'latitude': 37.3960665, '_id': ObjectId('55df34ee7d65cb39ee9865b4'), u'heading': 0, u'sensed_speed': 0, u'accuracy': 43.5} \n"
       ]
      },
      {
       "output_type": "stream",
       "stream": "stderr",
       "text": [
        "DEBUG:root:ret_val = {u'loc': {u'type': u'Point', u'coordinates': [-122.0818078, 37.3957659]}, u'fmt_time': u'2015-08-27 08:22:10.603000-07:00', u'altitude': 0, u'ts': 1440688930.603, u'longitude': -122.0818078, u'latitude': 37.3957659, '_id': ObjectId('55df34ef7d65cb39ee9865b7'), u'heading': 0, u'sensed_speed': 0, u'accuracy': 51} \n"
       ]
      },
      {
       "output_type": "stream",
       "stream": "stderr",
       "text": [
        "DEBUG:root:ret_val = {u'loc': {u'type': u'Point', u'coordinates': [-122.0808227, 37.3971981]}, u'fmt_time': u'2015-08-27 08:22:42.392000-07:00', u'altitude': 0, u'ts': 1440688962.392, u'longitude': -122.0808227, u'latitude': 37.3971981, '_id': ObjectId('55df34ef7d65cb39ee9865b9'), u'heading': 0, u'sensed_speed': 0, u'accuracy': 37.5} \n"
       ]
      },
      {
       "output_type": "stream",
       "stream": "stderr",
       "text": [
        "DEBUG:root:ret_val = {u'loc': {u'type': u'Point', u'coordinates': [-122.0808461, 37.3986502]}, u'fmt_time': u'2015-08-27 08:23:14.225000-07:00', u'altitude': 0, u'ts': 1440688994.225, u'longitude': -122.0808461, u'latitude': 37.3986502, '_id': ObjectId('55df34ef7d65cb39ee9865bc'), u'heading': 0, u'sensed_speed': 0, u'accuracy': 55.5} \n"
       ]
      },
      {
       "output_type": "stream",
       "stream": "stderr",
       "text": [
        "DEBUG:root:ret_val = {u'loc': {u'type': u'Point', u'coordinates': [-122.0805741, 37.3999882]}, u'fmt_time': u'2015-08-27 08:23:46.067000-07:00', u'altitude': 0, u'ts': 1440689026.067, u'longitude': -122.0805741, u'latitude': 37.3999882, '_id': ObjectId('55df34ef7d65cb39ee9865bf'), u'heading': 0, u'sensed_speed': 0, u'accuracy': 31.5} \n"
       ]
      },
      {
       "output_type": "stream",
       "stream": "stderr",
       "text": [
        "DEBUG:root:ret_val = {u'loc': {u'type': u'Point', u'coordinates': [-122.0805585, 37.3999972]}, u'fmt_time': u'2015-08-27 08:24:17.903000-07:00', u'altitude': 0, u'ts': 1440689057.903, u'longitude': -122.0805585, u'latitude': 37.3999972, '_id': ObjectId('55df34ef7d65cb39ee9865c1'), u'heading': 0, u'sensed_speed': 0, u'accuracy': 36} \n"
       ]
      },
      {
       "output_type": "stream",
       "stream": "stderr",
       "text": [
        "DEBUG:root:ret_val = {u'loc': {u'type': u'Point', u'coordinates': [-122.0809311, 37.3999008]}, u'fmt_time': u'2015-08-27 08:24:49.947000-07:00', u'altitude': 0, u'ts': 1440689089.947, u'longitude': -122.0809311, u'latitude': 37.3999008, '_id': ObjectId('55df34ef7d65cb39ee9865c4'), u'heading': 0, u'sensed_speed': 0, u'accuracy': 105.968} \n"
       ]
      },
      {
       "output_type": "stream",
       "stream": "stderr",
       "text": [
        "DEBUG:root:ret_val = {u'loc': {u'type': u'Point', u'coordinates': [-122.0825585, 37.400037]}, u'fmt_time': u'2015-08-27 08:25:21.789000-07:00', u'altitude': 0, u'ts': 1440689121.789, u'longitude': -122.0825585, u'latitude': 37.400037, '_id': ObjectId('55df34ef7d65cb39ee9865c7'), u'heading': 0, u'sensed_speed': 0, u'accuracy': 125.167} \n"
       ]
      },
      {
       "output_type": "stream",
       "stream": "stderr",
       "text": [
        "DEBUG:root:ret_val = {u'loc': {u'type': u'Point', u'coordinates': [-122.084657, 37.4006053]}, u'fmt_time': u'2015-08-27 08:25:53.593000-07:00', u'altitude': 0, u'ts': 1440689153.593, u'longitude': -122.084657, u'latitude': 37.4006053, '_id': ObjectId('55df34f07d65cb39ee9865c9'), u'heading': 0, u'sensed_speed': 0, u'accuracy': 50.612} \n"
       ]
      },
      {
       "output_type": "stream",
       "stream": "stderr",
       "text": [
        "DEBUG:root:ret_val = {u'loc': {u'type': u'Point', u'coordinates': [-122.0847354, 37.4007025]}, u'fmt_time': u'2015-08-27 08:26:09.651000-07:00', u'altitude': 0, u'ts': 1440689169.651, u'longitude': -122.0847354, u'latitude': 37.4007025, '_id': ObjectId('55df34f07d65cb39ee9865cc'), u'heading': 0, u'sensed_speed': 0, u'accuracy': 30} \n"
       ]
      },
      {
       "output_type": "stream",
       "stream": "stderr",
       "text": [
        "DEBUG:root:ret_val = {u'loc': {u'type': u'Point', u'coordinates': [-122.0849045, 37.4023165]}, u'fmt_time': u'2015-08-27 08:26:41.466000-07:00', u'altitude': 0, u'ts': 1440689201.466, u'longitude': -122.0849045, u'latitude': 37.4023165, '_id': ObjectId('55df34f07d65cb39ee9865cf'), u'heading': 0, u'sensed_speed': 0, u'accuracy': 69.324} \n"
       ]
      },
      {
       "output_type": "stream",
       "stream": "stderr",
       "text": [
        "DEBUG:root:ret_val = {u'loc': {u'type': u'Point', u'coordinates': [-122.0847188, 37.4028269]}, u'fmt_time': u'2015-08-27 08:27:13.279000-07:00', u'altitude': 0, u'ts': 1440689233.279, u'longitude': -122.0847188, u'latitude': 37.4028269, '_id': ObjectId('55df34f07d65cb39ee9865d2'), u'heading': 0, u'sensed_speed': 0, u'accuracy': 49.5} \n"
       ]
      },
      {
       "output_type": "stream",
       "stream": "stderr",
       "text": [
        "DEBUG:root:ret_val = {u'loc': {u'type': u'Point', u'coordinates': [-122.0847081, 37.4033491]}, u'fmt_time': u'2015-08-27 08:27:45.092000-07:00', u'altitude': 0, u'ts': 1440689265.092, u'longitude': -122.0847081, u'latitude': 37.4033491, '_id': ObjectId('55df34f07d65cb39ee9865d4'), u'heading': 0, u'sensed_speed': 0, u'accuracy': 42} \n"
       ]
      },
      {
       "output_type": "stream",
       "stream": "stderr",
       "text": [
        "DEBUG:root:points_df.columns = Index([u'_id', u'accuracy', u'altitude', u'fmt_time', u'heading', u'latitude', u'loc', u'longitude', u'sensed_speed', u'ts'], dtype='object')\n"
       ]
      },
      {
       "output_type": "stream",
       "stream": "stderr",
       "text": [
        "DEBUG:root:first element in section_location_array = Location({u'loc': {u'type': u'Point', u'coordinates': [-122.0846749, 37.393415]}, u'fmt_time': u'2015-08-27 08:18:59.672000-07:00', u'altitude': 0, u'ts': 1440688739.672, u'longitude': -122.0846749, u'latitude': 37.393415, '_id': ObjectId('55df34ee7d65cb39ee9865a6'), u'heading': 0, u'sensed_speed': 0, u'accuracy': 43.5})\n"
       ]
      },
      {
       "output_type": "stream",
       "stream": "stderr",
       "text": [
        "DEBUG:root:About to add Location({u'loc': {u'type': u'Point', u'coordinates': [-122.0846749, 37.393415]}, u'fmt_time': u'2015-08-27 08:18:59.672000-07:00', u'altitude': 0, u'ts': 1440688739.672, u'longitude': -122.0846749, u'latitude': 37.393415, '_id': ObjectId('55df34ee7d65cb39ee9865a6'), u'heading': 0, u'sensed_speed': 0, u'accuracy': 43.5}) to line_string \n"
       ]
      },
      {
       "output_type": "stream",
       "stream": "stderr",
       "text": [
        "DEBUG:root:About to add Location({u'loc': {u'type': u'Point', u'coordinates': [-122.0841016, 37.3941547]}, u'fmt_time': u'2015-08-27 08:19:15.574000-07:00', u'altitude': 0, u'ts': 1440688755.574, u'longitude': -122.0841016, u'latitude': 37.3941547, '_id': ObjectId('55df34ee7d65cb39ee9865a8'), u'heading': 0, u'sensed_speed': 0, u'accuracy': 81.0}) to line_string \n"
       ]
      },
      {
       "output_type": "stream",
       "stream": "stderr",
       "text": [
        "DEBUG:root:About to add Location({u'loc': {u'type': u'Point', u'coordinates': [-122.0831438, 37.3956262]}, u'fmt_time': u'2015-08-27 08:19:47.388000-07:00', u'altitude': 0, u'ts': 1440688787.388, u'longitude': -122.0831438, u'latitude': 37.3956262, '_id': ObjectId('55df34ee7d65cb39ee9865aa'), u'heading': 0, u'sensed_speed': 0, u'accuracy': 45.0}) to line_string \n"
       ]
      },
      {
       "output_type": "stream",
       "stream": "stderr",
       "text": [
        "DEBUG:root:About to add Location({u'loc': {u'type': u'Point', u'coordinates': [-122.0830409, 37.3957967]}, u'fmt_time': u'2015-08-27 08:20:19.216000-07:00', u'altitude': 0, u'ts': 1440688819.216, u'longitude': -122.0830409, u'latitude': 37.3957967, '_id': ObjectId('55df34ee7d65cb39ee9865ad'), u'heading': 0, u'sensed_speed': 0, u'accuracy': 36.0}) to line_string \n"
       ]
      },
      {
       "output_type": "stream",
       "stream": "stderr",
       "text": [
        "DEBUG:root:About to add Location({u'loc': {u'type': u'Point', u'coordinates': [-122.0830094, 37.3959019]}, u'fmt_time': u'2015-08-27 08:20:51.053000-07:00', u'altitude': 0, u'ts': 1440688851.053, u'longitude': -122.0830094, u'latitude': 37.3959019, '_id': ObjectId('55df34ee7d65cb39ee9865af'), u'heading': 0, u'sensed_speed': 0, u'accuracy': 30.0}) to line_string \n"
       ]
      },
      {
       "output_type": "stream",
       "stream": "stderr",
       "text": [
        "DEBUG:root:About to add Location({u'loc': {u'type': u'Point', u'coordinates': [-122.0828785, 37.3960132]}, u'fmt_time': u'2015-08-27 08:21:22.869000-07:00', u'altitude': 0, u'ts': 1440688882.869, u'longitude': -122.0828785, u'latitude': 37.3960132, '_id': ObjectId('55df34ee7d65cb39ee9865b1'), u'heading': 0, u'sensed_speed': 0, u'accuracy': 48.0}) to line_string \n"
       ]
      },
      {
       "output_type": "stream",
       "stream": "stderr",
       "text": [
        "DEBUG:root:About to add Location({u'loc': {u'type': u'Point', u'coordinates': [-122.0828663, 37.3960665]}, u'fmt_time': u'2015-08-27 08:21:38.781000-07:00', u'altitude': 0, u'ts': 1440688898.781, u'longitude': -122.0828663, u'latitude': 37.3960665, '_id': ObjectId('55df34ee7d65cb39ee9865b4'), u'heading': 0, u'sensed_speed': 0, u'accuracy': 43.5}) to line_string \n"
       ]
      },
      {
       "output_type": "stream",
       "stream": "stderr",
       "text": [
        "DEBUG:root:About to add Location({u'loc': {u'type': u'Point', u'coordinates': [-122.0818078, 37.3957659]}, u'fmt_time': u'2015-08-27 08:22:10.603000-07:00', u'altitude': 0, u'ts': 1440688930.603, u'longitude': -122.0818078, u'latitude': 37.3957659, '_id': ObjectId('55df34ef7d65cb39ee9865b7'), u'heading': 0, u'sensed_speed': 0, u'accuracy': 51.0}) to line_string \n"
       ]
      },
      {
       "output_type": "stream",
       "stream": "stderr",
       "text": [
        "DEBUG:root:About to add Location({u'loc': {u'type': u'Point', u'coordinates': [-122.0808227, 37.3971981]}, u'fmt_time': u'2015-08-27 08:22:42.392000-07:00', u'altitude': 0, u'ts': 1440688962.392, u'longitude': -122.0808227, u'latitude': 37.3971981, '_id': ObjectId('55df34ef7d65cb39ee9865b9'), u'heading': 0, u'sensed_speed': 0, u'accuracy': 37.5}) to line_string \n"
       ]
      },
      {
       "output_type": "stream",
       "stream": "stderr",
       "text": [
        "DEBUG:root:About to add Location({u'loc': {u'type': u'Point', u'coordinates': [-122.0808461, 37.3986502]}, u'fmt_time': u'2015-08-27 08:23:14.225000-07:00', u'altitude': 0, u'ts': 1440688994.225, u'longitude': -122.0808461, u'latitude': 37.3986502, '_id': ObjectId('55df34ef7d65cb39ee9865bc'), u'heading': 0, u'sensed_speed': 0, u'accuracy': 55.5}) to line_string \n"
       ]
      },
      {
       "output_type": "stream",
       "stream": "stderr",
       "text": [
        "DEBUG:root:About to add Location({u'loc': {u'type': u'Point', u'coordinates': [-122.0805741, 37.3999882]}, u'fmt_time': u'2015-08-27 08:23:46.067000-07:00', u'altitude': 0, u'ts': 1440689026.067, u'longitude': -122.0805741, u'latitude': 37.3999882, '_id': ObjectId('55df34ef7d65cb39ee9865bf'), u'heading': 0, u'sensed_speed': 0, u'accuracy': 31.5}) to line_string \n"
       ]
      },
      {
       "output_type": "stream",
       "stream": "stderr",
       "text": [
        "DEBUG:root:About to add Location({u'loc': {u'type': u'Point', u'coordinates': [-122.0805585, 37.3999972]}, u'fmt_time': u'2015-08-27 08:24:17.903000-07:00', u'altitude': 0, u'ts': 1440689057.903, u'longitude': -122.0805585, u'latitude': 37.3999972, '_id': ObjectId('55df34ef7d65cb39ee9865c1'), u'heading': 0, u'sensed_speed': 0, u'accuracy': 36.0}) to line_string \n"
       ]
      },
      {
       "output_type": "stream",
       "stream": "stderr",
       "text": [
        "DEBUG:root:About to add Location({u'loc': {u'type': u'Point', u'coordinates': [-122.0809311, 37.3999008]}, u'fmt_time': u'2015-08-27 08:24:49.947000-07:00', u'altitude': 0, u'ts': 1440689089.947, u'longitude': -122.0809311, u'latitude': 37.3999008, '_id': ObjectId('55df34ef7d65cb39ee9865c4'), u'heading': 0, u'sensed_speed': 0, u'accuracy': 105.968}) to line_string \n"
       ]
      },
      {
       "output_type": "stream",
       "stream": "stderr",
       "text": [
        "DEBUG:root:About to add Location({u'loc': {u'type': u'Point', u'coordinates': [-122.0825585, 37.400037]}, u'fmt_time': u'2015-08-27 08:25:21.789000-07:00', u'altitude': 0, u'ts': 1440689121.789, u'longitude': -122.0825585, u'latitude': 37.400037, '_id': ObjectId('55df34ef7d65cb39ee9865c7'), u'heading': 0, u'sensed_speed': 0, u'accuracy': 125.167}) to line_string \n"
       ]
      },
      {
       "output_type": "stream",
       "stream": "stderr",
       "text": [
        "DEBUG:root:About to add Location({u'loc': {u'type': u'Point', u'coordinates': [-122.084657, 37.4006053]}, u'fmt_time': u'2015-08-27 08:25:53.593000-07:00', u'altitude': 0, u'ts': 1440689153.593, u'longitude': -122.084657, u'latitude': 37.4006053, '_id': ObjectId('55df34f07d65cb39ee9865c9'), u'heading': 0, u'sensed_speed': 0, u'accuracy': 50.612}) to line_string \n"
       ]
      },
      {
       "output_type": "stream",
       "stream": "stderr",
       "text": [
        "DEBUG:root:About to add Location({u'loc': {u'type': u'Point', u'coordinates': [-122.0847354, 37.4007025]}, u'fmt_time': u'2015-08-27 08:26:09.651000-07:00', u'altitude': 0, u'ts': 1440689169.651, u'longitude': -122.0847354, u'latitude': 37.4007025, '_id': ObjectId('55df34f07d65cb39ee9865cc'), u'heading': 0, u'sensed_speed': 0, u'accuracy': 30.0}) to line_string \n"
       ]
      },
      {
       "output_type": "stream",
       "stream": "stderr",
       "text": [
        "DEBUG:root:About to add Location({u'loc': {u'type': u'Point', u'coordinates': [-122.0849045, 37.4023165]}, u'fmt_time': u'2015-08-27 08:26:41.466000-07:00', u'altitude': 0, u'ts': 1440689201.466, u'longitude': -122.0849045, u'latitude': 37.4023165, '_id': ObjectId('55df34f07d65cb39ee9865cf'), u'heading': 0, u'sensed_speed': 0, u'accuracy': 69.324}) to line_string \n"
       ]
      },
      {
       "output_type": "stream",
       "stream": "stderr",
       "text": [
        "DEBUG:root:About to add Location({u'loc': {u'type': u'Point', u'coordinates': [-122.0847188, 37.4028269]}, u'fmt_time': u'2015-08-27 08:27:13.279000-07:00', u'altitude': 0, u'ts': 1440689233.279, u'longitude': -122.0847188, u'latitude': 37.4028269, '_id': ObjectId('55df34f07d65cb39ee9865d2'), u'heading': 0, u'sensed_speed': 0, u'accuracy': 49.5}) to line_string \n"
       ]
      },
      {
       "output_type": "stream",
       "stream": "stderr",
       "text": [
        "DEBUG:root:About to add Location({u'loc': {u'type': u'Point', u'coordinates': [-122.0847081, 37.4033491]}, u'fmt_time': u'2015-08-27 08:27:45.092000-07:00', u'altitude': 0, u'ts': 1440689265.092, u'longitude': -122.0847081, u'latitude': 37.4033491, '_id': ObjectId('55df34f07d65cb39ee9865d4'), u'heading': 0, u'sensed_speed': 0, u'accuracy': 42.0}) to line_string \n"
       ]
      },
      {
       "output_type": "stream",
       "stream": "stderr",
       "text": [
        "DEBUG:root:sort_key = metadata.write_ts\n"
       ]
      },
      {
       "output_type": "stream",
       "stream": "stderr",
       "text": [
        "DEBUG:root:ret_val = {u'loc': {u'type': u'Point', u'coordinates': [-122.0845296, 37.4034667]}, u'fmt_time': u'2015-08-27 08:28:16.912000-07:00', u'altitude': 0, u'ts': 1440689296.912, u'longitude': -122.0845296, u'latitude': 37.4034667, '_id': ObjectId('55df34f07d65cb39ee9865d7'), u'heading': 0, u'sensed_speed': 0, u'accuracy': 29.117} \n"
       ]
      },
      {
       "output_type": "stream",
       "stream": "stderr",
       "text": [
        "DEBUG:root:ret_val = {u'loc': {u'type': u'Point', u'coordinates': [-122.0844223, 37.4033752]}, u'fmt_time': u'2015-08-27 08:28:48.736000-07:00', u'altitude': 0, u'ts': 1440689328.736, u'longitude': -122.0844223, u'latitude': 37.4033752, '_id': ObjectId('55df34f17d65cb39ee9865da'), u'heading': 0, u'sensed_speed': 0, u'accuracy': 45} \n"
       ]
      },
      {
       "output_type": "stream",
       "stream": "stderr",
       "text": [
        "DEBUG:root:ret_val = {u'loc': {u'type': u'Point', u'coordinates': [-122.0838277, 37.4034065]}, u'fmt_time': u'2015-08-27 08:29:20.562000-07:00', u'altitude': 0, u'ts': 1440689360.562, u'longitude': -122.0838277, u'latitude': 37.4034065, '_id': ObjectId('55df34f17d65cb39ee9865dd'), u'heading': 0, u'sensed_speed': 0, u'accuracy': 49.5} \n"
       ]
      },
      {
       "output_type": "stream",
       "stream": "stderr",
       "text": [
        "DEBUG:root:ret_val = {u'loc': {u'type': u'Point', u'coordinates': [-122.084105, 37.4034399]}, u'fmt_time': u'2015-08-27 08:29:52.397000-07:00', u'altitude': 0, u'ts': 1440689392.397, u'longitude': -122.084105, u'latitude': 37.4034399, '_id': ObjectId('55df34f17d65cb39ee9865df'), u'heading': 0, u'sensed_speed': 0, u'accuracy': 36.976} \n"
       ]
      },
      {
       "output_type": "stream",
       "stream": "stderr",
       "text": [
        "DEBUG:root:ret_val = {u'loc': {u'type': u'Point', u'coordinates': [-122.0835641, 37.4034802]}, u'fmt_time': u'2015-08-27 08:30:08.302000-07:00', u'altitude': 0, u'ts': 1440689408.302, u'longitude': -122.0835641, u'latitude': 37.4034802, '_id': ObjectId('55df34f17d65cb39ee9865e2'), u'heading': 0, u'sensed_speed': 0, u'accuracy': 30} \n"
       ]
      },
      {
       "output_type": "stream",
       "stream": "stderr",
       "text": [
        "DEBUG:root:points_df.columns = Index([u'_id', u'accuracy', u'altitude', u'fmt_time', u'heading', u'latitude', u'loc', u'longitude', u'sensed_speed', u'ts'], dtype='object')\n"
       ]
      },
      {
       "output_type": "stream",
       "stream": "stderr",
       "text": [
        "DEBUG:root:first element in section_location_array = Location({u'loc': {u'type': u'Point', u'coordinates': [-122.0845296, 37.4034667]}, u'fmt_time': u'2015-08-27 08:28:16.912000-07:00', u'altitude': 0, u'ts': 1440689296.912, u'longitude': -122.0845296, u'latitude': 37.4034667, '_id': ObjectId('55df34f07d65cb39ee9865d7'), u'heading': 0, u'sensed_speed': 0, u'accuracy': 29.117})\n"
       ]
      },
      {
       "output_type": "stream",
       "stream": "stderr",
       "text": [
        "DEBUG:root:About to add Location({u'loc': {u'type': u'Point', u'coordinates': [-122.0845296, 37.4034667]}, u'fmt_time': u'2015-08-27 08:28:16.912000-07:00', u'altitude': 0, u'ts': 1440689296.912, u'longitude': -122.0845296, u'latitude': 37.4034667, '_id': ObjectId('55df34f07d65cb39ee9865d7'), u'heading': 0, u'sensed_speed': 0, u'accuracy': 29.117}) to line_string \n"
       ]
      },
      {
       "output_type": "stream",
       "stream": "stderr",
       "text": [
        "DEBUG:root:About to add Location({u'loc': {u'type': u'Point', u'coordinates': [-122.0844223, 37.4033752]}, u'fmt_time': u'2015-08-27 08:28:48.736000-07:00', u'altitude': 0, u'ts': 1440689328.736, u'longitude': -122.0844223, u'latitude': 37.4033752, '_id': ObjectId('55df34f17d65cb39ee9865da'), u'heading': 0, u'sensed_speed': 0, u'accuracy': 45.0}) to line_string \n"
       ]
      },
      {
       "output_type": "stream",
       "stream": "stderr",
       "text": [
        "DEBUG:root:About to add Location({u'loc': {u'type': u'Point', u'coordinates': [-122.0838277, 37.4034065]}, u'fmt_time': u'2015-08-27 08:29:20.562000-07:00', u'altitude': 0, u'ts': 1440689360.562, u'longitude': -122.0838277, u'latitude': 37.4034065, '_id': ObjectId('55df34f17d65cb39ee9865dd'), u'heading': 0, u'sensed_speed': 0, u'accuracy': 49.5}) to line_string \n"
       ]
      },
      {
       "output_type": "stream",
       "stream": "stderr",
       "text": [
        "DEBUG:root:About to add Location({u'loc': {u'type': u'Point', u'coordinates': [-122.084105, 37.4034399]}, u'fmt_time': u'2015-08-27 08:29:52.397000-07:00', u'altitude': 0, u'ts': 1440689392.397, u'longitude': -122.084105, u'latitude': 37.4034399, '_id': ObjectId('55df34f17d65cb39ee9865df'), u'heading': 0, u'sensed_speed': 0, u'accuracy': 36.976}) to line_string \n"
       ]
      },
      {
       "output_type": "stream",
       "stream": "stderr",
       "text": [
        "DEBUG:root:About to add Location({u'loc': {u'type': u'Point', u'coordinates': [-122.0835641, 37.4034802]}, u'fmt_time': u'2015-08-27 08:30:08.302000-07:00', u'altitude': 0, u'ts': 1440689408.302, u'longitude': -122.0835641, u'latitude': 37.4034802, '_id': ObjectId('55df34f17d65cb39ee9865e2'), u'heading': 0, u'sensed_speed': 0, u'accuracy': 30.0}) to line_string \n"
       ]
      },
      {
       "output_type": "stream",
       "stream": "stderr",
       "text": [
        "DEBUG:root:About to execute query {'trip_id': ObjectId('5603ae0cf6858f0cbbb60550'), 'user_id': UUID('0763de67-f61e-3f5d-90e7-518e69793954')}\n"
       ]
      },
      {
       "output_type": "stream",
       "stream": "stderr",
       "text": [
        "DEBUG:root:len(places) = 0, len(trips) = 1\n"
       ]
      },
      {
       "output_type": "stream",
       "stream": "stderr",
       "text": [
        "DEBUG:root:Starting with element of type trip, id 5603ae10f6858f0cbbb60584, details Section({u'user_id': UUID('0763de67-f61e-3f5d-90e7-518e69793954'), u'sensed_mode': 1, u'start_loc': {u'type': u'Point', u'coordinates': [-122.0822821, 37.4025401]}, u'end_ts': 1440690076.784, u'start_ts': 1440689662.943, u'start_fmt_time': u'2015-08-27 08:34:22.943000-07:00', u'end_loc': {u'type': u'Point', u'coordinates': [-122.0778188, 37.3957356]}, u'source': u'SmoothedHighConfidenceMotion', u'end_fmt_time': u'2015-08-27 08:41:16.784000-07:00', u'duration': 413.84099984169006, u'_id': ObjectId('5603ae10f6858f0cbbb60584'), u'trip_id': ObjectId('5603ae0cf6858f0cbbb60550')})\n"
       ]
      },
      {
       "output_type": "stream",
       "stream": "stderr",
       "text": [
        "DEBUG:root:sort_key = metadata.write_ts\n"
       ]
      },
      {
       "output_type": "stream",
       "stream": "stderr",
       "text": [
        "DEBUG:root:ret_val = {u'loc': {u'type': u'Point', u'coordinates': [-122.0822821, 37.4025401]}, u'fmt_time': u'2015-08-27 08:34:22.943000-07:00', u'altitude': 0, u'ts': 1440689662.943, u'longitude': -122.0822821, u'latitude': 37.4025401, '_id': ObjectId('55df34f27d65cb39ee9865f6'), u'heading': 0, u'sensed_speed': 0, u'accuracy': 114.922} \n"
       ]
      },
      {
       "output_type": "stream",
       "stream": "stderr",
       "text": [
        "DEBUG:root:ret_val = {u'loc': {u'type': u'Point', u'coordinates': [-122.0822052, 37.4025862]}, u'fmt_time': u'2015-08-27 08:34:38.861000-07:00', u'altitude': 0, u'ts': 1440689678.861, u'longitude': -122.0822052, u'latitude': 37.4025862, '_id': ObjectId('55df34f27d65cb39ee9865f9'), u'heading': 0, u'sensed_speed': 0, u'accuracy': 30} \n"
       ]
      },
      {
       "output_type": "stream",
       "stream": "stderr",
       "text": [
        "DEBUG:root:ret_val = {u'loc': {u'type': u'Point', u'coordinates': [-122.0802115, 37.4020942]}, u'fmt_time': u'2015-08-27 08:35:10.668000-07:00', u'altitude': 0, u'ts': 1440689710.668, u'longitude': -122.0802115, u'latitude': 37.4020942, '_id': ObjectId('55df34f27d65cb39ee9865fb'), u'heading': 0, u'sensed_speed': 0, u'accuracy': 57.313} \n"
       ]
      },
      {
       "output_type": "stream",
       "stream": "stderr",
       "text": [
        "DEBUG:root:ret_val = {u'loc': {u'type': u'Point', u'coordinates': [-122.079131, 37.4015656]}, u'fmt_time': u'2015-08-27 08:35:42.463000-07:00', u'altitude': 0, u'ts': 1440689742.463, u'longitude': -122.079131, u'latitude': 37.4015656, '_id': ObjectId('55df34f37d65cb39ee9865fe'), u'heading': 0, u'sensed_speed': 0, u'accuracy': 40.5} \n"
       ]
      },
      {
       "output_type": "stream",
       "stream": "stderr",
       "text": [
        "DEBUG:root:ret_val = {u'loc': {u'type': u'Point', u'coordinates': [-122.079139, 37.4015842]}, u'fmt_time': u'2015-08-27 08:36:14.278000-07:00', u'altitude': 0, u'ts': 1440689774.278, u'longitude': -122.079139, u'latitude': 37.4015842, '_id': ObjectId('55df34f37d65cb39ee986600'), u'heading': 0, u'sensed_speed': 0, u'accuracy': 45} \n"
       ]
      },
      {
       "output_type": "stream",
       "stream": "stderr",
       "text": [
        "DEBUG:root:ret_val = {u'loc': {u'type': u'Point', u'coordinates': [-122.0784617, 37.401399]}, u'fmt_time': u'2015-08-27 08:36:46.124000-07:00', u'altitude': 0, u'ts': 1440689806.124, u'longitude': -122.0784617, u'latitude': 37.401399, '_id': ObjectId('55df34f37d65cb39ee986603'), u'heading': 0, u'sensed_speed': 0, u'accuracy': 130.54} \n"
       ]
      },
      {
       "output_type": "stream",
       "stream": "stderr",
       "text": [
        "DEBUG:root:ret_val = {u'loc': {u'type': u'Point', u'coordinates': [-122.0779973, 37.3993224]}, u'fmt_time': u'2015-08-27 08:37:17.952000-07:00', u'altitude': 0, u'ts': 1440689837.952, u'longitude': -122.0779973, u'latitude': 37.3993224, '_id': ObjectId('55df34f37d65cb39ee986605'), u'heading': 0, u'sensed_speed': 0, u'accuracy': 55.5} \n"
       ]
      },
      {
       "output_type": "stream",
       "stream": "stderr",
       "text": [
        "DEBUG:root:ret_val = {u'loc': {u'type': u'Point', u'coordinates': [-122.0772994, 37.3981887]}, u'fmt_time': u'2015-08-27 08:37:49.779000-07:00', u'altitude': 0, u'ts': 1440689869.779, u'longitude': -122.0772994, u'latitude': 37.3981887, '_id': ObjectId('55df34f37d65cb39ee986608'), u'heading': 0, u'sensed_speed': 0, u'accuracy': 38.568} \n"
       ]
      },
      {
       "output_type": "stream",
       "stream": "stderr",
       "text": [
        "DEBUG:root:ret_val = {u'loc': {u'type': u'Point', u'coordinates': [-122.076315, 37.3978536]}, u'fmt_time': u'2015-08-27 08:38:21.628000-07:00', u'altitude': 0, u'ts': 1440689901.628, u'longitude': -122.076315, u'latitude': 37.3978536, '_id': ObjectId('55df34f37d65cb39ee98660b'), u'heading': 0, u'sensed_speed': 0, u'accuracy': 36} \n"
       ]
      },
      {
       "output_type": "stream",
       "stream": "stderr",
       "text": [
        "DEBUG:root:ret_val = {u'loc': {u'type': u'Point', u'coordinates': [-122.077789, 37.3958147]}, u'fmt_time': u'2015-08-27 08:39:09.350000-07:00', u'altitude': 0, u'ts': 1440689949.35, u'longitude': -122.077789, u'latitude': 37.3958147, '_id': ObjectId('55df34f47d65cb39ee98660f'), u'heading': 0, u'sensed_speed': 0, u'accuracy': 127.011} \n"
       ]
      },
      {
       "output_type": "stream",
       "stream": "stderr",
       "text": [
        "DEBUG:root:ret_val = {u'loc': {u'type': u'Point', u'coordinates': [-122.0778485, 37.3957377]}, u'fmt_time': u'2015-08-27 08:39:49.016000-07:00', u'altitude': 0, u'ts': 1440689989.016, u'longitude': -122.0778485, u'latitude': 37.3957377, '_id': ObjectId('55df34f47d65cb39ee986612'), u'heading': 0, u'sensed_speed': 0, u'accuracy': 105.29} \n"
       ]
      },
      {
       "output_type": "stream",
       "stream": "stderr",
       "text": [
        "DEBUG:root:ret_val = {u'loc': {u'type': u'Point', u'coordinates': [-122.0778519, 37.3957568]}, u'fmt_time': u'2015-08-27 08:40:12.991000-07:00', u'altitude': 0, u'ts': 1440690012.991, u'longitude': -122.0778519, u'latitude': 37.3957568, '_id': ObjectId('55df34f47d65cb39ee986614'), u'heading': 0, u'sensed_speed': 0, u'accuracy': 103.911} \n"
       ]
      },
      {
       "output_type": "stream",
       "stream": "stderr",
       "text": [
        "DEBUG:root:ret_val = {u'loc': {u'type': u'Point', u'coordinates': [-122.0778095, 37.3957252]}, u'fmt_time': u'2015-08-27 08:40:52.880000-07:00', u'altitude': 0, u'ts': 1440690052.88, u'longitude': -122.0778095, u'latitude': 37.3957252, '_id': ObjectId('55df34f47d65cb39ee986617'), u'heading': 0, u'sensed_speed': 0, u'accuracy': 36} \n"
       ]
      },
      {
       "output_type": "stream",
       "stream": "stderr",
       "text": [
        "DEBUG:root:ret_val = {u'loc': {u'type': u'Point', u'coordinates': [-122.0778188, 37.3957356]}, u'fmt_time': u'2015-08-27 08:41:16.784000-07:00', u'altitude': 0, u'ts': 1440690076.784, u'longitude': -122.0778188, u'latitude': 37.3957356, '_id': ObjectId('55df34f47d65cb39ee98661a'), u'heading': 0, u'sensed_speed': 0, u'accuracy': 30} \n"
       ]
      },
      {
       "output_type": "stream",
       "stream": "stderr",
       "text": [
        "DEBUG:root:points_df.columns = Index([u'_id', u'accuracy', u'altitude', u'fmt_time', u'heading', u'latitude', u'loc', u'longitude', u'sensed_speed', u'ts'], dtype='object')\n"
       ]
      },
      {
       "output_type": "stream",
       "stream": "stderr",
       "text": [
        "DEBUG:root:first element in section_location_array = Location({u'loc': {u'type': u'Point', u'coordinates': [-122.0822821, 37.4025401]}, u'fmt_time': u'2015-08-27 08:34:22.943000-07:00', u'altitude': 0, u'ts': 1440689662.943, u'longitude': -122.0822821, u'latitude': 37.4025401, '_id': ObjectId('55df34f27d65cb39ee9865f6'), u'heading': 0, u'sensed_speed': 0, u'accuracy': 114.922})\n"
       ]
      },
      {
       "output_type": "stream",
       "stream": "stderr",
       "text": [
        "DEBUG:root:About to add Location({u'loc': {u'type': u'Point', u'coordinates': [-122.0822821, 37.4025401]}, u'fmt_time': u'2015-08-27 08:34:22.943000-07:00', u'altitude': 0, u'ts': 1440689662.943, u'longitude': -122.0822821, u'latitude': 37.4025401, '_id': ObjectId('55df34f27d65cb39ee9865f6'), u'heading': 0, u'sensed_speed': 0, u'accuracy': 114.922}) to line_string \n"
       ]
      },
      {
       "output_type": "stream",
       "stream": "stderr",
       "text": [
        "DEBUG:root:About to add Location({u'loc': {u'type': u'Point', u'coordinates': [-122.0822052, 37.4025862]}, u'fmt_time': u'2015-08-27 08:34:38.861000-07:00', u'altitude': 0, u'ts': 1440689678.861, u'longitude': -122.0822052, u'latitude': 37.4025862, '_id': ObjectId('55df34f27d65cb39ee9865f9'), u'heading': 0, u'sensed_speed': 0, u'accuracy': 30.0}) to line_string \n"
       ]
      },
      {
       "output_type": "stream",
       "stream": "stderr",
       "text": [
        "DEBUG:root:About to add Location({u'loc': {u'type': u'Point', u'coordinates': [-122.0802115, 37.4020942]}, u'fmt_time': u'2015-08-27 08:35:10.668000-07:00', u'altitude': 0, u'ts': 1440689710.668, u'longitude': -122.0802115, u'latitude': 37.4020942, '_id': ObjectId('55df34f27d65cb39ee9865fb'), u'heading': 0, u'sensed_speed': 0, u'accuracy': 57.313}) to line_string \n"
       ]
      },
      {
       "output_type": "stream",
       "stream": "stderr",
       "text": [
        "DEBUG:root:About to add Location({u'loc': {u'type': u'Point', u'coordinates': [-122.079131, 37.4015656]}, u'fmt_time': u'2015-08-27 08:35:42.463000-07:00', u'altitude': 0, u'ts': 1440689742.463, u'longitude': -122.079131, u'latitude': 37.4015656, '_id': ObjectId('55df34f37d65cb39ee9865fe'), u'heading': 0, u'sensed_speed': 0, u'accuracy': 40.5}) to line_string \n"
       ]
      },
      {
       "output_type": "stream",
       "stream": "stderr",
       "text": [
        "DEBUG:root:About to add Location({u'loc': {u'type': u'Point', u'coordinates': [-122.079139, 37.4015842]}, u'fmt_time': u'2015-08-27 08:36:14.278000-07:00', u'altitude': 0, u'ts': 1440689774.278, u'longitude': -122.079139, u'latitude': 37.4015842, '_id': ObjectId('55df34f37d65cb39ee986600'), u'heading': 0, u'sensed_speed': 0, u'accuracy': 45.0}) to line_string \n"
       ]
      },
      {
       "output_type": "stream",
       "stream": "stderr",
       "text": [
        "DEBUG:root:About to add Location({u'loc': {u'type': u'Point', u'coordinates': [-122.0784617, 37.401399]}, u'fmt_time': u'2015-08-27 08:36:46.124000-07:00', u'altitude': 0, u'ts': 1440689806.124, u'longitude': -122.0784617, u'latitude': 37.401399, '_id': ObjectId('55df34f37d65cb39ee986603'), u'heading': 0, u'sensed_speed': 0, u'accuracy': 130.54}) to line_string \n"
       ]
      },
      {
       "output_type": "stream",
       "stream": "stderr",
       "text": [
        "DEBUG:root:About to add Location({u'loc': {u'type': u'Point', u'coordinates': [-122.0779973, 37.3993224]}, u'fmt_time': u'2015-08-27 08:37:17.952000-07:00', u'altitude': 0, u'ts': 1440689837.952, u'longitude': -122.0779973, u'latitude': 37.3993224, '_id': ObjectId('55df34f37d65cb39ee986605'), u'heading': 0, u'sensed_speed': 0, u'accuracy': 55.5}) to line_string \n"
       ]
      },
      {
       "output_type": "stream",
       "stream": "stderr",
       "text": [
        "DEBUG:root:About to add Location({u'loc': {u'type': u'Point', u'coordinates': [-122.0772994, 37.3981887]}, u'fmt_time': u'2015-08-27 08:37:49.779000-07:00', u'altitude': 0, u'ts': 1440689869.779, u'longitude': -122.0772994, u'latitude': 37.3981887, '_id': ObjectId('55df34f37d65cb39ee986608'), u'heading': 0, u'sensed_speed': 0, u'accuracy': 38.568}) to line_string \n"
       ]
      },
      {
       "output_type": "stream",
       "stream": "stderr",
       "text": [
        "DEBUG:root:About to add Location({u'loc': {u'type': u'Point', u'coordinates': [-122.076315, 37.3978536]}, u'fmt_time': u'2015-08-27 08:38:21.628000-07:00', u'altitude': 0, u'ts': 1440689901.628, u'longitude': -122.076315, u'latitude': 37.3978536, '_id': ObjectId('55df34f37d65cb39ee98660b'), u'heading': 0, u'sensed_speed': 0, u'accuracy': 36.0}) to line_string \n"
       ]
      },
      {
       "output_type": "stream",
       "stream": "stderr",
       "text": [
        "DEBUG:root:About to add Location({u'loc': {u'type': u'Point', u'coordinates': [-122.077789, 37.3958147]}, u'fmt_time': u'2015-08-27 08:39:09.350000-07:00', u'altitude': 0, u'ts': 1440689949.35, u'longitude': -122.077789, u'latitude': 37.3958147, '_id': ObjectId('55df34f47d65cb39ee98660f'), u'heading': 0, u'sensed_speed': 0, u'accuracy': 127.011}) to line_string \n"
       ]
      },
      {
       "output_type": "stream",
       "stream": "stderr",
       "text": [
        "DEBUG:root:About to add Location({u'loc': {u'type': u'Point', u'coordinates': [-122.0778485, 37.3957377]}, u'fmt_time': u'2015-08-27 08:39:49.016000-07:00', u'altitude': 0, u'ts': 1440689989.016, u'longitude': -122.0778485, u'latitude': 37.3957377, '_id': ObjectId('55df34f47d65cb39ee986612'), u'heading': 0, u'sensed_speed': 0, u'accuracy': 105.29}) to line_string \n"
       ]
      },
      {
       "output_type": "stream",
       "stream": "stderr",
       "text": [
        "DEBUG:root:About to add Location({u'loc': {u'type': u'Point', u'coordinates': [-122.0778519, 37.3957568]}, u'fmt_time': u'2015-08-27 08:40:12.991000-07:00', u'altitude': 0, u'ts': 1440690012.991, u'longitude': -122.0778519, u'latitude': 37.3957568, '_id': ObjectId('55df34f47d65cb39ee986614'), u'heading': 0, u'sensed_speed': 0, u'accuracy': 103.911}) to line_string \n"
       ]
      },
      {
       "output_type": "stream",
       "stream": "stderr",
       "text": [
        "DEBUG:root:About to add Location({u'loc': {u'type': u'Point', u'coordinates': [-122.0778095, 37.3957252]}, u'fmt_time': u'2015-08-27 08:40:52.880000-07:00', u'altitude': 0, u'ts': 1440690052.88, u'longitude': -122.0778095, u'latitude': 37.3957252, '_id': ObjectId('55df34f47d65cb39ee986617'), u'heading': 0, u'sensed_speed': 0, u'accuracy': 36.0}) to line_string \n"
       ]
      },
      {
       "output_type": "stream",
       "stream": "stderr",
       "text": [
        "DEBUG:root:About to add Location({u'loc': {u'type': u'Point', u'coordinates': [-122.0778188, 37.3957356]}, u'fmt_time': u'2015-08-27 08:41:16.784000-07:00', u'altitude': 0, u'ts': 1440690076.784, u'longitude': -122.0778188, u'latitude': 37.3957356, '_id': ObjectId('55df34f47d65cb39ee98661a'), u'heading': 0, u'sensed_speed': 0, u'accuracy': 30.0}) to line_string \n"
       ]
      },
      {
       "output_type": "stream",
       "stream": "stderr",
       "text": [
        "DEBUG:root:About to execute query {'trip_id': ObjectId('5603ae0cf6858f0cbbb60552'), 'user_id': UUID('0763de67-f61e-3f5d-90e7-518e69793954')}\n"
       ]
      },
      {
       "output_type": "stream",
       "stream": "stderr",
       "text": [
        "DEBUG:root:len(places) = 1, len(trips) = 2\n"
       ]
      },
      {
       "output_type": "stream",
       "stream": "stderr",
       "text": [
        "DEBUG:root:Starting with element of type trip, id 5603ae10f6858f0cbbb60585, details Section({u'user_id': UUID('0763de67-f61e-3f5d-90e7-518e69793954'), u'sensed_mode': 0, u'start_loc': {u'type': u'Point', u'coordinates': [-122.0761742, 37.3941417]}, u'end_ts': 1440694334.783, u'start_ts': 1440690718.768, u'start_fmt_time': u'2015-08-27 08:51:58.768000-07:00', u'end_loc': {u'type': u'Point', u'coordinates': [-122.3871681, 37.5992489]}, u'source': u'SmoothedHighConfidenceMotion', u'end_fmt_time': u'2015-08-27 09:52:14.783000-07:00', u'duration': 3616.015000104904, u'end_stop': ObjectId('5603ae10f6858f0cbbb60587'), u'_id': ObjectId('5603ae10f6858f0cbbb60585'), u'trip_id': ObjectId('5603ae0cf6858f0cbbb60552')})\n"
       ]
      },
      {
       "output_type": "stream",
       "stream": "stderr",
       "text": [
        "DEBUG:root:sort_key = metadata.write_ts\n"
       ]
      },
      {
       "output_type": "stream",
       "stream": "stderr",
       "text": [
        "DEBUG:root:ret_val = {u'loc': {u'type': u'Point', u'coordinates': [-122.0761742, 37.3941417]}, u'fmt_time': u'2015-08-27 08:51:58.768000-07:00', u'altitude': 0, u'ts': 1440690718.768, u'longitude': -122.0761742, u'latitude': 37.3941417, '_id': ObjectId('55df34f67d65cb39ee986630'), u'heading': 0, u'sensed_speed': 0, u'accuracy': 131.293} \n"
       ]
      },
      {
       "output_type": "stream",
       "stream": "stderr",
       "text": [
        "DEBUG:root:ret_val = {u'loc': {u'type': u'Point', u'coordinates': [-122.0776881, 37.395656]}, u'fmt_time': u'2015-08-27 08:52:32.859000-07:00', u'altitude': 0, u'ts': 1440690752.859, u'longitude': -122.0776881, u'latitude': 37.395656, '_id': ObjectId('55df34f67d65cb39ee986633'), u'heading': 0, u'sensed_speed': 0, u'accuracy': 174.522} \n"
       ]
      },
      {
       "output_type": "stream",
       "stream": "stderr",
       "text": [
        "DEBUG:root:ret_val = {u'loc': {u'type': u'Point', u'coordinates': [-122.0762038, 37.3941508]}, u'fmt_time': u'2015-08-27 08:53:03.027000-07:00', u'altitude': 0, u'ts': 1440690783.027, u'longitude': -122.0762038, u'latitude': 37.3941508, '_id': ObjectId('55df34f67d65cb39ee986636'), u'heading': 0, u'sensed_speed': 0, u'accuracy': 30} \n"
       ]
      },
      {
       "output_type": "stream",
       "stream": "stderr",
       "text": [
        "DEBUG:root:ret_val = {u'loc': {u'type': u'Point', u'coordinates': [-122.0762217, 37.3942296]}, u'fmt_time': u'2015-08-27 08:53:33.053000-07:00', u'altitude': 0, u'ts': 1440690813.053, u'longitude': -122.0762217, u'latitude': 37.3942296, '_id': ObjectId('55df34f67d65cb39ee986639'), u'heading': 0, u'sensed_speed': 0, u'accuracy': 51} \n"
       ]
      },
      {
       "output_type": "stream",
       "stream": "stderr",
       "text": [
        "DEBUG:root:ret_val = {u'loc': {u'type': u'Point', u'coordinates': [-122.0776802, 37.3957268]}, u'fmt_time': u'2015-08-27 08:54:03.118000-07:00', u'altitude': 0, u'ts': 1440690843.118, u'longitude': -122.0776802, u'latitude': 37.3957268, '_id': ObjectId('55df34f67d65cb39ee98663c'), u'heading': 0, u'sensed_speed': 0, u'accuracy': 158.883} \n"
       ]
      },
      {
       "output_type": "stream",
       "stream": "stderr",
       "text": [
        "DEBUG:root:ret_val = {u'loc': {u'type': u'Point', u'coordinates': [-122.0769659, 37.3953633]}, u'fmt_time': u'2015-08-27 08:54:33.136000-07:00', u'altitude': 0, u'ts': 1440690873.136, u'longitude': -122.0769659, u'latitude': 37.3953633, '_id': ObjectId('55df34f67d65cb39ee98663f'), u'heading': 0, u'sensed_speed': 0, u'accuracy': 121.594} \n"
       ]
      },
      {
       "output_type": "stream",
       "stream": "stderr",
       "text": [
        "DEBUG:root:ret_val = {u'loc': {u'type': u'Point', u'coordinates': [-122.076151, 37.3941635]}, u'fmt_time': u'2015-08-27 08:55:03.167000-07:00', u'altitude': 0, u'ts': 1440690903.167, u'longitude': -122.076151, u'latitude': 37.3941635, '_id': ObjectId('55df34f77d65cb39ee986642'), u'heading': 0, u'sensed_speed': 0, u'accuracy': 30} \n"
       ]
      },
      {
       "output_type": "stream",
       "stream": "stderr",
       "text": [
        "DEBUG:root:ret_val = {u'loc': {u'type': u'Point', u'coordinates': [-122.076142, 37.3941596]}, u'fmt_time': u'2015-08-27 08:55:33.254000-07:00', u'altitude': 0, u'ts': 1440690933.254, u'longitude': -122.076142, u'latitude': 37.3941596, '_id': ObjectId('55df34f77d65cb39ee986645'), u'heading': 0, u'sensed_speed': 0, u'accuracy': 165.268} \n"
       ]
      },
      {
       "output_type": "stream",
       "stream": "stderr",
       "text": [
        "DEBUG:root:ret_val = {u'loc': {u'type': u'Point', u'coordinates': [-122.0778411, 37.3957819]}, u'fmt_time': u'2015-08-27 08:56:03.216000-07:00', u'altitude': 0, u'ts': 1440690963.216, u'longitude': -122.0778411, u'latitude': 37.3957819, '_id': ObjectId('55df34f77d65cb39ee986647'), u'heading': 0, u'sensed_speed': 0, u'accuracy': 40.5} \n"
       ]
      },
      {
       "output_type": "stream",
       "stream": "stderr",
       "text": [
        "DEBUG:root:ret_val = {u'loc': {u'type': u'Point', u'coordinates': [-122.0777656, 37.3957175]}, u'fmt_time': u'2015-08-27 08:56:33.227000-07:00', u'altitude': 0, u'ts': 1440690993.227, u'longitude': -122.0777656, u'latitude': 37.3957175, '_id': ObjectId('55df34f77d65cb39ee98664a'), u'heading': 0, u'sensed_speed': 0, u'accuracy': 182.404} \n"
       ]
      },
      {
       "output_type": "stream",
       "stream": "stderr",
       "text": [
        "DEBUG:root:ret_val = {u'loc': {u'type': u'Point', u'coordinates': [-122.0760912, 37.3950273]}, u'fmt_time': u'2015-08-27 08:57:03.150000-07:00', u'altitude': 0, u'ts': 1440691023.15, u'longitude': -122.0760912, u'latitude': 37.3950273, '_id': ObjectId('55df34f77d65cb39ee98664d'), u'heading': 0, u'sensed_speed': 0, u'accuracy': 102.781} \n"
       ]
      },
      {
       "output_type": "stream",
       "stream": "stderr",
       "text": [
        "DEBUG:root:ret_val = {u'loc': {u'type': u'Point', u'coordinates': [-122.0761752, 37.3942547]}, u'fmt_time': u'2015-08-27 08:57:33.294000-07:00', u'altitude': 0, u'ts': 1440691053.294, u'longitude': -122.0761752, u'latitude': 37.3942547, '_id': ObjectId('55df34f77d65cb39ee986650'), u'heading': 0, u'sensed_speed': 0, u'accuracy': 45} \n"
       ]
      },
      {
       "output_type": "stream",
       "stream": "stderr",
       "text": [
        "DEBUG:root:ret_val = {u'loc': {u'type': u'Point', u'coordinates': [-122.0777412, 37.3956106]}, u'fmt_time': u'2015-08-27 08:58:03.290000-07:00', u'altitude': 0, u'ts': 1440691083.29, u'longitude': -122.0777412, u'latitude': 37.3956106, '_id': ObjectId('55df34f87d65cb39ee986653'), u'heading': 0, u'sensed_speed': 0, u'accuracy': 173.206} \n"
       ]
      },
      {
       "output_type": "stream",
       "stream": "stderr",
       "text": [
        "DEBUG:root:ret_val = {u'loc': {u'type': u'Point', u'coordinates': [-122.0777709, 37.3957229]}, u'fmt_time': u'2015-08-27 08:58:33.349000-07:00', u'altitude': 0, u'ts': 1440691113.349, u'longitude': -122.0777709, u'latitude': 37.3957229, '_id': ObjectId('55df34f87d65cb39ee986657'), u'heading': 0, u'sensed_speed': 0, u'accuracy': 165.504} \n"
       ]
      },
      {
       "output_type": "stream",
       "stream": "stderr",
       "text": [
        "DEBUG:root:ret_val = {u'loc': {u'type': u'Point', u'coordinates': [-122.0777836, 37.3956614]}, u'fmt_time': u'2015-08-27 08:59:03.584000-07:00', u'altitude': 0, u'ts': 1440691143.584, u'longitude': -122.0777836, u'latitude': 37.3956614, '_id': ObjectId('55df34f87d65cb39ee98665a'), u'heading': 0, u'sensed_speed': 0, u'accuracy': 178.849} \n"
       ]
      },
      {
       "output_type": "stream",
       "stream": "stderr",
       "text": [
        "DEBUG:root:ret_val = {u'loc': {u'type': u'Point', u'coordinates': [-122.0762241, 37.3947787]}, u'fmt_time': u'2015-08-27 08:59:33.625000-07:00', u'altitude': 0, u'ts': 1440691173.625, u'longitude': -122.0762241, u'latitude': 37.3947787, '_id': ObjectId('55df34f87d65cb39ee98665d'), u'heading': 0, u'sensed_speed': 0, u'accuracy': 66.326} \n"
       ]
      },
      {
       "output_type": "stream",
       "stream": "stderr",
       "text": [
        "DEBUG:root:ret_val = {u'loc': {u'type': u'Point', u'coordinates': [-122.0761291, 37.3940891]}, u'fmt_time': u'2015-08-27 09:00:03.682000-07:00', u'altitude': 0, u'ts': 1440691203.682, u'longitude': -122.0761291, u'latitude': 37.3940891, '_id': ObjectId('55df34f87d65cb39ee986660'), u'heading': 0, u'sensed_speed': 0, u'accuracy': 36} \n"
       ]
      },
      {
       "output_type": "stream",
       "stream": "stderr",
       "text": [
        "DEBUG:root:ret_val = {u'loc': {u'type': u'Point', u'coordinates': [-122.0775421, 37.3956615]}, u'fmt_time': u'2015-08-27 09:00:33.697000-07:00', u'altitude': 0, u'ts': 1440691233.697, u'longitude': -122.0775421, u'latitude': 37.3956615, '_id': ObjectId('55df34f97d65cb39ee986663'), u'heading': 0, u'sensed_speed': 0, u'accuracy': 169.353} \n"
       ]
      },
      {
       "output_type": "stream",
       "stream": "stderr",
       "text": [
        "DEBUG:root:ret_val = {u'loc': {u'type': u'Point', u'coordinates': [-122.07779, 37.3956878]}, u'fmt_time': u'2015-08-27 09:01:03.668000-07:00', u'altitude': 0, u'ts': 1440691263.668, u'longitude': -122.07779, u'latitude': 37.3956878, '_id': ObjectId('55df34f97d65cb39ee986666'), u'heading': 0, u'sensed_speed': 0, u'accuracy': 181.128} \n"
       ]
      },
      {
       "output_type": "stream",
       "stream": "stderr",
       "text": [
        "DEBUG:root:ret_val = {u'loc': {u'type': u'Point', u'coordinates': [-122.0777666, 37.3957174]}, u'fmt_time': u'2015-08-27 09:01:33.591000-07:00', u'altitude': 0, u'ts': 1440691293.591, u'longitude': -122.0777666, u'latitude': 37.3957174, '_id': ObjectId('55df34f97d65cb39ee986669'), u'heading': 0, u'sensed_speed': 0, u'accuracy': 165.289} \n"
       ]
      },
      {
       "output_type": "stream",
       "stream": "stderr",
       "text": [
        "DEBUG:root:ret_val = {u'loc': {u'type': u'Point', u'coordinates': [-122.0771241, 37.3952022]}, u'fmt_time': u'2015-08-27 09:02:03.613000-07:00', u'altitude': 0, u'ts': 1440691323.613, u'longitude': -122.0771241, u'latitude': 37.3952022, '_id': ObjectId('55df34f97d65cb39ee98666c'), u'heading': 0, u'sensed_speed': 0, u'accuracy': 93} \n"
       ]
      },
      {
       "output_type": "stream",
       "stream": "stderr",
       "text": [
        "DEBUG:root:ret_val = {u'loc': {u'type': u'Point', u'coordinates': [-122.0762193, 37.3949768]}, u'fmt_time': u'2015-08-27 09:04:04.146000-07:00', u'altitude': 0, u'ts': 1440691444.146, u'longitude': -122.0762193, u'latitude': 37.3949768, '_id': ObjectId('55df456b7d65cb39ee986675'), u'heading': 0, u'sensed_speed': 0, u'accuracy': 40.5} \n"
       ]
      },
      {
       "output_type": "stream",
       "stream": "stderr",
       "text": [
        "DEBUG:root:ret_val = {u'loc': {u'type': u'Point', u'coordinates': [-122.106795, 37.4077682]}, u'fmt_time': u'2015-08-27 09:07:03.880000-07:00', u'altitude': 0, u'ts': 1440691623.88, u'longitude': -122.106795, u'latitude': 37.4077682, '_id': ObjectId('55df456c7d65cb39ee986681'), u'heading': 0, u'sensed_speed': 0, u'accuracy': 37.5} \n"
       ]
      },
      {
       "output_type": "stream",
       "stream": "stderr",
       "text": [
        "DEBUG:root:ret_val = {u'loc': {u'type': u'Point', u'coordinates': [-122.133534, 37.4235497]}, u'fmt_time': u'2015-08-27 09:10:34.234000-07:00', u'altitude': 0, u'ts': 1440691834.234, u'longitude': -122.133534, u'latitude': 37.4235497, '_id': ObjectId('55df456d7d65cb39ee98668e'), u'heading': 0, u'sensed_speed': 0, u'accuracy': 57} \n"
       ]
      },
      {
       "output_type": "stream",
       "stream": "stderr",
       "text": [
        "DEBUG:root:ret_val = {u'loc': {u'type': u'Point', u'coordinates': [-122.1388521, 37.4277911]}, u'fmt_time': u'2015-08-27 09:11:04.273000-07:00', u'altitude': 0, u'ts': 1440691864.273, u'longitude': -122.1388521, u'latitude': 37.4277911, '_id': ObjectId('55df456d7d65cb39ee986691'), u'heading': 0, u'sensed_speed': 0, u'accuracy': 40.5} \n"
       ]
      },
      {
       "output_type": "stream",
       "stream": "stderr",
       "text": [
        "DEBUG:root:ret_val = {u'loc': {u'type': u'Point', u'coordinates': [-122.1414298, 37.4291696]}, u'fmt_time': u'2015-08-27 09:11:34.287000-07:00', u'altitude': 0, u'ts': 1440691894.287, u'longitude': -122.1414298, u'latitude': 37.4291696, '_id': ObjectId('55df456d7d65cb39ee986693'), u'heading': 0, u'sensed_speed': 0, u'accuracy': 40.5} \n"
       ]
      },
      {
       "output_type": "stream",
       "stream": "stderr",
       "text": [
        "DEBUG:root:ret_val = {u'loc': {u'type': u'Point', u'coordinates': [-122.1415265, 37.429284]}, u'fmt_time': u'2015-08-27 09:12:04.382000-07:00', u'altitude': 0, u'ts': 1440691924.382, u'longitude': -122.1415265, u'latitude': 37.429284, '_id': ObjectId('55df456d7d65cb39ee986696'), u'heading': 0, u'sensed_speed': 0, u'accuracy': 40.5} \n"
       ]
      },
      {
       "output_type": "stream",
       "stream": "stderr",
       "text": [
        "DEBUG:root:ret_val = {u'loc': {u'type': u'Point', u'coordinates': [-122.1414298, 37.4291696]}, u'fmt_time': u'2015-08-27 09:12:34.341000-07:00', u'altitude': 0, u'ts': 1440691954.341, u'longitude': -122.1414298, u'latitude': 37.4291696, '_id': ObjectId('55df456d7d65cb39ee986698'), u'heading': 0, u'sensed_speed': 0, u'accuracy': 40.5} \n"
       ]
      },
      {
       "output_type": "stream",
       "stream": "stderr",
       "text": [
        "DEBUG:root:ret_val = {u'loc': {u'type': u'Point', u'coordinates': [-122.1414762, 37.4292348]}, u'fmt_time': u'2015-08-27 09:13:04.371000-07:00', u'altitude': 0, u'ts': 1440691984.371, u'longitude': -122.1414762, u'latitude': 37.4292348, '_id': ObjectId('55df456e7d65cb39ee98669c'), u'heading': 0, u'sensed_speed': 0, u'accuracy': 36} \n"
       ]
      },
      {
       "output_type": "stream",
       "stream": "stderr",
       "text": [
        "DEBUG:root:ret_val = {u'loc': {u'type': u'Point', u'coordinates': [-122.1414762, 37.4292348]}, u'fmt_time': u'2015-08-27 09:13:33.420000-07:00', u'altitude': 0, u'ts': 1440692013.42, u'longitude': -122.1414762, u'latitude': 37.4292348, '_id': ObjectId('55df456e7d65cb39ee98669e'), u'heading': 0, u'sensed_speed': 0, u'accuracy': 79.573} \n"
       ]
      },
      {
       "output_type": "stream",
       "stream": "stderr",
       "text": [
        "DEBUG:root:ret_val = {u'loc': {u'type': u'Point', u'coordinates': [-122.1522525, 37.4358008]}, u'fmt_time': u'2015-08-27 09:14:33.587000-07:00', u'altitude': 0, u'ts': 1440692073.587, u'longitude': -122.1522525, u'latitude': 37.4358008, '_id': ObjectId('55df456e7d65cb39ee9866a4'), u'heading': 0, u'sensed_speed': 0, u'accuracy': 36} \n"
       ]
      },
      {
       "output_type": "stream",
       "stream": "stderr",
       "text": [
        "DEBUG:root:ret_val = {u'loc': {u'type': u'Point', u'coordinates': [-122.1651832, 37.4438895]}, u'fmt_time': u'2015-08-27 09:16:04.629000-07:00', u'altitude': 0, u'ts': 1440692164.629, u'longitude': -122.1651832, u'latitude': 37.4438895, '_id': ObjectId('55df456e7d65cb39ee9866a8'), u'heading': 0, u'sensed_speed': 0, u'accuracy': 51} \n"
       ]
      },
      {
       "output_type": "stream",
       "stream": "stderr",
       "text": [
        "DEBUG:root:ret_val = {u'loc': {u'type': u'Point', u'coordinates': [-122.1658308, 37.4436462]}, u'fmt_time': u'2015-08-27 09:16:34.764000-07:00', u'altitude': 0, u'ts': 1440692194.764, u'longitude': -122.1658308, u'latitude': 37.4436462, '_id': ObjectId('55df456f7d65cb39ee9866ab'), u'heading': 0, u'sensed_speed': 0, u'accuracy': 43.5} \n"
       ]
      },
      {
       "output_type": "stream",
       "stream": "stderr",
       "text": [
        "DEBUG:root:ret_val = {u'loc': {u'type': u'Point', u'coordinates': [-122.1650013, 37.4439291]}, u'fmt_time': u'2015-08-27 09:17:04.710000-07:00', u'altitude': 0, u'ts': 1440692224.71, u'longitude': -122.1650013, u'latitude': 37.4439291, '_id': ObjectId('55df456f7d65cb39ee9866ae'), u'heading': 0, u'sensed_speed': 0, u'accuracy': 33} \n"
       ]
      },
      {
       "output_type": "stream",
       "stream": "stderr",
       "text": [
        "DEBUG:root:ret_val = {u'loc': {u'type': u'Point', u'coordinates': [-122.1649406, 37.4439526]}, u'fmt_time': u'2015-08-27 09:17:29.580000-07:00', u'altitude': 0, u'ts': 1440692249.58, u'longitude': -122.1649406, u'latitude': 37.4439526, '_id': ObjectId('55df456f7d65cb39ee9866b2'), u'heading': 0, u'sensed_speed': 0, u'accuracy': 36} \n"
       ]
      },
      {
       "output_type": "stream",
       "stream": "stderr",
       "text": [
        "DEBUG:root:ret_val = {u'loc': {u'type': u'Point', u'coordinates': [-122.180769, 37.4541764]}, u'fmt_time': u'2015-08-27 09:20:20.950000-07:00', u'altitude': 0, u'ts': 1440692420.95, u'longitude': -122.180769, u'latitude': 37.4541764, '_id': ObjectId('55df45707d65cb39ee9866c2'), u'heading': 0, u'sensed_speed': 0, u'accuracy': 48} \n"
       ]
      },
      {
       "output_type": "stream",
       "stream": "stderr",
       "text": [
        "DEBUG:root:ret_val = {u'loc': {u'type': u'Point', u'coordinates': [-122.1829735, 37.4553948]}, u'fmt_time': u'2015-08-27 09:20:52.779000-07:00', u'altitude': 0, u'ts': 1440692452.779, u'longitude': -122.1829735, u'latitude': 37.4553948, '_id': ObjectId('55df45707d65cb39ee9866c5'), u'heading': 0, u'sensed_speed': 0, u'accuracy': 36} \n"
       ]
      },
      {
       "output_type": "stream",
       "stream": "stderr",
       "text": [
        "DEBUG:root:ret_val = {u'loc': {u'type': u'Point', u'coordinates': [-122.1829793, 37.4551939]}, u'fmt_time': u'2015-08-27 09:21:24.599000-07:00', u'altitude': 0, u'ts': 1440692484.599, u'longitude': -122.1829793, u'latitude': 37.4551939, '_id': ObjectId('55df45707d65cb39ee9866c7'), u'heading': 0, u'sensed_speed': 0, u'accuracy': 36} \n"
       ]
      },
      {
       "output_type": "stream",
       "stream": "stderr",
       "text": [
        "DEBUG:root:ret_val = {u'loc': {u'type': u'Point', u'coordinates': [-122.182976, 37.4553]}, u'fmt_time': u'2015-08-27 09:21:56.409000-07:00', u'altitude': 0, u'ts': 1440692516.409, u'longitude': -122.182976, u'latitude': 37.4553, '_id': ObjectId('55df45717d65cb39ee9866ca'), u'heading': 0, u'sensed_speed': 0, u'accuracy': 39} \n"
       ]
      },
      {
       "output_type": "stream",
       "stream": "stderr",
       "text": [
        "DEBUG:root:ret_val = {u'loc': {u'type': u'Point', u'coordinates': [-122.2135446, 37.4737671]}, u'fmt_time': u'2015-08-27 09:24:35.493000-07:00', u'altitude': 0, u'ts': 1440692675.493, u'longitude': -122.2135446, u'latitude': 37.4737671, '_id': ObjectId('55df45717d65cb39ee9866d5'), u'heading': 0, u'sensed_speed': 0, u'accuracy': 26} \n"
       ]
      },
      {
       "output_type": "stream",
       "stream": "stderr",
       "text": [
        "DEBUG:root:ret_val = {u'loc': {u'type': u'Point', u'coordinates': [-122.2231926, 37.4785943]}, u'fmt_time': u'2015-08-27 09:24:51.407000-07:00', u'altitude': 0, u'ts': 1440692691.407, u'longitude': -122.2231926, u'latitude': 37.4785943, '_id': ObjectId('55df45717d65cb39ee9866d7'), u'heading': 0, u'sensed_speed': 0, u'accuracy': 36} \n"
       ]
      },
      {
       "output_type": "stream",
       "stream": "stderr",
       "text": [
        "DEBUG:root:ret_val = {u'loc': {u'type': u'Point', u'coordinates': [-122.2269005, 37.4828822]}, u'fmt_time': u'2015-08-27 09:25:39.130000-07:00', u'altitude': 0, u'ts': 1440692739.13, u'longitude': -122.2269005, u'latitude': 37.4828822, '_id': ObjectId('55df45727d65cb39ee9866db'), u'heading': 0, u'sensed_speed': 0, u'accuracy': 39} \n"
       ]
      },
      {
       "output_type": "stream",
       "stream": "stderr",
       "text": [
        "DEBUG:root:ret_val = {u'loc': {u'type': u'Point', u'coordinates': [-122.2320305, 37.4862189]}, u'fmt_time': u'2015-08-27 09:26:26.881000-07:00', u'altitude': 0, u'ts': 1440692786.881, u'longitude': -122.2320305, u'latitude': 37.4862189, '_id': ObjectId('55df45727d65cb39ee9866df'), u'heading': 0, u'sensed_speed': 0, u'accuracy': 45} \n"
       ]
      },
      {
       "output_type": "stream",
       "stream": "stderr",
       "text": [
        "DEBUG:root:ret_val = {u'loc': {u'type': u'Point', u'coordinates': [-122.2323706, 37.4861919]}, u'fmt_time': u'2015-08-27 09:26:58.696000-07:00', u'altitude': 0, u'ts': 1440692818.696, u'longitude': -122.2323706, u'latitude': 37.4861919, '_id': ObjectId('55df45727d65cb39ee9866e2'), u'heading': 0, u'sensed_speed': 0, u'accuracy': 79.5} \n"
       ]
      },
      {
       "output_type": "stream",
       "stream": "stderr",
       "text": [
        "DEBUG:root:ret_val = {u'loc': {u'type': u'Point', u'coordinates': [-122.2320101, 37.4862121]}, u'fmt_time': u'2015-08-27 09:27:30.524000-07:00', u'altitude': 0, u'ts': 1440692850.524, u'longitude': -122.2320101, u'latitude': 37.4862121, '_id': ObjectId('55df45727d65cb39ee9866e4'), u'heading': 0, u'sensed_speed': 0, u'accuracy': 40.5} \n"
       ]
      },
      {
       "output_type": "stream",
       "stream": "stderr",
       "text": [
        "DEBUG:root:ret_val = {u'loc': {u'type': u'Point', u'coordinates': [-122.2324731, 37.4861669]}, u'fmt_time': u'2015-08-27 09:27:50.732000-07:00', u'altitude': 0, u'ts': 1440692870.732, u'longitude': -122.2324731, u'latitude': 37.4861669, '_id': ObjectId('55df45727d65cb39ee9866e7'), u'heading': 0, u'sensed_speed': 0, u'accuracy': 37.5} \n"
       ]
      },
      {
       "output_type": "stream",
       "stream": "stderr",
       "text": [
        "DEBUG:root:ret_val = {u'loc': {u'type': u'Point', u'coordinates': [-122.234237, 37.4872932]}, u'fmt_time': u'2015-08-27 09:28:22.555000-07:00', u'altitude': 0, u'ts': 1440692902.555, u'longitude': -122.234237, u'latitude': 37.4872932, '_id': ObjectId('55df45737d65cb39ee9866ec'), u'heading': 0, u'sensed_speed': 0, u'accuracy': 148.407} \n"
       ]
      },
      {
       "output_type": "stream",
       "stream": "stderr",
       "text": [
        "DEBUG:root:ret_val = {u'loc': {u'type': u'Point', u'coordinates': [-122.248984, 37.4984627]}, u'fmt_time': u'2015-08-27 09:29:35.002000-07:00', u'altitude': 0, u'ts': 1440692975.002, u'longitude': -122.248984, u'latitude': 37.4984627, '_id': ObjectId('55df45737d65cb39ee9866f2'), u'heading': 0, u'sensed_speed': 0, u'accuracy': 72} \n"
       ]
      },
      {
       "output_type": "stream",
       "stream": "stderr",
       "text": [
        "DEBUG:root:ret_val = {u'loc': {u'type': u'Point', u'coordinates': [-122.2601884, 37.5068074]}, u'fmt_time': u'2015-08-27 09:30:35.042000-07:00', u'altitude': 0, u'ts': 1440693035.042, u'longitude': -122.2601884, u'latitude': 37.5068074, '_id': ObjectId('55df45747d65cb39ee9866f8'), u'heading': 0, u'sensed_speed': 0, u'accuracy': 37.5} \n"
       ]
      },
      {
       "output_type": "stream",
       "stream": "stderr",
       "text": [
        "DEBUG:root:ret_val = {u'loc': {u'type': u'Point', u'coordinates': [-122.2603798, 37.5082546]}, u'fmt_time': u'2015-08-27 09:31:05.110000-07:00', u'altitude': 0, u'ts': 1440693065.11, u'longitude': -122.2603798, u'latitude': 37.5082546, '_id': ObjectId('55df45747d65cb39ee9866fa'), u'heading': 0, u'sensed_speed': 0, u'accuracy': 42} \n"
       ]
      },
      {
       "output_type": "stream",
       "stream": "stderr",
       "text": [
        "DEBUG:root:ret_val = {u'loc': {u'type': u'Point', u'coordinates': [-122.2605659, 37.5081271]}, u'fmt_time': u'2015-08-27 09:31:35.172000-07:00', u'altitude': 0, u'ts': 1440693095.172, u'longitude': -122.2605659, u'latitude': 37.5081271, '_id': ObjectId('55df45747d65cb39ee9866fd'), u'heading': 0, u'sensed_speed': 0, u'accuracy': 49.5} \n"
       ]
      },
      {
       "output_type": "stream",
       "stream": "stderr",
       "text": [
        "DEBUG:root:ret_val = {u'loc': {u'type': u'Point', u'coordinates': [-122.2607601, 37.5077337]}, u'fmt_time': u'2015-08-27 09:32:05.165000-07:00', u'altitude': 0, u'ts': 1440693125.165, u'longitude': -122.2607601, u'latitude': 37.5077337, '_id': ObjectId('55df45747d65cb39ee986700'), u'heading': 0, u'sensed_speed': 0, u'accuracy': 51} \n"
       ]
      },
      {
       "output_type": "stream",
       "stream": "stderr",
       "text": [
        "DEBUG:root:ret_val = {u'loc': {u'type': u'Point', u'coordinates': [-122.2625349, 37.5100476]}, u'fmt_time': u'2015-08-27 09:32:35.157000-07:00', u'altitude': 0, u'ts': 1440693155.157, u'longitude': -122.2625349, u'latitude': 37.5100476, '_id': ObjectId('55df45747d65cb39ee986702'), u'heading': 0, u'sensed_speed': 0, u'accuracy': 52.5} \n"
       ]
      },
      {
       "output_type": "stream",
       "stream": "stderr",
       "text": [
        "DEBUG:root:ret_val = {u'loc': {u'type': u'Point', u'coordinates': [-122.2660316, 37.512868]}, u'fmt_time': u'2015-08-27 09:33:05.198000-07:00', u'altitude': 0, u'ts': 1440693185.198, u'longitude': -122.2660316, u'latitude': 37.512868, '_id': ObjectId('55df45747d65cb39ee986705'), u'heading': 0, u'sensed_speed': 0, u'accuracy': 112.5} \n"
       ]
      },
      {
       "output_type": "stream",
       "stream": "stderr",
       "text": [
        "DEBUG:root:ret_val = {u'loc': {u'type': u'Point', u'coordinates': [-122.2721991, 37.5177452]}, u'fmt_time': u'2015-08-27 09:33:35.235000-07:00', u'altitude': 0, u'ts': 1440693215.235, u'longitude': -122.2721991, u'latitude': 37.5177452, '_id': ObjectId('55df45757d65cb39ee986709'), u'heading': 0, u'sensed_speed': 0, u'accuracy': 36} \n"
       ]
      },
      {
       "output_type": "stream",
       "stream": "stderr",
       "text": [
        "DEBUG:root:ret_val = {u'loc': {u'type': u'Point', u'coordinates': [-122.2764249, 37.521002]}, u'fmt_time': u'2015-08-27 09:34:05.439000-07:00', u'altitude': 0, u'ts': 1440693245.439, u'longitude': -122.2764249, u'latitude': 37.521002, '_id': ObjectId('55df45757d65cb39ee98670c'), u'heading': 0, u'sensed_speed': 0, u'accuracy': 57} \n"
       ]
      },
      {
       "output_type": "stream",
       "stream": "stderr",
       "text": [
        "DEBUG:root:ret_val = {u'loc': {u'type': u'Point', u'coordinates': [-122.2763004, 37.5209551]}, u'fmt_time': u'2015-08-27 09:34:35.434000-07:00', u'altitude': 0, u'ts': 1440693275.434, u'longitude': -122.2763004, u'latitude': 37.5209551, '_id': ObjectId('55df45757d65cb39ee98670e'), u'heading': 0, u'sensed_speed': 0, u'accuracy': 40.5} \n"
       ]
      },
      {
       "output_type": "stream",
       "stream": "stderr",
       "text": [
        "DEBUG:root:ret_val = {u'loc': {u'type': u'Point', u'coordinates': [-122.2763267, 37.5210567]}, u'fmt_time': u'2015-08-27 09:35:05.480000-07:00', u'altitude': 0, u'ts': 1440693305.48, u'longitude': -122.2763267, u'latitude': 37.5210567, '_id': ObjectId('55df45757d65cb39ee986711'), u'heading': 0, u'sensed_speed': 0, u'accuracy': 45} \n"
       ]
      },
      {
       "output_type": "stream",
       "stream": "stderr",
       "text": [
        "DEBUG:root:ret_val = {u'loc': {u'type': u'Point', u'coordinates': [-122.2771575, 37.522433]}, u'fmt_time': u'2015-08-27 09:35:35.479000-07:00', u'altitude': 0, u'ts': 1440693335.479, u'longitude': -122.2771575, u'latitude': 37.522433, '_id': ObjectId('55df45757d65cb39ee986713'), u'heading': 0, u'sensed_speed': 0, u'accuracy': 45} \n"
       ]
      },
      {
       "output_type": "stream",
       "stream": "stderr",
       "text": [
        "DEBUG:root:ret_val = {u'loc': {u'type': u'Point', u'coordinates': [-122.2805606, 37.5255413]}, u'fmt_time': u'2015-08-27 09:36:05.509000-07:00', u'altitude': 0, u'ts': 1440693365.509, u'longitude': -122.2805606, u'latitude': 37.5255413, '_id': ObjectId('55df45757d65cb39ee986716'), u'heading': 0, u'sensed_speed': 0, u'accuracy': 37.5} \n"
       ]
      },
      {
       "output_type": "stream",
       "stream": "stderr",
       "text": [
        "DEBUG:root:ret_val = {u'loc': {u'type': u'Point', u'coordinates': [-122.2867979, 37.5290806]}, u'fmt_time': u'2015-08-27 09:36:35.593000-07:00', u'altitude': 0, u'ts': 1440693395.593, u'longitude': -122.2867979, u'latitude': 37.5290806, '_id': ObjectId('55df45767d65cb39ee986719'), u'heading': 0, u'sensed_speed': 0, u'accuracy': 40.5} \n"
       ]
      },
      {
       "output_type": "stream",
       "stream": "stderr",
       "text": [
        "DEBUG:root:ret_val = {u'loc': {u'type': u'Point', u'coordinates': [-122.2934913, 37.5337847]}, u'fmt_time': u'2015-08-27 09:37:05.543000-07:00', u'altitude': 0, u'ts': 1440693425.543, u'longitude': -122.2934913, u'latitude': 37.5337847, '_id': ObjectId('55df45767d65cb39ee98671c'), u'heading': 0, u'sensed_speed': 0, u'accuracy': 34.5} \n"
       ]
      },
      {
       "output_type": "stream",
       "stream": "stderr",
       "text": [
        "DEBUG:root:ret_val = {u'loc': {u'type': u'Point', u'coordinates': [-122.3012202, 37.5422658]}, u'fmt_time': u'2015-08-27 09:40:05.744000-07:00', u'altitude': 0, u'ts': 1440693605.744, u'longitude': -122.3012202, u'latitude': 37.5422658, '_id': ObjectId('55df45767d65cb39ee986726'), u'heading': 0, u'sensed_speed': 0, u'accuracy': 36} \n"
       ]
      },
      {
       "output_type": "stream",
       "stream": "stderr",
       "text": [
        "DEBUG:root:ret_val = {u'loc': {u'type': u'Point', u'coordinates': [-122.3012202, 37.5422658]}, u'fmt_time': u'2015-08-27 09:40:28.208000-07:00', u'altitude': 0, u'ts': 1440693628.208, u'longitude': -122.3012202, u'latitude': 37.5422658, '_id': ObjectId('55df45767d65cb39ee986728'), u'heading': 0, u'sensed_speed': 0, u'accuracy': 36} \n"
       ]
      },
      {
       "output_type": "stream",
       "stream": "stderr",
       "text": [
        "DEBUG:root:ret_val = {u'loc': {u'type': u'Point', u'coordinates': [-122.3148437, 37.5601944]}, u'fmt_time': u'2015-08-27 09:41:35.701000-07:00', u'altitude': 0, u'ts': 1440693695.701, u'longitude': -122.3148437, u'latitude': 37.5601944, '_id': ObjectId('55df45777d65cb39ee98672f'), u'heading': 0, u'sensed_speed': 0, u'accuracy': 45} \n"
       ]
      },
      {
       "output_type": "stream",
       "stream": "stderr",
       "text": [
        "DEBUG:root:ret_val = {u'loc': {u'type': u'Point', u'coordinates': [-122.3224973, 37.5669161]}, u'fmt_time': u'2015-08-27 09:42:35.830000-07:00', u'altitude': 0, u'ts': 1440693755.83, u'longitude': -122.3224973, u'latitude': 37.5669161, '_id': ObjectId('55df45777d65cb39ee986734'), u'heading': 0, u'sensed_speed': 0, u'accuracy': 36} \n"
       ]
      },
      {
       "output_type": "stream",
       "stream": "stderr",
       "text": [
        "DEBUG:root:ret_val = {u'loc': {u'type': u'Point', u'coordinates': [-122.3247799, 37.5690545]}, u'fmt_time': u'2015-08-27 09:43:35.962000-07:00', u'altitude': 0, u'ts': 1440693815.962, u'longitude': -122.3247799, u'latitude': 37.5690545, '_id': ObjectId('55df45777d65cb39ee986738'), u'heading': 0, u'sensed_speed': 0, u'accuracy': 36} \n"
       ]
      },
      {
       "output_type": "stream",
       "stream": "stderr",
       "text": [
        "DEBUG:root:ret_val = {u'loc': {u'type': u'Point', u'coordinates': [-122.3251962, 37.5692079]}, u'fmt_time': u'2015-08-27 09:44:05.920000-07:00', u'altitude': 0, u'ts': 1440693845.92, u'longitude': -122.3251962, u'latitude': 37.5692079, '_id': ObjectId('55df45787d65cb39ee98673b'), u'heading': 0, u'sensed_speed': 0, u'accuracy': 49.5} \n"
       ]
      },
      {
       "output_type": "stream",
       "stream": "stderr",
       "text": [
        "DEBUG:root:ret_val = {u'loc': {u'type': u'Point', u'coordinates': [-122.3254295, 37.5693078]}, u'fmt_time': u'2015-08-27 09:44:35.939000-07:00', u'altitude': 0, u'ts': 1440693875.939, u'longitude': -122.3254295, u'latitude': 37.5693078, '_id': ObjectId('55df45787d65cb39ee98673d'), u'heading': 0, u'sensed_speed': 0, u'accuracy': 37.5} \n"
       ]
      },
      {
       "output_type": "stream",
       "stream": "stderr",
       "text": [
        "DEBUG:root:ret_val = {u'loc': {u'type': u'Point', u'coordinates': [-122.3281082, 37.5721947]}, u'fmt_time': u'2015-08-27 09:45:06.036000-07:00', u'altitude': 0, u'ts': 1440693906.036, u'longitude': -122.3281082, u'latitude': 37.5721947, '_id': ObjectId('55df45787d65cb39ee986740'), u'heading': 0, u'sensed_speed': 0, u'accuracy': 36} \n"
       ]
      },
      {
       "output_type": "stream",
       "stream": "stderr",
       "text": [
        "DEBUG:root:ret_val = {u'loc': {u'type': u'Point', u'coordinates': [-122.3316944, 37.5749343]}, u'fmt_time': u'2015-08-27 09:45:36.023000-07:00', u'altitude': 0, u'ts': 1440693936.023, u'longitude': -122.3316944, u'latitude': 37.5749343, '_id': ObjectId('55df45787d65cb39ee986744'), u'heading': 0, u'sensed_speed': 0, u'accuracy': 27} \n"
       ]
      },
      {
       "output_type": "stream",
       "stream": "stderr",
       "text": [
        "DEBUG:root:ret_val = {u'loc': {u'type': u'Point', u'coordinates': [-122.3352875, 37.5761309]}, u'fmt_time': u'2015-08-27 09:46:06.075000-07:00', u'altitude': 0, u'ts': 1440693966.075, u'longitude': -122.3352875, u'latitude': 37.5761309, '_id': ObjectId('55df45787d65cb39ee986747'), u'heading': 0, u'sensed_speed': 0, u'accuracy': 40.5} \n"
       ]
      },
      {
       "output_type": "stream",
       "stream": "stderr",
       "text": [
        "DEBUG:root:ret_val = {u'loc': {u'type': u'Point', u'coordinates': [-122.3410251, 37.5785123]}, u'fmt_time': u'2015-08-27 09:46:36.121000-07:00', u'altitude': 0, u'ts': 1440693996.121, u'longitude': -122.3410251, u'latitude': 37.5785123, '_id': ObjectId('55df45797d65cb39ee98674a'), u'heading': 0, u'sensed_speed': 0, u'accuracy': 90} \n"
       ]
      },
      {
       "output_type": "stream",
       "stream": "stderr",
       "text": [
        "DEBUG:root:ret_val = {u'loc': {u'type': u'Point', u'coordinates': [-122.3435781, 37.5796754]}, u'fmt_time': u'2015-08-27 09:46:53.078000-07:00', u'altitude': 0, u'ts': 1440694013.078, u'longitude': -122.3435781, u'latitude': 37.5796754, '_id': ObjectId('55df45797d65cb39ee98674c'), u'heading': 0, u'sensed_speed': 0, u'accuracy': 37.5} \n"
       ]
      },
      {
       "output_type": "stream",
       "stream": "stderr",
       "text": [
        "DEBUG:root:ret_val = {u'loc': {u'type': u'Point', u'coordinates': [-122.3446146, 37.5797867]}, u'fmt_time': u'2015-08-27 09:47:24.886000-07:00', u'altitude': 0, u'ts': 1440694044.886, u'longitude': -122.3446146, u'latitude': 37.5797867, '_id': ObjectId('55df45797d65cb39ee986750'), u'heading': 0, u'sensed_speed': 0, u'accuracy': 30} \n"
       ]
      },
      {
       "output_type": "stream",
       "stream": "stderr",
       "text": [
        "DEBUG:root:ret_val = {u'loc': {u'type': u'Point', u'coordinates': [-122.3444278, 37.5797932]}, u'fmt_time': u'2015-08-27 09:47:57.004000-07:00', u'altitude': 0, u'ts': 1440694077.004, u'longitude': -122.3444278, u'latitude': 37.5797932, '_id': ObjectId('55df457a7d65cb39ee986758'), u'heading': 0, u'sensed_speed': 0, u'accuracy': 55.5} \n"
       ]
      },
      {
       "output_type": "stream",
       "stream": "stderr",
       "text": [
        "DEBUG:root:ret_val = {u'loc': {u'type': u'Point', u'coordinates': [-122.3466425, 37.5804851]}, u'fmt_time': u'2015-08-27 09:48:28.519000-07:00', u'altitude': 0, u'ts': 1440694108.519, u'longitude': -122.3466425, u'latitude': 37.5804851, '_id': ObjectId('55df457a7d65cb39ee98675c'), u'heading': 0, u'sensed_speed': 0, u'accuracy': 40.5} \n"
       ]
      },
      {
       "output_type": "stream",
       "stream": "stderr",
       "text": [
        "DEBUG:root:ret_val = {u'loc': {u'type': u'Point', u'coordinates': [-122.3622066, 37.5877013]}, u'fmt_time': u'2015-08-27 09:50:03.983000-07:00', u'altitude': 0, u'ts': 1440694203.983, u'longitude': -122.3622066, u'latitude': 37.5877013, '_id': ObjectId('55df457a7d65cb39ee986763'), u'heading': 0, u'sensed_speed': 0, u'accuracy': 45} \n"
       ]
      },
      {
       "output_type": "stream",
       "stream": "stderr",
       "text": [
        "DEBUG:root:ret_val = {u'loc': {u'type': u'Point', u'coordinates': [-122.3871416, 37.599251]}, u'fmt_time': u'2015-08-27 09:51:44.698000-07:00', u'altitude': 0, u'ts': 1440694304.698, u'longitude': -122.3871416, u'latitude': 37.599251, '_id': ObjectId('55df457b7d65cb39ee986769'), u'heading': 0, u'sensed_speed': 0, u'accuracy': 36} \n"
       ]
      },
      {
       "output_type": "stream",
       "stream": "stderr",
       "text": [
        "DEBUG:root:ret_val = {u'loc': {u'type': u'Point', u'coordinates': [-122.3871681, 37.5992489]}, u'fmt_time': u'2015-08-27 09:52:14.783000-07:00', u'altitude': 0, u'ts': 1440694334.783, u'longitude': -122.3871681, u'latitude': 37.5992489, '_id': ObjectId('55df457b7d65cb39ee98676c'), u'heading': 0, u'sensed_speed': 0, u'accuracy': 40.5} \n"
       ]
      },
      {
       "output_type": "stream",
       "stream": "stderr",
       "text": [
        "DEBUG:root:points_df.columns = Index([u'_id', u'accuracy', u'altitude', u'fmt_time', u'heading', u'latitude', u'loc', u'longitude', u'sensed_speed', u'ts'], dtype='object')\n"
       ]
      },
      {
       "output_type": "stream",
       "stream": "stderr",
       "text": [
        "DEBUG:root:first element in section_location_array = Location({u'loc': {u'type': u'Point', u'coordinates': [-122.0761742, 37.3941417]}, u'fmt_time': u'2015-08-27 08:51:58.768000-07:00', u'altitude': 0, u'ts': 1440690718.768, u'longitude': -122.0761742, u'latitude': 37.3941417, '_id': ObjectId('55df34f67d65cb39ee986630'), u'heading': 0, u'sensed_speed': 0, u'accuracy': 131.293})\n"
       ]
      },
      {
       "output_type": "stream",
       "stream": "stderr",
       "text": [
        "DEBUG:root:About to add Location({u'loc': {u'type': u'Point', u'coordinates': [-122.0761742, 37.3941417]}, u'fmt_time': u'2015-08-27 08:51:58.768000-07:00', u'altitude': 0, u'ts': 1440690718.768, u'longitude': -122.0761742, u'latitude': 37.3941417, '_id': ObjectId('55df34f67d65cb39ee986630'), u'heading': 0, u'sensed_speed': 0, u'accuracy': 131.293}) to line_string \n"
       ]
      },
      {
       "output_type": "stream",
       "stream": "stderr",
       "text": [
        "DEBUG:root:About to add Location({u'loc': {u'type': u'Point', u'coordinates': [-122.0776881, 37.395656]}, u'fmt_time': u'2015-08-27 08:52:32.859000-07:00', u'altitude': 0, u'ts': 1440690752.859, u'longitude': -122.0776881, u'latitude': 37.395656, '_id': ObjectId('55df34f67d65cb39ee986633'), u'heading': 0, u'sensed_speed': 0, u'accuracy': 174.522}) to line_string \n"
       ]
      },
      {
       "output_type": "stream",
       "stream": "stderr",
       "text": [
        "DEBUG:root:About to add Location({u'loc': {u'type': u'Point', u'coordinates': [-122.0762038, 37.3941508]}, u'fmt_time': u'2015-08-27 08:53:03.027000-07:00', u'altitude': 0, u'ts': 1440690783.027, u'longitude': -122.0762038, u'latitude': 37.3941508, '_id': ObjectId('55df34f67d65cb39ee986636'), u'heading': 0, u'sensed_speed': 0, u'accuracy': 30.0}) to line_string \n"
       ]
      },
      {
       "output_type": "stream",
       "stream": "stderr",
       "text": [
        "DEBUG:root:About to add Location({u'loc': {u'type': u'Point', u'coordinates': [-122.0762217, 37.3942296]}, u'fmt_time': u'2015-08-27 08:53:33.053000-07:00', u'altitude': 0, u'ts': 1440690813.053, u'longitude': -122.0762217, u'latitude': 37.3942296, '_id': ObjectId('55df34f67d65cb39ee986639'), u'heading': 0, u'sensed_speed': 0, u'accuracy': 51.0}) to line_string \n"
       ]
      },
      {
       "output_type": "stream",
       "stream": "stderr",
       "text": [
        "DEBUG:root:About to add Location({u'loc': {u'type': u'Point', u'coordinates': [-122.0776802, 37.3957268]}, u'fmt_time': u'2015-08-27 08:54:03.118000-07:00', u'altitude': 0, u'ts': 1440690843.118, u'longitude': -122.0776802, u'latitude': 37.3957268, '_id': ObjectId('55df34f67d65cb39ee98663c'), u'heading': 0, u'sensed_speed': 0, u'accuracy': 158.883}) to line_string \n"
       ]
      },
      {
       "output_type": "stream",
       "stream": "stderr",
       "text": [
        "DEBUG:root:About to add Location({u'loc': {u'type': u'Point', u'coordinates': [-122.0769659, 37.3953633]}, u'fmt_time': u'2015-08-27 08:54:33.136000-07:00', u'altitude': 0, u'ts': 1440690873.136, u'longitude': -122.0769659, u'latitude': 37.3953633, '_id': ObjectId('55df34f67d65cb39ee98663f'), u'heading': 0, u'sensed_speed': 0, u'accuracy': 121.594}) to line_string \n"
       ]
      },
      {
       "output_type": "stream",
       "stream": "stderr",
       "text": [
        "DEBUG:root:About to add Location({u'loc': {u'type': u'Point', u'coordinates': [-122.076151, 37.3941635]}, u'fmt_time': u'2015-08-27 08:55:03.167000-07:00', u'altitude': 0, u'ts': 1440690903.167, u'longitude': -122.076151, u'latitude': 37.3941635, '_id': ObjectId('55df34f77d65cb39ee986642'), u'heading': 0, u'sensed_speed': 0, u'accuracy': 30.0}) to line_string \n"
       ]
      },
      {
       "output_type": "stream",
       "stream": "stderr",
       "text": [
        "DEBUG:root:About to add Location({u'loc': {u'type': u'Point', u'coordinates': [-122.076142, 37.3941596]}, u'fmt_time': u'2015-08-27 08:55:33.254000-07:00', u'altitude': 0, u'ts': 1440690933.254, u'longitude': -122.076142, u'latitude': 37.3941596, '_id': ObjectId('55df34f77d65cb39ee986645'), u'heading': 0, u'sensed_speed': 0, u'accuracy': 165.268}) to line_string \n"
       ]
      },
      {
       "output_type": "stream",
       "stream": "stderr",
       "text": [
        "DEBUG:root:About to add Location({u'loc': {u'type': u'Point', u'coordinates': [-122.0778411, 37.3957819]}, u'fmt_time': u'2015-08-27 08:56:03.216000-07:00', u'altitude': 0, u'ts': 1440690963.216, u'longitude': -122.0778411, u'latitude': 37.3957819, '_id': ObjectId('55df34f77d65cb39ee986647'), u'heading': 0, u'sensed_speed': 0, u'accuracy': 40.5}) to line_string \n"
       ]
      },
      {
       "output_type": "stream",
       "stream": "stderr",
       "text": [
        "DEBUG:root:About to add Location({u'loc': {u'type': u'Point', u'coordinates': [-122.0777656, 37.3957175]}, u'fmt_time': u'2015-08-27 08:56:33.227000-07:00', u'altitude': 0, u'ts': 1440690993.227, u'longitude': -122.0777656, u'latitude': 37.3957175, '_id': ObjectId('55df34f77d65cb39ee98664a'), u'heading': 0, u'sensed_speed': 0, u'accuracy': 182.404}) to line_string \n"
       ]
      },
      {
       "output_type": "stream",
       "stream": "stderr",
       "text": [
        "DEBUG:root:About to add Location({u'loc': {u'type': u'Point', u'coordinates': [-122.0760912, 37.3950273]}, u'fmt_time': u'2015-08-27 08:57:03.150000-07:00', u'altitude': 0, u'ts': 1440691023.15, u'longitude': -122.0760912, u'latitude': 37.3950273, '_id': ObjectId('55df34f77d65cb39ee98664d'), u'heading': 0, u'sensed_speed': 0, u'accuracy': 102.781}) to line_string \n"
       ]
      },
      {
       "output_type": "stream",
       "stream": "stderr",
       "text": [
        "DEBUG:root:About to add Location({u'loc': {u'type': u'Point', u'coordinates': [-122.0761752, 37.3942547]}, u'fmt_time': u'2015-08-27 08:57:33.294000-07:00', u'altitude': 0, u'ts': 1440691053.294, u'longitude': -122.0761752, u'latitude': 37.3942547, '_id': ObjectId('55df34f77d65cb39ee986650'), u'heading': 0, u'sensed_speed': 0, u'accuracy': 45.0}) to line_string \n"
       ]
      },
      {
       "output_type": "stream",
       "stream": "stderr",
       "text": [
        "DEBUG:root:About to add Location({u'loc': {u'type': u'Point', u'coordinates': [-122.0777412, 37.3956106]}, u'fmt_time': u'2015-08-27 08:58:03.290000-07:00', u'altitude': 0, u'ts': 1440691083.29, u'longitude': -122.0777412, u'latitude': 37.3956106, '_id': ObjectId('55df34f87d65cb39ee986653'), u'heading': 0, u'sensed_speed': 0, u'accuracy': 173.206}) to line_string \n"
       ]
      },
      {
       "output_type": "stream",
       "stream": "stderr",
       "text": [
        "DEBUG:root:About to add Location({u'loc': {u'type': u'Point', u'coordinates': [-122.0777709, 37.3957229]}, u'fmt_time': u'2015-08-27 08:58:33.349000-07:00', u'altitude': 0, u'ts': 1440691113.349, u'longitude': -122.0777709, u'latitude': 37.3957229, '_id': ObjectId('55df34f87d65cb39ee986657'), u'heading': 0, u'sensed_speed': 0, u'accuracy': 165.504}) to line_string \n"
       ]
      },
      {
       "output_type": "stream",
       "stream": "stderr",
       "text": [
        "DEBUG:root:About to add Location({u'loc': {u'type': u'Point', u'coordinates': [-122.0777836, 37.3956614]}, u'fmt_time': u'2015-08-27 08:59:03.584000-07:00', u'altitude': 0, u'ts': 1440691143.584, u'longitude': -122.0777836, u'latitude': 37.3956614, '_id': ObjectId('55df34f87d65cb39ee98665a'), u'heading': 0, u'sensed_speed': 0, u'accuracy': 178.849}) to line_string \n"
       ]
      },
      {
       "output_type": "stream",
       "stream": "stderr",
       "text": [
        "DEBUG:root:About to add Location({u'loc': {u'type': u'Point', u'coordinates': [-122.0762241, 37.3947787]}, u'fmt_time': u'2015-08-27 08:59:33.625000-07:00', u'altitude': 0, u'ts': 1440691173.625, u'longitude': -122.0762241, u'latitude': 37.3947787, '_id': ObjectId('55df34f87d65cb39ee98665d'), u'heading': 0, u'sensed_speed': 0, u'accuracy': 66.326}) to line_string \n"
       ]
      },
      {
       "output_type": "stream",
       "stream": "stderr",
       "text": [
        "DEBUG:root:About to add Location({u'loc': {u'type': u'Point', u'coordinates': [-122.0761291, 37.3940891]}, u'fmt_time': u'2015-08-27 09:00:03.682000-07:00', u'altitude': 0, u'ts': 1440691203.682, u'longitude': -122.0761291, u'latitude': 37.3940891, '_id': ObjectId('55df34f87d65cb39ee986660'), u'heading': 0, u'sensed_speed': 0, u'accuracy': 36.0}) to line_string \n"
       ]
      },
      {
       "output_type": "stream",
       "stream": "stderr",
       "text": [
        "DEBUG:root:About to add Location({u'loc': {u'type': u'Point', u'coordinates': [-122.0775421, 37.3956615]}, u'fmt_time': u'2015-08-27 09:00:33.697000-07:00', u'altitude': 0, u'ts': 1440691233.697, u'longitude': -122.0775421, u'latitude': 37.3956615, '_id': ObjectId('55df34f97d65cb39ee986663'), u'heading': 0, u'sensed_speed': 0, u'accuracy': 169.353}) to line_string \n"
       ]
      },
      {
       "output_type": "stream",
       "stream": "stderr",
       "text": [
        "DEBUG:root:About to add Location({u'loc': {u'type': u'Point', u'coordinates': [-122.07779, 37.3956878]}, u'fmt_time': u'2015-08-27 09:01:03.668000-07:00', u'altitude': 0, u'ts': 1440691263.668, u'longitude': -122.07779, u'latitude': 37.3956878, '_id': ObjectId('55df34f97d65cb39ee986666'), u'heading': 0, u'sensed_speed': 0, u'accuracy': 181.128}) to line_string \n"
       ]
      },
      {
       "output_type": "stream",
       "stream": "stderr",
       "text": [
        "DEBUG:root:About to add Location({u'loc': {u'type': u'Point', u'coordinates': [-122.0777666, 37.3957174]}, u'fmt_time': u'2015-08-27 09:01:33.591000-07:00', u'altitude': 0, u'ts': 1440691293.591, u'longitude': -122.0777666, u'latitude': 37.3957174, '_id': ObjectId('55df34f97d65cb39ee986669'), u'heading': 0, u'sensed_speed': 0, u'accuracy': 165.289}) to line_string \n"
       ]
      },
      {
       "output_type": "stream",
       "stream": "stderr",
       "text": [
        "DEBUG:root:About to add Location({u'loc': {u'type': u'Point', u'coordinates': [-122.0771241, 37.3952022]}, u'fmt_time': u'2015-08-27 09:02:03.613000-07:00', u'altitude': 0, u'ts': 1440691323.613, u'longitude': -122.0771241, u'latitude': 37.3952022, '_id': ObjectId('55df34f97d65cb39ee98666c'), u'heading': 0, u'sensed_speed': 0, u'accuracy': 93.0}) to line_string \n"
       ]
      },
      {
       "output_type": "stream",
       "stream": "stderr",
       "text": [
        "DEBUG:root:About to add Location({u'loc': {u'type': u'Point', u'coordinates': [-122.0762193, 37.3949768]}, u'fmt_time': u'2015-08-27 09:04:04.146000-07:00', u'altitude': 0, u'ts': 1440691444.146, u'longitude': -122.0762193, u'latitude': 37.3949768, '_id': ObjectId('55df456b7d65cb39ee986675'), u'heading': 0, u'sensed_speed': 0, u'accuracy': 40.5}) to line_string \n"
       ]
      },
      {
       "output_type": "stream",
       "stream": "stderr",
       "text": [
        "DEBUG:root:About to add Location({u'loc': {u'type': u'Point', u'coordinates': [-122.106795, 37.4077682]}, u'fmt_time': u'2015-08-27 09:07:03.880000-07:00', u'altitude': 0, u'ts': 1440691623.88, u'longitude': -122.106795, u'latitude': 37.4077682, '_id': ObjectId('55df456c7d65cb39ee986681'), u'heading': 0, u'sensed_speed': 0, u'accuracy': 37.5}) to line_string \n"
       ]
      },
      {
       "output_type": "stream",
       "stream": "stderr",
       "text": [
        "DEBUG:root:About to add Location({u'loc': {u'type': u'Point', u'coordinates': [-122.133534, 37.4235497]}, u'fmt_time': u'2015-08-27 09:10:34.234000-07:00', u'altitude': 0, u'ts': 1440691834.234, u'longitude': -122.133534, u'latitude': 37.4235497, '_id': ObjectId('55df456d7d65cb39ee98668e'), u'heading': 0, u'sensed_speed': 0, u'accuracy': 57.0}) to line_string \n"
       ]
      },
      {
       "output_type": "stream",
       "stream": "stderr",
       "text": [
        "DEBUG:root:About to add Location({u'loc': {u'type': u'Point', u'coordinates': [-122.1388521, 37.4277911]}, u'fmt_time': u'2015-08-27 09:11:04.273000-07:00', u'altitude': 0, u'ts': 1440691864.273, u'longitude': -122.1388521, u'latitude': 37.4277911, '_id': ObjectId('55df456d7d65cb39ee986691'), u'heading': 0, u'sensed_speed': 0, u'accuracy': 40.5}) to line_string \n"
       ]
      },
      {
       "output_type": "stream",
       "stream": "stderr",
       "text": [
        "DEBUG:root:About to add Location({u'loc': {u'type': u'Point', u'coordinates': [-122.1414298, 37.4291696]}, u'fmt_time': u'2015-08-27 09:11:34.287000-07:00', u'altitude': 0, u'ts': 1440691894.287, u'longitude': -122.1414298, u'latitude': 37.4291696, '_id': ObjectId('55df456d7d65cb39ee986693'), u'heading': 0, u'sensed_speed': 0, u'accuracy': 40.5}) to line_string \n"
       ]
      },
      {
       "output_type": "stream",
       "stream": "stderr",
       "text": [
        "DEBUG:root:About to add Location({u'loc': {u'type': u'Point', u'coordinates': [-122.1415265, 37.429284]}, u'fmt_time': u'2015-08-27 09:12:04.382000-07:00', u'altitude': 0, u'ts': 1440691924.382, u'longitude': -122.1415265, u'latitude': 37.429284, '_id': ObjectId('55df456d7d65cb39ee986696'), u'heading': 0, u'sensed_speed': 0, u'accuracy': 40.5}) to line_string \n"
       ]
      },
      {
       "output_type": "stream",
       "stream": "stderr",
       "text": [
        "DEBUG:root:About to add Location({u'loc': {u'type': u'Point', u'coordinates': [-122.1414298, 37.4291696]}, u'fmt_time': u'2015-08-27 09:12:34.341000-07:00', u'altitude': 0, u'ts': 1440691954.341, u'longitude': -122.1414298, u'latitude': 37.4291696, '_id': ObjectId('55df456d7d65cb39ee986698'), u'heading': 0, u'sensed_speed': 0, u'accuracy': 40.5}) to line_string \n"
       ]
      },
      {
       "output_type": "stream",
       "stream": "stderr",
       "text": [
        "DEBUG:root:About to add Location({u'loc': {u'type': u'Point', u'coordinates': [-122.1414762, 37.4292348]}, u'fmt_time': u'2015-08-27 09:13:04.371000-07:00', u'altitude': 0, u'ts': 1440691984.371, u'longitude': -122.1414762, u'latitude': 37.4292348, '_id': ObjectId('55df456e7d65cb39ee98669c'), u'heading': 0, u'sensed_speed': 0, u'accuracy': 36.0}) to line_string \n"
       ]
      },
      {
       "output_type": "stream",
       "stream": "stderr",
       "text": [
        "DEBUG:root:About to add Location({u'loc': {u'type': u'Point', u'coordinates': [-122.1414762, 37.4292348]}, u'fmt_time': u'2015-08-27 09:13:33.420000-07:00', u'altitude': 0, u'ts': 1440692013.42, u'longitude': -122.1414762, u'latitude': 37.4292348, '_id': ObjectId('55df456e7d65cb39ee98669e'), u'heading': 0, u'sensed_speed': 0, u'accuracy': 79.573}) to line_string \n"
       ]
      },
      {
       "output_type": "stream",
       "stream": "stderr",
       "text": [
        "DEBUG:root:About to add Location({u'loc': {u'type': u'Point', u'coordinates': [-122.1522525, 37.4358008]}, u'fmt_time': u'2015-08-27 09:14:33.587000-07:00', u'altitude': 0, u'ts': 1440692073.587, u'longitude': -122.1522525, u'latitude': 37.4358008, '_id': ObjectId('55df456e7d65cb39ee9866a4'), u'heading': 0, u'sensed_speed': 0, u'accuracy': 36.0}) to line_string \n"
       ]
      },
      {
       "output_type": "stream",
       "stream": "stderr",
       "text": [
        "DEBUG:root:About to add Location({u'loc': {u'type': u'Point', u'coordinates': [-122.1651832, 37.4438895]}, u'fmt_time': u'2015-08-27 09:16:04.629000-07:00', u'altitude': 0, u'ts': 1440692164.629, u'longitude': -122.1651832, u'latitude': 37.4438895, '_id': ObjectId('55df456e7d65cb39ee9866a8'), u'heading': 0, u'sensed_speed': 0, u'accuracy': 51.0}) to line_string \n"
       ]
      },
      {
       "output_type": "stream",
       "stream": "stderr",
       "text": [
        "DEBUG:root:About to add Location({u'loc': {u'type': u'Point', u'coordinates': [-122.1658308, 37.4436462]}, u'fmt_time': u'2015-08-27 09:16:34.764000-07:00', u'altitude': 0, u'ts': 1440692194.764, u'longitude': -122.1658308, u'latitude': 37.4436462, '_id': ObjectId('55df456f7d65cb39ee9866ab'), u'heading': 0, u'sensed_speed': 0, u'accuracy': 43.5}) to line_string \n"
       ]
      },
      {
       "output_type": "stream",
       "stream": "stderr",
       "text": [
        "DEBUG:root:About to add Location({u'loc': {u'type': u'Point', u'coordinates': [-122.1650013, 37.4439291]}, u'fmt_time': u'2015-08-27 09:17:04.710000-07:00', u'altitude': 0, u'ts': 1440692224.71, u'longitude': -122.1650013, u'latitude': 37.4439291, '_id': ObjectId('55df456f7d65cb39ee9866ae'), u'heading': 0, u'sensed_speed': 0, u'accuracy': 33.0}) to line_string \n"
       ]
      },
      {
       "output_type": "stream",
       "stream": "stderr",
       "text": [
        "DEBUG:root:About to add Location({u'loc': {u'type': u'Point', u'coordinates': [-122.1649406, 37.4439526]}, u'fmt_time': u'2015-08-27 09:17:29.580000-07:00', u'altitude': 0, u'ts': 1440692249.58, u'longitude': -122.1649406, u'latitude': 37.4439526, '_id': ObjectId('55df456f7d65cb39ee9866b2'), u'heading': 0, u'sensed_speed': 0, u'accuracy': 36.0}) to line_string \n"
       ]
      },
      {
       "output_type": "stream",
       "stream": "stderr",
       "text": [
        "DEBUG:root:About to add Location({u'loc': {u'type': u'Point', u'coordinates': [-122.180769, 37.4541764]}, u'fmt_time': u'2015-08-27 09:20:20.950000-07:00', u'altitude': 0, u'ts': 1440692420.95, u'longitude': -122.180769, u'latitude': 37.4541764, '_id': ObjectId('55df45707d65cb39ee9866c2'), u'heading': 0, u'sensed_speed': 0, u'accuracy': 48.0}) to line_string \n"
       ]
      },
      {
       "output_type": "stream",
       "stream": "stderr",
       "text": [
        "DEBUG:root:About to add Location({u'loc': {u'type': u'Point', u'coordinates': [-122.1829735, 37.4553948]}, u'fmt_time': u'2015-08-27 09:20:52.779000-07:00', u'altitude': 0, u'ts': 1440692452.779, u'longitude': -122.1829735, u'latitude': 37.4553948, '_id': ObjectId('55df45707d65cb39ee9866c5'), u'heading': 0, u'sensed_speed': 0, u'accuracy': 36.0}) to line_string \n"
       ]
      },
      {
       "output_type": "stream",
       "stream": "stderr",
       "text": [
        "DEBUG:root:About to add Location({u'loc': {u'type': u'Point', u'coordinates': [-122.1829793, 37.4551939]}, u'fmt_time': u'2015-08-27 09:21:24.599000-07:00', u'altitude': 0, u'ts': 1440692484.599, u'longitude': -122.1829793, u'latitude': 37.4551939, '_id': ObjectId('55df45707d65cb39ee9866c7'), u'heading': 0, u'sensed_speed': 0, u'accuracy': 36.0}) to line_string \n"
       ]
      },
      {
       "output_type": "stream",
       "stream": "stderr",
       "text": [
        "DEBUG:root:About to add Location({u'loc': {u'type': u'Point', u'coordinates': [-122.182976, 37.4553]}, u'fmt_time': u'2015-08-27 09:21:56.409000-07:00', u'altitude': 0, u'ts': 1440692516.409, u'longitude': -122.182976, u'latitude': 37.4553, '_id': ObjectId('55df45717d65cb39ee9866ca'), u'heading': 0, u'sensed_speed': 0, u'accuracy': 39.0}) to line_string \n"
       ]
      },
      {
       "output_type": "stream",
       "stream": "stderr",
       "text": [
        "DEBUG:root:About to add Location({u'loc': {u'type': u'Point', u'coordinates': [-122.2135446, 37.4737671]}, u'fmt_time': u'2015-08-27 09:24:35.493000-07:00', u'altitude': 0, u'ts': 1440692675.493, u'longitude': -122.2135446, u'latitude': 37.4737671, '_id': ObjectId('55df45717d65cb39ee9866d5'), u'heading': 0, u'sensed_speed': 0, u'accuracy': 26.0}) to line_string \n"
       ]
      },
      {
       "output_type": "stream",
       "stream": "stderr",
       "text": [
        "DEBUG:root:About to add Location({u'loc': {u'type': u'Point', u'coordinates': [-122.2231926, 37.4785943]}, u'fmt_time': u'2015-08-27 09:24:51.407000-07:00', u'altitude': 0, u'ts': 1440692691.407, u'longitude': -122.2231926, u'latitude': 37.4785943, '_id': ObjectId('55df45717d65cb39ee9866d7'), u'heading': 0, u'sensed_speed': 0, u'accuracy': 36.0}) to line_string \n"
       ]
      },
      {
       "output_type": "stream",
       "stream": "stderr",
       "text": [
        "DEBUG:root:About to add Location({u'loc': {u'type': u'Point', u'coordinates': [-122.2269005, 37.4828822]}, u'fmt_time': u'2015-08-27 09:25:39.130000-07:00', u'altitude': 0, u'ts': 1440692739.13, u'longitude': -122.2269005, u'latitude': 37.4828822, '_id': ObjectId('55df45727d65cb39ee9866db'), u'heading': 0, u'sensed_speed': 0, u'accuracy': 39.0}) to line_string \n"
       ]
      },
      {
       "output_type": "stream",
       "stream": "stderr",
       "text": [
        "DEBUG:root:About to add Location({u'loc': {u'type': u'Point', u'coordinates': [-122.2320305, 37.4862189]}, u'fmt_time': u'2015-08-27 09:26:26.881000-07:00', u'altitude': 0, u'ts': 1440692786.881, u'longitude': -122.2320305, u'latitude': 37.4862189, '_id': ObjectId('55df45727d65cb39ee9866df'), u'heading': 0, u'sensed_speed': 0, u'accuracy': 45.0}) to line_string \n"
       ]
      },
      {
       "output_type": "stream",
       "stream": "stderr",
       "text": [
        "DEBUG:root:About to add Location({u'loc': {u'type': u'Point', u'coordinates': [-122.2323706, 37.4861919]}, u'fmt_time': u'2015-08-27 09:26:58.696000-07:00', u'altitude': 0, u'ts': 1440692818.696, u'longitude': -122.2323706, u'latitude': 37.4861919, '_id': ObjectId('55df45727d65cb39ee9866e2'), u'heading': 0, u'sensed_speed': 0, u'accuracy': 79.5}) to line_string \n"
       ]
      },
      {
       "output_type": "stream",
       "stream": "stderr",
       "text": [
        "DEBUG:root:About to add Location({u'loc': {u'type': u'Point', u'coordinates': [-122.2320101, 37.4862121]}, u'fmt_time': u'2015-08-27 09:27:30.524000-07:00', u'altitude': 0, u'ts': 1440692850.524, u'longitude': -122.2320101, u'latitude': 37.4862121, '_id': ObjectId('55df45727d65cb39ee9866e4'), u'heading': 0, u'sensed_speed': 0, u'accuracy': 40.5}) to line_string \n"
       ]
      },
      {
       "output_type": "stream",
       "stream": "stderr",
       "text": [
        "DEBUG:root:About to add Location({u'loc': {u'type': u'Point', u'coordinates': [-122.2324731, 37.4861669]}, u'fmt_time': u'2015-08-27 09:27:50.732000-07:00', u'altitude': 0, u'ts': 1440692870.732, u'longitude': -122.2324731, u'latitude': 37.4861669, '_id': ObjectId('55df45727d65cb39ee9866e7'), u'heading': 0, u'sensed_speed': 0, u'accuracy': 37.5}) to line_string \n"
       ]
      },
      {
       "output_type": "stream",
       "stream": "stderr",
       "text": [
        "DEBUG:root:About to add Location({u'loc': {u'type': u'Point', u'coordinates': [-122.234237, 37.4872932]}, u'fmt_time': u'2015-08-27 09:28:22.555000-07:00', u'altitude': 0, u'ts': 1440692902.555, u'longitude': -122.234237, u'latitude': 37.4872932, '_id': ObjectId('55df45737d65cb39ee9866ec'), u'heading': 0, u'sensed_speed': 0, u'accuracy': 148.407}) to line_string \n"
       ]
      },
      {
       "output_type": "stream",
       "stream": "stderr",
       "text": [
        "DEBUG:root:About to add Location({u'loc': {u'type': u'Point', u'coordinates': [-122.248984, 37.4984627]}, u'fmt_time': u'2015-08-27 09:29:35.002000-07:00', u'altitude': 0, u'ts': 1440692975.002, u'longitude': -122.248984, u'latitude': 37.4984627, '_id': ObjectId('55df45737d65cb39ee9866f2'), u'heading': 0, u'sensed_speed': 0, u'accuracy': 72.0}) to line_string \n"
       ]
      },
      {
       "output_type": "stream",
       "stream": "stderr",
       "text": [
        "DEBUG:root:About to add Location({u'loc': {u'type': u'Point', u'coordinates': [-122.2601884, 37.5068074]}, u'fmt_time': u'2015-08-27 09:30:35.042000-07:00', u'altitude': 0, u'ts': 1440693035.042, u'longitude': -122.2601884, u'latitude': 37.5068074, '_id': ObjectId('55df45747d65cb39ee9866f8'), u'heading': 0, u'sensed_speed': 0, u'accuracy': 37.5}) to line_string \n"
       ]
      },
      {
       "output_type": "stream",
       "stream": "stderr",
       "text": [
        "DEBUG:root:About to add Location({u'loc': {u'type': u'Point', u'coordinates': [-122.2603798, 37.5082546]}, u'fmt_time': u'2015-08-27 09:31:05.110000-07:00', u'altitude': 0, u'ts': 1440693065.11, u'longitude': -122.2603798, u'latitude': 37.5082546, '_id': ObjectId('55df45747d65cb39ee9866fa'), u'heading': 0, u'sensed_speed': 0, u'accuracy': 42.0}) to line_string \n"
       ]
      },
      {
       "output_type": "stream",
       "stream": "stderr",
       "text": [
        "DEBUG:root:About to add Location({u'loc': {u'type': u'Point', u'coordinates': [-122.2605659, 37.5081271]}, u'fmt_time': u'2015-08-27 09:31:35.172000-07:00', u'altitude': 0, u'ts': 1440693095.172, u'longitude': -122.2605659, u'latitude': 37.5081271, '_id': ObjectId('55df45747d65cb39ee9866fd'), u'heading': 0, u'sensed_speed': 0, u'accuracy': 49.5}) to line_string \n"
       ]
      },
      {
       "output_type": "stream",
       "stream": "stderr",
       "text": [
        "DEBUG:root:About to add Location({u'loc': {u'type': u'Point', u'coordinates': [-122.2607601, 37.5077337]}, u'fmt_time': u'2015-08-27 09:32:05.165000-07:00', u'altitude': 0, u'ts': 1440693125.165, u'longitude': -122.2607601, u'latitude': 37.5077337, '_id': ObjectId('55df45747d65cb39ee986700'), u'heading': 0, u'sensed_speed': 0, u'accuracy': 51.0}) to line_string \n"
       ]
      },
      {
       "output_type": "stream",
       "stream": "stderr",
       "text": [
        "DEBUG:root:About to add Location({u'loc': {u'type': u'Point', u'coordinates': [-122.2625349, 37.5100476]}, u'fmt_time': u'2015-08-27 09:32:35.157000-07:00', u'altitude': 0, u'ts': 1440693155.157, u'longitude': -122.2625349, u'latitude': 37.5100476, '_id': ObjectId('55df45747d65cb39ee986702'), u'heading': 0, u'sensed_speed': 0, u'accuracy': 52.5}) to line_string \n"
       ]
      },
      {
       "output_type": "stream",
       "stream": "stderr",
       "text": [
        "DEBUG:root:About to add Location({u'loc': {u'type': u'Point', u'coordinates': [-122.2660316, 37.512868]}, u'fmt_time': u'2015-08-27 09:33:05.198000-07:00', u'altitude': 0, u'ts': 1440693185.198, u'longitude': -122.2660316, u'latitude': 37.512868, '_id': ObjectId('55df45747d65cb39ee986705'), u'heading': 0, u'sensed_speed': 0, u'accuracy': 112.5}) to line_string \n"
       ]
      },
      {
       "output_type": "stream",
       "stream": "stderr",
       "text": [
        "DEBUG:root:About to add Location({u'loc': {u'type': u'Point', u'coordinates': [-122.2721991, 37.5177452]}, u'fmt_time': u'2015-08-27 09:33:35.235000-07:00', u'altitude': 0, u'ts': 1440693215.235, u'longitude': -122.2721991, u'latitude': 37.5177452, '_id': ObjectId('55df45757d65cb39ee986709'), u'heading': 0, u'sensed_speed': 0, u'accuracy': 36.0}) to line_string \n"
       ]
      },
      {
       "output_type": "stream",
       "stream": "stderr",
       "text": [
        "DEBUG:root:About to add Location({u'loc': {u'type': u'Point', u'coordinates': [-122.2764249, 37.521002]}, u'fmt_time': u'2015-08-27 09:34:05.439000-07:00', u'altitude': 0, u'ts': 1440693245.439, u'longitude': -122.2764249, u'latitude': 37.521002, '_id': ObjectId('55df45757d65cb39ee98670c'), u'heading': 0, u'sensed_speed': 0, u'accuracy': 57.0}) to line_string \n"
       ]
      },
      {
       "output_type": "stream",
       "stream": "stderr",
       "text": [
        "DEBUG:root:About to add Location({u'loc': {u'type': u'Point', u'coordinates': [-122.2763004, 37.5209551]}, u'fmt_time': u'2015-08-27 09:34:35.434000-07:00', u'altitude': 0, u'ts': 1440693275.434, u'longitude': -122.2763004, u'latitude': 37.5209551, '_id': ObjectId('55df45757d65cb39ee98670e'), u'heading': 0, u'sensed_speed': 0, u'accuracy': 40.5}) to line_string \n"
       ]
      },
      {
       "output_type": "stream",
       "stream": "stderr",
       "text": [
        "DEBUG:root:About to add Location({u'loc': {u'type': u'Point', u'coordinates': [-122.2763267, 37.5210567]}, u'fmt_time': u'2015-08-27 09:35:05.480000-07:00', u'altitude': 0, u'ts': 1440693305.48, u'longitude': -122.2763267, u'latitude': 37.5210567, '_id': ObjectId('55df45757d65cb39ee986711'), u'heading': 0, u'sensed_speed': 0, u'accuracy': 45.0}) to line_string \n"
       ]
      },
      {
       "output_type": "stream",
       "stream": "stderr",
       "text": [
        "DEBUG:root:About to add Location({u'loc': {u'type': u'Point', u'coordinates': [-122.2771575, 37.522433]}, u'fmt_time': u'2015-08-27 09:35:35.479000-07:00', u'altitude': 0, u'ts': 1440693335.479, u'longitude': -122.2771575, u'latitude': 37.522433, '_id': ObjectId('55df45757d65cb39ee986713'), u'heading': 0, u'sensed_speed': 0, u'accuracy': 45.0}) to line_string \n"
       ]
      },
      {
       "output_type": "stream",
       "stream": "stderr",
       "text": [
        "DEBUG:root:About to add Location({u'loc': {u'type': u'Point', u'coordinates': [-122.2805606, 37.5255413]}, u'fmt_time': u'2015-08-27 09:36:05.509000-07:00', u'altitude': 0, u'ts': 1440693365.509, u'longitude': -122.2805606, u'latitude': 37.5255413, '_id': ObjectId('55df45757d65cb39ee986716'), u'heading': 0, u'sensed_speed': 0, u'accuracy': 37.5}) to line_string \n"
       ]
      },
      {
       "output_type": "stream",
       "stream": "stderr",
       "text": [
        "DEBUG:root:About to add Location({u'loc': {u'type': u'Point', u'coordinates': [-122.2867979, 37.5290806]}, u'fmt_time': u'2015-08-27 09:36:35.593000-07:00', u'altitude': 0, u'ts': 1440693395.593, u'longitude': -122.2867979, u'latitude': 37.5290806, '_id': ObjectId('55df45767d65cb39ee986719'), u'heading': 0, u'sensed_speed': 0, u'accuracy': 40.5}) to line_string \n"
       ]
      },
      {
       "output_type": "stream",
       "stream": "stderr",
       "text": [
        "DEBUG:root:About to add Location({u'loc': {u'type': u'Point', u'coordinates': [-122.2934913, 37.5337847]}, u'fmt_time': u'2015-08-27 09:37:05.543000-07:00', u'altitude': 0, u'ts': 1440693425.543, u'longitude': -122.2934913, u'latitude': 37.5337847, '_id': ObjectId('55df45767d65cb39ee98671c'), u'heading': 0, u'sensed_speed': 0, u'accuracy': 34.5}) to line_string \n"
       ]
      },
      {
       "output_type": "stream",
       "stream": "stderr",
       "text": [
        "DEBUG:root:About to add Location({u'loc': {u'type': u'Point', u'coordinates': [-122.3012202, 37.5422658]}, u'fmt_time': u'2015-08-27 09:40:05.744000-07:00', u'altitude': 0, u'ts': 1440693605.744, u'longitude': -122.3012202, u'latitude': 37.5422658, '_id': ObjectId('55df45767d65cb39ee986726'), u'heading': 0, u'sensed_speed': 0, u'accuracy': 36.0}) to line_string \n"
       ]
      },
      {
       "output_type": "stream",
       "stream": "stderr",
       "text": [
        "DEBUG:root:About to add Location({u'loc': {u'type': u'Point', u'coordinates': [-122.3012202, 37.5422658]}, u'fmt_time': u'2015-08-27 09:40:28.208000-07:00', u'altitude': 0, u'ts': 1440693628.208, u'longitude': -122.3012202, u'latitude': 37.5422658, '_id': ObjectId('55df45767d65cb39ee986728'), u'heading': 0, u'sensed_speed': 0, u'accuracy': 36.0}) to line_string \n"
       ]
      },
      {
       "output_type": "stream",
       "stream": "stderr",
       "text": [
        "DEBUG:root:About to add Location({u'loc': {u'type': u'Point', u'coordinates': [-122.3148437, 37.5601944]}, u'fmt_time': u'2015-08-27 09:41:35.701000-07:00', u'altitude': 0, u'ts': 1440693695.701, u'longitude': -122.3148437, u'latitude': 37.5601944, '_id': ObjectId('55df45777d65cb39ee98672f'), u'heading': 0, u'sensed_speed': 0, u'accuracy': 45.0}) to line_string \n"
       ]
      },
      {
       "output_type": "stream",
       "stream": "stderr",
       "text": [
        "DEBUG:root:About to add Location({u'loc': {u'type': u'Point', u'coordinates': [-122.3224973, 37.5669161]}, u'fmt_time': u'2015-08-27 09:42:35.830000-07:00', u'altitude': 0, u'ts': 1440693755.83, u'longitude': -122.3224973, u'latitude': 37.5669161, '_id': ObjectId('55df45777d65cb39ee986734'), u'heading': 0, u'sensed_speed': 0, u'accuracy': 36.0}) to line_string \n"
       ]
      },
      {
       "output_type": "stream",
       "stream": "stderr",
       "text": [
        "DEBUG:root:About to add Location({u'loc': {u'type': u'Point', u'coordinates': [-122.3247799, 37.5690545]}, u'fmt_time': u'2015-08-27 09:43:35.962000-07:00', u'altitude': 0, u'ts': 1440693815.962, u'longitude': -122.3247799, u'latitude': 37.5690545, '_id': ObjectId('55df45777d65cb39ee986738'), u'heading': 0, u'sensed_speed': 0, u'accuracy': 36.0}) to line_string \n"
       ]
      },
      {
       "output_type": "stream",
       "stream": "stderr",
       "text": [
        "DEBUG:root:About to add Location({u'loc': {u'type': u'Point', u'coordinates': [-122.3251962, 37.5692079]}, u'fmt_time': u'2015-08-27 09:44:05.920000-07:00', u'altitude': 0, u'ts': 1440693845.92, u'longitude': -122.3251962, u'latitude': 37.5692079, '_id': ObjectId('55df45787d65cb39ee98673b'), u'heading': 0, u'sensed_speed': 0, u'accuracy': 49.5}) to line_string \n"
       ]
      },
      {
       "output_type": "stream",
       "stream": "stderr",
       "text": [
        "DEBUG:root:About to add Location({u'loc': {u'type': u'Point', u'coordinates': [-122.3254295, 37.5693078]}, u'fmt_time': u'2015-08-27 09:44:35.939000-07:00', u'altitude': 0, u'ts': 1440693875.939, u'longitude': -122.3254295, u'latitude': 37.5693078, '_id': ObjectId('55df45787d65cb39ee98673d'), u'heading': 0, u'sensed_speed': 0, u'accuracy': 37.5}) to line_string \n"
       ]
      },
      {
       "output_type": "stream",
       "stream": "stderr",
       "text": [
        "DEBUG:root:About to add Location({u'loc': {u'type': u'Point', u'coordinates': [-122.3281082, 37.5721947]}, u'fmt_time': u'2015-08-27 09:45:06.036000-07:00', u'altitude': 0, u'ts': 1440693906.036, u'longitude': -122.3281082, u'latitude': 37.5721947, '_id': ObjectId('55df45787d65cb39ee986740'), u'heading': 0, u'sensed_speed': 0, u'accuracy': 36.0}) to line_string \n"
       ]
      },
      {
       "output_type": "stream",
       "stream": "stderr",
       "text": [
        "DEBUG:root:About to add Location({u'loc': {u'type': u'Point', u'coordinates': [-122.3316944, 37.5749343]}, u'fmt_time': u'2015-08-27 09:45:36.023000-07:00', u'altitude': 0, u'ts': 1440693936.023, u'longitude': -122.3316944, u'latitude': 37.5749343, '_id': ObjectId('55df45787d65cb39ee986744'), u'heading': 0, u'sensed_speed': 0, u'accuracy': 27.0}) to line_string \n"
       ]
      },
      {
       "output_type": "stream",
       "stream": "stderr",
       "text": [
        "DEBUG:root:About to add Location({u'loc': {u'type': u'Point', u'coordinates': [-122.3352875, 37.5761309]}, u'fmt_time': u'2015-08-27 09:46:06.075000-07:00', u'altitude': 0, u'ts': 1440693966.075, u'longitude': -122.3352875, u'latitude': 37.5761309, '_id': ObjectId('55df45787d65cb39ee986747'), u'heading': 0, u'sensed_speed': 0, u'accuracy': 40.5}) to line_string \n"
       ]
      },
      {
       "output_type": "stream",
       "stream": "stderr",
       "text": [
        "DEBUG:root:About to add Location({u'loc': {u'type': u'Point', u'coordinates': [-122.3410251, 37.5785123]}, u'fmt_time': u'2015-08-27 09:46:36.121000-07:00', u'altitude': 0, u'ts': 1440693996.121, u'longitude': -122.3410251, u'latitude': 37.5785123, '_id': ObjectId('55df45797d65cb39ee98674a'), u'heading': 0, u'sensed_speed': 0, u'accuracy': 90.0}) to line_string \n"
       ]
      },
      {
       "output_type": "stream",
       "stream": "stderr",
       "text": [
        "DEBUG:root:About to add Location({u'loc': {u'type': u'Point', u'coordinates': [-122.3435781, 37.5796754]}, u'fmt_time': u'2015-08-27 09:46:53.078000-07:00', u'altitude': 0, u'ts': 1440694013.078, u'longitude': -122.3435781, u'latitude': 37.5796754, '_id': ObjectId('55df45797d65cb39ee98674c'), u'heading': 0, u'sensed_speed': 0, u'accuracy': 37.5}) to line_string \n"
       ]
      },
      {
       "output_type": "stream",
       "stream": "stderr",
       "text": [
        "DEBUG:root:About to add Location({u'loc': {u'type': u'Point', u'coordinates': [-122.3446146, 37.5797867]}, u'fmt_time': u'2015-08-27 09:47:24.886000-07:00', u'altitude': 0, u'ts': 1440694044.886, u'longitude': -122.3446146, u'latitude': 37.5797867, '_id': ObjectId('55df45797d65cb39ee986750'), u'heading': 0, u'sensed_speed': 0, u'accuracy': 30.0}) to line_string \n"
       ]
      },
      {
       "output_type": "stream",
       "stream": "stderr",
       "text": [
        "DEBUG:root:About to add Location({u'loc': {u'type': u'Point', u'coordinates': [-122.3444278, 37.5797932]}, u'fmt_time': u'2015-08-27 09:47:57.004000-07:00', u'altitude': 0, u'ts': 1440694077.004, u'longitude': -122.3444278, u'latitude': 37.5797932, '_id': ObjectId('55df457a7d65cb39ee986758'), u'heading': 0, u'sensed_speed': 0, u'accuracy': 55.5}) to line_string \n"
       ]
      },
      {
       "output_type": "stream",
       "stream": "stderr",
       "text": [
        "DEBUG:root:About to add Location({u'loc': {u'type': u'Point', u'coordinates': [-122.3466425, 37.5804851]}, u'fmt_time': u'2015-08-27 09:48:28.519000-07:00', u'altitude': 0, u'ts': 1440694108.519, u'longitude': -122.3466425, u'latitude': 37.5804851, '_id': ObjectId('55df457a7d65cb39ee98675c'), u'heading': 0, u'sensed_speed': 0, u'accuracy': 40.5}) to line_string \n"
       ]
      },
      {
       "output_type": "stream",
       "stream": "stderr",
       "text": [
        "DEBUG:root:About to add Location({u'loc': {u'type': u'Point', u'coordinates': [-122.3622066, 37.5877013]}, u'fmt_time': u'2015-08-27 09:50:03.983000-07:00', u'altitude': 0, u'ts': 1440694203.983, u'longitude': -122.3622066, u'latitude': 37.5877013, '_id': ObjectId('55df457a7d65cb39ee986763'), u'heading': 0, u'sensed_speed': 0, u'accuracy': 45.0}) to line_string \n"
       ]
      },
      {
       "output_type": "stream",
       "stream": "stderr",
       "text": [
        "DEBUG:root:About to add Location({u'loc': {u'type': u'Point', u'coordinates': [-122.3871416, 37.599251]}, u'fmt_time': u'2015-08-27 09:51:44.698000-07:00', u'altitude': 0, u'ts': 1440694304.698, u'longitude': -122.3871416, u'latitude': 37.599251, '_id': ObjectId('55df457b7d65cb39ee986769'), u'heading': 0, u'sensed_speed': 0, u'accuracy': 36.0}) to line_string \n"
       ]
      },
      {
       "output_type": "stream",
       "stream": "stderr",
       "text": [
        "DEBUG:root:About to add Location({u'loc': {u'type': u'Point', u'coordinates': [-122.3871681, 37.5992489]}, u'fmt_time': u'2015-08-27 09:52:14.783000-07:00', u'altitude': 0, u'ts': 1440694334.783, u'longitude': -122.3871681, u'latitude': 37.5992489, '_id': ObjectId('55df457b7d65cb39ee98676c'), u'heading': 0, u'sensed_speed': 0, u'accuracy': 40.5}) to line_string \n"
       ]
      },
      {
       "output_type": "stream",
       "stream": "stderr",
       "text": [
        "DEBUG:root:sort_key = metadata.write_ts\n"
       ]
      },
      {
       "output_type": "stream",
       "stream": "stderr",
       "text": [
        "DEBUG:root:ret_val = {u'loc': {u'type': u'Point', u'coordinates': [-122.3872958, 37.5992574]}, u'fmt_time': u'2015-08-27 09:52:44.740000-07:00', u'altitude': 0, u'ts': 1440694364.74, u'longitude': -122.3872958, u'latitude': 37.5992574, '_id': ObjectId('55df457b7d65cb39ee986770'), u'heading': 0, u'sensed_speed': 0, u'accuracy': 37.5} \n"
       ]
      },
      {
       "output_type": "stream",
       "stream": "stderr",
       "text": [
        "DEBUG:root:ret_val = {u'loc': {u'type': u'Point', u'coordinates': [-122.387062, 37.5992117]}, u'fmt_time': u'2015-08-27 09:53:14.849000-07:00', u'altitude': 0, u'ts': 1440694394.849, u'longitude': -122.387062, u'latitude': 37.5992117, '_id': ObjectId('55df457b7d65cb39ee986773'), u'heading': 0, u'sensed_speed': 0, u'accuracy': 36} \n"
       ]
      },
      {
       "output_type": "stream",
       "stream": "stderr",
       "text": [
        "DEBUG:root:ret_val = {u'loc': {u'type': u'Point', u'coordinates': [-122.3872605, 37.5995036]}, u'fmt_time': u'2015-08-27 09:53:44.894000-07:00', u'altitude': 0, u'ts': 1440694424.894, u'longitude': -122.3872605, u'latitude': 37.5995036, '_id': ObjectId('55df457b7d65cb39ee986775'), u'heading': 0, u'sensed_speed': 0, u'accuracy': 113.387} \n"
       ]
      },
      {
       "output_type": "stream",
       "stream": "stderr",
       "text": [
        "DEBUG:root:points_df.columns = Index([u'_id', u'accuracy', u'altitude', u'fmt_time', u'heading', u'latitude', u'loc', u'longitude', u'sensed_speed', u'ts'], dtype='object')\n"
       ]
      },
      {
       "output_type": "stream",
       "stream": "stderr",
       "text": [
        "DEBUG:root:first element in section_location_array = Location({u'loc': {u'type': u'Point', u'coordinates': [-122.3872958, 37.5992574]}, u'fmt_time': u'2015-08-27 09:52:44.740000-07:00', u'altitude': 0, u'ts': 1440694364.74, u'longitude': -122.3872958, u'latitude': 37.5992574, '_id': ObjectId('55df457b7d65cb39ee986770'), u'heading': 0, u'sensed_speed': 0, u'accuracy': 37.5})\n"
       ]
      },
      {
       "output_type": "stream",
       "stream": "stderr",
       "text": [
        "DEBUG:root:About to add Location({u'loc': {u'type': u'Point', u'coordinates': [-122.3872958, 37.5992574]}, u'fmt_time': u'2015-08-27 09:52:44.740000-07:00', u'altitude': 0, u'ts': 1440694364.74, u'longitude': -122.3872958, u'latitude': 37.5992574, '_id': ObjectId('55df457b7d65cb39ee986770'), u'heading': 0, u'sensed_speed': 0, u'accuracy': 37.5}) to line_string \n"
       ]
      },
      {
       "output_type": "stream",
       "stream": "stderr",
       "text": [
        "DEBUG:root:About to add Location({u'loc': {u'type': u'Point', u'coordinates': [-122.387062, 37.5992117]}, u'fmt_time': u'2015-08-27 09:53:14.849000-07:00', u'altitude': 0, u'ts': 1440694394.849, u'longitude': -122.387062, u'latitude': 37.5992117, '_id': ObjectId('55df457b7d65cb39ee986773'), u'heading': 0, u'sensed_speed': 0, u'accuracy': 36.0}) to line_string \n"
       ]
      },
      {
       "output_type": "stream",
       "stream": "stderr",
       "text": [
        "DEBUG:root:About to add Location({u'loc': {u'type': u'Point', u'coordinates': [-122.3872605, 37.5995036]}, u'fmt_time': u'2015-08-27 09:53:44.894000-07:00', u'altitude': 0, u'ts': 1440694424.894, u'longitude': -122.3872605, u'latitude': 37.5995036, '_id': ObjectId('55df457b7d65cb39ee986775'), u'heading': 0, u'sensed_speed': 0, u'accuracy': 113.387}) to line_string \n"
       ]
      },
      {
       "output_type": "stream",
       "stream": "stderr",
       "text": [
        "DEBUG:root:About to execute query {'trip_id': ObjectId('5603ae0cf6858f0cbbb60554'), 'user_id': UUID('0763de67-f61e-3f5d-90e7-518e69793954')}\n"
       ]
      },
      {
       "output_type": "stream",
       "stream": "stderr",
       "text": [
        "DEBUG:root:len(places) = 1, len(trips) = 2\n"
       ]
      },
      {
       "output_type": "stream",
       "stream": "stderr",
       "text": [
        "DEBUG:root:Starting with element of type trip, id 5603ae10f6858f0cbbb60588, details Section({u'user_id': UUID('0763de67-f61e-3f5d-90e7-518e69793954'), u'sensed_mode': 0, u'start_loc': {u'type': u'Point', u'coordinates': [-122.4029569, 37.6162024]}, u'end_ts': 1440698066.704, u'start_ts': 1440695152.989, u'start_fmt_time': u'2015-08-27 10:05:52.989000-07:00', u'end_loc': {u'type': u'Point', u'coordinates': [-122.2705638, 37.8440278]}, u'source': u'SmoothedHighConfidenceMotion', u'end_fmt_time': u'2015-08-27 10:54:26.704000-07:00', u'duration': 2913.7149999141693, u'end_stop': ObjectId('5603ae10f6858f0cbbb6058a'), u'_id': ObjectId('5603ae10f6858f0cbbb60588'), u'trip_id': ObjectId('5603ae0cf6858f0cbbb60554')})\n"
       ]
      },
      {
       "output_type": "stream",
       "stream": "stderr",
       "text": [
        "DEBUG:root:sort_key = metadata.write_ts\n"
       ]
      },
      {
       "output_type": "stream",
       "stream": "stderr",
       "text": [
        "DEBUG:root:ret_val = {u'loc': {u'type': u'Point', u'coordinates': [-122.4029569, 37.6162024]}, u'fmt_time': u'2015-08-27 10:05:52.989000-07:00', u'altitude': 0, u'ts': 1440695152.989, u'longitude': -122.4029569, u'latitude': 37.6162024, '_id': ObjectId('55df457d7d65cb39ee986795'), u'heading': 0, u'sensed_speed': 0, u'accuracy': 51} \n"
       ]
      },
      {
       "output_type": "stream",
       "stream": "stderr",
       "text": [
        "DEBUG:root:ret_val = {u'loc': {u'type': u'Point', u'coordinates': [-122.4034099, 37.6169824]}, u'fmt_time': u'2015-08-27 10:06:23.034000-07:00', u'altitude': 0, u'ts': 1440695183.034, u'longitude': -122.4034099, u'latitude': 37.6169824, '_id': ObjectId('55df457d7d65cb39ee986798'), u'heading': 0, u'sensed_speed': 0, u'accuracy': 51} \n"
       ]
      },
      {
       "output_type": "stream",
       "stream": "stderr",
       "text": [
        "DEBUG:root:ret_val = {u'loc': {u'type': u'Point', u'coordinates': [-122.4710997, 37.7039975]}, u'fmt_time': u'2015-08-27 10:17:53.453000-07:00', u'altitude': 0, u'ts': 1440695873.453, u'longitude': -122.4710997, u'latitude': 37.7039975, '_id': ObjectId('55df5a7f7d65cb39ee9868aa'), u'heading': 0, u'sensed_speed': 0, u'accuracy': 69} \n"
       ]
      },
      {
       "output_type": "stream",
       "stream": "stderr",
       "text": [
        "DEBUG:root:ret_val = {u'loc': {u'type': u'Point', u'coordinates': [-122.4695123, 37.7053759]}, u'fmt_time': u'2015-08-27 10:18:23.480000-07:00', u'altitude': 0, u'ts': 1440695903.48, u'longitude': -122.4695123, u'latitude': 37.7053759, '_id': ObjectId('55df5a7f7d65cb39ee9868ad'), u'heading': 0, u'sensed_speed': 0, u'accuracy': 36} \n"
       ]
      },
      {
       "output_type": "stream",
       "stream": "stderr",
       "text": [
        "DEBUG:root:ret_val = {u'loc': {u'type': u'Point', u'coordinates': [-122.4688337, 37.706003]}, u'fmt_time': u'2015-08-27 10:18:53.491000-07:00', u'altitude': 0, u'ts': 1440695933.491, u'longitude': -122.4688337, u'latitude': 37.706003, '_id': ObjectId('55df5a7f7d65cb39ee9868af'), u'heading': 0, u'sensed_speed': 0, u'accuracy': 48} \n"
       ]
      },
      {
       "output_type": "stream",
       "stream": "stderr",
       "text": [
        "DEBUG:root:ret_val = {u'loc': {u'type': u'Point', u'coordinates': [-122.4687392, 37.7058873]}, u'fmt_time': u'2015-08-27 10:19:23.552000-07:00', u'altitude': 0, u'ts': 1440695963.552, u'longitude': -122.4687392, u'latitude': 37.7058873, '_id': ObjectId('55df5a7f7d65cb39ee9868b2'), u'heading': 0, u'sensed_speed': 0, u'accuracy': 37.5} \n"
       ]
      },
      {
       "output_type": "stream",
       "stream": "stderr",
       "text": [
        "DEBUG:root:ret_val = {u'loc': {u'type': u'Point', u'coordinates': [-122.4659174, 37.7104542]}, u'fmt_time': u'2015-08-27 10:19:53.536000-07:00', u'altitude': 0, u'ts': 1440695993.536, u'longitude': -122.4659174, u'latitude': 37.7104542, '_id': ObjectId('55df5a7f7d65cb39ee9868b5'), u'heading': 0, u'sensed_speed': 0, u'accuracy': 36} \n"
       ]
      },
      {
       "output_type": "stream",
       "stream": "stderr",
       "text": [
        "DEBUG:root:ret_val = {u'loc': {u'type': u'Point', u'coordinates': [-122.4588706, 37.7104583]}, u'fmt_time': u'2015-08-27 10:20:23.549000-07:00', u'altitude': 0, u'ts': 1440696023.549, u'longitude': -122.4588706, u'latitude': 37.7104583, '_id': ObjectId('55df5a807d65cb39ee9868b8'), u'heading': 0, u'sensed_speed': 0, u'accuracy': 40.5} \n"
       ]
      },
      {
       "output_type": "stream",
       "stream": "stderr",
       "text": [
        "DEBUG:root:ret_val = {u'loc': {u'type': u'Point', u'coordinates': [-122.4539366, 37.7113783]}, u'fmt_time': u'2015-08-27 10:20:53.591000-07:00', u'altitude': 0, u'ts': 1440696053.591, u'longitude': -122.4539366, u'latitude': 37.7113783, '_id': ObjectId('55df5a807d65cb39ee9868bb'), u'heading': 0, u'sensed_speed': 0, u'accuracy': 48} \n"
       ]
      },
      {
       "output_type": "stream",
       "stream": "stderr",
       "text": [
        "DEBUG:root:ret_val = {u'loc': {u'type': u'Point', u'coordinates': [-122.4496369, 37.7149562]}, u'fmt_time': u'2015-08-27 10:21:23.589000-07:00', u'altitude': 0, u'ts': 1440696083.589, u'longitude': -122.4496369, u'latitude': 37.7149562, '_id': ObjectId('55df5a807d65cb39ee9868be'), u'heading': 0, u'sensed_speed': 0, u'accuracy': 40.5} \n"
       ]
      },
      {
       "output_type": "stream",
       "stream": "stderr",
       "text": [
        "DEBUG:root:ret_val = {u'loc': {u'type': u'Point', u'coordinates': [-122.2993606, 37.8063249]}, u'fmt_time': u'2015-08-27 10:41:54.688000-07:00', u'altitude': 0, u'ts': 1440697314.688, u'longitude': -122.2993606, u'latitude': 37.8063249, '_id': ObjectId('55df5a857d65cb39ee986904'), u'heading': 0, u'sensed_speed': 0, u'accuracy': 57} \n"
       ]
      },
      {
       "output_type": "stream",
       "stream": "stderr",
       "text": [
        "DEBUG:root:ret_val = {u'loc': {u'type': u'Point', u'coordinates': [-122.2946699, 37.8046873]}, u'fmt_time': u'2015-08-27 10:42:24.898000-07:00', u'altitude': 0, u'ts': 1440697344.898, u'longitude': -122.2946699, u'latitude': 37.8046873, '_id': ObjectId('55df5a857d65cb39ee986908'), u'heading': 0, u'sensed_speed': 0, u'accuracy': 57} \n"
       ]
      },
      {
       "output_type": "stream",
       "stream": "stderr",
       "text": [
        "DEBUG:root:ret_val = {u'loc': {u'type': u'Point', u'coordinates': [-122.2942884, 37.8045621]}, u'fmt_time': u'2015-08-27 10:42:54.905000-07:00', u'altitude': 0, u'ts': 1440697374.905, u'longitude': -122.2942884, u'latitude': 37.8045621, '_id': ObjectId('55df5a857d65cb39ee98690a'), u'heading': 0, u'sensed_speed': 0, u'accuracy': 37.5} \n"
       ]
      },
      {
       "output_type": "stream",
       "stream": "stderr",
       "text": [
        "DEBUG:root:ret_val = {u'loc': {u'type': u'Point', u'coordinates': [-122.2874324, 37.802572]}, u'fmt_time': u'2015-08-27 10:43:54.921000-07:00', u'altitude': 0, u'ts': 1440697434.921, u'longitude': -122.2874324, u'latitude': 37.802572, '_id': ObjectId('55df5a857d65cb39ee98690e'), u'heading': 0, u'sensed_speed': 0, u'accuracy': 36} \n"
       ]
      },
      {
       "output_type": "stream",
       "stream": "stderr",
       "text": [
        "DEBUG:root:ret_val = {u'loc': {u'type': u'Point', u'coordinates': [-122.2812746, 37.8003098]}, u'fmt_time': u'2015-08-27 10:44:25.121000-07:00', u'altitude': 0, u'ts': 1440697465.121, u'longitude': -122.2812746, u'latitude': 37.8003098, '_id': ObjectId('55df5a867d65cb39ee986912'), u'heading': 0, u'sensed_speed': 0, u'accuracy': 63} \n"
       ]
      },
      {
       "output_type": "stream",
       "stream": "stderr",
       "text": [
        "DEBUG:root:ret_val = {u'loc': {u'type': u'Point', u'coordinates': [-122.2788163, 37.7992023]}, u'fmt_time': u'2015-08-27 10:44:55.167000-07:00', u'altitude': 0, u'ts': 1440697495.167, u'longitude': -122.2788163, u'latitude': 37.7992023, '_id': ObjectId('55df5a867d65cb39ee986915'), u'heading': 0, u'sensed_speed': 0, u'accuracy': 36} \n"
       ]
      },
      {
       "output_type": "stream",
       "stream": "stderr",
       "text": [
        "DEBUG:root:ret_val = {u'loc': {u'type': u'Point', u'coordinates': [-122.2690081, 37.8151412]}, u'fmt_time': u'2015-08-27 10:49:25.352000-07:00', u'altitude': 0, u'ts': 1440697765.352, u'longitude': -122.2690081, u'latitude': 37.8151412, '_id': ObjectId('55df5a877d65cb39ee986924'), u'heading': 0, u'sensed_speed': 0, u'accuracy': 36} \n"
       ]
      },
      {
       "output_type": "stream",
       "stream": "stderr",
       "text": [
        "DEBUG:root:ret_val = {u'loc': {u'type': u'Point', u'coordinates': [-122.2721842, 37.814555]}, u'fmt_time': u'2015-08-27 10:50:25.991000-07:00', u'altitude': 0, u'ts': 1440697825.991, u'longitude': -122.2721842, u'latitude': 37.814555, '_id': ObjectId('55df5a877d65cb39ee986928'), u'heading': 0, u'sensed_speed': 0, u'accuracy': 42} \n"
       ]
      },
      {
       "output_type": "stream",
       "stream": "stderr",
       "text": [
        "DEBUG:root:ret_val = {u'loc': {u'type': u'Point', u'coordinates': [-122.2690856, 37.8273713]}, u'fmt_time': u'2015-08-27 10:51:56.548000-07:00', u'altitude': 0, u'ts': 1440697916.548, u'longitude': -122.2690856, u'latitude': 37.8273713, '_id': ObjectId('55df5a877d65cb39ee98692f'), u'heading': 0, u'sensed_speed': 0, u'accuracy': 87} \n"
       ]
      },
      {
       "output_type": "stream",
       "stream": "stderr",
       "text": [
        "DEBUG:root:ret_val = {u'loc': {u'type': u'Point', u'coordinates': [-122.2693285, 37.83869]}, u'fmt_time': u'2015-08-27 10:53:56.641000-07:00', u'altitude': 0, u'ts': 1440698036.641, u'longitude': -122.2693285, u'latitude': 37.83869, '_id': ObjectId('55df5a887d65cb39ee986937'), u'heading': 0, u'sensed_speed': 0, u'accuracy': 57} \n"
       ]
      },
      {
       "output_type": "stream",
       "stream": "stderr",
       "text": [
        "DEBUG:root:ret_val = {u'loc': {u'type': u'Point', u'coordinates': [-122.2705638, 37.8440278]}, u'fmt_time': u'2015-08-27 10:54:26.704000-07:00', u'altitude': 0, u'ts': 1440698066.704, u'longitude': -122.2705638, u'latitude': 37.8440278, '_id': ObjectId('55df5a887d65cb39ee98693a'), u'heading': 0, u'sensed_speed': 0, u'accuracy': 33} \n"
       ]
      },
      {
       "output_type": "stream",
       "stream": "stderr",
       "text": [
        "DEBUG:root:points_df.columns = Index([u'_id', u'accuracy', u'altitude', u'fmt_time', u'heading', u'latitude', u'loc', u'longitude', u'sensed_speed', u'ts'], dtype='object')\n"
       ]
      },
      {
       "output_type": "stream",
       "stream": "stderr",
       "text": [
        "DEBUG:root:first element in section_location_array = Location({u'loc': {u'type': u'Point', u'coordinates': [-122.4029569, 37.6162024]}, u'fmt_time': u'2015-08-27 10:05:52.989000-07:00', u'altitude': 0, u'ts': 1440695152.989, u'longitude': -122.4029569, u'latitude': 37.6162024, '_id': ObjectId('55df457d7d65cb39ee986795'), u'heading': 0, u'sensed_speed': 0, u'accuracy': 51.0})\n"
       ]
      },
      {
       "output_type": "stream",
       "stream": "stderr",
       "text": [
        "DEBUG:root:About to add Location({u'loc': {u'type': u'Point', u'coordinates': [-122.4029569, 37.6162024]}, u'fmt_time': u'2015-08-27 10:05:52.989000-07:00', u'altitude': 0, u'ts': 1440695152.989, u'longitude': -122.4029569, u'latitude': 37.6162024, '_id': ObjectId('55df457d7d65cb39ee986795'), u'heading': 0, u'sensed_speed': 0, u'accuracy': 51.0}) to line_string \n"
       ]
      },
      {
       "output_type": "stream",
       "stream": "stderr",
       "text": [
        "DEBUG:root:About to add Location({u'loc': {u'type': u'Point', u'coordinates': [-122.4034099, 37.6169824]}, u'fmt_time': u'2015-08-27 10:06:23.034000-07:00', u'altitude': 0, u'ts': 1440695183.034, u'longitude': -122.4034099, u'latitude': 37.6169824, '_id': ObjectId('55df457d7d65cb39ee986798'), u'heading': 0, u'sensed_speed': 0, u'accuracy': 51.0}) to line_string \n"
       ]
      },
      {
       "output_type": "stream",
       "stream": "stderr",
       "text": [
        "DEBUG:root:About to add Location({u'loc': {u'type': u'Point', u'coordinates': [-122.4710997, 37.7039975]}, u'fmt_time': u'2015-08-27 10:17:53.453000-07:00', u'altitude': 0, u'ts': 1440695873.453, u'longitude': -122.4710997, u'latitude': 37.7039975, '_id': ObjectId('55df5a7f7d65cb39ee9868aa'), u'heading': 0, u'sensed_speed': 0, u'accuracy': 69.0}) to line_string \n"
       ]
      },
      {
       "output_type": "stream",
       "stream": "stderr",
       "text": [
        "DEBUG:root:About to add Location({u'loc': {u'type': u'Point', u'coordinates': [-122.4695123, 37.7053759]}, u'fmt_time': u'2015-08-27 10:18:23.480000-07:00', u'altitude': 0, u'ts': 1440695903.48, u'longitude': -122.4695123, u'latitude': 37.7053759, '_id': ObjectId('55df5a7f7d65cb39ee9868ad'), u'heading': 0, u'sensed_speed': 0, u'accuracy': 36.0}) to line_string \n"
       ]
      },
      {
       "output_type": "stream",
       "stream": "stderr",
       "text": [
        "DEBUG:root:About to add Location({u'loc': {u'type': u'Point', u'coordinates': [-122.4688337, 37.706003]}, u'fmt_time': u'2015-08-27 10:18:53.491000-07:00', u'altitude': 0, u'ts': 1440695933.491, u'longitude': -122.4688337, u'latitude': 37.706003, '_id': ObjectId('55df5a7f7d65cb39ee9868af'), u'heading': 0, u'sensed_speed': 0, u'accuracy': 48.0}) to line_string \n"
       ]
      },
      {
       "output_type": "stream",
       "stream": "stderr",
       "text": [
        "DEBUG:root:About to add Location({u'loc': {u'type': u'Point', u'coordinates': [-122.4687392, 37.7058873]}, u'fmt_time': u'2015-08-27 10:19:23.552000-07:00', u'altitude': 0, u'ts': 1440695963.552, u'longitude': -122.4687392, u'latitude': 37.7058873, '_id': ObjectId('55df5a7f7d65cb39ee9868b2'), u'heading': 0, u'sensed_speed': 0, u'accuracy': 37.5}) to line_string \n"
       ]
      },
      {
       "output_type": "stream",
       "stream": "stderr",
       "text": [
        "DEBUG:root:About to add Location({u'loc': {u'type': u'Point', u'coordinates': [-122.4659174, 37.7104542]}, u'fmt_time': u'2015-08-27 10:19:53.536000-07:00', u'altitude': 0, u'ts': 1440695993.536, u'longitude': -122.4659174, u'latitude': 37.7104542, '_id': ObjectId('55df5a7f7d65cb39ee9868b5'), u'heading': 0, u'sensed_speed': 0, u'accuracy': 36.0}) to line_string \n"
       ]
      },
      {
       "output_type": "stream",
       "stream": "stderr",
       "text": [
        "DEBUG:root:About to add Location({u'loc': {u'type': u'Point', u'coordinates': [-122.4588706, 37.7104583]}, u'fmt_time': u'2015-08-27 10:20:23.549000-07:00', u'altitude': 0, u'ts': 1440696023.549, u'longitude': -122.4588706, u'latitude': 37.7104583, '_id': ObjectId('55df5a807d65cb39ee9868b8'), u'heading': 0, u'sensed_speed': 0, u'accuracy': 40.5}) to line_string \n"
       ]
      },
      {
       "output_type": "stream",
       "stream": "stderr",
       "text": [
        "DEBUG:root:About to add Location({u'loc': {u'type': u'Point', u'coordinates': [-122.4539366, 37.7113783]}, u'fmt_time': u'2015-08-27 10:20:53.591000-07:00', u'altitude': 0, u'ts': 1440696053.591, u'longitude': -122.4539366, u'latitude': 37.7113783, '_id': ObjectId('55df5a807d65cb39ee9868bb'), u'heading': 0, u'sensed_speed': 0, u'accuracy': 48.0}) to line_string \n"
       ]
      },
      {
       "output_type": "stream",
       "stream": "stderr",
       "text": [
        "DEBUG:root:About to add Location({u'loc': {u'type': u'Point', u'coordinates': [-122.4496369, 37.7149562]}, u'fmt_time': u'2015-08-27 10:21:23.589000-07:00', u'altitude': 0, u'ts': 1440696083.589, u'longitude': -122.4496369, u'latitude': 37.7149562, '_id': ObjectId('55df5a807d65cb39ee9868be'), u'heading': 0, u'sensed_speed': 0, u'accuracy': 40.5}) to line_string \n"
       ]
      },
      {
       "output_type": "stream",
       "stream": "stderr",
       "text": [
        "DEBUG:root:About to add Location({u'loc': {u'type': u'Point', u'coordinates': [-122.2993606, 37.8063249]}, u'fmt_time': u'2015-08-27 10:41:54.688000-07:00', u'altitude': 0, u'ts': 1440697314.688, u'longitude': -122.2993606, u'latitude': 37.8063249, '_id': ObjectId('55df5a857d65cb39ee986904'), u'heading': 0, u'sensed_speed': 0, u'accuracy': 57.0}) to line_string \n"
       ]
      },
      {
       "output_type": "stream",
       "stream": "stderr",
       "text": [
        "DEBUG:root:About to add Location({u'loc': {u'type': u'Point', u'coordinates': [-122.2946699, 37.8046873]}, u'fmt_time': u'2015-08-27 10:42:24.898000-07:00', u'altitude': 0, u'ts': 1440697344.898, u'longitude': -122.2946699, u'latitude': 37.8046873, '_id': ObjectId('55df5a857d65cb39ee986908'), u'heading': 0, u'sensed_speed': 0, u'accuracy': 57.0}) to line_string \n"
       ]
      },
      {
       "output_type": "stream",
       "stream": "stderr",
       "text": [
        "DEBUG:root:About to add Location({u'loc': {u'type': u'Point', u'coordinates': [-122.2942884, 37.8045621]}, u'fmt_time': u'2015-08-27 10:42:54.905000-07:00', u'altitude': 0, u'ts': 1440697374.905, u'longitude': -122.2942884, u'latitude': 37.8045621, '_id': ObjectId('55df5a857d65cb39ee98690a'), u'heading': 0, u'sensed_speed': 0, u'accuracy': 37.5}) to line_string \n"
       ]
      },
      {
       "output_type": "stream",
       "stream": "stderr",
       "text": [
        "DEBUG:root:About to add Location({u'loc': {u'type': u'Point', u'coordinates': [-122.2874324, 37.802572]}, u'fmt_time': u'2015-08-27 10:43:54.921000-07:00', u'altitude': 0, u'ts': 1440697434.921, u'longitude': -122.2874324, u'latitude': 37.802572, '_id': ObjectId('55df5a857d65cb39ee98690e'), u'heading': 0, u'sensed_speed': 0, u'accuracy': 36.0}) to line_string \n"
       ]
      },
      {
       "output_type": "stream",
       "stream": "stderr",
       "text": [
        "DEBUG:root:About to add Location({u'loc': {u'type': u'Point', u'coordinates': [-122.2812746, 37.8003098]}, u'fmt_time': u'2015-08-27 10:44:25.121000-07:00', u'altitude': 0, u'ts': 1440697465.121, u'longitude': -122.2812746, u'latitude': 37.8003098, '_id': ObjectId('55df5a867d65cb39ee986912'), u'heading': 0, u'sensed_speed': 0, u'accuracy': 63.0}) to line_string \n"
       ]
      },
      {
       "output_type": "stream",
       "stream": "stderr",
       "text": [
        "DEBUG:root:About to add Location({u'loc': {u'type': u'Point', u'coordinates': [-122.2788163, 37.7992023]}, u'fmt_time': u'2015-08-27 10:44:55.167000-07:00', u'altitude': 0, u'ts': 1440697495.167, u'longitude': -122.2788163, u'latitude': 37.7992023, '_id': ObjectId('55df5a867d65cb39ee986915'), u'heading': 0, u'sensed_speed': 0, u'accuracy': 36.0}) to line_string \n"
       ]
      },
      {
       "output_type": "stream",
       "stream": "stderr",
       "text": [
        "DEBUG:root:About to add Location({u'loc': {u'type': u'Point', u'coordinates': [-122.2690081, 37.8151412]}, u'fmt_time': u'2015-08-27 10:49:25.352000-07:00', u'altitude': 0, u'ts': 1440697765.352, u'longitude': -122.2690081, u'latitude': 37.8151412, '_id': ObjectId('55df5a877d65cb39ee986924'), u'heading': 0, u'sensed_speed': 0, u'accuracy': 36.0}) to line_string \n"
       ]
      },
      {
       "output_type": "stream",
       "stream": "stderr",
       "text": [
        "DEBUG:root:About to add Location({u'loc': {u'type': u'Point', u'coordinates': [-122.2721842, 37.814555]}, u'fmt_time': u'2015-08-27 10:50:25.991000-07:00', u'altitude': 0, u'ts': 1440697825.991, u'longitude': -122.2721842, u'latitude': 37.814555, '_id': ObjectId('55df5a877d65cb39ee986928'), u'heading': 0, u'sensed_speed': 0, u'accuracy': 42.0}) to line_string \n"
       ]
      },
      {
       "output_type": "stream",
       "stream": "stderr",
       "text": [
        "DEBUG:root:About to add Location({u'loc': {u'type': u'Point', u'coordinates': [-122.2690856, 37.8273713]}, u'fmt_time': u'2015-08-27 10:51:56.548000-07:00', u'altitude': 0, u'ts': 1440697916.548, u'longitude': -122.2690856, u'latitude': 37.8273713, '_id': ObjectId('55df5a877d65cb39ee98692f'), u'heading': 0, u'sensed_speed': 0, u'accuracy': 87.0}) to line_string \n"
       ]
      },
      {
       "output_type": "stream",
       "stream": "stderr",
       "text": [
        "DEBUG:root:About to add Location({u'loc': {u'type': u'Point', u'coordinates': [-122.2693285, 37.83869]}, u'fmt_time': u'2015-08-27 10:53:56.641000-07:00', u'altitude': 0, u'ts': 1440698036.641, u'longitude': -122.2693285, u'latitude': 37.83869, '_id': ObjectId('55df5a887d65cb39ee986937'), u'heading': 0, u'sensed_speed': 0, u'accuracy': 57.0}) to line_string \n"
       ]
      },
      {
       "output_type": "stream",
       "stream": "stderr",
       "text": [
        "DEBUG:root:About to add Location({u'loc': {u'type': u'Point', u'coordinates': [-122.2705638, 37.8440278]}, u'fmt_time': u'2015-08-27 10:54:26.704000-07:00', u'altitude': 0, u'ts': 1440698066.704, u'longitude': -122.2705638, u'latitude': 37.8440278, '_id': ObjectId('55df5a887d65cb39ee98693a'), u'heading': 0, u'sensed_speed': 0, u'accuracy': 33.0}) to line_string \n"
       ]
      },
      {
       "output_type": "stream",
       "stream": "stderr",
       "text": [
        "DEBUG:root:sort_key = metadata.write_ts\n"
       ]
      },
      {
       "output_type": "stream",
       "stream": "stderr",
       "text": [
        "DEBUG:root:ret_val = {u'loc': {u'type': u'Point', u'coordinates': [-122.2682605, 37.8700849]}, u'fmt_time': u'2015-08-27 10:58:26.892000-07:00', u'altitude': 0, u'ts': 1440698306.892, u'longitude': -122.2682605, u'latitude': 37.8700849, '_id': ObjectId('55df5a897d65cb39ee98694b'), u'heading': 0, u'sensed_speed': 0, u'accuracy': 25} \n"
       ]
      },
      {
       "output_type": "stream",
       "stream": "stderr",
       "text": [
        "DEBUG:root:ret_val = {u'loc': {u'type': u'Point', u'coordinates': [-122.2681346, 37.8707148]}, u'fmt_time': u'2015-08-27 10:59:26.497000-07:00', u'altitude': 0, u'ts': 1440698366.497, u'longitude': -122.2681346, u'latitude': 37.8707148, '_id': ObjectId('55df5a8a7d65cb39ee986953'), u'heading': 0, u'sensed_speed': 0, u'accuracy': 48} \n"
       ]
      },
      {
       "output_type": "stream",
       "stream": "stderr",
       "text": [
        "DEBUG:root:ret_val = {u'loc': {u'type': u'Point', u'coordinates': [-122.2682285, 37.8711642]}, u'fmt_time': u'2015-08-27 10:59:56.648000-07:00', u'altitude': 0, u'ts': 1440698396.648, u'longitude': -122.2682285, u'latitude': 37.8711642, '_id': ObjectId('55df5a8a7d65cb39ee986956'), u'heading': 0, u'sensed_speed': 0, u'accuracy': 37.064} \n"
       ]
      },
      {
       "output_type": "stream",
       "stream": "stderr",
       "text": [
        "DEBUG:root:ret_val = {u'loc': {u'type': u'Point', u'coordinates': [-122.2678988, 37.8711621]}, u'fmt_time': u'2015-08-27 11:00:26.652000-07:00', u'altitude': 0, u'ts': 1440698426.652, u'longitude': -122.2678988, u'latitude': 37.8711621, '_id': ObjectId('55df5a8a7d65cb39ee986958'), u'heading': 0, u'sensed_speed': 0, u'accuracy': 30.408} \n"
       ]
      },
      {
       "output_type": "stream",
       "stream": "stderr",
       "text": [
        "DEBUG:root:ret_val = {u'loc': {u'type': u'Point', u'coordinates': [-122.2675291, 37.8711694]}, u'fmt_time': u'2015-08-27 11:00:56.672000-07:00', u'altitude': 0, u'ts': 1440698456.672, u'longitude': -122.2675291, u'latitude': 37.8711694, '_id': ObjectId('55df5a8a7d65cb39ee98695b'), u'heading': 0, u'sensed_speed': 0, u'accuracy': 26.103} \n"
       ]
      },
      {
       "output_type": "stream",
       "stream": "stderr",
       "text": [
        "DEBUG:root:ret_val = {u'loc': {u'type': u'Point', u'coordinates': [-122.2669631, 37.8713225]}, u'fmt_time': u'2015-08-27 11:01:26.778000-07:00', u'altitude': 0, u'ts': 1440698486.778, u'longitude': -122.2669631, u'latitude': 37.8713225, '_id': ObjectId('55df5a8b7d65cb39ee98695f'), u'heading': 0, u'sensed_speed': 0, u'accuracy': 67.5} \n"
       ]
      },
      {
       "output_type": "stream",
       "stream": "stderr",
       "text": [
        "DEBUG:root:ret_val = {u'loc': {u'type': u'Point', u'coordinates': [-122.2665766, 37.8717961]}, u'fmt_time': u'2015-08-27 11:01:57.105000-07:00', u'altitude': 0, u'ts': 1440698517.105, u'longitude': -122.2665766, u'latitude': 37.8717961, '_id': ObjectId('55df5a8b7d65cb39ee986961'), u'heading': 0, u'sensed_speed': 0, u'accuracy': 65.625} \n"
       ]
      },
      {
       "output_type": "stream",
       "stream": "stderr",
       "text": [
        "DEBUG:root:ret_val = {u'loc': {u'type': u'Point', u'coordinates': [-122.2664828, 37.8716111]}, u'fmt_time': u'2015-08-27 11:02:20.040000-07:00', u'altitude': 0, u'ts': 1440698540.04, u'longitude': -122.2664828, u'latitude': 37.8716111, '_id': ObjectId('55df5a8b7d65cb39ee986964'), u'heading': 0, u'sensed_speed': 0, u'accuracy': 23.453} \n"
       ]
      },
      {
       "output_type": "stream",
       "stream": "stderr",
       "text": [
        "DEBUG:root:ret_val = {u'loc': {u'type': u'Point', u'coordinates': [-122.2664828, 37.8716111]}, u'fmt_time': u'2015-08-27 11:03:11.418000-07:00', u'altitude': 0, u'ts': 1440698591.418, u'longitude': -122.2664828, u'latitude': 37.8716111, '_id': ObjectId('55df5a8b7d65cb39ee986968'), u'heading': 0, u'sensed_speed': 0, u'accuracy': 100.521} \n"
       ]
      },
      {
       "output_type": "stream",
       "stream": "stderr",
       "text": [
        "DEBUG:root:ret_val = {u'loc': {u'type': u'Point', u'coordinates': [-122.2661958, 37.8714923]}, u'fmt_time': u'2015-08-27 11:03:26.906000-07:00', u'altitude': 0, u'ts': 1440698606.906, u'longitude': -122.2661958, u'latitude': 37.8714923, '_id': ObjectId('55df5a8b7d65cb39ee98696a'), u'heading': 0, u'sensed_speed': 0, u'accuracy': 43.5} \n"
       ]
      },
      {
       "output_type": "stream",
       "stream": "stderr",
       "text": [
        "DEBUG:root:ret_val = {u'loc': {u'type': u'Point', u'coordinates': [-122.2661958, 37.8714923]}, u'fmt_time': u'2015-08-27 11:04:11.233000-07:00', u'altitude': 0, u'ts': 1440698651.233, u'longitude': -122.2661958, u'latitude': 37.8714923, '_id': ObjectId('55df5a8c7d65cb39ee98696e'), u'heading': 0, u'sensed_speed': 0, u'accuracy': 109.99} \n"
       ]
      },
      {
       "output_type": "stream",
       "stream": "stderr",
       "text": [
        "DEBUG:root:ret_val = {u'loc': {u'type': u'Point', u'coordinates': [-122.2661958, 37.8714923]}, u'fmt_time': u'2015-08-27 11:04:28.905000-07:00', u'altitude': 0, u'ts': 1440698668.905, u'longitude': -122.2661958, u'latitude': 37.8714923, '_id': ObjectId('55df5a8c7d65cb39ee986970'), u'heading': 0, u'sensed_speed': 0, u'accuracy': 136.496} \n"
       ]
      },
      {
       "output_type": "stream",
       "stream": "stderr",
       "text": [
        "DEBUG:root:ret_val = {u'loc': {u'type': u'Point', u'coordinates': [-122.2640902, 37.871753]}, u'fmt_time': u'2015-08-27 11:04:49.917000-07:00', u'altitude': 0, u'ts': 1440698689.917, u'longitude': -122.2640902, u'latitude': 37.871753, '_id': ObjectId('55df5a8c7d65cb39ee986973'), u'heading': 0, u'sensed_speed': 0, u'accuracy': 45} \n"
       ]
      },
      {
       "output_type": "stream",
       "stream": "stderr",
       "text": [
        "DEBUG:root:ret_val = {u'loc': {u'type': u'Point', u'coordinates': [-122.264123, 37.8718767]}, u'fmt_time': u'2015-08-27 11:05:27.255000-07:00', u'altitude': 0, u'ts': 1440698727.255, u'longitude': -122.264123, u'latitude': 37.8718767, '_id': ObjectId('55df5a8c7d65cb39ee986977'), u'heading': 0, u'sensed_speed': 0, u'accuracy': 39} \n"
       ]
      },
      {
       "output_type": "stream",
       "stream": "stderr",
       "text": [
        "DEBUG:root:ret_val = {u'loc': {u'type': u'Point', u'coordinates': [-122.2639891, 37.8719733]}, u'fmt_time': u'2015-08-27 11:05:51.173000-07:00', u'altitude': 0, u'ts': 1440698751.173, u'longitude': -122.2639891, u'latitude': 37.8719733, '_id': ObjectId('55df5a8c7d65cb39ee98697a'), u'heading': 0, u'sensed_speed': 0, u'accuracy': 40.5} \n"
       ]
      },
      {
       "output_type": "stream",
       "stream": "stderr",
       "text": [
        "DEBUG:root:ret_val = {u'loc': {u'type': u'Point', u'coordinates': [-122.2637253, 37.8721843]}, u'fmt_time': u'2015-08-27 11:06:27.147000-07:00', u'altitude': 0, u'ts': 1440698787.147, u'longitude': -122.2637253, u'latitude': 37.8721843, '_id': ObjectId('55df5a8c7d65cb39ee98697d'), u'heading': 0, u'sensed_speed': 0, u'accuracy': 46.5} \n"
       ]
      },
      {
       "output_type": "stream",
       "stream": "stderr",
       "text": [
        "DEBUG:root:ret_val = {u'loc': {u'type': u'Point', u'coordinates': [-122.2636031, 37.8721196]}, u'fmt_time': u'2015-08-27 11:06:50.709000-07:00', u'altitude': 0, u'ts': 1440698810.709, u'longitude': -122.2636031, u'latitude': 37.8721196, '_id': ObjectId('55df5a8d7d65cb39ee986980'), u'heading': 0, u'sensed_speed': 0, u'accuracy': 39.452} \n"
       ]
      },
      {
       "output_type": "stream",
       "stream": "stderr",
       "text": [
        "DEBUG:root:ret_val = {u'loc': {u'type': u'Point', u'coordinates': [-122.2629994, 37.8724529]}, u'fmt_time': u'2015-08-27 11:07:22.576000-07:00', u'altitude': 0, u'ts': 1440698842.576, u'longitude': -122.2629994, u'latitude': 37.8724529, '_id': ObjectId('55df5a8d7d65cb39ee986983'), u'heading': 0, u'sensed_speed': 0, u'accuracy': 30} \n"
       ]
      },
      {
       "output_type": "stream",
       "stream": "stderr",
       "text": [
        "DEBUG:root:ret_val = {u'loc': {u'type': u'Point', u'coordinates': [-122.2626764, 37.872436]}, u'fmt_time': u'2015-08-27 11:07:58.383000-07:00', u'altitude': 0, u'ts': 1440698878.383, u'longitude': -122.2626764, u'latitude': 37.872436, '_id': ObjectId('55df5a8d7d65cb39ee986985'), u'heading': 0, u'sensed_speed': 0, u'accuracy': 37.5} \n"
       ]
      },
      {
       "output_type": "stream",
       "stream": "stderr",
       "text": [
        "DEBUG:root:ret_val = {u'loc': {u'type': u'Point', u'coordinates': [-122.2623766, 37.8723115]}, u'fmt_time': u'2015-08-27 11:08:28.542000-07:00', u'altitude': 0, u'ts': 1440698908.542, u'longitude': -122.2623766, u'latitude': 37.8723115, '_id': ObjectId('55df5a8d7d65cb39ee986989'), u'heading': 0, u'sensed_speed': 0, u'accuracy': 62.938} \n"
       ]
      },
      {
       "output_type": "stream",
       "stream": "stderr",
       "text": [
        "DEBUG:root:ret_val = {u'loc': {u'type': u'Point', u'coordinates': [-122.2624567, 37.8723398]}, u'fmt_time': u'2015-08-27 11:08:58.153000-07:00', u'altitude': 0, u'ts': 1440698938.153, u'longitude': -122.2624567, u'latitude': 37.8723398, '_id': ObjectId('55df5a8d7d65cb39ee98698c'), u'heading': 0, u'sensed_speed': 0, u'accuracy': 63.137} \n"
       ]
      },
      {
       "output_type": "stream",
       "stream": "stderr",
       "text": [
        "DEBUG:root:ret_val = {u'loc': {u'type': u'Point', u'coordinates': [-122.2622943, 37.8731595]}, u'fmt_time': u'2015-08-27 11:09:22.496000-07:00', u'altitude': 0, u'ts': 1440698962.496, u'longitude': -122.2622943, u'latitude': 37.8731595, '_id': ObjectId('55df5a8e7d65cb39ee98698f'), u'heading': 0, u'sensed_speed': 0, u'accuracy': 40.5} \n"
       ]
      },
      {
       "output_type": "stream",
       "stream": "stderr",
       "text": [
        "DEBUG:root:ret_val = {u'loc': {u'type': u'Point', u'coordinates': [-122.2616244, 37.8734265]}, u'fmt_time': u'2015-08-27 11:09:46.092000-07:00', u'altitude': 0, u'ts': 1440698986.092, u'longitude': -122.2616244, u'latitude': 37.8734265, '_id': ObjectId('55df5a8e7d65cb39ee986992'), u'heading': 0, u'sensed_speed': 0, u'accuracy': 40.882} \n"
       ]
      },
      {
       "output_type": "stream",
       "stream": "stderr",
       "text": [
        "DEBUG:root:ret_val = {u'loc': {u'type': u'Point', u'coordinates': [-122.2615563, 37.8733688]}, u'fmt_time': u'2015-08-27 11:10:28.646000-07:00', u'altitude': 0, u'ts': 1440699028.646, u'longitude': -122.2615563, u'latitude': 37.8733688, '_id': ObjectId('55df5a8e7d65cb39ee986994'), u'heading': 0, u'sensed_speed': 0, u'accuracy': 30} \n"
       ]
      },
      {
       "output_type": "stream",
       "stream": "stderr",
       "text": [
        "DEBUG:root:ret_val = {u'loc': {u'type': u'Point', u'coordinates': [-122.2616393, 37.8734842]}, u'fmt_time': u'2015-08-27 11:10:50.002000-07:00', u'altitude': 0, u'ts': 1440699050.002, u'longitude': -122.2616393, u'latitude': 37.8734842, '_id': ObjectId('55df5a8e7d65cb39ee986997'), u'heading': 0, u'sensed_speed': 0, u'accuracy': 40.298} \n"
       ]
      },
      {
       "output_type": "stream",
       "stream": "stderr",
       "text": [
        "DEBUG:root:ret_val = {u'loc': {u'type': u'Point', u'coordinates': [-122.2616393, 37.8734842]}, u'fmt_time': u'2015-08-27 11:12:01.115000-07:00', u'altitude': 0, u'ts': 1440699121.115, u'longitude': -122.2616393, u'latitude': 37.8734842, '_id': ObjectId('55df5a8e7d65cb39ee98699b'), u'heading': 0, u'sensed_speed': 0, u'accuracy': 146.965} \n"
       ]
      },
      {
       "output_type": "stream",
       "stream": "stderr",
       "text": [
        "DEBUG:root:ret_val = {u'loc': {u'type': u'Point', u'coordinates': [-122.2601102, 37.8750076]}, u'fmt_time': u'2015-08-27 11:12:20-07:00', u'altitude': 0, u'ts': 1440699140.0, u'longitude': -122.2601102, u'latitude': 37.8750076, '_id': ObjectId('55df5a8f7d65cb39ee98699e'), u'heading': 0, u'sensed_speed': 0, u'accuracy': 40.5} \n"
       ]
      },
      {
       "output_type": "stream",
       "stream": "stderr",
       "text": [
        "DEBUG:root:ret_val = {u'loc': {u'type': u'Point', u'coordinates': [-122.2603031, 37.8750865]}, u'fmt_time': u'2015-08-27 11:12:58.184000-07:00', u'altitude': 0, u'ts': 1440699178.184, u'longitude': -122.2603031, u'latitude': 37.8750865, '_id': ObjectId('55df5a8f7d65cb39ee9869a1'), u'heading': 0, u'sensed_speed': 0, u'accuracy': 24.531} \n"
       ]
      },
      {
       "output_type": "stream",
       "stream": "stderr",
       "text": [
        "DEBUG:root:ret_val = {u'loc': {u'type': u'Point', u'coordinates': [-122.2603195, 37.8750871]}, u'fmt_time': u'2015-08-27 11:13:14.180000-07:00', u'altitude': 0, u'ts': 1440699194.18, u'longitude': -122.2603195, u'latitude': 37.8750871, '_id': ObjectId('55df5a8f7d65cb39ee9869a4'), u'heading': 0, u'sensed_speed': 0, u'accuracy': 23.619} \n"
       ]
      },
      {
       "output_type": "stream",
       "stream": "stderr",
       "text": [
        "DEBUG:root:ret_val = {u'loc': {u'type': u'Point', u'coordinates': [-122.2603247, 37.8750154]}, u'fmt_time': u'2015-08-27 11:13:54.834000-07:00', u'altitude': 0, u'ts': 1440699234.834, u'longitude': -122.2603247, u'latitude': 37.8750154, '_id': ObjectId('55df5a8f7d65cb39ee9869a7'), u'heading': 0, u'sensed_speed': 0, u'accuracy': 33} \n"
       ]
      },
      {
       "output_type": "stream",
       "stream": "stderr",
       "text": [
        "DEBUG:root:ret_val = {u'loc': {u'type': u'Point', u'coordinates': [-122.2603947, 37.875023]}, u'fmt_time': u'2015-08-27 11:14:26.669000-07:00', u'altitude': 0, u'ts': 1440699266.669, u'longitude': -122.2603947, u'latitude': 37.875023, '_id': ObjectId('55df5a8f7d65cb39ee9869aa'), u'heading': 0, u'sensed_speed': 0, u'accuracy': 30} \n"
       ]
      },
      {
       "output_type": "stream",
       "stream": "stderr",
       "text": [
        "DEBUG:root:points_df.columns = Index([u'_id', u'accuracy', u'altitude', u'fmt_time', u'heading', u'latitude', u'loc', u'longitude', u'sensed_speed', u'ts'], dtype='object')\n"
       ]
      },
      {
       "output_type": "stream",
       "stream": "stderr",
       "text": [
        "DEBUG:root:first element in section_location_array = Location({u'loc': {u'type': u'Point', u'coordinates': [-122.2682605, 37.8700849]}, u'fmt_time': u'2015-08-27 10:58:26.892000-07:00', u'altitude': 0, u'ts': 1440698306.892, u'longitude': -122.2682605, u'latitude': 37.8700849, '_id': ObjectId('55df5a897d65cb39ee98694b'), u'heading': 0, u'sensed_speed': 0, u'accuracy': 25.0})\n"
       ]
      },
      {
       "output_type": "stream",
       "stream": "stderr",
       "text": [
        "DEBUG:root:About to add Location({u'loc': {u'type': u'Point', u'coordinates': [-122.2682605, 37.8700849]}, u'fmt_time': u'2015-08-27 10:58:26.892000-07:00', u'altitude': 0, u'ts': 1440698306.892, u'longitude': -122.2682605, u'latitude': 37.8700849, '_id': ObjectId('55df5a897d65cb39ee98694b'), u'heading': 0, u'sensed_speed': 0, u'accuracy': 25.0}) to line_string \n"
       ]
      },
      {
       "output_type": "stream",
       "stream": "stderr",
       "text": [
        "DEBUG:root:About to add Location({u'loc': {u'type': u'Point', u'coordinates': [-122.2681346, 37.8707148]}, u'fmt_time': u'2015-08-27 10:59:26.497000-07:00', u'altitude': 0, u'ts': 1440698366.497, u'longitude': -122.2681346, u'latitude': 37.8707148, '_id': ObjectId('55df5a8a7d65cb39ee986953'), u'heading': 0, u'sensed_speed': 0, u'accuracy': 48.0}) to line_string \n"
       ]
      },
      {
       "output_type": "stream",
       "stream": "stderr",
       "text": [
        "DEBUG:root:About to add Location({u'loc': {u'type': u'Point', u'coordinates': [-122.2682285, 37.8711642]}, u'fmt_time': u'2015-08-27 10:59:56.648000-07:00', u'altitude': 0, u'ts': 1440698396.648, u'longitude': -122.2682285, u'latitude': 37.8711642, '_id': ObjectId('55df5a8a7d65cb39ee986956'), u'heading': 0, u'sensed_speed': 0, u'accuracy': 37.064}) to line_string \n"
       ]
      },
      {
       "output_type": "stream",
       "stream": "stderr",
       "text": [
        "DEBUG:root:About to add Location({u'loc': {u'type': u'Point', u'coordinates': [-122.2678988, 37.8711621]}, u'fmt_time': u'2015-08-27 11:00:26.652000-07:00', u'altitude': 0, u'ts': 1440698426.652, u'longitude': -122.2678988, u'latitude': 37.8711621, '_id': ObjectId('55df5a8a7d65cb39ee986958'), u'heading': 0, u'sensed_speed': 0, u'accuracy': 30.408}) to line_string \n"
       ]
      },
      {
       "output_type": "stream",
       "stream": "stderr",
       "text": [
        "DEBUG:root:About to add Location({u'loc': {u'type': u'Point', u'coordinates': [-122.2675291, 37.8711694]}, u'fmt_time': u'2015-08-27 11:00:56.672000-07:00', u'altitude': 0, u'ts': 1440698456.672, u'longitude': -122.2675291, u'latitude': 37.8711694, '_id': ObjectId('55df5a8a7d65cb39ee98695b'), u'heading': 0, u'sensed_speed': 0, u'accuracy': 26.103}) to line_string \n"
       ]
      },
      {
       "output_type": "stream",
       "stream": "stderr",
       "text": [
        "DEBUG:root:About to add Location({u'loc': {u'type': u'Point', u'coordinates': [-122.2669631, 37.8713225]}, u'fmt_time': u'2015-08-27 11:01:26.778000-07:00', u'altitude': 0, u'ts': 1440698486.778, u'longitude': -122.2669631, u'latitude': 37.8713225, '_id': ObjectId('55df5a8b7d65cb39ee98695f'), u'heading': 0, u'sensed_speed': 0, u'accuracy': 67.5}) to line_string \n"
       ]
      },
      {
       "output_type": "stream",
       "stream": "stderr",
       "text": [
        "DEBUG:root:About to add Location({u'loc': {u'type': u'Point', u'coordinates': [-122.2665766, 37.8717961]}, u'fmt_time': u'2015-08-27 11:01:57.105000-07:00', u'altitude': 0, u'ts': 1440698517.105, u'longitude': -122.2665766, u'latitude': 37.8717961, '_id': ObjectId('55df5a8b7d65cb39ee986961'), u'heading': 0, u'sensed_speed': 0, u'accuracy': 65.625}) to line_string \n"
       ]
      },
      {
       "output_type": "stream",
       "stream": "stderr",
       "text": [
        "DEBUG:root:About to add Location({u'loc': {u'type': u'Point', u'coordinates': [-122.2664828, 37.8716111]}, u'fmt_time': u'2015-08-27 11:02:20.040000-07:00', u'altitude': 0, u'ts': 1440698540.04, u'longitude': -122.2664828, u'latitude': 37.8716111, '_id': ObjectId('55df5a8b7d65cb39ee986964'), u'heading': 0, u'sensed_speed': 0, u'accuracy': 23.453}) to line_string \n"
       ]
      },
      {
       "output_type": "stream",
       "stream": "stderr",
       "text": [
        "DEBUG:root:About to add Location({u'loc': {u'type': u'Point', u'coordinates': [-122.2664828, 37.8716111]}, u'fmt_time': u'2015-08-27 11:03:11.418000-07:00', u'altitude': 0, u'ts': 1440698591.418, u'longitude': -122.2664828, u'latitude': 37.8716111, '_id': ObjectId('55df5a8b7d65cb39ee986968'), u'heading': 0, u'sensed_speed': 0, u'accuracy': 100.521}) to line_string \n"
       ]
      },
      {
       "output_type": "stream",
       "stream": "stderr",
       "text": [
        "DEBUG:root:About to add Location({u'loc': {u'type': u'Point', u'coordinates': [-122.2661958, 37.8714923]}, u'fmt_time': u'2015-08-27 11:03:26.906000-07:00', u'altitude': 0, u'ts': 1440698606.906, u'longitude': -122.2661958, u'latitude': 37.8714923, '_id': ObjectId('55df5a8b7d65cb39ee98696a'), u'heading': 0, u'sensed_speed': 0, u'accuracy': 43.5}) to line_string \n"
       ]
      },
      {
       "output_type": "stream",
       "stream": "stderr",
       "text": [
        "DEBUG:root:About to add Location({u'loc': {u'type': u'Point', u'coordinates': [-122.2661958, 37.8714923]}, u'fmt_time': u'2015-08-27 11:04:11.233000-07:00', u'altitude': 0, u'ts': 1440698651.233, u'longitude': -122.2661958, u'latitude': 37.8714923, '_id': ObjectId('55df5a8c7d65cb39ee98696e'), u'heading': 0, u'sensed_speed': 0, u'accuracy': 109.99}) to line_string \n"
       ]
      },
      {
       "output_type": "stream",
       "stream": "stderr",
       "text": [
        "DEBUG:root:About to add Location({u'loc': {u'type': u'Point', u'coordinates': [-122.2661958, 37.8714923]}, u'fmt_time': u'2015-08-27 11:04:28.905000-07:00', u'altitude': 0, u'ts': 1440698668.905, u'longitude': -122.2661958, u'latitude': 37.8714923, '_id': ObjectId('55df5a8c7d65cb39ee986970'), u'heading': 0, u'sensed_speed': 0, u'accuracy': 136.496}) to line_string \n"
       ]
      },
      {
       "output_type": "stream",
       "stream": "stderr",
       "text": [
        "DEBUG:root:About to add Location({u'loc': {u'type': u'Point', u'coordinates': [-122.2640902, 37.871753]}, u'fmt_time': u'2015-08-27 11:04:49.917000-07:00', u'altitude': 0, u'ts': 1440698689.917, u'longitude': -122.2640902, u'latitude': 37.871753, '_id': ObjectId('55df5a8c7d65cb39ee986973'), u'heading': 0, u'sensed_speed': 0, u'accuracy': 45.0}) to line_string \n"
       ]
      },
      {
       "output_type": "stream",
       "stream": "stderr",
       "text": [
        "DEBUG:root:About to add Location({u'loc': {u'type': u'Point', u'coordinates': [-122.264123, 37.8718767]}, u'fmt_time': u'2015-08-27 11:05:27.255000-07:00', u'altitude': 0, u'ts': 1440698727.255, u'longitude': -122.264123, u'latitude': 37.8718767, '_id': ObjectId('55df5a8c7d65cb39ee986977'), u'heading': 0, u'sensed_speed': 0, u'accuracy': 39.0}) to line_string \n"
       ]
      },
      {
       "output_type": "stream",
       "stream": "stderr",
       "text": [
        "DEBUG:root:About to add Location({u'loc': {u'type': u'Point', u'coordinates': [-122.2639891, 37.8719733]}, u'fmt_time': u'2015-08-27 11:05:51.173000-07:00', u'altitude': 0, u'ts': 1440698751.173, u'longitude': -122.2639891, u'latitude': 37.8719733, '_id': ObjectId('55df5a8c7d65cb39ee98697a'), u'heading': 0, u'sensed_speed': 0, u'accuracy': 40.5}) to line_string \n"
       ]
      },
      {
       "output_type": "stream",
       "stream": "stderr",
       "text": [
        "DEBUG:root:About to add Location({u'loc': {u'type': u'Point', u'coordinates': [-122.2637253, 37.8721843]}, u'fmt_time': u'2015-08-27 11:06:27.147000-07:00', u'altitude': 0, u'ts': 1440698787.147, u'longitude': -122.2637253, u'latitude': 37.8721843, '_id': ObjectId('55df5a8c7d65cb39ee98697d'), u'heading': 0, u'sensed_speed': 0, u'accuracy': 46.5}) to line_string \n"
       ]
      },
      {
       "output_type": "stream",
       "stream": "stderr",
       "text": [
        "DEBUG:root:About to add Location({u'loc': {u'type': u'Point', u'coordinates': [-122.2636031, 37.8721196]}, u'fmt_time': u'2015-08-27 11:06:50.709000-07:00', u'altitude': 0, u'ts': 1440698810.709, u'longitude': -122.2636031, u'latitude': 37.8721196, '_id': ObjectId('55df5a8d7d65cb39ee986980'), u'heading': 0, u'sensed_speed': 0, u'accuracy': 39.452}) to line_string \n"
       ]
      },
      {
       "output_type": "stream",
       "stream": "stderr",
       "text": [
        "DEBUG:root:About to add Location({u'loc': {u'type': u'Point', u'coordinates': [-122.2629994, 37.8724529]}, u'fmt_time': u'2015-08-27 11:07:22.576000-07:00', u'altitude': 0, u'ts': 1440698842.576, u'longitude': -122.2629994, u'latitude': 37.8724529, '_id': ObjectId('55df5a8d7d65cb39ee986983'), u'heading': 0, u'sensed_speed': 0, u'accuracy': 30.0}) to line_string \n"
       ]
      },
      {
       "output_type": "stream",
       "stream": "stderr",
       "text": [
        "DEBUG:root:About to add Location({u'loc': {u'type': u'Point', u'coordinates': [-122.2626764, 37.872436]}, u'fmt_time': u'2015-08-27 11:07:58.383000-07:00', u'altitude': 0, u'ts': 1440698878.383, u'longitude': -122.2626764, u'latitude': 37.872436, '_id': ObjectId('55df5a8d7d65cb39ee986985'), u'heading': 0, u'sensed_speed': 0, u'accuracy': 37.5}) to line_string \n"
       ]
      },
      {
       "output_type": "stream",
       "stream": "stderr",
       "text": [
        "DEBUG:root:About to add Location({u'loc': {u'type': u'Point', u'coordinates': [-122.2623766, 37.8723115]}, u'fmt_time': u'2015-08-27 11:08:28.542000-07:00', u'altitude': 0, u'ts': 1440698908.542, u'longitude': -122.2623766, u'latitude': 37.8723115, '_id': ObjectId('55df5a8d7d65cb39ee986989'), u'heading': 0, u'sensed_speed': 0, u'accuracy': 62.938}) to line_string \n"
       ]
      },
      {
       "output_type": "stream",
       "stream": "stderr",
       "text": [
        "DEBUG:root:About to add Location({u'loc': {u'type': u'Point', u'coordinates': [-122.2624567, 37.8723398]}, u'fmt_time': u'2015-08-27 11:08:58.153000-07:00', u'altitude': 0, u'ts': 1440698938.153, u'longitude': -122.2624567, u'latitude': 37.8723398, '_id': ObjectId('55df5a8d7d65cb39ee98698c'), u'heading': 0, u'sensed_speed': 0, u'accuracy': 63.137}) to line_string \n"
       ]
      },
      {
       "output_type": "stream",
       "stream": "stderr",
       "text": [
        "DEBUG:root:About to add Location({u'loc': {u'type': u'Point', u'coordinates': [-122.2622943, 37.8731595]}, u'fmt_time': u'2015-08-27 11:09:22.496000-07:00', u'altitude': 0, u'ts': 1440698962.496, u'longitude': -122.2622943, u'latitude': 37.8731595, '_id': ObjectId('55df5a8e7d65cb39ee98698f'), u'heading': 0, u'sensed_speed': 0, u'accuracy': 40.5}) to line_string \n"
       ]
      },
      {
       "output_type": "stream",
       "stream": "stderr",
       "text": [
        "DEBUG:root:About to add Location({u'loc': {u'type': u'Point', u'coordinates': [-122.2616244, 37.8734265]}, u'fmt_time': u'2015-08-27 11:09:46.092000-07:00', u'altitude': 0, u'ts': 1440698986.092, u'longitude': -122.2616244, u'latitude': 37.8734265, '_id': ObjectId('55df5a8e7d65cb39ee986992'), u'heading': 0, u'sensed_speed': 0, u'accuracy': 40.882}) to line_string \n"
       ]
      },
      {
       "output_type": "stream",
       "stream": "stderr",
       "text": [
        "DEBUG:root:About to add Location({u'loc': {u'type': u'Point', u'coordinates': [-122.2615563, 37.8733688]}, u'fmt_time': u'2015-08-27 11:10:28.646000-07:00', u'altitude': 0, u'ts': 1440699028.646, u'longitude': -122.2615563, u'latitude': 37.8733688, '_id': ObjectId('55df5a8e7d65cb39ee986994'), u'heading': 0, u'sensed_speed': 0, u'accuracy': 30.0}) to line_string \n"
       ]
      },
      {
       "output_type": "stream",
       "stream": "stderr",
       "text": [
        "DEBUG:root:About to add Location({u'loc': {u'type': u'Point', u'coordinates': [-122.2616393, 37.8734842]}, u'fmt_time': u'2015-08-27 11:10:50.002000-07:00', u'altitude': 0, u'ts': 1440699050.002, u'longitude': -122.2616393, u'latitude': 37.8734842, '_id': ObjectId('55df5a8e7d65cb39ee986997'), u'heading': 0, u'sensed_speed': 0, u'accuracy': 40.298}) to line_string \n"
       ]
      },
      {
       "output_type": "stream",
       "stream": "stderr",
       "text": [
        "DEBUG:root:About to add Location({u'loc': {u'type': u'Point', u'coordinates': [-122.2616393, 37.8734842]}, u'fmt_time': u'2015-08-27 11:12:01.115000-07:00', u'altitude': 0, u'ts': 1440699121.115, u'longitude': -122.2616393, u'latitude': 37.8734842, '_id': ObjectId('55df5a8e7d65cb39ee98699b'), u'heading': 0, u'sensed_speed': 0, u'accuracy': 146.965}) to line_string \n"
       ]
      },
      {
       "output_type": "stream",
       "stream": "stderr",
       "text": [
        "DEBUG:root:About to add Location({u'loc': {u'type': u'Point', u'coordinates': [-122.2601102, 37.8750076]}, u'fmt_time': u'2015-08-27 11:12:20-07:00', u'altitude': 0, u'ts': 1440699140.0, u'longitude': -122.2601102, u'latitude': 37.8750076, '_id': ObjectId('55df5a8f7d65cb39ee98699e'), u'heading': 0, u'sensed_speed': 0, u'accuracy': 40.5}) to line_string \n"
       ]
      },
      {
       "output_type": "stream",
       "stream": "stderr",
       "text": [
        "DEBUG:root:About to add Location({u'loc': {u'type': u'Point', u'coordinates': [-122.2603031, 37.8750865]}, u'fmt_time': u'2015-08-27 11:12:58.184000-07:00', u'altitude': 0, u'ts': 1440699178.184, u'longitude': -122.2603031, u'latitude': 37.8750865, '_id': ObjectId('55df5a8f7d65cb39ee9869a1'), u'heading': 0, u'sensed_speed': 0, u'accuracy': 24.531}) to line_string \n"
       ]
      },
      {
       "output_type": "stream",
       "stream": "stderr",
       "text": [
        "DEBUG:root:About to add Location({u'loc': {u'type': u'Point', u'coordinates': [-122.2603195, 37.8750871]}, u'fmt_time': u'2015-08-27 11:13:14.180000-07:00', u'altitude': 0, u'ts': 1440699194.18, u'longitude': -122.2603195, u'latitude': 37.8750871, '_id': ObjectId('55df5a8f7d65cb39ee9869a4'), u'heading': 0, u'sensed_speed': 0, u'accuracy': 23.619}) to line_string \n"
       ]
      },
      {
       "output_type": "stream",
       "stream": "stderr",
       "text": [
        "DEBUG:root:About to add Location({u'loc': {u'type': u'Point', u'coordinates': [-122.2603247, 37.8750154]}, u'fmt_time': u'2015-08-27 11:13:54.834000-07:00', u'altitude': 0, u'ts': 1440699234.834, u'longitude': -122.2603247, u'latitude': 37.8750154, '_id': ObjectId('55df5a8f7d65cb39ee9869a7'), u'heading': 0, u'sensed_speed': 0, u'accuracy': 33.0}) to line_string \n"
       ]
      },
      {
       "output_type": "stream",
       "stream": "stderr",
       "text": [
        "DEBUG:root:About to add Location({u'loc': {u'type': u'Point', u'coordinates': [-122.2603947, 37.875023]}, u'fmt_time': u'2015-08-27 11:14:26.669000-07:00', u'altitude': 0, u'ts': 1440699266.669, u'longitude': -122.2603947, u'latitude': 37.875023, '_id': ObjectId('55df5a8f7d65cb39ee9869aa'), u'heading': 0, u'sensed_speed': 0, u'accuracy': 30.0}) to line_string \n"
       ]
      },
      {
       "output_type": "stream",
       "stream": "stderr",
       "text": [
        "DEBUG:root:About to execute query {'trip_id': ObjectId('5603ae0cf6858f0cbbb60556'), 'user_id': UUID('0763de67-f61e-3f5d-90e7-518e69793954')}\n"
       ]
      },
      {
       "output_type": "stream",
       "stream": "stderr",
       "text": [
        "DEBUG:root:len(places) = 0, len(trips) = 0\n"
       ]
      },
      {
       "output_type": "stream",
       "stream": "stderr",
       "text": [
        "DEBUG:root:Starting with element of type none, id None, details None\n"
       ]
      },
      {
       "output_type": "stream",
       "stream": "stderr",
       "text": [
        "DEBUG:root:About to execute query {'trip_id': ObjectId('5603ae0cf6858f0cbbb60558'), 'user_id': UUID('0763de67-f61e-3f5d-90e7-518e69793954')}\n"
       ]
      },
      {
       "output_type": "stream",
       "stream": "stderr",
       "text": [
        "DEBUG:root:len(places) = 1, len(trips) = 2\n"
       ]
      },
      {
       "output_type": "stream",
       "stream": "stderr",
       "text": [
        "DEBUG:root:Starting with element of type trip, id 5603ae10f6858f0cbbb6058b, details Section({u'user_id': UUID('0763de67-f61e-3f5d-90e7-518e69793954'), u'sensed_mode': 0, u'start_loc': {u'type': u'Point', u'coordinates': [-122.2714736, 37.8471355]}, u'end_ts': 1440719519.226, u'start_ts': 1440716367.376, u'start_fmt_time': u'2015-08-27 15:59:27.376000-07:00', u'end_loc': {u'type': u'Point', u'coordinates': [-122.3872753, 37.5992646]}, u'source': u'SmoothedHighConfidenceMotion', u'end_fmt_time': u'2015-08-27 16:51:59.226000-07:00', u'duration': 3151.850000143051, u'end_stop': ObjectId('5603ae10f6858f0cbbb6058d'), u'_id': ObjectId('5603ae10f6858f0cbbb6058b'), u'trip_id': ObjectId('5603ae0cf6858f0cbbb60558')})\n"
       ]
      },
      {
       "output_type": "stream",
       "stream": "stderr",
       "text": [
        "DEBUG:root:sort_key = metadata.write_ts\n"
       ]
      },
      {
       "output_type": "stream",
       "stream": "stderr",
       "text": [
        "DEBUG:root:ret_val = {u'loc': {u'type': u'Point', u'coordinates': [-122.2714736, 37.8471355]}, u'fmt_time': u'2015-08-27 15:59:27.376000-07:00', u'altitude': 0, u'ts': 1440716367.376, u'longitude': -122.2714736, u'latitude': 37.8471355, '_id': ObjectId('55dfad477d65cb39ee986b76'), u'heading': 0, u'sensed_speed': 0, u'accuracy': 45} \n"
       ]
      },
      {
       "output_type": "stream",
       "stream": "stderr",
       "text": [
        "DEBUG:root:ret_val = {u'loc': {u'type': u'Point', u'coordinates': [-122.2713142, 37.8465722]}, u'fmt_time': u'2015-08-27 15:59:32.411000-07:00', u'altitude': 0, u'ts': 1440716372.411, u'longitude': -122.2713142, u'latitude': 37.8465722, '_id': ObjectId('55dfad477d65cb39ee986b78'), u'heading': 0, u'sensed_speed': 0, u'accuracy': 24.961} \n"
       ]
      },
      {
       "output_type": "stream",
       "stream": "stderr",
       "text": [
        "DEBUG:root:ret_val = {u'loc': {u'type': u'Point', u'coordinates': [-122.2698728, 37.8405014]}, u'fmt_time': u'2015-08-27 16:00:01.849000-07:00', u'altitude': 0, u'ts': 1440716401.849, u'longitude': -122.2698728, u'latitude': 37.8405014, '_id': ObjectId('55dfad477d65cb39ee986b7b'), u'heading': 0, u'sensed_speed': 0, u'accuracy': 30} \n"
       ]
      },
      {
       "output_type": "stream",
       "stream": "stderr",
       "text": [
        "DEBUG:root:ret_val = {u'loc': {u'type': u'Point', u'coordinates': [-122.2674686, 37.8353014]}, u'fmt_time': u'2015-08-27 16:00:32.436000-07:00', u'altitude': 0, u'ts': 1440716432.436, u'longitude': -122.2674686, u'latitude': 37.8353014, '_id': ObjectId('55dfad477d65cb39ee986b7e'), u'heading': 0, u'sensed_speed': 0, u'accuracy': 51} \n"
       ]
      },
      {
       "output_type": "stream",
       "stream": "stderr",
       "text": [
        "DEBUG:root:ret_val = {u'loc': {u'type': u'Point', u'coordinates': [-122.2675635, 37.8285015]}, u'fmt_time': u'2015-08-27 16:01:32.473000-07:00', u'altitude': 0, u'ts': 1440716492.473, u'longitude': -122.2675635, u'latitude': 37.8285015, '_id': ObjectId('55dfad477d65cb39ee986b82'), u'heading': 0, u'sensed_speed': 0, u'accuracy': 40.5} \n"
       ]
      },
      {
       "output_type": "stream",
       "stream": "stderr",
       "text": [
        "DEBUG:root:ret_val = {u'loc': {u'type': u'Point', u'coordinates': [-122.2675635, 37.8285015]}, u'fmt_time': u'2015-08-27 16:02:02.141000-07:00', u'altitude': 0, u'ts': 1440716522.141, u'longitude': -122.2675635, u'latitude': 37.8285015, '_id': ObjectId('55dfad477d65cb39ee986b85'), u'heading': 0, u'sensed_speed': 0, u'accuracy': 85.001} \n"
       ]
      },
      {
       "output_type": "stream",
       "stream": "stderr",
       "text": [
        "DEBUG:root:ret_val = {u'loc': {u'type': u'Point', u'coordinates': [-122.2676128, 37.8280289]}, u'fmt_time': u'2015-08-27 16:02:32.535000-07:00', u'altitude': 0, u'ts': 1440716552.535, u'longitude': -122.2676128, u'latitude': 37.8280289, '_id': ObjectId('55dfad487d65cb39ee986b87'), u'heading': 0, u'sensed_speed': 0, u'accuracy': 45} \n"
       ]
      },
      {
       "output_type": "stream",
       "stream": "stderr",
       "text": [
        "DEBUG:root:ret_val = {u'loc': {u'type': u'Point', u'coordinates': [-122.2687873, 37.8225589]}, u'fmt_time': u'2015-08-27 16:03:02.586000-07:00', u'altitude': 0, u'ts': 1440716582.586, u'longitude': -122.2687873, u'latitude': 37.8225589, '_id': ObjectId('55dfad487d65cb39ee986b8a'), u'heading': 0, u'sensed_speed': 0, u'accuracy': 55.5} \n"
       ]
      },
      {
       "output_type": "stream",
       "stream": "stderr",
       "text": [
        "DEBUG:root:ret_val = {u'loc': {u'type': u'Point', u'coordinates': [-122.2703874, 37.813929]}, u'fmt_time': u'2015-08-27 16:04:02.609000-07:00', u'altitude': 0, u'ts': 1440716642.609, u'longitude': -122.2703874, u'latitude': 37.813929, '_id': ObjectId('55dfad487d65cb39ee986b8f'), u'heading': 0, u'sensed_speed': 0, u'accuracy': 36} \n"
       ]
      },
      {
       "output_type": "stream",
       "stream": "stderr",
       "text": [
        "DEBUG:root:ret_val = {u'loc': {u'type': u'Point', u'coordinates': [-122.2788226, 37.7992095]}, u'fmt_time': u'2015-08-27 16:09:03.024000-07:00', u'altitude': 0, u'ts': 1440716943.024, u'longitude': -122.2788226, u'latitude': 37.7992095, '_id': ObjectId('55dfad497d65cb39ee986ba4'), u'heading': 0, u'sensed_speed': 0, u'accuracy': 37.5} \n"
       ]
      },
      {
       "output_type": "stream",
       "stream": "stderr",
       "text": [
        "DEBUG:root:ret_val = {u'loc': {u'type': u'Point', u'coordinates': [-122.2823074, 37.8005129]}, u'fmt_time': u'2015-08-27 16:09:33.060000-07:00', u'altitude': 0, u'ts': 1440716973.06, u'longitude': -122.2823074, u'latitude': 37.8005129, '_id': ObjectId('55dfad4a7d65cb39ee986ba7'), u'heading': 0, u'sensed_speed': 0, u'accuracy': 37.5} \n"
       ]
      },
      {
       "output_type": "stream",
       "stream": "stderr",
       "text": [
        "DEBUG:root:ret_val = {u'loc': {u'type': u'Point', u'coordinates': [-122.2920239, 37.8042275]}, u'fmt_time': u'2015-08-27 16:10:33.129000-07:00', u'altitude': 0, u'ts': 1440717033.129, u'longitude': -122.2920239, u'latitude': 37.8042275, '_id': ObjectId('55dfad4a7d65cb39ee986bac'), u'heading': 0, u'sensed_speed': 0, u'accuracy': 39} \n"
       ]
      },
      {
       "output_type": "stream",
       "stream": "stderr",
       "text": [
        "DEBUG:root:ret_val = {u'loc': {u'type': u'Point', u'coordinates': [-122.2940305, 37.8047897]}, u'fmt_time': u'2015-08-27 16:11:03.157000-07:00', u'altitude': 0, u'ts': 1440717063.157, u'longitude': -122.2940305, u'latitude': 37.8047897, '_id': ObjectId('55dfad4a7d65cb39ee986bae'), u'heading': 0, u'sensed_speed': 0, u'accuracy': 45} \n"
       ]
      },
      {
       "output_type": "stream",
       "stream": "stderr",
       "text": [
        "DEBUG:root:ret_val = {u'loc': {u'type': u'Point', u'coordinates': [-122.2943285, 37.8046422]}, u'fmt_time': u'2015-08-27 16:11:33.193000-07:00', u'altitude': 0, u'ts': 1440717093.193, u'longitude': -122.2943285, u'latitude': 37.8046422, '_id': ObjectId('55dfad4a7d65cb39ee986bb1'), u'heading': 0, u'sensed_speed': 0, u'accuracy': 39} \n"
       ]
      },
      {
       "output_type": "stream",
       "stream": "stderr",
       "text": [
        "DEBUG:root:ret_val = {u'loc': {u'type': u'Point', u'coordinates': [-122.3002167, 37.8065197]}, u'fmt_time': u'2015-08-27 16:12:03.216000-07:00', u'altitude': 0, u'ts': 1440717123.216, u'longitude': -122.3002167, u'latitude': 37.8065197, '_id': ObjectId('55dfad4a7d65cb39ee986bb3'), u'heading': 0, u'sensed_speed': 0, u'accuracy': 30} \n"
       ]
      },
      {
       "output_type": "stream",
       "stream": "stderr",
       "text": [
        "DEBUG:root:ret_val = {u'loc': {u'type': u'Point', u'coordinates': [-122.3070424, 37.8081188]}, u'fmt_time': u'2015-08-27 16:12:33.230000-07:00', u'altitude': 0, u'ts': 1440717153.23, u'longitude': -122.3070424, u'latitude': 37.8081188, '_id': ObjectId('55dfad4b7d65cb39ee986bb6'), u'heading': 0, u'sensed_speed': 0, u'accuracy': 144} \n"
       ]
      },
      {
       "output_type": "stream",
       "stream": "stderr",
       "text": [
        "DEBUG:root:ret_val = {u'loc': {u'type': u'Point', u'coordinates': [-122.4543726, 37.7110586]}, u'fmt_time': u'2015-08-27 16:33:32.667000-07:00', u'altitude': 0, u'ts': 1440718412.667, u'longitude': -122.4543726, u'latitude': 37.7110586, '_id': ObjectId('55dfad507d65cb39ee986c06'), u'heading': 0, u'sensed_speed': 0, u'accuracy': 40.5} \n"
       ]
      },
      {
       "output_type": "stream",
       "stream": "stderr",
       "text": [
        "DEBUG:root:ret_val = {u'loc': {u'type': u'Point', u'coordinates': [-122.4578115, 37.7102444]}, u'fmt_time': u'2015-08-27 16:34:32.736000-07:00', u'altitude': 0, u'ts': 1440718472.736, u'longitude': -122.4578115, u'latitude': 37.7102444, '_id': ObjectId('55dfad507d65cb39ee986c09'), u'heading': 0, u'sensed_speed': 0, u'accuracy': 57} \n"
       ]
      },
      {
       "output_type": "stream",
       "stream": "stderr",
       "text": [
        "DEBUG:root:ret_val = {u'loc': {u'type': u'Point', u'coordinates': [-122.4578115, 37.7102444]}, u'fmt_time': u'2015-08-27 16:35:01.766000-07:00', u'altitude': 0, u'ts': 1440718501.766, u'longitude': -122.4578115, u'latitude': 37.7102444, '_id': ObjectId('55dfad507d65cb39ee986c0c'), u'heading': 0, u'sensed_speed': 0, u'accuracy': 100.546} \n"
       ]
      },
      {
       "output_type": "stream",
       "stream": "stderr",
       "text": [
        "DEBUG:root:ret_val = {u'loc': {u'type': u'Point', u'coordinates': [-122.4578115, 37.7102444]}, u'fmt_time': u'2015-08-27 16:35:31.791000-07:00', u'altitude': 0, u'ts': 1440718531.791, u'longitude': -122.4578115, u'latitude': 37.7102444, '_id': ObjectId('55dfad517d65cb39ee986c0e'), u'heading': 0, u'sensed_speed': 0, u'accuracy': 145.582} \n"
       ]
      },
      {
       "output_type": "stream",
       "stream": "stderr",
       "text": [
        "DEBUG:root:ret_val = {u'loc': {u'type': u'Point', u'coordinates': [-122.4578115, 37.7102444]}, u'fmt_time': u'2015-08-27 16:36:01.814000-07:00', u'altitude': 0, u'ts': 1440718561.814, u'longitude': -122.4578115, u'latitude': 37.7102444, '_id': ObjectId('55dfad517d65cb39ee986c12'), u'heading': 0, u'sensed_speed': 0, u'accuracy': 190.616} \n"
       ]
      },
      {
       "output_type": "stream",
       "stream": "stderr",
       "text": [
        "DEBUG:root:ret_val = {u'loc': {u'type': u'Point', u'coordinates': [-122.3872753, 37.5992646]}, u'fmt_time': u'2015-08-27 16:51:59.226000-07:00', u'altitude': 0, u'ts': 1440719519.226, u'longitude': -122.3872753, u'latitude': 37.5992646, '_id': ObjectId('55dfad557d65cb39ee986c45'), u'heading': 0, u'sensed_speed': 0, u'accuracy': 39} \n"
       ]
      },
      {
       "output_type": "stream",
       "stream": "stderr",
       "text": [
        "DEBUG:root:points_df.columns = Index([u'_id', u'accuracy', u'altitude', u'fmt_time', u'heading', u'latitude', u'loc', u'longitude', u'sensed_speed', u'ts'], dtype='object')\n"
       ]
      },
      {
       "output_type": "stream",
       "stream": "stderr",
       "text": [
        "DEBUG:root:first element in section_location_array = Location({u'loc': {u'type': u'Point', u'coordinates': [-122.2714736, 37.8471355]}, u'fmt_time': u'2015-08-27 15:59:27.376000-07:00', u'altitude': 0, u'ts': 1440716367.376, u'longitude': -122.2714736, u'latitude': 37.8471355, '_id': ObjectId('55dfad477d65cb39ee986b76'), u'heading': 0, u'sensed_speed': 0, u'accuracy': 45.0})\n"
       ]
      },
      {
       "output_type": "stream",
       "stream": "stderr",
       "text": [
        "DEBUG:root:About to add Location({u'loc': {u'type': u'Point', u'coordinates': [-122.2714736, 37.8471355]}, u'fmt_time': u'2015-08-27 15:59:27.376000-07:00', u'altitude': 0, u'ts': 1440716367.376, u'longitude': -122.2714736, u'latitude': 37.8471355, '_id': ObjectId('55dfad477d65cb39ee986b76'), u'heading': 0, u'sensed_speed': 0, u'accuracy': 45.0}) to line_string \n"
       ]
      },
      {
       "output_type": "stream",
       "stream": "stderr",
       "text": [
        "DEBUG:root:About to add Location({u'loc': {u'type': u'Point', u'coordinates': [-122.2713142, 37.8465722]}, u'fmt_time': u'2015-08-27 15:59:32.411000-07:00', u'altitude': 0, u'ts': 1440716372.411, u'longitude': -122.2713142, u'latitude': 37.8465722, '_id': ObjectId('55dfad477d65cb39ee986b78'), u'heading': 0, u'sensed_speed': 0, u'accuracy': 24.961}) to line_string \n"
       ]
      },
      {
       "output_type": "stream",
       "stream": "stderr",
       "text": [
        "DEBUG:root:About to add Location({u'loc': {u'type': u'Point', u'coordinates': [-122.2698728, 37.8405014]}, u'fmt_time': u'2015-08-27 16:00:01.849000-07:00', u'altitude': 0, u'ts': 1440716401.849, u'longitude': -122.2698728, u'latitude': 37.8405014, '_id': ObjectId('55dfad477d65cb39ee986b7b'), u'heading': 0, u'sensed_speed': 0, u'accuracy': 30.0}) to line_string \n"
       ]
      },
      {
       "output_type": "stream",
       "stream": "stderr",
       "text": [
        "DEBUG:root:About to add Location({u'loc': {u'type': u'Point', u'coordinates': [-122.2674686, 37.8353014]}, u'fmt_time': u'2015-08-27 16:00:32.436000-07:00', u'altitude': 0, u'ts': 1440716432.436, u'longitude': -122.2674686, u'latitude': 37.8353014, '_id': ObjectId('55dfad477d65cb39ee986b7e'), u'heading': 0, u'sensed_speed': 0, u'accuracy': 51.0}) to line_string \n"
       ]
      },
      {
       "output_type": "stream",
       "stream": "stderr",
       "text": [
        "DEBUG:root:About to add Location({u'loc': {u'type': u'Point', u'coordinates': [-122.2675635, 37.8285015]}, u'fmt_time': u'2015-08-27 16:01:32.473000-07:00', u'altitude': 0, u'ts': 1440716492.473, u'longitude': -122.2675635, u'latitude': 37.8285015, '_id': ObjectId('55dfad477d65cb39ee986b82'), u'heading': 0, u'sensed_speed': 0, u'accuracy': 40.5}) to line_string \n"
       ]
      },
      {
       "output_type": "stream",
       "stream": "stderr",
       "text": [
        "DEBUG:root:About to add Location({u'loc': {u'type': u'Point', u'coordinates': [-122.2675635, 37.8285015]}, u'fmt_time': u'2015-08-27 16:02:02.141000-07:00', u'altitude': 0, u'ts': 1440716522.141, u'longitude': -122.2675635, u'latitude': 37.8285015, '_id': ObjectId('55dfad477d65cb39ee986b85'), u'heading': 0, u'sensed_speed': 0, u'accuracy': 85.001}) to line_string \n"
       ]
      },
      {
       "output_type": "stream",
       "stream": "stderr",
       "text": [
        "DEBUG:root:About to add Location({u'loc': {u'type': u'Point', u'coordinates': [-122.2676128, 37.8280289]}, u'fmt_time': u'2015-08-27 16:02:32.535000-07:00', u'altitude': 0, u'ts': 1440716552.535, u'longitude': -122.2676128, u'latitude': 37.8280289, '_id': ObjectId('55dfad487d65cb39ee986b87'), u'heading': 0, u'sensed_speed': 0, u'accuracy': 45.0}) to line_string \n"
       ]
      },
      {
       "output_type": "stream",
       "stream": "stderr",
       "text": [
        "DEBUG:root:About to add Location({u'loc': {u'type': u'Point', u'coordinates': [-122.2687873, 37.8225589]}, u'fmt_time': u'2015-08-27 16:03:02.586000-07:00', u'altitude': 0, u'ts': 1440716582.586, u'longitude': -122.2687873, u'latitude': 37.8225589, '_id': ObjectId('55dfad487d65cb39ee986b8a'), u'heading': 0, u'sensed_speed': 0, u'accuracy': 55.5}) to line_string \n"
       ]
      },
      {
       "output_type": "stream",
       "stream": "stderr",
       "text": [
        "DEBUG:root:About to add Location({u'loc': {u'type': u'Point', u'coordinates': [-122.2703874, 37.813929]}, u'fmt_time': u'2015-08-27 16:04:02.609000-07:00', u'altitude': 0, u'ts': 1440716642.609, u'longitude': -122.2703874, u'latitude': 37.813929, '_id': ObjectId('55dfad487d65cb39ee986b8f'), u'heading': 0, u'sensed_speed': 0, u'accuracy': 36.0}) to line_string \n"
       ]
      },
      {
       "output_type": "stream",
       "stream": "stderr",
       "text": [
        "DEBUG:root:About to add Location({u'loc': {u'type': u'Point', u'coordinates': [-122.2788226, 37.7992095]}, u'fmt_time': u'2015-08-27 16:09:03.024000-07:00', u'altitude': 0, u'ts': 1440716943.024, u'longitude': -122.2788226, u'latitude': 37.7992095, '_id': ObjectId('55dfad497d65cb39ee986ba4'), u'heading': 0, u'sensed_speed': 0, u'accuracy': 37.5}) to line_string \n"
       ]
      },
      {
       "output_type": "stream",
       "stream": "stderr",
       "text": [
        "DEBUG:root:About to add Location({u'loc': {u'type': u'Point', u'coordinates': [-122.2823074, 37.8005129]}, u'fmt_time': u'2015-08-27 16:09:33.060000-07:00', u'altitude': 0, u'ts': 1440716973.06, u'longitude': -122.2823074, u'latitude': 37.8005129, '_id': ObjectId('55dfad4a7d65cb39ee986ba7'), u'heading': 0, u'sensed_speed': 0, u'accuracy': 37.5}) to line_string \n"
       ]
      },
      {
       "output_type": "stream",
       "stream": "stderr",
       "text": [
        "DEBUG:root:About to add Location({u'loc': {u'type': u'Point', u'coordinates': [-122.2920239, 37.8042275]}, u'fmt_time': u'2015-08-27 16:10:33.129000-07:00', u'altitude': 0, u'ts': 1440717033.129, u'longitude': -122.2920239, u'latitude': 37.8042275, '_id': ObjectId('55dfad4a7d65cb39ee986bac'), u'heading': 0, u'sensed_speed': 0, u'accuracy': 39.0}) to line_string \n"
       ]
      },
      {
       "output_type": "stream",
       "stream": "stderr",
       "text": [
        "DEBUG:root:About to add Location({u'loc': {u'type': u'Point', u'coordinates': [-122.2940305, 37.8047897]}, u'fmt_time': u'2015-08-27 16:11:03.157000-07:00', u'altitude': 0, u'ts': 1440717063.157, u'longitude': -122.2940305, u'latitude': 37.8047897, '_id': ObjectId('55dfad4a7d65cb39ee986bae'), u'heading': 0, u'sensed_speed': 0, u'accuracy': 45.0}) to line_string \n"
       ]
      },
      {
       "output_type": "stream",
       "stream": "stderr",
       "text": [
        "DEBUG:root:About to add Location({u'loc': {u'type': u'Point', u'coordinates': [-122.2943285, 37.8046422]}, u'fmt_time': u'2015-08-27 16:11:33.193000-07:00', u'altitude': 0, u'ts': 1440717093.193, u'longitude': -122.2943285, u'latitude': 37.8046422, '_id': ObjectId('55dfad4a7d65cb39ee986bb1'), u'heading': 0, u'sensed_speed': 0, u'accuracy': 39.0}) to line_string \n"
       ]
      },
      {
       "output_type": "stream",
       "stream": "stderr",
       "text": [
        "DEBUG:root:About to add Location({u'loc': {u'type': u'Point', u'coordinates': [-122.3002167, 37.8065197]}, u'fmt_time': u'2015-08-27 16:12:03.216000-07:00', u'altitude': 0, u'ts': 1440717123.216, u'longitude': -122.3002167, u'latitude': 37.8065197, '_id': ObjectId('55dfad4a7d65cb39ee986bb3'), u'heading': 0, u'sensed_speed': 0, u'accuracy': 30.0}) to line_string \n"
       ]
      },
      {
       "output_type": "stream",
       "stream": "stderr",
       "text": [
        "DEBUG:root:About to add Location({u'loc': {u'type': u'Point', u'coordinates': [-122.3070424, 37.8081188]}, u'fmt_time': u'2015-08-27 16:12:33.230000-07:00', u'altitude': 0, u'ts': 1440717153.23, u'longitude': -122.3070424, u'latitude': 37.8081188, '_id': ObjectId('55dfad4b7d65cb39ee986bb6'), u'heading': 0, u'sensed_speed': 0, u'accuracy': 144.0}) to line_string \n"
       ]
      },
      {
       "output_type": "stream",
       "stream": "stderr",
       "text": [
        "DEBUG:root:About to add Location({u'loc': {u'type': u'Point', u'coordinates': [-122.4543726, 37.7110586]}, u'fmt_time': u'2015-08-27 16:33:32.667000-07:00', u'altitude': 0, u'ts': 1440718412.667, u'longitude': -122.4543726, u'latitude': 37.7110586, '_id': ObjectId('55dfad507d65cb39ee986c06'), u'heading': 0, u'sensed_speed': 0, u'accuracy': 40.5}) to line_string \n"
       ]
      },
      {
       "output_type": "stream",
       "stream": "stderr",
       "text": [
        "DEBUG:root:About to add Location({u'loc': {u'type': u'Point', u'coordinates': [-122.4578115, 37.7102444]}, u'fmt_time': u'2015-08-27 16:34:32.736000-07:00', u'altitude': 0, u'ts': 1440718472.736, u'longitude': -122.4578115, u'latitude': 37.7102444, '_id': ObjectId('55dfad507d65cb39ee986c09'), u'heading': 0, u'sensed_speed': 0, u'accuracy': 57.0}) to line_string \n"
       ]
      },
      {
       "output_type": "stream",
       "stream": "stderr",
       "text": [
        "DEBUG:root:About to add Location({u'loc': {u'type': u'Point', u'coordinates': [-122.4578115, 37.7102444]}, u'fmt_time': u'2015-08-27 16:35:01.766000-07:00', u'altitude': 0, u'ts': 1440718501.766, u'longitude': -122.4578115, u'latitude': 37.7102444, '_id': ObjectId('55dfad507d65cb39ee986c0c'), u'heading': 0, u'sensed_speed': 0, u'accuracy': 100.546}) to line_string \n"
       ]
      },
      {
       "output_type": "stream",
       "stream": "stderr",
       "text": [
        "DEBUG:root:About to add Location({u'loc': {u'type': u'Point', u'coordinates': [-122.4578115, 37.7102444]}, u'fmt_time': u'2015-08-27 16:35:31.791000-07:00', u'altitude': 0, u'ts': 1440718531.791, u'longitude': -122.4578115, u'latitude': 37.7102444, '_id': ObjectId('55dfad517d65cb39ee986c0e'), u'heading': 0, u'sensed_speed': 0, u'accuracy': 145.582}) to line_string \n"
       ]
      },
      {
       "output_type": "stream",
       "stream": "stderr",
       "text": [
        "DEBUG:root:About to add Location({u'loc': {u'type': u'Point', u'coordinates': [-122.4578115, 37.7102444]}, u'fmt_time': u'2015-08-27 16:36:01.814000-07:00', u'altitude': 0, u'ts': 1440718561.814, u'longitude': -122.4578115, u'latitude': 37.7102444, '_id': ObjectId('55dfad517d65cb39ee986c12'), u'heading': 0, u'sensed_speed': 0, u'accuracy': 190.616}) to line_string \n"
       ]
      },
      {
       "output_type": "stream",
       "stream": "stderr",
       "text": [
        "DEBUG:root:About to add Location({u'loc': {u'type': u'Point', u'coordinates': [-122.3872753, 37.5992646]}, u'fmt_time': u'2015-08-27 16:51:59.226000-07:00', u'altitude': 0, u'ts': 1440719519.226, u'longitude': -122.3872753, u'latitude': 37.5992646, '_id': ObjectId('55dfad557d65cb39ee986c45'), u'heading': 0, u'sensed_speed': 0, u'accuracy': 39.0}) to line_string \n"
       ]
      },
      {
       "output_type": "stream",
       "stream": "stderr",
       "text": [
        "DEBUG:root:sort_key = metadata.write_ts\n"
       ]
      },
      {
       "output_type": "stream",
       "stream": "stderr",
       "text": [
        "DEBUG:root:ret_val = {u'loc': {u'type': u'Point', u'coordinates': [-122.3872511, 37.5992711]}, u'fmt_time': u'2015-08-27 16:52:59.435000-07:00', u'altitude': 0, u'ts': 1440719579.435, u'longitude': -122.3872511, u'latitude': 37.5992711, '_id': ObjectId('55dfad557d65cb39ee986c4b'), u'heading': 0, u'sensed_speed': 0, u'accuracy': 58.5} \n"
       ]
      },
      {
       "output_type": "stream",
       "stream": "stderr",
       "text": [
        "DEBUG:root:ret_val = {u'loc': {u'type': u'Point', u'coordinates': [-122.387178, 37.5992977]}, u'fmt_time': u'2015-08-27 16:53:13.163000-07:00', u'altitude': 0, u'ts': 1440719593.163, u'longitude': -122.387178, u'latitude': 37.5992977, '_id': ObjectId('55dfad557d65cb39ee986c50'), u'heading': 0, u'sensed_speed': 0, u'accuracy': 83.464} \n"
       ]
      },
      {
       "output_type": "stream",
       "stream": "stderr",
       "text": [
        "DEBUG:root:ret_val = {u'loc': {u'type': u'Point', u'coordinates': [-122.3870778, 37.5992896]}, u'fmt_time': u'2015-08-27 16:53:59.354000-07:00', u'altitude': 0, u'ts': 1440719639.354, u'longitude': -122.3870778, u'latitude': 37.5992896, '_id': ObjectId('55dfad567d65cb39ee986c55'), u'heading': 0, u'sensed_speed': 0, u'accuracy': 71.811} \n"
       ]
      },
      {
       "output_type": "stream",
       "stream": "stderr",
       "text": [
        "DEBUG:root:ret_val = {u'loc': {u'type': u'Point', u'coordinates': [-122.3870874, 37.5992924]}, u'fmt_time': u'2015-08-27 16:54:28.317000-07:00', u'altitude': 0, u'ts': 1440719668.317, u'longitude': -122.3870874, u'latitude': 37.5992924, '_id': ObjectId('55dfad567d65cb39ee986c57'), u'heading': 0, u'sensed_speed': 0, u'accuracy': 71.78} \n"
       ]
      },
      {
       "output_type": "stream",
       "stream": "stderr",
       "text": [
        "DEBUG:root:points_df.columns = Index([u'_id', u'accuracy', u'altitude', u'fmt_time', u'heading', u'latitude', u'loc', u'longitude', u'sensed_speed', u'ts'], dtype='object')\n"
       ]
      },
      {
       "output_type": "stream",
       "stream": "stderr",
       "text": [
        "DEBUG:root:first element in section_location_array = Location({u'loc': {u'type': u'Point', u'coordinates': [-122.3872511, 37.5992711]}, u'fmt_time': u'2015-08-27 16:52:59.435000-07:00', u'altitude': 0, u'ts': 1440719579.435, u'longitude': -122.3872511, u'latitude': 37.5992711, '_id': ObjectId('55dfad557d65cb39ee986c4b'), u'heading': 0, u'sensed_speed': 0, u'accuracy': 58.5})\n"
       ]
      },
      {
       "output_type": "stream",
       "stream": "stderr",
       "text": [
        "DEBUG:root:About to add Location({u'loc': {u'type': u'Point', u'coordinates': [-122.3872511, 37.5992711]}, u'fmt_time': u'2015-08-27 16:52:59.435000-07:00', u'altitude': 0, u'ts': 1440719579.435, u'longitude': -122.3872511, u'latitude': 37.5992711, '_id': ObjectId('55dfad557d65cb39ee986c4b'), u'heading': 0, u'sensed_speed': 0, u'accuracy': 58.5}) to line_string \n"
       ]
      },
      {
       "output_type": "stream",
       "stream": "stderr",
       "text": [
        "DEBUG:root:About to add Location({u'loc': {u'type': u'Point', u'coordinates': [-122.387178, 37.5992977]}, u'fmt_time': u'2015-08-27 16:53:13.163000-07:00', u'altitude': 0, u'ts': 1440719593.163, u'longitude': -122.387178, u'latitude': 37.5992977, '_id': ObjectId('55dfad557d65cb39ee986c50'), u'heading': 0, u'sensed_speed': 0, u'accuracy': 83.464}) to line_string \n"
       ]
      },
      {
       "output_type": "stream",
       "stream": "stderr",
       "text": [
        "DEBUG:root:About to add Location({u'loc': {u'type': u'Point', u'coordinates': [-122.3870778, 37.5992896]}, u'fmt_time': u'2015-08-27 16:53:59.354000-07:00', u'altitude': 0, u'ts': 1440719639.354, u'longitude': -122.3870778, u'latitude': 37.5992896, '_id': ObjectId('55dfad567d65cb39ee986c55'), u'heading': 0, u'sensed_speed': 0, u'accuracy': 71.811}) to line_string \n"
       ]
      },
      {
       "output_type": "stream",
       "stream": "stderr",
       "text": [
        "DEBUG:root:About to add Location({u'loc': {u'type': u'Point', u'coordinates': [-122.3870874, 37.5992924]}, u'fmt_time': u'2015-08-27 16:54:28.317000-07:00', u'altitude': 0, u'ts': 1440719668.317, u'longitude': -122.3870874, u'latitude': 37.5992924, '_id': ObjectId('55dfad567d65cb39ee986c57'), u'heading': 0, u'sensed_speed': 0, u'accuracy': 71.78}) to line_string \n"
       ]
      },
      {
       "output_type": "stream",
       "stream": "stderr",
       "text": [
        "DEBUG:root:About to execute query {'trip_id': ObjectId('5603ae0cf6858f0cbbb6055a'), 'user_id': UUID('0763de67-f61e-3f5d-90e7-518e69793954')}\n"
       ]
      },
      {
       "output_type": "stream",
       "stream": "stderr",
       "text": [
        "DEBUG:root:len(places) = 3, len(trips) = 4\n"
       ]
      },
      {
       "output_type": "stream",
       "stream": "stderr",
       "text": [
        "DEBUG:root:Starting with element of type trip, id 5603ae10f6858f0cbbb6058e, details Section({u'user_id': UUID('0763de67-f61e-3f5d-90e7-518e69793954'), u'sensed_mode': 0, u'start_loc': {u'type': u'Point', u'coordinates': [-122.3446802, 37.57984]}, u'end_ts': 1440722584.229, u'start_ts': 1440720239.012, u'start_fmt_time': u'2015-08-27 17:03:59.012000-07:00', u'end_loc': {u'type': u'Point', u'coordinates': [-122.0779499, 37.3959236]}, u'source': u'SmoothedHighConfidenceMotion', u'end_fmt_time': u'2015-08-27 17:43:04.229000-07:00', u'duration': 2345.2170000076294, u'end_stop': ObjectId('5603ae10f6858f0cbbb60590'), u'_id': ObjectId('5603ae10f6858f0cbbb6058e'), u'trip_id': ObjectId('5603ae0cf6858f0cbbb6055a')})\n"
       ]
      },
      {
       "output_type": "stream",
       "stream": "stderr",
       "text": [
        "DEBUG:root:sort_key = metadata.write_ts\n"
       ]
      },
      {
       "output_type": "stream",
       "stream": "stderr",
       "text": [
        "DEBUG:root:ret_val = {u'loc': {u'type': u'Point', u'coordinates': [-122.3446802, 37.57984]}, u'fmt_time': u'2015-08-27 17:03:59.012000-07:00', u'altitude': 0, u'ts': 1440720239.012, u'longitude': -122.3446802, u'latitude': 37.57984, '_id': ObjectId('55dfad587d65cb39ee986c77'), u'heading': 0, u'sensed_speed': 0, u'accuracy': 40.5} \n"
       ]
      },
      {
       "output_type": "stream",
       "stream": "stderr",
       "text": [
        "DEBUG:root:ret_val = {u'loc': {u'type': u'Point', u'coordinates': [-122.3446799, 37.5798403]}, u'fmt_time': u'2015-08-27 17:04:29.083000-07:00', u'altitude': 0, u'ts': 1440720269.083, u'longitude': -122.3446799, u'latitude': 37.5798403, '_id': ObjectId('55dfad587d65cb39ee986c7a'), u'heading': 0, u'sensed_speed': 0, u'accuracy': 40.5} \n"
       ]
      },
      {
       "output_type": "stream",
       "stream": "stderr",
       "text": [
        "DEBUG:root:ret_val = {u'loc': {u'type': u'Point', u'coordinates': [-122.3446799, 37.5798403]}, u'fmt_time': u'2015-08-27 17:04:58.056000-07:00', u'altitude': 0, u'ts': 1440720298.056, u'longitude': -122.3446799, u'latitude': 37.5798403, '_id': ObjectId('55dfad587d65cb39ee986c7c'), u'heading': 0, u'sensed_speed': 0, u'accuracy': 83.959} \n"
       ]
      },
      {
       "output_type": "stream",
       "stream": "stderr",
       "text": [
        "DEBUG:root:ret_val = {u'loc': {u'type': u'Point', u'coordinates': [-122.3379628, 37.5772606]}, u'fmt_time': u'2015-08-27 17:05:29.069000-07:00', u'altitude': 0, u'ts': 1440720329.069, u'longitude': -122.3379628, u'latitude': 37.5772606, '_id': ObjectId('55dfad587d65cb39ee986c7f'), u'heading': 0, u'sensed_speed': 0, u'accuracy': 39} \n"
       ]
      },
      {
       "output_type": "stream",
       "stream": "stderr",
       "text": [
        "DEBUG:root:ret_val = {u'loc': {u'type': u'Point', u'coordinates': [-122.330093, 37.5731863]}, u'fmt_time': u'2015-08-27 17:06:29.144000-07:00', u'altitude': 0, u'ts': 1440720389.144, u'longitude': -122.330093, u'latitude': 37.5731863, '_id': ObjectId('55dfad597d65cb39ee986c85'), u'heading': 0, u'sensed_speed': 0, u'accuracy': 57} \n"
       ]
      },
      {
       "output_type": "stream",
       "stream": "stderr",
       "text": [
        "DEBUG:root:ret_val = {u'loc': {u'type': u'Point', u'coordinates': [-122.3269305, 37.5709242]}, u'fmt_time': u'2015-08-27 17:06:59.141000-07:00', u'altitude': 0, u'ts': 1440720419.141, u'longitude': -122.3269305, u'latitude': 37.5709242, '_id': ObjectId('55dfad597d65cb39ee986c88'), u'heading': 0, u'sensed_speed': 0, u'accuracy': 36} \n"
       ]
      },
      {
       "output_type": "stream",
       "stream": "stderr",
       "text": [
        "DEBUG:root:ret_val = {u'loc': {u'type': u'Point', u'coordinates': [-122.3211883, 37.5661104]}, u'fmt_time': u'2015-08-27 17:09:46.824000-07:00', u'altitude': 0, u'ts': 1440720586.824, u'longitude': -122.3211883, u'latitude': 37.5661104, '_id': ObjectId('55dfad5a7d65cb39ee986c95'), u'heading': 0, u'sensed_speed': 0, u'accuracy': 43.404} \n"
       ]
      },
      {
       "output_type": "stream",
       "stream": "stderr",
       "text": [
        "DEBUG:root:ret_val = {u'loc': {u'type': u'Point', u'coordinates': [-122.3045277, 37.5468258]}, u'fmt_time': u'2015-08-27 17:13:32.311000-07:00', u'altitude': 0, u'ts': 1440720812.311, u'longitude': -122.3045277, u'latitude': 37.5468258, '_id': ObjectId('55dfad5b7d65cb39ee986ca5'), u'heading': 0, u'sensed_speed': 0, u'accuracy': 36} \n"
       ]
      },
      {
       "output_type": "stream",
       "stream": "stderr",
       "text": [
        "DEBUG:root:ret_val = {u'loc': {u'type': u'Point', u'coordinates': [-122.2898617, 37.5311179]}, u'fmt_time': u'2015-08-27 17:17:02.750000-07:00', u'altitude': 0, u'ts': 1440721022.75, u'longitude': -122.2898617, u'latitude': 37.5311179, '_id': ObjectId('55dfad5c7d65cb39ee986cb3'), u'heading': 0, u'sensed_speed': 0, u'accuracy': 57} \n"
       ]
      },
      {
       "output_type": "stream",
       "stream": "stderr",
       "text": [
        "DEBUG:root:ret_val = {u'loc': {u'type': u'Point', u'coordinates': [-122.2762817, 37.5210999]}, u'fmt_time': u'2015-08-27 17:18:32.827000-07:00', u'altitude': 0, u'ts': 1440721112.827, u'longitude': -122.2762817, u'latitude': 37.5210999, '_id': ObjectId('55dfad5c7d65cb39ee986cb6'), u'heading': 0, u'sensed_speed': 0, u'accuracy': 73.5} \n"
       ]
      },
      {
       "output_type": "stream",
       "stream": "stderr",
       "text": [
        "DEBUG:root:ret_val = {u'loc': {u'type': u'Point', u'coordinates': [-122.2762817, 37.5210999]}, u'fmt_time': u'2015-08-27 17:19:04.994000-07:00', u'altitude': 0, u'ts': 1440721144.994, u'longitude': -122.2762817, u'latitude': 37.5210999, '_id': ObjectId('55dfad5c7d65cb39ee986cba'), u'heading': 0, u'sensed_speed': 0, u'accuracy': 121.75} \n"
       ]
      },
      {
       "output_type": "stream",
       "stream": "stderr",
       "text": [
        "DEBUG:root:ret_val = {u'loc': {u'type': u'Point', u'coordinates': [-122.2762314, 37.5208544]}, u'fmt_time': u'2015-08-27 17:19:32.898000-07:00', u'altitude': 0, u'ts': 1440721172.898, u'longitude': -122.2762314, u'latitude': 37.5208544, '_id': ObjectId('55dfad5c7d65cb39ee986cbc'), u'heading': 0, u'sensed_speed': 0, u'accuracy': 37.5} \n"
       ]
      },
      {
       "output_type": "stream",
       "stream": "stderr",
       "text": [
        "DEBUG:root:ret_val = {u'loc': {u'type': u'Point', u'coordinates': [-122.2762314, 37.5208544]}, u'fmt_time': u'2015-08-27 17:20:01.919000-07:00', u'altitude': 0, u'ts': 1440721201.919, u'longitude': -122.2762314, u'latitude': 37.5208544, '_id': ObjectId('55dfad5d7d65cb39ee986cbf'), u'heading': 0, u'sensed_speed': 0, u'accuracy': 81.03} \n"
       ]
      },
      {
       "output_type": "stream",
       "stream": "stderr",
       "text": [
        "DEBUG:root:ret_val = {u'loc': {u'type': u'Point', u'coordinates': [-122.2713568, 37.5173546]}, u'fmt_time': u'2015-08-27 17:20:32.942000-07:00', u'altitude': 0, u'ts': 1440721232.942, u'longitude': -122.2713568, u'latitude': 37.5173546, '_id': ObjectId('55dfad5d7d65cb39ee986cc2'), u'heading': 0, u'sensed_speed': 0, u'accuracy': 40.5} \n"
       ]
      },
      {
       "output_type": "stream",
       "stream": "stderr",
       "text": [
        "DEBUG:root:ret_val = {u'loc': {u'type': u'Point', u'coordinates': [-122.260711, 37.5081986]}, u'fmt_time': u'2015-08-27 17:22:33.024000-07:00', u'altitude': 0, u'ts': 1440721353.024, u'longitude': -122.260711, u'latitude': 37.5081986, '_id': ObjectId('55dfad5d7d65cb39ee986ccc'), u'heading': 0, u'sensed_speed': 0, u'accuracy': 43.5} \n"
       ]
      },
      {
       "output_type": "stream",
       "stream": "stderr",
       "text": [
        "DEBUG:root:ret_val = {u'loc': {u'type': u'Point', u'coordinates': [-122.2608108, 37.5082344]}, u'fmt_time': u'2015-08-27 17:22:46.330000-07:00', u'altitude': 0, u'ts': 1440721366.33, u'longitude': -122.2608108, u'latitude': 37.5082344, '_id': ObjectId('55dfad5e7d65cb39ee986cce'), u'heading': 0, u'sensed_speed': 0, u'accuracy': 42} \n"
       ]
      },
      {
       "output_type": "stream",
       "stream": "stderr",
       "text": [
        "DEBUG:root:ret_val = {u'loc': {u'type': u'Point', u'coordinates': [-122.2606881, 37.5076385]}, u'fmt_time': u'2015-08-27 17:23:33.196000-07:00', u'altitude': 0, u'ts': 1440721413.196, u'longitude': -122.2606881, u'latitude': 37.5076385, '_id': ObjectId('55dfad5e7d65cb39ee986cd4'), u'heading': 0, u'sensed_speed': 0, u'accuracy': 64.5} \n"
       ]
      },
      {
       "output_type": "stream",
       "stream": "stderr",
       "text": [
        "DEBUG:root:ret_val = {u'loc': {u'type': u'Point', u'coordinates': [-122.2576418, 37.5050026]}, u'fmt_time': u'2015-08-27 17:24:03.216000-07:00', u'altitude': 0, u'ts': 1440721443.216, u'longitude': -122.2576418, u'latitude': 37.5050026, '_id': ObjectId('55dfad5e7d65cb39ee986cd8'), u'heading': 0, u'sensed_speed': 0, u'accuracy': 36} \n"
       ]
      },
      {
       "output_type": "stream",
       "stream": "stderr",
       "text": [
        "DEBUG:root:ret_val = {u'loc': {u'type': u'Point', u'coordinates': [-122.2485612, 37.4967537]}, u'fmt_time': u'2015-08-27 17:25:03.507000-07:00', u'altitude': 0, u'ts': 1440721503.507, u'longitude': -122.2485612, u'latitude': 37.4967537, '_id': ObjectId('55dfad5f7d65cb39ee986cdd'), u'heading': 0, u'sensed_speed': 0, u'accuracy': 37.5} \n"
       ]
      },
      {
       "output_type": "stream",
       "stream": "stderr",
       "text": [
        "DEBUG:root:ret_val = {u'loc': {u'type': u'Point', u'coordinates': [-122.2321509, 37.4867581]}, u'fmt_time': u'2015-08-27 17:27:05.393000-07:00', u'altitude': 100, u'ts': 1440721625.393, u'longitude': -122.2321509, u'latitude': 37.4867581, '_id': ObjectId('55dfad5f7d65cb39ee986ce4'), u'heading': 97, u'sensed_speed': 5.0665503, u'accuracy': 20} \n"
       ]
      },
      {
       "output_type": "stream",
       "stream": "stderr",
       "text": [
        "DEBUG:root:ret_val = {u'loc': {u'type': u'Point', u'coordinates': [-122.2321573, 37.4869051]}, u'fmt_time': u'2015-08-27 17:28:07.317000-07:00', u'altitude': 0, u'ts': 1440721687.317, u'longitude': -122.2321573, u'latitude': 37.4869051, '_id': ObjectId('55dfad5f7d65cb39ee986ce7'), u'heading': 0, u'sensed_speed': 0, u'accuracy': 134.89} \n"
       ]
      },
      {
       "output_type": "stream",
       "stream": "stderr",
       "text": [
        "DEBUG:root:ret_val = {u'loc': {u'type': u'Point', u'coordinates': [-122.2321573, 37.4869051]}, u'fmt_time': u'2015-08-27 17:28:36.255000-07:00', u'altitude': 0, u'ts': 1440721716.255, u'longitude': -122.2321573, u'latitude': 37.4869051, '_id': ObjectId('55dfad5f7d65cb39ee986cea'), u'heading': 0, u'sensed_speed': 0, u'accuracy': 178.297} \n"
       ]
      },
      {
       "output_type": "stream",
       "stream": "stderr",
       "text": [
        "DEBUG:root:ret_val = {u'loc': {u'type': u'Point', u'coordinates': [-122.2278153, 37.4836535]}, u'fmt_time': u'2015-08-27 17:30:03.707000-07:00', u'altitude': 0, u'ts': 1440721803.707, u'longitude': -122.2278153, u'latitude': 37.4836535, '_id': ObjectId('55dfad607d65cb39ee986cf0'), u'heading': 0, u'sensed_speed': 0, u'accuracy': 48} \n"
       ]
      },
      {
       "output_type": "stream",
       "stream": "stderr",
       "text": [
        "DEBUG:root:ret_val = {u'loc': {u'type': u'Point', u'coordinates': [-122.1855326, 37.4572449]}, u'fmt_time': u'2015-08-27 17:33:03.914000-07:00', u'altitude': 0, u'ts': 1440721983.914, u'longitude': -122.1855326, u'latitude': 37.4572449, '_id': ObjectId('55dfad617d65cb39ee986cf9'), u'heading': 0, u'sensed_speed': 0, u'accuracy': 43} \n"
       ]
      },
      {
       "output_type": "stream",
       "stream": "stderr",
       "text": [
        "DEBUG:root:ret_val = {u'loc': {u'type': u'Point', u'coordinates': [-122.184236, 37.4550829]}, u'fmt_time': u'2015-08-27 17:33:33.962000-07:00', u'altitude': 0, u'ts': 1440722013.962, u'longitude': -122.184236, u'latitude': 37.4550829, '_id': ObjectId('55dfad617d65cb39ee986cfb'), u'heading': 0, u'sensed_speed': 0, u'accuracy': 37.5} \n"
       ]
      },
      {
       "output_type": "stream",
       "stream": "stderr",
       "text": [
        "DEBUG:root:ret_val = {u'loc': {u'type': u'Point', u'coordinates': [-122.184236, 37.4550829]}, u'fmt_time': u'2015-08-27 17:34:02.970000-07:00', u'altitude': 0, u'ts': 1440722042.97, u'longitude': -122.184236, u'latitude': 37.4550829, '_id': ObjectId('55dfad617d65cb39ee986cff'), u'heading': 0, u'sensed_speed': 0, u'accuracy': 81.012} \n"
       ]
      },
      {
       "output_type": "stream",
       "stream": "stderr",
       "text": [
        "DEBUG:root:ret_val = {u'loc': {u'type': u'Point', u'coordinates': [-122.184236, 37.4550829]}, u'fmt_time': u'2015-08-27 17:34:32.997000-07:00', u'altitude': 0, u'ts': 1440722072.997, u'longitude': -122.184236, u'latitude': 37.4550829, '_id': ObjectId('55dfad617d65cb39ee986d01'), u'heading': 0, u'sensed_speed': 0, u'accuracy': 126.052} \n"
       ]
      },
      {
       "output_type": "stream",
       "stream": "stderr",
       "text": [
        "DEBUG:root:ret_val = {u'loc': {u'type': u'Point', u'coordinates': [-122.184236, 37.4550829]}, u'fmt_time': u'2015-08-27 17:35:03.034000-07:00', u'altitude': 0, u'ts': 1440722103.034, u'longitude': -122.184236, u'latitude': 37.4550829, '_id': ObjectId('55dfad617d65cb39ee986d04'), u'heading': 0, u'sensed_speed': 0, u'accuracy': 171.107} \n"
       ]
      },
      {
       "output_type": "stream",
       "stream": "stderr",
       "text": [
        "DEBUG:root:ret_val = {u'loc': {u'type': u'Point', u'coordinates': [-122.0779499, 37.3959236]}, u'fmt_time': u'2015-08-27 17:43:04.229000-07:00', u'altitude': 0, u'ts': 1440722584.229, u'longitude': -122.0779499, u'latitude': 37.3959236, '_id': ObjectId('55dfb4cb7d65cb39ee986d20'), u'heading': 0, u'sensed_speed': 0, u'accuracy': 36} \n"
       ]
      },
      {
       "output_type": "stream",
       "stream": "stderr",
       "text": [
        "DEBUG:root:points_df.columns = Index([u'_id', u'accuracy', u'altitude', u'fmt_time', u'heading', u'latitude', u'loc', u'longitude', u'sensed_speed', u'ts'], dtype='object')\n"
       ]
      },
      {
       "output_type": "stream",
       "stream": "stderr",
       "text": [
        "DEBUG:root:first element in section_location_array = Location({u'loc': {u'type': u'Point', u'coordinates': [-122.3446802, 37.57984]}, u'fmt_time': u'2015-08-27 17:03:59.012000-07:00', u'altitude': 0, u'ts': 1440720239.012, u'longitude': -122.3446802, u'latitude': 37.57984, '_id': ObjectId('55dfad587d65cb39ee986c77'), u'heading': 0, u'sensed_speed': 0.0, u'accuracy': 40.5})\n"
       ]
      },
      {
       "output_type": "stream",
       "stream": "stderr",
       "text": [
        "DEBUG:root:About to add Location({u'loc': {u'type': u'Point', u'coordinates': [-122.3446802, 37.57984]}, u'fmt_time': u'2015-08-27 17:03:59.012000-07:00', u'altitude': 0, u'ts': 1440720239.012, u'longitude': -122.3446802, u'latitude': 37.57984, '_id': ObjectId('55dfad587d65cb39ee986c77'), u'heading': 0, u'sensed_speed': 0.0, u'accuracy': 40.5}) to line_string \n"
       ]
      },
      {
       "output_type": "stream",
       "stream": "stderr",
       "text": [
        "DEBUG:root:About to add Location({u'loc': {u'type': u'Point', u'coordinates': [-122.3446799, 37.5798403]}, u'fmt_time': u'2015-08-27 17:04:29.083000-07:00', u'altitude': 0, u'ts': 1440720269.083, u'longitude': -122.3446799, u'latitude': 37.5798403, '_id': ObjectId('55dfad587d65cb39ee986c7a'), u'heading': 0, u'sensed_speed': 0.0, u'accuracy': 40.5}) to line_string \n"
       ]
      },
      {
       "output_type": "stream",
       "stream": "stderr",
       "text": [
        "DEBUG:root:About to add Location({u'loc': {u'type': u'Point', u'coordinates': [-122.3446799, 37.5798403]}, u'fmt_time': u'2015-08-27 17:04:58.056000-07:00', u'altitude': 0, u'ts': 1440720298.056, u'longitude': -122.3446799, u'latitude': 37.5798403, '_id': ObjectId('55dfad587d65cb39ee986c7c'), u'heading': 0, u'sensed_speed': 0.0, u'accuracy': 83.959}) to line_string \n"
       ]
      },
      {
       "output_type": "stream",
       "stream": "stderr",
       "text": [
        "DEBUG:root:About to add Location({u'loc': {u'type': u'Point', u'coordinates': [-122.3379628, 37.5772606]}, u'fmt_time': u'2015-08-27 17:05:29.069000-07:00', u'altitude': 0, u'ts': 1440720329.069, u'longitude': -122.3379628, u'latitude': 37.5772606, '_id': ObjectId('55dfad587d65cb39ee986c7f'), u'heading': 0, u'sensed_speed': 0.0, u'accuracy': 39.0}) to line_string \n"
       ]
      },
      {
       "output_type": "stream",
       "stream": "stderr",
       "text": [
        "DEBUG:root:About to add Location({u'loc': {u'type': u'Point', u'coordinates': [-122.330093, 37.5731863]}, u'fmt_time': u'2015-08-27 17:06:29.144000-07:00', u'altitude': 0, u'ts': 1440720389.144, u'longitude': -122.330093, u'latitude': 37.5731863, '_id': ObjectId('55dfad597d65cb39ee986c85'), u'heading': 0, u'sensed_speed': 0.0, u'accuracy': 57.0}) to line_string \n"
       ]
      },
      {
       "output_type": "stream",
       "stream": "stderr",
       "text": [
        "DEBUG:root:About to add Location({u'loc': {u'type': u'Point', u'coordinates': [-122.3269305, 37.5709242]}, u'fmt_time': u'2015-08-27 17:06:59.141000-07:00', u'altitude': 0, u'ts': 1440720419.141, u'longitude': -122.3269305, u'latitude': 37.5709242, '_id': ObjectId('55dfad597d65cb39ee986c88'), u'heading': 0, u'sensed_speed': 0.0, u'accuracy': 36.0}) to line_string \n"
       ]
      },
      {
       "output_type": "stream",
       "stream": "stderr",
       "text": [
        "DEBUG:root:About to add Location({u'loc': {u'type': u'Point', u'coordinates': [-122.3211883, 37.5661104]}, u'fmt_time': u'2015-08-27 17:09:46.824000-07:00', u'altitude': 0, u'ts': 1440720586.824, u'longitude': -122.3211883, u'latitude': 37.5661104, '_id': ObjectId('55dfad5a7d65cb39ee986c95'), u'heading': 0, u'sensed_speed': 0.0, u'accuracy': 43.404}) to line_string \n"
       ]
      },
      {
       "output_type": "stream",
       "stream": "stderr",
       "text": [
        "DEBUG:root:About to add Location({u'loc': {u'type': u'Point', u'coordinates': [-122.3045277, 37.5468258]}, u'fmt_time': u'2015-08-27 17:13:32.311000-07:00', u'altitude': 0, u'ts': 1440720812.311, u'longitude': -122.3045277, u'latitude': 37.5468258, '_id': ObjectId('55dfad5b7d65cb39ee986ca5'), u'heading': 0, u'sensed_speed': 0.0, u'accuracy': 36.0}) to line_string \n"
       ]
      },
      {
       "output_type": "stream",
       "stream": "stderr",
       "text": [
        "DEBUG:root:About to add Location({u'loc': {u'type': u'Point', u'coordinates': [-122.2898617, 37.5311179]}, u'fmt_time': u'2015-08-27 17:17:02.750000-07:00', u'altitude': 0, u'ts': 1440721022.75, u'longitude': -122.2898617, u'latitude': 37.5311179, '_id': ObjectId('55dfad5c7d65cb39ee986cb3'), u'heading': 0, u'sensed_speed': 0.0, u'accuracy': 57.0}) to line_string \n"
       ]
      },
      {
       "output_type": "stream",
       "stream": "stderr",
       "text": [
        "DEBUG:root:About to add Location({u'loc': {u'type': u'Point', u'coordinates': [-122.2762817, 37.5210999]}, u'fmt_time': u'2015-08-27 17:18:32.827000-07:00', u'altitude': 0, u'ts': 1440721112.827, u'longitude': -122.2762817, u'latitude': 37.5210999, '_id': ObjectId('55dfad5c7d65cb39ee986cb6'), u'heading': 0, u'sensed_speed': 0.0, u'accuracy': 73.5}) to line_string \n"
       ]
      },
      {
       "output_type": "stream",
       "stream": "stderr",
       "text": [
        "DEBUG:root:About to add Location({u'loc': {u'type': u'Point', u'coordinates': [-122.2762817, 37.5210999]}, u'fmt_time': u'2015-08-27 17:19:04.994000-07:00', u'altitude': 0, u'ts': 1440721144.994, u'longitude': -122.2762817, u'latitude': 37.5210999, '_id': ObjectId('55dfad5c7d65cb39ee986cba'), u'heading': 0, u'sensed_speed': 0.0, u'accuracy': 121.75}) to line_string \n"
       ]
      },
      {
       "output_type": "stream",
       "stream": "stderr",
       "text": [
        "DEBUG:root:About to add Location({u'loc': {u'type': u'Point', u'coordinates': [-122.2762314, 37.5208544]}, u'fmt_time': u'2015-08-27 17:19:32.898000-07:00', u'altitude': 0, u'ts': 1440721172.898, u'longitude': -122.2762314, u'latitude': 37.5208544, '_id': ObjectId('55dfad5c7d65cb39ee986cbc'), u'heading': 0, u'sensed_speed': 0.0, u'accuracy': 37.5}) to line_string \n"
       ]
      },
      {
       "output_type": "stream",
       "stream": "stderr",
       "text": [
        "DEBUG:root:About to add Location({u'loc': {u'type': u'Point', u'coordinates': [-122.2762314, 37.5208544]}, u'fmt_time': u'2015-08-27 17:20:01.919000-07:00', u'altitude': 0, u'ts': 1440721201.919, u'longitude': -122.2762314, u'latitude': 37.5208544, '_id': ObjectId('55dfad5d7d65cb39ee986cbf'), u'heading': 0, u'sensed_speed': 0.0, u'accuracy': 81.03}) to line_string \n"
       ]
      },
      {
       "output_type": "stream",
       "stream": "stderr",
       "text": [
        "DEBUG:root:About to add Location({u'loc': {u'type': u'Point', u'coordinates': [-122.2713568, 37.5173546]}, u'fmt_time': u'2015-08-27 17:20:32.942000-07:00', u'altitude': 0, u'ts': 1440721232.942, u'longitude': -122.2713568, u'latitude': 37.5173546, '_id': ObjectId('55dfad5d7d65cb39ee986cc2'), u'heading': 0, u'sensed_speed': 0.0, u'accuracy': 40.5}) to line_string \n"
       ]
      },
      {
       "output_type": "stream",
       "stream": "stderr",
       "text": [
        "DEBUG:root:About to add Location({u'loc': {u'type': u'Point', u'coordinates': [-122.260711, 37.5081986]}, u'fmt_time': u'2015-08-27 17:22:33.024000-07:00', u'altitude': 0, u'ts': 1440721353.024, u'longitude': -122.260711, u'latitude': 37.5081986, '_id': ObjectId('55dfad5d7d65cb39ee986ccc'), u'heading': 0, u'sensed_speed': 0.0, u'accuracy': 43.5}) to line_string \n"
       ]
      },
      {
       "output_type": "stream",
       "stream": "stderr",
       "text": [
        "DEBUG:root:About to add Location({u'loc': {u'type': u'Point', u'coordinates': [-122.2608108, 37.5082344]}, u'fmt_time': u'2015-08-27 17:22:46.330000-07:00', u'altitude': 0, u'ts': 1440721366.33, u'longitude': -122.2608108, u'latitude': 37.5082344, '_id': ObjectId('55dfad5e7d65cb39ee986cce'), u'heading': 0, u'sensed_speed': 0.0, u'accuracy': 42.0}) to line_string \n"
       ]
      },
      {
       "output_type": "stream",
       "stream": "stderr",
       "text": [
        "DEBUG:root:About to add Location({u'loc': {u'type': u'Point', u'coordinates': [-122.2606881, 37.5076385]}, u'fmt_time': u'2015-08-27 17:23:33.196000-07:00', u'altitude': 0, u'ts': 1440721413.196, u'longitude': -122.2606881, u'latitude': 37.5076385, '_id': ObjectId('55dfad5e7d65cb39ee986cd4'), u'heading': 0, u'sensed_speed': 0.0, u'accuracy': 64.5}) to line_string \n"
       ]
      },
      {
       "output_type": "stream",
       "stream": "stderr",
       "text": [
        "DEBUG:root:About to add Location({u'loc': {u'type': u'Point', u'coordinates': [-122.2576418, 37.5050026]}, u'fmt_time': u'2015-08-27 17:24:03.216000-07:00', u'altitude': 0, u'ts': 1440721443.216, u'longitude': -122.2576418, u'latitude': 37.5050026, '_id': ObjectId('55dfad5e7d65cb39ee986cd8'), u'heading': 0, u'sensed_speed': 0.0, u'accuracy': 36.0}) to line_string \n"
       ]
      },
      {
       "output_type": "stream",
       "stream": "stderr",
       "text": [
        "DEBUG:root:About to add Location({u'loc': {u'type': u'Point', u'coordinates': [-122.2485612, 37.4967537]}, u'fmt_time': u'2015-08-27 17:25:03.507000-07:00', u'altitude': 0, u'ts': 1440721503.507, u'longitude': -122.2485612, u'latitude': 37.4967537, '_id': ObjectId('55dfad5f7d65cb39ee986cdd'), u'heading': 0, u'sensed_speed': 0.0, u'accuracy': 37.5}) to line_string \n"
       ]
      },
      {
       "output_type": "stream",
       "stream": "stderr",
       "text": [
        "DEBUG:root:About to add Location({u'loc': {u'type': u'Point', u'coordinates': [-122.2321509, 37.4867581]}, u'fmt_time': u'2015-08-27 17:27:05.393000-07:00', u'altitude': 100, u'ts': 1440721625.393, u'longitude': -122.2321509, u'latitude': 37.4867581, '_id': ObjectId('55dfad5f7d65cb39ee986ce4'), u'heading': 97, u'sensed_speed': 5.0665503, u'accuracy': 20.0}) to line_string \n"
       ]
      },
      {
       "output_type": "stream",
       "stream": "stderr",
       "text": [
        "DEBUG:root:About to add Location({u'loc': {u'type': u'Point', u'coordinates': [-122.2321573, 37.4869051]}, u'fmt_time': u'2015-08-27 17:28:07.317000-07:00', u'altitude': 0, u'ts': 1440721687.317, u'longitude': -122.2321573, u'latitude': 37.4869051, '_id': ObjectId('55dfad5f7d65cb39ee986ce7'), u'heading': 0, u'sensed_speed': 0.0, u'accuracy': 134.89}) to line_string \n"
       ]
      },
      {
       "output_type": "stream",
       "stream": "stderr",
       "text": [
        "DEBUG:root:About to add Location({u'loc': {u'type': u'Point', u'coordinates': [-122.2321573, 37.4869051]}, u'fmt_time': u'2015-08-27 17:28:36.255000-07:00', u'altitude': 0, u'ts': 1440721716.255, u'longitude': -122.2321573, u'latitude': 37.4869051, '_id': ObjectId('55dfad5f7d65cb39ee986cea'), u'heading': 0, u'sensed_speed': 0.0, u'accuracy': 178.297}) to line_string \n"
       ]
      },
      {
       "output_type": "stream",
       "stream": "stderr",
       "text": [
        "DEBUG:root:About to add Location({u'loc': {u'type': u'Point', u'coordinates': [-122.2278153, 37.4836535]}, u'fmt_time': u'2015-08-27 17:30:03.707000-07:00', u'altitude': 0, u'ts': 1440721803.707, u'longitude': -122.2278153, u'latitude': 37.4836535, '_id': ObjectId('55dfad607d65cb39ee986cf0'), u'heading': 0, u'sensed_speed': 0.0, u'accuracy': 48.0}) to line_string \n"
       ]
      },
      {
       "output_type": "stream",
       "stream": "stderr",
       "text": [
        "DEBUG:root:About to add Location({u'loc': {u'type': u'Point', u'coordinates': [-122.1855326, 37.4572449]}, u'fmt_time': u'2015-08-27 17:33:03.914000-07:00', u'altitude': 0, u'ts': 1440721983.914, u'longitude': -122.1855326, u'latitude': 37.4572449, '_id': ObjectId('55dfad617d65cb39ee986cf9'), u'heading': 0, u'sensed_speed': 0.0, u'accuracy': 43.0}) to line_string \n"
       ]
      },
      {
       "output_type": "stream",
       "stream": "stderr",
       "text": [
        "DEBUG:root:About to add Location({u'loc': {u'type': u'Point', u'coordinates': [-122.184236, 37.4550829]}, u'fmt_time': u'2015-08-27 17:33:33.962000-07:00', u'altitude': 0, u'ts': 1440722013.962, u'longitude': -122.184236, u'latitude': 37.4550829, '_id': ObjectId('55dfad617d65cb39ee986cfb'), u'heading': 0, u'sensed_speed': 0.0, u'accuracy': 37.5}) to line_string \n"
       ]
      },
      {
       "output_type": "stream",
       "stream": "stderr",
       "text": [
        "DEBUG:root:About to add Location({u'loc': {u'type': u'Point', u'coordinates': [-122.184236, 37.4550829]}, u'fmt_time': u'2015-08-27 17:34:02.970000-07:00', u'altitude': 0, u'ts': 1440722042.97, u'longitude': -122.184236, u'latitude': 37.4550829, '_id': ObjectId('55dfad617d65cb39ee986cff'), u'heading': 0, u'sensed_speed': 0.0, u'accuracy': 81.012}) to line_string \n"
       ]
      },
      {
       "output_type": "stream",
       "stream": "stderr",
       "text": [
        "DEBUG:root:About to add Location({u'loc': {u'type': u'Point', u'coordinates': [-122.184236, 37.4550829]}, u'fmt_time': u'2015-08-27 17:34:32.997000-07:00', u'altitude': 0, u'ts': 1440722072.997, u'longitude': -122.184236, u'latitude': 37.4550829, '_id': ObjectId('55dfad617d65cb39ee986d01'), u'heading': 0, u'sensed_speed': 0.0, u'accuracy': 126.052}) to line_string \n"
       ]
      },
      {
       "output_type": "stream",
       "stream": "stderr",
       "text": [
        "DEBUG:root:About to add Location({u'loc': {u'type': u'Point', u'coordinates': [-122.184236, 37.4550829]}, u'fmt_time': u'2015-08-27 17:35:03.034000-07:00', u'altitude': 0, u'ts': 1440722103.034, u'longitude': -122.184236, u'latitude': 37.4550829, '_id': ObjectId('55dfad617d65cb39ee986d04'), u'heading': 0, u'sensed_speed': 0.0, u'accuracy': 171.107}) to line_string \n"
       ]
      },
      {
       "output_type": "stream",
       "stream": "stderr",
       "text": [
        "DEBUG:root:About to add Location({u'loc': {u'type': u'Point', u'coordinates': [-122.0779499, 37.3959236]}, u'fmt_time': u'2015-08-27 17:43:04.229000-07:00', u'altitude': 0, u'ts': 1440722584.229, u'longitude': -122.0779499, u'latitude': 37.3959236, '_id': ObjectId('55dfb4cb7d65cb39ee986d20'), u'heading': 0, u'sensed_speed': 0.0, u'accuracy': 36.0}) to line_string \n"
       ]
      },
      {
       "output_type": "stream",
       "stream": "stderr",
       "text": [
        "DEBUG:root:sort_key = metadata.write_ts\n"
       ]
      },
      {
       "output_type": "stream",
       "stream": "stderr",
       "text": [
        "DEBUG:root:ret_val = {u'loc': {u'type': u'Point', u'coordinates': [-122.0761413, 37.3940933]}, u'fmt_time': u'2015-08-27 17:43:34.285000-07:00', u'altitude': 0, u'ts': 1440722614.285, u'longitude': -122.0761413, u'latitude': 37.3940933, '_id': ObjectId('55dfb4cb7d65cb39ee986d23'), u'heading': 0, u'sensed_speed': 0, u'accuracy': 31.5} \n"
       ]
      },
      {
       "output_type": "stream",
       "stream": "stderr",
       "text": [
        "DEBUG:root:ret_val = {u'loc': {u'type': u'Point', u'coordinates': [-122.0774947, 37.3956292]}, u'fmt_time': u'2015-08-27 17:44:34.415000-07:00', u'altitude': 0, u'ts': 1440722674.415, u'longitude': -122.0774947, u'latitude': 37.3956292, '_id': ObjectId('55dfb4cc7d65cb39ee986d2b'), u'heading': 0, u'sensed_speed': 0, u'accuracy': 118.739} \n"
       ]
      },
      {
       "output_type": "stream",
       "stream": "stderr",
       "text": [
        "DEBUG:root:ret_val = {u'loc': {u'type': u'Point', u'coordinates': [-122.0773116, 37.3955101]}, u'fmt_time': u'2015-08-27 17:44:55.963000-07:00', u'altitude': 0, u'ts': 1440722695.963, u'longitude': -122.0773116, u'latitude': 37.3955101, '_id': ObjectId('55dfb4cc7d65cb39ee986d2f'), u'heading': 0, u'sensed_speed': 0, u'accuracy': 105.023} \n"
       ]
      },
      {
       "output_type": "stream",
       "stream": "stderr",
       "text": [
        "DEBUG:root:ret_val = {u'loc': {u'type': u'Point', u'coordinates': [-122.0777471, 37.3956672]}, u'fmt_time': u'2015-08-27 17:45:35.230000-07:00', u'altitude': 0, u'ts': 1440722735.23, u'longitude': -122.0777471, u'latitude': 37.3956672, '_id': ObjectId('55dfb4cc7d65cb39ee986d32'), u'heading': 0, u'sensed_speed': 0, u'accuracy': 36} \n"
       ]
      },
      {
       "output_type": "stream",
       "stream": "stderr",
       "text": [
        "DEBUG:root:ret_val = {u'loc': {u'type': u'Point', u'coordinates': [-122.0775389, 37.3955742]}, u'fmt_time': u'2015-08-27 17:46:03.161000-07:00', u'altitude': 0, u'ts': 1440722763.161, u'longitude': -122.0775389, u'latitude': 37.3955742, '_id': ObjectId('55dfb4cc7d65cb39ee986d35'), u'heading': 0, u'sensed_speed': 0, u'accuracy': 45} \n"
       ]
      },
      {
       "output_type": "stream",
       "stream": "stderr",
       "text": [
        "DEBUG:root:ret_val = {u'loc': {u'type': u'Point', u'coordinates': [-122.0775389, 37.3955742]}, u'fmt_time': u'2015-08-27 17:46:33.433000-07:00', u'altitude': 0, u'ts': 1440722793.433, u'longitude': -122.0775389, u'latitude': 37.3955742, '_id': ObjectId('55dfb4cc7d65cb39ee986d38'), u'heading': 0, u'sensed_speed': 0, u'accuracy': 90.406} \n"
       ]
      },
      {
       "output_type": "stream",
       "stream": "stderr",
       "text": [
        "DEBUG:root:ret_val = {u'loc': {u'type': u'Point', u'coordinates': [-122.0778895, 37.3958641]}, u'fmt_time': u'2015-08-27 17:47:04.500000-07:00', u'altitude': 0, u'ts': 1440722824.5, u'longitude': -122.0778895, u'latitude': 37.3958641, '_id': ObjectId('55dfb4cd7d65cb39ee986d3a'), u'heading': 0, u'sensed_speed': 0, u'accuracy': 40.5} \n"
       ]
      },
      {
       "output_type": "stream",
       "stream": "stderr",
       "text": [
        "DEBUG:root:ret_val = {u'loc': {u'type': u'Point', u'coordinates': [-122.077766, 37.3960324]}, u'fmt_time': u'2015-08-27 17:47:34.538000-07:00', u'altitude': 0, u'ts': 1440722854.538, u'longitude': -122.077766, u'latitude': 37.3960324, '_id': ObjectId('55dfb4cd7d65cb39ee986d3d'), u'heading': 0, u'sensed_speed': 0, u'accuracy': 40.5} \n"
       ]
      },
      {
       "output_type": "stream",
       "stream": "stderr",
       "text": [
        "DEBUG:root:ret_val = {u'loc': {u'type': u'Point', u'coordinates': [-122.0778219, 37.3958767]}, u'fmt_time': u'2015-08-27 17:48:04.520000-07:00', u'altitude': 0, u'ts': 1440722884.52, u'longitude': -122.0778219, u'latitude': 37.3958767, '_id': ObjectId('55dfb4cd7d65cb39ee986d3f'), u'heading': 0, u'sensed_speed': 0, u'accuracy': 39} \n"
       ]
      },
      {
       "output_type": "stream",
       "stream": "stderr",
       "text": [
        "DEBUG:root:ret_val = {u'loc': {u'type': u'Point', u'coordinates': [-122.0777425, 37.3956644]}, u'fmt_time': u'2015-08-27 17:48:34.574000-07:00', u'altitude': 0, u'ts': 1440722914.574, u'longitude': -122.0777425, u'latitude': 37.3956644, '_id': ObjectId('55dfb4cd7d65cb39ee986d42'), u'heading': 0, u'sensed_speed': 0, u'accuracy': 42} \n"
       ]
      },
      {
       "output_type": "stream",
       "stream": "stderr",
       "text": [
        "DEBUG:root:ret_val = {u'loc': {u'type': u'Point', u'coordinates': [-122.0769316, 37.3970439]}, u'fmt_time': u'2015-08-27 17:49:04.600000-07:00', u'altitude': 0, u'ts': 1440722944.6, u'longitude': -122.0769316, u'latitude': 37.3970439, '_id': ObjectId('55dfb4cd7d65cb39ee986d44'), u'heading': 0, u'sensed_speed': 0, u'accuracy': 40.5} \n"
       ]
      },
      {
       "output_type": "stream",
       "stream": "stderr",
       "text": [
        "DEBUG:root:ret_val = {u'loc': {u'type': u'Point', u'coordinates': [-122.0761964, 37.3978807]}, u'fmt_time': u'2015-08-27 17:49:34.697000-07:00', u'altitude': 0, u'ts': 1440722974.697, u'longitude': -122.0761964, u'latitude': 37.3978807, '_id': ObjectId('55dfb4cd7d65cb39ee986d47'), u'heading': 0, u'sensed_speed': 0, u'accuracy': 30} \n"
       ]
      },
      {
       "output_type": "stream",
       "stream": "stderr",
       "text": [
        "DEBUG:root:ret_val = {u'loc': {u'type': u'Point', u'coordinates': [-122.0767396, 37.3980859]}, u'fmt_time': u'2015-08-27 17:50:04.664000-07:00', u'altitude': 0, u'ts': 1440723004.664, u'longitude': -122.0767396, u'latitude': 37.3980859, '_id': ObjectId('55dfb4cd7d65cb39ee986d49'), u'heading': 0, u'sensed_speed': 0, u'accuracy': 45} \n"
       ]
      },
      {
       "output_type": "stream",
       "stream": "stderr",
       "text": [
        "DEBUG:root:ret_val = {u'loc': {u'type': u'Point', u'coordinates': [-122.0779079, 37.3990104]}, u'fmt_time': u'2015-08-27 17:50:34.750000-07:00', u'altitude': 0, u'ts': 1440723034.75, u'longitude': -122.0779079, u'latitude': 37.3990104, '_id': ObjectId('55dfb4ce7d65cb39ee986d4c'), u'heading': 0, u'sensed_speed': 0, u'accuracy': 30} \n"
       ]
      },
      {
       "output_type": "stream",
       "stream": "stderr",
       "text": [
        "DEBUG:root:ret_val = {u'loc': {u'type': u'Point', u'coordinates': [-122.0784937, 37.4012462]}, u'fmt_time': u'2015-08-27 17:51:04.721000-07:00', u'altitude': 0, u'ts': 1440723064.721, u'longitude': -122.0784937, u'latitude': 37.4012462, '_id': ObjectId('55dfb4ce7d65cb39ee986d4f'), u'heading': 0, u'sensed_speed': 0, u'accuracy': 40.5} \n"
       ]
      },
      {
       "output_type": "stream",
       "stream": "stderr",
       "text": [
        "DEBUG:root:points_df.columns = Index([u'_id', u'accuracy', u'altitude', u'fmt_time', u'heading', u'latitude', u'loc', u'longitude', u'sensed_speed', u'ts'], dtype='object')\n"
       ]
      },
      {
       "output_type": "stream",
       "stream": "stderr",
       "text": [
        "DEBUG:root:first element in section_location_array = Location({u'loc': {u'type': u'Point', u'coordinates': [-122.0761413, 37.3940933]}, u'fmt_time': u'2015-08-27 17:43:34.285000-07:00', u'altitude': 0, u'ts': 1440722614.285, u'longitude': -122.0761413, u'latitude': 37.3940933, '_id': ObjectId('55dfb4cb7d65cb39ee986d23'), u'heading': 0, u'sensed_speed': 0, u'accuracy': 31.5})\n"
       ]
      },
      {
       "output_type": "stream",
       "stream": "stderr",
       "text": [
        "DEBUG:root:About to add Location({u'loc': {u'type': u'Point', u'coordinates': [-122.0761413, 37.3940933]}, u'fmt_time': u'2015-08-27 17:43:34.285000-07:00', u'altitude': 0, u'ts': 1440722614.285, u'longitude': -122.0761413, u'latitude': 37.3940933, '_id': ObjectId('55dfb4cb7d65cb39ee986d23'), u'heading': 0, u'sensed_speed': 0, u'accuracy': 31.5}) to line_string \n"
       ]
      },
      {
       "output_type": "stream",
       "stream": "stderr",
       "text": [
        "DEBUG:root:About to add Location({u'loc': {u'type': u'Point', u'coordinates': [-122.0774947, 37.3956292]}, u'fmt_time': u'2015-08-27 17:44:34.415000-07:00', u'altitude': 0, u'ts': 1440722674.415, u'longitude': -122.0774947, u'latitude': 37.3956292, '_id': ObjectId('55dfb4cc7d65cb39ee986d2b'), u'heading': 0, u'sensed_speed': 0, u'accuracy': 118.739}) to line_string \n"
       ]
      },
      {
       "output_type": "stream",
       "stream": "stderr",
       "text": [
        "DEBUG:root:About to add Location({u'loc': {u'type': u'Point', u'coordinates': [-122.0773116, 37.3955101]}, u'fmt_time': u'2015-08-27 17:44:55.963000-07:00', u'altitude': 0, u'ts': 1440722695.963, u'longitude': -122.0773116, u'latitude': 37.3955101, '_id': ObjectId('55dfb4cc7d65cb39ee986d2f'), u'heading': 0, u'sensed_speed': 0, u'accuracy': 105.023}) to line_string \n"
       ]
      },
      {
       "output_type": "stream",
       "stream": "stderr",
       "text": [
        "DEBUG:root:About to add Location({u'loc': {u'type': u'Point', u'coordinates': [-122.0777471, 37.3956672]}, u'fmt_time': u'2015-08-27 17:45:35.230000-07:00', u'altitude': 0, u'ts': 1440722735.23, u'longitude': -122.0777471, u'latitude': 37.3956672, '_id': ObjectId('55dfb4cc7d65cb39ee986d32'), u'heading': 0, u'sensed_speed': 0, u'accuracy': 36.0}) to line_string \n"
       ]
      },
      {
       "output_type": "stream",
       "stream": "stderr",
       "text": [
        "DEBUG:root:About to add Location({u'loc': {u'type': u'Point', u'coordinates': [-122.0775389, 37.3955742]}, u'fmt_time': u'2015-08-27 17:46:03.161000-07:00', u'altitude': 0, u'ts': 1440722763.161, u'longitude': -122.0775389, u'latitude': 37.3955742, '_id': ObjectId('55dfb4cc7d65cb39ee986d35'), u'heading': 0, u'sensed_speed': 0, u'accuracy': 45.0}) to line_string \n"
       ]
      },
      {
       "output_type": "stream",
       "stream": "stderr",
       "text": [
        "DEBUG:root:About to add Location({u'loc': {u'type': u'Point', u'coordinates': [-122.0775389, 37.3955742]}, u'fmt_time': u'2015-08-27 17:46:33.433000-07:00', u'altitude': 0, u'ts': 1440722793.433, u'longitude': -122.0775389, u'latitude': 37.3955742, '_id': ObjectId('55dfb4cc7d65cb39ee986d38'), u'heading': 0, u'sensed_speed': 0, u'accuracy': 90.406}) to line_string \n"
       ]
      },
      {
       "output_type": "stream",
       "stream": "stderr",
       "text": [
        "DEBUG:root:About to add Location({u'loc': {u'type': u'Point', u'coordinates': [-122.0778895, 37.3958641]}, u'fmt_time': u'2015-08-27 17:47:04.500000-07:00', u'altitude': 0, u'ts': 1440722824.5, u'longitude': -122.0778895, u'latitude': 37.3958641, '_id': ObjectId('55dfb4cd7d65cb39ee986d3a'), u'heading': 0, u'sensed_speed': 0, u'accuracy': 40.5}) to line_string \n"
       ]
      },
      {
       "output_type": "stream",
       "stream": "stderr",
       "text": [
        "DEBUG:root:About to add Location({u'loc': {u'type': u'Point', u'coordinates': [-122.077766, 37.3960324]}, u'fmt_time': u'2015-08-27 17:47:34.538000-07:00', u'altitude': 0, u'ts': 1440722854.538, u'longitude': -122.077766, u'latitude': 37.3960324, '_id': ObjectId('55dfb4cd7d65cb39ee986d3d'), u'heading': 0, u'sensed_speed': 0, u'accuracy': 40.5}) to line_string \n"
       ]
      },
      {
       "output_type": "stream",
       "stream": "stderr",
       "text": [
        "DEBUG:root:About to add Location({u'loc': {u'type': u'Point', u'coordinates': [-122.0778219, 37.3958767]}, u'fmt_time': u'2015-08-27 17:48:04.520000-07:00', u'altitude': 0, u'ts': 1440722884.52, u'longitude': -122.0778219, u'latitude': 37.3958767, '_id': ObjectId('55dfb4cd7d65cb39ee986d3f'), u'heading': 0, u'sensed_speed': 0, u'accuracy': 39.0}) to line_string \n"
       ]
      },
      {
       "output_type": "stream",
       "stream": "stderr",
       "text": [
        "DEBUG:root:About to add Location({u'loc': {u'type': u'Point', u'coordinates': [-122.0777425, 37.3956644]}, u'fmt_time': u'2015-08-27 17:48:34.574000-07:00', u'altitude': 0, u'ts': 1440722914.574, u'longitude': -122.0777425, u'latitude': 37.3956644, '_id': ObjectId('55dfb4cd7d65cb39ee986d42'), u'heading': 0, u'sensed_speed': 0, u'accuracy': 42.0}) to line_string \n"
       ]
      },
      {
       "output_type": "stream",
       "stream": "stderr",
       "text": [
        "DEBUG:root:About to add Location({u'loc': {u'type': u'Point', u'coordinates': [-122.0769316, 37.3970439]}, u'fmt_time': u'2015-08-27 17:49:04.600000-07:00', u'altitude': 0, u'ts': 1440722944.6, u'longitude': -122.0769316, u'latitude': 37.3970439, '_id': ObjectId('55dfb4cd7d65cb39ee986d44'), u'heading': 0, u'sensed_speed': 0, u'accuracy': 40.5}) to line_string \n"
       ]
      },
      {
       "output_type": "stream",
       "stream": "stderr",
       "text": [
        "DEBUG:root:About to add Location({u'loc': {u'type': u'Point', u'coordinates': [-122.0761964, 37.3978807]}, u'fmt_time': u'2015-08-27 17:49:34.697000-07:00', u'altitude': 0, u'ts': 1440722974.697, u'longitude': -122.0761964, u'latitude': 37.3978807, '_id': ObjectId('55dfb4cd7d65cb39ee986d47'), u'heading': 0, u'sensed_speed': 0, u'accuracy': 30.0}) to line_string \n"
       ]
      },
      {
       "output_type": "stream",
       "stream": "stderr",
       "text": [
        "DEBUG:root:About to add Location({u'loc': {u'type': u'Point', u'coordinates': [-122.0767396, 37.3980859]}, u'fmt_time': u'2015-08-27 17:50:04.664000-07:00', u'altitude': 0, u'ts': 1440723004.664, u'longitude': -122.0767396, u'latitude': 37.3980859, '_id': ObjectId('55dfb4cd7d65cb39ee986d49'), u'heading': 0, u'sensed_speed': 0, u'accuracy': 45.0}) to line_string \n"
       ]
      },
      {
       "output_type": "stream",
       "stream": "stderr",
       "text": [
        "DEBUG:root:About to add Location({u'loc': {u'type': u'Point', u'coordinates': [-122.0779079, 37.3990104]}, u'fmt_time': u'2015-08-27 17:50:34.750000-07:00', u'altitude': 0, u'ts': 1440723034.75, u'longitude': -122.0779079, u'latitude': 37.3990104, '_id': ObjectId('55dfb4ce7d65cb39ee986d4c'), u'heading': 0, u'sensed_speed': 0, u'accuracy': 30.0}) to line_string \n"
       ]
      },
      {
       "output_type": "stream",
       "stream": "stderr",
       "text": [
        "DEBUG:root:About to add Location({u'loc': {u'type': u'Point', u'coordinates': [-122.0784937, 37.4012462]}, u'fmt_time': u'2015-08-27 17:51:04.721000-07:00', u'altitude': 0, u'ts': 1440723064.721, u'longitude': -122.0784937, u'latitude': 37.4012462, '_id': ObjectId('55dfb4ce7d65cb39ee986d4f'), u'heading': 0, u'sensed_speed': 0, u'accuracy': 40.5}) to line_string \n"
       ]
      },
      {
       "output_type": "stream",
       "stream": "stderr",
       "text": [
        "DEBUG:root:sort_key = metadata.write_ts\n"
       ]
      },
      {
       "output_type": "stream",
       "stream": "stderr",
       "text": [
        "DEBUG:root:ret_val = {u'loc': {u'type': u'Point', u'coordinates': [-122.078664, 37.4015876]}, u'fmt_time': u'2015-08-27 17:51:34.715000-07:00', u'altitude': 0, u'ts': 1440723094.715, u'longitude': -122.078664, u'latitude': 37.4015876, '_id': ObjectId('55dfb4ce7d65cb39ee986d51'), u'heading': 0, u'sensed_speed': 0, u'accuracy': 49.5} \n"
       ]
      },
      {
       "output_type": "stream",
       "stream": "stderr",
       "text": [
        "DEBUG:root:ret_val = {u'loc': {u'type': u'Point', u'coordinates': [-122.0796973, 37.4021489]}, u'fmt_time': u'2015-08-27 17:52:04.657000-07:00', u'altitude': 0, u'ts': 1440723124.657, u'longitude': -122.0796973, u'latitude': 37.4021489, '_id': ObjectId('55dfb4ce7d65cb39ee986d54'), u'heading': 0, u'sensed_speed': 0, u'accuracy': 61.5} \n"
       ]
      },
      {
       "output_type": "stream",
       "stream": "stderr",
       "text": [
        "DEBUG:root:points_df.columns = Index([u'_id', u'accuracy', u'altitude', u'fmt_time', u'heading', u'latitude', u'loc', u'longitude', u'sensed_speed', u'ts'], dtype='object')\n"
       ]
      },
      {
       "output_type": "stream",
       "stream": "stderr",
       "text": [
        "DEBUG:root:first element in section_location_array = Location({u'loc': {u'type': u'Point', u'coordinates': [-122.078664, 37.4015876]}, u'fmt_time': u'2015-08-27 17:51:34.715000-07:00', u'altitude': 0, u'ts': 1440723094.715, u'longitude': -122.078664, u'latitude': 37.4015876, '_id': ObjectId('55dfb4ce7d65cb39ee986d51'), u'heading': 0, u'sensed_speed': 0, u'accuracy': 49.5})\n"
       ]
      },
      {
       "output_type": "stream",
       "stream": "stderr",
       "text": [
        "DEBUG:root:About to add Location({u'loc': {u'type': u'Point', u'coordinates': [-122.078664, 37.4015876]}, u'fmt_time': u'2015-08-27 17:51:34.715000-07:00', u'altitude': 0, u'ts': 1440723094.715, u'longitude': -122.078664, u'latitude': 37.4015876, '_id': ObjectId('55dfb4ce7d65cb39ee986d51'), u'heading': 0, u'sensed_speed': 0, u'accuracy': 49.5}) to line_string \n"
       ]
      },
      {
       "output_type": "stream",
       "stream": "stderr",
       "text": [
        "DEBUG:root:About to add Location({u'loc': {u'type': u'Point', u'coordinates': [-122.0796973, 37.4021489]}, u'fmt_time': u'2015-08-27 17:52:04.657000-07:00', u'altitude': 0, u'ts': 1440723124.657, u'longitude': -122.0796973, u'latitude': 37.4021489, '_id': ObjectId('55dfb4ce7d65cb39ee986d54'), u'heading': 0, u'sensed_speed': 0, u'accuracy': 61.5}) to line_string \n"
       ]
      },
      {
       "output_type": "stream",
       "stream": "stderr",
       "text": [
        "DEBUG:root:sort_key = metadata.write_ts\n"
       ]
      },
      {
       "output_type": "stream",
       "stream": "stderr",
       "text": [
        "DEBUG:root:ret_val = {u'loc': {u'type': u'Point', u'coordinates': [-122.0827923, 37.4027524]}, u'fmt_time': u'2015-08-27 17:53:04.822000-07:00', u'altitude': 0, u'ts': 1440723184.822, u'longitude': -122.0827923, u'latitude': 37.4027524, '_id': ObjectId('55dfb4ce7d65cb39ee986d58'), u'heading': 0, u'sensed_speed': 0, u'accuracy': 37.5} \n"
       ]
      },
      {
       "output_type": "stream",
       "stream": "stderr",
       "text": [
        "DEBUG:root:ret_val = {u'loc': {u'type': u'Point', u'coordinates': [-122.0834008, 37.4027977]}, u'fmt_time': u'2015-08-27 17:53:37.877000-07:00', u'altitude': 0, u'ts': 1440723217.877, u'longitude': -122.0834008, u'latitude': 37.4027977, '_id': ObjectId('55dfb4cf7d65cb39ee986d5b'), u'heading': 0, u'sensed_speed': 0, u'accuracy': 45} \n"
       ]
      },
      {
       "output_type": "stream",
       "stream": "stderr",
       "text": [
        "DEBUG:root:ret_val = {u'loc': {u'type': u'Point', u'coordinates': [-122.0833226, 37.4028425]}, u'fmt_time': u'2015-08-27 17:53:53.789000-07:00', u'altitude': 0, u'ts': 1440723233.789, u'longitude': -122.0833226, u'latitude': 37.4028425, '_id': ObjectId('55dfb4cf7d65cb39ee986d5d'), u'heading': 0, u'sensed_speed': 0, u'accuracy': 51} \n"
       ]
      },
      {
       "output_type": "stream",
       "stream": "stderr",
       "text": [
        "DEBUG:root:ret_val = {u'loc': {u'type': u'Point', u'coordinates': [-122.0831355, 37.4037647]}, u'fmt_time': u'2015-08-27 17:54:34.938000-07:00', u'altitude': 0, u'ts': 1440723274.938, u'longitude': -122.0831355, u'latitude': 37.4037647, '_id': ObjectId('55dfb4cf7d65cb39ee986d61'), u'heading': 0, u'sensed_speed': 0, u'accuracy': 63} \n"
       ]
      },
      {
       "output_type": "stream",
       "stream": "stderr",
       "text": [
        "DEBUG:root:ret_val = {u'loc': {u'type': u'Point', u'coordinates': [-122.0836683, 37.403658]}, u'fmt_time': u'2015-08-27 17:55:04.896000-07:00', u'altitude': 0, u'ts': 1440723304.896, u'longitude': -122.0836683, u'latitude': 37.403658, '_id': ObjectId('55dfb4cf7d65cb39ee986d64'), u'heading': 0, u'sensed_speed': 0, u'accuracy': 33} \n"
       ]
      },
      {
       "output_type": "stream",
       "stream": "stderr",
       "text": [
        "DEBUG:root:ret_val = {u'loc': {u'type': u'Point', u'coordinates': [-122.083702, 37.4036219]}, u'fmt_time': u'2015-08-27 17:55:34.898000-07:00', u'altitude': 0, u'ts': 1440723334.898, u'longitude': -122.083702, u'latitude': 37.4036219, '_id': ObjectId('55dfb4cf7d65cb39ee986d67'), u'heading': 0, u'sensed_speed': 0, u'accuracy': 36} \n"
       ]
      },
      {
       "output_type": "stream",
       "stream": "stderr",
       "text": [
        "DEBUG:root:points_df.columns = Index([u'_id', u'accuracy', u'altitude', u'fmt_time', u'heading', u'latitude', u'loc', u'longitude', u'sensed_speed', u'ts'], dtype='object')\n"
       ]
      },
      {
       "output_type": "stream",
       "stream": "stderr",
       "text": [
        "DEBUG:root:first element in section_location_array = Location({u'loc': {u'type': u'Point', u'coordinates': [-122.0827923, 37.4027524]}, u'fmt_time': u'2015-08-27 17:53:04.822000-07:00', u'altitude': 0, u'ts': 1440723184.822, u'longitude': -122.0827923, u'latitude': 37.4027524, '_id': ObjectId('55dfb4ce7d65cb39ee986d58'), u'heading': 0, u'sensed_speed': 0, u'accuracy': 37.5})\n"
       ]
      },
      {
       "output_type": "stream",
       "stream": "stderr",
       "text": [
        "DEBUG:root:About to add Location({u'loc': {u'type': u'Point', u'coordinates': [-122.0827923, 37.4027524]}, u'fmt_time': u'2015-08-27 17:53:04.822000-07:00', u'altitude': 0, u'ts': 1440723184.822, u'longitude': -122.0827923, u'latitude': 37.4027524, '_id': ObjectId('55dfb4ce7d65cb39ee986d58'), u'heading': 0, u'sensed_speed': 0, u'accuracy': 37.5}) to line_string \n"
       ]
      },
      {
       "output_type": "stream",
       "stream": "stderr",
       "text": [
        "DEBUG:root:About to add Location({u'loc': {u'type': u'Point', u'coordinates': [-122.0834008, 37.4027977]}, u'fmt_time': u'2015-08-27 17:53:37.877000-07:00', u'altitude': 0, u'ts': 1440723217.877, u'longitude': -122.0834008, u'latitude': 37.4027977, '_id': ObjectId('55dfb4cf7d65cb39ee986d5b'), u'heading': 0, u'sensed_speed': 0, u'accuracy': 45.0}) to line_string \n"
       ]
      },
      {
       "output_type": "stream",
       "stream": "stderr",
       "text": [
        "DEBUG:root:About to add Location({u'loc': {u'type': u'Point', u'coordinates': [-122.0833226, 37.4028425]}, u'fmt_time': u'2015-08-27 17:53:53.789000-07:00', u'altitude': 0, u'ts': 1440723233.789, u'longitude': -122.0833226, u'latitude': 37.4028425, '_id': ObjectId('55dfb4cf7d65cb39ee986d5d'), u'heading': 0, u'sensed_speed': 0, u'accuracy': 51.0}) to line_string \n"
       ]
      },
      {
       "output_type": "stream",
       "stream": "stderr",
       "text": [
        "DEBUG:root:About to add Location({u'loc': {u'type': u'Point', u'coordinates': [-122.0831355, 37.4037647]}, u'fmt_time': u'2015-08-27 17:54:34.938000-07:00', u'altitude': 0, u'ts': 1440723274.938, u'longitude': -122.0831355, u'latitude': 37.4037647, '_id': ObjectId('55dfb4cf7d65cb39ee986d61'), u'heading': 0, u'sensed_speed': 0, u'accuracy': 63.0}) to line_string \n"
       ]
      },
      {
       "output_type": "stream",
       "stream": "stderr",
       "text": [
        "DEBUG:root:About to add Location({u'loc': {u'type': u'Point', u'coordinates': [-122.0836683, 37.403658]}, u'fmt_time': u'2015-08-27 17:55:04.896000-07:00', u'altitude': 0, u'ts': 1440723304.896, u'longitude': -122.0836683, u'latitude': 37.403658, '_id': ObjectId('55dfb4cf7d65cb39ee986d64'), u'heading': 0, u'sensed_speed': 0, u'accuracy': 33.0}) to line_string \n"
       ]
      },
      {
       "output_type": "stream",
       "stream": "stderr",
       "text": [
        "DEBUG:root:About to add Location({u'loc': {u'type': u'Point', u'coordinates': [-122.083702, 37.4036219]}, u'fmt_time': u'2015-08-27 17:55:34.898000-07:00', u'altitude': 0, u'ts': 1440723334.898, u'longitude': -122.083702, u'latitude': 37.4036219, '_id': ObjectId('55dfb4cf7d65cb39ee986d67'), u'heading': 0, u'sensed_speed': 0, u'accuracy': 36.0}) to line_string \n"
       ]
      },
      {
       "output_type": "stream",
       "stream": "stderr",
       "text": [
        "DEBUG:root:About to execute query {'trip_id': ObjectId('5603ae0cf6858f0cbbb6055c'), 'user_id': UUID('0763de67-f61e-3f5d-90e7-518e69793954')}\n"
       ]
      },
      {
       "output_type": "stream",
       "stream": "stderr",
       "text": [
        "DEBUG:root:len(places) = 1, len(trips) = 2\n"
       ]
      },
      {
       "output_type": "stream",
       "stream": "stderr",
       "text": [
        "DEBUG:root:Starting with element of type trip, id 5603ae11f6858f0cbbb60595, details Section({u'user_id': UUID('0763de67-f61e-3f5d-90e7-518e69793954'), u'sensed_mode': 0, u'start_loc': {u'type': u'Point', u'coordinates': [-122.0816952, 37.4026009]}, u'end_ts': 1440728794.308, u'start_ts': 1440728519.971, u'start_fmt_time': u'2015-08-27 19:21:59.971000-07:00', u'end_loc': {u'type': u'Point', u'coordinates': [-122.0777742, 37.3955849]}, u'source': u'SmoothedHighConfidenceMotion', u'end_fmt_time': u'2015-08-27 19:26:34.308000-07:00', u'duration': 274.33700013160706, u'end_stop': ObjectId('5603ae11f6858f0cbbb60597'), u'_id': ObjectId('5603ae11f6858f0cbbb60595'), u'trip_id': ObjectId('5603ae0cf6858f0cbbb6055c')})\n"
       ]
      },
      {
       "output_type": "stream",
       "stream": "stderr",
       "text": [
        "DEBUG:root:sort_key = metadata.write_ts\n"
       ]
      },
      {
       "output_type": "stream",
       "stream": "stderr",
       "text": [
        "DEBUG:root:ret_val = {u'loc': {u'type': u'Point', u'coordinates': [-122.0816952, 37.4026009]}, u'fmt_time': u'2015-08-27 19:21:59.971000-07:00', u'altitude': 0, u'ts': 1440728519.971, u'longitude': -122.0816952, u'latitude': 37.4026009, '_id': ObjectId('55dfcaca7d65cb39ee986e11'), u'heading': 0, u'sensed_speed': 0, u'accuracy': 40.614} \n"
       ]
      },
      {
       "output_type": "stream",
       "stream": "stderr",
       "text": [
        "DEBUG:root:ret_val = {u'loc': {u'type': u'Point', u'coordinates': [-122.0804086, 37.402437]}, u'fmt_time': u'2015-08-27 19:22:34.135000-07:00', u'altitude': 0, u'ts': 1440728554.135, u'longitude': -122.0804086, u'latitude': 37.402437, '_id': ObjectId('55dfcaca7d65cb39ee986e14'), u'heading': 0, u'sensed_speed': 0, u'accuracy': 57.994} \n"
       ]
      },
      {
       "output_type": "stream",
       "stream": "stderr",
       "text": [
        "DEBUG:root:ret_val = {u'loc': {u'type': u'Point', u'coordinates': [-122.0785754, 37.4015364]}, u'fmt_time': u'2015-08-27 19:23:04.128000-07:00', u'altitude': 0, u'ts': 1440728584.128, u'longitude': -122.0785754, u'latitude': 37.4015364, '_id': ObjectId('55dfcaca7d65cb39ee986e17'), u'heading': 0, u'sensed_speed': 0, u'accuracy': 36} \n"
       ]
      },
      {
       "output_type": "stream",
       "stream": "stderr",
       "text": [
        "DEBUG:root:ret_val = {u'loc': {u'type': u'Point', u'coordinates': [-122.0792398, 37.4015005]}, u'fmt_time': u'2015-08-27 19:23:34.210000-07:00', u'altitude': 0, u'ts': 1440728614.21, u'longitude': -122.0792398, u'latitude': 37.4015005, '_id': ObjectId('55dfcaca7d65cb39ee986e1a'), u'heading': 0, u'sensed_speed': 0, u'accuracy': 31.5} \n"
       ]
      },
      {
       "output_type": "stream",
       "stream": "stderr",
       "text": [
        "DEBUG:root:ret_val = {u'loc': {u'type': u'Point', u'coordinates': [-122.0800125, 37.4007004]}, u'fmt_time': u'2015-08-27 19:24:04.192000-07:00', u'altitude': 0, u'ts': 1440728644.192, u'longitude': -122.0800125, u'latitude': 37.4007004, '_id': ObjectId('55dfcaca7d65cb39ee986e1c'), u'heading': 0, u'sensed_speed': 0, u'accuracy': 30} \n"
       ]
      },
      {
       "output_type": "stream",
       "stream": "stderr",
       "text": [
        "DEBUG:root:ret_val = {u'loc': {u'type': u'Point', u'coordinates': [-122.0806887, 37.3999177]}, u'fmt_time': u'2015-08-27 19:24:34.282000-07:00', u'altitude': 0, u'ts': 1440728674.282, u'longitude': -122.0806887, u'latitude': 37.3999177, '_id': ObjectId('55dfcaca7d65cb39ee986e1f'), u'heading': 0, u'sensed_speed': 0, u'accuracy': 37.5} \n"
       ]
      },
      {
       "output_type": "stream",
       "stream": "stderr",
       "text": [
        "DEBUG:root:ret_val = {u'loc': {u'type': u'Point', u'coordinates': [-122.0808318, 37.3995013]}, u'fmt_time': u'2015-08-27 19:25:04.266000-07:00', u'altitude': 0, u'ts': 1440728704.266, u'longitude': -122.0808318, u'latitude': 37.3995013, '_id': ObjectId('55dfcaca7d65cb39ee986e21'), u'heading': 0, u'sensed_speed': 0, u'accuracy': 42} \n"
       ]
      },
      {
       "output_type": "stream",
       "stream": "stderr",
       "text": [
        "DEBUG:root:ret_val = {u'loc': {u'type': u'Point', u'coordinates': [-122.0807172, 37.3994594]}, u'fmt_time': u'2015-08-27 19:25:34.248000-07:00', u'altitude': 0, u'ts': 1440728734.248, u'longitude': -122.0807172, u'latitude': 37.3994594, '_id': ObjectId('55dfcacb7d65cb39ee986e23'), u'heading': 0, u'sensed_speed': 0, u'accuracy': 81} \n"
       ]
      },
      {
       "output_type": "stream",
       "stream": "stderr",
       "text": [
        "DEBUG:root:ret_val = {u'loc': {u'type': u'Point', u'coordinates': [-122.0809948, 37.3983218]}, u'fmt_time': u'2015-08-27 19:26:04.243000-07:00', u'altitude': 0, u'ts': 1440728764.243, u'longitude': -122.0809948, u'latitude': 37.3983218, '_id': ObjectId('55dfcacb7d65cb39ee986e27'), u'heading': 0, u'sensed_speed': 0, u'accuracy': 36} \n"
       ]
      },
      {
       "output_type": "stream",
       "stream": "stderr",
       "text": [
        "DEBUG:root:ret_val = {u'loc': {u'type': u'Point', u'coordinates': [-122.0777742, 37.3955849]}, u'fmt_time': u'2015-08-27 19:26:34.308000-07:00', u'altitude': 0, u'ts': 1440728794.308, u'longitude': -122.0777742, u'latitude': 37.3955849, '_id': ObjectId('55dfcacb7d65cb39ee986e29'), u'heading': 0, u'sensed_speed': 0, u'accuracy': 67.5} \n"
       ]
      },
      {
       "output_type": "stream",
       "stream": "stderr",
       "text": [
        "DEBUG:root:points_df.columns = Index([u'_id', u'accuracy', u'altitude', u'fmt_time', u'heading', u'latitude', u'loc', u'longitude', u'sensed_speed', u'ts'], dtype='object')\n"
       ]
      },
      {
       "output_type": "stream",
       "stream": "stderr",
       "text": [
        "DEBUG:root:first element in section_location_array = Location({u'loc': {u'type': u'Point', u'coordinates': [-122.0816952, 37.4026009]}, u'fmt_time': u'2015-08-27 19:21:59.971000-07:00', u'altitude': 0, u'ts': 1440728519.971, u'longitude': -122.0816952, u'latitude': 37.4026009, '_id': ObjectId('55dfcaca7d65cb39ee986e11'), u'heading': 0, u'sensed_speed': 0, u'accuracy': 40.614})\n"
       ]
      },
      {
       "output_type": "stream",
       "stream": "stderr",
       "text": [
        "DEBUG:root:About to add Location({u'loc': {u'type': u'Point', u'coordinates': [-122.0816952, 37.4026009]}, u'fmt_time': u'2015-08-27 19:21:59.971000-07:00', u'altitude': 0, u'ts': 1440728519.971, u'longitude': -122.0816952, u'latitude': 37.4026009, '_id': ObjectId('55dfcaca7d65cb39ee986e11'), u'heading': 0, u'sensed_speed': 0, u'accuracy': 40.614}) to line_string \n"
       ]
      },
      {
       "output_type": "stream",
       "stream": "stderr",
       "text": [
        "DEBUG:root:About to add Location({u'loc': {u'type': u'Point', u'coordinates': [-122.0804086, 37.402437]}, u'fmt_time': u'2015-08-27 19:22:34.135000-07:00', u'altitude': 0, u'ts': 1440728554.135, u'longitude': -122.0804086, u'latitude': 37.402437, '_id': ObjectId('55dfcaca7d65cb39ee986e14'), u'heading': 0, u'sensed_speed': 0, u'accuracy': 57.994}) to line_string \n"
       ]
      },
      {
       "output_type": "stream",
       "stream": "stderr",
       "text": [
        "DEBUG:root:About to add Location({u'loc': {u'type': u'Point', u'coordinates': [-122.0785754, 37.4015364]}, u'fmt_time': u'2015-08-27 19:23:04.128000-07:00', u'altitude': 0, u'ts': 1440728584.128, u'longitude': -122.0785754, u'latitude': 37.4015364, '_id': ObjectId('55dfcaca7d65cb39ee986e17'), u'heading': 0, u'sensed_speed': 0, u'accuracy': 36.0}) to line_string \n"
       ]
      },
      {
       "output_type": "stream",
       "stream": "stderr",
       "text": [
        "DEBUG:root:About to add Location({u'loc': {u'type': u'Point', u'coordinates': [-122.0792398, 37.4015005]}, u'fmt_time': u'2015-08-27 19:23:34.210000-07:00', u'altitude': 0, u'ts': 1440728614.21, u'longitude': -122.0792398, u'latitude': 37.4015005, '_id': ObjectId('55dfcaca7d65cb39ee986e1a'), u'heading': 0, u'sensed_speed': 0, u'accuracy': 31.5}) to line_string \n"
       ]
      },
      {
       "output_type": "stream",
       "stream": "stderr",
       "text": [
        "DEBUG:root:About to add Location({u'loc': {u'type': u'Point', u'coordinates': [-122.0800125, 37.4007004]}, u'fmt_time': u'2015-08-27 19:24:04.192000-07:00', u'altitude': 0, u'ts': 1440728644.192, u'longitude': -122.0800125, u'latitude': 37.4007004, '_id': ObjectId('55dfcaca7d65cb39ee986e1c'), u'heading': 0, u'sensed_speed': 0, u'accuracy': 30.0}) to line_string \n"
       ]
      },
      {
       "output_type": "stream",
       "stream": "stderr",
       "text": [
        "DEBUG:root:About to add Location({u'loc': {u'type': u'Point', u'coordinates': [-122.0806887, 37.3999177]}, u'fmt_time': u'2015-08-27 19:24:34.282000-07:00', u'altitude': 0, u'ts': 1440728674.282, u'longitude': -122.0806887, u'latitude': 37.3999177, '_id': ObjectId('55dfcaca7d65cb39ee986e1f'), u'heading': 0, u'sensed_speed': 0, u'accuracy': 37.5}) to line_string \n"
       ]
      },
      {
       "output_type": "stream",
       "stream": "stderr",
       "text": [
        "DEBUG:root:About to add Location({u'loc': {u'type': u'Point', u'coordinates': [-122.0808318, 37.3995013]}, u'fmt_time': u'2015-08-27 19:25:04.266000-07:00', u'altitude': 0, u'ts': 1440728704.266, u'longitude': -122.0808318, u'latitude': 37.3995013, '_id': ObjectId('55dfcaca7d65cb39ee986e21'), u'heading': 0, u'sensed_speed': 0, u'accuracy': 42.0}) to line_string \n"
       ]
      },
      {
       "output_type": "stream",
       "stream": "stderr",
       "text": [
        "DEBUG:root:About to add Location({u'loc': {u'type': u'Point', u'coordinates': [-122.0807172, 37.3994594]}, u'fmt_time': u'2015-08-27 19:25:34.248000-07:00', u'altitude': 0, u'ts': 1440728734.248, u'longitude': -122.0807172, u'latitude': 37.3994594, '_id': ObjectId('55dfcacb7d65cb39ee986e23'), u'heading': 0, u'sensed_speed': 0, u'accuracy': 81.0}) to line_string \n"
       ]
      },
      {
       "output_type": "stream",
       "stream": "stderr",
       "text": [
        "DEBUG:root:About to add Location({u'loc': {u'type': u'Point', u'coordinates': [-122.0809948, 37.3983218]}, u'fmt_time': u'2015-08-27 19:26:04.243000-07:00', u'altitude': 0, u'ts': 1440728764.243, u'longitude': -122.0809948, u'latitude': 37.3983218, '_id': ObjectId('55dfcacb7d65cb39ee986e27'), u'heading': 0, u'sensed_speed': 0, u'accuracy': 36.0}) to line_string \n"
       ]
      },
      {
       "output_type": "stream",
       "stream": "stderr",
       "text": [
        "DEBUG:root:About to add Location({u'loc': {u'type': u'Point', u'coordinates': [-122.0777742, 37.3955849]}, u'fmt_time': u'2015-08-27 19:26:34.308000-07:00', u'altitude': 0, u'ts': 1440728794.308, u'longitude': -122.0777742, u'latitude': 37.3955849, '_id': ObjectId('55dfcacb7d65cb39ee986e29'), u'heading': 0, u'sensed_speed': 0, u'accuracy': 67.5}) to line_string \n"
       ]
      },
      {
       "output_type": "stream",
       "stream": "stderr",
       "text": [
        "DEBUG:root:sort_key = metadata.write_ts\n"
       ]
      },
      {
       "output_type": "stream",
       "stream": "stderr",
       "text": [
        "DEBUG:root:ret_val = {u'loc': {u'type': u'Point', u'coordinates': [-122.0804791, 37.3959724]}, u'fmt_time': u'2015-08-27 19:27:04.315000-07:00', u'altitude': 0, u'ts': 1440728824.315, u'longitude': -122.0804791, u'latitude': 37.3959724, '_id': ObjectId('55dfcacb7d65cb39ee986e2c'), u'heading': 0, u'sensed_speed': 0, u'accuracy': 30} \n"
       ]
      },
      {
       "output_type": "stream",
       "stream": "stderr",
       "text": [
        "DEBUG:root:ret_val = {u'loc': {u'type': u'Point', u'coordinates': [-122.0829762, 37.3959456]}, u'fmt_time': u'2015-08-27 19:27:34.365000-07:00', u'altitude': 0, u'ts': 1440728854.365, u'longitude': -122.0829762, u'latitude': 37.3959456, '_id': ObjectId('55dfcacb7d65cb39ee986e2f'), u'heading': 0, u'sensed_speed': 0, u'accuracy': 37.5} \n"
       ]
      },
      {
       "output_type": "stream",
       "stream": "stderr",
       "text": [
        "DEBUG:root:ret_val = {u'loc': {u'type': u'Point', u'coordinates': [-122.0829727, 37.3959806]}, u'fmt_time': u'2015-08-27 19:28:04.387000-07:00', u'altitude': 0, u'ts': 1440728884.387, u'longitude': -122.0829727, u'latitude': 37.3959806, '_id': ObjectId('55dfcacb7d65cb39ee986e31'), u'heading': 0, u'sensed_speed': 0, u'accuracy': 40.5} \n"
       ]
      },
      {
       "output_type": "stream",
       "stream": "stderr",
       "text": [
        "DEBUG:root:ret_val = {u'loc': {u'type': u'Point', u'coordinates': [-122.0836812, 37.3948295]}, u'fmt_time': u'2015-08-27 19:28:34.434000-07:00', u'altitude': 0, u'ts': 1440728914.434, u'longitude': -122.0836812, u'latitude': 37.3948295, '_id': ObjectId('55dfcacc7d65cb39ee986e34'), u'heading': 0, u'sensed_speed': 0, u'accuracy': 33} \n"
       ]
      },
      {
       "output_type": "stream",
       "stream": "stderr",
       "text": [
        "DEBUG:root:ret_val = {u'loc': {u'type': u'Point', u'coordinates': [-122.0844196, 37.3937479]}, u'fmt_time': u'2015-08-27 19:29:04.482000-07:00', u'altitude': 0, u'ts': 1440728944.482, u'longitude': -122.0844196, u'latitude': 37.3937479, '_id': ObjectId('55dfcacc7d65cb39ee986e37'), u'heading': 0, u'sensed_speed': 0, u'accuracy': 37.5} \n"
       ]
      },
      {
       "output_type": "stream",
       "stream": "stderr",
       "text": [
        "DEBUG:root:ret_val = {u'loc': {u'type': u'Point', u'coordinates': [-122.0848882, 37.3930485]}, u'fmt_time': u'2015-08-27 19:29:34.487000-07:00', u'altitude': 0, u'ts': 1440728974.487, u'longitude': -122.0848882, u'latitude': 37.3930485, '_id': ObjectId('55dfcacc7d65cb39ee986e3a'), u'heading': 0, u'sensed_speed': 0, u'accuracy': 39} \n"
       ]
      },
      {
       "output_type": "stream",
       "stream": "stderr",
       "text": [
        "DEBUG:root:ret_val = {u'loc': {u'type': u'Point', u'coordinates': [-122.0854796, 37.3920595]}, u'fmt_time': u'2015-08-27 19:30:04.524000-07:00', u'altitude': 0, u'ts': 1440729004.524, u'longitude': -122.0854796, u'latitude': 37.3920595, '_id': ObjectId('55dfcacc7d65cb39ee986e3c'), u'heading': 0, u'sensed_speed': 0, u'accuracy': 108.529} \n"
       ]
      },
      {
       "output_type": "stream",
       "stream": "stderr",
       "text": [
        "DEBUG:root:ret_val = {u'loc': {u'type': u'Point', u'coordinates': [-122.0860801, 37.3911279]}, u'fmt_time': u'2015-08-27 19:30:34.649000-07:00', u'altitude': 0, u'ts': 1440729034.649, u'longitude': -122.0860801, u'latitude': 37.3911279, '_id': ObjectId('55dfcacc7d65cb39ee986e3f'), u'heading': 0, u'sensed_speed': 0, u'accuracy': 40.5} \n"
       ]
      },
      {
       "output_type": "stream",
       "stream": "stderr",
       "text": [
        "DEBUG:root:ret_val = {u'loc': {u'type': u'Point', u'coordinates': [-122.0862471, 37.3909095]}, u'fmt_time': u'2015-08-27 19:30:46.692000-07:00', u'altitude': 0, u'ts': 1440729046.692, u'longitude': -122.0862471, u'latitude': 37.3909095, '_id': ObjectId('55dfcacc7d65cb39ee986e41'), u'heading': 0, u'sensed_speed': 0, u'accuracy': 30} \n"
       ]
      },
      {
       "output_type": "stream",
       "stream": "stderr",
       "text": [
        "DEBUG:root:ret_val = {u'loc': {u'type': u'Point', u'coordinates': [-122.0862131, 37.3910022]}, u'fmt_time': u'2015-08-27 19:31:19.792000-07:00', u'altitude': 0, u'ts': 1440729079.792, u'longitude': -122.0862131, u'latitude': 37.3910022, '_id': ObjectId('55dfcacd7d65cb39ee986e45'), u'heading': 0, u'sensed_speed': 0, u'accuracy': 37.5} \n"
       ]
      },
      {
       "output_type": "stream",
       "stream": "stderr",
       "text": [
        "DEBUG:root:ret_val = {u'loc': {u'type': u'Point', u'coordinates': [-122.0862609, 37.3909709]}, u'fmt_time': u'2015-08-27 19:32:04.640000-07:00', u'altitude': 0, u'ts': 1440729124.64, u'longitude': -122.0862609, u'latitude': 37.3909709, '_id': ObjectId('55dfcacd7d65cb39ee986e48'), u'heading': 0, u'sensed_speed': 0, u'accuracy': 30} \n"
       ]
      },
      {
       "output_type": "stream",
       "stream": "stderr",
       "text": [
        "DEBUG:root:ret_val = {u'loc': {u'type': u'Point', u'coordinates': [-122.0862609, 37.3909709]}, u'fmt_time': u'2015-08-27 19:32:22.709000-07:00', u'altitude': 0, u'ts': 1440729142.709, u'longitude': -122.0862609, u'latitude': 37.3909709, '_id': ObjectId('55dfcacd7d65cb39ee986e4c'), u'heading': 0, u'sensed_speed': 0, u'accuracy': 30} \n"
       ]
      },
      {
       "output_type": "stream",
       "stream": "stderr",
       "text": [
        "DEBUG:root:points_df.columns = Index([u'_id', u'accuracy', u'altitude', u'fmt_time', u'heading', u'latitude', u'loc', u'longitude', u'sensed_speed', u'ts'], dtype='object')\n"
       ]
      },
      {
       "output_type": "stream",
       "stream": "stderr",
       "text": [
        "DEBUG:root:first element in section_location_array = Location({u'loc': {u'type': u'Point', u'coordinates': [-122.0804791, 37.3959724]}, u'fmt_time': u'2015-08-27 19:27:04.315000-07:00', u'altitude': 0, u'ts': 1440728824.315, u'longitude': -122.0804791, u'latitude': 37.3959724, '_id': ObjectId('55dfcacb7d65cb39ee986e2c'), u'heading': 0, u'sensed_speed': 0, u'accuracy': 30.0})\n"
       ]
      },
      {
       "output_type": "stream",
       "stream": "stderr",
       "text": [
        "DEBUG:root:About to add Location({u'loc': {u'type': u'Point', u'coordinates': [-122.0804791, 37.3959724]}, u'fmt_time': u'2015-08-27 19:27:04.315000-07:00', u'altitude': 0, u'ts': 1440728824.315, u'longitude': -122.0804791, u'latitude': 37.3959724, '_id': ObjectId('55dfcacb7d65cb39ee986e2c'), u'heading': 0, u'sensed_speed': 0, u'accuracy': 30.0}) to line_string \n"
       ]
      },
      {
       "output_type": "stream",
       "stream": "stderr",
       "text": [
        "DEBUG:root:About to add Location({u'loc': {u'type': u'Point', u'coordinates': [-122.0829762, 37.3959456]}, u'fmt_time': u'2015-08-27 19:27:34.365000-07:00', u'altitude': 0, u'ts': 1440728854.365, u'longitude': -122.0829762, u'latitude': 37.3959456, '_id': ObjectId('55dfcacb7d65cb39ee986e2f'), u'heading': 0, u'sensed_speed': 0, u'accuracy': 37.5}) to line_string \n"
       ]
      },
      {
       "output_type": "stream",
       "stream": "stderr",
       "text": [
        "DEBUG:root:About to add Location({u'loc': {u'type': u'Point', u'coordinates': [-122.0829727, 37.3959806]}, u'fmt_time': u'2015-08-27 19:28:04.387000-07:00', u'altitude': 0, u'ts': 1440728884.387, u'longitude': -122.0829727, u'latitude': 37.3959806, '_id': ObjectId('55dfcacb7d65cb39ee986e31'), u'heading': 0, u'sensed_speed': 0, u'accuracy': 40.5}) to line_string \n"
       ]
      },
      {
       "output_type": "stream",
       "stream": "stderr",
       "text": [
        "DEBUG:root:About to add Location({u'loc': {u'type': u'Point', u'coordinates': [-122.0836812, 37.3948295]}, u'fmt_time': u'2015-08-27 19:28:34.434000-07:00', u'altitude': 0, u'ts': 1440728914.434, u'longitude': -122.0836812, u'latitude': 37.3948295, '_id': ObjectId('55dfcacc7d65cb39ee986e34'), u'heading': 0, u'sensed_speed': 0, u'accuracy': 33.0}) to line_string \n"
       ]
      },
      {
       "output_type": "stream",
       "stream": "stderr",
       "text": [
        "DEBUG:root:About to add Location({u'loc': {u'type': u'Point', u'coordinates': [-122.0844196, 37.3937479]}, u'fmt_time': u'2015-08-27 19:29:04.482000-07:00', u'altitude': 0, u'ts': 1440728944.482, u'longitude': -122.0844196, u'latitude': 37.3937479, '_id': ObjectId('55dfcacc7d65cb39ee986e37'), u'heading': 0, u'sensed_speed': 0, u'accuracy': 37.5}) to line_string \n"
       ]
      },
      {
       "output_type": "stream",
       "stream": "stderr",
       "text": [
        "DEBUG:root:About to add Location({u'loc': {u'type': u'Point', u'coordinates': [-122.0848882, 37.3930485]}, u'fmt_time': u'2015-08-27 19:29:34.487000-07:00', u'altitude': 0, u'ts': 1440728974.487, u'longitude': -122.0848882, u'latitude': 37.3930485, '_id': ObjectId('55dfcacc7d65cb39ee986e3a'), u'heading': 0, u'sensed_speed': 0, u'accuracy': 39.0}) to line_string \n"
       ]
      },
      {
       "output_type": "stream",
       "stream": "stderr",
       "text": [
        "DEBUG:root:About to add Location({u'loc': {u'type': u'Point', u'coordinates': [-122.0854796, 37.3920595]}, u'fmt_time': u'2015-08-27 19:30:04.524000-07:00', u'altitude': 0, u'ts': 1440729004.524, u'longitude': -122.0854796, u'latitude': 37.3920595, '_id': ObjectId('55dfcacc7d65cb39ee986e3c'), u'heading': 0, u'sensed_speed': 0, u'accuracy': 108.529}) to line_string \n"
       ]
      },
      {
       "output_type": "stream",
       "stream": "stderr",
       "text": [
        "DEBUG:root:About to add Location({u'loc': {u'type': u'Point', u'coordinates': [-122.0860801, 37.3911279]}, u'fmt_time': u'2015-08-27 19:30:34.649000-07:00', u'altitude': 0, u'ts': 1440729034.649, u'longitude': -122.0860801, u'latitude': 37.3911279, '_id': ObjectId('55dfcacc7d65cb39ee986e3f'), u'heading': 0, u'sensed_speed': 0, u'accuracy': 40.5}) to line_string \n"
       ]
      },
      {
       "output_type": "stream",
       "stream": "stderr",
       "text": [
        "DEBUG:root:About to add Location({u'loc': {u'type': u'Point', u'coordinates': [-122.0862471, 37.3909095]}, u'fmt_time': u'2015-08-27 19:30:46.692000-07:00', u'altitude': 0, u'ts': 1440729046.692, u'longitude': -122.0862471, u'latitude': 37.3909095, '_id': ObjectId('55dfcacc7d65cb39ee986e41'), u'heading': 0, u'sensed_speed': 0, u'accuracy': 30.0}) to line_string \n"
       ]
      },
      {
       "output_type": "stream",
       "stream": "stderr",
       "text": [
        "DEBUG:root:About to add Location({u'loc': {u'type': u'Point', u'coordinates': [-122.0862131, 37.3910022]}, u'fmt_time': u'2015-08-27 19:31:19.792000-07:00', u'altitude': 0, u'ts': 1440729079.792, u'longitude': -122.0862131, u'latitude': 37.3910022, '_id': ObjectId('55dfcacd7d65cb39ee986e45'), u'heading': 0, u'sensed_speed': 0, u'accuracy': 37.5}) to line_string \n"
       ]
      },
      {
       "output_type": "stream",
       "stream": "stderr",
       "text": [
        "DEBUG:root:About to add Location({u'loc': {u'type': u'Point', u'coordinates': [-122.0862609, 37.3909709]}, u'fmt_time': u'2015-08-27 19:32:04.640000-07:00', u'altitude': 0, u'ts': 1440729124.64, u'longitude': -122.0862609, u'latitude': 37.3909709, '_id': ObjectId('55dfcacd7d65cb39ee986e48'), u'heading': 0, u'sensed_speed': 0, u'accuracy': 30.0}) to line_string \n"
       ]
      },
      {
       "output_type": "stream",
       "stream": "stderr",
       "text": [
        "DEBUG:root:About to add Location({u'loc': {u'type': u'Point', u'coordinates': [-122.0862609, 37.3909709]}, u'fmt_time': u'2015-08-27 19:32:22.709000-07:00', u'altitude': 0, u'ts': 1440729142.709, u'longitude': -122.0862609, u'latitude': 37.3909709, '_id': ObjectId('55dfcacd7d65cb39ee986e4c'), u'heading': 0, u'sensed_speed': 0, u'accuracy': 30.0}) to line_string \n"
       ]
      },
      {
       "output_type": "stream",
       "stream": "stderr",
       "text": [
        "DEBUG:root:{\"features\": [{\"geometry\": {\"coordinates\": [-122.0864045, 37.3905444], \"type\": \"Point\"}, \"id\": \"5603ae0cf6858f0cbbb6054d\", \"properties\": {\"duration\": 38139.26799988747, \"enter_fmt_time\": \"2015-08-26 21:43:20.404000-07:00\", \"enter_ts\": 1440650600.404, \"exit_fmt_time\": \"2015-08-27 08:18:59.672000-07:00\", \"exit_ts\": 1440688739.672, \"feature_type\": \"place\", \"source\": \"DwellSegmentationTimeFilter\"}, \"type\": \"Feature\"}, {\"geometry\": {\"coordinates\": [-122.0835641, 37.4034802], \"type\": \"Point\"}, \"id\": \"5603ae0cf6858f0cbbb6054f\", \"properties\": {\"duration\": 254.64100003242493, \"enter_fmt_time\": \"2015-08-27 08:30:08.302000-07:00\", \"enter_ts\": 1440689408.302, \"exit_fmt_time\": \"2015-08-27 08:34:22.943000-07:00\", \"exit_ts\": 1440689662.943, \"feature_type\": \"place\", \"source\": \"DwellSegmentationTimeFilter\"}, \"type\": \"Feature\"}, {\"geometry\": {\"coordinates\": [-122.0845296, 37.4034667], \"type\": \"Point\"}, \"id\": \"5603ae10f6858f0cbbb60583\", \"properties\": {\"duration\": 31.819999933242798, \"enter_fmt_time\": \"2015-08-27 08:27:45.092000-07:00\", \"enter_ts\": 1440689265.092, \"exit_fmt_time\": \"2015-08-27 08:28:16.912000-07:00\", \"exit_ts\": 1440689296.912, \"feature_type\": \"stop\", \"source\": \"SmoothedHighConfidenceMotion\"}, \"type\": \"Feature\"}, {\"features\": [{\"features\": [{\"geometry\": {\"coordinates\": [-122.0846749, 37.393415], \"type\": \"Point\"}, \"id\": \"55df34ee7d65cb39ee9865a6\", \"properties\": {\"accuracy\": 43.5, \"altitude\": 0, \"feature_type\": \"location\", \"fmt_time\": \"2015-08-27 08:18:59.672000-07:00\", \"heading\": 0, \"latitude\": 37.393415, \"longitude\": -122.0846749, \"sensed_speed\": 0, \"ts\": 1440688739.672}, \"type\": \"Feature\"}, {\"geometry\": {\"coordinates\": [-122.0841016, 37.3941547], \"type\": \"Point\"}, \"id\": \"55df34ee7d65cb39ee9865a8\", \"properties\": {\"accuracy\": 81.0, \"altitude\": 0, \"feature_type\": \"location\", \"fmt_time\": \"2015-08-27 08:19:15.574000-07:00\", \"heading\": 0, \"latitude\": 37.3941547, \"longitude\": -122.0841016, \"sensed_speed\": 0, \"ts\": 1440688755.574}, \"type\": \"Feature\"}, {\"geometry\": {\"coordinates\": [-122.0831438, 37.3956262], \"type\": \"Point\"}, \"id\": \"55df34ee7d65cb39ee9865aa\", \"properties\": {\"accuracy\": 45.0, \"altitude\": 0, \"feature_type\": \"location\", \"fmt_time\": \"2015-08-27 08:19:47.388000-07:00\", \"heading\": 0, \"latitude\": 37.3956262, \"longitude\": -122.0831438, \"sensed_speed\": 0, \"ts\": 1440688787.388}, \"type\": \"Feature\"}, {\"geometry\": {\"coordinates\": [-122.0830409, 37.3957967], \"type\": \"Point\"}, \"id\": \"55df34ee7d65cb39ee9865ad\", \"properties\": {\"accuracy\": 36.0, \"altitude\": 0, \"feature_type\": \"location\", \"fmt_time\": \"2015-08-27 08:20:19.216000-07:00\", \"heading\": 0, \"latitude\": 37.3957967, \"longitude\": -122.0830409, \"sensed_speed\": 0, \"ts\": 1440688819.216}, \"type\": \"Feature\"}, {\"geometry\": {\"coordinates\": [-122.0830094, 37.3959019], \"type\": \"Point\"}, \"id\": \"55df34ee7d65cb39ee9865af\", \"properties\": {\"accuracy\": 30.0, \"altitude\": 0, \"feature_type\": \"location\", \"fmt_time\": \"2015-08-27 08:20:51.053000-07:00\", \"heading\": 0, \"latitude\": 37.3959019, \"longitude\": -122.0830094, \"sensed_speed\": 0, \"ts\": 1440688851.053}, \"type\": \"Feature\"}, {\"geometry\": {\"coordinates\": [-122.0828785, 37.3960132], \"type\": \"Point\"}, \"id\": \"55df34ee7d65cb39ee9865b1\", \"properties\": {\"accuracy\": 48.0, \"altitude\": 0, \"feature_type\": \"location\", \"fmt_time\": \"2015-08-27 08:21:22.869000-07:00\", \"heading\": 0, \"latitude\": 37.3960132, \"longitude\": -122.0828785, \"sensed_speed\": 0, \"ts\": 1440688882.869}, \"type\": \"Feature\"}, {\"geometry\": {\"coordinates\": [-122.0828663, 37.3960665], \"type\": \"Point\"}, \"id\": \"55df34ee7d65cb39ee9865b4\", \"properties\": {\"accuracy\": 43.5, \"altitude\": 0, \"feature_type\": \"location\", \"fmt_time\": \"2015-08-27 08:21:38.781000-07:00\", \"heading\": 0, \"latitude\": 37.3960665, \"longitude\": -122.0828663, \"sensed_speed\": 0, \"ts\": 1440688898.781}, \"type\": \"Feature\"}, {\"geometry\": {\"coordinates\": [-122.0818078, 37.3957659], \"type\": \"Point\"}, \"id\": \"55df34ef7d65cb39ee9865b7\", \"properties\": {\"accuracy\": 51.0, \"altitude\": 0, \"feature_type\": \"location\", \"fmt_time\": \"2015-08-27 08:22:10.603000-07:00\", \"heading\": 0, \"latitude\": 37.3957659, \"longitude\": -122.0818078, \"sensed_speed\": 0, \"ts\": 1440688930.603}, \"type\": \"Feature\"}, {\"geometry\": {\"coordinates\": [-122.0808227, 37.3971981], \"type\": \"Point\"}, \"id\": \"55df34ef7d65cb39ee9865b9\", \"properties\": {\"accuracy\": 37.5, \"altitude\": 0, \"feature_type\": \"location\", \"fmt_time\": \"2015-08-27 08:22:42.392000-07:00\", \"heading\": 0, \"latitude\": 37.3971981, \"longitude\": -122.0808227, \"sensed_speed\": 0, \"ts\": 1440688962.392}, \"type\": \"Feature\"}, {\"geometry\": {\"coordinates\": [-122.0808461, 37.3986502], \"type\": \"Point\"}, \"id\": \"55df34ef7d65cb39ee9865bc\", \"properties\": {\"accuracy\": 55.5, \"altitude\": 0, \"feature_type\": \"location\", \"fmt_time\": \"2015-08-27 08:23:14.225000-07:00\", \"heading\": 0, \"latitude\": 37.3986502, \"longitude\": -122.0808461, \"sensed_speed\": 0, \"ts\": 1440688994.225}, \"type\": \"Feature\"}, {\"geometry\": {\"coordinates\": [-122.0805741, 37.3999882], \"type\": \"Point\"}, \"id\": \"55df34ef7d65cb39ee9865bf\", \"properties\": {\"accuracy\": 31.5, \"altitude\": 0, \"feature_type\": \"location\", \"fmt_time\": \"2015-08-27 08:23:46.067000-07:00\", \"heading\": 0, \"latitude\": 37.3999882, \"longitude\": -122.0805741, \"sensed_speed\": 0, \"ts\": 1440689026.067}, \"type\": \"Feature\"}, {\"geometry\": {\"coordinates\": [-122.0805585, 37.3999972], \"type\": \"Point\"}, \"id\": \"55df34ef7d65cb39ee9865c1\", \"properties\": {\"accuracy\": 36.0, \"altitude\": 0, \"feature_type\": \"location\", \"fmt_time\": \"2015-08-27 08:24:17.903000-07:00\", \"heading\": 0, \"latitude\": 37.3999972, \"longitude\": -122.0805585, \"sensed_speed\": 0, \"ts\": 1440689057.903}, \"type\": \"Feature\"}, {\"geometry\": {\"coordinates\": [-122.0809311, 37.3999008], \"type\": \"Point\"}, \"id\": \"55df34ef7d65cb39ee9865c4\", \"properties\": {\"accuracy\": 105.968, \"altitude\": 0, \"feature_type\": \"location\", \"fmt_time\": \"2015-08-27 08:24:49.947000-07:00\", \"heading\": 0, \"latitude\": 37.3999008, \"longitude\": -122.0809311, \"sensed_speed\": 0, \"ts\": 1440689089.947}, \"type\": \"Feature\"}, {\"geometry\": {\"coordinates\": [-122.0825585, 37.400037], \"type\": \"Point\"}, \"id\": \"55df34ef7d65cb39ee9865c7\", \"properties\": {\"accuracy\": 125.167, \"altitude\": 0, \"feature_type\": \"location\", \"fmt_time\": \"2015-08-27 08:25:21.789000-07:00\", \"heading\": 0, \"latitude\": 37.400037, \"longitude\": -122.0825585, \"sensed_speed\": 0, \"ts\": 1440689121.789}, \"type\": \"Feature\"}, {\"geometry\": {\"coordinates\": [-122.084657, 37.4006053], \"type\": \"Point\"}, \"id\": \"55df34f07d65cb39ee9865c9\", \"properties\": {\"accuracy\": 50.612, \"altitude\": 0, \"feature_type\": \"location\", \"fmt_time\": \"2015-08-27 08:25:53.593000-07:00\", \"heading\": 0, \"latitude\": 37.4006053, \"longitude\": -122.084657, \"sensed_speed\": 0, \"ts\": 1440689153.593}, \"type\": \"Feature\"}, {\"geometry\": {\"coordinates\": [-122.0847354, 37.4007025], \"type\": \"Point\"}, \"id\": \"55df34f07d65cb39ee9865cc\", \"properties\": {\"accuracy\": 30.0, \"altitude\": 0, \"feature_type\": \"location\", \"fmt_time\": \"2015-08-27 08:26:09.651000-07:00\", \"heading\": 0, \"latitude\": 37.4007025, \"longitude\": -122.0847354, \"sensed_speed\": 0, \"ts\": 1440689169.651}, \"type\": \"Feature\"}, {\"geometry\": {\"coordinates\": [-122.0849045, 37.4023165], \"type\": \"Point\"}, \"id\": \"55df34f07d65cb39ee9865cf\", \"properties\": {\"accuracy\": 69.324, \"altitude\": 0, \"feature_type\": \"location\", \"fmt_time\": \"2015-08-27 08:26:41.466000-07:00\", \"heading\": 0, \"latitude\": 37.4023165, \"longitude\": -122.0849045, \"sensed_speed\": 0, \"ts\": 1440689201.466}, \"type\": \"Feature\"}, {\"geometry\": {\"coordinates\": [-122.0847188, 37.4028269], \"type\": \"Point\"}, \"id\": \"55df34f07d65cb39ee9865d2\", \"properties\": {\"accuracy\": 49.5, \"altitude\": 0, \"feature_type\": \"location\", \"fmt_time\": \"2015-08-27 08:27:13.279000-07:00\", \"heading\": 0, \"latitude\": 37.4028269, \"longitude\": -122.0847188, \"sensed_speed\": 0, \"ts\": 1440689233.279}, \"type\": \"Feature\"}, {\"geometry\": {\"coordinates\": [-122.0847081, 37.4033491], \"type\": \"Point\"}, \"id\": \"55df34f07d65cb39ee9865d4\", \"properties\": {\"accuracy\": 42.0, \"altitude\": 0, \"feature_type\": \"location\", \"fmt_time\": \"2015-08-27 08:27:45.092000-07:00\", \"heading\": 0, \"latitude\": 37.4033491, \"longitude\": -122.0847081, \"sensed_speed\": 0, \"ts\": 1440689265.092}, \"type\": \"Feature\"}], \"type\": \"FeatureCollection\"}, {\"geometry\": {\"coordinates\": [[-122.0864045, 37.3905444], [-122.0846749, 37.393415], [-122.0841016, 37.3941547], [-122.0831438, 37.3956262], [-122.0830409, 37.3957967], [-122.0830094, 37.3959019], [-122.0828785, 37.3960132], [-122.0828663, 37.3960665], [-122.0818078, 37.3957659], [-122.0808227, 37.3971981], [-122.0808461, 37.3986502], [-122.0805741, 37.3999882], [-122.0805585, 37.3999972], [-122.0809311, 37.3999008], [-122.0825585, 37.400037], [-122.084657, 37.4006053], [-122.0847354, 37.4007025], [-122.0849045, 37.4023165], [-122.0847188, 37.4028269], [-122.0847081, 37.4033491]], \"type\": \"LineString\"}, \"id\": \"5603ae10f6858f0cbbb60581\", \"properties\": {\"duration\": 525.420000076294, \"end_fmt_time\": \"2015-08-27 08:27:45.092000-07:00\", \"end_ts\": 1440689265.092, \"feature_type\": \"section\", \"sensed_mode\": \"MotionTypes.BICYCLING\", \"source\": \"SmoothedHighConfidenceMotion\", \"start_fmt_time\": \"2015-08-27 08:18:59.672000-07:00\", \"start_ts\": 1440688739.672}, \"type\": \"Feature\"}], \"type\": \"FeatureCollection\"}, {\"features\": [{\"features\": [{\"geometry\": {\"coordinates\": [-122.0845296, 37.4034667], \"type\": \"Point\"}, \"id\": \"55df34f07d65cb39ee9865d7\", \"properties\": {\"accuracy\": 29.117, \"altitude\": 0, \"feature_type\": \"location\", \"fmt_time\": \"2015-08-27 08:28:16.912000-07:00\", \"heading\": 0, \"latitude\": 37.4034667, \"longitude\": -122.0845296, \"sensed_speed\": 0, \"ts\": 1440689296.912}, \"type\": \"Feature\"}, {\"geometry\": {\"coordinates\": [-122.0844223, 37.4033752], \"type\": \"Point\"}, \"id\": \"55df34f17d65cb39ee9865da\", \"properties\": {\"accuracy\": 45.0, \"altitude\": 0, \"feature_type\": \"location\", \"fmt_time\": \"2015-08-27 08:28:48.736000-07:00\", \"heading\": 0, \"latitude\": 37.4033752, \"longitude\": -122.0844223, \"sensed_speed\": 0, \"ts\": 1440689328.736}, \"type\": \"Feature\"}, {\"geometry\": {\"coordinates\": [-122.0838277, 37.4034065], \"type\": \"Point\"}, \"id\": \"55df34f17d65cb39ee9865dd\", \"properties\": {\"accuracy\": 49.5, \"altitude\": 0, \"feature_type\": \"location\", \"fmt_time\": \"2015-08-27 08:29:20.562000-07:00\", \"heading\": 0, \"latitude\": 37.4034065, \"longitude\": -122.0838277, \"sensed_speed\": 0, \"ts\": 1440689360.562}, \"type\": \"Feature\"}, {\"geometry\": {\"coordinates\": [-122.084105, 37.4034399], \"type\": \"Point\"}, \"id\": \"55df34f17d65cb39ee9865df\", \"properties\": {\"accuracy\": 36.976, \"altitude\": 0, \"feature_type\": \"location\", \"fmt_time\": \"2015-08-27 08:29:52.397000-07:00\", \"heading\": 0, \"latitude\": 37.4034399, \"longitude\": -122.084105, \"sensed_speed\": 0, \"ts\": 1440689392.397}, \"type\": \"Feature\"}, {\"geometry\": {\"coordinates\": [-122.0835641, 37.4034802], \"type\": \"Point\"}, \"id\": \"55df34f17d65cb39ee9865e2\", \"properties\": {\"accuracy\": 30.0, \"altitude\": 0, \"feature_type\": \"location\", \"fmt_time\": \"2015-08-27 08:30:08.302000-07:00\", \"heading\": 0, \"latitude\": 37.4034802, \"longitude\": -122.0835641, \"sensed_speed\": 0, \"ts\": 1440689408.302}, \"type\": \"Feature\"}], \"type\": \"FeatureCollection\"}, {\"geometry\": {\"coordinates\": [[-122.0845296, 37.4034667], [-122.0844223, 37.4033752], [-122.0838277, 37.4034065], [-122.084105, 37.4034399], [-122.0835641, 37.4034802]], \"type\": \"LineString\"}, \"id\": \"5603ae10f6858f0cbbb60582\", \"properties\": {\"duration\": 111.39000010490417, \"end_fmt_time\": \"2015-08-27 08:30:08.302000-07:00\", \"end_ts\": 1440689408.302, \"feature_type\": \"section\", \"sensed_mode\": \"MotionTypes.ON_FOOT\", \"source\": \"SmoothedHighConfidenceMotion\", \"start_fmt_time\": \"2015-08-27 08:28:16.912000-07:00\", \"start_ts\": 1440689296.912}, \"type\": \"Feature\"}], \"type\": \"FeatureCollection\"}], \"type\": \"FeatureCollection\"}\n"
       ]
      },
      {
       "output_type": "stream",
       "stream": "stderr",
       "text": [
        "DEBUG:root:{\"features\": [{\"geometry\": {\"coordinates\": [-122.0835641, 37.4034802], \"type\": \"Point\"}, \"id\": \"5603ae0cf6858f0cbbb6054f\", \"properties\": {\"duration\": 254.64100003242493, \"enter_fmt_time\": \"2015-08-27 08:30:08.302000-07:00\", \"enter_ts\": 1440689408.302, \"exit_fmt_time\": \"2015-08-27 08:34:22.943000-07:00\", \"exit_ts\": 1440689662.943, \"feature_type\": \"place\", \"source\": \"DwellSegmentationTimeFilter\"}, \"type\": \"Feature\"}, {\"geometry\": {\"coordinates\": [-122.0778188, 37.3957356], \"type\": \"Point\"}, \"id\": \"5603ae0cf6858f0cbbb60551\", \"properties\": {\"duration\": 641.9839999675751, \"enter_fmt_time\": \"2015-08-27 08:41:16.784000-07:00\", \"enter_ts\": 1440690076.784, \"exit_fmt_time\": \"2015-08-27 08:51:58.768000-07:00\", \"exit_ts\": 1440690718.768, \"feature_type\": \"place\", \"source\": \"DwellSegmentationTimeFilter\"}, \"type\": \"Feature\"}, {\"features\": [{\"features\": [{\"geometry\": {\"coordinates\": [-122.0822821, 37.4025401], \"type\": \"Point\"}, \"id\": \"55df34f27d65cb39ee9865f6\", \"properties\": {\"accuracy\": 114.922, \"altitude\": 0, \"feature_type\": \"location\", \"fmt_time\": \"2015-08-27 08:34:22.943000-07:00\", \"heading\": 0, \"latitude\": 37.4025401, \"longitude\": -122.0822821, \"sensed_speed\": 0, \"ts\": 1440689662.943}, \"type\": \"Feature\"}, {\"geometry\": {\"coordinates\": [-122.0822052, 37.4025862], \"type\": \"Point\"}, \"id\": \"55df34f27d65cb39ee9865f9\", \"properties\": {\"accuracy\": 30.0, \"altitude\": 0, \"feature_type\": \"location\", \"fmt_time\": \"2015-08-27 08:34:38.861000-07:00\", \"heading\": 0, \"latitude\": 37.4025862, \"longitude\": -122.0822052, \"sensed_speed\": 0, \"ts\": 1440689678.861}, \"type\": \"Feature\"}, {\"geometry\": {\"coordinates\": [-122.0802115, 37.4020942], \"type\": \"Point\"}, \"id\": \"55df34f27d65cb39ee9865fb\", \"properties\": {\"accuracy\": 57.313, \"altitude\": 0, \"feature_type\": \"location\", \"fmt_time\": \"2015-08-27 08:35:10.668000-07:00\", \"heading\": 0, \"latitude\": 37.4020942, \"longitude\": -122.0802115, \"sensed_speed\": 0, \"ts\": 1440689710.668}, \"type\": \"Feature\"}, {\"geometry\": {\"coordinates\": [-122.079131, 37.4015656], \"type\": \"Point\"}, \"id\": \"55df34f37d65cb39ee9865fe\", \"properties\": {\"accuracy\": 40.5, \"altitude\": 0, \"feature_type\": \"location\", \"fmt_time\": \"2015-08-27 08:35:42.463000-07:00\", \"heading\": 0, \"latitude\": 37.4015656, \"longitude\": -122.079131, \"sensed_speed\": 0, \"ts\": 1440689742.463}, \"type\": \"Feature\"}, {\"geometry\": {\"coordinates\": [-122.079139, 37.4015842], \"type\": \"Point\"}, \"id\": \"55df34f37d65cb39ee986600\", \"properties\": {\"accuracy\": 45.0, \"altitude\": 0, \"feature_type\": \"location\", \"fmt_time\": \"2015-08-27 08:36:14.278000-07:00\", \"heading\": 0, \"latitude\": 37.4015842, \"longitude\": -122.079139, \"sensed_speed\": 0, \"ts\": 1440689774.278}, \"type\": \"Feature\"}, {\"geometry\": {\"coordinates\": [-122.0784617, 37.401399], \"type\": \"Point\"}, \"id\": \"55df34f37d65cb39ee986603\", \"properties\": {\"accuracy\": 130.54, \"altitude\": 0, \"feature_type\": \"location\", \"fmt_time\": \"2015-08-27 08:36:46.124000-07:00\", \"heading\": 0, \"latitude\": 37.401399, \"longitude\": -122.0784617, \"sensed_speed\": 0, \"ts\": 1440689806.124}, \"type\": \"Feature\"}, {\"geometry\": {\"coordinates\": [-122.0779973, 37.3993224], \"type\": \"Point\"}, \"id\": \"55df34f37d65cb39ee986605\", \"properties\": {\"accuracy\": 55.5, \"altitude\": 0, \"feature_type\": \"location\", \"fmt_time\": \"2015-08-27 08:37:17.952000-07:00\", \"heading\": 0, \"latitude\": 37.3993224, \"longitude\": -122.0779973, \"sensed_speed\": 0, \"ts\": 1440689837.952}, \"type\": \"Feature\"}, {\"geometry\": {\"coordinates\": [-122.0772994, 37.3981887], \"type\": \"Point\"}, \"id\": \"55df34f37d65cb39ee986608\", \"properties\": {\"accuracy\": 38.568, \"altitude\": 0, \"feature_type\": \"location\", \"fmt_time\": \"2015-08-27 08:37:49.779000-07:00\", \"heading\": 0, \"latitude\": 37.3981887, \"longitude\": -122.0772994, \"sensed_speed\": 0, \"ts\": 1440689869.779}, \"type\": \"Feature\"}, {\"geometry\": {\"coordinates\": [-122.076315, 37.3978536], \"type\": \"Point\"}, \"id\": \"55df34f37d65cb39ee98660b\", \"properties\": {\"accuracy\": 36.0, \"altitude\": 0, \"feature_type\": \"location\", \"fmt_time\": \"2015-08-27 08:38:21.628000-07:00\", \"heading\": 0, \"latitude\": 37.3978536, \"longitude\": -122.076315, \"sensed_speed\": 0, \"ts\": 1440689901.628}, \"type\": \"Feature\"}, {\"geometry\": {\"coordinates\": [-122.077789, 37.3958147], \"type\": \"Point\"}, \"id\": \"55df34f47d65cb39ee98660f\", \"properties\": {\"accuracy\": 127.011, \"altitude\": 0, \"feature_type\": \"location\", \"fmt_time\": \"2015-08-27 08:39:09.350000-07:00\", \"heading\": 0, \"latitude\": 37.3958147, \"longitude\": -122.077789, \"sensed_speed\": 0, \"ts\": 1440689949.35}, \"type\": \"Feature\"}, {\"geometry\": {\"coordinates\": [-122.0778485, 37.3957377], \"type\": \"Point\"}, \"id\": \"55df34f47d65cb39ee986612\", \"properties\": {\"accuracy\": 105.29, \"altitude\": 0, \"feature_type\": \"location\", \"fmt_time\": \"2015-08-27 08:39:49.016000-07:00\", \"heading\": 0, \"latitude\": 37.3957377, \"longitude\": -122.0778485, \"sensed_speed\": 0, \"ts\": 1440689989.016}, \"type\": \"Feature\"}, {\"geometry\": {\"coordinates\": [-122.0778519, 37.3957568], \"type\": \"Point\"}, \"id\": \"55df34f47d65cb39ee986614\", \"properties\": {\"accuracy\": 103.911, \"altitude\": 0, \"feature_type\": \"location\", \"fmt_time\": \"2015-08-27 08:40:12.991000-07:00\", \"heading\": 0, \"latitude\": 37.3957568, \"longitude\": -122.0778519, \"sensed_speed\": 0, \"ts\": 1440690012.991}, \"type\": \"Feature\"}, {\"geometry\": {\"coordinates\": [-122.0778095, 37.3957252], \"type\": \"Point\"}, \"id\": \"55df34f47d65cb39ee986617\", \"properties\": {\"accuracy\": 36.0, \"altitude\": 0, \"feature_type\": \"location\", \"fmt_time\": \"2015-08-27 08:40:52.880000-07:00\", \"heading\": 0, \"latitude\": 37.3957252, \"longitude\": -122.0778095, \"sensed_speed\": 0, \"ts\": 1440690052.88}, \"type\": \"Feature\"}, {\"geometry\": {\"coordinates\": [-122.0778188, 37.3957356], \"type\": \"Point\"}, \"id\": \"55df34f47d65cb39ee98661a\", \"properties\": {\"accuracy\": 30.0, \"altitude\": 0, \"feature_type\": \"location\", \"fmt_time\": \"2015-08-27 08:41:16.784000-07:00\", \"heading\": 0, \"latitude\": 37.3957356, \"longitude\": -122.0778188, \"sensed_speed\": 0, \"ts\": 1440690076.784}, \"type\": \"Feature\"}], \"type\": \"FeatureCollection\"}, {\"geometry\": {\"coordinates\": [[-122.0835641, 37.4034802], [-122.0822821, 37.4025401], [-122.0822052, 37.4025862], [-122.0802115, 37.4020942], [-122.079131, 37.4015656], [-122.079139, 37.4015842], [-122.0784617, 37.401399], [-122.0779973, 37.3993224], [-122.0772994, 37.3981887], [-122.076315, 37.3978536], [-122.077789, 37.3958147], [-122.0778485, 37.3957377], [-122.0778519, 37.3957568], [-122.0778095, 37.3957252], [-122.0778188, 37.3957356]], \"type\": \"LineString\"}, \"id\": \"5603ae10f6858f0cbbb60584\", \"properties\": {\"duration\": 413.84099984169006, \"end_fmt_time\": \"2015-08-27 08:41:16.784000-07:00\", \"end_ts\": 1440690076.784, \"feature_type\": \"section\", \"sensed_mode\": \"MotionTypes.BICYCLING\", \"source\": \"SmoothedHighConfidenceMotion\", \"start_fmt_time\": \"2015-08-27 08:34:22.943000-07:00\", \"start_ts\": 1440689662.943}, \"type\": \"Feature\"}], \"type\": \"FeatureCollection\"}], \"type\": \"FeatureCollection\"}\n"
       ]
      },
      {
       "output_type": "stream",
       "stream": "stderr",
       "text": [
        "DEBUG:root:{\"features\": [{\"geometry\": {\"coordinates\": [-122.0778188, 37.3957356], \"type\": \"Point\"}, \"id\": \"5603ae0cf6858f0cbbb60551\", \"properties\": {\"duration\": 641.9839999675751, \"enter_fmt_time\": \"2015-08-27 08:41:16.784000-07:00\", \"enter_ts\": 1440690076.784, \"exit_fmt_time\": \"2015-08-27 08:51:58.768000-07:00\", \"exit_ts\": 1440690718.768, \"feature_type\": \"place\", \"source\": \"DwellSegmentationTimeFilter\"}, \"type\": \"Feature\"}, {\"geometry\": {\"coordinates\": [-122.3872605, 37.5995036], \"type\": \"Point\"}, \"id\": \"5603ae0cf6858f0cbbb60553\", \"properties\": {\"duration\": 728.0950000286102, \"enter_fmt_time\": \"2015-08-27 09:53:44.894000-07:00\", \"enter_ts\": 1440694424.894, \"exit_fmt_time\": \"2015-08-27 10:05:52.989000-07:00\", \"exit_ts\": 1440695152.989, \"feature_type\": \"place\", \"source\": \"DwellSegmentationTimeFilter\"}, \"type\": \"Feature\"}, {\"geometry\": {\"coordinates\": [-122.3872958, 37.5992574], \"type\": \"Point\"}, \"id\": \"5603ae10f6858f0cbbb60587\", \"properties\": {\"duration\": 29.957000017166138, \"enter_fmt_time\": \"2015-08-27 09:52:14.783000-07:00\", \"enter_ts\": 1440694334.783, \"exit_fmt_time\": \"2015-08-27 09:52:44.740000-07:00\", \"exit_ts\": 1440694364.74, \"feature_type\": \"stop\", \"source\": \"SmoothedHighConfidenceMotion\"}, \"type\": \"Feature\"}, {\"features\": [{\"features\": [{\"geometry\": {\"coordinates\": [-122.0761742, 37.3941417], \"type\": \"Point\"}, \"id\": \"55df34f67d65cb39ee986630\", \"properties\": {\"accuracy\": 131.293, \"altitude\": 0, \"feature_type\": \"location\", \"fmt_time\": \"2015-08-27 08:51:58.768000-07:00\", \"heading\": 0, \"latitude\": 37.3941417, \"longitude\": -122.0761742, \"sensed_speed\": 0, \"ts\": 1440690718.768}, \"type\": \"Feature\"}, {\"geometry\": {\"coordinates\": [-122.0776881, 37.395656], \"type\": \"Point\"}, \"id\": \"55df34f67d65cb39ee986633\", \"properties\": {\"accuracy\": 174.522, \"altitude\": 0, \"feature_type\": \"location\", \"fmt_time\": \"2015-08-27 08:52:32.859000-07:00\", \"heading\": 0, \"latitude\": 37.395656, \"longitude\": -122.0776881, \"sensed_speed\": 0, \"ts\": 1440690752.859}, \"type\": \"Feature\"}, {\"geometry\": {\"coordinates\": [-122.0762038, 37.3941508], \"type\": \"Point\"}, \"id\": \"55df34f67d65cb39ee986636\", \"properties\": {\"accuracy\": 30.0, \"altitude\": 0, \"feature_type\": \"location\", \"fmt_time\": \"2015-08-27 08:53:03.027000-07:00\", \"heading\": 0, \"latitude\": 37.3941508, \"longitude\": -122.0762038, \"sensed_speed\": 0, \"ts\": 1440690783.027}, \"type\": \"Feature\"}, {\"geometry\": {\"coordinates\": [-122.0762217, 37.3942296], \"type\": \"Point\"}, \"id\": \"55df34f67d65cb39ee986639\", \"properties\": {\"accuracy\": 51.0, \"altitude\": 0, \"feature_type\": \"location\", \"fmt_time\": \"2015-08-27 08:53:33.053000-07:00\", \"heading\": 0, \"latitude\": 37.3942296, \"longitude\": -122.0762217, \"sensed_speed\": 0, \"ts\": 1440690813.053}, \"type\": \"Feature\"}, {\"geometry\": {\"coordinates\": [-122.0776802, 37.3957268], \"type\": \"Point\"}, \"id\": \"55df34f67d65cb39ee98663c\", \"properties\": {\"accuracy\": 158.883, \"altitude\": 0, \"feature_type\": \"location\", \"fmt_time\": \"2015-08-27 08:54:03.118000-07:00\", \"heading\": 0, \"latitude\": 37.3957268, \"longitude\": -122.0776802, \"sensed_speed\": 0, \"ts\": 1440690843.118}, \"type\": \"Feature\"}, {\"geometry\": {\"coordinates\": [-122.0769659, 37.3953633], \"type\": \"Point\"}, \"id\": \"55df34f67d65cb39ee98663f\", \"properties\": {\"accuracy\": 121.594, \"altitude\": 0, \"feature_type\": \"location\", \"fmt_time\": \"2015-08-27 08:54:33.136000-07:00\", \"heading\": 0, \"latitude\": 37.3953633, \"longitude\": -122.0769659, \"sensed_speed\": 0, \"ts\": 1440690873.136}, \"type\": \"Feature\"}, {\"geometry\": {\"coordinates\": [-122.076151, 37.3941635], \"type\": \"Point\"}, \"id\": \"55df34f77d65cb39ee986642\", \"properties\": {\"accuracy\": 30.0, \"altitude\": 0, \"feature_type\": \"location\", \"fmt_time\": \"2015-08-27 08:55:03.167000-07:00\", \"heading\": 0, \"latitude\": 37.3941635, \"longitude\": -122.076151, \"sensed_speed\": 0, \"ts\": 1440690903.167}, \"type\": \"Feature\"}, {\"geometry\": {\"coordinates\": [-122.076142, 37.3941596], \"type\": \"Point\"}, \"id\": \"55df34f77d65cb39ee986645\", \"properties\": {\"accuracy\": 165.268, \"altitude\": 0, \"feature_type\": \"location\", \"fmt_time\": \"2015-08-27 08:55:33.254000-07:00\", \"heading\": 0, \"latitude\": 37.3941596, \"longitude\": -122.076142, \"sensed_speed\": 0, \"ts\": 1440690933.254}, \"type\": \"Feature\"}, {\"geometry\": {\"coordinates\": [-122.0778411, 37.3957819], \"type\": \"Point\"}, \"id\": \"55df34f77d65cb39ee986647\", \"properties\": {\"accuracy\": 40.5, \"altitude\": 0, \"feature_type\": \"location\", \"fmt_time\": \"2015-08-27 08:56:03.216000-07:00\", \"heading\": 0, \"latitude\": 37.3957819, \"longitude\": -122.0778411, \"sensed_speed\": 0, \"ts\": 1440690963.216}, \"type\": \"Feature\"}, {\"geometry\": {\"coordinates\": [-122.0777656, 37.3957175], \"type\": \"Point\"}, \"id\": \"55df34f77d65cb39ee98664a\", \"properties\": {\"accuracy\": 182.404, \"altitude\": 0, \"feature_type\": \"location\", \"fmt_time\": \"2015-08-27 08:56:33.227000-07:00\", \"heading\": 0, \"latitude\": 37.3957175, \"longitude\": -122.0777656, \"sensed_speed\": 0, \"ts\": 1440690993.227}, \"type\": \"Feature\"}, {\"geometry\": {\"coordinates\": [-122.0760912, 37.3950273], \"type\": \"Point\"}, \"id\": \"55df34f77d65cb39ee98664d\", \"properties\": {\"accuracy\": 102.781, \"altitude\": 0, \"feature_type\": \"location\", \"fmt_time\": \"2015-08-27 08:57:03.150000-07:00\", \"heading\": 0, \"latitude\": 37.3950273, \"longitude\": -122.0760912, \"sensed_speed\": 0, \"ts\": 1440691023.15}, \"type\": \"Feature\"}, {\"geometry\": {\"coordinates\": [-122.0761752, 37.3942547], \"type\": \"Point\"}, \"id\": \"55df34f77d65cb39ee986650\", \"properties\": {\"accuracy\": 45.0, \"altitude\": 0, \"feature_type\": \"location\", \"fmt_time\": \"2015-08-27 08:57:33.294000-07:00\", \"heading\": 0, \"latitude\": 37.3942547, \"longitude\": -122.0761752, \"sensed_speed\": 0, \"ts\": 1440691053.294}, \"type\": \"Feature\"}, {\"geometry\": {\"coordinates\": [-122.0777412, 37.3956106], \"type\": \"Point\"}, \"id\": \"55df34f87d65cb39ee986653\", \"properties\": {\"accuracy\": 173.206, \"altitude\": 0, \"feature_type\": \"location\", \"fmt_time\": \"2015-08-27 08:58:03.290000-07:00\", \"heading\": 0, \"latitude\": 37.3956106, \"longitude\": -122.0777412, \"sensed_speed\": 0, \"ts\": 1440691083.29}, \"type\": \"Feature\"}, {\"geometry\": {\"coordinates\": [-122.0777709, 37.3957229], \"type\": \"Point\"}, \"id\": \"55df34f87d65cb39ee986657\", \"properties\": {\"accuracy\": 165.504, \"altitude\": 0, \"feature_type\": \"location\", \"fmt_time\": \"2015-08-27 08:58:33.349000-07:00\", \"heading\": 0, \"latitude\": 37.3957229, \"longitude\": -122.0777709, \"sensed_speed\": 0, \"ts\": 1440691113.349}, \"type\": \"Feature\"}, {\"geometry\": {\"coordinates\": [-122.0777836, 37.3956614], \"type\": \"Point\"}, \"id\": \"55df34f87d65cb39ee98665a\", \"properties\": {\"accuracy\": 178.849, \"altitude\": 0, \"feature_type\": \"location\", \"fmt_time\": \"2015-08-27 08:59:03.584000-07:00\", \"heading\": 0, \"latitude\": 37.3956614, \"longitude\": -122.0777836, \"sensed_speed\": 0, \"ts\": 1440691143.584}, \"type\": \"Feature\"}, {\"geometry\": {\"coordinates\": [-122.0762241, 37.3947787], \"type\": \"Point\"}, \"id\": \"55df34f87d65cb39ee98665d\", \"properties\": {\"accuracy\": 66.326, \"altitude\": 0, \"feature_type\": \"location\", \"fmt_time\": \"2015-08-27 08:59:33.625000-07:00\", \"heading\": 0, \"latitude\": 37.3947787, \"longitude\": -122.0762241, \"sensed_speed\": 0, \"ts\": 1440691173.625}, \"type\": \"Feature\"}, {\"geometry\": {\"coordinates\": [-122.0761291, 37.3940891], \"type\": \"Point\"}, \"id\": \"55df34f87d65cb39ee986660\", \"properties\": {\"accuracy\": 36.0, \"altitude\": 0, \"feature_type\": \"location\", \"fmt_time\": \"2015-08-27 09:00:03.682000-07:00\", \"heading\": 0, \"latitude\": 37.3940891, \"longitude\": -122.0761291, \"sensed_speed\": 0, \"ts\": 1440691203.682}, \"type\": \"Feature\"}, {\"geometry\": {\"coordinates\": [-122.0775421, 37.3956615], \"type\": \"Point\"}, \"id\": \"55df34f97d65cb39ee986663\", \"properties\": {\"accuracy\": 169.353, \"altitude\": 0, \"feature_type\": \"location\", \"fmt_time\": \"2015-08-27 09:00:33.697000-07:00\", \"heading\": 0, \"latitude\": 37.3956615, \"longitude\": -122.0775421, \"sensed_speed\": 0, \"ts\": 1440691233.697}, \"type\": \"Feature\"}, {\"geometry\": {\"coordinates\": [-122.07779, 37.3956878], \"type\": \"Point\"}, \"id\": \"55df34f97d65cb39ee986666\", \"properties\": {\"accuracy\": 181.128, \"altitude\": 0, \"feature_type\": \"location\", \"fmt_time\": \"2015-08-27 09:01:03.668000-07:00\", \"heading\": 0, \"latitude\": 37.3956878, \"longitude\": -122.07779, \"sensed_speed\": 0, \"ts\": 1440691263.668}, \"type\": \"Feature\"}, {\"geometry\": {\"coordinates\": [-122.0777666, 37.3957174], \"type\": \"Point\"}, \"id\": \"55df34f97d65cb39ee986669\", \"properties\": {\"accuracy\": 165.289, \"altitude\": 0, \"feature_type\": \"location\", \"fmt_time\": \"2015-08-27 09:01:33.591000-07:00\", \"heading\": 0, \"latitude\": 37.3957174, \"longitude\": -122.0777666, \"sensed_speed\": 0, \"ts\": 1440691293.591}, \"type\": \"Feature\"}, {\"geometry\": {\"coordinates\": [-122.0771241, 37.3952022], \"type\": \"Point\"}, \"id\": \"55df34f97d65cb39ee98666c\", \"properties\": {\"accuracy\": 93.0, \"altitude\": 0, \"feature_type\": \"location\", \"fmt_time\": \"2015-08-27 09:02:03.613000-07:00\", \"heading\": 0, \"latitude\": 37.3952022, \"longitude\": -122.0771241, \"sensed_speed\": 0, \"ts\": 1440691323.613}, \"type\": \"Feature\"}, {\"geometry\": {\"coordinates\": [-122.0762193, 37.3949768], \"type\": \"Point\"}, \"id\": \"55df456b7d65cb39ee986675\", \"properties\": {\"accuracy\": 40.5, \"altitude\": 0, \"feature_type\": \"location\", \"fmt_time\": \"2015-08-27 09:04:04.146000-07:00\", \"heading\": 0, \"latitude\": 37.3949768, \"longitude\": -122.0762193, \"sensed_speed\": 0, \"ts\": 1440691444.146}, \"type\": \"Feature\"}, {\"geometry\": {\"coordinates\": [-122.106795, 37.4077682], \"type\": \"Point\"}, \"id\": \"55df456c7d65cb39ee986681\", \"properties\": {\"accuracy\": 37.5, \"altitude\": 0, \"feature_type\": \"location\", \"fmt_time\": \"2015-08-27 09:07:03.880000-07:00\", \"heading\": 0, \"latitude\": 37.4077682, \"longitude\": -122.106795, \"sensed_speed\": 0, \"ts\": 1440691623.88}, \"type\": \"Feature\"}, {\"geometry\": {\"coordinates\": [-122.133534, 37.4235497], \"type\": \"Point\"}, \"id\": \"55df456d7d65cb39ee98668e\", \"properties\": {\"accuracy\": 57.0, \"altitude\": 0, \"feature_type\": \"location\", \"fmt_time\": \"2015-08-27 09:10:34.234000-07:00\", \"heading\": 0, \"latitude\": 37.4235497, \"longitude\": -122.133534, \"sensed_speed\": 0, \"ts\": 1440691834.234}, \"type\": \"Feature\"}, {\"geometry\": {\"coordinates\": [-122.1388521, 37.4277911], \"type\": \"Point\"}, \"id\": \"55df456d7d65cb39ee986691\", \"properties\": {\"accuracy\": 40.5, \"altitude\": 0, \"feature_type\": \"location\", \"fmt_time\": \"2015-08-27 09:11:04.273000-07:00\", \"heading\": 0, \"latitude\": 37.4277911, \"longitude\": -122.1388521, \"sensed_speed\": 0, \"ts\": 1440691864.273}, \"type\": \"Feature\"}, {\"geometry\": {\"coordinates\": [-122.1414298, 37.4291696], \"type\": \"Point\"}, \"id\": \"55df456d7d65cb39ee986693\", \"properties\": {\"accuracy\": 40.5, \"altitude\": 0, \"feature_type\": \"location\", \"fmt_time\": \"2015-08-27 09:11:34.287000-07:00\", \"heading\": 0, \"latitude\": 37.4291696, \"longitude\": -122.1414298, \"sensed_speed\": 0, \"ts\": 1440691894.287}, \"type\": \"Feature\"}, {\"geometry\": {\"coordinates\": [-122.1415265, 37.429284], \"type\": \"Point\"}, \"id\": \"55df456d7d65cb39ee986696\", \"properties\": {\"accuracy\": 40.5, \"altitude\": 0, \"feature_type\": \"location\", \"fmt_time\": \"2015-08-27 09:12:04.382000-07:00\", \"heading\": 0, \"latitude\": 37.429284, \"longitude\": -122.1415265, \"sensed_speed\": 0, \"ts\": 1440691924.382}, \"type\": \"Feature\"}, {\"geometry\": {\"coordinates\": [-122.1414298, 37.4291696], \"type\": \"Point\"}, \"id\": \"55df456d7d65cb39ee986698\", \"properties\": {\"accuracy\": 40.5, \"altitude\": 0, \"feature_type\": \"location\", \"fmt_time\": \"2015-08-27 09:12:34.341000-07:00\", \"heading\": 0, \"latitude\": 37.4291696, \"longitude\": -122.1414298, \"sensed_speed\": 0, \"ts\": 1440691954.341}, \"type\": \"Feature\"}, {\"geometry\": {\"coordinates\": [-122.1414762, 37.4292348], \"type\": \"Point\"}, \"id\": \"55df456e7d65cb39ee98669c\", \"properties\": {\"accuracy\": 36.0, \"altitude\": 0, \"feature_type\": \"location\", \"fmt_time\": \"2015-08-27 09:13:04.371000-07:00\", \"heading\": 0, \"latitude\": 37.4292348, \"longitude\": -122.1414762, \"sensed_speed\": 0, \"ts\": 1440691984.371}, \"type\": \"Feature\"}, {\"geometry\": {\"coordinates\": [-122.1414762, 37.4292348], \"type\": \"Point\"}, \"id\": \"55df456e7d65cb39ee98669e\", \"properties\": {\"accuracy\": 79.573, \"altitude\": 0, \"feature_type\": \"location\", \"fmt_time\": \"2015-08-27 09:13:33.420000-07:00\", \"heading\": 0, \"latitude\": 37.4292348, \"longitude\": -122.1414762, \"sensed_speed\": 0, \"ts\": 1440692013.42}, \"type\": \"Feature\"}, {\"geometry\": {\"coordinates\": [-122.1522525, 37.4358008], \"type\": \"Point\"}, \"id\": \"55df456e7d65cb39ee9866a4\", \"properties\": {\"accuracy\": 36.0, \"altitude\": 0, \"feature_type\": \"location\", \"fmt_time\": \"2015-08-27 09:14:33.587000-07:00\", \"heading\": 0, \"latitude\": 37.4358008, \"longitude\": -122.1522525, \"sensed_speed\": 0, \"ts\": 1440692073.587}, \"type\": \"Feature\"}, {\"geometry\": {\"coordinates\": [-122.1651832, 37.4438895], \"type\": \"Point\"}, \"id\": \"55df456e7d65cb39ee9866a8\", \"properties\": {\"accuracy\": 51.0, \"altitude\": 0, \"feature_type\": \"location\", \"fmt_time\": \"2015-08-27 09:16:04.629000-07:00\", \"heading\": 0, \"latitude\": 37.4438895, \"longitude\": -122.1651832, \"sensed_speed\": 0, \"ts\": 1440692164.629}, \"type\": \"Feature\"}, {\"geometry\": {\"coordinates\": [-122.1658308, 37.4436462], \"type\": \"Point\"}, \"id\": \"55df456f7d65cb39ee9866ab\", \"properties\": {\"accuracy\": 43.5, \"altitude\": 0, \"feature_type\": \"location\", \"fmt_time\": \"2015-08-27 09:16:34.764000-07:00\", \"heading\": 0, \"latitude\": 37.4436462, \"longitude\": -122.1658308, \"sensed_speed\": 0, \"ts\": 1440692194.764}, \"type\": \"Feature\"}, {\"geometry\": {\"coordinates\": [-122.1650013, 37.4439291], \"type\": \"Point\"}, \"id\": \"55df456f7d65cb39ee9866ae\", \"properties\": {\"accuracy\": 33.0, \"altitude\": 0, \"feature_type\": \"location\", \"fmt_time\": \"2015-08-27 09:17:04.710000-07:00\", \"heading\": 0, \"latitude\": 37.4439291, \"longitude\": -122.1650013, \"sensed_speed\": 0, \"ts\": 1440692224.71}, \"type\": \"Feature\"}, {\"geometry\": {\"coordinates\": [-122.1649406, 37.4439526], \"type\": \"Point\"}, \"id\": \"55df456f7d65cb39ee9866b2\", \"properties\": {\"accuracy\": 36.0, \"altitude\": 0, \"feature_type\": \"location\", \"fmt_time\": \"2015-08-27 09:17:29.580000-07:00\", \"heading\": 0, \"latitude\": 37.4439526, \"longitude\": -122.1649406, \"sensed_speed\": 0, \"ts\": 1440692249.58}, \"type\": \"Feature\"}, {\"geometry\": {\"coordinates\": [-122.180769, 37.4541764], \"type\": \"Point\"}, \"id\": \"55df45707d65cb39ee9866c2\", \"properties\": {\"accuracy\": 48.0, \"altitude\": 0, \"feature_type\": \"location\", \"fmt_time\": \"2015-08-27 09:20:20.950000-07:00\", \"heading\": 0, \"latitude\": 37.4541764, \"longitude\": -122.180769, \"sensed_speed\": 0, \"ts\": 1440692420.95}, \"type\": \"Feature\"}, {\"geometry\": {\"coordinates\": [-122.1829735, 37.4553948], \"type\": \"Point\"}, \"id\": \"55df45707d65cb39ee9866c5\", \"properties\": {\"accuracy\": 36.0, \"altitude\": 0, \"feature_type\": \"location\", \"fmt_time\": \"2015-08-27 09:20:52.779000-07:00\", \"heading\": 0, \"latitude\": 37.4553948, \"longitude\": -122.1829735, \"sensed_speed\": 0, \"ts\": 1440692452.779}, \"type\": \"Feature\"}, {\"geometry\": {\"coordinates\": [-122.1829793, 37.4551939], \"type\": \"Point\"}, \"id\": \"55df45707d65cb39ee9866c7\", \"properties\": {\"accuracy\": 36.0, \"altitude\": 0, \"feature_type\": \"location\", \"fmt_time\": \"2015-08-27 09:21:24.599000-07:00\", \"heading\": 0, \"latitude\": 37.4551939, \"longitude\": -122.1829793, \"sensed_speed\": 0, \"ts\": 1440692484.599}, \"type\": \"Feature\"}, {\"geometry\": {\"coordinates\": [-122.182976, 37.4553], \"type\": \"Point\"}, \"id\": \"55df45717d65cb39ee9866ca\", \"properties\": {\"accuracy\": 39.0, \"altitude\": 0, \"feature_type\": \"location\", \"fmt_time\": \"2015-08-27 09:21:56.409000-07:00\", \"heading\": 0, \"latitude\": 37.4553, \"longitude\": -122.182976, \"sensed_speed\": 0, \"ts\": 1440692516.409}, \"type\": \"Feature\"}, {\"geometry\": {\"coordinates\": [-122.2135446, 37.4737671], \"type\": \"Point\"}, \"id\": \"55df45717d65cb39ee9866d5\", \"properties\": {\"accuracy\": 26.0, \"altitude\": 0, \"feature_type\": \"location\", \"fmt_time\": \"2015-08-27 09:24:35.493000-07:00\", \"heading\": 0, \"latitude\": 37.4737671, \"longitude\": -122.2135446, \"sensed_speed\": 0, \"ts\": 1440692675.493}, \"type\": \"Feature\"}, {\"geometry\": {\"coordinates\": [-122.2231926, 37.4785943], \"type\": \"Point\"}, \"id\": \"55df45717d65cb39ee9866d7\", \"properties\": {\"accuracy\": 36.0, \"altitude\": 0, \"feature_type\": \"location\", \"fmt_time\": \"2015-08-27 09:24:51.407000-07:00\", \"heading\": 0, \"latitude\": 37.4785943, \"longitude\": -122.2231926, \"sensed_speed\": 0, \"ts\": 1440692691.407}, \"type\": \"Feature\"}, {\"geometry\": {\"coordinates\": [-122.2269005, 37.4828822], \"type\": \"Point\"}, \"id\": \"55df45727d65cb39ee9866db\", \"properties\": {\"accuracy\": 39.0, \"altitude\": 0, \"feature_type\": \"location\", \"fmt_time\": \"2015-08-27 09:25:39.130000-07:00\", \"heading\": 0, \"latitude\": 37.4828822, \"longitude\": -122.2269005, \"sensed_speed\": 0, \"ts\": 1440692739.13}, \"type\": \"Feature\"}, {\"geometry\": {\"coordinates\": [-122.2320305, 37.4862189], \"type\": \"Point\"}, \"id\": \"55df45727d65cb39ee9866df\", \"properties\": {\"accuracy\": 45.0, \"altitude\": 0, \"feature_type\": \"location\", \"fmt_time\": \"2015-08-27 09:26:26.881000-07:00\", \"heading\": 0, \"latitude\": 37.4862189, \"longitude\": -122.2320305, \"sensed_speed\": 0, \"ts\": 1440692786.881}, \"type\": \"Feature\"}, {\"geometry\": {\"coordinates\": [-122.2323706, 37.4861919], \"type\": \"Point\"}, \"id\": \"55df45727d65cb39ee9866e2\", \"properties\": {\"accuracy\": 79.5, \"altitude\": 0, \"feature_type\": \"location\", \"fmt_time\": \"2015-08-27 09:26:58.696000-07:00\", \"heading\": 0, \"latitude\": 37.4861919, \"longitude\": -122.2323706, \"sensed_speed\": 0, \"ts\": 1440692818.696}, \"type\": \"Feature\"}, {\"geometry\": {\"coordinates\": [-122.2320101, 37.4862121], \"type\": \"Point\"}, \"id\": \"55df45727d65cb39ee9866e4\", \"properties\": {\"accuracy\": 40.5, \"altitude\": 0, \"feature_type\": \"location\", \"fmt_time\": \"2015-08-27 09:27:30.524000-07:00\", \"heading\": 0, \"latitude\": 37.4862121, \"longitude\": -122.2320101, \"sensed_speed\": 0, \"ts\": 1440692850.524}, \"type\": \"Feature\"}, {\"geometry\": {\"coordinates\": [-122.2324731, 37.4861669], \"type\": \"Point\"}, \"id\": \"55df45727d65cb39ee9866e7\", \"properties\": {\"accuracy\": 37.5, \"altitude\": 0, \"feature_type\": \"location\", \"fmt_time\": \"2015-08-27 09:27:50.732000-07:00\", \"heading\": 0, \"latitude\": 37.4861669, \"longitude\": -122.2324731, \"sensed_speed\": 0, \"ts\": 1440692870.732}, \"type\": \"Feature\"}, {\"geometry\": {\"coordinates\": [-122.234237, 37.4872932], \"type\": \"Point\"}, \"id\": \"55df45737d65cb39ee9866ec\", \"properties\": {\"accuracy\": 148.407, \"altitude\": 0, \"feature_type\": \"location\", \"fmt_time\": \"2015-08-27 09:28:22.555000-07:00\", \"heading\": 0, \"latitude\": 37.4872932, \"longitude\": -122.234237, \"sensed_speed\": 0, \"ts\": 1440692902.555}, \"type\": \"Feature\"}, {\"geometry\": {\"coordinates\": [-122.248984, 37.4984627], \"type\": \"Point\"}, \"id\": \"55df45737d65cb39ee9866f2\", \"properties\": {\"accuracy\": 72.0, \"altitude\": 0, \"feature_type\": \"location\", \"fmt_time\": \"2015-08-27 09:29:35.002000-07:00\", \"heading\": 0, \"latitude\": 37.4984627, \"longitude\": -122.248984, \"sensed_speed\": 0, \"ts\": 1440692975.002}, \"type\": \"Feature\"}, {\"geometry\": {\"coordinates\": [-122.2601884, 37.5068074], \"type\": \"Point\"}, \"id\": \"55df45747d65cb39ee9866f8\", \"properties\": {\"accuracy\": 37.5, \"altitude\": 0, \"feature_type\": \"location\", \"fmt_time\": \"2015-08-27 09:30:35.042000-07:00\", \"heading\": 0, \"latitude\": 37.5068074, \"longitude\": -122.2601884, \"sensed_speed\": 0, \"ts\": 1440693035.042}, \"type\": \"Feature\"}, {\"geometry\": {\"coordinates\": [-122.2603798, 37.5082546], \"type\": \"Point\"}, \"id\": \"55df45747d65cb39ee9866fa\", \"properties\": {\"accuracy\": 42.0, \"altitude\": 0, \"feature_type\": \"location\", \"fmt_time\": \"2015-08-27 09:31:05.110000-07:00\", \"heading\": 0, \"latitude\": 37.5082546, \"longitude\": -122.2603798, \"sensed_speed\": 0, \"ts\": 1440693065.11}, \"type\": \"Feature\"}, {\"geometry\": {\"coordinates\": [-122.2605659, 37.5081271], \"type\": \"Point\"}, \"id\": \"55df45747d65cb39ee9866fd\", \"properties\": {\"accuracy\": 49.5, \"altitude\": 0, \"feature_type\": \"location\", \"fmt_time\": \"2015-08-27 09:31:35.172000-07:00\", \"heading\": 0, \"latitude\": 37.5081271, \"longitude\": -122.2605659, \"sensed_speed\": 0, \"ts\": 1440693095.172}, \"type\": \"Feature\"}, {\"geometry\": {\"coordinates\": [-122.2607601, 37.5077337], \"type\": \"Point\"}, \"id\": \"55df45747d65cb39ee986700\", \"properties\": {\"accuracy\": 51.0, \"altitude\": 0, \"feature_type\": \"location\", \"fmt_time\": \"2015-08-27 09:32:05.165000-07:00\", \"heading\": 0, \"latitude\": 37.5077337, \"longitude\": -122.2607601, \"sensed_speed\": 0, \"ts\": 1440693125.165}, \"type\": \"Feature\"}, {\"geometry\": {\"coordinates\": [-122.2625349, 37.5100476], \"type\": \"Point\"}, \"id\": \"55df45747d65cb39ee986702\", \"properties\": {\"accuracy\": 52.5, \"altitude\": 0, \"feature_type\": \"location\", \"fmt_time\": \"2015-08-27 09:32:35.157000-07:00\", \"heading\": 0, \"latitude\": 37.5100476, \"longitude\": -122.2625349, \"sensed_speed\": 0, \"ts\": 1440693155.157}, \"type\": \"Feature\"}, {\"geometry\": {\"coordinates\": [-122.2660316, 37.512868], \"type\": \"Point\"}, \"id\": \"55df45747d65cb39ee986705\", \"properties\": {\"accuracy\": 112.5, \"altitude\": 0, \"feature_type\": \"location\", \"fmt_time\": \"2015-08-27 09:33:05.198000-07:00\", \"heading\": 0, \"latitude\": 37.512868, \"longitude\": -122.2660316, \"sensed_speed\": 0, \"ts\": 1440693185.198}, \"type\": \"Feature\"}, {\"geometry\": {\"coordinates\": [-122.2721991, 37.5177452], \"type\": \"Point\"}, \"id\": \"55df45757d65cb39ee986709\", \"properties\": {\"accuracy\": 36.0, \"altitude\": 0, \"feature_type\": \"location\", \"fmt_time\": \"2015-08-27 09:33:35.235000-07:00\", \"heading\": 0, \"latitude\": 37.5177452, \"longitude\": -122.2721991, \"sensed_speed\": 0, \"ts\": 1440693215.235}, \"type\": \"Feature\"}, {\"geometry\": {\"coordinates\": [-122.2764249, 37.521002], \"type\": \"Point\"}, \"id\": \"55df45757d65cb39ee98670c\", \"properties\": {\"accuracy\": 57.0, \"altitude\": 0, \"feature_type\": \"location\", \"fmt_time\": \"2015-08-27 09:34:05.439000-07:00\", \"heading\": 0, \"latitude\": 37.521002, \"longitude\": -122.2764249, \"sensed_speed\": 0, \"ts\": 1440693245.439}, \"type\": \"Feature\"}, {\"geometry\": {\"coordinates\": [-122.2763004, 37.5209551], \"type\": \"Point\"}, \"id\": \"55df45757d65cb39ee98670e\", \"properties\": {\"accuracy\": 40.5, \"altitude\": 0, \"feature_type\": \"location\", \"fmt_time\": \"2015-08-27 09:34:35.434000-07:00\", \"heading\": 0, \"latitude\": 37.5209551, \"longitude\": -122.2763004, \"sensed_speed\": 0, \"ts\": 1440693275.434}, \"type\": \"Feature\"}, {\"geometry\": {\"coordinates\": [-122.2763267, 37.5210567], \"type\": \"Point\"}, \"id\": \"55df45757d65cb39ee986711\", \"properties\": {\"accuracy\": 45.0, \"altitude\": 0, \"feature_type\": \"location\", \"fmt_time\": \"2015-08-27 09:35:05.480000-07:00\", \"heading\": 0, \"latitude\": 37.5210567, \"longitude\": -122.2763267, \"sensed_speed\": 0, \"ts\": 1440693305.48}, \"type\": \"Feature\"}, {\"geometry\": {\"coordinates\": [-122.2771575, 37.522433], \"type\": \"Point\"}, \"id\": \"55df45757d65cb39ee986713\", \"properties\": {\"accuracy\": 45.0, \"altitude\": 0, \"feature_type\": \"location\", \"fmt_time\": \"2015-08-27 09:35:35.479000-07:00\", \"heading\": 0, \"latitude\": 37.522433, \"longitude\": -122.2771575, \"sensed_speed\": 0, \"ts\": 1440693335.479}, \"type\": \"Feature\"}, {\"geometry\": {\"coordinates\": [-122.2805606, 37.5255413], \"type\": \"Point\"}, \"id\": \"55df45757d65cb39ee986716\", \"properties\": {\"accuracy\": 37.5, \"altitude\": 0, \"feature_type\": \"location\", \"fmt_time\": \"2015-08-27 09:36:05.509000-07:00\", \"heading\": 0, \"latitude\": 37.5255413, \"longitude\": -122.2805606, \"sensed_speed\": 0, \"ts\": 1440693365.509}, \"type\": \"Feature\"}, {\"geometry\": {\"coordinates\": [-122.2867979, 37.5290806], \"type\": \"Point\"}, \"id\": \"55df45767d65cb39ee986719\", \"properties\": {\"accuracy\": 40.5, \"altitude\": 0, \"feature_type\": \"location\", \"fmt_time\": \"2015-08-27 09:36:35.593000-07:00\", \"heading\": 0, \"latitude\": 37.5290806, \"longitude\": -122.2867979, \"sensed_speed\": 0, \"ts\": 1440693395.593}, \"type\": \"Feature\"}, {\"geometry\": {\"coordinates\": [-122.2934913, 37.5337847], \"type\": \"Point\"}, \"id\": \"55df45767d65cb39ee98671c\", \"properties\": {\"accuracy\": 34.5, \"altitude\": 0, \"feature_type\": \"location\", \"fmt_time\": \"2015-08-27 09:37:05.543000-07:00\", \"heading\": 0, \"latitude\": 37.5337847, \"longitude\": -122.2934913, \"sensed_speed\": 0, \"ts\": 1440693425.543}, \"type\": \"Feature\"}, {\"geometry\": {\"coordinates\": [-122.3012202, 37.5422658], \"type\": \"Point\"}, \"id\": \"55df45767d65cb39ee986726\", \"properties\": {\"accuracy\": 36.0, \"altitude\": 0, \"feature_type\": \"location\", \"fmt_time\": \"2015-08-27 09:40:05.744000-07:00\", \"heading\": 0, \"latitude\": 37.5422658, \"longitude\": -122.3012202, \"sensed_speed\": 0, \"ts\": 1440693605.744}, \"type\": \"Feature\"}, {\"geometry\": {\"coordinates\": [-122.3012202, 37.5422658], \"type\": \"Point\"}, \"id\": \"55df45767d65cb39ee986728\", \"properties\": {\"accuracy\": 36.0, \"altitude\": 0, \"feature_type\": \"location\", \"fmt_time\": \"2015-08-27 09:40:28.208000-07:00\", \"heading\": 0, \"latitude\": 37.5422658, \"longitude\": -122.3012202, \"sensed_speed\": 0, \"ts\": 1440693628.208}, \"type\": \"Feature\"}, {\"geometry\": {\"coordinates\": [-122.3148437, 37.5601944], \"type\": \"Point\"}, \"id\": \"55df45777d65cb39ee98672f\", \"properties\": {\"accuracy\": 45.0, \"altitude\": 0, \"feature_type\": \"location\", \"fmt_time\": \"2015-08-27 09:41:35.701000-07:00\", \"heading\": 0, \"latitude\": 37.5601944, \"longitude\": -122.3148437, \"sensed_speed\": 0, \"ts\": 1440693695.701}, \"type\": \"Feature\"}, {\"geometry\": {\"coordinates\": [-122.3224973, 37.5669161], \"type\": \"Point\"}, \"id\": \"55df45777d65cb39ee986734\", \"properties\": {\"accuracy\": 36.0, \"altitude\": 0, \"feature_type\": \"location\", \"fmt_time\": \"2015-08-27 09:42:35.830000-07:00\", \"heading\": 0, \"latitude\": 37.5669161, \"longitude\": -122.3224973, \"sensed_speed\": 0, \"ts\": 1440693755.83}, \"type\": \"Feature\"}, {\"geometry\": {\"coordinates\": [-122.3247799, 37.5690545], \"type\": \"Point\"}, \"id\": \"55df45777d65cb39ee986738\", \"properties\": {\"accuracy\": 36.0, \"altitude\": 0, \"feature_type\": \"location\", \"fmt_time\": \"2015-08-27 09:43:35.962000-07:00\", \"heading\": 0, \"latitude\": 37.5690545, \"longitude\": -122.3247799, \"sensed_speed\": 0, \"ts\": 1440693815.962}, \"type\": \"Feature\"}, {\"geometry\": {\"coordinates\": [-122.3251962, 37.5692079], \"type\": \"Point\"}, \"id\": \"55df45787d65cb39ee98673b\", \"properties\": {\"accuracy\": 49.5, \"altitude\": 0, \"feature_type\": \"location\", \"fmt_time\": \"2015-08-27 09:44:05.920000-07:00\", \"heading\": 0, \"latitude\": 37.5692079, \"longitude\": -122.3251962, \"sensed_speed\": 0, \"ts\": 1440693845.92}, \"type\": \"Feature\"}, {\"geometry\": {\"coordinates\": [-122.3254295, 37.5693078], \"type\": \"Point\"}, \"id\": \"55df45787d65cb39ee98673d\", \"properties\": {\"accuracy\": 37.5, \"altitude\": 0, \"feature_type\": \"location\", \"fmt_time\": \"2015-08-27 09:44:35.939000-07:00\", \"heading\": 0, \"latitude\": 37.5693078, \"longitude\": -122.3254295, \"sensed_speed\": 0, \"ts\": 1440693875.939}, \"type\": \"Feature\"}, {\"geometry\": {\"coordinates\": [-122.3281082, 37.5721947], \"type\": \"Point\"}, \"id\": \"55df45787d65cb39ee986740\", \"properties\": {\"accuracy\": 36.0, \"altitude\": 0, \"feature_type\": \"location\", \"fmt_time\": \"2015-08-27 09:45:06.036000-07:00\", \"heading\": 0, \"latitude\": 37.5721947, \"longitude\": -122.3281082, \"sensed_speed\": 0, \"ts\": 1440693906.036}, \"type\": \"Feature\"}, {\"geometry\": {\"coordinates\": [-122.3316944, 37.5749343], \"type\": \"Point\"}, \"id\": \"55df45787d65cb39ee986744\", \"properties\": {\"accuracy\": 27.0, \"altitude\": 0, \"feature_type\": \"location\", \"fmt_time\": \"2015-08-27 09:45:36.023000-07:00\", \"heading\": 0, \"latitude\": 37.5749343, \"longitude\": -122.3316944, \"sensed_speed\": 0, \"ts\": 1440693936.023}, \"type\": \"Feature\"}, {\"geometry\": {\"coordinates\": [-122.3352875, 37.5761309], \"type\": \"Point\"}, \"id\": \"55df45787d65cb39ee986747\", \"properties\": {\"accuracy\": 40.5, \"altitude\": 0, \"feature_type\": \"location\", \"fmt_time\": \"2015-08-27 09:46:06.075000-07:00\", \"heading\": 0, \"latitude\": 37.5761309, \"longitude\": -122.3352875, \"sensed_speed\": 0, \"ts\": 1440693966.075}, \"type\": \"Feature\"}, {\"geometry\": {\"coordinates\": [-122.3410251, 37.5785123], \"type\": \"Point\"}, \"id\": \"55df45797d65cb39ee98674a\", \"properties\": {\"accuracy\": 90.0, \"altitude\": 0, \"feature_type\": \"location\", \"fmt_time\": \"2015-08-27 09:46:36.121000-07:00\", \"heading\": 0, \"latitude\": 37.5785123, \"longitude\": -122.3410251, \"sensed_speed\": 0, \"ts\": 1440693996.121}, \"type\": \"Feature\"}, {\"geometry\": {\"coordinates\": [-122.3435781, 37.5796754], \"type\": \"Point\"}, \"id\": \"55df45797d65cb39ee98674c\", \"properties\": {\"accuracy\": 37.5, \"altitude\": 0, \"feature_type\": \"location\", \"fmt_time\": \"2015-08-27 09:46:53.078000-07:00\", \"heading\": 0, \"latitude\": 37.5796754, \"longitude\": -122.3435781, \"sensed_speed\": 0, \"ts\": 1440694013.078}, \"type\": \"Feature\"}, {\"geometry\": {\"coordinates\": [-122.3446146, 37.5797867], \"type\": \"Point\"}, \"id\": \"55df45797d65cb39ee986750\", \"properties\": {\"accuracy\": 30.0, \"altitude\": 0, \"feature_type\": \"location\", \"fmt_time\": \"2015-08-27 09:47:24.886000-07:00\", \"heading\": 0, \"latitude\": 37.5797867, \"longitude\": -122.3446146, \"sensed_speed\": 0, \"ts\": 1440694044.886}, \"type\": \"Feature\"}, {\"geometry\": {\"coordinates\": [-122.3444278, 37.5797932], \"type\": \"Point\"}, \"id\": \"55df457a7d65cb39ee986758\", \"properties\": {\"accuracy\": 55.5, \"altitude\": 0, \"feature_type\": \"location\", \"fmt_time\": \"2015-08-27 09:47:57.004000-07:00\", \"heading\": 0, \"latitude\": 37.5797932, \"longitude\": -122.3444278, \"sensed_speed\": 0, \"ts\": 1440694077.004}, \"type\": \"Feature\"}, {\"geometry\": {\"coordinates\": [-122.3466425, 37.5804851], \"type\": \"Point\"}, \"id\": \"55df457a7d65cb39ee98675c\", \"properties\": {\"accuracy\": 40.5, \"altitude\": 0, \"feature_type\": \"location\", \"fmt_time\": \"2015-08-27 09:48:28.519000-07:00\", \"heading\": 0, \"latitude\": 37.5804851, \"longitude\": -122.3466425, \"sensed_speed\": 0, \"ts\": 1440694108.519}, \"type\": \"Feature\"}, {\"geometry\": {\"coordinates\": [-122.3622066, 37.5877013], \"type\": \"Point\"}, \"id\": \"55df457a7d65cb39ee986763\", \"properties\": {\"accuracy\": 45.0, \"altitude\": 0, \"feature_type\": \"location\", \"fmt_time\": \"2015-08-27 09:50:03.983000-07:00\", \"heading\": 0, \"latitude\": 37.5877013, \"longitude\": -122.3622066, \"sensed_speed\": 0, \"ts\": 1440694203.983}, \"type\": \"Feature\"}, {\"geometry\": {\"coordinates\": [-122.3871416, 37.599251], \"type\": \"Point\"}, \"id\": \"55df457b7d65cb39ee986769\", \"properties\": {\"accuracy\": 36.0, \"altitude\": 0, \"feature_type\": \"location\", \"fmt_time\": \"2015-08-27 09:51:44.698000-07:00\", \"heading\": 0, \"latitude\": 37.599251, \"longitude\": -122.3871416, \"sensed_speed\": 0, \"ts\": 1440694304.698}, \"type\": \"Feature\"}, {\"geometry\": {\"coordinates\": [-122.3871681, 37.5992489], \"type\": \"Point\"}, \"id\": \"55df457b7d65cb39ee98676c\", \"properties\": {\"accuracy\": 40.5, \"altitude\": 0, \"feature_type\": \"location\", \"fmt_time\": \"2015-08-27 09:52:14.783000-07:00\", \"heading\": 0, \"latitude\": 37.5992489, \"longitude\": -122.3871681, \"sensed_speed\": 0, \"ts\": 1440694334.783}, \"type\": \"Feature\"}], \"type\": \"FeatureCollection\"}, {\"geometry\": {\"coordinates\": [[-122.0778188, 37.3957356], [-122.0761742, 37.3941417], [-122.0776881, 37.395656], [-122.0762038, 37.3941508], [-122.0762217, 37.3942296], [-122.0776802, 37.3957268], [-122.0769659, 37.3953633], [-122.076151, 37.3941635], [-122.076142, 37.3941596], [-122.0778411, 37.3957819], [-122.0777656, 37.3957175], [-122.0760912, 37.3950273], [-122.0761752, 37.3942547], [-122.0777412, 37.3956106], [-122.0777709, 37.3957229], [-122.0777836, 37.3956614], [-122.0762241, 37.3947787], [-122.0761291, 37.3940891], [-122.0775421, 37.3956615], [-122.07779, 37.3956878], [-122.0777666, 37.3957174], [-122.0771241, 37.3952022], [-122.0762193, 37.3949768], [-122.106795, 37.4077682], [-122.133534, 37.4235497], [-122.1388521, 37.4277911], [-122.1414298, 37.4291696], [-122.1415265, 37.429284], [-122.1414298, 37.4291696], [-122.1414762, 37.4292348], [-122.1414762, 37.4292348], [-122.1522525, 37.4358008], [-122.1651832, 37.4438895], [-122.1658308, 37.4436462], [-122.1650013, 37.4439291], [-122.1649406, 37.4439526], [-122.180769, 37.4541764], [-122.1829735, 37.4553948], [-122.1829793, 37.4551939], [-122.182976, 37.4553], [-122.2135446, 37.4737671], [-122.2231926, 37.4785943], [-122.2269005, 37.4828822], [-122.2320305, 37.4862189], [-122.2323706, 37.4861919], [-122.2320101, 37.4862121], [-122.2324731, 37.4861669], [-122.234237, 37.4872932], [-122.248984, 37.4984627], [-122.2601884, 37.5068074], [-122.2603798, 37.5082546], [-122.2605659, 37.5081271], [-122.2607601, 37.5077337], [-122.2625349, 37.5100476], [-122.2660316, 37.512868], [-122.2721991, 37.5177452], [-122.2764249, 37.521002], [-122.2763004, 37.5209551], [-122.2763267, 37.5210567], [-122.2771575, 37.522433], [-122.2805606, 37.5255413], [-122.2867979, 37.5290806], [-122.2934913, 37.5337847], [-122.3012202, 37.5422658], [-122.3012202, 37.5422658], [-122.3148437, 37.5601944], [-122.3224973, 37.5669161], [-122.3247799, 37.5690545], [-122.3251962, 37.5692079], [-122.3254295, 37.5693078], [-122.3281082, 37.5721947], [-122.3316944, 37.5749343], [-122.3352875, 37.5761309], [-122.3410251, 37.5785123], [-122.3435781, 37.5796754], [-122.3446146, 37.5797867], [-122.3444278, 37.5797932], [-122.3466425, 37.5804851], [-122.3622066, 37.5877013], [-122.3871416, 37.599251], [-122.3871681, 37.5992489]], \"type\": \"LineString\"}, \"id\": \"5603ae10f6858f0cbbb60585\", \"properties\": {\"duration\": 3616.015000104904, \"end_fmt_time\": \"2015-08-27 09:52:14.783000-07:00\", \"end_ts\": 1440694334.783, \"feature_type\": \"section\", \"sensed_mode\": \"MotionTypes.IN_VEHICLE\", \"source\": \"SmoothedHighConfidenceMotion\", \"start_fmt_time\": \"2015-08-27 08:51:58.768000-07:00\", \"start_ts\": 1440690718.768}, \"type\": \"Feature\"}], \"type\": \"FeatureCollection\"}, {\"features\": [{\"features\": [{\"geometry\": {\"coordinates\": [-122.3872958, 37.5992574], \"type\": \"Point\"}, \"id\": \"55df457b7d65cb39ee986770\", \"properties\": {\"accuracy\": 37.5, \"altitude\": 0, \"feature_type\": \"location\", \"fmt_time\": \"2015-08-27 09:52:44.740000-07:00\", \"heading\": 0, \"latitude\": 37.5992574, \"longitude\": -122.3872958, \"sensed_speed\": 0, \"ts\": 1440694364.74}, \"type\": \"Feature\"}, {\"geometry\": {\"coordinates\": [-122.387062, 37.5992117], \"type\": \"Point\"}, \"id\": \"55df457b7d65cb39ee986773\", \"properties\": {\"accuracy\": 36.0, \"altitude\": 0, \"feature_type\": \"location\", \"fmt_time\": \"2015-08-27 09:53:14.849000-07:00\", \"heading\": 0, \"latitude\": 37.5992117, \"longitude\": -122.387062, \"sensed_speed\": 0, \"ts\": 1440694394.849}, \"type\": \"Feature\"}, {\"geometry\": {\"coordinates\": [-122.3872605, 37.5995036], \"type\": \"Point\"}, \"id\": \"55df457b7d65cb39ee986775\", \"properties\": {\"accuracy\": 113.387, \"altitude\": 0, \"feature_type\": \"location\", \"fmt_time\": \"2015-08-27 09:53:44.894000-07:00\", \"heading\": 0, \"latitude\": 37.5995036, \"longitude\": -122.3872605, \"sensed_speed\": 0, \"ts\": 1440694424.894}, \"type\": \"Feature\"}], \"type\": \"FeatureCollection\"}, {\"geometry\": {\"coordinates\": [[-122.3872958, 37.5992574], [-122.387062, 37.5992117], [-122.3872605, 37.5995036]], \"type\": \"LineString\"}, \"id\": \"5603ae10f6858f0cbbb60586\", \"properties\": {\"duration\": 60.15400004386902, \"end_fmt_time\": \"2015-08-27 09:53:44.894000-07:00\", \"end_ts\": 1440694424.894, \"feature_type\": \"section\", \"sensed_mode\": \"MotionTypes.ON_FOOT\", \"source\": \"SmoothedHighConfidenceMotion\", \"start_fmt_time\": \"2015-08-27 09:52:44.740000-07:00\", \"start_ts\": 1440694364.74}, \"type\": \"Feature\"}], \"type\": \"FeatureCollection\"}], \"type\": \"FeatureCollection\"}\n"
       ]
      },
      {
       "output_type": "stream",
       "stream": "stderr",
       "text": [
        "DEBUG:root:{\"features\": [{\"geometry\": {\"coordinates\": [-122.3872605, 37.5995036], \"type\": \"Point\"}, \"id\": \"5603ae0cf6858f0cbbb60553\", \"properties\": {\"duration\": 728.0950000286102, \"enter_fmt_time\": \"2015-08-27 09:53:44.894000-07:00\", \"enter_ts\": 1440694424.894, \"exit_fmt_time\": \"2015-08-27 10:05:52.989000-07:00\", \"exit_ts\": 1440695152.989, \"feature_type\": \"place\", \"source\": \"DwellSegmentationTimeFilter\"}, \"type\": \"Feature\"}, {\"geometry\": {\"coordinates\": [-122.2603947, 37.875023], \"type\": \"Point\"}, \"id\": \"5603ae0cf6858f0cbbb60555\", \"properties\": {\"duration\": 667.018000125885, \"enter_fmt_time\": \"2015-08-27 11:14:26.669000-07:00\", \"enter_ts\": 1440699266.669, \"exit_fmt_time\": \"2015-08-27 11:25:33.687000-07:00\", \"exit_ts\": 1440699933.687, \"feature_type\": \"place\", \"source\": \"DwellSegmentationTimeFilter\"}, \"type\": \"Feature\"}, {\"geometry\": {\"coordinates\": [-122.2682605, 37.8700849], \"type\": \"Point\"}, \"id\": \"5603ae10f6858f0cbbb6058a\", \"properties\": {\"duration\": 240.18799996376038, \"enter_fmt_time\": \"2015-08-27 10:54:26.704000-07:00\", \"enter_ts\": 1440698066.704, \"exit_fmt_time\": \"2015-08-27 10:58:26.892000-07:00\", \"exit_ts\": 1440698306.892, \"feature_type\": \"stop\", \"source\": \"SmoothedHighConfidenceMotion\"}, \"type\": \"Feature\"}, {\"features\": [{\"features\": [{\"geometry\": {\"coordinates\": [-122.4029569, 37.6162024], \"type\": \"Point\"}, \"id\": \"55df457d7d65cb39ee986795\", \"properties\": {\"accuracy\": 51.0, \"altitude\": 0, \"feature_type\": \"location\", \"fmt_time\": \"2015-08-27 10:05:52.989000-07:00\", \"heading\": 0, \"latitude\": 37.6162024, \"longitude\": -122.4029569, \"sensed_speed\": 0, \"ts\": 1440695152.989}, \"type\": \"Feature\"}, {\"geometry\": {\"coordinates\": [-122.4034099, 37.6169824], \"type\": \"Point\"}, \"id\": \"55df457d7d65cb39ee986798\", \"properties\": {\"accuracy\": 51.0, \"altitude\": 0, \"feature_type\": \"location\", \"fmt_time\": \"2015-08-27 10:06:23.034000-07:00\", \"heading\": 0, \"latitude\": 37.6169824, \"longitude\": -122.4034099, \"sensed_speed\": 0, \"ts\": 1440695183.034}, \"type\": \"Feature\"}, {\"geometry\": {\"coordinates\": [-122.4710997, 37.7039975], \"type\": \"Point\"}, \"id\": \"55df5a7f7d65cb39ee9868aa\", \"properties\": {\"accuracy\": 69.0, \"altitude\": 0, \"feature_type\": \"location\", \"fmt_time\": \"2015-08-27 10:17:53.453000-07:00\", \"heading\": 0, \"latitude\": 37.7039975, \"longitude\": -122.4710997, \"sensed_speed\": 0, \"ts\": 1440695873.453}, \"type\": \"Feature\"}, {\"geometry\": {\"coordinates\": [-122.4695123, 37.7053759], \"type\": \"Point\"}, \"id\": \"55df5a7f7d65cb39ee9868ad\", \"properties\": {\"accuracy\": 36.0, \"altitude\": 0, \"feature_type\": \"location\", \"fmt_time\": \"2015-08-27 10:18:23.480000-07:00\", \"heading\": 0, \"latitude\": 37.7053759, \"longitude\": -122.4695123, \"sensed_speed\": 0, \"ts\": 1440695903.48}, \"type\": \"Feature\"}, {\"geometry\": {\"coordinates\": [-122.4688337, 37.706003], \"type\": \"Point\"}, \"id\": \"55df5a7f7d65cb39ee9868af\", \"properties\": {\"accuracy\": 48.0, \"altitude\": 0, \"feature_type\": \"location\", \"fmt_time\": \"2015-08-27 10:18:53.491000-07:00\", \"heading\": 0, \"latitude\": 37.706003, \"longitude\": -122.4688337, \"sensed_speed\": 0, \"ts\": 1440695933.491}, \"type\": \"Feature\"}, {\"geometry\": {\"coordinates\": [-122.4687392, 37.7058873], \"type\": \"Point\"}, \"id\": \"55df5a7f7d65cb39ee9868b2\", \"properties\": {\"accuracy\": 37.5, \"altitude\": 0, \"feature_type\": \"location\", \"fmt_time\": \"2015-08-27 10:19:23.552000-07:00\", \"heading\": 0, \"latitude\": 37.7058873, \"longitude\": -122.4687392, \"sensed_speed\": 0, \"ts\": 1440695963.552}, \"type\": \"Feature\"}, {\"geometry\": {\"coordinates\": [-122.4659174, 37.7104542], \"type\": \"Point\"}, \"id\": \"55df5a7f7d65cb39ee9868b5\", \"properties\": {\"accuracy\": 36.0, \"altitude\": 0, \"feature_type\": \"location\", \"fmt_time\": \"2015-08-27 10:19:53.536000-07:00\", \"heading\": 0, \"latitude\": 37.7104542, \"longitude\": -122.4659174, \"sensed_speed\": 0, \"ts\": 1440695993.536}, \"type\": \"Feature\"}, {\"geometry\": {\"coordinates\": [-122.4588706, 37.7104583], \"type\": \"Point\"}, \"id\": \"55df5a807d65cb39ee9868b8\", \"properties\": {\"accuracy\": 40.5, \"altitude\": 0, \"feature_type\": \"location\", \"fmt_time\": \"2015-08-27 10:20:23.549000-07:00\", \"heading\": 0, \"latitude\": 37.7104583, \"longitude\": -122.4588706, \"sensed_speed\": 0, \"ts\": 1440696023.549}, \"type\": \"Feature\"}, {\"geometry\": {\"coordinates\": [-122.4539366, 37.7113783], \"type\": \"Point\"}, \"id\": \"55df5a807d65cb39ee9868bb\", \"properties\": {\"accuracy\": 48.0, \"altitude\": 0, \"feature_type\": \"location\", \"fmt_time\": \"2015-08-27 10:20:53.591000-07:00\", \"heading\": 0, \"latitude\": 37.7113783, \"longitude\": -122.4539366, \"sensed_speed\": 0, \"ts\": 1440696053.591}, \"type\": \"Feature\"}, {\"geometry\": {\"coordinates\": [-122.4496369, 37.7149562], \"type\": \"Point\"}, \"id\": \"55df5a807d65cb39ee9868be\", \"properties\": {\"accuracy\": 40.5, \"altitude\": 0, \"feature_type\": \"location\", \"fmt_time\": \"2015-08-27 10:21:23.589000-07:00\", \"heading\": 0, \"latitude\": 37.7149562, \"longitude\": -122.4496369, \"sensed_speed\": 0, \"ts\": 1440696083.589}, \"type\": \"Feature\"}, {\"geometry\": {\"coordinates\": [-122.2993606, 37.8063249], \"type\": \"Point\"}, \"id\": \"55df5a857d65cb39ee986904\", \"properties\": {\"accuracy\": 57.0, \"altitude\": 0, \"feature_type\": \"location\", \"fmt_time\": \"2015-08-27 10:41:54.688000-07:00\", \"heading\": 0, \"latitude\": 37.8063249, \"longitude\": -122.2993606, \"sensed_speed\": 0, \"ts\": 1440697314.688}, \"type\": \"Feature\"}, {\"geometry\": {\"coordinates\": [-122.2946699, 37.8046873], \"type\": \"Point\"}, \"id\": \"55df5a857d65cb39ee986908\", \"properties\": {\"accuracy\": 57.0, \"altitude\": 0, \"feature_type\": \"location\", \"fmt_time\": \"2015-08-27 10:42:24.898000-07:00\", \"heading\": 0, \"latitude\": 37.8046873, \"longitude\": -122.2946699, \"sensed_speed\": 0, \"ts\": 1440697344.898}, \"type\": \"Feature\"}, {\"geometry\": {\"coordinates\": [-122.2942884, 37.8045621], \"type\": \"Point\"}, \"id\": \"55df5a857d65cb39ee98690a\", \"properties\": {\"accuracy\": 37.5, \"altitude\": 0, \"feature_type\": \"location\", \"fmt_time\": \"2015-08-27 10:42:54.905000-07:00\", \"heading\": 0, \"latitude\": 37.8045621, \"longitude\": -122.2942884, \"sensed_speed\": 0, \"ts\": 1440697374.905}, \"type\": \"Feature\"}, {\"geometry\": {\"coordinates\": [-122.2874324, 37.802572], \"type\": \"Point\"}, \"id\": \"55df5a857d65cb39ee98690e\", \"properties\": {\"accuracy\": 36.0, \"altitude\": 0, \"feature_type\": \"location\", \"fmt_time\": \"2015-08-27 10:43:54.921000-07:00\", \"heading\": 0, \"latitude\": 37.802572, \"longitude\": -122.2874324, \"sensed_speed\": 0, \"ts\": 1440697434.921}, \"type\": \"Feature\"}, {\"geometry\": {\"coordinates\": [-122.2812746, 37.8003098], \"type\": \"Point\"}, \"id\": \"55df5a867d65cb39ee986912\", \"properties\": {\"accuracy\": 63.0, \"altitude\": 0, \"feature_type\": \"location\", \"fmt_time\": \"2015-08-27 10:44:25.121000-07:00\", \"heading\": 0, \"latitude\": 37.8003098, \"longitude\": -122.2812746, \"sensed_speed\": 0, \"ts\": 1440697465.121}, \"type\": \"Feature\"}, {\"geometry\": {\"coordinates\": [-122.2788163, 37.7992023], \"type\": \"Point\"}, \"id\": \"55df5a867d65cb39ee986915\", \"properties\": {\"accuracy\": 36.0, \"altitude\": 0, \"feature_type\": \"location\", \"fmt_time\": \"2015-08-27 10:44:55.167000-07:00\", \"heading\": 0, \"latitude\": 37.7992023, \"longitude\": -122.2788163, \"sensed_speed\": 0, \"ts\": 1440697495.167}, \"type\": \"Feature\"}, {\"geometry\": {\"coordinates\": [-122.2690081, 37.8151412], \"type\": \"Point\"}, \"id\": \"55df5a877d65cb39ee986924\", \"properties\": {\"accuracy\": 36.0, \"altitude\": 0, \"feature_type\": \"location\", \"fmt_time\": \"2015-08-27 10:49:25.352000-07:00\", \"heading\": 0, \"latitude\": 37.8151412, \"longitude\": -122.2690081, \"sensed_speed\": 0, \"ts\": 1440697765.352}, \"type\": \"Feature\"}, {\"geometry\": {\"coordinates\": [-122.2721842, 37.814555], \"type\": \"Point\"}, \"id\": \"55df5a877d65cb39ee986928\", \"properties\": {\"accuracy\": 42.0, \"altitude\": 0, \"feature_type\": \"location\", \"fmt_time\": \"2015-08-27 10:50:25.991000-07:00\", \"heading\": 0, \"latitude\": 37.814555, \"longitude\": -122.2721842, \"sensed_speed\": 0, \"ts\": 1440697825.991}, \"type\": \"Feature\"}, {\"geometry\": {\"coordinates\": [-122.2690856, 37.8273713], \"type\": \"Point\"}, \"id\": \"55df5a877d65cb39ee98692f\", \"properties\": {\"accuracy\": 87.0, \"altitude\": 0, \"feature_type\": \"location\", \"fmt_time\": \"2015-08-27 10:51:56.548000-07:00\", \"heading\": 0, \"latitude\": 37.8273713, \"longitude\": -122.2690856, \"sensed_speed\": 0, \"ts\": 1440697916.548}, \"type\": \"Feature\"}, {\"geometry\": {\"coordinates\": [-122.2693285, 37.83869], \"type\": \"Point\"}, \"id\": \"55df5a887d65cb39ee986937\", \"properties\": {\"accuracy\": 57.0, \"altitude\": 0, \"feature_type\": \"location\", \"fmt_time\": \"2015-08-27 10:53:56.641000-07:00\", \"heading\": 0, \"latitude\": 37.83869, \"longitude\": -122.2693285, \"sensed_speed\": 0, \"ts\": 1440698036.641}, \"type\": \"Feature\"}, {\"geometry\": {\"coordinates\": [-122.2705638, 37.8440278], \"type\": \"Point\"}, \"id\": \"55df5a887d65cb39ee98693a\", \"properties\": {\"accuracy\": 33.0, \"altitude\": 0, \"feature_type\": \"location\", \"fmt_time\": \"2015-08-27 10:54:26.704000-07:00\", \"heading\": 0, \"latitude\": 37.8440278, \"longitude\": -122.2705638, \"sensed_speed\": 0, \"ts\": 1440698066.704}, \"type\": \"Feature\"}], \"type\": \"FeatureCollection\"}, {\"geometry\": {\"coordinates\": [[-122.3872605, 37.5995036], [-122.4029569, 37.6162024], [-122.4034099, 37.6169824], [-122.4710997, 37.7039975], [-122.4695123, 37.7053759], [-122.4688337, 37.706003], [-122.4687392, 37.7058873], [-122.4659174, 37.7104542], [-122.4588706, 37.7104583], [-122.4539366, 37.7113783], [-122.4496369, 37.7149562], [-122.2993606, 37.8063249], [-122.2946699, 37.8046873], [-122.2942884, 37.8045621], [-122.2874324, 37.802572], [-122.2812746, 37.8003098], [-122.2788163, 37.7992023], [-122.2690081, 37.8151412], [-122.2721842, 37.814555], [-122.2690856, 37.8273713], [-122.2693285, 37.83869], [-122.2705638, 37.8440278]], \"type\": \"LineString\"}, \"id\": \"5603ae10f6858f0cbbb60588\", \"properties\": {\"duration\": 2913.7149999141693, \"end_fmt_time\": \"2015-08-27 10:54:26.704000-07:00\", \"end_ts\": 1440698066.704, \"feature_type\": \"section\", \"sensed_mode\": \"MotionTypes.IN_VEHICLE\", \"source\": \"SmoothedHighConfidenceMotion\", \"start_fmt_time\": \"2015-08-27 10:05:52.989000-07:00\", \"start_ts\": 1440695152.989}, \"type\": \"Feature\"}], \"type\": \"FeatureCollection\"}, {\"features\": [{\"features\": [{\"geometry\": {\"coordinates\": [-122.2682605, 37.8700849], \"type\": \"Point\"}, \"id\": \"55df5a897d65cb39ee98694b\", \"properties\": {\"accuracy\": 25.0, \"altitude\": 0, \"feature_type\": \"location\", \"fmt_time\": \"2015-08-27 10:58:26.892000-07:00\", \"heading\": 0, \"latitude\": 37.8700849, \"longitude\": -122.2682605, \"sensed_speed\": 0, \"ts\": 1440698306.892}, \"type\": \"Feature\"}, {\"geometry\": {\"coordinates\": [-122.2681346, 37.8707148], \"type\": \"Point\"}, \"id\": \"55df5a8a7d65cb39ee986953\", \"properties\": {\"accuracy\": 48.0, \"altitude\": 0, \"feature_type\": \"location\", \"fmt_time\": \"2015-08-27 10:59:26.497000-07:00\", \"heading\": 0, \"latitude\": 37.8707148, \"longitude\": -122.2681346, \"sensed_speed\": 0, \"ts\": 1440698366.497}, \"type\": \"Feature\"}, {\"geometry\": {\"coordinates\": [-122.2682285, 37.8711642], \"type\": \"Point\"}, \"id\": \"55df5a8a7d65cb39ee986956\", \"properties\": {\"accuracy\": 37.064, \"altitude\": 0, \"feature_type\": \"location\", \"fmt_time\": \"2015-08-27 10:59:56.648000-07:00\", \"heading\": 0, \"latitude\": 37.8711642, \"longitude\": -122.2682285, \"sensed_speed\": 0, \"ts\": 1440698396.648}, \"type\": \"Feature\"}, {\"geometry\": {\"coordinates\": [-122.2678988, 37.8711621], \"type\": \"Point\"}, \"id\": \"55df5a8a7d65cb39ee986958\", \"properties\": {\"accuracy\": 30.408, \"altitude\": 0, \"feature_type\": \"location\", \"fmt_time\": \"2015-08-27 11:00:26.652000-07:00\", \"heading\": 0, \"latitude\": 37.8711621, \"longitude\": -122.2678988, \"sensed_speed\": 0, \"ts\": 1440698426.652}, \"type\": \"Feature\"}, {\"geometry\": {\"coordinates\": [-122.2675291, 37.8711694], \"type\": \"Point\"}, \"id\": \"55df5a8a7d65cb39ee98695b\", \"properties\": {\"accuracy\": 26.103, \"altitude\": 0, \"feature_type\": \"location\", \"fmt_time\": \"2015-08-27 11:00:56.672000-07:00\", \"heading\": 0, \"latitude\": 37.8711694, \"longitude\": -122.2675291, \"sensed_speed\": 0, \"ts\": 1440698456.672}, \"type\": \"Feature\"}, {\"geometry\": {\"coordinates\": [-122.2669631, 37.8713225], \"type\": \"Point\"}, \"id\": \"55df5a8b7d65cb39ee98695f\", \"properties\": {\"accuracy\": 67.5, \"altitude\": 0, \"feature_type\": \"location\", \"fmt_time\": \"2015-08-27 11:01:26.778000-07:00\", \"heading\": 0, \"latitude\": 37.8713225, \"longitude\": -122.2669631, \"sensed_speed\": 0, \"ts\": 1440698486.778}, \"type\": \"Feature\"}, {\"geometry\": {\"coordinates\": [-122.2665766, 37.8717961], \"type\": \"Point\"}, \"id\": \"55df5a8b7d65cb39ee986961\", \"properties\": {\"accuracy\": 65.625, \"altitude\": 0, \"feature_type\": \"location\", \"fmt_time\": \"2015-08-27 11:01:57.105000-07:00\", \"heading\": 0, \"latitude\": 37.8717961, \"longitude\": -122.2665766, \"sensed_speed\": 0, \"ts\": 1440698517.105}, \"type\": \"Feature\"}, {\"geometry\": {\"coordinates\": [-122.2664828, 37.8716111], \"type\": \"Point\"}, \"id\": \"55df5a8b7d65cb39ee986964\", \"properties\": {\"accuracy\": 23.453, \"altitude\": 0, \"feature_type\": \"location\", \"fmt_time\": \"2015-08-27 11:02:20.040000-07:00\", \"heading\": 0, \"latitude\": 37.8716111, \"longitude\": -122.2664828, \"sensed_speed\": 0, \"ts\": 1440698540.04}, \"type\": \"Feature\"}, {\"geometry\": {\"coordinates\": [-122.2664828, 37.8716111], \"type\": \"Point\"}, \"id\": \"55df5a8b7d65cb39ee986968\", \"properties\": {\"accuracy\": 100.521, \"altitude\": 0, \"feature_type\": \"location\", \"fmt_time\": \"2015-08-27 11:03:11.418000-07:00\", \"heading\": 0, \"latitude\": 37.8716111, \"longitude\": -122.2664828, \"sensed_speed\": 0, \"ts\": 1440698591.418}, \"type\": \"Feature\"}, {\"geometry\": {\"coordinates\": [-122.2661958, 37.8714923], \"type\": \"Point\"}, \"id\": \"55df5a8b7d65cb39ee98696a\", \"properties\": {\"accuracy\": 43.5, \"altitude\": 0, \"feature_type\": \"location\", \"fmt_time\": \"2015-08-27 11:03:26.906000-07:00\", \"heading\": 0, \"latitude\": 37.8714923, \"longitude\": -122.2661958, \"sensed_speed\": 0, \"ts\": 1440698606.906}, \"type\": \"Feature\"}, {\"geometry\": {\"coordinates\": [-122.2661958, 37.8714923], \"type\": \"Point\"}, \"id\": \"55df5a8c7d65cb39ee98696e\", \"properties\": {\"accuracy\": 109.99, \"altitude\": 0, \"feature_type\": \"location\", \"fmt_time\": \"2015-08-27 11:04:11.233000-07:00\", \"heading\": 0, \"latitude\": 37.8714923, \"longitude\": -122.2661958, \"sensed_speed\": 0, \"ts\": 1440698651.233}, \"type\": \"Feature\"}, {\"geometry\": {\"coordinates\": [-122.2661958, 37.8714923], \"type\": \"Point\"}, \"id\": \"55df5a8c7d65cb39ee986970\", \"properties\": {\"accuracy\": 136.496, \"altitude\": 0, \"feature_type\": \"location\", \"fmt_time\": \"2015-08-27 11:04:28.905000-07:00\", \"heading\": 0, \"latitude\": 37.8714923, \"longitude\": -122.2661958, \"sensed_speed\": 0, \"ts\": 1440698668.905}, \"type\": \"Feature\"}, {\"geometry\": {\"coordinates\": [-122.2640902, 37.871753], \"type\": \"Point\"}, \"id\": \"55df5a8c7d65cb39ee986973\", \"properties\": {\"accuracy\": 45.0, \"altitude\": 0, \"feature_type\": \"location\", \"fmt_time\": \"2015-08-27 11:04:49.917000-07:00\", \"heading\": 0, \"latitude\": 37.871753, \"longitude\": -122.2640902, \"sensed_speed\": 0, \"ts\": 1440698689.917}, \"type\": \"Feature\"}, {\"geometry\": {\"coordinates\": [-122.264123, 37.8718767], \"type\": \"Point\"}, \"id\": \"55df5a8c7d65cb39ee986977\", \"properties\": {\"accuracy\": 39.0, \"altitude\": 0, \"feature_type\": \"location\", \"fmt_time\": \"2015-08-27 11:05:27.255000-07:00\", \"heading\": 0, \"latitude\": 37.8718767, \"longitude\": -122.264123, \"sensed_speed\": 0, \"ts\": 1440698727.255}, \"type\": \"Feature\"}, {\"geometry\": {\"coordinates\": [-122.2639891, 37.8719733], \"type\": \"Point\"}, \"id\": \"55df5a8c7d65cb39ee98697a\", \"properties\": {\"accuracy\": 40.5, \"altitude\": 0, \"feature_type\": \"location\", \"fmt_time\": \"2015-08-27 11:05:51.173000-07:00\", \"heading\": 0, \"latitude\": 37.8719733, \"longitude\": -122.2639891, \"sensed_speed\": 0, \"ts\": 1440698751.173}, \"type\": \"Feature\"}, {\"geometry\": {\"coordinates\": [-122.2637253, 37.8721843], \"type\": \"Point\"}, \"id\": \"55df5a8c7d65cb39ee98697d\", \"properties\": {\"accuracy\": 46.5, \"altitude\": 0, \"feature_type\": \"location\", \"fmt_time\": \"2015-08-27 11:06:27.147000-07:00\", \"heading\": 0, \"latitude\": 37.8721843, \"longitude\": -122.2637253, \"sensed_speed\": 0, \"ts\": 1440698787.147}, \"type\": \"Feature\"}, {\"geometry\": {\"coordinates\": [-122.2636031, 37.8721196], \"type\": \"Point\"}, \"id\": \"55df5a8d7d65cb39ee986980\", \"properties\": {\"accuracy\": 39.452, \"altitude\": 0, \"feature_type\": \"location\", \"fmt_time\": \"2015-08-27 11:06:50.709000-07:00\", \"heading\": 0, \"latitude\": 37.8721196, \"longitude\": -122.2636031, \"sensed_speed\": 0, \"ts\": 1440698810.709}, \"type\": \"Feature\"}, {\"geometry\": {\"coordinates\": [-122.2629994, 37.8724529], \"type\": \"Point\"}, \"id\": \"55df5a8d7d65cb39ee986983\", \"properties\": {\"accuracy\": 30.0, \"altitude\": 0, \"feature_type\": \"location\", \"fmt_time\": \"2015-08-27 11:07:22.576000-07:00\", \"heading\": 0, \"latitude\": 37.8724529, \"longitude\": -122.2629994, \"sensed_speed\": 0, \"ts\": 1440698842.576}, \"type\": \"Feature\"}, {\"geometry\": {\"coordinates\": [-122.2626764, 37.872436], \"type\": \"Point\"}, \"id\": \"55df5a8d7d65cb39ee986985\", \"properties\": {\"accuracy\": 37.5, \"altitude\": 0, \"feature_type\": \"location\", \"fmt_time\": \"2015-08-27 11:07:58.383000-07:00\", \"heading\": 0, \"latitude\": 37.872436, \"longitude\": -122.2626764, \"sensed_speed\": 0, \"ts\": 1440698878.383}, \"type\": \"Feature\"}, {\"geometry\": {\"coordinates\": [-122.2623766, 37.8723115], \"type\": \"Point\"}, \"id\": \"55df5a8d7d65cb39ee986989\", \"properties\": {\"accuracy\": 62.938, \"altitude\": 0, \"feature_type\": \"location\", \"fmt_time\": \"2015-08-27 11:08:28.542000-07:00\", \"heading\": 0, \"latitude\": 37.8723115, \"longitude\": -122.2623766, \"sensed_speed\": 0, \"ts\": 1440698908.542}, \"type\": \"Feature\"}, {\"geometry\": {\"coordinates\": [-122.2624567, 37.8723398], \"type\": \"Point\"}, \"id\": \"55df5a8d7d65cb39ee98698c\", \"properties\": {\"accuracy\": 63.137, \"altitude\": 0, \"feature_type\": \"location\", \"fmt_time\": \"2015-08-27 11:08:58.153000-07:00\", \"heading\": 0, \"latitude\": 37.8723398, \"longitude\": -122.2624567, \"sensed_speed\": 0, \"ts\": 1440698938.153}, \"type\": \"Feature\"}, {\"geometry\": {\"coordinates\": [-122.2622943, 37.8731595], \"type\": \"Point\"}, \"id\": \"55df5a8e7d65cb39ee98698f\", \"properties\": {\"accuracy\": 40.5, \"altitude\": 0, \"feature_type\": \"location\", \"fmt_time\": \"2015-08-27 11:09:22.496000-07:00\", \"heading\": 0, \"latitude\": 37.8731595, \"longitude\": -122.2622943, \"sensed_speed\": 0, \"ts\": 1440698962.496}, \"type\": \"Feature\"}, {\"geometry\": {\"coordinates\": [-122.2616244, 37.8734265], \"type\": \"Point\"}, \"id\": \"55df5a8e7d65cb39ee986992\", \"properties\": {\"accuracy\": 40.882, \"altitude\": 0, \"feature_type\": \"location\", \"fmt_time\": \"2015-08-27 11:09:46.092000-07:00\", \"heading\": 0, \"latitude\": 37.8734265, \"longitude\": -122.2616244, \"sensed_speed\": 0, \"ts\": 1440698986.092}, \"type\": \"Feature\"}, {\"geometry\": {\"coordinates\": [-122.2615563, 37.8733688], \"type\": \"Point\"}, \"id\": \"55df5a8e7d65cb39ee986994\", \"properties\": {\"accuracy\": 30.0, \"altitude\": 0, \"feature_type\": \"location\", \"fmt_time\": \"2015-08-27 11:10:28.646000-07:00\", \"heading\": 0, \"latitude\": 37.8733688, \"longitude\": -122.2615563, \"sensed_speed\": 0, \"ts\": 1440699028.646}, \"type\": \"Feature\"}, {\"geometry\": {\"coordinates\": [-122.2616393, 37.8734842], \"type\": \"Point\"}, \"id\": \"55df5a8e7d65cb39ee986997\", \"properties\": {\"accuracy\": 40.298, \"altitude\": 0, \"feature_type\": \"location\", \"fmt_time\": \"2015-08-27 11:10:50.002000-07:00\", \"heading\": 0, \"latitude\": 37.8734842, \"longitude\": -122.2616393, \"sensed_speed\": 0, \"ts\": 1440699050.002}, \"type\": \"Feature\"}, {\"geometry\": {\"coordinates\": [-122.2616393, 37.8734842], \"type\": \"Point\"}, \"id\": \"55df5a8e7d65cb39ee98699b\", \"properties\": {\"accuracy\": 146.965, \"altitude\": 0, \"feature_type\": \"location\", \"fmt_time\": \"2015-08-27 11:12:01.115000-07:00\", \"heading\": 0, \"latitude\": 37.8734842, \"longitude\": -122.2616393, \"sensed_speed\": 0, \"ts\": 1440699121.115}, \"type\": \"Feature\"}, {\"geometry\": {\"coordinates\": [-122.2601102, 37.8750076], \"type\": \"Point\"}, \"id\": \"55df5a8f7d65cb39ee98699e\", \"properties\": {\"accuracy\": 40.5, \"altitude\": 0, \"feature_type\": \"location\", \"fmt_time\": \"2015-08-27 11:12:20-07:00\", \"heading\": 0, \"latitude\": 37.8750076, \"longitude\": -122.2601102, \"sensed_speed\": 0, \"ts\": 1440699140.0}, \"type\": \"Feature\"}, {\"geometry\": {\"coordinates\": [-122.2603031, 37.8750865], \"type\": \"Point\"}, \"id\": \"55df5a8f7d65cb39ee9869a1\", \"properties\": {\"accuracy\": 24.531, \"altitude\": 0, \"feature_type\": \"location\", \"fmt_time\": \"2015-08-27 11:12:58.184000-07:00\", \"heading\": 0, \"latitude\": 37.8750865, \"longitude\": -122.2603031, \"sensed_speed\": 0, \"ts\": 1440699178.184}, \"type\": \"Feature\"}, {\"geometry\": {\"coordinates\": [-122.2603195, 37.8750871], \"type\": \"Point\"}, \"id\": \"55df5a8f7d65cb39ee9869a4\", \"properties\": {\"accuracy\": 23.619, \"altitude\": 0, \"feature_type\": \"location\", \"fmt_time\": \"2015-08-27 11:13:14.180000-07:00\", \"heading\": 0, \"latitude\": 37.8750871, \"longitude\": -122.2603195, \"sensed_speed\": 0, \"ts\": 1440699194.18}, \"type\": \"Feature\"}, {\"geometry\": {\"coordinates\": [-122.2603247, 37.8750154], \"type\": \"Point\"}, \"id\": \"55df5a8f7d65cb39ee9869a7\", \"properties\": {\"accuracy\": 33.0, \"altitude\": 0, \"feature_type\": \"location\", \"fmt_time\": \"2015-08-27 11:13:54.834000-07:00\", \"heading\": 0, \"latitude\": 37.8750154, \"longitude\": -122.2603247, \"sensed_speed\": 0, \"ts\": 1440699234.834}, \"type\": \"Feature\"}, {\"geometry\": {\"coordinates\": [-122.2603947, 37.875023], \"type\": \"Point\"}, \"id\": \"55df5a8f7d65cb39ee9869aa\", \"properties\": {\"accuracy\": 30.0, \"altitude\": 0, \"feature_type\": \"location\", \"fmt_time\": \"2015-08-27 11:14:26.669000-07:00\", \"heading\": 0, \"latitude\": 37.875023, \"longitude\": -122.2603947, \"sensed_speed\": 0, \"ts\": 1440699266.669}, \"type\": \"Feature\"}], \"type\": \"FeatureCollection\"}, {\"geometry\": {\"coordinates\": [[-122.2682605, 37.8700849], [-122.2681346, 37.8707148], [-122.2682285, 37.8711642], [-122.2678988, 37.8711621], [-122.2675291, 37.8711694], [-122.2669631, 37.8713225], [-122.2665766, 37.8717961], [-122.2664828, 37.8716111], [-122.2664828, 37.8716111], [-122.2661958, 37.8714923], [-122.2661958, 37.8714923], [-122.2661958, 37.8714923], [-122.2640902, 37.871753], [-122.264123, 37.8718767], [-122.2639891, 37.8719733], [-122.2637253, 37.8721843], [-122.2636031, 37.8721196], [-122.2629994, 37.8724529], [-122.2626764, 37.872436], [-122.2623766, 37.8723115], [-122.2624567, 37.8723398], [-122.2622943, 37.8731595], [-122.2616244, 37.8734265], [-122.2615563, 37.8733688], [-122.2616393, 37.8734842], [-122.2616393, 37.8734842], [-122.2601102, 37.8750076], [-122.2603031, 37.8750865], [-122.2603195, 37.8750871], [-122.2603247, 37.8750154], [-122.2603947, 37.875023]], \"type\": \"LineString\"}, \"id\": \"5603ae10f6858f0cbbb60589\", \"properties\": {\"duration\": 959.7769999504089, \"end_fmt_time\": \"2015-08-27 11:14:26.669000-07:00\", \"end_ts\": 1440699266.669, \"feature_type\": \"section\", \"sensed_mode\": \"MotionTypes.ON_FOOT\", \"source\": \"SmoothedHighConfidenceMotion\", \"start_fmt_time\": \"2015-08-27 10:58:26.892000-07:00\", \"start_ts\": 1440698306.892}, \"type\": \"Feature\"}], \"type\": \"FeatureCollection\"}], \"type\": \"FeatureCollection\"}\n"
       ]
      },
      {
       "output_type": "stream",
       "stream": "stderr",
       "text": [
        "DEBUG:root:{\"features\": [{\"geometry\": {\"coordinates\": [-122.2603947, 37.875023], \"type\": \"Point\"}, \"id\": \"5603ae0cf6858f0cbbb60555\", \"properties\": {\"duration\": 667.018000125885, \"enter_fmt_time\": \"2015-08-27 11:14:26.669000-07:00\", \"enter_ts\": 1440699266.669, \"exit_fmt_time\": \"2015-08-27 11:25:33.687000-07:00\", \"exit_ts\": 1440699933.687, \"feature_type\": \"place\", \"source\": \"DwellSegmentationTimeFilter\"}, \"type\": \"Feature\"}, {\"geometry\": {\"coordinates\": [-122.2589521, 37.8753047], \"type\": \"Point\"}, \"id\": \"5603ae0cf6858f0cbbb60557\", \"properties\": {\"duration\": 16326.898999929428, \"enter_fmt_time\": \"2015-08-27 11:27:20.477000-07:00\", \"enter_ts\": 1440700040.477, \"exit_fmt_time\": \"2015-08-27 15:59:27.376000-07:00\", \"exit_ts\": 1440716367.376, \"feature_type\": \"place\", \"source\": \"DwellSegmentationTimeFilter\"}, \"type\": \"Feature\"}], \"type\": \"FeatureCollection\"}\n"
       ]
      },
      {
       "output_type": "stream",
       "stream": "stderr",
       "text": [
        "DEBUG:root:{\"features\": [{\"geometry\": {\"coordinates\": [-122.2589521, 37.8753047], \"type\": \"Point\"}, \"id\": \"5603ae0cf6858f0cbbb60557\", \"properties\": {\"duration\": 16326.898999929428, \"enter_fmt_time\": \"2015-08-27 11:27:20.477000-07:00\", \"enter_ts\": 1440700040.477, \"exit_fmt_time\": \"2015-08-27 15:59:27.376000-07:00\", \"exit_ts\": 1440716367.376, \"feature_type\": \"place\", \"source\": \"DwellSegmentationTimeFilter\"}, \"type\": \"Feature\"}, {\"geometry\": {\"coordinates\": [-122.3870874, 37.5992924], \"type\": \"Point\"}, \"id\": \"5603ae0cf6858f0cbbb60559\", \"properties\": {\"duration\": 570.6950001716614, \"enter_fmt_time\": \"2015-08-27 16:54:28.317000-07:00\", \"enter_ts\": 1440719668.317, \"exit_fmt_time\": \"2015-08-27 17:03:59.012000-07:00\", \"exit_ts\": 1440720239.012, \"feature_type\": \"place\", \"source\": \"DwellSegmentationTimeFilter\"}, \"type\": \"Feature\"}, {\"geometry\": {\"coordinates\": [-122.3872511, 37.5992711], \"type\": \"Point\"}, \"id\": \"5603ae10f6858f0cbbb6058d\", \"properties\": {\"duration\": 60.20899987220764, \"enter_fmt_time\": \"2015-08-27 16:51:59.226000-07:00\", \"enter_ts\": 1440719519.226, \"exit_fmt_time\": \"2015-08-27 16:52:59.435000-07:00\", \"exit_ts\": 1440719579.435, \"feature_type\": \"stop\", \"source\": \"SmoothedHighConfidenceMotion\"}, \"type\": \"Feature\"}, {\"features\": [{\"features\": [{\"geometry\": {\"coordinates\": [-122.2714736, 37.8471355], \"type\": \"Point\"}, \"id\": \"55dfad477d65cb39ee986b76\", \"properties\": {\"accuracy\": 45.0, \"altitude\": 0, \"feature_type\": \"location\", \"fmt_time\": \"2015-08-27 15:59:27.376000-07:00\", \"heading\": 0, \"latitude\": 37.8471355, \"longitude\": -122.2714736, \"sensed_speed\": 0, \"ts\": 1440716367.376}, \"type\": \"Feature\"}, {\"geometry\": {\"coordinates\": [-122.2713142, 37.8465722], \"type\": \"Point\"}, \"id\": \"55dfad477d65cb39ee986b78\", \"properties\": {\"accuracy\": 24.961, \"altitude\": 0, \"feature_type\": \"location\", \"fmt_time\": \"2015-08-27 15:59:32.411000-07:00\", \"heading\": 0, \"latitude\": 37.8465722, \"longitude\": -122.2713142, \"sensed_speed\": 0, \"ts\": 1440716372.411}, \"type\": \"Feature\"}, {\"geometry\": {\"coordinates\": [-122.2698728, 37.8405014], \"type\": \"Point\"}, \"id\": \"55dfad477d65cb39ee986b7b\", \"properties\": {\"accuracy\": 30.0, \"altitude\": 0, \"feature_type\": \"location\", \"fmt_time\": \"2015-08-27 16:00:01.849000-07:00\", \"heading\": 0, \"latitude\": 37.8405014, \"longitude\": -122.2698728, \"sensed_speed\": 0, \"ts\": 1440716401.849}, \"type\": \"Feature\"}, {\"geometry\": {\"coordinates\": [-122.2674686, 37.8353014], \"type\": \"Point\"}, \"id\": \"55dfad477d65cb39ee986b7e\", \"properties\": {\"accuracy\": 51.0, \"altitude\": 0, \"feature_type\": \"location\", \"fmt_time\": \"2015-08-27 16:00:32.436000-07:00\", \"heading\": 0, \"latitude\": 37.8353014, \"longitude\": -122.2674686, \"sensed_speed\": 0, \"ts\": 1440716432.436}, \"type\": \"Feature\"}, {\"geometry\": {\"coordinates\": [-122.2675635, 37.8285015], \"type\": \"Point\"}, \"id\": \"55dfad477d65cb39ee986b82\", \"properties\": {\"accuracy\": 40.5, \"altitude\": 0, \"feature_type\": \"location\", \"fmt_time\": \"2015-08-27 16:01:32.473000-07:00\", \"heading\": 0, \"latitude\": 37.8285015, \"longitude\": -122.2675635, \"sensed_speed\": 0, \"ts\": 1440716492.473}, \"type\": \"Feature\"}, {\"geometry\": {\"coordinates\": [-122.2675635, 37.8285015], \"type\": \"Point\"}, \"id\": \"55dfad477d65cb39ee986b85\", \"properties\": {\"accuracy\": 85.001, \"altitude\": 0, \"feature_type\": \"location\", \"fmt_time\": \"2015-08-27 16:02:02.141000-07:00\", \"heading\": 0, \"latitude\": 37.8285015, \"longitude\": -122.2675635, \"sensed_speed\": 0, \"ts\": 1440716522.141}, \"type\": \"Feature\"}, {\"geometry\": {\"coordinates\": [-122.2676128, 37.8280289], \"type\": \"Point\"}, \"id\": \"55dfad487d65cb39ee986b87\", \"properties\": {\"accuracy\": 45.0, \"altitude\": 0, \"feature_type\": \"location\", \"fmt_time\": \"2015-08-27 16:02:32.535000-07:00\", \"heading\": 0, \"latitude\": 37.8280289, \"longitude\": -122.2676128, \"sensed_speed\": 0, \"ts\": 1440716552.535}, \"type\": \"Feature\"}, {\"geometry\": {\"coordinates\": [-122.2687873, 37.8225589], \"type\": \"Point\"}, \"id\": \"55dfad487d65cb39ee986b8a\", \"properties\": {\"accuracy\": 55.5, \"altitude\": 0, \"feature_type\": \"location\", \"fmt_time\": \"2015-08-27 16:03:02.586000-07:00\", \"heading\": 0, \"latitude\": 37.8225589, \"longitude\": -122.2687873, \"sensed_speed\": 0, \"ts\": 1440716582.586}, \"type\": \"Feature\"}, {\"geometry\": {\"coordinates\": [-122.2703874, 37.813929], \"type\": \"Point\"}, \"id\": \"55dfad487d65cb39ee986b8f\", \"properties\": {\"accuracy\": 36.0, \"altitude\": 0, \"feature_type\": \"location\", \"fmt_time\": \"2015-08-27 16:04:02.609000-07:00\", \"heading\": 0, \"latitude\": 37.813929, \"longitude\": -122.2703874, \"sensed_speed\": 0, \"ts\": 1440716642.609}, \"type\": \"Feature\"}, {\"geometry\": {\"coordinates\": [-122.2788226, 37.7992095], \"type\": \"Point\"}, \"id\": \"55dfad497d65cb39ee986ba4\", \"properties\": {\"accuracy\": 37.5, \"altitude\": 0, \"feature_type\": \"location\", \"fmt_time\": \"2015-08-27 16:09:03.024000-07:00\", \"heading\": 0, \"latitude\": 37.7992095, \"longitude\": -122.2788226, \"sensed_speed\": 0, \"ts\": 1440716943.024}, \"type\": \"Feature\"}, {\"geometry\": {\"coordinates\": [-122.2823074, 37.8005129], \"type\": \"Point\"}, \"id\": \"55dfad4a7d65cb39ee986ba7\", \"properties\": {\"accuracy\": 37.5, \"altitude\": 0, \"feature_type\": \"location\", \"fmt_time\": \"2015-08-27 16:09:33.060000-07:00\", \"heading\": 0, \"latitude\": 37.8005129, \"longitude\": -122.2823074, \"sensed_speed\": 0, \"ts\": 1440716973.06}, \"type\": \"Feature\"}, {\"geometry\": {\"coordinates\": [-122.2920239, 37.8042275], \"type\": \"Point\"}, \"id\": \"55dfad4a7d65cb39ee986bac\", \"properties\": {\"accuracy\": 39.0, \"altitude\": 0, \"feature_type\": \"location\", \"fmt_time\": \"2015-08-27 16:10:33.129000-07:00\", \"heading\": 0, \"latitude\": 37.8042275, \"longitude\": -122.2920239, \"sensed_speed\": 0, \"ts\": 1440717033.129}, \"type\": \"Feature\"}, {\"geometry\": {\"coordinates\": [-122.2940305, 37.8047897], \"type\": \"Point\"}, \"id\": \"55dfad4a7d65cb39ee986bae\", \"properties\": {\"accuracy\": 45.0, \"altitude\": 0, \"feature_type\": \"location\", \"fmt_time\": \"2015-08-27 16:11:03.157000-07:00\", \"heading\": 0, \"latitude\": 37.8047897, \"longitude\": -122.2940305, \"sensed_speed\": 0, \"ts\": 1440717063.157}, \"type\": \"Feature\"}, {\"geometry\": {\"coordinates\": [-122.2943285, 37.8046422], \"type\": \"Point\"}, \"id\": \"55dfad4a7d65cb39ee986bb1\", \"properties\": {\"accuracy\": 39.0, \"altitude\": 0, \"feature_type\": \"location\", \"fmt_time\": \"2015-08-27 16:11:33.193000-07:00\", \"heading\": 0, \"latitude\": 37.8046422, \"longitude\": -122.2943285, \"sensed_speed\": 0, \"ts\": 1440717093.193}, \"type\": \"Feature\"}, {\"geometry\": {\"coordinates\": [-122.3002167, 37.8065197], \"type\": \"Point\"}, \"id\": \"55dfad4a7d65cb39ee986bb3\", \"properties\": {\"accuracy\": 30.0, \"altitude\": 0, \"feature_type\": \"location\", \"fmt_time\": \"2015-08-27 16:12:03.216000-07:00\", \"heading\": 0, \"latitude\": 37.8065197, \"longitude\": -122.3002167, \"sensed_speed\": 0, \"ts\": 1440717123.216}, \"type\": \"Feature\"}, {\"geometry\": {\"coordinates\": [-122.3070424, 37.8081188], \"type\": \"Point\"}, \"id\": \"55dfad4b7d65cb39ee986bb6\", \"properties\": {\"accuracy\": 144.0, \"altitude\": 0, \"feature_type\": \"location\", \"fmt_time\": \"2015-08-27 16:12:33.230000-07:00\", \"heading\": 0, \"latitude\": 37.8081188, \"longitude\": -122.3070424, \"sensed_speed\": 0, \"ts\": 1440717153.23}, \"type\": \"Feature\"}, {\"geometry\": {\"coordinates\": [-122.4543726, 37.7110586], \"type\": \"Point\"}, \"id\": \"55dfad507d65cb39ee986c06\", \"properties\": {\"accuracy\": 40.5, \"altitude\": 0, \"feature_type\": \"location\", \"fmt_time\": \"2015-08-27 16:33:32.667000-07:00\", \"heading\": 0, \"latitude\": 37.7110586, \"longitude\": -122.4543726, \"sensed_speed\": 0, \"ts\": 1440718412.667}, \"type\": \"Feature\"}, {\"geometry\": {\"coordinates\": [-122.4578115, 37.7102444], \"type\": \"Point\"}, \"id\": \"55dfad507d65cb39ee986c09\", \"properties\": {\"accuracy\": 57.0, \"altitude\": 0, \"feature_type\": \"location\", \"fmt_time\": \"2015-08-27 16:34:32.736000-07:00\", \"heading\": 0, \"latitude\": 37.7102444, \"longitude\": -122.4578115, \"sensed_speed\": 0, \"ts\": 1440718472.736}, \"type\": \"Feature\"}, {\"geometry\": {\"coordinates\": [-122.4578115, 37.7102444], \"type\": \"Point\"}, \"id\": \"55dfad507d65cb39ee986c0c\", \"properties\": {\"accuracy\": 100.546, \"altitude\": 0, \"feature_type\": \"location\", \"fmt_time\": \"2015-08-27 16:35:01.766000-07:00\", \"heading\": 0, \"latitude\": 37.7102444, \"longitude\": -122.4578115, \"sensed_speed\": 0, \"ts\": 1440718501.766}, \"type\": \"Feature\"}, {\"geometry\": {\"coordinates\": [-122.4578115, 37.7102444], \"type\": \"Point\"}, \"id\": \"55dfad517d65cb39ee986c0e\", \"properties\": {\"accuracy\": 145.582, \"altitude\": 0, \"feature_type\": \"location\", \"fmt_time\": \"2015-08-27 16:35:31.791000-07:00\", \"heading\": 0, \"latitude\": 37.7102444, \"longitude\": -122.4578115, \"sensed_speed\": 0, \"ts\": 1440718531.791}, \"type\": \"Feature\"}, {\"geometry\": {\"coordinates\": [-122.4578115, 37.7102444], \"type\": \"Point\"}, \"id\": \"55dfad517d65cb39ee986c12\", \"properties\": {\"accuracy\": 190.616, \"altitude\": 0, \"feature_type\": \"location\", \"fmt_time\": \"2015-08-27 16:36:01.814000-07:00\", \"heading\": 0, \"latitude\": 37.7102444, \"longitude\": -122.4578115, \"sensed_speed\": 0, \"ts\": 1440718561.814}, \"type\": \"Feature\"}, {\"geometry\": {\"coordinates\": [-122.3872753, 37.5992646], \"type\": \"Point\"}, \"id\": \"55dfad557d65cb39ee986c45\", \"properties\": {\"accuracy\": 39.0, \"altitude\": 0, \"feature_type\": \"location\", \"fmt_time\": \"2015-08-27 16:51:59.226000-07:00\", \"heading\": 0, \"latitude\": 37.5992646, \"longitude\": -122.3872753, \"sensed_speed\": 0, \"ts\": 1440719519.226}, \"type\": \"Feature\"}], \"type\": \"FeatureCollection\"}, {\"geometry\": {\"coordinates\": [[-122.2589521, 37.8753047], [-122.2714736, 37.8471355], [-122.2713142, 37.8465722], [-122.2698728, 37.8405014], [-122.2674686, 37.8353014], [-122.2675635, 37.8285015], [-122.2675635, 37.8285015], [-122.2676128, 37.8280289], [-122.2687873, 37.8225589], [-122.2703874, 37.813929], [-122.2788226, 37.7992095], [-122.2823074, 37.8005129], [-122.2920239, 37.8042275], [-122.2940305, 37.8047897], [-122.2943285, 37.8046422], [-122.3002167, 37.8065197], [-122.3070424, 37.8081188], [-122.4543726, 37.7110586], [-122.4578115, 37.7102444], [-122.4578115, 37.7102444], [-122.4578115, 37.7102444], [-122.4578115, 37.7102444], [-122.3872753, 37.5992646]], \"type\": \"LineString\"}, \"id\": \"5603ae10f6858f0cbbb6058b\", \"properties\": {\"duration\": 3151.850000143051, \"end_fmt_time\": \"2015-08-27 16:51:59.226000-07:00\", \"end_ts\": 1440719519.226, \"feature_type\": \"section\", \"sensed_mode\": \"MotionTypes.IN_VEHICLE\", \"source\": \"SmoothedHighConfidenceMotion\", \"start_fmt_time\": \"2015-08-27 15:59:27.376000-07:00\", \"start_ts\": 1440716367.376}, \"type\": \"Feature\"}], \"type\": \"FeatureCollection\"}, {\"features\": [{\"features\": [{\"geometry\": {\"coordinates\": [-122.3872511, 37.5992711], \"type\": \"Point\"}, \"id\": \"55dfad557d65cb39ee986c4b\", \"properties\": {\"accuracy\": 58.5, \"altitude\": 0, \"feature_type\": \"location\", \"fmt_time\": \"2015-08-27 16:52:59.435000-07:00\", \"heading\": 0, \"latitude\": 37.5992711, \"longitude\": -122.3872511, \"sensed_speed\": 0, \"ts\": 1440719579.435}, \"type\": \"Feature\"}, {\"geometry\": {\"coordinates\": [-122.387178, 37.5992977], \"type\": \"Point\"}, \"id\": \"55dfad557d65cb39ee986c50\", \"properties\": {\"accuracy\": 83.464, \"altitude\": 0, \"feature_type\": \"location\", \"fmt_time\": \"2015-08-27 16:53:13.163000-07:00\", \"heading\": 0, \"latitude\": 37.5992977, \"longitude\": -122.387178, \"sensed_speed\": 0, \"ts\": 1440719593.163}, \"type\": \"Feature\"}, {\"geometry\": {\"coordinates\": [-122.3870778, 37.5992896], \"type\": \"Point\"}, \"id\": \"55dfad567d65cb39ee986c55\", \"properties\": {\"accuracy\": 71.811, \"altitude\": 0, \"feature_type\": \"location\", \"fmt_time\": \"2015-08-27 16:53:59.354000-07:00\", \"heading\": 0, \"latitude\": 37.5992896, \"longitude\": -122.3870778, \"sensed_speed\": 0, \"ts\": 1440719639.354}, \"type\": \"Feature\"}, {\"geometry\": {\"coordinates\": [-122.3870874, 37.5992924], \"type\": \"Point\"}, \"id\": \"55dfad567d65cb39ee986c57\", \"properties\": {\"accuracy\": 71.78, \"altitude\": 0, \"feature_type\": \"location\", \"fmt_time\": \"2015-08-27 16:54:28.317000-07:00\", \"heading\": 0, \"latitude\": 37.5992924, \"longitude\": -122.3870874, \"sensed_speed\": 0, \"ts\": 1440719668.317}, \"type\": \"Feature\"}], \"type\": \"FeatureCollection\"}, {\"geometry\": {\"coordinates\": [[-122.3872511, 37.5992711], [-122.387178, 37.5992977], [-122.3870778, 37.5992896], [-122.3870874, 37.5992924]], \"type\": \"LineString\"}, \"id\": \"5603ae10f6858f0cbbb6058c\", \"properties\": {\"duration\": 88.88199996948242, \"end_fmt_time\": \"2015-08-27 16:54:28.317000-07:00\", \"end_ts\": 1440719668.317, \"feature_type\": \"section\", \"sensed_mode\": \"MotionTypes.ON_FOOT\", \"source\": \"SmoothedHighConfidenceMotion\", \"start_fmt_time\": \"2015-08-27 16:52:59.435000-07:00\", \"start_ts\": 1440719579.435}, \"type\": \"Feature\"}], \"type\": \"FeatureCollection\"}], \"type\": \"FeatureCollection\"}\n"
       ]
      },
      {
       "output_type": "stream",
       "stream": "stderr",
       "text": [
        "DEBUG:root:{\"features\": [{\"geometry\": {\"coordinates\": [-122.3870874, 37.5992924], \"type\": \"Point\"}, \"id\": \"5603ae0cf6858f0cbbb60559\", \"properties\": {\"duration\": 570.6950001716614, \"enter_fmt_time\": \"2015-08-27 16:54:28.317000-07:00\", \"enter_ts\": 1440719668.317, \"exit_fmt_time\": \"2015-08-27 17:03:59.012000-07:00\", \"exit_ts\": 1440720239.012, \"feature_type\": \"place\", \"source\": \"DwellSegmentationTimeFilter\"}, \"type\": \"Feature\"}, {\"geometry\": {\"coordinates\": [-122.083702, 37.4036219], \"type\": \"Point\"}, \"id\": \"5603ae0cf6858f0cbbb6055b\", \"properties\": {\"duration\": 5185.072999954224, \"enter_fmt_time\": \"2015-08-27 17:55:34.898000-07:00\", \"enter_ts\": 1440723334.898, \"exit_fmt_time\": \"2015-08-27 19:21:59.971000-07:00\", \"exit_ts\": 1440728519.971, \"feature_type\": \"place\", \"source\": \"DwellSegmentationTimeFilter\"}, \"type\": \"Feature\"}, {\"geometry\": {\"coordinates\": [-122.0761413, 37.3940933], \"type\": \"Point\"}, \"id\": \"5603ae10f6858f0cbbb60590\", \"properties\": {\"duration\": 30.055999994277954, \"enter_fmt_time\": \"2015-08-27 17:43:04.229000-07:00\", \"enter_ts\": 1440722584.229, \"exit_fmt_time\": \"2015-08-27 17:43:34.285000-07:00\", \"exit_ts\": 1440722614.285, \"feature_type\": \"stop\", \"source\": \"SmoothedHighConfidenceMotion\"}, \"type\": \"Feature\"}, {\"geometry\": {\"coordinates\": [-122.078664, 37.4015876], \"type\": \"Point\"}, \"id\": \"5603ae11f6858f0cbbb60592\", \"properties\": {\"duration\": 29.99399995803833, \"enter_fmt_time\": \"2015-08-27 17:51:04.721000-07:00\", \"enter_ts\": 1440723064.721, \"exit_fmt_time\": \"2015-08-27 17:51:34.715000-07:00\", \"exit_ts\": 1440723094.715, \"feature_type\": \"stop\", \"source\": \"SmoothedHighConfidenceMotion\"}, \"type\": \"Feature\"}, {\"geometry\": {\"coordinates\": [-122.0827923, 37.4027524], \"type\": \"Point\"}, \"id\": \"5603ae11f6858f0cbbb60594\", \"properties\": {\"duration\": 60.16499996185303, \"enter_fmt_time\": \"2015-08-27 17:52:04.657000-07:00\", \"enter_ts\": 1440723124.657, \"exit_fmt_time\": \"2015-08-27 17:53:04.822000-07:00\", \"exit_ts\": 1440723184.822, \"feature_type\": \"stop\", \"source\": \"SmoothedHighConfidenceMotion\"}, \"type\": \"Feature\"}, {\"features\": [{\"features\": [{\"geometry\": {\"coordinates\": [-122.3446802, 37.57984], \"type\": \"Point\"}, \"id\": \"55dfad587d65cb39ee986c77\", \"properties\": {\"accuracy\": 40.5, \"altitude\": 0, \"feature_type\": \"location\", \"fmt_time\": \"2015-08-27 17:03:59.012000-07:00\", \"heading\": 0, \"latitude\": 37.57984, \"longitude\": -122.3446802, \"sensed_speed\": 0.0, \"ts\": 1440720239.012}, \"type\": \"Feature\"}, {\"geometry\": {\"coordinates\": [-122.3446799, 37.5798403], \"type\": \"Point\"}, \"id\": \"55dfad587d65cb39ee986c7a\", \"properties\": {\"accuracy\": 40.5, \"altitude\": 0, \"feature_type\": \"location\", \"fmt_time\": \"2015-08-27 17:04:29.083000-07:00\", \"heading\": 0, \"latitude\": 37.5798403, \"longitude\": -122.3446799, \"sensed_speed\": 0.0, \"ts\": 1440720269.083}, \"type\": \"Feature\"}, {\"geometry\": {\"coordinates\": [-122.3446799, 37.5798403], \"type\": \"Point\"}, \"id\": \"55dfad587d65cb39ee986c7c\", \"properties\": {\"accuracy\": 83.959, \"altitude\": 0, \"feature_type\": \"location\", \"fmt_time\": \"2015-08-27 17:04:58.056000-07:00\", \"heading\": 0, \"latitude\": 37.5798403, \"longitude\": -122.3446799, \"sensed_speed\": 0.0, \"ts\": 1440720298.056}, \"type\": \"Feature\"}, {\"geometry\": {\"coordinates\": [-122.3379628, 37.5772606], \"type\": \"Point\"}, \"id\": \"55dfad587d65cb39ee986c7f\", \"properties\": {\"accuracy\": 39.0, \"altitude\": 0, \"feature_type\": \"location\", \"fmt_time\": \"2015-08-27 17:05:29.069000-07:00\", \"heading\": 0, \"latitude\": 37.5772606, \"longitude\": -122.3379628, \"sensed_speed\": 0.0, \"ts\": 1440720329.069}, \"type\": \"Feature\"}, {\"geometry\": {\"coordinates\": [-122.330093, 37.5731863], \"type\": \"Point\"}, \"id\": \"55dfad597d65cb39ee986c85\", \"properties\": {\"accuracy\": 57.0, \"altitude\": 0, \"feature_type\": \"location\", \"fmt_time\": \"2015-08-27 17:06:29.144000-07:00\", \"heading\": 0, \"latitude\": 37.5731863, \"longitude\": -122.330093, \"sensed_speed\": 0.0, \"ts\": 1440720389.144}, \"type\": \"Feature\"}, {\"geometry\": {\"coordinates\": [-122.3269305, 37.5709242], \"type\": \"Point\"}, \"id\": \"55dfad597d65cb39ee986c88\", \"properties\": {\"accuracy\": 36.0, \"altitude\": 0, \"feature_type\": \"location\", \"fmt_time\": \"2015-08-27 17:06:59.141000-07:00\", \"heading\": 0, \"latitude\": 37.5709242, \"longitude\": -122.3269305, \"sensed_speed\": 0.0, \"ts\": 1440720419.141}, \"type\": \"Feature\"}, {\"geometry\": {\"coordinates\": [-122.3211883, 37.5661104], \"type\": \"Point\"}, \"id\": \"55dfad5a7d65cb39ee986c95\", \"properties\": {\"accuracy\": 43.404, \"altitude\": 0, \"feature_type\": \"location\", \"fmt_time\": \"2015-08-27 17:09:46.824000-07:00\", \"heading\": 0, \"latitude\": 37.5661104, \"longitude\": -122.3211883, \"sensed_speed\": 0.0, \"ts\": 1440720586.824}, \"type\": \"Feature\"}, {\"geometry\": {\"coordinates\": [-122.3045277, 37.5468258], \"type\": \"Point\"}, \"id\": \"55dfad5b7d65cb39ee986ca5\", \"properties\": {\"accuracy\": 36.0, \"altitude\": 0, \"feature_type\": \"location\", \"fmt_time\": \"2015-08-27 17:13:32.311000-07:00\", \"heading\": 0, \"latitude\": 37.5468258, \"longitude\": -122.3045277, \"sensed_speed\": 0.0, \"ts\": 1440720812.311}, \"type\": \"Feature\"}, {\"geometry\": {\"coordinates\": [-122.2898617, 37.5311179], \"type\": \"Point\"}, \"id\": \"55dfad5c7d65cb39ee986cb3\", \"properties\": {\"accuracy\": 57.0, \"altitude\": 0, \"feature_type\": \"location\", \"fmt_time\": \"2015-08-27 17:17:02.750000-07:00\", \"heading\": 0, \"latitude\": 37.5311179, \"longitude\": -122.2898617, \"sensed_speed\": 0.0, \"ts\": 1440721022.75}, \"type\": \"Feature\"}, {\"geometry\": {\"coordinates\": [-122.2762817, 37.5210999], \"type\": \"Point\"}, \"id\": \"55dfad5c7d65cb39ee986cb6\", \"properties\": {\"accuracy\": 73.5, \"altitude\": 0, \"feature_type\": \"location\", \"fmt_time\": \"2015-08-27 17:18:32.827000-07:00\", \"heading\": 0, \"latitude\": 37.5210999, \"longitude\": -122.2762817, \"sensed_speed\": 0.0, \"ts\": 1440721112.827}, \"type\": \"Feature\"}, {\"geometry\": {\"coordinates\": [-122.2762817, 37.5210999], \"type\": \"Point\"}, \"id\": \"55dfad5c7d65cb39ee986cba\", \"properties\": {\"accuracy\": 121.75, \"altitude\": 0, \"feature_type\": \"location\", \"fmt_time\": \"2015-08-27 17:19:04.994000-07:00\", \"heading\": 0, \"latitude\": 37.5210999, \"longitude\": -122.2762817, \"sensed_speed\": 0.0, \"ts\": 1440721144.994}, \"type\": \"Feature\"}, {\"geometry\": {\"coordinates\": [-122.2762314, 37.5208544], \"type\": \"Point\"}, \"id\": \"55dfad5c7d65cb39ee986cbc\", \"properties\": {\"accuracy\": 37.5, \"altitude\": 0, \"feature_type\": \"location\", \"fmt_time\": \"2015-08-27 17:19:32.898000-07:00\", \"heading\": 0, \"latitude\": 37.5208544, \"longitude\": -122.2762314, \"sensed_speed\": 0.0, \"ts\": 1440721172.898}, \"type\": \"Feature\"}, {\"geometry\": {\"coordinates\": [-122.2762314, 37.5208544], \"type\": \"Point\"}, \"id\": \"55dfad5d7d65cb39ee986cbf\", \"properties\": {\"accuracy\": 81.03, \"altitude\": 0, \"feature_type\": \"location\", \"fmt_time\": \"2015-08-27 17:20:01.919000-07:00\", \"heading\": 0, \"latitude\": 37.5208544, \"longitude\": -122.2762314, \"sensed_speed\": 0.0, \"ts\": 1440721201.919}, \"type\": \"Feature\"}, {\"geometry\": {\"coordinates\": [-122.2713568, 37.5173546], \"type\": \"Point\"}, \"id\": \"55dfad5d7d65cb39ee986cc2\", \"properties\": {\"accuracy\": 40.5, \"altitude\": 0, \"feature_type\": \"location\", \"fmt_time\": \"2015-08-27 17:20:32.942000-07:00\", \"heading\": 0, \"latitude\": 37.5173546, \"longitude\": -122.2713568, \"sensed_speed\": 0.0, \"ts\": 1440721232.942}, \"type\": \"Feature\"}, {\"geometry\": {\"coordinates\": [-122.260711, 37.5081986], \"type\": \"Point\"}, \"id\": \"55dfad5d7d65cb39ee986ccc\", \"properties\": {\"accuracy\": 43.5, \"altitude\": 0, \"feature_type\": \"location\", \"fmt_time\": \"2015-08-27 17:22:33.024000-07:00\", \"heading\": 0, \"latitude\": 37.5081986, \"longitude\": -122.260711, \"sensed_speed\": 0.0, \"ts\": 1440721353.024}, \"type\": \"Feature\"}, {\"geometry\": {\"coordinates\": [-122.2608108, 37.5082344], \"type\": \"Point\"}, \"id\": \"55dfad5e7d65cb39ee986cce\", \"properties\": {\"accuracy\": 42.0, \"altitude\": 0, \"feature_type\": \"location\", \"fmt_time\": \"2015-08-27 17:22:46.330000-07:00\", \"heading\": 0, \"latitude\": 37.5082344, \"longitude\": -122.2608108, \"sensed_speed\": 0.0, \"ts\": 1440721366.33}, \"type\": \"Feature\"}, {\"geometry\": {\"coordinates\": [-122.2606881, 37.5076385], \"type\": \"Point\"}, \"id\": \"55dfad5e7d65cb39ee986cd4\", \"properties\": {\"accuracy\": 64.5, \"altitude\": 0, \"feature_type\": \"location\", \"fmt_time\": \"2015-08-27 17:23:33.196000-07:00\", \"heading\": 0, \"latitude\": 37.5076385, \"longitude\": -122.2606881, \"sensed_speed\": 0.0, \"ts\": 1440721413.196}, \"type\": \"Feature\"}, {\"geometry\": {\"coordinates\": [-122.2576418, 37.5050026], \"type\": \"Point\"}, \"id\": \"55dfad5e7d65cb39ee986cd8\", \"properties\": {\"accuracy\": 36.0, \"altitude\": 0, \"feature_type\": \"location\", \"fmt_time\": \"2015-08-27 17:24:03.216000-07:00\", \"heading\": 0, \"latitude\": 37.5050026, \"longitude\": -122.2576418, \"sensed_speed\": 0.0, \"ts\": 1440721443.216}, \"type\": \"Feature\"}, {\"geometry\": {\"coordinates\": [-122.2485612, 37.4967537], \"type\": \"Point\"}, \"id\": \"55dfad5f7d65cb39ee986cdd\", \"properties\": {\"accuracy\": 37.5, \"altitude\": 0, \"feature_type\": \"location\", \"fmt_time\": \"2015-08-27 17:25:03.507000-07:00\", \"heading\": 0, \"latitude\": 37.4967537, \"longitude\": -122.2485612, \"sensed_speed\": 0.0, \"ts\": 1440721503.507}, \"type\": \"Feature\"}, {\"geometry\": {\"coordinates\": [-122.2321509, 37.4867581], \"type\": \"Point\"}, \"id\": \"55dfad5f7d65cb39ee986ce4\", \"properties\": {\"accuracy\": 20.0, \"altitude\": 100, \"feature_type\": \"location\", \"fmt_time\": \"2015-08-27 17:27:05.393000-07:00\", \"heading\": 97, \"latitude\": 37.4867581, \"longitude\": -122.2321509, \"sensed_speed\": 5.0665503, \"ts\": 1440721625.393}, \"type\": \"Feature\"}, {\"geometry\": {\"coordinates\": [-122.2321573, 37.4869051], \"type\": \"Point\"}, \"id\": \"55dfad5f7d65cb39ee986ce7\", \"properties\": {\"accuracy\": 134.89, \"altitude\": 0, \"feature_type\": \"location\", \"fmt_time\": \"2015-08-27 17:28:07.317000-07:00\", \"heading\": 0, \"latitude\": 37.4869051, \"longitude\": -122.2321573, \"sensed_speed\": 0.0, \"ts\": 1440721687.317}, \"type\": \"Feature\"}, {\"geometry\": {\"coordinates\": [-122.2321573, 37.4869051], \"type\": \"Point\"}, \"id\": \"55dfad5f7d65cb39ee986cea\", \"properties\": {\"accuracy\": 178.297, \"altitude\": 0, \"feature_type\": \"location\", \"fmt_time\": \"2015-08-27 17:28:36.255000-07:00\", \"heading\": 0, \"latitude\": 37.4869051, \"longitude\": -122.2321573, \"sensed_speed\": 0.0, \"ts\": 1440721716.255}, \"type\": \"Feature\"}, {\"geometry\": {\"coordinates\": [-122.2278153, 37.4836535], \"type\": \"Point\"}, \"id\": \"55dfad607d65cb39ee986cf0\", \"properties\": {\"accuracy\": 48.0, \"altitude\": 0, \"feature_type\": \"location\", \"fmt_time\": \"2015-08-27 17:30:03.707000-07:00\", \"heading\": 0, \"latitude\": 37.4836535, \"longitude\": -122.2278153, \"sensed_speed\": 0.0, \"ts\": 1440721803.707}, \"type\": \"Feature\"}, {\"geometry\": {\"coordinates\": [-122.1855326, 37.4572449], \"type\": \"Point\"}, \"id\": \"55dfad617d65cb39ee986cf9\", \"properties\": {\"accuracy\": 43.0, \"altitude\": 0, \"feature_type\": \"location\", \"fmt_time\": \"2015-08-27 17:33:03.914000-07:00\", \"heading\": 0, \"latitude\": 37.4572449, \"longitude\": -122.1855326, \"sensed_speed\": 0.0, \"ts\": 1440721983.914}, \"type\": \"Feature\"}, {\"geometry\": {\"coordinates\": [-122.184236, 37.4550829], \"type\": \"Point\"}, \"id\": \"55dfad617d65cb39ee986cfb\", \"properties\": {\"accuracy\": 37.5, \"altitude\": 0, \"feature_type\": \"location\", \"fmt_time\": \"2015-08-27 17:33:33.962000-07:00\", \"heading\": 0, \"latitude\": 37.4550829, \"longitude\": -122.184236, \"sensed_speed\": 0.0, \"ts\": 1440722013.962}, \"type\": \"Feature\"}, {\"geometry\": {\"coordinates\": [-122.184236, 37.4550829], \"type\": \"Point\"}, \"id\": \"55dfad617d65cb39ee986cff\", \"properties\": {\"accuracy\": 81.012, \"altitude\": 0, \"feature_type\": \"location\", \"fmt_time\": \"2015-08-27 17:34:02.970000-07:00\", \"heading\": 0, \"latitude\": 37.4550829, \"longitude\": -122.184236, \"sensed_speed\": 0.0, \"ts\": 1440722042.97}, \"type\": \"Feature\"}, {\"geometry\": {\"coordinates\": [-122.184236, 37.4550829], \"type\": \"Point\"}, \"id\": \"55dfad617d65cb39ee986d01\", \"properties\": {\"accuracy\": 126.052, \"altitude\": 0, \"feature_type\": \"location\", \"fmt_time\": \"2015-08-27 17:34:32.997000-07:00\", \"heading\": 0, \"latitude\": 37.4550829, \"longitude\": -122.184236, \"sensed_speed\": 0.0, \"ts\": 1440722072.997}, \"type\": \"Feature\"}, {\"geometry\": {\"coordinates\": [-122.184236, 37.4550829], \"type\": \"Point\"}, \"id\": \"55dfad617d65cb39ee986d04\", \"properties\": {\"accuracy\": 171.107, \"altitude\": 0, \"feature_type\": \"location\", \"fmt_time\": \"2015-08-27 17:35:03.034000-07:00\", \"heading\": 0, \"latitude\": 37.4550829, \"longitude\": -122.184236, \"sensed_speed\": 0.0, \"ts\": 1440722103.034}, \"type\": \"Feature\"}, {\"geometry\": {\"coordinates\": [-122.0779499, 37.3959236], \"type\": \"Point\"}, \"id\": \"55dfb4cb7d65cb39ee986d20\", \"properties\": {\"accuracy\": 36.0, \"altitude\": 0, \"feature_type\": \"location\", \"fmt_time\": \"2015-08-27 17:43:04.229000-07:00\", \"heading\": 0, \"latitude\": 37.3959236, \"longitude\": -122.0779499, \"sensed_speed\": 0.0, \"ts\": 1440722584.229}, \"type\": \"Feature\"}], \"type\": \"FeatureCollection\"}, {\"geometry\": {\"coordinates\": [[-122.3870874, 37.5992924], [-122.3446802, 37.57984], [-122.3446799, 37.5798403], [-122.3446799, 37.5798403], [-122.3379628, 37.5772606], [-122.330093, 37.5731863], [-122.3269305, 37.5709242], [-122.3211883, 37.5661104], [-122.3045277, 37.5468258], [-122.2898617, 37.5311179], [-122.2762817, 37.5210999], [-122.2762817, 37.5210999], [-122.2762314, 37.5208544], [-122.2762314, 37.5208544], [-122.2713568, 37.5173546], [-122.260711, 37.5081986], [-122.2608108, 37.5082344], [-122.2606881, 37.5076385], [-122.2576418, 37.5050026], [-122.2485612, 37.4967537], [-122.2321509, 37.4867581], [-122.2321573, 37.4869051], [-122.2321573, 37.4869051], [-122.2278153, 37.4836535], [-122.1855326, 37.4572449], [-122.184236, 37.4550829], [-122.184236, 37.4550829], [-122.184236, 37.4550829], [-122.184236, 37.4550829], [-122.0779499, 37.3959236]], \"type\": \"LineString\"}, \"id\": \"5603ae10f6858f0cbbb6058e\", \"properties\": {\"duration\": 2345.2170000076294, \"end_fmt_time\": \"2015-08-27 17:43:04.229000-07:00\", \"end_ts\": 1440722584.229, \"feature_type\": \"section\", \"sensed_mode\": \"MotionTypes.IN_VEHICLE\", \"source\": \"SmoothedHighConfidenceMotion\", \"start_fmt_time\": \"2015-08-27 17:03:59.012000-07:00\", \"start_ts\": 1440720239.012}, \"type\": \"Feature\"}], \"type\": \"FeatureCollection\"}, {\"features\": [{\"features\": [{\"geometry\": {\"coordinates\": [-122.0761413, 37.3940933], \"type\": \"Point\"}, \"id\": \"55dfb4cb7d65cb39ee986d23\", \"properties\": {\"accuracy\": 31.5, \"altitude\": 0, \"feature_type\": \"location\", \"fmt_time\": \"2015-08-27 17:43:34.285000-07:00\", \"heading\": 0, \"latitude\": 37.3940933, \"longitude\": -122.0761413, \"sensed_speed\": 0, \"ts\": 1440722614.285}, \"type\": \"Feature\"}, {\"geometry\": {\"coordinates\": [-122.0774947, 37.3956292], \"type\": \"Point\"}, \"id\": \"55dfb4cc7d65cb39ee986d2b\", \"properties\": {\"accuracy\": 118.739, \"altitude\": 0, \"feature_type\": \"location\", \"fmt_time\": \"2015-08-27 17:44:34.415000-07:00\", \"heading\": 0, \"latitude\": 37.3956292, \"longitude\": -122.0774947, \"sensed_speed\": 0, \"ts\": 1440722674.415}, \"type\": \"Feature\"}, {\"geometry\": {\"coordinates\": [-122.0773116, 37.3955101], \"type\": \"Point\"}, \"id\": \"55dfb4cc7d65cb39ee986d2f\", \"properties\": {\"accuracy\": 105.023, \"altitude\": 0, \"feature_type\": \"location\", \"fmt_time\": \"2015-08-27 17:44:55.963000-07:00\", \"heading\": 0, \"latitude\": 37.3955101, \"longitude\": -122.0773116, \"sensed_speed\": 0, \"ts\": 1440722695.963}, \"type\": \"Feature\"}, {\"geometry\": {\"coordinates\": [-122.0777471, 37.3956672], \"type\": \"Point\"}, \"id\": \"55dfb4cc7d65cb39ee986d32\", \"properties\": {\"accuracy\": 36.0, \"altitude\": 0, \"feature_type\": \"location\", \"fmt_time\": \"2015-08-27 17:45:35.230000-07:00\", \"heading\": 0, \"latitude\": 37.3956672, \"longitude\": -122.0777471, \"sensed_speed\": 0, \"ts\": 1440722735.23}, \"type\": \"Feature\"}, {\"geometry\": {\"coordinates\": [-122.0775389, 37.3955742], \"type\": \"Point\"}, \"id\": \"55dfb4cc7d65cb39ee986d35\", \"properties\": {\"accuracy\": 45.0, \"altitude\": 0, \"feature_type\": \"location\", \"fmt_time\": \"2015-08-27 17:46:03.161000-07:00\", \"heading\": 0, \"latitude\": 37.3955742, \"longitude\": -122.0775389, \"sensed_speed\": 0, \"ts\": 1440722763.161}, \"type\": \"Feature\"}, {\"geometry\": {\"coordinates\": [-122.0775389, 37.3955742], \"type\": \"Point\"}, \"id\": \"55dfb4cc7d65cb39ee986d38\", \"properties\": {\"accuracy\": 90.406, \"altitude\": 0, \"feature_type\": \"location\", \"fmt_time\": \"2015-08-27 17:46:33.433000-07:00\", \"heading\": 0, \"latitude\": 37.3955742, \"longitude\": -122.0775389, \"sensed_speed\": 0, \"ts\": 1440722793.433}, \"type\": \"Feature\"}, {\"geometry\": {\"coordinates\": [-122.0778895, 37.3958641], \"type\": \"Point\"}, \"id\": \"55dfb4cd7d65cb39ee986d3a\", \"properties\": {\"accuracy\": 40.5, \"altitude\": 0, \"feature_type\": \"location\", \"fmt_time\": \"2015-08-27 17:47:04.500000-07:00\", \"heading\": 0, \"latitude\": 37.3958641, \"longitude\": -122.0778895, \"sensed_speed\": 0, \"ts\": 1440722824.5}, \"type\": \"Feature\"}, {\"geometry\": {\"coordinates\": [-122.077766, 37.3960324], \"type\": \"Point\"}, \"id\": \"55dfb4cd7d65cb39ee986d3d\", \"properties\": {\"accuracy\": 40.5, \"altitude\": 0, \"feature_type\": \"location\", \"fmt_time\": \"2015-08-27 17:47:34.538000-07:00\", \"heading\": 0, \"latitude\": 37.3960324, \"longitude\": -122.077766, \"sensed_speed\": 0, \"ts\": 1440722854.538}, \"type\": \"Feature\"}, {\"geometry\": {\"coordinates\": [-122.0778219, 37.3958767], \"type\": \"Point\"}, \"id\": \"55dfb4cd7d65cb39ee986d3f\", \"properties\": {\"accuracy\": 39.0, \"altitude\": 0, \"feature_type\": \"location\", \"fmt_time\": \"2015-08-27 17:48:04.520000-07:00\", \"heading\": 0, \"latitude\": 37.3958767, \"longitude\": -122.0778219, \"sensed_speed\": 0, \"ts\": 1440722884.52}, \"type\": \"Feature\"}, {\"geometry\": {\"coordinates\": [-122.0777425, 37.3956644], \"type\": \"Point\"}, \"id\": \"55dfb4cd7d65cb39ee986d42\", \"properties\": {\"accuracy\": 42.0, \"altitude\": 0, \"feature_type\": \"location\", \"fmt_time\": \"2015-08-27 17:48:34.574000-07:00\", \"heading\": 0, \"latitude\": 37.3956644, \"longitude\": -122.0777425, \"sensed_speed\": 0, \"ts\": 1440722914.574}, \"type\": \"Feature\"}, {\"geometry\": {\"coordinates\": [-122.0769316, 37.3970439], \"type\": \"Point\"}, \"id\": \"55dfb4cd7d65cb39ee986d44\", \"properties\": {\"accuracy\": 40.5, \"altitude\": 0, \"feature_type\": \"location\", \"fmt_time\": \"2015-08-27 17:49:04.600000-07:00\", \"heading\": 0, \"latitude\": 37.3970439, \"longitude\": -122.0769316, \"sensed_speed\": 0, \"ts\": 1440722944.6}, \"type\": \"Feature\"}, {\"geometry\": {\"coordinates\": [-122.0761964, 37.3978807], \"type\": \"Point\"}, \"id\": \"55dfb4cd7d65cb39ee986d47\", \"properties\": {\"accuracy\": 30.0, \"altitude\": 0, \"feature_type\": \"location\", \"fmt_time\": \"2015-08-27 17:49:34.697000-07:00\", \"heading\": 0, \"latitude\": 37.3978807, \"longitude\": -122.0761964, \"sensed_speed\": 0, \"ts\": 1440722974.697}, \"type\": \"Feature\"}, {\"geometry\": {\"coordinates\": [-122.0767396, 37.3980859], \"type\": \"Point\"}, \"id\": \"55dfb4cd7d65cb39ee986d49\", \"properties\": {\"accuracy\": 45.0, \"altitude\": 0, \"feature_type\": \"location\", \"fmt_time\": \"2015-08-27 17:50:04.664000-07:00\", \"heading\": 0, \"latitude\": 37.3980859, \"longitude\": -122.0767396, \"sensed_speed\": 0, \"ts\": 1440723004.664}, \"type\": \"Feature\"}, {\"geometry\": {\"coordinates\": [-122.0779079, 37.3990104], \"type\": \"Point\"}, \"id\": \"55dfb4ce7d65cb39ee986d4c\", \"properties\": {\"accuracy\": 30.0, \"altitude\": 0, \"feature_type\": \"location\", \"fmt_time\": \"2015-08-27 17:50:34.750000-07:00\", \"heading\": 0, \"latitude\": 37.3990104, \"longitude\": -122.0779079, \"sensed_speed\": 0, \"ts\": 1440723034.75}, \"type\": \"Feature\"}, {\"geometry\": {\"coordinates\": [-122.0784937, 37.4012462], \"type\": \"Point\"}, \"id\": \"55dfb4ce7d65cb39ee986d4f\", \"properties\": {\"accuracy\": 40.5, \"altitude\": 0, \"feature_type\": \"location\", \"fmt_time\": \"2015-08-27 17:51:04.721000-07:00\", \"heading\": 0, \"latitude\": 37.4012462, \"longitude\": -122.0784937, \"sensed_speed\": 0, \"ts\": 1440723064.721}, \"type\": \"Feature\"}], \"type\": \"FeatureCollection\"}, {\"geometry\": {\"coordinates\": [[-122.0761413, 37.3940933], [-122.0774947, 37.3956292], [-122.0773116, 37.3955101], [-122.0777471, 37.3956672], [-122.0775389, 37.3955742], [-122.0775389, 37.3955742], [-122.0778895, 37.3958641], [-122.077766, 37.3960324], [-122.0778219, 37.3958767], [-122.0777425, 37.3956644], [-122.0769316, 37.3970439], [-122.0761964, 37.3978807], [-122.0767396, 37.3980859], [-122.0779079, 37.3990104], [-122.0784937, 37.4012462]], \"type\": \"LineString\"}, \"id\": \"5603ae10f6858f0cbbb6058f\", \"properties\": {\"duration\": 450.4359998703003, \"end_fmt_time\": \"2015-08-27 17:51:04.721000-07:00\", \"end_ts\": 1440723064.721, \"feature_type\": \"section\", \"sensed_mode\": \"MotionTypes.ON_FOOT\", \"source\": \"SmoothedHighConfidenceMotion\", \"start_fmt_time\": \"2015-08-27 17:43:34.285000-07:00\", \"start_ts\": 1440722614.285}, \"type\": \"Feature\"}], \"type\": \"FeatureCollection\"}, {\"features\": [{\"features\": [{\"geometry\": {\"coordinates\": [-122.078664, 37.4015876], \"type\": \"Point\"}, \"id\": \"55dfb4ce7d65cb39ee986d51\", \"properties\": {\"accuracy\": 49.5, \"altitude\": 0, \"feature_type\": \"location\", \"fmt_time\": \"2015-08-27 17:51:34.715000-07:00\", \"heading\": 0, \"latitude\": 37.4015876, \"longitude\": -122.078664, \"sensed_speed\": 0, \"ts\": 1440723094.715}, \"type\": \"Feature\"}, {\"geometry\": {\"coordinates\": [-122.0796973, 37.4021489], \"type\": \"Point\"}, \"id\": \"55dfb4ce7d65cb39ee986d54\", \"properties\": {\"accuracy\": 61.5, \"altitude\": 0, \"feature_type\": \"location\", \"fmt_time\": \"2015-08-27 17:52:04.657000-07:00\", \"heading\": 0, \"latitude\": 37.4021489, \"longitude\": -122.0796973, \"sensed_speed\": 0, \"ts\": 1440723124.657}, \"type\": \"Feature\"}], \"type\": \"FeatureCollection\"}, {\"geometry\": {\"coordinates\": [[-122.078664, 37.4015876], [-122.0796973, 37.4021489]], \"type\": \"LineString\"}, \"id\": \"5603ae11f6858f0cbbb60591\", \"properties\": {\"duration\": 29.942000150680542, \"end_fmt_time\": \"2015-08-27 17:52:04.657000-07:00\", \"end_ts\": 1440723124.657, \"feature_type\": \"section\", \"sensed_mode\": \"MotionTypes.BICYCLING\", \"source\": \"SmoothedHighConfidenceMotion\", \"start_fmt_time\": \"2015-08-27 17:51:34.715000-07:00\", \"start_ts\": 1440723094.715}, \"type\": \"Feature\"}], \"type\": \"FeatureCollection\"}, {\"features\": [{\"features\": [{\"geometry\": {\"coordinates\": [-122.0827923, 37.4027524], \"type\": \"Point\"}, \"id\": \"55dfb4ce7d65cb39ee986d58\", \"properties\": {\"accuracy\": 37.5, \"altitude\": 0, \"feature_type\": \"location\", \"fmt_time\": \"2015-08-27 17:53:04.822000-07:00\", \"heading\": 0, \"latitude\": 37.4027524, \"longitude\": -122.0827923, \"sensed_speed\": 0, \"ts\": 1440723184.822}, \"type\": \"Feature\"}, {\"geometry\": {\"coordinates\": [-122.0834008, 37.4027977], \"type\": \"Point\"}, \"id\": \"55dfb4cf7d65cb39ee986d5b\", \"properties\": {\"accuracy\": 45.0, \"altitude\": 0, \"feature_type\": \"location\", \"fmt_time\": \"2015-08-27 17:53:37.877000-07:00\", \"heading\": 0, \"latitude\": 37.4027977, \"longitude\": -122.0834008, \"sensed_speed\": 0, \"ts\": 1440723217.877}, \"type\": \"Feature\"}, {\"geometry\": {\"coordinates\": [-122.0833226, 37.4028425], \"type\": \"Point\"}, \"id\": \"55dfb4cf7d65cb39ee986d5d\", \"properties\": {\"accuracy\": 51.0, \"altitude\": 0, \"feature_type\": \"location\", \"fmt_time\": \"2015-08-27 17:53:53.789000-07:00\", \"heading\": 0, \"latitude\": 37.4028425, \"longitude\": -122.0833226, \"sensed_speed\": 0, \"ts\": 1440723233.789}, \"type\": \"Feature\"}, {\"geometry\": {\"coordinates\": [-122.0831355, 37.4037647], \"type\": \"Point\"}, \"id\": \"55dfb4cf7d65cb39ee986d61\", \"properties\": {\"accuracy\": 63.0, \"altitude\": 0, \"feature_type\": \"location\", \"fmt_time\": \"2015-08-27 17:54:34.938000-07:00\", \"heading\": 0, \"latitude\": 37.4037647, \"longitude\": -122.0831355, \"sensed_speed\": 0, \"ts\": 1440723274.938}, \"type\": \"Feature\"}, {\"geometry\": {\"coordinates\": [-122.0836683, 37.403658], \"type\": \"Point\"}, \"id\": \"55dfb4cf7d65cb39ee986d64\", \"properties\": {\"accuracy\": 33.0, \"altitude\": 0, \"feature_type\": \"location\", \"fmt_time\": \"2015-08-27 17:55:04.896000-07:00\", \"heading\": 0, \"latitude\": 37.403658, \"longitude\": -122.0836683, \"sensed_speed\": 0, \"ts\": 1440723304.896}, \"type\": \"Feature\"}, {\"geometry\": {\"coordinates\": [-122.083702, 37.4036219], \"type\": \"Point\"}, \"id\": \"55dfb4cf7d65cb39ee986d67\", \"properties\": {\"accuracy\": 36.0, \"altitude\": 0, \"feature_type\": \"location\", \"fmt_time\": \"2015-08-27 17:55:34.898000-07:00\", \"heading\": 0, \"latitude\": 37.4036219, \"longitude\": -122.083702, \"sensed_speed\": 0, \"ts\": 1440723334.898}, \"type\": \"Feature\"}], \"type\": \"FeatureCollection\"}, {\"geometry\": {\"coordinates\": [[-122.0827923, 37.4027524], [-122.0834008, 37.4027977], [-122.0833226, 37.4028425], [-122.0831355, 37.4037647], [-122.0836683, 37.403658], [-122.083702, 37.4036219]], \"type\": \"LineString\"}, \"id\": \"5603ae11f6858f0cbbb60593\", \"properties\": {\"duration\": 150.07599997520447, \"end_fmt_time\": \"2015-08-27 17:55:34.898000-07:00\", \"end_ts\": 1440723334.898, \"feature_type\": \"section\", \"sensed_mode\": \"MotionTypes.ON_FOOT\", \"source\": \"SmoothedHighConfidenceMotion\", \"start_fmt_time\": \"2015-08-27 17:53:04.822000-07:00\", \"start_ts\": 1440723184.822}, \"type\": \"Feature\"}], \"type\": \"FeatureCollection\"}], \"type\": \"FeatureCollection\"}\n"
       ]
      },
      {
       "output_type": "stream",
       "stream": "stderr",
       "text": [
        "DEBUG:root:{\"features\": [{\"geometry\": {\"coordinates\": [-122.083702, 37.4036219], \"type\": \"Point\"}, \"id\": \"5603ae0cf6858f0cbbb6055b\", \"properties\": {\"duration\": 5185.072999954224, \"enter_fmt_time\": \"2015-08-27 17:55:34.898000-07:00\", \"enter_ts\": 1440723334.898, \"exit_fmt_time\": \"2015-08-27 19:21:59.971000-07:00\", \"exit_ts\": 1440728519.971, \"feature_type\": \"place\", \"source\": \"DwellSegmentationTimeFilter\"}, \"type\": \"Feature\"}, {\"geometry\": {\"coordinates\": [-122.0862609, 37.3909709], \"type\": \"Point\"}, \"id\": \"5603ae0cf6858f0cbbb6055d\", \"properties\": {\"enter_fmt_time\": \"2015-08-27 19:32:22.709000-07:00\", \"enter_ts\": 1440729142.709, \"feature_type\": \"place\", \"source\": \"DwellSegmentationTimeFilter\"}, \"type\": \"Feature\"}, {\"geometry\": {\"coordinates\": [-122.0804791, 37.3959724], \"type\": \"Point\"}, \"id\": \"5603ae11f6858f0cbbb60597\", \"properties\": {\"duration\": 30.006999969482422, \"enter_fmt_time\": \"2015-08-27 19:26:34.308000-07:00\", \"enter_ts\": 1440728794.308, \"exit_fmt_time\": \"2015-08-27 19:27:04.315000-07:00\", \"exit_ts\": 1440728824.315, \"feature_type\": \"stop\", \"source\": \"SmoothedHighConfidenceMotion\"}, \"type\": \"Feature\"}, {\"features\": [{\"features\": [{\"geometry\": {\"coordinates\": [-122.0816952, 37.4026009], \"type\": \"Point\"}, \"id\": \"55dfcaca7d65cb39ee986e11\", \"properties\": {\"accuracy\": 40.614, \"altitude\": 0, \"feature_type\": \"location\", \"fmt_time\": \"2015-08-27 19:21:59.971000-07:00\", \"heading\": 0, \"latitude\": 37.4026009, \"longitude\": -122.0816952, \"sensed_speed\": 0, \"ts\": 1440728519.971}, \"type\": \"Feature\"}, {\"geometry\": {\"coordinates\": [-122.0804086, 37.402437], \"type\": \"Point\"}, \"id\": \"55dfcaca7d65cb39ee986e14\", \"properties\": {\"accuracy\": 57.994, \"altitude\": 0, \"feature_type\": \"location\", \"fmt_time\": \"2015-08-27 19:22:34.135000-07:00\", \"heading\": 0, \"latitude\": 37.402437, \"longitude\": -122.0804086, \"sensed_speed\": 0, \"ts\": 1440728554.135}, \"type\": \"Feature\"}, {\"geometry\": {\"coordinates\": [-122.0785754, 37.4015364], \"type\": \"Point\"}, \"id\": \"55dfcaca7d65cb39ee986e17\", \"properties\": {\"accuracy\": 36.0, \"altitude\": 0, \"feature_type\": \"location\", \"fmt_time\": \"2015-08-27 19:23:04.128000-07:00\", \"heading\": 0, \"latitude\": 37.4015364, \"longitude\": -122.0785754, \"sensed_speed\": 0, \"ts\": 1440728584.128}, \"type\": \"Feature\"}, {\"geometry\": {\"coordinates\": [-122.0792398, 37.4015005], \"type\": \"Point\"}, \"id\": \"55dfcaca7d65cb39ee986e1a\", \"properties\": {\"accuracy\": 31.5, \"altitude\": 0, \"feature_type\": \"location\", \"fmt_time\": \"2015-08-27 19:23:34.210000-07:00\", \"heading\": 0, \"latitude\": 37.4015005, \"longitude\": -122.0792398, \"sensed_speed\": 0, \"ts\": 1440728614.21}, \"type\": \"Feature\"}, {\"geometry\": {\"coordinates\": [-122.0800125, 37.4007004], \"type\": \"Point\"}, \"id\": \"55dfcaca7d65cb39ee986e1c\", \"properties\": {\"accuracy\": 30.0, \"altitude\": 0, \"feature_type\": \"location\", \"fmt_time\": \"2015-08-27 19:24:04.192000-07:00\", \"heading\": 0, \"latitude\": 37.4007004, \"longitude\": -122.0800125, \"sensed_speed\": 0, \"ts\": 1440728644.192}, \"type\": \"Feature\"}, {\"geometry\": {\"coordinates\": [-122.0806887, 37.3999177], \"type\": \"Point\"}, \"id\": \"55dfcaca7d65cb39ee986e1f\", \"properties\": {\"accuracy\": 37.5, \"altitude\": 0, \"feature_type\": \"location\", \"fmt_time\": \"2015-08-27 19:24:34.282000-07:00\", \"heading\": 0, \"latitude\": 37.3999177, \"longitude\": -122.0806887, \"sensed_speed\": 0, \"ts\": 1440728674.282}, \"type\": \"Feature\"}, {\"geometry\": {\"coordinates\": [-122.0808318, 37.3995013], \"type\": \"Point\"}, \"id\": \"55dfcaca7d65cb39ee986e21\", \"properties\": {\"accuracy\": 42.0, \"altitude\": 0, \"feature_type\": \"location\", \"fmt_time\": \"2015-08-27 19:25:04.266000-07:00\", \"heading\": 0, \"latitude\": 37.3995013, \"longitude\": -122.0808318, \"sensed_speed\": 0, \"ts\": 1440728704.266}, \"type\": \"Feature\"}, {\"geometry\": {\"coordinates\": [-122.0807172, 37.3994594], \"type\": \"Point\"}, \"id\": \"55dfcacb7d65cb39ee986e23\", \"properties\": {\"accuracy\": 81.0, \"altitude\": 0, \"feature_type\": \"location\", \"fmt_time\": \"2015-08-27 19:25:34.248000-07:00\", \"heading\": 0, \"latitude\": 37.3994594, \"longitude\": -122.0807172, \"sensed_speed\": 0, \"ts\": 1440728734.248}, \"type\": \"Feature\"}, {\"geometry\": {\"coordinates\": [-122.0809948, 37.3983218], \"type\": \"Point\"}, \"id\": \"55dfcacb7d65cb39ee986e27\", \"properties\": {\"accuracy\": 36.0, \"altitude\": 0, \"feature_type\": \"location\", \"fmt_time\": \"2015-08-27 19:26:04.243000-07:00\", \"heading\": 0, \"latitude\": 37.3983218, \"longitude\": -122.0809948, \"sensed_speed\": 0, \"ts\": 1440728764.243}, \"type\": \"Feature\"}, {\"geometry\": {\"coordinates\": [-122.0777742, 37.3955849], \"type\": \"Point\"}, \"id\": \"55dfcacb7d65cb39ee986e29\", \"properties\": {\"accuracy\": 67.5, \"altitude\": 0, \"feature_type\": \"location\", \"fmt_time\": \"2015-08-27 19:26:34.308000-07:00\", \"heading\": 0, \"latitude\": 37.3955849, \"longitude\": -122.0777742, \"sensed_speed\": 0, \"ts\": 1440728794.308}, \"type\": \"Feature\"}], \"type\": \"FeatureCollection\"}, {\"geometry\": {\"coordinates\": [[-122.083702, 37.4036219], [-122.0816952, 37.4026009], [-122.0804086, 37.402437], [-122.0785754, 37.4015364], [-122.0792398, 37.4015005], [-122.0800125, 37.4007004], [-122.0806887, 37.3999177], [-122.0808318, 37.3995013], [-122.0807172, 37.3994594], [-122.0809948, 37.3983218], [-122.0777742, 37.3955849]], \"type\": \"LineString\"}, \"id\": \"5603ae11f6858f0cbbb60595\", \"properties\": {\"duration\": 274.33700013160706, \"end_fmt_time\": \"2015-08-27 19:26:34.308000-07:00\", \"end_ts\": 1440728794.308, \"feature_type\": \"section\", \"sensed_mode\": \"MotionTypes.IN_VEHICLE\", \"source\": \"SmoothedHighConfidenceMotion\", \"start_fmt_time\": \"2015-08-27 19:21:59.971000-07:00\", \"start_ts\": 1440728519.971}, \"type\": \"Feature\"}], \"type\": \"FeatureCollection\"}, {\"features\": [{\"features\": [{\"geometry\": {\"coordinates\": [-122.0804791, 37.3959724], \"type\": \"Point\"}, \"id\": \"55dfcacb7d65cb39ee986e2c\", \"properties\": {\"accuracy\": 30.0, \"altitude\": 0, \"feature_type\": \"location\", \"fmt_time\": \"2015-08-27 19:27:04.315000-07:00\", \"heading\": 0, \"latitude\": 37.3959724, \"longitude\": -122.0804791, \"sensed_speed\": 0, \"ts\": 1440728824.315}, \"type\": \"Feature\"}, {\"geometry\": {\"coordinates\": [-122.0829762, 37.3959456], \"type\": \"Point\"}, \"id\": \"55dfcacb7d65cb39ee986e2f\", \"properties\": {\"accuracy\": 37.5, \"altitude\": 0, \"feature_type\": \"location\", \"fmt_time\": \"2015-08-27 19:27:34.365000-07:00\", \"heading\": 0, \"latitude\": 37.3959456, \"longitude\": -122.0829762, \"sensed_speed\": 0, \"ts\": 1440728854.365}, \"type\": \"Feature\"}, {\"geometry\": {\"coordinates\": [-122.0829727, 37.3959806], \"type\": \"Point\"}, \"id\": \"55dfcacb7d65cb39ee986e31\", \"properties\": {\"accuracy\": 40.5, \"altitude\": 0, \"feature_type\": \"location\", \"fmt_time\": \"2015-08-27 19:28:04.387000-07:00\", \"heading\": 0, \"latitude\": 37.3959806, \"longitude\": -122.0829727, \"sensed_speed\": 0, \"ts\": 1440728884.387}, \"type\": \"Feature\"}, {\"geometry\": {\"coordinates\": [-122.0836812, 37.3948295], \"type\": \"Point\"}, \"id\": \"55dfcacc7d65cb39ee986e34\", \"properties\": {\"accuracy\": 33.0, \"altitude\": 0, \"feature_type\": \"location\", \"fmt_time\": \"2015-08-27 19:28:34.434000-07:00\", \"heading\": 0, \"latitude\": 37.3948295, \"longitude\": -122.0836812, \"sensed_speed\": 0, \"ts\": 1440728914.434}, \"type\": \"Feature\"}, {\"geometry\": {\"coordinates\": [-122.0844196, 37.3937479], \"type\": \"Point\"}, \"id\": \"55dfcacc7d65cb39ee986e37\", \"properties\": {\"accuracy\": 37.5, \"altitude\": 0, \"feature_type\": \"location\", \"fmt_time\": \"2015-08-27 19:29:04.482000-07:00\", \"heading\": 0, \"latitude\": 37.3937479, \"longitude\": -122.0844196, \"sensed_speed\": 0, \"ts\": 1440728944.482}, \"type\": \"Feature\"}, {\"geometry\": {\"coordinates\": [-122.0848882, 37.3930485], \"type\": \"Point\"}, \"id\": \"55dfcacc7d65cb39ee986e3a\", \"properties\": {\"accuracy\": 39.0, \"altitude\": 0, \"feature_type\": \"location\", \"fmt_time\": \"2015-08-27 19:29:34.487000-07:00\", \"heading\": 0, \"latitude\": 37.3930485, \"longitude\": -122.0848882, \"sensed_speed\": 0, \"ts\": 1440728974.487}, \"type\": \"Feature\"}, {\"geometry\": {\"coordinates\": [-122.0854796, 37.3920595], \"type\": \"Point\"}, \"id\": \"55dfcacc7d65cb39ee986e3c\", \"properties\": {\"accuracy\": 108.529, \"altitude\": 0, \"feature_type\": \"location\", \"fmt_time\": \"2015-08-27 19:30:04.524000-07:00\", \"heading\": 0, \"latitude\": 37.3920595, \"longitude\": -122.0854796, \"sensed_speed\": 0, \"ts\": 1440729004.524}, \"type\": \"Feature\"}, {\"geometry\": {\"coordinates\": [-122.0860801, 37.3911279], \"type\": \"Point\"}, \"id\": \"55dfcacc7d65cb39ee986e3f\", \"properties\": {\"accuracy\": 40.5, \"altitude\": 0, \"feature_type\": \"location\", \"fmt_time\": \"2015-08-27 19:30:34.649000-07:00\", \"heading\": 0, \"latitude\": 37.3911279, \"longitude\": -122.0860801, \"sensed_speed\": 0, \"ts\": 1440729034.649}, \"type\": \"Feature\"}, {\"geometry\": {\"coordinates\": [-122.0862471, 37.3909095], \"type\": \"Point\"}, \"id\": \"55dfcacc7d65cb39ee986e41\", \"properties\": {\"accuracy\": 30.0, \"altitude\": 0, \"feature_type\": \"location\", \"fmt_time\": \"2015-08-27 19:30:46.692000-07:00\", \"heading\": 0, \"latitude\": 37.3909095, \"longitude\": -122.0862471, \"sensed_speed\": 0, \"ts\": 1440729046.692}, \"type\": \"Feature\"}, {\"geometry\": {\"coordinates\": [-122.0862131, 37.3910022], \"type\": \"Point\"}, \"id\": \"55dfcacd7d65cb39ee986e45\", \"properties\": {\"accuracy\": 37.5, \"altitude\": 0, \"feature_type\": \"location\", \"fmt_time\": \"2015-08-27 19:31:19.792000-07:00\", \"heading\": 0, \"latitude\": 37.3910022, \"longitude\": -122.0862131, \"sensed_speed\": 0, \"ts\": 1440729079.792}, \"type\": \"Feature\"}, {\"geometry\": {\"coordinates\": [-122.0862609, 37.3909709], \"type\": \"Point\"}, \"id\": \"55dfcacd7d65cb39ee986e48\", \"properties\": {\"accuracy\": 30.0, \"altitude\": 0, \"feature_type\": \"location\", \"fmt_time\": \"2015-08-27 19:32:04.640000-07:00\", \"heading\": 0, \"latitude\": 37.3909709, \"longitude\": -122.0862609, \"sensed_speed\": 0, \"ts\": 1440729124.64}, \"type\": \"Feature\"}, {\"geometry\": {\"coordinates\": [-122.0862609, 37.3909709], \"type\": \"Point\"}, \"id\": \"55dfcacd7d65cb39ee986e4c\", \"properties\": {\"accuracy\": 30.0, \"altitude\": 0, \"feature_type\": \"location\", \"fmt_time\": \"2015-08-27 19:32:22.709000-07:00\", \"heading\": 0, \"latitude\": 37.3909709, \"longitude\": -122.0862609, \"sensed_speed\": 0, \"ts\": 1440729142.709}, \"type\": \"Feature\"}], \"type\": \"FeatureCollection\"}, {\"geometry\": {\"coordinates\": [[-122.0804791, 37.3959724], [-122.0829762, 37.3959456], [-122.0829727, 37.3959806], [-122.0836812, 37.3948295], [-122.0844196, 37.3937479], [-122.0848882, 37.3930485], [-122.0854796, 37.3920595], [-122.0860801, 37.3911279], [-122.0862471, 37.3909095], [-122.0862131, 37.3910022], [-122.0862609, 37.3909709], [-122.0862609, 37.3909709]], \"type\": \"LineString\"}, \"id\": \"5603ae11f6858f0cbbb60596\", \"properties\": {\"duration\": 318.39400005340576, \"end_fmt_time\": \"2015-08-27 19:32:22.709000-07:00\", \"end_ts\": 1440729142.709, \"feature_type\": \"section\", \"sensed_mode\": \"MotionTypes.BICYCLING\", \"source\": \"SmoothedHighConfidenceMotion\", \"start_fmt_time\": \"2015-08-27 19:27:04.315000-07:00\", \"start_ts\": 1440728824.315}, \"type\": \"Feature\"}], \"type\": \"FeatureCollection\"}], \"type\": \"FeatureCollection\"}\n"
       ]
      }
     ],
     "prompt_number": 12
    },
    {
     "cell_type": "code",
     "collapsed": false,
     "input": [
      "reload(ipy)"
     ],
     "language": "python",
     "metadata": {},
     "outputs": [
      {
       "metadata": {},
       "output_type": "pyout",
       "prompt_number": 13,
       "text": [
        "<module 'emission.analysis.plotting.leaflet_osm.ipython_helper' from '/Users/shankari/e-mission/e-mission-server/emission/analysis/plotting/leaflet_osm/ipython_helper.pyc'>"
       ]
      }
     ],
     "prompt_number": 13
    },
    {
     "cell_type": "code",
     "collapsed": false,
     "input": [
      "ipy.inline_maps([[m] for m in map_list])"
     ],
     "language": "python",
     "metadata": {},
     "outputs": [
      {
       "html": [
        "<iframe srcdoc=\"<table width=&quot;100%&quot;>\n",
        "<tr><td>&lt;iframe srcdoc=&quot;&lt;!DOCTYPE html&gt;\n",
        "&lt;head&gt;\n",
        "   &lt;meta http-equiv=&amp;quot;content-type&amp;quot; content=&amp;quot;text/html; charset=UTF-8&amp;quot; /&gt;\n",
        "   &lt;link rel=&amp;quot;stylesheet&amp;quot; href=&amp;quot;https://cdnjs.cloudflare.com/ajax/libs/leaflet/0.7.3/leaflet.css&amp;quot; /&gt;\n",
        "   &lt;script src=&amp;quot;https://cdnjs.cloudflare.com/ajax/libs/leaflet/0.7.3/leaflet.js&amp;quot;&gt;&lt;/script&gt;\n",
        "   &lt;script src=&amp;quot;https://cdnjs.cloudflare.com/ajax/libs/d3/3.5.5/d3.min.js&amp;quot; charset=&amp;quot;utf-8&amp;quot;&gt;&lt;/script&gt;\n",
        "   &lt;script src=&amp;quot;https://cdnjs.cloudflare.com/ajax/libs/queue-async/1.0.7/queue.min.js&amp;quot;&gt;&lt;/script&gt;\n",
        "\n",
        "   \n",
        "   \n",
        "   \n",
        "   \n",
        "\n",
        "   &lt;style&gt;\n",
        "\n",
        "      html, body {\n",
        "        width: 100%;\n",
        "        height: 100%;\n",
        "        margin: 0;\n",
        "        padding: 0;\n",
        "      }\n",
        "\n",
        "      .legend {\n",
        "          padding: 0px 0px;\n",
        "          font: 10px sans-serif;\n",
        "          background: white;\n",
        "          background: rgba(255,255,255,0.8);\n",
        "          box-shadow: 0 0 15px rgba(0,0,0,0.2);\n",
        "          border-radius: 5px;\n",
        "      }\n",
        "\n",
        "      .key path {\n",
        "        display: none;\n",
        "      }\n",
        "\n",
        "   &lt;/style&gt;\n",
        "&lt;/head&gt;\n",
        "\n",
        "&lt;body&gt;\n",
        "\n",
        "   &lt;div id=&amp;quot;map&amp;quot; style=&amp;quot;width: 100%; height: 100%&amp;quot;&gt;&lt;/div&gt;\n",
        "\n",
        "   &lt;script&gt;\n",
        "\n",
        "      queue()\n",
        "          .defer(function(callback){callback(null, JSON.parse('{&amp;quot;type&amp;quot;: &amp;quot;FeatureCollection&amp;quot;, &amp;quot;features&amp;quot;: [{&amp;quot;geometry&amp;quot;: {&amp;quot;type&amp;quot;: &amp;quot;Point&amp;quot;, &amp;quot;coordinates&amp;quot;: [-122.0864045, 37.3905444]}, &amp;quot;type&amp;quot;: &amp;quot;Feature&amp;quot;, &amp;quot;id&amp;quot;: &amp;quot;5603ae0cf6858f0cbbb6054d&amp;quot;, &amp;quot;properties&amp;quot;: {&amp;quot;enter_fmt_time&amp;quot;: &amp;quot;2015-08-26 21:43:20.404000-07:00&amp;quot;, &amp;quot;feature_type&amp;quot;: &amp;quot;place&amp;quot;, &amp;quot;exit_fmt_time&amp;quot;: &amp;quot;2015-08-27 08:18:59.672000-07:00&amp;quot;, &amp;quot;source&amp;quot;: &amp;quot;DwellSegmentationTimeFilter&amp;quot;, &amp;quot;enter_ts&amp;quot;: 1440650600.404, &amp;quot;duration&amp;quot;: 38139.26799988747, &amp;quot;exit_ts&amp;quot;: 1440688739.672}}, {&amp;quot;geometry&amp;quot;: {&amp;quot;type&amp;quot;: &amp;quot;Point&amp;quot;, &amp;quot;coordinates&amp;quot;: [-122.0835641, 37.4034802]}, &amp;quot;type&amp;quot;: &amp;quot;Feature&amp;quot;, &amp;quot;id&amp;quot;: &amp;quot;5603ae0cf6858f0cbbb6054f&amp;quot;, &amp;quot;properties&amp;quot;: {&amp;quot;enter_fmt_time&amp;quot;: &amp;quot;2015-08-27 08:30:08.302000-07:00&amp;quot;, &amp;quot;feature_type&amp;quot;: &amp;quot;place&amp;quot;, &amp;quot;exit_fmt_time&amp;quot;: &amp;quot;2015-08-27 08:34:22.943000-07:00&amp;quot;, &amp;quot;source&amp;quot;: &amp;quot;DwellSegmentationTimeFilter&amp;quot;, &amp;quot;enter_ts&amp;quot;: 1440689408.302, &amp;quot;duration&amp;quot;: 254.64100003242493, &amp;quot;exit_ts&amp;quot;: 1440689662.943}}, {&amp;quot;geometry&amp;quot;: {&amp;quot;type&amp;quot;: &amp;quot;Point&amp;quot;, &amp;quot;coordinates&amp;quot;: [-122.0845296, 37.4034667]}, &amp;quot;type&amp;quot;: &amp;quot;Feature&amp;quot;, &amp;quot;id&amp;quot;: &amp;quot;5603ae10f6858f0cbbb60583&amp;quot;, &amp;quot;properties&amp;quot;: {&amp;quot;enter_fmt_time&amp;quot;: &amp;quot;2015-08-27 08:27:45.092000-07:00&amp;quot;, &amp;quot;feature_type&amp;quot;: &amp;quot;stop&amp;quot;, &amp;quot;exit_fmt_time&amp;quot;: &amp;quot;2015-08-27 08:28:16.912000-07:00&amp;quot;, &amp;quot;source&amp;quot;: &amp;quot;SmoothedHighConfidenceMotion&amp;quot;, &amp;quot;enter_ts&amp;quot;: 1440689265.092, &amp;quot;duration&amp;quot;: 31.819999933242798, &amp;quot;exit_ts&amp;quot;: 1440689296.912}}, {&amp;quot;type&amp;quot;: &amp;quot;FeatureCollection&amp;quot;, &amp;quot;features&amp;quot;: [{&amp;quot;type&amp;quot;: &amp;quot;FeatureCollection&amp;quot;, &amp;quot;features&amp;quot;: [{&amp;quot;geometry&amp;quot;: {&amp;quot;type&amp;quot;: &amp;quot;Point&amp;quot;, &amp;quot;coordinates&amp;quot;: [-122.0846749, 37.393415]}, &amp;quot;type&amp;quot;: &amp;quot;Feature&amp;quot;, &amp;quot;id&amp;quot;: &amp;quot;55df34ee7d65cb39ee9865a6&amp;quot;, &amp;quot;properties&amp;quot;: {&amp;quot;feature_type&amp;quot;: &amp;quot;location&amp;quot;, &amp;quot;fmt_time&amp;quot;: &amp;quot;2015-08-27 08:18:59.672000-07:00&amp;quot;, &amp;quot;altitude&amp;quot;: 0, &amp;quot;ts&amp;quot;: 1440688739.672, &amp;quot;longitude&amp;quot;: -122.0846749, &amp;quot;latitude&amp;quot;: 37.393415, &amp;quot;heading&amp;quot;: 0, &amp;quot;sensed_speed&amp;quot;: 0, &amp;quot;accuracy&amp;quot;: 43.5}}, {&amp;quot;geometry&amp;quot;: {&amp;quot;type&amp;quot;: &amp;quot;Point&amp;quot;, &amp;quot;coordinates&amp;quot;: [-122.0841016, 37.3941547]}, &amp;quot;type&amp;quot;: &amp;quot;Feature&amp;quot;, &amp;quot;id&amp;quot;: &amp;quot;55df34ee7d65cb39ee9865a8&amp;quot;, &amp;quot;properties&amp;quot;: {&amp;quot;feature_type&amp;quot;: &amp;quot;location&amp;quot;, &amp;quot;fmt_time&amp;quot;: &amp;quot;2015-08-27 08:19:15.574000-07:00&amp;quot;, &amp;quot;altitude&amp;quot;: 0, &amp;quot;ts&amp;quot;: 1440688755.574, &amp;quot;longitude&amp;quot;: -122.0841016, &amp;quot;latitude&amp;quot;: 37.3941547, &amp;quot;heading&amp;quot;: 0, &amp;quot;sensed_speed&amp;quot;: 0, &amp;quot;accuracy&amp;quot;: 81.0}}, {&amp;quot;geometry&amp;quot;: {&amp;quot;type&amp;quot;: &amp;quot;Point&amp;quot;, &amp;quot;coordinates&amp;quot;: [-122.0831438, 37.3956262]}, &amp;quot;type&amp;quot;: &amp;quot;Feature&amp;quot;, &amp;quot;id&amp;quot;: &amp;quot;55df34ee7d65cb39ee9865aa&amp;quot;, &amp;quot;properties&amp;quot;: {&amp;quot;feature_type&amp;quot;: &amp;quot;location&amp;quot;, &amp;quot;fmt_time&amp;quot;: &amp;quot;2015-08-27 08:19:47.388000-07:00&amp;quot;, &amp;quot;altitude&amp;quot;: 0, &amp;quot;ts&amp;quot;: 1440688787.388, &amp;quot;longitude&amp;quot;: -122.0831438, &amp;quot;latitude&amp;quot;: 37.3956262, &amp;quot;heading&amp;quot;: 0, &amp;quot;sensed_speed&amp;quot;: 0, &amp;quot;accuracy&amp;quot;: 45.0}}, {&amp;quot;geometry&amp;quot;: {&amp;quot;type&amp;quot;: &amp;quot;Point&amp;quot;, &amp;quot;coordinates&amp;quot;: [-122.0830409, 37.3957967]}, &amp;quot;type&amp;quot;: &amp;quot;Feature&amp;quot;, &amp;quot;id&amp;quot;: &amp;quot;55df34ee7d65cb39ee9865ad&amp;quot;, &amp;quot;properties&amp;quot;: {&amp;quot;feature_type&amp;quot;: &amp;quot;location&amp;quot;, &amp;quot;fmt_time&amp;quot;: &amp;quot;2015-08-27 08:20:19.216000-07:00&amp;quot;, &amp;quot;altitude&amp;quot;: 0, &amp;quot;ts&amp;quot;: 1440688819.216, &amp;quot;longitude&amp;quot;: -122.0830409, &amp;quot;latitude&amp;quot;: 37.3957967, &amp;quot;heading&amp;quot;: 0, &amp;quot;sensed_speed&amp;quot;: 0, &amp;quot;accuracy&amp;quot;: 36.0}}, {&amp;quot;geometry&amp;quot;: {&amp;quot;type&amp;quot;: &amp;quot;Point&amp;quot;, &amp;quot;coordinates&amp;quot;: [-122.0830094, 37.3959019]}, &amp;quot;type&amp;quot;: &amp;quot;Feature&amp;quot;, &amp;quot;id&amp;quot;: &amp;quot;55df34ee7d65cb39ee9865af&amp;quot;, &amp;quot;properties&amp;quot;: {&amp;quot;feature_type&amp;quot;: &amp;quot;location&amp;quot;, &amp;quot;fmt_time&amp;quot;: &amp;quot;2015-08-27 08:20:51.053000-07:00&amp;quot;, &amp;quot;altitude&amp;quot;: 0, &amp;quot;ts&amp;quot;: 1440688851.053, &amp;quot;longitude&amp;quot;: -122.0830094, &amp;quot;latitude&amp;quot;: 37.3959019, &amp;quot;heading&amp;quot;: 0, &amp;quot;sensed_speed&amp;quot;: 0, &amp;quot;accuracy&amp;quot;: 30.0}}, {&amp;quot;geometry&amp;quot;: {&amp;quot;type&amp;quot;: &amp;quot;Point&amp;quot;, &amp;quot;coordinates&amp;quot;: [-122.0828785, 37.3960132]}, &amp;quot;type&amp;quot;: &amp;quot;Feature&amp;quot;, &amp;quot;id&amp;quot;: &amp;quot;55df34ee7d65cb39ee9865b1&amp;quot;, &amp;quot;properties&amp;quot;: {&amp;quot;feature_type&amp;quot;: &amp;quot;location&amp;quot;, &amp;quot;fmt_time&amp;quot;: &amp;quot;2015-08-27 08:21:22.869000-07:00&amp;quot;, &amp;quot;altitude&amp;quot;: 0, &amp;quot;ts&amp;quot;: 1440688882.869, &amp;quot;longitude&amp;quot;: -122.0828785, &amp;quot;latitude&amp;quot;: 37.3960132, &amp;quot;heading&amp;quot;: 0, &amp;quot;sensed_speed&amp;quot;: 0, &amp;quot;accuracy&amp;quot;: 48.0}}, {&amp;quot;geometry&amp;quot;: {&amp;quot;type&amp;quot;: &amp;quot;Point&amp;quot;, &amp;quot;coordinates&amp;quot;: [-122.0828663, 37.3960665]}, &amp;quot;type&amp;quot;: &amp;quot;Feature&amp;quot;, &amp;quot;id&amp;quot;: &amp;quot;55df34ee7d65cb39ee9865b4&amp;quot;, &amp;quot;properties&amp;quot;: {&amp;quot;feature_type&amp;quot;: &amp;quot;location&amp;quot;, &amp;quot;fmt_time&amp;quot;: &amp;quot;2015-08-27 08:21:38.781000-07:00&amp;quot;, &amp;quot;altitude&amp;quot;: 0, &amp;quot;ts&amp;quot;: 1440688898.781, &amp;quot;longitude&amp;quot;: -122.0828663, &amp;quot;latitude&amp;quot;: 37.3960665, &amp;quot;heading&amp;quot;: 0, &amp;quot;sensed_speed&amp;quot;: 0, &amp;quot;accuracy&amp;quot;: 43.5}}, {&amp;quot;geometry&amp;quot;: {&amp;quot;type&amp;quot;: &amp;quot;Point&amp;quot;, &amp;quot;coordinates&amp;quot;: [-122.0818078, 37.3957659]}, &amp;quot;type&amp;quot;: &amp;quot;Feature&amp;quot;, &amp;quot;id&amp;quot;: &amp;quot;55df34ef7d65cb39ee9865b7&amp;quot;, &amp;quot;properties&amp;quot;: {&amp;quot;feature_type&amp;quot;: &amp;quot;location&amp;quot;, &amp;quot;fmt_time&amp;quot;: &amp;quot;2015-08-27 08:22:10.603000-07:00&amp;quot;, &amp;quot;altitude&amp;quot;: 0, &amp;quot;ts&amp;quot;: 1440688930.603, &amp;quot;longitude&amp;quot;: -122.0818078, &amp;quot;latitude&amp;quot;: 37.3957659, &amp;quot;heading&amp;quot;: 0, &amp;quot;sensed_speed&amp;quot;: 0, &amp;quot;accuracy&amp;quot;: 51.0}}, {&amp;quot;geometry&amp;quot;: {&amp;quot;type&amp;quot;: &amp;quot;Point&amp;quot;, &amp;quot;coordinates&amp;quot;: [-122.0808227, 37.3971981]}, &amp;quot;type&amp;quot;: &amp;quot;Feature&amp;quot;, &amp;quot;id&amp;quot;: &amp;quot;55df34ef7d65cb39ee9865b9&amp;quot;, &amp;quot;properties&amp;quot;: {&amp;quot;feature_type&amp;quot;: &amp;quot;location&amp;quot;, &amp;quot;fmt_time&amp;quot;: &amp;quot;2015-08-27 08:22:42.392000-07:00&amp;quot;, &amp;quot;altitude&amp;quot;: 0, &amp;quot;ts&amp;quot;: 1440688962.392, &amp;quot;longitude&amp;quot;: -122.0808227, &amp;quot;latitude&amp;quot;: 37.3971981, &amp;quot;heading&amp;quot;: 0, &amp;quot;sensed_speed&amp;quot;: 0, &amp;quot;accuracy&amp;quot;: 37.5}}, {&amp;quot;geometry&amp;quot;: {&amp;quot;type&amp;quot;: &amp;quot;Point&amp;quot;, &amp;quot;coordinates&amp;quot;: [-122.0808461, 37.3986502]}, &amp;quot;type&amp;quot;: &amp;quot;Feature&amp;quot;, &amp;quot;id&amp;quot;: &amp;quot;55df34ef7d65cb39ee9865bc&amp;quot;, &amp;quot;properties&amp;quot;: {&amp;quot;feature_type&amp;quot;: &amp;quot;location&amp;quot;, &amp;quot;fmt_time&amp;quot;: &amp;quot;2015-08-27 08:23:14.225000-07:00&amp;quot;, &amp;quot;altitude&amp;quot;: 0, &amp;quot;ts&amp;quot;: 1440688994.225, &amp;quot;longitude&amp;quot;: -122.0808461, &amp;quot;latitude&amp;quot;: 37.3986502, &amp;quot;heading&amp;quot;: 0, &amp;quot;sensed_speed&amp;quot;: 0, &amp;quot;accuracy&amp;quot;: 55.5}}, {&amp;quot;geometry&amp;quot;: {&amp;quot;type&amp;quot;: &amp;quot;Point&amp;quot;, &amp;quot;coordinates&amp;quot;: [-122.0805741, 37.3999882]}, &amp;quot;type&amp;quot;: &amp;quot;Feature&amp;quot;, &amp;quot;id&amp;quot;: &amp;quot;55df34ef7d65cb39ee9865bf&amp;quot;, &amp;quot;properties&amp;quot;: {&amp;quot;feature_type&amp;quot;: &amp;quot;location&amp;quot;, &amp;quot;fmt_time&amp;quot;: &amp;quot;2015-08-27 08:23:46.067000-07:00&amp;quot;, &amp;quot;altitude&amp;quot;: 0, &amp;quot;ts&amp;quot;: 1440689026.067, &amp;quot;longitude&amp;quot;: -122.0805741, &amp;quot;latitude&amp;quot;: 37.3999882, &amp;quot;heading&amp;quot;: 0, &amp;quot;sensed_speed&amp;quot;: 0, &amp;quot;accuracy&amp;quot;: 31.5}}, {&amp;quot;geometry&amp;quot;: {&amp;quot;type&amp;quot;: &amp;quot;Point&amp;quot;, &amp;quot;coordinates&amp;quot;: [-122.0805585, 37.3999972]}, &amp;quot;type&amp;quot;: &amp;quot;Feature&amp;quot;, &amp;quot;id&amp;quot;: &amp;quot;55df34ef7d65cb39ee9865c1&amp;quot;, &amp;quot;properties&amp;quot;: {&amp;quot;feature_type&amp;quot;: &amp;quot;location&amp;quot;, &amp;quot;fmt_time&amp;quot;: &amp;quot;2015-08-27 08:24:17.903000-07:00&amp;quot;, &amp;quot;altitude&amp;quot;: 0, &amp;quot;ts&amp;quot;: 1440689057.903, &amp;quot;longitude&amp;quot;: -122.0805585, &amp;quot;latitude&amp;quot;: 37.3999972, &amp;quot;heading&amp;quot;: 0, &amp;quot;sensed_speed&amp;quot;: 0, &amp;quot;accuracy&amp;quot;: 36.0}}, {&amp;quot;geometry&amp;quot;: {&amp;quot;type&amp;quot;: &amp;quot;Point&amp;quot;, &amp;quot;coordinates&amp;quot;: [-122.0809311, 37.3999008]}, &amp;quot;type&amp;quot;: &amp;quot;Feature&amp;quot;, &amp;quot;id&amp;quot;: &amp;quot;55df34ef7d65cb39ee9865c4&amp;quot;, &amp;quot;properties&amp;quot;: {&amp;quot;feature_type&amp;quot;: &amp;quot;location&amp;quot;, &amp;quot;fmt_time&amp;quot;: &amp;quot;2015-08-27 08:24:49.947000-07:00&amp;quot;, &amp;quot;altitude&amp;quot;: 0, &amp;quot;ts&amp;quot;: 1440689089.947, &amp;quot;longitude&amp;quot;: -122.0809311, &amp;quot;latitude&amp;quot;: 37.3999008, &amp;quot;heading&amp;quot;: 0, &amp;quot;sensed_speed&amp;quot;: 0, &amp;quot;accuracy&amp;quot;: 105.968}}, {&amp;quot;geometry&amp;quot;: {&amp;quot;type&amp;quot;: &amp;quot;Point&amp;quot;, &amp;quot;coordinates&amp;quot;: [-122.0825585, 37.400037]}, &amp;quot;type&amp;quot;: &amp;quot;Feature&amp;quot;, &amp;quot;id&amp;quot;: &amp;quot;55df34ef7d65cb39ee9865c7&amp;quot;, &amp;quot;properties&amp;quot;: {&amp;quot;feature_type&amp;quot;: &amp;quot;location&amp;quot;, &amp;quot;fmt_time&amp;quot;: &amp;quot;2015-08-27 08:25:21.789000-07:00&amp;quot;, &amp;quot;altitude&amp;quot;: 0, &amp;quot;ts&amp;quot;: 1440689121.789, &amp;quot;longitude&amp;quot;: -122.0825585, &amp;quot;latitude&amp;quot;: 37.400037, &amp;quot;heading&amp;quot;: 0, &amp;quot;sensed_speed&amp;quot;: 0, &amp;quot;accuracy&amp;quot;: 125.167}}, {&amp;quot;geometry&amp;quot;: {&amp;quot;type&amp;quot;: &amp;quot;Point&amp;quot;, &amp;quot;coordinates&amp;quot;: [-122.084657, 37.4006053]}, &amp;quot;type&amp;quot;: &amp;quot;Feature&amp;quot;, &amp;quot;id&amp;quot;: &amp;quot;55df34f07d65cb39ee9865c9&amp;quot;, &amp;quot;properties&amp;quot;: {&amp;quot;feature_type&amp;quot;: &amp;quot;location&amp;quot;, &amp;quot;fmt_time&amp;quot;: &amp;quot;2015-08-27 08:25:53.593000-07:00&amp;quot;, &amp;quot;altitude&amp;quot;: 0, &amp;quot;ts&amp;quot;: 1440689153.593, &amp;quot;longitude&amp;quot;: -122.084657, &amp;quot;latitude&amp;quot;: 37.4006053, &amp;quot;heading&amp;quot;: 0, &amp;quot;sensed_speed&amp;quot;: 0, &amp;quot;accuracy&amp;quot;: 50.612}}, {&amp;quot;geometry&amp;quot;: {&amp;quot;type&amp;quot;: &amp;quot;Point&amp;quot;, &amp;quot;coordinates&amp;quot;: [-122.0847354, 37.4007025]}, &amp;quot;type&amp;quot;: &amp;quot;Feature&amp;quot;, &amp;quot;id&amp;quot;: &amp;quot;55df34f07d65cb39ee9865cc&amp;quot;, &amp;quot;properties&amp;quot;: {&amp;quot;feature_type&amp;quot;: &amp;quot;location&amp;quot;, &amp;quot;fmt_time&amp;quot;: &amp;quot;2015-08-27 08:26:09.651000-07:00&amp;quot;, &amp;quot;altitude&amp;quot;: 0, &amp;quot;ts&amp;quot;: 1440689169.651, &amp;quot;longitude&amp;quot;: -122.0847354, &amp;quot;latitude&amp;quot;: 37.4007025, &amp;quot;heading&amp;quot;: 0, &amp;quot;sensed_speed&amp;quot;: 0, &amp;quot;accuracy&amp;quot;: 30.0}}, {&amp;quot;geometry&amp;quot;: {&amp;quot;type&amp;quot;: &amp;quot;Point&amp;quot;, &amp;quot;coordinates&amp;quot;: [-122.0849045, 37.4023165]}, &amp;quot;type&amp;quot;: &amp;quot;Feature&amp;quot;, &amp;quot;id&amp;quot;: &amp;quot;55df34f07d65cb39ee9865cf&amp;quot;, &amp;quot;properties&amp;quot;: {&amp;quot;feature_type&amp;quot;: &amp;quot;location&amp;quot;, &amp;quot;fmt_time&amp;quot;: &amp;quot;2015-08-27 08:26:41.466000-07:00&amp;quot;, &amp;quot;altitude&amp;quot;: 0, &amp;quot;ts&amp;quot;: 1440689201.466, &amp;quot;longitude&amp;quot;: -122.0849045, &amp;quot;latitude&amp;quot;: 37.4023165, &amp;quot;heading&amp;quot;: 0, &amp;quot;sensed_speed&amp;quot;: 0, &amp;quot;accuracy&amp;quot;: 69.324}}, {&amp;quot;geometry&amp;quot;: {&amp;quot;type&amp;quot;: &amp;quot;Point&amp;quot;, &amp;quot;coordinates&amp;quot;: [-122.0847188, 37.4028269]}, &amp;quot;type&amp;quot;: &amp;quot;Feature&amp;quot;, &amp;quot;id&amp;quot;: &amp;quot;55df34f07d65cb39ee9865d2&amp;quot;, &amp;quot;properties&amp;quot;: {&amp;quot;feature_type&amp;quot;: &amp;quot;location&amp;quot;, &amp;quot;fmt_time&amp;quot;: &amp;quot;2015-08-27 08:27:13.279000-07:00&amp;quot;, &amp;quot;altitude&amp;quot;: 0, &amp;quot;ts&amp;quot;: 1440689233.279, &amp;quot;longitude&amp;quot;: -122.0847188, &amp;quot;latitude&amp;quot;: 37.4028269, &amp;quot;heading&amp;quot;: 0, &amp;quot;sensed_speed&amp;quot;: 0, &amp;quot;accuracy&amp;quot;: 49.5}}, {&amp;quot;geometry&amp;quot;: {&amp;quot;type&amp;quot;: &amp;quot;Point&amp;quot;, &amp;quot;coordinates&amp;quot;: [-122.0847081, 37.4033491]}, &amp;quot;type&amp;quot;: &amp;quot;Feature&amp;quot;, &amp;quot;id&amp;quot;: &amp;quot;55df34f07d65cb39ee9865d4&amp;quot;, &amp;quot;properties&amp;quot;: {&amp;quot;feature_type&amp;quot;: &amp;quot;location&amp;quot;, &amp;quot;fmt_time&amp;quot;: &amp;quot;2015-08-27 08:27:45.092000-07:00&amp;quot;, &amp;quot;altitude&amp;quot;: 0, &amp;quot;ts&amp;quot;: 1440689265.092, &amp;quot;longitude&amp;quot;: -122.0847081, &amp;quot;latitude&amp;quot;: 37.4033491, &amp;quot;heading&amp;quot;: 0, &amp;quot;sensed_speed&amp;quot;: 0, &amp;quot;accuracy&amp;quot;: 42.0}}]}, {&amp;quot;geometry&amp;quot;: {&amp;quot;type&amp;quot;: &amp;quot;LineString&amp;quot;, &amp;quot;coordinates&amp;quot;: [[-122.0864045, 37.3905444], [-122.0846749, 37.393415], [-122.0841016, 37.3941547], [-122.0831438, 37.3956262], [-122.0830409, 37.3957967], [-122.0830094, 37.3959019], [-122.0828785, 37.3960132], [-122.0828663, 37.3960665], [-122.0818078, 37.3957659], [-122.0808227, 37.3971981], [-122.0808461, 37.3986502], [-122.0805741, 37.3999882], [-122.0805585, 37.3999972], [-122.0809311, 37.3999008], [-122.0825585, 37.400037], [-122.084657, 37.4006053], [-122.0847354, 37.4007025], [-122.0849045, 37.4023165], [-122.0847188, 37.4028269], [-122.0847081, 37.4033491]]}, &amp;quot;type&amp;quot;: &amp;quot;Feature&amp;quot;, &amp;quot;id&amp;quot;: &amp;quot;5603ae10f6858f0cbbb60581&amp;quot;, &amp;quot;properties&amp;quot;: {&amp;quot;feature_type&amp;quot;: &amp;quot;section&amp;quot;, &amp;quot;sensed_mode&amp;quot;: &amp;quot;MotionTypes.BICYCLING&amp;quot;, &amp;quot;end_ts&amp;quot;: 1440689265.092, &amp;quot;start_ts&amp;quot;: 1440688739.672, &amp;quot;start_fmt_time&amp;quot;: &amp;quot;2015-08-27 08:18:59.672000-07:00&amp;quot;, &amp;quot;source&amp;quot;: &amp;quot;SmoothedHighConfidenceMotion&amp;quot;, &amp;quot;end_fmt_time&amp;quot;: &amp;quot;2015-08-27 08:27:45.092000-07:00&amp;quot;, &amp;quot;duration&amp;quot;: 525.420000076294}}]}, {&amp;quot;type&amp;quot;: &amp;quot;FeatureCollection&amp;quot;, &amp;quot;features&amp;quot;: [{&amp;quot;type&amp;quot;: &amp;quot;FeatureCollection&amp;quot;, &amp;quot;features&amp;quot;: [{&amp;quot;geometry&amp;quot;: {&amp;quot;type&amp;quot;: &amp;quot;Point&amp;quot;, &amp;quot;coordinates&amp;quot;: [-122.0845296, 37.4034667]}, &amp;quot;type&amp;quot;: &amp;quot;Feature&amp;quot;, &amp;quot;id&amp;quot;: &amp;quot;55df34f07d65cb39ee9865d7&amp;quot;, &amp;quot;properties&amp;quot;: {&amp;quot;feature_type&amp;quot;: &amp;quot;location&amp;quot;, &amp;quot;fmt_time&amp;quot;: &amp;quot;2015-08-27 08:28:16.912000-07:00&amp;quot;, &amp;quot;altitude&amp;quot;: 0, &amp;quot;ts&amp;quot;: 1440689296.912, &amp;quot;longitude&amp;quot;: -122.0845296, &amp;quot;latitude&amp;quot;: 37.4034667, &amp;quot;heading&amp;quot;: 0, &amp;quot;sensed_speed&amp;quot;: 0, &amp;quot;accuracy&amp;quot;: 29.117}}, {&amp;quot;geometry&amp;quot;: {&amp;quot;type&amp;quot;: &amp;quot;Point&amp;quot;, &amp;quot;coordinates&amp;quot;: [-122.0844223, 37.4033752]}, &amp;quot;type&amp;quot;: &amp;quot;Feature&amp;quot;, &amp;quot;id&amp;quot;: &amp;quot;55df34f17d65cb39ee9865da&amp;quot;, &amp;quot;properties&amp;quot;: {&amp;quot;feature_type&amp;quot;: &amp;quot;location&amp;quot;, &amp;quot;fmt_time&amp;quot;: &amp;quot;2015-08-27 08:28:48.736000-07:00&amp;quot;, &amp;quot;altitude&amp;quot;: 0, &amp;quot;ts&amp;quot;: 1440689328.736, &amp;quot;longitude&amp;quot;: -122.0844223, &amp;quot;latitude&amp;quot;: 37.4033752, &amp;quot;heading&amp;quot;: 0, &amp;quot;sensed_speed&amp;quot;: 0, &amp;quot;accuracy&amp;quot;: 45.0}}, {&amp;quot;geometry&amp;quot;: {&amp;quot;type&amp;quot;: &amp;quot;Point&amp;quot;, &amp;quot;coordinates&amp;quot;: [-122.0838277, 37.4034065]}, &amp;quot;type&amp;quot;: &amp;quot;Feature&amp;quot;, &amp;quot;id&amp;quot;: &amp;quot;55df34f17d65cb39ee9865dd&amp;quot;, &amp;quot;properties&amp;quot;: {&amp;quot;feature_type&amp;quot;: &amp;quot;location&amp;quot;, &amp;quot;fmt_time&amp;quot;: &amp;quot;2015-08-27 08:29:20.562000-07:00&amp;quot;, &amp;quot;altitude&amp;quot;: 0, &amp;quot;ts&amp;quot;: 1440689360.562, &amp;quot;longitude&amp;quot;: -122.0838277, &amp;quot;latitude&amp;quot;: 37.4034065, &amp;quot;heading&amp;quot;: 0, &amp;quot;sensed_speed&amp;quot;: 0, &amp;quot;accuracy&amp;quot;: 49.5}}, {&amp;quot;geometry&amp;quot;: {&amp;quot;type&amp;quot;: &amp;quot;Point&amp;quot;, &amp;quot;coordinates&amp;quot;: [-122.084105, 37.4034399]}, &amp;quot;type&amp;quot;: &amp;quot;Feature&amp;quot;, &amp;quot;id&amp;quot;: &amp;quot;55df34f17d65cb39ee9865df&amp;quot;, &amp;quot;properties&amp;quot;: {&amp;quot;feature_type&amp;quot;: &amp;quot;location&amp;quot;, &amp;quot;fmt_time&amp;quot;: &amp;quot;2015-08-27 08:29:52.397000-07:00&amp;quot;, &amp;quot;altitude&amp;quot;: 0, &amp;quot;ts&amp;quot;: 1440689392.397, &amp;quot;longitude&amp;quot;: -122.084105, &amp;quot;latitude&amp;quot;: 37.4034399, &amp;quot;heading&amp;quot;: 0, &amp;quot;sensed_speed&amp;quot;: 0, &amp;quot;accuracy&amp;quot;: 36.976}}, {&amp;quot;geometry&amp;quot;: {&amp;quot;type&amp;quot;: &amp;quot;Point&amp;quot;, &amp;quot;coordinates&amp;quot;: [-122.0835641, 37.4034802]}, &amp;quot;type&amp;quot;: &amp;quot;Feature&amp;quot;, &amp;quot;id&amp;quot;: &amp;quot;55df34f17d65cb39ee9865e2&amp;quot;, &amp;quot;properties&amp;quot;: {&amp;quot;feature_type&amp;quot;: &amp;quot;location&amp;quot;, &amp;quot;fmt_time&amp;quot;: &amp;quot;2015-08-27 08:30:08.302000-07:00&amp;quot;, &amp;quot;altitude&amp;quot;: 0, &amp;quot;ts&amp;quot;: 1440689408.302, &amp;quot;longitude&amp;quot;: -122.0835641, &amp;quot;latitude&amp;quot;: 37.4034802, &amp;quot;heading&amp;quot;: 0, &amp;quot;sensed_speed&amp;quot;: 0, &amp;quot;accuracy&amp;quot;: 30.0}}]}, {&amp;quot;geometry&amp;quot;: {&amp;quot;type&amp;quot;: &amp;quot;LineString&amp;quot;, &amp;quot;coordinates&amp;quot;: [[-122.0845296, 37.4034667], [-122.0844223, 37.4033752], [-122.0838277, 37.4034065], [-122.084105, 37.4034399], [-122.0835641, 37.4034802]]}, &amp;quot;type&amp;quot;: &amp;quot;Feature&amp;quot;, &amp;quot;id&amp;quot;: &amp;quot;5603ae10f6858f0cbbb60582&amp;quot;, &amp;quot;properties&amp;quot;: {&amp;quot;feature_type&amp;quot;: &amp;quot;section&amp;quot;, &amp;quot;sensed_mode&amp;quot;: &amp;quot;MotionTypes.ON_FOOT&amp;quot;, &amp;quot;end_ts&amp;quot;: 1440689408.302, &amp;quot;start_ts&amp;quot;: 1440689296.912, &amp;quot;start_fmt_time&amp;quot;: &amp;quot;2015-08-27 08:28:16.912000-07:00&amp;quot;, &amp;quot;source&amp;quot;: &amp;quot;SmoothedHighConfidenceMotion&amp;quot;, &amp;quot;end_fmt_time&amp;quot;: &amp;quot;2015-08-27 08:30:08.302000-07:00&amp;quot;, &amp;quot;duration&amp;quot;: 111.39000010490417}}]}]}'))})\n",
        "          .await(makeMap)\n",
        "\n",
        "      function onEachFeature(feature, layer) {\n",
        "          // does this feature have a property named popupContent?\n",
        "          if (feature.properties &amp;&amp; feature.properties.popupContent) {\n",
        "              layer.bindPopup(feature.properties.popupContent);\n",
        "              }\n",
        "          };\n",
        "\n",
        "      function makeMap(error, gjson_1) {\n",
        "\n",
        "          \n",
        "\n",
        "          \n",
        "\n",
        "          function matchKey(datapoint, key_variable){\n",
        "              if (typeof key_variable[0][datapoint] === 'undefined') {\n",
        "                  return null;\n",
        "              }\n",
        "              else {\n",
        "                  return parseFloat(key_variable[0][datapoint]);\n",
        "              };\n",
        "          };\n",
        "\n",
        "          \n",
        "\n",
        "          var map = L.map('map').setView([0, 0], 1);\n",
        "\n",
        "          L.tileLayer('https://{s}.tile.openstreetmap.org/{z}/{x}/{y}.png', {\n",
        "              maxZoom: 18,\n",
        "              minZoom: 1,\n",
        "              attribution: 'Map data (c) &lt;a href=&amp;quot;http://openstreetmap.org&amp;quot;&gt;OpenStreetMap&lt;/a&gt; contributors'\n",
        "          }).addTo(map);\n",
        "\n",
        "          \n",
        "          function style_1(feature) {\n",
        "    return {\n",
        "        fillColor: 'blue',\n",
        "        weight: 1,\n",
        "        opacity: 1,\n",
        "        color: 'black',\n",
        "        fillOpacity: 0.6\n",
        "    };\n",
        "}\n",
        "          \n",
        "\n",
        "          \n",
        "          gJson_layer_1 = L.geoJson(gjson_1, {style: style_1,onEachFeature: onEachFeature}).addTo(map)\n",
        "          \n",
        "\n",
        "          \n",
        "\n",
        "          \n",
        "\n",
        "          \n",
        "\n",
        "          \n",
        "\n",
        "          \n",
        "\n",
        "          \n",
        "\n",
        "          var autobounds = L.featureGroup([]).getBounds()\n",
        "\n",
        "\n",
        "\n",
        "\n",
        "\n",
        "map.fitBounds(autobounds,\n",
        "    {&amp;quot;padding&amp;quot;: [30, 30]}\n",
        ");\n",
        "\n",
        "      };\n",
        "\n",
        "   &lt;/script&gt;\n",
        "&lt;/body&gt;&quot; style=&quot;width: 100%; height: 510px; border: none&quot;&gt;&lt;/iframe&gt;</td></tr>\n",
        "<tr><td>&lt;iframe srcdoc=&quot;&lt;!DOCTYPE html&gt;\n",
        "&lt;head&gt;\n",
        "   &lt;meta http-equiv=&amp;quot;content-type&amp;quot; content=&amp;quot;text/html; charset=UTF-8&amp;quot; /&gt;\n",
        "   &lt;link rel=&amp;quot;stylesheet&amp;quot; href=&amp;quot;https://cdnjs.cloudflare.com/ajax/libs/leaflet/0.7.3/leaflet.css&amp;quot; /&gt;\n",
        "   &lt;script src=&amp;quot;https://cdnjs.cloudflare.com/ajax/libs/leaflet/0.7.3/leaflet.js&amp;quot;&gt;&lt;/script&gt;\n",
        "   &lt;script src=&amp;quot;https://cdnjs.cloudflare.com/ajax/libs/d3/3.5.5/d3.min.js&amp;quot; charset=&amp;quot;utf-8&amp;quot;&gt;&lt;/script&gt;\n",
        "   &lt;script src=&amp;quot;https://cdnjs.cloudflare.com/ajax/libs/queue-async/1.0.7/queue.min.js&amp;quot;&gt;&lt;/script&gt;\n",
        "\n",
        "   \n",
        "   \n",
        "   \n",
        "   \n",
        "\n",
        "   &lt;style&gt;\n",
        "\n",
        "      html, body {\n",
        "        width: 100%;\n",
        "        height: 100%;\n",
        "        margin: 0;\n",
        "        padding: 0;\n",
        "      }\n",
        "\n",
        "      .legend {\n",
        "          padding: 0px 0px;\n",
        "          font: 10px sans-serif;\n",
        "          background: white;\n",
        "          background: rgba(255,255,255,0.8);\n",
        "          box-shadow: 0 0 15px rgba(0,0,0,0.2);\n",
        "          border-radius: 5px;\n",
        "      }\n",
        "\n",
        "      .key path {\n",
        "        display: none;\n",
        "      }\n",
        "\n",
        "   &lt;/style&gt;\n",
        "&lt;/head&gt;\n",
        "\n",
        "&lt;body&gt;\n",
        "\n",
        "   &lt;div id=&amp;quot;map&amp;quot; style=&amp;quot;width: 100%; height: 100%&amp;quot;&gt;&lt;/div&gt;\n",
        "\n",
        "   &lt;script&gt;\n",
        "\n",
        "      queue()\n",
        "          .defer(function(callback){callback(null, JSON.parse('{&amp;quot;type&amp;quot;: &amp;quot;FeatureCollection&amp;quot;, &amp;quot;features&amp;quot;: [{&amp;quot;geometry&amp;quot;: {&amp;quot;type&amp;quot;: &amp;quot;Point&amp;quot;, &amp;quot;coordinates&amp;quot;: [-122.0835641, 37.4034802]}, &amp;quot;type&amp;quot;: &amp;quot;Feature&amp;quot;, &amp;quot;id&amp;quot;: &amp;quot;5603ae0cf6858f0cbbb6054f&amp;quot;, &amp;quot;properties&amp;quot;: {&amp;quot;enter_fmt_time&amp;quot;: &amp;quot;2015-08-27 08:30:08.302000-07:00&amp;quot;, &amp;quot;feature_type&amp;quot;: &amp;quot;place&amp;quot;, &amp;quot;exit_fmt_time&amp;quot;: &amp;quot;2015-08-27 08:34:22.943000-07:00&amp;quot;, &amp;quot;source&amp;quot;: &amp;quot;DwellSegmentationTimeFilter&amp;quot;, &amp;quot;enter_ts&amp;quot;: 1440689408.302, &amp;quot;duration&amp;quot;: 254.64100003242493, &amp;quot;exit_ts&amp;quot;: 1440689662.943}}, {&amp;quot;geometry&amp;quot;: {&amp;quot;type&amp;quot;: &amp;quot;Point&amp;quot;, &amp;quot;coordinates&amp;quot;: [-122.0778188, 37.3957356]}, &amp;quot;type&amp;quot;: &amp;quot;Feature&amp;quot;, &amp;quot;id&amp;quot;: &amp;quot;5603ae0cf6858f0cbbb60551&amp;quot;, &amp;quot;properties&amp;quot;: {&amp;quot;enter_fmt_time&amp;quot;: &amp;quot;2015-08-27 08:41:16.784000-07:00&amp;quot;, &amp;quot;feature_type&amp;quot;: &amp;quot;place&amp;quot;, &amp;quot;exit_fmt_time&amp;quot;: &amp;quot;2015-08-27 08:51:58.768000-07:00&amp;quot;, &amp;quot;source&amp;quot;: &amp;quot;DwellSegmentationTimeFilter&amp;quot;, &amp;quot;enter_ts&amp;quot;: 1440690076.784, &amp;quot;duration&amp;quot;: 641.9839999675751, &amp;quot;exit_ts&amp;quot;: 1440690718.768}}, {&amp;quot;type&amp;quot;: &amp;quot;FeatureCollection&amp;quot;, &amp;quot;features&amp;quot;: [{&amp;quot;type&amp;quot;: &amp;quot;FeatureCollection&amp;quot;, &amp;quot;features&amp;quot;: [{&amp;quot;geometry&amp;quot;: {&amp;quot;type&amp;quot;: &amp;quot;Point&amp;quot;, &amp;quot;coordinates&amp;quot;: [-122.0822821, 37.4025401]}, &amp;quot;type&amp;quot;: &amp;quot;Feature&amp;quot;, &amp;quot;id&amp;quot;: &amp;quot;55df34f27d65cb39ee9865f6&amp;quot;, &amp;quot;properties&amp;quot;: {&amp;quot;feature_type&amp;quot;: &amp;quot;location&amp;quot;, &amp;quot;fmt_time&amp;quot;: &amp;quot;2015-08-27 08:34:22.943000-07:00&amp;quot;, &amp;quot;altitude&amp;quot;: 0, &amp;quot;ts&amp;quot;: 1440689662.943, &amp;quot;longitude&amp;quot;: -122.0822821, &amp;quot;latitude&amp;quot;: 37.4025401, &amp;quot;heading&amp;quot;: 0, &amp;quot;sensed_speed&amp;quot;: 0, &amp;quot;accuracy&amp;quot;: 114.922}}, {&amp;quot;geometry&amp;quot;: {&amp;quot;type&amp;quot;: &amp;quot;Point&amp;quot;, &amp;quot;coordinates&amp;quot;: [-122.0822052, 37.4025862]}, &amp;quot;type&amp;quot;: &amp;quot;Feature&amp;quot;, &amp;quot;id&amp;quot;: &amp;quot;55df34f27d65cb39ee9865f9&amp;quot;, &amp;quot;properties&amp;quot;: {&amp;quot;feature_type&amp;quot;: &amp;quot;location&amp;quot;, &amp;quot;fmt_time&amp;quot;: &amp;quot;2015-08-27 08:34:38.861000-07:00&amp;quot;, &amp;quot;altitude&amp;quot;: 0, &amp;quot;ts&amp;quot;: 1440689678.861, &amp;quot;longitude&amp;quot;: -122.0822052, &amp;quot;latitude&amp;quot;: 37.4025862, &amp;quot;heading&amp;quot;: 0, &amp;quot;sensed_speed&amp;quot;: 0, &amp;quot;accuracy&amp;quot;: 30.0}}, {&amp;quot;geometry&amp;quot;: {&amp;quot;type&amp;quot;: &amp;quot;Point&amp;quot;, &amp;quot;coordinates&amp;quot;: [-122.0802115, 37.4020942]}, &amp;quot;type&amp;quot;: &amp;quot;Feature&amp;quot;, &amp;quot;id&amp;quot;: &amp;quot;55df34f27d65cb39ee9865fb&amp;quot;, &amp;quot;properties&amp;quot;: {&amp;quot;feature_type&amp;quot;: &amp;quot;location&amp;quot;, &amp;quot;fmt_time&amp;quot;: &amp;quot;2015-08-27 08:35:10.668000-07:00&amp;quot;, &amp;quot;altitude&amp;quot;: 0, &amp;quot;ts&amp;quot;: 1440689710.668, &amp;quot;longitude&amp;quot;: -122.0802115, &amp;quot;latitude&amp;quot;: 37.4020942, &amp;quot;heading&amp;quot;: 0, &amp;quot;sensed_speed&amp;quot;: 0, &amp;quot;accuracy&amp;quot;: 57.313}}, {&amp;quot;geometry&amp;quot;: {&amp;quot;type&amp;quot;: &amp;quot;Point&amp;quot;, &amp;quot;coordinates&amp;quot;: [-122.079131, 37.4015656]}, &amp;quot;type&amp;quot;: &amp;quot;Feature&amp;quot;, &amp;quot;id&amp;quot;: &amp;quot;55df34f37d65cb39ee9865fe&amp;quot;, &amp;quot;properties&amp;quot;: {&amp;quot;feature_type&amp;quot;: &amp;quot;location&amp;quot;, &amp;quot;fmt_time&amp;quot;: &amp;quot;2015-08-27 08:35:42.463000-07:00&amp;quot;, &amp;quot;altitude&amp;quot;: 0, &amp;quot;ts&amp;quot;: 1440689742.463, &amp;quot;longitude&amp;quot;: -122.079131, &amp;quot;latitude&amp;quot;: 37.4015656, &amp;quot;heading&amp;quot;: 0, &amp;quot;sensed_speed&amp;quot;: 0, &amp;quot;accuracy&amp;quot;: 40.5}}, {&amp;quot;geometry&amp;quot;: {&amp;quot;type&amp;quot;: &amp;quot;Point&amp;quot;, &amp;quot;coordinates&amp;quot;: [-122.079139, 37.4015842]}, &amp;quot;type&amp;quot;: &amp;quot;Feature&amp;quot;, &amp;quot;id&amp;quot;: &amp;quot;55df34f37d65cb39ee986600&amp;quot;, &amp;quot;properties&amp;quot;: {&amp;quot;feature_type&amp;quot;: &amp;quot;location&amp;quot;, &amp;quot;fmt_time&amp;quot;: &amp;quot;2015-08-27 08:36:14.278000-07:00&amp;quot;, &amp;quot;altitude&amp;quot;: 0, &amp;quot;ts&amp;quot;: 1440689774.278, &amp;quot;longitude&amp;quot;: -122.079139, &amp;quot;latitude&amp;quot;: 37.4015842, &amp;quot;heading&amp;quot;: 0, &amp;quot;sensed_speed&amp;quot;: 0, &amp;quot;accuracy&amp;quot;: 45.0}}, {&amp;quot;geometry&amp;quot;: {&amp;quot;type&amp;quot;: &amp;quot;Point&amp;quot;, &amp;quot;coordinates&amp;quot;: [-122.0784617, 37.401399]}, &amp;quot;type&amp;quot;: &amp;quot;Feature&amp;quot;, &amp;quot;id&amp;quot;: &amp;quot;55df34f37d65cb39ee986603&amp;quot;, &amp;quot;properties&amp;quot;: {&amp;quot;feature_type&amp;quot;: &amp;quot;location&amp;quot;, &amp;quot;fmt_time&amp;quot;: &amp;quot;2015-08-27 08:36:46.124000-07:00&amp;quot;, &amp;quot;altitude&amp;quot;: 0, &amp;quot;ts&amp;quot;: 1440689806.124, &amp;quot;longitude&amp;quot;: -122.0784617, &amp;quot;latitude&amp;quot;: 37.401399, &amp;quot;heading&amp;quot;: 0, &amp;quot;sensed_speed&amp;quot;: 0, &amp;quot;accuracy&amp;quot;: 130.54}}, {&amp;quot;geometry&amp;quot;: {&amp;quot;type&amp;quot;: &amp;quot;Point&amp;quot;, &amp;quot;coordinates&amp;quot;: [-122.0779973, 37.3993224]}, &amp;quot;type&amp;quot;: &amp;quot;Feature&amp;quot;, &amp;quot;id&amp;quot;: &amp;quot;55df34f37d65cb39ee986605&amp;quot;, &amp;quot;properties&amp;quot;: {&amp;quot;feature_type&amp;quot;: &amp;quot;location&amp;quot;, &amp;quot;fmt_time&amp;quot;: &amp;quot;2015-08-27 08:37:17.952000-07:00&amp;quot;, &amp;quot;altitude&amp;quot;: 0, &amp;quot;ts&amp;quot;: 1440689837.952, &amp;quot;longitude&amp;quot;: -122.0779973, &amp;quot;latitude&amp;quot;: 37.3993224, &amp;quot;heading&amp;quot;: 0, &amp;quot;sensed_speed&amp;quot;: 0, &amp;quot;accuracy&amp;quot;: 55.5}}, {&amp;quot;geometry&amp;quot;: {&amp;quot;type&amp;quot;: &amp;quot;Point&amp;quot;, &amp;quot;coordinates&amp;quot;: [-122.0772994, 37.3981887]}, &amp;quot;type&amp;quot;: &amp;quot;Feature&amp;quot;, &amp;quot;id&amp;quot;: &amp;quot;55df34f37d65cb39ee986608&amp;quot;, &amp;quot;properties&amp;quot;: {&amp;quot;feature_type&amp;quot;: &amp;quot;location&amp;quot;, &amp;quot;fmt_time&amp;quot;: &amp;quot;2015-08-27 08:37:49.779000-07:00&amp;quot;, &amp;quot;altitude&amp;quot;: 0, &amp;quot;ts&amp;quot;: 1440689869.779, &amp;quot;longitude&amp;quot;: -122.0772994, &amp;quot;latitude&amp;quot;: 37.3981887, &amp;quot;heading&amp;quot;: 0, &amp;quot;sensed_speed&amp;quot;: 0, &amp;quot;accuracy&amp;quot;: 38.568}}, {&amp;quot;geometry&amp;quot;: {&amp;quot;type&amp;quot;: &amp;quot;Point&amp;quot;, &amp;quot;coordinates&amp;quot;: [-122.076315, 37.3978536]}, &amp;quot;type&amp;quot;: &amp;quot;Feature&amp;quot;, &amp;quot;id&amp;quot;: &amp;quot;55df34f37d65cb39ee98660b&amp;quot;, &amp;quot;properties&amp;quot;: {&amp;quot;feature_type&amp;quot;: &amp;quot;location&amp;quot;, &amp;quot;fmt_time&amp;quot;: &amp;quot;2015-08-27 08:38:21.628000-07:00&amp;quot;, &amp;quot;altitude&amp;quot;: 0, &amp;quot;ts&amp;quot;: 1440689901.628, &amp;quot;longitude&amp;quot;: -122.076315, &amp;quot;latitude&amp;quot;: 37.3978536, &amp;quot;heading&amp;quot;: 0, &amp;quot;sensed_speed&amp;quot;: 0, &amp;quot;accuracy&amp;quot;: 36.0}}, {&amp;quot;geometry&amp;quot;: {&amp;quot;type&amp;quot;: &amp;quot;Point&amp;quot;, &amp;quot;coordinates&amp;quot;: [-122.077789, 37.3958147]}, &amp;quot;type&amp;quot;: &amp;quot;Feature&amp;quot;, &amp;quot;id&amp;quot;: &amp;quot;55df34f47d65cb39ee98660f&amp;quot;, &amp;quot;properties&amp;quot;: {&amp;quot;feature_type&amp;quot;: &amp;quot;location&amp;quot;, &amp;quot;fmt_time&amp;quot;: &amp;quot;2015-08-27 08:39:09.350000-07:00&amp;quot;, &amp;quot;altitude&amp;quot;: 0, &amp;quot;ts&amp;quot;: 1440689949.35, &amp;quot;longitude&amp;quot;: -122.077789, &amp;quot;latitude&amp;quot;: 37.3958147, &amp;quot;heading&amp;quot;: 0, &amp;quot;sensed_speed&amp;quot;: 0, &amp;quot;accuracy&amp;quot;: 127.011}}, {&amp;quot;geometry&amp;quot;: {&amp;quot;type&amp;quot;: &amp;quot;Point&amp;quot;, &amp;quot;coordinates&amp;quot;: [-122.0778485, 37.3957377]}, &amp;quot;type&amp;quot;: &amp;quot;Feature&amp;quot;, &amp;quot;id&amp;quot;: &amp;quot;55df34f47d65cb39ee986612&amp;quot;, &amp;quot;properties&amp;quot;: {&amp;quot;feature_type&amp;quot;: &amp;quot;location&amp;quot;, &amp;quot;fmt_time&amp;quot;: &amp;quot;2015-08-27 08:39:49.016000-07:00&amp;quot;, &amp;quot;altitude&amp;quot;: 0, &amp;quot;ts&amp;quot;: 1440689989.016, &amp;quot;longitude&amp;quot;: -122.0778485, &amp;quot;latitude&amp;quot;: 37.3957377, &amp;quot;heading&amp;quot;: 0, &amp;quot;sensed_speed&amp;quot;: 0, &amp;quot;accuracy&amp;quot;: 105.29}}, {&amp;quot;geometry&amp;quot;: {&amp;quot;type&amp;quot;: &amp;quot;Point&amp;quot;, &amp;quot;coordinates&amp;quot;: [-122.0778519, 37.3957568]}, &amp;quot;type&amp;quot;: &amp;quot;Feature&amp;quot;, &amp;quot;id&amp;quot;: &amp;quot;55df34f47d65cb39ee986614&amp;quot;, &amp;quot;properties&amp;quot;: {&amp;quot;feature_type&amp;quot;: &amp;quot;location&amp;quot;, &amp;quot;fmt_time&amp;quot;: &amp;quot;2015-08-27 08:40:12.991000-07:00&amp;quot;, &amp;quot;altitude&amp;quot;: 0, &amp;quot;ts&amp;quot;: 1440690012.991, &amp;quot;longitude&amp;quot;: -122.0778519, &amp;quot;latitude&amp;quot;: 37.3957568, &amp;quot;heading&amp;quot;: 0, &amp;quot;sensed_speed&amp;quot;: 0, &amp;quot;accuracy&amp;quot;: 103.911}}, {&amp;quot;geometry&amp;quot;: {&amp;quot;type&amp;quot;: &amp;quot;Point&amp;quot;, &amp;quot;coordinates&amp;quot;: [-122.0778095, 37.3957252]}, &amp;quot;type&amp;quot;: &amp;quot;Feature&amp;quot;, &amp;quot;id&amp;quot;: &amp;quot;55df34f47d65cb39ee986617&amp;quot;, &amp;quot;properties&amp;quot;: {&amp;quot;feature_type&amp;quot;: &amp;quot;location&amp;quot;, &amp;quot;fmt_time&amp;quot;: &amp;quot;2015-08-27 08:40:52.880000-07:00&amp;quot;, &amp;quot;altitude&amp;quot;: 0, &amp;quot;ts&amp;quot;: 1440690052.88, &amp;quot;longitude&amp;quot;: -122.0778095, &amp;quot;latitude&amp;quot;: 37.3957252, &amp;quot;heading&amp;quot;: 0, &amp;quot;sensed_speed&amp;quot;: 0, &amp;quot;accuracy&amp;quot;: 36.0}}, {&amp;quot;geometry&amp;quot;: {&amp;quot;type&amp;quot;: &amp;quot;Point&amp;quot;, &amp;quot;coordinates&amp;quot;: [-122.0778188, 37.3957356]}, &amp;quot;type&amp;quot;: &amp;quot;Feature&amp;quot;, &amp;quot;id&amp;quot;: &amp;quot;55df34f47d65cb39ee98661a&amp;quot;, &amp;quot;properties&amp;quot;: {&amp;quot;feature_type&amp;quot;: &amp;quot;location&amp;quot;, &amp;quot;fmt_time&amp;quot;: &amp;quot;2015-08-27 08:41:16.784000-07:00&amp;quot;, &amp;quot;altitude&amp;quot;: 0, &amp;quot;ts&amp;quot;: 1440690076.784, &amp;quot;longitude&amp;quot;: -122.0778188, &amp;quot;latitude&amp;quot;: 37.3957356, &amp;quot;heading&amp;quot;: 0, &amp;quot;sensed_speed&amp;quot;: 0, &amp;quot;accuracy&amp;quot;: 30.0}}]}, {&amp;quot;geometry&amp;quot;: {&amp;quot;type&amp;quot;: &amp;quot;LineString&amp;quot;, &amp;quot;coordinates&amp;quot;: [[-122.0835641, 37.4034802], [-122.0822821, 37.4025401], [-122.0822052, 37.4025862], [-122.0802115, 37.4020942], [-122.079131, 37.4015656], [-122.079139, 37.4015842], [-122.0784617, 37.401399], [-122.0779973, 37.3993224], [-122.0772994, 37.3981887], [-122.076315, 37.3978536], [-122.077789, 37.3958147], [-122.0778485, 37.3957377], [-122.0778519, 37.3957568], [-122.0778095, 37.3957252], [-122.0778188, 37.3957356]]}, &amp;quot;type&amp;quot;: &amp;quot;Feature&amp;quot;, &amp;quot;id&amp;quot;: &amp;quot;5603ae10f6858f0cbbb60584&amp;quot;, &amp;quot;properties&amp;quot;: {&amp;quot;feature_type&amp;quot;: &amp;quot;section&amp;quot;, &amp;quot;sensed_mode&amp;quot;: &amp;quot;MotionTypes.BICYCLING&amp;quot;, &amp;quot;end_ts&amp;quot;: 1440690076.784, &amp;quot;start_ts&amp;quot;: 1440689662.943, &amp;quot;start_fmt_time&amp;quot;: &amp;quot;2015-08-27 08:34:22.943000-07:00&amp;quot;, &amp;quot;source&amp;quot;: &amp;quot;SmoothedHighConfidenceMotion&amp;quot;, &amp;quot;end_fmt_time&amp;quot;: &amp;quot;2015-08-27 08:41:16.784000-07:00&amp;quot;, &amp;quot;duration&amp;quot;: 413.84099984169006}}]}]}'))})\n",
        "          .await(makeMap)\n",
        "\n",
        "      function onEachFeature(feature, layer) {\n",
        "          // does this feature have a property named popupContent?\n",
        "          if (feature.properties &amp;&amp; feature.properties.popupContent) {\n",
        "              layer.bindPopup(feature.properties.popupContent);\n",
        "              }\n",
        "          };\n",
        "\n",
        "      function makeMap(error, gjson_1) {\n",
        "\n",
        "          \n",
        "\n",
        "          \n",
        "\n",
        "          function matchKey(datapoint, key_variable){\n",
        "              if (typeof key_variable[0][datapoint] === 'undefined') {\n",
        "                  return null;\n",
        "              }\n",
        "              else {\n",
        "                  return parseFloat(key_variable[0][datapoint]);\n",
        "              };\n",
        "          };\n",
        "\n",
        "          \n",
        "\n",
        "          var map = L.map('map').setView([0, 0], 1);\n",
        "\n",
        "          L.tileLayer('https://{s}.tile.openstreetmap.org/{z}/{x}/{y}.png', {\n",
        "              maxZoom: 18,\n",
        "              minZoom: 1,\n",
        "              attribution: 'Map data (c) &lt;a href=&amp;quot;http://openstreetmap.org&amp;quot;&gt;OpenStreetMap&lt;/a&gt; contributors'\n",
        "          }).addTo(map);\n",
        "\n",
        "          \n",
        "          function style_1(feature) {\n",
        "    return {\n",
        "        fillColor: 'blue',\n",
        "        weight: 1,\n",
        "        opacity: 1,\n",
        "        color: 'black',\n",
        "        fillOpacity: 0.6\n",
        "    };\n",
        "}\n",
        "          \n",
        "\n",
        "          \n",
        "          gJson_layer_1 = L.geoJson(gjson_1, {style: style_1,onEachFeature: onEachFeature}).addTo(map)\n",
        "          \n",
        "\n",
        "          \n",
        "\n",
        "          \n",
        "\n",
        "          \n",
        "\n",
        "          \n",
        "\n",
        "          \n",
        "\n",
        "          \n",
        "\n",
        "          var autobounds = L.featureGroup([]).getBounds()\n",
        "\n",
        "\n",
        "\n",
        "\n",
        "\n",
        "map.fitBounds(autobounds,\n",
        "    {&amp;quot;padding&amp;quot;: [30, 30]}\n",
        ");\n",
        "\n",
        "      };\n",
        "\n",
        "   &lt;/script&gt;\n",
        "&lt;/body&gt;&quot; style=&quot;width: 100%; height: 510px; border: none&quot;&gt;&lt;/iframe&gt;</td></tr>\n",
        "<tr><td>&lt;iframe srcdoc=&quot;&lt;!DOCTYPE html&gt;\n",
        "&lt;head&gt;\n",
        "   &lt;meta http-equiv=&amp;quot;content-type&amp;quot; content=&amp;quot;text/html; charset=UTF-8&amp;quot; /&gt;\n",
        "   &lt;link rel=&amp;quot;stylesheet&amp;quot; href=&amp;quot;https://cdnjs.cloudflare.com/ajax/libs/leaflet/0.7.3/leaflet.css&amp;quot; /&gt;\n",
        "   &lt;script src=&amp;quot;https://cdnjs.cloudflare.com/ajax/libs/leaflet/0.7.3/leaflet.js&amp;quot;&gt;&lt;/script&gt;\n",
        "   &lt;script src=&amp;quot;https://cdnjs.cloudflare.com/ajax/libs/d3/3.5.5/d3.min.js&amp;quot; charset=&amp;quot;utf-8&amp;quot;&gt;&lt;/script&gt;\n",
        "   &lt;script src=&amp;quot;https://cdnjs.cloudflare.com/ajax/libs/queue-async/1.0.7/queue.min.js&amp;quot;&gt;&lt;/script&gt;\n",
        "\n",
        "   \n",
        "   \n",
        "   \n",
        "   \n",
        "\n",
        "   &lt;style&gt;\n",
        "\n",
        "      html, body {\n",
        "        width: 100%;\n",
        "        height: 100%;\n",
        "        margin: 0;\n",
        "        padding: 0;\n",
        "      }\n",
        "\n",
        "      .legend {\n",
        "          padding: 0px 0px;\n",
        "          font: 10px sans-serif;\n",
        "          background: white;\n",
        "          background: rgba(255,255,255,0.8);\n",
        "          box-shadow: 0 0 15px rgba(0,0,0,0.2);\n",
        "          border-radius: 5px;\n",
        "      }\n",
        "\n",
        "      .key path {\n",
        "        display: none;\n",
        "      }\n",
        "\n",
        "   &lt;/style&gt;\n",
        "&lt;/head&gt;\n",
        "\n",
        "&lt;body&gt;\n",
        "\n",
        "   &lt;div id=&amp;quot;map&amp;quot; style=&amp;quot;width: 100%; height: 100%&amp;quot;&gt;&lt;/div&gt;\n",
        "\n",
        "   &lt;script&gt;\n",
        "\n",
        "      queue()\n",
        "          .defer(function(callback){callback(null, JSON.parse('{&amp;quot;type&amp;quot;: &amp;quot;FeatureCollection&amp;quot;, &amp;quot;features&amp;quot;: [{&amp;quot;geometry&amp;quot;: {&amp;quot;type&amp;quot;: &amp;quot;Point&amp;quot;, &amp;quot;coordinates&amp;quot;: [-122.0778188, 37.3957356]}, &amp;quot;type&amp;quot;: &amp;quot;Feature&amp;quot;, &amp;quot;id&amp;quot;: &amp;quot;5603ae0cf6858f0cbbb60551&amp;quot;, &amp;quot;properties&amp;quot;: {&amp;quot;enter_fmt_time&amp;quot;: &amp;quot;2015-08-27 08:41:16.784000-07:00&amp;quot;, &amp;quot;feature_type&amp;quot;: &amp;quot;place&amp;quot;, &amp;quot;exit_fmt_time&amp;quot;: &amp;quot;2015-08-27 08:51:58.768000-07:00&amp;quot;, &amp;quot;source&amp;quot;: &amp;quot;DwellSegmentationTimeFilter&amp;quot;, &amp;quot;enter_ts&amp;quot;: 1440690076.784, &amp;quot;duration&amp;quot;: 641.9839999675751, &amp;quot;exit_ts&amp;quot;: 1440690718.768}}, {&amp;quot;geometry&amp;quot;: {&amp;quot;type&amp;quot;: &amp;quot;Point&amp;quot;, &amp;quot;coordinates&amp;quot;: [-122.3872605, 37.5995036]}, &amp;quot;type&amp;quot;: &amp;quot;Feature&amp;quot;, &amp;quot;id&amp;quot;: &amp;quot;5603ae0cf6858f0cbbb60553&amp;quot;, &amp;quot;properties&amp;quot;: {&amp;quot;enter_fmt_time&amp;quot;: &amp;quot;2015-08-27 09:53:44.894000-07:00&amp;quot;, &amp;quot;feature_type&amp;quot;: &amp;quot;place&amp;quot;, &amp;quot;exit_fmt_time&amp;quot;: &amp;quot;2015-08-27 10:05:52.989000-07:00&amp;quot;, &amp;quot;source&amp;quot;: &amp;quot;DwellSegmentationTimeFilter&amp;quot;, &amp;quot;enter_ts&amp;quot;: 1440694424.894, &amp;quot;duration&amp;quot;: 728.0950000286102, &amp;quot;exit_ts&amp;quot;: 1440695152.989}}, {&amp;quot;geometry&amp;quot;: {&amp;quot;type&amp;quot;: &amp;quot;Point&amp;quot;, &amp;quot;coordinates&amp;quot;: [-122.3872958, 37.5992574]}, &amp;quot;type&amp;quot;: &amp;quot;Feature&amp;quot;, &amp;quot;id&amp;quot;: &amp;quot;5603ae10f6858f0cbbb60587&amp;quot;, &amp;quot;properties&amp;quot;: {&amp;quot;enter_fmt_time&amp;quot;: &amp;quot;2015-08-27 09:52:14.783000-07:00&amp;quot;, &amp;quot;feature_type&amp;quot;: &amp;quot;stop&amp;quot;, &amp;quot;exit_fmt_time&amp;quot;: &amp;quot;2015-08-27 09:52:44.740000-07:00&amp;quot;, &amp;quot;source&amp;quot;: &amp;quot;SmoothedHighConfidenceMotion&amp;quot;, &amp;quot;enter_ts&amp;quot;: 1440694334.783, &amp;quot;duration&amp;quot;: 29.957000017166138, &amp;quot;exit_ts&amp;quot;: 1440694364.74}}, {&amp;quot;type&amp;quot;: &amp;quot;FeatureCollection&amp;quot;, &amp;quot;features&amp;quot;: [{&amp;quot;type&amp;quot;: &amp;quot;FeatureCollection&amp;quot;, &amp;quot;features&amp;quot;: [{&amp;quot;geometry&amp;quot;: {&amp;quot;type&amp;quot;: &amp;quot;Point&amp;quot;, &amp;quot;coordinates&amp;quot;: [-122.0761742, 37.3941417]}, &amp;quot;type&amp;quot;: &amp;quot;Feature&amp;quot;, &amp;quot;id&amp;quot;: &amp;quot;55df34f67d65cb39ee986630&amp;quot;, &amp;quot;properties&amp;quot;: {&amp;quot;feature_type&amp;quot;: &amp;quot;location&amp;quot;, &amp;quot;fmt_time&amp;quot;: &amp;quot;2015-08-27 08:51:58.768000-07:00&amp;quot;, &amp;quot;altitude&amp;quot;: 0, &amp;quot;ts&amp;quot;: 1440690718.768, &amp;quot;longitude&amp;quot;: -122.0761742, &amp;quot;latitude&amp;quot;: 37.3941417, &amp;quot;heading&amp;quot;: 0, &amp;quot;sensed_speed&amp;quot;: 0, &amp;quot;accuracy&amp;quot;: 131.293}}, {&amp;quot;geometry&amp;quot;: {&amp;quot;type&amp;quot;: &amp;quot;Point&amp;quot;, &amp;quot;coordinates&amp;quot;: [-122.0776881, 37.395656]}, &amp;quot;type&amp;quot;: &amp;quot;Feature&amp;quot;, &amp;quot;id&amp;quot;: &amp;quot;55df34f67d65cb39ee986633&amp;quot;, &amp;quot;properties&amp;quot;: {&amp;quot;feature_type&amp;quot;: &amp;quot;location&amp;quot;, &amp;quot;fmt_time&amp;quot;: &amp;quot;2015-08-27 08:52:32.859000-07:00&amp;quot;, &amp;quot;altitude&amp;quot;: 0, &amp;quot;ts&amp;quot;: 1440690752.859, &amp;quot;longitude&amp;quot;: -122.0776881, &amp;quot;latitude&amp;quot;: 37.395656, &amp;quot;heading&amp;quot;: 0, &amp;quot;sensed_speed&amp;quot;: 0, &amp;quot;accuracy&amp;quot;: 174.522}}, {&amp;quot;geometry&amp;quot;: {&amp;quot;type&amp;quot;: &amp;quot;Point&amp;quot;, &amp;quot;coordinates&amp;quot;: [-122.0762038, 37.3941508]}, &amp;quot;type&amp;quot;: &amp;quot;Feature&amp;quot;, &amp;quot;id&amp;quot;: &amp;quot;55df34f67d65cb39ee986636&amp;quot;, &amp;quot;properties&amp;quot;: {&amp;quot;feature_type&amp;quot;: &amp;quot;location&amp;quot;, &amp;quot;fmt_time&amp;quot;: &amp;quot;2015-08-27 08:53:03.027000-07:00&amp;quot;, &amp;quot;altitude&amp;quot;: 0, &amp;quot;ts&amp;quot;: 1440690783.027, &amp;quot;longitude&amp;quot;: -122.0762038, &amp;quot;latitude&amp;quot;: 37.3941508, &amp;quot;heading&amp;quot;: 0, &amp;quot;sensed_speed&amp;quot;: 0, &amp;quot;accuracy&amp;quot;: 30.0}}, {&amp;quot;geometry&amp;quot;: {&amp;quot;type&amp;quot;: &amp;quot;Point&amp;quot;, &amp;quot;coordinates&amp;quot;: [-122.0762217, 37.3942296]}, &amp;quot;type&amp;quot;: &amp;quot;Feature&amp;quot;, &amp;quot;id&amp;quot;: &amp;quot;55df34f67d65cb39ee986639&amp;quot;, &amp;quot;properties&amp;quot;: {&amp;quot;feature_type&amp;quot;: &amp;quot;location&amp;quot;, &amp;quot;fmt_time&amp;quot;: &amp;quot;2015-08-27 08:53:33.053000-07:00&amp;quot;, &amp;quot;altitude&amp;quot;: 0, &amp;quot;ts&amp;quot;: 1440690813.053, &amp;quot;longitude&amp;quot;: -122.0762217, &amp;quot;latitude&amp;quot;: 37.3942296, &amp;quot;heading&amp;quot;: 0, &amp;quot;sensed_speed&amp;quot;: 0, &amp;quot;accuracy&amp;quot;: 51.0}}, {&amp;quot;geometry&amp;quot;: {&amp;quot;type&amp;quot;: &amp;quot;Point&amp;quot;, &amp;quot;coordinates&amp;quot;: [-122.0776802, 37.3957268]}, &amp;quot;type&amp;quot;: &amp;quot;Feature&amp;quot;, &amp;quot;id&amp;quot;: &amp;quot;55df34f67d65cb39ee98663c&amp;quot;, &amp;quot;properties&amp;quot;: {&amp;quot;feature_type&amp;quot;: &amp;quot;location&amp;quot;, &amp;quot;fmt_time&amp;quot;: &amp;quot;2015-08-27 08:54:03.118000-07:00&amp;quot;, &amp;quot;altitude&amp;quot;: 0, &amp;quot;ts&amp;quot;: 1440690843.118, &amp;quot;longitude&amp;quot;: -122.0776802, &amp;quot;latitude&amp;quot;: 37.3957268, &amp;quot;heading&amp;quot;: 0, &amp;quot;sensed_speed&amp;quot;: 0, &amp;quot;accuracy&amp;quot;: 158.883}}, {&amp;quot;geometry&amp;quot;: {&amp;quot;type&amp;quot;: &amp;quot;Point&amp;quot;, &amp;quot;coordinates&amp;quot;: [-122.0769659, 37.3953633]}, &amp;quot;type&amp;quot;: &amp;quot;Feature&amp;quot;, &amp;quot;id&amp;quot;: &amp;quot;55df34f67d65cb39ee98663f&amp;quot;, &amp;quot;properties&amp;quot;: {&amp;quot;feature_type&amp;quot;: &amp;quot;location&amp;quot;, &amp;quot;fmt_time&amp;quot;: &amp;quot;2015-08-27 08:54:33.136000-07:00&amp;quot;, &amp;quot;altitude&amp;quot;: 0, &amp;quot;ts&amp;quot;: 1440690873.136, &amp;quot;longitude&amp;quot;: -122.0769659, &amp;quot;latitude&amp;quot;: 37.3953633, &amp;quot;heading&amp;quot;: 0, &amp;quot;sensed_speed&amp;quot;: 0, &amp;quot;accuracy&amp;quot;: 121.594}}, {&amp;quot;geometry&amp;quot;: {&amp;quot;type&amp;quot;: &amp;quot;Point&amp;quot;, &amp;quot;coordinates&amp;quot;: [-122.076151, 37.3941635]}, &amp;quot;type&amp;quot;: &amp;quot;Feature&amp;quot;, &amp;quot;id&amp;quot;: &amp;quot;55df34f77d65cb39ee986642&amp;quot;, &amp;quot;properties&amp;quot;: {&amp;quot;feature_type&amp;quot;: &amp;quot;location&amp;quot;, &amp;quot;fmt_time&amp;quot;: &amp;quot;2015-08-27 08:55:03.167000-07:00&amp;quot;, &amp;quot;altitude&amp;quot;: 0, &amp;quot;ts&amp;quot;: 1440690903.167, &amp;quot;longitude&amp;quot;: -122.076151, &amp;quot;latitude&amp;quot;: 37.3941635, &amp;quot;heading&amp;quot;: 0, &amp;quot;sensed_speed&amp;quot;: 0, &amp;quot;accuracy&amp;quot;: 30.0}}, {&amp;quot;geometry&amp;quot;: {&amp;quot;type&amp;quot;: &amp;quot;Point&amp;quot;, &amp;quot;coordinates&amp;quot;: [-122.076142, 37.3941596]}, &amp;quot;type&amp;quot;: &amp;quot;Feature&amp;quot;, &amp;quot;id&amp;quot;: &amp;quot;55df34f77d65cb39ee986645&amp;quot;, &amp;quot;properties&amp;quot;: {&amp;quot;feature_type&amp;quot;: &amp;quot;location&amp;quot;, &amp;quot;fmt_time&amp;quot;: &amp;quot;2015-08-27 08:55:33.254000-07:00&amp;quot;, &amp;quot;altitude&amp;quot;: 0, &amp;quot;ts&amp;quot;: 1440690933.254, &amp;quot;longitude&amp;quot;: -122.076142, &amp;quot;latitude&amp;quot;: 37.3941596, &amp;quot;heading&amp;quot;: 0, &amp;quot;sensed_speed&amp;quot;: 0, &amp;quot;accuracy&amp;quot;: 165.268}}, {&amp;quot;geometry&amp;quot;: {&amp;quot;type&amp;quot;: &amp;quot;Point&amp;quot;, &amp;quot;coordinates&amp;quot;: [-122.0778411, 37.3957819]}, &amp;quot;type&amp;quot;: &amp;quot;Feature&amp;quot;, &amp;quot;id&amp;quot;: &amp;quot;55df34f77d65cb39ee986647&amp;quot;, &amp;quot;properties&amp;quot;: {&amp;quot;feature_type&amp;quot;: &amp;quot;location&amp;quot;, &amp;quot;fmt_time&amp;quot;: &amp;quot;2015-08-27 08:56:03.216000-07:00&amp;quot;, &amp;quot;altitude&amp;quot;: 0, &amp;quot;ts&amp;quot;: 1440690963.216, &amp;quot;longitude&amp;quot;: -122.0778411, &amp;quot;latitude&amp;quot;: 37.3957819, &amp;quot;heading&amp;quot;: 0, &amp;quot;sensed_speed&amp;quot;: 0, &amp;quot;accuracy&amp;quot;: 40.5}}, {&amp;quot;geometry&amp;quot;: {&amp;quot;type&amp;quot;: &amp;quot;Point&amp;quot;, &amp;quot;coordinates&amp;quot;: [-122.0777656, 37.3957175]}, &amp;quot;type&amp;quot;: &amp;quot;Feature&amp;quot;, &amp;quot;id&amp;quot;: &amp;quot;55df34f77d65cb39ee98664a&amp;quot;, &amp;quot;properties&amp;quot;: {&amp;quot;feature_type&amp;quot;: &amp;quot;location&amp;quot;, &amp;quot;fmt_time&amp;quot;: &amp;quot;2015-08-27 08:56:33.227000-07:00&amp;quot;, &amp;quot;altitude&amp;quot;: 0, &amp;quot;ts&amp;quot;: 1440690993.227, &amp;quot;longitude&amp;quot;: -122.0777656, &amp;quot;latitude&amp;quot;: 37.3957175, &amp;quot;heading&amp;quot;: 0, &amp;quot;sensed_speed&amp;quot;: 0, &amp;quot;accuracy&amp;quot;: 182.404}}, {&amp;quot;geometry&amp;quot;: {&amp;quot;type&amp;quot;: &amp;quot;Point&amp;quot;, &amp;quot;coordinates&amp;quot;: [-122.0760912, 37.3950273]}, &amp;quot;type&amp;quot;: &amp;quot;Feature&amp;quot;, &amp;quot;id&amp;quot;: &amp;quot;55df34f77d65cb39ee98664d&amp;quot;, &amp;quot;properties&amp;quot;: {&amp;quot;feature_type&amp;quot;: &amp;quot;location&amp;quot;, &amp;quot;fmt_time&amp;quot;: &amp;quot;2015-08-27 08:57:03.150000-07:00&amp;quot;, &amp;quot;altitude&amp;quot;: 0, &amp;quot;ts&amp;quot;: 1440691023.15, &amp;quot;longitude&amp;quot;: -122.0760912, &amp;quot;latitude&amp;quot;: 37.3950273, &amp;quot;heading&amp;quot;: 0, &amp;quot;sensed_speed&amp;quot;: 0, &amp;quot;accuracy&amp;quot;: 102.781}}, {&amp;quot;geometry&amp;quot;: {&amp;quot;type&amp;quot;: &amp;quot;Point&amp;quot;, &amp;quot;coordinates&amp;quot;: [-122.0761752, 37.3942547]}, &amp;quot;type&amp;quot;: &amp;quot;Feature&amp;quot;, &amp;quot;id&amp;quot;: &amp;quot;55df34f77d65cb39ee986650&amp;quot;, &amp;quot;properties&amp;quot;: {&amp;quot;feature_type&amp;quot;: &amp;quot;location&amp;quot;, &amp;quot;fmt_time&amp;quot;: &amp;quot;2015-08-27 08:57:33.294000-07:00&amp;quot;, &amp;quot;altitude&amp;quot;: 0, &amp;quot;ts&amp;quot;: 1440691053.294, &amp;quot;longitude&amp;quot;: -122.0761752, &amp;quot;latitude&amp;quot;: 37.3942547, &amp;quot;heading&amp;quot;: 0, &amp;quot;sensed_speed&amp;quot;: 0, &amp;quot;accuracy&amp;quot;: 45.0}}, {&amp;quot;geometry&amp;quot;: {&amp;quot;type&amp;quot;: &amp;quot;Point&amp;quot;, &amp;quot;coordinates&amp;quot;: [-122.0777412, 37.3956106]}, &amp;quot;type&amp;quot;: &amp;quot;Feature&amp;quot;, &amp;quot;id&amp;quot;: &amp;quot;55df34f87d65cb39ee986653&amp;quot;, &amp;quot;properties&amp;quot;: {&amp;quot;feature_type&amp;quot;: &amp;quot;location&amp;quot;, &amp;quot;fmt_time&amp;quot;: &amp;quot;2015-08-27 08:58:03.290000-07:00&amp;quot;, &amp;quot;altitude&amp;quot;: 0, &amp;quot;ts&amp;quot;: 1440691083.29, &amp;quot;longitude&amp;quot;: -122.0777412, &amp;quot;latitude&amp;quot;: 37.3956106, &amp;quot;heading&amp;quot;: 0, &amp;quot;sensed_speed&amp;quot;: 0, &amp;quot;accuracy&amp;quot;: 173.206}}, {&amp;quot;geometry&amp;quot;: {&amp;quot;type&amp;quot;: &amp;quot;Point&amp;quot;, &amp;quot;coordinates&amp;quot;: [-122.0777709, 37.3957229]}, &amp;quot;type&amp;quot;: &amp;quot;Feature&amp;quot;, &amp;quot;id&amp;quot;: &amp;quot;55df34f87d65cb39ee986657&amp;quot;, &amp;quot;properties&amp;quot;: {&amp;quot;feature_type&amp;quot;: &amp;quot;location&amp;quot;, &amp;quot;fmt_time&amp;quot;: &amp;quot;2015-08-27 08:58:33.349000-07:00&amp;quot;, &amp;quot;altitude&amp;quot;: 0, &amp;quot;ts&amp;quot;: 1440691113.349, &amp;quot;longitude&amp;quot;: -122.0777709, &amp;quot;latitude&amp;quot;: 37.3957229, &amp;quot;heading&amp;quot;: 0, &amp;quot;sensed_speed&amp;quot;: 0, &amp;quot;accuracy&amp;quot;: 165.504}}, {&amp;quot;geometry&amp;quot;: {&amp;quot;type&amp;quot;: &amp;quot;Point&amp;quot;, &amp;quot;coordinates&amp;quot;: [-122.0777836, 37.3956614]}, &amp;quot;type&amp;quot;: &amp;quot;Feature&amp;quot;, &amp;quot;id&amp;quot;: &amp;quot;55df34f87d65cb39ee98665a&amp;quot;, &amp;quot;properties&amp;quot;: {&amp;quot;feature_type&amp;quot;: &amp;quot;location&amp;quot;, &amp;quot;fmt_time&amp;quot;: &amp;quot;2015-08-27 08:59:03.584000-07:00&amp;quot;, &amp;quot;altitude&amp;quot;: 0, &amp;quot;ts&amp;quot;: 1440691143.584, &amp;quot;longitude&amp;quot;: -122.0777836, &amp;quot;latitude&amp;quot;: 37.3956614, &amp;quot;heading&amp;quot;: 0, &amp;quot;sensed_speed&amp;quot;: 0, &amp;quot;accuracy&amp;quot;: 178.849}}, {&amp;quot;geometry&amp;quot;: {&amp;quot;type&amp;quot;: &amp;quot;Point&amp;quot;, &amp;quot;coordinates&amp;quot;: [-122.0762241, 37.3947787]}, &amp;quot;type&amp;quot;: &amp;quot;Feature&amp;quot;, &amp;quot;id&amp;quot;: &amp;quot;55df34f87d65cb39ee98665d&amp;quot;, &amp;quot;properties&amp;quot;: {&amp;quot;feature_type&amp;quot;: &amp;quot;location&amp;quot;, &amp;quot;fmt_time&amp;quot;: &amp;quot;2015-08-27 08:59:33.625000-07:00&amp;quot;, &amp;quot;altitude&amp;quot;: 0, &amp;quot;ts&amp;quot;: 1440691173.625, &amp;quot;longitude&amp;quot;: -122.0762241, &amp;quot;latitude&amp;quot;: 37.3947787, &amp;quot;heading&amp;quot;: 0, &amp;quot;sensed_speed&amp;quot;: 0, &amp;quot;accuracy&amp;quot;: 66.326}}, {&amp;quot;geometry&amp;quot;: {&amp;quot;type&amp;quot;: &amp;quot;Point&amp;quot;, &amp;quot;coordinates&amp;quot;: [-122.0761291, 37.3940891]}, &amp;quot;type&amp;quot;: &amp;quot;Feature&amp;quot;, &amp;quot;id&amp;quot;: &amp;quot;55df34f87d65cb39ee986660&amp;quot;, &amp;quot;properties&amp;quot;: {&amp;quot;feature_type&amp;quot;: &amp;quot;location&amp;quot;, &amp;quot;fmt_time&amp;quot;: &amp;quot;2015-08-27 09:00:03.682000-07:00&amp;quot;, &amp;quot;altitude&amp;quot;: 0, &amp;quot;ts&amp;quot;: 1440691203.682, &amp;quot;longitude&amp;quot;: -122.0761291, &amp;quot;latitude&amp;quot;: 37.3940891, &amp;quot;heading&amp;quot;: 0, &amp;quot;sensed_speed&amp;quot;: 0, &amp;quot;accuracy&amp;quot;: 36.0}}, {&amp;quot;geometry&amp;quot;: {&amp;quot;type&amp;quot;: &amp;quot;Point&amp;quot;, &amp;quot;coordinates&amp;quot;: [-122.0775421, 37.3956615]}, &amp;quot;type&amp;quot;: &amp;quot;Feature&amp;quot;, &amp;quot;id&amp;quot;: &amp;quot;55df34f97d65cb39ee986663&amp;quot;, &amp;quot;properties&amp;quot;: {&amp;quot;feature_type&amp;quot;: &amp;quot;location&amp;quot;, &amp;quot;fmt_time&amp;quot;: &amp;quot;2015-08-27 09:00:33.697000-07:00&amp;quot;, &amp;quot;altitude&amp;quot;: 0, &amp;quot;ts&amp;quot;: 1440691233.697, &amp;quot;longitude&amp;quot;: -122.0775421, &amp;quot;latitude&amp;quot;: 37.3956615, &amp;quot;heading&amp;quot;: 0, &amp;quot;sensed_speed&amp;quot;: 0, &amp;quot;accuracy&amp;quot;: 169.353}}, {&amp;quot;geometry&amp;quot;: {&amp;quot;type&amp;quot;: &amp;quot;Point&amp;quot;, &amp;quot;coordinates&amp;quot;: [-122.07779, 37.3956878]}, &amp;quot;type&amp;quot;: &amp;quot;Feature&amp;quot;, &amp;quot;id&amp;quot;: &amp;quot;55df34f97d65cb39ee986666&amp;quot;, &amp;quot;properties&amp;quot;: {&amp;quot;feature_type&amp;quot;: &amp;quot;location&amp;quot;, &amp;quot;fmt_time&amp;quot;: &amp;quot;2015-08-27 09:01:03.668000-07:00&amp;quot;, &amp;quot;altitude&amp;quot;: 0, &amp;quot;ts&amp;quot;: 1440691263.668, &amp;quot;longitude&amp;quot;: -122.07779, &amp;quot;latitude&amp;quot;: 37.3956878, &amp;quot;heading&amp;quot;: 0, &amp;quot;sensed_speed&amp;quot;: 0, &amp;quot;accuracy&amp;quot;: 181.128}}, {&amp;quot;geometry&amp;quot;: {&amp;quot;type&amp;quot;: &amp;quot;Point&amp;quot;, &amp;quot;coordinates&amp;quot;: [-122.0777666, 37.3957174]}, &amp;quot;type&amp;quot;: &amp;quot;Feature&amp;quot;, &amp;quot;id&amp;quot;: &amp;quot;55df34f97d65cb39ee986669&amp;quot;, &amp;quot;properties&amp;quot;: {&amp;quot;feature_type&amp;quot;: &amp;quot;location&amp;quot;, &amp;quot;fmt_time&amp;quot;: &amp;quot;2015-08-27 09:01:33.591000-07:00&amp;quot;, &amp;quot;altitude&amp;quot;: 0, &amp;quot;ts&amp;quot;: 1440691293.591, &amp;quot;longitude&amp;quot;: -122.0777666, &amp;quot;latitude&amp;quot;: 37.3957174, &amp;quot;heading&amp;quot;: 0, &amp;quot;sensed_speed&amp;quot;: 0, &amp;quot;accuracy&amp;quot;: 165.289}}, {&amp;quot;geometry&amp;quot;: {&amp;quot;type&amp;quot;: &amp;quot;Point&amp;quot;, &amp;quot;coordinates&amp;quot;: [-122.0771241, 37.3952022]}, &amp;quot;type&amp;quot;: &amp;quot;Feature&amp;quot;, &amp;quot;id&amp;quot;: &amp;quot;55df34f97d65cb39ee98666c&amp;quot;, &amp;quot;properties&amp;quot;: {&amp;quot;feature_type&amp;quot;: &amp;quot;location&amp;quot;, &amp;quot;fmt_time&amp;quot;: &amp;quot;2015-08-27 09:02:03.613000-07:00&amp;quot;, &amp;quot;altitude&amp;quot;: 0, &amp;quot;ts&amp;quot;: 1440691323.613, &amp;quot;longitude&amp;quot;: -122.0771241, &amp;quot;latitude&amp;quot;: 37.3952022, &amp;quot;heading&amp;quot;: 0, &amp;quot;sensed_speed&amp;quot;: 0, &amp;quot;accuracy&amp;quot;: 93.0}}, {&amp;quot;geometry&amp;quot;: {&amp;quot;type&amp;quot;: &amp;quot;Point&amp;quot;, &amp;quot;coordinates&amp;quot;: [-122.0762193, 37.3949768]}, &amp;quot;type&amp;quot;: &amp;quot;Feature&amp;quot;, &amp;quot;id&amp;quot;: &amp;quot;55df456b7d65cb39ee986675&amp;quot;, &amp;quot;properties&amp;quot;: {&amp;quot;feature_type&amp;quot;: &amp;quot;location&amp;quot;, &amp;quot;fmt_time&amp;quot;: &amp;quot;2015-08-27 09:04:04.146000-07:00&amp;quot;, &amp;quot;altitude&amp;quot;: 0, &amp;quot;ts&amp;quot;: 1440691444.146, &amp;quot;longitude&amp;quot;: -122.0762193, &amp;quot;latitude&amp;quot;: 37.3949768, &amp;quot;heading&amp;quot;: 0, &amp;quot;sensed_speed&amp;quot;: 0, &amp;quot;accuracy&amp;quot;: 40.5}}, {&amp;quot;geometry&amp;quot;: {&amp;quot;type&amp;quot;: &amp;quot;Point&amp;quot;, &amp;quot;coordinates&amp;quot;: [-122.106795, 37.4077682]}, &amp;quot;type&amp;quot;: &amp;quot;Feature&amp;quot;, &amp;quot;id&amp;quot;: &amp;quot;55df456c7d65cb39ee986681&amp;quot;, &amp;quot;properties&amp;quot;: {&amp;quot;feature_type&amp;quot;: &amp;quot;location&amp;quot;, &amp;quot;fmt_time&amp;quot;: &amp;quot;2015-08-27 09:07:03.880000-07:00&amp;quot;, &amp;quot;altitude&amp;quot;: 0, &amp;quot;ts&amp;quot;: 1440691623.88, &amp;quot;longitude&amp;quot;: -122.106795, &amp;quot;latitude&amp;quot;: 37.4077682, &amp;quot;heading&amp;quot;: 0, &amp;quot;sensed_speed&amp;quot;: 0, &amp;quot;accuracy&amp;quot;: 37.5}}, {&amp;quot;geometry&amp;quot;: {&amp;quot;type&amp;quot;: &amp;quot;Point&amp;quot;, &amp;quot;coordinates&amp;quot;: [-122.133534, 37.4235497]}, &amp;quot;type&amp;quot;: &amp;quot;Feature&amp;quot;, &amp;quot;id&amp;quot;: &amp;quot;55df456d7d65cb39ee98668e&amp;quot;, &amp;quot;properties&amp;quot;: {&amp;quot;feature_type&amp;quot;: &amp;quot;location&amp;quot;, &amp;quot;fmt_time&amp;quot;: &amp;quot;2015-08-27 09:10:34.234000-07:00&amp;quot;, &amp;quot;altitude&amp;quot;: 0, &amp;quot;ts&amp;quot;: 1440691834.234, &amp;quot;longitude&amp;quot;: -122.133534, &amp;quot;latitude&amp;quot;: 37.4235497, &amp;quot;heading&amp;quot;: 0, &amp;quot;sensed_speed&amp;quot;: 0, &amp;quot;accuracy&amp;quot;: 57.0}}, {&amp;quot;geometry&amp;quot;: {&amp;quot;type&amp;quot;: &amp;quot;Point&amp;quot;, &amp;quot;coordinates&amp;quot;: [-122.1388521, 37.4277911]}, &amp;quot;type&amp;quot;: &amp;quot;Feature&amp;quot;, &amp;quot;id&amp;quot;: &amp;quot;55df456d7d65cb39ee986691&amp;quot;, &amp;quot;properties&amp;quot;: {&amp;quot;feature_type&amp;quot;: &amp;quot;location&amp;quot;, &amp;quot;fmt_time&amp;quot;: &amp;quot;2015-08-27 09:11:04.273000-07:00&amp;quot;, &amp;quot;altitude&amp;quot;: 0, &amp;quot;ts&amp;quot;: 1440691864.273, &amp;quot;longitude&amp;quot;: -122.1388521, &amp;quot;latitude&amp;quot;: 37.4277911, &amp;quot;heading&amp;quot;: 0, &amp;quot;sensed_speed&amp;quot;: 0, &amp;quot;accuracy&amp;quot;: 40.5}}, {&amp;quot;geometry&amp;quot;: {&amp;quot;type&amp;quot;: &amp;quot;Point&amp;quot;, &amp;quot;coordinates&amp;quot;: [-122.1414298, 37.4291696]}, &amp;quot;type&amp;quot;: &amp;quot;Feature&amp;quot;, &amp;quot;id&amp;quot;: &amp;quot;55df456d7d65cb39ee986693&amp;quot;, &amp;quot;properties&amp;quot;: {&amp;quot;feature_type&amp;quot;: &amp;quot;location&amp;quot;, &amp;quot;fmt_time&amp;quot;: &amp;quot;2015-08-27 09:11:34.287000-07:00&amp;quot;, &amp;quot;altitude&amp;quot;: 0, &amp;quot;ts&amp;quot;: 1440691894.287, &amp;quot;longitude&amp;quot;: -122.1414298, &amp;quot;latitude&amp;quot;: 37.4291696, &amp;quot;heading&amp;quot;: 0, &amp;quot;sensed_speed&amp;quot;: 0, &amp;quot;accuracy&amp;quot;: 40.5}}, {&amp;quot;geometry&amp;quot;: {&amp;quot;type&amp;quot;: &amp;quot;Point&amp;quot;, &amp;quot;coordinates&amp;quot;: [-122.1415265, 37.429284]}, &amp;quot;type&amp;quot;: &amp;quot;Feature&amp;quot;, &amp;quot;id&amp;quot;: &amp;quot;55df456d7d65cb39ee986696&amp;quot;, &amp;quot;properties&amp;quot;: {&amp;quot;feature_type&amp;quot;: &amp;quot;location&amp;quot;, &amp;quot;fmt_time&amp;quot;: &amp;quot;2015-08-27 09:12:04.382000-07:00&amp;quot;, &amp;quot;altitude&amp;quot;: 0, &amp;quot;ts&amp;quot;: 1440691924.382, &amp;quot;longitude&amp;quot;: -122.1415265, &amp;quot;latitude&amp;quot;: 37.429284, &amp;quot;heading&amp;quot;: 0, &amp;quot;sensed_speed&amp;quot;: 0, &amp;quot;accuracy&amp;quot;: 40.5}}, {&amp;quot;geometry&amp;quot;: {&amp;quot;type&amp;quot;: &amp;quot;Point&amp;quot;, &amp;quot;coordinates&amp;quot;: [-122.1414298, 37.4291696]}, &amp;quot;type&amp;quot;: &amp;quot;Feature&amp;quot;, &amp;quot;id&amp;quot;: &amp;quot;55df456d7d65cb39ee986698&amp;quot;, &amp;quot;properties&amp;quot;: {&amp;quot;feature_type&amp;quot;: &amp;quot;location&amp;quot;, &amp;quot;fmt_time&amp;quot;: &amp;quot;2015-08-27 09:12:34.341000-07:00&amp;quot;, &amp;quot;altitude&amp;quot;: 0, &amp;quot;ts&amp;quot;: 1440691954.341, &amp;quot;longitude&amp;quot;: -122.1414298, &amp;quot;latitude&amp;quot;: 37.4291696, &amp;quot;heading&amp;quot;: 0, &amp;quot;sensed_speed&amp;quot;: 0, &amp;quot;accuracy&amp;quot;: 40.5}}, {&amp;quot;geometry&amp;quot;: {&amp;quot;type&amp;quot;: &amp;quot;Point&amp;quot;, &amp;quot;coordinates&amp;quot;: [-122.1414762, 37.4292348]}, &amp;quot;type&amp;quot;: &amp;quot;Feature&amp;quot;, &amp;quot;id&amp;quot;: &amp;quot;55df456e7d65cb39ee98669c&amp;quot;, &amp;quot;properties&amp;quot;: {&amp;quot;feature_type&amp;quot;: &amp;quot;location&amp;quot;, &amp;quot;fmt_time&amp;quot;: &amp;quot;2015-08-27 09:13:04.371000-07:00&amp;quot;, &amp;quot;altitude&amp;quot;: 0, &amp;quot;ts&amp;quot;: 1440691984.371, &amp;quot;longitude&amp;quot;: -122.1414762, &amp;quot;latitude&amp;quot;: 37.4292348, &amp;quot;heading&amp;quot;: 0, &amp;quot;sensed_speed&amp;quot;: 0, &amp;quot;accuracy&amp;quot;: 36.0}}, {&amp;quot;geometry&amp;quot;: {&amp;quot;type&amp;quot;: &amp;quot;Point&amp;quot;, &amp;quot;coordinates&amp;quot;: [-122.1414762, 37.4292348]}, &amp;quot;type&amp;quot;: &amp;quot;Feature&amp;quot;, &amp;quot;id&amp;quot;: &amp;quot;55df456e7d65cb39ee98669e&amp;quot;, &amp;quot;properties&amp;quot;: {&amp;quot;feature_type&amp;quot;: &amp;quot;location&amp;quot;, &amp;quot;fmt_time&amp;quot;: &amp;quot;2015-08-27 09:13:33.420000-07:00&amp;quot;, &amp;quot;altitude&amp;quot;: 0, &amp;quot;ts&amp;quot;: 1440692013.42, &amp;quot;longitude&amp;quot;: -122.1414762, &amp;quot;latitude&amp;quot;: 37.4292348, &amp;quot;heading&amp;quot;: 0, &amp;quot;sensed_speed&amp;quot;: 0, &amp;quot;accuracy&amp;quot;: 79.573}}, {&amp;quot;geometry&amp;quot;: {&amp;quot;type&amp;quot;: &amp;quot;Point&amp;quot;, &amp;quot;coordinates&amp;quot;: [-122.1522525, 37.4358008]}, &amp;quot;type&amp;quot;: &amp;quot;Feature&amp;quot;, &amp;quot;id&amp;quot;: &amp;quot;55df456e7d65cb39ee9866a4&amp;quot;, &amp;quot;properties&amp;quot;: {&amp;quot;feature_type&amp;quot;: &amp;quot;location&amp;quot;, &amp;quot;fmt_time&amp;quot;: &amp;quot;2015-08-27 09:14:33.587000-07:00&amp;quot;, &amp;quot;altitude&amp;quot;: 0, &amp;quot;ts&amp;quot;: 1440692073.587, &amp;quot;longitude&amp;quot;: -122.1522525, &amp;quot;latitude&amp;quot;: 37.4358008, &amp;quot;heading&amp;quot;: 0, &amp;quot;sensed_speed&amp;quot;: 0, &amp;quot;accuracy&amp;quot;: 36.0}}, {&amp;quot;geometry&amp;quot;: {&amp;quot;type&amp;quot;: &amp;quot;Point&amp;quot;, &amp;quot;coordinates&amp;quot;: [-122.1651832, 37.4438895]}, &amp;quot;type&amp;quot;: &amp;quot;Feature&amp;quot;, &amp;quot;id&amp;quot;: &amp;quot;55df456e7d65cb39ee9866a8&amp;quot;, &amp;quot;properties&amp;quot;: {&amp;quot;feature_type&amp;quot;: &amp;quot;location&amp;quot;, &amp;quot;fmt_time&amp;quot;: &amp;quot;2015-08-27 09:16:04.629000-07:00&amp;quot;, &amp;quot;altitude&amp;quot;: 0, &amp;quot;ts&amp;quot;: 1440692164.629, &amp;quot;longitude&amp;quot;: -122.1651832, &amp;quot;latitude&amp;quot;: 37.4438895, &amp;quot;heading&amp;quot;: 0, &amp;quot;sensed_speed&amp;quot;: 0, &amp;quot;accuracy&amp;quot;: 51.0}}, {&amp;quot;geometry&amp;quot;: {&amp;quot;type&amp;quot;: &amp;quot;Point&amp;quot;, &amp;quot;coordinates&amp;quot;: [-122.1658308, 37.4436462]}, &amp;quot;type&amp;quot;: &amp;quot;Feature&amp;quot;, &amp;quot;id&amp;quot;: &amp;quot;55df456f7d65cb39ee9866ab&amp;quot;, &amp;quot;properties&amp;quot;: {&amp;quot;feature_type&amp;quot;: &amp;quot;location&amp;quot;, &amp;quot;fmt_time&amp;quot;: &amp;quot;2015-08-27 09:16:34.764000-07:00&amp;quot;, &amp;quot;altitude&amp;quot;: 0, &amp;quot;ts&amp;quot;: 1440692194.764, &amp;quot;longitude&amp;quot;: -122.1658308, &amp;quot;latitude&amp;quot;: 37.4436462, &amp;quot;heading&amp;quot;: 0, &amp;quot;sensed_speed&amp;quot;: 0, &amp;quot;accuracy&amp;quot;: 43.5}}, {&amp;quot;geometry&amp;quot;: {&amp;quot;type&amp;quot;: &amp;quot;Point&amp;quot;, &amp;quot;coordinates&amp;quot;: [-122.1650013, 37.4439291]}, &amp;quot;type&amp;quot;: &amp;quot;Feature&amp;quot;, &amp;quot;id&amp;quot;: &amp;quot;55df456f7d65cb39ee9866ae&amp;quot;, &amp;quot;properties&amp;quot;: {&amp;quot;feature_type&amp;quot;: &amp;quot;location&amp;quot;, &amp;quot;fmt_time&amp;quot;: &amp;quot;2015-08-27 09:17:04.710000-07:00&amp;quot;, &amp;quot;altitude&amp;quot;: 0, &amp;quot;ts&amp;quot;: 1440692224.71, &amp;quot;longitude&amp;quot;: -122.1650013, &amp;quot;latitude&amp;quot;: 37.4439291, &amp;quot;heading&amp;quot;: 0, &amp;quot;sensed_speed&amp;quot;: 0, &amp;quot;accuracy&amp;quot;: 33.0}}, {&amp;quot;geometry&amp;quot;: {&amp;quot;type&amp;quot;: &amp;quot;Point&amp;quot;, &amp;quot;coordinates&amp;quot;: [-122.1649406, 37.4439526]}, &amp;quot;type&amp;quot;: &amp;quot;Feature&amp;quot;, &amp;quot;id&amp;quot;: &amp;quot;55df456f7d65cb39ee9866b2&amp;quot;, &amp;quot;properties&amp;quot;: {&amp;quot;feature_type&amp;quot;: &amp;quot;location&amp;quot;, &amp;quot;fmt_time&amp;quot;: &amp;quot;2015-08-27 09:17:29.580000-07:00&amp;quot;, &amp;quot;altitude&amp;quot;: 0, &amp;quot;ts&amp;quot;: 1440692249.58, &amp;quot;longitude&amp;quot;: -122.1649406, &amp;quot;latitude&amp;quot;: 37.4439526, &amp;quot;heading&amp;quot;: 0, &amp;quot;sensed_speed&amp;quot;: 0, &amp;quot;accuracy&amp;quot;: 36.0}}, {&amp;quot;geometry&amp;quot;: {&amp;quot;type&amp;quot;: &amp;quot;Point&amp;quot;, &amp;quot;coordinates&amp;quot;: [-122.180769, 37.4541764]}, &amp;quot;type&amp;quot;: &amp;quot;Feature&amp;quot;, &amp;quot;id&amp;quot;: &amp;quot;55df45707d65cb39ee9866c2&amp;quot;, &amp;quot;properties&amp;quot;: {&amp;quot;feature_type&amp;quot;: &amp;quot;location&amp;quot;, &amp;quot;fmt_time&amp;quot;: &amp;quot;2015-08-27 09:20:20.950000-07:00&amp;quot;, &amp;quot;altitude&amp;quot;: 0, &amp;quot;ts&amp;quot;: 1440692420.95, &amp;quot;longitude&amp;quot;: -122.180769, &amp;quot;latitude&amp;quot;: 37.4541764, &amp;quot;heading&amp;quot;: 0, &amp;quot;sensed_speed&amp;quot;: 0, &amp;quot;accuracy&amp;quot;: 48.0}}, {&amp;quot;geometry&amp;quot;: {&amp;quot;type&amp;quot;: &amp;quot;Point&amp;quot;, &amp;quot;coordinates&amp;quot;: [-122.1829735, 37.4553948]}, &amp;quot;type&amp;quot;: &amp;quot;Feature&amp;quot;, &amp;quot;id&amp;quot;: &amp;quot;55df45707d65cb39ee9866c5&amp;quot;, &amp;quot;properties&amp;quot;: {&amp;quot;feature_type&amp;quot;: &amp;quot;location&amp;quot;, &amp;quot;fmt_time&amp;quot;: &amp;quot;2015-08-27 09:20:52.779000-07:00&amp;quot;, &amp;quot;altitude&amp;quot;: 0, &amp;quot;ts&amp;quot;: 1440692452.779, &amp;quot;longitude&amp;quot;: -122.1829735, &amp;quot;latitude&amp;quot;: 37.4553948, &amp;quot;heading&amp;quot;: 0, &amp;quot;sensed_speed&amp;quot;: 0, &amp;quot;accuracy&amp;quot;: 36.0}}, {&amp;quot;geometry&amp;quot;: {&amp;quot;type&amp;quot;: &amp;quot;Point&amp;quot;, &amp;quot;coordinates&amp;quot;: [-122.1829793, 37.4551939]}, &amp;quot;type&amp;quot;: &amp;quot;Feature&amp;quot;, &amp;quot;id&amp;quot;: &amp;quot;55df45707d65cb39ee9866c7&amp;quot;, &amp;quot;properties&amp;quot;: {&amp;quot;feature_type&amp;quot;: &amp;quot;location&amp;quot;, &amp;quot;fmt_time&amp;quot;: &amp;quot;2015-08-27 09:21:24.599000-07:00&amp;quot;, &amp;quot;altitude&amp;quot;: 0, &amp;quot;ts&amp;quot;: 1440692484.599, &amp;quot;longitude&amp;quot;: -122.1829793, &amp;quot;latitude&amp;quot;: 37.4551939, &amp;quot;heading&amp;quot;: 0, &amp;quot;sensed_speed&amp;quot;: 0, &amp;quot;accuracy&amp;quot;: 36.0}}, {&amp;quot;geometry&amp;quot;: {&amp;quot;type&amp;quot;: &amp;quot;Point&amp;quot;, &amp;quot;coordinates&amp;quot;: [-122.182976, 37.4553]}, &amp;quot;type&amp;quot;: &amp;quot;Feature&amp;quot;, &amp;quot;id&amp;quot;: &amp;quot;55df45717d65cb39ee9866ca&amp;quot;, &amp;quot;properties&amp;quot;: {&amp;quot;feature_type&amp;quot;: &amp;quot;location&amp;quot;, &amp;quot;fmt_time&amp;quot;: &amp;quot;2015-08-27 09:21:56.409000-07:00&amp;quot;, &amp;quot;altitude&amp;quot;: 0, &amp;quot;ts&amp;quot;: 1440692516.409, &amp;quot;longitude&amp;quot;: -122.182976, &amp;quot;latitude&amp;quot;: 37.4553, &amp;quot;heading&amp;quot;: 0, &amp;quot;sensed_speed&amp;quot;: 0, &amp;quot;accuracy&amp;quot;: 39.0}}, {&amp;quot;geometry&amp;quot;: {&amp;quot;type&amp;quot;: &amp;quot;Point&amp;quot;, &amp;quot;coordinates&amp;quot;: [-122.2135446, 37.4737671]}, &amp;quot;type&amp;quot;: &amp;quot;Feature&amp;quot;, &amp;quot;id&amp;quot;: &amp;quot;55df45717d65cb39ee9866d5&amp;quot;, &amp;quot;properties&amp;quot;: {&amp;quot;feature_type&amp;quot;: &amp;quot;location&amp;quot;, &amp;quot;fmt_time&amp;quot;: &amp;quot;2015-08-27 09:24:35.493000-07:00&amp;quot;, &amp;quot;altitude&amp;quot;: 0, &amp;quot;ts&amp;quot;: 1440692675.493, &amp;quot;longitude&amp;quot;: -122.2135446, &amp;quot;latitude&amp;quot;: 37.4737671, &amp;quot;heading&amp;quot;: 0, &amp;quot;sensed_speed&amp;quot;: 0, &amp;quot;accuracy&amp;quot;: 26.0}}, {&amp;quot;geometry&amp;quot;: {&amp;quot;type&amp;quot;: &amp;quot;Point&amp;quot;, &amp;quot;coordinates&amp;quot;: [-122.2231926, 37.4785943]}, &amp;quot;type&amp;quot;: &amp;quot;Feature&amp;quot;, &amp;quot;id&amp;quot;: &amp;quot;55df45717d65cb39ee9866d7&amp;quot;, &amp;quot;properties&amp;quot;: {&amp;quot;feature_type&amp;quot;: &amp;quot;location&amp;quot;, &amp;quot;fmt_time&amp;quot;: &amp;quot;2015-08-27 09:24:51.407000-07:00&amp;quot;, &amp;quot;altitude&amp;quot;: 0, &amp;quot;ts&amp;quot;: 1440692691.407, &amp;quot;longitude&amp;quot;: -122.2231926, &amp;quot;latitude&amp;quot;: 37.4785943, &amp;quot;heading&amp;quot;: 0, &amp;quot;sensed_speed&amp;quot;: 0, &amp;quot;accuracy&amp;quot;: 36.0}}, {&amp;quot;geometry&amp;quot;: {&amp;quot;type&amp;quot;: &amp;quot;Point&amp;quot;, &amp;quot;coordinates&amp;quot;: [-122.2269005, 37.4828822]}, &amp;quot;type&amp;quot;: &amp;quot;Feature&amp;quot;, &amp;quot;id&amp;quot;: &amp;quot;55df45727d65cb39ee9866db&amp;quot;, &amp;quot;properties&amp;quot;: {&amp;quot;feature_type&amp;quot;: &amp;quot;location&amp;quot;, &amp;quot;fmt_time&amp;quot;: &amp;quot;2015-08-27 09:25:39.130000-07:00&amp;quot;, &amp;quot;altitude&amp;quot;: 0, &amp;quot;ts&amp;quot;: 1440692739.13, &amp;quot;longitude&amp;quot;: -122.2269005, &amp;quot;latitude&amp;quot;: 37.4828822, &amp;quot;heading&amp;quot;: 0, &amp;quot;sensed_speed&amp;quot;: 0, &amp;quot;accuracy&amp;quot;: 39.0}}, {&amp;quot;geometry&amp;quot;: {&amp;quot;type&amp;quot;: &amp;quot;Point&amp;quot;, &amp;quot;coordinates&amp;quot;: [-122.2320305, 37.4862189]}, &amp;quot;type&amp;quot;: &amp;quot;Feature&amp;quot;, &amp;quot;id&amp;quot;: &amp;quot;55df45727d65cb39ee9866df&amp;quot;, &amp;quot;properties&amp;quot;: {&amp;quot;feature_type&amp;quot;: &amp;quot;location&amp;quot;, &amp;quot;fmt_time&amp;quot;: &amp;quot;2015-08-27 09:26:26.881000-07:00&amp;quot;, &amp;quot;altitude&amp;quot;: 0, &amp;quot;ts&amp;quot;: 1440692786.881, &amp;quot;longitude&amp;quot;: -122.2320305, &amp;quot;latitude&amp;quot;: 37.4862189, &amp;quot;heading&amp;quot;: 0, &amp;quot;sensed_speed&amp;quot;: 0, &amp;quot;accuracy&amp;quot;: 45.0}}, {&amp;quot;geometry&amp;quot;: {&amp;quot;type&amp;quot;: &amp;quot;Point&amp;quot;, &amp;quot;coordinates&amp;quot;: [-122.2323706, 37.4861919]}, &amp;quot;type&amp;quot;: &amp;quot;Feature&amp;quot;, &amp;quot;id&amp;quot;: &amp;quot;55df45727d65cb39ee9866e2&amp;quot;, &amp;quot;properties&amp;quot;: {&amp;quot;feature_type&amp;quot;: &amp;quot;location&amp;quot;, &amp;quot;fmt_time&amp;quot;: &amp;quot;2015-08-27 09:26:58.696000-07:00&amp;quot;, &amp;quot;altitude&amp;quot;: 0, &amp;quot;ts&amp;quot;: 1440692818.696, &amp;quot;longitude&amp;quot;: -122.2323706, &amp;quot;latitude&amp;quot;: 37.4861919, &amp;quot;heading&amp;quot;: 0, &amp;quot;sensed_speed&amp;quot;: 0, &amp;quot;accuracy&amp;quot;: 79.5}}, {&amp;quot;geometry&amp;quot;: {&amp;quot;type&amp;quot;: &amp;quot;Point&amp;quot;, &amp;quot;coordinates&amp;quot;: [-122.2320101, 37.4862121]}, &amp;quot;type&amp;quot;: &amp;quot;Feature&amp;quot;, &amp;quot;id&amp;quot;: &amp;quot;55df45727d65cb39ee9866e4&amp;quot;, &amp;quot;properties&amp;quot;: {&amp;quot;feature_type&amp;quot;: &amp;quot;location&amp;quot;, &amp;quot;fmt_time&amp;quot;: &amp;quot;2015-08-27 09:27:30.524000-07:00&amp;quot;, &amp;quot;altitude&amp;quot;: 0, &amp;quot;ts&amp;quot;: 1440692850.524, &amp;quot;longitude&amp;quot;: -122.2320101, &amp;quot;latitude&amp;quot;: 37.4862121, &amp;quot;heading&amp;quot;: 0, &amp;quot;sensed_speed&amp;quot;: 0, &amp;quot;accuracy&amp;quot;: 40.5}}, {&amp;quot;geometry&amp;quot;: {&amp;quot;type&amp;quot;: &amp;quot;Point&amp;quot;, &amp;quot;coordinates&amp;quot;: [-122.2324731, 37.4861669]}, &amp;quot;type&amp;quot;: &amp;quot;Feature&amp;quot;, &amp;quot;id&amp;quot;: &amp;quot;55df45727d65cb39ee9866e7&amp;quot;, &amp;quot;properties&amp;quot;: {&amp;quot;feature_type&amp;quot;: &amp;quot;location&amp;quot;, &amp;quot;fmt_time&amp;quot;: &amp;quot;2015-08-27 09:27:50.732000-07:00&amp;quot;, &amp;quot;altitude&amp;quot;: 0, &amp;quot;ts&amp;quot;: 1440692870.732, &amp;quot;longitude&amp;quot;: -122.2324731, &amp;quot;latitude&amp;quot;: 37.4861669, &amp;quot;heading&amp;quot;: 0, &amp;quot;sensed_speed&amp;quot;: 0, &amp;quot;accuracy&amp;quot;: 37.5}}, {&amp;quot;geometry&amp;quot;: {&amp;quot;type&amp;quot;: &amp;quot;Point&amp;quot;, &amp;quot;coordinates&amp;quot;: [-122.234237, 37.4872932]}, &amp;quot;type&amp;quot;: &amp;quot;Feature&amp;quot;, &amp;quot;id&amp;quot;: &amp;quot;55df45737d65cb39ee9866ec&amp;quot;, &amp;quot;properties&amp;quot;: {&amp;quot;feature_type&amp;quot;: &amp;quot;location&amp;quot;, &amp;quot;fmt_time&amp;quot;: &amp;quot;2015-08-27 09:28:22.555000-07:00&amp;quot;, &amp;quot;altitude&amp;quot;: 0, &amp;quot;ts&amp;quot;: 1440692902.555, &amp;quot;longitude&amp;quot;: -122.234237, &amp;quot;latitude&amp;quot;: 37.4872932, &amp;quot;heading&amp;quot;: 0, &amp;quot;sensed_speed&amp;quot;: 0, &amp;quot;accuracy&amp;quot;: 148.407}}, {&amp;quot;geometry&amp;quot;: {&amp;quot;type&amp;quot;: &amp;quot;Point&amp;quot;, &amp;quot;coordinates&amp;quot;: [-122.248984, 37.4984627]}, &amp;quot;type&amp;quot;: &amp;quot;Feature&amp;quot;, &amp;quot;id&amp;quot;: &amp;quot;55df45737d65cb39ee9866f2&amp;quot;, &amp;quot;properties&amp;quot;: {&amp;quot;feature_type&amp;quot;: &amp;quot;location&amp;quot;, &amp;quot;fmt_time&amp;quot;: &amp;quot;2015-08-27 09:29:35.002000-07:00&amp;quot;, &amp;quot;altitude&amp;quot;: 0, &amp;quot;ts&amp;quot;: 1440692975.002, &amp;quot;longitude&amp;quot;: -122.248984, &amp;quot;latitude&amp;quot;: 37.4984627, &amp;quot;heading&amp;quot;: 0, &amp;quot;sensed_speed&amp;quot;: 0, &amp;quot;accuracy&amp;quot;: 72.0}}, {&amp;quot;geometry&amp;quot;: {&amp;quot;type&amp;quot;: &amp;quot;Point&amp;quot;, &amp;quot;coordinates&amp;quot;: [-122.2601884, 37.5068074]}, &amp;quot;type&amp;quot;: &amp;quot;Feature&amp;quot;, &amp;quot;id&amp;quot;: &amp;quot;55df45747d65cb39ee9866f8&amp;quot;, &amp;quot;properties&amp;quot;: {&amp;quot;feature_type&amp;quot;: &amp;quot;location&amp;quot;, &amp;quot;fmt_time&amp;quot;: &amp;quot;2015-08-27 09:30:35.042000-07:00&amp;quot;, &amp;quot;altitude&amp;quot;: 0, &amp;quot;ts&amp;quot;: 1440693035.042, &amp;quot;longitude&amp;quot;: -122.2601884, &amp;quot;latitude&amp;quot;: 37.5068074, &amp;quot;heading&amp;quot;: 0, &amp;quot;sensed_speed&amp;quot;: 0, &amp;quot;accuracy&amp;quot;: 37.5}}, {&amp;quot;geometry&amp;quot;: {&amp;quot;type&amp;quot;: &amp;quot;Point&amp;quot;, &amp;quot;coordinates&amp;quot;: [-122.2603798, 37.5082546]}, &amp;quot;type&amp;quot;: &amp;quot;Feature&amp;quot;, &amp;quot;id&amp;quot;: &amp;quot;55df45747d65cb39ee9866fa&amp;quot;, &amp;quot;properties&amp;quot;: {&amp;quot;feature_type&amp;quot;: &amp;quot;location&amp;quot;, &amp;quot;fmt_time&amp;quot;: &amp;quot;2015-08-27 09:31:05.110000-07:00&amp;quot;, &amp;quot;altitude&amp;quot;: 0, &amp;quot;ts&amp;quot;: 1440693065.11, &amp;quot;longitude&amp;quot;: -122.2603798, &amp;quot;latitude&amp;quot;: 37.5082546, &amp;quot;heading&amp;quot;: 0, &amp;quot;sensed_speed&amp;quot;: 0, &amp;quot;accuracy&amp;quot;: 42.0}}, {&amp;quot;geometry&amp;quot;: {&amp;quot;type&amp;quot;: &amp;quot;Point&amp;quot;, &amp;quot;coordinates&amp;quot;: [-122.2605659, 37.5081271]}, &amp;quot;type&amp;quot;: &amp;quot;Feature&amp;quot;, &amp;quot;id&amp;quot;: &amp;quot;55df45747d65cb39ee9866fd&amp;quot;, &amp;quot;properties&amp;quot;: {&amp;quot;feature_type&amp;quot;: &amp;quot;location&amp;quot;, &amp;quot;fmt_time&amp;quot;: &amp;quot;2015-08-27 09:31:35.172000-07:00&amp;quot;, &amp;quot;altitude&amp;quot;: 0, &amp;quot;ts&amp;quot;: 1440693095.172, &amp;quot;longitude&amp;quot;: -122.2605659, &amp;quot;latitude&amp;quot;: 37.5081271, &amp;quot;heading&amp;quot;: 0, &amp;quot;sensed_speed&amp;quot;: 0, &amp;quot;accuracy&amp;quot;: 49.5}}, {&amp;quot;geometry&amp;quot;: {&amp;quot;type&amp;quot;: &amp;quot;Point&amp;quot;, &amp;quot;coordinates&amp;quot;: [-122.2607601, 37.5077337]}, &amp;quot;type&amp;quot;: &amp;quot;Feature&amp;quot;, &amp;quot;id&amp;quot;: &amp;quot;55df45747d65cb39ee986700&amp;quot;, &amp;quot;properties&amp;quot;: {&amp;quot;feature_type&amp;quot;: &amp;quot;location&amp;quot;, &amp;quot;fmt_time&amp;quot;: &amp;quot;2015-08-27 09:32:05.165000-07:00&amp;quot;, &amp;quot;altitude&amp;quot;: 0, &amp;quot;ts&amp;quot;: 1440693125.165, &amp;quot;longitude&amp;quot;: -122.2607601, &amp;quot;latitude&amp;quot;: 37.5077337, &amp;quot;heading&amp;quot;: 0, &amp;quot;sensed_speed&amp;quot;: 0, &amp;quot;accuracy&amp;quot;: 51.0}}, {&amp;quot;geometry&amp;quot;: {&amp;quot;type&amp;quot;: &amp;quot;Point&amp;quot;, &amp;quot;coordinates&amp;quot;: [-122.2625349, 37.5100476]}, &amp;quot;type&amp;quot;: &amp;quot;Feature&amp;quot;, &amp;quot;id&amp;quot;: &amp;quot;55df45747d65cb39ee986702&amp;quot;, &amp;quot;properties&amp;quot;: {&amp;quot;feature_type&amp;quot;: &amp;quot;location&amp;quot;, &amp;quot;fmt_time&amp;quot;: &amp;quot;2015-08-27 09:32:35.157000-07:00&amp;quot;, &amp;quot;altitude&amp;quot;: 0, &amp;quot;ts&amp;quot;: 1440693155.157, &amp;quot;longitude&amp;quot;: -122.2625349, &amp;quot;latitude&amp;quot;: 37.5100476, &amp;quot;heading&amp;quot;: 0, &amp;quot;sensed_speed&amp;quot;: 0, &amp;quot;accuracy&amp;quot;: 52.5}}, {&amp;quot;geometry&amp;quot;: {&amp;quot;type&amp;quot;: &amp;quot;Point&amp;quot;, &amp;quot;coordinates&amp;quot;: [-122.2660316, 37.512868]}, &amp;quot;type&amp;quot;: &amp;quot;Feature&amp;quot;, &amp;quot;id&amp;quot;: &amp;quot;55df45747d65cb39ee986705&amp;quot;, &amp;quot;properties&amp;quot;: {&amp;quot;feature_type&amp;quot;: &amp;quot;location&amp;quot;, &amp;quot;fmt_time&amp;quot;: &amp;quot;2015-08-27 09:33:05.198000-07:00&amp;quot;, &amp;quot;altitude&amp;quot;: 0, &amp;quot;ts&amp;quot;: 1440693185.198, &amp;quot;longitude&amp;quot;: -122.2660316, &amp;quot;latitude&amp;quot;: 37.512868, &amp;quot;heading&amp;quot;: 0, &amp;quot;sensed_speed&amp;quot;: 0, &amp;quot;accuracy&amp;quot;: 112.5}}, {&amp;quot;geometry&amp;quot;: {&amp;quot;type&amp;quot;: &amp;quot;Point&amp;quot;, &amp;quot;coordinates&amp;quot;: [-122.2721991, 37.5177452]}, &amp;quot;type&amp;quot;: &amp;quot;Feature&amp;quot;, &amp;quot;id&amp;quot;: &amp;quot;55df45757d65cb39ee986709&amp;quot;, &amp;quot;properties&amp;quot;: {&amp;quot;feature_type&amp;quot;: &amp;quot;location&amp;quot;, &amp;quot;fmt_time&amp;quot;: &amp;quot;2015-08-27 09:33:35.235000-07:00&amp;quot;, &amp;quot;altitude&amp;quot;: 0, &amp;quot;ts&amp;quot;: 1440693215.235, &amp;quot;longitude&amp;quot;: -122.2721991, &amp;quot;latitude&amp;quot;: 37.5177452, &amp;quot;heading&amp;quot;: 0, &amp;quot;sensed_speed&amp;quot;: 0, &amp;quot;accuracy&amp;quot;: 36.0}}, {&amp;quot;geometry&amp;quot;: {&amp;quot;type&amp;quot;: &amp;quot;Point&amp;quot;, &amp;quot;coordinates&amp;quot;: [-122.2764249, 37.521002]}, &amp;quot;type&amp;quot;: &amp;quot;Feature&amp;quot;, &amp;quot;id&amp;quot;: &amp;quot;55df45757d65cb39ee98670c&amp;quot;, &amp;quot;properties&amp;quot;: {&amp;quot;feature_type&amp;quot;: &amp;quot;location&amp;quot;, &amp;quot;fmt_time&amp;quot;: &amp;quot;2015-08-27 09:34:05.439000-07:00&amp;quot;, &amp;quot;altitude&amp;quot;: 0, &amp;quot;ts&amp;quot;: 1440693245.439, &amp;quot;longitude&amp;quot;: -122.2764249, &amp;quot;latitude&amp;quot;: 37.521002, &amp;quot;heading&amp;quot;: 0, &amp;quot;sensed_speed&amp;quot;: 0, &amp;quot;accuracy&amp;quot;: 57.0}}, {&amp;quot;geometry&amp;quot;: {&amp;quot;type&amp;quot;: &amp;quot;Point&amp;quot;, &amp;quot;coordinates&amp;quot;: [-122.2763004, 37.5209551]}, &amp;quot;type&amp;quot;: &amp;quot;Feature&amp;quot;, &amp;quot;id&amp;quot;: &amp;quot;55df45757d65cb39ee98670e&amp;quot;, &amp;quot;properties&amp;quot;: {&amp;quot;feature_type&amp;quot;: &amp;quot;location&amp;quot;, &amp;quot;fmt_time&amp;quot;: &amp;quot;2015-08-27 09:34:35.434000-07:00&amp;quot;, &amp;quot;altitude&amp;quot;: 0, &amp;quot;ts&amp;quot;: 1440693275.434, &amp;quot;longitude&amp;quot;: -122.2763004, &amp;quot;latitude&amp;quot;: 37.5209551, &amp;quot;heading&amp;quot;: 0, &amp;quot;sensed_speed&amp;quot;: 0, &amp;quot;accuracy&amp;quot;: 40.5}}, {&amp;quot;geometry&amp;quot;: {&amp;quot;type&amp;quot;: &amp;quot;Point&amp;quot;, &amp;quot;coordinates&amp;quot;: [-122.2763267, 37.5210567]}, &amp;quot;type&amp;quot;: &amp;quot;Feature&amp;quot;, &amp;quot;id&amp;quot;: &amp;quot;55df45757d65cb39ee986711&amp;quot;, &amp;quot;properties&amp;quot;: {&amp;quot;feature_type&amp;quot;: &amp;quot;location&amp;quot;, &amp;quot;fmt_time&amp;quot;: &amp;quot;2015-08-27 09:35:05.480000-07:00&amp;quot;, &amp;quot;altitude&amp;quot;: 0, &amp;quot;ts&amp;quot;: 1440693305.48, &amp;quot;longitude&amp;quot;: -122.2763267, &amp;quot;latitude&amp;quot;: 37.5210567, &amp;quot;heading&amp;quot;: 0, &amp;quot;sensed_speed&amp;quot;: 0, &amp;quot;accuracy&amp;quot;: 45.0}}, {&amp;quot;geometry&amp;quot;: {&amp;quot;type&amp;quot;: &amp;quot;Point&amp;quot;, &amp;quot;coordinates&amp;quot;: [-122.2771575, 37.522433]}, &amp;quot;type&amp;quot;: &amp;quot;Feature&amp;quot;, &amp;quot;id&amp;quot;: &amp;quot;55df45757d65cb39ee986713&amp;quot;, &amp;quot;properties&amp;quot;: {&amp;quot;feature_type&amp;quot;: &amp;quot;location&amp;quot;, &amp;quot;fmt_time&amp;quot;: &amp;quot;2015-08-27 09:35:35.479000-07:00&amp;quot;, &amp;quot;altitude&amp;quot;: 0, &amp;quot;ts&amp;quot;: 1440693335.479, &amp;quot;longitude&amp;quot;: -122.2771575, &amp;quot;latitude&amp;quot;: 37.522433, &amp;quot;heading&amp;quot;: 0, &amp;quot;sensed_speed&amp;quot;: 0, &amp;quot;accuracy&amp;quot;: 45.0}}, {&amp;quot;geometry&amp;quot;: {&amp;quot;type&amp;quot;: &amp;quot;Point&amp;quot;, &amp;quot;coordinates&amp;quot;: [-122.2805606, 37.5255413]}, &amp;quot;type&amp;quot;: &amp;quot;Feature&amp;quot;, &amp;quot;id&amp;quot;: &amp;quot;55df45757d65cb39ee986716&amp;quot;, &amp;quot;properties&amp;quot;: {&amp;quot;feature_type&amp;quot;: &amp;quot;location&amp;quot;, &amp;quot;fmt_time&amp;quot;: &amp;quot;2015-08-27 09:36:05.509000-07:00&amp;quot;, &amp;quot;altitude&amp;quot;: 0, &amp;quot;ts&amp;quot;: 1440693365.509, &amp;quot;longitude&amp;quot;: -122.2805606, &amp;quot;latitude&amp;quot;: 37.5255413, &amp;quot;heading&amp;quot;: 0, &amp;quot;sensed_speed&amp;quot;: 0, &amp;quot;accuracy&amp;quot;: 37.5}}, {&amp;quot;geometry&amp;quot;: {&amp;quot;type&amp;quot;: &amp;quot;Point&amp;quot;, &amp;quot;coordinates&amp;quot;: [-122.2867979, 37.5290806]}, &amp;quot;type&amp;quot;: &amp;quot;Feature&amp;quot;, &amp;quot;id&amp;quot;: &amp;quot;55df45767d65cb39ee986719&amp;quot;, &amp;quot;properties&amp;quot;: {&amp;quot;feature_type&amp;quot;: &amp;quot;location&amp;quot;, &amp;quot;fmt_time&amp;quot;: &amp;quot;2015-08-27 09:36:35.593000-07:00&amp;quot;, &amp;quot;altitude&amp;quot;: 0, &amp;quot;ts&amp;quot;: 1440693395.593, &amp;quot;longitude&amp;quot;: -122.2867979, &amp;quot;latitude&amp;quot;: 37.5290806, &amp;quot;heading&amp;quot;: 0, &amp;quot;sensed_speed&amp;quot;: 0, &amp;quot;accuracy&amp;quot;: 40.5}}, {&amp;quot;geometry&amp;quot;: {&amp;quot;type&amp;quot;: &amp;quot;Point&amp;quot;, &amp;quot;coordinates&amp;quot;: [-122.2934913, 37.5337847]}, &amp;quot;type&amp;quot;: &amp;quot;Feature&amp;quot;, &amp;quot;id&amp;quot;: &amp;quot;55df45767d65cb39ee98671c&amp;quot;, &amp;quot;properties&amp;quot;: {&amp;quot;feature_type&amp;quot;: &amp;quot;location&amp;quot;, &amp;quot;fmt_time&amp;quot;: &amp;quot;2015-08-27 09:37:05.543000-07:00&amp;quot;, &amp;quot;altitude&amp;quot;: 0, &amp;quot;ts&amp;quot;: 1440693425.543, &amp;quot;longitude&amp;quot;: -122.2934913, &amp;quot;latitude&amp;quot;: 37.5337847, &amp;quot;heading&amp;quot;: 0, &amp;quot;sensed_speed&amp;quot;: 0, &amp;quot;accuracy&amp;quot;: 34.5}}, {&amp;quot;geometry&amp;quot;: {&amp;quot;type&amp;quot;: &amp;quot;Point&amp;quot;, &amp;quot;coordinates&amp;quot;: [-122.3012202, 37.5422658]}, &amp;quot;type&amp;quot;: &amp;quot;Feature&amp;quot;, &amp;quot;id&amp;quot;: &amp;quot;55df45767d65cb39ee986726&amp;quot;, &amp;quot;properties&amp;quot;: {&amp;quot;feature_type&amp;quot;: &amp;quot;location&amp;quot;, &amp;quot;fmt_time&amp;quot;: &amp;quot;2015-08-27 09:40:05.744000-07:00&amp;quot;, &amp;quot;altitude&amp;quot;: 0, &amp;quot;ts&amp;quot;: 1440693605.744, &amp;quot;longitude&amp;quot;: -122.3012202, &amp;quot;latitude&amp;quot;: 37.5422658, &amp;quot;heading&amp;quot;: 0, &amp;quot;sensed_speed&amp;quot;: 0, &amp;quot;accuracy&amp;quot;: 36.0}}, {&amp;quot;geometry&amp;quot;: {&amp;quot;type&amp;quot;: &amp;quot;Point&amp;quot;, &amp;quot;coordinates&amp;quot;: [-122.3012202, 37.5422658]}, &amp;quot;type&amp;quot;: &amp;quot;Feature&amp;quot;, &amp;quot;id&amp;quot;: &amp;quot;55df45767d65cb39ee986728&amp;quot;, &amp;quot;properties&amp;quot;: {&amp;quot;feature_type&amp;quot;: &amp;quot;location&amp;quot;, &amp;quot;fmt_time&amp;quot;: &amp;quot;2015-08-27 09:40:28.208000-07:00&amp;quot;, &amp;quot;altitude&amp;quot;: 0, &amp;quot;ts&amp;quot;: 1440693628.208, &amp;quot;longitude&amp;quot;: -122.3012202, &amp;quot;latitude&amp;quot;: 37.5422658, &amp;quot;heading&amp;quot;: 0, &amp;quot;sensed_speed&amp;quot;: 0, &amp;quot;accuracy&amp;quot;: 36.0}}, {&amp;quot;geometry&amp;quot;: {&amp;quot;type&amp;quot;: &amp;quot;Point&amp;quot;, &amp;quot;coordinates&amp;quot;: [-122.3148437, 37.5601944]}, &amp;quot;type&amp;quot;: &amp;quot;Feature&amp;quot;, &amp;quot;id&amp;quot;: &amp;quot;55df45777d65cb39ee98672f&amp;quot;, &amp;quot;properties&amp;quot;: {&amp;quot;feature_type&amp;quot;: &amp;quot;location&amp;quot;, &amp;quot;fmt_time&amp;quot;: &amp;quot;2015-08-27 09:41:35.701000-07:00&amp;quot;, &amp;quot;altitude&amp;quot;: 0, &amp;quot;ts&amp;quot;: 1440693695.701, &amp;quot;longitude&amp;quot;: -122.3148437, &amp;quot;latitude&amp;quot;: 37.5601944, &amp;quot;heading&amp;quot;: 0, &amp;quot;sensed_speed&amp;quot;: 0, &amp;quot;accuracy&amp;quot;: 45.0}}, {&amp;quot;geometry&amp;quot;: {&amp;quot;type&amp;quot;: &amp;quot;Point&amp;quot;, &amp;quot;coordinates&amp;quot;: [-122.3224973, 37.5669161]}, &amp;quot;type&amp;quot;: &amp;quot;Feature&amp;quot;, &amp;quot;id&amp;quot;: &amp;quot;55df45777d65cb39ee986734&amp;quot;, &amp;quot;properties&amp;quot;: {&amp;quot;feature_type&amp;quot;: &amp;quot;location&amp;quot;, &amp;quot;fmt_time&amp;quot;: &amp;quot;2015-08-27 09:42:35.830000-07:00&amp;quot;, &amp;quot;altitude&amp;quot;: 0, &amp;quot;ts&amp;quot;: 1440693755.83, &amp;quot;longitude&amp;quot;: -122.3224973, &amp;quot;latitude&amp;quot;: 37.5669161, &amp;quot;heading&amp;quot;: 0, &amp;quot;sensed_speed&amp;quot;: 0, &amp;quot;accuracy&amp;quot;: 36.0}}, {&amp;quot;geometry&amp;quot;: {&amp;quot;type&amp;quot;: &amp;quot;Point&amp;quot;, &amp;quot;coordinates&amp;quot;: [-122.3247799, 37.5690545]}, &amp;quot;type&amp;quot;: &amp;quot;Feature&amp;quot;, &amp;quot;id&amp;quot;: &amp;quot;55df45777d65cb39ee986738&amp;quot;, &amp;quot;properties&amp;quot;: {&amp;quot;feature_type&amp;quot;: &amp;quot;location&amp;quot;, &amp;quot;fmt_time&amp;quot;: &amp;quot;2015-08-27 09:43:35.962000-07:00&amp;quot;, &amp;quot;altitude&amp;quot;: 0, &amp;quot;ts&amp;quot;: 1440693815.962, &amp;quot;longitude&amp;quot;: -122.3247799, &amp;quot;latitude&amp;quot;: 37.5690545, &amp;quot;heading&amp;quot;: 0, &amp;quot;sensed_speed&amp;quot;: 0, &amp;quot;accuracy&amp;quot;: 36.0}}, {&amp;quot;geometry&amp;quot;: {&amp;quot;type&amp;quot;: &amp;quot;Point&amp;quot;, &amp;quot;coordinates&amp;quot;: [-122.3251962, 37.5692079]}, &amp;quot;type&amp;quot;: &amp;quot;Feature&amp;quot;, &amp;quot;id&amp;quot;: &amp;quot;55df45787d65cb39ee98673b&amp;quot;, &amp;quot;properties&amp;quot;: {&amp;quot;feature_type&amp;quot;: &amp;quot;location&amp;quot;, &amp;quot;fmt_time&amp;quot;: &amp;quot;2015-08-27 09:44:05.920000-07:00&amp;quot;, &amp;quot;altitude&amp;quot;: 0, &amp;quot;ts&amp;quot;: 1440693845.92, &amp;quot;longitude&amp;quot;: -122.3251962, &amp;quot;latitude&amp;quot;: 37.5692079, &amp;quot;heading&amp;quot;: 0, &amp;quot;sensed_speed&amp;quot;: 0, &amp;quot;accuracy&amp;quot;: 49.5}}, {&amp;quot;geometry&amp;quot;: {&amp;quot;type&amp;quot;: &amp;quot;Point&amp;quot;, &amp;quot;coordinates&amp;quot;: [-122.3254295, 37.5693078]}, &amp;quot;type&amp;quot;: &amp;quot;Feature&amp;quot;, &amp;quot;id&amp;quot;: &amp;quot;55df45787d65cb39ee98673d&amp;quot;, &amp;quot;properties&amp;quot;: {&amp;quot;feature_type&amp;quot;: &amp;quot;location&amp;quot;, &amp;quot;fmt_time&amp;quot;: &amp;quot;2015-08-27 09:44:35.939000-07:00&amp;quot;, &amp;quot;altitude&amp;quot;: 0, &amp;quot;ts&amp;quot;: 1440693875.939, &amp;quot;longitude&amp;quot;: -122.3254295, &amp;quot;latitude&amp;quot;: 37.5693078, &amp;quot;heading&amp;quot;: 0, &amp;quot;sensed_speed&amp;quot;: 0, &amp;quot;accuracy&amp;quot;: 37.5}}, {&amp;quot;geometry&amp;quot;: {&amp;quot;type&amp;quot;: &amp;quot;Point&amp;quot;, &amp;quot;coordinates&amp;quot;: [-122.3281082, 37.5721947]}, &amp;quot;type&amp;quot;: &amp;quot;Feature&amp;quot;, &amp;quot;id&amp;quot;: &amp;quot;55df45787d65cb39ee986740&amp;quot;, &amp;quot;properties&amp;quot;: {&amp;quot;feature_type&amp;quot;: &amp;quot;location&amp;quot;, &amp;quot;fmt_time&amp;quot;: &amp;quot;2015-08-27 09:45:06.036000-07:00&amp;quot;, &amp;quot;altitude&amp;quot;: 0, &amp;quot;ts&amp;quot;: 1440693906.036, &amp;quot;longitude&amp;quot;: -122.3281082, &amp;quot;latitude&amp;quot;: 37.5721947, &amp;quot;heading&amp;quot;: 0, &amp;quot;sensed_speed&amp;quot;: 0, &amp;quot;accuracy&amp;quot;: 36.0}}, {&amp;quot;geometry&amp;quot;: {&amp;quot;type&amp;quot;: &amp;quot;Point&amp;quot;, &amp;quot;coordinates&amp;quot;: [-122.3316944, 37.5749343]}, &amp;quot;type&amp;quot;: &amp;quot;Feature&amp;quot;, &amp;quot;id&amp;quot;: &amp;quot;55df45787d65cb39ee986744&amp;quot;, &amp;quot;properties&amp;quot;: {&amp;quot;feature_type&amp;quot;: &amp;quot;location&amp;quot;, &amp;quot;fmt_time&amp;quot;: &amp;quot;2015-08-27 09:45:36.023000-07:00&amp;quot;, &amp;quot;altitude&amp;quot;: 0, &amp;quot;ts&amp;quot;: 1440693936.023, &amp;quot;longitude&amp;quot;: -122.3316944, &amp;quot;latitude&amp;quot;: 37.5749343, &amp;quot;heading&amp;quot;: 0, &amp;quot;sensed_speed&amp;quot;: 0, &amp;quot;accuracy&amp;quot;: 27.0}}, {&amp;quot;geometry&amp;quot;: {&amp;quot;type&amp;quot;: &amp;quot;Point&amp;quot;, &amp;quot;coordinates&amp;quot;: [-122.3352875, 37.5761309]}, &amp;quot;type&amp;quot;: &amp;quot;Feature&amp;quot;, &amp;quot;id&amp;quot;: &amp;quot;55df45787d65cb39ee986747&amp;quot;, &amp;quot;properties&amp;quot;: {&amp;quot;feature_type&amp;quot;: &amp;quot;location&amp;quot;, &amp;quot;fmt_time&amp;quot;: &amp;quot;2015-08-27 09:46:06.075000-07:00&amp;quot;, &amp;quot;altitude&amp;quot;: 0, &amp;quot;ts&amp;quot;: 1440693966.075, &amp;quot;longitude&amp;quot;: -122.3352875, &amp;quot;latitude&amp;quot;: 37.5761309, &amp;quot;heading&amp;quot;: 0, &amp;quot;sensed_speed&amp;quot;: 0, &amp;quot;accuracy&amp;quot;: 40.5}}, {&amp;quot;geometry&amp;quot;: {&amp;quot;type&amp;quot;: &amp;quot;Point&amp;quot;, &amp;quot;coordinates&amp;quot;: [-122.3410251, 37.5785123]}, &amp;quot;type&amp;quot;: &amp;quot;Feature&amp;quot;, &amp;quot;id&amp;quot;: &amp;quot;55df45797d65cb39ee98674a&amp;quot;, &amp;quot;properties&amp;quot;: {&amp;quot;feature_type&amp;quot;: &amp;quot;location&amp;quot;, &amp;quot;fmt_time&amp;quot;: &amp;quot;2015-08-27 09:46:36.121000-07:00&amp;quot;, &amp;quot;altitude&amp;quot;: 0, &amp;quot;ts&amp;quot;: 1440693996.121, &amp;quot;longitude&amp;quot;: -122.3410251, &amp;quot;latitude&amp;quot;: 37.5785123, &amp;quot;heading&amp;quot;: 0, &amp;quot;sensed_speed&amp;quot;: 0, &amp;quot;accuracy&amp;quot;: 90.0}}, {&amp;quot;geometry&amp;quot;: {&amp;quot;type&amp;quot;: &amp;quot;Point&amp;quot;, &amp;quot;coordinates&amp;quot;: [-122.3435781, 37.5796754]}, &amp;quot;type&amp;quot;: &amp;quot;Feature&amp;quot;, &amp;quot;id&amp;quot;: &amp;quot;55df45797d65cb39ee98674c&amp;quot;, &amp;quot;properties&amp;quot;: {&amp;quot;feature_type&amp;quot;: &amp;quot;location&amp;quot;, &amp;quot;fmt_time&amp;quot;: &amp;quot;2015-08-27 09:46:53.078000-07:00&amp;quot;, &amp;quot;altitude&amp;quot;: 0, &amp;quot;ts&amp;quot;: 1440694013.078, &amp;quot;longitude&amp;quot;: -122.3435781, &amp;quot;latitude&amp;quot;: 37.5796754, &amp;quot;heading&amp;quot;: 0, &amp;quot;sensed_speed&amp;quot;: 0, &amp;quot;accuracy&amp;quot;: 37.5}}, {&amp;quot;geometry&amp;quot;: {&amp;quot;type&amp;quot;: &amp;quot;Point&amp;quot;, &amp;quot;coordinates&amp;quot;: [-122.3446146, 37.5797867]}, &amp;quot;type&amp;quot;: &amp;quot;Feature&amp;quot;, &amp;quot;id&amp;quot;: &amp;quot;55df45797d65cb39ee986750&amp;quot;, &amp;quot;properties&amp;quot;: {&amp;quot;feature_type&amp;quot;: &amp;quot;location&amp;quot;, &amp;quot;fmt_time&amp;quot;: &amp;quot;2015-08-27 09:47:24.886000-07:00&amp;quot;, &amp;quot;altitude&amp;quot;: 0, &amp;quot;ts&amp;quot;: 1440694044.886, &amp;quot;longitude&amp;quot;: -122.3446146, &amp;quot;latitude&amp;quot;: 37.5797867, &amp;quot;heading&amp;quot;: 0, &amp;quot;sensed_speed&amp;quot;: 0, &amp;quot;accuracy&amp;quot;: 30.0}}, {&amp;quot;geometry&amp;quot;: {&amp;quot;type&amp;quot;: &amp;quot;Point&amp;quot;, &amp;quot;coordinates&amp;quot;: [-122.3444278, 37.5797932]}, &amp;quot;type&amp;quot;: &amp;quot;Feature&amp;quot;, &amp;quot;id&amp;quot;: &amp;quot;55df457a7d65cb39ee986758&amp;quot;, &amp;quot;properties&amp;quot;: {&amp;quot;feature_type&amp;quot;: &amp;quot;location&amp;quot;, &amp;quot;fmt_time&amp;quot;: &amp;quot;2015-08-27 09:47:57.004000-07:00&amp;quot;, &amp;quot;altitude&amp;quot;: 0, &amp;quot;ts&amp;quot;: 1440694077.004, &amp;quot;longitude&amp;quot;: -122.3444278, &amp;quot;latitude&amp;quot;: 37.5797932, &amp;quot;heading&amp;quot;: 0, &amp;quot;sensed_speed&amp;quot;: 0, &amp;quot;accuracy&amp;quot;: 55.5}}, {&amp;quot;geometry&amp;quot;: {&amp;quot;type&amp;quot;: &amp;quot;Point&amp;quot;, &amp;quot;coordinates&amp;quot;: [-122.3466425, 37.5804851]}, &amp;quot;type&amp;quot;: &amp;quot;Feature&amp;quot;, &amp;quot;id&amp;quot;: &amp;quot;55df457a7d65cb39ee98675c&amp;quot;, &amp;quot;properties&amp;quot;: {&amp;quot;feature_type&amp;quot;: &amp;quot;location&amp;quot;, &amp;quot;fmt_time&amp;quot;: &amp;quot;2015-08-27 09:48:28.519000-07:00&amp;quot;, &amp;quot;altitude&amp;quot;: 0, &amp;quot;ts&amp;quot;: 1440694108.519, &amp;quot;longitude&amp;quot;: -122.3466425, &amp;quot;latitude&amp;quot;: 37.5804851, &amp;quot;heading&amp;quot;: 0, &amp;quot;sensed_speed&amp;quot;: 0, &amp;quot;accuracy&amp;quot;: 40.5}}, {&amp;quot;geometry&amp;quot;: {&amp;quot;type&amp;quot;: &amp;quot;Point&amp;quot;, &amp;quot;coordinates&amp;quot;: [-122.3622066, 37.5877013]}, &amp;quot;type&amp;quot;: &amp;quot;Feature&amp;quot;, &amp;quot;id&amp;quot;: &amp;quot;55df457a7d65cb39ee986763&amp;quot;, &amp;quot;properties&amp;quot;: {&amp;quot;feature_type&amp;quot;: &amp;quot;location&amp;quot;, &amp;quot;fmt_time&amp;quot;: &amp;quot;2015-08-27 09:50:03.983000-07:00&amp;quot;, &amp;quot;altitude&amp;quot;: 0, &amp;quot;ts&amp;quot;: 1440694203.983, &amp;quot;longitude&amp;quot;: -122.3622066, &amp;quot;latitude&amp;quot;: 37.5877013, &amp;quot;heading&amp;quot;: 0, &amp;quot;sensed_speed&amp;quot;: 0, &amp;quot;accuracy&amp;quot;: 45.0}}, {&amp;quot;geometry&amp;quot;: {&amp;quot;type&amp;quot;: &amp;quot;Point&amp;quot;, &amp;quot;coordinates&amp;quot;: [-122.3871416, 37.599251]}, &amp;quot;type&amp;quot;: &amp;quot;Feature&amp;quot;, &amp;quot;id&amp;quot;: &amp;quot;55df457b7d65cb39ee986769&amp;quot;, &amp;quot;properties&amp;quot;: {&amp;quot;feature_type&amp;quot;: &amp;quot;location&amp;quot;, &amp;quot;fmt_time&amp;quot;: &amp;quot;2015-08-27 09:51:44.698000-07:00&amp;quot;, &amp;quot;altitude&amp;quot;: 0, &amp;quot;ts&amp;quot;: 1440694304.698, &amp;quot;longitude&amp;quot;: -122.3871416, &amp;quot;latitude&amp;quot;: 37.599251, &amp;quot;heading&amp;quot;: 0, &amp;quot;sensed_speed&amp;quot;: 0, &amp;quot;accuracy&amp;quot;: 36.0}}, {&amp;quot;geometry&amp;quot;: {&amp;quot;type&amp;quot;: &amp;quot;Point&amp;quot;, &amp;quot;coordinates&amp;quot;: [-122.3871681, 37.5992489]}, &amp;quot;type&amp;quot;: &amp;quot;Feature&amp;quot;, &amp;quot;id&amp;quot;: &amp;quot;55df457b7d65cb39ee98676c&amp;quot;, &amp;quot;properties&amp;quot;: {&amp;quot;feature_type&amp;quot;: &amp;quot;location&amp;quot;, &amp;quot;fmt_time&amp;quot;: &amp;quot;2015-08-27 09:52:14.783000-07:00&amp;quot;, &amp;quot;altitude&amp;quot;: 0, &amp;quot;ts&amp;quot;: 1440694334.783, &amp;quot;longitude&amp;quot;: -122.3871681, &amp;quot;latitude&amp;quot;: 37.5992489, &amp;quot;heading&amp;quot;: 0, &amp;quot;sensed_speed&amp;quot;: 0, &amp;quot;accuracy&amp;quot;: 40.5}}]}, {&amp;quot;geometry&amp;quot;: {&amp;quot;type&amp;quot;: &amp;quot;LineString&amp;quot;, &amp;quot;coordinates&amp;quot;: [[-122.0778188, 37.3957356], [-122.0761742, 37.3941417], [-122.0776881, 37.395656], [-122.0762038, 37.3941508], [-122.0762217, 37.3942296], [-122.0776802, 37.3957268], [-122.0769659, 37.3953633], [-122.076151, 37.3941635], [-122.076142, 37.3941596], [-122.0778411, 37.3957819], [-122.0777656, 37.3957175], [-122.0760912, 37.3950273], [-122.0761752, 37.3942547], [-122.0777412, 37.3956106], [-122.0777709, 37.3957229], [-122.0777836, 37.3956614], [-122.0762241, 37.3947787], [-122.0761291, 37.3940891], [-122.0775421, 37.3956615], [-122.07779, 37.3956878], [-122.0777666, 37.3957174], [-122.0771241, 37.3952022], [-122.0762193, 37.3949768], [-122.106795, 37.4077682], [-122.133534, 37.4235497], [-122.1388521, 37.4277911], [-122.1414298, 37.4291696], [-122.1415265, 37.429284], [-122.1414298, 37.4291696], [-122.1414762, 37.4292348], [-122.1414762, 37.4292348], [-122.1522525, 37.4358008], [-122.1651832, 37.4438895], [-122.1658308, 37.4436462], [-122.1650013, 37.4439291], [-122.1649406, 37.4439526], [-122.180769, 37.4541764], [-122.1829735, 37.4553948], [-122.1829793, 37.4551939], [-122.182976, 37.4553], [-122.2135446, 37.4737671], [-122.2231926, 37.4785943], [-122.2269005, 37.4828822], [-122.2320305, 37.4862189], [-122.2323706, 37.4861919], [-122.2320101, 37.4862121], [-122.2324731, 37.4861669], [-122.234237, 37.4872932], [-122.248984, 37.4984627], [-122.2601884, 37.5068074], [-122.2603798, 37.5082546], [-122.2605659, 37.5081271], [-122.2607601, 37.5077337], [-122.2625349, 37.5100476], [-122.2660316, 37.512868], [-122.2721991, 37.5177452], [-122.2764249, 37.521002], [-122.2763004, 37.5209551], [-122.2763267, 37.5210567], [-122.2771575, 37.522433], [-122.2805606, 37.5255413], [-122.2867979, 37.5290806], [-122.2934913, 37.5337847], [-122.3012202, 37.5422658], [-122.3012202, 37.5422658], [-122.3148437, 37.5601944], [-122.3224973, 37.5669161], [-122.3247799, 37.5690545], [-122.3251962, 37.5692079], [-122.3254295, 37.5693078], [-122.3281082, 37.5721947], [-122.3316944, 37.5749343], [-122.3352875, 37.5761309], [-122.3410251, 37.5785123], [-122.3435781, 37.5796754], [-122.3446146, 37.5797867], [-122.3444278, 37.5797932], [-122.3466425, 37.5804851], [-122.3622066, 37.5877013], [-122.3871416, 37.599251], [-122.3871681, 37.5992489]]}, &amp;quot;type&amp;quot;: &amp;quot;Feature&amp;quot;, &amp;quot;id&amp;quot;: &amp;quot;5603ae10f6858f0cbbb60585&amp;quot;, &amp;quot;properties&amp;quot;: {&amp;quot;feature_type&amp;quot;: &amp;quot;section&amp;quot;, &amp;quot;sensed_mode&amp;quot;: &amp;quot;MotionTypes.IN_VEHICLE&amp;quot;, &amp;quot;end_ts&amp;quot;: 1440694334.783, &amp;quot;start_ts&amp;quot;: 1440690718.768, &amp;quot;start_fmt_time&amp;quot;: &amp;quot;2015-08-27 08:51:58.768000-07:00&amp;quot;, &amp;quot;source&amp;quot;: &amp;quot;SmoothedHighConfidenceMotion&amp;quot;, &amp;quot;end_fmt_time&amp;quot;: &amp;quot;2015-08-27 09:52:14.783000-07:00&amp;quot;, &amp;quot;duration&amp;quot;: 3616.015000104904}}]}, {&amp;quot;type&amp;quot;: &amp;quot;FeatureCollection&amp;quot;, &amp;quot;features&amp;quot;: [{&amp;quot;type&amp;quot;: &amp;quot;FeatureCollection&amp;quot;, &amp;quot;features&amp;quot;: [{&amp;quot;geometry&amp;quot;: {&amp;quot;type&amp;quot;: &amp;quot;Point&amp;quot;, &amp;quot;coordinates&amp;quot;: [-122.3872958, 37.5992574]}, &amp;quot;type&amp;quot;: &amp;quot;Feature&amp;quot;, &amp;quot;id&amp;quot;: &amp;quot;55df457b7d65cb39ee986770&amp;quot;, &amp;quot;properties&amp;quot;: {&amp;quot;feature_type&amp;quot;: &amp;quot;location&amp;quot;, &amp;quot;fmt_time&amp;quot;: &amp;quot;2015-08-27 09:52:44.740000-07:00&amp;quot;, &amp;quot;altitude&amp;quot;: 0, &amp;quot;ts&amp;quot;: 1440694364.74, &amp;quot;longitude&amp;quot;: -122.3872958, &amp;quot;latitude&amp;quot;: 37.5992574, &amp;quot;heading&amp;quot;: 0, &amp;quot;sensed_speed&amp;quot;: 0, &amp;quot;accuracy&amp;quot;: 37.5}}, {&amp;quot;geometry&amp;quot;: {&amp;quot;type&amp;quot;: &amp;quot;Point&amp;quot;, &amp;quot;coordinates&amp;quot;: [-122.387062, 37.5992117]}, &amp;quot;type&amp;quot;: &amp;quot;Feature&amp;quot;, &amp;quot;id&amp;quot;: &amp;quot;55df457b7d65cb39ee986773&amp;quot;, &amp;quot;properties&amp;quot;: {&amp;quot;feature_type&amp;quot;: &amp;quot;location&amp;quot;, &amp;quot;fmt_time&amp;quot;: &amp;quot;2015-08-27 09:53:14.849000-07:00&amp;quot;, &amp;quot;altitude&amp;quot;: 0, &amp;quot;ts&amp;quot;: 1440694394.849, &amp;quot;longitude&amp;quot;: -122.387062, &amp;quot;latitude&amp;quot;: 37.5992117, &amp;quot;heading&amp;quot;: 0, &amp;quot;sensed_speed&amp;quot;: 0, &amp;quot;accuracy&amp;quot;: 36.0}}, {&amp;quot;geometry&amp;quot;: {&amp;quot;type&amp;quot;: &amp;quot;Point&amp;quot;, &amp;quot;coordinates&amp;quot;: [-122.3872605, 37.5995036]}, &amp;quot;type&amp;quot;: &amp;quot;Feature&amp;quot;, &amp;quot;id&amp;quot;: &amp;quot;55df457b7d65cb39ee986775&amp;quot;, &amp;quot;properties&amp;quot;: {&amp;quot;feature_type&amp;quot;: &amp;quot;location&amp;quot;, &amp;quot;fmt_time&amp;quot;: &amp;quot;2015-08-27 09:53:44.894000-07:00&amp;quot;, &amp;quot;altitude&amp;quot;: 0, &amp;quot;ts&amp;quot;: 1440694424.894, &amp;quot;longitude&amp;quot;: -122.3872605, &amp;quot;latitude&amp;quot;: 37.5995036, &amp;quot;heading&amp;quot;: 0, &amp;quot;sensed_speed&amp;quot;: 0, &amp;quot;accuracy&amp;quot;: 113.387}}]}, {&amp;quot;geometry&amp;quot;: {&amp;quot;type&amp;quot;: &amp;quot;LineString&amp;quot;, &amp;quot;coordinates&amp;quot;: [[-122.3872958, 37.5992574], [-122.387062, 37.5992117], [-122.3872605, 37.5995036]]}, &amp;quot;type&amp;quot;: &amp;quot;Feature&amp;quot;, &amp;quot;id&amp;quot;: &amp;quot;5603ae10f6858f0cbbb60586&amp;quot;, &amp;quot;properties&amp;quot;: {&amp;quot;feature_type&amp;quot;: &amp;quot;section&amp;quot;, &amp;quot;sensed_mode&amp;quot;: &amp;quot;MotionTypes.ON_FOOT&amp;quot;, &amp;quot;end_ts&amp;quot;: 1440694424.894, &amp;quot;start_ts&amp;quot;: 1440694364.74, &amp;quot;start_fmt_time&amp;quot;: &amp;quot;2015-08-27 09:52:44.740000-07:00&amp;quot;, &amp;quot;source&amp;quot;: &amp;quot;SmoothedHighConfidenceMotion&amp;quot;, &amp;quot;end_fmt_time&amp;quot;: &amp;quot;2015-08-27 09:53:44.894000-07:00&amp;quot;, &amp;quot;duration&amp;quot;: 60.15400004386902}}]}]}'))})\n",
        "          .await(makeMap)\n",
        "\n",
        "      function onEachFeature(feature, layer) {\n",
        "          // does this feature have a property named popupContent?\n",
        "          if (feature.properties &amp;&amp; feature.properties.popupContent) {\n",
        "              layer.bindPopup(feature.properties.popupContent);\n",
        "              }\n",
        "          };\n",
        "\n",
        "      function makeMap(error, gjson_1) {\n",
        "\n",
        "          \n",
        "\n",
        "          \n",
        "\n",
        "          function matchKey(datapoint, key_variable){\n",
        "              if (typeof key_variable[0][datapoint] === 'undefined') {\n",
        "                  return null;\n",
        "              }\n",
        "              else {\n",
        "                  return parseFloat(key_variable[0][datapoint]);\n",
        "              };\n",
        "          };\n",
        "\n",
        "          \n",
        "\n",
        "          var map = L.map('map').setView([0, 0], 1);\n",
        "\n",
        "          L.tileLayer('https://{s}.tile.openstreetmap.org/{z}/{x}/{y}.png', {\n",
        "              maxZoom: 18,\n",
        "              minZoom: 1,\n",
        "              attribution: 'Map data (c) &lt;a href=&amp;quot;http://openstreetmap.org&amp;quot;&gt;OpenStreetMap&lt;/a&gt; contributors'\n",
        "          }).addTo(map);\n",
        "\n",
        "          \n",
        "          function style_1(feature) {\n",
        "    return {\n",
        "        fillColor: 'blue',\n",
        "        weight: 1,\n",
        "        opacity: 1,\n",
        "        color: 'black',\n",
        "        fillOpacity: 0.6\n",
        "    };\n",
        "}\n",
        "          \n",
        "\n",
        "          \n",
        "          gJson_layer_1 = L.geoJson(gjson_1, {style: style_1,onEachFeature: onEachFeature}).addTo(map)\n",
        "          \n",
        "\n",
        "          \n",
        "\n",
        "          \n",
        "\n",
        "          \n",
        "\n",
        "          \n",
        "\n",
        "          \n",
        "\n",
        "          \n",
        "\n",
        "          var autobounds = L.featureGroup([]).getBounds()\n",
        "\n",
        "\n",
        "\n",
        "\n",
        "\n",
        "map.fitBounds(autobounds,\n",
        "    {&amp;quot;padding&amp;quot;: [30, 30]}\n",
        ");\n",
        "\n",
        "      };\n",
        "\n",
        "   &lt;/script&gt;\n",
        "&lt;/body&gt;&quot; style=&quot;width: 100%; height: 510px; border: none&quot;&gt;&lt;/iframe&gt;</td></tr>\n",
        "<tr><td>&lt;iframe srcdoc=&quot;&lt;!DOCTYPE html&gt;\n",
        "&lt;head&gt;\n",
        "   &lt;meta http-equiv=&amp;quot;content-type&amp;quot; content=&amp;quot;text/html; charset=UTF-8&amp;quot; /&gt;\n",
        "   &lt;link rel=&amp;quot;stylesheet&amp;quot; href=&amp;quot;https://cdnjs.cloudflare.com/ajax/libs/leaflet/0.7.3/leaflet.css&amp;quot; /&gt;\n",
        "   &lt;script src=&amp;quot;https://cdnjs.cloudflare.com/ajax/libs/leaflet/0.7.3/leaflet.js&amp;quot;&gt;&lt;/script&gt;\n",
        "   &lt;script src=&amp;quot;https://cdnjs.cloudflare.com/ajax/libs/d3/3.5.5/d3.min.js&amp;quot; charset=&amp;quot;utf-8&amp;quot;&gt;&lt;/script&gt;\n",
        "   &lt;script src=&amp;quot;https://cdnjs.cloudflare.com/ajax/libs/queue-async/1.0.7/queue.min.js&amp;quot;&gt;&lt;/script&gt;\n",
        "\n",
        "   \n",
        "   \n",
        "   \n",
        "   \n",
        "\n",
        "   &lt;style&gt;\n",
        "\n",
        "      html, body {\n",
        "        width: 100%;\n",
        "        height: 100%;\n",
        "        margin: 0;\n",
        "        padding: 0;\n",
        "      }\n",
        "\n",
        "      .legend {\n",
        "          padding: 0px 0px;\n",
        "          font: 10px sans-serif;\n",
        "          background: white;\n",
        "          background: rgba(255,255,255,0.8);\n",
        "          box-shadow: 0 0 15px rgba(0,0,0,0.2);\n",
        "          border-radius: 5px;\n",
        "      }\n",
        "\n",
        "      .key path {\n",
        "        display: none;\n",
        "      }\n",
        "\n",
        "   &lt;/style&gt;\n",
        "&lt;/head&gt;\n",
        "\n",
        "&lt;body&gt;\n",
        "\n",
        "   &lt;div id=&amp;quot;map&amp;quot; style=&amp;quot;width: 100%; height: 100%&amp;quot;&gt;&lt;/div&gt;\n",
        "\n",
        "   &lt;script&gt;\n",
        "\n",
        "      queue()\n",
        "          .defer(function(callback){callback(null, JSON.parse('{&amp;quot;type&amp;quot;: &amp;quot;FeatureCollection&amp;quot;, &amp;quot;features&amp;quot;: [{&amp;quot;geometry&amp;quot;: {&amp;quot;type&amp;quot;: &amp;quot;Point&amp;quot;, &amp;quot;coordinates&amp;quot;: [-122.3872605, 37.5995036]}, &amp;quot;type&amp;quot;: &amp;quot;Feature&amp;quot;, &amp;quot;id&amp;quot;: &amp;quot;5603ae0cf6858f0cbbb60553&amp;quot;, &amp;quot;properties&amp;quot;: {&amp;quot;enter_fmt_time&amp;quot;: &amp;quot;2015-08-27 09:53:44.894000-07:00&amp;quot;, &amp;quot;feature_type&amp;quot;: &amp;quot;place&amp;quot;, &amp;quot;exit_fmt_time&amp;quot;: &amp;quot;2015-08-27 10:05:52.989000-07:00&amp;quot;, &amp;quot;source&amp;quot;: &amp;quot;DwellSegmentationTimeFilter&amp;quot;, &amp;quot;enter_ts&amp;quot;: 1440694424.894, &amp;quot;duration&amp;quot;: 728.0950000286102, &amp;quot;exit_ts&amp;quot;: 1440695152.989}}, {&amp;quot;geometry&amp;quot;: {&amp;quot;type&amp;quot;: &amp;quot;Point&amp;quot;, &amp;quot;coordinates&amp;quot;: [-122.2603947, 37.875023]}, &amp;quot;type&amp;quot;: &amp;quot;Feature&amp;quot;, &amp;quot;id&amp;quot;: &amp;quot;5603ae0cf6858f0cbbb60555&amp;quot;, &amp;quot;properties&amp;quot;: {&amp;quot;enter_fmt_time&amp;quot;: &amp;quot;2015-08-27 11:14:26.669000-07:00&amp;quot;, &amp;quot;feature_type&amp;quot;: &amp;quot;place&amp;quot;, &amp;quot;exit_fmt_time&amp;quot;: &amp;quot;2015-08-27 11:25:33.687000-07:00&amp;quot;, &amp;quot;source&amp;quot;: &amp;quot;DwellSegmentationTimeFilter&amp;quot;, &amp;quot;enter_ts&amp;quot;: 1440699266.669, &amp;quot;duration&amp;quot;: 667.018000125885, &amp;quot;exit_ts&amp;quot;: 1440699933.687}}, {&amp;quot;geometry&amp;quot;: {&amp;quot;type&amp;quot;: &amp;quot;Point&amp;quot;, &amp;quot;coordinates&amp;quot;: [-122.2682605, 37.8700849]}, &amp;quot;type&amp;quot;: &amp;quot;Feature&amp;quot;, &amp;quot;id&amp;quot;: &amp;quot;5603ae10f6858f0cbbb6058a&amp;quot;, &amp;quot;properties&amp;quot;: {&amp;quot;enter_fmt_time&amp;quot;: &amp;quot;2015-08-27 10:54:26.704000-07:00&amp;quot;, &amp;quot;feature_type&amp;quot;: &amp;quot;stop&amp;quot;, &amp;quot;exit_fmt_time&amp;quot;: &amp;quot;2015-08-27 10:58:26.892000-07:00&amp;quot;, &amp;quot;source&amp;quot;: &amp;quot;SmoothedHighConfidenceMotion&amp;quot;, &amp;quot;enter_ts&amp;quot;: 1440698066.704, &amp;quot;duration&amp;quot;: 240.18799996376038, &amp;quot;exit_ts&amp;quot;: 1440698306.892}}, {&amp;quot;type&amp;quot;: &amp;quot;FeatureCollection&amp;quot;, &amp;quot;features&amp;quot;: [{&amp;quot;type&amp;quot;: &amp;quot;FeatureCollection&amp;quot;, &amp;quot;features&amp;quot;: [{&amp;quot;geometry&amp;quot;: {&amp;quot;type&amp;quot;: &amp;quot;Point&amp;quot;, &amp;quot;coordinates&amp;quot;: [-122.4029569, 37.6162024]}, &amp;quot;type&amp;quot;: &amp;quot;Feature&amp;quot;, &amp;quot;id&amp;quot;: &amp;quot;55df457d7d65cb39ee986795&amp;quot;, &amp;quot;properties&amp;quot;: {&amp;quot;feature_type&amp;quot;: &amp;quot;location&amp;quot;, &amp;quot;fmt_time&amp;quot;: &amp;quot;2015-08-27 10:05:52.989000-07:00&amp;quot;, &amp;quot;altitude&amp;quot;: 0, &amp;quot;ts&amp;quot;: 1440695152.989, &amp;quot;longitude&amp;quot;: -122.4029569, &amp;quot;latitude&amp;quot;: 37.6162024, &amp;quot;heading&amp;quot;: 0, &amp;quot;sensed_speed&amp;quot;: 0, &amp;quot;accuracy&amp;quot;: 51.0}}, {&amp;quot;geometry&amp;quot;: {&amp;quot;type&amp;quot;: &amp;quot;Point&amp;quot;, &amp;quot;coordinates&amp;quot;: [-122.4034099, 37.6169824]}, &amp;quot;type&amp;quot;: &amp;quot;Feature&amp;quot;, &amp;quot;id&amp;quot;: &amp;quot;55df457d7d65cb39ee986798&amp;quot;, &amp;quot;properties&amp;quot;: {&amp;quot;feature_type&amp;quot;: &amp;quot;location&amp;quot;, &amp;quot;fmt_time&amp;quot;: &amp;quot;2015-08-27 10:06:23.034000-07:00&amp;quot;, &amp;quot;altitude&amp;quot;: 0, &amp;quot;ts&amp;quot;: 1440695183.034, &amp;quot;longitude&amp;quot;: -122.4034099, &amp;quot;latitude&amp;quot;: 37.6169824, &amp;quot;heading&amp;quot;: 0, &amp;quot;sensed_speed&amp;quot;: 0, &amp;quot;accuracy&amp;quot;: 51.0}}, {&amp;quot;geometry&amp;quot;: {&amp;quot;type&amp;quot;: &amp;quot;Point&amp;quot;, &amp;quot;coordinates&amp;quot;: [-122.4710997, 37.7039975]}, &amp;quot;type&amp;quot;: &amp;quot;Feature&amp;quot;, &amp;quot;id&amp;quot;: &amp;quot;55df5a7f7d65cb39ee9868aa&amp;quot;, &amp;quot;properties&amp;quot;: {&amp;quot;feature_type&amp;quot;: &amp;quot;location&amp;quot;, &amp;quot;fmt_time&amp;quot;: &amp;quot;2015-08-27 10:17:53.453000-07:00&amp;quot;, &amp;quot;altitude&amp;quot;: 0, &amp;quot;ts&amp;quot;: 1440695873.453, &amp;quot;longitude&amp;quot;: -122.4710997, &amp;quot;latitude&amp;quot;: 37.7039975, &amp;quot;heading&amp;quot;: 0, &amp;quot;sensed_speed&amp;quot;: 0, &amp;quot;accuracy&amp;quot;: 69.0}}, {&amp;quot;geometry&amp;quot;: {&amp;quot;type&amp;quot;: &amp;quot;Point&amp;quot;, &amp;quot;coordinates&amp;quot;: [-122.4695123, 37.7053759]}, &amp;quot;type&amp;quot;: &amp;quot;Feature&amp;quot;, &amp;quot;id&amp;quot;: &amp;quot;55df5a7f7d65cb39ee9868ad&amp;quot;, &amp;quot;properties&amp;quot;: {&amp;quot;feature_type&amp;quot;: &amp;quot;location&amp;quot;, &amp;quot;fmt_time&amp;quot;: &amp;quot;2015-08-27 10:18:23.480000-07:00&amp;quot;, &amp;quot;altitude&amp;quot;: 0, &amp;quot;ts&amp;quot;: 1440695903.48, &amp;quot;longitude&amp;quot;: -122.4695123, &amp;quot;latitude&amp;quot;: 37.7053759, &amp;quot;heading&amp;quot;: 0, &amp;quot;sensed_speed&amp;quot;: 0, &amp;quot;accuracy&amp;quot;: 36.0}}, {&amp;quot;geometry&amp;quot;: {&amp;quot;type&amp;quot;: &amp;quot;Point&amp;quot;, &amp;quot;coordinates&amp;quot;: [-122.4688337, 37.706003]}, &amp;quot;type&amp;quot;: &amp;quot;Feature&amp;quot;, &amp;quot;id&amp;quot;: &amp;quot;55df5a7f7d65cb39ee9868af&amp;quot;, &amp;quot;properties&amp;quot;: {&amp;quot;feature_type&amp;quot;: &amp;quot;location&amp;quot;, &amp;quot;fmt_time&amp;quot;: &amp;quot;2015-08-27 10:18:53.491000-07:00&amp;quot;, &amp;quot;altitude&amp;quot;: 0, &amp;quot;ts&amp;quot;: 1440695933.491, &amp;quot;longitude&amp;quot;: -122.4688337, &amp;quot;latitude&amp;quot;: 37.706003, &amp;quot;heading&amp;quot;: 0, &amp;quot;sensed_speed&amp;quot;: 0, &amp;quot;accuracy&amp;quot;: 48.0}}, {&amp;quot;geometry&amp;quot;: {&amp;quot;type&amp;quot;: &amp;quot;Point&amp;quot;, &amp;quot;coordinates&amp;quot;: [-122.4687392, 37.7058873]}, &amp;quot;type&amp;quot;: &amp;quot;Feature&amp;quot;, &amp;quot;id&amp;quot;: &amp;quot;55df5a7f7d65cb39ee9868b2&amp;quot;, &amp;quot;properties&amp;quot;: {&amp;quot;feature_type&amp;quot;: &amp;quot;location&amp;quot;, &amp;quot;fmt_time&amp;quot;: &amp;quot;2015-08-27 10:19:23.552000-07:00&amp;quot;, &amp;quot;altitude&amp;quot;: 0, &amp;quot;ts&amp;quot;: 1440695963.552, &amp;quot;longitude&amp;quot;: -122.4687392, &amp;quot;latitude&amp;quot;: 37.7058873, &amp;quot;heading&amp;quot;: 0, &amp;quot;sensed_speed&amp;quot;: 0, &amp;quot;accuracy&amp;quot;: 37.5}}, {&amp;quot;geometry&amp;quot;: {&amp;quot;type&amp;quot;: &amp;quot;Point&amp;quot;, &amp;quot;coordinates&amp;quot;: [-122.4659174, 37.7104542]}, &amp;quot;type&amp;quot;: &amp;quot;Feature&amp;quot;, &amp;quot;id&amp;quot;: &amp;quot;55df5a7f7d65cb39ee9868b5&amp;quot;, &amp;quot;properties&amp;quot;: {&amp;quot;feature_type&amp;quot;: &amp;quot;location&amp;quot;, &amp;quot;fmt_time&amp;quot;: &amp;quot;2015-08-27 10:19:53.536000-07:00&amp;quot;, &amp;quot;altitude&amp;quot;: 0, &amp;quot;ts&amp;quot;: 1440695993.536, &amp;quot;longitude&amp;quot;: -122.4659174, &amp;quot;latitude&amp;quot;: 37.7104542, &amp;quot;heading&amp;quot;: 0, &amp;quot;sensed_speed&amp;quot;: 0, &amp;quot;accuracy&amp;quot;: 36.0}}, {&amp;quot;geometry&amp;quot;: {&amp;quot;type&amp;quot;: &amp;quot;Point&amp;quot;, &amp;quot;coordinates&amp;quot;: [-122.4588706, 37.7104583]}, &amp;quot;type&amp;quot;: &amp;quot;Feature&amp;quot;, &amp;quot;id&amp;quot;: &amp;quot;55df5a807d65cb39ee9868b8&amp;quot;, &amp;quot;properties&amp;quot;: {&amp;quot;feature_type&amp;quot;: &amp;quot;location&amp;quot;, &amp;quot;fmt_time&amp;quot;: &amp;quot;2015-08-27 10:20:23.549000-07:00&amp;quot;, &amp;quot;altitude&amp;quot;: 0, &amp;quot;ts&amp;quot;: 1440696023.549, &amp;quot;longitude&amp;quot;: -122.4588706, &amp;quot;latitude&amp;quot;: 37.7104583, &amp;quot;heading&amp;quot;: 0, &amp;quot;sensed_speed&amp;quot;: 0, &amp;quot;accuracy&amp;quot;: 40.5}}, {&amp;quot;geometry&amp;quot;: {&amp;quot;type&amp;quot;: &amp;quot;Point&amp;quot;, &amp;quot;coordinates&amp;quot;: [-122.4539366, 37.7113783]}, &amp;quot;type&amp;quot;: &amp;quot;Feature&amp;quot;, &amp;quot;id&amp;quot;: &amp;quot;55df5a807d65cb39ee9868bb&amp;quot;, &amp;quot;properties&amp;quot;: {&amp;quot;feature_type&amp;quot;: &amp;quot;location&amp;quot;, &amp;quot;fmt_time&amp;quot;: &amp;quot;2015-08-27 10:20:53.591000-07:00&amp;quot;, &amp;quot;altitude&amp;quot;: 0, &amp;quot;ts&amp;quot;: 1440696053.591, &amp;quot;longitude&amp;quot;: -122.4539366, &amp;quot;latitude&amp;quot;: 37.7113783, &amp;quot;heading&amp;quot;: 0, &amp;quot;sensed_speed&amp;quot;: 0, &amp;quot;accuracy&amp;quot;: 48.0}}, {&amp;quot;geometry&amp;quot;: {&amp;quot;type&amp;quot;: &amp;quot;Point&amp;quot;, &amp;quot;coordinates&amp;quot;: [-122.4496369, 37.7149562]}, &amp;quot;type&amp;quot;: &amp;quot;Feature&amp;quot;, &amp;quot;id&amp;quot;: &amp;quot;55df5a807d65cb39ee9868be&amp;quot;, &amp;quot;properties&amp;quot;: {&amp;quot;feature_type&amp;quot;: &amp;quot;location&amp;quot;, &amp;quot;fmt_time&amp;quot;: &amp;quot;2015-08-27 10:21:23.589000-07:00&amp;quot;, &amp;quot;altitude&amp;quot;: 0, &amp;quot;ts&amp;quot;: 1440696083.589, &amp;quot;longitude&amp;quot;: -122.4496369, &amp;quot;latitude&amp;quot;: 37.7149562, &amp;quot;heading&amp;quot;: 0, &amp;quot;sensed_speed&amp;quot;: 0, &amp;quot;accuracy&amp;quot;: 40.5}}, {&amp;quot;geometry&amp;quot;: {&amp;quot;type&amp;quot;: &amp;quot;Point&amp;quot;, &amp;quot;coordinates&amp;quot;: [-122.2993606, 37.8063249]}, &amp;quot;type&amp;quot;: &amp;quot;Feature&amp;quot;, &amp;quot;id&amp;quot;: &amp;quot;55df5a857d65cb39ee986904&amp;quot;, &amp;quot;properties&amp;quot;: {&amp;quot;feature_type&amp;quot;: &amp;quot;location&amp;quot;, &amp;quot;fmt_time&amp;quot;: &amp;quot;2015-08-27 10:41:54.688000-07:00&amp;quot;, &amp;quot;altitude&amp;quot;: 0, &amp;quot;ts&amp;quot;: 1440697314.688, &amp;quot;longitude&amp;quot;: -122.2993606, &amp;quot;latitude&amp;quot;: 37.8063249, &amp;quot;heading&amp;quot;: 0, &amp;quot;sensed_speed&amp;quot;: 0, &amp;quot;accuracy&amp;quot;: 57.0}}, {&amp;quot;geometry&amp;quot;: {&amp;quot;type&amp;quot;: &amp;quot;Point&amp;quot;, &amp;quot;coordinates&amp;quot;: [-122.2946699, 37.8046873]}, &amp;quot;type&amp;quot;: &amp;quot;Feature&amp;quot;, &amp;quot;id&amp;quot;: &amp;quot;55df5a857d65cb39ee986908&amp;quot;, &amp;quot;properties&amp;quot;: {&amp;quot;feature_type&amp;quot;: &amp;quot;location&amp;quot;, &amp;quot;fmt_time&amp;quot;: &amp;quot;2015-08-27 10:42:24.898000-07:00&amp;quot;, &amp;quot;altitude&amp;quot;: 0, &amp;quot;ts&amp;quot;: 1440697344.898, &amp;quot;longitude&amp;quot;: -122.2946699, &amp;quot;latitude&amp;quot;: 37.8046873, &amp;quot;heading&amp;quot;: 0, &amp;quot;sensed_speed&amp;quot;: 0, &amp;quot;accuracy&amp;quot;: 57.0}}, {&amp;quot;geometry&amp;quot;: {&amp;quot;type&amp;quot;: &amp;quot;Point&amp;quot;, &amp;quot;coordinates&amp;quot;: [-122.2942884, 37.8045621]}, &amp;quot;type&amp;quot;: &amp;quot;Feature&amp;quot;, &amp;quot;id&amp;quot;: &amp;quot;55df5a857d65cb39ee98690a&amp;quot;, &amp;quot;properties&amp;quot;: {&amp;quot;feature_type&amp;quot;: &amp;quot;location&amp;quot;, &amp;quot;fmt_time&amp;quot;: &amp;quot;2015-08-27 10:42:54.905000-07:00&amp;quot;, &amp;quot;altitude&amp;quot;: 0, &amp;quot;ts&amp;quot;: 1440697374.905, &amp;quot;longitude&amp;quot;: -122.2942884, &amp;quot;latitude&amp;quot;: 37.8045621, &amp;quot;heading&amp;quot;: 0, &amp;quot;sensed_speed&amp;quot;: 0, &amp;quot;accuracy&amp;quot;: 37.5}}, {&amp;quot;geometry&amp;quot;: {&amp;quot;type&amp;quot;: &amp;quot;Point&amp;quot;, &amp;quot;coordinates&amp;quot;: [-122.2874324, 37.802572]}, &amp;quot;type&amp;quot;: &amp;quot;Feature&amp;quot;, &amp;quot;id&amp;quot;: &amp;quot;55df5a857d65cb39ee98690e&amp;quot;, &amp;quot;properties&amp;quot;: {&amp;quot;feature_type&amp;quot;: &amp;quot;location&amp;quot;, &amp;quot;fmt_time&amp;quot;: &amp;quot;2015-08-27 10:43:54.921000-07:00&amp;quot;, &amp;quot;altitude&amp;quot;: 0, &amp;quot;ts&amp;quot;: 1440697434.921, &amp;quot;longitude&amp;quot;: -122.2874324, &amp;quot;latitude&amp;quot;: 37.802572, &amp;quot;heading&amp;quot;: 0, &amp;quot;sensed_speed&amp;quot;: 0, &amp;quot;accuracy&amp;quot;: 36.0}}, {&amp;quot;geometry&amp;quot;: {&amp;quot;type&amp;quot;: &amp;quot;Point&amp;quot;, &amp;quot;coordinates&amp;quot;: [-122.2812746, 37.8003098]}, &amp;quot;type&amp;quot;: &amp;quot;Feature&amp;quot;, &amp;quot;id&amp;quot;: &amp;quot;55df5a867d65cb39ee986912&amp;quot;, &amp;quot;properties&amp;quot;: {&amp;quot;feature_type&amp;quot;: &amp;quot;location&amp;quot;, &amp;quot;fmt_time&amp;quot;: &amp;quot;2015-08-27 10:44:25.121000-07:00&amp;quot;, &amp;quot;altitude&amp;quot;: 0, &amp;quot;ts&amp;quot;: 1440697465.121, &amp;quot;longitude&amp;quot;: -122.2812746, &amp;quot;latitude&amp;quot;: 37.8003098, &amp;quot;heading&amp;quot;: 0, &amp;quot;sensed_speed&amp;quot;: 0, &amp;quot;accuracy&amp;quot;: 63.0}}, {&amp;quot;geometry&amp;quot;: {&amp;quot;type&amp;quot;: &amp;quot;Point&amp;quot;, &amp;quot;coordinates&amp;quot;: [-122.2788163, 37.7992023]}, &amp;quot;type&amp;quot;: &amp;quot;Feature&amp;quot;, &amp;quot;id&amp;quot;: &amp;quot;55df5a867d65cb39ee986915&amp;quot;, &amp;quot;properties&amp;quot;: {&amp;quot;feature_type&amp;quot;: &amp;quot;location&amp;quot;, &amp;quot;fmt_time&amp;quot;: &amp;quot;2015-08-27 10:44:55.167000-07:00&amp;quot;, &amp;quot;altitude&amp;quot;: 0, &amp;quot;ts&amp;quot;: 1440697495.167, &amp;quot;longitude&amp;quot;: -122.2788163, &amp;quot;latitude&amp;quot;: 37.7992023, &amp;quot;heading&amp;quot;: 0, &amp;quot;sensed_speed&amp;quot;: 0, &amp;quot;accuracy&amp;quot;: 36.0}}, {&amp;quot;geometry&amp;quot;: {&amp;quot;type&amp;quot;: &amp;quot;Point&amp;quot;, &amp;quot;coordinates&amp;quot;: [-122.2690081, 37.8151412]}, &amp;quot;type&amp;quot;: &amp;quot;Feature&amp;quot;, &amp;quot;id&amp;quot;: &amp;quot;55df5a877d65cb39ee986924&amp;quot;, &amp;quot;properties&amp;quot;: {&amp;quot;feature_type&amp;quot;: &amp;quot;location&amp;quot;, &amp;quot;fmt_time&amp;quot;: &amp;quot;2015-08-27 10:49:25.352000-07:00&amp;quot;, &amp;quot;altitude&amp;quot;: 0, &amp;quot;ts&amp;quot;: 1440697765.352, &amp;quot;longitude&amp;quot;: -122.2690081, &amp;quot;latitude&amp;quot;: 37.8151412, &amp;quot;heading&amp;quot;: 0, &amp;quot;sensed_speed&amp;quot;: 0, &amp;quot;accuracy&amp;quot;: 36.0}}, {&amp;quot;geometry&amp;quot;: {&amp;quot;type&amp;quot;: &amp;quot;Point&amp;quot;, &amp;quot;coordinates&amp;quot;: [-122.2721842, 37.814555]}, &amp;quot;type&amp;quot;: &amp;quot;Feature&amp;quot;, &amp;quot;id&amp;quot;: &amp;quot;55df5a877d65cb39ee986928&amp;quot;, &amp;quot;properties&amp;quot;: {&amp;quot;feature_type&amp;quot;: &amp;quot;location&amp;quot;, &amp;quot;fmt_time&amp;quot;: &amp;quot;2015-08-27 10:50:25.991000-07:00&amp;quot;, &amp;quot;altitude&amp;quot;: 0, &amp;quot;ts&amp;quot;: 1440697825.991, &amp;quot;longitude&amp;quot;: -122.2721842, &amp;quot;latitude&amp;quot;: 37.814555, &amp;quot;heading&amp;quot;: 0, &amp;quot;sensed_speed&amp;quot;: 0, &amp;quot;accuracy&amp;quot;: 42.0}}, {&amp;quot;geometry&amp;quot;: {&amp;quot;type&amp;quot;: &amp;quot;Point&amp;quot;, &amp;quot;coordinates&amp;quot;: [-122.2690856, 37.8273713]}, &amp;quot;type&amp;quot;: &amp;quot;Feature&amp;quot;, &amp;quot;id&amp;quot;: &amp;quot;55df5a877d65cb39ee98692f&amp;quot;, &amp;quot;properties&amp;quot;: {&amp;quot;feature_type&amp;quot;: &amp;quot;location&amp;quot;, &amp;quot;fmt_time&amp;quot;: &amp;quot;2015-08-27 10:51:56.548000-07:00&amp;quot;, &amp;quot;altitude&amp;quot;: 0, &amp;quot;ts&amp;quot;: 1440697916.548, &amp;quot;longitude&amp;quot;: -122.2690856, &amp;quot;latitude&amp;quot;: 37.8273713, &amp;quot;heading&amp;quot;: 0, &amp;quot;sensed_speed&amp;quot;: 0, &amp;quot;accuracy&amp;quot;: 87.0}}, {&amp;quot;geometry&amp;quot;: {&amp;quot;type&amp;quot;: &amp;quot;Point&amp;quot;, &amp;quot;coordinates&amp;quot;: [-122.2693285, 37.83869]}, &amp;quot;type&amp;quot;: &amp;quot;Feature&amp;quot;, &amp;quot;id&amp;quot;: &amp;quot;55df5a887d65cb39ee986937&amp;quot;, &amp;quot;properties&amp;quot;: {&amp;quot;feature_type&amp;quot;: &amp;quot;location&amp;quot;, &amp;quot;fmt_time&amp;quot;: &amp;quot;2015-08-27 10:53:56.641000-07:00&amp;quot;, &amp;quot;altitude&amp;quot;: 0, &amp;quot;ts&amp;quot;: 1440698036.641, &amp;quot;longitude&amp;quot;: -122.2693285, &amp;quot;latitude&amp;quot;: 37.83869, &amp;quot;heading&amp;quot;: 0, &amp;quot;sensed_speed&amp;quot;: 0, &amp;quot;accuracy&amp;quot;: 57.0}}, {&amp;quot;geometry&amp;quot;: {&amp;quot;type&amp;quot;: &amp;quot;Point&amp;quot;, &amp;quot;coordinates&amp;quot;: [-122.2705638, 37.8440278]}, &amp;quot;type&amp;quot;: &amp;quot;Feature&amp;quot;, &amp;quot;id&amp;quot;: &amp;quot;55df5a887d65cb39ee98693a&amp;quot;, &amp;quot;properties&amp;quot;: {&amp;quot;feature_type&amp;quot;: &amp;quot;location&amp;quot;, &amp;quot;fmt_time&amp;quot;: &amp;quot;2015-08-27 10:54:26.704000-07:00&amp;quot;, &amp;quot;altitude&amp;quot;: 0, &amp;quot;ts&amp;quot;: 1440698066.704, &amp;quot;longitude&amp;quot;: -122.2705638, &amp;quot;latitude&amp;quot;: 37.8440278, &amp;quot;heading&amp;quot;: 0, &amp;quot;sensed_speed&amp;quot;: 0, &amp;quot;accuracy&amp;quot;: 33.0}}]}, {&amp;quot;geometry&amp;quot;: {&amp;quot;type&amp;quot;: &amp;quot;LineString&amp;quot;, &amp;quot;coordinates&amp;quot;: [[-122.3872605, 37.5995036], [-122.4029569, 37.6162024], [-122.4034099, 37.6169824], [-122.4710997, 37.7039975], [-122.4695123, 37.7053759], [-122.4688337, 37.706003], [-122.4687392, 37.7058873], [-122.4659174, 37.7104542], [-122.4588706, 37.7104583], [-122.4539366, 37.7113783], [-122.4496369, 37.7149562], [-122.2993606, 37.8063249], [-122.2946699, 37.8046873], [-122.2942884, 37.8045621], [-122.2874324, 37.802572], [-122.2812746, 37.8003098], [-122.2788163, 37.7992023], [-122.2690081, 37.8151412], [-122.2721842, 37.814555], [-122.2690856, 37.8273713], [-122.2693285, 37.83869], [-122.2705638, 37.8440278]]}, &amp;quot;type&amp;quot;: &amp;quot;Feature&amp;quot;, &amp;quot;id&amp;quot;: &amp;quot;5603ae10f6858f0cbbb60588&amp;quot;, &amp;quot;properties&amp;quot;: {&amp;quot;feature_type&amp;quot;: &amp;quot;section&amp;quot;, &amp;quot;sensed_mode&amp;quot;: &amp;quot;MotionTypes.IN_VEHICLE&amp;quot;, &amp;quot;end_ts&amp;quot;: 1440698066.704, &amp;quot;start_ts&amp;quot;: 1440695152.989, &amp;quot;start_fmt_time&amp;quot;: &amp;quot;2015-08-27 10:05:52.989000-07:00&amp;quot;, &amp;quot;source&amp;quot;: &amp;quot;SmoothedHighConfidenceMotion&amp;quot;, &amp;quot;end_fmt_time&amp;quot;: &amp;quot;2015-08-27 10:54:26.704000-07:00&amp;quot;, &amp;quot;duration&amp;quot;: 2913.7149999141693}}]}, {&amp;quot;type&amp;quot;: &amp;quot;FeatureCollection&amp;quot;, &amp;quot;features&amp;quot;: [{&amp;quot;type&amp;quot;: &amp;quot;FeatureCollection&amp;quot;, &amp;quot;features&amp;quot;: [{&amp;quot;geometry&amp;quot;: {&amp;quot;type&amp;quot;: &amp;quot;Point&amp;quot;, &amp;quot;coordinates&amp;quot;: [-122.2682605, 37.8700849]}, &amp;quot;type&amp;quot;: &amp;quot;Feature&amp;quot;, &amp;quot;id&amp;quot;: &amp;quot;55df5a897d65cb39ee98694b&amp;quot;, &amp;quot;properties&amp;quot;: {&amp;quot;feature_type&amp;quot;: &amp;quot;location&amp;quot;, &amp;quot;fmt_time&amp;quot;: &amp;quot;2015-08-27 10:58:26.892000-07:00&amp;quot;, &amp;quot;altitude&amp;quot;: 0, &amp;quot;ts&amp;quot;: 1440698306.892, &amp;quot;longitude&amp;quot;: -122.2682605, &amp;quot;latitude&amp;quot;: 37.8700849, &amp;quot;heading&amp;quot;: 0, &amp;quot;sensed_speed&amp;quot;: 0, &amp;quot;accuracy&amp;quot;: 25.0}}, {&amp;quot;geometry&amp;quot;: {&amp;quot;type&amp;quot;: &amp;quot;Point&amp;quot;, &amp;quot;coordinates&amp;quot;: [-122.2681346, 37.8707148]}, &amp;quot;type&amp;quot;: &amp;quot;Feature&amp;quot;, &amp;quot;id&amp;quot;: &amp;quot;55df5a8a7d65cb39ee986953&amp;quot;, &amp;quot;properties&amp;quot;: {&amp;quot;feature_type&amp;quot;: &amp;quot;location&amp;quot;, &amp;quot;fmt_time&amp;quot;: &amp;quot;2015-08-27 10:59:26.497000-07:00&amp;quot;, &amp;quot;altitude&amp;quot;: 0, &amp;quot;ts&amp;quot;: 1440698366.497, &amp;quot;longitude&amp;quot;: -122.2681346, &amp;quot;latitude&amp;quot;: 37.8707148, &amp;quot;heading&amp;quot;: 0, &amp;quot;sensed_speed&amp;quot;: 0, &amp;quot;accuracy&amp;quot;: 48.0}}, {&amp;quot;geometry&amp;quot;: {&amp;quot;type&amp;quot;: &amp;quot;Point&amp;quot;, &amp;quot;coordinates&amp;quot;: [-122.2682285, 37.8711642]}, &amp;quot;type&amp;quot;: &amp;quot;Feature&amp;quot;, &amp;quot;id&amp;quot;: &amp;quot;55df5a8a7d65cb39ee986956&amp;quot;, &amp;quot;properties&amp;quot;: {&amp;quot;feature_type&amp;quot;: &amp;quot;location&amp;quot;, &amp;quot;fmt_time&amp;quot;: &amp;quot;2015-08-27 10:59:56.648000-07:00&amp;quot;, &amp;quot;altitude&amp;quot;: 0, &amp;quot;ts&amp;quot;: 1440698396.648, &amp;quot;longitude&amp;quot;: -122.2682285, &amp;quot;latitude&amp;quot;: 37.8711642, &amp;quot;heading&amp;quot;: 0, &amp;quot;sensed_speed&amp;quot;: 0, &amp;quot;accuracy&amp;quot;: 37.064}}, {&amp;quot;geometry&amp;quot;: {&amp;quot;type&amp;quot;: &amp;quot;Point&amp;quot;, &amp;quot;coordinates&amp;quot;: [-122.2678988, 37.8711621]}, &amp;quot;type&amp;quot;: &amp;quot;Feature&amp;quot;, &amp;quot;id&amp;quot;: &amp;quot;55df5a8a7d65cb39ee986958&amp;quot;, &amp;quot;properties&amp;quot;: {&amp;quot;feature_type&amp;quot;: &amp;quot;location&amp;quot;, &amp;quot;fmt_time&amp;quot;: &amp;quot;2015-08-27 11:00:26.652000-07:00&amp;quot;, &amp;quot;altitude&amp;quot;: 0, &amp;quot;ts&amp;quot;: 1440698426.652, &amp;quot;longitude&amp;quot;: -122.2678988, &amp;quot;latitude&amp;quot;: 37.8711621, &amp;quot;heading&amp;quot;: 0, &amp;quot;sensed_speed&amp;quot;: 0, &amp;quot;accuracy&amp;quot;: 30.408}}, {&amp;quot;geometry&amp;quot;: {&amp;quot;type&amp;quot;: &amp;quot;Point&amp;quot;, &amp;quot;coordinates&amp;quot;: [-122.2675291, 37.8711694]}, &amp;quot;type&amp;quot;: &amp;quot;Feature&amp;quot;, &amp;quot;id&amp;quot;: &amp;quot;55df5a8a7d65cb39ee98695b&amp;quot;, &amp;quot;properties&amp;quot;: {&amp;quot;feature_type&amp;quot;: &amp;quot;location&amp;quot;, &amp;quot;fmt_time&amp;quot;: &amp;quot;2015-08-27 11:00:56.672000-07:00&amp;quot;, &amp;quot;altitude&amp;quot;: 0, &amp;quot;ts&amp;quot;: 1440698456.672, &amp;quot;longitude&amp;quot;: -122.2675291, &amp;quot;latitude&amp;quot;: 37.8711694, &amp;quot;heading&amp;quot;: 0, &amp;quot;sensed_speed&amp;quot;: 0, &amp;quot;accuracy&amp;quot;: 26.103}}, {&amp;quot;geometry&amp;quot;: {&amp;quot;type&amp;quot;: &amp;quot;Point&amp;quot;, &amp;quot;coordinates&amp;quot;: [-122.2669631, 37.8713225]}, &amp;quot;type&amp;quot;: &amp;quot;Feature&amp;quot;, &amp;quot;id&amp;quot;: &amp;quot;55df5a8b7d65cb39ee98695f&amp;quot;, &amp;quot;properties&amp;quot;: {&amp;quot;feature_type&amp;quot;: &amp;quot;location&amp;quot;, &amp;quot;fmt_time&amp;quot;: &amp;quot;2015-08-27 11:01:26.778000-07:00&amp;quot;, &amp;quot;altitude&amp;quot;: 0, &amp;quot;ts&amp;quot;: 1440698486.778, &amp;quot;longitude&amp;quot;: -122.2669631, &amp;quot;latitude&amp;quot;: 37.8713225, &amp;quot;heading&amp;quot;: 0, &amp;quot;sensed_speed&amp;quot;: 0, &amp;quot;accuracy&amp;quot;: 67.5}}, {&amp;quot;geometry&amp;quot;: {&amp;quot;type&amp;quot;: &amp;quot;Point&amp;quot;, &amp;quot;coordinates&amp;quot;: [-122.2665766, 37.8717961]}, &amp;quot;type&amp;quot;: &amp;quot;Feature&amp;quot;, &amp;quot;id&amp;quot;: &amp;quot;55df5a8b7d65cb39ee986961&amp;quot;, &amp;quot;properties&amp;quot;: {&amp;quot;feature_type&amp;quot;: &amp;quot;location&amp;quot;, &amp;quot;fmt_time&amp;quot;: &amp;quot;2015-08-27 11:01:57.105000-07:00&amp;quot;, &amp;quot;altitude&amp;quot;: 0, &amp;quot;ts&amp;quot;: 1440698517.105, &amp;quot;longitude&amp;quot;: -122.2665766, &amp;quot;latitude&amp;quot;: 37.8717961, &amp;quot;heading&amp;quot;: 0, &amp;quot;sensed_speed&amp;quot;: 0, &amp;quot;accuracy&amp;quot;: 65.625}}, {&amp;quot;geometry&amp;quot;: {&amp;quot;type&amp;quot;: &amp;quot;Point&amp;quot;, &amp;quot;coordinates&amp;quot;: [-122.2664828, 37.8716111]}, &amp;quot;type&amp;quot;: &amp;quot;Feature&amp;quot;, &amp;quot;id&amp;quot;: &amp;quot;55df5a8b7d65cb39ee986964&amp;quot;, &amp;quot;properties&amp;quot;: {&amp;quot;feature_type&amp;quot;: &amp;quot;location&amp;quot;, &amp;quot;fmt_time&amp;quot;: &amp;quot;2015-08-27 11:02:20.040000-07:00&amp;quot;, &amp;quot;altitude&amp;quot;: 0, &amp;quot;ts&amp;quot;: 1440698540.04, &amp;quot;longitude&amp;quot;: -122.2664828, &amp;quot;latitude&amp;quot;: 37.8716111, &amp;quot;heading&amp;quot;: 0, &amp;quot;sensed_speed&amp;quot;: 0, &amp;quot;accuracy&amp;quot;: 23.453}}, {&amp;quot;geometry&amp;quot;: {&amp;quot;type&amp;quot;: &amp;quot;Point&amp;quot;, &amp;quot;coordinates&amp;quot;: [-122.2664828, 37.8716111]}, &amp;quot;type&amp;quot;: &amp;quot;Feature&amp;quot;, &amp;quot;id&amp;quot;: &amp;quot;55df5a8b7d65cb39ee986968&amp;quot;, &amp;quot;properties&amp;quot;: {&amp;quot;feature_type&amp;quot;: &amp;quot;location&amp;quot;, &amp;quot;fmt_time&amp;quot;: &amp;quot;2015-08-27 11:03:11.418000-07:00&amp;quot;, &amp;quot;altitude&amp;quot;: 0, &amp;quot;ts&amp;quot;: 1440698591.418, &amp;quot;longitude&amp;quot;: -122.2664828, &amp;quot;latitude&amp;quot;: 37.8716111, &amp;quot;heading&amp;quot;: 0, &amp;quot;sensed_speed&amp;quot;: 0, &amp;quot;accuracy&amp;quot;: 100.521}}, {&amp;quot;geometry&amp;quot;: {&amp;quot;type&amp;quot;: &amp;quot;Point&amp;quot;, &amp;quot;coordinates&amp;quot;: [-122.2661958, 37.8714923]}, &amp;quot;type&amp;quot;: &amp;quot;Feature&amp;quot;, &amp;quot;id&amp;quot;: &amp;quot;55df5a8b7d65cb39ee98696a&amp;quot;, &amp;quot;properties&amp;quot;: {&amp;quot;feature_type&amp;quot;: &amp;quot;location&amp;quot;, &amp;quot;fmt_time&amp;quot;: &amp;quot;2015-08-27 11:03:26.906000-07:00&amp;quot;, &amp;quot;altitude&amp;quot;: 0, &amp;quot;ts&amp;quot;: 1440698606.906, &amp;quot;longitude&amp;quot;: -122.2661958, &amp;quot;latitude&amp;quot;: 37.8714923, &amp;quot;heading&amp;quot;: 0, &amp;quot;sensed_speed&amp;quot;: 0, &amp;quot;accuracy&amp;quot;: 43.5}}, {&amp;quot;geometry&amp;quot;: {&amp;quot;type&amp;quot;: &amp;quot;Point&amp;quot;, &amp;quot;coordinates&amp;quot;: [-122.2661958, 37.8714923]}, &amp;quot;type&amp;quot;: &amp;quot;Feature&amp;quot;, &amp;quot;id&amp;quot;: &amp;quot;55df5a8c7d65cb39ee98696e&amp;quot;, &amp;quot;properties&amp;quot;: {&amp;quot;feature_type&amp;quot;: &amp;quot;location&amp;quot;, &amp;quot;fmt_time&amp;quot;: &amp;quot;2015-08-27 11:04:11.233000-07:00&amp;quot;, &amp;quot;altitude&amp;quot;: 0, &amp;quot;ts&amp;quot;: 1440698651.233, &amp;quot;longitude&amp;quot;: -122.2661958, &amp;quot;latitude&amp;quot;: 37.8714923, &amp;quot;heading&amp;quot;: 0, &amp;quot;sensed_speed&amp;quot;: 0, &amp;quot;accuracy&amp;quot;: 109.99}}, {&amp;quot;geometry&amp;quot;: {&amp;quot;type&amp;quot;: &amp;quot;Point&amp;quot;, &amp;quot;coordinates&amp;quot;: [-122.2661958, 37.8714923]}, &amp;quot;type&amp;quot;: &amp;quot;Feature&amp;quot;, &amp;quot;id&amp;quot;: &amp;quot;55df5a8c7d65cb39ee986970&amp;quot;, &amp;quot;properties&amp;quot;: {&amp;quot;feature_type&amp;quot;: &amp;quot;location&amp;quot;, &amp;quot;fmt_time&amp;quot;: &amp;quot;2015-08-27 11:04:28.905000-07:00&amp;quot;, &amp;quot;altitude&amp;quot;: 0, &amp;quot;ts&amp;quot;: 1440698668.905, &amp;quot;longitude&amp;quot;: -122.2661958, &amp;quot;latitude&amp;quot;: 37.8714923, &amp;quot;heading&amp;quot;: 0, &amp;quot;sensed_speed&amp;quot;: 0, &amp;quot;accuracy&amp;quot;: 136.496}}, {&amp;quot;geometry&amp;quot;: {&amp;quot;type&amp;quot;: &amp;quot;Point&amp;quot;, &amp;quot;coordinates&amp;quot;: [-122.2640902, 37.871753]}, &amp;quot;type&amp;quot;: &amp;quot;Feature&amp;quot;, &amp;quot;id&amp;quot;: &amp;quot;55df5a8c7d65cb39ee986973&amp;quot;, &amp;quot;properties&amp;quot;: {&amp;quot;feature_type&amp;quot;: &amp;quot;location&amp;quot;, &amp;quot;fmt_time&amp;quot;: &amp;quot;2015-08-27 11:04:49.917000-07:00&amp;quot;, &amp;quot;altitude&amp;quot;: 0, &amp;quot;ts&amp;quot;: 1440698689.917, &amp;quot;longitude&amp;quot;: -122.2640902, &amp;quot;latitude&amp;quot;: 37.871753, &amp;quot;heading&amp;quot;: 0, &amp;quot;sensed_speed&amp;quot;: 0, &amp;quot;accuracy&amp;quot;: 45.0}}, {&amp;quot;geometry&amp;quot;: {&amp;quot;type&amp;quot;: &amp;quot;Point&amp;quot;, &amp;quot;coordinates&amp;quot;: [-122.264123, 37.8718767]}, &amp;quot;type&amp;quot;: &amp;quot;Feature&amp;quot;, &amp;quot;id&amp;quot;: &amp;quot;55df5a8c7d65cb39ee986977&amp;quot;, &amp;quot;properties&amp;quot;: {&amp;quot;feature_type&amp;quot;: &amp;quot;location&amp;quot;, &amp;quot;fmt_time&amp;quot;: &amp;quot;2015-08-27 11:05:27.255000-07:00&amp;quot;, &amp;quot;altitude&amp;quot;: 0, &amp;quot;ts&amp;quot;: 1440698727.255, &amp;quot;longitude&amp;quot;: -122.264123, &amp;quot;latitude&amp;quot;: 37.8718767, &amp;quot;heading&amp;quot;: 0, &amp;quot;sensed_speed&amp;quot;: 0, &amp;quot;accuracy&amp;quot;: 39.0}}, {&amp;quot;geometry&amp;quot;: {&amp;quot;type&amp;quot;: &amp;quot;Point&amp;quot;, &amp;quot;coordinates&amp;quot;: [-122.2639891, 37.8719733]}, &amp;quot;type&amp;quot;: &amp;quot;Feature&amp;quot;, &amp;quot;id&amp;quot;: &amp;quot;55df5a8c7d65cb39ee98697a&amp;quot;, &amp;quot;properties&amp;quot;: {&amp;quot;feature_type&amp;quot;: &amp;quot;location&amp;quot;, &amp;quot;fmt_time&amp;quot;: &amp;quot;2015-08-27 11:05:51.173000-07:00&amp;quot;, &amp;quot;altitude&amp;quot;: 0, &amp;quot;ts&amp;quot;: 1440698751.173, &amp;quot;longitude&amp;quot;: -122.2639891, &amp;quot;latitude&amp;quot;: 37.8719733, &amp;quot;heading&amp;quot;: 0, &amp;quot;sensed_speed&amp;quot;: 0, &amp;quot;accuracy&amp;quot;: 40.5}}, {&amp;quot;geometry&amp;quot;: {&amp;quot;type&amp;quot;: &amp;quot;Point&amp;quot;, &amp;quot;coordinates&amp;quot;: [-122.2637253, 37.8721843]}, &amp;quot;type&amp;quot;: &amp;quot;Feature&amp;quot;, &amp;quot;id&amp;quot;: &amp;quot;55df5a8c7d65cb39ee98697d&amp;quot;, &amp;quot;properties&amp;quot;: {&amp;quot;feature_type&amp;quot;: &amp;quot;location&amp;quot;, &amp;quot;fmt_time&amp;quot;: &amp;quot;2015-08-27 11:06:27.147000-07:00&amp;quot;, &amp;quot;altitude&amp;quot;: 0, &amp;quot;ts&amp;quot;: 1440698787.147, &amp;quot;longitude&amp;quot;: -122.2637253, &amp;quot;latitude&amp;quot;: 37.8721843, &amp;quot;heading&amp;quot;: 0, &amp;quot;sensed_speed&amp;quot;: 0, &amp;quot;accuracy&amp;quot;: 46.5}}, {&amp;quot;geometry&amp;quot;: {&amp;quot;type&amp;quot;: &amp;quot;Point&amp;quot;, &amp;quot;coordinates&amp;quot;: [-122.2636031, 37.8721196]}, &amp;quot;type&amp;quot;: &amp;quot;Feature&amp;quot;, &amp;quot;id&amp;quot;: &amp;quot;55df5a8d7d65cb39ee986980&amp;quot;, &amp;quot;properties&amp;quot;: {&amp;quot;feature_type&amp;quot;: &amp;quot;location&amp;quot;, &amp;quot;fmt_time&amp;quot;: &amp;quot;2015-08-27 11:06:50.709000-07:00&amp;quot;, &amp;quot;altitude&amp;quot;: 0, &amp;quot;ts&amp;quot;: 1440698810.709, &amp;quot;longitude&amp;quot;: -122.2636031, &amp;quot;latitude&amp;quot;: 37.8721196, &amp;quot;heading&amp;quot;: 0, &amp;quot;sensed_speed&amp;quot;: 0, &amp;quot;accuracy&amp;quot;: 39.452}}, {&amp;quot;geometry&amp;quot;: {&amp;quot;type&amp;quot;: &amp;quot;Point&amp;quot;, &amp;quot;coordinates&amp;quot;: [-122.2629994, 37.8724529]}, &amp;quot;type&amp;quot;: &amp;quot;Feature&amp;quot;, &amp;quot;id&amp;quot;: &amp;quot;55df5a8d7d65cb39ee986983&amp;quot;, &amp;quot;properties&amp;quot;: {&amp;quot;feature_type&amp;quot;: &amp;quot;location&amp;quot;, &amp;quot;fmt_time&amp;quot;: &amp;quot;2015-08-27 11:07:22.576000-07:00&amp;quot;, &amp;quot;altitude&amp;quot;: 0, &amp;quot;ts&amp;quot;: 1440698842.576, &amp;quot;longitude&amp;quot;: -122.2629994, &amp;quot;latitude&amp;quot;: 37.8724529, &amp;quot;heading&amp;quot;: 0, &amp;quot;sensed_speed&amp;quot;: 0, &amp;quot;accuracy&amp;quot;: 30.0}}, {&amp;quot;geometry&amp;quot;: {&amp;quot;type&amp;quot;: &amp;quot;Point&amp;quot;, &amp;quot;coordinates&amp;quot;: [-122.2626764, 37.872436]}, &amp;quot;type&amp;quot;: &amp;quot;Feature&amp;quot;, &amp;quot;id&amp;quot;: &amp;quot;55df5a8d7d65cb39ee986985&amp;quot;, &amp;quot;properties&amp;quot;: {&amp;quot;feature_type&amp;quot;: &amp;quot;location&amp;quot;, &amp;quot;fmt_time&amp;quot;: &amp;quot;2015-08-27 11:07:58.383000-07:00&amp;quot;, &amp;quot;altitude&amp;quot;: 0, &amp;quot;ts&amp;quot;: 1440698878.383, &amp;quot;longitude&amp;quot;: -122.2626764, &amp;quot;latitude&amp;quot;: 37.872436, &amp;quot;heading&amp;quot;: 0, &amp;quot;sensed_speed&amp;quot;: 0, &amp;quot;accuracy&amp;quot;: 37.5}}, {&amp;quot;geometry&amp;quot;: {&amp;quot;type&amp;quot;: &amp;quot;Point&amp;quot;, &amp;quot;coordinates&amp;quot;: [-122.2623766, 37.8723115]}, &amp;quot;type&amp;quot;: &amp;quot;Feature&amp;quot;, &amp;quot;id&amp;quot;: &amp;quot;55df5a8d7d65cb39ee986989&amp;quot;, &amp;quot;properties&amp;quot;: {&amp;quot;feature_type&amp;quot;: &amp;quot;location&amp;quot;, &amp;quot;fmt_time&amp;quot;: &amp;quot;2015-08-27 11:08:28.542000-07:00&amp;quot;, &amp;quot;altitude&amp;quot;: 0, &amp;quot;ts&amp;quot;: 1440698908.542, &amp;quot;longitude&amp;quot;: -122.2623766, &amp;quot;latitude&amp;quot;: 37.8723115, &amp;quot;heading&amp;quot;: 0, &amp;quot;sensed_speed&amp;quot;: 0, &amp;quot;accuracy&amp;quot;: 62.938}}, {&amp;quot;geometry&amp;quot;: {&amp;quot;type&amp;quot;: &amp;quot;Point&amp;quot;, &amp;quot;coordinates&amp;quot;: [-122.2624567, 37.8723398]}, &amp;quot;type&amp;quot;: &amp;quot;Feature&amp;quot;, &amp;quot;id&amp;quot;: &amp;quot;55df5a8d7d65cb39ee98698c&amp;quot;, &amp;quot;properties&amp;quot;: {&amp;quot;feature_type&amp;quot;: &amp;quot;location&amp;quot;, &amp;quot;fmt_time&amp;quot;: &amp;quot;2015-08-27 11:08:58.153000-07:00&amp;quot;, &amp;quot;altitude&amp;quot;: 0, &amp;quot;ts&amp;quot;: 1440698938.153, &amp;quot;longitude&amp;quot;: -122.2624567, &amp;quot;latitude&amp;quot;: 37.8723398, &amp;quot;heading&amp;quot;: 0, &amp;quot;sensed_speed&amp;quot;: 0, &amp;quot;accuracy&amp;quot;: 63.137}}, {&amp;quot;geometry&amp;quot;: {&amp;quot;type&amp;quot;: &amp;quot;Point&amp;quot;, &amp;quot;coordinates&amp;quot;: [-122.2622943, 37.8731595]}, &amp;quot;type&amp;quot;: &amp;quot;Feature&amp;quot;, &amp;quot;id&amp;quot;: &amp;quot;55df5a8e7d65cb39ee98698f&amp;quot;, &amp;quot;properties&amp;quot;: {&amp;quot;feature_type&amp;quot;: &amp;quot;location&amp;quot;, &amp;quot;fmt_time&amp;quot;: &amp;quot;2015-08-27 11:09:22.496000-07:00&amp;quot;, &amp;quot;altitude&amp;quot;: 0, &amp;quot;ts&amp;quot;: 1440698962.496, &amp;quot;longitude&amp;quot;: -122.2622943, &amp;quot;latitude&amp;quot;: 37.8731595, &amp;quot;heading&amp;quot;: 0, &amp;quot;sensed_speed&amp;quot;: 0, &amp;quot;accuracy&amp;quot;: 40.5}}, {&amp;quot;geometry&amp;quot;: {&amp;quot;type&amp;quot;: &amp;quot;Point&amp;quot;, &amp;quot;coordinates&amp;quot;: [-122.2616244, 37.8734265]}, &amp;quot;type&amp;quot;: &amp;quot;Feature&amp;quot;, &amp;quot;id&amp;quot;: &amp;quot;55df5a8e7d65cb39ee986992&amp;quot;, &amp;quot;properties&amp;quot;: {&amp;quot;feature_type&amp;quot;: &amp;quot;location&amp;quot;, &amp;quot;fmt_time&amp;quot;: &amp;quot;2015-08-27 11:09:46.092000-07:00&amp;quot;, &amp;quot;altitude&amp;quot;: 0, &amp;quot;ts&amp;quot;: 1440698986.092, &amp;quot;longitude&amp;quot;: -122.2616244, &amp;quot;latitude&amp;quot;: 37.8734265, &amp;quot;heading&amp;quot;: 0, &amp;quot;sensed_speed&amp;quot;: 0, &amp;quot;accuracy&amp;quot;: 40.882}}, {&amp;quot;geometry&amp;quot;: {&amp;quot;type&amp;quot;: &amp;quot;Point&amp;quot;, &amp;quot;coordinates&amp;quot;: [-122.2615563, 37.8733688]}, &amp;quot;type&amp;quot;: &amp;quot;Feature&amp;quot;, &amp;quot;id&amp;quot;: &amp;quot;55df5a8e7d65cb39ee986994&amp;quot;, &amp;quot;properties&amp;quot;: {&amp;quot;feature_type&amp;quot;: &amp;quot;location&amp;quot;, &amp;quot;fmt_time&amp;quot;: &amp;quot;2015-08-27 11:10:28.646000-07:00&amp;quot;, &amp;quot;altitude&amp;quot;: 0, &amp;quot;ts&amp;quot;: 1440699028.646, &amp;quot;longitude&amp;quot;: -122.2615563, &amp;quot;latitude&amp;quot;: 37.8733688, &amp;quot;heading&amp;quot;: 0, &amp;quot;sensed_speed&amp;quot;: 0, &amp;quot;accuracy&amp;quot;: 30.0}}, {&amp;quot;geometry&amp;quot;: {&amp;quot;type&amp;quot;: &amp;quot;Point&amp;quot;, &amp;quot;coordinates&amp;quot;: [-122.2616393, 37.8734842]}, &amp;quot;type&amp;quot;: &amp;quot;Feature&amp;quot;, &amp;quot;id&amp;quot;: &amp;quot;55df5a8e7d65cb39ee986997&amp;quot;, &amp;quot;properties&amp;quot;: {&amp;quot;feature_type&amp;quot;: &amp;quot;location&amp;quot;, &amp;quot;fmt_time&amp;quot;: &amp;quot;2015-08-27 11:10:50.002000-07:00&amp;quot;, &amp;quot;altitude&amp;quot;: 0, &amp;quot;ts&amp;quot;: 1440699050.002, &amp;quot;longitude&amp;quot;: -122.2616393, &amp;quot;latitude&amp;quot;: 37.8734842, &amp;quot;heading&amp;quot;: 0, &amp;quot;sensed_speed&amp;quot;: 0, &amp;quot;accuracy&amp;quot;: 40.298}}, {&amp;quot;geometry&amp;quot;: {&amp;quot;type&amp;quot;: &amp;quot;Point&amp;quot;, &amp;quot;coordinates&amp;quot;: [-122.2616393, 37.8734842]}, &amp;quot;type&amp;quot;: &amp;quot;Feature&amp;quot;, &amp;quot;id&amp;quot;: &amp;quot;55df5a8e7d65cb39ee98699b&amp;quot;, &amp;quot;properties&amp;quot;: {&amp;quot;feature_type&amp;quot;: &amp;quot;location&amp;quot;, &amp;quot;fmt_time&amp;quot;: &amp;quot;2015-08-27 11:12:01.115000-07:00&amp;quot;, &amp;quot;altitude&amp;quot;: 0, &amp;quot;ts&amp;quot;: 1440699121.115, &amp;quot;longitude&amp;quot;: -122.2616393, &amp;quot;latitude&amp;quot;: 37.8734842, &amp;quot;heading&amp;quot;: 0, &amp;quot;sensed_speed&amp;quot;: 0, &amp;quot;accuracy&amp;quot;: 146.965}}, {&amp;quot;geometry&amp;quot;: {&amp;quot;type&amp;quot;: &amp;quot;Point&amp;quot;, &amp;quot;coordinates&amp;quot;: [-122.2601102, 37.8750076]}, &amp;quot;type&amp;quot;: &amp;quot;Feature&amp;quot;, &amp;quot;id&amp;quot;: &amp;quot;55df5a8f7d65cb39ee98699e&amp;quot;, &amp;quot;properties&amp;quot;: {&amp;quot;feature_type&amp;quot;: &amp;quot;location&amp;quot;, &amp;quot;fmt_time&amp;quot;: &amp;quot;2015-08-27 11:12:20-07:00&amp;quot;, &amp;quot;altitude&amp;quot;: 0, &amp;quot;ts&amp;quot;: 1440699140.0, &amp;quot;longitude&amp;quot;: -122.2601102, &amp;quot;latitude&amp;quot;: 37.8750076, &amp;quot;heading&amp;quot;: 0, &amp;quot;sensed_speed&amp;quot;: 0, &amp;quot;accuracy&amp;quot;: 40.5}}, {&amp;quot;geometry&amp;quot;: {&amp;quot;type&amp;quot;: &amp;quot;Point&amp;quot;, &amp;quot;coordinates&amp;quot;: [-122.2603031, 37.8750865]}, &amp;quot;type&amp;quot;: &amp;quot;Feature&amp;quot;, &amp;quot;id&amp;quot;: &amp;quot;55df5a8f7d65cb39ee9869a1&amp;quot;, &amp;quot;properties&amp;quot;: {&amp;quot;feature_type&amp;quot;: &amp;quot;location&amp;quot;, &amp;quot;fmt_time&amp;quot;: &amp;quot;2015-08-27 11:12:58.184000-07:00&amp;quot;, &amp;quot;altitude&amp;quot;: 0, &amp;quot;ts&amp;quot;: 1440699178.184, &amp;quot;longitude&amp;quot;: -122.2603031, &amp;quot;latitude&amp;quot;: 37.8750865, &amp;quot;heading&amp;quot;: 0, &amp;quot;sensed_speed&amp;quot;: 0, &amp;quot;accuracy&amp;quot;: 24.531}}, {&amp;quot;geometry&amp;quot;: {&amp;quot;type&amp;quot;: &amp;quot;Point&amp;quot;, &amp;quot;coordinates&amp;quot;: [-122.2603195, 37.8750871]}, &amp;quot;type&amp;quot;: &amp;quot;Feature&amp;quot;, &amp;quot;id&amp;quot;: &amp;quot;55df5a8f7d65cb39ee9869a4&amp;quot;, &amp;quot;properties&amp;quot;: {&amp;quot;feature_type&amp;quot;: &amp;quot;location&amp;quot;, &amp;quot;fmt_time&amp;quot;: &amp;quot;2015-08-27 11:13:14.180000-07:00&amp;quot;, &amp;quot;altitude&amp;quot;: 0, &amp;quot;ts&amp;quot;: 1440699194.18, &amp;quot;longitude&amp;quot;: -122.2603195, &amp;quot;latitude&amp;quot;: 37.8750871, &amp;quot;heading&amp;quot;: 0, &amp;quot;sensed_speed&amp;quot;: 0, &amp;quot;accuracy&amp;quot;: 23.619}}, {&amp;quot;geometry&amp;quot;: {&amp;quot;type&amp;quot;: &amp;quot;Point&amp;quot;, &amp;quot;coordinates&amp;quot;: [-122.2603247, 37.8750154]}, &amp;quot;type&amp;quot;: &amp;quot;Feature&amp;quot;, &amp;quot;id&amp;quot;: &amp;quot;55df5a8f7d65cb39ee9869a7&amp;quot;, &amp;quot;properties&amp;quot;: {&amp;quot;feature_type&amp;quot;: &amp;quot;location&amp;quot;, &amp;quot;fmt_time&amp;quot;: &amp;quot;2015-08-27 11:13:54.834000-07:00&amp;quot;, &amp;quot;altitude&amp;quot;: 0, &amp;quot;ts&amp;quot;: 1440699234.834, &amp;quot;longitude&amp;quot;: -122.2603247, &amp;quot;latitude&amp;quot;: 37.8750154, &amp;quot;heading&amp;quot;: 0, &amp;quot;sensed_speed&amp;quot;: 0, &amp;quot;accuracy&amp;quot;: 33.0}}, {&amp;quot;geometry&amp;quot;: {&amp;quot;type&amp;quot;: &amp;quot;Point&amp;quot;, &amp;quot;coordinates&amp;quot;: [-122.2603947, 37.875023]}, &amp;quot;type&amp;quot;: &amp;quot;Feature&amp;quot;, &amp;quot;id&amp;quot;: &amp;quot;55df5a8f7d65cb39ee9869aa&amp;quot;, &amp;quot;properties&amp;quot;: {&amp;quot;feature_type&amp;quot;: &amp;quot;location&amp;quot;, &amp;quot;fmt_time&amp;quot;: &amp;quot;2015-08-27 11:14:26.669000-07:00&amp;quot;, &amp;quot;altitude&amp;quot;: 0, &amp;quot;ts&amp;quot;: 1440699266.669, &amp;quot;longitude&amp;quot;: -122.2603947, &amp;quot;latitude&amp;quot;: 37.875023, &amp;quot;heading&amp;quot;: 0, &amp;quot;sensed_speed&amp;quot;: 0, &amp;quot;accuracy&amp;quot;: 30.0}}]}, {&amp;quot;geometry&amp;quot;: {&amp;quot;type&amp;quot;: &amp;quot;LineString&amp;quot;, &amp;quot;coordinates&amp;quot;: [[-122.2682605, 37.8700849], [-122.2681346, 37.8707148], [-122.2682285, 37.8711642], [-122.2678988, 37.8711621], [-122.2675291, 37.8711694], [-122.2669631, 37.8713225], [-122.2665766, 37.8717961], [-122.2664828, 37.8716111], [-122.2664828, 37.8716111], [-122.2661958, 37.8714923], [-122.2661958, 37.8714923], [-122.2661958, 37.8714923], [-122.2640902, 37.871753], [-122.264123, 37.8718767], [-122.2639891, 37.8719733], [-122.2637253, 37.8721843], [-122.2636031, 37.8721196], [-122.2629994, 37.8724529], [-122.2626764, 37.872436], [-122.2623766, 37.8723115], [-122.2624567, 37.8723398], [-122.2622943, 37.8731595], [-122.2616244, 37.8734265], [-122.2615563, 37.8733688], [-122.2616393, 37.8734842], [-122.2616393, 37.8734842], [-122.2601102, 37.8750076], [-122.2603031, 37.8750865], [-122.2603195, 37.8750871], [-122.2603247, 37.8750154], [-122.2603947, 37.875023]]}, &amp;quot;type&amp;quot;: &amp;quot;Feature&amp;quot;, &amp;quot;id&amp;quot;: &amp;quot;5603ae10f6858f0cbbb60589&amp;quot;, &amp;quot;properties&amp;quot;: {&amp;quot;feature_type&amp;quot;: &amp;quot;section&amp;quot;, &amp;quot;sensed_mode&amp;quot;: &amp;quot;MotionTypes.ON_FOOT&amp;quot;, &amp;quot;end_ts&amp;quot;: 1440699266.669, &amp;quot;start_ts&amp;quot;: 1440698306.892, &amp;quot;start_fmt_time&amp;quot;: &amp;quot;2015-08-27 10:58:26.892000-07:00&amp;quot;, &amp;quot;source&amp;quot;: &amp;quot;SmoothedHighConfidenceMotion&amp;quot;, &amp;quot;end_fmt_time&amp;quot;: &amp;quot;2015-08-27 11:14:26.669000-07:00&amp;quot;, &amp;quot;duration&amp;quot;: 959.7769999504089}}]}]}'))})\n",
        "          .await(makeMap)\n",
        "\n",
        "      function onEachFeature(feature, layer) {\n",
        "          // does this feature have a property named popupContent?\n",
        "          if (feature.properties &amp;&amp; feature.properties.popupContent) {\n",
        "              layer.bindPopup(feature.properties.popupContent);\n",
        "              }\n",
        "          };\n",
        "\n",
        "      function makeMap(error, gjson_1) {\n",
        "\n",
        "          \n",
        "\n",
        "          \n",
        "\n",
        "          function matchKey(datapoint, key_variable){\n",
        "              if (typeof key_variable[0][datapoint] === 'undefined') {\n",
        "                  return null;\n",
        "              }\n",
        "              else {\n",
        "                  return parseFloat(key_variable[0][datapoint]);\n",
        "              };\n",
        "          };\n",
        "\n",
        "          \n",
        "\n",
        "          var map = L.map('map').setView([0, 0], 1);\n",
        "\n",
        "          L.tileLayer('https://{s}.tile.openstreetmap.org/{z}/{x}/{y}.png', {\n",
        "              maxZoom: 18,\n",
        "              minZoom: 1,\n",
        "              attribution: 'Map data (c) &lt;a href=&amp;quot;http://openstreetmap.org&amp;quot;&gt;OpenStreetMap&lt;/a&gt; contributors'\n",
        "          }).addTo(map);\n",
        "\n",
        "          \n",
        "          function style_1(feature) {\n",
        "    return {\n",
        "        fillColor: 'blue',\n",
        "        weight: 1,\n",
        "        opacity: 1,\n",
        "        color: 'black',\n",
        "        fillOpacity: 0.6\n",
        "    };\n",
        "}\n",
        "          \n",
        "\n",
        "          \n",
        "          gJson_layer_1 = L.geoJson(gjson_1, {style: style_1,onEachFeature: onEachFeature}).addTo(map)\n",
        "          \n",
        "\n",
        "          \n",
        "\n",
        "          \n",
        "\n",
        "          \n",
        "\n",
        "          \n",
        "\n",
        "          \n",
        "\n",
        "          \n",
        "\n",
        "          var autobounds = L.featureGroup([]).getBounds()\n",
        "\n",
        "\n",
        "\n",
        "\n",
        "\n",
        "map.fitBounds(autobounds,\n",
        "    {&amp;quot;padding&amp;quot;: [30, 30]}\n",
        ");\n",
        "\n",
        "      };\n",
        "\n",
        "   &lt;/script&gt;\n",
        "&lt;/body&gt;&quot; style=&quot;width: 100%; height: 510px; border: none&quot;&gt;&lt;/iframe&gt;</td></tr>\n",
        "<tr><td>&lt;iframe srcdoc=&quot;&lt;!DOCTYPE html&gt;\n",
        "&lt;head&gt;\n",
        "   &lt;meta http-equiv=&amp;quot;content-type&amp;quot; content=&amp;quot;text/html; charset=UTF-8&amp;quot; /&gt;\n",
        "   &lt;link rel=&amp;quot;stylesheet&amp;quot; href=&amp;quot;https://cdnjs.cloudflare.com/ajax/libs/leaflet/0.7.3/leaflet.css&amp;quot; /&gt;\n",
        "   &lt;script src=&amp;quot;https://cdnjs.cloudflare.com/ajax/libs/leaflet/0.7.3/leaflet.js&amp;quot;&gt;&lt;/script&gt;\n",
        "   &lt;script src=&amp;quot;https://cdnjs.cloudflare.com/ajax/libs/d3/3.5.5/d3.min.js&amp;quot; charset=&amp;quot;utf-8&amp;quot;&gt;&lt;/script&gt;\n",
        "   &lt;script src=&amp;quot;https://cdnjs.cloudflare.com/ajax/libs/queue-async/1.0.7/queue.min.js&amp;quot;&gt;&lt;/script&gt;\n",
        "\n",
        "   \n",
        "   \n",
        "   \n",
        "   \n",
        "\n",
        "   &lt;style&gt;\n",
        "\n",
        "      html, body {\n",
        "        width: 100%;\n",
        "        height: 100%;\n",
        "        margin: 0;\n",
        "        padding: 0;\n",
        "      }\n",
        "\n",
        "      .legend {\n",
        "          padding: 0px 0px;\n",
        "          font: 10px sans-serif;\n",
        "          background: white;\n",
        "          background: rgba(255,255,255,0.8);\n",
        "          box-shadow: 0 0 15px rgba(0,0,0,0.2);\n",
        "          border-radius: 5px;\n",
        "      }\n",
        "\n",
        "      .key path {\n",
        "        display: none;\n",
        "      }\n",
        "\n",
        "   &lt;/style&gt;\n",
        "&lt;/head&gt;\n",
        "\n",
        "&lt;body&gt;\n",
        "\n",
        "   &lt;div id=&amp;quot;map&amp;quot; style=&amp;quot;width: 100%; height: 100%&amp;quot;&gt;&lt;/div&gt;\n",
        "\n",
        "   &lt;script&gt;\n",
        "\n",
        "      queue()\n",
        "          .defer(function(callback){callback(null, JSON.parse('{&amp;quot;type&amp;quot;: &amp;quot;FeatureCollection&amp;quot;, &amp;quot;features&amp;quot;: [{&amp;quot;geometry&amp;quot;: {&amp;quot;type&amp;quot;: &amp;quot;Point&amp;quot;, &amp;quot;coordinates&amp;quot;: [-122.2603947, 37.875023]}, &amp;quot;type&amp;quot;: &amp;quot;Feature&amp;quot;, &amp;quot;id&amp;quot;: &amp;quot;5603ae0cf6858f0cbbb60555&amp;quot;, &amp;quot;properties&amp;quot;: {&amp;quot;enter_fmt_time&amp;quot;: &amp;quot;2015-08-27 11:14:26.669000-07:00&amp;quot;, &amp;quot;feature_type&amp;quot;: &amp;quot;place&amp;quot;, &amp;quot;exit_fmt_time&amp;quot;: &amp;quot;2015-08-27 11:25:33.687000-07:00&amp;quot;, &amp;quot;source&amp;quot;: &amp;quot;DwellSegmentationTimeFilter&amp;quot;, &amp;quot;enter_ts&amp;quot;: 1440699266.669, &amp;quot;duration&amp;quot;: 667.018000125885, &amp;quot;exit_ts&amp;quot;: 1440699933.687}}, {&amp;quot;geometry&amp;quot;: {&amp;quot;type&amp;quot;: &amp;quot;Point&amp;quot;, &amp;quot;coordinates&amp;quot;: [-122.2589521, 37.8753047]}, &amp;quot;type&amp;quot;: &amp;quot;Feature&amp;quot;, &amp;quot;id&amp;quot;: &amp;quot;5603ae0cf6858f0cbbb60557&amp;quot;, &amp;quot;properties&amp;quot;: {&amp;quot;enter_fmt_time&amp;quot;: &amp;quot;2015-08-27 11:27:20.477000-07:00&amp;quot;, &amp;quot;feature_type&amp;quot;: &amp;quot;place&amp;quot;, &amp;quot;exit_fmt_time&amp;quot;: &amp;quot;2015-08-27 15:59:27.376000-07:00&amp;quot;, &amp;quot;source&amp;quot;: &amp;quot;DwellSegmentationTimeFilter&amp;quot;, &amp;quot;enter_ts&amp;quot;: 1440700040.477, &amp;quot;duration&amp;quot;: 16326.898999929428, &amp;quot;exit_ts&amp;quot;: 1440716367.376}}]}'))})\n",
        "          .await(makeMap)\n",
        "\n",
        "      function onEachFeature(feature, layer) {\n",
        "          // does this feature have a property named popupContent?\n",
        "          if (feature.properties &amp;&amp; feature.properties.popupContent) {\n",
        "              layer.bindPopup(feature.properties.popupContent);\n",
        "              }\n",
        "          };\n",
        "\n",
        "      function makeMap(error, gjson_1) {\n",
        "\n",
        "          \n",
        "\n",
        "          \n",
        "\n",
        "          function matchKey(datapoint, key_variable){\n",
        "              if (typeof key_variable[0][datapoint] === 'undefined') {\n",
        "                  return null;\n",
        "              }\n",
        "              else {\n",
        "                  return parseFloat(key_variable[0][datapoint]);\n",
        "              };\n",
        "          };\n",
        "\n",
        "          \n",
        "\n",
        "          var map = L.map('map').setView([0, 0], 1);\n",
        "\n",
        "          L.tileLayer('https://{s}.tile.openstreetmap.org/{z}/{x}/{y}.png', {\n",
        "              maxZoom: 18,\n",
        "              minZoom: 1,\n",
        "              attribution: 'Map data (c) &lt;a href=&amp;quot;http://openstreetmap.org&amp;quot;&gt;OpenStreetMap&lt;/a&gt; contributors'\n",
        "          }).addTo(map);\n",
        "\n",
        "          \n",
        "          function style_1(feature) {\n",
        "    return {\n",
        "        fillColor: 'blue',\n",
        "        weight: 1,\n",
        "        opacity: 1,\n",
        "        color: 'black',\n",
        "        fillOpacity: 0.6\n",
        "    };\n",
        "}\n",
        "          \n",
        "\n",
        "          \n",
        "          gJson_layer_1 = L.geoJson(gjson_1, {style: style_1,onEachFeature: onEachFeature}).addTo(map)\n",
        "          \n",
        "\n",
        "          \n",
        "\n",
        "          \n",
        "\n",
        "          \n",
        "\n",
        "          \n",
        "\n",
        "          \n",
        "\n",
        "          \n",
        "\n",
        "          var autobounds = L.featureGroup([]).getBounds()\n",
        "\n",
        "\n",
        "\n",
        "\n",
        "\n",
        "map.fitBounds(autobounds,\n",
        "    {&amp;quot;padding&amp;quot;: [30, 30]}\n",
        ");\n",
        "\n",
        "      };\n",
        "\n",
        "   &lt;/script&gt;\n",
        "&lt;/body&gt;&quot; style=&quot;width: 100%; height: 510px; border: none&quot;&gt;&lt;/iframe&gt;</td></tr>\n",
        "<tr><td>&lt;iframe srcdoc=&quot;&lt;!DOCTYPE html&gt;\n",
        "&lt;head&gt;\n",
        "   &lt;meta http-equiv=&amp;quot;content-type&amp;quot; content=&amp;quot;text/html; charset=UTF-8&amp;quot; /&gt;\n",
        "   &lt;link rel=&amp;quot;stylesheet&amp;quot; href=&amp;quot;https://cdnjs.cloudflare.com/ajax/libs/leaflet/0.7.3/leaflet.css&amp;quot; /&gt;\n",
        "   &lt;script src=&amp;quot;https://cdnjs.cloudflare.com/ajax/libs/leaflet/0.7.3/leaflet.js&amp;quot;&gt;&lt;/script&gt;\n",
        "   &lt;script src=&amp;quot;https://cdnjs.cloudflare.com/ajax/libs/d3/3.5.5/d3.min.js&amp;quot; charset=&amp;quot;utf-8&amp;quot;&gt;&lt;/script&gt;\n",
        "   &lt;script src=&amp;quot;https://cdnjs.cloudflare.com/ajax/libs/queue-async/1.0.7/queue.min.js&amp;quot;&gt;&lt;/script&gt;\n",
        "\n",
        "   \n",
        "   \n",
        "   \n",
        "   \n",
        "\n",
        "   &lt;style&gt;\n",
        "\n",
        "      html, body {\n",
        "        width: 100%;\n",
        "        height: 100%;\n",
        "        margin: 0;\n",
        "        padding: 0;\n",
        "      }\n",
        "\n",
        "      .legend {\n",
        "          padding: 0px 0px;\n",
        "          font: 10px sans-serif;\n",
        "          background: white;\n",
        "          background: rgba(255,255,255,0.8);\n",
        "          box-shadow: 0 0 15px rgba(0,0,0,0.2);\n",
        "          border-radius: 5px;\n",
        "      }\n",
        "\n",
        "      .key path {\n",
        "        display: none;\n",
        "      }\n",
        "\n",
        "   &lt;/style&gt;\n",
        "&lt;/head&gt;\n",
        "\n",
        "&lt;body&gt;\n",
        "\n",
        "   &lt;div id=&amp;quot;map&amp;quot; style=&amp;quot;width: 100%; height: 100%&amp;quot;&gt;&lt;/div&gt;\n",
        "\n",
        "   &lt;script&gt;\n",
        "\n",
        "      queue()\n",
        "          .defer(function(callback){callback(null, JSON.parse('{&amp;quot;type&amp;quot;: &amp;quot;FeatureCollection&amp;quot;, &amp;quot;features&amp;quot;: [{&amp;quot;geometry&amp;quot;: {&amp;quot;type&amp;quot;: &amp;quot;Point&amp;quot;, &amp;quot;coordinates&amp;quot;: [-122.2589521, 37.8753047]}, &amp;quot;type&amp;quot;: &amp;quot;Feature&amp;quot;, &amp;quot;id&amp;quot;: &amp;quot;5603ae0cf6858f0cbbb60557&amp;quot;, &amp;quot;properties&amp;quot;: {&amp;quot;enter_fmt_time&amp;quot;: &amp;quot;2015-08-27 11:27:20.477000-07:00&amp;quot;, &amp;quot;feature_type&amp;quot;: &amp;quot;place&amp;quot;, &amp;quot;exit_fmt_time&amp;quot;: &amp;quot;2015-08-27 15:59:27.376000-07:00&amp;quot;, &amp;quot;source&amp;quot;: &amp;quot;DwellSegmentationTimeFilter&amp;quot;, &amp;quot;enter_ts&amp;quot;: 1440700040.477, &amp;quot;duration&amp;quot;: 16326.898999929428, &amp;quot;exit_ts&amp;quot;: 1440716367.376}}, {&amp;quot;geometry&amp;quot;: {&amp;quot;type&amp;quot;: &amp;quot;Point&amp;quot;, &amp;quot;coordinates&amp;quot;: [-122.3870874, 37.5992924]}, &amp;quot;type&amp;quot;: &amp;quot;Feature&amp;quot;, &amp;quot;id&amp;quot;: &amp;quot;5603ae0cf6858f0cbbb60559&amp;quot;, &amp;quot;properties&amp;quot;: {&amp;quot;enter_fmt_time&amp;quot;: &amp;quot;2015-08-27 16:54:28.317000-07:00&amp;quot;, &amp;quot;feature_type&amp;quot;: &amp;quot;place&amp;quot;, &amp;quot;exit_fmt_time&amp;quot;: &amp;quot;2015-08-27 17:03:59.012000-07:00&amp;quot;, &amp;quot;source&amp;quot;: &amp;quot;DwellSegmentationTimeFilter&amp;quot;, &amp;quot;enter_ts&amp;quot;: 1440719668.317, &amp;quot;duration&amp;quot;: 570.6950001716614, &amp;quot;exit_ts&amp;quot;: 1440720239.012}}, {&amp;quot;geometry&amp;quot;: {&amp;quot;type&amp;quot;: &amp;quot;Point&amp;quot;, &amp;quot;coordinates&amp;quot;: [-122.3872511, 37.5992711]}, &amp;quot;type&amp;quot;: &amp;quot;Feature&amp;quot;, &amp;quot;id&amp;quot;: &amp;quot;5603ae10f6858f0cbbb6058d&amp;quot;, &amp;quot;properties&amp;quot;: {&amp;quot;enter_fmt_time&amp;quot;: &amp;quot;2015-08-27 16:51:59.226000-07:00&amp;quot;, &amp;quot;feature_type&amp;quot;: &amp;quot;stop&amp;quot;, &amp;quot;exit_fmt_time&amp;quot;: &amp;quot;2015-08-27 16:52:59.435000-07:00&amp;quot;, &amp;quot;source&amp;quot;: &amp;quot;SmoothedHighConfidenceMotion&amp;quot;, &amp;quot;enter_ts&amp;quot;: 1440719519.226, &amp;quot;duration&amp;quot;: 60.20899987220764, &amp;quot;exit_ts&amp;quot;: 1440719579.435}}, {&amp;quot;type&amp;quot;: &amp;quot;FeatureCollection&amp;quot;, &amp;quot;features&amp;quot;: [{&amp;quot;type&amp;quot;: &amp;quot;FeatureCollection&amp;quot;, &amp;quot;features&amp;quot;: [{&amp;quot;geometry&amp;quot;: {&amp;quot;type&amp;quot;: &amp;quot;Point&amp;quot;, &amp;quot;coordinates&amp;quot;: [-122.2714736, 37.8471355]}, &amp;quot;type&amp;quot;: &amp;quot;Feature&amp;quot;, &amp;quot;id&amp;quot;: &amp;quot;55dfad477d65cb39ee986b76&amp;quot;, &amp;quot;properties&amp;quot;: {&amp;quot;feature_type&amp;quot;: &amp;quot;location&amp;quot;, &amp;quot;fmt_time&amp;quot;: &amp;quot;2015-08-27 15:59:27.376000-07:00&amp;quot;, &amp;quot;altitude&amp;quot;: 0, &amp;quot;ts&amp;quot;: 1440716367.376, &amp;quot;longitude&amp;quot;: -122.2714736, &amp;quot;latitude&amp;quot;: 37.8471355, &amp;quot;heading&amp;quot;: 0, &amp;quot;sensed_speed&amp;quot;: 0, &amp;quot;accuracy&amp;quot;: 45.0}}, {&amp;quot;geometry&amp;quot;: {&amp;quot;type&amp;quot;: &amp;quot;Point&amp;quot;, &amp;quot;coordinates&amp;quot;: [-122.2713142, 37.8465722]}, &amp;quot;type&amp;quot;: &amp;quot;Feature&amp;quot;, &amp;quot;id&amp;quot;: &amp;quot;55dfad477d65cb39ee986b78&amp;quot;, &amp;quot;properties&amp;quot;: {&amp;quot;feature_type&amp;quot;: &amp;quot;location&amp;quot;, &amp;quot;fmt_time&amp;quot;: &amp;quot;2015-08-27 15:59:32.411000-07:00&amp;quot;, &amp;quot;altitude&amp;quot;: 0, &amp;quot;ts&amp;quot;: 1440716372.411, &amp;quot;longitude&amp;quot;: -122.2713142, &amp;quot;latitude&amp;quot;: 37.8465722, &amp;quot;heading&amp;quot;: 0, &amp;quot;sensed_speed&amp;quot;: 0, &amp;quot;accuracy&amp;quot;: 24.961}}, {&amp;quot;geometry&amp;quot;: {&amp;quot;type&amp;quot;: &amp;quot;Point&amp;quot;, &amp;quot;coordinates&amp;quot;: [-122.2698728, 37.8405014]}, &amp;quot;type&amp;quot;: &amp;quot;Feature&amp;quot;, &amp;quot;id&amp;quot;: &amp;quot;55dfad477d65cb39ee986b7b&amp;quot;, &amp;quot;properties&amp;quot;: {&amp;quot;feature_type&amp;quot;: &amp;quot;location&amp;quot;, &amp;quot;fmt_time&amp;quot;: &amp;quot;2015-08-27 16:00:01.849000-07:00&amp;quot;, &amp;quot;altitude&amp;quot;: 0, &amp;quot;ts&amp;quot;: 1440716401.849, &amp;quot;longitude&amp;quot;: -122.2698728, &amp;quot;latitude&amp;quot;: 37.8405014, &amp;quot;heading&amp;quot;: 0, &amp;quot;sensed_speed&amp;quot;: 0, &amp;quot;accuracy&amp;quot;: 30.0}}, {&amp;quot;geometry&amp;quot;: {&amp;quot;type&amp;quot;: &amp;quot;Point&amp;quot;, &amp;quot;coordinates&amp;quot;: [-122.2674686, 37.8353014]}, &amp;quot;type&amp;quot;: &amp;quot;Feature&amp;quot;, &amp;quot;id&amp;quot;: &amp;quot;55dfad477d65cb39ee986b7e&amp;quot;, &amp;quot;properties&amp;quot;: {&amp;quot;feature_type&amp;quot;: &amp;quot;location&amp;quot;, &amp;quot;fmt_time&amp;quot;: &amp;quot;2015-08-27 16:00:32.436000-07:00&amp;quot;, &amp;quot;altitude&amp;quot;: 0, &amp;quot;ts&amp;quot;: 1440716432.436, &amp;quot;longitude&amp;quot;: -122.2674686, &amp;quot;latitude&amp;quot;: 37.8353014, &amp;quot;heading&amp;quot;: 0, &amp;quot;sensed_speed&amp;quot;: 0, &amp;quot;accuracy&amp;quot;: 51.0}}, {&amp;quot;geometry&amp;quot;: {&amp;quot;type&amp;quot;: &amp;quot;Point&amp;quot;, &amp;quot;coordinates&amp;quot;: [-122.2675635, 37.8285015]}, &amp;quot;type&amp;quot;: &amp;quot;Feature&amp;quot;, &amp;quot;id&amp;quot;: &amp;quot;55dfad477d65cb39ee986b82&amp;quot;, &amp;quot;properties&amp;quot;: {&amp;quot;feature_type&amp;quot;: &amp;quot;location&amp;quot;, &amp;quot;fmt_time&amp;quot;: &amp;quot;2015-08-27 16:01:32.473000-07:00&amp;quot;, &amp;quot;altitude&amp;quot;: 0, &amp;quot;ts&amp;quot;: 1440716492.473, &amp;quot;longitude&amp;quot;: -122.2675635, &amp;quot;latitude&amp;quot;: 37.8285015, &amp;quot;heading&amp;quot;: 0, &amp;quot;sensed_speed&amp;quot;: 0, &amp;quot;accuracy&amp;quot;: 40.5}}, {&amp;quot;geometry&amp;quot;: {&amp;quot;type&amp;quot;: &amp;quot;Point&amp;quot;, &amp;quot;coordinates&amp;quot;: [-122.2675635, 37.8285015]}, &amp;quot;type&amp;quot;: &amp;quot;Feature&amp;quot;, &amp;quot;id&amp;quot;: &amp;quot;55dfad477d65cb39ee986b85&amp;quot;, &amp;quot;properties&amp;quot;: {&amp;quot;feature_type&amp;quot;: &amp;quot;location&amp;quot;, &amp;quot;fmt_time&amp;quot;: &amp;quot;2015-08-27 16:02:02.141000-07:00&amp;quot;, &amp;quot;altitude&amp;quot;: 0, &amp;quot;ts&amp;quot;: 1440716522.141, &amp;quot;longitude&amp;quot;: -122.2675635, &amp;quot;latitude&amp;quot;: 37.8285015, &amp;quot;heading&amp;quot;: 0, &amp;quot;sensed_speed&amp;quot;: 0, &amp;quot;accuracy&amp;quot;: 85.001}}, {&amp;quot;geometry&amp;quot;: {&amp;quot;type&amp;quot;: &amp;quot;Point&amp;quot;, &amp;quot;coordinates&amp;quot;: [-122.2676128, 37.8280289]}, &amp;quot;type&amp;quot;: &amp;quot;Feature&amp;quot;, &amp;quot;id&amp;quot;: &amp;quot;55dfad487d65cb39ee986b87&amp;quot;, &amp;quot;properties&amp;quot;: {&amp;quot;feature_type&amp;quot;: &amp;quot;location&amp;quot;, &amp;quot;fmt_time&amp;quot;: &amp;quot;2015-08-27 16:02:32.535000-07:00&amp;quot;, &amp;quot;altitude&amp;quot;: 0, &amp;quot;ts&amp;quot;: 1440716552.535, &amp;quot;longitude&amp;quot;: -122.2676128, &amp;quot;latitude&amp;quot;: 37.8280289, &amp;quot;heading&amp;quot;: 0, &amp;quot;sensed_speed&amp;quot;: 0, &amp;quot;accuracy&amp;quot;: 45.0}}, {&amp;quot;geometry&amp;quot;: {&amp;quot;type&amp;quot;: &amp;quot;Point&amp;quot;, &amp;quot;coordinates&amp;quot;: [-122.2687873, 37.8225589]}, &amp;quot;type&amp;quot;: &amp;quot;Feature&amp;quot;, &amp;quot;id&amp;quot;: &amp;quot;55dfad487d65cb39ee986b8a&amp;quot;, &amp;quot;properties&amp;quot;: {&amp;quot;feature_type&amp;quot;: &amp;quot;location&amp;quot;, &amp;quot;fmt_time&amp;quot;: &amp;quot;2015-08-27 16:03:02.586000-07:00&amp;quot;, &amp;quot;altitude&amp;quot;: 0, &amp;quot;ts&amp;quot;: 1440716582.586, &amp;quot;longitude&amp;quot;: -122.2687873, &amp;quot;latitude&amp;quot;: 37.8225589, &amp;quot;heading&amp;quot;: 0, &amp;quot;sensed_speed&amp;quot;: 0, &amp;quot;accuracy&amp;quot;: 55.5}}, {&amp;quot;geometry&amp;quot;: {&amp;quot;type&amp;quot;: &amp;quot;Point&amp;quot;, &amp;quot;coordinates&amp;quot;: [-122.2703874, 37.813929]}, &amp;quot;type&amp;quot;: &amp;quot;Feature&amp;quot;, &amp;quot;id&amp;quot;: &amp;quot;55dfad487d65cb39ee986b8f&amp;quot;, &amp;quot;properties&amp;quot;: {&amp;quot;feature_type&amp;quot;: &amp;quot;location&amp;quot;, &amp;quot;fmt_time&amp;quot;: &amp;quot;2015-08-27 16:04:02.609000-07:00&amp;quot;, &amp;quot;altitude&amp;quot;: 0, &amp;quot;ts&amp;quot;: 1440716642.609, &amp;quot;longitude&amp;quot;: -122.2703874, &amp;quot;latitude&amp;quot;: 37.813929, &amp;quot;heading&amp;quot;: 0, &amp;quot;sensed_speed&amp;quot;: 0, &amp;quot;accuracy&amp;quot;: 36.0}}, {&amp;quot;geometry&amp;quot;: {&amp;quot;type&amp;quot;: &amp;quot;Point&amp;quot;, &amp;quot;coordinates&amp;quot;: [-122.2788226, 37.7992095]}, &amp;quot;type&amp;quot;: &amp;quot;Feature&amp;quot;, &amp;quot;id&amp;quot;: &amp;quot;55dfad497d65cb39ee986ba4&amp;quot;, &amp;quot;properties&amp;quot;: {&amp;quot;feature_type&amp;quot;: &amp;quot;location&amp;quot;, &amp;quot;fmt_time&amp;quot;: &amp;quot;2015-08-27 16:09:03.024000-07:00&amp;quot;, &amp;quot;altitude&amp;quot;: 0, &amp;quot;ts&amp;quot;: 1440716943.024, &amp;quot;longitude&amp;quot;: -122.2788226, &amp;quot;latitude&amp;quot;: 37.7992095, &amp;quot;heading&amp;quot;: 0, &amp;quot;sensed_speed&amp;quot;: 0, &amp;quot;accuracy&amp;quot;: 37.5}}, {&amp;quot;geometry&amp;quot;: {&amp;quot;type&amp;quot;: &amp;quot;Point&amp;quot;, &amp;quot;coordinates&amp;quot;: [-122.2823074, 37.8005129]}, &amp;quot;type&amp;quot;: &amp;quot;Feature&amp;quot;, &amp;quot;id&amp;quot;: &amp;quot;55dfad4a7d65cb39ee986ba7&amp;quot;, &amp;quot;properties&amp;quot;: {&amp;quot;feature_type&amp;quot;: &amp;quot;location&amp;quot;, &amp;quot;fmt_time&amp;quot;: &amp;quot;2015-08-27 16:09:33.060000-07:00&amp;quot;, &amp;quot;altitude&amp;quot;: 0, &amp;quot;ts&amp;quot;: 1440716973.06, &amp;quot;longitude&amp;quot;: -122.2823074, &amp;quot;latitude&amp;quot;: 37.8005129, &amp;quot;heading&amp;quot;: 0, &amp;quot;sensed_speed&amp;quot;: 0, &amp;quot;accuracy&amp;quot;: 37.5}}, {&amp;quot;geometry&amp;quot;: {&amp;quot;type&amp;quot;: &amp;quot;Point&amp;quot;, &amp;quot;coordinates&amp;quot;: [-122.2920239, 37.8042275]}, &amp;quot;type&amp;quot;: &amp;quot;Feature&amp;quot;, &amp;quot;id&amp;quot;: &amp;quot;55dfad4a7d65cb39ee986bac&amp;quot;, &amp;quot;properties&amp;quot;: {&amp;quot;feature_type&amp;quot;: &amp;quot;location&amp;quot;, &amp;quot;fmt_time&amp;quot;: &amp;quot;2015-08-27 16:10:33.129000-07:00&amp;quot;, &amp;quot;altitude&amp;quot;: 0, &amp;quot;ts&amp;quot;: 1440717033.129, &amp;quot;longitude&amp;quot;: -122.2920239, &amp;quot;latitude&amp;quot;: 37.8042275, &amp;quot;heading&amp;quot;: 0, &amp;quot;sensed_speed&amp;quot;: 0, &amp;quot;accuracy&amp;quot;: 39.0}}, {&amp;quot;geometry&amp;quot;: {&amp;quot;type&amp;quot;: &amp;quot;Point&amp;quot;, &amp;quot;coordinates&amp;quot;: [-122.2940305, 37.8047897]}, &amp;quot;type&amp;quot;: &amp;quot;Feature&amp;quot;, &amp;quot;id&amp;quot;: &amp;quot;55dfad4a7d65cb39ee986bae&amp;quot;, &amp;quot;properties&amp;quot;: {&amp;quot;feature_type&amp;quot;: &amp;quot;location&amp;quot;, &amp;quot;fmt_time&amp;quot;: &amp;quot;2015-08-27 16:11:03.157000-07:00&amp;quot;, &amp;quot;altitude&amp;quot;: 0, &amp;quot;ts&amp;quot;: 1440717063.157, &amp;quot;longitude&amp;quot;: -122.2940305, &amp;quot;latitude&amp;quot;: 37.8047897, &amp;quot;heading&amp;quot;: 0, &amp;quot;sensed_speed&amp;quot;: 0, &amp;quot;accuracy&amp;quot;: 45.0}}, {&amp;quot;geometry&amp;quot;: {&amp;quot;type&amp;quot;: &amp;quot;Point&amp;quot;, &amp;quot;coordinates&amp;quot;: [-122.2943285, 37.8046422]}, &amp;quot;type&amp;quot;: &amp;quot;Feature&amp;quot;, &amp;quot;id&amp;quot;: &amp;quot;55dfad4a7d65cb39ee986bb1&amp;quot;, &amp;quot;properties&amp;quot;: {&amp;quot;feature_type&amp;quot;: &amp;quot;location&amp;quot;, &amp;quot;fmt_time&amp;quot;: &amp;quot;2015-08-27 16:11:33.193000-07:00&amp;quot;, &amp;quot;altitude&amp;quot;: 0, &amp;quot;ts&amp;quot;: 1440717093.193, &amp;quot;longitude&amp;quot;: -122.2943285, &amp;quot;latitude&amp;quot;: 37.8046422, &amp;quot;heading&amp;quot;: 0, &amp;quot;sensed_speed&amp;quot;: 0, &amp;quot;accuracy&amp;quot;: 39.0}}, {&amp;quot;geometry&amp;quot;: {&amp;quot;type&amp;quot;: &amp;quot;Point&amp;quot;, &amp;quot;coordinates&amp;quot;: [-122.3002167, 37.8065197]}, &amp;quot;type&amp;quot;: &amp;quot;Feature&amp;quot;, &amp;quot;id&amp;quot;: &amp;quot;55dfad4a7d65cb39ee986bb3&amp;quot;, &amp;quot;properties&amp;quot;: {&amp;quot;feature_type&amp;quot;: &amp;quot;location&amp;quot;, &amp;quot;fmt_time&amp;quot;: &amp;quot;2015-08-27 16:12:03.216000-07:00&amp;quot;, &amp;quot;altitude&amp;quot;: 0, &amp;quot;ts&amp;quot;: 1440717123.216, &amp;quot;longitude&amp;quot;: -122.3002167, &amp;quot;latitude&amp;quot;: 37.8065197, &amp;quot;heading&amp;quot;: 0, &amp;quot;sensed_speed&amp;quot;: 0, &amp;quot;accuracy&amp;quot;: 30.0}}, {&amp;quot;geometry&amp;quot;: {&amp;quot;type&amp;quot;: &amp;quot;Point&amp;quot;, &amp;quot;coordinates&amp;quot;: [-122.3070424, 37.8081188]}, &amp;quot;type&amp;quot;: &amp;quot;Feature&amp;quot;, &amp;quot;id&amp;quot;: &amp;quot;55dfad4b7d65cb39ee986bb6&amp;quot;, &amp;quot;properties&amp;quot;: {&amp;quot;feature_type&amp;quot;: &amp;quot;location&amp;quot;, &amp;quot;fmt_time&amp;quot;: &amp;quot;2015-08-27 16:12:33.230000-07:00&amp;quot;, &amp;quot;altitude&amp;quot;: 0, &amp;quot;ts&amp;quot;: 1440717153.23, &amp;quot;longitude&amp;quot;: -122.3070424, &amp;quot;latitude&amp;quot;: 37.8081188, &amp;quot;heading&amp;quot;: 0, &amp;quot;sensed_speed&amp;quot;: 0, &amp;quot;accuracy&amp;quot;: 144.0}}, {&amp;quot;geometry&amp;quot;: {&amp;quot;type&amp;quot;: &amp;quot;Point&amp;quot;, &amp;quot;coordinates&amp;quot;: [-122.4543726, 37.7110586]}, &amp;quot;type&amp;quot;: &amp;quot;Feature&amp;quot;, &amp;quot;id&amp;quot;: &amp;quot;55dfad507d65cb39ee986c06&amp;quot;, &amp;quot;properties&amp;quot;: {&amp;quot;feature_type&amp;quot;: &amp;quot;location&amp;quot;, &amp;quot;fmt_time&amp;quot;: &amp;quot;2015-08-27 16:33:32.667000-07:00&amp;quot;, &amp;quot;altitude&amp;quot;: 0, &amp;quot;ts&amp;quot;: 1440718412.667, &amp;quot;longitude&amp;quot;: -122.4543726, &amp;quot;latitude&amp;quot;: 37.7110586, &amp;quot;heading&amp;quot;: 0, &amp;quot;sensed_speed&amp;quot;: 0, &amp;quot;accuracy&amp;quot;: 40.5}}, {&amp;quot;geometry&amp;quot;: {&amp;quot;type&amp;quot;: &amp;quot;Point&amp;quot;, &amp;quot;coordinates&amp;quot;: [-122.4578115, 37.7102444]}, &amp;quot;type&amp;quot;: &amp;quot;Feature&amp;quot;, &amp;quot;id&amp;quot;: &amp;quot;55dfad507d65cb39ee986c09&amp;quot;, &amp;quot;properties&amp;quot;: {&amp;quot;feature_type&amp;quot;: &amp;quot;location&amp;quot;, &amp;quot;fmt_time&amp;quot;: &amp;quot;2015-08-27 16:34:32.736000-07:00&amp;quot;, &amp;quot;altitude&amp;quot;: 0, &amp;quot;ts&amp;quot;: 1440718472.736, &amp;quot;longitude&amp;quot;: -122.4578115, &amp;quot;latitude&amp;quot;: 37.7102444, &amp;quot;heading&amp;quot;: 0, &amp;quot;sensed_speed&amp;quot;: 0, &amp;quot;accuracy&amp;quot;: 57.0}}, {&amp;quot;geometry&amp;quot;: {&amp;quot;type&amp;quot;: &amp;quot;Point&amp;quot;, &amp;quot;coordinates&amp;quot;: [-122.4578115, 37.7102444]}, &amp;quot;type&amp;quot;: &amp;quot;Feature&amp;quot;, &amp;quot;id&amp;quot;: &amp;quot;55dfad507d65cb39ee986c0c&amp;quot;, &amp;quot;properties&amp;quot;: {&amp;quot;feature_type&amp;quot;: &amp;quot;location&amp;quot;, &amp;quot;fmt_time&amp;quot;: &amp;quot;2015-08-27 16:35:01.766000-07:00&amp;quot;, &amp;quot;altitude&amp;quot;: 0, &amp;quot;ts&amp;quot;: 1440718501.766, &amp;quot;longitude&amp;quot;: -122.4578115, &amp;quot;latitude&amp;quot;: 37.7102444, &amp;quot;heading&amp;quot;: 0, &amp;quot;sensed_speed&amp;quot;: 0, &amp;quot;accuracy&amp;quot;: 100.546}}, {&amp;quot;geometry&amp;quot;: {&amp;quot;type&amp;quot;: &amp;quot;Point&amp;quot;, &amp;quot;coordinates&amp;quot;: [-122.4578115, 37.7102444]}, &amp;quot;type&amp;quot;: &amp;quot;Feature&amp;quot;, &amp;quot;id&amp;quot;: &amp;quot;55dfad517d65cb39ee986c0e&amp;quot;, &amp;quot;properties&amp;quot;: {&amp;quot;feature_type&amp;quot;: &amp;quot;location&amp;quot;, &amp;quot;fmt_time&amp;quot;: &amp;quot;2015-08-27 16:35:31.791000-07:00&amp;quot;, &amp;quot;altitude&amp;quot;: 0, &amp;quot;ts&amp;quot;: 1440718531.791, &amp;quot;longitude&amp;quot;: -122.4578115, &amp;quot;latitude&amp;quot;: 37.7102444, &amp;quot;heading&amp;quot;: 0, &amp;quot;sensed_speed&amp;quot;: 0, &amp;quot;accuracy&amp;quot;: 145.582}}, {&amp;quot;geometry&amp;quot;: {&amp;quot;type&amp;quot;: &amp;quot;Point&amp;quot;, &amp;quot;coordinates&amp;quot;: [-122.4578115, 37.7102444]}, &amp;quot;type&amp;quot;: &amp;quot;Feature&amp;quot;, &amp;quot;id&amp;quot;: &amp;quot;55dfad517d65cb39ee986c12&amp;quot;, &amp;quot;properties&amp;quot;: {&amp;quot;feature_type&amp;quot;: &amp;quot;location&amp;quot;, &amp;quot;fmt_time&amp;quot;: &amp;quot;2015-08-27 16:36:01.814000-07:00&amp;quot;, &amp;quot;altitude&amp;quot;: 0, &amp;quot;ts&amp;quot;: 1440718561.814, &amp;quot;longitude&amp;quot;: -122.4578115, &amp;quot;latitude&amp;quot;: 37.7102444, &amp;quot;heading&amp;quot;: 0, &amp;quot;sensed_speed&amp;quot;: 0, &amp;quot;accuracy&amp;quot;: 190.616}}, {&amp;quot;geometry&amp;quot;: {&amp;quot;type&amp;quot;: &amp;quot;Point&amp;quot;, &amp;quot;coordinates&amp;quot;: [-122.3872753, 37.5992646]}, &amp;quot;type&amp;quot;: &amp;quot;Feature&amp;quot;, &amp;quot;id&amp;quot;: &amp;quot;55dfad557d65cb39ee986c45&amp;quot;, &amp;quot;properties&amp;quot;: {&amp;quot;feature_type&amp;quot;: &amp;quot;location&amp;quot;, &amp;quot;fmt_time&amp;quot;: &amp;quot;2015-08-27 16:51:59.226000-07:00&amp;quot;, &amp;quot;altitude&amp;quot;: 0, &amp;quot;ts&amp;quot;: 1440719519.226, &amp;quot;longitude&amp;quot;: -122.3872753, &amp;quot;latitude&amp;quot;: 37.5992646, &amp;quot;heading&amp;quot;: 0, &amp;quot;sensed_speed&amp;quot;: 0, &amp;quot;accuracy&amp;quot;: 39.0}}]}, {&amp;quot;geometry&amp;quot;: {&amp;quot;type&amp;quot;: &amp;quot;LineString&amp;quot;, &amp;quot;coordinates&amp;quot;: [[-122.2589521, 37.8753047], [-122.2714736, 37.8471355], [-122.2713142, 37.8465722], [-122.2698728, 37.8405014], [-122.2674686, 37.8353014], [-122.2675635, 37.8285015], [-122.2675635, 37.8285015], [-122.2676128, 37.8280289], [-122.2687873, 37.8225589], [-122.2703874, 37.813929], [-122.2788226, 37.7992095], [-122.2823074, 37.8005129], [-122.2920239, 37.8042275], [-122.2940305, 37.8047897], [-122.2943285, 37.8046422], [-122.3002167, 37.8065197], [-122.3070424, 37.8081188], [-122.4543726, 37.7110586], [-122.4578115, 37.7102444], [-122.4578115, 37.7102444], [-122.4578115, 37.7102444], [-122.4578115, 37.7102444], [-122.3872753, 37.5992646]]}, &amp;quot;type&amp;quot;: &amp;quot;Feature&amp;quot;, &amp;quot;id&amp;quot;: &amp;quot;5603ae10f6858f0cbbb6058b&amp;quot;, &amp;quot;properties&amp;quot;: {&amp;quot;feature_type&amp;quot;: &amp;quot;section&amp;quot;, &amp;quot;sensed_mode&amp;quot;: &amp;quot;MotionTypes.IN_VEHICLE&amp;quot;, &amp;quot;end_ts&amp;quot;: 1440719519.226, &amp;quot;start_ts&amp;quot;: 1440716367.376, &amp;quot;start_fmt_time&amp;quot;: &amp;quot;2015-08-27 15:59:27.376000-07:00&amp;quot;, &amp;quot;source&amp;quot;: &amp;quot;SmoothedHighConfidenceMotion&amp;quot;, &amp;quot;end_fmt_time&amp;quot;: &amp;quot;2015-08-27 16:51:59.226000-07:00&amp;quot;, &amp;quot;duration&amp;quot;: 3151.850000143051}}]}, {&amp;quot;type&amp;quot;: &amp;quot;FeatureCollection&amp;quot;, &amp;quot;features&amp;quot;: [{&amp;quot;type&amp;quot;: &amp;quot;FeatureCollection&amp;quot;, &amp;quot;features&amp;quot;: [{&amp;quot;geometry&amp;quot;: {&amp;quot;type&amp;quot;: &amp;quot;Point&amp;quot;, &amp;quot;coordinates&amp;quot;: [-122.3872511, 37.5992711]}, &amp;quot;type&amp;quot;: &amp;quot;Feature&amp;quot;, &amp;quot;id&amp;quot;: &amp;quot;55dfad557d65cb39ee986c4b&amp;quot;, &amp;quot;properties&amp;quot;: {&amp;quot;feature_type&amp;quot;: &amp;quot;location&amp;quot;, &amp;quot;fmt_time&amp;quot;: &amp;quot;2015-08-27 16:52:59.435000-07:00&amp;quot;, &amp;quot;altitude&amp;quot;: 0, &amp;quot;ts&amp;quot;: 1440719579.435, &amp;quot;longitude&amp;quot;: -122.3872511, &amp;quot;latitude&amp;quot;: 37.5992711, &amp;quot;heading&amp;quot;: 0, &amp;quot;sensed_speed&amp;quot;: 0, &amp;quot;accuracy&amp;quot;: 58.5}}, {&amp;quot;geometry&amp;quot;: {&amp;quot;type&amp;quot;: &amp;quot;Point&amp;quot;, &amp;quot;coordinates&amp;quot;: [-122.387178, 37.5992977]}, &amp;quot;type&amp;quot;: &amp;quot;Feature&amp;quot;, &amp;quot;id&amp;quot;: &amp;quot;55dfad557d65cb39ee986c50&amp;quot;, &amp;quot;properties&amp;quot;: {&amp;quot;feature_type&amp;quot;: &amp;quot;location&amp;quot;, &amp;quot;fmt_time&amp;quot;: &amp;quot;2015-08-27 16:53:13.163000-07:00&amp;quot;, &amp;quot;altitude&amp;quot;: 0, &amp;quot;ts&amp;quot;: 1440719593.163, &amp;quot;longitude&amp;quot;: -122.387178, &amp;quot;latitude&amp;quot;: 37.5992977, &amp;quot;heading&amp;quot;: 0, &amp;quot;sensed_speed&amp;quot;: 0, &amp;quot;accuracy&amp;quot;: 83.464}}, {&amp;quot;geometry&amp;quot;: {&amp;quot;type&amp;quot;: &amp;quot;Point&amp;quot;, &amp;quot;coordinates&amp;quot;: [-122.3870778, 37.5992896]}, &amp;quot;type&amp;quot;: &amp;quot;Feature&amp;quot;, &amp;quot;id&amp;quot;: &amp;quot;55dfad567d65cb39ee986c55&amp;quot;, &amp;quot;properties&amp;quot;: {&amp;quot;feature_type&amp;quot;: &amp;quot;location&amp;quot;, &amp;quot;fmt_time&amp;quot;: &amp;quot;2015-08-27 16:53:59.354000-07:00&amp;quot;, &amp;quot;altitude&amp;quot;: 0, &amp;quot;ts&amp;quot;: 1440719639.354, &amp;quot;longitude&amp;quot;: -122.3870778, &amp;quot;latitude&amp;quot;: 37.5992896, &amp;quot;heading&amp;quot;: 0, &amp;quot;sensed_speed&amp;quot;: 0, &amp;quot;accuracy&amp;quot;: 71.811}}, {&amp;quot;geometry&amp;quot;: {&amp;quot;type&amp;quot;: &amp;quot;Point&amp;quot;, &amp;quot;coordinates&amp;quot;: [-122.3870874, 37.5992924]}, &amp;quot;type&amp;quot;: &amp;quot;Feature&amp;quot;, &amp;quot;id&amp;quot;: &amp;quot;55dfad567d65cb39ee986c57&amp;quot;, &amp;quot;properties&amp;quot;: {&amp;quot;feature_type&amp;quot;: &amp;quot;location&amp;quot;, &amp;quot;fmt_time&amp;quot;: &amp;quot;2015-08-27 16:54:28.317000-07:00&amp;quot;, &amp;quot;altitude&amp;quot;: 0, &amp;quot;ts&amp;quot;: 1440719668.317, &amp;quot;longitude&amp;quot;: -122.3870874, &amp;quot;latitude&amp;quot;: 37.5992924, &amp;quot;heading&amp;quot;: 0, &amp;quot;sensed_speed&amp;quot;: 0, &amp;quot;accuracy&amp;quot;: 71.78}}]}, {&amp;quot;geometry&amp;quot;: {&amp;quot;type&amp;quot;: &amp;quot;LineString&amp;quot;, &amp;quot;coordinates&amp;quot;: [[-122.3872511, 37.5992711], [-122.387178, 37.5992977], [-122.3870778, 37.5992896], [-122.3870874, 37.5992924]]}, &amp;quot;type&amp;quot;: &amp;quot;Feature&amp;quot;, &amp;quot;id&amp;quot;: &amp;quot;5603ae10f6858f0cbbb6058c&amp;quot;, &amp;quot;properties&amp;quot;: {&amp;quot;feature_type&amp;quot;: &amp;quot;section&amp;quot;, &amp;quot;sensed_mode&amp;quot;: &amp;quot;MotionTypes.ON_FOOT&amp;quot;, &amp;quot;end_ts&amp;quot;: 1440719668.317, &amp;quot;start_ts&amp;quot;: 1440719579.435, &amp;quot;start_fmt_time&amp;quot;: &amp;quot;2015-08-27 16:52:59.435000-07:00&amp;quot;, &amp;quot;source&amp;quot;: &amp;quot;SmoothedHighConfidenceMotion&amp;quot;, &amp;quot;end_fmt_time&amp;quot;: &amp;quot;2015-08-27 16:54:28.317000-07:00&amp;quot;, &amp;quot;duration&amp;quot;: 88.88199996948242}}]}]}'))})\n",
        "          .await(makeMap)\n",
        "\n",
        "      function onEachFeature(feature, layer) {\n",
        "          // does this feature have a property named popupContent?\n",
        "          if (feature.properties &amp;&amp; feature.properties.popupContent) {\n",
        "              layer.bindPopup(feature.properties.popupContent);\n",
        "              }\n",
        "          };\n",
        "\n",
        "      function makeMap(error, gjson_1) {\n",
        "\n",
        "          \n",
        "\n",
        "          \n",
        "\n",
        "          function matchKey(datapoint, key_variable){\n",
        "              if (typeof key_variable[0][datapoint] === 'undefined') {\n",
        "                  return null;\n",
        "              }\n",
        "              else {\n",
        "                  return parseFloat(key_variable[0][datapoint]);\n",
        "              };\n",
        "          };\n",
        "\n",
        "          \n",
        "\n",
        "          var map = L.map('map').setView([0, 0], 1);\n",
        "\n",
        "          L.tileLayer('https://{s}.tile.openstreetmap.org/{z}/{x}/{y}.png', {\n",
        "              maxZoom: 18,\n",
        "              minZoom: 1,\n",
        "              attribution: 'Map data (c) &lt;a href=&amp;quot;http://openstreetmap.org&amp;quot;&gt;OpenStreetMap&lt;/a&gt; contributors'\n",
        "          }).addTo(map);\n",
        "\n",
        "          \n",
        "          function style_1(feature) {\n",
        "    return {\n",
        "        fillColor: 'blue',\n",
        "        weight: 1,\n",
        "        opacity: 1,\n",
        "        color: 'black',\n",
        "        fillOpacity: 0.6\n",
        "    };\n",
        "}\n",
        "          \n",
        "\n",
        "          \n",
        "          gJson_layer_1 = L.geoJson(gjson_1, {style: style_1,onEachFeature: onEachFeature}).addTo(map)\n",
        "          \n",
        "\n",
        "          \n",
        "\n",
        "          \n",
        "\n",
        "          \n",
        "\n",
        "          \n",
        "\n",
        "          \n",
        "\n",
        "          \n",
        "\n",
        "          var autobounds = L.featureGroup([]).getBounds()\n",
        "\n",
        "\n",
        "\n",
        "\n",
        "\n",
        "map.fitBounds(autobounds,\n",
        "    {&amp;quot;padding&amp;quot;: [30, 30]}\n",
        ");\n",
        "\n",
        "      };\n",
        "\n",
        "   &lt;/script&gt;\n",
        "&lt;/body&gt;&quot; style=&quot;width: 100%; height: 510px; border: none&quot;&gt;&lt;/iframe&gt;</td></tr>\n",
        "<tr><td>&lt;iframe srcdoc=&quot;&lt;!DOCTYPE html&gt;\n",
        "&lt;head&gt;\n",
        "   &lt;meta http-equiv=&amp;quot;content-type&amp;quot; content=&amp;quot;text/html; charset=UTF-8&amp;quot; /&gt;\n",
        "   &lt;link rel=&amp;quot;stylesheet&amp;quot; href=&amp;quot;https://cdnjs.cloudflare.com/ajax/libs/leaflet/0.7.3/leaflet.css&amp;quot; /&gt;\n",
        "   &lt;script src=&amp;quot;https://cdnjs.cloudflare.com/ajax/libs/leaflet/0.7.3/leaflet.js&amp;quot;&gt;&lt;/script&gt;\n",
        "   &lt;script src=&amp;quot;https://cdnjs.cloudflare.com/ajax/libs/d3/3.5.5/d3.min.js&amp;quot; charset=&amp;quot;utf-8&amp;quot;&gt;&lt;/script&gt;\n",
        "   &lt;script src=&amp;quot;https://cdnjs.cloudflare.com/ajax/libs/queue-async/1.0.7/queue.min.js&amp;quot;&gt;&lt;/script&gt;\n",
        "\n",
        "   \n",
        "   \n",
        "   \n",
        "   \n",
        "\n",
        "   &lt;style&gt;\n",
        "\n",
        "      html, body {\n",
        "        width: 100%;\n",
        "        height: 100%;\n",
        "        margin: 0;\n",
        "        padding: 0;\n",
        "      }\n",
        "\n",
        "      .legend {\n",
        "          padding: 0px 0px;\n",
        "          font: 10px sans-serif;\n",
        "          background: white;\n",
        "          background: rgba(255,255,255,0.8);\n",
        "          box-shadow: 0 0 15px rgba(0,0,0,0.2);\n",
        "          border-radius: 5px;\n",
        "      }\n",
        "\n",
        "      .key path {\n",
        "        display: none;\n",
        "      }\n",
        "\n",
        "   &lt;/style&gt;\n",
        "&lt;/head&gt;\n",
        "\n",
        "&lt;body&gt;\n",
        "\n",
        "   &lt;div id=&amp;quot;map&amp;quot; style=&amp;quot;width: 100%; height: 100%&amp;quot;&gt;&lt;/div&gt;\n",
        "\n",
        "   &lt;script&gt;\n",
        "\n",
        "      queue()\n",
        "          .defer(function(callback){callback(null, JSON.parse('{&amp;quot;type&amp;quot;: &amp;quot;FeatureCollection&amp;quot;, &amp;quot;features&amp;quot;: [{&amp;quot;geometry&amp;quot;: {&amp;quot;type&amp;quot;: &amp;quot;Point&amp;quot;, &amp;quot;coordinates&amp;quot;: [-122.3870874, 37.5992924]}, &amp;quot;type&amp;quot;: &amp;quot;Feature&amp;quot;, &amp;quot;id&amp;quot;: &amp;quot;5603ae0cf6858f0cbbb60559&amp;quot;, &amp;quot;properties&amp;quot;: {&amp;quot;enter_fmt_time&amp;quot;: &amp;quot;2015-08-27 16:54:28.317000-07:00&amp;quot;, &amp;quot;feature_type&amp;quot;: &amp;quot;place&amp;quot;, &amp;quot;exit_fmt_time&amp;quot;: &amp;quot;2015-08-27 17:03:59.012000-07:00&amp;quot;, &amp;quot;source&amp;quot;: &amp;quot;DwellSegmentationTimeFilter&amp;quot;, &amp;quot;enter_ts&amp;quot;: 1440719668.317, &amp;quot;duration&amp;quot;: 570.6950001716614, &amp;quot;exit_ts&amp;quot;: 1440720239.012}}, {&amp;quot;geometry&amp;quot;: {&amp;quot;type&amp;quot;: &amp;quot;Point&amp;quot;, &amp;quot;coordinates&amp;quot;: [-122.083702, 37.4036219]}, &amp;quot;type&amp;quot;: &amp;quot;Feature&amp;quot;, &amp;quot;id&amp;quot;: &amp;quot;5603ae0cf6858f0cbbb6055b&amp;quot;, &amp;quot;properties&amp;quot;: {&amp;quot;enter_fmt_time&amp;quot;: &amp;quot;2015-08-27 17:55:34.898000-07:00&amp;quot;, &amp;quot;feature_type&amp;quot;: &amp;quot;place&amp;quot;, &amp;quot;exit_fmt_time&amp;quot;: &amp;quot;2015-08-27 19:21:59.971000-07:00&amp;quot;, &amp;quot;source&amp;quot;: &amp;quot;DwellSegmentationTimeFilter&amp;quot;, &amp;quot;enter_ts&amp;quot;: 1440723334.898, &amp;quot;duration&amp;quot;: 5185.072999954224, &amp;quot;exit_ts&amp;quot;: 1440728519.971}}, {&amp;quot;geometry&amp;quot;: {&amp;quot;type&amp;quot;: &amp;quot;Point&amp;quot;, &amp;quot;coordinates&amp;quot;: [-122.0761413, 37.3940933]}, &amp;quot;type&amp;quot;: &amp;quot;Feature&amp;quot;, &amp;quot;id&amp;quot;: &amp;quot;5603ae10f6858f0cbbb60590&amp;quot;, &amp;quot;properties&amp;quot;: {&amp;quot;enter_fmt_time&amp;quot;: &amp;quot;2015-08-27 17:43:04.229000-07:00&amp;quot;, &amp;quot;feature_type&amp;quot;: &amp;quot;stop&amp;quot;, &amp;quot;exit_fmt_time&amp;quot;: &amp;quot;2015-08-27 17:43:34.285000-07:00&amp;quot;, &amp;quot;source&amp;quot;: &amp;quot;SmoothedHighConfidenceMotion&amp;quot;, &amp;quot;enter_ts&amp;quot;: 1440722584.229, &amp;quot;duration&amp;quot;: 30.055999994277954, &amp;quot;exit_ts&amp;quot;: 1440722614.285}}, {&amp;quot;geometry&amp;quot;: {&amp;quot;type&amp;quot;: &amp;quot;Point&amp;quot;, &amp;quot;coordinates&amp;quot;: [-122.078664, 37.4015876]}, &amp;quot;type&amp;quot;: &amp;quot;Feature&amp;quot;, &amp;quot;id&amp;quot;: &amp;quot;5603ae11f6858f0cbbb60592&amp;quot;, &amp;quot;properties&amp;quot;: {&amp;quot;enter_fmt_time&amp;quot;: &amp;quot;2015-08-27 17:51:04.721000-07:00&amp;quot;, &amp;quot;feature_type&amp;quot;: &amp;quot;stop&amp;quot;, &amp;quot;exit_fmt_time&amp;quot;: &amp;quot;2015-08-27 17:51:34.715000-07:00&amp;quot;, &amp;quot;source&amp;quot;: &amp;quot;SmoothedHighConfidenceMotion&amp;quot;, &amp;quot;enter_ts&amp;quot;: 1440723064.721, &amp;quot;duration&amp;quot;: 29.99399995803833, &amp;quot;exit_ts&amp;quot;: 1440723094.715}}, {&amp;quot;geometry&amp;quot;: {&amp;quot;type&amp;quot;: &amp;quot;Point&amp;quot;, &amp;quot;coordinates&amp;quot;: [-122.0827923, 37.4027524]}, &amp;quot;type&amp;quot;: &amp;quot;Feature&amp;quot;, &amp;quot;id&amp;quot;: &amp;quot;5603ae11f6858f0cbbb60594&amp;quot;, &amp;quot;properties&amp;quot;: {&amp;quot;enter_fmt_time&amp;quot;: &amp;quot;2015-08-27 17:52:04.657000-07:00&amp;quot;, &amp;quot;feature_type&amp;quot;: &amp;quot;stop&amp;quot;, &amp;quot;exit_fmt_time&amp;quot;: &amp;quot;2015-08-27 17:53:04.822000-07:00&amp;quot;, &amp;quot;source&amp;quot;: &amp;quot;SmoothedHighConfidenceMotion&amp;quot;, &amp;quot;enter_ts&amp;quot;: 1440723124.657, &amp;quot;duration&amp;quot;: 60.16499996185303, &amp;quot;exit_ts&amp;quot;: 1440723184.822}}, {&amp;quot;type&amp;quot;: &amp;quot;FeatureCollection&amp;quot;, &amp;quot;features&amp;quot;: [{&amp;quot;type&amp;quot;: &amp;quot;FeatureCollection&amp;quot;, &amp;quot;features&amp;quot;: [{&amp;quot;geometry&amp;quot;: {&amp;quot;type&amp;quot;: &amp;quot;Point&amp;quot;, &amp;quot;coordinates&amp;quot;: [-122.3446802, 37.57984]}, &amp;quot;type&amp;quot;: &amp;quot;Feature&amp;quot;, &amp;quot;id&amp;quot;: &amp;quot;55dfad587d65cb39ee986c77&amp;quot;, &amp;quot;properties&amp;quot;: {&amp;quot;feature_type&amp;quot;: &amp;quot;location&amp;quot;, &amp;quot;fmt_time&amp;quot;: &amp;quot;2015-08-27 17:03:59.012000-07:00&amp;quot;, &amp;quot;altitude&amp;quot;: 0, &amp;quot;ts&amp;quot;: 1440720239.012, &amp;quot;longitude&amp;quot;: -122.3446802, &amp;quot;latitude&amp;quot;: 37.57984, &amp;quot;heading&amp;quot;: 0, &amp;quot;sensed_speed&amp;quot;: 0.0, &amp;quot;accuracy&amp;quot;: 40.5}}, {&amp;quot;geometry&amp;quot;: {&amp;quot;type&amp;quot;: &amp;quot;Point&amp;quot;, &amp;quot;coordinates&amp;quot;: [-122.3446799, 37.5798403]}, &amp;quot;type&amp;quot;: &amp;quot;Feature&amp;quot;, &amp;quot;id&amp;quot;: &amp;quot;55dfad587d65cb39ee986c7a&amp;quot;, &amp;quot;properties&amp;quot;: {&amp;quot;feature_type&amp;quot;: &amp;quot;location&amp;quot;, &amp;quot;fmt_time&amp;quot;: &amp;quot;2015-08-27 17:04:29.083000-07:00&amp;quot;, &amp;quot;altitude&amp;quot;: 0, &amp;quot;ts&amp;quot;: 1440720269.083, &amp;quot;longitude&amp;quot;: -122.3446799, &amp;quot;latitude&amp;quot;: 37.5798403, &amp;quot;heading&amp;quot;: 0, &amp;quot;sensed_speed&amp;quot;: 0.0, &amp;quot;accuracy&amp;quot;: 40.5}}, {&amp;quot;geometry&amp;quot;: {&amp;quot;type&amp;quot;: &amp;quot;Point&amp;quot;, &amp;quot;coordinates&amp;quot;: [-122.3446799, 37.5798403]}, &amp;quot;type&amp;quot;: &amp;quot;Feature&amp;quot;, &amp;quot;id&amp;quot;: &amp;quot;55dfad587d65cb39ee986c7c&amp;quot;, &amp;quot;properties&amp;quot;: {&amp;quot;feature_type&amp;quot;: &amp;quot;location&amp;quot;, &amp;quot;fmt_time&amp;quot;: &amp;quot;2015-08-27 17:04:58.056000-07:00&amp;quot;, &amp;quot;altitude&amp;quot;: 0, &amp;quot;ts&amp;quot;: 1440720298.056, &amp;quot;longitude&amp;quot;: -122.3446799, &amp;quot;latitude&amp;quot;: 37.5798403, &amp;quot;heading&amp;quot;: 0, &amp;quot;sensed_speed&amp;quot;: 0.0, &amp;quot;accuracy&amp;quot;: 83.959}}, {&amp;quot;geometry&amp;quot;: {&amp;quot;type&amp;quot;: &amp;quot;Point&amp;quot;, &amp;quot;coordinates&amp;quot;: [-122.3379628, 37.5772606]}, &amp;quot;type&amp;quot;: &amp;quot;Feature&amp;quot;, &amp;quot;id&amp;quot;: &amp;quot;55dfad587d65cb39ee986c7f&amp;quot;, &amp;quot;properties&amp;quot;: {&amp;quot;feature_type&amp;quot;: &amp;quot;location&amp;quot;, &amp;quot;fmt_time&amp;quot;: &amp;quot;2015-08-27 17:05:29.069000-07:00&amp;quot;, &amp;quot;altitude&amp;quot;: 0, &amp;quot;ts&amp;quot;: 1440720329.069, &amp;quot;longitude&amp;quot;: -122.3379628, &amp;quot;latitude&amp;quot;: 37.5772606, &amp;quot;heading&amp;quot;: 0, &amp;quot;sensed_speed&amp;quot;: 0.0, &amp;quot;accuracy&amp;quot;: 39.0}}, {&amp;quot;geometry&amp;quot;: {&amp;quot;type&amp;quot;: &amp;quot;Point&amp;quot;, &amp;quot;coordinates&amp;quot;: [-122.330093, 37.5731863]}, &amp;quot;type&amp;quot;: &amp;quot;Feature&amp;quot;, &amp;quot;id&amp;quot;: &amp;quot;55dfad597d65cb39ee986c85&amp;quot;, &amp;quot;properties&amp;quot;: {&amp;quot;feature_type&amp;quot;: &amp;quot;location&amp;quot;, &amp;quot;fmt_time&amp;quot;: &amp;quot;2015-08-27 17:06:29.144000-07:00&amp;quot;, &amp;quot;altitude&amp;quot;: 0, &amp;quot;ts&amp;quot;: 1440720389.144, &amp;quot;longitude&amp;quot;: -122.330093, &amp;quot;latitude&amp;quot;: 37.5731863, &amp;quot;heading&amp;quot;: 0, &amp;quot;sensed_speed&amp;quot;: 0.0, &amp;quot;accuracy&amp;quot;: 57.0}}, {&amp;quot;geometry&amp;quot;: {&amp;quot;type&amp;quot;: &amp;quot;Point&amp;quot;, &amp;quot;coordinates&amp;quot;: [-122.3269305, 37.5709242]}, &amp;quot;type&amp;quot;: &amp;quot;Feature&amp;quot;, &amp;quot;id&amp;quot;: &amp;quot;55dfad597d65cb39ee986c88&amp;quot;, &amp;quot;properties&amp;quot;: {&amp;quot;feature_type&amp;quot;: &amp;quot;location&amp;quot;, &amp;quot;fmt_time&amp;quot;: &amp;quot;2015-08-27 17:06:59.141000-07:00&amp;quot;, &amp;quot;altitude&amp;quot;: 0, &amp;quot;ts&amp;quot;: 1440720419.141, &amp;quot;longitude&amp;quot;: -122.3269305, &amp;quot;latitude&amp;quot;: 37.5709242, &amp;quot;heading&amp;quot;: 0, &amp;quot;sensed_speed&amp;quot;: 0.0, &amp;quot;accuracy&amp;quot;: 36.0}}, {&amp;quot;geometry&amp;quot;: {&amp;quot;type&amp;quot;: &amp;quot;Point&amp;quot;, &amp;quot;coordinates&amp;quot;: [-122.3211883, 37.5661104]}, &amp;quot;type&amp;quot;: &amp;quot;Feature&amp;quot;, &amp;quot;id&amp;quot;: &amp;quot;55dfad5a7d65cb39ee986c95&amp;quot;, &amp;quot;properties&amp;quot;: {&amp;quot;feature_type&amp;quot;: &amp;quot;location&amp;quot;, &amp;quot;fmt_time&amp;quot;: &amp;quot;2015-08-27 17:09:46.824000-07:00&amp;quot;, &amp;quot;altitude&amp;quot;: 0, &amp;quot;ts&amp;quot;: 1440720586.824, &amp;quot;longitude&amp;quot;: -122.3211883, &amp;quot;latitude&amp;quot;: 37.5661104, &amp;quot;heading&amp;quot;: 0, &amp;quot;sensed_speed&amp;quot;: 0.0, &amp;quot;accuracy&amp;quot;: 43.404}}, {&amp;quot;geometry&amp;quot;: {&amp;quot;type&amp;quot;: &amp;quot;Point&amp;quot;, &amp;quot;coordinates&amp;quot;: [-122.3045277, 37.5468258]}, &amp;quot;type&amp;quot;: &amp;quot;Feature&amp;quot;, &amp;quot;id&amp;quot;: &amp;quot;55dfad5b7d65cb39ee986ca5&amp;quot;, &amp;quot;properties&amp;quot;: {&amp;quot;feature_type&amp;quot;: &amp;quot;location&amp;quot;, &amp;quot;fmt_time&amp;quot;: &amp;quot;2015-08-27 17:13:32.311000-07:00&amp;quot;, &amp;quot;altitude&amp;quot;: 0, &amp;quot;ts&amp;quot;: 1440720812.311, &amp;quot;longitude&amp;quot;: -122.3045277, &amp;quot;latitude&amp;quot;: 37.5468258, &amp;quot;heading&amp;quot;: 0, &amp;quot;sensed_speed&amp;quot;: 0.0, &amp;quot;accuracy&amp;quot;: 36.0}}, {&amp;quot;geometry&amp;quot;: {&amp;quot;type&amp;quot;: &amp;quot;Point&amp;quot;, &amp;quot;coordinates&amp;quot;: [-122.2898617, 37.5311179]}, &amp;quot;type&amp;quot;: &amp;quot;Feature&amp;quot;, &amp;quot;id&amp;quot;: &amp;quot;55dfad5c7d65cb39ee986cb3&amp;quot;, &amp;quot;properties&amp;quot;: {&amp;quot;feature_type&amp;quot;: &amp;quot;location&amp;quot;, &amp;quot;fmt_time&amp;quot;: &amp;quot;2015-08-27 17:17:02.750000-07:00&amp;quot;, &amp;quot;altitude&amp;quot;: 0, &amp;quot;ts&amp;quot;: 1440721022.75, &amp;quot;longitude&amp;quot;: -122.2898617, &amp;quot;latitude&amp;quot;: 37.5311179, &amp;quot;heading&amp;quot;: 0, &amp;quot;sensed_speed&amp;quot;: 0.0, &amp;quot;accuracy&amp;quot;: 57.0}}, {&amp;quot;geometry&amp;quot;: {&amp;quot;type&amp;quot;: &amp;quot;Point&amp;quot;, &amp;quot;coordinates&amp;quot;: [-122.2762817, 37.5210999]}, &amp;quot;type&amp;quot;: &amp;quot;Feature&amp;quot;, &amp;quot;id&amp;quot;: &amp;quot;55dfad5c7d65cb39ee986cb6&amp;quot;, &amp;quot;properties&amp;quot;: {&amp;quot;feature_type&amp;quot;: &amp;quot;location&amp;quot;, &amp;quot;fmt_time&amp;quot;: &amp;quot;2015-08-27 17:18:32.827000-07:00&amp;quot;, &amp;quot;altitude&amp;quot;: 0, &amp;quot;ts&amp;quot;: 1440721112.827, &amp;quot;longitude&amp;quot;: -122.2762817, &amp;quot;latitude&amp;quot;: 37.5210999, &amp;quot;heading&amp;quot;: 0, &amp;quot;sensed_speed&amp;quot;: 0.0, &amp;quot;accuracy&amp;quot;: 73.5}}, {&amp;quot;geometry&amp;quot;: {&amp;quot;type&amp;quot;: &amp;quot;Point&amp;quot;, &amp;quot;coordinates&amp;quot;: [-122.2762817, 37.5210999]}, &amp;quot;type&amp;quot;: &amp;quot;Feature&amp;quot;, &amp;quot;id&amp;quot;: &amp;quot;55dfad5c7d65cb39ee986cba&amp;quot;, &amp;quot;properties&amp;quot;: {&amp;quot;feature_type&amp;quot;: &amp;quot;location&amp;quot;, &amp;quot;fmt_time&amp;quot;: &amp;quot;2015-08-27 17:19:04.994000-07:00&amp;quot;, &amp;quot;altitude&amp;quot;: 0, &amp;quot;ts&amp;quot;: 1440721144.994, &amp;quot;longitude&amp;quot;: -122.2762817, &amp;quot;latitude&amp;quot;: 37.5210999, &amp;quot;heading&amp;quot;: 0, &amp;quot;sensed_speed&amp;quot;: 0.0, &amp;quot;accuracy&amp;quot;: 121.75}}, {&amp;quot;geometry&amp;quot;: {&amp;quot;type&amp;quot;: &amp;quot;Point&amp;quot;, &amp;quot;coordinates&amp;quot;: [-122.2762314, 37.5208544]}, &amp;quot;type&amp;quot;: &amp;quot;Feature&amp;quot;, &amp;quot;id&amp;quot;: &amp;quot;55dfad5c7d65cb39ee986cbc&amp;quot;, &amp;quot;properties&amp;quot;: {&amp;quot;feature_type&amp;quot;: &amp;quot;location&amp;quot;, &amp;quot;fmt_time&amp;quot;: &amp;quot;2015-08-27 17:19:32.898000-07:00&amp;quot;, &amp;quot;altitude&amp;quot;: 0, &amp;quot;ts&amp;quot;: 1440721172.898, &amp;quot;longitude&amp;quot;: -122.2762314, &amp;quot;latitude&amp;quot;: 37.5208544, &amp;quot;heading&amp;quot;: 0, &amp;quot;sensed_speed&amp;quot;: 0.0, &amp;quot;accuracy&amp;quot;: 37.5}}, {&amp;quot;geometry&amp;quot;: {&amp;quot;type&amp;quot;: &amp;quot;Point&amp;quot;, &amp;quot;coordinates&amp;quot;: [-122.2762314, 37.5208544]}, &amp;quot;type&amp;quot;: &amp;quot;Feature&amp;quot;, &amp;quot;id&amp;quot;: &amp;quot;55dfad5d7d65cb39ee986cbf&amp;quot;, &amp;quot;properties&amp;quot;: {&amp;quot;feature_type&amp;quot;: &amp;quot;location&amp;quot;, &amp;quot;fmt_time&amp;quot;: &amp;quot;2015-08-27 17:20:01.919000-07:00&amp;quot;, &amp;quot;altitude&amp;quot;: 0, &amp;quot;ts&amp;quot;: 1440721201.919, &amp;quot;longitude&amp;quot;: -122.2762314, &amp;quot;latitude&amp;quot;: 37.5208544, &amp;quot;heading&amp;quot;: 0, &amp;quot;sensed_speed&amp;quot;: 0.0, &amp;quot;accuracy&amp;quot;: 81.03}}, {&amp;quot;geometry&amp;quot;: {&amp;quot;type&amp;quot;: &amp;quot;Point&amp;quot;, &amp;quot;coordinates&amp;quot;: [-122.2713568, 37.5173546]}, &amp;quot;type&amp;quot;: &amp;quot;Feature&amp;quot;, &amp;quot;id&amp;quot;: &amp;quot;55dfad5d7d65cb39ee986cc2&amp;quot;, &amp;quot;properties&amp;quot;: {&amp;quot;feature_type&amp;quot;: &amp;quot;location&amp;quot;, &amp;quot;fmt_time&amp;quot;: &amp;quot;2015-08-27 17:20:32.942000-07:00&amp;quot;, &amp;quot;altitude&amp;quot;: 0, &amp;quot;ts&amp;quot;: 1440721232.942, &amp;quot;longitude&amp;quot;: -122.2713568, &amp;quot;latitude&amp;quot;: 37.5173546, &amp;quot;heading&amp;quot;: 0, &amp;quot;sensed_speed&amp;quot;: 0.0, &amp;quot;accuracy&amp;quot;: 40.5}}, {&amp;quot;geometry&amp;quot;: {&amp;quot;type&amp;quot;: &amp;quot;Point&amp;quot;, &amp;quot;coordinates&amp;quot;: [-122.260711, 37.5081986]}, &amp;quot;type&amp;quot;: &amp;quot;Feature&amp;quot;, &amp;quot;id&amp;quot;: &amp;quot;55dfad5d7d65cb39ee986ccc&amp;quot;, &amp;quot;properties&amp;quot;: {&amp;quot;feature_type&amp;quot;: &amp;quot;location&amp;quot;, &amp;quot;fmt_time&amp;quot;: &amp;quot;2015-08-27 17:22:33.024000-07:00&amp;quot;, &amp;quot;altitude&amp;quot;: 0, &amp;quot;ts&amp;quot;: 1440721353.024, &amp;quot;longitude&amp;quot;: -122.260711, &amp;quot;latitude&amp;quot;: 37.5081986, &amp;quot;heading&amp;quot;: 0, &amp;quot;sensed_speed&amp;quot;: 0.0, &amp;quot;accuracy&amp;quot;: 43.5}}, {&amp;quot;geometry&amp;quot;: {&amp;quot;type&amp;quot;: &amp;quot;Point&amp;quot;, &amp;quot;coordinates&amp;quot;: [-122.2608108, 37.5082344]}, &amp;quot;type&amp;quot;: &amp;quot;Feature&amp;quot;, &amp;quot;id&amp;quot;: &amp;quot;55dfad5e7d65cb39ee986cce&amp;quot;, &amp;quot;properties&amp;quot;: {&amp;quot;feature_type&amp;quot;: &amp;quot;location&amp;quot;, &amp;quot;fmt_time&amp;quot;: &amp;quot;2015-08-27 17:22:46.330000-07:00&amp;quot;, &amp;quot;altitude&amp;quot;: 0, &amp;quot;ts&amp;quot;: 1440721366.33, &amp;quot;longitude&amp;quot;: -122.2608108, &amp;quot;latitude&amp;quot;: 37.5082344, &amp;quot;heading&amp;quot;: 0, &amp;quot;sensed_speed&amp;quot;: 0.0, &amp;quot;accuracy&amp;quot;: 42.0}}, {&amp;quot;geometry&amp;quot;: {&amp;quot;type&amp;quot;: &amp;quot;Point&amp;quot;, &amp;quot;coordinates&amp;quot;: [-122.2606881, 37.5076385]}, &amp;quot;type&amp;quot;: &amp;quot;Feature&amp;quot;, &amp;quot;id&amp;quot;: &amp;quot;55dfad5e7d65cb39ee986cd4&amp;quot;, &amp;quot;properties&amp;quot;: {&amp;quot;feature_type&amp;quot;: &amp;quot;location&amp;quot;, &amp;quot;fmt_time&amp;quot;: &amp;quot;2015-08-27 17:23:33.196000-07:00&amp;quot;, &amp;quot;altitude&amp;quot;: 0, &amp;quot;ts&amp;quot;: 1440721413.196, &amp;quot;longitude&amp;quot;: -122.2606881, &amp;quot;latitude&amp;quot;: 37.5076385, &amp;quot;heading&amp;quot;: 0, &amp;quot;sensed_speed&amp;quot;: 0.0, &amp;quot;accuracy&amp;quot;: 64.5}}, {&amp;quot;geometry&amp;quot;: {&amp;quot;type&amp;quot;: &amp;quot;Point&amp;quot;, &amp;quot;coordinates&amp;quot;: [-122.2576418, 37.5050026]}, &amp;quot;type&amp;quot;: &amp;quot;Feature&amp;quot;, &amp;quot;id&amp;quot;: &amp;quot;55dfad5e7d65cb39ee986cd8&amp;quot;, &amp;quot;properties&amp;quot;: {&amp;quot;feature_type&amp;quot;: &amp;quot;location&amp;quot;, &amp;quot;fmt_time&amp;quot;: &amp;quot;2015-08-27 17:24:03.216000-07:00&amp;quot;, &amp;quot;altitude&amp;quot;: 0, &amp;quot;ts&amp;quot;: 1440721443.216, &amp;quot;longitude&amp;quot;: -122.2576418, &amp;quot;latitude&amp;quot;: 37.5050026, &amp;quot;heading&amp;quot;: 0, &amp;quot;sensed_speed&amp;quot;: 0.0, &amp;quot;accuracy&amp;quot;: 36.0}}, {&amp;quot;geometry&amp;quot;: {&amp;quot;type&amp;quot;: &amp;quot;Point&amp;quot;, &amp;quot;coordinates&amp;quot;: [-122.2485612, 37.4967537]}, &amp;quot;type&amp;quot;: &amp;quot;Feature&amp;quot;, &amp;quot;id&amp;quot;: &amp;quot;55dfad5f7d65cb39ee986cdd&amp;quot;, &amp;quot;properties&amp;quot;: {&amp;quot;feature_type&amp;quot;: &amp;quot;location&amp;quot;, &amp;quot;fmt_time&amp;quot;: &amp;quot;2015-08-27 17:25:03.507000-07:00&amp;quot;, &amp;quot;altitude&amp;quot;: 0, &amp;quot;ts&amp;quot;: 1440721503.507, &amp;quot;longitude&amp;quot;: -122.2485612, &amp;quot;latitude&amp;quot;: 37.4967537, &amp;quot;heading&amp;quot;: 0, &amp;quot;sensed_speed&amp;quot;: 0.0, &amp;quot;accuracy&amp;quot;: 37.5}}, {&amp;quot;geometry&amp;quot;: {&amp;quot;type&amp;quot;: &amp;quot;Point&amp;quot;, &amp;quot;coordinates&amp;quot;: [-122.2321509, 37.4867581]}, &amp;quot;type&amp;quot;: &amp;quot;Feature&amp;quot;, &amp;quot;id&amp;quot;: &amp;quot;55dfad5f7d65cb39ee986ce4&amp;quot;, &amp;quot;properties&amp;quot;: {&amp;quot;feature_type&amp;quot;: &amp;quot;location&amp;quot;, &amp;quot;fmt_time&amp;quot;: &amp;quot;2015-08-27 17:27:05.393000-07:00&amp;quot;, &amp;quot;altitude&amp;quot;: 100, &amp;quot;ts&amp;quot;: 1440721625.393, &amp;quot;longitude&amp;quot;: -122.2321509, &amp;quot;latitude&amp;quot;: 37.4867581, &amp;quot;heading&amp;quot;: 97, &amp;quot;sensed_speed&amp;quot;: 5.0665503, &amp;quot;accuracy&amp;quot;: 20.0}}, {&amp;quot;geometry&amp;quot;: {&amp;quot;type&amp;quot;: &amp;quot;Point&amp;quot;, &amp;quot;coordinates&amp;quot;: [-122.2321573, 37.4869051]}, &amp;quot;type&amp;quot;: &amp;quot;Feature&amp;quot;, &amp;quot;id&amp;quot;: &amp;quot;55dfad5f7d65cb39ee986ce7&amp;quot;, &amp;quot;properties&amp;quot;: {&amp;quot;feature_type&amp;quot;: &amp;quot;location&amp;quot;, &amp;quot;fmt_time&amp;quot;: &amp;quot;2015-08-27 17:28:07.317000-07:00&amp;quot;, &amp;quot;altitude&amp;quot;: 0, &amp;quot;ts&amp;quot;: 1440721687.317, &amp;quot;longitude&amp;quot;: -122.2321573, &amp;quot;latitude&amp;quot;: 37.4869051, &amp;quot;heading&amp;quot;: 0, &amp;quot;sensed_speed&amp;quot;: 0.0, &amp;quot;accuracy&amp;quot;: 134.89}}, {&amp;quot;geometry&amp;quot;: {&amp;quot;type&amp;quot;: &amp;quot;Point&amp;quot;, &amp;quot;coordinates&amp;quot;: [-122.2321573, 37.4869051]}, &amp;quot;type&amp;quot;: &amp;quot;Feature&amp;quot;, &amp;quot;id&amp;quot;: &amp;quot;55dfad5f7d65cb39ee986cea&amp;quot;, &amp;quot;properties&amp;quot;: {&amp;quot;feature_type&amp;quot;: &amp;quot;location&amp;quot;, &amp;quot;fmt_time&amp;quot;: &amp;quot;2015-08-27 17:28:36.255000-07:00&amp;quot;, &amp;quot;altitude&amp;quot;: 0, &amp;quot;ts&amp;quot;: 1440721716.255, &amp;quot;longitude&amp;quot;: -122.2321573, &amp;quot;latitude&amp;quot;: 37.4869051, &amp;quot;heading&amp;quot;: 0, &amp;quot;sensed_speed&amp;quot;: 0.0, &amp;quot;accuracy&amp;quot;: 178.297}}, {&amp;quot;geometry&amp;quot;: {&amp;quot;type&amp;quot;: &amp;quot;Point&amp;quot;, &amp;quot;coordinates&amp;quot;: [-122.2278153, 37.4836535]}, &amp;quot;type&amp;quot;: &amp;quot;Feature&amp;quot;, &amp;quot;id&amp;quot;: &amp;quot;55dfad607d65cb39ee986cf0&amp;quot;, &amp;quot;properties&amp;quot;: {&amp;quot;feature_type&amp;quot;: &amp;quot;location&amp;quot;, &amp;quot;fmt_time&amp;quot;: &amp;quot;2015-08-27 17:30:03.707000-07:00&amp;quot;, &amp;quot;altitude&amp;quot;: 0, &amp;quot;ts&amp;quot;: 1440721803.707, &amp;quot;longitude&amp;quot;: -122.2278153, &amp;quot;latitude&amp;quot;: 37.4836535, &amp;quot;heading&amp;quot;: 0, &amp;quot;sensed_speed&amp;quot;: 0.0, &amp;quot;accuracy&amp;quot;: 48.0}}, {&amp;quot;geometry&amp;quot;: {&amp;quot;type&amp;quot;: &amp;quot;Point&amp;quot;, &amp;quot;coordinates&amp;quot;: [-122.1855326, 37.4572449]}, &amp;quot;type&amp;quot;: &amp;quot;Feature&amp;quot;, &amp;quot;id&amp;quot;: &amp;quot;55dfad617d65cb39ee986cf9&amp;quot;, &amp;quot;properties&amp;quot;: {&amp;quot;feature_type&amp;quot;: &amp;quot;location&amp;quot;, &amp;quot;fmt_time&amp;quot;: &amp;quot;2015-08-27 17:33:03.914000-07:00&amp;quot;, &amp;quot;altitude&amp;quot;: 0, &amp;quot;ts&amp;quot;: 1440721983.914, &amp;quot;longitude&amp;quot;: -122.1855326, &amp;quot;latitude&amp;quot;: 37.4572449, &amp;quot;heading&amp;quot;: 0, &amp;quot;sensed_speed&amp;quot;: 0.0, &amp;quot;accuracy&amp;quot;: 43.0}}, {&amp;quot;geometry&amp;quot;: {&amp;quot;type&amp;quot;: &amp;quot;Point&amp;quot;, &amp;quot;coordinates&amp;quot;: [-122.184236, 37.4550829]}, &amp;quot;type&amp;quot;: &amp;quot;Feature&amp;quot;, &amp;quot;id&amp;quot;: &amp;quot;55dfad617d65cb39ee986cfb&amp;quot;, &amp;quot;properties&amp;quot;: {&amp;quot;feature_type&amp;quot;: &amp;quot;location&amp;quot;, &amp;quot;fmt_time&amp;quot;: &amp;quot;2015-08-27 17:33:33.962000-07:00&amp;quot;, &amp;quot;altitude&amp;quot;: 0, &amp;quot;ts&amp;quot;: 1440722013.962, &amp;quot;longitude&amp;quot;: -122.184236, &amp;quot;latitude&amp;quot;: 37.4550829, &amp;quot;heading&amp;quot;: 0, &amp;quot;sensed_speed&amp;quot;: 0.0, &amp;quot;accuracy&amp;quot;: 37.5}}, {&amp;quot;geometry&amp;quot;: {&amp;quot;type&amp;quot;: &amp;quot;Point&amp;quot;, &amp;quot;coordinates&amp;quot;: [-122.184236, 37.4550829]}, &amp;quot;type&amp;quot;: &amp;quot;Feature&amp;quot;, &amp;quot;id&amp;quot;: &amp;quot;55dfad617d65cb39ee986cff&amp;quot;, &amp;quot;properties&amp;quot;: {&amp;quot;feature_type&amp;quot;: &amp;quot;location&amp;quot;, &amp;quot;fmt_time&amp;quot;: &amp;quot;2015-08-27 17:34:02.970000-07:00&amp;quot;, &amp;quot;altitude&amp;quot;: 0, &amp;quot;ts&amp;quot;: 1440722042.97, &amp;quot;longitude&amp;quot;: -122.184236, &amp;quot;latitude&amp;quot;: 37.4550829, &amp;quot;heading&amp;quot;: 0, &amp;quot;sensed_speed&amp;quot;: 0.0, &amp;quot;accuracy&amp;quot;: 81.012}}, {&amp;quot;geometry&amp;quot;: {&amp;quot;type&amp;quot;: &amp;quot;Point&amp;quot;, &amp;quot;coordinates&amp;quot;: [-122.184236, 37.4550829]}, &amp;quot;type&amp;quot;: &amp;quot;Feature&amp;quot;, &amp;quot;id&amp;quot;: &amp;quot;55dfad617d65cb39ee986d01&amp;quot;, &amp;quot;properties&amp;quot;: {&amp;quot;feature_type&amp;quot;: &amp;quot;location&amp;quot;, &amp;quot;fmt_time&amp;quot;: &amp;quot;2015-08-27 17:34:32.997000-07:00&amp;quot;, &amp;quot;altitude&amp;quot;: 0, &amp;quot;ts&amp;quot;: 1440722072.997, &amp;quot;longitude&amp;quot;: -122.184236, &amp;quot;latitude&amp;quot;: 37.4550829, &amp;quot;heading&amp;quot;: 0, &amp;quot;sensed_speed&amp;quot;: 0.0, &amp;quot;accuracy&amp;quot;: 126.052}}, {&amp;quot;geometry&amp;quot;: {&amp;quot;type&amp;quot;: &amp;quot;Point&amp;quot;, &amp;quot;coordinates&amp;quot;: [-122.184236, 37.4550829]}, &amp;quot;type&amp;quot;: &amp;quot;Feature&amp;quot;, &amp;quot;id&amp;quot;: &amp;quot;55dfad617d65cb39ee986d04&amp;quot;, &amp;quot;properties&amp;quot;: {&amp;quot;feature_type&amp;quot;: &amp;quot;location&amp;quot;, &amp;quot;fmt_time&amp;quot;: &amp;quot;2015-08-27 17:35:03.034000-07:00&amp;quot;, &amp;quot;altitude&amp;quot;: 0, &amp;quot;ts&amp;quot;: 1440722103.034, &amp;quot;longitude&amp;quot;: -122.184236, &amp;quot;latitude&amp;quot;: 37.4550829, &amp;quot;heading&amp;quot;: 0, &amp;quot;sensed_speed&amp;quot;: 0.0, &amp;quot;accuracy&amp;quot;: 171.107}}, {&amp;quot;geometry&amp;quot;: {&amp;quot;type&amp;quot;: &amp;quot;Point&amp;quot;, &amp;quot;coordinates&amp;quot;: [-122.0779499, 37.3959236]}, &amp;quot;type&amp;quot;: &amp;quot;Feature&amp;quot;, &amp;quot;id&amp;quot;: &amp;quot;55dfb4cb7d65cb39ee986d20&amp;quot;, &amp;quot;properties&amp;quot;: {&amp;quot;feature_type&amp;quot;: &amp;quot;location&amp;quot;, &amp;quot;fmt_time&amp;quot;: &amp;quot;2015-08-27 17:43:04.229000-07:00&amp;quot;, &amp;quot;altitude&amp;quot;: 0, &amp;quot;ts&amp;quot;: 1440722584.229, &amp;quot;longitude&amp;quot;: -122.0779499, &amp;quot;latitude&amp;quot;: 37.3959236, &amp;quot;heading&amp;quot;: 0, &amp;quot;sensed_speed&amp;quot;: 0.0, &amp;quot;accuracy&amp;quot;: 36.0}}]}, {&amp;quot;geometry&amp;quot;: {&amp;quot;type&amp;quot;: &amp;quot;LineString&amp;quot;, &amp;quot;coordinates&amp;quot;: [[-122.3870874, 37.5992924], [-122.3446802, 37.57984], [-122.3446799, 37.5798403], [-122.3446799, 37.5798403], [-122.3379628, 37.5772606], [-122.330093, 37.5731863], [-122.3269305, 37.5709242], [-122.3211883, 37.5661104], [-122.3045277, 37.5468258], [-122.2898617, 37.5311179], [-122.2762817, 37.5210999], [-122.2762817, 37.5210999], [-122.2762314, 37.5208544], [-122.2762314, 37.5208544], [-122.2713568, 37.5173546], [-122.260711, 37.5081986], [-122.2608108, 37.5082344], [-122.2606881, 37.5076385], [-122.2576418, 37.5050026], [-122.2485612, 37.4967537], [-122.2321509, 37.4867581], [-122.2321573, 37.4869051], [-122.2321573, 37.4869051], [-122.2278153, 37.4836535], [-122.1855326, 37.4572449], [-122.184236, 37.4550829], [-122.184236, 37.4550829], [-122.184236, 37.4550829], [-122.184236, 37.4550829], [-122.0779499, 37.3959236]]}, &amp;quot;type&amp;quot;: &amp;quot;Feature&amp;quot;, &amp;quot;id&amp;quot;: &amp;quot;5603ae10f6858f0cbbb6058e&amp;quot;, &amp;quot;properties&amp;quot;: {&amp;quot;feature_type&amp;quot;: &amp;quot;section&amp;quot;, &amp;quot;sensed_mode&amp;quot;: &amp;quot;MotionTypes.IN_VEHICLE&amp;quot;, &amp;quot;end_ts&amp;quot;: 1440722584.229, &amp;quot;start_ts&amp;quot;: 1440720239.012, &amp;quot;start_fmt_time&amp;quot;: &amp;quot;2015-08-27 17:03:59.012000-07:00&amp;quot;, &amp;quot;source&amp;quot;: &amp;quot;SmoothedHighConfidenceMotion&amp;quot;, &amp;quot;end_fmt_time&amp;quot;: &amp;quot;2015-08-27 17:43:04.229000-07:00&amp;quot;, &amp;quot;duration&amp;quot;: 2345.2170000076294}}]}, {&amp;quot;type&amp;quot;: &amp;quot;FeatureCollection&amp;quot;, &amp;quot;features&amp;quot;: [{&amp;quot;type&amp;quot;: &amp;quot;FeatureCollection&amp;quot;, &amp;quot;features&amp;quot;: [{&amp;quot;geometry&amp;quot;: {&amp;quot;type&amp;quot;: &amp;quot;Point&amp;quot;, &amp;quot;coordinates&amp;quot;: [-122.0761413, 37.3940933]}, &amp;quot;type&amp;quot;: &amp;quot;Feature&amp;quot;, &amp;quot;id&amp;quot;: &amp;quot;55dfb4cb7d65cb39ee986d23&amp;quot;, &amp;quot;properties&amp;quot;: {&amp;quot;feature_type&amp;quot;: &amp;quot;location&amp;quot;, &amp;quot;fmt_time&amp;quot;: &amp;quot;2015-08-27 17:43:34.285000-07:00&amp;quot;, &amp;quot;altitude&amp;quot;: 0, &amp;quot;ts&amp;quot;: 1440722614.285, &amp;quot;longitude&amp;quot;: -122.0761413, &amp;quot;latitude&amp;quot;: 37.3940933, &amp;quot;heading&amp;quot;: 0, &amp;quot;sensed_speed&amp;quot;: 0, &amp;quot;accuracy&amp;quot;: 31.5}}, {&amp;quot;geometry&amp;quot;: {&amp;quot;type&amp;quot;: &amp;quot;Point&amp;quot;, &amp;quot;coordinates&amp;quot;: [-122.0774947, 37.3956292]}, &amp;quot;type&amp;quot;: &amp;quot;Feature&amp;quot;, &amp;quot;id&amp;quot;: &amp;quot;55dfb4cc7d65cb39ee986d2b&amp;quot;, &amp;quot;properties&amp;quot;: {&amp;quot;feature_type&amp;quot;: &amp;quot;location&amp;quot;, &amp;quot;fmt_time&amp;quot;: &amp;quot;2015-08-27 17:44:34.415000-07:00&amp;quot;, &amp;quot;altitude&amp;quot;: 0, &amp;quot;ts&amp;quot;: 1440722674.415, &amp;quot;longitude&amp;quot;: -122.0774947, &amp;quot;latitude&amp;quot;: 37.3956292, &amp;quot;heading&amp;quot;: 0, &amp;quot;sensed_speed&amp;quot;: 0, &amp;quot;accuracy&amp;quot;: 118.739}}, {&amp;quot;geometry&amp;quot;: {&amp;quot;type&amp;quot;: &amp;quot;Point&amp;quot;, &amp;quot;coordinates&amp;quot;: [-122.0773116, 37.3955101]}, &amp;quot;type&amp;quot;: &amp;quot;Feature&amp;quot;, &amp;quot;id&amp;quot;: &amp;quot;55dfb4cc7d65cb39ee986d2f&amp;quot;, &amp;quot;properties&amp;quot;: {&amp;quot;feature_type&amp;quot;: &amp;quot;location&amp;quot;, &amp;quot;fmt_time&amp;quot;: &amp;quot;2015-08-27 17:44:55.963000-07:00&amp;quot;, &amp;quot;altitude&amp;quot;: 0, &amp;quot;ts&amp;quot;: 1440722695.963, &amp;quot;longitude&amp;quot;: -122.0773116, &amp;quot;latitude&amp;quot;: 37.3955101, &amp;quot;heading&amp;quot;: 0, &amp;quot;sensed_speed&amp;quot;: 0, &amp;quot;accuracy&amp;quot;: 105.023}}, {&amp;quot;geometry&amp;quot;: {&amp;quot;type&amp;quot;: &amp;quot;Point&amp;quot;, &amp;quot;coordinates&amp;quot;: [-122.0777471, 37.3956672]}, &amp;quot;type&amp;quot;: &amp;quot;Feature&amp;quot;, &amp;quot;id&amp;quot;: &amp;quot;55dfb4cc7d65cb39ee986d32&amp;quot;, &amp;quot;properties&amp;quot;: {&amp;quot;feature_type&amp;quot;: &amp;quot;location&amp;quot;, &amp;quot;fmt_time&amp;quot;: &amp;quot;2015-08-27 17:45:35.230000-07:00&amp;quot;, &amp;quot;altitude&amp;quot;: 0, &amp;quot;ts&amp;quot;: 1440722735.23, &amp;quot;longitude&amp;quot;: -122.0777471, &amp;quot;latitude&amp;quot;: 37.3956672, &amp;quot;heading&amp;quot;: 0, &amp;quot;sensed_speed&amp;quot;: 0, &amp;quot;accuracy&amp;quot;: 36.0}}, {&amp;quot;geometry&amp;quot;: {&amp;quot;type&amp;quot;: &amp;quot;Point&amp;quot;, &amp;quot;coordinates&amp;quot;: [-122.0775389, 37.3955742]}, &amp;quot;type&amp;quot;: &amp;quot;Feature&amp;quot;, &amp;quot;id&amp;quot;: &amp;quot;55dfb4cc7d65cb39ee986d35&amp;quot;, &amp;quot;properties&amp;quot;: {&amp;quot;feature_type&amp;quot;: &amp;quot;location&amp;quot;, &amp;quot;fmt_time&amp;quot;: &amp;quot;2015-08-27 17:46:03.161000-07:00&amp;quot;, &amp;quot;altitude&amp;quot;: 0, &amp;quot;ts&amp;quot;: 1440722763.161, &amp;quot;longitude&amp;quot;: -122.0775389, &amp;quot;latitude&amp;quot;: 37.3955742, &amp;quot;heading&amp;quot;: 0, &amp;quot;sensed_speed&amp;quot;: 0, &amp;quot;accuracy&amp;quot;: 45.0}}, {&amp;quot;geometry&amp;quot;: {&amp;quot;type&amp;quot;: &amp;quot;Point&amp;quot;, &amp;quot;coordinates&amp;quot;: [-122.0775389, 37.3955742]}, &amp;quot;type&amp;quot;: &amp;quot;Feature&amp;quot;, &amp;quot;id&amp;quot;: &amp;quot;55dfb4cc7d65cb39ee986d38&amp;quot;, &amp;quot;properties&amp;quot;: {&amp;quot;feature_type&amp;quot;: &amp;quot;location&amp;quot;, &amp;quot;fmt_time&amp;quot;: &amp;quot;2015-08-27 17:46:33.433000-07:00&amp;quot;, &amp;quot;altitude&amp;quot;: 0, &amp;quot;ts&amp;quot;: 1440722793.433, &amp;quot;longitude&amp;quot;: -122.0775389, &amp;quot;latitude&amp;quot;: 37.3955742, &amp;quot;heading&amp;quot;: 0, &amp;quot;sensed_speed&amp;quot;: 0, &amp;quot;accuracy&amp;quot;: 90.406}}, {&amp;quot;geometry&amp;quot;: {&amp;quot;type&amp;quot;: &amp;quot;Point&amp;quot;, &amp;quot;coordinates&amp;quot;: [-122.0778895, 37.3958641]}, &amp;quot;type&amp;quot;: &amp;quot;Feature&amp;quot;, &amp;quot;id&amp;quot;: &amp;quot;55dfb4cd7d65cb39ee986d3a&amp;quot;, &amp;quot;properties&amp;quot;: {&amp;quot;feature_type&amp;quot;: &amp;quot;location&amp;quot;, &amp;quot;fmt_time&amp;quot;: &amp;quot;2015-08-27 17:47:04.500000-07:00&amp;quot;, &amp;quot;altitude&amp;quot;: 0, &amp;quot;ts&amp;quot;: 1440722824.5, &amp;quot;longitude&amp;quot;: -122.0778895, &amp;quot;latitude&amp;quot;: 37.3958641, &amp;quot;heading&amp;quot;: 0, &amp;quot;sensed_speed&amp;quot;: 0, &amp;quot;accuracy&amp;quot;: 40.5}}, {&amp;quot;geometry&amp;quot;: {&amp;quot;type&amp;quot;: &amp;quot;Point&amp;quot;, &amp;quot;coordinates&amp;quot;: [-122.077766, 37.3960324]}, &amp;quot;type&amp;quot;: &amp;quot;Feature&amp;quot;, &amp;quot;id&amp;quot;: &amp;quot;55dfb4cd7d65cb39ee986d3d&amp;quot;, &amp;quot;properties&amp;quot;: {&amp;quot;feature_type&amp;quot;: &amp;quot;location&amp;quot;, &amp;quot;fmt_time&amp;quot;: &amp;quot;2015-08-27 17:47:34.538000-07:00&amp;quot;, &amp;quot;altitude&amp;quot;: 0, &amp;quot;ts&amp;quot;: 1440722854.538, &amp;quot;longitude&amp;quot;: -122.077766, &amp;quot;latitude&amp;quot;: 37.3960324, &amp;quot;heading&amp;quot;: 0, &amp;quot;sensed_speed&amp;quot;: 0, &amp;quot;accuracy&amp;quot;: 40.5}}, {&amp;quot;geometry&amp;quot;: {&amp;quot;type&amp;quot;: &amp;quot;Point&amp;quot;, &amp;quot;coordinates&amp;quot;: [-122.0778219, 37.3958767]}, &amp;quot;type&amp;quot;: &amp;quot;Feature&amp;quot;, &amp;quot;id&amp;quot;: &amp;quot;55dfb4cd7d65cb39ee986d3f&amp;quot;, &amp;quot;properties&amp;quot;: {&amp;quot;feature_type&amp;quot;: &amp;quot;location&amp;quot;, &amp;quot;fmt_time&amp;quot;: &amp;quot;2015-08-27 17:48:04.520000-07:00&amp;quot;, &amp;quot;altitude&amp;quot;: 0, &amp;quot;ts&amp;quot;: 1440722884.52, &amp;quot;longitude&amp;quot;: -122.0778219, &amp;quot;latitude&amp;quot;: 37.3958767, &amp;quot;heading&amp;quot;: 0, &amp;quot;sensed_speed&amp;quot;: 0, &amp;quot;accuracy&amp;quot;: 39.0}}, {&amp;quot;geometry&amp;quot;: {&amp;quot;type&amp;quot;: &amp;quot;Point&amp;quot;, &amp;quot;coordinates&amp;quot;: [-122.0777425, 37.3956644]}, &amp;quot;type&amp;quot;: &amp;quot;Feature&amp;quot;, &amp;quot;id&amp;quot;: &amp;quot;55dfb4cd7d65cb39ee986d42&amp;quot;, &amp;quot;properties&amp;quot;: {&amp;quot;feature_type&amp;quot;: &amp;quot;location&amp;quot;, &amp;quot;fmt_time&amp;quot;: &amp;quot;2015-08-27 17:48:34.574000-07:00&amp;quot;, &amp;quot;altitude&amp;quot;: 0, &amp;quot;ts&amp;quot;: 1440722914.574, &amp;quot;longitude&amp;quot;: -122.0777425, &amp;quot;latitude&amp;quot;: 37.3956644, &amp;quot;heading&amp;quot;: 0, &amp;quot;sensed_speed&amp;quot;: 0, &amp;quot;accuracy&amp;quot;: 42.0}}, {&amp;quot;geometry&amp;quot;: {&amp;quot;type&amp;quot;: &amp;quot;Point&amp;quot;, &amp;quot;coordinates&amp;quot;: [-122.0769316, 37.3970439]}, &amp;quot;type&amp;quot;: &amp;quot;Feature&amp;quot;, &amp;quot;id&amp;quot;: &amp;quot;55dfb4cd7d65cb39ee986d44&amp;quot;, &amp;quot;properties&amp;quot;: {&amp;quot;feature_type&amp;quot;: &amp;quot;location&amp;quot;, &amp;quot;fmt_time&amp;quot;: &amp;quot;2015-08-27 17:49:04.600000-07:00&amp;quot;, &amp;quot;altitude&amp;quot;: 0, &amp;quot;ts&amp;quot;: 1440722944.6, &amp;quot;longitude&amp;quot;: -122.0769316, &amp;quot;latitude&amp;quot;: 37.3970439, &amp;quot;heading&amp;quot;: 0, &amp;quot;sensed_speed&amp;quot;: 0, &amp;quot;accuracy&amp;quot;: 40.5}}, {&amp;quot;geometry&amp;quot;: {&amp;quot;type&amp;quot;: &amp;quot;Point&amp;quot;, &amp;quot;coordinates&amp;quot;: [-122.0761964, 37.3978807]}, &amp;quot;type&amp;quot;: &amp;quot;Feature&amp;quot;, &amp;quot;id&amp;quot;: &amp;quot;55dfb4cd7d65cb39ee986d47&amp;quot;, &amp;quot;properties&amp;quot;: {&amp;quot;feature_type&amp;quot;: &amp;quot;location&amp;quot;, &amp;quot;fmt_time&amp;quot;: &amp;quot;2015-08-27 17:49:34.697000-07:00&amp;quot;, &amp;quot;altitude&amp;quot;: 0, &amp;quot;ts&amp;quot;: 1440722974.697, &amp;quot;longitude&amp;quot;: -122.0761964, &amp;quot;latitude&amp;quot;: 37.3978807, &amp;quot;heading&amp;quot;: 0, &amp;quot;sensed_speed&amp;quot;: 0, &amp;quot;accuracy&amp;quot;: 30.0}}, {&amp;quot;geometry&amp;quot;: {&amp;quot;type&amp;quot;: &amp;quot;Point&amp;quot;, &amp;quot;coordinates&amp;quot;: [-122.0767396, 37.3980859]}, &amp;quot;type&amp;quot;: &amp;quot;Feature&amp;quot;, &amp;quot;id&amp;quot;: &amp;quot;55dfb4cd7d65cb39ee986d49&amp;quot;, &amp;quot;properties&amp;quot;: {&amp;quot;feature_type&amp;quot;: &amp;quot;location&amp;quot;, &amp;quot;fmt_time&amp;quot;: &amp;quot;2015-08-27 17:50:04.664000-07:00&amp;quot;, &amp;quot;altitude&amp;quot;: 0, &amp;quot;ts&amp;quot;: 1440723004.664, &amp;quot;longitude&amp;quot;: -122.0767396, &amp;quot;latitude&amp;quot;: 37.3980859, &amp;quot;heading&amp;quot;: 0, &amp;quot;sensed_speed&amp;quot;: 0, &amp;quot;accuracy&amp;quot;: 45.0}}, {&amp;quot;geometry&amp;quot;: {&amp;quot;type&amp;quot;: &amp;quot;Point&amp;quot;, &amp;quot;coordinates&amp;quot;: [-122.0779079, 37.3990104]}, &amp;quot;type&amp;quot;: &amp;quot;Feature&amp;quot;, &amp;quot;id&amp;quot;: &amp;quot;55dfb4ce7d65cb39ee986d4c&amp;quot;, &amp;quot;properties&amp;quot;: {&amp;quot;feature_type&amp;quot;: &amp;quot;location&amp;quot;, &amp;quot;fmt_time&amp;quot;: &amp;quot;2015-08-27 17:50:34.750000-07:00&amp;quot;, &amp;quot;altitude&amp;quot;: 0, &amp;quot;ts&amp;quot;: 1440723034.75, &amp;quot;longitude&amp;quot;: -122.0779079, &amp;quot;latitude&amp;quot;: 37.3990104, &amp;quot;heading&amp;quot;: 0, &amp;quot;sensed_speed&amp;quot;: 0, &amp;quot;accuracy&amp;quot;: 30.0}}, {&amp;quot;geometry&amp;quot;: {&amp;quot;type&amp;quot;: &amp;quot;Point&amp;quot;, &amp;quot;coordinates&amp;quot;: [-122.0784937, 37.4012462]}, &amp;quot;type&amp;quot;: &amp;quot;Feature&amp;quot;, &amp;quot;id&amp;quot;: &amp;quot;55dfb4ce7d65cb39ee986d4f&amp;quot;, &amp;quot;properties&amp;quot;: {&amp;quot;feature_type&amp;quot;: &amp;quot;location&amp;quot;, &amp;quot;fmt_time&amp;quot;: &amp;quot;2015-08-27 17:51:04.721000-07:00&amp;quot;, &amp;quot;altitude&amp;quot;: 0, &amp;quot;ts&amp;quot;: 1440723064.721, &amp;quot;longitude&amp;quot;: -122.0784937, &amp;quot;latitude&amp;quot;: 37.4012462, &amp;quot;heading&amp;quot;: 0, &amp;quot;sensed_speed&amp;quot;: 0, &amp;quot;accuracy&amp;quot;: 40.5}}]}, {&amp;quot;geometry&amp;quot;: {&amp;quot;type&amp;quot;: &amp;quot;LineString&amp;quot;, &amp;quot;coordinates&amp;quot;: [[-122.0761413, 37.3940933], [-122.0774947, 37.3956292], [-122.0773116, 37.3955101], [-122.0777471, 37.3956672], [-122.0775389, 37.3955742], [-122.0775389, 37.3955742], [-122.0778895, 37.3958641], [-122.077766, 37.3960324], [-122.0778219, 37.3958767], [-122.0777425, 37.3956644], [-122.0769316, 37.3970439], [-122.0761964, 37.3978807], [-122.0767396, 37.3980859], [-122.0779079, 37.3990104], [-122.0784937, 37.4012462]]}, &amp;quot;type&amp;quot;: &amp;quot;Feature&amp;quot;, &amp;quot;id&amp;quot;: &amp;quot;5603ae10f6858f0cbbb6058f&amp;quot;, &amp;quot;properties&amp;quot;: {&amp;quot;feature_type&amp;quot;: &amp;quot;section&amp;quot;, &amp;quot;sensed_mode&amp;quot;: &amp;quot;MotionTypes.ON_FOOT&amp;quot;, &amp;quot;end_ts&amp;quot;: 1440723064.721, &amp;quot;start_ts&amp;quot;: 1440722614.285, &amp;quot;start_fmt_time&amp;quot;: &amp;quot;2015-08-27 17:43:34.285000-07:00&amp;quot;, &amp;quot;source&amp;quot;: &amp;quot;SmoothedHighConfidenceMotion&amp;quot;, &amp;quot;end_fmt_time&amp;quot;: &amp;quot;2015-08-27 17:51:04.721000-07:00&amp;quot;, &amp;quot;duration&amp;quot;: 450.4359998703003}}]}, {&amp;quot;type&amp;quot;: &amp;quot;FeatureCollection&amp;quot;, &amp;quot;features&amp;quot;: [{&amp;quot;type&amp;quot;: &amp;quot;FeatureCollection&amp;quot;, &amp;quot;features&amp;quot;: [{&amp;quot;geometry&amp;quot;: {&amp;quot;type&amp;quot;: &amp;quot;Point&amp;quot;, &amp;quot;coordinates&amp;quot;: [-122.078664, 37.4015876]}, &amp;quot;type&amp;quot;: &amp;quot;Feature&amp;quot;, &amp;quot;id&amp;quot;: &amp;quot;55dfb4ce7d65cb39ee986d51&amp;quot;, &amp;quot;properties&amp;quot;: {&amp;quot;feature_type&amp;quot;: &amp;quot;location&amp;quot;, &amp;quot;fmt_time&amp;quot;: &amp;quot;2015-08-27 17:51:34.715000-07:00&amp;quot;, &amp;quot;altitude&amp;quot;: 0, &amp;quot;ts&amp;quot;: 1440723094.715, &amp;quot;longitude&amp;quot;: -122.078664, &amp;quot;latitude&amp;quot;: 37.4015876, &amp;quot;heading&amp;quot;: 0, &amp;quot;sensed_speed&amp;quot;: 0, &amp;quot;accuracy&amp;quot;: 49.5}}, {&amp;quot;geometry&amp;quot;: {&amp;quot;type&amp;quot;: &amp;quot;Point&amp;quot;, &amp;quot;coordinates&amp;quot;: [-122.0796973, 37.4021489]}, &amp;quot;type&amp;quot;: &amp;quot;Feature&amp;quot;, &amp;quot;id&amp;quot;: &amp;quot;55dfb4ce7d65cb39ee986d54&amp;quot;, &amp;quot;properties&amp;quot;: {&amp;quot;feature_type&amp;quot;: &amp;quot;location&amp;quot;, &amp;quot;fmt_time&amp;quot;: &amp;quot;2015-08-27 17:52:04.657000-07:00&amp;quot;, &amp;quot;altitude&amp;quot;: 0, &amp;quot;ts&amp;quot;: 1440723124.657, &amp;quot;longitude&amp;quot;: -122.0796973, &amp;quot;latitude&amp;quot;: 37.4021489, &amp;quot;heading&amp;quot;: 0, &amp;quot;sensed_speed&amp;quot;: 0, &amp;quot;accuracy&amp;quot;: 61.5}}]}, {&amp;quot;geometry&amp;quot;: {&amp;quot;type&amp;quot;: &amp;quot;LineString&amp;quot;, &amp;quot;coordinates&amp;quot;: [[-122.078664, 37.4015876], [-122.0796973, 37.4021489]]}, &amp;quot;type&amp;quot;: &amp;quot;Feature&amp;quot;, &amp;quot;id&amp;quot;: &amp;quot;5603ae11f6858f0cbbb60591&amp;quot;, &amp;quot;properties&amp;quot;: {&amp;quot;feature_type&amp;quot;: &amp;quot;section&amp;quot;, &amp;quot;sensed_mode&amp;quot;: &amp;quot;MotionTypes.BICYCLING&amp;quot;, &amp;quot;end_ts&amp;quot;: 1440723124.657, &amp;quot;start_ts&amp;quot;: 1440723094.715, &amp;quot;start_fmt_time&amp;quot;: &amp;quot;2015-08-27 17:51:34.715000-07:00&amp;quot;, &amp;quot;source&amp;quot;: &amp;quot;SmoothedHighConfidenceMotion&amp;quot;, &amp;quot;end_fmt_time&amp;quot;: &amp;quot;2015-08-27 17:52:04.657000-07:00&amp;quot;, &amp;quot;duration&amp;quot;: 29.942000150680542}}]}, {&amp;quot;type&amp;quot;: &amp;quot;FeatureCollection&amp;quot;, &amp;quot;features&amp;quot;: [{&amp;quot;type&amp;quot;: &amp;quot;FeatureCollection&amp;quot;, &amp;quot;features&amp;quot;: [{&amp;quot;geometry&amp;quot;: {&amp;quot;type&amp;quot;: &amp;quot;Point&amp;quot;, &amp;quot;coordinates&amp;quot;: [-122.0827923, 37.4027524]}, &amp;quot;type&amp;quot;: &amp;quot;Feature&amp;quot;, &amp;quot;id&amp;quot;: &amp;quot;55dfb4ce7d65cb39ee986d58&amp;quot;, &amp;quot;properties&amp;quot;: {&amp;quot;feature_type&amp;quot;: &amp;quot;location&amp;quot;, &amp;quot;fmt_time&amp;quot;: &amp;quot;2015-08-27 17:53:04.822000-07:00&amp;quot;, &amp;quot;altitude&amp;quot;: 0, &amp;quot;ts&amp;quot;: 1440723184.822, &amp;quot;longitude&amp;quot;: -122.0827923, &amp;quot;latitude&amp;quot;: 37.4027524, &amp;quot;heading&amp;quot;: 0, &amp;quot;sensed_speed&amp;quot;: 0, &amp;quot;accuracy&amp;quot;: 37.5}}, {&amp;quot;geometry&amp;quot;: {&amp;quot;type&amp;quot;: &amp;quot;Point&amp;quot;, &amp;quot;coordinates&amp;quot;: [-122.0834008, 37.4027977]}, &amp;quot;type&amp;quot;: &amp;quot;Feature&amp;quot;, &amp;quot;id&amp;quot;: &amp;quot;55dfb4cf7d65cb39ee986d5b&amp;quot;, &amp;quot;properties&amp;quot;: {&amp;quot;feature_type&amp;quot;: &amp;quot;location&amp;quot;, &amp;quot;fmt_time&amp;quot;: &amp;quot;2015-08-27 17:53:37.877000-07:00&amp;quot;, &amp;quot;altitude&amp;quot;: 0, &amp;quot;ts&amp;quot;: 1440723217.877, &amp;quot;longitude&amp;quot;: -122.0834008, &amp;quot;latitude&amp;quot;: 37.4027977, &amp;quot;heading&amp;quot;: 0, &amp;quot;sensed_speed&amp;quot;: 0, &amp;quot;accuracy&amp;quot;: 45.0}}, {&amp;quot;geometry&amp;quot;: {&amp;quot;type&amp;quot;: &amp;quot;Point&amp;quot;, &amp;quot;coordinates&amp;quot;: [-122.0833226, 37.4028425]}, &amp;quot;type&amp;quot;: &amp;quot;Feature&amp;quot;, &amp;quot;id&amp;quot;: &amp;quot;55dfb4cf7d65cb39ee986d5d&amp;quot;, &amp;quot;properties&amp;quot;: {&amp;quot;feature_type&amp;quot;: &amp;quot;location&amp;quot;, &amp;quot;fmt_time&amp;quot;: &amp;quot;2015-08-27 17:53:53.789000-07:00&amp;quot;, &amp;quot;altitude&amp;quot;: 0, &amp;quot;ts&amp;quot;: 1440723233.789, &amp;quot;longitude&amp;quot;: -122.0833226, &amp;quot;latitude&amp;quot;: 37.4028425, &amp;quot;heading&amp;quot;: 0, &amp;quot;sensed_speed&amp;quot;: 0, &amp;quot;accuracy&amp;quot;: 51.0}}, {&amp;quot;geometry&amp;quot;: {&amp;quot;type&amp;quot;: &amp;quot;Point&amp;quot;, &amp;quot;coordinates&amp;quot;: [-122.0831355, 37.4037647]}, &amp;quot;type&amp;quot;: &amp;quot;Feature&amp;quot;, &amp;quot;id&amp;quot;: &amp;quot;55dfb4cf7d65cb39ee986d61&amp;quot;, &amp;quot;properties&amp;quot;: {&amp;quot;feature_type&amp;quot;: &amp;quot;location&amp;quot;, &amp;quot;fmt_time&amp;quot;: &amp;quot;2015-08-27 17:54:34.938000-07:00&amp;quot;, &amp;quot;altitude&amp;quot;: 0, &amp;quot;ts&amp;quot;: 1440723274.938, &amp;quot;longitude&amp;quot;: -122.0831355, &amp;quot;latitude&amp;quot;: 37.4037647, &amp;quot;heading&amp;quot;: 0, &amp;quot;sensed_speed&amp;quot;: 0, &amp;quot;accuracy&amp;quot;: 63.0}}, {&amp;quot;geometry&amp;quot;: {&amp;quot;type&amp;quot;: &amp;quot;Point&amp;quot;, &amp;quot;coordinates&amp;quot;: [-122.0836683, 37.403658]}, &amp;quot;type&amp;quot;: &amp;quot;Feature&amp;quot;, &amp;quot;id&amp;quot;: &amp;quot;55dfb4cf7d65cb39ee986d64&amp;quot;, &amp;quot;properties&amp;quot;: {&amp;quot;feature_type&amp;quot;: &amp;quot;location&amp;quot;, &amp;quot;fmt_time&amp;quot;: &amp;quot;2015-08-27 17:55:04.896000-07:00&amp;quot;, &amp;quot;altitude&amp;quot;: 0, &amp;quot;ts&amp;quot;: 1440723304.896, &amp;quot;longitude&amp;quot;: -122.0836683, &amp;quot;latitude&amp;quot;: 37.403658, &amp;quot;heading&amp;quot;: 0, &amp;quot;sensed_speed&amp;quot;: 0, &amp;quot;accuracy&amp;quot;: 33.0}}, {&amp;quot;geometry&amp;quot;: {&amp;quot;type&amp;quot;: &amp;quot;Point&amp;quot;, &amp;quot;coordinates&amp;quot;: [-122.083702, 37.4036219]}, &amp;quot;type&amp;quot;: &amp;quot;Feature&amp;quot;, &amp;quot;id&amp;quot;: &amp;quot;55dfb4cf7d65cb39ee986d67&amp;quot;, &amp;quot;properties&amp;quot;: {&amp;quot;feature_type&amp;quot;: &amp;quot;location&amp;quot;, &amp;quot;fmt_time&amp;quot;: &amp;quot;2015-08-27 17:55:34.898000-07:00&amp;quot;, &amp;quot;altitude&amp;quot;: 0, &amp;quot;ts&amp;quot;: 1440723334.898, &amp;quot;longitude&amp;quot;: -122.083702, &amp;quot;latitude&amp;quot;: 37.4036219, &amp;quot;heading&amp;quot;: 0, &amp;quot;sensed_speed&amp;quot;: 0, &amp;quot;accuracy&amp;quot;: 36.0}}]}, {&amp;quot;geometry&amp;quot;: {&amp;quot;type&amp;quot;: &amp;quot;LineString&amp;quot;, &amp;quot;coordinates&amp;quot;: [[-122.0827923, 37.4027524], [-122.0834008, 37.4027977], [-122.0833226, 37.4028425], [-122.0831355, 37.4037647], [-122.0836683, 37.403658], [-122.083702, 37.4036219]]}, &amp;quot;type&amp;quot;: &amp;quot;Feature&amp;quot;, &amp;quot;id&amp;quot;: &amp;quot;5603ae11f6858f0cbbb60593&amp;quot;, &amp;quot;properties&amp;quot;: {&amp;quot;feature_type&amp;quot;: &amp;quot;section&amp;quot;, &amp;quot;sensed_mode&amp;quot;: &amp;quot;MotionTypes.ON_FOOT&amp;quot;, &amp;quot;end_ts&amp;quot;: 1440723334.898, &amp;quot;start_ts&amp;quot;: 1440723184.822, &amp;quot;start_fmt_time&amp;quot;: &amp;quot;2015-08-27 17:53:04.822000-07:00&amp;quot;, &amp;quot;source&amp;quot;: &amp;quot;SmoothedHighConfidenceMotion&amp;quot;, &amp;quot;end_fmt_time&amp;quot;: &amp;quot;2015-08-27 17:55:34.898000-07:00&amp;quot;, &amp;quot;duration&amp;quot;: 150.07599997520447}}]}]}'))})\n",
        "          .await(makeMap)\n",
        "\n",
        "      function onEachFeature(feature, layer) {\n",
        "          // does this feature have a property named popupContent?\n",
        "          if (feature.properties &amp;&amp; feature.properties.popupContent) {\n",
        "              layer.bindPopup(feature.properties.popupContent);\n",
        "              }\n",
        "          };\n",
        "\n",
        "      function makeMap(error, gjson_1) {\n",
        "\n",
        "          \n",
        "\n",
        "          \n",
        "\n",
        "          function matchKey(datapoint, key_variable){\n",
        "              if (typeof key_variable[0][datapoint] === 'undefined') {\n",
        "                  return null;\n",
        "              }\n",
        "              else {\n",
        "                  return parseFloat(key_variable[0][datapoint]);\n",
        "              };\n",
        "          };\n",
        "\n",
        "          \n",
        "\n",
        "          var map = L.map('map').setView([0, 0], 1);\n",
        "\n",
        "          L.tileLayer('https://{s}.tile.openstreetmap.org/{z}/{x}/{y}.png', {\n",
        "              maxZoom: 18,\n",
        "              minZoom: 1,\n",
        "              attribution: 'Map data (c) &lt;a href=&amp;quot;http://openstreetmap.org&amp;quot;&gt;OpenStreetMap&lt;/a&gt; contributors'\n",
        "          }).addTo(map);\n",
        "\n",
        "          \n",
        "          function style_1(feature) {\n",
        "    return {\n",
        "        fillColor: 'blue',\n",
        "        weight: 1,\n",
        "        opacity: 1,\n",
        "        color: 'black',\n",
        "        fillOpacity: 0.6\n",
        "    };\n",
        "}\n",
        "          \n",
        "\n",
        "          \n",
        "          gJson_layer_1 = L.geoJson(gjson_1, {style: style_1,onEachFeature: onEachFeature}).addTo(map)\n",
        "          \n",
        "\n",
        "          \n",
        "\n",
        "          \n",
        "\n",
        "          \n",
        "\n",
        "          \n",
        "\n",
        "          \n",
        "\n",
        "          \n",
        "\n",
        "          var autobounds = L.featureGroup([]).getBounds()\n",
        "\n",
        "\n",
        "\n",
        "\n",
        "\n",
        "map.fitBounds(autobounds,\n",
        "    {&amp;quot;padding&amp;quot;: [30, 30]}\n",
        ");\n",
        "\n",
        "      };\n",
        "\n",
        "   &lt;/script&gt;\n",
        "&lt;/body&gt;&quot; style=&quot;width: 100%; height: 510px; border: none&quot;&gt;&lt;/iframe&gt;</td></tr>\n",
        "<tr><td>&lt;iframe srcdoc=&quot;&lt;!DOCTYPE html&gt;\n",
        "&lt;head&gt;\n",
        "   &lt;meta http-equiv=&amp;quot;content-type&amp;quot; content=&amp;quot;text/html; charset=UTF-8&amp;quot; /&gt;\n",
        "   &lt;link rel=&amp;quot;stylesheet&amp;quot; href=&amp;quot;https://cdnjs.cloudflare.com/ajax/libs/leaflet/0.7.3/leaflet.css&amp;quot; /&gt;\n",
        "   &lt;script src=&amp;quot;https://cdnjs.cloudflare.com/ajax/libs/leaflet/0.7.3/leaflet.js&amp;quot;&gt;&lt;/script&gt;\n",
        "   &lt;script src=&amp;quot;https://cdnjs.cloudflare.com/ajax/libs/d3/3.5.5/d3.min.js&amp;quot; charset=&amp;quot;utf-8&amp;quot;&gt;&lt;/script&gt;\n",
        "   &lt;script src=&amp;quot;https://cdnjs.cloudflare.com/ajax/libs/queue-async/1.0.7/queue.min.js&amp;quot;&gt;&lt;/script&gt;\n",
        "\n",
        "   \n",
        "   \n",
        "   \n",
        "   \n",
        "\n",
        "   &lt;style&gt;\n",
        "\n",
        "      html, body {\n",
        "        width: 100%;\n",
        "        height: 100%;\n",
        "        margin: 0;\n",
        "        padding: 0;\n",
        "      }\n",
        "\n",
        "      .legend {\n",
        "          padding: 0px 0px;\n",
        "          font: 10px sans-serif;\n",
        "          background: white;\n",
        "          background: rgba(255,255,255,0.8);\n",
        "          box-shadow: 0 0 15px rgba(0,0,0,0.2);\n",
        "          border-radius: 5px;\n",
        "      }\n",
        "\n",
        "      .key path {\n",
        "        display: none;\n",
        "      }\n",
        "\n",
        "   &lt;/style&gt;\n",
        "&lt;/head&gt;\n",
        "\n",
        "&lt;body&gt;\n",
        "\n",
        "   &lt;div id=&amp;quot;map&amp;quot; style=&amp;quot;width: 100%; height: 100%&amp;quot;&gt;&lt;/div&gt;\n",
        "\n",
        "   &lt;script&gt;\n",
        "\n",
        "      queue()\n",
        "          .defer(function(callback){callback(null, JSON.parse('{&amp;quot;type&amp;quot;: &amp;quot;FeatureCollection&amp;quot;, &amp;quot;features&amp;quot;: [{&amp;quot;geometry&amp;quot;: {&amp;quot;type&amp;quot;: &amp;quot;Point&amp;quot;, &amp;quot;coordinates&amp;quot;: [-122.083702, 37.4036219]}, &amp;quot;type&amp;quot;: &amp;quot;Feature&amp;quot;, &amp;quot;id&amp;quot;: &amp;quot;5603ae0cf6858f0cbbb6055b&amp;quot;, &amp;quot;properties&amp;quot;: {&amp;quot;enter_fmt_time&amp;quot;: &amp;quot;2015-08-27 17:55:34.898000-07:00&amp;quot;, &amp;quot;feature_type&amp;quot;: &amp;quot;place&amp;quot;, &amp;quot;exit_fmt_time&amp;quot;: &amp;quot;2015-08-27 19:21:59.971000-07:00&amp;quot;, &amp;quot;source&amp;quot;: &amp;quot;DwellSegmentationTimeFilter&amp;quot;, &amp;quot;enter_ts&amp;quot;: 1440723334.898, &amp;quot;duration&amp;quot;: 5185.072999954224, &amp;quot;exit_ts&amp;quot;: 1440728519.971}}, {&amp;quot;geometry&amp;quot;: {&amp;quot;type&amp;quot;: &amp;quot;Point&amp;quot;, &amp;quot;coordinates&amp;quot;: [-122.0862609, 37.3909709]}, &amp;quot;type&amp;quot;: &amp;quot;Feature&amp;quot;, &amp;quot;id&amp;quot;: &amp;quot;5603ae0cf6858f0cbbb6055d&amp;quot;, &amp;quot;properties&amp;quot;: {&amp;quot;enter_fmt_time&amp;quot;: &amp;quot;2015-08-27 19:32:22.709000-07:00&amp;quot;, &amp;quot;source&amp;quot;: &amp;quot;DwellSegmentationTimeFilter&amp;quot;, &amp;quot;enter_ts&amp;quot;: 1440729142.709, &amp;quot;feature_type&amp;quot;: &amp;quot;place&amp;quot;}}, {&amp;quot;geometry&amp;quot;: {&amp;quot;type&amp;quot;: &amp;quot;Point&amp;quot;, &amp;quot;coordinates&amp;quot;: [-122.0804791, 37.3959724]}, &amp;quot;type&amp;quot;: &amp;quot;Feature&amp;quot;, &amp;quot;id&amp;quot;: &amp;quot;5603ae11f6858f0cbbb60597&amp;quot;, &amp;quot;properties&amp;quot;: {&amp;quot;enter_fmt_time&amp;quot;: &amp;quot;2015-08-27 19:26:34.308000-07:00&amp;quot;, &amp;quot;feature_type&amp;quot;: &amp;quot;stop&amp;quot;, &amp;quot;exit_fmt_time&amp;quot;: &amp;quot;2015-08-27 19:27:04.315000-07:00&amp;quot;, &amp;quot;source&amp;quot;: &amp;quot;SmoothedHighConfidenceMotion&amp;quot;, &amp;quot;enter_ts&amp;quot;: 1440728794.308, &amp;quot;duration&amp;quot;: 30.006999969482422, &amp;quot;exit_ts&amp;quot;: 1440728824.315}}, {&amp;quot;type&amp;quot;: &amp;quot;FeatureCollection&amp;quot;, &amp;quot;features&amp;quot;: [{&amp;quot;type&amp;quot;: &amp;quot;FeatureCollection&amp;quot;, &amp;quot;features&amp;quot;: [{&amp;quot;geometry&amp;quot;: {&amp;quot;type&amp;quot;: &amp;quot;Point&amp;quot;, &amp;quot;coordinates&amp;quot;: [-122.0816952, 37.4026009]}, &amp;quot;type&amp;quot;: &amp;quot;Feature&amp;quot;, &amp;quot;id&amp;quot;: &amp;quot;55dfcaca7d65cb39ee986e11&amp;quot;, &amp;quot;properties&amp;quot;: {&amp;quot;feature_type&amp;quot;: &amp;quot;location&amp;quot;, &amp;quot;fmt_time&amp;quot;: &amp;quot;2015-08-27 19:21:59.971000-07:00&amp;quot;, &amp;quot;altitude&amp;quot;: 0, &amp;quot;ts&amp;quot;: 1440728519.971, &amp;quot;longitude&amp;quot;: -122.0816952, &amp;quot;latitude&amp;quot;: 37.4026009, &amp;quot;heading&amp;quot;: 0, &amp;quot;sensed_speed&amp;quot;: 0, &amp;quot;accuracy&amp;quot;: 40.614}}, {&amp;quot;geometry&amp;quot;: {&amp;quot;type&amp;quot;: &amp;quot;Point&amp;quot;, &amp;quot;coordinates&amp;quot;: [-122.0804086, 37.402437]}, &amp;quot;type&amp;quot;: &amp;quot;Feature&amp;quot;, &amp;quot;id&amp;quot;: &amp;quot;55dfcaca7d65cb39ee986e14&amp;quot;, &amp;quot;properties&amp;quot;: {&amp;quot;feature_type&amp;quot;: &amp;quot;location&amp;quot;, &amp;quot;fmt_time&amp;quot;: &amp;quot;2015-08-27 19:22:34.135000-07:00&amp;quot;, &amp;quot;altitude&amp;quot;: 0, &amp;quot;ts&amp;quot;: 1440728554.135, &amp;quot;longitude&amp;quot;: -122.0804086, &amp;quot;latitude&amp;quot;: 37.402437, &amp;quot;heading&amp;quot;: 0, &amp;quot;sensed_speed&amp;quot;: 0, &amp;quot;accuracy&amp;quot;: 57.994}}, {&amp;quot;geometry&amp;quot;: {&amp;quot;type&amp;quot;: &amp;quot;Point&amp;quot;, &amp;quot;coordinates&amp;quot;: [-122.0785754, 37.4015364]}, &amp;quot;type&amp;quot;: &amp;quot;Feature&amp;quot;, &amp;quot;id&amp;quot;: &amp;quot;55dfcaca7d65cb39ee986e17&amp;quot;, &amp;quot;properties&amp;quot;: {&amp;quot;feature_type&amp;quot;: &amp;quot;location&amp;quot;, &amp;quot;fmt_time&amp;quot;: &amp;quot;2015-08-27 19:23:04.128000-07:00&amp;quot;, &amp;quot;altitude&amp;quot;: 0, &amp;quot;ts&amp;quot;: 1440728584.128, &amp;quot;longitude&amp;quot;: -122.0785754, &amp;quot;latitude&amp;quot;: 37.4015364, &amp;quot;heading&amp;quot;: 0, &amp;quot;sensed_speed&amp;quot;: 0, &amp;quot;accuracy&amp;quot;: 36.0}}, {&amp;quot;geometry&amp;quot;: {&amp;quot;type&amp;quot;: &amp;quot;Point&amp;quot;, &amp;quot;coordinates&amp;quot;: [-122.0792398, 37.4015005]}, &amp;quot;type&amp;quot;: &amp;quot;Feature&amp;quot;, &amp;quot;id&amp;quot;: &amp;quot;55dfcaca7d65cb39ee986e1a&amp;quot;, &amp;quot;properties&amp;quot;: {&amp;quot;feature_type&amp;quot;: &amp;quot;location&amp;quot;, &amp;quot;fmt_time&amp;quot;: &amp;quot;2015-08-27 19:23:34.210000-07:00&amp;quot;, &amp;quot;altitude&amp;quot;: 0, &amp;quot;ts&amp;quot;: 1440728614.21, &amp;quot;longitude&amp;quot;: -122.0792398, &amp;quot;latitude&amp;quot;: 37.4015005, &amp;quot;heading&amp;quot;: 0, &amp;quot;sensed_speed&amp;quot;: 0, &amp;quot;accuracy&amp;quot;: 31.5}}, {&amp;quot;geometry&amp;quot;: {&amp;quot;type&amp;quot;: &amp;quot;Point&amp;quot;, &amp;quot;coordinates&amp;quot;: [-122.0800125, 37.4007004]}, &amp;quot;type&amp;quot;: &amp;quot;Feature&amp;quot;, &amp;quot;id&amp;quot;: &amp;quot;55dfcaca7d65cb39ee986e1c&amp;quot;, &amp;quot;properties&amp;quot;: {&amp;quot;feature_type&amp;quot;: &amp;quot;location&amp;quot;, &amp;quot;fmt_time&amp;quot;: &amp;quot;2015-08-27 19:24:04.192000-07:00&amp;quot;, &amp;quot;altitude&amp;quot;: 0, &amp;quot;ts&amp;quot;: 1440728644.192, &amp;quot;longitude&amp;quot;: -122.0800125, &amp;quot;latitude&amp;quot;: 37.4007004, &amp;quot;heading&amp;quot;: 0, &amp;quot;sensed_speed&amp;quot;: 0, &amp;quot;accuracy&amp;quot;: 30.0}}, {&amp;quot;geometry&amp;quot;: {&amp;quot;type&amp;quot;: &amp;quot;Point&amp;quot;, &amp;quot;coordinates&amp;quot;: [-122.0806887, 37.3999177]}, &amp;quot;type&amp;quot;: &amp;quot;Feature&amp;quot;, &amp;quot;id&amp;quot;: &amp;quot;55dfcaca7d65cb39ee986e1f&amp;quot;, &amp;quot;properties&amp;quot;: {&amp;quot;feature_type&amp;quot;: &amp;quot;location&amp;quot;, &amp;quot;fmt_time&amp;quot;: &amp;quot;2015-08-27 19:24:34.282000-07:00&amp;quot;, &amp;quot;altitude&amp;quot;: 0, &amp;quot;ts&amp;quot;: 1440728674.282, &amp;quot;longitude&amp;quot;: -122.0806887, &amp;quot;latitude&amp;quot;: 37.3999177, &amp;quot;heading&amp;quot;: 0, &amp;quot;sensed_speed&amp;quot;: 0, &amp;quot;accuracy&amp;quot;: 37.5}}, {&amp;quot;geometry&amp;quot;: {&amp;quot;type&amp;quot;: &amp;quot;Point&amp;quot;, &amp;quot;coordinates&amp;quot;: [-122.0808318, 37.3995013]}, &amp;quot;type&amp;quot;: &amp;quot;Feature&amp;quot;, &amp;quot;id&amp;quot;: &amp;quot;55dfcaca7d65cb39ee986e21&amp;quot;, &amp;quot;properties&amp;quot;: {&amp;quot;feature_type&amp;quot;: &amp;quot;location&amp;quot;, &amp;quot;fmt_time&amp;quot;: &amp;quot;2015-08-27 19:25:04.266000-07:00&amp;quot;, &amp;quot;altitude&amp;quot;: 0, &amp;quot;ts&amp;quot;: 1440728704.266, &amp;quot;longitude&amp;quot;: -122.0808318, &amp;quot;latitude&amp;quot;: 37.3995013, &amp;quot;heading&amp;quot;: 0, &amp;quot;sensed_speed&amp;quot;: 0, &amp;quot;accuracy&amp;quot;: 42.0}}, {&amp;quot;geometry&amp;quot;: {&amp;quot;type&amp;quot;: &amp;quot;Point&amp;quot;, &amp;quot;coordinates&amp;quot;: [-122.0807172, 37.3994594]}, &amp;quot;type&amp;quot;: &amp;quot;Feature&amp;quot;, &amp;quot;id&amp;quot;: &amp;quot;55dfcacb7d65cb39ee986e23&amp;quot;, &amp;quot;properties&amp;quot;: {&amp;quot;feature_type&amp;quot;: &amp;quot;location&amp;quot;, &amp;quot;fmt_time&amp;quot;: &amp;quot;2015-08-27 19:25:34.248000-07:00&amp;quot;, &amp;quot;altitude&amp;quot;: 0, &amp;quot;ts&amp;quot;: 1440728734.248, &amp;quot;longitude&amp;quot;: -122.0807172, &amp;quot;latitude&amp;quot;: 37.3994594, &amp;quot;heading&amp;quot;: 0, &amp;quot;sensed_speed&amp;quot;: 0, &amp;quot;accuracy&amp;quot;: 81.0}}, {&amp;quot;geometry&amp;quot;: {&amp;quot;type&amp;quot;: &amp;quot;Point&amp;quot;, &amp;quot;coordinates&amp;quot;: [-122.0809948, 37.3983218]}, &amp;quot;type&amp;quot;: &amp;quot;Feature&amp;quot;, &amp;quot;id&amp;quot;: &amp;quot;55dfcacb7d65cb39ee986e27&amp;quot;, &amp;quot;properties&amp;quot;: {&amp;quot;feature_type&amp;quot;: &amp;quot;location&amp;quot;, &amp;quot;fmt_time&amp;quot;: &amp;quot;2015-08-27 19:26:04.243000-07:00&amp;quot;, &amp;quot;altitude&amp;quot;: 0, &amp;quot;ts&amp;quot;: 1440728764.243, &amp;quot;longitude&amp;quot;: -122.0809948, &amp;quot;latitude&amp;quot;: 37.3983218, &amp;quot;heading&amp;quot;: 0, &amp;quot;sensed_speed&amp;quot;: 0, &amp;quot;accuracy&amp;quot;: 36.0}}, {&amp;quot;geometry&amp;quot;: {&amp;quot;type&amp;quot;: &amp;quot;Point&amp;quot;, &amp;quot;coordinates&amp;quot;: [-122.0777742, 37.3955849]}, &amp;quot;type&amp;quot;: &amp;quot;Feature&amp;quot;, &amp;quot;id&amp;quot;: &amp;quot;55dfcacb7d65cb39ee986e29&amp;quot;, &amp;quot;properties&amp;quot;: {&amp;quot;feature_type&amp;quot;: &amp;quot;location&amp;quot;, &amp;quot;fmt_time&amp;quot;: &amp;quot;2015-08-27 19:26:34.308000-07:00&amp;quot;, &amp;quot;altitude&amp;quot;: 0, &amp;quot;ts&amp;quot;: 1440728794.308, &amp;quot;longitude&amp;quot;: -122.0777742, &amp;quot;latitude&amp;quot;: 37.3955849, &amp;quot;heading&amp;quot;: 0, &amp;quot;sensed_speed&amp;quot;: 0, &amp;quot;accuracy&amp;quot;: 67.5}}]}, {&amp;quot;geometry&amp;quot;: {&amp;quot;type&amp;quot;: &amp;quot;LineString&amp;quot;, &amp;quot;coordinates&amp;quot;: [[-122.083702, 37.4036219], [-122.0816952, 37.4026009], [-122.0804086, 37.402437], [-122.0785754, 37.4015364], [-122.0792398, 37.4015005], [-122.0800125, 37.4007004], [-122.0806887, 37.3999177], [-122.0808318, 37.3995013], [-122.0807172, 37.3994594], [-122.0809948, 37.3983218], [-122.0777742, 37.3955849]]}, &amp;quot;type&amp;quot;: &amp;quot;Feature&amp;quot;, &amp;quot;id&amp;quot;: &amp;quot;5603ae11f6858f0cbbb60595&amp;quot;, &amp;quot;properties&amp;quot;: {&amp;quot;feature_type&amp;quot;: &amp;quot;section&amp;quot;, &amp;quot;sensed_mode&amp;quot;: &amp;quot;MotionTypes.IN_VEHICLE&amp;quot;, &amp;quot;end_ts&amp;quot;: 1440728794.308, &amp;quot;start_ts&amp;quot;: 1440728519.971, &amp;quot;start_fmt_time&amp;quot;: &amp;quot;2015-08-27 19:21:59.971000-07:00&amp;quot;, &amp;quot;source&amp;quot;: &amp;quot;SmoothedHighConfidenceMotion&amp;quot;, &amp;quot;end_fmt_time&amp;quot;: &amp;quot;2015-08-27 19:26:34.308000-07:00&amp;quot;, &amp;quot;duration&amp;quot;: 274.33700013160706}}]}, {&amp;quot;type&amp;quot;: &amp;quot;FeatureCollection&amp;quot;, &amp;quot;features&amp;quot;: [{&amp;quot;type&amp;quot;: &amp;quot;FeatureCollection&amp;quot;, &amp;quot;features&amp;quot;: [{&amp;quot;geometry&amp;quot;: {&amp;quot;type&amp;quot;: &amp;quot;Point&amp;quot;, &amp;quot;coordinates&amp;quot;: [-122.0804791, 37.3959724]}, &amp;quot;type&amp;quot;: &amp;quot;Feature&amp;quot;, &amp;quot;id&amp;quot;: &amp;quot;55dfcacb7d65cb39ee986e2c&amp;quot;, &amp;quot;properties&amp;quot;: {&amp;quot;feature_type&amp;quot;: &amp;quot;location&amp;quot;, &amp;quot;fmt_time&amp;quot;: &amp;quot;2015-08-27 19:27:04.315000-07:00&amp;quot;, &amp;quot;altitude&amp;quot;: 0, &amp;quot;ts&amp;quot;: 1440728824.315, &amp;quot;longitude&amp;quot;: -122.0804791, &amp;quot;latitude&amp;quot;: 37.3959724, &amp;quot;heading&amp;quot;: 0, &amp;quot;sensed_speed&amp;quot;: 0, &amp;quot;accuracy&amp;quot;: 30.0}}, {&amp;quot;geometry&amp;quot;: {&amp;quot;type&amp;quot;: &amp;quot;Point&amp;quot;, &amp;quot;coordinates&amp;quot;: [-122.0829762, 37.3959456]}, &amp;quot;type&amp;quot;: &amp;quot;Feature&amp;quot;, &amp;quot;id&amp;quot;: &amp;quot;55dfcacb7d65cb39ee986e2f&amp;quot;, &amp;quot;properties&amp;quot;: {&amp;quot;feature_type&amp;quot;: &amp;quot;location&amp;quot;, &amp;quot;fmt_time&amp;quot;: &amp;quot;2015-08-27 19:27:34.365000-07:00&amp;quot;, &amp;quot;altitude&amp;quot;: 0, &amp;quot;ts&amp;quot;: 1440728854.365, &amp;quot;longitude&amp;quot;: -122.0829762, &amp;quot;latitude&amp;quot;: 37.3959456, &amp;quot;heading&amp;quot;: 0, &amp;quot;sensed_speed&amp;quot;: 0, &amp;quot;accuracy&amp;quot;: 37.5}}, {&amp;quot;geometry&amp;quot;: {&amp;quot;type&amp;quot;: &amp;quot;Point&amp;quot;, &amp;quot;coordinates&amp;quot;: [-122.0829727, 37.3959806]}, &amp;quot;type&amp;quot;: &amp;quot;Feature&amp;quot;, &amp;quot;id&amp;quot;: &amp;quot;55dfcacb7d65cb39ee986e31&amp;quot;, &amp;quot;properties&amp;quot;: {&amp;quot;feature_type&amp;quot;: &amp;quot;location&amp;quot;, &amp;quot;fmt_time&amp;quot;: &amp;quot;2015-08-27 19:28:04.387000-07:00&amp;quot;, &amp;quot;altitude&amp;quot;: 0, &amp;quot;ts&amp;quot;: 1440728884.387, &amp;quot;longitude&amp;quot;: -122.0829727, &amp;quot;latitude&amp;quot;: 37.3959806, &amp;quot;heading&amp;quot;: 0, &amp;quot;sensed_speed&amp;quot;: 0, &amp;quot;accuracy&amp;quot;: 40.5}}, {&amp;quot;geometry&amp;quot;: {&amp;quot;type&amp;quot;: &amp;quot;Point&amp;quot;, &amp;quot;coordinates&amp;quot;: [-122.0836812, 37.3948295]}, &amp;quot;type&amp;quot;: &amp;quot;Feature&amp;quot;, &amp;quot;id&amp;quot;: &amp;quot;55dfcacc7d65cb39ee986e34&amp;quot;, &amp;quot;properties&amp;quot;: {&amp;quot;feature_type&amp;quot;: &amp;quot;location&amp;quot;, &amp;quot;fmt_time&amp;quot;: &amp;quot;2015-08-27 19:28:34.434000-07:00&amp;quot;, &amp;quot;altitude&amp;quot;: 0, &amp;quot;ts&amp;quot;: 1440728914.434, &amp;quot;longitude&amp;quot;: -122.0836812, &amp;quot;latitude&amp;quot;: 37.3948295, &amp;quot;heading&amp;quot;: 0, &amp;quot;sensed_speed&amp;quot;: 0, &amp;quot;accuracy&amp;quot;: 33.0}}, {&amp;quot;geometry&amp;quot;: {&amp;quot;type&amp;quot;: &amp;quot;Point&amp;quot;, &amp;quot;coordinates&amp;quot;: [-122.0844196, 37.3937479]}, &amp;quot;type&amp;quot;: &amp;quot;Feature&amp;quot;, &amp;quot;id&amp;quot;: &amp;quot;55dfcacc7d65cb39ee986e37&amp;quot;, &amp;quot;properties&amp;quot;: {&amp;quot;feature_type&amp;quot;: &amp;quot;location&amp;quot;, &amp;quot;fmt_time&amp;quot;: &amp;quot;2015-08-27 19:29:04.482000-07:00&amp;quot;, &amp;quot;altitude&amp;quot;: 0, &amp;quot;ts&amp;quot;: 1440728944.482, &amp;quot;longitude&amp;quot;: -122.0844196, &amp;quot;latitude&amp;quot;: 37.3937479, &amp;quot;heading&amp;quot;: 0, &amp;quot;sensed_speed&amp;quot;: 0, &amp;quot;accuracy&amp;quot;: 37.5}}, {&amp;quot;geometry&amp;quot;: {&amp;quot;type&amp;quot;: &amp;quot;Point&amp;quot;, &amp;quot;coordinates&amp;quot;: [-122.0848882, 37.3930485]}, &amp;quot;type&amp;quot;: &amp;quot;Feature&amp;quot;, &amp;quot;id&amp;quot;: &amp;quot;55dfcacc7d65cb39ee986e3a&amp;quot;, &amp;quot;properties&amp;quot;: {&amp;quot;feature_type&amp;quot;: &amp;quot;location&amp;quot;, &amp;quot;fmt_time&amp;quot;: &amp;quot;2015-08-27 19:29:34.487000-07:00&amp;quot;, &amp;quot;altitude&amp;quot;: 0, &amp;quot;ts&amp;quot;: 1440728974.487, &amp;quot;longitude&amp;quot;: -122.0848882, &amp;quot;latitude&amp;quot;: 37.3930485, &amp;quot;heading&amp;quot;: 0, &amp;quot;sensed_speed&amp;quot;: 0, &amp;quot;accuracy&amp;quot;: 39.0}}, {&amp;quot;geometry&amp;quot;: {&amp;quot;type&amp;quot;: &amp;quot;Point&amp;quot;, &amp;quot;coordinates&amp;quot;: [-122.0854796, 37.3920595]}, &amp;quot;type&amp;quot;: &amp;quot;Feature&amp;quot;, &amp;quot;id&amp;quot;: &amp;quot;55dfcacc7d65cb39ee986e3c&amp;quot;, &amp;quot;properties&amp;quot;: {&amp;quot;feature_type&amp;quot;: &amp;quot;location&amp;quot;, &amp;quot;fmt_time&amp;quot;: &amp;quot;2015-08-27 19:30:04.524000-07:00&amp;quot;, &amp;quot;altitude&amp;quot;: 0, &amp;quot;ts&amp;quot;: 1440729004.524, &amp;quot;longitude&amp;quot;: -122.0854796, &amp;quot;latitude&amp;quot;: 37.3920595, &amp;quot;heading&amp;quot;: 0, &amp;quot;sensed_speed&amp;quot;: 0, &amp;quot;accuracy&amp;quot;: 108.529}}, {&amp;quot;geometry&amp;quot;: {&amp;quot;type&amp;quot;: &amp;quot;Point&amp;quot;, &amp;quot;coordinates&amp;quot;: [-122.0860801, 37.3911279]}, &amp;quot;type&amp;quot;: &amp;quot;Feature&amp;quot;, &amp;quot;id&amp;quot;: &amp;quot;55dfcacc7d65cb39ee986e3f&amp;quot;, &amp;quot;properties&amp;quot;: {&amp;quot;feature_type&amp;quot;: &amp;quot;location&amp;quot;, &amp;quot;fmt_time&amp;quot;: &amp;quot;2015-08-27 19:30:34.649000-07:00&amp;quot;, &amp;quot;altitude&amp;quot;: 0, &amp;quot;ts&amp;quot;: 1440729034.649, &amp;quot;longitude&amp;quot;: -122.0860801, &amp;quot;latitude&amp;quot;: 37.3911279, &amp;quot;heading&amp;quot;: 0, &amp;quot;sensed_speed&amp;quot;: 0, &amp;quot;accuracy&amp;quot;: 40.5}}, {&amp;quot;geometry&amp;quot;: {&amp;quot;type&amp;quot;: &amp;quot;Point&amp;quot;, &amp;quot;coordinates&amp;quot;: [-122.0862471, 37.3909095]}, &amp;quot;type&amp;quot;: &amp;quot;Feature&amp;quot;, &amp;quot;id&amp;quot;: &amp;quot;55dfcacc7d65cb39ee986e41&amp;quot;, &amp;quot;properties&amp;quot;: {&amp;quot;feature_type&amp;quot;: &amp;quot;location&amp;quot;, &amp;quot;fmt_time&amp;quot;: &amp;quot;2015-08-27 19:30:46.692000-07:00&amp;quot;, &amp;quot;altitude&amp;quot;: 0, &amp;quot;ts&amp;quot;: 1440729046.692, &amp;quot;longitude&amp;quot;: -122.0862471, &amp;quot;latitude&amp;quot;: 37.3909095, &amp;quot;heading&amp;quot;: 0, &amp;quot;sensed_speed&amp;quot;: 0, &amp;quot;accuracy&amp;quot;: 30.0}}, {&amp;quot;geometry&amp;quot;: {&amp;quot;type&amp;quot;: &amp;quot;Point&amp;quot;, &amp;quot;coordinates&amp;quot;: [-122.0862131, 37.3910022]}, &amp;quot;type&amp;quot;: &amp;quot;Feature&amp;quot;, &amp;quot;id&amp;quot;: &amp;quot;55dfcacd7d65cb39ee986e45&amp;quot;, &amp;quot;properties&amp;quot;: {&amp;quot;feature_type&amp;quot;: &amp;quot;location&amp;quot;, &amp;quot;fmt_time&amp;quot;: &amp;quot;2015-08-27 19:31:19.792000-07:00&amp;quot;, &amp;quot;altitude&amp;quot;: 0, &amp;quot;ts&amp;quot;: 1440729079.792, &amp;quot;longitude&amp;quot;: -122.0862131, &amp;quot;latitude&amp;quot;: 37.3910022, &amp;quot;heading&amp;quot;: 0, &amp;quot;sensed_speed&amp;quot;: 0, &amp;quot;accuracy&amp;quot;: 37.5}}, {&amp;quot;geometry&amp;quot;: {&amp;quot;type&amp;quot;: &amp;quot;Point&amp;quot;, &amp;quot;coordinates&amp;quot;: [-122.0862609, 37.3909709]}, &amp;quot;type&amp;quot;: &amp;quot;Feature&amp;quot;, &amp;quot;id&amp;quot;: &amp;quot;55dfcacd7d65cb39ee986e48&amp;quot;, &amp;quot;properties&amp;quot;: {&amp;quot;feature_type&amp;quot;: &amp;quot;location&amp;quot;, &amp;quot;fmt_time&amp;quot;: &amp;quot;2015-08-27 19:32:04.640000-07:00&amp;quot;, &amp;quot;altitude&amp;quot;: 0, &amp;quot;ts&amp;quot;: 1440729124.64, &amp;quot;longitude&amp;quot;: -122.0862609, &amp;quot;latitude&amp;quot;: 37.3909709, &amp;quot;heading&amp;quot;: 0, &amp;quot;sensed_speed&amp;quot;: 0, &amp;quot;accuracy&amp;quot;: 30.0}}, {&amp;quot;geometry&amp;quot;: {&amp;quot;type&amp;quot;: &amp;quot;Point&amp;quot;, &amp;quot;coordinates&amp;quot;: [-122.0862609, 37.3909709]}, &amp;quot;type&amp;quot;: &amp;quot;Feature&amp;quot;, &amp;quot;id&amp;quot;: &amp;quot;55dfcacd7d65cb39ee986e4c&amp;quot;, &amp;quot;properties&amp;quot;: {&amp;quot;feature_type&amp;quot;: &amp;quot;location&amp;quot;, &amp;quot;fmt_time&amp;quot;: &amp;quot;2015-08-27 19:32:22.709000-07:00&amp;quot;, &amp;quot;altitude&amp;quot;: 0, &amp;quot;ts&amp;quot;: 1440729142.709, &amp;quot;longitude&amp;quot;: -122.0862609, &amp;quot;latitude&amp;quot;: 37.3909709, &amp;quot;heading&amp;quot;: 0, &amp;quot;sensed_speed&amp;quot;: 0, &amp;quot;accuracy&amp;quot;: 30.0}}]}, {&amp;quot;geometry&amp;quot;: {&amp;quot;type&amp;quot;: &amp;quot;LineString&amp;quot;, &amp;quot;coordinates&amp;quot;: [[-122.0804791, 37.3959724], [-122.0829762, 37.3959456], [-122.0829727, 37.3959806], [-122.0836812, 37.3948295], [-122.0844196, 37.3937479], [-122.0848882, 37.3930485], [-122.0854796, 37.3920595], [-122.0860801, 37.3911279], [-122.0862471, 37.3909095], [-122.0862131, 37.3910022], [-122.0862609, 37.3909709], [-122.0862609, 37.3909709]]}, &amp;quot;type&amp;quot;: &amp;quot;Feature&amp;quot;, &amp;quot;id&amp;quot;: &amp;quot;5603ae11f6858f0cbbb60596&amp;quot;, &amp;quot;properties&amp;quot;: {&amp;quot;feature_type&amp;quot;: &amp;quot;section&amp;quot;, &amp;quot;sensed_mode&amp;quot;: &amp;quot;MotionTypes.BICYCLING&amp;quot;, &amp;quot;end_ts&amp;quot;: 1440729142.709, &amp;quot;start_ts&amp;quot;: 1440728824.315, &amp;quot;start_fmt_time&amp;quot;: &amp;quot;2015-08-27 19:27:04.315000-07:00&amp;quot;, &amp;quot;source&amp;quot;: &amp;quot;SmoothedHighConfidenceMotion&amp;quot;, &amp;quot;end_fmt_time&amp;quot;: &amp;quot;2015-08-27 19:32:22.709000-07:00&amp;quot;, &amp;quot;duration&amp;quot;: 318.39400005340576}}]}]}'))})\n",
        "          .await(makeMap)\n",
        "\n",
        "      function onEachFeature(feature, layer) {\n",
        "          // does this feature have a property named popupContent?\n",
        "          if (feature.properties &amp;&amp; feature.properties.popupContent) {\n",
        "              layer.bindPopup(feature.properties.popupContent);\n",
        "              }\n",
        "          };\n",
        "\n",
        "      function makeMap(error, gjson_1) {\n",
        "\n",
        "          \n",
        "\n",
        "          \n",
        "\n",
        "          function matchKey(datapoint, key_variable){\n",
        "              if (typeof key_variable[0][datapoint] === 'undefined') {\n",
        "                  return null;\n",
        "              }\n",
        "              else {\n",
        "                  return parseFloat(key_variable[0][datapoint]);\n",
        "              };\n",
        "          };\n",
        "\n",
        "          \n",
        "\n",
        "          var map = L.map('map').setView([0, 0], 1);\n",
        "\n",
        "          L.tileLayer('https://{s}.tile.openstreetmap.org/{z}/{x}/{y}.png', {\n",
        "              maxZoom: 18,\n",
        "              minZoom: 1,\n",
        "              attribution: 'Map data (c) &lt;a href=&amp;quot;http://openstreetmap.org&amp;quot;&gt;OpenStreetMap&lt;/a&gt; contributors'\n",
        "          }).addTo(map);\n",
        "\n",
        "          \n",
        "          function style_1(feature) {\n",
        "    return {\n",
        "        fillColor: 'blue',\n",
        "        weight: 1,\n",
        "        opacity: 1,\n",
        "        color: 'black',\n",
        "        fillOpacity: 0.6\n",
        "    };\n",
        "}\n",
        "          \n",
        "\n",
        "          \n",
        "          gJson_layer_1 = L.geoJson(gjson_1, {style: style_1,onEachFeature: onEachFeature}).addTo(map)\n",
        "          \n",
        "\n",
        "          \n",
        "\n",
        "          \n",
        "\n",
        "          \n",
        "\n",
        "          \n",
        "\n",
        "          \n",
        "\n",
        "          \n",
        "\n",
        "          var autobounds = L.featureGroup([]).getBounds()\n",
        "\n",
        "\n",
        "\n",
        "\n",
        "\n",
        "map.fitBounds(autobounds,\n",
        "    {&amp;quot;padding&amp;quot;: [30, 30]}\n",
        ");\n",
        "\n",
        "      };\n",
        "\n",
        "   &lt;/script&gt;\n",
        "&lt;/body&gt;&quot; style=&quot;width: 100%; height: 510px; border: none&quot;&gt;&lt;/iframe&gt;</td></tr>\n",
        "</table>\" style=\"width: 100%; height: 4080px; border: none\"></iframe>"
       ],
       "metadata": {},
       "output_type": "pyout",
       "prompt_number": 14,
       "text": [
        "<IPython.core.display.HTML at 0x1092aaf10>"
       ]
      }
     ],
     "prompt_number": 14
    },
    {
     "cell_type": "code",
     "collapsed": false,
     "input": [
      "map_list = lo.get_maps_for_range(myuuid, get_dt((8,26)), get_dt((8,27)))\n",
      "ipy.inline_maps([[m] for m in map_list])"
     ],
     "language": "python",
     "metadata": {},
     "outputs": [
      {
       "output_type": "stream",
       "stream": "stderr",
       "text": [
        "DEBUG:root:3 places found in database\n"
       ]
      },
      {
       "output_type": "stream",
       "stream": "stderr",
       "text": [
        "DEBUG:root:Considering place 5603ae0cf6858f0cbbb60549: 2015-08-26 17:05:56.010000-07:00 -> 2015-08-26 17:21:56.609000-07:00 \n"
       ]
      },
      {
       "output_type": "stream",
       "stream": "stderr",
       "text": [
        "DEBUG:root:Considering place 5603ae0cf6858f0cbbb6054b: 2015-08-26 17:23:30.317000-07:00 -> 2015-08-26 18:28:21.916000-07:00 \n"
       ]
      },
      {
       "output_type": "stream",
       "stream": "stderr",
       "text": [
        "DEBUG:root:Considering place 5603ae0cf6858f0cbbb6054d: 2015-08-26 21:43:20.404000-07:00 -> 2015-08-27 08:18:59.672000-07:00 \n"
       ]
      },
      {
       "output_type": "stream",
       "stream": "stderr",
       "text": [
        "DEBUG:root:Considering trip 5603ae0cf6858f0cbbb60548: 2015-08-26 17:05:39.041000-07:00 -> 2015-08-26 17:05:56.010000-07:00 \n"
       ]
      },
      {
       "output_type": "stream",
       "stream": "stderr",
       "text": [
        "DEBUG:root:Considering trip 5603ae0cf6858f0cbbb6054a: 2015-08-26 17:21:56.609000-07:00 -> 2015-08-26 17:23:30.317000-07:00 \n"
       ]
      },
      {
       "output_type": "stream",
       "stream": "stderr",
       "text": [
        "DEBUG:root:Considering trip 5603ae0cf6858f0cbbb6054c: 2015-08-26 18:28:21.916000-07:00 -> 2015-08-26 21:43:20.404000-07:00 \n"
       ]
      },
      {
       "output_type": "stream",
       "stream": "stderr",
       "text": [
        "DEBUG:root:len(places) = 3, len(trips) = 3\n"
       ]
      },
      {
       "output_type": "stream",
       "stream": "stderr",
       "text": [
        "DEBUG:root:Starting with element of type trip, id 5603ae0cf6858f0cbbb60548, details Trip({u'end_place': ObjectId('5603ae0cf6858f0cbbb60549'), u'user_id': UUID('0763de67-f61e-3f5d-90e7-518e69793954'), u'start_loc': {u'type': u'Point', u'coordinates': [-122.0875003, 37.3910209]}, u'end_ts': 1440633956.01, u'start_ts': 1440633939.041, u'start_fmt_time': u'2015-08-26 17:05:39.041000-07:00', u'end_loc': {u'type': u'Point', u'coordinates': [-122.0877097, 37.3911093]}, u'source': u'DwellSegmentationTimeFilter', u'start_place': ObjectId('5603ae0cf6858f0cbbb60547'), u'end_fmt_time': u'2015-08-26 17:05:56.010000-07:00', u'duration': 16.969000101089478, u'_id': ObjectId('5603ae0cf6858f0cbbb60548')})\n"
       ]
      },
      {
       "output_type": "stream",
       "stream": "stderr",
       "text": [
        "DEBUG:root:len(trips) = 3, adding start_place 5603ae0cf6858f0cbbb60547 and end_place 5603ae0cf6858f0cbbb6054d\n"
       ]
      },
      {
       "output_type": "stream",
       "stream": "stderr",
       "text": [
        "DEBUG:root:About to execute query {'trip_id': ObjectId('5603ae0cf6858f0cbbb60548'), 'user_id': UUID('0763de67-f61e-3f5d-90e7-518e69793954')}\n"
       ]
      },
      {
       "output_type": "stream",
       "stream": "stderr",
       "text": [
        "DEBUG:root:len(places) = 0, len(trips) = 0\n"
       ]
      },
      {
       "output_type": "stream",
       "stream": "stderr",
       "text": [
        "DEBUG:root:Starting with element of type none, id None, details None\n"
       ]
      },
      {
       "output_type": "stream",
       "stream": "stderr",
       "text": [
        "DEBUG:root:About to execute query {'trip_id': ObjectId('5603ae0cf6858f0cbbb6054a'), 'user_id': UUID('0763de67-f61e-3f5d-90e7-518e69793954')}\n"
       ]
      },
      {
       "output_type": "stream",
       "stream": "stderr",
       "text": [
        "DEBUG:root:len(places) = 0, len(trips) = 0\n"
       ]
      },
      {
       "output_type": "stream",
       "stream": "stderr",
       "text": [
        "DEBUG:root:Starting with element of type none, id None, details None\n"
       ]
      },
      {
       "output_type": "stream",
       "stream": "stderr",
       "text": [
        "DEBUG:root:About to execute query {'trip_id': ObjectId('5603ae0cf6858f0cbbb6054c'), 'user_id': UUID('0763de67-f61e-3f5d-90e7-518e69793954')}\n"
       ]
      },
      {
       "output_type": "stream",
       "stream": "stderr",
       "text": [
        "DEBUG:root:len(places) = 0, len(trips) = 1\n"
       ]
      },
      {
       "output_type": "stream",
       "stream": "stderr",
       "text": [
        "DEBUG:root:Starting with element of type trip, id 5603ae0ff6858f0cbbb60580, details Section({u'user_id': UUID('0763de67-f61e-3f5d-90e7-518e69793954'), u'sensed_mode': 2, u'start_loc': {u'type': u'Point', u'coordinates': [-122.0850267, 37.3898613]}, u'end_ts': 1440650600.404, u'start_ts': 1440638901.916, u'start_fmt_time': u'2015-08-26 18:28:21.916000-07:00', u'end_loc': {u'type': u'Point', u'coordinates': [-122.0864045, 37.3905444]}, u'source': u'SmoothedHighConfidenceMotion', u'end_fmt_time': u'2015-08-26 21:43:20.404000-07:00', u'duration': 11698.488000154495, u'_id': ObjectId('5603ae0ff6858f0cbbb60580'), u'trip_id': ObjectId('5603ae0cf6858f0cbbb6054c')})\n"
       ]
      },
      {
       "output_type": "stream",
       "stream": "stderr",
       "text": [
        "DEBUG:root:sort_key = metadata.write_ts\n"
       ]
      },
      {
       "output_type": "stream",
       "stream": "stderr",
       "text": [
        "DEBUG:root:ret_val = {u'loc': {u'type': u'Point', u'coordinates': [-122.0850267, 37.3898613]}, u'fmt_time': u'2015-08-26 18:28:21.916000-07:00', u'altitude': 0, u'ts': 1440638901.916, u'longitude': -122.0850267, u'latitude': 37.3898613, '_id': ObjectId('55de9e8a7d65cb39ee98623e'), u'heading': 0, u'sensed_speed': 0, u'accuracy': 118.093} \n"
       ]
      },
      {
       "output_type": "stream",
       "stream": "stderr",
       "text": [
        "DEBUG:root:ret_val = {u'loc': {u'type': u'Point', u'coordinates': [-122.0847573, 37.3898617]}, u'fmt_time': u'2015-08-26 18:28:53.713000-07:00', u'altitude': 0, u'ts': 1440638933.713, u'longitude': -122.0847573, u'latitude': 37.3898617, '_id': ObjectId('55de9e8b7d65cb39ee986241'), u'heading': 0, u'sensed_speed': 0, u'accuracy': 37.5} \n"
       ]
      },
      {
       "output_type": "stream",
       "stream": "stderr",
       "text": [
        "DEBUG:root:ret_val = {u'loc': {u'type': u'Point', u'coordinates': [-122.0840233, 37.3890777]}, u'fmt_time': u'2015-08-26 18:29:25.550000-07:00', u'altitude': 0, u'ts': 1440638965.55, u'longitude': -122.0840233, u'latitude': 37.3890777, '_id': ObjectId('55de9e8b7d65cb39ee986244'), u'heading': 0, u'sensed_speed': 0, u'accuracy': 35.134} \n"
       ]
      },
      {
       "output_type": "stream",
       "stream": "stderr",
       "text": [
        "DEBUG:root:ret_val = {u'loc': {u'type': u'Point', u'coordinates': [-122.083988, 37.3890865]}, u'fmt_time': u'2015-08-26 18:29:57.371000-07:00', u'altitude': 0, u'ts': 1440638997.371, u'longitude': -122.083988, u'latitude': 37.3890865, '_id': ObjectId('55de9e8b7d65cb39ee986247'), u'heading': 0, u'sensed_speed': 0, u'accuracy': 34.295} \n"
       ]
      },
      {
       "output_type": "stream",
       "stream": "stderr",
       "text": [
        "DEBUG:root:ret_val = {u'loc': {u'type': u'Point', u'coordinates': [-122.0834042, 37.3891734]}, u'fmt_time': u'2015-08-26 18:30:29.192000-07:00', u'altitude': 0, u'ts': 1440639029.192, u'longitude': -122.0834042, u'latitude': 37.3891734, '_id': ObjectId('55de9e8b7d65cb39ee98624a'), u'heading': 0, u'sensed_speed': 0, u'accuracy': 79.5} \n"
       ]
      },
      {
       "output_type": "stream",
       "stream": "stderr",
       "text": [
        "DEBUG:root:ret_val = {u'loc': {u'type': u'Point', u'coordinates': [-122.0828101, 37.3888188]}, u'fmt_time': u'2015-08-26 18:31:05.164000-07:00', u'altitude': 0, u'ts': 1440639065.164, u'longitude': -122.0828101, u'latitude': 37.3888188, '_id': ObjectId('55de9e8b7d65cb39ee98624d'), u'heading': 0, u'sensed_speed': 0, u'accuracy': 67.987} \n"
       ]
      },
      {
       "output_type": "stream",
       "stream": "stderr",
       "text": [
        "DEBUG:root:ret_val = {u'loc': {u'type': u'Point', u'coordinates': [-122.0828101, 37.3888188]}, u'fmt_time': u'2015-08-26 18:32:08.593000-07:00', u'altitude': 0, u'ts': 1440639128.593, u'longitude': -122.0828101, u'latitude': 37.3888188, '_id': ObjectId('55de9e8c7d65cb39ee986251'), u'heading': 0, u'sensed_speed': 0, u'accuracy': 163.129} \n"
       ]
      },
      {
       "output_type": "stream",
       "stream": "stderr",
       "text": [
        "DEBUG:root:ret_val = {u'loc': {u'type': u'Point', u'coordinates': [-122.083951, 37.3891767]}, u'fmt_time': u'2015-08-26 21:35:51.399000-07:00', u'altitude': 0, u'ts': 1440650151.399, u'longitude': -122.083951, u'latitude': 37.3891767, '_id': ObjectId('55de9eb57d65cb39ee9864b9'), u'heading': 0, u'sensed_speed': 0, u'accuracy': 69.743} \n"
       ]
      },
      {
       "output_type": "stream",
       "stream": "stderr",
       "text": [
        "DEBUG:root:ret_val = {u'loc': {u'type': u'Point', u'coordinates': [-122.0839318, 37.3891863]}, u'fmt_time': u'2015-08-26 21:36:21.279000-07:00', u'altitude': 0, u'ts': 1440650181.279, u'longitude': -122.0839318, u'latitude': 37.3891863, '_id': ObjectId('55de9eb57d65cb39ee9864bc'), u'heading': 0, u'sensed_speed': 0, u'accuracy': 71.362} \n"
       ]
      },
      {
       "output_type": "stream",
       "stream": "stderr",
       "text": [
        "DEBUG:root:ret_val = {u'loc': {u'type': u'Point', u'coordinates': [-122.0832482, 37.3892482]}, u'fmt_time': u'2015-08-26 21:36:51.498000-07:00', u'altitude': 0, u'ts': 1440650211.498, u'longitude': -122.0832482, u'latitude': 37.3892482, '_id': ObjectId('55de9eb67d65cb39ee9864bf'), u'heading': 0, u'sensed_speed': 0, u'accuracy': 114.988} \n"
       ]
      },
      {
       "output_type": "stream",
       "stream": "stderr",
       "text": [
        "DEBUG:root:ret_val = {u'loc': {u'type': u'Point', u'coordinates': [-122.0838802, 37.3894349]}, u'fmt_time': u'2015-08-26 21:37:14.084000-07:00', u'altitude': 0, u'ts': 1440650234.084, u'longitude': -122.0838802, u'latitude': 37.3894349, '_id': ObjectId('55de9eb67d65cb39ee9864c2'), u'heading': 0, u'sensed_speed': 0, u'accuracy': 49.5} \n"
       ]
      },
      {
       "output_type": "stream",
       "stream": "stderr",
       "text": [
        "DEBUG:root:ret_val = {u'loc': {u'type': u'Point', u'coordinates': [-122.0844962, 37.3902504]}, u'fmt_time': u'2015-08-26 21:37:49.993000-07:00', u'altitude': 0, u'ts': 1440650269.993, u'longitude': -122.0844962, u'latitude': 37.3902504, '_id': ObjectId('55de9eb67d65cb39ee9864c5'), u'heading': 0, u'sensed_speed': 0, u'accuracy': 33} \n"
       ]
      },
      {
       "output_type": "stream",
       "stream": "stderr",
       "text": [
        "DEBUG:root:ret_val = {u'loc': {u'type': u'Point', u'coordinates': [-122.0845079, 37.3902375]}, u'fmt_time': u'2015-08-26 21:38:32.183000-07:00', u'altitude': 0, u'ts': 1440650312.183, u'longitude': -122.0845079, u'latitude': 37.3902375, '_id': ObjectId('55de9eb67d65cb39ee9864c8'), u'heading': 0, u'sensed_speed': 0, u'accuracy': 129.02} \n"
       ]
      },
      {
       "output_type": "stream",
       "stream": "stderr",
       "text": [
        "DEBUG:root:ret_val = {u'loc': {u'type': u'Point', u'coordinates': [-122.0845059, 37.3900956]}, u'fmt_time': u'2015-08-26 21:39:02.170000-07:00', u'altitude': 0, u'ts': 1440650342.17, u'longitude': -122.0845059, u'latitude': 37.3900956, '_id': ObjectId('55de9eb67d65cb39ee9864cb'), u'heading': 0, u'sensed_speed': 0, u'accuracy': 116.703} \n"
       ]
      },
      {
       "output_type": "stream",
       "stream": "stderr",
       "text": [
        "DEBUG:root:ret_val = {u'loc': {u'type': u'Point', u'coordinates': [-122.0844275, 37.3898317]}, u'fmt_time': u'2015-08-26 21:39:21.681000-07:00', u'altitude': 0, u'ts': 1440650361.681, u'longitude': -122.0844275, u'latitude': 37.3898317, '_id': ObjectId('55de9eb67d65cb39ee9864ce'), u'heading': 0, u'sensed_speed': 0, u'accuracy': 96.948} \n"
       ]
      },
      {
       "output_type": "stream",
       "stream": "stderr",
       "text": [
        "DEBUG:root:ret_val = {u'loc': {u'type': u'Point', u'coordinates': [-122.0842929, 37.3892491]}, u'fmt_time': u'2015-08-26 21:39:53.534000-07:00', u'altitude': 0, u'ts': 1440650393.534, u'longitude': -122.0842929, u'latitude': 37.3892491, '_id': ObjectId('55de9eb77d65cb39ee9864d1'), u'heading': 0, u'sensed_speed': 0, u'accuracy': 61.654} \n"
       ]
      },
      {
       "output_type": "stream",
       "stream": "stderr",
       "text": [
        "DEBUG:root:ret_val = {u'loc': {u'type': u'Point', u'coordinates': [-122.0850528, 37.3898745]}, u'fmt_time': u'2015-08-26 21:40:25.349000-07:00', u'altitude': 0, u'ts': 1440650425.349, u'longitude': -122.0850528, u'latitude': 37.3898745, '_id': ObjectId('55de9eb77d65cb39ee9864d4'), u'heading': 0, u'sensed_speed': 0, u'accuracy': 30} \n"
       ]
      },
      {
       "output_type": "stream",
       "stream": "stderr",
       "text": [
        "DEBUG:root:ret_val = {u'loc': {u'type': u'Point', u'coordinates': [-122.085279, 37.389945]}, u'fmt_time': u'2015-08-26 21:40:57.184000-07:00', u'altitude': 0, u'ts': 1440650457.184, u'longitude': -122.085279, u'latitude': 37.389945, '_id': ObjectId('55de9eb77d65cb39ee9864d7'), u'heading': 0, u'sensed_speed': 0, u'accuracy': 45} \n"
       ]
      },
      {
       "output_type": "stream",
       "stream": "stderr",
       "text": [
        "DEBUG:root:ret_val = {u'loc': {u'type': u'Point', u'coordinates': [-122.0860788, 37.3901256]}, u'fmt_time': u'2015-08-26 21:41:29.011000-07:00', u'altitude': 0, u'ts': 1440650489.011, u'longitude': -122.0860788, u'latitude': 37.3901256, '_id': ObjectId('55de9eb77d65cb39ee9864da'), u'heading': 0, u'sensed_speed': 0, u'accuracy': 40.5} \n"
       ]
      },
      {
       "output_type": "stream",
       "stream": "stderr",
       "text": [
        "DEBUG:root:ret_val = {u'loc': {u'type': u'Point', u'coordinates': [-122.0862834, 37.3904012]}, u'fmt_time': u'2015-08-26 21:42:00.844000-07:00', u'altitude': 0, u'ts': 1440650520.844, u'longitude': -122.0862834, u'latitude': 37.3904012, '_id': ObjectId('55de9eb77d65cb39ee9864dd'), u'heading': 0, u'sensed_speed': 0, u'accuracy': 48} \n"
       ]
      },
      {
       "output_type": "stream",
       "stream": "stderr",
       "text": [
        "DEBUG:root:ret_val = {u'loc': {u'type': u'Point', u'coordinates': [-122.0865501, 37.3903768]}, u'fmt_time': u'2015-08-26 21:42:16.753000-07:00', u'altitude': 0, u'ts': 1440650536.753, u'longitude': -122.0865501, u'latitude': 37.3903768, '_id': ObjectId('55de9eb87d65cb39ee9864e0'), u'heading': 0, u'sensed_speed': 0, u'accuracy': 45} \n"
       ]
      },
      {
       "output_type": "stream",
       "stream": "stderr",
       "text": [
        "DEBUG:root:ret_val = {u'loc': {u'type': u'Point', u'coordinates': [-122.0866305, 37.3903306]}, u'fmt_time': u'2015-08-26 21:42:48.581000-07:00', u'altitude': 0, u'ts': 1440650568.581, u'longitude': -122.0866305, u'latitude': 37.3903306, '_id': ObjectId('55de9eb87d65cb39ee9864e3'), u'heading': 0, u'sensed_speed': 0, u'accuracy': 36} \n"
       ]
      },
      {
       "output_type": "stream",
       "stream": "stderr",
       "text": [
        "DEBUG:root:ret_val = {u'loc': {u'type': u'Point', u'coordinates': [-122.0864045, 37.3905444]}, u'fmt_time': u'2015-08-26 21:43:20.404000-07:00', u'altitude': 0, u'ts': 1440650600.404, u'longitude': -122.0864045, u'latitude': 37.3905444, '_id': ObjectId('55de9eb87d65cb39ee9864e6'), u'heading': 0, u'sensed_speed': 0, u'accuracy': 31.5} \n"
       ]
      },
      {
       "output_type": "stream",
       "stream": "stderr",
       "text": [
        "DEBUG:root:points_df.columns = Index([u'_id', u'accuracy', u'altitude', u'fmt_time', u'heading', u'latitude', u'loc', u'longitude', u'sensed_speed', u'ts'], dtype='object')\n"
       ]
      },
      {
       "output_type": "stream",
       "stream": "stderr",
       "text": [
        "DEBUG:root:first element in section_location_array = Location({u'loc': {u'type': u'Point', u'coordinates': [-122.0850267, 37.3898613]}, u'fmt_time': u'2015-08-26 18:28:21.916000-07:00', u'altitude': 0, u'ts': 1440638901.916, u'longitude': -122.0850267, u'latitude': 37.3898613, '_id': ObjectId('55de9e8a7d65cb39ee98623e'), u'heading': 0, u'sensed_speed': 0, u'accuracy': 118.093})\n"
       ]
      },
      {
       "output_type": "stream",
       "stream": "stderr",
       "text": [
        "DEBUG:root:About to add Location({u'loc': {u'type': u'Point', u'coordinates': [-122.0850267, 37.3898613]}, u'fmt_time': u'2015-08-26 18:28:21.916000-07:00', u'altitude': 0, u'ts': 1440638901.916, u'longitude': -122.0850267, u'latitude': 37.3898613, '_id': ObjectId('55de9e8a7d65cb39ee98623e'), u'heading': 0, u'sensed_speed': 0, u'accuracy': 118.093}) to line_string \n"
       ]
      },
      {
       "output_type": "stream",
       "stream": "stderr",
       "text": [
        "DEBUG:root:About to add Location({u'loc': {u'type': u'Point', u'coordinates': [-122.0847573, 37.3898617]}, u'fmt_time': u'2015-08-26 18:28:53.713000-07:00', u'altitude': 0, u'ts': 1440638933.713, u'longitude': -122.0847573, u'latitude': 37.3898617, '_id': ObjectId('55de9e8b7d65cb39ee986241'), u'heading': 0, u'sensed_speed': 0, u'accuracy': 37.5}) to line_string \n"
       ]
      },
      {
       "output_type": "stream",
       "stream": "stderr",
       "text": [
        "DEBUG:root:About to add Location({u'loc': {u'type': u'Point', u'coordinates': [-122.0840233, 37.3890777]}, u'fmt_time': u'2015-08-26 18:29:25.550000-07:00', u'altitude': 0, u'ts': 1440638965.55, u'longitude': -122.0840233, u'latitude': 37.3890777, '_id': ObjectId('55de9e8b7d65cb39ee986244'), u'heading': 0, u'sensed_speed': 0, u'accuracy': 35.134}) to line_string \n"
       ]
      },
      {
       "output_type": "stream",
       "stream": "stderr",
       "text": [
        "DEBUG:root:About to add Location({u'loc': {u'type': u'Point', u'coordinates': [-122.083988, 37.3890865]}, u'fmt_time': u'2015-08-26 18:29:57.371000-07:00', u'altitude': 0, u'ts': 1440638997.371, u'longitude': -122.083988, u'latitude': 37.3890865, '_id': ObjectId('55de9e8b7d65cb39ee986247'), u'heading': 0, u'sensed_speed': 0, u'accuracy': 34.295}) to line_string \n"
       ]
      },
      {
       "output_type": "stream",
       "stream": "stderr",
       "text": [
        "DEBUG:root:About to add Location({u'loc': {u'type': u'Point', u'coordinates': [-122.0834042, 37.3891734]}, u'fmt_time': u'2015-08-26 18:30:29.192000-07:00', u'altitude': 0, u'ts': 1440639029.192, u'longitude': -122.0834042, u'latitude': 37.3891734, '_id': ObjectId('55de9e8b7d65cb39ee98624a'), u'heading': 0, u'sensed_speed': 0, u'accuracy': 79.5}) to line_string \n"
       ]
      },
      {
       "output_type": "stream",
       "stream": "stderr",
       "text": [
        "DEBUG:root:About to add Location({u'loc': {u'type': u'Point', u'coordinates': [-122.0828101, 37.3888188]}, u'fmt_time': u'2015-08-26 18:31:05.164000-07:00', u'altitude': 0, u'ts': 1440639065.164, u'longitude': -122.0828101, u'latitude': 37.3888188, '_id': ObjectId('55de9e8b7d65cb39ee98624d'), u'heading': 0, u'sensed_speed': 0, u'accuracy': 67.987}) to line_string \n"
       ]
      },
      {
       "output_type": "stream",
       "stream": "stderr",
       "text": [
        "DEBUG:root:About to add Location({u'loc': {u'type': u'Point', u'coordinates': [-122.0828101, 37.3888188]}, u'fmt_time': u'2015-08-26 18:32:08.593000-07:00', u'altitude': 0, u'ts': 1440639128.593, u'longitude': -122.0828101, u'latitude': 37.3888188, '_id': ObjectId('55de9e8c7d65cb39ee986251'), u'heading': 0, u'sensed_speed': 0, u'accuracy': 163.129}) to line_string \n"
       ]
      },
      {
       "output_type": "stream",
       "stream": "stderr",
       "text": [
        "DEBUG:root:About to add Location({u'loc': {u'type': u'Point', u'coordinates': [-122.083951, 37.3891767]}, u'fmt_time': u'2015-08-26 21:35:51.399000-07:00', u'altitude': 0, u'ts': 1440650151.399, u'longitude': -122.083951, u'latitude': 37.3891767, '_id': ObjectId('55de9eb57d65cb39ee9864b9'), u'heading': 0, u'sensed_speed': 0, u'accuracy': 69.743}) to line_string \n"
       ]
      },
      {
       "output_type": "stream",
       "stream": "stderr",
       "text": [
        "DEBUG:root:About to add Location({u'loc': {u'type': u'Point', u'coordinates': [-122.0839318, 37.3891863]}, u'fmt_time': u'2015-08-26 21:36:21.279000-07:00', u'altitude': 0, u'ts': 1440650181.279, u'longitude': -122.0839318, u'latitude': 37.3891863, '_id': ObjectId('55de9eb57d65cb39ee9864bc'), u'heading': 0, u'sensed_speed': 0, u'accuracy': 71.362}) to line_string \n"
       ]
      },
      {
       "output_type": "stream",
       "stream": "stderr",
       "text": [
        "DEBUG:root:About to add Location({u'loc': {u'type': u'Point', u'coordinates': [-122.0832482, 37.3892482]}, u'fmt_time': u'2015-08-26 21:36:51.498000-07:00', u'altitude': 0, u'ts': 1440650211.498, u'longitude': -122.0832482, u'latitude': 37.3892482, '_id': ObjectId('55de9eb67d65cb39ee9864bf'), u'heading': 0, u'sensed_speed': 0, u'accuracy': 114.988}) to line_string \n"
       ]
      },
      {
       "output_type": "stream",
       "stream": "stderr",
       "text": [
        "DEBUG:root:About to add Location({u'loc': {u'type': u'Point', u'coordinates': [-122.0838802, 37.3894349]}, u'fmt_time': u'2015-08-26 21:37:14.084000-07:00', u'altitude': 0, u'ts': 1440650234.084, u'longitude': -122.0838802, u'latitude': 37.3894349, '_id': ObjectId('55de9eb67d65cb39ee9864c2'), u'heading': 0, u'sensed_speed': 0, u'accuracy': 49.5}) to line_string \n"
       ]
      },
      {
       "output_type": "stream",
       "stream": "stderr",
       "text": [
        "DEBUG:root:About to add Location({u'loc': {u'type': u'Point', u'coordinates': [-122.0844962, 37.3902504]}, u'fmt_time': u'2015-08-26 21:37:49.993000-07:00', u'altitude': 0, u'ts': 1440650269.993, u'longitude': -122.0844962, u'latitude': 37.3902504, '_id': ObjectId('55de9eb67d65cb39ee9864c5'), u'heading': 0, u'sensed_speed': 0, u'accuracy': 33.0}) to line_string \n"
       ]
      },
      {
       "output_type": "stream",
       "stream": "stderr",
       "text": [
        "DEBUG:root:About to add Location({u'loc': {u'type': u'Point', u'coordinates': [-122.0845079, 37.3902375]}, u'fmt_time': u'2015-08-26 21:38:32.183000-07:00', u'altitude': 0, u'ts': 1440650312.183, u'longitude': -122.0845079, u'latitude': 37.3902375, '_id': ObjectId('55de9eb67d65cb39ee9864c8'), u'heading': 0, u'sensed_speed': 0, u'accuracy': 129.02}) to line_string \n"
       ]
      },
      {
       "output_type": "stream",
       "stream": "stderr",
       "text": [
        "DEBUG:root:About to add Location({u'loc': {u'type': u'Point', u'coordinates': [-122.0845059, 37.3900956]}, u'fmt_time': u'2015-08-26 21:39:02.170000-07:00', u'altitude': 0, u'ts': 1440650342.17, u'longitude': -122.0845059, u'latitude': 37.3900956, '_id': ObjectId('55de9eb67d65cb39ee9864cb'), u'heading': 0, u'sensed_speed': 0, u'accuracy': 116.703}) to line_string \n"
       ]
      },
      {
       "output_type": "stream",
       "stream": "stderr",
       "text": [
        "DEBUG:root:About to add Location({u'loc': {u'type': u'Point', u'coordinates': [-122.0844275, 37.3898317]}, u'fmt_time': u'2015-08-26 21:39:21.681000-07:00', u'altitude': 0, u'ts': 1440650361.681, u'longitude': -122.0844275, u'latitude': 37.3898317, '_id': ObjectId('55de9eb67d65cb39ee9864ce'), u'heading': 0, u'sensed_speed': 0, u'accuracy': 96.948}) to line_string \n"
       ]
      },
      {
       "output_type": "stream",
       "stream": "stderr",
       "text": [
        "DEBUG:root:About to add Location({u'loc': {u'type': u'Point', u'coordinates': [-122.0842929, 37.3892491]}, u'fmt_time': u'2015-08-26 21:39:53.534000-07:00', u'altitude': 0, u'ts': 1440650393.534, u'longitude': -122.0842929, u'latitude': 37.3892491, '_id': ObjectId('55de9eb77d65cb39ee9864d1'), u'heading': 0, u'sensed_speed': 0, u'accuracy': 61.654}) to line_string \n"
       ]
      },
      {
       "output_type": "stream",
       "stream": "stderr",
       "text": [
        "DEBUG:root:About to add Location({u'loc': {u'type': u'Point', u'coordinates': [-122.0850528, 37.3898745]}, u'fmt_time': u'2015-08-26 21:40:25.349000-07:00', u'altitude': 0, u'ts': 1440650425.349, u'longitude': -122.0850528, u'latitude': 37.3898745, '_id': ObjectId('55de9eb77d65cb39ee9864d4'), u'heading': 0, u'sensed_speed': 0, u'accuracy': 30.0}) to line_string \n"
       ]
      },
      {
       "output_type": "stream",
       "stream": "stderr",
       "text": [
        "DEBUG:root:About to add Location({u'loc': {u'type': u'Point', u'coordinates': [-122.085279, 37.389945]}, u'fmt_time': u'2015-08-26 21:40:57.184000-07:00', u'altitude': 0, u'ts': 1440650457.184, u'longitude': -122.085279, u'latitude': 37.389945, '_id': ObjectId('55de9eb77d65cb39ee9864d7'), u'heading': 0, u'sensed_speed': 0, u'accuracy': 45.0}) to line_string \n"
       ]
      },
      {
       "output_type": "stream",
       "stream": "stderr",
       "text": [
        "DEBUG:root:About to add Location({u'loc': {u'type': u'Point', u'coordinates': [-122.0860788, 37.3901256]}, u'fmt_time': u'2015-08-26 21:41:29.011000-07:00', u'altitude': 0, u'ts': 1440650489.011, u'longitude': -122.0860788, u'latitude': 37.3901256, '_id': ObjectId('55de9eb77d65cb39ee9864da'), u'heading': 0, u'sensed_speed': 0, u'accuracy': 40.5}) to line_string \n"
       ]
      },
      {
       "output_type": "stream",
       "stream": "stderr",
       "text": [
        "DEBUG:root:About to add Location({u'loc': {u'type': u'Point', u'coordinates': [-122.0862834, 37.3904012]}, u'fmt_time': u'2015-08-26 21:42:00.844000-07:00', u'altitude': 0, u'ts': 1440650520.844, u'longitude': -122.0862834, u'latitude': 37.3904012, '_id': ObjectId('55de9eb77d65cb39ee9864dd'), u'heading': 0, u'sensed_speed': 0, u'accuracy': 48.0}) to line_string \n"
       ]
      },
      {
       "output_type": "stream",
       "stream": "stderr",
       "text": [
        "DEBUG:root:About to add Location({u'loc': {u'type': u'Point', u'coordinates': [-122.0865501, 37.3903768]}, u'fmt_time': u'2015-08-26 21:42:16.753000-07:00', u'altitude': 0, u'ts': 1440650536.753, u'longitude': -122.0865501, u'latitude': 37.3903768, '_id': ObjectId('55de9eb87d65cb39ee9864e0'), u'heading': 0, u'sensed_speed': 0, u'accuracy': 45.0}) to line_string \n"
       ]
      },
      {
       "output_type": "stream",
       "stream": "stderr",
       "text": [
        "DEBUG:root:About to add Location({u'loc': {u'type': u'Point', u'coordinates': [-122.0866305, 37.3903306]}, u'fmt_time': u'2015-08-26 21:42:48.581000-07:00', u'altitude': 0, u'ts': 1440650568.581, u'longitude': -122.0866305, u'latitude': 37.3903306, '_id': ObjectId('55de9eb87d65cb39ee9864e3'), u'heading': 0, u'sensed_speed': 0, u'accuracy': 36.0}) to line_string \n"
       ]
      },
      {
       "output_type": "stream",
       "stream": "stderr",
       "text": [
        "DEBUG:root:About to add Location({u'loc': {u'type': u'Point', u'coordinates': [-122.0864045, 37.3905444]}, u'fmt_time': u'2015-08-26 21:43:20.404000-07:00', u'altitude': 0, u'ts': 1440650600.404, u'longitude': -122.0864045, u'latitude': 37.3905444, '_id': ObjectId('55de9eb87d65cb39ee9864e6'), u'heading': 0, u'sensed_speed': 0, u'accuracy': 31.5}) to line_string \n"
       ]
      },
      {
       "output_type": "stream",
       "stream": "stderr",
       "text": [
        "DEBUG:root:{\"features\": [{\"geometry\": {\"coordinates\": [-122.0858364, 37.3916055], \"type\": \"Point\"}, \"id\": \"5603ae0cf6858f0cbbb60547\", \"properties\": {\"duration\": 82566.31999993324, \"enter_fmt_time\": \"2015-08-25 18:09:32.721000-07:00\", \"enter_ts\": 1440551372.721, \"exit_fmt_time\": \"2015-08-26 17:05:39.041000-07:00\", \"exit_ts\": 1440633939.041, \"feature_type\": \"place\", \"source\": \"DwellSegmentationTimeFilter\"}, \"type\": \"Feature\"}, {\"geometry\": {\"coordinates\": [-122.0877097, 37.3911093], \"type\": \"Point\"}, \"id\": \"5603ae0cf6858f0cbbb60549\", \"properties\": {\"duration\": 960.5989999771118, \"enter_fmt_time\": \"2015-08-26 17:05:56.010000-07:00\", \"enter_ts\": 1440633956.01, \"exit_fmt_time\": \"2015-08-26 17:21:56.609000-07:00\", \"exit_ts\": 1440634916.609, \"feature_type\": \"place\", \"source\": \"DwellSegmentationTimeFilter\"}, \"type\": \"Feature\"}], \"type\": \"FeatureCollection\"}\n"
       ]
      },
      {
       "output_type": "stream",
       "stream": "stderr",
       "text": [
        "DEBUG:root:{\"features\": [{\"geometry\": {\"coordinates\": [-122.0877097, 37.3911093], \"type\": \"Point\"}, \"id\": \"5603ae0cf6858f0cbbb60549\", \"properties\": {\"duration\": 960.5989999771118, \"enter_fmt_time\": \"2015-08-26 17:05:56.010000-07:00\", \"enter_ts\": 1440633956.01, \"exit_fmt_time\": \"2015-08-26 17:21:56.609000-07:00\", \"exit_ts\": 1440634916.609, \"feature_type\": \"place\", \"source\": \"DwellSegmentationTimeFilter\"}, \"type\": \"Feature\"}, {\"geometry\": {\"coordinates\": [-122.0862761, 37.3909483], \"type\": \"Point\"}, \"id\": \"5603ae0cf6858f0cbbb6054b\", \"properties\": {\"duration\": 3891.598999977112, \"enter_fmt_time\": \"2015-08-26 17:23:30.317000-07:00\", \"enter_ts\": 1440635010.317, \"exit_fmt_time\": \"2015-08-26 18:28:21.916000-07:00\", \"exit_ts\": 1440638901.916, \"feature_type\": \"place\", \"source\": \"DwellSegmentationTimeFilter\"}, \"type\": \"Feature\"}], \"type\": \"FeatureCollection\"}\n"
       ]
      },
      {
       "output_type": "stream",
       "stream": "stderr",
       "text": [
        "DEBUG:root:{\"features\": [{\"geometry\": {\"coordinates\": [-122.0862761, 37.3909483], \"type\": \"Point\"}, \"id\": \"5603ae0cf6858f0cbbb6054b\", \"properties\": {\"duration\": 3891.598999977112, \"enter_fmt_time\": \"2015-08-26 17:23:30.317000-07:00\", \"enter_ts\": 1440635010.317, \"exit_fmt_time\": \"2015-08-26 18:28:21.916000-07:00\", \"exit_ts\": 1440638901.916, \"feature_type\": \"place\", \"source\": \"DwellSegmentationTimeFilter\"}, \"type\": \"Feature\"}, {\"geometry\": {\"coordinates\": [-122.0864045, 37.3905444], \"type\": \"Point\"}, \"id\": \"5603ae0cf6858f0cbbb6054d\", \"properties\": {\"duration\": 38139.26799988747, \"enter_fmt_time\": \"2015-08-26 21:43:20.404000-07:00\", \"enter_ts\": 1440650600.404, \"exit_fmt_time\": \"2015-08-27 08:18:59.672000-07:00\", \"exit_ts\": 1440688739.672, \"feature_type\": \"place\", \"source\": \"DwellSegmentationTimeFilter\"}, \"type\": \"Feature\"}, {\"features\": [{\"features\": [{\"geometry\": {\"coordinates\": [-122.0850267, 37.3898613], \"type\": \"Point\"}, \"id\": \"55de9e8a7d65cb39ee98623e\", \"properties\": {\"accuracy\": 118.093, \"altitude\": 0, \"feature_type\": \"location\", \"fmt_time\": \"2015-08-26 18:28:21.916000-07:00\", \"heading\": 0, \"latitude\": 37.3898613, \"longitude\": -122.0850267, \"sensed_speed\": 0, \"ts\": 1440638901.916}, \"type\": \"Feature\"}, {\"geometry\": {\"coordinates\": [-122.0847573, 37.3898617], \"type\": \"Point\"}, \"id\": \"55de9e8b7d65cb39ee986241\", \"properties\": {\"accuracy\": 37.5, \"altitude\": 0, \"feature_type\": \"location\", \"fmt_time\": \"2015-08-26 18:28:53.713000-07:00\", \"heading\": 0, \"latitude\": 37.3898617, \"longitude\": -122.0847573, \"sensed_speed\": 0, \"ts\": 1440638933.713}, \"type\": \"Feature\"}, {\"geometry\": {\"coordinates\": [-122.0840233, 37.3890777], \"type\": \"Point\"}, \"id\": \"55de9e8b7d65cb39ee986244\", \"properties\": {\"accuracy\": 35.134, \"altitude\": 0, \"feature_type\": \"location\", \"fmt_time\": \"2015-08-26 18:29:25.550000-07:00\", \"heading\": 0, \"latitude\": 37.3890777, \"longitude\": -122.0840233, \"sensed_speed\": 0, \"ts\": 1440638965.55}, \"type\": \"Feature\"}, {\"geometry\": {\"coordinates\": [-122.083988, 37.3890865], \"type\": \"Point\"}, \"id\": \"55de9e8b7d65cb39ee986247\", \"properties\": {\"accuracy\": 34.295, \"altitude\": 0, \"feature_type\": \"location\", \"fmt_time\": \"2015-08-26 18:29:57.371000-07:00\", \"heading\": 0, \"latitude\": 37.3890865, \"longitude\": -122.083988, \"sensed_speed\": 0, \"ts\": 1440638997.371}, \"type\": \"Feature\"}, {\"geometry\": {\"coordinates\": [-122.0834042, 37.3891734], \"type\": \"Point\"}, \"id\": \"55de9e8b7d65cb39ee98624a\", \"properties\": {\"accuracy\": 79.5, \"altitude\": 0, \"feature_type\": \"location\", \"fmt_time\": \"2015-08-26 18:30:29.192000-07:00\", \"heading\": 0, \"latitude\": 37.3891734, \"longitude\": -122.0834042, \"sensed_speed\": 0, \"ts\": 1440639029.192}, \"type\": \"Feature\"}, {\"geometry\": {\"coordinates\": [-122.0828101, 37.3888188], \"type\": \"Point\"}, \"id\": \"55de9e8b7d65cb39ee98624d\", \"properties\": {\"accuracy\": 67.987, \"altitude\": 0, \"feature_type\": \"location\", \"fmt_time\": \"2015-08-26 18:31:05.164000-07:00\", \"heading\": 0, \"latitude\": 37.3888188, \"longitude\": -122.0828101, \"sensed_speed\": 0, \"ts\": 1440639065.164}, \"type\": \"Feature\"}, {\"geometry\": {\"coordinates\": [-122.0828101, 37.3888188], \"type\": \"Point\"}, \"id\": \"55de9e8c7d65cb39ee986251\", \"properties\": {\"accuracy\": 163.129, \"altitude\": 0, \"feature_type\": \"location\", \"fmt_time\": \"2015-08-26 18:32:08.593000-07:00\", \"heading\": 0, \"latitude\": 37.3888188, \"longitude\": -122.0828101, \"sensed_speed\": 0, \"ts\": 1440639128.593}, \"type\": \"Feature\"}, {\"geometry\": {\"coordinates\": [-122.083951, 37.3891767], \"type\": \"Point\"}, \"id\": \"55de9eb57d65cb39ee9864b9\", \"properties\": {\"accuracy\": 69.743, \"altitude\": 0, \"feature_type\": \"location\", \"fmt_time\": \"2015-08-26 21:35:51.399000-07:00\", \"heading\": 0, \"latitude\": 37.3891767, \"longitude\": -122.083951, \"sensed_speed\": 0, \"ts\": 1440650151.399}, \"type\": \"Feature\"}, {\"geometry\": {\"coordinates\": [-122.0839318, 37.3891863], \"type\": \"Point\"}, \"id\": \"55de9eb57d65cb39ee9864bc\", \"properties\": {\"accuracy\": 71.362, \"altitude\": 0, \"feature_type\": \"location\", \"fmt_time\": \"2015-08-26 21:36:21.279000-07:00\", \"heading\": 0, \"latitude\": 37.3891863, \"longitude\": -122.0839318, \"sensed_speed\": 0, \"ts\": 1440650181.279}, \"type\": \"Feature\"}, {\"geometry\": {\"coordinates\": [-122.0832482, 37.3892482], \"type\": \"Point\"}, \"id\": \"55de9eb67d65cb39ee9864bf\", \"properties\": {\"accuracy\": 114.988, \"altitude\": 0, \"feature_type\": \"location\", \"fmt_time\": \"2015-08-26 21:36:51.498000-07:00\", \"heading\": 0, \"latitude\": 37.3892482, \"longitude\": -122.0832482, \"sensed_speed\": 0, \"ts\": 1440650211.498}, \"type\": \"Feature\"}, {\"geometry\": {\"coordinates\": [-122.0838802, 37.3894349], \"type\": \"Point\"}, \"id\": \"55de9eb67d65cb39ee9864c2\", \"properties\": {\"accuracy\": 49.5, \"altitude\": 0, \"feature_type\": \"location\", \"fmt_time\": \"2015-08-26 21:37:14.084000-07:00\", \"heading\": 0, \"latitude\": 37.3894349, \"longitude\": -122.0838802, \"sensed_speed\": 0, \"ts\": 1440650234.084}, \"type\": \"Feature\"}, {\"geometry\": {\"coordinates\": [-122.0844962, 37.3902504], \"type\": \"Point\"}, \"id\": \"55de9eb67d65cb39ee9864c5\", \"properties\": {\"accuracy\": 33.0, \"altitude\": 0, \"feature_type\": \"location\", \"fmt_time\": \"2015-08-26 21:37:49.993000-07:00\", \"heading\": 0, \"latitude\": 37.3902504, \"longitude\": -122.0844962, \"sensed_speed\": 0, \"ts\": 1440650269.993}, \"type\": \"Feature\"}, {\"geometry\": {\"coordinates\": [-122.0845079, 37.3902375], \"type\": \"Point\"}, \"id\": \"55de9eb67d65cb39ee9864c8\", \"properties\": {\"accuracy\": 129.02, \"altitude\": 0, \"feature_type\": \"location\", \"fmt_time\": \"2015-08-26 21:38:32.183000-07:00\", \"heading\": 0, \"latitude\": 37.3902375, \"longitude\": -122.0845079, \"sensed_speed\": 0, \"ts\": 1440650312.183}, \"type\": \"Feature\"}, {\"geometry\": {\"coordinates\": [-122.0845059, 37.3900956], \"type\": \"Point\"}, \"id\": \"55de9eb67d65cb39ee9864cb\", \"properties\": {\"accuracy\": 116.703, \"altitude\": 0, \"feature_type\": \"location\", \"fmt_time\": \"2015-08-26 21:39:02.170000-07:00\", \"heading\": 0, \"latitude\": 37.3900956, \"longitude\": -122.0845059, \"sensed_speed\": 0, \"ts\": 1440650342.17}, \"type\": \"Feature\"}, {\"geometry\": {\"coordinates\": [-122.0844275, 37.3898317], \"type\": \"Point\"}, \"id\": \"55de9eb67d65cb39ee9864ce\", \"properties\": {\"accuracy\": 96.948, \"altitude\": 0, \"feature_type\": \"location\", \"fmt_time\": \"2015-08-26 21:39:21.681000-07:00\", \"heading\": 0, \"latitude\": 37.3898317, \"longitude\": -122.0844275, \"sensed_speed\": 0, \"ts\": 1440650361.681}, \"type\": \"Feature\"}, {\"geometry\": {\"coordinates\": [-122.0842929, 37.3892491], \"type\": \"Point\"}, \"id\": \"55de9eb77d65cb39ee9864d1\", \"properties\": {\"accuracy\": 61.654, \"altitude\": 0, \"feature_type\": \"location\", \"fmt_time\": \"2015-08-26 21:39:53.534000-07:00\", \"heading\": 0, \"latitude\": 37.3892491, \"longitude\": -122.0842929, \"sensed_speed\": 0, \"ts\": 1440650393.534}, \"type\": \"Feature\"}, {\"geometry\": {\"coordinates\": [-122.0850528, 37.3898745], \"type\": \"Point\"}, \"id\": \"55de9eb77d65cb39ee9864d4\", \"properties\": {\"accuracy\": 30.0, \"altitude\": 0, \"feature_type\": \"location\", \"fmt_time\": \"2015-08-26 21:40:25.349000-07:00\", \"heading\": 0, \"latitude\": 37.3898745, \"longitude\": -122.0850528, \"sensed_speed\": 0, \"ts\": 1440650425.349}, \"type\": \"Feature\"}, {\"geometry\": {\"coordinates\": [-122.085279, 37.389945], \"type\": \"Point\"}, \"id\": \"55de9eb77d65cb39ee9864d7\", \"properties\": {\"accuracy\": 45.0, \"altitude\": 0, \"feature_type\": \"location\", \"fmt_time\": \"2015-08-26 21:40:57.184000-07:00\", \"heading\": 0, \"latitude\": 37.389945, \"longitude\": -122.085279, \"sensed_speed\": 0, \"ts\": 1440650457.184}, \"type\": \"Feature\"}, {\"geometry\": {\"coordinates\": [-122.0860788, 37.3901256], \"type\": \"Point\"}, \"id\": \"55de9eb77d65cb39ee9864da\", \"properties\": {\"accuracy\": 40.5, \"altitude\": 0, \"feature_type\": \"location\", \"fmt_time\": \"2015-08-26 21:41:29.011000-07:00\", \"heading\": 0, \"latitude\": 37.3901256, \"longitude\": -122.0860788, \"sensed_speed\": 0, \"ts\": 1440650489.011}, \"type\": \"Feature\"}, {\"geometry\": {\"coordinates\": [-122.0862834, 37.3904012], \"type\": \"Point\"}, \"id\": \"55de9eb77d65cb39ee9864dd\", \"properties\": {\"accuracy\": 48.0, \"altitude\": 0, \"feature_type\": \"location\", \"fmt_time\": \"2015-08-26 21:42:00.844000-07:00\", \"heading\": 0, \"latitude\": 37.3904012, \"longitude\": -122.0862834, \"sensed_speed\": 0, \"ts\": 1440650520.844}, \"type\": \"Feature\"}, {\"geometry\": {\"coordinates\": [-122.0865501, 37.3903768], \"type\": \"Point\"}, \"id\": \"55de9eb87d65cb39ee9864e0\", \"properties\": {\"accuracy\": 45.0, \"altitude\": 0, \"feature_type\": \"location\", \"fmt_time\": \"2015-08-26 21:42:16.753000-07:00\", \"heading\": 0, \"latitude\": 37.3903768, \"longitude\": -122.0865501, \"sensed_speed\": 0, \"ts\": 1440650536.753}, \"type\": \"Feature\"}, {\"geometry\": {\"coordinates\": [-122.0866305, 37.3903306], \"type\": \"Point\"}, \"id\": \"55de9eb87d65cb39ee9864e3\", \"properties\": {\"accuracy\": 36.0, \"altitude\": 0, \"feature_type\": \"location\", \"fmt_time\": \"2015-08-26 21:42:48.581000-07:00\", \"heading\": 0, \"latitude\": 37.3903306, \"longitude\": -122.0866305, \"sensed_speed\": 0, \"ts\": 1440650568.581}, \"type\": \"Feature\"}, {\"geometry\": {\"coordinates\": [-122.0864045, 37.3905444], \"type\": \"Point\"}, \"id\": \"55de9eb87d65cb39ee9864e6\", \"properties\": {\"accuracy\": 31.5, \"altitude\": 0, \"feature_type\": \"location\", \"fmt_time\": \"2015-08-26 21:43:20.404000-07:00\", \"heading\": 0, \"latitude\": 37.3905444, \"longitude\": -122.0864045, \"sensed_speed\": 0, \"ts\": 1440650600.404}, \"type\": \"Feature\"}], \"type\": \"FeatureCollection\"}, {\"geometry\": {\"coordinates\": [[-122.0862761, 37.3909483], [-122.0850267, 37.3898613], [-122.0847573, 37.3898617], [-122.0840233, 37.3890777], [-122.083988, 37.3890865], [-122.0834042, 37.3891734], [-122.0828101, 37.3888188], [-122.0828101, 37.3888188], [-122.083951, 37.3891767], [-122.0839318, 37.3891863], [-122.0832482, 37.3892482], [-122.0838802, 37.3894349], [-122.0844962, 37.3902504], [-122.0845079, 37.3902375], [-122.0845059, 37.3900956], [-122.0844275, 37.3898317], [-122.0842929, 37.3892491], [-122.0850528, 37.3898745], [-122.085279, 37.389945], [-122.0860788, 37.3901256], [-122.0862834, 37.3904012], [-122.0865501, 37.3903768], [-122.0866305, 37.3903306], [-122.0864045, 37.3905444]], \"type\": \"LineString\"}, \"id\": \"5603ae0ff6858f0cbbb60580\", \"properties\": {\"duration\": 11698.488000154495, \"end_fmt_time\": \"2015-08-26 21:43:20.404000-07:00\", \"end_ts\": 1440650600.404, \"feature_type\": \"section\", \"sensed_mode\": \"MotionTypes.ON_FOOT\", \"source\": \"SmoothedHighConfidenceMotion\", \"start_fmt_time\": \"2015-08-26 18:28:21.916000-07:00\", \"start_ts\": 1440638901.916}, \"type\": \"Feature\"}], \"type\": \"FeatureCollection\"}], \"type\": \"FeatureCollection\"}\n"
       ]
      },
      {
       "html": [
        "<iframe srcdoc=\"<table width=&quot;100%&quot;>\n",
        "<tr><td>&lt;iframe srcdoc=&quot;&lt;!DOCTYPE html&gt;\n",
        "&lt;head&gt;\n",
        "   &lt;meta http-equiv=&amp;quot;content-type&amp;quot; content=&amp;quot;text/html; charset=UTF-8&amp;quot; /&gt;\n",
        "   &lt;link rel=&amp;quot;stylesheet&amp;quot; href=&amp;quot;https://cdnjs.cloudflare.com/ajax/libs/leaflet/0.7.3/leaflet.css&amp;quot; /&gt;\n",
        "   &lt;script src=&amp;quot;https://cdnjs.cloudflare.com/ajax/libs/leaflet/0.7.3/leaflet.js&amp;quot;&gt;&lt;/script&gt;\n",
        "   &lt;script src=&amp;quot;https://cdnjs.cloudflare.com/ajax/libs/d3/3.5.5/d3.min.js&amp;quot; charset=&amp;quot;utf-8&amp;quot;&gt;&lt;/script&gt;\n",
        "   &lt;script src=&amp;quot;https://cdnjs.cloudflare.com/ajax/libs/queue-async/1.0.7/queue.min.js&amp;quot;&gt;&lt;/script&gt;\n",
        "\n",
        "   \n",
        "   \n",
        "   \n",
        "   \n",
        "\n",
        "   &lt;style&gt;\n",
        "\n",
        "      html, body {\n",
        "        width: 100%;\n",
        "        height: 100%;\n",
        "        margin: 0;\n",
        "        padding: 0;\n",
        "      }\n",
        "\n",
        "      .legend {\n",
        "          padding: 0px 0px;\n",
        "          font: 10px sans-serif;\n",
        "          background: white;\n",
        "          background: rgba(255,255,255,0.8);\n",
        "          box-shadow: 0 0 15px rgba(0,0,0,0.2);\n",
        "          border-radius: 5px;\n",
        "      }\n",
        "\n",
        "      .key path {\n",
        "        display: none;\n",
        "      }\n",
        "\n",
        "   &lt;/style&gt;\n",
        "&lt;/head&gt;\n",
        "\n",
        "&lt;body&gt;\n",
        "\n",
        "   &lt;div id=&amp;quot;map&amp;quot; style=&amp;quot;width: 100%; height: 100%&amp;quot;&gt;&lt;/div&gt;\n",
        "\n",
        "   &lt;script&gt;\n",
        "\n",
        "      queue()\n",
        "          .defer(function(callback){callback(null, JSON.parse('{&amp;quot;type&amp;quot;: &amp;quot;FeatureCollection&amp;quot;, &amp;quot;features&amp;quot;: [{&amp;quot;geometry&amp;quot;: {&amp;quot;type&amp;quot;: &amp;quot;Point&amp;quot;, &amp;quot;coordinates&amp;quot;: [-122.0858364, 37.3916055]}, &amp;quot;type&amp;quot;: &amp;quot;Feature&amp;quot;, &amp;quot;id&amp;quot;: &amp;quot;5603ae0cf6858f0cbbb60547&amp;quot;, &amp;quot;properties&amp;quot;: {&amp;quot;enter_fmt_time&amp;quot;: &amp;quot;2015-08-25 18:09:32.721000-07:00&amp;quot;, &amp;quot;feature_type&amp;quot;: &amp;quot;place&amp;quot;, &amp;quot;exit_fmt_time&amp;quot;: &amp;quot;2015-08-26 17:05:39.041000-07:00&amp;quot;, &amp;quot;source&amp;quot;: &amp;quot;DwellSegmentationTimeFilter&amp;quot;, &amp;quot;enter_ts&amp;quot;: 1440551372.721, &amp;quot;duration&amp;quot;: 82566.31999993324, &amp;quot;exit_ts&amp;quot;: 1440633939.041}}, {&amp;quot;geometry&amp;quot;: {&amp;quot;type&amp;quot;: &amp;quot;Point&amp;quot;, &amp;quot;coordinates&amp;quot;: [-122.0877097, 37.3911093]}, &amp;quot;type&amp;quot;: &amp;quot;Feature&amp;quot;, &amp;quot;id&amp;quot;: &amp;quot;5603ae0cf6858f0cbbb60549&amp;quot;, &amp;quot;properties&amp;quot;: {&amp;quot;enter_fmt_time&amp;quot;: &amp;quot;2015-08-26 17:05:56.010000-07:00&amp;quot;, &amp;quot;feature_type&amp;quot;: &amp;quot;place&amp;quot;, &amp;quot;exit_fmt_time&amp;quot;: &amp;quot;2015-08-26 17:21:56.609000-07:00&amp;quot;, &amp;quot;source&amp;quot;: &amp;quot;DwellSegmentationTimeFilter&amp;quot;, &amp;quot;enter_ts&amp;quot;: 1440633956.01, &amp;quot;duration&amp;quot;: 960.5989999771118, &amp;quot;exit_ts&amp;quot;: 1440634916.609}}]}'))})\n",
        "          .await(makeMap)\n",
        "\n",
        "      function onEachFeature(feature, layer) {\n",
        "          // does this feature have a property named popupContent?\n",
        "          if (feature.properties &amp;&amp; feature.properties.popupContent) {\n",
        "              layer.bindPopup(feature.properties.popupContent);\n",
        "              }\n",
        "          };\n",
        "\n",
        "      function makeMap(error, gjson_1) {\n",
        "\n",
        "          \n",
        "\n",
        "          \n",
        "\n",
        "          function matchKey(datapoint, key_variable){\n",
        "              if (typeof key_variable[0][datapoint] === 'undefined') {\n",
        "                  return null;\n",
        "              }\n",
        "              else {\n",
        "                  return parseFloat(key_variable[0][datapoint]);\n",
        "              };\n",
        "          };\n",
        "\n",
        "          \n",
        "\n",
        "          var map = L.map('map').setView([0, 0], 1);\n",
        "\n",
        "          L.tileLayer('https://{s}.tile.openstreetmap.org/{z}/{x}/{y}.png', {\n",
        "              maxZoom: 18,\n",
        "              minZoom: 1,\n",
        "              attribution: 'Map data (c) &lt;a href=&amp;quot;http://openstreetmap.org&amp;quot;&gt;OpenStreetMap&lt;/a&gt; contributors'\n",
        "          }).addTo(map);\n",
        "\n",
        "          \n",
        "          function style_1(feature) {\n",
        "    return {\n",
        "        fillColor: 'blue',\n",
        "        weight: 1,\n",
        "        opacity: 1,\n",
        "        color: 'black',\n",
        "        fillOpacity: 0.6\n",
        "    };\n",
        "}\n",
        "          \n",
        "\n",
        "          \n",
        "          gJson_layer_1 = L.geoJson(gjson_1, {style: style_1,onEachFeature: onEachFeature}).addTo(map)\n",
        "          \n",
        "\n",
        "          \n",
        "\n",
        "          \n",
        "\n",
        "          \n",
        "\n",
        "          \n",
        "\n",
        "          \n",
        "\n",
        "          \n",
        "\n",
        "          var autobounds = L.featureGroup([]).getBounds()\n",
        "\n",
        "\n",
        "\n",
        "\n",
        "\n",
        "map.fitBounds(autobounds,\n",
        "    {&amp;quot;padding&amp;quot;: [30, 30]}\n",
        ");\n",
        "\n",
        "      };\n",
        "\n",
        "   &lt;/script&gt;\n",
        "&lt;/body&gt;&quot; style=&quot;width: 100%; height: 510px; border: none&quot;&gt;&lt;/iframe&gt;</td></tr>\n",
        "<tr><td>&lt;iframe srcdoc=&quot;&lt;!DOCTYPE html&gt;\n",
        "&lt;head&gt;\n",
        "   &lt;meta http-equiv=&amp;quot;content-type&amp;quot; content=&amp;quot;text/html; charset=UTF-8&amp;quot; /&gt;\n",
        "   &lt;link rel=&amp;quot;stylesheet&amp;quot; href=&amp;quot;https://cdnjs.cloudflare.com/ajax/libs/leaflet/0.7.3/leaflet.css&amp;quot; /&gt;\n",
        "   &lt;script src=&amp;quot;https://cdnjs.cloudflare.com/ajax/libs/leaflet/0.7.3/leaflet.js&amp;quot;&gt;&lt;/script&gt;\n",
        "   &lt;script src=&amp;quot;https://cdnjs.cloudflare.com/ajax/libs/d3/3.5.5/d3.min.js&amp;quot; charset=&amp;quot;utf-8&amp;quot;&gt;&lt;/script&gt;\n",
        "   &lt;script src=&amp;quot;https://cdnjs.cloudflare.com/ajax/libs/queue-async/1.0.7/queue.min.js&amp;quot;&gt;&lt;/script&gt;\n",
        "\n",
        "   \n",
        "   \n",
        "   \n",
        "   \n",
        "\n",
        "   &lt;style&gt;\n",
        "\n",
        "      html, body {\n",
        "        width: 100%;\n",
        "        height: 100%;\n",
        "        margin: 0;\n",
        "        padding: 0;\n",
        "      }\n",
        "\n",
        "      .legend {\n",
        "          padding: 0px 0px;\n",
        "          font: 10px sans-serif;\n",
        "          background: white;\n",
        "          background: rgba(255,255,255,0.8);\n",
        "          box-shadow: 0 0 15px rgba(0,0,0,0.2);\n",
        "          border-radius: 5px;\n",
        "      }\n",
        "\n",
        "      .key path {\n",
        "        display: none;\n",
        "      }\n",
        "\n",
        "   &lt;/style&gt;\n",
        "&lt;/head&gt;\n",
        "\n",
        "&lt;body&gt;\n",
        "\n",
        "   &lt;div id=&amp;quot;map&amp;quot; style=&amp;quot;width: 100%; height: 100%&amp;quot;&gt;&lt;/div&gt;\n",
        "\n",
        "   &lt;script&gt;\n",
        "\n",
        "      queue()\n",
        "          .defer(function(callback){callback(null, JSON.parse('{&amp;quot;type&amp;quot;: &amp;quot;FeatureCollection&amp;quot;, &amp;quot;features&amp;quot;: [{&amp;quot;geometry&amp;quot;: {&amp;quot;type&amp;quot;: &amp;quot;Point&amp;quot;, &amp;quot;coordinates&amp;quot;: [-122.0877097, 37.3911093]}, &amp;quot;type&amp;quot;: &amp;quot;Feature&amp;quot;, &amp;quot;id&amp;quot;: &amp;quot;5603ae0cf6858f0cbbb60549&amp;quot;, &amp;quot;properties&amp;quot;: {&amp;quot;enter_fmt_time&amp;quot;: &amp;quot;2015-08-26 17:05:56.010000-07:00&amp;quot;, &amp;quot;feature_type&amp;quot;: &amp;quot;place&amp;quot;, &amp;quot;exit_fmt_time&amp;quot;: &amp;quot;2015-08-26 17:21:56.609000-07:00&amp;quot;, &amp;quot;source&amp;quot;: &amp;quot;DwellSegmentationTimeFilter&amp;quot;, &amp;quot;enter_ts&amp;quot;: 1440633956.01, &amp;quot;duration&amp;quot;: 960.5989999771118, &amp;quot;exit_ts&amp;quot;: 1440634916.609}}, {&amp;quot;geometry&amp;quot;: {&amp;quot;type&amp;quot;: &amp;quot;Point&amp;quot;, &amp;quot;coordinates&amp;quot;: [-122.0862761, 37.3909483]}, &amp;quot;type&amp;quot;: &amp;quot;Feature&amp;quot;, &amp;quot;id&amp;quot;: &amp;quot;5603ae0cf6858f0cbbb6054b&amp;quot;, &amp;quot;properties&amp;quot;: {&amp;quot;enter_fmt_time&amp;quot;: &amp;quot;2015-08-26 17:23:30.317000-07:00&amp;quot;, &amp;quot;feature_type&amp;quot;: &amp;quot;place&amp;quot;, &amp;quot;exit_fmt_time&amp;quot;: &amp;quot;2015-08-26 18:28:21.916000-07:00&amp;quot;, &amp;quot;source&amp;quot;: &amp;quot;DwellSegmentationTimeFilter&amp;quot;, &amp;quot;enter_ts&amp;quot;: 1440635010.317, &amp;quot;duration&amp;quot;: 3891.598999977112, &amp;quot;exit_ts&amp;quot;: 1440638901.916}}]}'))})\n",
        "          .await(makeMap)\n",
        "\n",
        "      function onEachFeature(feature, layer) {\n",
        "          // does this feature have a property named popupContent?\n",
        "          if (feature.properties &amp;&amp; feature.properties.popupContent) {\n",
        "              layer.bindPopup(feature.properties.popupContent);\n",
        "              }\n",
        "          };\n",
        "\n",
        "      function makeMap(error, gjson_1) {\n",
        "\n",
        "          \n",
        "\n",
        "          \n",
        "\n",
        "          function matchKey(datapoint, key_variable){\n",
        "              if (typeof key_variable[0][datapoint] === 'undefined') {\n",
        "                  return null;\n",
        "              }\n",
        "              else {\n",
        "                  return parseFloat(key_variable[0][datapoint]);\n",
        "              };\n",
        "          };\n",
        "\n",
        "          \n",
        "\n",
        "          var map = L.map('map').setView([0, 0], 1);\n",
        "\n",
        "          L.tileLayer('https://{s}.tile.openstreetmap.org/{z}/{x}/{y}.png', {\n",
        "              maxZoom: 18,\n",
        "              minZoom: 1,\n",
        "              attribution: 'Map data (c) &lt;a href=&amp;quot;http://openstreetmap.org&amp;quot;&gt;OpenStreetMap&lt;/a&gt; contributors'\n",
        "          }).addTo(map);\n",
        "\n",
        "          \n",
        "          function style_1(feature) {\n",
        "    return {\n",
        "        fillColor: 'blue',\n",
        "        weight: 1,\n",
        "        opacity: 1,\n",
        "        color: 'black',\n",
        "        fillOpacity: 0.6\n",
        "    };\n",
        "}\n",
        "          \n",
        "\n",
        "          \n",
        "          gJson_layer_1 = L.geoJson(gjson_1, {style: style_1,onEachFeature: onEachFeature}).addTo(map)\n",
        "          \n",
        "\n",
        "          \n",
        "\n",
        "          \n",
        "\n",
        "          \n",
        "\n",
        "          \n",
        "\n",
        "          \n",
        "\n",
        "          \n",
        "\n",
        "          var autobounds = L.featureGroup([]).getBounds()\n",
        "\n",
        "\n",
        "\n",
        "\n",
        "\n",
        "map.fitBounds(autobounds,\n",
        "    {&amp;quot;padding&amp;quot;: [30, 30]}\n",
        ");\n",
        "\n",
        "      };\n",
        "\n",
        "   &lt;/script&gt;\n",
        "&lt;/body&gt;&quot; style=&quot;width: 100%; height: 510px; border: none&quot;&gt;&lt;/iframe&gt;</td></tr>\n",
        "<tr><td>&lt;iframe srcdoc=&quot;&lt;!DOCTYPE html&gt;\n",
        "&lt;head&gt;\n",
        "   &lt;meta http-equiv=&amp;quot;content-type&amp;quot; content=&amp;quot;text/html; charset=UTF-8&amp;quot; /&gt;\n",
        "   &lt;link rel=&amp;quot;stylesheet&amp;quot; href=&amp;quot;https://cdnjs.cloudflare.com/ajax/libs/leaflet/0.7.3/leaflet.css&amp;quot; /&gt;\n",
        "   &lt;script src=&amp;quot;https://cdnjs.cloudflare.com/ajax/libs/leaflet/0.7.3/leaflet.js&amp;quot;&gt;&lt;/script&gt;\n",
        "   &lt;script src=&amp;quot;https://cdnjs.cloudflare.com/ajax/libs/d3/3.5.5/d3.min.js&amp;quot; charset=&amp;quot;utf-8&amp;quot;&gt;&lt;/script&gt;\n",
        "   &lt;script src=&amp;quot;https://cdnjs.cloudflare.com/ajax/libs/queue-async/1.0.7/queue.min.js&amp;quot;&gt;&lt;/script&gt;\n",
        "\n",
        "   \n",
        "   \n",
        "   \n",
        "   \n",
        "\n",
        "   &lt;style&gt;\n",
        "\n",
        "      html, body {\n",
        "        width: 100%;\n",
        "        height: 100%;\n",
        "        margin: 0;\n",
        "        padding: 0;\n",
        "      }\n",
        "\n",
        "      .legend {\n",
        "          padding: 0px 0px;\n",
        "          font: 10px sans-serif;\n",
        "          background: white;\n",
        "          background: rgba(255,255,255,0.8);\n",
        "          box-shadow: 0 0 15px rgba(0,0,0,0.2);\n",
        "          border-radius: 5px;\n",
        "      }\n",
        "\n",
        "      .key path {\n",
        "        display: none;\n",
        "      }\n",
        "\n",
        "   &lt;/style&gt;\n",
        "&lt;/head&gt;\n",
        "\n",
        "&lt;body&gt;\n",
        "\n",
        "   &lt;div id=&amp;quot;map&amp;quot; style=&amp;quot;width: 100%; height: 100%&amp;quot;&gt;&lt;/div&gt;\n",
        "\n",
        "   &lt;script&gt;\n",
        "\n",
        "      queue()\n",
        "          .defer(function(callback){callback(null, JSON.parse('{&amp;quot;type&amp;quot;: &amp;quot;FeatureCollection&amp;quot;, &amp;quot;features&amp;quot;: [{&amp;quot;geometry&amp;quot;: {&amp;quot;type&amp;quot;: &amp;quot;Point&amp;quot;, &amp;quot;coordinates&amp;quot;: [-122.0862761, 37.3909483]}, &amp;quot;type&amp;quot;: &amp;quot;Feature&amp;quot;, &amp;quot;id&amp;quot;: &amp;quot;5603ae0cf6858f0cbbb6054b&amp;quot;, &amp;quot;properties&amp;quot;: {&amp;quot;enter_fmt_time&amp;quot;: &amp;quot;2015-08-26 17:23:30.317000-07:00&amp;quot;, &amp;quot;feature_type&amp;quot;: &amp;quot;place&amp;quot;, &amp;quot;exit_fmt_time&amp;quot;: &amp;quot;2015-08-26 18:28:21.916000-07:00&amp;quot;, &amp;quot;source&amp;quot;: &amp;quot;DwellSegmentationTimeFilter&amp;quot;, &amp;quot;enter_ts&amp;quot;: 1440635010.317, &amp;quot;duration&amp;quot;: 3891.598999977112, &amp;quot;exit_ts&amp;quot;: 1440638901.916}}, {&amp;quot;geometry&amp;quot;: {&amp;quot;type&amp;quot;: &amp;quot;Point&amp;quot;, &amp;quot;coordinates&amp;quot;: [-122.0864045, 37.3905444]}, &amp;quot;type&amp;quot;: &amp;quot;Feature&amp;quot;, &amp;quot;id&amp;quot;: &amp;quot;5603ae0cf6858f0cbbb6054d&amp;quot;, &amp;quot;properties&amp;quot;: {&amp;quot;enter_fmt_time&amp;quot;: &amp;quot;2015-08-26 21:43:20.404000-07:00&amp;quot;, &amp;quot;feature_type&amp;quot;: &amp;quot;place&amp;quot;, &amp;quot;exit_fmt_time&amp;quot;: &amp;quot;2015-08-27 08:18:59.672000-07:00&amp;quot;, &amp;quot;source&amp;quot;: &amp;quot;DwellSegmentationTimeFilter&amp;quot;, &amp;quot;enter_ts&amp;quot;: 1440650600.404, &amp;quot;duration&amp;quot;: 38139.26799988747, &amp;quot;exit_ts&amp;quot;: 1440688739.672}}, {&amp;quot;type&amp;quot;: &amp;quot;FeatureCollection&amp;quot;, &amp;quot;features&amp;quot;: [{&amp;quot;type&amp;quot;: &amp;quot;FeatureCollection&amp;quot;, &amp;quot;features&amp;quot;: [{&amp;quot;geometry&amp;quot;: {&amp;quot;type&amp;quot;: &amp;quot;Point&amp;quot;, &amp;quot;coordinates&amp;quot;: [-122.0850267, 37.3898613]}, &amp;quot;type&amp;quot;: &amp;quot;Feature&amp;quot;, &amp;quot;id&amp;quot;: &amp;quot;55de9e8a7d65cb39ee98623e&amp;quot;, &amp;quot;properties&amp;quot;: {&amp;quot;feature_type&amp;quot;: &amp;quot;location&amp;quot;, &amp;quot;fmt_time&amp;quot;: &amp;quot;2015-08-26 18:28:21.916000-07:00&amp;quot;, &amp;quot;altitude&amp;quot;: 0, &amp;quot;ts&amp;quot;: 1440638901.916, &amp;quot;longitude&amp;quot;: -122.0850267, &amp;quot;latitude&amp;quot;: 37.3898613, &amp;quot;heading&amp;quot;: 0, &amp;quot;sensed_speed&amp;quot;: 0, &amp;quot;accuracy&amp;quot;: 118.093}}, {&amp;quot;geometry&amp;quot;: {&amp;quot;type&amp;quot;: &amp;quot;Point&amp;quot;, &amp;quot;coordinates&amp;quot;: [-122.0847573, 37.3898617]}, &amp;quot;type&amp;quot;: &amp;quot;Feature&amp;quot;, &amp;quot;id&amp;quot;: &amp;quot;55de9e8b7d65cb39ee986241&amp;quot;, &amp;quot;properties&amp;quot;: {&amp;quot;feature_type&amp;quot;: &amp;quot;location&amp;quot;, &amp;quot;fmt_time&amp;quot;: &amp;quot;2015-08-26 18:28:53.713000-07:00&amp;quot;, &amp;quot;altitude&amp;quot;: 0, &amp;quot;ts&amp;quot;: 1440638933.713, &amp;quot;longitude&amp;quot;: -122.0847573, &amp;quot;latitude&amp;quot;: 37.3898617, &amp;quot;heading&amp;quot;: 0, &amp;quot;sensed_speed&amp;quot;: 0, &amp;quot;accuracy&amp;quot;: 37.5}}, {&amp;quot;geometry&amp;quot;: {&amp;quot;type&amp;quot;: &amp;quot;Point&amp;quot;, &amp;quot;coordinates&amp;quot;: [-122.0840233, 37.3890777]}, &amp;quot;type&amp;quot;: &amp;quot;Feature&amp;quot;, &amp;quot;id&amp;quot;: &amp;quot;55de9e8b7d65cb39ee986244&amp;quot;, &amp;quot;properties&amp;quot;: {&amp;quot;feature_type&amp;quot;: &amp;quot;location&amp;quot;, &amp;quot;fmt_time&amp;quot;: &amp;quot;2015-08-26 18:29:25.550000-07:00&amp;quot;, &amp;quot;altitude&amp;quot;: 0, &amp;quot;ts&amp;quot;: 1440638965.55, &amp;quot;longitude&amp;quot;: -122.0840233, &amp;quot;latitude&amp;quot;: 37.3890777, &amp;quot;heading&amp;quot;: 0, &amp;quot;sensed_speed&amp;quot;: 0, &amp;quot;accuracy&amp;quot;: 35.134}}, {&amp;quot;geometry&amp;quot;: {&amp;quot;type&amp;quot;: &amp;quot;Point&amp;quot;, &amp;quot;coordinates&amp;quot;: [-122.083988, 37.3890865]}, &amp;quot;type&amp;quot;: &amp;quot;Feature&amp;quot;, &amp;quot;id&amp;quot;: &amp;quot;55de9e8b7d65cb39ee986247&amp;quot;, &amp;quot;properties&amp;quot;: {&amp;quot;feature_type&amp;quot;: &amp;quot;location&amp;quot;, &amp;quot;fmt_time&amp;quot;: &amp;quot;2015-08-26 18:29:57.371000-07:00&amp;quot;, &amp;quot;altitude&amp;quot;: 0, &amp;quot;ts&amp;quot;: 1440638997.371, &amp;quot;longitude&amp;quot;: -122.083988, &amp;quot;latitude&amp;quot;: 37.3890865, &amp;quot;heading&amp;quot;: 0, &amp;quot;sensed_speed&amp;quot;: 0, &amp;quot;accuracy&amp;quot;: 34.295}}, {&amp;quot;geometry&amp;quot;: {&amp;quot;type&amp;quot;: &amp;quot;Point&amp;quot;, &amp;quot;coordinates&amp;quot;: [-122.0834042, 37.3891734]}, &amp;quot;type&amp;quot;: &amp;quot;Feature&amp;quot;, &amp;quot;id&amp;quot;: &amp;quot;55de9e8b7d65cb39ee98624a&amp;quot;, &amp;quot;properties&amp;quot;: {&amp;quot;feature_type&amp;quot;: &amp;quot;location&amp;quot;, &amp;quot;fmt_time&amp;quot;: &amp;quot;2015-08-26 18:30:29.192000-07:00&amp;quot;, &amp;quot;altitude&amp;quot;: 0, &amp;quot;ts&amp;quot;: 1440639029.192, &amp;quot;longitude&amp;quot;: -122.0834042, &amp;quot;latitude&amp;quot;: 37.3891734, &amp;quot;heading&amp;quot;: 0, &amp;quot;sensed_speed&amp;quot;: 0, &amp;quot;accuracy&amp;quot;: 79.5}}, {&amp;quot;geometry&amp;quot;: {&amp;quot;type&amp;quot;: &amp;quot;Point&amp;quot;, &amp;quot;coordinates&amp;quot;: [-122.0828101, 37.3888188]}, &amp;quot;type&amp;quot;: &amp;quot;Feature&amp;quot;, &amp;quot;id&amp;quot;: &amp;quot;55de9e8b7d65cb39ee98624d&amp;quot;, &amp;quot;properties&amp;quot;: {&amp;quot;feature_type&amp;quot;: &amp;quot;location&amp;quot;, &amp;quot;fmt_time&amp;quot;: &amp;quot;2015-08-26 18:31:05.164000-07:00&amp;quot;, &amp;quot;altitude&amp;quot;: 0, &amp;quot;ts&amp;quot;: 1440639065.164, &amp;quot;longitude&amp;quot;: -122.0828101, &amp;quot;latitude&amp;quot;: 37.3888188, &amp;quot;heading&amp;quot;: 0, &amp;quot;sensed_speed&amp;quot;: 0, &amp;quot;accuracy&amp;quot;: 67.987}}, {&amp;quot;geometry&amp;quot;: {&amp;quot;type&amp;quot;: &amp;quot;Point&amp;quot;, &amp;quot;coordinates&amp;quot;: [-122.0828101, 37.3888188]}, &amp;quot;type&amp;quot;: &amp;quot;Feature&amp;quot;, &amp;quot;id&amp;quot;: &amp;quot;55de9e8c7d65cb39ee986251&amp;quot;, &amp;quot;properties&amp;quot;: {&amp;quot;feature_type&amp;quot;: &amp;quot;location&amp;quot;, &amp;quot;fmt_time&amp;quot;: &amp;quot;2015-08-26 18:32:08.593000-07:00&amp;quot;, &amp;quot;altitude&amp;quot;: 0, &amp;quot;ts&amp;quot;: 1440639128.593, &amp;quot;longitude&amp;quot;: -122.0828101, &amp;quot;latitude&amp;quot;: 37.3888188, &amp;quot;heading&amp;quot;: 0, &amp;quot;sensed_speed&amp;quot;: 0, &amp;quot;accuracy&amp;quot;: 163.129}}, {&amp;quot;geometry&amp;quot;: {&amp;quot;type&amp;quot;: &amp;quot;Point&amp;quot;, &amp;quot;coordinates&amp;quot;: [-122.083951, 37.3891767]}, &amp;quot;type&amp;quot;: &amp;quot;Feature&amp;quot;, &amp;quot;id&amp;quot;: &amp;quot;55de9eb57d65cb39ee9864b9&amp;quot;, &amp;quot;properties&amp;quot;: {&amp;quot;feature_type&amp;quot;: &amp;quot;location&amp;quot;, &amp;quot;fmt_time&amp;quot;: &amp;quot;2015-08-26 21:35:51.399000-07:00&amp;quot;, &amp;quot;altitude&amp;quot;: 0, &amp;quot;ts&amp;quot;: 1440650151.399, &amp;quot;longitude&amp;quot;: -122.083951, &amp;quot;latitude&amp;quot;: 37.3891767, &amp;quot;heading&amp;quot;: 0, &amp;quot;sensed_speed&amp;quot;: 0, &amp;quot;accuracy&amp;quot;: 69.743}}, {&amp;quot;geometry&amp;quot;: {&amp;quot;type&amp;quot;: &amp;quot;Point&amp;quot;, &amp;quot;coordinates&amp;quot;: [-122.0839318, 37.3891863]}, &amp;quot;type&amp;quot;: &amp;quot;Feature&amp;quot;, &amp;quot;id&amp;quot;: &amp;quot;55de9eb57d65cb39ee9864bc&amp;quot;, &amp;quot;properties&amp;quot;: {&amp;quot;feature_type&amp;quot;: &amp;quot;location&amp;quot;, &amp;quot;fmt_time&amp;quot;: &amp;quot;2015-08-26 21:36:21.279000-07:00&amp;quot;, &amp;quot;altitude&amp;quot;: 0, &amp;quot;ts&amp;quot;: 1440650181.279, &amp;quot;longitude&amp;quot;: -122.0839318, &amp;quot;latitude&amp;quot;: 37.3891863, &amp;quot;heading&amp;quot;: 0, &amp;quot;sensed_speed&amp;quot;: 0, &amp;quot;accuracy&amp;quot;: 71.362}}, {&amp;quot;geometry&amp;quot;: {&amp;quot;type&amp;quot;: &amp;quot;Point&amp;quot;, &amp;quot;coordinates&amp;quot;: [-122.0832482, 37.3892482]}, &amp;quot;type&amp;quot;: &amp;quot;Feature&amp;quot;, &amp;quot;id&amp;quot;: &amp;quot;55de9eb67d65cb39ee9864bf&amp;quot;, &amp;quot;properties&amp;quot;: {&amp;quot;feature_type&amp;quot;: &amp;quot;location&amp;quot;, &amp;quot;fmt_time&amp;quot;: &amp;quot;2015-08-26 21:36:51.498000-07:00&amp;quot;, &amp;quot;altitude&amp;quot;: 0, &amp;quot;ts&amp;quot;: 1440650211.498, &amp;quot;longitude&amp;quot;: -122.0832482, &amp;quot;latitude&amp;quot;: 37.3892482, &amp;quot;heading&amp;quot;: 0, &amp;quot;sensed_speed&amp;quot;: 0, &amp;quot;accuracy&amp;quot;: 114.988}}, {&amp;quot;geometry&amp;quot;: {&amp;quot;type&amp;quot;: &amp;quot;Point&amp;quot;, &amp;quot;coordinates&amp;quot;: [-122.0838802, 37.3894349]}, &amp;quot;type&amp;quot;: &amp;quot;Feature&amp;quot;, &amp;quot;id&amp;quot;: &amp;quot;55de9eb67d65cb39ee9864c2&amp;quot;, &amp;quot;properties&amp;quot;: {&amp;quot;feature_type&amp;quot;: &amp;quot;location&amp;quot;, &amp;quot;fmt_time&amp;quot;: &amp;quot;2015-08-26 21:37:14.084000-07:00&amp;quot;, &amp;quot;altitude&amp;quot;: 0, &amp;quot;ts&amp;quot;: 1440650234.084, &amp;quot;longitude&amp;quot;: -122.0838802, &amp;quot;latitude&amp;quot;: 37.3894349, &amp;quot;heading&amp;quot;: 0, &amp;quot;sensed_speed&amp;quot;: 0, &amp;quot;accuracy&amp;quot;: 49.5}}, {&amp;quot;geometry&amp;quot;: {&amp;quot;type&amp;quot;: &amp;quot;Point&amp;quot;, &amp;quot;coordinates&amp;quot;: [-122.0844962, 37.3902504]}, &amp;quot;type&amp;quot;: &amp;quot;Feature&amp;quot;, &amp;quot;id&amp;quot;: &amp;quot;55de9eb67d65cb39ee9864c5&amp;quot;, &amp;quot;properties&amp;quot;: {&amp;quot;feature_type&amp;quot;: &amp;quot;location&amp;quot;, &amp;quot;fmt_time&amp;quot;: &amp;quot;2015-08-26 21:37:49.993000-07:00&amp;quot;, &amp;quot;altitude&amp;quot;: 0, &amp;quot;ts&amp;quot;: 1440650269.993, &amp;quot;longitude&amp;quot;: -122.0844962, &amp;quot;latitude&amp;quot;: 37.3902504, &amp;quot;heading&amp;quot;: 0, &amp;quot;sensed_speed&amp;quot;: 0, &amp;quot;accuracy&amp;quot;: 33.0}}, {&amp;quot;geometry&amp;quot;: {&amp;quot;type&amp;quot;: &amp;quot;Point&amp;quot;, &amp;quot;coordinates&amp;quot;: [-122.0845079, 37.3902375]}, &amp;quot;type&amp;quot;: &amp;quot;Feature&amp;quot;, &amp;quot;id&amp;quot;: &amp;quot;55de9eb67d65cb39ee9864c8&amp;quot;, &amp;quot;properties&amp;quot;: {&amp;quot;feature_type&amp;quot;: &amp;quot;location&amp;quot;, &amp;quot;fmt_time&amp;quot;: &amp;quot;2015-08-26 21:38:32.183000-07:00&amp;quot;, &amp;quot;altitude&amp;quot;: 0, &amp;quot;ts&amp;quot;: 1440650312.183, &amp;quot;longitude&amp;quot;: -122.0845079, &amp;quot;latitude&amp;quot;: 37.3902375, &amp;quot;heading&amp;quot;: 0, &amp;quot;sensed_speed&amp;quot;: 0, &amp;quot;accuracy&amp;quot;: 129.02}}, {&amp;quot;geometry&amp;quot;: {&amp;quot;type&amp;quot;: &amp;quot;Point&amp;quot;, &amp;quot;coordinates&amp;quot;: [-122.0845059, 37.3900956]}, &amp;quot;type&amp;quot;: &amp;quot;Feature&amp;quot;, &amp;quot;id&amp;quot;: &amp;quot;55de9eb67d65cb39ee9864cb&amp;quot;, &amp;quot;properties&amp;quot;: {&amp;quot;feature_type&amp;quot;: &amp;quot;location&amp;quot;, &amp;quot;fmt_time&amp;quot;: &amp;quot;2015-08-26 21:39:02.170000-07:00&amp;quot;, &amp;quot;altitude&amp;quot;: 0, &amp;quot;ts&amp;quot;: 1440650342.17, &amp;quot;longitude&amp;quot;: -122.0845059, &amp;quot;latitude&amp;quot;: 37.3900956, &amp;quot;heading&amp;quot;: 0, &amp;quot;sensed_speed&amp;quot;: 0, &amp;quot;accuracy&amp;quot;: 116.703}}, {&amp;quot;geometry&amp;quot;: {&amp;quot;type&amp;quot;: &amp;quot;Point&amp;quot;, &amp;quot;coordinates&amp;quot;: [-122.0844275, 37.3898317]}, &amp;quot;type&amp;quot;: &amp;quot;Feature&amp;quot;, &amp;quot;id&amp;quot;: &amp;quot;55de9eb67d65cb39ee9864ce&amp;quot;, &amp;quot;properties&amp;quot;: {&amp;quot;feature_type&amp;quot;: &amp;quot;location&amp;quot;, &amp;quot;fmt_time&amp;quot;: &amp;quot;2015-08-26 21:39:21.681000-07:00&amp;quot;, &amp;quot;altitude&amp;quot;: 0, &amp;quot;ts&amp;quot;: 1440650361.681, &amp;quot;longitude&amp;quot;: -122.0844275, &amp;quot;latitude&amp;quot;: 37.3898317, &amp;quot;heading&amp;quot;: 0, &amp;quot;sensed_speed&amp;quot;: 0, &amp;quot;accuracy&amp;quot;: 96.948}}, {&amp;quot;geometry&amp;quot;: {&amp;quot;type&amp;quot;: &amp;quot;Point&amp;quot;, &amp;quot;coordinates&amp;quot;: [-122.0842929, 37.3892491]}, &amp;quot;type&amp;quot;: &amp;quot;Feature&amp;quot;, &amp;quot;id&amp;quot;: &amp;quot;55de9eb77d65cb39ee9864d1&amp;quot;, &amp;quot;properties&amp;quot;: {&amp;quot;feature_type&amp;quot;: &amp;quot;location&amp;quot;, &amp;quot;fmt_time&amp;quot;: &amp;quot;2015-08-26 21:39:53.534000-07:00&amp;quot;, &amp;quot;altitude&amp;quot;: 0, &amp;quot;ts&amp;quot;: 1440650393.534, &amp;quot;longitude&amp;quot;: -122.0842929, &amp;quot;latitude&amp;quot;: 37.3892491, &amp;quot;heading&amp;quot;: 0, &amp;quot;sensed_speed&amp;quot;: 0, &amp;quot;accuracy&amp;quot;: 61.654}}, {&amp;quot;geometry&amp;quot;: {&amp;quot;type&amp;quot;: &amp;quot;Point&amp;quot;, &amp;quot;coordinates&amp;quot;: [-122.0850528, 37.3898745]}, &amp;quot;type&amp;quot;: &amp;quot;Feature&amp;quot;, &amp;quot;id&amp;quot;: &amp;quot;55de9eb77d65cb39ee9864d4&amp;quot;, &amp;quot;properties&amp;quot;: {&amp;quot;feature_type&amp;quot;: &amp;quot;location&amp;quot;, &amp;quot;fmt_time&amp;quot;: &amp;quot;2015-08-26 21:40:25.349000-07:00&amp;quot;, &amp;quot;altitude&amp;quot;: 0, &amp;quot;ts&amp;quot;: 1440650425.349, &amp;quot;longitude&amp;quot;: -122.0850528, &amp;quot;latitude&amp;quot;: 37.3898745, &amp;quot;heading&amp;quot;: 0, &amp;quot;sensed_speed&amp;quot;: 0, &amp;quot;accuracy&amp;quot;: 30.0}}, {&amp;quot;geometry&amp;quot;: {&amp;quot;type&amp;quot;: &amp;quot;Point&amp;quot;, &amp;quot;coordinates&amp;quot;: [-122.085279, 37.389945]}, &amp;quot;type&amp;quot;: &amp;quot;Feature&amp;quot;, &amp;quot;id&amp;quot;: &amp;quot;55de9eb77d65cb39ee9864d7&amp;quot;, &amp;quot;properties&amp;quot;: {&amp;quot;feature_type&amp;quot;: &amp;quot;location&amp;quot;, &amp;quot;fmt_time&amp;quot;: &amp;quot;2015-08-26 21:40:57.184000-07:00&amp;quot;, &amp;quot;altitude&amp;quot;: 0, &amp;quot;ts&amp;quot;: 1440650457.184, &amp;quot;longitude&amp;quot;: -122.085279, &amp;quot;latitude&amp;quot;: 37.389945, &amp;quot;heading&amp;quot;: 0, &amp;quot;sensed_speed&amp;quot;: 0, &amp;quot;accuracy&amp;quot;: 45.0}}, {&amp;quot;geometry&amp;quot;: {&amp;quot;type&amp;quot;: &amp;quot;Point&amp;quot;, &amp;quot;coordinates&amp;quot;: [-122.0860788, 37.3901256]}, &amp;quot;type&amp;quot;: &amp;quot;Feature&amp;quot;, &amp;quot;id&amp;quot;: &amp;quot;55de9eb77d65cb39ee9864da&amp;quot;, &amp;quot;properties&amp;quot;: {&amp;quot;feature_type&amp;quot;: &amp;quot;location&amp;quot;, &amp;quot;fmt_time&amp;quot;: &amp;quot;2015-08-26 21:41:29.011000-07:00&amp;quot;, &amp;quot;altitude&amp;quot;: 0, &amp;quot;ts&amp;quot;: 1440650489.011, &amp;quot;longitude&amp;quot;: -122.0860788, &amp;quot;latitude&amp;quot;: 37.3901256, &amp;quot;heading&amp;quot;: 0, &amp;quot;sensed_speed&amp;quot;: 0, &amp;quot;accuracy&amp;quot;: 40.5}}, {&amp;quot;geometry&amp;quot;: {&amp;quot;type&amp;quot;: &amp;quot;Point&amp;quot;, &amp;quot;coordinates&amp;quot;: [-122.0862834, 37.3904012]}, &amp;quot;type&amp;quot;: &amp;quot;Feature&amp;quot;, &amp;quot;id&amp;quot;: &amp;quot;55de9eb77d65cb39ee9864dd&amp;quot;, &amp;quot;properties&amp;quot;: {&amp;quot;feature_type&amp;quot;: &amp;quot;location&amp;quot;, &amp;quot;fmt_time&amp;quot;: &amp;quot;2015-08-26 21:42:00.844000-07:00&amp;quot;, &amp;quot;altitude&amp;quot;: 0, &amp;quot;ts&amp;quot;: 1440650520.844, &amp;quot;longitude&amp;quot;: -122.0862834, &amp;quot;latitude&amp;quot;: 37.3904012, &amp;quot;heading&amp;quot;: 0, &amp;quot;sensed_speed&amp;quot;: 0, &amp;quot;accuracy&amp;quot;: 48.0}}, {&amp;quot;geometry&amp;quot;: {&amp;quot;type&amp;quot;: &amp;quot;Point&amp;quot;, &amp;quot;coordinates&amp;quot;: [-122.0865501, 37.3903768]}, &amp;quot;type&amp;quot;: &amp;quot;Feature&amp;quot;, &amp;quot;id&amp;quot;: &amp;quot;55de9eb87d65cb39ee9864e0&amp;quot;, &amp;quot;properties&amp;quot;: {&amp;quot;feature_type&amp;quot;: &amp;quot;location&amp;quot;, &amp;quot;fmt_time&amp;quot;: &amp;quot;2015-08-26 21:42:16.753000-07:00&amp;quot;, &amp;quot;altitude&amp;quot;: 0, &amp;quot;ts&amp;quot;: 1440650536.753, &amp;quot;longitude&amp;quot;: -122.0865501, &amp;quot;latitude&amp;quot;: 37.3903768, &amp;quot;heading&amp;quot;: 0, &amp;quot;sensed_speed&amp;quot;: 0, &amp;quot;accuracy&amp;quot;: 45.0}}, {&amp;quot;geometry&amp;quot;: {&amp;quot;type&amp;quot;: &amp;quot;Point&amp;quot;, &amp;quot;coordinates&amp;quot;: [-122.0866305, 37.3903306]}, &amp;quot;type&amp;quot;: &amp;quot;Feature&amp;quot;, &amp;quot;id&amp;quot;: &amp;quot;55de9eb87d65cb39ee9864e3&amp;quot;, &amp;quot;properties&amp;quot;: {&amp;quot;feature_type&amp;quot;: &amp;quot;location&amp;quot;, &amp;quot;fmt_time&amp;quot;: &amp;quot;2015-08-26 21:42:48.581000-07:00&amp;quot;, &amp;quot;altitude&amp;quot;: 0, &amp;quot;ts&amp;quot;: 1440650568.581, &amp;quot;longitude&amp;quot;: -122.0866305, &amp;quot;latitude&amp;quot;: 37.3903306, &amp;quot;heading&amp;quot;: 0, &amp;quot;sensed_speed&amp;quot;: 0, &amp;quot;accuracy&amp;quot;: 36.0}}, {&amp;quot;geometry&amp;quot;: {&amp;quot;type&amp;quot;: &amp;quot;Point&amp;quot;, &amp;quot;coordinates&amp;quot;: [-122.0864045, 37.3905444]}, &amp;quot;type&amp;quot;: &amp;quot;Feature&amp;quot;, &amp;quot;id&amp;quot;: &amp;quot;55de9eb87d65cb39ee9864e6&amp;quot;, &amp;quot;properties&amp;quot;: {&amp;quot;feature_type&amp;quot;: &amp;quot;location&amp;quot;, &amp;quot;fmt_time&amp;quot;: &amp;quot;2015-08-26 21:43:20.404000-07:00&amp;quot;, &amp;quot;altitude&amp;quot;: 0, &amp;quot;ts&amp;quot;: 1440650600.404, &amp;quot;longitude&amp;quot;: -122.0864045, &amp;quot;latitude&amp;quot;: 37.3905444, &amp;quot;heading&amp;quot;: 0, &amp;quot;sensed_speed&amp;quot;: 0, &amp;quot;accuracy&amp;quot;: 31.5}}]}, {&amp;quot;geometry&amp;quot;: {&amp;quot;type&amp;quot;: &amp;quot;LineString&amp;quot;, &amp;quot;coordinates&amp;quot;: [[-122.0862761, 37.3909483], [-122.0850267, 37.3898613], [-122.0847573, 37.3898617], [-122.0840233, 37.3890777], [-122.083988, 37.3890865], [-122.0834042, 37.3891734], [-122.0828101, 37.3888188], [-122.0828101, 37.3888188], [-122.083951, 37.3891767], [-122.0839318, 37.3891863], [-122.0832482, 37.3892482], [-122.0838802, 37.3894349], [-122.0844962, 37.3902504], [-122.0845079, 37.3902375], [-122.0845059, 37.3900956], [-122.0844275, 37.3898317], [-122.0842929, 37.3892491], [-122.0850528, 37.3898745], [-122.085279, 37.389945], [-122.0860788, 37.3901256], [-122.0862834, 37.3904012], [-122.0865501, 37.3903768], [-122.0866305, 37.3903306], [-122.0864045, 37.3905444]]}, &amp;quot;type&amp;quot;: &amp;quot;Feature&amp;quot;, &amp;quot;id&amp;quot;: &amp;quot;5603ae0ff6858f0cbbb60580&amp;quot;, &amp;quot;properties&amp;quot;: {&amp;quot;feature_type&amp;quot;: &amp;quot;section&amp;quot;, &amp;quot;sensed_mode&amp;quot;: &amp;quot;MotionTypes.ON_FOOT&amp;quot;, &amp;quot;end_ts&amp;quot;: 1440650600.404, &amp;quot;start_ts&amp;quot;: 1440638901.916, &amp;quot;start_fmt_time&amp;quot;: &amp;quot;2015-08-26 18:28:21.916000-07:00&amp;quot;, &amp;quot;source&amp;quot;: &amp;quot;SmoothedHighConfidenceMotion&amp;quot;, &amp;quot;end_fmt_time&amp;quot;: &amp;quot;2015-08-26 21:43:20.404000-07:00&amp;quot;, &amp;quot;duration&amp;quot;: 11698.488000154495}}]}]}'))})\n",
        "          .await(makeMap)\n",
        "\n",
        "      function onEachFeature(feature, layer) {\n",
        "          // does this feature have a property named popupContent?\n",
        "          if (feature.properties &amp;&amp; feature.properties.popupContent) {\n",
        "              layer.bindPopup(feature.properties.popupContent);\n",
        "              }\n",
        "          };\n",
        "\n",
        "      function makeMap(error, gjson_1) {\n",
        "\n",
        "          \n",
        "\n",
        "          \n",
        "\n",
        "          function matchKey(datapoint, key_variable){\n",
        "              if (typeof key_variable[0][datapoint] === 'undefined') {\n",
        "                  return null;\n",
        "              }\n",
        "              else {\n",
        "                  return parseFloat(key_variable[0][datapoint]);\n",
        "              };\n",
        "          };\n",
        "\n",
        "          \n",
        "\n",
        "          var map = L.map('map').setView([0, 0], 1);\n",
        "\n",
        "          L.tileLayer('https://{s}.tile.openstreetmap.org/{z}/{x}/{y}.png', {\n",
        "              maxZoom: 18,\n",
        "              minZoom: 1,\n",
        "              attribution: 'Map data (c) &lt;a href=&amp;quot;http://openstreetmap.org&amp;quot;&gt;OpenStreetMap&lt;/a&gt; contributors'\n",
        "          }).addTo(map);\n",
        "\n",
        "          \n",
        "          function style_1(feature) {\n",
        "    return {\n",
        "        fillColor: 'blue',\n",
        "        weight: 1,\n",
        "        opacity: 1,\n",
        "        color: 'black',\n",
        "        fillOpacity: 0.6\n",
        "    };\n",
        "}\n",
        "          \n",
        "\n",
        "          \n",
        "          gJson_layer_1 = L.geoJson(gjson_1, {style: style_1,onEachFeature: onEachFeature}).addTo(map)\n",
        "          \n",
        "\n",
        "          \n",
        "\n",
        "          \n",
        "\n",
        "          \n",
        "\n",
        "          \n",
        "\n",
        "          \n",
        "\n",
        "          \n",
        "\n",
        "          var autobounds = L.featureGroup([]).getBounds()\n",
        "\n",
        "\n",
        "\n",
        "\n",
        "\n",
        "map.fitBounds(autobounds,\n",
        "    {&amp;quot;padding&amp;quot;: [30, 30]}\n",
        ");\n",
        "\n",
        "      };\n",
        "\n",
        "   &lt;/script&gt;\n",
        "&lt;/body&gt;&quot; style=&quot;width: 100%; height: 510px; border: none&quot;&gt;&lt;/iframe&gt;</td></tr>\n",
        "</table>\" style=\"width: 100%; height: 1530px; border: none\"></iframe>"
       ],
       "metadata": {},
       "output_type": "pyout",
       "prompt_number": 15,
       "text": [
        "<IPython.core.display.HTML at 0x1092aae50>"
       ]
      }
     ],
     "prompt_number": 15
    },
    {
     "cell_type": "code",
     "collapsed": false,
     "input": [
      "map_list = lo.get_maps_for_range(myuuid, get_dt((8,25)), get_dt((8,26)))\n",
      "ipy.inline_maps([[m] for m in map_list])"
     ],
     "language": "python",
     "metadata": {},
     "outputs": [
      {
       "output_type": "stream",
       "stream": "stderr",
       "text": [
        "DEBUG:root:4 places found in database\n"
       ]
      },
      {
       "output_type": "stream",
       "stream": "stderr",
       "text": [
        "DEBUG:root:Considering place 5603ae0cf6858f0cbbb60541: 2015-08-25 08:30:00.653000-07:00 -> 2015-08-25 08:36:51.657000-07:00 \n"
       ]
      },
      {
       "output_type": "stream",
       "stream": "stderr",
       "text": [
        "DEBUG:root:Considering place 5603ae0cf6858f0cbbb60543: 2015-08-25 08:48:00.538000-07:00 -> 2015-08-25 09:03:20.609000-07:00 \n"
       ]
      },
      {
       "output_type": "stream",
       "stream": "stderr",
       "text": [
        "DEBUG:root:Considering place 5603ae0cf6858f0cbbb60545: 2015-08-25 09:07:01.248000-07:00 -> 2015-08-25 16:08:43.563000-07:00 \n"
       ]
      },
      {
       "output_type": "stream",
       "stream": "stderr",
       "text": [
        "DEBUG:root:Considering place 5603ae0cf6858f0cbbb60547: 2015-08-25 18:09:32.721000-07:00 -> 2015-08-26 17:05:39.041000-07:00 \n"
       ]
      },
      {
       "output_type": "stream",
       "stream": "stderr",
       "text": [
        "DEBUG:root:Considering trip 5603ae0cf6858f0cbbb60540: 2015-08-25 08:19:06.062000-07:00 -> 2015-08-25 08:30:00.653000-07:00 \n"
       ]
      },
      {
       "output_type": "stream",
       "stream": "stderr",
       "text": [
        "DEBUG:root:Considering trip 5603ae0cf6858f0cbbb60542: 2015-08-25 08:36:51.657000-07:00 -> 2015-08-25 08:48:00.538000-07:00 \n"
       ]
      },
      {
       "output_type": "stream",
       "stream": "stderr",
       "text": [
        "DEBUG:root:Considering trip 5603ae0cf6858f0cbbb60544: 2015-08-25 09:03:20.609000-07:00 -> 2015-08-25 09:07:01.248000-07:00 \n"
       ]
      },
      {
       "output_type": "stream",
       "stream": "stderr",
       "text": [
        "DEBUG:root:Considering trip 5603ae0cf6858f0cbbb60546: 2015-08-25 16:08:43.563000-07:00 -> 2015-08-25 18:09:32.721000-07:00 \n"
       ]
      },
      {
       "output_type": "stream",
       "stream": "stderr",
       "text": [
        "DEBUG:root:len(places) = 4, len(trips) = 4\n"
       ]
      },
      {
       "output_type": "stream",
       "stream": "stderr",
       "text": [
        "DEBUG:root:Starting with element of type trip, id 5603ae0cf6858f0cbbb60540, details Trip({u'end_place': ObjectId('5603ae0cf6858f0cbbb60541'), u'user_id': UUID('0763de67-f61e-3f5d-90e7-518e69793954'), u'start_loc': {u'type': u'Point', u'coordinates': [-122.0851115, 37.392733]}, u'end_ts': 1440516600.653, u'start_ts': 1440515946.062, u'start_fmt_time': u'2015-08-25 08:19:06.062000-07:00', u'end_loc': {u'type': u'Point', u'coordinates': [-122.0839467, 37.4035912]}, u'source': u'DwellSegmentationTimeFilter', u'start_place': ObjectId('5603ae0cf6858f0cbbb6053f'), u'end_fmt_time': u'2015-08-25 08:30:00.653000-07:00', u'duration': 654.5910000801086, u'_id': ObjectId('5603ae0cf6858f0cbbb60540')})\n"
       ]
      },
      {
       "output_type": "stream",
       "stream": "stderr",
       "text": [
        "DEBUG:root:len(trips) = 4, adding start_place 5603ae0cf6858f0cbbb6053f and end_place 5603ae0cf6858f0cbbb60547\n"
       ]
      },
      {
       "output_type": "stream",
       "stream": "stderr",
       "text": [
        "DEBUG:root:About to execute query {'trip_id': ObjectId('5603ae0cf6858f0cbbb60540'), 'user_id': UUID('0763de67-f61e-3f5d-90e7-518e69793954')}\n"
       ]
      },
      {
       "output_type": "stream",
       "stream": "stderr",
       "text": [
        "DEBUG:root:len(places) = 1, len(trips) = 2\n"
       ]
      },
      {
       "output_type": "stream",
       "stream": "stderr",
       "text": [
        "DEBUG:root:Starting with element of type trip, id 5603ae0ff6858f0cbbb6057a, details Section({u'user_id': UUID('0763de67-f61e-3f5d-90e7-518e69793954'), u'sensed_mode': 1, u'start_loc': {u'type': u'Point', u'coordinates': [-122.0851115, 37.392733]}, u'end_ts': 1440516444.572, u'start_ts': 1440515946.062, u'start_fmt_time': u'2015-08-25 08:19:06.062000-07:00', u'end_loc': {u'type': u'Point', u'coordinates': [-122.0844572, 37.4028762]}, u'source': u'SmoothedHighConfidenceMotion', u'end_fmt_time': u'2015-08-25 08:27:24.572000-07:00', u'duration': 498.50999999046326, u'end_stop': ObjectId('5603ae0ff6858f0cbbb6057c'), u'_id': ObjectId('5603ae0ff6858f0cbbb6057a'), u'trip_id': ObjectId('5603ae0cf6858f0cbbb60540')})\n"
       ]
      },
      {
       "output_type": "stream",
       "stream": "stderr",
       "text": [
        "DEBUG:root:sort_key = metadata.write_ts\n"
       ]
      },
      {
       "output_type": "stream",
       "stream": "stderr",
       "text": [
        "DEBUG:root:ret_val = {u'loc': {u'type': u'Point', u'coordinates': [-122.0851115, 37.392733]}, u'fmt_time': u'2015-08-25 08:19:06.062000-07:00', u'altitude': 0, u'ts': 1440515946.062, u'longitude': -122.0851115, u'latitude': 37.392733, '_id': ObjectId('55dc924e7d65cb39ee985acb'), u'heading': 0, u'sensed_speed': 0, u'accuracy': 48} \n"
       ]
      },
      {
       "output_type": "stream",
       "stream": "stderr",
       "text": [
        "DEBUG:root:ret_val = {u'loc': {u'type': u'Point', u'coordinates': [-122.0848536, 37.3931807]}, u'fmt_time': u'2015-08-25 08:19:37.873000-07:00', u'altitude': 0, u'ts': 1440515977.873, u'longitude': -122.0848536, u'latitude': 37.3931807, '_id': ObjectId('55dc924e7d65cb39ee985ace'), u'heading': 0, u'sensed_speed': 0, u'accuracy': 45} \n"
       ]
      },
      {
       "output_type": "stream",
       "stream": "stderr",
       "text": [
        "DEBUG:root:ret_val = {u'loc': {u'type': u'Point', u'coordinates': [-122.0847046, 37.3933862]}, u'fmt_time': u'2015-08-25 08:19:48.985000-07:00', u'altitude': 0, u'ts': 1440515988.985, u'longitude': -122.0847046, u'latitude': 37.3933862, '_id': ObjectId('55dc924e7d65cb39ee985ad0'), u'heading': 0, u'sensed_speed': 0, u'accuracy': 30.103} \n"
       ]
      },
      {
       "output_type": "stream",
       "stream": "stderr",
       "text": [
        "DEBUG:root:ret_val = {u'loc': {u'type': u'Point', u'coordinates': [-122.0847046, 37.3933862]}, u'fmt_time': u'2015-08-25 08:19:54.068000-07:00', u'altitude': 0, u'ts': 1440515994.068, u'longitude': -122.0847046, u'latitude': 37.3933862, '_id': ObjectId('55dc924e7d65cb39ee985ad2'), u'heading': 0, u'sensed_speed': 0, u'accuracy': 30.103} \n"
       ]
      },
      {
       "output_type": "stream",
       "stream": "stderr",
       "text": [
        "DEBUG:root:ret_val = {u'loc': {u'type': u'Point', u'coordinates': [-122.0831325, 37.3956145]}, u'fmt_time': u'2015-08-25 08:20:24.167000-07:00', u'altitude': 0, u'ts': 1440516024.167, u'longitude': -122.0831325, u'latitude': 37.3956145, '_id': ObjectId('55dc924f7d65cb39ee985ad5'), u'heading': 0, u'sensed_speed': 0, u'accuracy': 45} \n"
       ]
      },
      {
       "output_type": "stream",
       "stream": "stderr",
       "text": [
        "DEBUG:root:ret_val = {u'loc': {u'type': u'Point', u'coordinates': [-122.0830062, 37.3958196]}, u'fmt_time': u'2015-08-25 08:20:54.089000-07:00', u'altitude': 0, u'ts': 1440516054.089, u'longitude': -122.0830062, u'latitude': 37.3958196, '_id': ObjectId('55dc924f7d65cb39ee985ad7'), u'heading': 0, u'sensed_speed': 0, u'accuracy': 39} \n"
       ]
      },
      {
       "output_type": "stream",
       "stream": "stderr",
       "text": [
        "DEBUG:root:ret_val = {u'loc': {u'type': u'Point', u'coordinates': [-122.0829656, 37.3958771]}, u'fmt_time': u'2015-08-25 08:21:24.167000-07:00', u'altitude': 0, u'ts': 1440516084.167, u'longitude': -122.0829656, u'latitude': 37.3958771, '_id': ObjectId('55dc924f7d65cb39ee985adb'), u'heading': 0, u'sensed_speed': 0, u'accuracy': 45} \n"
       ]
      },
      {
       "output_type": "stream",
       "stream": "stderr",
       "text": [
        "DEBUG:root:ret_val = {u'loc': {u'type': u'Point', u'coordinates': [-122.0826366, 37.3963388]}, u'fmt_time': u'2015-08-25 08:21:54.168000-07:00', u'altitude': 0, u'ts': 1440516114.168, u'longitude': -122.0826366, u'latitude': 37.3963388, '_id': ObjectId('55dc924f7d65cb39ee985ade'), u'heading': 0, u'sensed_speed': 0, u'accuracy': 37.5} \n"
       ]
      },
      {
       "output_type": "stream",
       "stream": "stderr",
       "text": [
        "DEBUG:root:ret_val = {u'loc': {u'type': u'Point', u'coordinates': [-122.0804833, 37.4001294]}, u'fmt_time': u'2015-08-25 08:23:54.448000-07:00', u'altitude': 0, u'ts': 1440516234.448, u'longitude': -122.0804833, u'latitude': 37.4001294, '_id': ObjectId('55dc92507d65cb39ee985ae7'), u'heading': 0, u'sensed_speed': 0, u'accuracy': 40.5} \n"
       ]
      },
      {
       "output_type": "stream",
       "stream": "stderr",
       "text": [
        "DEBUG:root:ret_val = {u'loc': {u'type': u'Point', u'coordinates': [-122.080576, 37.4000596]}, u'fmt_time': u'2015-08-25 08:24:24.457000-07:00', u'altitude': 0, u'ts': 1440516264.457, u'longitude': -122.080576, u'latitude': 37.4000596, '_id': ObjectId('55dc92507d65cb39ee985ae9'), u'heading': 0, u'sensed_speed': 0, u'accuracy': 37.5} \n"
       ]
      },
      {
       "output_type": "stream",
       "stream": "stderr",
       "text": [
        "DEBUG:root:ret_val = {u'loc': {u'type': u'Point', u'coordinates': [-122.0819841, 37.4002083]}, u'fmt_time': u'2015-08-25 08:24:54.481000-07:00', u'altitude': 0, u'ts': 1440516294.481, u'longitude': -122.0819841, u'latitude': 37.4002083, '_id': ObjectId('55dc92507d65cb39ee985aed'), u'heading': 0, u'sensed_speed': 0, u'accuracy': 39} \n"
       ]
      },
      {
       "output_type": "stream",
       "stream": "stderr",
       "text": [
        "DEBUG:root:ret_val = {u'loc': {u'type': u'Point', u'coordinates': [-122.0831702, 37.4000468]}, u'fmt_time': u'2015-08-25 08:25:24.509000-07:00', u'altitude': 0, u'ts': 1440516324.509, u'longitude': -122.0831702, u'latitude': 37.4000468, '_id': ObjectId('55dc92507d65cb39ee985af0'), u'heading': 0, u'sensed_speed': 0, u'accuracy': 41.144} \n"
       ]
      },
      {
       "output_type": "stream",
       "stream": "stderr",
       "text": [
        "DEBUG:root:ret_val = {u'loc': {u'type': u'Point', u'coordinates': [-122.0847309, 37.4006462]}, u'fmt_time': u'2015-08-25 08:25:54.527000-07:00', u'altitude': 0, u'ts': 1440516354.527, u'longitude': -122.0847309, u'latitude': 37.4006462, '_id': ObjectId('55dc92507d65cb39ee985af3'), u'heading': 0, u'sensed_speed': 0, u'accuracy': 36} \n"
       ]
      },
      {
       "output_type": "stream",
       "stream": "stderr",
       "text": [
        "DEBUG:root:ret_val = {u'loc': {u'type': u'Point', u'coordinates': [-122.0846915, 37.4007858]}, u'fmt_time': u'2015-08-25 08:26:24.575000-07:00', u'altitude': 0, u'ts': 1440516384.575, u'longitude': -122.0846915, u'latitude': 37.4007858, '_id': ObjectId('55dc92517d65cb39ee985af6'), u'heading': 0, u'sensed_speed': 0, u'accuracy': 42.168} \n"
       ]
      },
      {
       "output_type": "stream",
       "stream": "stderr",
       "text": [
        "DEBUG:root:ret_val = {u'loc': {u'type': u'Point', u'coordinates': [-122.0847628, 37.402396]}, u'fmt_time': u'2015-08-25 08:26:54.627000-07:00', u'altitude': 0, u'ts': 1440516414.627, u'longitude': -122.0847628, u'latitude': 37.402396, '_id': ObjectId('55dc92517d65cb39ee985af8'), u'heading': 0, u'sensed_speed': 0, u'accuracy': 32.267} \n"
       ]
      },
      {
       "output_type": "stream",
       "stream": "stderr",
       "text": [
        "DEBUG:root:ret_val = {u'loc': {u'type': u'Point', u'coordinates': [-122.0844572, 37.4028762]}, u'fmt_time': u'2015-08-25 08:27:24.572000-07:00', u'altitude': 0, u'ts': 1440516444.572, u'longitude': -122.0844572, u'latitude': 37.4028762, '_id': ObjectId('55dc92517d65cb39ee985afb'), u'heading': 0, u'sensed_speed': 0, u'accuracy': 33} \n"
       ]
      },
      {
       "output_type": "stream",
       "stream": "stderr",
       "text": [
        "DEBUG:root:ret_val = {u'loc': {u'type': u'Point', u'coordinates': [-122.0844367, 37.4034749]}, u'fmt_time': u'2015-08-25 08:27:41.615000-07:00', u'altitude': -2.79998779296875, u'ts': 1440516461.615, u'longitude': -122.0844367, u'latitude': 37.4034749, '_id': ObjectId('55dc92517d65cb39ee985afe'), u'heading': 42, u'sensed_speed': 3.0024002, u'accuracy': 5} \n"
       ]
      },
      {
       "output_type": "stream",
       "stream": "stderr",
       "text": [
        "DEBUG:root:points_df.columns = Index([u'_id', u'accuracy', u'altitude', u'fmt_time', u'heading', u'latitude', u'loc', u'longitude', u'sensed_speed', u'ts'], dtype='object')\n"
       ]
      },
      {
       "output_type": "stream",
       "stream": "stderr",
       "text": [
        "DEBUG:root:first element in section_location_array = Location({u'loc': {u'type': u'Point', u'coordinates': [-122.0851115, 37.392733]}, u'fmt_time': u'2015-08-25 08:19:06.062000-07:00', u'altitude': 0.0, u'ts': 1440515946.062, u'longitude': -122.0851115, u'latitude': 37.392733, '_id': ObjectId('55dc924e7d65cb39ee985acb'), u'heading': 0, u'sensed_speed': 0.0, u'accuracy': 48.0})\n"
       ]
      },
      {
       "ename": "KeyError",
       "evalue": "'_id'",
       "output_type": "pyerr",
       "traceback": [
        "\u001b[0;31m---------------------------------------------------------------------------\u001b[0m\n\u001b[0;31mKeyError\u001b[0m                                  Traceback (most recent call last)",
        "\u001b[0;32m<ipython-input-16-a8441b0ada50>\u001b[0m in \u001b[0;36m<module>\u001b[0;34m()\u001b[0m\n\u001b[0;32m----> 1\u001b[0;31m \u001b[0mmap_list\u001b[0m \u001b[0;34m=\u001b[0m \u001b[0mlo\u001b[0m\u001b[0;34m.\u001b[0m\u001b[0mget_maps_for_range\u001b[0m\u001b[0;34m(\u001b[0m\u001b[0mmyuuid\u001b[0m\u001b[0;34m,\u001b[0m \u001b[0mget_dt\u001b[0m\u001b[0;34m(\u001b[0m\u001b[0;34m(\u001b[0m\u001b[0;36m8\u001b[0m\u001b[0;34m,\u001b[0m\u001b[0;36m25\u001b[0m\u001b[0;34m)\u001b[0m\u001b[0;34m)\u001b[0m\u001b[0;34m,\u001b[0m \u001b[0mget_dt\u001b[0m\u001b[0;34m(\u001b[0m\u001b[0;34m(\u001b[0m\u001b[0;36m8\u001b[0m\u001b[0;34m,\u001b[0m\u001b[0;36m26\u001b[0m\u001b[0;34m)\u001b[0m\u001b[0;34m)\u001b[0m\u001b[0;34m)\u001b[0m\u001b[0;34m\u001b[0m\u001b[0m\n\u001b[0m\u001b[1;32m      2\u001b[0m \u001b[0mipy\u001b[0m\u001b[0;34m.\u001b[0m\u001b[0minline_maps\u001b[0m\u001b[0;34m(\u001b[0m\u001b[0;34m[\u001b[0m\u001b[0;34m[\u001b[0m\u001b[0mm\u001b[0m\u001b[0;34m]\u001b[0m \u001b[0;32mfor\u001b[0m \u001b[0mm\u001b[0m \u001b[0;32min\u001b[0m \u001b[0mmap_list\u001b[0m\u001b[0;34m]\u001b[0m\u001b[0;34m)\u001b[0m\u001b[0;34m\u001b[0m\u001b[0m\n",
        "\u001b[0;32m/Users/shankari/e-mission/e-mission-server/emission/analysis/plotting/leaflet_osm/our_plotter.pyc\u001b[0m in \u001b[0;36mget_maps_for_range\u001b[0;34m(user_id, start_ts, end_ts)\u001b[0m\n\u001b[1;32m     38\u001b[0m \u001b[0;32mdef\u001b[0m \u001b[0mget_maps_for_range\u001b[0m\u001b[0;34m(\u001b[0m\u001b[0muser_id\u001b[0m\u001b[0;34m,\u001b[0m \u001b[0mstart_ts\u001b[0m\u001b[0;34m,\u001b[0m \u001b[0mend_ts\u001b[0m\u001b[0;34m)\u001b[0m\u001b[0;34m:\u001b[0m\u001b[0;34m\u001b[0m\u001b[0m\n\u001b[1;32m     39\u001b[0m     \u001b[0mmap_list\u001b[0m \u001b[0;34m=\u001b[0m \u001b[0;34m[\u001b[0m\u001b[0;34m]\u001b[0m\u001b[0;34m\u001b[0m\u001b[0m\n\u001b[0;32m---> 40\u001b[0;31m     \u001b[0mgeojson_list\u001b[0m \u001b[0;34m=\u001b[0m \u001b[0mgfc\u001b[0m\u001b[0;34m.\u001b[0m\u001b[0mget_geojson_for_range\u001b[0m\u001b[0;34m(\u001b[0m\u001b[0muser_id\u001b[0m\u001b[0;34m,\u001b[0m \u001b[0mstart_ts\u001b[0m\u001b[0;34m,\u001b[0m \u001b[0mend_ts\u001b[0m\u001b[0;34m)\u001b[0m\u001b[0;34m\u001b[0m\u001b[0m\n\u001b[0m\u001b[1;32m     41\u001b[0m \u001b[0;34m\u001b[0m\u001b[0m\n\u001b[1;32m     42\u001b[0m     \u001b[0;32mfor\u001b[0m \u001b[0mtrip_geojson\u001b[0m \u001b[0;32min\u001b[0m \u001b[0mgeojson_list\u001b[0m\u001b[0;34m:\u001b[0m\u001b[0;34m\u001b[0m\u001b[0m\n",
        "\u001b[0;32m/Users/shankari/e-mission/e-mission-server/emission/analysis/plotting/geojson/geojson_feature_converter.py\u001b[0m in \u001b[0;36mget_geojson_for_range\u001b[0;34m(user_id, start_ts, end_ts)\u001b[0m\n\u001b[1;32m    181\u001b[0m \u001b[0;34m\u001b[0m\u001b[0m\n\u001b[1;32m    182\u001b[0m     \u001b[0;32mfor\u001b[0m \u001b[0mtrip\u001b[0m \u001b[0;32min\u001b[0m \u001b[0mtl\u001b[0m\u001b[0;34m.\u001b[0m\u001b[0mtrips\u001b[0m\u001b[0;34m:\u001b[0m\u001b[0;34m\u001b[0m\u001b[0m\n\u001b[0;32m--> 183\u001b[0;31m         \u001b[0mtrip_geojson\u001b[0m \u001b[0;34m=\u001b[0m \u001b[0mtrip_to_geojson\u001b[0m\u001b[0;34m(\u001b[0m\u001b[0mtrip\u001b[0m\u001b[0;34m,\u001b[0m \u001b[0mtl\u001b[0m\u001b[0;34m)\u001b[0m\u001b[0;34m\u001b[0m\u001b[0m\n\u001b[0m\u001b[1;32m    184\u001b[0m         \u001b[0mgeojson_list\u001b[0m\u001b[0;34m.\u001b[0m\u001b[0mappend\u001b[0m\u001b[0;34m(\u001b[0m\u001b[0mtrip_geojson\u001b[0m\u001b[0;34m)\u001b[0m\u001b[0;34m\u001b[0m\u001b[0m\n\u001b[1;32m    185\u001b[0m \u001b[0;34m\u001b[0m\u001b[0m\n",
        "\u001b[0;32m/Users/shankari/e-mission/e-mission-server/emission/analysis/plotting/geojson/geojson_feature_converter.py\u001b[0m in \u001b[0;36mtrip_to_geojson\u001b[0;34m(trip, tl)\u001b[0m\n\u001b[1;32m    171\u001b[0m         \u001b[0;31m# we left the start place. We can fix this in the model through interpolation. For now, we assume that the\u001b[0m\u001b[0;34m\u001b[0m\u001b[0;34m\u001b[0m\u001b[0m\n\u001b[1;32m    172\u001b[0m         \u001b[0;31m# gap between the real departure time and the time that the trip starts is small, and just combine it here.\u001b[0m\u001b[0;34m\u001b[0m\u001b[0;34m\u001b[0m\u001b[0m\n\u001b[0;32m--> 173\u001b[0;31m         \u001b[0mfeature_array\u001b[0m\u001b[0;34m.\u001b[0m\u001b[0mappend\u001b[0m\u001b[0;34m(\u001b[0m\u001b[0msection_to_geojson\u001b[0m\u001b[0;34m(\u001b[0m\u001b[0msection\u001b[0m\u001b[0;34m,\u001b[0m \u001b[0mtl\u001b[0m\u001b[0;34m)\u001b[0m\u001b[0;34m)\u001b[0m\u001b[0;34m\u001b[0m\u001b[0m\n\u001b[0m\u001b[1;32m    174\u001b[0m     \u001b[0;32mreturn\u001b[0m \u001b[0mgj\u001b[0m\u001b[0;34m.\u001b[0m\u001b[0mFeatureCollection\u001b[0m\u001b[0;34m(\u001b[0m\u001b[0mfeatures\u001b[0m\u001b[0;34m=\u001b[0m\u001b[0mfeature_array\u001b[0m\u001b[0;34m)\u001b[0m\u001b[0;34m\u001b[0m\u001b[0m\n\u001b[1;32m    175\u001b[0m \u001b[0;34m\u001b[0m\u001b[0m\n",
        "\u001b[0;32m/Users/shankari/e-mission/e-mission-server/emission/analysis/plotting/geojson/geojson_feature_converter.py\u001b[0m in \u001b[0;36msection_to_geojson\u001b[0;34m(section, tl)\u001b[0m\n\u001b[1;32m    106\u001b[0m         \u001b[0msection_location_array\u001b[0m\u001b[0;34m.\u001b[0m\u001b[0mappend\u001b[0m\u001b[0;34m(\u001b[0m\u001b[0mecwe\u001b[0m\u001b[0;34m.\u001b[0m\u001b[0mEntry\u001b[0m\u001b[0;34m(\u001b[0m\u001b[0mlast_loc\u001b[0m\u001b[0;34m)\u001b[0m\u001b[0;34m.\u001b[0m\u001b[0mdata\u001b[0m\u001b[0;34m)\u001b[0m\u001b[0;34m\u001b[0m\u001b[0m\n\u001b[1;32m    107\u001b[0m \u001b[0;34m\u001b[0m\u001b[0m\n\u001b[0;32m--> 108\u001b[0;31m     \u001b[0mpoints_feature_array\u001b[0m \u001b[0;34m=\u001b[0m \u001b[0;34m[\u001b[0m\u001b[0mlocation_to_geojson\u001b[0m\u001b[0;34m(\u001b[0m\u001b[0ml\u001b[0m\u001b[0;34m)\u001b[0m \u001b[0;32mfor\u001b[0m \u001b[0ml\u001b[0m \u001b[0;32min\u001b[0m \u001b[0msection_location_array\u001b[0m\u001b[0;34m]\u001b[0m\u001b[0;34m\u001b[0m\u001b[0m\n\u001b[0m\u001b[1;32m    109\u001b[0m \u001b[0;34m\u001b[0m\u001b[0m\n\u001b[1;32m    110\u001b[0m     \u001b[0mpoints_line_string\u001b[0m \u001b[0;34m=\u001b[0m \u001b[0mgj\u001b[0m\u001b[0;34m.\u001b[0m\u001b[0mLineString\u001b[0m\u001b[0;34m(\u001b[0m\u001b[0;34m)\u001b[0m\u001b[0;34m\u001b[0m\u001b[0m\n",
        "\u001b[0;32m/Users/shankari/e-mission/e-mission-server/emission/analysis/plotting/geojson/geojson_feature_converter.py\u001b[0m in \u001b[0;36mlocation_to_geojson\u001b[0;34m(location)\u001b[0m\n\u001b[1;32m     36\u001b[0m     \"\"\"\n\u001b[1;32m     37\u001b[0m     \u001b[0mret_feature\u001b[0m \u001b[0;34m=\u001b[0m \u001b[0mgj\u001b[0m\u001b[0;34m.\u001b[0m\u001b[0mFeature\u001b[0m\u001b[0;34m(\u001b[0m\u001b[0;34m)\u001b[0m\u001b[0;34m\u001b[0m\u001b[0m\n\u001b[0;32m---> 38\u001b[0;31m     \u001b[0mret_feature\u001b[0m\u001b[0;34m.\u001b[0m\u001b[0mid\u001b[0m \u001b[0;34m=\u001b[0m \u001b[0mstr\u001b[0m\u001b[0;34m(\u001b[0m\u001b[0mlocation\u001b[0m\u001b[0;34m.\u001b[0m\u001b[0mget_id\u001b[0m\u001b[0;34m(\u001b[0m\u001b[0;34m)\u001b[0m\u001b[0;34m)\u001b[0m\u001b[0;34m\u001b[0m\u001b[0m\n\u001b[0m\u001b[1;32m     39\u001b[0m     \u001b[0mret_feature\u001b[0m\u001b[0;34m.\u001b[0m\u001b[0mgeometry\u001b[0m \u001b[0;34m=\u001b[0m \u001b[0mlocation\u001b[0m\u001b[0;34m.\u001b[0m\u001b[0mloc\u001b[0m\u001b[0;34m\u001b[0m\u001b[0m\n\u001b[1;32m     40\u001b[0m     \u001b[0mret_feature\u001b[0m\u001b[0;34m.\u001b[0m\u001b[0mproperties\u001b[0m \u001b[0;34m=\u001b[0m \u001b[0mcopy\u001b[0m\u001b[0;34m.\u001b[0m\u001b[0mcopy\u001b[0m\u001b[0;34m(\u001b[0m\u001b[0mlocation\u001b[0m\u001b[0;34m)\u001b[0m\u001b[0;34m\u001b[0m\u001b[0m\n",
        "\u001b[0;32m/Users/shankari/e-mission/e-mission-server/emission/core/wrapper/wrapperbase.pyc\u001b[0m in \u001b[0;36mget_id\u001b[0;34m(self)\u001b[0m\n\u001b[1;32m     47\u001b[0m     \u001b[0mLet\u001b[0m\u001b[0;31m'\u001b[0m\u001b[0ms\u001b[0m \u001b[0mabstract\u001b[0m \u001b[0mit\u001b[0m \u001b[0mout\u001b[0m \u001b[0msince\u001b[0m \u001b[0mthis\u001b[0m \u001b[0;32mis\u001b[0m \u001b[0ma\u001b[0m \u001b[0mcommon\u001b[0m \u001b[0muse\u001b[0m \u001b[0mcase\u001b[0m\u001b[0;34m.\u001b[0m\u001b[0;34m\u001b[0m\u001b[0m\n\u001b[1;32m     48\u001b[0m     \"\"\"\n\u001b[0;32m---> 49\u001b[0;31m     \u001b[0;32mreturn\u001b[0m \u001b[0mself\u001b[0m\u001b[0;34m[\u001b[0m\u001b[0;34m\"_id\"\u001b[0m\u001b[0;34m]\u001b[0m\u001b[0;34m\u001b[0m\u001b[0m\n\u001b[0m\u001b[1;32m     50\u001b[0m \u001b[0;34m\u001b[0m\u001b[0m\n\u001b[1;32m     51\u001b[0m   \u001b[0;32mdef\u001b[0m \u001b[0m__getattr__\u001b[0m\u001b[0;34m(\u001b[0m\u001b[0mself\u001b[0m\u001b[0;34m,\u001b[0m \u001b[0mkey\u001b[0m\u001b[0;34m)\u001b[0m\u001b[0;34m:\u001b[0m\u001b[0;34m\u001b[0m\u001b[0m\n",
        "\u001b[0;31mKeyError\u001b[0m: '_id'"
       ]
      }
     ],
     "prompt_number": 16
    },
    {
     "cell_type": "code",
     "collapsed": false,
     "input": [
      "map_list = lo.get_maps_for_range(myuuid, get_dt((8,24)), get_dt((8,25)))\n",
      "ipy.inline_maps([[m] for m in map_list])"
     ],
     "language": "python",
     "metadata": {},
     "outputs": []
    },
    {
     "cell_type": "code",
     "collapsed": false,
     "input": [
      "map_list = lo.get_maps_for_range(myuuid, get_dt((8,23)), get_dt((8,24)))\n",
      "ipy.inline_maps([[m] for m in map_list])"
     ],
     "language": "python",
     "metadata": {},
     "outputs": []
    },
    {
     "cell_type": "code",
     "collapsed": false,
     "input": [
      "map_list = lo.get_maps_for_range(myuuid, get_dt((8,22)), get_dt((8,23)))\n",
      "ipy.inline_maps([[m] for m in map_list])"
     ],
     "language": "python",
     "metadata": {},
     "outputs": []
    },
    {
     "cell_type": "code",
     "collapsed": false,
     "input": [
      "import emission.net.usercache.abstract_usercache as enua"
     ],
     "language": "python",
     "metadata": {},
     "outputs": []
    },
    {
     "cell_type": "code",
     "collapsed": false,
     "input": [
      "tq = enua.UserCache.TimeQuery(\"write_ts\", 1440695151.99,1440698101.7)"
     ],
     "language": "python",
     "metadata": {},
     "outputs": []
    },
    {
     "cell_type": "code",
     "collapsed": false,
     "input": [
      "ts = esta.TimeSeries.get_time_series(testUUID)"
     ],
     "language": "python",
     "metadata": {},
     "outputs": []
    },
    {
     "cell_type": "code",
     "collapsed": false,
     "input": [
      "list(ts.find_entries([\"background/filtered_location\"], tq))[-10:]"
     ],
     "language": "python",
     "metadata": {},
     "outputs": []
    },
    {
     "cell_type": "code",
     "collapsed": false,
     "input": [
      "import emission.storage.decorations.place_queries as esdp\n",
      "import emission.storage.decorations.trip_queries as esdt\n",
      "import emission.net.usercache.abstract_usercache as enua\n",
      "\n",
      "places = esdp.get_places(myuuid, enua.UserCache.TimeQuery(\"enter_ts\", get_dt((8,27)), get_dt((8,29))))\n",
      "trips = esdt.get_trips(myuuid, enua.UserCache.TimeQuery(\"start_ts\", get_dt((8,27)), get_dt((8,29))))\n",
      "\n",
      "for place in places:\n",
      "    logging.debug(\"----- Considering place %s: %s -> %s -----\" % (place.get_id(), place.enter_fmt_time, place.exit_fmt_time))\n",
      "    logging.debug(place)\n",
      "for trip in trips:\n",
      "    logging.debug(\"===== Considering trip %s: %s -> %s =====\" % (trip.get_id(), trip.start_fmt_time, trip.end_fmt_time))\n",
      "    logging.debug(trip)"
     ],
     "language": "python",
     "metadata": {},
     "outputs": []
    },
    {
     "cell_type": "code",
     "collapsed": false,
     "input": [],
     "language": "python",
     "metadata": {},
     "outputs": []
    }
   ],
   "metadata": {}
  }
 ]
}