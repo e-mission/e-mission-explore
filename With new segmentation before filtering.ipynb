{
 "metadata": {
  "name": "",
  "signature": "sha256:b578d3d991ac222428438806d56605b29ea1d8d3d9729bd9ebabccf9787de9a9"
 },
 "nbformat": 3,
 "nbformat_minor": 0,
 "worksheets": [
  {
   "cells": [
    {
     "cell_type": "code",
     "collapsed": false,
     "input": [
      "import emission.storage.timeseries.abstract_timeseries as esta\n",
      "import emission.storage.decorations.trip_queries as esdt\n",
      "import emission.storage.decorations.section_queries as esds"
     ],
     "language": "python",
     "metadata": {},
     "outputs": [],
     "prompt_number": 1
    },
    {
     "cell_type": "code",
     "collapsed": false,
     "input": [
      "import datetime as pydt\n",
      "import pytz\n",
      "import time\n",
      "import json"
     ],
     "language": "python",
     "metadata": {},
     "outputs": [],
     "prompt_number": 19
    },
    {
     "cell_type": "code",
     "collapsed": false,
     "input": [
      "import emission.net.usercache.abstract_usercache as enua"
     ],
     "language": "python",
     "metadata": {},
     "outputs": [],
     "prompt_number": 3
    },
    {
     "cell_type": "code",
     "collapsed": false,
     "input": [
      "import logging\n",
      "logging.getLogger().setLevel(logging.DEBUG)"
     ],
     "language": "python",
     "metadata": {},
     "outputs": [],
     "prompt_number": 4
    },
    {
     "cell_type": "code",
     "collapsed": false,
     "input": [
      "get_dt = lambda (month,date): time.mktime(pydt.datetime(2015,month,date,tzinfo=pytz.timezone(\"America/Los_Angeles\")).timetuple())"
     ],
     "language": "python",
     "metadata": {},
     "outputs": [],
     "prompt_number": 5
    },
    {
     "cell_type": "code",
     "collapsed": false,
     "input": [
      "esta.TimeSeries.get_uuid_list()"
     ],
     "language": "python",
     "metadata": {},
     "outputs": [
      {
       "metadata": {},
       "output_type": "pyout",
       "prompt_number": 6,
       "text": [
        "[UUID('0763de67-f61e-3f5d-90e7-518e69793954'),\n",
        " UUID('f955cff1-8fb8-3b42-8776-6d8874e5b90a'),\n",
        " UUID('b0d937d0-70ef-305e-9563-440369012b39')]"
       ]
      }
     ],
     "prompt_number": 6
    },
    {
     "cell_type": "code",
     "collapsed": false,
     "input": [
      "myuuid = esta.TimeSeries.get_uuid_list()[0]\n",
      "tomuuid = esta.TimeSeries.get_uuid_list()[2]"
     ],
     "language": "python",
     "metadata": {},
     "outputs": [],
     "prompt_number": 7
    },
    {
     "cell_type": "code",
     "collapsed": false,
     "input": [
      "def get_zigzag_start_fmt_times(user_zigzag_path):\n",
      "    return [l.strip() for l in open(user_zigzag_path).readlines()]"
     ],
     "language": "python",
     "metadata": {},
     "outputs": [],
     "prompt_number": 8
    },
    {
     "cell_type": "code",
     "collapsed": false,
     "input": [
      "my_ground_truth = get_zigzag_start_fmt_times(\"/Users/shankari/e-mission/e-mission-data/usercache_data/my_zigzag_trip_times\")"
     ],
     "language": "python",
     "metadata": {},
     "outputs": [],
     "prompt_number": 9
    },
    {
     "cell_type": "code",
     "collapsed": false,
     "input": [
      "def get_zigzag_trips(uuid, start_ts, end_ts, ground_truth):\n",
      "    zigzag_trips = []\n",
      "    tq = enua.UserCache.TimeQuery(\"start_ts\", start_ts, end_ts)\n",
      "    candidate_trips = esdt.get_trips(uuid, tq)\n",
      "    for i, trip in enumerate(candidate_trips):\n",
      "        if trip.start_fmt_time in ground_truth:\n",
      "            logging.debug(\"Found zigzag trip %s!\" % trip)\n",
      "            zigzag_trips.append(trip)\n",
      "    return zigzag_trips"
     ],
     "language": "python",
     "metadata": {},
     "outputs": [],
     "prompt_number": 10
    },
    {
     "cell_type": "code",
     "collapsed": false,
     "input": [
      "my_zigzag_trips = get_zigzag_trips(myuuid, None, time.time(), my_ground_truth)"
     ],
     "language": "python",
     "metadata": {},
     "outputs": [
      {
       "output_type": "stream",
       "stream": "stderr",
       "text": [
        "DEBUG:root:Found zigzag trip Trip({u'end_place': ObjectId('56081ad3f6858f3a71f65e20'), u'user_id': UUID('0763de67-f61e-3f5d-90e7-518e69793954'), u'start_loc': {u'type': u'Point', u'coordinates': [-122.4426899, 37.7280596]}, u'end_ts': 1440209488.817, u'start_ts': 1440205576.905, u'start_fmt_time': u'2015-08-21 18:06:16.905000-07:00', u'end_loc': {u'type': u'Point', u'coordinates': [-122.0862011, 37.3910039]}, u'source': u'DwellSegmentationTimeFilter', u'start_place': ObjectId('56081ad3f6858f3a71f65e1e'), u'end_fmt_time': u'2015-08-21 19:11:28.817000-07:00', u'duration': 3911.911999940872, u'_id': ObjectId('56081ad3f6858f3a71f65e1f')})!\n"
       ]
      },
      {
       "output_type": "stream",
       "stream": "stderr",
       "text": [
        "DEBUG:root:Found zigzag trip Trip({u'end_place': ObjectId('56081ad3f6858f3a71f65e2e'), u'user_id': UUID('0763de67-f61e-3f5d-90e7-518e69793954'), u'start_loc': {u'type': u'Point', u'coordinates': [-122.0814687, 37.3918311]}, u'end_ts': 1440284440.644, u'start_ts': 1440283226.712, u'start_fmt_time': u'2015-08-22 15:40:26.712000-07:00', u'end_loc': {u'type': u'Point', u'coordinates': [-122.088923, 37.3911364]}, u'source': u'DwellSegmentationTimeFilter', u'start_place': ObjectId('56081ad3f6858f3a71f65e2c'), u'end_fmt_time': u'2015-08-22 16:00:40.644000-07:00', u'duration': 1213.9320001602173, u'_id': ObjectId('56081ad3f6858f3a71f65e2d')})!\n"
       ]
      }
     ],
     "prompt_number": 11
    },
    {
     "cell_type": "code",
     "collapsed": false,
     "input": [
      "tom_ground_truth = get_zigzag_start_fmt_times(\"/Users/shankari/e-mission/e-mission-data/usercache_data/tom_zigzag_trip_times\")\n",
      "tom_zigzag_trips = get_zigzag_trips(tomuuid, None, time.time(), tom_ground_truth)"
     ],
     "language": "python",
     "metadata": {},
     "outputs": [
      {
       "output_type": "stream",
       "stream": "stderr",
       "text": [
        "DEBUG:root:Found zigzag trip Trip({u'end_place': ObjectId('5608285cf6858f3c7580c8ba'), u'user_id': UUID('b0d937d0-70ef-305e-9563-440369012b39'), u'start_loc': {u'type': u'Point', u'coordinates': [-122.083262, 37.4028433]}, u'end_ts': 1440432439.533, u'start_ts': 1440430310.857, u'start_fmt_time': u'2015-08-24 08:31:50.857000-07:00', u'end_loc': {u'type': u'Point', u'coordinates': [-121.9036344, 37.3284675]}, u'source': u'DwellSegmentationTimeFilter', u'start_place': ObjectId('5608285cf6858f3c7580c8b8'), u'end_fmt_time': u'2015-08-24 09:07:19.533000-07:00', u'duration': 2128.675999879837, u'_id': ObjectId('5608285cf6858f3c7580c8b9')})!\n"
       ]
      },
      {
       "output_type": "stream",
       "stream": "stderr",
       "text": [
        "DEBUG:root:Found zigzag trip Trip({u'end_place': ObjectId('5608285df6858f3c7580c8c2'), u'user_id': UUID('b0d937d0-70ef-305e-9563-440369012b39'), u'start_loc': {u'type': u'Point', u'coordinates': [-122.0882077, 37.3881928]}, u'end_ts': 1440545964.213, u'start_ts': 1440517068.439, u'start_fmt_time': u'2015-08-25 08:37:48.439000-07:00', u'end_loc': {u'type': u'Point', u'coordinates': [-122.0931936, 37.3645939]}, u'source': u'DwellSegmentationTimeFilter', u'start_place': ObjectId('5608285cf6858f3c7580c8c0'), u'end_fmt_time': u'2015-08-25 16:39:24.213000-07:00', u'duration': 28895.774000167847, u'_id': ObjectId('5608285df6858f3c7580c8c1')})!\n"
       ]
      },
      {
       "output_type": "stream",
       "stream": "stderr",
       "text": [
        "DEBUG:root:Found zigzag trip Trip({u'end_place': ObjectId('5608285df6858f3c7580c8e6'), u'user_id': UUID('b0d937d0-70ef-305e-9563-440369012b39'), u'start_loc': {u'type': u'Point', u'coordinates': [-122.0850217, 37.3928567]}, u'end_ts': 1440775741.8, u'start_ts': 1440774944.444, u'start_fmt_time': u'2015-08-28 08:15:44.444000-07:00', u'end_loc': {u'type': u'Point', u'coordinates': [-122.0837477, 37.4039396]}, u'source': u'DwellSegmentationTimeFilter', u'start_place': ObjectId('5608285df6858f3c7580c8e4'), u'end_fmt_time': u'2015-08-28 08:29:01.800000-07:00', u'duration': 797.3559999465942, u'_id': ObjectId('5608285df6858f3c7580c8e5')})!\n"
       ]
      },
      {
       "output_type": "stream",
       "stream": "stderr",
       "text": [
        "DEBUG:root:Found zigzag trip Trip({u'end_place': ObjectId('5608285df6858f3c7580c91e'), u'user_id': UUID('b0d937d0-70ef-305e-9563-440369012b39'), u'start_loc': {u'type': u'Point', u'coordinates': [-121.9073733, 37.321086]}, u'end_ts': 1441208617.707, u'start_ts': 1441207927.85, u'start_fmt_time': u'2015-09-02 08:32:07.850000-07:00', u'end_loc': {u'type': u'Point', u'coordinates': [-121.948556, 37.2792126]}, u'source': u'DwellSegmentationTimeFilter', u'start_place': ObjectId('5608285df6858f3c7580c91c'), u'end_fmt_time': u'2015-09-02 08:43:37.707000-07:00', u'duration': 689.8570001125336, u'_id': ObjectId('5608285df6858f3c7580c91d')})!\n"
       ]
      },
      {
       "output_type": "stream",
       "stream": "stderr",
       "text": [
        "DEBUG:root:Found zigzag trip Trip({u'end_place': ObjectId('5608285df6858f3c7580c932'), u'user_id': UUID('b0d937d0-70ef-305e-9563-440369012b39'), u'start_loc': {u'type': u'Point', u'coordinates': [-122.0847801, 37.4013634]}, u'end_ts': 1441294761.32, u'start_ts': 1441294275.322, u'start_fmt_time': u'2015-09-03 08:31:15.322000-07:00', u'end_loc': {u'type': u'Point', u'coordinates': [-122.0862756, 37.3909557]}, u'source': u'DwellSegmentationTimeFilter', u'start_place': ObjectId('5608285df6858f3c7580c930'), u'end_fmt_time': u'2015-09-03 08:39:21.320000-07:00', u'duration': 485.9979999065399, u'_id': ObjectId('5608285df6858f3c7580c931')})!\n"
       ]
      },
      {
       "output_type": "stream",
       "stream": "stderr",
       "text": [
        "DEBUG:root:Found zigzag trip Trip({u'end_place': ObjectId('5608285df6858f3c7580c93a'), u'user_id': UUID('b0d937d0-70ef-305e-9563-440369012b39'), u'start_loc': {u'type': u'Point', u'coordinates': [-122.0861897, 37.3910416]}, u'end_ts': 1441325719.161, u'start_ts': 1441325092.945, u'start_fmt_time': u'2015-09-03 17:04:52.945000-07:00', u'end_loc': {u'type': u'Point', u'coordinates': [-122.0801769, 37.3921698]}, u'source': u'DwellSegmentationTimeFilter', u'start_place': ObjectId('5608285df6858f3c7580c938'), u'end_fmt_time': u'2015-09-03 17:15:19.161000-07:00', u'duration': 626.2160000801086, u'_id': ObjectId('5608285df6858f3c7580c939')})!\n"
       ]
      },
      {
       "output_type": "stream",
       "stream": "stderr",
       "text": [
        "DEBUG:root:Found zigzag trip Trip({u'end_place': ObjectId('5608285df6858f3c7580c950'), u'user_id': UUID('b0d937d0-70ef-305e-9563-440369012b39'), u'start_loc': {u'type': u'Point', u'coordinates': [-122.0865169, 37.3986848]}, u'end_ts': 1441644140.933, u'start_ts': 1441639379.149, u'start_fmt_time': u'2015-09-07 08:22:59.149000-07:00', u'end_loc': {u'type': u'Point', u'coordinates': [-122.394481, 37.7766259]}, u'source': u'DwellSegmentationTimeFilter', u'start_place': ObjectId('5608285df6858f3c7580c94e'), u'end_fmt_time': u'2015-09-07 09:42:20.933000-07:00', u'duration': 4761.78400015831, u'_id': ObjectId('5608285df6858f3c7580c94f')})!\n"
       ]
      },
      {
       "output_type": "stream",
       "stream": "stderr",
       "text": [
        "DEBUG:root:Found zigzag trip Trip({u'end_place': ObjectId('5608285df6858f3c7580c98c'), u'user_id': UUID('b0d937d0-70ef-305e-9563-440369012b39'), u'start_loc': {u'type': u'Point', u'coordinates': [-122.0777908, 37.3957365]}, u'end_ts': 1441917622.318, u'start_ts': 1441916100.282, u'start_fmt_time': u'2015-09-10 13:15:00.282000-07:00', u'end_loc': {u'type': u'Point', u'coordinates': [-122.0862768, 37.3909523]}, u'source': u'DwellSegmentationTimeFilter', u'start_place': ObjectId('5608285df6858f3c7580c98a'), u'end_fmt_time': u'2015-09-10 13:40:22.318000-07:00', u'duration': 1522.0360000133514, u'_id': ObjectId('5608285df6858f3c7580c98b')})!\n"
       ]
      },
      {
       "output_type": "stream",
       "stream": "stderr",
       "text": [
        "DEBUG:root:Found zigzag trip Trip({u'end_place': ObjectId('5608285df6858f3c7580c990'), u'user_id': UUID('b0d937d0-70ef-305e-9563-440369012b39'), u'start_loc': {u'type': u'Point', u'coordinates': [-122.0861761, 37.3910551]}, u'end_ts': 1441920589.611, u'start_ts': 1441918676.649, u'start_fmt_time': u'2015-09-10 13:57:56.649000-07:00', u'end_loc': {u'type': u'Point', u'coordinates': [-122.0806359, 37.3998045]}, u'source': u'DwellSegmentationTimeFilter', u'start_place': ObjectId('5608285df6858f3c7580c98e'), u'end_fmt_time': u'2015-09-10 14:29:49.611000-07:00', u'duration': 1912.962000131607, u'_id': ObjectId('5608285df6858f3c7580c98f')})!\n"
       ]
      },
      {
       "output_type": "stream",
       "stream": "stderr",
       "text": [
        "DEBUG:root:Found zigzag trip Trip({u'end_place': ObjectId('5608285df6858f3c7580c99a'), u'user_id': UUID('b0d937d0-70ef-305e-9563-440369012b39'), u'start_loc': {u'type': u'Point', u'coordinates': [-122.0798907, 37.3965131]}, u'end_ts': 1441930612.622, u'start_ts': 1441930110.729, u'start_fmt_time': u'2015-09-10 17:08:30.729000-07:00', u'end_loc': {u'type': u'Point', u'coordinates': [-122.0881734, 37.3907896]}, u'source': u'DwellSegmentationTimeFilter', u'start_place': ObjectId('5608285df6858f3c7580c998'), u'end_fmt_time': u'2015-09-10 17:16:52.622000-07:00', u'duration': 501.89299988746643, u'_id': ObjectId('5608285df6858f3c7580c999')})!\n"
       ]
      }
     ],
     "prompt_number": 12
    },
    {
     "cell_type": "code",
     "collapsed": false,
     "input": [
      "zigzag_trips = my_zigzag_trips + tom_zigzag_trips"
     ],
     "language": "python",
     "metadata": {},
     "outputs": [],
     "prompt_number": 13
    },
    {
     "cell_type": "code",
     "collapsed": false,
     "input": [
      "[trip.user_id for trip in zigzag_trips]"
     ],
     "language": "python",
     "metadata": {},
     "outputs": [
      {
       "metadata": {},
       "output_type": "pyout",
       "prompt_number": 36,
       "text": [
        "[UUID('0763de67-f61e-3f5d-90e7-518e69793954'),\n",
        " UUID('0763de67-f61e-3f5d-90e7-518e69793954'),\n",
        " UUID('b0d937d0-70ef-305e-9563-440369012b39'),\n",
        " UUID('b0d937d0-70ef-305e-9563-440369012b39'),\n",
        " UUID('b0d937d0-70ef-305e-9563-440369012b39'),\n",
        " UUID('b0d937d0-70ef-305e-9563-440369012b39'),\n",
        " UUID('b0d937d0-70ef-305e-9563-440369012b39'),\n",
        " UUID('b0d937d0-70ef-305e-9563-440369012b39'),\n",
        " UUID('b0d937d0-70ef-305e-9563-440369012b39'),\n",
        " UUID('b0d937d0-70ef-305e-9563-440369012b39'),\n",
        " UUID('b0d937d0-70ef-305e-9563-440369012b39'),\n",
        " UUID('b0d937d0-70ef-305e-9563-440369012b39')]"
       ]
      }
     ],
     "prompt_number": 36
    },
    {
     "cell_type": "code",
     "collapsed": false,
     "input": [
      "zigzag_sections_shallow_list = [esdt.get_sections_for_trip(trip.user_id, trip.get_id()) for trip in zigzag_trips]"
     ],
     "language": "python",
     "metadata": {},
     "outputs": [],
     "prompt_number": 42
    },
    {
     "cell_type": "code",
     "collapsed": false,
     "input": [
      "zigzag_sections = [item for sublist in zigzag_sections_shallow_list for item in sublist]"
     ],
     "language": "python",
     "metadata": {},
     "outputs": [],
     "prompt_number": 43
    },
    {
     "cell_type": "code",
     "collapsed": false,
     "input": [
      "import bson.json_util as bju"
     ],
     "language": "python",
     "metadata": {},
     "outputs": [],
     "prompt_number": 22
    },
    {
     "cell_type": "code",
     "collapsed": false,
     "input": [
      "trip_file = open(\"/Users/shankari/e-mission/e-mission-server/emission/tests/data/smoothing_data/trip_list.txt\", \"w\")\n",
      "json.dump(zigzag_trips, trip_file, indent=4, default=bju.default)\n",
      "trip_file.close()\n",
      "section_file = open(\"/Users/shankari/e-mission/e-mission-server/emission/tests/data/smoothing_data/section_list.txt\", \"w\")\n",
      "json.dump(zigzag_sections, section_file, indent=4, default=bju.default)\n",
      "section_file.close()\n",
      "for trip in zigzag_trips:\n",
      "    # Save points\n",
      "    trip_points = esta.TimeSeries.get_time_series(trip.user_id).find_entries(None, esdt.get_time_query_for_trip(trip.get_id()))\n",
      "    logging.debug(\"For trip %s, found %s points\" % (trip.get_id(), trip_points.count()))\n",
      "    trip_points_file = open(\"/Users/shankari/e-mission/e-mission-server/emission/tests/data/smoothing_data/%s\" % trip.get_id(), \"w\")\n",
      "    json.dump(list(trip_points), trip_points_file, indent=4, default=bju.default)\n",
      "    trip_points_file.close()"
     ],
     "language": "python",
     "metadata": {},
     "outputs": [
      {
       "output_type": "stream",
       "stream": "stderr",
       "text": [
        "DEBUG:root:sort_key = metadata.write_ts\n"
       ]
      },
      {
       "output_type": "stream",
       "stream": "stderr",
       "text": [
        "DEBUG:root:For trip 56081ad3f6858f3a71f65e1f, found 289 points\n"
       ]
      },
      {
       "output_type": "stream",
       "stream": "stderr",
       "text": [
        "DEBUG:root:sort_key = metadata.write_ts\n"
       ]
      },
      {
       "output_type": "stream",
       "stream": "stderr",
       "text": [
        "DEBUG:root:For trip 56081ad3f6858f3a71f65e2d, found 76 points\n"
       ]
      },
      {
       "output_type": "stream",
       "stream": "stderr",
       "text": [
        "DEBUG:root:sort_key = metadata.write_ts\n"
       ]
      },
      {
       "output_type": "stream",
       "stream": "stderr",
       "text": [
        "DEBUG:root:For trip 5608285cf6858f3c7580c8b9, found 193 points\n"
       ]
      },
      {
       "output_type": "stream",
       "stream": "stderr",
       "text": [
        "DEBUG:root:sort_key = metadata.write_ts\n"
       ]
      },
      {
       "output_type": "stream",
       "stream": "stderr",
       "text": [
        "DEBUG:root:For trip 5608285df6858f3c7580c8c1, found 331 points\n"
       ]
      },
      {
       "output_type": "stream",
       "stream": "stderr",
       "text": [
        "DEBUG:root:sort_key = metadata.write_ts\n"
       ]
      },
      {
       "output_type": "stream",
       "stream": "stderr",
       "text": [
        "DEBUG:root:For trip 5608285df6858f3c7580c8e5, found 75 points\n"
       ]
      },
      {
       "output_type": "stream",
       "stream": "stderr",
       "text": [
        "DEBUG:root:sort_key = metadata.write_ts\n"
       ]
      },
      {
       "output_type": "stream",
       "stream": "stderr",
       "text": [
        "DEBUG:root:For trip 5608285df6858f3c7580c91d, found 59 points\n"
       ]
      },
      {
       "output_type": "stream",
       "stream": "stderr",
       "text": [
        "DEBUG:root:sort_key = metadata.write_ts\n"
       ]
      },
      {
       "output_type": "stream",
       "stream": "stderr",
       "text": [
        "DEBUG:root:For trip 5608285df6858f3c7580c931, found 42 points\n"
       ]
      },
      {
       "output_type": "stream",
       "stream": "stderr",
       "text": [
        "DEBUG:root:sort_key = metadata.write_ts\n"
       ]
      },
      {
       "output_type": "stream",
       "stream": "stderr",
       "text": [
        "DEBUG:root:For trip 5608285df6858f3c7580c939, found 45 points\n"
       ]
      },
      {
       "output_type": "stream",
       "stream": "stderr",
       "text": [
        "DEBUG:root:sort_key = metadata.write_ts\n"
       ]
      },
      {
       "output_type": "stream",
       "stream": "stderr",
       "text": [
        "DEBUG:root:For trip 5608285df6858f3c7580c94f, found 411 points\n"
       ]
      },
      {
       "output_type": "stream",
       "stream": "stderr",
       "text": [
        "DEBUG:root:sort_key = metadata.write_ts\n"
       ]
      },
      {
       "output_type": "stream",
       "stream": "stderr",
       "text": [
        "DEBUG:root:For trip 5608285df6858f3c7580c98b, found 147 points\n"
       ]
      },
      {
       "output_type": "stream",
       "stream": "stderr",
       "text": [
        "DEBUG:root:sort_key = metadata.write_ts\n"
       ]
      },
      {
       "output_type": "stream",
       "stream": "stderr",
       "text": [
        "DEBUG:root:For trip 5608285df6858f3c7580c98f, found 101 points\n"
       ]
      },
      {
       "output_type": "stream",
       "stream": "stderr",
       "text": [
        "DEBUG:root:sort_key = metadata.write_ts\n"
       ]
      },
      {
       "output_type": "stream",
       "stream": "stderr",
       "text": [
        "DEBUG:root:For trip 5608285df6858f3c7580c999, found 46 points\n"
       ]
      }
     ],
     "prompt_number": 49
    },
    {
     "cell_type": "code",
     "collapsed": false,
     "input": [
      "trip"
     ],
     "language": "python",
     "metadata": {},
     "outputs": [
      {
       "metadata": {},
       "output_type": "pyout",
       "prompt_number": 25,
       "text": [
        "Trip({u'end_place': ObjectId('5608285df6858f3c7580c99a'), u'user_id': UUID('b0d937d0-70ef-305e-9563-440369012b39'), u'start_loc': {u'type': u'Point', u'coordinates': [-122.0798907, 37.3965131]}, u'end_ts': 1441930612.622, u'start_ts': 1441930110.729, u'start_fmt_time': u'2015-09-10 17:08:30.729000-07:00', u'end_loc': {u'type': u'Point', u'coordinates': [-122.0881734, 37.3907896]}, u'source': u'DwellSegmentationTimeFilter', u'start_place': ObjectId('5608285df6858f3c7580c998'), u'end_fmt_time': u'2015-09-10 17:16:52.622000-07:00', u'duration': 501.89299988746643, u'_id': ObjectId('5608285df6858f3c7580c999')})"
       ]
      }
     ],
     "prompt_number": 25
    },
    {
     "cell_type": "code",
     "collapsed": false,
     "input": [
      "trip_points = list(esta.TimeSeries.get_time_series(trip.user_id).find_entries(None, esdt.get_time_query_for_trip(trip.get_id())))"
     ],
     "language": "python",
     "metadata": {},
     "outputs": [
      {
       "output_type": "stream",
       "stream": "stderr",
       "text": [
        "DEBUG:root:sort_key = metadata.write_ts\n"
       ]
      }
     ],
     "prompt_number": 29
    },
    {
     "cell_type": "code",
     "collapsed": false,
     "input": [
      "trip_points_df = esta.TimeSeries.get_time_series(trip.user_id).get_data_df(\"background/filtered_location\", esdt.get_time_query_for_trip(trip.get_id()))"
     ],
     "language": "python",
     "metadata": {},
     "outputs": [
      {
       "output_type": "stream",
       "stream": "stderr",
       "text": [
        "DEBUG:root:sort_key = metadata.write_ts\n"
       ]
      },
      {
       "output_type": "stream",
       "stream": "stderr",
       "text": [
        "DEBUG:root:ret_val = {u'loc': {u'type': u'Point', u'coordinates': [-122.0798907, 37.3965131]}, u'fmt_time': u'2015-09-10 17:08:30.729000-07:00', u'altitude': 0, u'ts': 1441930110.729, u'longitude': -122.0798907, u'latitude': 37.3965131, '_id': ObjectId('55f221437d65cb39ee988f82'), u'heading': 0, u'sensed_speed': 0, u'accuracy': 51} \n"
       ]
      },
      {
       "output_type": "stream",
       "stream": "stderr",
       "text": [
        "DEBUG:root:ret_val = {u'loc': {u'type': u'Point', u'coordinates': [-122.0802485, 37.396693]}, u'fmt_time': u'2015-09-10 17:08:45.065000-07:00', u'altitude': 0, u'ts': 1441930125.065, u'longitude': -122.0802485, u'latitude': 37.396693, '_id': ObjectId('55f221437d65cb39ee988f84'), u'heading': 0, u'sensed_speed': 0, u'accuracy': 48} \n"
       ]
      },
      {
       "output_type": "stream",
       "stream": "stderr",
       "text": [
        "DEBUG:root:ret_val = {u'loc': {u'type': u'Point', u'coordinates': [-122.077798, 37.3958855]}, u'fmt_time': u'2015-09-10 17:09:22.484000-07:00', u'altitude': 0, u'ts': 1441930162.484, u'longitude': -122.077798, u'latitude': 37.3958855, '_id': ObjectId('55f221437d65cb39ee988f87'), u'heading': 0, u'sensed_speed': 0, u'accuracy': 49.5} \n"
       ]
      },
      {
       "output_type": "stream",
       "stream": "stderr",
       "text": [
        "DEBUG:root:ret_val = {u'loc': {u'type': u'Point', u'coordinates': [-122.0813401, 37.3975994]}, u'fmt_time': u'2015-09-10 17:09:44.553000-07:00', u'altitude': 0, u'ts': 1441930184.553, u'longitude': -122.0813401, u'latitude': 37.3975994, '_id': ObjectId('55f221447d65cb39ee988f8b'), u'heading': 0, u'sensed_speed': 0, u'accuracy': 36} \n"
       ]
      },
      {
       "output_type": "stream",
       "stream": "stderr",
       "text": [
        "DEBUG:root:ret_val = {u'loc': {u'type': u'Point', u'coordinates': [-122.0813244, 37.3975955]}, u'fmt_time': u'2015-09-10 17:10:52.220000-07:00', u'altitude': 0, u'ts': 1441930252.22, u'longitude': -122.0813244, u'latitude': 37.3975955, '_id': ObjectId('55f221447d65cb39ee988f8f'), u'heading': 0, u'sensed_speed': 0, u'accuracy': 54.952} \n"
       ]
      },
      {
       "output_type": "stream",
       "stream": "stderr",
       "text": [
        "DEBUG:root:ret_val = {u'loc': {u'type': u'Point', u'coordinates': [-122.0777584, 37.3959368]}, u'fmt_time': u'2015-09-10 17:11:52.261000-07:00', u'altitude': 0, u'ts': 1441930312.261, u'longitude': -122.0777584, u'latitude': 37.3959368, '_id': ObjectId('55f221447d65cb39ee988f95'), u'heading': 0, u'sensed_speed': 0, u'accuracy': 72} \n"
       ]
      },
      {
       "output_type": "stream",
       "stream": "stderr",
       "text": [
        "DEBUG:root:ret_val = {u'loc': {u'type': u'Point', u'coordinates': [-122.0831444, 37.3958259]}, u'fmt_time': u'2015-09-10 17:13:08.477000-07:00', u'altitude': 0, u'ts': 1441930388.477, u'longitude': -122.0831444, u'latitude': 37.3958259, '_id': ObjectId('55f221457d65cb39ee988f99'), u'heading': 0, u'sensed_speed': 0, u'accuracy': 85.5} \n"
       ]
      },
      {
       "output_type": "stream",
       "stream": "stderr",
       "text": [
        "DEBUG:root:ret_val = {u'loc': {u'type': u'Point', u'coordinates': [-122.0836995, 37.3949067]}, u'fmt_time': u'2015-09-10 17:13:27.735000-07:00', u'altitude': 0, u'ts': 1441930407.735, u'longitude': -122.0836995, u'latitude': 37.3949067, '_id': ObjectId('55f221457d65cb39ee988f9c'), u'heading': 0, u'sensed_speed': 0, u'accuracy': 36} \n"
       ]
      },
      {
       "output_type": "stream",
       "stream": "stderr",
       "text": [
        "DEBUG:root:ret_val = {u'loc': {u'type': u'Point', u'coordinates': [-122.0861753, 37.3910393]}, u'fmt_time': u'2015-09-10 17:14:12.185000-07:00', u'altitude': 0, u'ts': 1441930452.185, u'longitude': -122.0861753, u'latitude': 37.3910393, '_id': ObjectId('55f221457d65cb39ee988f9f'), u'heading': 0, u'sensed_speed': 0, u'accuracy': 40.5} \n"
       ]
      },
      {
       "output_type": "stream",
       "stream": "stderr",
       "text": [
        "DEBUG:root:ret_val = {u'loc': {u'type': u'Point', u'coordinates': [-122.0877208, 37.3909629]}, u'fmt_time': u'2015-09-10 17:14:43.320000-07:00', u'altitude': 0, u'ts': 1441930483.32, u'longitude': -122.0877208, u'latitude': 37.3909629, '_id': ObjectId('55f221457d65cb39ee988fa1'), u'heading': 0, u'sensed_speed': 0, u'accuracy': 52.607} \n"
       ]
      },
      {
       "output_type": "stream",
       "stream": "stderr",
       "text": [
        "DEBUG:root:ret_val = {u'loc': {u'type': u'Point', u'coordinates': [-122.0881443, 37.3907636]}, u'fmt_time': u'2015-09-10 17:15:18.520000-07:00', u'altitude': 0, u'ts': 1441930518.52, u'longitude': -122.0881443, u'latitude': 37.3907636, '_id': ObjectId('55f221467d65cb39ee988fa6'), u'heading': 0, u'sensed_speed': 0, u'accuracy': 59.319} \n"
       ]
      },
      {
       "output_type": "stream",
       "stream": "stderr",
       "text": [
        "DEBUG:root:ret_val = {u'loc': {u'type': u'Point', u'coordinates': [-122.0881441, 37.3907865]}, u'fmt_time': u'2015-09-10 17:15:49.593000-07:00', u'altitude': 0, u'ts': 1441930549.593, u'longitude': -122.0881441, u'latitude': 37.3907865, '_id': ObjectId('55f221467d65cb39ee988fa9'), u'heading': 0, u'sensed_speed': 0, u'accuracy': 24} \n"
       ]
      },
      {
       "output_type": "stream",
       "stream": "stderr",
       "text": [
        "DEBUG:root:ret_val = {u'loc': {u'type': u'Point', u'coordinates': [-122.0881781, 37.3907666]}, u'fmt_time': u'2015-09-10 17:16:20.640000-07:00', u'altitude': 0, u'ts': 1441930580.64, u'longitude': -122.0881781, u'latitude': 37.3907666, '_id': ObjectId('55f221467d65cb39ee988fab'), u'heading': 0, u'sensed_speed': 0, u'accuracy': 59.009} \n"
       ]
      }
     ],
     "prompt_number": 30
    },
    {
     "cell_type": "code",
     "collapsed": false,
     "input": [
      "list(trip_points_df._id)"
     ],
     "language": "python",
     "metadata": {},
     "outputs": [
      {
       "metadata": {},
       "output_type": "pyout",
       "prompt_number": 34,
       "text": [
        "[ObjectId('55f221437d65cb39ee988f82'),\n",
        " ObjectId('55f221437d65cb39ee988f84'),\n",
        " ObjectId('55f221437d65cb39ee988f87'),\n",
        " ObjectId('55f221447d65cb39ee988f8b'),\n",
        " ObjectId('55f221447d65cb39ee988f8f'),\n",
        " ObjectId('55f221447d65cb39ee988f95'),\n",
        " ObjectId('55f221457d65cb39ee988f99'),\n",
        " ObjectId('55f221457d65cb39ee988f9c'),\n",
        " ObjectId('55f221457d65cb39ee988f9f'),\n",
        " ObjectId('55f221457d65cb39ee988fa1'),\n",
        " ObjectId('55f221467d65cb39ee988fa6'),\n",
        " ObjectId('55f221467d65cb39ee988fa9'),\n",
        " ObjectId('55f221467d65cb39ee988fab')]"
       ]
      }
     ],
     "prompt_number": 34
    },
    {
     "cell_type": "code",
     "collapsed": false,
     "input": [
      "json.load(open(\"/Users/shankari/e-mission/e-mission-server/emission/tests/data/smoothing_data/trip_list.txt\"), object_hook=bju.object_hook)"
     ],
     "language": "python",
     "metadata": {},
     "outputs": [
      {
       "metadata": {},
       "output_type": "pyout",
       "prompt_number": 50,
       "text": [
        "[{u'_id': ObjectId('56081ad3f6858f3a71f65e1f'),\n",
        "  u'duration': 3911.911999940872,\n",
        "  u'end_fmt_time': u'2015-08-21 19:11:28.817000-07:00',\n",
        "  u'end_loc': {u'coordinates': [-122.0862011, 37.3910039], u'type': u'Point'},\n",
        "  u'end_place': ObjectId('56081ad3f6858f3a71f65e20'),\n",
        "  u'end_ts': 1440209488.817,\n",
        "  u'source': u'DwellSegmentationTimeFilter',\n",
        "  u'start_fmt_time': u'2015-08-21 18:06:16.905000-07:00',\n",
        "  u'start_loc': {u'coordinates': [-122.4426899, 37.7280596],\n",
        "   u'type': u'Point'},\n",
        "  u'start_place': ObjectId('56081ad3f6858f3a71f65e1e'),\n",
        "  u'start_ts': 1440205576.905,\n",
        "  u'user_id': UUID('0763de67-f61e-3f5d-90e7-518e69793954')},\n",
        " {u'_id': ObjectId('56081ad3f6858f3a71f65e2d'),\n",
        "  u'duration': 1213.9320001602173,\n",
        "  u'end_fmt_time': u'2015-08-22 16:00:40.644000-07:00',\n",
        "  u'end_loc': {u'coordinates': [-122.088923, 37.3911364], u'type': u'Point'},\n",
        "  u'end_place': ObjectId('56081ad3f6858f3a71f65e2e'),\n",
        "  u'end_ts': 1440284440.644,\n",
        "  u'source': u'DwellSegmentationTimeFilter',\n",
        "  u'start_fmt_time': u'2015-08-22 15:40:26.712000-07:00',\n",
        "  u'start_loc': {u'coordinates': [-122.0814687, 37.3918311],\n",
        "   u'type': u'Point'},\n",
        "  u'start_place': ObjectId('56081ad3f6858f3a71f65e2c'),\n",
        "  u'start_ts': 1440283226.712,\n",
        "  u'user_id': UUID('0763de67-f61e-3f5d-90e7-518e69793954')},\n",
        " {u'_id': ObjectId('5608285cf6858f3c7580c8b9'),\n",
        "  u'duration': 2128.675999879837,\n",
        "  u'end_fmt_time': u'2015-08-24 09:07:19.533000-07:00',\n",
        "  u'end_loc': {u'coordinates': [-121.9036344, 37.3284675], u'type': u'Point'},\n",
        "  u'end_place': ObjectId('5608285cf6858f3c7580c8ba'),\n",
        "  u'end_ts': 1440432439.533,\n",
        "  u'source': u'DwellSegmentationTimeFilter',\n",
        "  u'start_fmt_time': u'2015-08-24 08:31:50.857000-07:00',\n",
        "  u'start_loc': {u'coordinates': [-122.083262, 37.4028433], u'type': u'Point'},\n",
        "  u'start_place': ObjectId('5608285cf6858f3c7580c8b8'),\n",
        "  u'start_ts': 1440430310.857,\n",
        "  u'user_id': UUID('b0d937d0-70ef-305e-9563-440369012b39')},\n",
        " {u'_id': ObjectId('5608285df6858f3c7580c8c1'),\n",
        "  u'duration': 28895.774000167847,\n",
        "  u'end_fmt_time': u'2015-08-25 16:39:24.213000-07:00',\n",
        "  u'end_loc': {u'coordinates': [-122.0931936, 37.3645939], u'type': u'Point'},\n",
        "  u'end_place': ObjectId('5608285df6858f3c7580c8c2'),\n",
        "  u'end_ts': 1440545964.213,\n",
        "  u'source': u'DwellSegmentationTimeFilter',\n",
        "  u'start_fmt_time': u'2015-08-25 08:37:48.439000-07:00',\n",
        "  u'start_loc': {u'coordinates': [-122.0882077, 37.3881928],\n",
        "   u'type': u'Point'},\n",
        "  u'start_place': ObjectId('5608285cf6858f3c7580c8c0'),\n",
        "  u'start_ts': 1440517068.439,\n",
        "  u'user_id': UUID('b0d937d0-70ef-305e-9563-440369012b39')},\n",
        " {u'_id': ObjectId('5608285df6858f3c7580c8e5'),\n",
        "  u'duration': 797.3559999465942,\n",
        "  u'end_fmt_time': u'2015-08-28 08:29:01.800000-07:00',\n",
        "  u'end_loc': {u'coordinates': [-122.0837477, 37.4039396], u'type': u'Point'},\n",
        "  u'end_place': ObjectId('5608285df6858f3c7580c8e6'),\n",
        "  u'end_ts': 1440775741.8,\n",
        "  u'source': u'DwellSegmentationTimeFilter',\n",
        "  u'start_fmt_time': u'2015-08-28 08:15:44.444000-07:00',\n",
        "  u'start_loc': {u'coordinates': [-122.0850217, 37.3928567],\n",
        "   u'type': u'Point'},\n",
        "  u'start_place': ObjectId('5608285df6858f3c7580c8e4'),\n",
        "  u'start_ts': 1440774944.444,\n",
        "  u'user_id': UUID('b0d937d0-70ef-305e-9563-440369012b39')},\n",
        " {u'_id': ObjectId('5608285df6858f3c7580c91d'),\n",
        "  u'duration': 689.8570001125336,\n",
        "  u'end_fmt_time': u'2015-09-02 08:43:37.707000-07:00',\n",
        "  u'end_loc': {u'coordinates': [-121.948556, 37.2792126], u'type': u'Point'},\n",
        "  u'end_place': ObjectId('5608285df6858f3c7580c91e'),\n",
        "  u'end_ts': 1441208617.707,\n",
        "  u'source': u'DwellSegmentationTimeFilter',\n",
        "  u'start_fmt_time': u'2015-09-02 08:32:07.850000-07:00',\n",
        "  u'start_loc': {u'coordinates': [-121.9073733, 37.321086], u'type': u'Point'},\n",
        "  u'start_place': ObjectId('5608285df6858f3c7580c91c'),\n",
        "  u'start_ts': 1441207927.85,\n",
        "  u'user_id': UUID('b0d937d0-70ef-305e-9563-440369012b39')},\n",
        " {u'_id': ObjectId('5608285df6858f3c7580c931'),\n",
        "  u'duration': 485.9979999065399,\n",
        "  u'end_fmt_time': u'2015-09-03 08:39:21.320000-07:00',\n",
        "  u'end_loc': {u'coordinates': [-122.0862756, 37.3909557], u'type': u'Point'},\n",
        "  u'end_place': ObjectId('5608285df6858f3c7580c932'),\n",
        "  u'end_ts': 1441294761.32,\n",
        "  u'source': u'DwellSegmentationTimeFilter',\n",
        "  u'start_fmt_time': u'2015-09-03 08:31:15.322000-07:00',\n",
        "  u'start_loc': {u'coordinates': [-122.0847801, 37.4013634],\n",
        "   u'type': u'Point'},\n",
        "  u'start_place': ObjectId('5608285df6858f3c7580c930'),\n",
        "  u'start_ts': 1441294275.322,\n",
        "  u'user_id': UUID('b0d937d0-70ef-305e-9563-440369012b39')},\n",
        " {u'_id': ObjectId('5608285df6858f3c7580c939'),\n",
        "  u'duration': 626.2160000801086,\n",
        "  u'end_fmt_time': u'2015-09-03 17:15:19.161000-07:00',\n",
        "  u'end_loc': {u'coordinates': [-122.0801769, 37.3921698], u'type': u'Point'},\n",
        "  u'end_place': ObjectId('5608285df6858f3c7580c93a'),\n",
        "  u'end_ts': 1441325719.161,\n",
        "  u'source': u'DwellSegmentationTimeFilter',\n",
        "  u'start_fmt_time': u'2015-09-03 17:04:52.945000-07:00',\n",
        "  u'start_loc': {u'coordinates': [-122.0861897, 37.3910416],\n",
        "   u'type': u'Point'},\n",
        "  u'start_place': ObjectId('5608285df6858f3c7580c938'),\n",
        "  u'start_ts': 1441325092.945,\n",
        "  u'user_id': UUID('b0d937d0-70ef-305e-9563-440369012b39')},\n",
        " {u'_id': ObjectId('5608285df6858f3c7580c94f'),\n",
        "  u'duration': 4761.78400015831,\n",
        "  u'end_fmt_time': u'2015-09-07 09:42:20.933000-07:00',\n",
        "  u'end_loc': {u'coordinates': [-122.394481, 37.7766259], u'type': u'Point'},\n",
        "  u'end_place': ObjectId('5608285df6858f3c7580c950'),\n",
        "  u'end_ts': 1441644140.933,\n",
        "  u'source': u'DwellSegmentationTimeFilter',\n",
        "  u'start_fmt_time': u'2015-09-07 08:22:59.149000-07:00',\n",
        "  u'start_loc': {u'coordinates': [-122.0865169, 37.3986848],\n",
        "   u'type': u'Point'},\n",
        "  u'start_place': ObjectId('5608285df6858f3c7580c94e'),\n",
        "  u'start_ts': 1441639379.149,\n",
        "  u'user_id': UUID('b0d937d0-70ef-305e-9563-440369012b39')},\n",
        " {u'_id': ObjectId('5608285df6858f3c7580c98b'),\n",
        "  u'duration': 1522.0360000133514,\n",
        "  u'end_fmt_time': u'2015-09-10 13:40:22.318000-07:00',\n",
        "  u'end_loc': {u'coordinates': [-122.0862768, 37.3909523], u'type': u'Point'},\n",
        "  u'end_place': ObjectId('5608285df6858f3c7580c98c'),\n",
        "  u'end_ts': 1441917622.318,\n",
        "  u'source': u'DwellSegmentationTimeFilter',\n",
        "  u'start_fmt_time': u'2015-09-10 13:15:00.282000-07:00',\n",
        "  u'start_loc': {u'coordinates': [-122.0777908, 37.3957365],\n",
        "   u'type': u'Point'},\n",
        "  u'start_place': ObjectId('5608285df6858f3c7580c98a'),\n",
        "  u'start_ts': 1441916100.282,\n",
        "  u'user_id': UUID('b0d937d0-70ef-305e-9563-440369012b39')},\n",
        " {u'_id': ObjectId('5608285df6858f3c7580c98f'),\n",
        "  u'duration': 1912.962000131607,\n",
        "  u'end_fmt_time': u'2015-09-10 14:29:49.611000-07:00',\n",
        "  u'end_loc': {u'coordinates': [-122.0806359, 37.3998045], u'type': u'Point'},\n",
        "  u'end_place': ObjectId('5608285df6858f3c7580c990'),\n",
        "  u'end_ts': 1441920589.611,\n",
        "  u'source': u'DwellSegmentationTimeFilter',\n",
        "  u'start_fmt_time': u'2015-09-10 13:57:56.649000-07:00',\n",
        "  u'start_loc': {u'coordinates': [-122.0861761, 37.3910551],\n",
        "   u'type': u'Point'},\n",
        "  u'start_place': ObjectId('5608285df6858f3c7580c98e'),\n",
        "  u'start_ts': 1441918676.649,\n",
        "  u'user_id': UUID('b0d937d0-70ef-305e-9563-440369012b39')},\n",
        " {u'_id': ObjectId('5608285df6858f3c7580c999'),\n",
        "  u'duration': 501.89299988746643,\n",
        "  u'end_fmt_time': u'2015-09-10 17:16:52.622000-07:00',\n",
        "  u'end_loc': {u'coordinates': [-122.0881734, 37.3907896], u'type': u'Point'},\n",
        "  u'end_place': ObjectId('5608285df6858f3c7580c99a'),\n",
        "  u'end_ts': 1441930612.622,\n",
        "  u'source': u'DwellSegmentationTimeFilter',\n",
        "  u'start_fmt_time': u'2015-09-10 17:08:30.729000-07:00',\n",
        "  u'start_loc': {u'coordinates': [-122.0798907, 37.3965131],\n",
        "   u'type': u'Point'},\n",
        "  u'start_place': ObjectId('5608285df6858f3c7580c998'),\n",
        "  u'start_ts': 1441930110.729,\n",
        "  u'user_id': UUID('b0d937d0-70ef-305e-9563-440369012b39')}]"
       ]
      }
     ],
     "prompt_number": 50
    },
    {
     "cell_type": "code",
     "collapsed": false,
     "input": [
      "import bson.objectid as boi"
     ],
     "language": "python",
     "metadata": {},
     "outputs": [],
     "prompt_number": 51
    },
    {
     "cell_type": "code",
     "collapsed": false,
     "input": [
      "import emission.core.get_database as edb\n",
      "import emission.core.wrapper.trip as ecwt"
     ],
     "language": "python",
     "metadata": {},
     "outputs": [],
     "prompt_number": 60
    },
    {
     "cell_type": "code",
     "collapsed": false,
     "input": [
      "trips = json.load(open(\"/Users/shankari/e-mission/e-mission-server/emission/tests/data/smoothing_data/trip_list.txt\"),\n",
      "                  object_hook=bju.object_hook)\n",
      "for trip in trips:\n",
      "    edb.get_trip_new_db().save(trip)\n",
      "\n",
      "trips = [ecwt.Trip(t) for t in trips]"
     ],
     "language": "python",
     "metadata": {},
     "outputs": [],
     "prompt_number": 61
    },
    {
     "cell_type": "code",
     "collapsed": false,
     "input": [
      "sections = json.load(open(\"/Users/shankari/e-mission/e-mission-server/emission/tests/data/smoothing_data/section_list.txt\"),\n",
      "                  object_hook=bju.object_hook)\n",
      "for section in sections:\n",
      "    edb.get_section_new_db().save(section)"
     ],
     "language": "python",
     "metadata": {},
     "outputs": [],
     "prompt_number": 76
    },
    {
     "cell_type": "code",
     "collapsed": false,
     "input": [
      "def loadPointsForTrip(trip_id):\n",
      "    import emission.core.get_database as edb\n",
      "\n",
      "    entries = json.load(open(\"/Users/shankari/e-mission/e-mission-server/emission/tests/data/smoothing_data/%s\" % trip_id),\n",
      "                                 object_hook=bju.object_hook)\n",
      "    for entry in entries:\n",
      "        edb.get_timeseries_db().save(entry)"
     ],
     "language": "python",
     "metadata": {},
     "outputs": [],
     "prompt_number": 71
    },
    {
     "cell_type": "code",
     "collapsed": false,
     "input": [
      "import emission.storage.decorations.timeline as esdtl"
     ],
     "language": "python",
     "metadata": {},
     "outputs": [],
     "prompt_number": 87
    },
    {
     "cell_type": "code",
     "collapsed": false,
     "input": [
      "import emission.analysis.plotting.leaflet_osm.our_plotter as lo\n",
      "import emission.analysis.plotting.leaflet_osm.ipython_helper as ipy\n",
      "import emission.analysis.plotting.geojson.geojson_feature_converter as gfc"
     ],
     "language": "python",
     "metadata": {},
     "outputs": [],
     "prompt_number": 89
    },
    {
     "cell_type": "code",
     "collapsed": false,
     "input": [
      "zizag_trip"
     ],
     "language": "python",
     "metadata": {},
     "outputs": [
      {
       "metadata": {},
       "output_type": "pyout",
       "prompt_number": 96,
       "text": [
        "Trip({u'end_place': ObjectId('5608285df6858f3c7580c950'), u'user_id': UUID('b0d937d0-70ef-305e-9563-440369012b39'), u'start_loc': {u'type': u'Point', u'coordinates': [-122.0865169, 37.3986848]}, u'end_ts': 1441644140.933, u'start_ts': 1441639379.149, u'start_fmt_time': u'2015-09-07 08:22:59.149000-07:00', u'end_loc': {u'type': u'Point', u'coordinates': [-122.394481, 37.7766259]}, u'source': u'DwellSegmentationTimeFilter', u'start_place': ObjectId('5608285df6858f3c7580c94e'), u'end_fmt_time': u'2015-09-07 09:42:20.933000-07:00', u'duration': 4761.78400015831, u'_id': ObjectId('5608285df6858f3c7580c94f')})"
       ]
      }
     ],
     "prompt_number": 96
    },
    {
     "cell_type": "code",
     "collapsed": false,
     "input": [
      "edb.get_place_db().save({\"_id\": boi.ObjectId('5608285df6858f3c7580c94e'),\n",
      "                         \"exit_ts\": 1441639379.149,\n",
      "                         \"exit_fmt_time\": '2015-09-07 08:22:59.149000-07:00',\n",
      "                         \"location\": zizag_trip.start_loc})"
     ],
     "language": "python",
     "metadata": {},
     "outputs": [
      {
       "metadata": {},
       "output_type": "pyout",
       "prompt_number": 107,
       "text": [
        "ObjectId('5608285df6858f3c7580c94e')"
       ]
      }
     ],
     "prompt_number": 107
    },
    {
     "cell_type": "code",
     "collapsed": false,
     "input": [
      "edb.get_place_db().save({\"_id\": boi.ObjectId('5608285df6858f3c7580c950'),\n",
      "                         \"enter_ts\": 1441644140.933,\n",
      "                         \"enter_fmt_time\": '2015-09-07 09:42:20.933000-07:00',\n",
      "                         \"location\": zizag_trip.end_loc})"
     ],
     "language": "python",
     "metadata": {},
     "outputs": [
      {
       "metadata": {},
       "output_type": "pyout",
       "prompt_number": 108,
       "text": [
        "ObjectId('5608285df6858f3c7580c950')"
       ]
      }
     ],
     "prompt_number": 108
    },
    {
     "cell_type": "code",
     "collapsed": false,
     "input": [
      "zizag_trip = trips[8]\n",
      "loadPointsForTrip(zizag_trip.get_id())\n",
      "lt = esdtl.Timeline([], [zizag_trip])\n",
      "lt.fill_start_end_places()"
     ],
     "language": "python",
     "metadata": {},
     "outputs": [
      {
       "output_type": "stream",
       "stream": "stderr",
       "text": [
        "DEBUG:root:len(places) = 0, len(trips) = 1\n"
       ]
      },
      {
       "output_type": "stream",
       "stream": "stderr",
       "text": [
        "DEBUG:root:Starting with element of type trip, id 5608285df6858f3c7580c94f, details Trip({u'end_place': ObjectId('5608285df6858f3c7580c950'), u'user_id': UUID('b0d937d0-70ef-305e-9563-440369012b39'), u'start_loc': {u'type': u'Point', u'coordinates': [-122.0865169, 37.3986848]}, u'end_ts': 1441644140.933, u'start_ts': 1441639379.149, u'start_fmt_time': u'2015-09-07 08:22:59.149000-07:00', u'end_loc': {u'type': u'Point', u'coordinates': [-122.394481, 37.7766259]}, u'source': u'DwellSegmentationTimeFilter', u'start_place': ObjectId('5608285df6858f3c7580c94e'), u'end_fmt_time': u'2015-09-07 09:42:20.933000-07:00', u'duration': 4761.78400015831, u'_id': ObjectId('5608285df6858f3c7580c94f')})\n"
       ]
      },
      {
       "output_type": "stream",
       "stream": "stderr",
       "text": [
        "DEBUG:root:len(trips) = 1, adding start_place 5608285df6858f3c7580c94e and end_place 5608285df6858f3c7580c950\n"
       ]
      }
     ],
     "prompt_number": 109
    },
    {
     "cell_type": "code",
     "collapsed": false,
     "input": [
      "map_list = lo.get_maps_for_geojson_list([gfc.trip_to_geojson(zizag_trip, lt)])"
     ],
     "language": "python",
     "metadata": {},
     "outputs": [
      {
       "output_type": "stream",
       "stream": "stderr",
       "text": [
        "DEBUG:root:About to execute query {'trip_id': ObjectId('5608285df6858f3c7580c94f'), 'user_id': UUID('b0d937d0-70ef-305e-9563-440369012b39')}\n"
       ]
      },
      {
       "output_type": "stream",
       "stream": "stderr",
       "text": [
        "DEBUG:root:len(places) = 1, len(trips) = 2\n"
       ]
      },
      {
       "output_type": "stream",
       "stream": "stderr",
       "text": [
        "DEBUG:root:Starting with element of type trip, id 5608287af6858f3c7580cac0, details Section({u'user_id': UUID('b0d937d0-70ef-305e-9563-440369012b39'), u'sensed_mode': 0, u'start_loc': {u'type': u'Point', u'coordinates': [-122.0865169, 37.3986848]}, u'end_ts': 1441644047.362, u'start_ts': 1441639379.149, u'start_fmt_time': u'2015-09-07 08:22:59.149000-07:00', u'end_loc': {u'type': u'Point', u'coordinates': [-122.3948396, 37.7761944]}, u'source': u'SmoothedHighConfidenceMotion', u'end_fmt_time': u'2015-09-07 09:40:47.362000-07:00', u'duration': 4668.213000059128, u'end_stop': ObjectId('5608287af6858f3c7580cac2'), u'_id': ObjectId('5608287af6858f3c7580cac0'), u'trip_id': ObjectId('5608285df6858f3c7580c94f')})\n"
       ]
      },
      {
       "output_type": "stream",
       "stream": "stderr",
       "text": [
        "DEBUG:root:sort_key = metadata.write_ts\n"
       ]
      },
      {
       "output_type": "stream",
       "stream": "stderr",
       "text": [
        "DEBUG:root:ret_val = {u'loc': {u'type': u'Point', u'coordinates': [-122.0865169, 37.3986848]}, u'fmt_time': u'2015-09-07 08:22:59.149000-07:00', u'altitude': 0, u'ts': 1441639379.149, u'longitude': -122.0865169, u'latitude': 37.3986848, '_id': ObjectId('55edafe27d65cb39ee9882b8'), u'heading': 0, u'sensed_speed': 0, u'accuracy': 55.5} \n"
       ]
      },
      {
       "output_type": "stream",
       "stream": "stderr",
       "text": [
        "DEBUG:root:ret_val = {u'loc': {u'type': u'Point', u'coordinates': [-122.0962273, 37.4030409]}, u'fmt_time': u'2015-09-07 08:23:35.196000-07:00', u'altitude': 0, u'ts': 1441639415.196, u'longitude': -122.0962273, u'latitude': 37.4030409, '_id': ObjectId('55edafe27d65cb39ee9882bc'), u'heading': 0, u'sensed_speed': 0, u'accuracy': 52.5} \n"
       ]
      },
      {
       "output_type": "stream",
       "stream": "stderr",
       "text": [
        "DEBUG:root:ret_val = {u'loc': {u'type': u'Point', u'coordinates': [-122.1025235, 37.40482]}, u'fmt_time': u'2015-09-07 08:24:06.357000-07:00', u'altitude': 0, u'ts': 1441639446.357, u'longitude': -122.1025235, u'latitude': 37.40482, '_id': ObjectId('55edafe27d65cb39ee9882bf'), u'heading': 0, u'sensed_speed': 0, u'accuracy': 30.748} \n"
       ]
      },
      {
       "output_type": "stream",
       "stream": "stderr",
       "text": [
        "DEBUG:root:ret_val = {u'loc': {u'type': u'Point', u'coordinates': [-122.106876, 37.4073706]}, u'fmt_time': u'2015-09-07 08:24:37.505000-07:00', u'altitude': 0, u'ts': 1441639477.505, u'longitude': -122.106876, u'latitude': 37.4073706, '_id': ObjectId('55edafe37d65cb39ee9882c2'), u'heading': 0, u'sensed_speed': 0, u'accuracy': 51} \n"
       ]
      },
      {
       "output_type": "stream",
       "stream": "stderr",
       "text": [
        "DEBUG:root:ret_val = {u'loc': {u'type': u'Point', u'coordinates': [-122.107543, 37.4075664]}, u'fmt_time': u'2015-09-07 08:25:09.280000-07:00', u'altitude': 0, u'ts': 1441639509.28, u'longitude': -122.107543, u'latitude': 37.4075664, '_id': ObjectId('55edafe37d65cb39ee9882c5'), u'heading': 0, u'sensed_speed': 0, u'accuracy': 46.358} \n"
       ]
      },
      {
       "output_type": "stream",
       "stream": "stderr",
       "text": [
        "DEBUG:root:ret_val = {u'loc': {u'type': u'Point', u'coordinates': [-122.107666, 37.4077599]}, u'fmt_time': u'2015-09-07 08:25:41.913000-07:00', u'altitude': 0, u'ts': 1441639541.913, u'longitude': -122.107666, u'latitude': 37.4077599, '_id': ObjectId('55edafe37d65cb39ee9882c7'), u'heading': 0, u'sensed_speed': 0, u'accuracy': 27.835} \n"
       ]
      },
      {
       "output_type": "stream",
       "stream": "stderr",
       "text": [
        "DEBUG:root:ret_val = {u'loc': {u'type': u'Point', u'coordinates': [-122.1092916, 37.4082503]}, u'fmt_time': u'2015-09-07 08:26:12.202000-07:00', u'altitude': 0, u'ts': 1441639572.202, u'longitude': -122.1092916, u'latitude': 37.4082503, '_id': ObjectId('55edafe37d65cb39ee9882ca'), u'heading': 0, u'sensed_speed': 0, u'accuracy': 49.5} \n"
       ]
      },
      {
       "output_type": "stream",
       "stream": "stderr",
       "text": [
        "DEBUG:root:ret_val = {u'loc': {u'type': u'Point', u'coordinates': [-122.1134991, 37.4110033]}, u'fmt_time': u'2015-09-07 08:26:43.226000-07:00', u'altitude': 0, u'ts': 1441639603.226, u'longitude': -122.1134991, u'latitude': 37.4110033, '_id': ObjectId('55edafe37d65cb39ee9882cc'), u'heading': 0, u'sensed_speed': 0, u'accuracy': 40.5} \n"
       ]
      },
      {
       "output_type": "stream",
       "stream": "stderr",
       "text": [
        "DEBUG:root:ret_val = {u'loc': {u'type': u'Point', u'coordinates': [-122.1190713, 37.4151152]}, u'fmt_time': u'2015-09-07 08:27:13.255000-07:00', u'altitude': 0, u'ts': 1441639633.255, u'longitude': -122.1190713, u'latitude': 37.4151152, '_id': ObjectId('55edafe37d65cb39ee9882cf'), u'heading': 0, u'sensed_speed': 0, u'accuracy': 36} \n"
       ]
      },
      {
       "output_type": "stream",
       "stream": "stderr",
       "text": [
        "DEBUG:root:ret_val = {u'loc': {u'type': u'Point', u'coordinates': [-122.1259294, 37.4189707]}, u'fmt_time': u'2015-09-07 08:27:41.081000-07:00', u'altitude': 0, u'ts': 1441639661.081, u'longitude': -122.1259294, u'latitude': 37.4189707, '_id': ObjectId('55edafe47d65cb39ee9882d2'), u'heading': 0, u'sensed_speed': 0, u'accuracy': 40.5} \n"
       ]
      },
      {
       "output_type": "stream",
       "stream": "stderr",
       "text": [
        "DEBUG:root:ret_val = {u'loc': {u'type': u'Point', u'coordinates': [-122.1391066, 37.4267244]}, u'fmt_time': u'2015-09-07 08:28:48.180000-07:00', u'altitude': 0, u'ts': 1441639728.18, u'longitude': -122.1391066, u'latitude': 37.4267244, '_id': ObjectId('55edafe47d65cb39ee9882d6'), u'heading': 0, u'sensed_speed': 0, u'accuracy': 39} \n"
       ]
      },
      {
       "output_type": "stream",
       "stream": "stderr",
       "text": [
        "DEBUG:root:ret_val = {u'loc': {u'type': u'Point', u'coordinates': [-122.1391066, 37.4267244]}, u'fmt_time': u'2015-09-07 08:28:58.703000-07:00', u'altitude': 0, u'ts': 1441639738.703, u'longitude': -122.1391066, u'latitude': 37.4267244, '_id': ObjectId('55edafe47d65cb39ee9882d8'), u'heading': 0, u'sensed_speed': 0, u'accuracy': 39} \n"
       ]
      },
      {
       "output_type": "stream",
       "stream": "stderr",
       "text": [
        "DEBUG:root:ret_val = {u'loc': {u'type': u'Point', u'coordinates': [-122.1416312, 37.4293277]}, u'fmt_time': u'2015-09-07 08:29:30.267000-07:00', u'altitude': 0, u'ts': 1441639770.267, u'longitude': -122.1416312, u'latitude': 37.4293277, '_id': ObjectId('55edafe47d65cb39ee9882da'), u'heading': 0, u'sensed_speed': 0, u'accuracy': 40.5} \n"
       ]
      },
      {
       "output_type": "stream",
       "stream": "stderr",
       "text": [
        "DEBUG:root:ret_val = {u'loc': {u'type': u'Point', u'coordinates': [-122.1416027, 37.4293148]}, u'fmt_time': u'2015-09-07 08:30:00.298000-07:00', u'altitude': 0, u'ts': 1441639800.298, u'longitude': -122.1416027, u'latitude': 37.4293148, '_id': ObjectId('55edafe47d65cb39ee9882dd'), u'heading': 0, u'sensed_speed': 0, u'accuracy': 40.5} \n"
       ]
      },
      {
       "output_type": "stream",
       "stream": "stderr",
       "text": [
        "DEBUG:root:ret_val = {u'loc': {u'type': u'Point', u'coordinates': [-122.1421434, 37.4293415]}, u'fmt_time': u'2015-09-07 08:30:31.494000-07:00', u'altitude': 0, u'ts': 1441639831.494, u'longitude': -122.1421434, u'latitude': 37.4293415, '_id': ObjectId('55edafe47d65cb39ee9882e0'), u'heading': 0, u'sensed_speed': 0, u'accuracy': 51} \n"
       ]
      },
      {
       "output_type": "stream",
       "stream": "stderr",
       "text": [
        "DEBUG:root:ret_val = {u'loc': {u'type': u'Point', u'coordinates': [-122.146389, 37.4313212]}, u'fmt_time': u'2015-09-07 08:31:02.694000-07:00', u'altitude': 0, u'ts': 1441639862.694, u'longitude': -122.146389, u'latitude': 37.4313212, '_id': ObjectId('55edafe57d65cb39ee9882e2'), u'heading': 0, u'sensed_speed': 0, u'accuracy': 44.413} \n"
       ]
      },
      {
       "output_type": "stream",
       "stream": "stderr",
       "text": [
        "DEBUG:root:ret_val = {u'loc': {u'type': u'Point', u'coordinates': [-122.1512161, 37.4353159]}, u'fmt_time': u'2015-09-07 08:31:33.256000-07:00', u'altitude': 0, u'ts': 1441639893.256, u'longitude': -122.1512161, u'latitude': 37.4353159, '_id': ObjectId('55edafe57d65cb39ee9882e5'), u'heading': 0, u'sensed_speed': 0, u'accuracy': 33} \n"
       ]
      },
      {
       "output_type": "stream",
       "stream": "stderr",
       "text": [
        "DEBUG:root:ret_val = {u'loc': {u'type': u'Point', u'coordinates': [-122.1621971, 37.4423658]}, u'fmt_time': u'2015-09-07 08:32:36.246000-07:00', u'altitude': 0, u'ts': 1441639956.246, u'longitude': -122.1621971, u'latitude': 37.4423658, '_id': ObjectId('55edafe57d65cb39ee9882e9'), u'heading': 0, u'sensed_speed': 0, u'accuracy': 58.5} \n"
       ]
      },
      {
       "output_type": "stream",
       "stream": "stderr",
       "text": [
        "DEBUG:root:ret_val = {u'loc': {u'type': u'Point', u'coordinates': [-122.165075, 37.4429388]}, u'fmt_time': u'2015-09-07 08:33:11.497000-07:00', u'altitude': 0, u'ts': 1441639991.497, u'longitude': -122.165075, u'latitude': 37.4429388, '_id': ObjectId('55edafe57d65cb39ee9882eb'), u'heading': 0, u'sensed_speed': 0, u'accuracy': 54} \n"
       ]
      },
      {
       "output_type": "stream",
       "stream": "stderr",
       "text": [
        "DEBUG:root:ret_val = {u'loc': {u'type': u'Point', u'coordinates': [-122.1650201, 37.4429553]}, u'fmt_time': u'2015-09-07 08:33:28.019000-07:00', u'altitude': 0, u'ts': 1441640008.019, u'longitude': -122.1650201, u'latitude': 37.4429553, '_id': ObjectId('55edafe57d65cb39ee9882ee'), u'heading': 0, u'sensed_speed': 0, u'accuracy': 63} \n"
       ]
      },
      {
       "output_type": "stream",
       "stream": "stderr",
       "text": [
        "DEBUG:root:ret_val = {u'loc': {u'type': u'Point', u'coordinates': [-122.1648692, 37.4431737]}, u'fmt_time': u'2015-09-07 08:33:59.281000-07:00', u'altitude': 0, u'ts': 1441640039.281, u'longitude': -122.1648692, u'latitude': 37.4431737, '_id': ObjectId('55edafe67d65cb39ee9882f1'), u'heading': 0, u'sensed_speed': 0, u'accuracy': 67.5} \n"
       ]
      },
      {
       "output_type": "stream",
       "stream": "stderr",
       "text": [
        "DEBUG:root:ret_val = {u'loc': {u'type': u'Point', u'coordinates': [-122.1652415, 37.4427834]}, u'fmt_time': u'2015-09-07 08:34:30.329000-07:00', u'altitude': 0, u'ts': 1441640070.329, u'longitude': -122.1652415, u'latitude': 37.4427834, '_id': ObjectId('55edafe67d65cb39ee9882f4'), u'heading': 0, u'sensed_speed': 0, u'accuracy': 79.5} \n"
       ]
      },
      {
       "output_type": "stream",
       "stream": "stderr",
       "text": [
        "DEBUG:root:ret_val = {u'loc': {u'type': u'Point', u'coordinates': [-122.1651357, 37.4432453]}, u'fmt_time': u'2015-09-07 08:35:01.426000-07:00', u'altitude': 0, u'ts': 1441640101.426, u'longitude': -122.1651357, u'latitude': 37.4432453, '_id': ObjectId('55edafe67d65cb39ee9882f7'), u'heading': 0, u'sensed_speed': 0, u'accuracy': 141} \n"
       ]
      },
      {
       "output_type": "stream",
       "stream": "stderr",
       "text": [
        "DEBUG:root:ret_val = {u'loc': {u'type': u'Point', u'coordinates': [-122.1660395, 37.4437627]}, u'fmt_time': u'2015-09-07 08:35:32.539000-07:00', u'altitude': 0, u'ts': 1441640132.539, u'longitude': -122.1660395, u'latitude': 37.4437627, '_id': ObjectId('55edafe67d65cb39ee9882fa'), u'heading': 0, u'sensed_speed': 0, u'accuracy': 39} \n"
       ]
      },
      {
       "output_type": "stream",
       "stream": "stderr",
       "text": [
        "DEBUG:root:ret_val = {u'loc': {u'type': u'Point', u'coordinates': [-122.1660395, 37.4437627]}, u'fmt_time': u'2015-09-07 08:36:00.941000-07:00', u'altitude': 0, u'ts': 1441640160.941, u'longitude': -122.1660395, u'latitude': 37.4437627, '_id': ObjectId('55edafe67d65cb39ee9882fc'), u'heading': 0, u'sensed_speed': 0, u'accuracy': 81.601} \n"
       ]
      },
      {
       "output_type": "stream",
       "stream": "stderr",
       "text": [
        "DEBUG:root:ret_val = {u'loc': {u'type': u'Point', u'coordinates': [-122.4141394, 37.7759586]}, u'fmt_time': u'2015-09-07 08:36:34.285000-07:00', u'altitude': 0, u'ts': 1441640194.285, u'longitude': -122.4141394, u'latitude': 37.7759586, '_id': ObjectId('55edafe77d65cb39ee9882ff'), u'heading': 0, u'sensed_speed': 0, u'accuracy': 26} \n"
       ]
      },
      {
       "output_type": "stream",
       "stream": "stderr",
       "text": [
        "DEBUG:root:ret_val = {u'loc': {u'type': u'Point', u'coordinates': [-122.1806205, 37.454192]}, u'fmt_time': u'2015-09-07 08:37:05.415000-07:00', u'altitude': 0, u'ts': 1441640225.415, u'longitude': -122.1806205, u'latitude': 37.454192, '_id': ObjectId('55edafe77d65cb39ee988302'), u'heading': 0, u'sensed_speed': 0, u'accuracy': 31.5} \n"
       ]
      },
      {
       "output_type": "stream",
       "stream": "stderr",
       "text": [
        "DEBUG:root:ret_val = {u'loc': {u'type': u'Point', u'coordinates': [-122.1840945, 37.4551591]}, u'fmt_time': u'2015-09-07 08:37:38.281000-07:00', u'altitude': 0, u'ts': 1441640258.281, u'longitude': -122.1840945, u'latitude': 37.4551591, '_id': ObjectId('55edafe77d65cb39ee988304'), u'heading': 0, u'sensed_speed': 0, u'accuracy': 40.5} \n"
       ]
      },
      {
       "output_type": "stream",
       "stream": "stderr",
       "text": [
        "DEBUG:root:ret_val = {u'loc': {u'type': u'Point', u'coordinates': [-122.184044, 37.4551821]}, u'fmt_time': u'2015-09-07 08:38:09.294000-07:00', u'altitude': 0, u'ts': 1441640289.294, u'longitude': -122.184044, u'latitude': 37.4551821, '_id': ObjectId('55edafe77d65cb39ee988307'), u'heading': 0, u'sensed_speed': 0, u'accuracy': 42} \n"
       ]
      },
      {
       "output_type": "stream",
       "stream": "stderr",
       "text": [
        "DEBUG:root:ret_val = {u'loc': {u'type': u'Point', u'coordinates': [-122.1841716, 37.455132]}, u'fmt_time': u'2015-09-07 08:38:39.300000-07:00', u'altitude': 0, u'ts': 1441640319.3, u'longitude': -122.1841716, u'latitude': 37.455132, '_id': ObjectId('55edafe77d65cb39ee988309'), u'heading': 0, u'sensed_speed': 0, u'accuracy': 30} \n"
       ]
      },
      {
       "output_type": "stream",
       "stream": "stderr",
       "text": [
        "DEBUG:root:ret_val = {u'loc': {u'type': u'Point', u'coordinates': [-122.1865747, 37.4572954]}, u'fmt_time': u'2015-09-07 08:39:12.209000-07:00', u'altitude': 0, u'ts': 1441640352.209, u'longitude': -122.1865747, u'latitude': 37.4572954, '_id': ObjectId('55edafe77d65cb39ee98830c'), u'heading': 0, u'sensed_speed': 0, u'accuracy': 55.365} \n"
       ]
      },
      {
       "output_type": "stream",
       "stream": "stderr",
       "text": [
        "DEBUG:root:ret_val = {u'loc': {u'type': u'Point', u'coordinates': [-122.1928985, 37.4610667]}, u'fmt_time': u'2015-09-07 08:39:45.353000-07:00', u'altitude': 0, u'ts': 1441640385.353, u'longitude': -122.1928985, u'latitude': 37.4610667, '_id': ObjectId('55edafe87d65cb39ee98830f'), u'heading': 0, u'sensed_speed': 0, u'accuracy': 65.343} \n"
       ]
      },
      {
       "output_type": "stream",
       "stream": "stderr",
       "text": [
        "DEBUG:root:ret_val = {u'loc': {u'type': u'Point', u'coordinates': [-122.197244, 37.4637286]}, u'fmt_time': u'2015-09-07 08:40:16.498000-07:00', u'altitude': 0, u'ts': 1441640416.498, u'longitude': -122.197244, u'latitude': 37.4637286, '_id': ObjectId('55edcc0f7d65cb39ee988313'), u'heading': 0, u'sensed_speed': 0, u'accuracy': 46.196} \n"
       ]
      },
      {
       "output_type": "stream",
       "stream": "stderr",
       "text": [
        "DEBUG:root:ret_val = {u'loc': {u'type': u'Point', u'coordinates': [-122.1980866, 37.4644353]}, u'fmt_time': u'2015-09-07 08:41:18.565000-07:00', u'altitude': 0, u'ts': 1441640478.565, u'longitude': -122.1980866, u'latitude': 37.4644353, '_id': ObjectId('55edcc0f7d65cb39ee988317'), u'heading': 0, u'sensed_speed': 0, u'accuracy': 30} \n"
       ]
      },
      {
       "output_type": "stream",
       "stream": "stderr",
       "text": [
        "DEBUG:root:ret_val = {u'loc': {u'type': u'Point', u'coordinates': [-122.1980994, 37.4644346]}, u'fmt_time': u'2015-09-07 08:41:32.056000-07:00', u'altitude': 0, u'ts': 1441640492.056, u'longitude': -122.1980994, u'latitude': 37.4644346, '_id': ObjectId('55edcc0f7d65cb39ee988319'), u'heading': 0, u'sensed_speed': 0, u'accuracy': 40.5} \n"
       ]
      },
      {
       "output_type": "stream",
       "stream": "stderr",
       "text": [
        "DEBUG:root:ret_val = {u'loc': {u'type': u'Point', u'coordinates': [-122.2031412, 37.4673138]}, u'fmt_time': u'2015-09-07 08:42:03.733000-07:00', u'altitude': 0, u'ts': 1441640523.733, u'longitude': -122.2031412, u'latitude': 37.4673138, '_id': ObjectId('55edcc107d65cb39ee98831b'), u'heading': 0, u'sensed_speed': 0, u'accuracy': 61.5} \n"
       ]
      },
      {
       "output_type": "stream",
       "stream": "stderr",
       "text": [
        "DEBUG:root:ret_val = {u'loc': {u'type': u'Point', u'coordinates': [-122.2031412, 37.4673138]}, u'fmt_time': u'2015-09-07 08:42:15.229000-07:00', u'altitude': 0, u'ts': 1441640535.229, u'longitude': -122.2031412, u'latitude': 37.4673138, '_id': ObjectId('55edcc107d65cb39ee98831d'), u'heading': 0, u'sensed_speed': 0, u'accuracy': 61.5} \n"
       ]
      },
      {
       "output_type": "stream",
       "stream": "stderr",
       "text": [
        "DEBUG:root:ret_val = {u'loc': {u'type': u'Point', u'coordinates': [-122.2122162, 37.4733461]}, u'fmt_time': u'2015-09-07 08:42:48.267000-07:00', u'altitude': 0, u'ts': 1441640568.267, u'longitude': -122.2122162, u'latitude': 37.4733461, '_id': ObjectId('55edcc107d65cb39ee988321'), u'heading': 0, u'sensed_speed': 0, u'accuracy': 109.795} \n"
       ]
      },
      {
       "output_type": "stream",
       "stream": "stderr",
       "text": [
        "DEBUG:root:ret_val = {u'loc': {u'type': u'Point', u'coordinates': [-122.2196902, 37.4780787]}, u'fmt_time': u'2015-09-07 08:43:19.249000-07:00', u'altitude': 0, u'ts': 1441640599.249, u'longitude': -122.2196902, u'latitude': 37.4780787, '_id': ObjectId('55edcc107d65cb39ee988324'), u'heading': 0, u'sensed_speed': 0, u'accuracy': 82.5} \n"
       ]
      },
      {
       "output_type": "stream",
       "stream": "stderr",
       "text": [
        "DEBUG:root:ret_val = {u'loc': {u'type': u'Point', u'coordinates': [-122.2261308, 37.4817291]}, u'fmt_time': u'2015-09-07 08:43:50.358000-07:00', u'altitude': 0, u'ts': 1441640630.358, u'longitude': -122.2261308, u'latitude': 37.4817291, '_id': ObjectId('55edcc107d65cb39ee988327'), u'heading': 0, u'sensed_speed': 0, u'accuracy': 48} \n"
       ]
      },
      {
       "output_type": "stream",
       "stream": "stderr",
       "text": [
        "DEBUG:root:ret_val = {u'loc': {u'type': u'Point', u'coordinates': [-122.2303319, 37.4851202]}, u'fmt_time': u'2015-09-07 08:44:21.428000-07:00', u'altitude': 0, u'ts': 1441640661.428, u'longitude': -122.2303319, u'latitude': 37.4851202, '_id': ObjectId('55edcc117d65cb39ee98832a'), u'heading': 0, u'sensed_speed': 0, u'accuracy': 87.33} \n"
       ]
      },
      {
       "output_type": "stream",
       "stream": "stderr",
       "text": [
        "DEBUG:root:ret_val = {u'loc': {u'type': u'Point', u'coordinates': [-122.2319245, 37.4862537]}, u'fmt_time': u'2015-09-07 08:44:52.501000-07:00', u'altitude': 0, u'ts': 1441640692.501, u'longitude': -122.2319245, u'latitude': 37.4862537, '_id': ObjectId('55edcc117d65cb39ee98832c'), u'heading': 0, u'sensed_speed': 0, u'accuracy': 28.898} \n"
       ]
      },
      {
       "output_type": "stream",
       "stream": "stderr",
       "text": [
        "DEBUG:root:ret_val = {u'loc': {u'type': u'Point', u'coordinates': [-122.2319679, 37.4862581]}, u'fmt_time': u'2015-09-07 08:45:23.171000-07:00', u'altitude': 0, u'ts': 1441640723.171, u'longitude': -122.2319679, u'latitude': 37.4862581, '_id': ObjectId('55edcc117d65cb39ee98832f'), u'heading': 0, u'sensed_speed': 0, u'accuracy': 32.095} \n"
       ]
      },
      {
       "output_type": "stream",
       "stream": "stderr",
       "text": [
        "DEBUG:root:ret_val = {u'loc': {u'type': u'Point', u'coordinates': [-122.2321228, 37.4862588]}, u'fmt_time': u'2015-09-07 08:45:54.214000-07:00', u'altitude': 0, u'ts': 1441640754.214, u'longitude': -122.2321228, u'latitude': 37.4862588, '_id': ObjectId('55edcc117d65cb39ee988332'), u'heading': 0, u'sensed_speed': 0, u'accuracy': 45} \n"
       ]
      },
      {
       "output_type": "stream",
       "stream": "stderr",
       "text": [
        "DEBUG:root:ret_val = {u'loc': {u'type': u'Point', u'coordinates': [-122.2345584, 37.4880547]}, u'fmt_time': u'2015-09-07 08:46:25.324000-07:00', u'altitude': 0, u'ts': 1441640785.324, u'longitude': -122.2345584, u'latitude': 37.4880547, '_id': ObjectId('55edcc117d65cb39ee988334'), u'heading': 0, u'sensed_speed': 0, u'accuracy': 100.753} \n"
       ]
      },
      {
       "output_type": "stream",
       "stream": "stderr",
       "text": [
        "DEBUG:root:ret_val = {u'loc': {u'type': u'Point', u'coordinates': [-122.2394242, 37.4909703]}, u'fmt_time': u'2015-09-07 08:46:59.297000-07:00', u'altitude': 0, u'ts': 1441640819.297, u'longitude': -122.2394242, u'latitude': 37.4909703, '_id': ObjectId('55edcc117d65cb39ee988337'), u'heading': 0, u'sensed_speed': 0, u'accuracy': 30} \n"
       ]
      },
      {
       "output_type": "stream",
       "stream": "stderr",
       "text": [
        "DEBUG:root:ret_val = {u'loc': {u'type': u'Point', u'coordinates': [-122.2464361, 37.4952534]}, u'fmt_time': u'2015-09-07 08:47:30.645000-07:00', u'altitude': 0, u'ts': 1441640850.645, u'longitude': -122.2464361, u'latitude': 37.4952534, '_id': ObjectId('55edcc127d65cb39ee98833b'), u'heading': 0, u'sensed_speed': 0, u'accuracy': 45} \n"
       ]
      },
      {
       "output_type": "stream",
       "stream": "stderr",
       "text": [
        "DEBUG:root:ret_val = {u'loc': {u'type': u'Point', u'coordinates': [-122.252072, 37.5003875]}, u'fmt_time': u'2015-09-07 08:48:01.766000-07:00', u'altitude': 0, u'ts': 1441640881.766, u'longitude': -122.252072, u'latitude': 37.5003875, '_id': ObjectId('55edcc127d65cb39ee98833e'), u'heading': 0, u'sensed_speed': 0, u'accuracy': 30} \n"
       ]
      },
      {
       "output_type": "stream",
       "stream": "stderr",
       "text": [
        "DEBUG:root:ret_val = {u'loc': {u'type': u'Point', u'coordinates': [-122.2574706, 37.5049458]}, u'fmt_time': u'2015-09-07 08:48:33.334000-07:00', u'altitude': 0, u'ts': 1441640913.334, u'longitude': -122.2574706, u'latitude': 37.5049458, '_id': ObjectId('55edcc127d65cb39ee988340'), u'heading': 0, u'sensed_speed': 0, u'accuracy': 49.5} \n"
       ]
      },
      {
       "output_type": "stream",
       "stream": "stderr",
       "text": [
        "DEBUG:root:ret_val = {u'loc': {u'type': u'Point', u'coordinates': [-122.2606231, 37.507955]}, u'fmt_time': u'2015-09-07 08:49:03.450000-07:00', u'altitude': 0, u'ts': 1441640943.45, u'longitude': -122.2606231, u'latitude': 37.507955, '_id': ObjectId('55edcc127d65cb39ee988343'), u'heading': 0, u'sensed_speed': 0, u'accuracy': 135.68} \n"
       ]
      },
      {
       "output_type": "stream",
       "stream": "stderr",
       "text": [
        "DEBUG:root:ret_val = {u'loc': {u'type': u'Point', u'coordinates': [-122.2606992, 37.508107]}, u'fmt_time': u'2015-09-07 08:49:35.304000-07:00', u'altitude': 0, u'ts': 1441640975.304, u'longitude': -122.2606992, u'latitude': 37.508107, '_id': ObjectId('55edcc127d65cb39ee988345'), u'heading': 0, u'sensed_speed': 0, u'accuracy': 33} \n"
       ]
      },
      {
       "output_type": "stream",
       "stream": "stderr",
       "text": [
        "DEBUG:root:ret_val = {u'loc': {u'type': u'Point', u'coordinates': [-122.2606442, 37.5081124]}, u'fmt_time': u'2015-09-07 08:50:09.221000-07:00', u'altitude': 0, u'ts': 1441641009.221, u'longitude': -122.2606442, u'latitude': 37.5081124, '_id': ObjectId('55edcc137d65cb39ee988348'), u'heading': 0, u'sensed_speed': 0, u'accuracy': 49.5} \n"
       ]
      },
      {
       "output_type": "stream",
       "stream": "stderr",
       "text": [
        "DEBUG:root:ret_val = {u'loc': {u'type': u'Point', u'coordinates': [-122.2615703, 37.5090226]}, u'fmt_time': u'2015-09-07 08:50:39.303000-07:00', u'altitude': 0, u'ts': 1441641039.303, u'longitude': -122.2615703, u'latitude': 37.5090226, '_id': ObjectId('55edcc137d65cb39ee98834a'), u'heading': 0, u'sensed_speed': 0, u'accuracy': 40.5} \n"
       ]
      },
      {
       "output_type": "stream",
       "stream": "stderr",
       "text": [
        "DEBUG:root:ret_val = {u'loc': {u'type': u'Point', u'coordinates': [-122.2662029, 37.5127438]}, u'fmt_time': u'2015-09-07 08:51:09.401000-07:00', u'altitude': 0, u'ts': 1441641069.401, u'longitude': -122.2662029, u'latitude': 37.5127438, '_id': ObjectId('55edcc137d65cb39ee98834d'), u'heading': 0, u'sensed_speed': 0, u'accuracy': 30} \n"
       ]
      },
      {
       "output_type": "stream",
       "stream": "stderr",
       "text": [
        "DEBUG:root:ret_val = {u'loc': {u'type': u'Point', u'coordinates': [-122.2717513, 37.51746]}, u'fmt_time': u'2015-09-07 08:51:41.409000-07:00', u'altitude': 0, u'ts': 1441641101.409, u'longitude': -122.2717513, u'latitude': 37.51746, '_id': ObjectId('55edcc137d65cb39ee988350'), u'heading': 0, u'sensed_speed': 0, u'accuracy': 27.257} \n"
       ]
      },
      {
       "output_type": "stream",
       "stream": "stderr",
       "text": [
        "DEBUG:root:ret_val = {u'loc': {u'type': u'Point', u'coordinates': [-122.2753045, 37.5205203]}, u'fmt_time': u'2015-09-07 08:52:12.389000-07:00', u'altitude': 0, u'ts': 1441641132.389, u'longitude': -122.2753045, u'latitude': 37.5205203, '_id': ObjectId('55edcc137d65cb39ee988353'), u'heading': 0, u'sensed_speed': 0, u'accuracy': 30} \n"
       ]
      },
      {
       "output_type": "stream",
       "stream": "stderr",
       "text": [
        "DEBUG:root:ret_val = {u'loc': {u'type': u'Point', u'coordinates': [-122.2762949, 37.5209306]}, u'fmt_time': u'2015-09-07 08:52:43.846000-07:00', u'altitude': 0, u'ts': 1441641163.846, u'longitude': -122.2762949, u'latitude': 37.5209306, '_id': ObjectId('55edcc137d65cb39ee988355'), u'heading': 0, u'sensed_speed': 0, u'accuracy': 33} \n"
       ]
      },
      {
       "output_type": "stream",
       "stream": "stderr",
       "text": [
        "DEBUG:root:ret_val = {u'loc': {u'type': u'Point', u'coordinates': [-122.2762249, 37.5208917]}, u'fmt_time': u'2015-09-07 08:53:13.926000-07:00', u'altitude': 0, u'ts': 1441641193.926, u'longitude': -122.2762249, u'latitude': 37.5208917, '_id': ObjectId('55edcc147d65cb39ee988358'), u'heading': 0, u'sensed_speed': 0, u'accuracy': 36} \n"
       ]
      },
      {
       "output_type": "stream",
       "stream": "stderr",
       "text": [
        "DEBUG:root:ret_val = {u'loc': {u'type': u'Point', u'coordinates': [-122.2765812, 37.5212011]}, u'fmt_time': u'2015-09-07 08:53:47.186000-07:00', u'altitude': 0, u'ts': 1441641227.186, u'longitude': -122.2765812, u'latitude': 37.5212011, '_id': ObjectId('55edcc147d65cb39ee98835a'), u'heading': 0, u'sensed_speed': 0, u'accuracy': 55.5} \n"
       ]
      },
      {
       "output_type": "stream",
       "stream": "stderr",
       "text": [
        "DEBUG:root:ret_val = {u'loc': {u'type': u'Point', u'coordinates': [-122.2794276, 37.5242796]}, u'fmt_time': u'2015-09-07 08:54:17.418000-07:00', u'altitude': 0, u'ts': 1441641257.418, u'longitude': -122.2794276, u'latitude': 37.5242796, '_id': ObjectId('55edcc147d65cb39ee98835d'), u'heading': 0, u'sensed_speed': 0, u'accuracy': 43.5} \n"
       ]
      },
      {
       "output_type": "stream",
       "stream": "stderr",
       "text": [
        "DEBUG:root:ret_val = {u'loc': {u'type': u'Point', u'coordinates': [-122.2855005, 37.528352]}, u'fmt_time': u'2015-09-07 08:54:48.537000-07:00', u'altitude': 0, u'ts': 1441641288.537, u'longitude': -122.2855005, u'latitude': 37.528352, '_id': ObjectId('55edcc147d65cb39ee988360'), u'heading': 0, u'sensed_speed': 0, u'accuracy': 39} \n"
       ]
      },
      {
       "output_type": "stream",
       "stream": "stderr",
       "text": [
        "DEBUG:root:ret_val = {u'loc': {u'type': u'Point', u'coordinates': [-122.2920834, 37.5331247]}, u'fmt_time': u'2015-09-07 08:55:19.605000-07:00', u'altitude': 0, u'ts': 1441641319.605, u'longitude': -122.2920834, u'latitude': 37.5331247, '_id': ObjectId('55edcc147d65cb39ee988363'), u'heading': 0, u'sensed_speed': 0, u'accuracy': 49.5} \n"
       ]
      },
      {
       "output_type": "stream",
       "stream": "stderr",
       "text": [
        "DEBUG:root:ret_val = {u'loc': {u'type': u'Point', u'coordinates': [-122.2967151, 37.5367044]}, u'fmt_time': u'2015-09-07 08:55:50.655000-07:00', u'altitude': 0, u'ts': 1441641350.655, u'longitude': -122.2967151, u'latitude': 37.5367044, '_id': ObjectId('55edcc147d65cb39ee988366'), u'heading': 0, u'sensed_speed': 0, u'accuracy': 52.5} \n"
       ]
      },
      {
       "output_type": "stream",
       "stream": "stderr",
       "text": [
        "DEBUG:root:ret_val = {u'loc': {u'type': u'Point', u'coordinates': [-122.2982435, 37.5394212]}, u'fmt_time': u'2015-09-07 08:56:20.713000-07:00', u'altitude': 0, u'ts': 1441641380.713, u'longitude': -122.2982435, u'latitude': 37.5394212, '_id': ObjectId('55edcc157d65cb39ee988368'), u'heading': 0, u'sensed_speed': 0, u'accuracy': 52.5} \n"
       ]
      },
      {
       "output_type": "stream",
       "stream": "stderr",
       "text": [
        "DEBUG:root:ret_val = {u'loc': {u'type': u'Point', u'coordinates': [-122.4141421, 37.7759597]}, u'fmt_time': u'2015-09-07 08:57:52.329000-07:00', u'altitude': 0, u'ts': 1441641472.329, u'longitude': -122.4141421, u'latitude': 37.7759597, '_id': ObjectId('55edcc157d65cb39ee98836e'), u'heading': 0, u'sensed_speed': 0, u'accuracy': 25} \n"
       ]
      },
      {
       "output_type": "stream",
       "stream": "stderr",
       "text": [
        "DEBUG:root:ret_val = {u'loc': {u'type': u'Point', u'coordinates': [-122.3043765, 37.5463201]}, u'fmt_time': u'2015-09-07 08:58:23.531000-07:00', u'altitude': 0, u'ts': 1441641503.531, u'longitude': -122.3043765, u'latitude': 37.5463201, '_id': ObjectId('55edcc157d65cb39ee988371'), u'heading': 0, u'sensed_speed': 0, u'accuracy': 40.5} \n"
       ]
      },
      {
       "output_type": "stream",
       "stream": "stderr",
       "text": [
        "DEBUG:root:ret_val = {u'loc': {u'type': u'Point', u'coordinates': [-122.3067918, 37.5494493]}, u'fmt_time': u'2015-09-07 08:58:54.685000-07:00', u'altitude': 0, u'ts': 1441641534.685, u'longitude': -122.3067918, u'latitude': 37.5494493, '_id': ObjectId('55edcc167d65cb39ee988375'), u'heading': 0, u'sensed_speed': 0, u'accuracy': 29} \n"
       ]
      },
      {
       "output_type": "stream",
       "stream": "stderr",
       "text": [
        "DEBUG:root:ret_val = {u'loc': {u'type': u'Point', u'coordinates': [-122.3093505, 37.5530053]}, u'fmt_time': u'2015-09-07 08:59:27.332000-07:00', u'altitude': 0, u'ts': 1441641567.332, u'longitude': -122.3093505, u'latitude': 37.5530053, '_id': ObjectId('55edcc167d65cb39ee988378'), u'heading': 0, u'sensed_speed': 0, u'accuracy': 116.692} \n"
       ]
      },
      {
       "output_type": "stream",
       "stream": "stderr",
       "text": [
        "DEBUG:root:ret_val = {u'loc': {u'type': u'Point', u'coordinates': [-122.3091011, 37.5528664]}, u'fmt_time': u'2015-09-07 08:59:58.799000-07:00', u'altitude': 0, u'ts': 1441641598.799, u'longitude': -122.3091011, u'latitude': 37.5528664, '_id': ObjectId('55edcc167d65cb39ee98837a'), u'heading': 0, u'sensed_speed': 0, u'accuracy': 52.5} \n"
       ]
      },
      {
       "output_type": "stream",
       "stream": "stderr",
       "text": [
        "DEBUG:root:ret_val = {u'loc': {u'type': u'Point', u'coordinates': [-122.3077011, 37.553451]}, u'fmt_time': u'2015-09-07 09:00:29.121000-07:00', u'altitude': 0, u'ts': 1441641629.121, u'longitude': -122.3077011, u'latitude': 37.553451, '_id': ObjectId('55edcc167d65cb39ee98837d'), u'heading': 0, u'sensed_speed': 0, u'accuracy': 34.5} \n"
       ]
      },
      {
       "output_type": "stream",
       "stream": "stderr",
       "text": [
        "DEBUG:root:ret_val = {u'loc': {u'type': u'Point', u'coordinates': [-122.3112901, 37.555646]}, u'fmt_time': u'2015-09-07 09:01:00.334000-07:00', u'altitude': 0, u'ts': 1441641660.334, u'longitude': -122.3112901, u'latitude': 37.555646, '_id': ObjectId('55edcc167d65cb39ee98837f'), u'heading': 0, u'sensed_speed': 0, u'accuracy': 93.705} \n"
       ]
      },
      {
       "output_type": "stream",
       "stream": "stderr",
       "text": [
        "DEBUG:root:ret_val = {u'loc': {u'type': u'Point', u'coordinates': [-122.3141872, 37.5592495]}, u'fmt_time': u'2015-09-07 09:01:30.385000-07:00', u'altitude': 0, u'ts': 1441641690.385, u'longitude': -122.3141872, u'latitude': 37.5592495, '_id': ObjectId('55edcc167d65cb39ee988382'), u'heading': 0, u'sensed_speed': 0, u'accuracy': 48} \n"
       ]
      },
      {
       "output_type": "stream",
       "stream": "stderr",
       "text": [
        "DEBUG:root:ret_val = {u'loc': {u'type': u'Point', u'coordinates': [-122.3197529, 37.5638735]}, u'fmt_time': u'2015-09-07 09:02:02.294000-07:00', u'altitude': 0, u'ts': 1441641722.294, u'longitude': -122.3197529, u'latitude': 37.5638735, '_id': ObjectId('55edcc177d65cb39ee988385'), u'heading': 0, u'sensed_speed': 0, u'accuracy': 57.16} \n"
       ]
      },
      {
       "output_type": "stream",
       "stream": "stderr",
       "text": [
        "DEBUG:root:ret_val = {u'loc': {u'type': u'Point', u'coordinates': [-122.322341, 37.5667497]}, u'fmt_time': u'2015-09-07 09:02:34.212000-07:00', u'altitude': 0, u'ts': 1441641754.212, u'longitude': -122.322341, u'latitude': 37.5667497, '_id': ObjectId('55edcc177d65cb39ee988388'), u'heading': 0, u'sensed_speed': 0, u'accuracy': 57.499} \n"
       ]
      },
      {
       "output_type": "stream",
       "stream": "stderr",
       "text": [
        "DEBUG:root:ret_val = {u'loc': {u'type': u'Point', u'coordinates': [-122.3244683, 37.5680177]}, u'fmt_time': u'2015-09-07 09:03:04.748000-07:00', u'altitude': 0, u'ts': 1441641784.748, u'longitude': -122.3244683, u'latitude': 37.5680177, '_id': ObjectId('55edcc177d65cb39ee98838a'), u'heading': 0, u'sensed_speed': 0, u'accuracy': 119.841} \n"
       ]
      },
      {
       "output_type": "stream",
       "stream": "stderr",
       "text": [
        "DEBUG:root:ret_val = {u'loc': {u'type': u'Point', u'coordinates': [-122.3244435, 37.5684337]}, u'fmt_time': u'2015-09-07 09:03:35.195000-07:00', u'altitude': 0, u'ts': 1441641815.195, u'longitude': -122.3244435, u'latitude': 37.5684337, '_id': ObjectId('55edcc177d65cb39ee98838d'), u'heading': 0, u'sensed_speed': 0, u'accuracy': 67.5} \n"
       ]
      },
      {
       "output_type": "stream",
       "stream": "stderr",
       "text": [
        "DEBUG:root:ret_val = {u'loc': {u'type': u'Point', u'coordinates': [-122.3243826, 37.5685706]}, u'fmt_time': u'2015-09-07 09:04:06.412000-07:00', u'altitude': 0, u'ts': 1441641846.412, u'longitude': -122.3243826, u'latitude': 37.5685706, '_id': ObjectId('55edcc177d65cb39ee98838f'), u'heading': 0, u'sensed_speed': 0, u'accuracy': 76.5} \n"
       ]
      },
      {
       "output_type": "stream",
       "stream": "stderr",
       "text": [
        "DEBUG:root:ret_val = {u'loc': {u'type': u'Point', u'coordinates': [-122.3266306, 37.5705537]}, u'fmt_time': u'2015-09-07 09:04:40.263000-07:00', u'altitude': 0, u'ts': 1441641880.263, u'longitude': -122.3266306, u'latitude': 37.5705537, '_id': ObjectId('55edcc177d65cb39ee988392'), u'heading': 0, u'sensed_speed': 0, u'accuracy': 57.333} \n"
       ]
      },
      {
       "output_type": "stream",
       "stream": "stderr",
       "text": [
        "DEBUG:root:ret_val = {u'loc': {u'type': u'Point', u'coordinates': [-122.3318739, 37.5722254]}, u'fmt_time': u'2015-09-07 09:05:11.679000-07:00', u'altitude': 0, u'ts': 1441641911.679, u'longitude': -122.3318739, u'latitude': 37.5722254, '_id': ObjectId('55edcc187d65cb39ee988395'), u'heading': 0, u'sensed_speed': 0, u'accuracy': 57} \n"
       ]
      },
      {
       "output_type": "stream",
       "stream": "stderr",
       "text": [
        "DEBUG:root:ret_val = {u'loc': {u'type': u'Point', u'coordinates': [-122.3332247, 37.5752412]}, u'fmt_time': u'2015-09-07 09:05:43.253000-07:00', u'altitude': 0, u'ts': 1441641943.253, u'longitude': -122.3332247, u'latitude': 37.5752412, '_id': ObjectId('55edcc187d65cb39ee988398'), u'heading': 0, u'sensed_speed': 0, u'accuracy': 40.708} \n"
       ]
      },
      {
       "output_type": "stream",
       "stream": "stderr",
       "text": [
        "DEBUG:root:ret_val = {u'loc': {u'type': u'Point', u'coordinates': [-122.338579, 37.5775818]}, u'fmt_time': u'2015-09-07 09:06:14.416000-07:00', u'altitude': 0, u'ts': 1441641974.416, u'longitude': -122.338579, u'latitude': 37.5775818, '_id': ObjectId('55edcc187d65cb39ee98839b'), u'heading': 0, u'sensed_speed': 0, u'accuracy': 54.04} \n"
       ]
      },
      {
       "output_type": "stream",
       "stream": "stderr",
       "text": [
        "DEBUG:root:ret_val = {u'loc': {u'type': u'Point', u'coordinates': [-122.3436356, 37.579735]}, u'fmt_time': u'2015-09-07 09:06:44.914000-07:00', u'altitude': 0, u'ts': 1441642004.914, u'longitude': -122.3436356, u'latitude': 37.579735, '_id': ObjectId('55edcc187d65cb39ee98839d'), u'heading': 0, u'sensed_speed': 0, u'accuracy': 30} \n"
       ]
      },
      {
       "output_type": "stream",
       "stream": "stderr",
       "text": [
        "DEBUG:root:ret_val = {u'loc': {u'type': u'Point', u'coordinates': [-122.3442199, 37.5797635]}, u'fmt_time': u'2015-09-07 09:07:14.982000-07:00', u'altitude': 0, u'ts': 1441642034.982, u'longitude': -122.3442199, u'latitude': 37.5797635, '_id': ObjectId('55edcc187d65cb39ee98839f'), u'heading': 0, u'sensed_speed': 0, u'accuracy': 84} \n"
       ]
      },
      {
       "output_type": "stream",
       "stream": "stderr",
       "text": [
        "DEBUG:root:ret_val = {u'loc': {u'type': u'Point', u'coordinates': [-122.3445669, 37.579804]}, u'fmt_time': u'2015-09-07 09:07:46.133000-07:00', u'altitude': 0, u'ts': 1441642066.133, u'longitude': -122.3445669, u'latitude': 37.579804, '_id': ObjectId('55edcc187d65cb39ee9883a3'), u'heading': 0, u'sensed_speed': 0, u'accuracy': 39} \n"
       ]
      },
      {
       "output_type": "stream",
       "stream": "stderr",
       "text": [
        "DEBUG:root:ret_val = {u'loc': {u'type': u'Point', u'coordinates': [-122.3469616, 37.5804554]}, u'fmt_time': u'2015-09-07 09:08:19.309000-07:00', u'altitude': 0, u'ts': 1441642099.309, u'longitude': -122.3469616, u'latitude': 37.5804554, '_id': ObjectId('55edcc197d65cb39ee9883a5'), u'heading': 0, u'sensed_speed': 0, u'accuracy': 43.5} \n"
       ]
      },
      {
       "output_type": "stream",
       "stream": "stderr",
       "text": [
        "DEBUG:root:ret_val = {u'loc': {u'type': u'Point', u'coordinates': [-122.3515499, 37.582682]}, u'fmt_time': u'2015-09-07 09:08:49.446000-07:00', u'altitude': 0, u'ts': 1441642129.446, u'longitude': -122.3515499, u'latitude': 37.582682, '_id': ObjectId('55edcc197d65cb39ee9883a8'), u'heading': 0, u'sensed_speed': 0, u'accuracy': 60} \n"
       ]
      },
      {
       "output_type": "stream",
       "stream": "stderr",
       "text": [
        "DEBUG:root:ret_val = {u'loc': {u'type': u'Point', u'coordinates': [-122.3588049, 37.5859352]}, u'fmt_time': u'2015-09-07 09:09:21.366000-07:00', u'altitude': 0, u'ts': 1441642161.366, u'longitude': -122.3588049, u'latitude': 37.5859352, '_id': ObjectId('55edcc197d65cb39ee9883ab'), u'heading': 0, u'sensed_speed': 0, u'accuracy': 54} \n"
       ]
      },
      {
       "output_type": "stream",
       "stream": "stderr",
       "text": [
        "DEBUG:root:ret_val = {u'loc': {u'type': u'Point', u'coordinates': [-122.3619457, 37.5874928]}, u'fmt_time': u'2015-09-07 09:09:53.328000-07:00', u'altitude': 0, u'ts': 1441642193.328, u'longitude': -122.3619457, u'latitude': 37.5874928, '_id': ObjectId('55edcc197d65cb39ee9883ae'), u'heading': 0, u'sensed_speed': 0, u'accuracy': 60.183} \n"
       ]
      },
      {
       "output_type": "stream",
       "stream": "stderr",
       "text": [
        "DEBUG:root:ret_val = {u'loc': {u'type': u'Point', u'coordinates': [-122.3621965, 37.5876163]}, u'fmt_time': u'2015-09-07 09:10:25.249000-07:00', u'altitude': 0, u'ts': 1441642225.249, u'longitude': -122.3621965, u'latitude': 37.5876163, '_id': ObjectId('55edcc197d65cb39ee9883b0'), u'heading': 0, u'sensed_speed': 0, u'accuracy': 45} \n"
       ]
      },
      {
       "output_type": "stream",
       "stream": "stderr",
       "text": [
        "DEBUG:root:ret_val = {u'loc': {u'type': u'Point', u'coordinates': [-122.3621314, 37.587594]}, u'fmt_time': u'2015-09-07 09:10:59.269000-07:00', u'altitude': 0, u'ts': 1441642259.269, u'longitude': -122.3621314, u'latitude': 37.587594, '_id': ObjectId('55edcc197d65cb39ee9883b3'), u'heading': 0, u'sensed_speed': 0, u'accuracy': 39} \n"
       ]
      },
      {
       "output_type": "stream",
       "stream": "stderr",
       "text": [
        "DEBUG:root:ret_val = {u'loc': {u'type': u'Point', u'coordinates': [-122.364287, 37.5880448]}, u'fmt_time': u'2015-09-07 09:11:29.352000-07:00', u'altitude': 0, u'ts': 1441642289.352, u'longitude': -122.364287, u'latitude': 37.5880448, '_id': ObjectId('55edcc1a7d65cb39ee9883b5'), u'heading': 0, u'sensed_speed': 0, u'accuracy': 130.155} \n"
       ]
      },
      {
       "output_type": "stream",
       "stream": "stderr",
       "text": [
        "DEBUG:root:ret_val = {u'loc': {u'type': u'Point', u'coordinates': [-122.3687757, 37.5907626]}, u'fmt_time': u'2015-09-07 09:12:01.232000-07:00', u'altitude': 0, u'ts': 1441642321.232, u'longitude': -122.3687757, u'latitude': 37.5907626, '_id': ObjectId('55edcc1a7d65cb39ee9883b9'), u'heading': 0, u'sensed_speed': 0, u'accuracy': 72.333} \n"
       ]
      },
      {
       "output_type": "stream",
       "stream": "stderr",
       "text": [
        "DEBUG:root:ret_val = {u'loc': {u'type': u'Point', u'coordinates': [-122.3829077, 37.5955713]}, u'fmt_time': u'2015-09-07 09:13:04.228000-07:00', u'altitude': 0, u'ts': 1441642384.228, u'longitude': -122.3829077, u'latitude': 37.5955713, '_id': ObjectId('55edcc1a7d65cb39ee9883be'), u'heading': 0, u'sensed_speed': 0, u'accuracy': 52.5} \n"
       ]
      },
      {
       "output_type": "stream",
       "stream": "stderr",
       "text": [
        "DEBUG:root:ret_val = {u'loc': {u'type': u'Point', u'coordinates': [-122.3859997, 37.5991997]}, u'fmt_time': u'2015-09-07 09:13:36.236000-07:00', u'altitude': 0, u'ts': 1441642416.236, u'longitude': -122.3859997, u'latitude': 37.5991997, '_id': ObjectId('55edcc1a7d65cb39ee9883c1'), u'heading': 0, u'sensed_speed': 0, u'accuracy': 31.5} \n"
       ]
      },
      {
       "output_type": "stream",
       "stream": "stderr",
       "text": [
        "DEBUG:root:ret_val = {u'loc': {u'type': u'Point', u'coordinates': [-122.3871604, 37.5992553]}, u'fmt_time': u'2015-09-07 09:14:07.581000-07:00', u'altitude': 0, u'ts': 1441642447.581, u'longitude': -122.3871604, u'latitude': 37.5992553, '_id': ObjectId('55edcc1b7d65cb39ee9883c3'), u'heading': 0, u'sensed_speed': 0, u'accuracy': 30} \n"
       ]
      },
      {
       "output_type": "stream",
       "stream": "stderr",
       "text": [
        "DEBUG:root:ret_val = {u'loc': {u'type': u'Point', u'coordinates': [-122.3871427, 37.5992518]}, u'fmt_time': u'2015-09-07 09:14:37.608000-07:00', u'altitude': 0, u'ts': 1441642477.608, u'longitude': -122.3871427, u'latitude': 37.5992518, '_id': ObjectId('55edcc1b7d65cb39ee9883c6'), u'heading': 0, u'sensed_speed': 0, u'accuracy': 30} \n"
       ]
      },
      {
       "output_type": "stream",
       "stream": "stderr",
       "text": [
        "DEBUG:root:ret_val = {u'loc': {u'type': u'Point', u'coordinates': [-122.3871413, 37.5992539]}, u'fmt_time': u'2015-09-07 09:15:09.169000-07:00', u'altitude': 0, u'ts': 1441642509.169, u'longitude': -122.3871413, u'latitude': 37.5992539, '_id': ObjectId('55edcc1b7d65cb39ee9883c9'), u'heading': 0, u'sensed_speed': 0, u'accuracy': 30} \n"
       ]
      },
      {
       "output_type": "stream",
       "stream": "stderr",
       "text": [
        "DEBUG:root:ret_val = {u'loc': {u'type': u'Point', u'coordinates': [-122.389175, 37.6004454]}, u'fmt_time': u'2015-09-07 09:15:41.531000-07:00', u'altitude': 0, u'ts': 1441642541.531, u'longitude': -122.389175, u'latitude': 37.6004454, '_id': ObjectId('55edcc1b7d65cb39ee9883cb'), u'heading': 0, u'sensed_speed': 0, u'accuracy': 90.738} \n"
       ]
      },
      {
       "output_type": "stream",
       "stream": "stderr",
       "text": [
        "DEBUG:root:ret_val = {u'loc': {u'type': u'Point', u'coordinates': [-122.3910314, 37.6041367]}, u'fmt_time': u'2015-09-07 09:16:11.664000-07:00', u'altitude': 0, u'ts': 1441642571.664, u'longitude': -122.3910314, u'latitude': 37.6041367, '_id': ObjectId('55edcc1b7d65cb39ee9883cd'), u'heading': 0, u'sensed_speed': 0, u'accuracy': 62.338} \n"
       ]
      },
      {
       "output_type": "stream",
       "stream": "stderr",
       "text": [
        "DEBUG:root:ret_val = {u'loc': {u'type': u'Point', u'coordinates': [-122.3949141, 37.6086332]}, u'fmt_time': u'2015-09-07 09:16:43.261000-07:00', u'altitude': 0, u'ts': 1441642603.261, u'longitude': -122.3949141, u'latitude': 37.6086332, '_id': ObjectId('55edcc1b7d65cb39ee9883d1'), u'heading': 0, u'sensed_speed': 0, u'accuracy': 49.5} \n"
       ]
      },
      {
       "output_type": "stream",
       "stream": "stderr",
       "text": [
        "DEBUG:root:ret_val = {u'loc': {u'type': u'Point', u'coordinates': [-122.4054593, 37.6190665]}, u'fmt_time': u'2015-09-07 09:17:46.364000-07:00', u'altitude': 0, u'ts': 1441642666.364, u'longitude': -122.4054593, u'latitude': 37.6190665, '_id': ObjectId('55edcc1c7d65cb39ee9883d6'), u'heading': 0, u'sensed_speed': 0, u'accuracy': 51} \n"
       ]
      },
      {
       "output_type": "stream",
       "stream": "stderr",
       "text": [
        "DEBUG:root:ret_val = {u'loc': {u'type': u'Point', u'coordinates': [-122.40881, 37.6248182]}, u'fmt_time': u'2015-09-07 09:18:18.615000-07:00', u'altitude': 0, u'ts': 1441642698.615, u'longitude': -122.40881, u'latitude': 37.6248182, '_id': ObjectId('55edcc1c7d65cb39ee9883d9'), u'heading': 0, u'sensed_speed': 0, u'accuracy': 60.222} \n"
       ]
      },
      {
       "output_type": "stream",
       "stream": "stderr",
       "text": [
        "DEBUG:root:ret_val = {u'loc': {u'type': u'Point', u'coordinates': [-122.4102327, 37.6286204]}, u'fmt_time': u'2015-09-07 09:18:50.279000-07:00', u'altitude': 0, u'ts': 1441642730.279, u'longitude': -122.4102327, u'latitude': 37.6286204, '_id': ObjectId('55edcc1c7d65cb39ee9883dc'), u'heading': 0, u'sensed_speed': 0, u'accuracy': 147.611} \n"
       ]
      },
      {
       "output_type": "stream",
       "stream": "stderr",
       "text": [
        "DEBUG:root:ret_val = {u'loc': {u'type': u'Point', u'coordinates': [-122.411686, 37.6302265]}, u'fmt_time': u'2015-09-07 09:19:21.319000-07:00', u'altitude': 0, u'ts': 1441642761.319, u'longitude': -122.411686, u'latitude': 37.6302265, '_id': ObjectId('55edcc1c7d65cb39ee9883de'), u'heading': 0, u'sensed_speed': 0, u'accuracy': 48} \n"
       ]
      },
      {
       "output_type": "stream",
       "stream": "stderr",
       "text": [
        "DEBUG:root:ret_val = {u'loc': {u'type': u'Point', u'coordinates': [-122.4116584, 37.6302882]}, u'fmt_time': u'2015-09-07 09:19:51.315000-07:00', u'altitude': 0, u'ts': 1441642791.315, u'longitude': -122.4116584, u'latitude': 37.6302882, '_id': ObjectId('55edcc1d7d65cb39ee9883e1'), u'heading': 0, u'sensed_speed': 0, u'accuracy': 85.5} \n"
       ]
      },
      {
       "output_type": "stream",
       "stream": "stderr",
       "text": [
        "DEBUG:root:ret_val = {u'loc': {u'type': u'Point', u'coordinates': [-122.4130942, 37.6325156]}, u'fmt_time': u'2015-09-07 09:20:54.315000-07:00', u'altitude': 0, u'ts': 1441642854.315, u'longitude': -122.4130942, u'latitude': 37.6325156, '_id': ObjectId('55edcc1d7d65cb39ee9883e5'), u'heading': 0, u'sensed_speed': 0, u'accuracy': 54.848} \n"
       ]
      },
      {
       "output_type": "stream",
       "stream": "stderr",
       "text": [
        "DEBUG:root:ret_val = {u'loc': {u'type': u'Point', u'coordinates': [-122.4131328, 37.6372697]}, u'fmt_time': u'2015-09-07 09:21:24.283000-07:00', u'altitude': 0, u'ts': 1441642884.283, u'longitude': -122.4131328, u'latitude': 37.6372697, '_id': ObjectId('55edcc1d7d65cb39ee9883e8'), u'heading': 0, u'sensed_speed': 0, u'accuracy': 39} \n"
       ]
      },
      {
       "output_type": "stream",
       "stream": "stderr",
       "text": [
        "DEBUG:root:ret_val = {u'loc': {u'type': u'Point', u'coordinates': [-122.413635, 37.645083]}, u'fmt_time': u'2015-09-07 09:21:56.113000-07:00', u'altitude': 0, u'ts': 1441642916.113, u'longitude': -122.413635, u'latitude': 37.645083, '_id': ObjectId('55edcc1d7d65cb39ee9883eb'), u'heading': 0, u'sensed_speed': 0, u'accuracy': 72} \n"
       ]
      },
      {
       "output_type": "stream",
       "stream": "stderr",
       "text": [
        "DEBUG:root:ret_val = {u'loc': {u'type': u'Point', u'coordinates': [-122.408838, 37.6516867]}, u'fmt_time': u'2015-09-07 09:22:28.798000-07:00', u'altitude': 0, u'ts': 1441642948.798, u'longitude': -122.408838, u'latitude': 37.6516867, '_id': ObjectId('55edcc1d7d65cb39ee9883ee'), u'heading': 0, u'sensed_speed': 0, u'accuracy': 48} \n"
       ]
      },
      {
       "output_type": "stream",
       "stream": "stderr",
       "text": [
        "DEBUG:root:ret_val = {u'loc': {u'type': u'Point', u'coordinates': [-122.4050829, 37.6554126]}, u'fmt_time': u'2015-09-07 09:23:00.399000-07:00', u'altitude': 0, u'ts': 1441642980.399, u'longitude': -122.4050829, u'latitude': 37.6554126, '_id': ObjectId('55edcc1e7d65cb39ee9883f1'), u'heading': 0, u'sensed_speed': 0, u'accuracy': 37.5} \n"
       ]
      },
      {
       "output_type": "stream",
       "stream": "stderr",
       "text": [
        "DEBUG:root:ret_val = {u'loc': {u'type': u'Point', u'coordinates': [-122.4050658, 37.6554586]}, u'fmt_time': u'2015-09-07 09:23:32.287000-07:00', u'altitude': 0, u'ts': 1441643012.287, u'longitude': -122.4050658, u'latitude': 37.6554586, '_id': ObjectId('55edcc1e7d65cb39ee9883f3'), u'heading': 0, u'sensed_speed': 0, u'accuracy': 37.5} \n"
       ]
      },
      {
       "output_type": "stream",
       "stream": "stderr",
       "text": [
        "DEBUG:root:ret_val = {u'loc': {u'type': u'Point', u'coordinates': [-122.405072, 37.6554658]}, u'fmt_time': u'2015-09-07 09:24:03.233000-07:00', u'altitude': 0, u'ts': 1441643043.233, u'longitude': -122.405072, u'latitude': 37.6554658, '_id': ObjectId('55edcc1e7d65cb39ee9883f6'), u'heading': 0, u'sensed_speed': 0, u'accuracy': 37.5} \n"
       ]
      },
      {
       "output_type": "stream",
       "stream": "stderr",
       "text": [
        "DEBUG:root:ret_val = {u'loc': {u'type': u'Point', u'coordinates': [-122.4049559, 37.6582226]}, u'fmt_time': u'2015-09-07 09:24:34.296000-07:00', u'altitude': 0, u'ts': 1441643074.296, u'longitude': -122.4049559, u'latitude': 37.6582226, '_id': ObjectId('55edcc1e7d65cb39ee9883f8'), u'heading': 0, u'sensed_speed': 0, u'accuracy': 86.58} \n"
       ]
      },
      {
       "output_type": "stream",
       "stream": "stderr",
       "text": [
        "DEBUG:root:ret_val = {u'loc': {u'type': u'Point', u'coordinates': [-122.4023082, 37.6629616]}, u'fmt_time': u'2015-09-07 09:25:04.332000-07:00', u'altitude': 0, u'ts': 1441643104.332, u'longitude': -122.4023082, u'latitude': 37.6629616, '_id': ObjectId('55edcc1e7d65cb39ee9883fb'), u'heading': 0, u'sensed_speed': 0, u'accuracy': 91.5} \n"
       ]
      },
      {
       "output_type": "stream",
       "stream": "stderr",
       "text": [
        "DEBUG:root:ret_val = {u'loc': {u'type': u'Point', u'coordinates': [-122.4141424, 37.77596]}, u'fmt_time': u'2015-09-07 09:26:05.698000-07:00', u'altitude': 0, u'ts': 1441643165.698, u'longitude': -122.4141424, u'latitude': 37.77596, '_id': ObjectId('55edcc1f7d65cb39ee988400'), u'heading': 0, u'sensed_speed': 0, u'accuracy': 27} \n"
       ]
      },
      {
       "output_type": "stream",
       "stream": "stderr",
       "text": [
        "DEBUG:root:ret_val = {u'loc': {u'type': u'Point', u'coordinates': [-122.4141421, 37.7759603]}, u'fmt_time': u'2015-09-07 09:26:39.419000-07:00', u'altitude': 0, u'ts': 1441643199.419, u'longitude': -122.4141421, u'latitude': 37.7759603, '_id': ObjectId('55edcc1f7d65cb39ee988403'), u'heading': 0, u'sensed_speed': 0, u'accuracy': 27} \n"
       ]
      },
      {
       "output_type": "stream",
       "stream": "stderr",
       "text": [
        "DEBUG:root:ret_val = {u'loc': {u'type': u'Point', u'coordinates': [-122.4141424, 37.77596]}, u'fmt_time': u'2015-09-07 09:27:15.146000-07:00', u'altitude': 0, u'ts': 1441643235.146, u'longitude': -122.4141424, u'latitude': 37.77596, '_id': ObjectId('55edcc1f7d65cb39ee988406'), u'heading': 0, u'sensed_speed': 0, u'accuracy': 27} \n"
       ]
      },
      {
       "output_type": "stream",
       "stream": "stderr",
       "text": [
        "DEBUG:root:ret_val = {u'loc': {u'type': u'Point', u'coordinates': [-122.4141421, 37.7759603]}, u'fmt_time': u'2015-09-07 09:27:47.248000-07:00', u'altitude': 0, u'ts': 1441643267.248, u'longitude': -122.4141421, u'latitude': 37.7759603, '_id': ObjectId('55edcc1f7d65cb39ee988409'), u'heading': 0, u'sensed_speed': 0, u'accuracy': 27} \n"
       ]
      },
      {
       "output_type": "stream",
       "stream": "stderr",
       "text": [
        "DEBUG:root:ret_val = {u'loc': {u'type': u'Point', u'coordinates': [-122.4141421, 37.7759603]}, u'fmt_time': u'2015-09-07 09:28:21.660000-07:00', u'altitude': 0, u'ts': 1441643301.66, u'longitude': -122.4141421, u'latitude': 37.7759603, '_id': ObjectId('55edcc1f7d65cb39ee98840c'), u'heading': 0, u'sensed_speed': 0, u'accuracy': 27} \n"
       ]
      },
      {
       "output_type": "stream",
       "stream": "stderr",
       "text": [
        "DEBUG:root:ret_val = {u'loc': {u'type': u'Point', u'coordinates': [-122.4141424, 37.77596]}, u'fmt_time': u'2015-09-07 09:29:23.411000-07:00', u'altitude': 0, u'ts': 1441643363.411, u'longitude': -122.4141424, u'latitude': 37.77596, '_id': ObjectId('55edcc207d65cb39ee988410'), u'heading': 0, u'sensed_speed': 0, u'accuracy': 27} \n"
       ]
      },
      {
       "output_type": "stream",
       "stream": "stderr",
       "text": [
        "DEBUG:root:ret_val = {u'loc': {u'type': u'Point', u'coordinates': [-122.4141424, 37.77596]}, u'fmt_time': u'2015-09-07 09:29:54.554000-07:00', u'altitude': 0, u'ts': 1441643394.554, u'longitude': -122.4141424, u'latitude': 37.77596, '_id': ObjectId('55edcc207d65cb39ee988412'), u'heading': 0, u'sensed_speed': 0, u'accuracy': 27} \n"
       ]
      },
      {
       "output_type": "stream",
       "stream": "stderr",
       "text": [
        "DEBUG:root:ret_val = {u'loc': {u'type': u'Point', u'coordinates': [-122.4019078, 37.7109878]}, u'fmt_time': u'2015-09-07 09:30:25.111000-07:00', u'altitude': 0, u'ts': 1441643425.111, u'longitude': -122.4019078, u'latitude': 37.7109878, '_id': ObjectId('55edcc207d65cb39ee988415'), u'heading': 0, u'sensed_speed': 0, u'accuracy': 78} \n"
       ]
      },
      {
       "output_type": "stream",
       "stream": "stderr",
       "text": [
        "DEBUG:root:ret_val = {u'loc': {u'type': u'Point', u'coordinates': [-122.401991, 37.7109958]}, u'fmt_time': u'2015-09-07 09:30:48.926000-07:00', u'altitude': 0, u'ts': 1441643448.926, u'longitude': -122.401991, u'latitude': 37.7109958, '_id': ObjectId('55edcc207d65cb39ee988418'), u'heading': 0, u'sensed_speed': 0, u'accuracy': 69} \n"
       ]
      },
      {
       "output_type": "stream",
       "stream": "stderr",
       "text": [
        "DEBUG:root:ret_val = {u'loc': {u'type': u'Point', u'coordinates': [-122.4141424, 37.77596]}, u'fmt_time': u'2015-09-07 09:33:04.170000-07:00', u'altitude': 0, u'ts': 1441643584.17, u'longitude': -122.4141424, u'latitude': 37.77596, '_id': ObjectId('55edcc217d65cb39ee98841f'), u'heading': 0, u'sensed_speed': 0, u'accuracy': 24} \n"
       ]
      },
      {
       "output_type": "stream",
       "stream": "stderr",
       "text": [
        "DEBUG:root:ret_val = {u'loc': {u'type': u'Point', u'coordinates': [-122.3963486, 37.73839]}, u'fmt_time': u'2015-09-07 09:33:38.235000-07:00', u'altitude': 0, u'ts': 1441643618.235, u'longitude': -122.3963486, u'latitude': 37.73839, '_id': ObjectId('55edcc217d65cb39ee988423'), u'heading': 0, u'sensed_speed': 0, u'accuracy': 45} \n"
       ]
      },
      {
       "output_type": "stream",
       "stream": "stderr",
       "text": [
        "DEBUG:root:ret_val = {u'loc': {u'type': u'Point', u'coordinates': [-122.3950137, 37.745244]}, u'fmt_time': u'2015-09-07 09:34:10.701000-07:00', u'altitude': 0, u'ts': 1441643650.701, u'longitude': -122.3950137, u'latitude': 37.745244, '_id': ObjectId('55edcc217d65cb39ee988426'), u'heading': 0, u'sensed_speed': 0, u'accuracy': 36} \n"
       ]
      },
      {
       "output_type": "stream",
       "stream": "stderr",
       "text": [
        "DEBUG:root:ret_val = {u'loc': {u'type': u'Point', u'coordinates': [-122.4141428, 37.77596]}, u'fmt_time': u'2015-09-07 09:34:43.253000-07:00', u'altitude': 0, u'ts': 1441643683.253, u'longitude': -122.4141428, u'latitude': 37.77596, '_id': ObjectId('55edcc217d65cb39ee988429'), u'heading': 0, u'sensed_speed': 0, u'accuracy': 27} \n"
       ]
      },
      {
       "output_type": "stream",
       "stream": "stderr",
       "text": [
        "DEBUG:root:ret_val = {u'loc': {u'type': u'Point', u'coordinates': [-122.3922985, 37.7564992]}, u'fmt_time': u'2015-09-07 09:35:14.332000-07:00', u'altitude': 0, u'ts': 1441643714.332, u'longitude': -122.3922985, u'latitude': 37.7564992, '_id': ObjectId('55edcc227d65cb39ee98842c'), u'heading': 0, u'sensed_speed': 0, u'accuracy': 52.5} \n"
       ]
      },
      {
       "output_type": "stream",
       "stream": "stderr",
       "text": [
        "DEBUG:root:ret_val = {u'loc': {u'type': u'Point', u'coordinates': [-122.3925115, 37.7572392]}, u'fmt_time': u'2015-09-07 09:36:10.976000-07:00', u'altitude': 0, u'ts': 1441643770.976, u'longitude': -122.3925115, u'latitude': 37.7572392, '_id': ObjectId('55edcc227d65cb39ee98842e'), u'heading': 0, u'sensed_speed': 0, u'accuracy': 54} \n"
       ]
      },
      {
       "output_type": "stream",
       "stream": "stderr",
       "text": [
        "DEBUG:root:ret_val = {u'loc': {u'type': u'Point', u'coordinates': [-122.3923678, 37.7575906]}, u'fmt_time': u'2015-09-07 09:36:42.258000-07:00', u'altitude': 0, u'ts': 1441643802.258, u'longitude': -122.3923678, u'latitude': 37.7575906, '_id': ObjectId('55edcc227d65cb39ee988431'), u'heading': 0, u'sensed_speed': 0, u'accuracy': 37.5} \n"
       ]
      },
      {
       "output_type": "stream",
       "stream": "stderr",
       "text": [
        "DEBUG:root:ret_val = {u'loc': {u'type': u'Point', u'coordinates': [-122.4141406, 37.7759603]}, u'fmt_time': u'2015-09-07 09:37:12.253000-07:00', u'altitude': 0, u'ts': 1441643832.253, u'longitude': -122.4141406, u'latitude': 37.7759603, '_id': ObjectId('55edcc227d65cb39ee988434'), u'heading': 0, u'sensed_speed': 0, u'accuracy': 24} \n"
       ]
      },
      {
       "output_type": "stream",
       "stream": "stderr",
       "text": [
        "DEBUG:root:ret_val = {u'loc': {u'type': u'Point', u'coordinates': [-122.3950964, 37.7666736]}, u'fmt_time': u'2015-09-07 09:37:44.407000-07:00', u'altitude': 0, u'ts': 1441643864.407, u'longitude': -122.3950964, u'latitude': 37.7666736, '_id': ObjectId('55edcc227d65cb39ee988437'), u'heading': 0, u'sensed_speed': 0, u'accuracy': 45} \n"
       ]
      },
      {
       "output_type": "stream",
       "stream": "stderr",
       "text": [
        "DEBUG:root:ret_val = {u'loc': {u'type': u'Point', u'coordinates': [-122.3982272, 37.7694024]}, u'fmt_time': u'2015-09-07 09:38:11.721000-07:00', u'altitude': 0, u'ts': 1441643891.721, u'longitude': -122.3982272, u'latitude': 37.7694024, '_id': ObjectId('55edcc227d65cb39ee988439'), u'heading': 0, u'sensed_speed': 0, u'accuracy': 78} \n"
       ]
      },
      {
       "output_type": "stream",
       "stream": "stderr",
       "text": [
        "DEBUG:root:ret_val = {u'loc': {u'type': u'Point', u'coordinates': [-122.4007906, 37.7720989]}, u'fmt_time': u'2015-09-07 09:38:43.316000-07:00', u'altitude': 0, u'ts': 1441643923.316, u'longitude': -122.4007906, u'latitude': 37.7720989, '_id': ObjectId('55edcc237d65cb39ee98843d'), u'heading': 0, u'sensed_speed': 0, u'accuracy': 150.951} \n"
       ]
      },
      {
       "output_type": "stream",
       "stream": "stderr",
       "text": [
        "DEBUG:root:ret_val = {u'loc': {u'type': u'Point', u'coordinates': [-122.3973883, 37.7742985]}, u'fmt_time': u'2015-09-07 09:39:15.366000-07:00', u'altitude': 0, u'ts': 1441643955.366, u'longitude': -122.3973883, u'latitude': 37.7742985, '_id': ObjectId('55edcc237d65cb39ee988440'), u'heading': 0, u'sensed_speed': 0, u'accuracy': 80.95} \n"
       ]
      },
      {
       "output_type": "stream",
       "stream": "stderr",
       "text": [
        "DEBUG:root:ret_val = {u'loc': {u'type': u'Point', u'coordinates': [-122.3967105, 37.7750469]}, u'fmt_time': u'2015-09-07 09:39:46.461000-07:00', u'altitude': 0, u'ts': 1441643986.461, u'longitude': -122.3967105, u'latitude': 37.7750469, '_id': ObjectId('55edcc237d65cb39ee988443'), u'heading': 0, u'sensed_speed': 0, u'accuracy': 40.5} \n"
       ]
      },
      {
       "output_type": "stream",
       "stream": "stderr",
       "text": [
        "DEBUG:root:ret_val = {u'loc': {u'type': u'Point', u'coordinates': [-122.394829, 37.7762089]}, u'fmt_time': u'2015-09-07 09:40:16.484000-07:00', u'altitude': 0, u'ts': 1441644016.484, u'longitude': -122.394829, u'latitude': 37.7762089, '_id': ObjectId('55edcc237d65cb39ee988446'), u'heading': 0, u'sensed_speed': 0, u'accuracy': 40.5} \n"
       ]
      },
      {
       "output_type": "stream",
       "stream": "stderr",
       "text": [
        "DEBUG:root:ret_val = {u'loc': {u'type': u'Point', u'coordinates': [-122.3948396, 37.7761944]}, u'fmt_time': u'2015-09-07 09:40:47.362000-07:00', u'altitude': 0, u'ts': 1441644047.362, u'longitude': -122.3948396, u'latitude': 37.7761944, '_id': ObjectId('55edcc237d65cb39ee988448'), u'heading': 0, u'sensed_speed': 0, u'accuracy': 57} \n"
       ]
      },
      {
       "output_type": "stream",
       "stream": "stderr",
       "text": [
        "DEBUG:root:points_df.columns = Index([u'_id', u'accuracy', u'altitude', u'fmt_time', u'heading', u'latitude', u'loc', u'longitude', u'sensed_speed', u'ts'], dtype='object')\n"
       ]
      },
      {
       "output_type": "stream",
       "stream": "stderr",
       "text": [
        "DEBUG:root:first element in section_location_array = Location({u'loc': {u'type': u'Point', u'coordinates': [-122.0865169, 37.3986848]}, u'fmt_time': u'2015-09-07 08:22:59.149000-07:00', u'altitude': 0, u'ts': 1441639379.149, u'longitude': -122.0865169, u'latitude': 37.3986848, '_id': ObjectId('55edafe27d65cb39ee9882b8'), u'heading': 0, u'sensed_speed': 0, u'accuracy': 55.5})\n"
       ]
      },
      {
       "output_type": "stream",
       "stream": "stderr",
       "text": [
        "DEBUG:root:No filtered_points_entry, returning unchanged array\n"
       ]
      },
      {
       "output_type": "stream",
       "stream": "stderr",
       "text": [
        "DEBUG:root:About to add Location({u'loc': {u'type': u'Point', u'coordinates': [-122.0865169, 37.3986848]}, u'fmt_time': u'2015-09-07 08:22:59.149000-07:00', u'altitude': 0, u'ts': 1441639379.149, u'longitude': -122.0865169, u'latitude': 37.3986848, '_id': ObjectId('55edafe27d65cb39ee9882b8'), u'heading': 0, u'sensed_speed': 0, u'accuracy': 55.5}) to line_string \n"
       ]
      },
      {
       "output_type": "stream",
       "stream": "stderr",
       "text": [
        "DEBUG:root:About to add Location({u'loc': {u'type': u'Point', u'coordinates': [-122.0962273, 37.4030409]}, u'fmt_time': u'2015-09-07 08:23:35.196000-07:00', u'altitude': 0, u'ts': 1441639415.196, u'longitude': -122.0962273, u'latitude': 37.4030409, '_id': ObjectId('55edafe27d65cb39ee9882bc'), u'heading': 0, u'sensed_speed': 0, u'accuracy': 52.5}) to line_string \n"
       ]
      },
      {
       "output_type": "stream",
       "stream": "stderr",
       "text": [
        "DEBUG:root:About to add Location({u'loc': {u'type': u'Point', u'coordinates': [-122.1025235, 37.40482]}, u'fmt_time': u'2015-09-07 08:24:06.357000-07:00', u'altitude': 0, u'ts': 1441639446.357, u'longitude': -122.1025235, u'latitude': 37.40482, '_id': ObjectId('55edafe27d65cb39ee9882bf'), u'heading': 0, u'sensed_speed': 0, u'accuracy': 30.748}) to line_string \n"
       ]
      },
      {
       "output_type": "stream",
       "stream": "stderr",
       "text": [
        "DEBUG:root:About to add Location({u'loc': {u'type': u'Point', u'coordinates': [-122.106876, 37.4073706]}, u'fmt_time': u'2015-09-07 08:24:37.505000-07:00', u'altitude': 0, u'ts': 1441639477.505, u'longitude': -122.106876, u'latitude': 37.4073706, '_id': ObjectId('55edafe37d65cb39ee9882c2'), u'heading': 0, u'sensed_speed': 0, u'accuracy': 51.0}) to line_string \n"
       ]
      },
      {
       "output_type": "stream",
       "stream": "stderr",
       "text": [
        "DEBUG:root:About to add Location({u'loc': {u'type': u'Point', u'coordinates': [-122.107543, 37.4075664]}, u'fmt_time': u'2015-09-07 08:25:09.280000-07:00', u'altitude': 0, u'ts': 1441639509.28, u'longitude': -122.107543, u'latitude': 37.4075664, '_id': ObjectId('55edafe37d65cb39ee9882c5'), u'heading': 0, u'sensed_speed': 0, u'accuracy': 46.358}) to line_string \n"
       ]
      },
      {
       "output_type": "stream",
       "stream": "stderr",
       "text": [
        "DEBUG:root:About to add Location({u'loc': {u'type': u'Point', u'coordinates': [-122.107666, 37.4077599]}, u'fmt_time': u'2015-09-07 08:25:41.913000-07:00', u'altitude': 0, u'ts': 1441639541.913, u'longitude': -122.107666, u'latitude': 37.4077599, '_id': ObjectId('55edafe37d65cb39ee9882c7'), u'heading': 0, u'sensed_speed': 0, u'accuracy': 27.835}) to line_string \n"
       ]
      },
      {
       "output_type": "stream",
       "stream": "stderr",
       "text": [
        "DEBUG:root:About to add Location({u'loc': {u'type': u'Point', u'coordinates': [-122.1092916, 37.4082503]}, u'fmt_time': u'2015-09-07 08:26:12.202000-07:00', u'altitude': 0, u'ts': 1441639572.202, u'longitude': -122.1092916, u'latitude': 37.4082503, '_id': ObjectId('55edafe37d65cb39ee9882ca'), u'heading': 0, u'sensed_speed': 0, u'accuracy': 49.5}) to line_string \n"
       ]
      },
      {
       "output_type": "stream",
       "stream": "stderr",
       "text": [
        "DEBUG:root:About to add Location({u'loc': {u'type': u'Point', u'coordinates': [-122.1134991, 37.4110033]}, u'fmt_time': u'2015-09-07 08:26:43.226000-07:00', u'altitude': 0, u'ts': 1441639603.226, u'longitude': -122.1134991, u'latitude': 37.4110033, '_id': ObjectId('55edafe37d65cb39ee9882cc'), u'heading': 0, u'sensed_speed': 0, u'accuracy': 40.5}) to line_string \n"
       ]
      },
      {
       "output_type": "stream",
       "stream": "stderr",
       "text": [
        "DEBUG:root:About to add Location({u'loc': {u'type': u'Point', u'coordinates': [-122.1190713, 37.4151152]}, u'fmt_time': u'2015-09-07 08:27:13.255000-07:00', u'altitude': 0, u'ts': 1441639633.255, u'longitude': -122.1190713, u'latitude': 37.4151152, '_id': ObjectId('55edafe37d65cb39ee9882cf'), u'heading': 0, u'sensed_speed': 0, u'accuracy': 36.0}) to line_string \n"
       ]
      },
      {
       "output_type": "stream",
       "stream": "stderr",
       "text": [
        "DEBUG:root:About to add Location({u'loc': {u'type': u'Point', u'coordinates': [-122.1259294, 37.4189707]}, u'fmt_time': u'2015-09-07 08:27:41.081000-07:00', u'altitude': 0, u'ts': 1441639661.081, u'longitude': -122.1259294, u'latitude': 37.4189707, '_id': ObjectId('55edafe47d65cb39ee9882d2'), u'heading': 0, u'sensed_speed': 0, u'accuracy': 40.5}) to line_string \n"
       ]
      },
      {
       "output_type": "stream",
       "stream": "stderr",
       "text": [
        "DEBUG:root:About to add Location({u'loc': {u'type': u'Point', u'coordinates': [-122.1391066, 37.4267244]}, u'fmt_time': u'2015-09-07 08:28:48.180000-07:00', u'altitude': 0, u'ts': 1441639728.18, u'longitude': -122.1391066, u'latitude': 37.4267244, '_id': ObjectId('55edafe47d65cb39ee9882d6'), u'heading': 0, u'sensed_speed': 0, u'accuracy': 39.0}) to line_string \n"
       ]
      },
      {
       "output_type": "stream",
       "stream": "stderr",
       "text": [
        "DEBUG:root:About to add Location({u'loc': {u'type': u'Point', u'coordinates': [-122.1391066, 37.4267244]}, u'fmt_time': u'2015-09-07 08:28:58.703000-07:00', u'altitude': 0, u'ts': 1441639738.703, u'longitude': -122.1391066, u'latitude': 37.4267244, '_id': ObjectId('55edafe47d65cb39ee9882d8'), u'heading': 0, u'sensed_speed': 0, u'accuracy': 39.0}) to line_string \n"
       ]
      },
      {
       "output_type": "stream",
       "stream": "stderr",
       "text": [
        "DEBUG:root:About to add Location({u'loc': {u'type': u'Point', u'coordinates': [-122.1416312, 37.4293277]}, u'fmt_time': u'2015-09-07 08:29:30.267000-07:00', u'altitude': 0, u'ts': 1441639770.267, u'longitude': -122.1416312, u'latitude': 37.4293277, '_id': ObjectId('55edafe47d65cb39ee9882da'), u'heading': 0, u'sensed_speed': 0, u'accuracy': 40.5}) to line_string \n"
       ]
      },
      {
       "output_type": "stream",
       "stream": "stderr",
       "text": [
        "DEBUG:root:About to add Location({u'loc': {u'type': u'Point', u'coordinates': [-122.1416027, 37.4293148]}, u'fmt_time': u'2015-09-07 08:30:00.298000-07:00', u'altitude': 0, u'ts': 1441639800.298, u'longitude': -122.1416027, u'latitude': 37.4293148, '_id': ObjectId('55edafe47d65cb39ee9882dd'), u'heading': 0, u'sensed_speed': 0, u'accuracy': 40.5}) to line_string \n"
       ]
      },
      {
       "output_type": "stream",
       "stream": "stderr",
       "text": [
        "DEBUG:root:About to add Location({u'loc': {u'type': u'Point', u'coordinates': [-122.1421434, 37.4293415]}, u'fmt_time': u'2015-09-07 08:30:31.494000-07:00', u'altitude': 0, u'ts': 1441639831.494, u'longitude': -122.1421434, u'latitude': 37.4293415, '_id': ObjectId('55edafe47d65cb39ee9882e0'), u'heading': 0, u'sensed_speed': 0, u'accuracy': 51.0}) to line_string \n"
       ]
      },
      {
       "output_type": "stream",
       "stream": "stderr",
       "text": [
        "DEBUG:root:About to add Location({u'loc': {u'type': u'Point', u'coordinates': [-122.146389, 37.4313212]}, u'fmt_time': u'2015-09-07 08:31:02.694000-07:00', u'altitude': 0, u'ts': 1441639862.694, u'longitude': -122.146389, u'latitude': 37.4313212, '_id': ObjectId('55edafe57d65cb39ee9882e2'), u'heading': 0, u'sensed_speed': 0, u'accuracy': 44.413}) to line_string \n"
       ]
      },
      {
       "output_type": "stream",
       "stream": "stderr",
       "text": [
        "DEBUG:root:About to add Location({u'loc': {u'type': u'Point', u'coordinates': [-122.1512161, 37.4353159]}, u'fmt_time': u'2015-09-07 08:31:33.256000-07:00', u'altitude': 0, u'ts': 1441639893.256, u'longitude': -122.1512161, u'latitude': 37.4353159, '_id': ObjectId('55edafe57d65cb39ee9882e5'), u'heading': 0, u'sensed_speed': 0, u'accuracy': 33.0}) to line_string \n"
       ]
      },
      {
       "output_type": "stream",
       "stream": "stderr",
       "text": [
        "DEBUG:root:About to add Location({u'loc': {u'type': u'Point', u'coordinates': [-122.1621971, 37.4423658]}, u'fmt_time': u'2015-09-07 08:32:36.246000-07:00', u'altitude': 0, u'ts': 1441639956.246, u'longitude': -122.1621971, u'latitude': 37.4423658, '_id': ObjectId('55edafe57d65cb39ee9882e9'), u'heading': 0, u'sensed_speed': 0, u'accuracy': 58.5}) to line_string \n"
       ]
      },
      {
       "output_type": "stream",
       "stream": "stderr",
       "text": [
        "DEBUG:root:About to add Location({u'loc': {u'type': u'Point', u'coordinates': [-122.165075, 37.4429388]}, u'fmt_time': u'2015-09-07 08:33:11.497000-07:00', u'altitude': 0, u'ts': 1441639991.497, u'longitude': -122.165075, u'latitude': 37.4429388, '_id': ObjectId('55edafe57d65cb39ee9882eb'), u'heading': 0, u'sensed_speed': 0, u'accuracy': 54.0}) to line_string \n"
       ]
      },
      {
       "output_type": "stream",
       "stream": "stderr",
       "text": [
        "DEBUG:root:About to add Location({u'loc': {u'type': u'Point', u'coordinates': [-122.1650201, 37.4429553]}, u'fmt_time': u'2015-09-07 08:33:28.019000-07:00', u'altitude': 0, u'ts': 1441640008.019, u'longitude': -122.1650201, u'latitude': 37.4429553, '_id': ObjectId('55edafe57d65cb39ee9882ee'), u'heading': 0, u'sensed_speed': 0, u'accuracy': 63.0}) to line_string \n"
       ]
      },
      {
       "output_type": "stream",
       "stream": "stderr",
       "text": [
        "DEBUG:root:About to add Location({u'loc': {u'type': u'Point', u'coordinates': [-122.1648692, 37.4431737]}, u'fmt_time': u'2015-09-07 08:33:59.281000-07:00', u'altitude': 0, u'ts': 1441640039.281, u'longitude': -122.1648692, u'latitude': 37.4431737, '_id': ObjectId('55edafe67d65cb39ee9882f1'), u'heading': 0, u'sensed_speed': 0, u'accuracy': 67.5}) to line_string \n"
       ]
      },
      {
       "output_type": "stream",
       "stream": "stderr",
       "text": [
        "DEBUG:root:About to add Location({u'loc': {u'type': u'Point', u'coordinates': [-122.1652415, 37.4427834]}, u'fmt_time': u'2015-09-07 08:34:30.329000-07:00', u'altitude': 0, u'ts': 1441640070.329, u'longitude': -122.1652415, u'latitude': 37.4427834, '_id': ObjectId('55edafe67d65cb39ee9882f4'), u'heading': 0, u'sensed_speed': 0, u'accuracy': 79.5}) to line_string \n"
       ]
      },
      {
       "output_type": "stream",
       "stream": "stderr",
       "text": [
        "DEBUG:root:About to add Location({u'loc': {u'type': u'Point', u'coordinates': [-122.1651357, 37.4432453]}, u'fmt_time': u'2015-09-07 08:35:01.426000-07:00', u'altitude': 0, u'ts': 1441640101.426, u'longitude': -122.1651357, u'latitude': 37.4432453, '_id': ObjectId('55edafe67d65cb39ee9882f7'), u'heading': 0, u'sensed_speed': 0, u'accuracy': 141.0}) to line_string \n"
       ]
      },
      {
       "output_type": "stream",
       "stream": "stderr",
       "text": [
        "DEBUG:root:About to add Location({u'loc': {u'type': u'Point', u'coordinates': [-122.1660395, 37.4437627]}, u'fmt_time': u'2015-09-07 08:35:32.539000-07:00', u'altitude': 0, u'ts': 1441640132.539, u'longitude': -122.1660395, u'latitude': 37.4437627, '_id': ObjectId('55edafe67d65cb39ee9882fa'), u'heading': 0, u'sensed_speed': 0, u'accuracy': 39.0}) to line_string \n"
       ]
      },
      {
       "output_type": "stream",
       "stream": "stderr",
       "text": [
        "DEBUG:root:About to add Location({u'loc': {u'type': u'Point', u'coordinates': [-122.1660395, 37.4437627]}, u'fmt_time': u'2015-09-07 08:36:00.941000-07:00', u'altitude': 0, u'ts': 1441640160.941, u'longitude': -122.1660395, u'latitude': 37.4437627, '_id': ObjectId('55edafe67d65cb39ee9882fc'), u'heading': 0, u'sensed_speed': 0, u'accuracy': 81.601}) to line_string \n"
       ]
      },
      {
       "output_type": "stream",
       "stream": "stderr",
       "text": [
        "DEBUG:root:About to add Location({u'loc': {u'type': u'Point', u'coordinates': [-122.4141394, 37.7759586]}, u'fmt_time': u'2015-09-07 08:36:34.285000-07:00', u'altitude': 0, u'ts': 1441640194.285, u'longitude': -122.4141394, u'latitude': 37.7759586, '_id': ObjectId('55edafe77d65cb39ee9882ff'), u'heading': 0, u'sensed_speed': 0, u'accuracy': 26.0}) to line_string \n"
       ]
      },
      {
       "output_type": "stream",
       "stream": "stderr",
       "text": [
        "DEBUG:root:About to add Location({u'loc': {u'type': u'Point', u'coordinates': [-122.1806205, 37.454192]}, u'fmt_time': u'2015-09-07 08:37:05.415000-07:00', u'altitude': 0, u'ts': 1441640225.415, u'longitude': -122.1806205, u'latitude': 37.454192, '_id': ObjectId('55edafe77d65cb39ee988302'), u'heading': 0, u'sensed_speed': 0, u'accuracy': 31.5}) to line_string \n"
       ]
      },
      {
       "output_type": "stream",
       "stream": "stderr",
       "text": [
        "DEBUG:root:About to add Location({u'loc': {u'type': u'Point', u'coordinates': [-122.1840945, 37.4551591]}, u'fmt_time': u'2015-09-07 08:37:38.281000-07:00', u'altitude': 0, u'ts': 1441640258.281, u'longitude': -122.1840945, u'latitude': 37.4551591, '_id': ObjectId('55edafe77d65cb39ee988304'), u'heading': 0, u'sensed_speed': 0, u'accuracy': 40.5}) to line_string \n"
       ]
      },
      {
       "output_type": "stream",
       "stream": "stderr",
       "text": [
        "DEBUG:root:About to add Location({u'loc': {u'type': u'Point', u'coordinates': [-122.184044, 37.4551821]}, u'fmt_time': u'2015-09-07 08:38:09.294000-07:00', u'altitude': 0, u'ts': 1441640289.294, u'longitude': -122.184044, u'latitude': 37.4551821, '_id': ObjectId('55edafe77d65cb39ee988307'), u'heading': 0, u'sensed_speed': 0, u'accuracy': 42.0}) to line_string \n"
       ]
      },
      {
       "output_type": "stream",
       "stream": "stderr",
       "text": [
        "DEBUG:root:About to add Location({u'loc': {u'type': u'Point', u'coordinates': [-122.1841716, 37.455132]}, u'fmt_time': u'2015-09-07 08:38:39.300000-07:00', u'altitude': 0, u'ts': 1441640319.3, u'longitude': -122.1841716, u'latitude': 37.455132, '_id': ObjectId('55edafe77d65cb39ee988309'), u'heading': 0, u'sensed_speed': 0, u'accuracy': 30.0}) to line_string \n"
       ]
      },
      {
       "output_type": "stream",
       "stream": "stderr",
       "text": [
        "DEBUG:root:About to add Location({u'loc': {u'type': u'Point', u'coordinates': [-122.1865747, 37.4572954]}, u'fmt_time': u'2015-09-07 08:39:12.209000-07:00', u'altitude': 0, u'ts': 1441640352.209, u'longitude': -122.1865747, u'latitude': 37.4572954, '_id': ObjectId('55edafe77d65cb39ee98830c'), u'heading': 0, u'sensed_speed': 0, u'accuracy': 55.365}) to line_string \n"
       ]
      },
      {
       "output_type": "stream",
       "stream": "stderr",
       "text": [
        "DEBUG:root:About to add Location({u'loc': {u'type': u'Point', u'coordinates': [-122.1928985, 37.4610667]}, u'fmt_time': u'2015-09-07 08:39:45.353000-07:00', u'altitude': 0, u'ts': 1441640385.353, u'longitude': -122.1928985, u'latitude': 37.4610667, '_id': ObjectId('55edafe87d65cb39ee98830f'), u'heading': 0, u'sensed_speed': 0, u'accuracy': 65.343}) to line_string \n"
       ]
      },
      {
       "output_type": "stream",
       "stream": "stderr",
       "text": [
        "DEBUG:root:About to add Location({u'loc': {u'type': u'Point', u'coordinates': [-122.197244, 37.4637286]}, u'fmt_time': u'2015-09-07 08:40:16.498000-07:00', u'altitude': 0, u'ts': 1441640416.498, u'longitude': -122.197244, u'latitude': 37.4637286, '_id': ObjectId('55edcc0f7d65cb39ee988313'), u'heading': 0, u'sensed_speed': 0, u'accuracy': 46.196}) to line_string \n"
       ]
      },
      {
       "output_type": "stream",
       "stream": "stderr",
       "text": [
        "DEBUG:root:About to add Location({u'loc': {u'type': u'Point', u'coordinates': [-122.1980866, 37.4644353]}, u'fmt_time': u'2015-09-07 08:41:18.565000-07:00', u'altitude': 0, u'ts': 1441640478.565, u'longitude': -122.1980866, u'latitude': 37.4644353, '_id': ObjectId('55edcc0f7d65cb39ee988317'), u'heading': 0, u'sensed_speed': 0, u'accuracy': 30.0}) to line_string \n"
       ]
      },
      {
       "output_type": "stream",
       "stream": "stderr",
       "text": [
        "DEBUG:root:About to add Location({u'loc': {u'type': u'Point', u'coordinates': [-122.1980994, 37.4644346]}, u'fmt_time': u'2015-09-07 08:41:32.056000-07:00', u'altitude': 0, u'ts': 1441640492.056, u'longitude': -122.1980994, u'latitude': 37.4644346, '_id': ObjectId('55edcc0f7d65cb39ee988319'), u'heading': 0, u'sensed_speed': 0, u'accuracy': 40.5}) to line_string \n"
       ]
      },
      {
       "output_type": "stream",
       "stream": "stderr",
       "text": [
        "DEBUG:root:About to add Location({u'loc': {u'type': u'Point', u'coordinates': [-122.2031412, 37.4673138]}, u'fmt_time': u'2015-09-07 08:42:03.733000-07:00', u'altitude': 0, u'ts': 1441640523.733, u'longitude': -122.2031412, u'latitude': 37.4673138, '_id': ObjectId('55edcc107d65cb39ee98831b'), u'heading': 0, u'sensed_speed': 0, u'accuracy': 61.5}) to line_string \n"
       ]
      },
      {
       "output_type": "stream",
       "stream": "stderr",
       "text": [
        "DEBUG:root:About to add Location({u'loc': {u'type': u'Point', u'coordinates': [-122.2031412, 37.4673138]}, u'fmt_time': u'2015-09-07 08:42:15.229000-07:00', u'altitude': 0, u'ts': 1441640535.229, u'longitude': -122.2031412, u'latitude': 37.4673138, '_id': ObjectId('55edcc107d65cb39ee98831d'), u'heading': 0, u'sensed_speed': 0, u'accuracy': 61.5}) to line_string \n"
       ]
      },
      {
       "output_type": "stream",
       "stream": "stderr",
       "text": [
        "DEBUG:root:About to add Location({u'loc': {u'type': u'Point', u'coordinates': [-122.2122162, 37.4733461]}, u'fmt_time': u'2015-09-07 08:42:48.267000-07:00', u'altitude': 0, u'ts': 1441640568.267, u'longitude': -122.2122162, u'latitude': 37.4733461, '_id': ObjectId('55edcc107d65cb39ee988321'), u'heading': 0, u'sensed_speed': 0, u'accuracy': 109.795}) to line_string \n"
       ]
      },
      {
       "output_type": "stream",
       "stream": "stderr",
       "text": [
        "DEBUG:root:About to add Location({u'loc': {u'type': u'Point', u'coordinates': [-122.2196902, 37.4780787]}, u'fmt_time': u'2015-09-07 08:43:19.249000-07:00', u'altitude': 0, u'ts': 1441640599.249, u'longitude': -122.2196902, u'latitude': 37.4780787, '_id': ObjectId('55edcc107d65cb39ee988324'), u'heading': 0, u'sensed_speed': 0, u'accuracy': 82.5}) to line_string \n"
       ]
      },
      {
       "output_type": "stream",
       "stream": "stderr",
       "text": [
        "DEBUG:root:About to add Location({u'loc': {u'type': u'Point', u'coordinates': [-122.2261308, 37.4817291]}, u'fmt_time': u'2015-09-07 08:43:50.358000-07:00', u'altitude': 0, u'ts': 1441640630.358, u'longitude': -122.2261308, u'latitude': 37.4817291, '_id': ObjectId('55edcc107d65cb39ee988327'), u'heading': 0, u'sensed_speed': 0, u'accuracy': 48.0}) to line_string \n"
       ]
      },
      {
       "output_type": "stream",
       "stream": "stderr",
       "text": [
        "DEBUG:root:About to add Location({u'loc': {u'type': u'Point', u'coordinates': [-122.2303319, 37.4851202]}, u'fmt_time': u'2015-09-07 08:44:21.428000-07:00', u'altitude': 0, u'ts': 1441640661.428, u'longitude': -122.2303319, u'latitude': 37.4851202, '_id': ObjectId('55edcc117d65cb39ee98832a'), u'heading': 0, u'sensed_speed': 0, u'accuracy': 87.33}) to line_string \n"
       ]
      },
      {
       "output_type": "stream",
       "stream": "stderr",
       "text": [
        "DEBUG:root:About to add Location({u'loc': {u'type': u'Point', u'coordinates': [-122.2319245, 37.4862537]}, u'fmt_time': u'2015-09-07 08:44:52.501000-07:00', u'altitude': 0, u'ts': 1441640692.501, u'longitude': -122.2319245, u'latitude': 37.4862537, '_id': ObjectId('55edcc117d65cb39ee98832c'), u'heading': 0, u'sensed_speed': 0, u'accuracy': 28.898}) to line_string \n"
       ]
      },
      {
       "output_type": "stream",
       "stream": "stderr",
       "text": [
        "DEBUG:root:About to add Location({u'loc': {u'type': u'Point', u'coordinates': [-122.2319679, 37.4862581]}, u'fmt_time': u'2015-09-07 08:45:23.171000-07:00', u'altitude': 0, u'ts': 1441640723.171, u'longitude': -122.2319679, u'latitude': 37.4862581, '_id': ObjectId('55edcc117d65cb39ee98832f'), u'heading': 0, u'sensed_speed': 0, u'accuracy': 32.095}) to line_string \n"
       ]
      },
      {
       "output_type": "stream",
       "stream": "stderr",
       "text": [
        "DEBUG:root:About to add Location({u'loc': {u'type': u'Point', u'coordinates': [-122.2321228, 37.4862588]}, u'fmt_time': u'2015-09-07 08:45:54.214000-07:00', u'altitude': 0, u'ts': 1441640754.214, u'longitude': -122.2321228, u'latitude': 37.4862588, '_id': ObjectId('55edcc117d65cb39ee988332'), u'heading': 0, u'sensed_speed': 0, u'accuracy': 45.0}) to line_string \n"
       ]
      },
      {
       "output_type": "stream",
       "stream": "stderr",
       "text": [
        "DEBUG:root:About to add Location({u'loc': {u'type': u'Point', u'coordinates': [-122.2345584, 37.4880547]}, u'fmt_time': u'2015-09-07 08:46:25.324000-07:00', u'altitude': 0, u'ts': 1441640785.324, u'longitude': -122.2345584, u'latitude': 37.4880547, '_id': ObjectId('55edcc117d65cb39ee988334'), u'heading': 0, u'sensed_speed': 0, u'accuracy': 100.753}) to line_string \n"
       ]
      },
      {
       "output_type": "stream",
       "stream": "stderr",
       "text": [
        "DEBUG:root:About to add Location({u'loc': {u'type': u'Point', u'coordinates': [-122.2394242, 37.4909703]}, u'fmt_time': u'2015-09-07 08:46:59.297000-07:00', u'altitude': 0, u'ts': 1441640819.297, u'longitude': -122.2394242, u'latitude': 37.4909703, '_id': ObjectId('55edcc117d65cb39ee988337'), u'heading': 0, u'sensed_speed': 0, u'accuracy': 30.0}) to line_string \n"
       ]
      },
      {
       "output_type": "stream",
       "stream": "stderr",
       "text": [
        "DEBUG:root:About to add Location({u'loc': {u'type': u'Point', u'coordinates': [-122.2464361, 37.4952534]}, u'fmt_time': u'2015-09-07 08:47:30.645000-07:00', u'altitude': 0, u'ts': 1441640850.645, u'longitude': -122.2464361, u'latitude': 37.4952534, '_id': ObjectId('55edcc127d65cb39ee98833b'), u'heading': 0, u'sensed_speed': 0, u'accuracy': 45.0}) to line_string \n"
       ]
      },
      {
       "output_type": "stream",
       "stream": "stderr",
       "text": [
        "DEBUG:root:About to add Location({u'loc': {u'type': u'Point', u'coordinates': [-122.252072, 37.5003875]}, u'fmt_time': u'2015-09-07 08:48:01.766000-07:00', u'altitude': 0, u'ts': 1441640881.766, u'longitude': -122.252072, u'latitude': 37.5003875, '_id': ObjectId('55edcc127d65cb39ee98833e'), u'heading': 0, u'sensed_speed': 0, u'accuracy': 30.0}) to line_string \n"
       ]
      },
      {
       "output_type": "stream",
       "stream": "stderr",
       "text": [
        "DEBUG:root:About to add Location({u'loc': {u'type': u'Point', u'coordinates': [-122.2574706, 37.5049458]}, u'fmt_time': u'2015-09-07 08:48:33.334000-07:00', u'altitude': 0, u'ts': 1441640913.334, u'longitude': -122.2574706, u'latitude': 37.5049458, '_id': ObjectId('55edcc127d65cb39ee988340'), u'heading': 0, u'sensed_speed': 0, u'accuracy': 49.5}) to line_string \n"
       ]
      },
      {
       "output_type": "stream",
       "stream": "stderr",
       "text": [
        "DEBUG:root:About to add Location({u'loc': {u'type': u'Point', u'coordinates': [-122.2606231, 37.507955]}, u'fmt_time': u'2015-09-07 08:49:03.450000-07:00', u'altitude': 0, u'ts': 1441640943.45, u'longitude': -122.2606231, u'latitude': 37.507955, '_id': ObjectId('55edcc127d65cb39ee988343'), u'heading': 0, u'sensed_speed': 0, u'accuracy': 135.68}) to line_string \n"
       ]
      },
      {
       "output_type": "stream",
       "stream": "stderr",
       "text": [
        "DEBUG:root:About to add Location({u'loc': {u'type': u'Point', u'coordinates': [-122.2606992, 37.508107]}, u'fmt_time': u'2015-09-07 08:49:35.304000-07:00', u'altitude': 0, u'ts': 1441640975.304, u'longitude': -122.2606992, u'latitude': 37.508107, '_id': ObjectId('55edcc127d65cb39ee988345'), u'heading': 0, u'sensed_speed': 0, u'accuracy': 33.0}) to line_string \n"
       ]
      },
      {
       "output_type": "stream",
       "stream": "stderr",
       "text": [
        "DEBUG:root:About to add Location({u'loc': {u'type': u'Point', u'coordinates': [-122.2606442, 37.5081124]}, u'fmt_time': u'2015-09-07 08:50:09.221000-07:00', u'altitude': 0, u'ts': 1441641009.221, u'longitude': -122.2606442, u'latitude': 37.5081124, '_id': ObjectId('55edcc137d65cb39ee988348'), u'heading': 0, u'sensed_speed': 0, u'accuracy': 49.5}) to line_string \n"
       ]
      },
      {
       "output_type": "stream",
       "stream": "stderr",
       "text": [
        "DEBUG:root:About to add Location({u'loc': {u'type': u'Point', u'coordinates': [-122.2615703, 37.5090226]}, u'fmt_time': u'2015-09-07 08:50:39.303000-07:00', u'altitude': 0, u'ts': 1441641039.303, u'longitude': -122.2615703, u'latitude': 37.5090226, '_id': ObjectId('55edcc137d65cb39ee98834a'), u'heading': 0, u'sensed_speed': 0, u'accuracy': 40.5}) to line_string \n"
       ]
      },
      {
       "output_type": "stream",
       "stream": "stderr",
       "text": [
        "DEBUG:root:About to add Location({u'loc': {u'type': u'Point', u'coordinates': [-122.2662029, 37.5127438]}, u'fmt_time': u'2015-09-07 08:51:09.401000-07:00', u'altitude': 0, u'ts': 1441641069.401, u'longitude': -122.2662029, u'latitude': 37.5127438, '_id': ObjectId('55edcc137d65cb39ee98834d'), u'heading': 0, u'sensed_speed': 0, u'accuracy': 30.0}) to line_string \n"
       ]
      },
      {
       "output_type": "stream",
       "stream": "stderr",
       "text": [
        "DEBUG:root:About to add Location({u'loc': {u'type': u'Point', u'coordinates': [-122.2717513, 37.51746]}, u'fmt_time': u'2015-09-07 08:51:41.409000-07:00', u'altitude': 0, u'ts': 1441641101.409, u'longitude': -122.2717513, u'latitude': 37.51746, '_id': ObjectId('55edcc137d65cb39ee988350'), u'heading': 0, u'sensed_speed': 0, u'accuracy': 27.257}) to line_string \n"
       ]
      },
      {
       "output_type": "stream",
       "stream": "stderr",
       "text": [
        "DEBUG:root:About to add Location({u'loc': {u'type': u'Point', u'coordinates': [-122.2753045, 37.5205203]}, u'fmt_time': u'2015-09-07 08:52:12.389000-07:00', u'altitude': 0, u'ts': 1441641132.389, u'longitude': -122.2753045, u'latitude': 37.5205203, '_id': ObjectId('55edcc137d65cb39ee988353'), u'heading': 0, u'sensed_speed': 0, u'accuracy': 30.0}) to line_string \n"
       ]
      },
      {
       "output_type": "stream",
       "stream": "stderr",
       "text": [
        "DEBUG:root:About to add Location({u'loc': {u'type': u'Point', u'coordinates': [-122.2762949, 37.5209306]}, u'fmt_time': u'2015-09-07 08:52:43.846000-07:00', u'altitude': 0, u'ts': 1441641163.846, u'longitude': -122.2762949, u'latitude': 37.5209306, '_id': ObjectId('55edcc137d65cb39ee988355'), u'heading': 0, u'sensed_speed': 0, u'accuracy': 33.0}) to line_string \n"
       ]
      },
      {
       "output_type": "stream",
       "stream": "stderr",
       "text": [
        "DEBUG:root:About to add Location({u'loc': {u'type': u'Point', u'coordinates': [-122.2762249, 37.5208917]}, u'fmt_time': u'2015-09-07 08:53:13.926000-07:00', u'altitude': 0, u'ts': 1441641193.926, u'longitude': -122.2762249, u'latitude': 37.5208917, '_id': ObjectId('55edcc147d65cb39ee988358'), u'heading': 0, u'sensed_speed': 0, u'accuracy': 36.0}) to line_string \n"
       ]
      },
      {
       "output_type": "stream",
       "stream": "stderr",
       "text": [
        "DEBUG:root:About to add Location({u'loc': {u'type': u'Point', u'coordinates': [-122.2765812, 37.5212011]}, u'fmt_time': u'2015-09-07 08:53:47.186000-07:00', u'altitude': 0, u'ts': 1441641227.186, u'longitude': -122.2765812, u'latitude': 37.5212011, '_id': ObjectId('55edcc147d65cb39ee98835a'), u'heading': 0, u'sensed_speed': 0, u'accuracy': 55.5}) to line_string \n"
       ]
      },
      {
       "output_type": "stream",
       "stream": "stderr",
       "text": [
        "DEBUG:root:About to add Location({u'loc': {u'type': u'Point', u'coordinates': [-122.2794276, 37.5242796]}, u'fmt_time': u'2015-09-07 08:54:17.418000-07:00', u'altitude': 0, u'ts': 1441641257.418, u'longitude': -122.2794276, u'latitude': 37.5242796, '_id': ObjectId('55edcc147d65cb39ee98835d'), u'heading': 0, u'sensed_speed': 0, u'accuracy': 43.5}) to line_string \n"
       ]
      },
      {
       "output_type": "stream",
       "stream": "stderr",
       "text": [
        "DEBUG:root:About to add Location({u'loc': {u'type': u'Point', u'coordinates': [-122.2855005, 37.528352]}, u'fmt_time': u'2015-09-07 08:54:48.537000-07:00', u'altitude': 0, u'ts': 1441641288.537, u'longitude': -122.2855005, u'latitude': 37.528352, '_id': ObjectId('55edcc147d65cb39ee988360'), u'heading': 0, u'sensed_speed': 0, u'accuracy': 39.0}) to line_string \n"
       ]
      },
      {
       "output_type": "stream",
       "stream": "stderr",
       "text": [
        "DEBUG:root:About to add Location({u'loc': {u'type': u'Point', u'coordinates': [-122.2920834, 37.5331247]}, u'fmt_time': u'2015-09-07 08:55:19.605000-07:00', u'altitude': 0, u'ts': 1441641319.605, u'longitude': -122.2920834, u'latitude': 37.5331247, '_id': ObjectId('55edcc147d65cb39ee988363'), u'heading': 0, u'sensed_speed': 0, u'accuracy': 49.5}) to line_string \n"
       ]
      },
      {
       "output_type": "stream",
       "stream": "stderr",
       "text": [
        "DEBUG:root:About to add Location({u'loc': {u'type': u'Point', u'coordinates': [-122.2967151, 37.5367044]}, u'fmt_time': u'2015-09-07 08:55:50.655000-07:00', u'altitude': 0, u'ts': 1441641350.655, u'longitude': -122.2967151, u'latitude': 37.5367044, '_id': ObjectId('55edcc147d65cb39ee988366'), u'heading': 0, u'sensed_speed': 0, u'accuracy': 52.5}) to line_string \n"
       ]
      },
      {
       "output_type": "stream",
       "stream": "stderr",
       "text": [
        "DEBUG:root:About to add Location({u'loc': {u'type': u'Point', u'coordinates': [-122.2982435, 37.5394212]}, u'fmt_time': u'2015-09-07 08:56:20.713000-07:00', u'altitude': 0, u'ts': 1441641380.713, u'longitude': -122.2982435, u'latitude': 37.5394212, '_id': ObjectId('55edcc157d65cb39ee988368'), u'heading': 0, u'sensed_speed': 0, u'accuracy': 52.5}) to line_string \n"
       ]
      },
      {
       "output_type": "stream",
       "stream": "stderr",
       "text": [
        "DEBUG:root:About to add Location({u'loc': {u'type': u'Point', u'coordinates': [-122.4141421, 37.7759597]}, u'fmt_time': u'2015-09-07 08:57:52.329000-07:00', u'altitude': 0, u'ts': 1441641472.329, u'longitude': -122.4141421, u'latitude': 37.7759597, '_id': ObjectId('55edcc157d65cb39ee98836e'), u'heading': 0, u'sensed_speed': 0, u'accuracy': 25.0}) to line_string \n"
       ]
      },
      {
       "output_type": "stream",
       "stream": "stderr",
       "text": [
        "DEBUG:root:About to add Location({u'loc': {u'type': u'Point', u'coordinates': [-122.3043765, 37.5463201]}, u'fmt_time': u'2015-09-07 08:58:23.531000-07:00', u'altitude': 0, u'ts': 1441641503.531, u'longitude': -122.3043765, u'latitude': 37.5463201, '_id': ObjectId('55edcc157d65cb39ee988371'), u'heading': 0, u'sensed_speed': 0, u'accuracy': 40.5}) to line_string \n"
       ]
      },
      {
       "output_type": "stream",
       "stream": "stderr",
       "text": [
        "DEBUG:root:About to add Location({u'loc': {u'type': u'Point', u'coordinates': [-122.3067918, 37.5494493]}, u'fmt_time': u'2015-09-07 08:58:54.685000-07:00', u'altitude': 0, u'ts': 1441641534.685, u'longitude': -122.3067918, u'latitude': 37.5494493, '_id': ObjectId('55edcc167d65cb39ee988375'), u'heading': 0, u'sensed_speed': 0, u'accuracy': 29.0}) to line_string \n"
       ]
      },
      {
       "output_type": "stream",
       "stream": "stderr",
       "text": [
        "DEBUG:root:About to add Location({u'loc': {u'type': u'Point', u'coordinates': [-122.3093505, 37.5530053]}, u'fmt_time': u'2015-09-07 08:59:27.332000-07:00', u'altitude': 0, u'ts': 1441641567.332, u'longitude': -122.3093505, u'latitude': 37.5530053, '_id': ObjectId('55edcc167d65cb39ee988378'), u'heading': 0, u'sensed_speed': 0, u'accuracy': 116.692}) to line_string \n"
       ]
      },
      {
       "output_type": "stream",
       "stream": "stderr",
       "text": [
        "DEBUG:root:About to add Location({u'loc': {u'type': u'Point', u'coordinates': [-122.3091011, 37.5528664]}, u'fmt_time': u'2015-09-07 08:59:58.799000-07:00', u'altitude': 0, u'ts': 1441641598.799, u'longitude': -122.3091011, u'latitude': 37.5528664, '_id': ObjectId('55edcc167d65cb39ee98837a'), u'heading': 0, u'sensed_speed': 0, u'accuracy': 52.5}) to line_string \n"
       ]
      },
      {
       "output_type": "stream",
       "stream": "stderr",
       "text": [
        "DEBUG:root:About to add Location({u'loc': {u'type': u'Point', u'coordinates': [-122.3077011, 37.553451]}, u'fmt_time': u'2015-09-07 09:00:29.121000-07:00', u'altitude': 0, u'ts': 1441641629.121, u'longitude': -122.3077011, u'latitude': 37.553451, '_id': ObjectId('55edcc167d65cb39ee98837d'), u'heading': 0, u'sensed_speed': 0, u'accuracy': 34.5}) to line_string \n"
       ]
      },
      {
       "output_type": "stream",
       "stream": "stderr",
       "text": [
        "DEBUG:root:About to add Location({u'loc': {u'type': u'Point', u'coordinates': [-122.3112901, 37.555646]}, u'fmt_time': u'2015-09-07 09:01:00.334000-07:00', u'altitude': 0, u'ts': 1441641660.334, u'longitude': -122.3112901, u'latitude': 37.555646, '_id': ObjectId('55edcc167d65cb39ee98837f'), u'heading': 0, u'sensed_speed': 0, u'accuracy': 93.705}) to line_string \n"
       ]
      },
      {
       "output_type": "stream",
       "stream": "stderr",
       "text": [
        "DEBUG:root:About to add Location({u'loc': {u'type': u'Point', u'coordinates': [-122.3141872, 37.5592495]}, u'fmt_time': u'2015-09-07 09:01:30.385000-07:00', u'altitude': 0, u'ts': 1441641690.385, u'longitude': -122.3141872, u'latitude': 37.5592495, '_id': ObjectId('55edcc167d65cb39ee988382'), u'heading': 0, u'sensed_speed': 0, u'accuracy': 48.0}) to line_string \n"
       ]
      },
      {
       "output_type": "stream",
       "stream": "stderr",
       "text": [
        "DEBUG:root:About to add Location({u'loc': {u'type': u'Point', u'coordinates': [-122.3197529, 37.5638735]}, u'fmt_time': u'2015-09-07 09:02:02.294000-07:00', u'altitude': 0, u'ts': 1441641722.294, u'longitude': -122.3197529, u'latitude': 37.5638735, '_id': ObjectId('55edcc177d65cb39ee988385'), u'heading': 0, u'sensed_speed': 0, u'accuracy': 57.16}) to line_string \n"
       ]
      },
      {
       "output_type": "stream",
       "stream": "stderr",
       "text": [
        "DEBUG:root:About to add Location({u'loc': {u'type': u'Point', u'coordinates': [-122.322341, 37.5667497]}, u'fmt_time': u'2015-09-07 09:02:34.212000-07:00', u'altitude': 0, u'ts': 1441641754.212, u'longitude': -122.322341, u'latitude': 37.5667497, '_id': ObjectId('55edcc177d65cb39ee988388'), u'heading': 0, u'sensed_speed': 0, u'accuracy': 57.499}) to line_string \n"
       ]
      },
      {
       "output_type": "stream",
       "stream": "stderr",
       "text": [
        "DEBUG:root:About to add Location({u'loc': {u'type': u'Point', u'coordinates': [-122.3244683, 37.5680177]}, u'fmt_time': u'2015-09-07 09:03:04.748000-07:00', u'altitude': 0, u'ts': 1441641784.748, u'longitude': -122.3244683, u'latitude': 37.5680177, '_id': ObjectId('55edcc177d65cb39ee98838a'), u'heading': 0, u'sensed_speed': 0, u'accuracy': 119.841}) to line_string \n"
       ]
      },
      {
       "output_type": "stream",
       "stream": "stderr",
       "text": [
        "DEBUG:root:About to add Location({u'loc': {u'type': u'Point', u'coordinates': [-122.3244435, 37.5684337]}, u'fmt_time': u'2015-09-07 09:03:35.195000-07:00', u'altitude': 0, u'ts': 1441641815.195, u'longitude': -122.3244435, u'latitude': 37.5684337, '_id': ObjectId('55edcc177d65cb39ee98838d'), u'heading': 0, u'sensed_speed': 0, u'accuracy': 67.5}) to line_string \n"
       ]
      },
      {
       "output_type": "stream",
       "stream": "stderr",
       "text": [
        "DEBUG:root:About to add Location({u'loc': {u'type': u'Point', u'coordinates': [-122.3243826, 37.5685706]}, u'fmt_time': u'2015-09-07 09:04:06.412000-07:00', u'altitude': 0, u'ts': 1441641846.412, u'longitude': -122.3243826, u'latitude': 37.5685706, '_id': ObjectId('55edcc177d65cb39ee98838f'), u'heading': 0, u'sensed_speed': 0, u'accuracy': 76.5}) to line_string \n"
       ]
      },
      {
       "output_type": "stream",
       "stream": "stderr",
       "text": [
        "DEBUG:root:About to add Location({u'loc': {u'type': u'Point', u'coordinates': [-122.3266306, 37.5705537]}, u'fmt_time': u'2015-09-07 09:04:40.263000-07:00', u'altitude': 0, u'ts': 1441641880.263, u'longitude': -122.3266306, u'latitude': 37.5705537, '_id': ObjectId('55edcc177d65cb39ee988392'), u'heading': 0, u'sensed_speed': 0, u'accuracy': 57.333}) to line_string \n"
       ]
      },
      {
       "output_type": "stream",
       "stream": "stderr",
       "text": [
        "DEBUG:root:About to add Location({u'loc': {u'type': u'Point', u'coordinates': [-122.3318739, 37.5722254]}, u'fmt_time': u'2015-09-07 09:05:11.679000-07:00', u'altitude': 0, u'ts': 1441641911.679, u'longitude': -122.3318739, u'latitude': 37.5722254, '_id': ObjectId('55edcc187d65cb39ee988395'), u'heading': 0, u'sensed_speed': 0, u'accuracy': 57.0}) to line_string \n"
       ]
      },
      {
       "output_type": "stream",
       "stream": "stderr",
       "text": [
        "DEBUG:root:About to add Location({u'loc': {u'type': u'Point', u'coordinates': [-122.3332247, 37.5752412]}, u'fmt_time': u'2015-09-07 09:05:43.253000-07:00', u'altitude': 0, u'ts': 1441641943.253, u'longitude': -122.3332247, u'latitude': 37.5752412, '_id': ObjectId('55edcc187d65cb39ee988398'), u'heading': 0, u'sensed_speed': 0, u'accuracy': 40.708}) to line_string \n"
       ]
      },
      {
       "output_type": "stream",
       "stream": "stderr",
       "text": [
        "DEBUG:root:About to add Location({u'loc': {u'type': u'Point', u'coordinates': [-122.338579, 37.5775818]}, u'fmt_time': u'2015-09-07 09:06:14.416000-07:00', u'altitude': 0, u'ts': 1441641974.416, u'longitude': -122.338579, u'latitude': 37.5775818, '_id': ObjectId('55edcc187d65cb39ee98839b'), u'heading': 0, u'sensed_speed': 0, u'accuracy': 54.04}) to line_string \n"
       ]
      },
      {
       "output_type": "stream",
       "stream": "stderr",
       "text": [
        "DEBUG:root:About to add Location({u'loc': {u'type': u'Point', u'coordinates': [-122.3436356, 37.579735]}, u'fmt_time': u'2015-09-07 09:06:44.914000-07:00', u'altitude': 0, u'ts': 1441642004.914, u'longitude': -122.3436356, u'latitude': 37.579735, '_id': ObjectId('55edcc187d65cb39ee98839d'), u'heading': 0, u'sensed_speed': 0, u'accuracy': 30.0}) to line_string \n"
       ]
      },
      {
       "output_type": "stream",
       "stream": "stderr",
       "text": [
        "DEBUG:root:About to add Location({u'loc': {u'type': u'Point', u'coordinates': [-122.3442199, 37.5797635]}, u'fmt_time': u'2015-09-07 09:07:14.982000-07:00', u'altitude': 0, u'ts': 1441642034.982, u'longitude': -122.3442199, u'latitude': 37.5797635, '_id': ObjectId('55edcc187d65cb39ee98839f'), u'heading': 0, u'sensed_speed': 0, u'accuracy': 84.0}) to line_string \n"
       ]
      },
      {
       "output_type": "stream",
       "stream": "stderr",
       "text": [
        "DEBUG:root:About to add Location({u'loc': {u'type': u'Point', u'coordinates': [-122.3445669, 37.579804]}, u'fmt_time': u'2015-09-07 09:07:46.133000-07:00', u'altitude': 0, u'ts': 1441642066.133, u'longitude': -122.3445669, u'latitude': 37.579804, '_id': ObjectId('55edcc187d65cb39ee9883a3'), u'heading': 0, u'sensed_speed': 0, u'accuracy': 39.0}) to line_string \n"
       ]
      },
      {
       "output_type": "stream",
       "stream": "stderr",
       "text": [
        "DEBUG:root:About to add Location({u'loc': {u'type': u'Point', u'coordinates': [-122.3469616, 37.5804554]}, u'fmt_time': u'2015-09-07 09:08:19.309000-07:00', u'altitude': 0, u'ts': 1441642099.309, u'longitude': -122.3469616, u'latitude': 37.5804554, '_id': ObjectId('55edcc197d65cb39ee9883a5'), u'heading': 0, u'sensed_speed': 0, u'accuracy': 43.5}) to line_string \n"
       ]
      },
      {
       "output_type": "stream",
       "stream": "stderr",
       "text": [
        "DEBUG:root:About to add Location({u'loc': {u'type': u'Point', u'coordinates': [-122.3515499, 37.582682]}, u'fmt_time': u'2015-09-07 09:08:49.446000-07:00', u'altitude': 0, u'ts': 1441642129.446, u'longitude': -122.3515499, u'latitude': 37.582682, '_id': ObjectId('55edcc197d65cb39ee9883a8'), u'heading': 0, u'sensed_speed': 0, u'accuracy': 60.0}) to line_string \n"
       ]
      },
      {
       "output_type": "stream",
       "stream": "stderr",
       "text": [
        "DEBUG:root:About to add Location({u'loc': {u'type': u'Point', u'coordinates': [-122.3588049, 37.5859352]}, u'fmt_time': u'2015-09-07 09:09:21.366000-07:00', u'altitude': 0, u'ts': 1441642161.366, u'longitude': -122.3588049, u'latitude': 37.5859352, '_id': ObjectId('55edcc197d65cb39ee9883ab'), u'heading': 0, u'sensed_speed': 0, u'accuracy': 54.0}) to line_string \n"
       ]
      },
      {
       "output_type": "stream",
       "stream": "stderr",
       "text": [
        "DEBUG:root:About to add Location({u'loc': {u'type': u'Point', u'coordinates': [-122.3619457, 37.5874928]}, u'fmt_time': u'2015-09-07 09:09:53.328000-07:00', u'altitude': 0, u'ts': 1441642193.328, u'longitude': -122.3619457, u'latitude': 37.5874928, '_id': ObjectId('55edcc197d65cb39ee9883ae'), u'heading': 0, u'sensed_speed': 0, u'accuracy': 60.183}) to line_string \n"
       ]
      },
      {
       "output_type": "stream",
       "stream": "stderr",
       "text": [
        "DEBUG:root:About to add Location({u'loc': {u'type': u'Point', u'coordinates': [-122.3621965, 37.5876163]}, u'fmt_time': u'2015-09-07 09:10:25.249000-07:00', u'altitude': 0, u'ts': 1441642225.249, u'longitude': -122.3621965, u'latitude': 37.5876163, '_id': ObjectId('55edcc197d65cb39ee9883b0'), u'heading': 0, u'sensed_speed': 0, u'accuracy': 45.0}) to line_string \n"
       ]
      },
      {
       "output_type": "stream",
       "stream": "stderr",
       "text": [
        "DEBUG:root:About to add Location({u'loc': {u'type': u'Point', u'coordinates': [-122.3621314, 37.587594]}, u'fmt_time': u'2015-09-07 09:10:59.269000-07:00', u'altitude': 0, u'ts': 1441642259.269, u'longitude': -122.3621314, u'latitude': 37.587594, '_id': ObjectId('55edcc197d65cb39ee9883b3'), u'heading': 0, u'sensed_speed': 0, u'accuracy': 39.0}) to line_string \n"
       ]
      },
      {
       "output_type": "stream",
       "stream": "stderr",
       "text": [
        "DEBUG:root:About to add Location({u'loc': {u'type': u'Point', u'coordinates': [-122.364287, 37.5880448]}, u'fmt_time': u'2015-09-07 09:11:29.352000-07:00', u'altitude': 0, u'ts': 1441642289.352, u'longitude': -122.364287, u'latitude': 37.5880448, '_id': ObjectId('55edcc1a7d65cb39ee9883b5'), u'heading': 0, u'sensed_speed': 0, u'accuracy': 130.155}) to line_string \n"
       ]
      },
      {
       "output_type": "stream",
       "stream": "stderr",
       "text": [
        "DEBUG:root:About to add Location({u'loc': {u'type': u'Point', u'coordinates': [-122.3687757, 37.5907626]}, u'fmt_time': u'2015-09-07 09:12:01.232000-07:00', u'altitude': 0, u'ts': 1441642321.232, u'longitude': -122.3687757, u'latitude': 37.5907626, '_id': ObjectId('55edcc1a7d65cb39ee9883b9'), u'heading': 0, u'sensed_speed': 0, u'accuracy': 72.333}) to line_string \n"
       ]
      },
      {
       "output_type": "stream",
       "stream": "stderr",
       "text": [
        "DEBUG:root:About to add Location({u'loc': {u'type': u'Point', u'coordinates': [-122.3829077, 37.5955713]}, u'fmt_time': u'2015-09-07 09:13:04.228000-07:00', u'altitude': 0, u'ts': 1441642384.228, u'longitude': -122.3829077, u'latitude': 37.5955713, '_id': ObjectId('55edcc1a7d65cb39ee9883be'), u'heading': 0, u'sensed_speed': 0, u'accuracy': 52.5}) to line_string \n"
       ]
      },
      {
       "output_type": "stream",
       "stream": "stderr",
       "text": [
        "DEBUG:root:About to add Location({u'loc': {u'type': u'Point', u'coordinates': [-122.3859997, 37.5991997]}, u'fmt_time': u'2015-09-07 09:13:36.236000-07:00', u'altitude': 0, u'ts': 1441642416.236, u'longitude': -122.3859997, u'latitude': 37.5991997, '_id': ObjectId('55edcc1a7d65cb39ee9883c1'), u'heading': 0, u'sensed_speed': 0, u'accuracy': 31.5}) to line_string \n"
       ]
      },
      {
       "output_type": "stream",
       "stream": "stderr",
       "text": [
        "DEBUG:root:About to add Location({u'loc': {u'type': u'Point', u'coordinates': [-122.3871604, 37.5992553]}, u'fmt_time': u'2015-09-07 09:14:07.581000-07:00', u'altitude': 0, u'ts': 1441642447.581, u'longitude': -122.3871604, u'latitude': 37.5992553, '_id': ObjectId('55edcc1b7d65cb39ee9883c3'), u'heading': 0, u'sensed_speed': 0, u'accuracy': 30.0}) to line_string \n"
       ]
      },
      {
       "output_type": "stream",
       "stream": "stderr",
       "text": [
        "DEBUG:root:About to add Location({u'loc': {u'type': u'Point', u'coordinates': [-122.3871427, 37.5992518]}, u'fmt_time': u'2015-09-07 09:14:37.608000-07:00', u'altitude': 0, u'ts': 1441642477.608, u'longitude': -122.3871427, u'latitude': 37.5992518, '_id': ObjectId('55edcc1b7d65cb39ee9883c6'), u'heading': 0, u'sensed_speed': 0, u'accuracy': 30.0}) to line_string \n"
       ]
      },
      {
       "output_type": "stream",
       "stream": "stderr",
       "text": [
        "DEBUG:root:About to add Location({u'loc': {u'type': u'Point', u'coordinates': [-122.3871413, 37.5992539]}, u'fmt_time': u'2015-09-07 09:15:09.169000-07:00', u'altitude': 0, u'ts': 1441642509.169, u'longitude': -122.3871413, u'latitude': 37.5992539, '_id': ObjectId('55edcc1b7d65cb39ee9883c9'), u'heading': 0, u'sensed_speed': 0, u'accuracy': 30.0}) to line_string \n"
       ]
      },
      {
       "output_type": "stream",
       "stream": "stderr",
       "text": [
        "DEBUG:root:About to add Location({u'loc': {u'type': u'Point', u'coordinates': [-122.389175, 37.6004454]}, u'fmt_time': u'2015-09-07 09:15:41.531000-07:00', u'altitude': 0, u'ts': 1441642541.531, u'longitude': -122.389175, u'latitude': 37.6004454, '_id': ObjectId('55edcc1b7d65cb39ee9883cb'), u'heading': 0, u'sensed_speed': 0, u'accuracy': 90.738}) to line_string \n"
       ]
      },
      {
       "output_type": "stream",
       "stream": "stderr",
       "text": [
        "DEBUG:root:About to add Location({u'loc': {u'type': u'Point', u'coordinates': [-122.3910314, 37.6041367]}, u'fmt_time': u'2015-09-07 09:16:11.664000-07:00', u'altitude': 0, u'ts': 1441642571.664, u'longitude': -122.3910314, u'latitude': 37.6041367, '_id': ObjectId('55edcc1b7d65cb39ee9883cd'), u'heading': 0, u'sensed_speed': 0, u'accuracy': 62.338}) to line_string \n"
       ]
      },
      {
       "output_type": "stream",
       "stream": "stderr",
       "text": [
        "DEBUG:root:About to add Location({u'loc': {u'type': u'Point', u'coordinates': [-122.3949141, 37.6086332]}, u'fmt_time': u'2015-09-07 09:16:43.261000-07:00', u'altitude': 0, u'ts': 1441642603.261, u'longitude': -122.3949141, u'latitude': 37.6086332, '_id': ObjectId('55edcc1b7d65cb39ee9883d1'), u'heading': 0, u'sensed_speed': 0, u'accuracy': 49.5}) to line_string \n"
       ]
      },
      {
       "output_type": "stream",
       "stream": "stderr",
       "text": [
        "DEBUG:root:About to add Location({u'loc': {u'type': u'Point', u'coordinates': [-122.4054593, 37.6190665]}, u'fmt_time': u'2015-09-07 09:17:46.364000-07:00', u'altitude': 0, u'ts': 1441642666.364, u'longitude': -122.4054593, u'latitude': 37.6190665, '_id': ObjectId('55edcc1c7d65cb39ee9883d6'), u'heading': 0, u'sensed_speed': 0, u'accuracy': 51.0}) to line_string \n"
       ]
      },
      {
       "output_type": "stream",
       "stream": "stderr",
       "text": [
        "DEBUG:root:About to add Location({u'loc': {u'type': u'Point', u'coordinates': [-122.40881, 37.6248182]}, u'fmt_time': u'2015-09-07 09:18:18.615000-07:00', u'altitude': 0, u'ts': 1441642698.615, u'longitude': -122.40881, u'latitude': 37.6248182, '_id': ObjectId('55edcc1c7d65cb39ee9883d9'), u'heading': 0, u'sensed_speed': 0, u'accuracy': 60.222}) to line_string \n"
       ]
      },
      {
       "output_type": "stream",
       "stream": "stderr",
       "text": [
        "DEBUG:root:About to add Location({u'loc': {u'type': u'Point', u'coordinates': [-122.4102327, 37.6286204]}, u'fmt_time': u'2015-09-07 09:18:50.279000-07:00', u'altitude': 0, u'ts': 1441642730.279, u'longitude': -122.4102327, u'latitude': 37.6286204, '_id': ObjectId('55edcc1c7d65cb39ee9883dc'), u'heading': 0, u'sensed_speed': 0, u'accuracy': 147.611}) to line_string \n"
       ]
      },
      {
       "output_type": "stream",
       "stream": "stderr",
       "text": [
        "DEBUG:root:About to add Location({u'loc': {u'type': u'Point', u'coordinates': [-122.411686, 37.6302265]}, u'fmt_time': u'2015-09-07 09:19:21.319000-07:00', u'altitude': 0, u'ts': 1441642761.319, u'longitude': -122.411686, u'latitude': 37.6302265, '_id': ObjectId('55edcc1c7d65cb39ee9883de'), u'heading': 0, u'sensed_speed': 0, u'accuracy': 48.0}) to line_string \n"
       ]
      },
      {
       "output_type": "stream",
       "stream": "stderr",
       "text": [
        "DEBUG:root:About to add Location({u'loc': {u'type': u'Point', u'coordinates': [-122.4116584, 37.6302882]}, u'fmt_time': u'2015-09-07 09:19:51.315000-07:00', u'altitude': 0, u'ts': 1441642791.315, u'longitude': -122.4116584, u'latitude': 37.6302882, '_id': ObjectId('55edcc1d7d65cb39ee9883e1'), u'heading': 0, u'sensed_speed': 0, u'accuracy': 85.5}) to line_string \n"
       ]
      },
      {
       "output_type": "stream",
       "stream": "stderr",
       "text": [
        "DEBUG:root:About to add Location({u'loc': {u'type': u'Point', u'coordinates': [-122.4130942, 37.6325156]}, u'fmt_time': u'2015-09-07 09:20:54.315000-07:00', u'altitude': 0, u'ts': 1441642854.315, u'longitude': -122.4130942, u'latitude': 37.6325156, '_id': ObjectId('55edcc1d7d65cb39ee9883e5'), u'heading': 0, u'sensed_speed': 0, u'accuracy': 54.848}) to line_string \n"
       ]
      },
      {
       "output_type": "stream",
       "stream": "stderr",
       "text": [
        "DEBUG:root:About to add Location({u'loc': {u'type': u'Point', u'coordinates': [-122.4131328, 37.6372697]}, u'fmt_time': u'2015-09-07 09:21:24.283000-07:00', u'altitude': 0, u'ts': 1441642884.283, u'longitude': -122.4131328, u'latitude': 37.6372697, '_id': ObjectId('55edcc1d7d65cb39ee9883e8'), u'heading': 0, u'sensed_speed': 0, u'accuracy': 39.0}) to line_string \n"
       ]
      },
      {
       "output_type": "stream",
       "stream": "stderr",
       "text": [
        "DEBUG:root:About to add Location({u'loc': {u'type': u'Point', u'coordinates': [-122.413635, 37.645083]}, u'fmt_time': u'2015-09-07 09:21:56.113000-07:00', u'altitude': 0, u'ts': 1441642916.113, u'longitude': -122.413635, u'latitude': 37.645083, '_id': ObjectId('55edcc1d7d65cb39ee9883eb'), u'heading': 0, u'sensed_speed': 0, u'accuracy': 72.0}) to line_string \n"
       ]
      },
      {
       "output_type": "stream",
       "stream": "stderr",
       "text": [
        "DEBUG:root:About to add Location({u'loc': {u'type': u'Point', u'coordinates': [-122.408838, 37.6516867]}, u'fmt_time': u'2015-09-07 09:22:28.798000-07:00', u'altitude': 0, u'ts': 1441642948.798, u'longitude': -122.408838, u'latitude': 37.6516867, '_id': ObjectId('55edcc1d7d65cb39ee9883ee'), u'heading': 0, u'sensed_speed': 0, u'accuracy': 48.0}) to line_string \n"
       ]
      },
      {
       "output_type": "stream",
       "stream": "stderr",
       "text": [
        "DEBUG:root:About to add Location({u'loc': {u'type': u'Point', u'coordinates': [-122.4050829, 37.6554126]}, u'fmt_time': u'2015-09-07 09:23:00.399000-07:00', u'altitude': 0, u'ts': 1441642980.399, u'longitude': -122.4050829, u'latitude': 37.6554126, '_id': ObjectId('55edcc1e7d65cb39ee9883f1'), u'heading': 0, u'sensed_speed': 0, u'accuracy': 37.5}) to line_string \n"
       ]
      },
      {
       "output_type": "stream",
       "stream": "stderr",
       "text": [
        "DEBUG:root:About to add Location({u'loc': {u'type': u'Point', u'coordinates': [-122.4050658, 37.6554586]}, u'fmt_time': u'2015-09-07 09:23:32.287000-07:00', u'altitude': 0, u'ts': 1441643012.287, u'longitude': -122.4050658, u'latitude': 37.6554586, '_id': ObjectId('55edcc1e7d65cb39ee9883f3'), u'heading': 0, u'sensed_speed': 0, u'accuracy': 37.5}) to line_string \n"
       ]
      },
      {
       "output_type": "stream",
       "stream": "stderr",
       "text": [
        "DEBUG:root:About to add Location({u'loc': {u'type': u'Point', u'coordinates': [-122.405072, 37.6554658]}, u'fmt_time': u'2015-09-07 09:24:03.233000-07:00', u'altitude': 0, u'ts': 1441643043.233, u'longitude': -122.405072, u'latitude': 37.6554658, '_id': ObjectId('55edcc1e7d65cb39ee9883f6'), u'heading': 0, u'sensed_speed': 0, u'accuracy': 37.5}) to line_string \n"
       ]
      },
      {
       "output_type": "stream",
       "stream": "stderr",
       "text": [
        "DEBUG:root:About to add Location({u'loc': {u'type': u'Point', u'coordinates': [-122.4049559, 37.6582226]}, u'fmt_time': u'2015-09-07 09:24:34.296000-07:00', u'altitude': 0, u'ts': 1441643074.296, u'longitude': -122.4049559, u'latitude': 37.6582226, '_id': ObjectId('55edcc1e7d65cb39ee9883f8'), u'heading': 0, u'sensed_speed': 0, u'accuracy': 86.58}) to line_string \n"
       ]
      },
      {
       "output_type": "stream",
       "stream": "stderr",
       "text": [
        "DEBUG:root:About to add Location({u'loc': {u'type': u'Point', u'coordinates': [-122.4023082, 37.6629616]}, u'fmt_time': u'2015-09-07 09:25:04.332000-07:00', u'altitude': 0, u'ts': 1441643104.332, u'longitude': -122.4023082, u'latitude': 37.6629616, '_id': ObjectId('55edcc1e7d65cb39ee9883fb'), u'heading': 0, u'sensed_speed': 0, u'accuracy': 91.5}) to line_string \n"
       ]
      },
      {
       "output_type": "stream",
       "stream": "stderr",
       "text": [
        "DEBUG:root:About to add Location({u'loc': {u'type': u'Point', u'coordinates': [-122.4141424, 37.77596]}, u'fmt_time': u'2015-09-07 09:26:05.698000-07:00', u'altitude': 0, u'ts': 1441643165.698, u'longitude': -122.4141424, u'latitude': 37.77596, '_id': ObjectId('55edcc1f7d65cb39ee988400'), u'heading': 0, u'sensed_speed': 0, u'accuracy': 27.0}) to line_string \n"
       ]
      },
      {
       "output_type": "stream",
       "stream": "stderr",
       "text": [
        "DEBUG:root:About to add Location({u'loc': {u'type': u'Point', u'coordinates': [-122.4141421, 37.7759603]}, u'fmt_time': u'2015-09-07 09:26:39.419000-07:00', u'altitude': 0, u'ts': 1441643199.419, u'longitude': -122.4141421, u'latitude': 37.7759603, '_id': ObjectId('55edcc1f7d65cb39ee988403'), u'heading': 0, u'sensed_speed': 0, u'accuracy': 27.0}) to line_string \n"
       ]
      },
      {
       "output_type": "stream",
       "stream": "stderr",
       "text": [
        "DEBUG:root:About to add Location({u'loc': {u'type': u'Point', u'coordinates': [-122.4141424, 37.77596]}, u'fmt_time': u'2015-09-07 09:27:15.146000-07:00', u'altitude': 0, u'ts': 1441643235.146, u'longitude': -122.4141424, u'latitude': 37.77596, '_id': ObjectId('55edcc1f7d65cb39ee988406'), u'heading': 0, u'sensed_speed': 0, u'accuracy': 27.0}) to line_string \n"
       ]
      },
      {
       "output_type": "stream",
       "stream": "stderr",
       "text": [
        "DEBUG:root:About to add Location({u'loc': {u'type': u'Point', u'coordinates': [-122.4141421, 37.7759603]}, u'fmt_time': u'2015-09-07 09:27:47.248000-07:00', u'altitude': 0, u'ts': 1441643267.248, u'longitude': -122.4141421, u'latitude': 37.7759603, '_id': ObjectId('55edcc1f7d65cb39ee988409'), u'heading': 0, u'sensed_speed': 0, u'accuracy': 27.0}) to line_string \n"
       ]
      },
      {
       "output_type": "stream",
       "stream": "stderr",
       "text": [
        "DEBUG:root:About to add Location({u'loc': {u'type': u'Point', u'coordinates': [-122.4141421, 37.7759603]}, u'fmt_time': u'2015-09-07 09:28:21.660000-07:00', u'altitude': 0, u'ts': 1441643301.66, u'longitude': -122.4141421, u'latitude': 37.7759603, '_id': ObjectId('55edcc1f7d65cb39ee98840c'), u'heading': 0, u'sensed_speed': 0, u'accuracy': 27.0}) to line_string \n"
       ]
      },
      {
       "output_type": "stream",
       "stream": "stderr",
       "text": [
        "DEBUG:root:About to add Location({u'loc': {u'type': u'Point', u'coordinates': [-122.4141424, 37.77596]}, u'fmt_time': u'2015-09-07 09:29:23.411000-07:00', u'altitude': 0, u'ts': 1441643363.411, u'longitude': -122.4141424, u'latitude': 37.77596, '_id': ObjectId('55edcc207d65cb39ee988410'), u'heading': 0, u'sensed_speed': 0, u'accuracy': 27.0}) to line_string \n"
       ]
      },
      {
       "output_type": "stream",
       "stream": "stderr",
       "text": [
        "DEBUG:root:About to add Location({u'loc': {u'type': u'Point', u'coordinates': [-122.4141424, 37.77596]}, u'fmt_time': u'2015-09-07 09:29:54.554000-07:00', u'altitude': 0, u'ts': 1441643394.554, u'longitude': -122.4141424, u'latitude': 37.77596, '_id': ObjectId('55edcc207d65cb39ee988412'), u'heading': 0, u'sensed_speed': 0, u'accuracy': 27.0}) to line_string \n"
       ]
      },
      {
       "output_type": "stream",
       "stream": "stderr",
       "text": [
        "DEBUG:root:About to add Location({u'loc': {u'type': u'Point', u'coordinates': [-122.4019078, 37.7109878]}, u'fmt_time': u'2015-09-07 09:30:25.111000-07:00', u'altitude': 0, u'ts': 1441643425.111, u'longitude': -122.4019078, u'latitude': 37.7109878, '_id': ObjectId('55edcc207d65cb39ee988415'), u'heading': 0, u'sensed_speed': 0, u'accuracy': 78.0}) to line_string \n"
       ]
      },
      {
       "output_type": "stream",
       "stream": "stderr",
       "text": [
        "DEBUG:root:About to add Location({u'loc': {u'type': u'Point', u'coordinates': [-122.401991, 37.7109958]}, u'fmt_time': u'2015-09-07 09:30:48.926000-07:00', u'altitude': 0, u'ts': 1441643448.926, u'longitude': -122.401991, u'latitude': 37.7109958, '_id': ObjectId('55edcc207d65cb39ee988418'), u'heading': 0, u'sensed_speed': 0, u'accuracy': 69.0}) to line_string \n"
       ]
      },
      {
       "output_type": "stream",
       "stream": "stderr",
       "text": [
        "DEBUG:root:About to add Location({u'loc': {u'type': u'Point', u'coordinates': [-122.4141424, 37.77596]}, u'fmt_time': u'2015-09-07 09:33:04.170000-07:00', u'altitude': 0, u'ts': 1441643584.17, u'longitude': -122.4141424, u'latitude': 37.77596, '_id': ObjectId('55edcc217d65cb39ee98841f'), u'heading': 0, u'sensed_speed': 0, u'accuracy': 24.0}) to line_string \n"
       ]
      },
      {
       "output_type": "stream",
       "stream": "stderr",
       "text": [
        "DEBUG:root:About to add Location({u'loc': {u'type': u'Point', u'coordinates': [-122.3963486, 37.73839]}, u'fmt_time': u'2015-09-07 09:33:38.235000-07:00', u'altitude': 0, u'ts': 1441643618.235, u'longitude': -122.3963486, u'latitude': 37.73839, '_id': ObjectId('55edcc217d65cb39ee988423'), u'heading': 0, u'sensed_speed': 0, u'accuracy': 45.0}) to line_string \n"
       ]
      },
      {
       "output_type": "stream",
       "stream": "stderr",
       "text": [
        "DEBUG:root:About to add Location({u'loc': {u'type': u'Point', u'coordinates': [-122.3950137, 37.745244]}, u'fmt_time': u'2015-09-07 09:34:10.701000-07:00', u'altitude': 0, u'ts': 1441643650.701, u'longitude': -122.3950137, u'latitude': 37.745244, '_id': ObjectId('55edcc217d65cb39ee988426'), u'heading': 0, u'sensed_speed': 0, u'accuracy': 36.0}) to line_string \n"
       ]
      },
      {
       "output_type": "stream",
       "stream": "stderr",
       "text": [
        "DEBUG:root:About to add Location({u'loc': {u'type': u'Point', u'coordinates': [-122.4141428, 37.77596]}, u'fmt_time': u'2015-09-07 09:34:43.253000-07:00', u'altitude': 0, u'ts': 1441643683.253, u'longitude': -122.4141428, u'latitude': 37.77596, '_id': ObjectId('55edcc217d65cb39ee988429'), u'heading': 0, u'sensed_speed': 0, u'accuracy': 27.0}) to line_string \n"
       ]
      },
      {
       "output_type": "stream",
       "stream": "stderr",
       "text": [
        "DEBUG:root:About to add Location({u'loc': {u'type': u'Point', u'coordinates': [-122.3922985, 37.7564992]}, u'fmt_time': u'2015-09-07 09:35:14.332000-07:00', u'altitude': 0, u'ts': 1441643714.332, u'longitude': -122.3922985, u'latitude': 37.7564992, '_id': ObjectId('55edcc227d65cb39ee98842c'), u'heading': 0, u'sensed_speed': 0, u'accuracy': 52.5}) to line_string \n"
       ]
      },
      {
       "output_type": "stream",
       "stream": "stderr",
       "text": [
        "DEBUG:root:About to add Location({u'loc': {u'type': u'Point', u'coordinates': [-122.3925115, 37.7572392]}, u'fmt_time': u'2015-09-07 09:36:10.976000-07:00', u'altitude': 0, u'ts': 1441643770.976, u'longitude': -122.3925115, u'latitude': 37.7572392, '_id': ObjectId('55edcc227d65cb39ee98842e'), u'heading': 0, u'sensed_speed': 0, u'accuracy': 54.0}) to line_string \n"
       ]
      },
      {
       "output_type": "stream",
       "stream": "stderr",
       "text": [
        "DEBUG:root:About to add Location({u'loc': {u'type': u'Point', u'coordinates': [-122.3923678, 37.7575906]}, u'fmt_time': u'2015-09-07 09:36:42.258000-07:00', u'altitude': 0, u'ts': 1441643802.258, u'longitude': -122.3923678, u'latitude': 37.7575906, '_id': ObjectId('55edcc227d65cb39ee988431'), u'heading': 0, u'sensed_speed': 0, u'accuracy': 37.5}) to line_string \n"
       ]
      },
      {
       "output_type": "stream",
       "stream": "stderr",
       "text": [
        "DEBUG:root:About to add Location({u'loc': {u'type': u'Point', u'coordinates': [-122.4141406, 37.7759603]}, u'fmt_time': u'2015-09-07 09:37:12.253000-07:00', u'altitude': 0, u'ts': 1441643832.253, u'longitude': -122.4141406, u'latitude': 37.7759603, '_id': ObjectId('55edcc227d65cb39ee988434'), u'heading': 0, u'sensed_speed': 0, u'accuracy': 24.0}) to line_string \n"
       ]
      },
      {
       "output_type": "stream",
       "stream": "stderr",
       "text": [
        "DEBUG:root:About to add Location({u'loc': {u'type': u'Point', u'coordinates': [-122.3950964, 37.7666736]}, u'fmt_time': u'2015-09-07 09:37:44.407000-07:00', u'altitude': 0, u'ts': 1441643864.407, u'longitude': -122.3950964, u'latitude': 37.7666736, '_id': ObjectId('55edcc227d65cb39ee988437'), u'heading': 0, u'sensed_speed': 0, u'accuracy': 45.0}) to line_string \n"
       ]
      },
      {
       "output_type": "stream",
       "stream": "stderr",
       "text": [
        "DEBUG:root:About to add Location({u'loc': {u'type': u'Point', u'coordinates': [-122.3982272, 37.7694024]}, u'fmt_time': u'2015-09-07 09:38:11.721000-07:00', u'altitude': 0, u'ts': 1441643891.721, u'longitude': -122.3982272, u'latitude': 37.7694024, '_id': ObjectId('55edcc227d65cb39ee988439'), u'heading': 0, u'sensed_speed': 0, u'accuracy': 78.0}) to line_string \n"
       ]
      },
      {
       "output_type": "stream",
       "stream": "stderr",
       "text": [
        "DEBUG:root:About to add Location({u'loc': {u'type': u'Point', u'coordinates': [-122.4007906, 37.7720989]}, u'fmt_time': u'2015-09-07 09:38:43.316000-07:00', u'altitude': 0, u'ts': 1441643923.316, u'longitude': -122.4007906, u'latitude': 37.7720989, '_id': ObjectId('55edcc237d65cb39ee98843d'), u'heading': 0, u'sensed_speed': 0, u'accuracy': 150.951}) to line_string \n"
       ]
      },
      {
       "output_type": "stream",
       "stream": "stderr",
       "text": [
        "DEBUG:root:About to add Location({u'loc': {u'type': u'Point', u'coordinates': [-122.3973883, 37.7742985]}, u'fmt_time': u'2015-09-07 09:39:15.366000-07:00', u'altitude': 0, u'ts': 1441643955.366, u'longitude': -122.3973883, u'latitude': 37.7742985, '_id': ObjectId('55edcc237d65cb39ee988440'), u'heading': 0, u'sensed_speed': 0, u'accuracy': 80.95}) to line_string \n"
       ]
      },
      {
       "output_type": "stream",
       "stream": "stderr",
       "text": [
        "DEBUG:root:About to add Location({u'loc': {u'type': u'Point', u'coordinates': [-122.3967105, 37.7750469]}, u'fmt_time': u'2015-09-07 09:39:46.461000-07:00', u'altitude': 0, u'ts': 1441643986.461, u'longitude': -122.3967105, u'latitude': 37.7750469, '_id': ObjectId('55edcc237d65cb39ee988443'), u'heading': 0, u'sensed_speed': 0, u'accuracy': 40.5}) to line_string \n"
       ]
      },
      {
       "output_type": "stream",
       "stream": "stderr",
       "text": [
        "DEBUG:root:About to add Location({u'loc': {u'type': u'Point', u'coordinates': [-122.394829, 37.7762089]}, u'fmt_time': u'2015-09-07 09:40:16.484000-07:00', u'altitude': 0, u'ts': 1441644016.484, u'longitude': -122.394829, u'latitude': 37.7762089, '_id': ObjectId('55edcc237d65cb39ee988446'), u'heading': 0, u'sensed_speed': 0, u'accuracy': 40.5}) to line_string \n"
       ]
      },
      {
       "output_type": "stream",
       "stream": "stderr",
       "text": [
        "DEBUG:root:About to add Location({u'loc': {u'type': u'Point', u'coordinates': [-122.3948396, 37.7761944]}, u'fmt_time': u'2015-09-07 09:40:47.362000-07:00', u'altitude': 0, u'ts': 1441644047.362, u'longitude': -122.3948396, u'latitude': 37.7761944, '_id': ObjectId('55edcc237d65cb39ee988448'), u'heading': 0, u'sensed_speed': 0, u'accuracy': 57.0}) to line_string \n"
       ]
      },
      {
       "output_type": "stream",
       "stream": "stderr",
       "text": [
        "DEBUG:root:sort_key = metadata.write_ts\n"
       ]
      },
      {
       "output_type": "stream",
       "stream": "stderr",
       "text": [
        "DEBUG:root:ret_val = {u'loc': {u'type': u'Point', u'coordinates': [-122.394767, 37.7761847]}, u'fmt_time': u'2015-09-07 09:41:18.404000-07:00', u'altitude': 0, u'ts': 1441644078.404, u'longitude': -122.394767, u'latitude': 37.7761847, '_id': ObjectId('55edcc247d65cb39ee98844c'), u'heading': 0, u'sensed_speed': 0, u'accuracy': 43.5} \n"
       ]
      },
      {
       "output_type": "stream",
       "stream": "stderr",
       "text": [
        "DEBUG:root:ret_val = {u'loc': {u'type': u'Point', u'coordinates': [-122.3946493, 37.7762725]}, u'fmt_time': u'2015-09-07 09:41:49.536000-07:00', u'altitude': 0, u'ts': 1441644109.536, u'longitude': -122.3946493, u'latitude': 37.7762725, '_id': ObjectId('55edcc247d65cb39ee98844f'), u'heading': 0, u'sensed_speed': 0, u'accuracy': 51} \n"
       ]
      },
      {
       "output_type": "stream",
       "stream": "stderr",
       "text": [
        "DEBUG:root:ret_val = {u'loc': {u'type': u'Point', u'coordinates': [-122.394481, 37.7766259]}, u'fmt_time': u'2015-09-07 09:42:20.933000-07:00', u'altitude': 0, u'ts': 1441644140.933, u'longitude': -122.394481, u'latitude': 37.7766259, '_id': ObjectId('55edcc247d65cb39ee988452'), u'heading': 0, u'sensed_speed': 0, u'accuracy': 27} \n"
       ]
      },
      {
       "output_type": "stream",
       "stream": "stderr",
       "text": [
        "DEBUG:root:points_df.columns = Index([u'_id', u'accuracy', u'altitude', u'fmt_time', u'heading', u'latitude', u'loc', u'longitude', u'sensed_speed', u'ts'], dtype='object')\n"
       ]
      },
      {
       "output_type": "stream",
       "stream": "stderr",
       "text": [
        "DEBUG:root:first element in section_location_array = Location({u'loc': {u'type': u'Point', u'coordinates': [-122.394767, 37.7761847]}, u'fmt_time': u'2015-09-07 09:41:18.404000-07:00', u'altitude': 0, u'ts': 1441644078.404, u'longitude': -122.394767, u'latitude': 37.7761847, '_id': ObjectId('55edcc247d65cb39ee98844c'), u'heading': 0, u'sensed_speed': 0, u'accuracy': 43.5})\n"
       ]
      },
      {
       "output_type": "stream",
       "stream": "stderr",
       "text": [
        "DEBUG:root:No filtered_points_entry, returning unchanged array\n"
       ]
      },
      {
       "output_type": "stream",
       "stream": "stderr",
       "text": [
        "DEBUG:root:About to add Location({u'loc': {u'type': u'Point', u'coordinates': [-122.394767, 37.7761847]}, u'fmt_time': u'2015-09-07 09:41:18.404000-07:00', u'altitude': 0, u'ts': 1441644078.404, u'longitude': -122.394767, u'latitude': 37.7761847, '_id': ObjectId('55edcc247d65cb39ee98844c'), u'heading': 0, u'sensed_speed': 0, u'accuracy': 43.5}) to line_string \n"
       ]
      },
      {
       "output_type": "stream",
       "stream": "stderr",
       "text": [
        "DEBUG:root:About to add Location({u'loc': {u'type': u'Point', u'coordinates': [-122.3946493, 37.7762725]}, u'fmt_time': u'2015-09-07 09:41:49.536000-07:00', u'altitude': 0, u'ts': 1441644109.536, u'longitude': -122.3946493, u'latitude': 37.7762725, '_id': ObjectId('55edcc247d65cb39ee98844f'), u'heading': 0, u'sensed_speed': 0, u'accuracy': 51.0}) to line_string \n"
       ]
      },
      {
       "output_type": "stream",
       "stream": "stderr",
       "text": [
        "DEBUG:root:About to add Location({u'loc': {u'type': u'Point', u'coordinates': [-122.394481, 37.7766259]}, u'fmt_time': u'2015-09-07 09:42:20.933000-07:00', u'altitude': 0, u'ts': 1441644140.933, u'longitude': -122.394481, u'latitude': 37.7766259, '_id': ObjectId('55edcc247d65cb39ee988452'), u'heading': 0, u'sensed_speed': 0, u'accuracy': 27.0}) to line_string \n"
       ]
      },
      {
       "output_type": "stream",
       "stream": "stderr",
       "text": [
        "DEBUG:root:centering based on start = {\"geometry\": {\"coordinates\": [-122.0865169, 37.3986848], \"type\": \"Point\"}, \"id\": \"5608285df6858f3c7580c94e\", \"properties\": {\"exit_fmt_time\": \"2015-09-07 08:22:59.149000-07:00\", \"exit_ts\": 1441639379.149, \"feature_type\": \"start_place\"}, \"type\": \"Feature\"}, end = {\"geometry\": {\"coordinates\": [-122.0865169, 37.3986848], \"type\": \"Point\"}, \"id\": \"5608285df6858f3c7580c94e\", \"properties\": {\"exit_fmt_time\": \"2015-09-07 08:22:59.149000-07:00\", \"exit_ts\": 1441639379.149, \"feature_type\": \"end_place\"}, \"type\": \"Feature\"} \n"
       ]
      }
     ],
     "prompt_number": 110
    },
    {
     "cell_type": "code",
     "collapsed": false,
     "input": [
      "ipy.inline_map(map_list[0])"
     ],
     "language": "python",
     "metadata": {},
     "outputs": [
      {
       "html": [
        "<iframe srcdoc=\"<!DOCTYPE html>\n",
        "<head>\n",
        "   <meta http-equiv=&quot;content-type&quot; content=&quot;text/html; charset=UTF-8&quot; />\n",
        "   <link rel=&quot;stylesheet&quot; href=&quot;https://cdnjs.cloudflare.com/ajax/libs/leaflet/0.7.3/leaflet.css&quot; />\n",
        "   <script src=&quot;https://cdnjs.cloudflare.com/ajax/libs/leaflet/0.7.3/leaflet.js&quot;></script>\n",
        "\n",
        "   <script src=&quot;https://ajax.googleapis.com/ajax/libs/jquery/1.11.1/jquery.min.js&quot;></script>\n",
        "\n",
        "   <link rel=&quot;stylesheet&quot; href=&quot;https://maxcdn.bootstrapcdn.com/bootstrap/3.2.0/css/bootstrap.min.css&quot;>\n",
        "   <link rel=&quot;stylesheet&quot; href=&quot;https://maxcdn.bootstrapcdn.com/bootstrap/3.2.0/css/bootstrap-theme.min.css&quot;>\n",
        "   <script src=&quot;https://maxcdn.bootstrapcdn.com/bootstrap/3.2.0/js/bootstrap.min.js&quot;></script>\n",
        "\n",
        "   <link href=&quot;https://maxcdn.bootstrapcdn.com/font-awesome/4.1.0/css/font-awesome.min.css&quot; rel=&quot;stylesheet&quot;>\n",
        "\n",
        "   <link rel=&quot;stylesheet&quot; href=&quot;https://rawgit.com/lvoogdt/Leaflet.awesome-markers/2.0/develop/dist/leaflet.awesome-markers.css&quot;>\n",
        "   <script src=&quot;https://rawgithub.com/lvoogdt/Leaflet.awesome-markers/2.0/develop/dist/leaflet.awesome-markers.js&quot;></script>\n",
        "\n",
        "\n",
        "   <link rel=&quot;stylesheet&quot; href=&quot;https://cdnjs.cloudflare.com/ajax/libs/leaflet.markercluster/0.4.0/MarkerCluster.Default.css&quot;>\n",
        "   <link rel=&quot;stylesheet&quot; href=&quot;https://cdnjs.cloudflare.com/ajax/libs/leaflet.markercluster/0.4.0/MarkerCluster.css&quot;>\n",
        "   <script src=&quot;https://cdnjs.cloudflare.com/ajax/libs/leaflet.markercluster/0.4.0/leaflet.markercluster-src.js&quot;></script>\n",
        "   <script src=&quot;https://cdnjs.cloudflare.com/ajax/libs/leaflet.markercluster/0.4.0/leaflet.markercluster.js&quot;></script>\n",
        "\n",
        "   <link rel=&quot;stylesheet&quot; href=&quot;https://raw.githubusercontent.com/python-visualization/folium/master/folium/templates/leaflet.awesome.rotate.css&quot;>\n",
        "\n",
        "    \n",
        "        \n",
        "        \n",
        "            \n",
        "    \n",
        "        <link rel=&quot;stylesheet&quot; href=&quot;http://code.ionicframework.com/ionicons/1.5.2/css/ionicons.min.css&quot;>\n",
        "    \n",
        "\n",
        "            \n",
        "        \n",
        "    \n",
        "\n",
        "   \n",
        "   \n",
        "   \n",
        "   \n",
        "\n",
        "   <style>\n",
        "\n",
        "      html, body {\n",
        "        width: 100%;\n",
        "        height: 100%;\n",
        "        margin: 0;\n",
        "        padding: 0;\n",
        "      }\n",
        "\n",
        "      #map {\n",
        "        position:absolute;\n",
        "        top:0;\n",
        "        bottom:0;\n",
        "        right:0;\n",
        "        left:0;\n",
        "      }\n",
        "\n",
        "    \n",
        "        \n",
        "        \n",
        "            \n",
        "            \n",
        "        \n",
        "    \n",
        "\n",
        "   </style>\n",
        "</head>\n",
        "\n",
        "<body>\n",
        "\n",
        "   <div class=&quot;folium-map&quot; id=&quot;folium_204d443e50e341d7b754d9eb3ea38903&quot; style=&quot;width: 100%; height: 100%&quot;></div>\n",
        "\n",
        "    \n",
        "        \n",
        "        \n",
        "            \n",
        "            \n",
        "        \n",
        "    \n",
        "\n",
        "   <script>\n",
        "\n",
        "      \n",
        "\n",
        "      var base_tile = L.tileLayer('https://{s}.tile.openstreetmap.org/{z}/{x}/{y}.png', {\n",
        "          maxZoom: 18,\n",
        "          minZoom: 1,\n",
        "          attribution: 'Map data (c) <a href=&quot;http://openstreetmap.org&quot;>OpenStreetMap</a> contributors'\n",
        "      });\n",
        "\n",
        "      var baseLayer = {\n",
        "        &quot;Base Layer&quot;: base_tile\n",
        "      };\n",
        "\n",
        "      /*\n",
        "      addition of the wms layers\n",
        "      */\n",
        "\n",
        "      \n",
        "\n",
        "      /*\n",
        "      addition of the tile layers\n",
        "      */\n",
        "      \n",
        "\n",
        "      /*\n",
        "      list of layers to be added\n",
        "      */\n",
        "      var layer_list = {\n",
        "      \n",
        "      };\n",
        "\n",
        "      /*\n",
        "      Bounding box.\n",
        "      */\n",
        "      var southWest = L.latLng(-90, -180),\n",
        "          northEast = L.latLng(90, 180),\n",
        "          bounds = L.latLngBounds(southWest, northEast);\n",
        "\n",
        "      /*\n",
        "      Creates the map and adds the selected layers\n",
        "      */\n",
        "      var map = L.map('folium_204d443e50e341d7b754d9eb3ea38903', {\n",
        "                                       center:[37.3986848, -122.0865169],\n",
        "                                       zoom: 10,\n",
        "                                       maxBounds: bounds,\n",
        "                                       layers: [base_tile]\n",
        "                                     });\n",
        "\n",
        "      // L.control.layers(baseLayer, layer_list).addTo(map);\n",
        "\n",
        "      /*\n",
        "      addition of the image layers\n",
        "      */\n",
        "      \n",
        "\n",
        "      //cluster group\n",
        "      var clusteredmarkers = L.markerClusterGroup();\n",
        "      //section for adding clustered markers\n",
        "      \n",
        "      //add the clustered markers to the group anyway\n",
        "      map.addLayer(clusteredmarkers);\n",
        "\n",
        "      \n",
        "\n",
        "      \n",
        "\n",
        "      \n",
        "\n",
        "      \n",
        "\n",
        "      \n",
        "\n",
        "      \n",
        "\n",
        "      \n",
        "\n",
        "\n",
        "\n",
        "    \n",
        "        \n",
        "        \n",
        "            \n",
        "    \n",
        "          function style_feature(feature) {\n",
        "            switch(feature.properties.feature_type) {\n",
        "                case &quot;section&quot;: return style_section(feature);\n",
        "                case &quot;stop&quot;: return style_stop(feature);\n",
        "                default: return {}\n",
        "            }\n",
        "          }\n",
        "\n",
        "          function onEachFeature(feature, layer) {\n",
        "            switch(feature.properties.feature_type) {\n",
        "                case &quot;stop&quot;: layer.bindPopup(&quot;&quot;+feature.properties.duration); break;\n",
        "                case &quot;start_place&quot;: layer.bindPopup(feature.properties.exit_fmt_time); break;\n",
        "                case &quot;end_place&quot;: layer.bindPopup(feature.properties.enter_fmt_time); break;\n",
        "                case &quot;section&quot;: layer.bindPopup(getHumanReadable(feature.properties.sensed_mode)); break;\n",
        "                case &quot;location&quot;: layer.bindPopup(JSON.stringify(feature.properties)); break\n",
        "            }\n",
        "          }\n",
        "\n",
        "          function getHumanReadable(sensed_mode) {\n",
        "            ret_string = sensed_mode.split('.')[1]\n",
        "            if(ret_string == 'ON_FOOT') {\n",
        "                return 'WALKING';\n",
        "            } else {\n",
        "                return ret_string;\n",
        "            }\n",
        "          }\n",
        "\n",
        "          function getColoredStyle(baseDict, color) {\n",
        "            baseDict.color = color\n",
        "            return baseDict\n",
        "          }\n",
        "\n",
        "          function style_section(feature) {\n",
        "            var baseDict = {\n",
        "                    weight: 5,\n",
        "                    opacity: 1,\n",
        "            };\n",
        "            mode_string = getHumanReadable(feature.properties.sensed_mode);\n",
        "            switch(mode_string) {\n",
        "                case &quot;WALKING&quot;: return getColoredStyle(baseDict, 'brown');\n",
        "                case &quot;BICYCLING&quot;: return getColoredStyle(baseDict, 'green');\n",
        "                case &quot;TRANSPORT&quot;: return getColoredStyle(baseDict, 'red');\n",
        "                default: return getColoredStyle(baseDict, 'black');\n",
        "            }\n",
        "          }\n",
        "\n",
        "          function style_stop(feature) {\n",
        "            return {fillColor: 'yellow', fillOpacity: 0.8};\n",
        "          }\n",
        "\n",
        "          var pointIcon = L.divIcon({className: 'leaflet-div-icon', iconSize: [5, 5]});\n",
        "\n",
        "          var startMarker = L.AwesomeMarkers.icon({\n",
        "            icon: 'play',\n",
        "            prefix: 'ion',\n",
        "            markerColor: 'green'\n",
        "          });\n",
        "\n",
        "          var stopMarker = L.AwesomeMarkers.icon({\n",
        "            icon: 'stop',\n",
        "            prefix: 'ion',\n",
        "            markerColor: 'red'\n",
        "          });\n",
        "\n",
        "          function pointFormat(feature, latlng) {\n",
        "            switch(feature.properties.feature_type) {\n",
        "                case &quot;start_place&quot;: return L.marker(latlng, {icon: startMarker})\n",
        "                case &quot;end_place&quot;: return L.marker(latlng, {icon: stopMarker})\n",
        "                case &quot;stop&quot;: return L.circleMarker(latlng)\n",
        "                case &quot;location&quot;: return L.marker(latlng, {icon: pointIcon})\n",
        "                default: alert(&quot;Found unknown type in feature&quot;  + feature); return L.marker(latlng)\n",
        "            }\n",
        "          }\n",
        "    \n",
        "\n",
        "    var gjson_layer_0 = L.geoJson({&quot;type&quot;: &quot;FeatureCollection&quot;, &quot;features&quot;: [{&quot;geometry&quot;: {&quot;type&quot;: &quot;Point&quot;, &quot;coordinates&quot;: [-122.0865169, 37.3986848]}, &quot;type&quot;: &quot;Feature&quot;, &quot;id&quot;: &quot;5608285df6858f3c7580c94e&quot;, &quot;properties&quot;: {&quot;exit_fmt_time&quot;: &quot;2015-09-07 08:22:59.149000-07:00&quot;, &quot;feature_type&quot;: &quot;start_place&quot;, &quot;exit_ts&quot;: 1441639379.149}}, {&quot;geometry&quot;: {&quot;type&quot;: &quot;Point&quot;, &quot;coordinates&quot;: [-122.0865169, 37.3986848]}, &quot;type&quot;: &quot;Feature&quot;, &quot;id&quot;: &quot;5608285df6858f3c7580c94e&quot;, &quot;properties&quot;: {&quot;exit_fmt_time&quot;: &quot;2015-09-07 08:22:59.149000-07:00&quot;, &quot;feature_type&quot;: &quot;end_place&quot;, &quot;exit_ts&quot;: 1441639379.149}}, {&quot;geometry&quot;: {&quot;type&quot;: &quot;Point&quot;, &quot;coordinates&quot;: [-122.394767, 37.7761847]}, &quot;type&quot;: &quot;Feature&quot;, &quot;id&quot;: &quot;5608287af6858f3c7580cac2&quot;, &quot;properties&quot;: {&quot;enter_fmt_time&quot;: &quot;2015-09-07 09:40:47.362000-07:00&quot;, &quot;feature_type&quot;: &quot;stop&quot;, &quot;exit_fmt_time&quot;: &quot;2015-09-07 09:41:18.404000-07:00&quot;, &quot;source&quot;: &quot;SmoothedHighConfidenceMotion&quot;, &quot;enter_ts&quot;: 1441644047.362, &quot;duration&quot;: 31.04200005531311, &quot;exit_ts&quot;: 1441644078.404}}, {&quot;type&quot;: &quot;FeatureCollection&quot;, &quot;features&quot;: [{&quot;type&quot;: &quot;FeatureCollection&quot;, &quot;features&quot;: [{&quot;geometry&quot;: {&quot;type&quot;: &quot;Point&quot;, &quot;coordinates&quot;: [-122.0865169, 37.3986848]}, &quot;type&quot;: &quot;Feature&quot;, &quot;id&quot;: &quot;55edafe27d65cb39ee9882b8&quot;, &quot;properties&quot;: {&quot;feature_type&quot;: &quot;location&quot;, &quot;idx&quot;: 0, &quot;fmt_time&quot;: &quot;2015-09-07 08:22:59.149000-07:00&quot;, &quot;altitude&quot;: 0, &quot;ts&quot;: 1441639379.149, &quot;longitude&quot;: -122.0865169, &quot;latitude&quot;: 37.3986848, &quot;heading&quot;: 0, &quot;sensed_speed&quot;: 0, &quot;accuracy&quot;: 55.5}}, {&quot;geometry&quot;: {&quot;type&quot;: &quot;Point&quot;, &quot;coordinates&quot;: [-122.0962273, 37.4030409]}, &quot;type&quot;: &quot;Feature&quot;, &quot;id&quot;: &quot;55edafe27d65cb39ee9882bc&quot;, &quot;properties&quot;: {&quot;feature_type&quot;: &quot;location&quot;, &quot;idx&quot;: 1, &quot;fmt_time&quot;: &quot;2015-09-07 08:23:35.196000-07:00&quot;, &quot;altitude&quot;: 0, &quot;ts&quot;: 1441639415.196, &quot;longitude&quot;: -122.0962273, &quot;latitude&quot;: 37.4030409, &quot;heading&quot;: 0, &quot;sensed_speed&quot;: 0, &quot;accuracy&quot;: 52.5}}, {&quot;geometry&quot;: {&quot;type&quot;: &quot;Point&quot;, &quot;coordinates&quot;: [-122.1025235, 37.40482]}, &quot;type&quot;: &quot;Feature&quot;, &quot;id&quot;: &quot;55edafe27d65cb39ee9882bf&quot;, &quot;properties&quot;: {&quot;feature_type&quot;: &quot;location&quot;, &quot;idx&quot;: 2, &quot;fmt_time&quot;: &quot;2015-09-07 08:24:06.357000-07:00&quot;, &quot;altitude&quot;: 0, &quot;ts&quot;: 1441639446.357, &quot;longitude&quot;: -122.1025235, &quot;latitude&quot;: 37.40482, &quot;heading&quot;: 0, &quot;sensed_speed&quot;: 0, &quot;accuracy&quot;: 30.748}}, {&quot;geometry&quot;: {&quot;type&quot;: &quot;Point&quot;, &quot;coordinates&quot;: [-122.106876, 37.4073706]}, &quot;type&quot;: &quot;Feature&quot;, &quot;id&quot;: &quot;55edafe37d65cb39ee9882c2&quot;, &quot;properties&quot;: {&quot;feature_type&quot;: &quot;location&quot;, &quot;idx&quot;: 3, &quot;fmt_time&quot;: &quot;2015-09-07 08:24:37.505000-07:00&quot;, &quot;altitude&quot;: 0, &quot;ts&quot;: 1441639477.505, &quot;longitude&quot;: -122.106876, &quot;latitude&quot;: 37.4073706, &quot;heading&quot;: 0, &quot;sensed_speed&quot;: 0, &quot;accuracy&quot;: 51.0}}, {&quot;geometry&quot;: {&quot;type&quot;: &quot;Point&quot;, &quot;coordinates&quot;: [-122.107543, 37.4075664]}, &quot;type&quot;: &quot;Feature&quot;, &quot;id&quot;: &quot;55edafe37d65cb39ee9882c5&quot;, &quot;properties&quot;: {&quot;feature_type&quot;: &quot;location&quot;, &quot;idx&quot;: 4, &quot;fmt_time&quot;: &quot;2015-09-07 08:25:09.280000-07:00&quot;, &quot;altitude&quot;: 0, &quot;ts&quot;: 1441639509.28, &quot;longitude&quot;: -122.107543, &quot;latitude&quot;: 37.4075664, &quot;heading&quot;: 0, &quot;sensed_speed&quot;: 0, &quot;accuracy&quot;: 46.358}}, {&quot;geometry&quot;: {&quot;type&quot;: &quot;Point&quot;, &quot;coordinates&quot;: [-122.107666, 37.4077599]}, &quot;type&quot;: &quot;Feature&quot;, &quot;id&quot;: &quot;55edafe37d65cb39ee9882c7&quot;, &quot;properties&quot;: {&quot;feature_type&quot;: &quot;location&quot;, &quot;idx&quot;: 5, &quot;fmt_time&quot;: &quot;2015-09-07 08:25:41.913000-07:00&quot;, &quot;altitude&quot;: 0, &quot;ts&quot;: 1441639541.913, &quot;longitude&quot;: -122.107666, &quot;latitude&quot;: 37.4077599, &quot;heading&quot;: 0, &quot;sensed_speed&quot;: 0, &quot;accuracy&quot;: 27.835}}, {&quot;geometry&quot;: {&quot;type&quot;: &quot;Point&quot;, &quot;coordinates&quot;: [-122.1092916, 37.4082503]}, &quot;type&quot;: &quot;Feature&quot;, &quot;id&quot;: &quot;55edafe37d65cb39ee9882ca&quot;, &quot;properties&quot;: {&quot;feature_type&quot;: &quot;location&quot;, &quot;idx&quot;: 6, &quot;fmt_time&quot;: &quot;2015-09-07 08:26:12.202000-07:00&quot;, &quot;altitude&quot;: 0, &quot;ts&quot;: 1441639572.202, &quot;longitude&quot;: -122.1092916, &quot;latitude&quot;: 37.4082503, &quot;heading&quot;: 0, &quot;sensed_speed&quot;: 0, &quot;accuracy&quot;: 49.5}}, {&quot;geometry&quot;: {&quot;type&quot;: &quot;Point&quot;, &quot;coordinates&quot;: [-122.1134991, 37.4110033]}, &quot;type&quot;: &quot;Feature&quot;, &quot;id&quot;: &quot;55edafe37d65cb39ee9882cc&quot;, &quot;properties&quot;: {&quot;feature_type&quot;: &quot;location&quot;, &quot;idx&quot;: 7, &quot;fmt_time&quot;: &quot;2015-09-07 08:26:43.226000-07:00&quot;, &quot;altitude&quot;: 0, &quot;ts&quot;: 1441639603.226, &quot;longitude&quot;: -122.1134991, &quot;latitude&quot;: 37.4110033, &quot;heading&quot;: 0, &quot;sensed_speed&quot;: 0, &quot;accuracy&quot;: 40.5}}, {&quot;geometry&quot;: {&quot;type&quot;: &quot;Point&quot;, &quot;coordinates&quot;: [-122.1190713, 37.4151152]}, &quot;type&quot;: &quot;Feature&quot;, &quot;id&quot;: &quot;55edafe37d65cb39ee9882cf&quot;, &quot;properties&quot;: {&quot;feature_type&quot;: &quot;location&quot;, &quot;idx&quot;: 8, &quot;fmt_time&quot;: &quot;2015-09-07 08:27:13.255000-07:00&quot;, &quot;altitude&quot;: 0, &quot;ts&quot;: 1441639633.255, &quot;longitude&quot;: -122.1190713, &quot;latitude&quot;: 37.4151152, &quot;heading&quot;: 0, &quot;sensed_speed&quot;: 0, &quot;accuracy&quot;: 36.0}}, {&quot;geometry&quot;: {&quot;type&quot;: &quot;Point&quot;, &quot;coordinates&quot;: [-122.1259294, 37.4189707]}, &quot;type&quot;: &quot;Feature&quot;, &quot;id&quot;: &quot;55edafe47d65cb39ee9882d2&quot;, &quot;properties&quot;: {&quot;feature_type&quot;: &quot;location&quot;, &quot;idx&quot;: 9, &quot;fmt_time&quot;: &quot;2015-09-07 08:27:41.081000-07:00&quot;, &quot;altitude&quot;: 0, &quot;ts&quot;: 1441639661.081, &quot;longitude&quot;: -122.1259294, &quot;latitude&quot;: 37.4189707, &quot;heading&quot;: 0, &quot;sensed_speed&quot;: 0, &quot;accuracy&quot;: 40.5}}, {&quot;geometry&quot;: {&quot;type&quot;: &quot;Point&quot;, &quot;coordinates&quot;: [-122.1391066, 37.4267244]}, &quot;type&quot;: &quot;Feature&quot;, &quot;id&quot;: &quot;55edafe47d65cb39ee9882d6&quot;, &quot;properties&quot;: {&quot;feature_type&quot;: &quot;location&quot;, &quot;idx&quot;: 10, &quot;fmt_time&quot;: &quot;2015-09-07 08:28:48.180000-07:00&quot;, &quot;altitude&quot;: 0, &quot;ts&quot;: 1441639728.18, &quot;longitude&quot;: -122.1391066, &quot;latitude&quot;: 37.4267244, &quot;heading&quot;: 0, &quot;sensed_speed&quot;: 0, &quot;accuracy&quot;: 39.0}}, {&quot;geometry&quot;: {&quot;type&quot;: &quot;Point&quot;, &quot;coordinates&quot;: [-122.1391066, 37.4267244]}, &quot;type&quot;: &quot;Feature&quot;, &quot;id&quot;: &quot;55edafe47d65cb39ee9882d8&quot;, &quot;properties&quot;: {&quot;feature_type&quot;: &quot;location&quot;, &quot;idx&quot;: 11, &quot;fmt_time&quot;: &quot;2015-09-07 08:28:58.703000-07:00&quot;, &quot;altitude&quot;: 0, &quot;ts&quot;: 1441639738.703, &quot;longitude&quot;: -122.1391066, &quot;latitude&quot;: 37.4267244, &quot;heading&quot;: 0, &quot;sensed_speed&quot;: 0, &quot;accuracy&quot;: 39.0}}, {&quot;geometry&quot;: {&quot;type&quot;: &quot;Point&quot;, &quot;coordinates&quot;: [-122.1416312, 37.4293277]}, &quot;type&quot;: &quot;Feature&quot;, &quot;id&quot;: &quot;55edafe47d65cb39ee9882da&quot;, &quot;properties&quot;: {&quot;feature_type&quot;: &quot;location&quot;, &quot;idx&quot;: 12, &quot;fmt_time&quot;: &quot;2015-09-07 08:29:30.267000-07:00&quot;, &quot;altitude&quot;: 0, &quot;ts&quot;: 1441639770.267, &quot;longitude&quot;: -122.1416312, &quot;latitude&quot;: 37.4293277, &quot;heading&quot;: 0, &quot;sensed_speed&quot;: 0, &quot;accuracy&quot;: 40.5}}, {&quot;geometry&quot;: {&quot;type&quot;: &quot;Point&quot;, &quot;coordinates&quot;: [-122.1416027, 37.4293148]}, &quot;type&quot;: &quot;Feature&quot;, &quot;id&quot;: &quot;55edafe47d65cb39ee9882dd&quot;, &quot;properties&quot;: {&quot;feature_type&quot;: &quot;location&quot;, &quot;idx&quot;: 13, &quot;fmt_time&quot;: &quot;2015-09-07 08:30:00.298000-07:00&quot;, &quot;altitude&quot;: 0, &quot;ts&quot;: 1441639800.298, &quot;longitude&quot;: -122.1416027, &quot;latitude&quot;: 37.4293148, &quot;heading&quot;: 0, &quot;sensed_speed&quot;: 0, &quot;accuracy&quot;: 40.5}}, {&quot;geometry&quot;: {&quot;type&quot;: &quot;Point&quot;, &quot;coordinates&quot;: [-122.1421434, 37.4293415]}, &quot;type&quot;: &quot;Feature&quot;, &quot;id&quot;: &quot;55edafe47d65cb39ee9882e0&quot;, &quot;properties&quot;: {&quot;feature_type&quot;: &quot;location&quot;, &quot;idx&quot;: 14, &quot;fmt_time&quot;: &quot;2015-09-07 08:30:31.494000-07:00&quot;, &quot;altitude&quot;: 0, &quot;ts&quot;: 1441639831.494, &quot;longitude&quot;: -122.1421434, &quot;latitude&quot;: 37.4293415, &quot;heading&quot;: 0, &quot;sensed_speed&quot;: 0, &quot;accuracy&quot;: 51.0}}, {&quot;geometry&quot;: {&quot;type&quot;: &quot;Point&quot;, &quot;coordinates&quot;: [-122.146389, 37.4313212]}, &quot;type&quot;: &quot;Feature&quot;, &quot;id&quot;: &quot;55edafe57d65cb39ee9882e2&quot;, &quot;properties&quot;: {&quot;feature_type&quot;: &quot;location&quot;, &quot;idx&quot;: 15, &quot;fmt_time&quot;: &quot;2015-09-07 08:31:02.694000-07:00&quot;, &quot;altitude&quot;: 0, &quot;ts&quot;: 1441639862.694, &quot;longitude&quot;: -122.146389, &quot;latitude&quot;: 37.4313212, &quot;heading&quot;: 0, &quot;sensed_speed&quot;: 0, &quot;accuracy&quot;: 44.413}}, {&quot;geometry&quot;: {&quot;type&quot;: &quot;Point&quot;, &quot;coordinates&quot;: [-122.1512161, 37.4353159]}, &quot;type&quot;: &quot;Feature&quot;, &quot;id&quot;: &quot;55edafe57d65cb39ee9882e5&quot;, &quot;properties&quot;: {&quot;feature_type&quot;: &quot;location&quot;, &quot;idx&quot;: 16, &quot;fmt_time&quot;: &quot;2015-09-07 08:31:33.256000-07:00&quot;, &quot;altitude&quot;: 0, &quot;ts&quot;: 1441639893.256, &quot;longitude&quot;: -122.1512161, &quot;latitude&quot;: 37.4353159, &quot;heading&quot;: 0, &quot;sensed_speed&quot;: 0, &quot;accuracy&quot;: 33.0}}, {&quot;geometry&quot;: {&quot;type&quot;: &quot;Point&quot;, &quot;coordinates&quot;: [-122.1621971, 37.4423658]}, &quot;type&quot;: &quot;Feature&quot;, &quot;id&quot;: &quot;55edafe57d65cb39ee9882e9&quot;, &quot;properties&quot;: {&quot;feature_type&quot;: &quot;location&quot;, &quot;idx&quot;: 17, &quot;fmt_time&quot;: &quot;2015-09-07 08:32:36.246000-07:00&quot;, &quot;altitude&quot;: 0, &quot;ts&quot;: 1441639956.246, &quot;longitude&quot;: -122.1621971, &quot;latitude&quot;: 37.4423658, &quot;heading&quot;: 0, &quot;sensed_speed&quot;: 0, &quot;accuracy&quot;: 58.5}}, {&quot;geometry&quot;: {&quot;type&quot;: &quot;Point&quot;, &quot;coordinates&quot;: [-122.165075, 37.4429388]}, &quot;type&quot;: &quot;Feature&quot;, &quot;id&quot;: &quot;55edafe57d65cb39ee9882eb&quot;, &quot;properties&quot;: {&quot;feature_type&quot;: &quot;location&quot;, &quot;idx&quot;: 18, &quot;fmt_time&quot;: &quot;2015-09-07 08:33:11.497000-07:00&quot;, &quot;altitude&quot;: 0, &quot;ts&quot;: 1441639991.497, &quot;longitude&quot;: -122.165075, &quot;latitude&quot;: 37.4429388, &quot;heading&quot;: 0, &quot;sensed_speed&quot;: 0, &quot;accuracy&quot;: 54.0}}, {&quot;geometry&quot;: {&quot;type&quot;: &quot;Point&quot;, &quot;coordinates&quot;: [-122.1650201, 37.4429553]}, &quot;type&quot;: &quot;Feature&quot;, &quot;id&quot;: &quot;55edafe57d65cb39ee9882ee&quot;, &quot;properties&quot;: {&quot;feature_type&quot;: &quot;location&quot;, &quot;idx&quot;: 19, &quot;fmt_time&quot;: &quot;2015-09-07 08:33:28.019000-07:00&quot;, &quot;altitude&quot;: 0, &quot;ts&quot;: 1441640008.019, &quot;longitude&quot;: -122.1650201, &quot;latitude&quot;: 37.4429553, &quot;heading&quot;: 0, &quot;sensed_speed&quot;: 0, &quot;accuracy&quot;: 63.0}}, {&quot;geometry&quot;: {&quot;type&quot;: &quot;Point&quot;, &quot;coordinates&quot;: [-122.1648692, 37.4431737]}, &quot;type&quot;: &quot;Feature&quot;, &quot;id&quot;: &quot;55edafe67d65cb39ee9882f1&quot;, &quot;properties&quot;: {&quot;feature_type&quot;: &quot;location&quot;, &quot;idx&quot;: 20, &quot;fmt_time&quot;: &quot;2015-09-07 08:33:59.281000-07:00&quot;, &quot;altitude&quot;: 0, &quot;ts&quot;: 1441640039.281, &quot;longitude&quot;: -122.1648692, &quot;latitude&quot;: 37.4431737, &quot;heading&quot;: 0, &quot;sensed_speed&quot;: 0, &quot;accuracy&quot;: 67.5}}, {&quot;geometry&quot;: {&quot;type&quot;: &quot;Point&quot;, &quot;coordinates&quot;: [-122.1652415, 37.4427834]}, &quot;type&quot;: &quot;Feature&quot;, &quot;id&quot;: &quot;55edafe67d65cb39ee9882f4&quot;, &quot;properties&quot;: {&quot;feature_type&quot;: &quot;location&quot;, &quot;idx&quot;: 21, &quot;fmt_time&quot;: &quot;2015-09-07 08:34:30.329000-07:00&quot;, &quot;altitude&quot;: 0, &quot;ts&quot;: 1441640070.329, &quot;longitude&quot;: -122.1652415, &quot;latitude&quot;: 37.4427834, &quot;heading&quot;: 0, &quot;sensed_speed&quot;: 0, &quot;accuracy&quot;: 79.5}}, {&quot;geometry&quot;: {&quot;type&quot;: &quot;Point&quot;, &quot;coordinates&quot;: [-122.1651357, 37.4432453]}, &quot;type&quot;: &quot;Feature&quot;, &quot;id&quot;: &quot;55edafe67d65cb39ee9882f7&quot;, &quot;properties&quot;: {&quot;feature_type&quot;: &quot;location&quot;, &quot;idx&quot;: 22, &quot;fmt_time&quot;: &quot;2015-09-07 08:35:01.426000-07:00&quot;, &quot;altitude&quot;: 0, &quot;ts&quot;: 1441640101.426, &quot;longitude&quot;: -122.1651357, &quot;latitude&quot;: 37.4432453, &quot;heading&quot;: 0, &quot;sensed_speed&quot;: 0, &quot;accuracy&quot;: 141.0}}, {&quot;geometry&quot;: {&quot;type&quot;: &quot;Point&quot;, &quot;coordinates&quot;: [-122.1660395, 37.4437627]}, &quot;type&quot;: &quot;Feature&quot;, &quot;id&quot;: &quot;55edafe67d65cb39ee9882fa&quot;, &quot;properties&quot;: {&quot;feature_type&quot;: &quot;location&quot;, &quot;idx&quot;: 23, &quot;fmt_time&quot;: &quot;2015-09-07 08:35:32.539000-07:00&quot;, &quot;altitude&quot;: 0, &quot;ts&quot;: 1441640132.539, &quot;longitude&quot;: -122.1660395, &quot;latitude&quot;: 37.4437627, &quot;heading&quot;: 0, &quot;sensed_speed&quot;: 0, &quot;accuracy&quot;: 39.0}}, {&quot;geometry&quot;: {&quot;type&quot;: &quot;Point&quot;, &quot;coordinates&quot;: [-122.1660395, 37.4437627]}, &quot;type&quot;: &quot;Feature&quot;, &quot;id&quot;: &quot;55edafe67d65cb39ee9882fc&quot;, &quot;properties&quot;: {&quot;feature_type&quot;: &quot;location&quot;, &quot;idx&quot;: 24, &quot;fmt_time&quot;: &quot;2015-09-07 08:36:00.941000-07:00&quot;, &quot;altitude&quot;: 0, &quot;ts&quot;: 1441640160.941, &quot;longitude&quot;: -122.1660395, &quot;latitude&quot;: 37.4437627, &quot;heading&quot;: 0, &quot;sensed_speed&quot;: 0, &quot;accuracy&quot;: 81.601}}, {&quot;geometry&quot;: {&quot;type&quot;: &quot;Point&quot;, &quot;coordinates&quot;: [-122.4141394, 37.7759586]}, &quot;type&quot;: &quot;Feature&quot;, &quot;id&quot;: &quot;55edafe77d65cb39ee9882ff&quot;, &quot;properties&quot;: {&quot;feature_type&quot;: &quot;location&quot;, &quot;idx&quot;: 25, &quot;fmt_time&quot;: &quot;2015-09-07 08:36:34.285000-07:00&quot;, &quot;altitude&quot;: 0, &quot;ts&quot;: 1441640194.285, &quot;longitude&quot;: -122.4141394, &quot;latitude&quot;: 37.7759586, &quot;heading&quot;: 0, &quot;sensed_speed&quot;: 0, &quot;accuracy&quot;: 26.0}}, {&quot;geometry&quot;: {&quot;type&quot;: &quot;Point&quot;, &quot;coordinates&quot;: [-122.1806205, 37.454192]}, &quot;type&quot;: &quot;Feature&quot;, &quot;id&quot;: &quot;55edafe77d65cb39ee988302&quot;, &quot;properties&quot;: {&quot;feature_type&quot;: &quot;location&quot;, &quot;idx&quot;: 26, &quot;fmt_time&quot;: &quot;2015-09-07 08:37:05.415000-07:00&quot;, &quot;altitude&quot;: 0, &quot;ts&quot;: 1441640225.415, &quot;longitude&quot;: -122.1806205, &quot;latitude&quot;: 37.454192, &quot;heading&quot;: 0, &quot;sensed_speed&quot;: 0, &quot;accuracy&quot;: 31.5}}, {&quot;geometry&quot;: {&quot;type&quot;: &quot;Point&quot;, &quot;coordinates&quot;: [-122.1840945, 37.4551591]}, &quot;type&quot;: &quot;Feature&quot;, &quot;id&quot;: &quot;55edafe77d65cb39ee988304&quot;, &quot;properties&quot;: {&quot;feature_type&quot;: &quot;location&quot;, &quot;idx&quot;: 27, &quot;fmt_time&quot;: &quot;2015-09-07 08:37:38.281000-07:00&quot;, &quot;altitude&quot;: 0, &quot;ts&quot;: 1441640258.281, &quot;longitude&quot;: -122.1840945, &quot;latitude&quot;: 37.4551591, &quot;heading&quot;: 0, &quot;sensed_speed&quot;: 0, &quot;accuracy&quot;: 40.5}}, {&quot;geometry&quot;: {&quot;type&quot;: &quot;Point&quot;, &quot;coordinates&quot;: [-122.184044, 37.4551821]}, &quot;type&quot;: &quot;Feature&quot;, &quot;id&quot;: &quot;55edafe77d65cb39ee988307&quot;, &quot;properties&quot;: {&quot;feature_type&quot;: &quot;location&quot;, &quot;idx&quot;: 28, &quot;fmt_time&quot;: &quot;2015-09-07 08:38:09.294000-07:00&quot;, &quot;altitude&quot;: 0, &quot;ts&quot;: 1441640289.294, &quot;longitude&quot;: -122.184044, &quot;latitude&quot;: 37.4551821, &quot;heading&quot;: 0, &quot;sensed_speed&quot;: 0, &quot;accuracy&quot;: 42.0}}, {&quot;geometry&quot;: {&quot;type&quot;: &quot;Point&quot;, &quot;coordinates&quot;: [-122.1841716, 37.455132]}, &quot;type&quot;: &quot;Feature&quot;, &quot;id&quot;: &quot;55edafe77d65cb39ee988309&quot;, &quot;properties&quot;: {&quot;feature_type&quot;: &quot;location&quot;, &quot;idx&quot;: 29, &quot;fmt_time&quot;: &quot;2015-09-07 08:38:39.300000-07:00&quot;, &quot;altitude&quot;: 0, &quot;ts&quot;: 1441640319.3, &quot;longitude&quot;: -122.1841716, &quot;latitude&quot;: 37.455132, &quot;heading&quot;: 0, &quot;sensed_speed&quot;: 0, &quot;accuracy&quot;: 30.0}}, {&quot;geometry&quot;: {&quot;type&quot;: &quot;Point&quot;, &quot;coordinates&quot;: [-122.1865747, 37.4572954]}, &quot;type&quot;: &quot;Feature&quot;, &quot;id&quot;: &quot;55edafe77d65cb39ee98830c&quot;, &quot;properties&quot;: {&quot;feature_type&quot;: &quot;location&quot;, &quot;idx&quot;: 30, &quot;fmt_time&quot;: &quot;2015-09-07 08:39:12.209000-07:00&quot;, &quot;altitude&quot;: 0, &quot;ts&quot;: 1441640352.209, &quot;longitude&quot;: -122.1865747, &quot;latitude&quot;: 37.4572954, &quot;heading&quot;: 0, &quot;sensed_speed&quot;: 0, &quot;accuracy&quot;: 55.365}}, {&quot;geometry&quot;: {&quot;type&quot;: &quot;Point&quot;, &quot;coordinates&quot;: [-122.1928985, 37.4610667]}, &quot;type&quot;: &quot;Feature&quot;, &quot;id&quot;: &quot;55edafe87d65cb39ee98830f&quot;, &quot;properties&quot;: {&quot;feature_type&quot;: &quot;location&quot;, &quot;idx&quot;: 31, &quot;fmt_time&quot;: &quot;2015-09-07 08:39:45.353000-07:00&quot;, &quot;altitude&quot;: 0, &quot;ts&quot;: 1441640385.353, &quot;longitude&quot;: -122.1928985, &quot;latitude&quot;: 37.4610667, &quot;heading&quot;: 0, &quot;sensed_speed&quot;: 0, &quot;accuracy&quot;: 65.343}}, {&quot;geometry&quot;: {&quot;type&quot;: &quot;Point&quot;, &quot;coordinates&quot;: [-122.197244, 37.4637286]}, &quot;type&quot;: &quot;Feature&quot;, &quot;id&quot;: &quot;55edcc0f7d65cb39ee988313&quot;, &quot;properties&quot;: {&quot;feature_type&quot;: &quot;location&quot;, &quot;idx&quot;: 32, &quot;fmt_time&quot;: &quot;2015-09-07 08:40:16.498000-07:00&quot;, &quot;altitude&quot;: 0, &quot;ts&quot;: 1441640416.498, &quot;longitude&quot;: -122.197244, &quot;latitude&quot;: 37.4637286, &quot;heading&quot;: 0, &quot;sensed_speed&quot;: 0, &quot;accuracy&quot;: 46.196}}, {&quot;geometry&quot;: {&quot;type&quot;: &quot;Point&quot;, &quot;coordinates&quot;: [-122.1980866, 37.4644353]}, &quot;type&quot;: &quot;Feature&quot;, &quot;id&quot;: &quot;55edcc0f7d65cb39ee988317&quot;, &quot;properties&quot;: {&quot;feature_type&quot;: &quot;location&quot;, &quot;idx&quot;: 33, &quot;fmt_time&quot;: &quot;2015-09-07 08:41:18.565000-07:00&quot;, &quot;altitude&quot;: 0, &quot;ts&quot;: 1441640478.565, &quot;longitude&quot;: -122.1980866, &quot;latitude&quot;: 37.4644353, &quot;heading&quot;: 0, &quot;sensed_speed&quot;: 0, &quot;accuracy&quot;: 30.0}}, {&quot;geometry&quot;: {&quot;type&quot;: &quot;Point&quot;, &quot;coordinates&quot;: [-122.1980994, 37.4644346]}, &quot;type&quot;: &quot;Feature&quot;, &quot;id&quot;: &quot;55edcc0f7d65cb39ee988319&quot;, &quot;properties&quot;: {&quot;feature_type&quot;: &quot;location&quot;, &quot;idx&quot;: 34, &quot;fmt_time&quot;: &quot;2015-09-07 08:41:32.056000-07:00&quot;, &quot;altitude&quot;: 0, &quot;ts&quot;: 1441640492.056, &quot;longitude&quot;: -122.1980994, &quot;latitude&quot;: 37.4644346, &quot;heading&quot;: 0, &quot;sensed_speed&quot;: 0, &quot;accuracy&quot;: 40.5}}, {&quot;geometry&quot;: {&quot;type&quot;: &quot;Point&quot;, &quot;coordinates&quot;: [-122.2031412, 37.4673138]}, &quot;type&quot;: &quot;Feature&quot;, &quot;id&quot;: &quot;55edcc107d65cb39ee98831b&quot;, &quot;properties&quot;: {&quot;feature_type&quot;: &quot;location&quot;, &quot;idx&quot;: 35, &quot;fmt_time&quot;: &quot;2015-09-07 08:42:03.733000-07:00&quot;, &quot;altitude&quot;: 0, &quot;ts&quot;: 1441640523.733, &quot;longitude&quot;: -122.2031412, &quot;latitude&quot;: 37.4673138, &quot;heading&quot;: 0, &quot;sensed_speed&quot;: 0, &quot;accuracy&quot;: 61.5}}, {&quot;geometry&quot;: {&quot;type&quot;: &quot;Point&quot;, &quot;coordinates&quot;: [-122.2031412, 37.4673138]}, &quot;type&quot;: &quot;Feature&quot;, &quot;id&quot;: &quot;55edcc107d65cb39ee98831d&quot;, &quot;properties&quot;: {&quot;feature_type&quot;: &quot;location&quot;, &quot;idx&quot;: 36, &quot;fmt_time&quot;: &quot;2015-09-07 08:42:15.229000-07:00&quot;, &quot;altitude&quot;: 0, &quot;ts&quot;: 1441640535.229, &quot;longitude&quot;: -122.2031412, &quot;latitude&quot;: 37.4673138, &quot;heading&quot;: 0, &quot;sensed_speed&quot;: 0, &quot;accuracy&quot;: 61.5}}, {&quot;geometry&quot;: {&quot;type&quot;: &quot;Point&quot;, &quot;coordinates&quot;: [-122.2122162, 37.4733461]}, &quot;type&quot;: &quot;Feature&quot;, &quot;id&quot;: &quot;55edcc107d65cb39ee988321&quot;, &quot;properties&quot;: {&quot;feature_type&quot;: &quot;location&quot;, &quot;idx&quot;: 37, &quot;fmt_time&quot;: &quot;2015-09-07 08:42:48.267000-07:00&quot;, &quot;altitude&quot;: 0, &quot;ts&quot;: 1441640568.267, &quot;longitude&quot;: -122.2122162, &quot;latitude&quot;: 37.4733461, &quot;heading&quot;: 0, &quot;sensed_speed&quot;: 0, &quot;accuracy&quot;: 109.795}}, {&quot;geometry&quot;: {&quot;type&quot;: &quot;Point&quot;, &quot;coordinates&quot;: [-122.2196902, 37.4780787]}, &quot;type&quot;: &quot;Feature&quot;, &quot;id&quot;: &quot;55edcc107d65cb39ee988324&quot;, &quot;properties&quot;: {&quot;feature_type&quot;: &quot;location&quot;, &quot;idx&quot;: 38, &quot;fmt_time&quot;: &quot;2015-09-07 08:43:19.249000-07:00&quot;, &quot;altitude&quot;: 0, &quot;ts&quot;: 1441640599.249, &quot;longitude&quot;: -122.2196902, &quot;latitude&quot;: 37.4780787, &quot;heading&quot;: 0, &quot;sensed_speed&quot;: 0, &quot;accuracy&quot;: 82.5}}, {&quot;geometry&quot;: {&quot;type&quot;: &quot;Point&quot;, &quot;coordinates&quot;: [-122.2261308, 37.4817291]}, &quot;type&quot;: &quot;Feature&quot;, &quot;id&quot;: &quot;55edcc107d65cb39ee988327&quot;, &quot;properties&quot;: {&quot;feature_type&quot;: &quot;location&quot;, &quot;idx&quot;: 39, &quot;fmt_time&quot;: &quot;2015-09-07 08:43:50.358000-07:00&quot;, &quot;altitude&quot;: 0, &quot;ts&quot;: 1441640630.358, &quot;longitude&quot;: -122.2261308, &quot;latitude&quot;: 37.4817291, &quot;heading&quot;: 0, &quot;sensed_speed&quot;: 0, &quot;accuracy&quot;: 48.0}}, {&quot;geometry&quot;: {&quot;type&quot;: &quot;Point&quot;, &quot;coordinates&quot;: [-122.2303319, 37.4851202]}, &quot;type&quot;: &quot;Feature&quot;, &quot;id&quot;: &quot;55edcc117d65cb39ee98832a&quot;, &quot;properties&quot;: {&quot;feature_type&quot;: &quot;location&quot;, &quot;idx&quot;: 40, &quot;fmt_time&quot;: &quot;2015-09-07 08:44:21.428000-07:00&quot;, &quot;altitude&quot;: 0, &quot;ts&quot;: 1441640661.428, &quot;longitude&quot;: -122.2303319, &quot;latitude&quot;: 37.4851202, &quot;heading&quot;: 0, &quot;sensed_speed&quot;: 0, &quot;accuracy&quot;: 87.33}}, {&quot;geometry&quot;: {&quot;type&quot;: &quot;Point&quot;, &quot;coordinates&quot;: [-122.2319245, 37.4862537]}, &quot;type&quot;: &quot;Feature&quot;, &quot;id&quot;: &quot;55edcc117d65cb39ee98832c&quot;, &quot;properties&quot;: {&quot;feature_type&quot;: &quot;location&quot;, &quot;idx&quot;: 41, &quot;fmt_time&quot;: &quot;2015-09-07 08:44:52.501000-07:00&quot;, &quot;altitude&quot;: 0, &quot;ts&quot;: 1441640692.501, &quot;longitude&quot;: -122.2319245, &quot;latitude&quot;: 37.4862537, &quot;heading&quot;: 0, &quot;sensed_speed&quot;: 0, &quot;accuracy&quot;: 28.898}}, {&quot;geometry&quot;: {&quot;type&quot;: &quot;Point&quot;, &quot;coordinates&quot;: [-122.2319679, 37.4862581]}, &quot;type&quot;: &quot;Feature&quot;, &quot;id&quot;: &quot;55edcc117d65cb39ee98832f&quot;, &quot;properties&quot;: {&quot;feature_type&quot;: &quot;location&quot;, &quot;idx&quot;: 42, &quot;fmt_time&quot;: &quot;2015-09-07 08:45:23.171000-07:00&quot;, &quot;altitude&quot;: 0, &quot;ts&quot;: 1441640723.171, &quot;longitude&quot;: -122.2319679, &quot;latitude&quot;: 37.4862581, &quot;heading&quot;: 0, &quot;sensed_speed&quot;: 0, &quot;accuracy&quot;: 32.095}}, {&quot;geometry&quot;: {&quot;type&quot;: &quot;Point&quot;, &quot;coordinates&quot;: [-122.2321228, 37.4862588]}, &quot;type&quot;: &quot;Feature&quot;, &quot;id&quot;: &quot;55edcc117d65cb39ee988332&quot;, &quot;properties&quot;: {&quot;feature_type&quot;: &quot;location&quot;, &quot;idx&quot;: 43, &quot;fmt_time&quot;: &quot;2015-09-07 08:45:54.214000-07:00&quot;, &quot;altitude&quot;: 0, &quot;ts&quot;: 1441640754.214, &quot;longitude&quot;: -122.2321228, &quot;latitude&quot;: 37.4862588, &quot;heading&quot;: 0, &quot;sensed_speed&quot;: 0, &quot;accuracy&quot;: 45.0}}, {&quot;geometry&quot;: {&quot;type&quot;: &quot;Point&quot;, &quot;coordinates&quot;: [-122.2345584, 37.4880547]}, &quot;type&quot;: &quot;Feature&quot;, &quot;id&quot;: &quot;55edcc117d65cb39ee988334&quot;, &quot;properties&quot;: {&quot;feature_type&quot;: &quot;location&quot;, &quot;idx&quot;: 44, &quot;fmt_time&quot;: &quot;2015-09-07 08:46:25.324000-07:00&quot;, &quot;altitude&quot;: 0, &quot;ts&quot;: 1441640785.324, &quot;longitude&quot;: -122.2345584, &quot;latitude&quot;: 37.4880547, &quot;heading&quot;: 0, &quot;sensed_speed&quot;: 0, &quot;accuracy&quot;: 100.753}}, {&quot;geometry&quot;: {&quot;type&quot;: &quot;Point&quot;, &quot;coordinates&quot;: [-122.2394242, 37.4909703]}, &quot;type&quot;: &quot;Feature&quot;, &quot;id&quot;: &quot;55edcc117d65cb39ee988337&quot;, &quot;properties&quot;: {&quot;feature_type&quot;: &quot;location&quot;, &quot;idx&quot;: 45, &quot;fmt_time&quot;: &quot;2015-09-07 08:46:59.297000-07:00&quot;, &quot;altitude&quot;: 0, &quot;ts&quot;: 1441640819.297, &quot;longitude&quot;: -122.2394242, &quot;latitude&quot;: 37.4909703, &quot;heading&quot;: 0, &quot;sensed_speed&quot;: 0, &quot;accuracy&quot;: 30.0}}, {&quot;geometry&quot;: {&quot;type&quot;: &quot;Point&quot;, &quot;coordinates&quot;: [-122.2464361, 37.4952534]}, &quot;type&quot;: &quot;Feature&quot;, &quot;id&quot;: &quot;55edcc127d65cb39ee98833b&quot;, &quot;properties&quot;: {&quot;feature_type&quot;: &quot;location&quot;, &quot;idx&quot;: 46, &quot;fmt_time&quot;: &quot;2015-09-07 08:47:30.645000-07:00&quot;, &quot;altitude&quot;: 0, &quot;ts&quot;: 1441640850.645, &quot;longitude&quot;: -122.2464361, &quot;latitude&quot;: 37.4952534, &quot;heading&quot;: 0, &quot;sensed_speed&quot;: 0, &quot;accuracy&quot;: 45.0}}, {&quot;geometry&quot;: {&quot;type&quot;: &quot;Point&quot;, &quot;coordinates&quot;: [-122.252072, 37.5003875]}, &quot;type&quot;: &quot;Feature&quot;, &quot;id&quot;: &quot;55edcc127d65cb39ee98833e&quot;, &quot;properties&quot;: {&quot;feature_type&quot;: &quot;location&quot;, &quot;idx&quot;: 47, &quot;fmt_time&quot;: &quot;2015-09-07 08:48:01.766000-07:00&quot;, &quot;altitude&quot;: 0, &quot;ts&quot;: 1441640881.766, &quot;longitude&quot;: -122.252072, &quot;latitude&quot;: 37.5003875, &quot;heading&quot;: 0, &quot;sensed_speed&quot;: 0, &quot;accuracy&quot;: 30.0}}, {&quot;geometry&quot;: {&quot;type&quot;: &quot;Point&quot;, &quot;coordinates&quot;: [-122.2574706, 37.5049458]}, &quot;type&quot;: &quot;Feature&quot;, &quot;id&quot;: &quot;55edcc127d65cb39ee988340&quot;, &quot;properties&quot;: {&quot;feature_type&quot;: &quot;location&quot;, &quot;idx&quot;: 48, &quot;fmt_time&quot;: &quot;2015-09-07 08:48:33.334000-07:00&quot;, &quot;altitude&quot;: 0, &quot;ts&quot;: 1441640913.334, &quot;longitude&quot;: -122.2574706, &quot;latitude&quot;: 37.5049458, &quot;heading&quot;: 0, &quot;sensed_speed&quot;: 0, &quot;accuracy&quot;: 49.5}}, {&quot;geometry&quot;: {&quot;type&quot;: &quot;Point&quot;, &quot;coordinates&quot;: [-122.2606231, 37.507955]}, &quot;type&quot;: &quot;Feature&quot;, &quot;id&quot;: &quot;55edcc127d65cb39ee988343&quot;, &quot;properties&quot;: {&quot;feature_type&quot;: &quot;location&quot;, &quot;idx&quot;: 49, &quot;fmt_time&quot;: &quot;2015-09-07 08:49:03.450000-07:00&quot;, &quot;altitude&quot;: 0, &quot;ts&quot;: 1441640943.45, &quot;longitude&quot;: -122.2606231, &quot;latitude&quot;: 37.507955, &quot;heading&quot;: 0, &quot;sensed_speed&quot;: 0, &quot;accuracy&quot;: 135.68}}, {&quot;geometry&quot;: {&quot;type&quot;: &quot;Point&quot;, &quot;coordinates&quot;: [-122.2606992, 37.508107]}, &quot;type&quot;: &quot;Feature&quot;, &quot;id&quot;: &quot;55edcc127d65cb39ee988345&quot;, &quot;properties&quot;: {&quot;feature_type&quot;: &quot;location&quot;, &quot;idx&quot;: 50, &quot;fmt_time&quot;: &quot;2015-09-07 08:49:35.304000-07:00&quot;, &quot;altitude&quot;: 0, &quot;ts&quot;: 1441640975.304, &quot;longitude&quot;: -122.2606992, &quot;latitude&quot;: 37.508107, &quot;heading&quot;: 0, &quot;sensed_speed&quot;: 0, &quot;accuracy&quot;: 33.0}}, {&quot;geometry&quot;: {&quot;type&quot;: &quot;Point&quot;, &quot;coordinates&quot;: [-122.2606442, 37.5081124]}, &quot;type&quot;: &quot;Feature&quot;, &quot;id&quot;: &quot;55edcc137d65cb39ee988348&quot;, &quot;properties&quot;: {&quot;feature_type&quot;: &quot;location&quot;, &quot;idx&quot;: 51, &quot;fmt_time&quot;: &quot;2015-09-07 08:50:09.221000-07:00&quot;, &quot;altitude&quot;: 0, &quot;ts&quot;: 1441641009.221, &quot;longitude&quot;: -122.2606442, &quot;latitude&quot;: 37.5081124, &quot;heading&quot;: 0, &quot;sensed_speed&quot;: 0, &quot;accuracy&quot;: 49.5}}, {&quot;geometry&quot;: {&quot;type&quot;: &quot;Point&quot;, &quot;coordinates&quot;: [-122.2615703, 37.5090226]}, &quot;type&quot;: &quot;Feature&quot;, &quot;id&quot;: &quot;55edcc137d65cb39ee98834a&quot;, &quot;properties&quot;: {&quot;feature_type&quot;: &quot;location&quot;, &quot;idx&quot;: 52, &quot;fmt_time&quot;: &quot;2015-09-07 08:50:39.303000-07:00&quot;, &quot;altitude&quot;: 0, &quot;ts&quot;: 1441641039.303, &quot;longitude&quot;: -122.2615703, &quot;latitude&quot;: 37.5090226, &quot;heading&quot;: 0, &quot;sensed_speed&quot;: 0, &quot;accuracy&quot;: 40.5}}, {&quot;geometry&quot;: {&quot;type&quot;: &quot;Point&quot;, &quot;coordinates&quot;: [-122.2662029, 37.5127438]}, &quot;type&quot;: &quot;Feature&quot;, &quot;id&quot;: &quot;55edcc137d65cb39ee98834d&quot;, &quot;properties&quot;: {&quot;feature_type&quot;: &quot;location&quot;, &quot;idx&quot;: 53, &quot;fmt_time&quot;: &quot;2015-09-07 08:51:09.401000-07:00&quot;, &quot;altitude&quot;: 0, &quot;ts&quot;: 1441641069.401, &quot;longitude&quot;: -122.2662029, &quot;latitude&quot;: 37.5127438, &quot;heading&quot;: 0, &quot;sensed_speed&quot;: 0, &quot;accuracy&quot;: 30.0}}, {&quot;geometry&quot;: {&quot;type&quot;: &quot;Point&quot;, &quot;coordinates&quot;: [-122.2717513, 37.51746]}, &quot;type&quot;: &quot;Feature&quot;, &quot;id&quot;: &quot;55edcc137d65cb39ee988350&quot;, &quot;properties&quot;: {&quot;feature_type&quot;: &quot;location&quot;, &quot;idx&quot;: 54, &quot;fmt_time&quot;: &quot;2015-09-07 08:51:41.409000-07:00&quot;, &quot;altitude&quot;: 0, &quot;ts&quot;: 1441641101.409, &quot;longitude&quot;: -122.2717513, &quot;latitude&quot;: 37.51746, &quot;heading&quot;: 0, &quot;sensed_speed&quot;: 0, &quot;accuracy&quot;: 27.257}}, {&quot;geometry&quot;: {&quot;type&quot;: &quot;Point&quot;, &quot;coordinates&quot;: [-122.2753045, 37.5205203]}, &quot;type&quot;: &quot;Feature&quot;, &quot;id&quot;: &quot;55edcc137d65cb39ee988353&quot;, &quot;properties&quot;: {&quot;feature_type&quot;: &quot;location&quot;, &quot;idx&quot;: 55, &quot;fmt_time&quot;: &quot;2015-09-07 08:52:12.389000-07:00&quot;, &quot;altitude&quot;: 0, &quot;ts&quot;: 1441641132.389, &quot;longitude&quot;: -122.2753045, &quot;latitude&quot;: 37.5205203, &quot;heading&quot;: 0, &quot;sensed_speed&quot;: 0, &quot;accuracy&quot;: 30.0}}, {&quot;geometry&quot;: {&quot;type&quot;: &quot;Point&quot;, &quot;coordinates&quot;: [-122.2762949, 37.5209306]}, &quot;type&quot;: &quot;Feature&quot;, &quot;id&quot;: &quot;55edcc137d65cb39ee988355&quot;, &quot;properties&quot;: {&quot;feature_type&quot;: &quot;location&quot;, &quot;idx&quot;: 56, &quot;fmt_time&quot;: &quot;2015-09-07 08:52:43.846000-07:00&quot;, &quot;altitude&quot;: 0, &quot;ts&quot;: 1441641163.846, &quot;longitude&quot;: -122.2762949, &quot;latitude&quot;: 37.5209306, &quot;heading&quot;: 0, &quot;sensed_speed&quot;: 0, &quot;accuracy&quot;: 33.0}}, {&quot;geometry&quot;: {&quot;type&quot;: &quot;Point&quot;, &quot;coordinates&quot;: [-122.2762249, 37.5208917]}, &quot;type&quot;: &quot;Feature&quot;, &quot;id&quot;: &quot;55edcc147d65cb39ee988358&quot;, &quot;properties&quot;: {&quot;feature_type&quot;: &quot;location&quot;, &quot;idx&quot;: 57, &quot;fmt_time&quot;: &quot;2015-09-07 08:53:13.926000-07:00&quot;, &quot;altitude&quot;: 0, &quot;ts&quot;: 1441641193.926, &quot;longitude&quot;: -122.2762249, &quot;latitude&quot;: 37.5208917, &quot;heading&quot;: 0, &quot;sensed_speed&quot;: 0, &quot;accuracy&quot;: 36.0}}, {&quot;geometry&quot;: {&quot;type&quot;: &quot;Point&quot;, &quot;coordinates&quot;: [-122.2765812, 37.5212011]}, &quot;type&quot;: &quot;Feature&quot;, &quot;id&quot;: &quot;55edcc147d65cb39ee98835a&quot;, &quot;properties&quot;: {&quot;feature_type&quot;: &quot;location&quot;, &quot;idx&quot;: 58, &quot;fmt_time&quot;: &quot;2015-09-07 08:53:47.186000-07:00&quot;, &quot;altitude&quot;: 0, &quot;ts&quot;: 1441641227.186, &quot;longitude&quot;: -122.2765812, &quot;latitude&quot;: 37.5212011, &quot;heading&quot;: 0, &quot;sensed_speed&quot;: 0, &quot;accuracy&quot;: 55.5}}, {&quot;geometry&quot;: {&quot;type&quot;: &quot;Point&quot;, &quot;coordinates&quot;: [-122.2794276, 37.5242796]}, &quot;type&quot;: &quot;Feature&quot;, &quot;id&quot;: &quot;55edcc147d65cb39ee98835d&quot;, &quot;properties&quot;: {&quot;feature_type&quot;: &quot;location&quot;, &quot;idx&quot;: 59, &quot;fmt_time&quot;: &quot;2015-09-07 08:54:17.418000-07:00&quot;, &quot;altitude&quot;: 0, &quot;ts&quot;: 1441641257.418, &quot;longitude&quot;: -122.2794276, &quot;latitude&quot;: 37.5242796, &quot;heading&quot;: 0, &quot;sensed_speed&quot;: 0, &quot;accuracy&quot;: 43.5}}, {&quot;geometry&quot;: {&quot;type&quot;: &quot;Point&quot;, &quot;coordinates&quot;: [-122.2855005, 37.528352]}, &quot;type&quot;: &quot;Feature&quot;, &quot;id&quot;: &quot;55edcc147d65cb39ee988360&quot;, &quot;properties&quot;: {&quot;feature_type&quot;: &quot;location&quot;, &quot;idx&quot;: 60, &quot;fmt_time&quot;: &quot;2015-09-07 08:54:48.537000-07:00&quot;, &quot;altitude&quot;: 0, &quot;ts&quot;: 1441641288.537, &quot;longitude&quot;: -122.2855005, &quot;latitude&quot;: 37.528352, &quot;heading&quot;: 0, &quot;sensed_speed&quot;: 0, &quot;accuracy&quot;: 39.0}}, {&quot;geometry&quot;: {&quot;type&quot;: &quot;Point&quot;, &quot;coordinates&quot;: [-122.2920834, 37.5331247]}, &quot;type&quot;: &quot;Feature&quot;, &quot;id&quot;: &quot;55edcc147d65cb39ee988363&quot;, &quot;properties&quot;: {&quot;feature_type&quot;: &quot;location&quot;, &quot;idx&quot;: 61, &quot;fmt_time&quot;: &quot;2015-09-07 08:55:19.605000-07:00&quot;, &quot;altitude&quot;: 0, &quot;ts&quot;: 1441641319.605, &quot;longitude&quot;: -122.2920834, &quot;latitude&quot;: 37.5331247, &quot;heading&quot;: 0, &quot;sensed_speed&quot;: 0, &quot;accuracy&quot;: 49.5}}, {&quot;geometry&quot;: {&quot;type&quot;: &quot;Point&quot;, &quot;coordinates&quot;: [-122.2967151, 37.5367044]}, &quot;type&quot;: &quot;Feature&quot;, &quot;id&quot;: &quot;55edcc147d65cb39ee988366&quot;, &quot;properties&quot;: {&quot;feature_type&quot;: &quot;location&quot;, &quot;idx&quot;: 62, &quot;fmt_time&quot;: &quot;2015-09-07 08:55:50.655000-07:00&quot;, &quot;altitude&quot;: 0, &quot;ts&quot;: 1441641350.655, &quot;longitude&quot;: -122.2967151, &quot;latitude&quot;: 37.5367044, &quot;heading&quot;: 0, &quot;sensed_speed&quot;: 0, &quot;accuracy&quot;: 52.5}}, {&quot;geometry&quot;: {&quot;type&quot;: &quot;Point&quot;, &quot;coordinates&quot;: [-122.2982435, 37.5394212]}, &quot;type&quot;: &quot;Feature&quot;, &quot;id&quot;: &quot;55edcc157d65cb39ee988368&quot;, &quot;properties&quot;: {&quot;feature_type&quot;: &quot;location&quot;, &quot;idx&quot;: 63, &quot;fmt_time&quot;: &quot;2015-09-07 08:56:20.713000-07:00&quot;, &quot;altitude&quot;: 0, &quot;ts&quot;: 1441641380.713, &quot;longitude&quot;: -122.2982435, &quot;latitude&quot;: 37.5394212, &quot;heading&quot;: 0, &quot;sensed_speed&quot;: 0, &quot;accuracy&quot;: 52.5}}, {&quot;geometry&quot;: {&quot;type&quot;: &quot;Point&quot;, &quot;coordinates&quot;: [-122.4141421, 37.7759597]}, &quot;type&quot;: &quot;Feature&quot;, &quot;id&quot;: &quot;55edcc157d65cb39ee98836e&quot;, &quot;properties&quot;: {&quot;feature_type&quot;: &quot;location&quot;, &quot;idx&quot;: 64, &quot;fmt_time&quot;: &quot;2015-09-07 08:57:52.329000-07:00&quot;, &quot;altitude&quot;: 0, &quot;ts&quot;: 1441641472.329, &quot;longitude&quot;: -122.4141421, &quot;latitude&quot;: 37.7759597, &quot;heading&quot;: 0, &quot;sensed_speed&quot;: 0, &quot;accuracy&quot;: 25.0}}, {&quot;geometry&quot;: {&quot;type&quot;: &quot;Point&quot;, &quot;coordinates&quot;: [-122.3043765, 37.5463201]}, &quot;type&quot;: &quot;Feature&quot;, &quot;id&quot;: &quot;55edcc157d65cb39ee988371&quot;, &quot;properties&quot;: {&quot;feature_type&quot;: &quot;location&quot;, &quot;idx&quot;: 65, &quot;fmt_time&quot;: &quot;2015-09-07 08:58:23.531000-07:00&quot;, &quot;altitude&quot;: 0, &quot;ts&quot;: 1441641503.531, &quot;longitude&quot;: -122.3043765, &quot;latitude&quot;: 37.5463201, &quot;heading&quot;: 0, &quot;sensed_speed&quot;: 0, &quot;accuracy&quot;: 40.5}}, {&quot;geometry&quot;: {&quot;type&quot;: &quot;Point&quot;, &quot;coordinates&quot;: [-122.3067918, 37.5494493]}, &quot;type&quot;: &quot;Feature&quot;, &quot;id&quot;: &quot;55edcc167d65cb39ee988375&quot;, &quot;properties&quot;: {&quot;feature_type&quot;: &quot;location&quot;, &quot;idx&quot;: 66, &quot;fmt_time&quot;: &quot;2015-09-07 08:58:54.685000-07:00&quot;, &quot;altitude&quot;: 0, &quot;ts&quot;: 1441641534.685, &quot;longitude&quot;: -122.3067918, &quot;latitude&quot;: 37.5494493, &quot;heading&quot;: 0, &quot;sensed_speed&quot;: 0, &quot;accuracy&quot;: 29.0}}, {&quot;geometry&quot;: {&quot;type&quot;: &quot;Point&quot;, &quot;coordinates&quot;: [-122.3093505, 37.5530053]}, &quot;type&quot;: &quot;Feature&quot;, &quot;id&quot;: &quot;55edcc167d65cb39ee988378&quot;, &quot;properties&quot;: {&quot;feature_type&quot;: &quot;location&quot;, &quot;idx&quot;: 67, &quot;fmt_time&quot;: &quot;2015-09-07 08:59:27.332000-07:00&quot;, &quot;altitude&quot;: 0, &quot;ts&quot;: 1441641567.332, &quot;longitude&quot;: -122.3093505, &quot;latitude&quot;: 37.5530053, &quot;heading&quot;: 0, &quot;sensed_speed&quot;: 0, &quot;accuracy&quot;: 116.692}}, {&quot;geometry&quot;: {&quot;type&quot;: &quot;Point&quot;, &quot;coordinates&quot;: [-122.3091011, 37.5528664]}, &quot;type&quot;: &quot;Feature&quot;, &quot;id&quot;: &quot;55edcc167d65cb39ee98837a&quot;, &quot;properties&quot;: {&quot;feature_type&quot;: &quot;location&quot;, &quot;idx&quot;: 68, &quot;fmt_time&quot;: &quot;2015-09-07 08:59:58.799000-07:00&quot;, &quot;altitude&quot;: 0, &quot;ts&quot;: 1441641598.799, &quot;longitude&quot;: -122.3091011, &quot;latitude&quot;: 37.5528664, &quot;heading&quot;: 0, &quot;sensed_speed&quot;: 0, &quot;accuracy&quot;: 52.5}}, {&quot;geometry&quot;: {&quot;type&quot;: &quot;Point&quot;, &quot;coordinates&quot;: [-122.3077011, 37.553451]}, &quot;type&quot;: &quot;Feature&quot;, &quot;id&quot;: &quot;55edcc167d65cb39ee98837d&quot;, &quot;properties&quot;: {&quot;feature_type&quot;: &quot;location&quot;, &quot;idx&quot;: 69, &quot;fmt_time&quot;: &quot;2015-09-07 09:00:29.121000-07:00&quot;, &quot;altitude&quot;: 0, &quot;ts&quot;: 1441641629.121, &quot;longitude&quot;: -122.3077011, &quot;latitude&quot;: 37.553451, &quot;heading&quot;: 0, &quot;sensed_speed&quot;: 0, &quot;accuracy&quot;: 34.5}}, {&quot;geometry&quot;: {&quot;type&quot;: &quot;Point&quot;, &quot;coordinates&quot;: [-122.3112901, 37.555646]}, &quot;type&quot;: &quot;Feature&quot;, &quot;id&quot;: &quot;55edcc167d65cb39ee98837f&quot;, &quot;properties&quot;: {&quot;feature_type&quot;: &quot;location&quot;, &quot;idx&quot;: 70, &quot;fmt_time&quot;: &quot;2015-09-07 09:01:00.334000-07:00&quot;, &quot;altitude&quot;: 0, &quot;ts&quot;: 1441641660.334, &quot;longitude&quot;: -122.3112901, &quot;latitude&quot;: 37.555646, &quot;heading&quot;: 0, &quot;sensed_speed&quot;: 0, &quot;accuracy&quot;: 93.705}}, {&quot;geometry&quot;: {&quot;type&quot;: &quot;Point&quot;, &quot;coordinates&quot;: [-122.3141872, 37.5592495]}, &quot;type&quot;: &quot;Feature&quot;, &quot;id&quot;: &quot;55edcc167d65cb39ee988382&quot;, &quot;properties&quot;: {&quot;feature_type&quot;: &quot;location&quot;, &quot;idx&quot;: 71, &quot;fmt_time&quot;: &quot;2015-09-07 09:01:30.385000-07:00&quot;, &quot;altitude&quot;: 0, &quot;ts&quot;: 1441641690.385, &quot;longitude&quot;: -122.3141872, &quot;latitude&quot;: 37.5592495, &quot;heading&quot;: 0, &quot;sensed_speed&quot;: 0, &quot;accuracy&quot;: 48.0}}, {&quot;geometry&quot;: {&quot;type&quot;: &quot;Point&quot;, &quot;coordinates&quot;: [-122.3197529, 37.5638735]}, &quot;type&quot;: &quot;Feature&quot;, &quot;id&quot;: &quot;55edcc177d65cb39ee988385&quot;, &quot;properties&quot;: {&quot;feature_type&quot;: &quot;location&quot;, &quot;idx&quot;: 72, &quot;fmt_time&quot;: &quot;2015-09-07 09:02:02.294000-07:00&quot;, &quot;altitude&quot;: 0, &quot;ts&quot;: 1441641722.294, &quot;longitude&quot;: -122.3197529, &quot;latitude&quot;: 37.5638735, &quot;heading&quot;: 0, &quot;sensed_speed&quot;: 0, &quot;accuracy&quot;: 57.16}}, {&quot;geometry&quot;: {&quot;type&quot;: &quot;Point&quot;, &quot;coordinates&quot;: [-122.322341, 37.5667497]}, &quot;type&quot;: &quot;Feature&quot;, &quot;id&quot;: &quot;55edcc177d65cb39ee988388&quot;, &quot;properties&quot;: {&quot;feature_type&quot;: &quot;location&quot;, &quot;idx&quot;: 73, &quot;fmt_time&quot;: &quot;2015-09-07 09:02:34.212000-07:00&quot;, &quot;altitude&quot;: 0, &quot;ts&quot;: 1441641754.212, &quot;longitude&quot;: -122.322341, &quot;latitude&quot;: 37.5667497, &quot;heading&quot;: 0, &quot;sensed_speed&quot;: 0, &quot;accuracy&quot;: 57.499}}, {&quot;geometry&quot;: {&quot;type&quot;: &quot;Point&quot;, &quot;coordinates&quot;: [-122.3244683, 37.5680177]}, &quot;type&quot;: &quot;Feature&quot;, &quot;id&quot;: &quot;55edcc177d65cb39ee98838a&quot;, &quot;properties&quot;: {&quot;feature_type&quot;: &quot;location&quot;, &quot;idx&quot;: 74, &quot;fmt_time&quot;: &quot;2015-09-07 09:03:04.748000-07:00&quot;, &quot;altitude&quot;: 0, &quot;ts&quot;: 1441641784.748, &quot;longitude&quot;: -122.3244683, &quot;latitude&quot;: 37.5680177, &quot;heading&quot;: 0, &quot;sensed_speed&quot;: 0, &quot;accuracy&quot;: 119.841}}, {&quot;geometry&quot;: {&quot;type&quot;: &quot;Point&quot;, &quot;coordinates&quot;: [-122.3244435, 37.5684337]}, &quot;type&quot;: &quot;Feature&quot;, &quot;id&quot;: &quot;55edcc177d65cb39ee98838d&quot;, &quot;properties&quot;: {&quot;feature_type&quot;: &quot;location&quot;, &quot;idx&quot;: 75, &quot;fmt_time&quot;: &quot;2015-09-07 09:03:35.195000-07:00&quot;, &quot;altitude&quot;: 0, &quot;ts&quot;: 1441641815.195, &quot;longitude&quot;: -122.3244435, &quot;latitude&quot;: 37.5684337, &quot;heading&quot;: 0, &quot;sensed_speed&quot;: 0, &quot;accuracy&quot;: 67.5}}, {&quot;geometry&quot;: {&quot;type&quot;: &quot;Point&quot;, &quot;coordinates&quot;: [-122.3243826, 37.5685706]}, &quot;type&quot;: &quot;Feature&quot;, &quot;id&quot;: &quot;55edcc177d65cb39ee98838f&quot;, &quot;properties&quot;: {&quot;feature_type&quot;: &quot;location&quot;, &quot;idx&quot;: 76, &quot;fmt_time&quot;: &quot;2015-09-07 09:04:06.412000-07:00&quot;, &quot;altitude&quot;: 0, &quot;ts&quot;: 1441641846.412, &quot;longitude&quot;: -122.3243826, &quot;latitude&quot;: 37.5685706, &quot;heading&quot;: 0, &quot;sensed_speed&quot;: 0, &quot;accuracy&quot;: 76.5}}, {&quot;geometry&quot;: {&quot;type&quot;: &quot;Point&quot;, &quot;coordinates&quot;: [-122.3266306, 37.5705537]}, &quot;type&quot;: &quot;Feature&quot;, &quot;id&quot;: &quot;55edcc177d65cb39ee988392&quot;, &quot;properties&quot;: {&quot;feature_type&quot;: &quot;location&quot;, &quot;idx&quot;: 77, &quot;fmt_time&quot;: &quot;2015-09-07 09:04:40.263000-07:00&quot;, &quot;altitude&quot;: 0, &quot;ts&quot;: 1441641880.263, &quot;longitude&quot;: -122.3266306, &quot;latitude&quot;: 37.5705537, &quot;heading&quot;: 0, &quot;sensed_speed&quot;: 0, &quot;accuracy&quot;: 57.333}}, {&quot;geometry&quot;: {&quot;type&quot;: &quot;Point&quot;, &quot;coordinates&quot;: [-122.3318739, 37.5722254]}, &quot;type&quot;: &quot;Feature&quot;, &quot;id&quot;: &quot;55edcc187d65cb39ee988395&quot;, &quot;properties&quot;: {&quot;feature_type&quot;: &quot;location&quot;, &quot;idx&quot;: 78, &quot;fmt_time&quot;: &quot;2015-09-07 09:05:11.679000-07:00&quot;, &quot;altitude&quot;: 0, &quot;ts&quot;: 1441641911.679, &quot;longitude&quot;: -122.3318739, &quot;latitude&quot;: 37.5722254, &quot;heading&quot;: 0, &quot;sensed_speed&quot;: 0, &quot;accuracy&quot;: 57.0}}, {&quot;geometry&quot;: {&quot;type&quot;: &quot;Point&quot;, &quot;coordinates&quot;: [-122.3332247, 37.5752412]}, &quot;type&quot;: &quot;Feature&quot;, &quot;id&quot;: &quot;55edcc187d65cb39ee988398&quot;, &quot;properties&quot;: {&quot;feature_type&quot;: &quot;location&quot;, &quot;idx&quot;: 79, &quot;fmt_time&quot;: &quot;2015-09-07 09:05:43.253000-07:00&quot;, &quot;altitude&quot;: 0, &quot;ts&quot;: 1441641943.253, &quot;longitude&quot;: -122.3332247, &quot;latitude&quot;: 37.5752412, &quot;heading&quot;: 0, &quot;sensed_speed&quot;: 0, &quot;accuracy&quot;: 40.708}}, {&quot;geometry&quot;: {&quot;type&quot;: &quot;Point&quot;, &quot;coordinates&quot;: [-122.338579, 37.5775818]}, &quot;type&quot;: &quot;Feature&quot;, &quot;id&quot;: &quot;55edcc187d65cb39ee98839b&quot;, &quot;properties&quot;: {&quot;feature_type&quot;: &quot;location&quot;, &quot;idx&quot;: 80, &quot;fmt_time&quot;: &quot;2015-09-07 09:06:14.416000-07:00&quot;, &quot;altitude&quot;: 0, &quot;ts&quot;: 1441641974.416, &quot;longitude&quot;: -122.338579, &quot;latitude&quot;: 37.5775818, &quot;heading&quot;: 0, &quot;sensed_speed&quot;: 0, &quot;accuracy&quot;: 54.04}}, {&quot;geometry&quot;: {&quot;type&quot;: &quot;Point&quot;, &quot;coordinates&quot;: [-122.3436356, 37.579735]}, &quot;type&quot;: &quot;Feature&quot;, &quot;id&quot;: &quot;55edcc187d65cb39ee98839d&quot;, &quot;properties&quot;: {&quot;feature_type&quot;: &quot;location&quot;, &quot;idx&quot;: 81, &quot;fmt_time&quot;: &quot;2015-09-07 09:06:44.914000-07:00&quot;, &quot;altitude&quot;: 0, &quot;ts&quot;: 1441642004.914, &quot;longitude&quot;: -122.3436356, &quot;latitude&quot;: 37.579735, &quot;heading&quot;: 0, &quot;sensed_speed&quot;: 0, &quot;accuracy&quot;: 30.0}}, {&quot;geometry&quot;: {&quot;type&quot;: &quot;Point&quot;, &quot;coordinates&quot;: [-122.3442199, 37.5797635]}, &quot;type&quot;: &quot;Feature&quot;, &quot;id&quot;: &quot;55edcc187d65cb39ee98839f&quot;, &quot;properties&quot;: {&quot;feature_type&quot;: &quot;location&quot;, &quot;idx&quot;: 82, &quot;fmt_time&quot;: &quot;2015-09-07 09:07:14.982000-07:00&quot;, &quot;altitude&quot;: 0, &quot;ts&quot;: 1441642034.982, &quot;longitude&quot;: -122.3442199, &quot;latitude&quot;: 37.5797635, &quot;heading&quot;: 0, &quot;sensed_speed&quot;: 0, &quot;accuracy&quot;: 84.0}}, {&quot;geometry&quot;: {&quot;type&quot;: &quot;Point&quot;, &quot;coordinates&quot;: [-122.3445669, 37.579804]}, &quot;type&quot;: &quot;Feature&quot;, &quot;id&quot;: &quot;55edcc187d65cb39ee9883a3&quot;, &quot;properties&quot;: {&quot;feature_type&quot;: &quot;location&quot;, &quot;idx&quot;: 83, &quot;fmt_time&quot;: &quot;2015-09-07 09:07:46.133000-07:00&quot;, &quot;altitude&quot;: 0, &quot;ts&quot;: 1441642066.133, &quot;longitude&quot;: -122.3445669, &quot;latitude&quot;: 37.579804, &quot;heading&quot;: 0, &quot;sensed_speed&quot;: 0, &quot;accuracy&quot;: 39.0}}, {&quot;geometry&quot;: {&quot;type&quot;: &quot;Point&quot;, &quot;coordinates&quot;: [-122.3469616, 37.5804554]}, &quot;type&quot;: &quot;Feature&quot;, &quot;id&quot;: &quot;55edcc197d65cb39ee9883a5&quot;, &quot;properties&quot;: {&quot;feature_type&quot;: &quot;location&quot;, &quot;idx&quot;: 84, &quot;fmt_time&quot;: &quot;2015-09-07 09:08:19.309000-07:00&quot;, &quot;altitude&quot;: 0, &quot;ts&quot;: 1441642099.309, &quot;longitude&quot;: -122.3469616, &quot;latitude&quot;: 37.5804554, &quot;heading&quot;: 0, &quot;sensed_speed&quot;: 0, &quot;accuracy&quot;: 43.5}}, {&quot;geometry&quot;: {&quot;type&quot;: &quot;Point&quot;, &quot;coordinates&quot;: [-122.3515499, 37.582682]}, &quot;type&quot;: &quot;Feature&quot;, &quot;id&quot;: &quot;55edcc197d65cb39ee9883a8&quot;, &quot;properties&quot;: {&quot;feature_type&quot;: &quot;location&quot;, &quot;idx&quot;: 85, &quot;fmt_time&quot;: &quot;2015-09-07 09:08:49.446000-07:00&quot;, &quot;altitude&quot;: 0, &quot;ts&quot;: 1441642129.446, &quot;longitude&quot;: -122.3515499, &quot;latitude&quot;: 37.582682, &quot;heading&quot;: 0, &quot;sensed_speed&quot;: 0, &quot;accuracy&quot;: 60.0}}, {&quot;geometry&quot;: {&quot;type&quot;: &quot;Point&quot;, &quot;coordinates&quot;: [-122.3588049, 37.5859352]}, &quot;type&quot;: &quot;Feature&quot;, &quot;id&quot;: &quot;55edcc197d65cb39ee9883ab&quot;, &quot;properties&quot;: {&quot;feature_type&quot;: &quot;location&quot;, &quot;idx&quot;: 86, &quot;fmt_time&quot;: &quot;2015-09-07 09:09:21.366000-07:00&quot;, &quot;altitude&quot;: 0, &quot;ts&quot;: 1441642161.366, &quot;longitude&quot;: -122.3588049, &quot;latitude&quot;: 37.5859352, &quot;heading&quot;: 0, &quot;sensed_speed&quot;: 0, &quot;accuracy&quot;: 54.0}}, {&quot;geometry&quot;: {&quot;type&quot;: &quot;Point&quot;, &quot;coordinates&quot;: [-122.3619457, 37.5874928]}, &quot;type&quot;: &quot;Feature&quot;, &quot;id&quot;: &quot;55edcc197d65cb39ee9883ae&quot;, &quot;properties&quot;: {&quot;feature_type&quot;: &quot;location&quot;, &quot;idx&quot;: 87, &quot;fmt_time&quot;: &quot;2015-09-07 09:09:53.328000-07:00&quot;, &quot;altitude&quot;: 0, &quot;ts&quot;: 1441642193.328, &quot;longitude&quot;: -122.3619457, &quot;latitude&quot;: 37.5874928, &quot;heading&quot;: 0, &quot;sensed_speed&quot;: 0, &quot;accuracy&quot;: 60.183}}, {&quot;geometry&quot;: {&quot;type&quot;: &quot;Point&quot;, &quot;coordinates&quot;: [-122.3621965, 37.5876163]}, &quot;type&quot;: &quot;Feature&quot;, &quot;id&quot;: &quot;55edcc197d65cb39ee9883b0&quot;, &quot;properties&quot;: {&quot;feature_type&quot;: &quot;location&quot;, &quot;idx&quot;: 88, &quot;fmt_time&quot;: &quot;2015-09-07 09:10:25.249000-07:00&quot;, &quot;altitude&quot;: 0, &quot;ts&quot;: 1441642225.249, &quot;longitude&quot;: -122.3621965, &quot;latitude&quot;: 37.5876163, &quot;heading&quot;: 0, &quot;sensed_speed&quot;: 0, &quot;accuracy&quot;: 45.0}}, {&quot;geometry&quot;: {&quot;type&quot;: &quot;Point&quot;, &quot;coordinates&quot;: [-122.3621314, 37.587594]}, &quot;type&quot;: &quot;Feature&quot;, &quot;id&quot;: &quot;55edcc197d65cb39ee9883b3&quot;, &quot;properties&quot;: {&quot;feature_type&quot;: &quot;location&quot;, &quot;idx&quot;: 89, &quot;fmt_time&quot;: &quot;2015-09-07 09:10:59.269000-07:00&quot;, &quot;altitude&quot;: 0, &quot;ts&quot;: 1441642259.269, &quot;longitude&quot;: -122.3621314, &quot;latitude&quot;: 37.587594, &quot;heading&quot;: 0, &quot;sensed_speed&quot;: 0, &quot;accuracy&quot;: 39.0}}, {&quot;geometry&quot;: {&quot;type&quot;: &quot;Point&quot;, &quot;coordinates&quot;: [-122.364287, 37.5880448]}, &quot;type&quot;: &quot;Feature&quot;, &quot;id&quot;: &quot;55edcc1a7d65cb39ee9883b5&quot;, &quot;properties&quot;: {&quot;feature_type&quot;: &quot;location&quot;, &quot;idx&quot;: 90, &quot;fmt_time&quot;: &quot;2015-09-07 09:11:29.352000-07:00&quot;, &quot;altitude&quot;: 0, &quot;ts&quot;: 1441642289.352, &quot;longitude&quot;: -122.364287, &quot;latitude&quot;: 37.5880448, &quot;heading&quot;: 0, &quot;sensed_speed&quot;: 0, &quot;accuracy&quot;: 130.155}}, {&quot;geometry&quot;: {&quot;type&quot;: &quot;Point&quot;, &quot;coordinates&quot;: [-122.3687757, 37.5907626]}, &quot;type&quot;: &quot;Feature&quot;, &quot;id&quot;: &quot;55edcc1a7d65cb39ee9883b9&quot;, &quot;properties&quot;: {&quot;feature_type&quot;: &quot;location&quot;, &quot;idx&quot;: 91, &quot;fmt_time&quot;: &quot;2015-09-07 09:12:01.232000-07:00&quot;, &quot;altitude&quot;: 0, &quot;ts&quot;: 1441642321.232, &quot;longitude&quot;: -122.3687757, &quot;latitude&quot;: 37.5907626, &quot;heading&quot;: 0, &quot;sensed_speed&quot;: 0, &quot;accuracy&quot;: 72.333}}, {&quot;geometry&quot;: {&quot;type&quot;: &quot;Point&quot;, &quot;coordinates&quot;: [-122.3829077, 37.5955713]}, &quot;type&quot;: &quot;Feature&quot;, &quot;id&quot;: &quot;55edcc1a7d65cb39ee9883be&quot;, &quot;properties&quot;: {&quot;feature_type&quot;: &quot;location&quot;, &quot;idx&quot;: 92, &quot;fmt_time&quot;: &quot;2015-09-07 09:13:04.228000-07:00&quot;, &quot;altitude&quot;: 0, &quot;ts&quot;: 1441642384.228, &quot;longitude&quot;: -122.3829077, &quot;latitude&quot;: 37.5955713, &quot;heading&quot;: 0, &quot;sensed_speed&quot;: 0, &quot;accuracy&quot;: 52.5}}, {&quot;geometry&quot;: {&quot;type&quot;: &quot;Point&quot;, &quot;coordinates&quot;: [-122.3859997, 37.5991997]}, &quot;type&quot;: &quot;Feature&quot;, &quot;id&quot;: &quot;55edcc1a7d65cb39ee9883c1&quot;, &quot;properties&quot;: {&quot;feature_type&quot;: &quot;location&quot;, &quot;idx&quot;: 93, &quot;fmt_time&quot;: &quot;2015-09-07 09:13:36.236000-07:00&quot;, &quot;altitude&quot;: 0, &quot;ts&quot;: 1441642416.236, &quot;longitude&quot;: -122.3859997, &quot;latitude&quot;: 37.5991997, &quot;heading&quot;: 0, &quot;sensed_speed&quot;: 0, &quot;accuracy&quot;: 31.5}}, {&quot;geometry&quot;: {&quot;type&quot;: &quot;Point&quot;, &quot;coordinates&quot;: [-122.3871604, 37.5992553]}, &quot;type&quot;: &quot;Feature&quot;, &quot;id&quot;: &quot;55edcc1b7d65cb39ee9883c3&quot;, &quot;properties&quot;: {&quot;feature_type&quot;: &quot;location&quot;, &quot;idx&quot;: 94, &quot;fmt_time&quot;: &quot;2015-09-07 09:14:07.581000-07:00&quot;, &quot;altitude&quot;: 0, &quot;ts&quot;: 1441642447.581, &quot;longitude&quot;: -122.3871604, &quot;latitude&quot;: 37.5992553, &quot;heading&quot;: 0, &quot;sensed_speed&quot;: 0, &quot;accuracy&quot;: 30.0}}, {&quot;geometry&quot;: {&quot;type&quot;: &quot;Point&quot;, &quot;coordinates&quot;: [-122.3871427, 37.5992518]}, &quot;type&quot;: &quot;Feature&quot;, &quot;id&quot;: &quot;55edcc1b7d65cb39ee9883c6&quot;, &quot;properties&quot;: {&quot;feature_type&quot;: &quot;location&quot;, &quot;idx&quot;: 95, &quot;fmt_time&quot;: &quot;2015-09-07 09:14:37.608000-07:00&quot;, &quot;altitude&quot;: 0, &quot;ts&quot;: 1441642477.608, &quot;longitude&quot;: -122.3871427, &quot;latitude&quot;: 37.5992518, &quot;heading&quot;: 0, &quot;sensed_speed&quot;: 0, &quot;accuracy&quot;: 30.0}}, {&quot;geometry&quot;: {&quot;type&quot;: &quot;Point&quot;, &quot;coordinates&quot;: [-122.3871413, 37.5992539]}, &quot;type&quot;: &quot;Feature&quot;, &quot;id&quot;: &quot;55edcc1b7d65cb39ee9883c9&quot;, &quot;properties&quot;: {&quot;feature_type&quot;: &quot;location&quot;, &quot;idx&quot;: 96, &quot;fmt_time&quot;: &quot;2015-09-07 09:15:09.169000-07:00&quot;, &quot;altitude&quot;: 0, &quot;ts&quot;: 1441642509.169, &quot;longitude&quot;: -122.3871413, &quot;latitude&quot;: 37.5992539, &quot;heading&quot;: 0, &quot;sensed_speed&quot;: 0, &quot;accuracy&quot;: 30.0}}, {&quot;geometry&quot;: {&quot;type&quot;: &quot;Point&quot;, &quot;coordinates&quot;: [-122.389175, 37.6004454]}, &quot;type&quot;: &quot;Feature&quot;, &quot;id&quot;: &quot;55edcc1b7d65cb39ee9883cb&quot;, &quot;properties&quot;: {&quot;feature_type&quot;: &quot;location&quot;, &quot;idx&quot;: 97, &quot;fmt_time&quot;: &quot;2015-09-07 09:15:41.531000-07:00&quot;, &quot;altitude&quot;: 0, &quot;ts&quot;: 1441642541.531, &quot;longitude&quot;: -122.389175, &quot;latitude&quot;: 37.6004454, &quot;heading&quot;: 0, &quot;sensed_speed&quot;: 0, &quot;accuracy&quot;: 90.738}}, {&quot;geometry&quot;: {&quot;type&quot;: &quot;Point&quot;, &quot;coordinates&quot;: [-122.3910314, 37.6041367]}, &quot;type&quot;: &quot;Feature&quot;, &quot;id&quot;: &quot;55edcc1b7d65cb39ee9883cd&quot;, &quot;properties&quot;: {&quot;feature_type&quot;: &quot;location&quot;, &quot;idx&quot;: 98, &quot;fmt_time&quot;: &quot;2015-09-07 09:16:11.664000-07:00&quot;, &quot;altitude&quot;: 0, &quot;ts&quot;: 1441642571.664, &quot;longitude&quot;: -122.3910314, &quot;latitude&quot;: 37.6041367, &quot;heading&quot;: 0, &quot;sensed_speed&quot;: 0, &quot;accuracy&quot;: 62.338}}, {&quot;geometry&quot;: {&quot;type&quot;: &quot;Point&quot;, &quot;coordinates&quot;: [-122.3949141, 37.6086332]}, &quot;type&quot;: &quot;Feature&quot;, &quot;id&quot;: &quot;55edcc1b7d65cb39ee9883d1&quot;, &quot;properties&quot;: {&quot;feature_type&quot;: &quot;location&quot;, &quot;idx&quot;: 99, &quot;fmt_time&quot;: &quot;2015-09-07 09:16:43.261000-07:00&quot;, &quot;altitude&quot;: 0, &quot;ts&quot;: 1441642603.261, &quot;longitude&quot;: -122.3949141, &quot;latitude&quot;: 37.6086332, &quot;heading&quot;: 0, &quot;sensed_speed&quot;: 0, &quot;accuracy&quot;: 49.5}}, {&quot;geometry&quot;: {&quot;type&quot;: &quot;Point&quot;, &quot;coordinates&quot;: [-122.4054593, 37.6190665]}, &quot;type&quot;: &quot;Feature&quot;, &quot;id&quot;: &quot;55edcc1c7d65cb39ee9883d6&quot;, &quot;properties&quot;: {&quot;feature_type&quot;: &quot;location&quot;, &quot;idx&quot;: 100, &quot;fmt_time&quot;: &quot;2015-09-07 09:17:46.364000-07:00&quot;, &quot;altitude&quot;: 0, &quot;ts&quot;: 1441642666.364, &quot;longitude&quot;: -122.4054593, &quot;latitude&quot;: 37.6190665, &quot;heading&quot;: 0, &quot;sensed_speed&quot;: 0, &quot;accuracy&quot;: 51.0}}, {&quot;geometry&quot;: {&quot;type&quot;: &quot;Point&quot;, &quot;coordinates&quot;: [-122.40881, 37.6248182]}, &quot;type&quot;: &quot;Feature&quot;, &quot;id&quot;: &quot;55edcc1c7d65cb39ee9883d9&quot;, &quot;properties&quot;: {&quot;feature_type&quot;: &quot;location&quot;, &quot;idx&quot;: 101, &quot;fmt_time&quot;: &quot;2015-09-07 09:18:18.615000-07:00&quot;, &quot;altitude&quot;: 0, &quot;ts&quot;: 1441642698.615, &quot;longitude&quot;: -122.40881, &quot;latitude&quot;: 37.6248182, &quot;heading&quot;: 0, &quot;sensed_speed&quot;: 0, &quot;accuracy&quot;: 60.222}}, {&quot;geometry&quot;: {&quot;type&quot;: &quot;Point&quot;, &quot;coordinates&quot;: [-122.4102327, 37.6286204]}, &quot;type&quot;: &quot;Feature&quot;, &quot;id&quot;: &quot;55edcc1c7d65cb39ee9883dc&quot;, &quot;properties&quot;: {&quot;feature_type&quot;: &quot;location&quot;, &quot;idx&quot;: 102, &quot;fmt_time&quot;: &quot;2015-09-07 09:18:50.279000-07:00&quot;, &quot;altitude&quot;: 0, &quot;ts&quot;: 1441642730.279, &quot;longitude&quot;: -122.4102327, &quot;latitude&quot;: 37.6286204, &quot;heading&quot;: 0, &quot;sensed_speed&quot;: 0, &quot;accuracy&quot;: 147.611}}, {&quot;geometry&quot;: {&quot;type&quot;: &quot;Point&quot;, &quot;coordinates&quot;: [-122.411686, 37.6302265]}, &quot;type&quot;: &quot;Feature&quot;, &quot;id&quot;: &quot;55edcc1c7d65cb39ee9883de&quot;, &quot;properties&quot;: {&quot;feature_type&quot;: &quot;location&quot;, &quot;idx&quot;: 103, &quot;fmt_time&quot;: &quot;2015-09-07 09:19:21.319000-07:00&quot;, &quot;altitude&quot;: 0, &quot;ts&quot;: 1441642761.319, &quot;longitude&quot;: -122.411686, &quot;latitude&quot;: 37.6302265, &quot;heading&quot;: 0, &quot;sensed_speed&quot;: 0, &quot;accuracy&quot;: 48.0}}, {&quot;geometry&quot;: {&quot;type&quot;: &quot;Point&quot;, &quot;coordinates&quot;: [-122.4116584, 37.6302882]}, &quot;type&quot;: &quot;Feature&quot;, &quot;id&quot;: &quot;55edcc1d7d65cb39ee9883e1&quot;, &quot;properties&quot;: {&quot;feature_type&quot;: &quot;location&quot;, &quot;idx&quot;: 104, &quot;fmt_time&quot;: &quot;2015-09-07 09:19:51.315000-07:00&quot;, &quot;altitude&quot;: 0, &quot;ts&quot;: 1441642791.315, &quot;longitude&quot;: -122.4116584, &quot;latitude&quot;: 37.6302882, &quot;heading&quot;: 0, &quot;sensed_speed&quot;: 0, &quot;accuracy&quot;: 85.5}}, {&quot;geometry&quot;: {&quot;type&quot;: &quot;Point&quot;, &quot;coordinates&quot;: [-122.4130942, 37.6325156]}, &quot;type&quot;: &quot;Feature&quot;, &quot;id&quot;: &quot;55edcc1d7d65cb39ee9883e5&quot;, &quot;properties&quot;: {&quot;feature_type&quot;: &quot;location&quot;, &quot;idx&quot;: 105, &quot;fmt_time&quot;: &quot;2015-09-07 09:20:54.315000-07:00&quot;, &quot;altitude&quot;: 0, &quot;ts&quot;: 1441642854.315, &quot;longitude&quot;: -122.4130942, &quot;latitude&quot;: 37.6325156, &quot;heading&quot;: 0, &quot;sensed_speed&quot;: 0, &quot;accuracy&quot;: 54.848}}, {&quot;geometry&quot;: {&quot;type&quot;: &quot;Point&quot;, &quot;coordinates&quot;: [-122.4131328, 37.6372697]}, &quot;type&quot;: &quot;Feature&quot;, &quot;id&quot;: &quot;55edcc1d7d65cb39ee9883e8&quot;, &quot;properties&quot;: {&quot;feature_type&quot;: &quot;location&quot;, &quot;idx&quot;: 106, &quot;fmt_time&quot;: &quot;2015-09-07 09:21:24.283000-07:00&quot;, &quot;altitude&quot;: 0, &quot;ts&quot;: 1441642884.283, &quot;longitude&quot;: -122.4131328, &quot;latitude&quot;: 37.6372697, &quot;heading&quot;: 0, &quot;sensed_speed&quot;: 0, &quot;accuracy&quot;: 39.0}}, {&quot;geometry&quot;: {&quot;type&quot;: &quot;Point&quot;, &quot;coordinates&quot;: [-122.413635, 37.645083]}, &quot;type&quot;: &quot;Feature&quot;, &quot;id&quot;: &quot;55edcc1d7d65cb39ee9883eb&quot;, &quot;properties&quot;: {&quot;feature_type&quot;: &quot;location&quot;, &quot;idx&quot;: 107, &quot;fmt_time&quot;: &quot;2015-09-07 09:21:56.113000-07:00&quot;, &quot;altitude&quot;: 0, &quot;ts&quot;: 1441642916.113, &quot;longitude&quot;: -122.413635, &quot;latitude&quot;: 37.645083, &quot;heading&quot;: 0, &quot;sensed_speed&quot;: 0, &quot;accuracy&quot;: 72.0}}, {&quot;geometry&quot;: {&quot;type&quot;: &quot;Point&quot;, &quot;coordinates&quot;: [-122.408838, 37.6516867]}, &quot;type&quot;: &quot;Feature&quot;, &quot;id&quot;: &quot;55edcc1d7d65cb39ee9883ee&quot;, &quot;properties&quot;: {&quot;feature_type&quot;: &quot;location&quot;, &quot;idx&quot;: 108, &quot;fmt_time&quot;: &quot;2015-09-07 09:22:28.798000-07:00&quot;, &quot;altitude&quot;: 0, &quot;ts&quot;: 1441642948.798, &quot;longitude&quot;: -122.408838, &quot;latitude&quot;: 37.6516867, &quot;heading&quot;: 0, &quot;sensed_speed&quot;: 0, &quot;accuracy&quot;: 48.0}}, {&quot;geometry&quot;: {&quot;type&quot;: &quot;Point&quot;, &quot;coordinates&quot;: [-122.4050829, 37.6554126]}, &quot;type&quot;: &quot;Feature&quot;, &quot;id&quot;: &quot;55edcc1e7d65cb39ee9883f1&quot;, &quot;properties&quot;: {&quot;feature_type&quot;: &quot;location&quot;, &quot;idx&quot;: 109, &quot;fmt_time&quot;: &quot;2015-09-07 09:23:00.399000-07:00&quot;, &quot;altitude&quot;: 0, &quot;ts&quot;: 1441642980.399, &quot;longitude&quot;: -122.4050829, &quot;latitude&quot;: 37.6554126, &quot;heading&quot;: 0, &quot;sensed_speed&quot;: 0, &quot;accuracy&quot;: 37.5}}, {&quot;geometry&quot;: {&quot;type&quot;: &quot;Point&quot;, &quot;coordinates&quot;: [-122.4050658, 37.6554586]}, &quot;type&quot;: &quot;Feature&quot;, &quot;id&quot;: &quot;55edcc1e7d65cb39ee9883f3&quot;, &quot;properties&quot;: {&quot;feature_type&quot;: &quot;location&quot;, &quot;idx&quot;: 110, &quot;fmt_time&quot;: &quot;2015-09-07 09:23:32.287000-07:00&quot;, &quot;altitude&quot;: 0, &quot;ts&quot;: 1441643012.287, &quot;longitude&quot;: -122.4050658, &quot;latitude&quot;: 37.6554586, &quot;heading&quot;: 0, &quot;sensed_speed&quot;: 0, &quot;accuracy&quot;: 37.5}}, {&quot;geometry&quot;: {&quot;type&quot;: &quot;Point&quot;, &quot;coordinates&quot;: [-122.405072, 37.6554658]}, &quot;type&quot;: &quot;Feature&quot;, &quot;id&quot;: &quot;55edcc1e7d65cb39ee9883f6&quot;, &quot;properties&quot;: {&quot;feature_type&quot;: &quot;location&quot;, &quot;idx&quot;: 111, &quot;fmt_time&quot;: &quot;2015-09-07 09:24:03.233000-07:00&quot;, &quot;altitude&quot;: 0, &quot;ts&quot;: 1441643043.233, &quot;longitude&quot;: -122.405072, &quot;latitude&quot;: 37.6554658, &quot;heading&quot;: 0, &quot;sensed_speed&quot;: 0, &quot;accuracy&quot;: 37.5}}, {&quot;geometry&quot;: {&quot;type&quot;: &quot;Point&quot;, &quot;coordinates&quot;: [-122.4049559, 37.6582226]}, &quot;type&quot;: &quot;Feature&quot;, &quot;id&quot;: &quot;55edcc1e7d65cb39ee9883f8&quot;, &quot;properties&quot;: {&quot;feature_type&quot;: &quot;location&quot;, &quot;idx&quot;: 112, &quot;fmt_time&quot;: &quot;2015-09-07 09:24:34.296000-07:00&quot;, &quot;altitude&quot;: 0, &quot;ts&quot;: 1441643074.296, &quot;longitude&quot;: -122.4049559, &quot;latitude&quot;: 37.6582226, &quot;heading&quot;: 0, &quot;sensed_speed&quot;: 0, &quot;accuracy&quot;: 86.58}}, {&quot;geometry&quot;: {&quot;type&quot;: &quot;Point&quot;, &quot;coordinates&quot;: [-122.4023082, 37.6629616]}, &quot;type&quot;: &quot;Feature&quot;, &quot;id&quot;: &quot;55edcc1e7d65cb39ee9883fb&quot;, &quot;properties&quot;: {&quot;feature_type&quot;: &quot;location&quot;, &quot;idx&quot;: 113, &quot;fmt_time&quot;: &quot;2015-09-07 09:25:04.332000-07:00&quot;, &quot;altitude&quot;: 0, &quot;ts&quot;: 1441643104.332, &quot;longitude&quot;: -122.4023082, &quot;latitude&quot;: 37.6629616, &quot;heading&quot;: 0, &quot;sensed_speed&quot;: 0, &quot;accuracy&quot;: 91.5}}, {&quot;geometry&quot;: {&quot;type&quot;: &quot;Point&quot;, &quot;coordinates&quot;: [-122.4141424, 37.77596]}, &quot;type&quot;: &quot;Feature&quot;, &quot;id&quot;: &quot;55edcc1f7d65cb39ee988400&quot;, &quot;properties&quot;: {&quot;feature_type&quot;: &quot;location&quot;, &quot;idx&quot;: 114, &quot;fmt_time&quot;: &quot;2015-09-07 09:26:05.698000-07:00&quot;, &quot;altitude&quot;: 0, &quot;ts&quot;: 1441643165.698, &quot;longitude&quot;: -122.4141424, &quot;latitude&quot;: 37.77596, &quot;heading&quot;: 0, &quot;sensed_speed&quot;: 0, &quot;accuracy&quot;: 27.0}}, {&quot;geometry&quot;: {&quot;type&quot;: &quot;Point&quot;, &quot;coordinates&quot;: [-122.4141421, 37.7759603]}, &quot;type&quot;: &quot;Feature&quot;, &quot;id&quot;: &quot;55edcc1f7d65cb39ee988403&quot;, &quot;properties&quot;: {&quot;feature_type&quot;: &quot;location&quot;, &quot;idx&quot;: 115, &quot;fmt_time&quot;: &quot;2015-09-07 09:26:39.419000-07:00&quot;, &quot;altitude&quot;: 0, &quot;ts&quot;: 1441643199.419, &quot;longitude&quot;: -122.4141421, &quot;latitude&quot;: 37.7759603, &quot;heading&quot;: 0, &quot;sensed_speed&quot;: 0, &quot;accuracy&quot;: 27.0}}, {&quot;geometry&quot;: {&quot;type&quot;: &quot;Point&quot;, &quot;coordinates&quot;: [-122.4141424, 37.77596]}, &quot;type&quot;: &quot;Feature&quot;, &quot;id&quot;: &quot;55edcc1f7d65cb39ee988406&quot;, &quot;properties&quot;: {&quot;feature_type&quot;: &quot;location&quot;, &quot;idx&quot;: 116, &quot;fmt_time&quot;: &quot;2015-09-07 09:27:15.146000-07:00&quot;, &quot;altitude&quot;: 0, &quot;ts&quot;: 1441643235.146, &quot;longitude&quot;: -122.4141424, &quot;latitude&quot;: 37.77596, &quot;heading&quot;: 0, &quot;sensed_speed&quot;: 0, &quot;accuracy&quot;: 27.0}}, {&quot;geometry&quot;: {&quot;type&quot;: &quot;Point&quot;, &quot;coordinates&quot;: [-122.4141421, 37.7759603]}, &quot;type&quot;: &quot;Feature&quot;, &quot;id&quot;: &quot;55edcc1f7d65cb39ee988409&quot;, &quot;properties&quot;: {&quot;feature_type&quot;: &quot;location&quot;, &quot;idx&quot;: 117, &quot;fmt_time&quot;: &quot;2015-09-07 09:27:47.248000-07:00&quot;, &quot;altitude&quot;: 0, &quot;ts&quot;: 1441643267.248, &quot;longitude&quot;: -122.4141421, &quot;latitude&quot;: 37.7759603, &quot;heading&quot;: 0, &quot;sensed_speed&quot;: 0, &quot;accuracy&quot;: 27.0}}, {&quot;geometry&quot;: {&quot;type&quot;: &quot;Point&quot;, &quot;coordinates&quot;: [-122.4141421, 37.7759603]}, &quot;type&quot;: &quot;Feature&quot;, &quot;id&quot;: &quot;55edcc1f7d65cb39ee98840c&quot;, &quot;properties&quot;: {&quot;feature_type&quot;: &quot;location&quot;, &quot;idx&quot;: 118, &quot;fmt_time&quot;: &quot;2015-09-07 09:28:21.660000-07:00&quot;, &quot;altitude&quot;: 0, &quot;ts&quot;: 1441643301.66, &quot;longitude&quot;: -122.4141421, &quot;latitude&quot;: 37.7759603, &quot;heading&quot;: 0, &quot;sensed_speed&quot;: 0, &quot;accuracy&quot;: 27.0}}, {&quot;geometry&quot;: {&quot;type&quot;: &quot;Point&quot;, &quot;coordinates&quot;: [-122.4141424, 37.77596]}, &quot;type&quot;: &quot;Feature&quot;, &quot;id&quot;: &quot;55edcc207d65cb39ee988410&quot;, &quot;properties&quot;: {&quot;feature_type&quot;: &quot;location&quot;, &quot;idx&quot;: 119, &quot;fmt_time&quot;: &quot;2015-09-07 09:29:23.411000-07:00&quot;, &quot;altitude&quot;: 0, &quot;ts&quot;: 1441643363.411, &quot;longitude&quot;: -122.4141424, &quot;latitude&quot;: 37.77596, &quot;heading&quot;: 0, &quot;sensed_speed&quot;: 0, &quot;accuracy&quot;: 27.0}}, {&quot;geometry&quot;: {&quot;type&quot;: &quot;Point&quot;, &quot;coordinates&quot;: [-122.4141424, 37.77596]}, &quot;type&quot;: &quot;Feature&quot;, &quot;id&quot;: &quot;55edcc207d65cb39ee988412&quot;, &quot;properties&quot;: {&quot;feature_type&quot;: &quot;location&quot;, &quot;idx&quot;: 120, &quot;fmt_time&quot;: &quot;2015-09-07 09:29:54.554000-07:00&quot;, &quot;altitude&quot;: 0, &quot;ts&quot;: 1441643394.554, &quot;longitude&quot;: -122.4141424, &quot;latitude&quot;: 37.77596, &quot;heading&quot;: 0, &quot;sensed_speed&quot;: 0, &quot;accuracy&quot;: 27.0}}, {&quot;geometry&quot;: {&quot;type&quot;: &quot;Point&quot;, &quot;coordinates&quot;: [-122.4019078, 37.7109878]}, &quot;type&quot;: &quot;Feature&quot;, &quot;id&quot;: &quot;55edcc207d65cb39ee988415&quot;, &quot;properties&quot;: {&quot;feature_type&quot;: &quot;location&quot;, &quot;idx&quot;: 121, &quot;fmt_time&quot;: &quot;2015-09-07 09:30:25.111000-07:00&quot;, &quot;altitude&quot;: 0, &quot;ts&quot;: 1441643425.111, &quot;longitude&quot;: -122.4019078, &quot;latitude&quot;: 37.7109878, &quot;heading&quot;: 0, &quot;sensed_speed&quot;: 0, &quot;accuracy&quot;: 78.0}}, {&quot;geometry&quot;: {&quot;type&quot;: &quot;Point&quot;, &quot;coordinates&quot;: [-122.401991, 37.7109958]}, &quot;type&quot;: &quot;Feature&quot;, &quot;id&quot;: &quot;55edcc207d65cb39ee988418&quot;, &quot;properties&quot;: {&quot;feature_type&quot;: &quot;location&quot;, &quot;idx&quot;: 122, &quot;fmt_time&quot;: &quot;2015-09-07 09:30:48.926000-07:00&quot;, &quot;altitude&quot;: 0, &quot;ts&quot;: 1441643448.926, &quot;longitude&quot;: -122.401991, &quot;latitude&quot;: 37.7109958, &quot;heading&quot;: 0, &quot;sensed_speed&quot;: 0, &quot;accuracy&quot;: 69.0}}, {&quot;geometry&quot;: {&quot;type&quot;: &quot;Point&quot;, &quot;coordinates&quot;: [-122.4141424, 37.77596]}, &quot;type&quot;: &quot;Feature&quot;, &quot;id&quot;: &quot;55edcc217d65cb39ee98841f&quot;, &quot;properties&quot;: {&quot;feature_type&quot;: &quot;location&quot;, &quot;idx&quot;: 123, &quot;fmt_time&quot;: &quot;2015-09-07 09:33:04.170000-07:00&quot;, &quot;altitude&quot;: 0, &quot;ts&quot;: 1441643584.17, &quot;longitude&quot;: -122.4141424, &quot;latitude&quot;: 37.77596, &quot;heading&quot;: 0, &quot;sensed_speed&quot;: 0, &quot;accuracy&quot;: 24.0}}, {&quot;geometry&quot;: {&quot;type&quot;: &quot;Point&quot;, &quot;coordinates&quot;: [-122.3963486, 37.73839]}, &quot;type&quot;: &quot;Feature&quot;, &quot;id&quot;: &quot;55edcc217d65cb39ee988423&quot;, &quot;properties&quot;: {&quot;feature_type&quot;: &quot;location&quot;, &quot;idx&quot;: 124, &quot;fmt_time&quot;: &quot;2015-09-07 09:33:38.235000-07:00&quot;, &quot;altitude&quot;: 0, &quot;ts&quot;: 1441643618.235, &quot;longitude&quot;: -122.3963486, &quot;latitude&quot;: 37.73839, &quot;heading&quot;: 0, &quot;sensed_speed&quot;: 0, &quot;accuracy&quot;: 45.0}}, {&quot;geometry&quot;: {&quot;type&quot;: &quot;Point&quot;, &quot;coordinates&quot;: [-122.3950137, 37.745244]}, &quot;type&quot;: &quot;Feature&quot;, &quot;id&quot;: &quot;55edcc217d65cb39ee988426&quot;, &quot;properties&quot;: {&quot;feature_type&quot;: &quot;location&quot;, &quot;idx&quot;: 125, &quot;fmt_time&quot;: &quot;2015-09-07 09:34:10.701000-07:00&quot;, &quot;altitude&quot;: 0, &quot;ts&quot;: 1441643650.701, &quot;longitude&quot;: -122.3950137, &quot;latitude&quot;: 37.745244, &quot;heading&quot;: 0, &quot;sensed_speed&quot;: 0, &quot;accuracy&quot;: 36.0}}, {&quot;geometry&quot;: {&quot;type&quot;: &quot;Point&quot;, &quot;coordinates&quot;: [-122.4141428, 37.77596]}, &quot;type&quot;: &quot;Feature&quot;, &quot;id&quot;: &quot;55edcc217d65cb39ee988429&quot;, &quot;properties&quot;: {&quot;feature_type&quot;: &quot;location&quot;, &quot;idx&quot;: 126, &quot;fmt_time&quot;: &quot;2015-09-07 09:34:43.253000-07:00&quot;, &quot;altitude&quot;: 0, &quot;ts&quot;: 1441643683.253, &quot;longitude&quot;: -122.4141428, &quot;latitude&quot;: 37.77596, &quot;heading&quot;: 0, &quot;sensed_speed&quot;: 0, &quot;accuracy&quot;: 27.0}}, {&quot;geometry&quot;: {&quot;type&quot;: &quot;Point&quot;, &quot;coordinates&quot;: [-122.3922985, 37.7564992]}, &quot;type&quot;: &quot;Feature&quot;, &quot;id&quot;: &quot;55edcc227d65cb39ee98842c&quot;, &quot;properties&quot;: {&quot;feature_type&quot;: &quot;location&quot;, &quot;idx&quot;: 127, &quot;fmt_time&quot;: &quot;2015-09-07 09:35:14.332000-07:00&quot;, &quot;altitude&quot;: 0, &quot;ts&quot;: 1441643714.332, &quot;longitude&quot;: -122.3922985, &quot;latitude&quot;: 37.7564992, &quot;heading&quot;: 0, &quot;sensed_speed&quot;: 0, &quot;accuracy&quot;: 52.5}}, {&quot;geometry&quot;: {&quot;type&quot;: &quot;Point&quot;, &quot;coordinates&quot;: [-122.3925115, 37.7572392]}, &quot;type&quot;: &quot;Feature&quot;, &quot;id&quot;: &quot;55edcc227d65cb39ee98842e&quot;, &quot;properties&quot;: {&quot;feature_type&quot;: &quot;location&quot;, &quot;idx&quot;: 128, &quot;fmt_time&quot;: &quot;2015-09-07 09:36:10.976000-07:00&quot;, &quot;altitude&quot;: 0, &quot;ts&quot;: 1441643770.976, &quot;longitude&quot;: -122.3925115, &quot;latitude&quot;: 37.7572392, &quot;heading&quot;: 0, &quot;sensed_speed&quot;: 0, &quot;accuracy&quot;: 54.0}}, {&quot;geometry&quot;: {&quot;type&quot;: &quot;Point&quot;, &quot;coordinates&quot;: [-122.3923678, 37.7575906]}, &quot;type&quot;: &quot;Feature&quot;, &quot;id&quot;: &quot;55edcc227d65cb39ee988431&quot;, &quot;properties&quot;: {&quot;feature_type&quot;: &quot;location&quot;, &quot;idx&quot;: 129, &quot;fmt_time&quot;: &quot;2015-09-07 09:36:42.258000-07:00&quot;, &quot;altitude&quot;: 0, &quot;ts&quot;: 1441643802.258, &quot;longitude&quot;: -122.3923678, &quot;latitude&quot;: 37.7575906, &quot;heading&quot;: 0, &quot;sensed_speed&quot;: 0, &quot;accuracy&quot;: 37.5}}, {&quot;geometry&quot;: {&quot;type&quot;: &quot;Point&quot;, &quot;coordinates&quot;: [-122.4141406, 37.7759603]}, &quot;type&quot;: &quot;Feature&quot;, &quot;id&quot;: &quot;55edcc227d65cb39ee988434&quot;, &quot;properties&quot;: {&quot;feature_type&quot;: &quot;location&quot;, &quot;idx&quot;: 130, &quot;fmt_time&quot;: &quot;2015-09-07 09:37:12.253000-07:00&quot;, &quot;altitude&quot;: 0, &quot;ts&quot;: 1441643832.253, &quot;longitude&quot;: -122.4141406, &quot;latitude&quot;: 37.7759603, &quot;heading&quot;: 0, &quot;sensed_speed&quot;: 0, &quot;accuracy&quot;: 24.0}}, {&quot;geometry&quot;: {&quot;type&quot;: &quot;Point&quot;, &quot;coordinates&quot;: [-122.3950964, 37.7666736]}, &quot;type&quot;: &quot;Feature&quot;, &quot;id&quot;: &quot;55edcc227d65cb39ee988437&quot;, &quot;properties&quot;: {&quot;feature_type&quot;: &quot;location&quot;, &quot;idx&quot;: 131, &quot;fmt_time&quot;: &quot;2015-09-07 09:37:44.407000-07:00&quot;, &quot;altitude&quot;: 0, &quot;ts&quot;: 1441643864.407, &quot;longitude&quot;: -122.3950964, &quot;latitude&quot;: 37.7666736, &quot;heading&quot;: 0, &quot;sensed_speed&quot;: 0, &quot;accuracy&quot;: 45.0}}, {&quot;geometry&quot;: {&quot;type&quot;: &quot;Point&quot;, &quot;coordinates&quot;: [-122.3982272, 37.7694024]}, &quot;type&quot;: &quot;Feature&quot;, &quot;id&quot;: &quot;55edcc227d65cb39ee988439&quot;, &quot;properties&quot;: {&quot;feature_type&quot;: &quot;location&quot;, &quot;idx&quot;: 132, &quot;fmt_time&quot;: &quot;2015-09-07 09:38:11.721000-07:00&quot;, &quot;altitude&quot;: 0, &quot;ts&quot;: 1441643891.721, &quot;longitude&quot;: -122.3982272, &quot;latitude&quot;: 37.7694024, &quot;heading&quot;: 0, &quot;sensed_speed&quot;: 0, &quot;accuracy&quot;: 78.0}}, {&quot;geometry&quot;: {&quot;type&quot;: &quot;Point&quot;, &quot;coordinates&quot;: [-122.4007906, 37.7720989]}, &quot;type&quot;: &quot;Feature&quot;, &quot;id&quot;: &quot;55edcc237d65cb39ee98843d&quot;, &quot;properties&quot;: {&quot;feature_type&quot;: &quot;location&quot;, &quot;idx&quot;: 133, &quot;fmt_time&quot;: &quot;2015-09-07 09:38:43.316000-07:00&quot;, &quot;altitude&quot;: 0, &quot;ts&quot;: 1441643923.316, &quot;longitude&quot;: -122.4007906, &quot;latitude&quot;: 37.7720989, &quot;heading&quot;: 0, &quot;sensed_speed&quot;: 0, &quot;accuracy&quot;: 150.951}}, {&quot;geometry&quot;: {&quot;type&quot;: &quot;Point&quot;, &quot;coordinates&quot;: [-122.3973883, 37.7742985]}, &quot;type&quot;: &quot;Feature&quot;, &quot;id&quot;: &quot;55edcc237d65cb39ee988440&quot;, &quot;properties&quot;: {&quot;feature_type&quot;: &quot;location&quot;, &quot;idx&quot;: 134, &quot;fmt_time&quot;: &quot;2015-09-07 09:39:15.366000-07:00&quot;, &quot;altitude&quot;: 0, &quot;ts&quot;: 1441643955.366, &quot;longitude&quot;: -122.3973883, &quot;latitude&quot;: 37.7742985, &quot;heading&quot;: 0, &quot;sensed_speed&quot;: 0, &quot;accuracy&quot;: 80.95}}, {&quot;geometry&quot;: {&quot;type&quot;: &quot;Point&quot;, &quot;coordinates&quot;: [-122.3967105, 37.7750469]}, &quot;type&quot;: &quot;Feature&quot;, &quot;id&quot;: &quot;55edcc237d65cb39ee988443&quot;, &quot;properties&quot;: {&quot;feature_type&quot;: &quot;location&quot;, &quot;idx&quot;: 135, &quot;fmt_time&quot;: &quot;2015-09-07 09:39:46.461000-07:00&quot;, &quot;altitude&quot;: 0, &quot;ts&quot;: 1441643986.461, &quot;longitude&quot;: -122.3967105, &quot;latitude&quot;: 37.7750469, &quot;heading&quot;: 0, &quot;sensed_speed&quot;: 0, &quot;accuracy&quot;: 40.5}}, {&quot;geometry&quot;: {&quot;type&quot;: &quot;Point&quot;, &quot;coordinates&quot;: [-122.394829, 37.7762089]}, &quot;type&quot;: &quot;Feature&quot;, &quot;id&quot;: &quot;55edcc237d65cb39ee988446&quot;, &quot;properties&quot;: {&quot;feature_type&quot;: &quot;location&quot;, &quot;idx&quot;: 136, &quot;fmt_time&quot;: &quot;2015-09-07 09:40:16.484000-07:00&quot;, &quot;altitude&quot;: 0, &quot;ts&quot;: 1441644016.484, &quot;longitude&quot;: -122.394829, &quot;latitude&quot;: 37.7762089, &quot;heading&quot;: 0, &quot;sensed_speed&quot;: 0, &quot;accuracy&quot;: 40.5}}, {&quot;geometry&quot;: {&quot;type&quot;: &quot;Point&quot;, &quot;coordinates&quot;: [-122.3948396, 37.7761944]}, &quot;type&quot;: &quot;Feature&quot;, &quot;id&quot;: &quot;55edcc237d65cb39ee988448&quot;, &quot;properties&quot;: {&quot;feature_type&quot;: &quot;location&quot;, &quot;idx&quot;: 137, &quot;fmt_time&quot;: &quot;2015-09-07 09:40:47.362000-07:00&quot;, &quot;altitude&quot;: 0, &quot;ts&quot;: 1441644047.362, &quot;longitude&quot;: -122.3948396, &quot;latitude&quot;: 37.7761944, &quot;heading&quot;: 0, &quot;sensed_speed&quot;: 0, &quot;accuracy&quot;: 57.0}}]}, {&quot;geometry&quot;: {&quot;type&quot;: &quot;LineString&quot;, &quot;coordinates&quot;: [[-122.0865169, 37.3986848], [-122.0865169, 37.3986848], [-122.0962273, 37.4030409], [-122.1025235, 37.40482], [-122.106876, 37.4073706], [-122.107543, 37.4075664], [-122.107666, 37.4077599], [-122.1092916, 37.4082503], [-122.1134991, 37.4110033], [-122.1190713, 37.4151152], [-122.1259294, 37.4189707], [-122.1391066, 37.4267244], [-122.1391066, 37.4267244], [-122.1416312, 37.4293277], [-122.1416027, 37.4293148], [-122.1421434, 37.4293415], [-122.146389, 37.4313212], [-122.1512161, 37.4353159], [-122.1621971, 37.4423658], [-122.165075, 37.4429388], [-122.1650201, 37.4429553], [-122.1648692, 37.4431737], [-122.1652415, 37.4427834], [-122.1651357, 37.4432453], [-122.1660395, 37.4437627], [-122.1660395, 37.4437627], [-122.4141394, 37.7759586], [-122.1806205, 37.454192], [-122.1840945, 37.4551591], [-122.184044, 37.4551821], [-122.1841716, 37.455132], [-122.1865747, 37.4572954], [-122.1928985, 37.4610667], [-122.197244, 37.4637286], [-122.1980866, 37.4644353], [-122.1980994, 37.4644346], [-122.2031412, 37.4673138], [-122.2031412, 37.4673138], [-122.2122162, 37.4733461], [-122.2196902, 37.4780787], [-122.2261308, 37.4817291], [-122.2303319, 37.4851202], [-122.2319245, 37.4862537], [-122.2319679, 37.4862581], [-122.2321228, 37.4862588], [-122.2345584, 37.4880547], [-122.2394242, 37.4909703], [-122.2464361, 37.4952534], [-122.252072, 37.5003875], [-122.2574706, 37.5049458], [-122.2606231, 37.507955], [-122.2606992, 37.508107], [-122.2606442, 37.5081124], [-122.2615703, 37.5090226], [-122.2662029, 37.5127438], [-122.2717513, 37.51746], [-122.2753045, 37.5205203], [-122.2762949, 37.5209306], [-122.2762249, 37.5208917], [-122.2765812, 37.5212011], [-122.2794276, 37.5242796], [-122.2855005, 37.528352], [-122.2920834, 37.5331247], [-122.2967151, 37.5367044], [-122.2982435, 37.5394212], [-122.4141421, 37.7759597], [-122.3043765, 37.5463201], [-122.3067918, 37.5494493], [-122.3093505, 37.5530053], [-122.3091011, 37.5528664], [-122.3077011, 37.553451], [-122.3112901, 37.555646], [-122.3141872, 37.5592495], [-122.3197529, 37.5638735], [-122.322341, 37.5667497], [-122.3244683, 37.5680177], [-122.3244435, 37.5684337], [-122.3243826, 37.5685706], [-122.3266306, 37.5705537], [-122.3318739, 37.5722254], [-122.3332247, 37.5752412], [-122.338579, 37.5775818], [-122.3436356, 37.579735], [-122.3442199, 37.5797635], [-122.3445669, 37.579804], [-122.3469616, 37.5804554], [-122.3515499, 37.582682], [-122.3588049, 37.5859352], [-122.3619457, 37.5874928], [-122.3621965, 37.5876163], [-122.3621314, 37.587594], [-122.364287, 37.5880448], [-122.3687757, 37.5907626], [-122.3829077, 37.5955713], [-122.3859997, 37.5991997], [-122.3871604, 37.5992553], [-122.3871427, 37.5992518], [-122.3871413, 37.5992539], [-122.389175, 37.6004454], [-122.3910314, 37.6041367], [-122.3949141, 37.6086332], [-122.4054593, 37.6190665], [-122.40881, 37.6248182], [-122.4102327, 37.6286204], [-122.411686, 37.6302265], [-122.4116584, 37.6302882], [-122.4130942, 37.6325156], [-122.4131328, 37.6372697], [-122.413635, 37.645083], [-122.408838, 37.6516867], [-122.4050829, 37.6554126], [-122.4050658, 37.6554586], [-122.405072, 37.6554658], [-122.4049559, 37.6582226], [-122.4023082, 37.6629616], [-122.4141424, 37.77596], [-122.4141421, 37.7759603], [-122.4141424, 37.77596], [-122.4141421, 37.7759603], [-122.4141421, 37.7759603], [-122.4141424, 37.77596], [-122.4141424, 37.77596], [-122.4019078, 37.7109878], [-122.401991, 37.7109958], [-122.4141424, 37.77596], [-122.3963486, 37.73839], [-122.3950137, 37.745244], [-122.4141428, 37.77596], [-122.3922985, 37.7564992], [-122.3925115, 37.7572392], [-122.3923678, 37.7575906], [-122.4141406, 37.7759603], [-122.3950964, 37.7666736], [-122.3982272, 37.7694024], [-122.4007906, 37.7720989], [-122.3973883, 37.7742985], [-122.3967105, 37.7750469], [-122.394829, 37.7762089], [-122.3948396, 37.7761944]]}, &quot;type&quot;: &quot;Feature&quot;, &quot;id&quot;: &quot;5608287af6858f3c7580cac0&quot;, &quot;properties&quot;: {&quot;feature_type&quot;: &quot;section&quot;, &quot;sensed_mode&quot;: &quot;MotionTypes.IN_VEHICLE&quot;, &quot;end_ts&quot;: 1441644047.362, &quot;start_ts&quot;: 1441639379.149, &quot;start_fmt_time&quot;: &quot;2015-09-07 08:22:59.149000-07:00&quot;, &quot;source&quot;: &quot;SmoothedHighConfidenceMotion&quot;, &quot;end_fmt_time&quot;: &quot;2015-09-07 09:40:47.362000-07:00&quot;, &quot;duration&quot;: 4668.213000059128}}]}, {&quot;type&quot;: &quot;FeatureCollection&quot;, &quot;features&quot;: [{&quot;type&quot;: &quot;FeatureCollection&quot;, &quot;features&quot;: [{&quot;geometry&quot;: {&quot;type&quot;: &quot;Point&quot;, &quot;coordinates&quot;: [-122.394767, 37.7761847]}, &quot;type&quot;: &quot;Feature&quot;, &quot;id&quot;: &quot;55edcc247d65cb39ee98844c&quot;, &quot;properties&quot;: {&quot;feature_type&quot;: &quot;location&quot;, &quot;idx&quot;: 0, &quot;fmt_time&quot;: &quot;2015-09-07 09:41:18.404000-07:00&quot;, &quot;altitude&quot;: 0, &quot;ts&quot;: 1441644078.404, &quot;longitude&quot;: -122.394767, &quot;latitude&quot;: 37.7761847, &quot;heading&quot;: 0, &quot;sensed_speed&quot;: 0, &quot;accuracy&quot;: 43.5}}, {&quot;geometry&quot;: {&quot;type&quot;: &quot;Point&quot;, &quot;coordinates&quot;: [-122.3946493, 37.7762725]}, &quot;type&quot;: &quot;Feature&quot;, &quot;id&quot;: &quot;55edcc247d65cb39ee98844f&quot;, &quot;properties&quot;: {&quot;feature_type&quot;: &quot;location&quot;, &quot;idx&quot;: 1, &quot;fmt_time&quot;: &quot;2015-09-07 09:41:49.536000-07:00&quot;, &quot;altitude&quot;: 0, &quot;ts&quot;: 1441644109.536, &quot;longitude&quot;: -122.3946493, &quot;latitude&quot;: 37.7762725, &quot;heading&quot;: 0, &quot;sensed_speed&quot;: 0, &quot;accuracy&quot;: 51.0}}, {&quot;geometry&quot;: {&quot;type&quot;: &quot;Point&quot;, &quot;coordinates&quot;: [-122.394481, 37.7766259]}, &quot;type&quot;: &quot;Feature&quot;, &quot;id&quot;: &quot;55edcc247d65cb39ee988452&quot;, &quot;properties&quot;: {&quot;feature_type&quot;: &quot;location&quot;, &quot;idx&quot;: 2, &quot;fmt_time&quot;: &quot;2015-09-07 09:42:20.933000-07:00&quot;, &quot;altitude&quot;: 0, &quot;ts&quot;: 1441644140.933, &quot;longitude&quot;: -122.394481, &quot;latitude&quot;: 37.7766259, &quot;heading&quot;: 0, &quot;sensed_speed&quot;: 0, &quot;accuracy&quot;: 27.0}}]}, {&quot;geometry&quot;: {&quot;type&quot;: &quot;LineString&quot;, &quot;coordinates&quot;: [[-122.394767, 37.7761847], [-122.3946493, 37.7762725], [-122.394481, 37.7766259]]}, &quot;type&quot;: &quot;Feature&quot;, &quot;id&quot;: &quot;5608287af6858f3c7580cac1&quot;, &quot;properties&quot;: {&quot;feature_type&quot;: &quot;section&quot;, &quot;sensed_mode&quot;: &quot;MotionTypes.ON_FOOT&quot;, &quot;end_ts&quot;: 1441644140.933, &quot;start_ts&quot;: 1441644078.404, &quot;start_fmt_time&quot;: &quot;2015-09-07 09:41:18.404000-07:00&quot;, &quot;source&quot;: &quot;SmoothedHighConfidenceMotion&quot;, &quot;end_fmt_time&quot;: &quot;2015-09-07 09:42:20.933000-07:00&quot;, &quot;duration&quot;: 62.52900004386902}}]}]}, \n",
        "        {style: style_feature,\n",
        "         onEachFeature: onEachFeature,\n",
        "         pointToLayer: pointFormat}).addTo(map)\n",
        "\n",
        "    var autobounds_0 = L.featureGroup([gjson_layer_0]).getBounds()\n",
        "    map.fitBounds(autobounds_0, {&quot;padding&quot;: [5, 5]});\n",
        "    \n",
        "\n",
        "            \n",
        "        \n",
        "    \n",
        "\n",
        "   </script>\n",
        "\n",
        "</body>\" style=\"width: 100%; height: 510px; border: none\"></iframe>"
       ],
       "metadata": {},
       "output_type": "pyout",
       "prompt_number": 111,
       "text": [
        "<IPython.core.display.HTML at 0x108d0c310>"
       ]
      }
     ],
     "prompt_number": 111
    },
    {
     "cell_type": "code",
     "collapsed": false,
     "input": [],
     "language": "python",
     "metadata": {},
     "outputs": []
    }
   ],
   "metadata": {}
  }
 ]
}