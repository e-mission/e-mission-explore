{
 "cells": [
  {
   "cell_type": "code",
   "execution_count": null,
   "metadata": {
    "collapsed": true
   },
   "outputs": [],
   "source": [
    "import sys\n",
    "import emission.public.pull_and_load_public_data as plpd\n",
    "import pandas as pd\n",
    "import emission.storage.timeseries.aggregate_timeseries as estag\n",
    "public_ids = estag.TEST_PHONE_IDS\n",
    "import arrow\n",
    "from uuid import UUID\n",
    "import matplotlib.pyplot as plt\n",
    "pd.options.display.float_format = '{:.2f}'.format\n",
    "\n",
    "import emission.core.get_database as edb\n",
    "import matplotlib.pyplot as plt\n",
    "%matplotlib inline\n",
    "import datetime as pydt\n",
    "import emission.storage.timeseries.abstract_timeseries as esta\n",
    "import emission.storage.timeseries.timequery as estt\n",
    "import numpy as np\n",
    "import emission.analysis.point_features as pf\n",
    "import attrdict as ad\n",
    "import scipy.interpolate as spi\n",
    "import emission.core.wrapper.entry as ecwe\n",
    "import emission.core.wrapper.location as ecwl\n",
    "pd.options.display.float_format = '{:,.10f}'.format"
   ]
  },
  {
   "cell_type": "markdown",
   "metadata": {},
   "source": [
    "# Retreiving Data Between Specific Timestamps "
   ]
  },
  {
   "cell_type": "markdown",
   "metadata": {},
   "source": [
    "Get starting timestamp"
   ]
  },
  {
   "cell_type": "code",
   "execution_count": null,
   "metadata": {
    "collapsed": false
   },
   "outputs": [],
   "source": [
    "from_ts = arrow.get('2017-01-26T17:56:20.000-08:00').timestamp\n",
    "from_ts\n",
    "arrow.get(from_ts).to(\"America/Los_Angeles\")"
   ]
  },
  {
   "cell_type": "markdown",
   "metadata": {},
   "source": [
    "Get end timestamp"
   ]
  },
  {
   "cell_type": "code",
   "execution_count": null,
   "metadata": {
    "collapsed": false
   },
   "outputs": [],
   "source": [
    "end_ts = arrow.get(\"2017-01-26T18:15:00.000-08.00\").timestamp\n",
    "end_ts = end_ts - 290\n",
    "arrow.get(end_ts)"
   ]
  },
  {
   "cell_type": "markdown",
   "metadata": {},
   "source": [
    "Loading data, between timestamps, from server."
   ]
  },
  {
   "cell_type": "code",
   "execution_count": null,
   "metadata": {
    "collapsed": false
   },
   "outputs": [],
   "source": [
    "plpd.request_batched_data(\"https://e-mission.eecs.berkeley.edu\",\n",
    "                          from_ts ,end_ts, map(str, public_ids))"
   ]
  },
  {
   "cell_type": "markdown",
   "metadata": {},
   "source": [
    "# Organizing data for each phone into dataframes"
   ]
  },
  {
   "cell_type": "markdown",
   "metadata": {},
   "source": [
    "Function to get range of points for a specific phone time series"
   ]
  },
  {
   "cell_type": "code",
   "execution_count": null,
   "metadata": {
    "collapsed": true
   },
   "outputs": [],
   "source": [
    "def get_points_from_ts_for_range(ts, start_ts, end_ts):\n",
    "    return ts.get_data_df(\"background/location\", \n",
    "                          estt.TimeQuery('metadata.write_ts', \n",
    "                                         start_ts, end_ts))"
   ]
  },
  {
   "cell_type": "code",
   "execution_count": null,
   "metadata": {
    "collapsed": false
   },
   "outputs": [],
   "source": [
    "iphone_id_3 = [UUID(\"c528bcd2-a88b-3e82-be62-ef4f2396967a\")]\n",
    "iphone_id_4 = [UUID(\"95e70727-a04e-3e33-b7fe-34ab19194f8b\")]\n",
    "android_id_3 = [UUID(\"86842c35-da28-32ed-a90e-2da6663c5c73\")]\n",
    "android_id_4 = [UUID(\"3bc0f91f-7660-34a2-b005-5c399598a369\")]"
   ]
  },
  {
   "cell_type": "markdown",
   "metadata": {},
   "source": [
    "The 4 different phones and their IDs"
   ]
  },
  {
   "cell_type": "code",
   "execution_count": null,
   "metadata": {
    "collapsed": true
   },
   "outputs": [],
   "source": [
    "iphone_ts_3 = map(lambda u: esta.TimeSeries.get_time_series(u),\n",
    "                  iphone_id_3)\n",
    "iphone_ts_4 = map(lambda u: esta.TimeSeries.get_time_series(u),\n",
    "                  iphone_id_4)\n",
    "android_ts_3 = map(lambda u: esta.TimeSeries.get_time_series(u),\n",
    "                   android_id_3)\n",
    "android_ts_4 = map(lambda u: esta.TimeSeries.get_time_series(u),\n",
    "                   android_id_4)"
   ]
  },
  {
   "cell_type": "markdown",
   "metadata": {},
   "source": [
    "Creating the dataframes, consisting of timeseries generated above. "
   ]
  },
  {
   "cell_type": "code",
   "execution_count": null,
   "metadata": {
    "collapsed": false
   },
   "outputs": [],
   "source": [
    "iphone_df_3 = get_points_from_ts_for_range(iphone_ts_3[0],from_ts,\n",
    "                                           end_ts)\n",
    "iphone_df_4 = get_points_from_ts_for_range(iphone_ts_4[0],from_ts,\n",
    "                                           end_ts)\n",
    "android_df_3 = get_points_from_ts_for_range(android_ts_3[0],from_ts,\n",
    "                                            end_ts)  \n",
    "android_df_4 = get_points_from_ts_for_range(android_ts_4[0],from_ts,\n",
    "                                            end_ts)"
   ]
  },
  {
   "cell_type": "markdown",
   "metadata": {},
   "source": [
    "Revised dataframes consisting only of latitudes, longitudes and timestamps."
   ]
  },
  {
   "cell_type": "code",
   "execution_count": null,
   "metadata": {
    "collapsed": false
   },
   "outputs": [],
   "source": [
    "new_iphone_df_3 = iphone_df_3[['latitude','longitude','ts']].copy()\n",
    "new_iphone_df_4 = iphone_df_4[['latitude','longitude','ts']].copy()\n",
    "new_android_df_3 = android_df_3[['latitude','longitude','ts']].copy()\n",
    "new_android_df_4 = android_df_4[['latitude','longitude','ts']].copy()"
   ]
  },
  {
   "cell_type": "markdown",
   "metadata": {},
   "source": [
    "# Importing Ground Truth points from .CSV file"
   ]
  },
  {
   "cell_type": "code",
   "execution_count": null,
   "metadata": {
    "collapsed": true
   },
   "outputs": [],
   "source": [
    "ground_truth = pd.read_csv(\"/Users/jlamba/Desktop/e-mission berkeley trip ground truth - Sheet1 .csv\")"
   ]
  },
  {
   "cell_type": "markdown",
   "metadata": {},
   "source": [
    "Plotting points to see shape/ ensure it will look similar to shapes we generate for raw data."
   ]
  },
  {
   "cell_type": "code",
   "execution_count": null,
   "metadata": {
    "collapsed": false
   },
   "outputs": [],
   "source": [
    "gt_time = ground_truth['fmt_time']\n",
    "gt_time2 = []\n",
    "for elem in gt_time:\n",
    "    gt_time2.append(arrow.get('2017-01-26T'+ elem +'.000-08:00').timestamp)\n",
    "ground_truth['ts'] = gt_time2\n",
    "ground_truth\n",
    "ground_truth.plot(x = 'ts',y = 'latitude')"
   ]
  },
  {
   "cell_type": "markdown",
   "metadata": {},
   "source": [
    "# Plotting Raw Latitudes and Longitudes of 4 phones against ground truth"
   ]
  },
  {
   "cell_type": "markdown",
   "metadata": {},
   "source": [
    "Plot comparing raw latitudes of all 4 phones and ground truth"
   ]
  },
  {
   "cell_type": "code",
   "execution_count": null,
   "metadata": {
    "collapsed": false
   },
   "outputs": [],
   "source": [
    "fig, axes = plt.subplots(nrows=1, ncols=1)\n",
    "\n",
    "new_iphone_df_3.index = new_iphone_df_3['ts']\n",
    "new_iphone_df_4.index = new_iphone_df_4['ts']\n",
    "new_android_df_3.index = new_android_df_3['ts']\n",
    "new_android_df_4.index = new_android_df_4['ts']\n",
    "\n",
    "df1 = pd.DataFrame(new_iphone_df_3, index=new_iphone_df_3.index,columns=['latitude'])\n",
    "df2 = pd.DataFrame(new_iphone_df_4, index=new_iphone_df_4.index,columns=['latitude'])\n",
    "df3 = pd.DataFrame(new_android_df_3, index=new_android_df_3.index,columns=['latitude'])\n",
    "df4 = pd.DataFrame(new_android_df_4, index=new_android_df_4.index,columns=['latitude'])\n",
    "\n",
    "df1.plot(ax=axes, title = 'iphone3')\n",
    "df2.plot(ax=axes,title = 'iphone4' )\n",
    "df3.plot(ax=axes, label = 'android3')\n",
    "df4.plot(ax = axes, label = 'android4')\n",
    "ground_truth.plot(x = 'ts', y = 'latitude', ax = axes)\n",
    "\n",
    "lines, labels = axes.get_legend_handles_labels()\n",
    "print lines, labels\n",
    "axes.legend(lines, [\"iphone3\", \"iphone4\", \"android3\", \"android4\",\"ground_truth\"], loc='best') "
   ]
  },
  {
   "cell_type": "markdown",
   "metadata": {},
   "source": [
    "Plot comparing raw longitudes of all 4 phones and ground truth."
   ]
  },
  {
   "cell_type": "code",
   "execution_count": null,
   "metadata": {
    "collapsed": false
   },
   "outputs": [],
   "source": [
    "fig, axes = plt.subplots(nrows=1, ncols=1)\n",
    "\n",
    "df2_2 = pd.DataFrame(new_iphone_df_4, index=new_iphone_df_4.index,columns=['longitude'])\n",
    "df3_3 = pd.DataFrame(new_android_df_3, index=new_android_df_3.index,columns=['longitude'])\n",
    "df4_4 = pd.DataFrame(new_android_df_4, index=new_android_df_4.index,columns=['longitude'])\n",
    "df1_1 = pd.DataFrame(new_iphone_df_3, index=new_iphone_df_3.index,columns=['longitude'])\n",
    "\n",
    "df1_1.plot(ax=axes)\n",
    "df2_2.plot(ax=axes)\n",
    "df3_3.plot(ax=axes)\n",
    "df4_4.plot(ax = axes)\n",
    "ground_truth.plot(x = 'ts', y = 'longitude', ax = axes)\n",
    "lines, labels = axes.get_legend_handles_labels()\n",
    "print lines, labels\n",
    "axes.legend(lines, [\"iphone3\", \"iphone4\", \"android3\", \"android4\", 'ground truth'], loc='best')"
   ]
  },
  {
   "cell_type": "markdown",
   "metadata": {},
   "source": [
    "# Interpolation"
   ]
  },
  {
   "cell_type": "code",
   "execution_count": null,
   "metadata": {
    "collapsed": false
   },
   "outputs": [],
   "source": [
    "import scipy.interpolate as spi\n",
    "import numpy as np\n",
    "%matplotlib inline"
   ]
  },
  {
   "cell_type": "markdown",
   "metadata": {},
   "source": [
    "The following function takes in the 4 different phone timeseries and the ground_truth dataframe and the start and end timestampts and essentially creates interpolation functions for the latitude and longitude of each. These functions are then applied to a periodic range of timestamps and put together in a dataframe. The dataframe also contains the differences in distances between the different phones ( 4 differences to be exact), the mean values of the latitudes and longitudes, and the difference in distances between the mean values and the ground truth values. "
   ]
  },
  {
   "cell_type": "code",
   "execution_count": null,
   "metadata": {
    "collapsed": true
   },
   "outputs": [],
   "source": [
    "def get_interp_distance_df(android3_ts, android4_ts, ios3_ts, ios4_ts, ground_truth_df, start_ts, end_ts):\n",
    "    android3_df = android3_ts.get_data_df(\"background/location\", estt.TimeQuery('metadata.write_ts', start_ts, end_ts))\n",
    "    android4_df = android4_ts.get_data_df(\"background/location\", estt.TimeQuery('metadata.write_ts', start_ts, end_ts))\n",
    "    ios3_df = ios3_ts.get_data_df(\"background/location\", estt.TimeQuery('metadata.write_ts', start_ts, end_ts))\n",
    "    ios4_df = ios4_ts.get_data_df(\"background/location\", estt.TimeQuery('metadata.write_ts', start_ts, end_ts))\n",
    "    android3_latf = spi.interp1d(x=android3_df.ts, y=android3_df.latitude, bounds_error=False,\n",
    "                                fill_value=\"extrapolate\")\n",
    "    android3_lngf = spi.interp1d(x=android3_df.ts, y=android3_df.longitude, bounds_error=False, \n",
    "                                fill_value=\"extrapolate\")\n",
    "    android4_latf = spi.interp1d(x=android4_df.ts, y=android4_df.latitude, bounds_error=False, \n",
    "                                fill_value=\"extrapolate\")\n",
    "    android4_lngf = spi.interp1d(x=android4_df.ts, y=android4_df.longitude, bounds_error=False, \n",
    "                                fill_value=\"extrapolate\")\n",
    "    ios3_latf = spi.interp1d(x=ios3_df.ts, y=ios3_df.latitude, bounds_error=False, \n",
    "                            fill_value=(ios3_df.latitude.iloc[0], ios3_df.latitude.iloc[-1]))\n",
    "    ios3_lngf = spi.interp1d(x=ios3_df.ts, y=ios3_df.longitude, bounds_error=False, \n",
    "                            fill_value=(ios3_df.longitude.iloc[0], ios3_df.longitude.iloc[-1]))\n",
    "    ios4_latf = spi.interp1d(x=ios4_df.ts, y=ios4_df.latitude, bounds_error=False, \n",
    "                            fill_value=(ios4_df.latitude.iloc[0], ios4_df.latitude.iloc[-1]))\n",
    "    ios4_lngf = spi.interp1d(x=ios4_df.ts, y=ios4_df.longitude, bounds_error=False, \n",
    "                            fill_value=(ios4_df.longitude.iloc[0], ios4_df.longitude.iloc[-1]))\n",
    "    ground_truth_latf = spi.interp1d(x = ground_truth_df.ts, y = ground_truth.latitude, bounds_error=False, \n",
    "                                     fill_value=(ground_truth.latitude.iloc[0], ground_truth.latitude.iloc[-1]))\n",
    "    ground_truth_lngf = spi.interp1d(x = ground_truth_df.ts, y = ground_truth.longitude, bounds_error=False, \n",
    "                                     fill_value=(ground_truth.longitude.iloc[0], ground_truth.longitude.iloc[-1]))\n",
    "    ts_new = np.arange(int(start_ts), int(end_ts - 290), 1)\n",
    "    fmt_time_new = map(lambda ts: pydt.datetime.fromtimestamp(ts).isoformat(), ts_new)\n",
    "    interp_df = pd.DataFrame({\"ts\": ts_new, \"fmt_time\": fmt_time_new,\n",
    "                            \"android3_lat\": android3_latf(ts_new), \"android3_lng\": android3_lngf(ts_new),\n",
    "                              \"android4_lat\": android4_latf(ts_new), \"android4_lng\": android4_lngf(ts_new),\n",
    "                              \"ios3_lat\": ios3_latf(ts_new),\"ios3_lng\": ios3_lngf(ts_new),\n",
    "                            \"ios4_lat\": ios4_latf(ts_new), \"ios4_lng\": ios4_lngf(ts_new), \n",
    "                              \"ground_truth_lat\":ground_truth_latf(ts_new),\"ground_truth_lng\":ground_truth_lngf(ts_new) },\n",
    "                             index=ts_new)\n",
    "    baseline_distances_1 = np.abs(interp_df.apply(calDistance1, axis=1))\n",
    "    baseline_distances_2 = np.abs(interp_df.apply(calDistance2, axis=1))\n",
    "    baseline_distances_3 = np.abs(interp_df.apply(calDistance3, axis=1))\n",
    "    baseline_distances_4 = np.abs(interp_df.apply(calDistance4, axis=1))\n",
    "\n",
    "    interp_df[\"mean_lat\"] = interp_df.apply(meanLat, axis=1)\n",
    "    interp_df[\"mean_lng\"] = interp_df.apply(meanLng, axis=1)\n",
    "    \n",
    "    interp_df[\"mean_lat1\"] = interp_df.apply(meanLat1, axis=1)\n",
    "    interp_df[\"mean_lat2\"] = interp_df.apply(meanLat2, axis=1)\n",
    "    interp_df[\"mean_lat3\"] = interp_df.apply(meanLat3, axis=1)\n",
    "    interp_df[\"mean_lat4\"] = interp_df.apply(meanLat4, axis=1)\n",
    "    \n",
    "    interp_df[\"mean_lng1\"] = interp_df.apply(meanLng1, axis=1)\n",
    "    interp_df[\"mean_lng2\"] = interp_df.apply(meanLng2, axis=1)\n",
    "    interp_df[\"mean_lng3\"] = interp_df.apply(meanLng3, axis=1)\n",
    "    interp_df[\"mean_lng4\"] = interp_df.apply(meanLng4, axis=1)\n",
    "    \n",
    "    interp_df[\"baseline_distances1\"] = baseline_distances_1\n",
    "    interp_df[\"baseline_distances2\"] = baseline_distances_2\n",
    "    interp_df[\"baseline_distances3\"] = baseline_distances_3\n",
    "    interp_df[\"baseline_distances4\"] = baseline_distances_4\n",
    "    \n",
    "    interp_df[\"ground_distances1\"] = np.abs(interp_df.apply(groundDistance1, axis=1))\n",
    "    interp_df[\"ground_distances2\"] = np.abs(interp_df.apply(groundDistance2, axis=1))\n",
    "    interp_df[\"ground_distances3\"] = np.abs(interp_df.apply(groundDistance3, axis=1))\n",
    "    interp_df[\"ground_distances4\"] = np.abs(interp_df.apply(groundDistance4, axis=1))\n",
    "    \n",
    "    interp_df[\"ground_distances\"] = np.abs(interp_df.apply(groundDistance, axis=1))\n",
    "    return interp_df"
   ]
  },
  {
   "cell_type": "code",
   "execution_count": null,
   "metadata": {
    "collapsed": true
   },
   "outputs": [],
   "source": [
    "def calDistance1(row):\n",
    "#    print(\"Calculating distance between %s,%s,%s,%s\" % \n",
    "#          (row[\"android3_lat\"], row[\"android3_lng\"], row[\"android4_lat\"], row[\"android4_lng\"]))\n",
    "    return pf.calDistance(ad.AttrDict({\"latitude\": row[\"android3_lat\"], \"longitude\": row[\"android3_lng\"]}),\n",
    "                          ad.AttrDict({\"latitude\": row[\"android4_lat\"], \"longitude\": row[\"android4_lng\"]}))"
   ]
  },
  {
   "cell_type": "code",
   "execution_count": null,
   "metadata": {
    "collapsed": true
   },
   "outputs": [],
   "source": [
    "def calDistance2(row):\n",
    "    return pf.calDistance(ad.AttrDict({\"latitude\": row[\"ios3_lat\"], \"longitude\": row[\"ios3_lng\"]}),\n",
    "                          ad.AttrDict({\"latitude\": row[\"ios4_lat\"], \"longitude\": row[\"ios4_lng\"]}))"
   ]
  },
  {
   "cell_type": "code",
   "execution_count": null,
   "metadata": {
    "collapsed": true
   },
   "outputs": [],
   "source": [
    "def calDistance3(row):\n",
    "    return pf.calDistance(ad.AttrDict({\"latitude\": row[\"ios3_lat\"], \"longitude\": row[\"ios3_lng\"]}),\n",
    "                          ad.AttrDict({\"latitude\": row[\"android3_lat\"], \"longitude\": row[\"android3_lng\"]}))"
   ]
  },
  {
   "cell_type": "code",
   "execution_count": null,
   "metadata": {
    "collapsed": true
   },
   "outputs": [],
   "source": [
    "def calDistance4(row):\n",
    "    return pf.calDistance(ad.AttrDict({\"latitude\": row[\"ios4_lat\"], \"longitude\": row[\"ios4_lng\"]}),\n",
    "                          ad.AttrDict({\"latitude\": row[\"android4_lat\"], \"longitude\": row[\"android4_lng\"]}))"
   ]
  },
  {
   "cell_type": "code",
   "execution_count": null,
   "metadata": {
    "collapsed": true
   },
   "outputs": [],
   "source": [
    "def groundDistance(row):\n",
    "    print \"calculating distances for row %s \" % row\n",
    "    return pf.calDistance(ad.AttrDict({\"latitude\": row[\"ground_truth_lat\"], \"longitude\": row[\"ground_truth_lng\"]}),\n",
    "                          ad.AttrDict({\"latitude\": row[\"mean_lat\"], \"longitude\": row[\"mean_lng\"]}))"
   ]
  },
  {
   "cell_type": "code",
   "execution_count": null,
   "metadata": {
    "collapsed": true
   },
   "outputs": [],
   "source": [
    "def groundDistance1(row):\n",
    "    print \"calculating distances for row %s \" % row\n",
    "    return pf.calDistance(ad.AttrDict({\"latitude\": row[\"ground_truth_lat\"], \"longitude\": row[\"ground_truth_lng\"]}),\n",
    "                          ad.AttrDict({\"latitude\": row[\"mean_lat1\"], \"longitude\": row[\"mean_lng1\"]}))"
   ]
  },
  {
   "cell_type": "code",
   "execution_count": null,
   "metadata": {
    "collapsed": true
   },
   "outputs": [],
   "source": [
    "def groundDistance2(row):\n",
    "    print \"calculating distances for row %s \" % row\n",
    "    return pf.calDistance(ad.AttrDict({\"latitude\": row[\"ground_truth_lat\"], \"longitude\": row[\"ground_truth_lng\"]}),\n",
    "                          ad.AttrDict({\"latitude\": row[\"mean_lat2\"], \"longitude\": row[\"mean_lng2\"]}))"
   ]
  },
  {
   "cell_type": "code",
   "execution_count": null,
   "metadata": {
    "collapsed": true
   },
   "outputs": [],
   "source": [
    "def groundDistance3(row):\n",
    "    print \"calculating distances for row %s \" % row\n",
    "    return pf.calDistance(ad.AttrDict({\"latitude\": row[\"ground_truth_lat\"], \"longitude\": row[\"ground_truth_lng\"]}),\n",
    "                          ad.AttrDict({\"latitude\": row[\"mean_lat3\"], \"longitude\": row[\"mean_lng3\"]}))"
   ]
  },
  {
   "cell_type": "code",
   "execution_count": null,
   "metadata": {
    "collapsed": true
   },
   "outputs": [],
   "source": [
    "def groundDistance4(row):\n",
    "    print \"calculating distances for row %s \" % row\n",
    "    return pf.calDistance(ad.AttrDict({\"latitude\": row[\"ground_truth_lat\"], \"longitude\": row[\"ground_truth_lng\"]}),\n",
    "                          ad.AttrDict({\"latitude\": row[\"mean_lat4\"], \"longitude\": row[\"mean_lng4\"]}))"
   ]
  },
  {
   "cell_type": "code",
   "execution_count": null,
   "metadata": {
    "collapsed": false
   },
   "outputs": [],
   "source": [
    "def meanLat1(row):\n",
    "    return np.mean([row[\"android3_lat\"], row[\"android4_lat\"]])"
   ]
  },
  {
   "cell_type": "code",
   "execution_count": null,
   "metadata": {
    "collapsed": true
   },
   "outputs": [],
   "source": [
    "def meanLat2(row):\n",
    "    return np.mean([row[\"ios3_lat\"], row[\"ios4_lat\"]])    "
   ]
  },
  {
   "cell_type": "code",
   "execution_count": null,
   "metadata": {
    "collapsed": false
   },
   "outputs": [],
   "source": [
    "def meanLat3(row):\n",
    "    return np.mean([row[\"ios3_lat\"],row[\"android3_lat\"]])"
   ]
  },
  {
   "cell_type": "code",
   "execution_count": null,
   "metadata": {
    "collapsed": true
   },
   "outputs": [],
   "source": [
    "def meanLat4(row):\n",
    "    return np.mean([row[\"ios4_lat\"],row[\"android4_lat\"]])"
   ]
  },
  {
   "cell_type": "code",
   "execution_count": null,
   "metadata": {
    "collapsed": true
   },
   "outputs": [],
   "source": [
    "def meanLat(row):\n",
    "    return np.mean([row[\"android3_lat\"], row[\"android4_lat\"],\n",
    "                    row[\"ios3_lat\"], row[\"ios4_lat\"]])"
   ]
  },
  {
   "cell_type": "code",
   "execution_count": null,
   "metadata": {
    "collapsed": true
   },
   "outputs": [],
   "source": [
    "def meanLng1(row):\n",
    "    return np.mean([row[\"android3_lng\"], row[\"android4_lng\"]])"
   ]
  },
  {
   "cell_type": "code",
   "execution_count": null,
   "metadata": {
    "collapsed": true
   },
   "outputs": [],
   "source": [
    "def meanLng2(row):\n",
    "    return np.mean([row[\"ios3_lng\"], row[\"ios4_lng\"]])"
   ]
  },
  {
   "cell_type": "code",
   "execution_count": null,
   "metadata": {
    "collapsed": true
   },
   "outputs": [],
   "source": [
    "def meanLng3(row):\n",
    "    return np.mean([row[\"ios3_lng\"],row[\"android3_lng\"]])"
   ]
  },
  {
   "cell_type": "code",
   "execution_count": null,
   "metadata": {
    "collapsed": true
   },
   "outputs": [],
   "source": [
    "def meanLng4(row):\n",
    "    return np.mean([row[\"ios4_lng\"],row[\"android4_lng\"]])"
   ]
  },
  {
   "cell_type": "code",
   "execution_count": null,
   "metadata": {
    "collapsed": true
   },
   "outputs": [],
   "source": [
    "def meanLng(row):\n",
    "    return np.mean([row[\"android3_lng\"], row[\"android4_lng\"],\n",
    "                   row[\"ios3_lng\"], row[\"ios4_lng\"]])"
   ]
  },
  {
   "cell_type": "markdown",
   "metadata": {},
   "source": [
    "# Plotting non-interpolated vs. interpolated points "
   ]
  },
  {
   "cell_type": "markdown",
   "metadata": {},
   "source": [
    "Ground Truth Raw Latitude points against interpolated Latitude points"
   ]
  },
  {
   "cell_type": "code",
   "execution_count": null,
   "metadata": {
    "collapsed": false
   },
   "outputs": [],
   "source": [
    "fig, axes = plt.subplots(ncols=1, nrows=1, sharex=True, sharey=True, figsize=(20,5))\n",
    "ground_truth.plot(x = 'ts',y = 'latitude', ax=axes, style='bo')\n",
    "ts_new = np.arange(int(from_ts), int(end_ts), 1)\n",
    "ground_truth_latf = spi.interp1d(x = ground_truth.ts, y = ground_truth.latitude, bounds_error=False, \n",
    "                                     fill_value=(ground_truth.latitude.iloc[0], ground_truth.latitude.iloc[-1]))\n",
    "pd.DataFrame({\"ts\": ts_new, \"gtl\": ground_truth_latf(ts_new)}).plot(x = 'ts', y = 'gtl', ax=axes, style='r+')"
   ]
  },
  {
   "cell_type": "markdown",
   "metadata": {},
   "source": [
    "Same, but Longitude points"
   ]
  },
  {
   "cell_type": "code",
   "execution_count": null,
   "metadata": {
    "collapsed": false
   },
   "outputs": [],
   "source": [
    "fig, axes = plt.subplots(ncols=1, nrows=1, sharex=True, sharey=True, figsize=(20,5))\n",
    "ground_truth.plot(x = 'ts',y = 'longitude', ax=axes, style='bo')\n",
    "ground_truth_lngf = spi.interp1d(x = ground_truth.ts, y = ground_truth.longitude, bounds_error=False, \n",
    "                                     fill_value=(ground_truth.longitude.iloc[0], ground_truth.longitude.iloc[-1]))\n",
    "pd.DataFrame({\"ts\": ts_new, \"gtl\": ground_truth_lngf(ts_new)}).plot(x = 'ts', y = 'gtl', ax=axes, style='r+')"
   ]
  },
  {
   "cell_type": "code",
   "execution_count": null,
   "metadata": {
    "collapsed": false
   },
   "outputs": [],
   "source": [
    "#ios3_Latitude\n",
    "fig, axes = plt.subplots(ncols=1, nrows=1, sharex=True, sharey=True, figsize=(20,5))\n",
    "new_iphone_df_3.plot(x = 'ts',y = 'latitude', ax=axes, style='bo')\n",
    "ios3_latf = spi.interp1d(x = new_iphone_df_3.ts, y = new_iphone_df_3.latitude, bounds_error=False, \n",
    "                                     fill_value=(new_iphone_df_3.latitude.iloc[0], new_iphone_df_3.latitude.iloc[-1]))\n",
    "pd.DataFrame({\"ts\": ts_new, \"gtl\": ios3_latf(ts_new)}).plot(x = 'ts', y = 'gtl', ax=axes, style='r+')"
   ]
  },
  {
   "cell_type": "code",
   "execution_count": null,
   "metadata": {
    "collapsed": false
   },
   "outputs": [],
   "source": [
    "#ios3_Longitude\n",
    "fig, axes = plt.subplots(ncols=1, nrows=1, sharex=True, sharey=True, figsize=(20,5))\n",
    "new_iphone_df_3.plot(x = 'ts',y = 'longitude', ax=axes, style='bo')\n",
    "ios3_lngf = spi.interp1d(x = new_iphone_df_3.ts, y = new_iphone_df_3.longitude, bounds_error=False, \n",
    "                                     fill_value=(new_iphone_df_3.longitude.iloc[0], new_iphone_df_3.longitude.iloc[-1]))\n",
    "pd.DataFrame({\"ts\": ts_new, \"gtl\": ios3_lngf(ts_new)}).plot(x = 'ts', y = 'gtl', ax=axes, style='r+')"
   ]
  },
  {
   "cell_type": "code",
   "execution_count": null,
   "metadata": {
    "collapsed": false
   },
   "outputs": [],
   "source": [
    "#ios4_Latitude\n",
    "fig, axes = plt.subplots(ncols=1, nrows=1, sharex=True, sharey=True, figsize=(20,5))\n",
    "new_iphone_df_4.plot(x = 'ts',y = 'latitude', ax=axes, style='bo')\n",
    "ios4_latf = spi.interp1d(x = new_iphone_df_4.ts, y = new_iphone_df_4.latitude, bounds_error=False, \n",
    "                                     fill_value=(new_iphone_df_4.latitude.iloc[0], new_iphone_df_4.latitude.iloc[-1]))\n",
    "pd.DataFrame({\"ts\": ts_new, \"gtl\": ios4_latf(ts_new)}).plot(x = 'ts', y = 'gtl', ax=axes, style='r+')"
   ]
  },
  {
   "cell_type": "code",
   "execution_count": null,
   "metadata": {
    "collapsed": false
   },
   "outputs": [],
   "source": [
    "#ios4_longitude\n",
    "fig, axes = plt.subplots(ncols=1, nrows=1, sharex=True, sharey=True, figsize=(20,5))\n",
    "new_iphone_df_4.plot(x = 'ts',y = 'longitude', ax=axes, style='bo')\n",
    "ios4_lngf = spi.interp1d(x = new_iphone_df_4.ts, y = new_iphone_df_4.longitude, bounds_error=False, \n",
    "                                     fill_value=(new_iphone_df_4.longitude.iloc[0], new_iphone_df_4.longitude.iloc[-1]))\n",
    "pd.DataFrame({\"ts\": ts_new, \"gtl\": ios4_lngf(ts_new)}).plot(x = 'ts', y = 'gtl', ax=axes, style='r+')"
   ]
  },
  {
   "cell_type": "code",
   "execution_count": null,
   "metadata": {
    "collapsed": false
   },
   "outputs": [],
   "source": [
    "#android3_Latitude\n",
    "fig, axes = plt.subplots(ncols=1, nrows=1, sharex=True, sharey=True, figsize=(20,5))\n",
    "new_android_df_3.plot(x = 'ts',y = 'latitude', ax=axes, style='bo')\n",
    "android3_latf = spi.interp1d(x = new_android_df_3.ts, y = new_android_df_3.latitude, bounds_error=False, \n",
    "                                     fill_value=(new_android_df_3.latitude.iloc[0], new_android_df_3.latitude.iloc[-1]))\n",
    "pd.DataFrame({\"ts\": ts_new, \"gtl\": android3_latf(ts_new)}).plot(x = 'ts', y = 'gtl', ax=axes, style='r+')"
   ]
  },
  {
   "cell_type": "code",
   "execution_count": null,
   "metadata": {
    "collapsed": false
   },
   "outputs": [],
   "source": [
    "#android3_Longitude\n",
    "fig, axes = plt.subplots(ncols=1, nrows=1, sharex=True, sharey=True, figsize=(20,5))\n",
    "new_android_df_3.plot(x = 'ts',y = 'longitude', ax=axes, style='bo')\n",
    "android3_lngf = spi.interp1d(x = new_android_df_3.ts, y = new_android_df_3.longitude, bounds_error=False, \n",
    "                                     fill_value=(new_android_df_3.longitude.iloc[0], new_android_df_3.longitude.iloc[-1]))\n",
    "pd.DataFrame({\"ts\": ts_new, \"gtl\": android3_lngf(ts_new)}).plot(x = 'ts', y = 'gtl', ax=axes, style='r+')"
   ]
  },
  {
   "cell_type": "code",
   "execution_count": null,
   "metadata": {
    "collapsed": false
   },
   "outputs": [],
   "source": [
    "#android4_Latitude\n",
    "fig, axes = plt.subplots(ncols=1, nrows=1, sharex=True, sharey=True, figsize=(20,5))\n",
    "new_android_df_4.plot(x = 'ts',y = 'latitude', ax=axes, style='bo')\n",
    "android4_latf = spi.interp1d(x = new_android_df_4.ts, y = new_android_df_4.latitude, bounds_error=False, \n",
    "                                     fill_value=(new_android_df_4.latitude.iloc[0], new_android_df_4.latitude.iloc[-1]))\n",
    "pd.DataFrame({\"ts\": ts_new, \"gtl\": android4_latf(ts_new)}).plot(x = 'ts', y = 'gtl', ax=axes, style='r+')"
   ]
  },
  {
   "cell_type": "code",
   "execution_count": null,
   "metadata": {
    "collapsed": false
   },
   "outputs": [],
   "source": [
    "#android4_Longitude\n",
    "fig, axes = plt.subplots(ncols=1, nrows=1, sharex=True, sharey=True, figsize=(20,5))\n",
    "new_android_df_4.plot(x = 'ts',y = 'longitude', ax=axes, style='bo')\n",
    "android4_lngf = spi.interp1d(x = new_android_df_4.ts, y = new_android_df_4.longitude, bounds_error=False, \n",
    "                                     fill_value=(new_android_df_4.longitude.iloc[0], new_android_df_4.longitude.iloc[-1]))\n",
    "pd.DataFrame({\"ts\": ts_new, \"gtl\": android4_lngf(ts_new)}).plot(x = 'ts', y = 'gtl', ax=axes, style='r+')"
   ]
  },
  {
   "cell_type": "markdown",
   "metadata": {},
   "source": [
    "# Analysing Inteprolated Values"
   ]
  },
  {
   "cell_type": "code",
   "execution_count": null,
   "metadata": {
    "collapsed": false
   },
   "outputs": [],
   "source": [
    "import numpy as np\n",
    "import matplotlib.pyplot as plt\n",
    "from scipy.stats import norm\n",
    "distances = get_interp_distance_df(android_ts_3[0],android_ts_4[0],\n",
    "                                   iphone_ts_3[0], iphone_ts_4[0], ground_truth, from_ts, end_ts)"
   ]
  },
  {
   "cell_type": "markdown",
   "metadata": {},
   "source": [
    "Plotting different distance - differences alongside each other"
   ]
  },
  {
   "cell_type": "code",
   "execution_count": null,
   "metadata": {
    "collapsed": true
   },
   "outputs": [],
   "source": [
    "distances.plot(x = \"ts\", y = \"baseline_distances2\", ax = axes)\n",
    "distances.plot(x = \"ts\", y = \"baseline_distances3\", ax = axes)\n",
    "distances.plot(x = \"ts\", y = \"baseline_distances4\", ax = axes)\n",
    "\n",
    "distances.plot(x=\"ts\", y=\"ground_distances2\", ax = axes)\n",
    "distances.plot(x=\"ts\", y=\"ground_distances3\", ax = axes)\n",
    "distances.plot(x=\"ts\", y=\"ground_distances4\", ax = axes)"
   ]
  },
  {
   "cell_type": "code",
   "execution_count": null,
   "metadata": {
    "collapsed": false
   },
   "outputs": [],
   "source": [
    "fig, axes = plt.subplots(nrows=1, ncols=1)\n",
    "distances.plot(x = \"ts\", y = \"baseline_distances4\", ax = axes)\n",
    "distances.plot(x=\"ts\", y=\"ground_distances4\", ax = axes)"
   ]
  },
  {
   "cell_type": "code",
   "execution_count": null,
   "metadata": {
    "collapsed": false
   },
   "outputs": [],
   "source": [
    "import scipy.stats as spis"
   ]
  },
  {
   "cell_type": "code",
   "execution_count": null,
   "metadata": {
    "collapsed": false
   },
   "outputs": [],
   "source": [
    "#Example: Baseline Distances 3\n",
    "mu, sigma = 15.36, 21.42 # mean and standard deviation\n",
    "s = np.random.normal(mu, sigma, 1000)\n",
    "count, bins, ignored = plt.hist(s, 30, normed=True)\n",
    "plt.plot(bins, 1/(sigma * np.sqrt(2 * np.pi)) *np.exp( - (bins - mu)**2 / (2 * sigma**2) ),\n",
    "         linewidth=2, color='r')\n",
    "plt.show()"
   ]
  },
  {
   "cell_type": "markdown",
   "metadata": {},
   "source": [
    "Android3 vs. Android4"
   ]
  },
  {
   "cell_type": "code",
   "execution_count": null,
   "metadata": {
    "collapsed": false
   },
   "outputs": [],
   "source": [
    "distances.baseline_distances1.hist()"
   ]
  },
  {
   "cell_type": "code",
   "execution_count": null,
   "metadata": {
    "collapsed": false
   },
   "outputs": [],
   "source": [
    "distances.ground_distances.hist()"
   ]
  },
  {
   "cell_type": "code",
   "execution_count": null,
   "metadata": {
    "collapsed": false
   },
   "outputs": [],
   "source": [
    "def distance(p, ground):\n",
    "    return abs(p - ground)"
   ]
  },
  {
   "cell_type": "code",
   "execution_count": null,
   "metadata": {
    "collapsed": false
   },
   "outputs": [],
   "source": [
    "Quantity = []\n",
    "d = {}\n",
    "distances1 = distances[[\"fmt_time\",\"ts\", \"baseline_distances1\", \n",
    "                       \"ground_distances1\"]].copy()\n",
    "Threshold = sorted([13,12,11,10, 9, 8, 7, 6, 5, 4, 3])\n",
    "Threshold_range = [4,5,6,7,8,9,10,11,12,13]\n",
    "for T in Threshold:\n",
    "    d[\"f_dist{0}\".format(T)] = distances1[(distances1.baseline_distances1 < T)]\n"
   ]
  },
  {
   "cell_type": "code",
   "execution_count": null,
   "metadata": {
    "collapsed": false
   },
   "outputs": [],
   "source": [
    "Quan = []\n",
    "ground_distance_mean = []\n",
    "ground_distance_sum = []\n",
    "Threshold = sorted([13,12,11,10, 9, 8, 7, 6, 5, 4, 3])\n",
    "for T in Threshold:\n",
    "    Quan.append(d[\"f_dist{0}\".format(T)].baseline_distances1.describe()[\"count\"])\n",
    "    ground_distance_sum.append(d[\"f_dist{0}\".format(T)][\"ground_distances1\"].sum())\n",
    "    ground_distance_mean.append(d[\"f_dist{0}\".format(T)][\"ground_distances1\"].mean())\n",
    "final_df = pd.DataFrame({\"Threshold\":Threshold, \"Quantity\":Quan,\"Ground_distances_sum\":ground_distance_sum, \"Ground_distance_mean\":ground_distance_mean})\n",
    "final_df"
   ]
  },
  {
   "cell_type": "code",
   "execution_count": null,
   "metadata": {
    "collapsed": false
   },
   "outputs": [],
   "source": [
    "fig, ax = plt.subplots(nrows=1, ncols=1)\n",
    "final_df.plot(x=\"Threshold\", y=\"Quantity\", ax=ax)\n",
    "final_df.plot(x=\"Threshold\", secondary_y=\"Error\", ax=ax)"
   ]
  },
  {
   "cell_type": "code",
   "execution_count": null,
   "metadata": {
    "collapsed": false
   },
   "outputs": [],
   "source": [
    "fig, ax = plt.subplots(nrows=1, ncols=1)\n",
    "final_df.plot(x=\"Error\", y=\"Quantity\", ax=ax)"
   ]
  },
  {
   "cell_type": "markdown",
   "metadata": {
    "collapsed": true
   },
   "source": [
    "ios3 vs. ios4"
   ]
  },
  {
   "cell_type": "code",
   "execution_count": null,
   "metadata": {
    "collapsed": false
   },
   "outputs": [],
   "source": [
    "distances.baseline_distances2.hist()"
   ]
  },
  {
   "cell_type": "code",
   "execution_count": null,
   "metadata": {
    "collapsed": false
   },
   "outputs": [],
   "source": [
    "d = {}\n",
    "distances2 = distances[[\"fmt_time\",\"ts\", \"mean_lat\", \"mean_lng\", \"baseline_distances2\", \n",
    "                       \"ground_distances\"]].copy()\n",
    "Threshold = sorted([45, 40 ,35, 30,25, 20, 15, 10, 5])\n",
    "for T in Threshold:\n",
    "    d[\"f_dist{0}\".format(T)] = distances2[distances2.baseline_distances2 < T]\n",
    "\n",
    "Quan = []\n",
    "error = []\n",
    "for T in Threshold:\n",
    "    Quan.append(d[\"f_dist{0}\".format(T)].baseline_distances2.describe()[\"count\"])\n",
    "    error.append(d[\"f_dist{0}\".format(T)][\"ground_distances\"].sum())\n",
    "final_df = pd.DataFrame({\"Threshold\":Threshold, \"Quantity\":Quan, \"Error\":error})\n",
    "final_df\n",
    "\n",
    "fig, ax = plt.subplots(nrows=1, ncols=1)\n",
    "final_df.plot(x=\"Threshold\", y=\"Quantity\", ax=ax)\n",
    "final_df.plot(x=\"Threshold\", secondary_y=\"Error\", ax=ax)"
   ]
  },
  {
   "cell_type": "code",
   "execution_count": null,
   "metadata": {
    "collapsed": false
   },
   "outputs": [],
   "source": [
    "fig, ax = plt.subplots(nrows=1, ncols=1)\n",
    "final_df.plot(x=\"Error\", y=\"Quantity\", ax=ax)"
   ]
  },
  {
   "cell_type": "markdown",
   "metadata": {},
   "source": [
    "ios3 vs. android3"
   ]
  },
  {
   "cell_type": "code",
   "execution_count": null,
   "metadata": {
    "collapsed": false
   },
   "outputs": [],
   "source": [
    "distances.baseline_distances3.hist()"
   ]
  },
  {
   "cell_type": "code",
   "execution_count": null,
   "metadata": {
    "collapsed": false
   },
   "outputs": [],
   "source": [
    "d = {}\n",
    "distances3 = distances[[\"fmt_time\",\"ts\", \"mean_lat\", \"mean_lng\", \"baseline_distances3\", \n",
    "                       \"ground_distances\"]].copy()\n",
    "Threshold = sorted([18, 16, 14, 12, 10, 8, 6, 4, 2])\n",
    "for T in Threshold:\n",
    "    d[\"f_dist{0}\".format(T)] = distances3[distances3.baseline_distances3 < T]\n",
    "Quan = []\n",
    "error = []\n",
    "for T in Threshold:\n",
    "    Quan.append(d[\"f_dist{0}\".format(T)].baseline_distances3.describe()[\"count\"])\n",
    "    error.append(d[\"f_dist{0}\".format(T)][\"ground_distances\"].sum())\n",
    "final_df = pd.DataFrame({\"Threshold\":Threshold, \"Quantity\":Quan, \"Error\":error})\n",
    "\n",
    "fig, ax = plt.subplots(nrows=1, ncols=1)\n",
    "final_df.plot(x=\"Threshold\", y=\"Error\", ax=ax)\n",
    "final_df.plot(x=\"Threshold\", secondary_y=\"Error\", ax=ax)"
   ]
  },
  {
   "cell_type": "code",
   "execution_count": null,
   "metadata": {
    "collapsed": false
   },
   "outputs": [],
   "source": [
    "fig, ax = plt.subplots(nrows=1, ncols=1)\n",
    "final_df.plot(x=\"Error\", y=\"Quantity\", ax=ax)"
   ]
  },
  {
   "cell_type": "markdown",
   "metadata": {},
   "source": [
    "ios4 vs android4"
   ]
  },
  {
   "cell_type": "code",
   "execution_count": null,
   "metadata": {
    "collapsed": false
   },
   "outputs": [],
   "source": [
    "distances.baseline_distances4.hist()"
   ]
  },
  {
   "cell_type": "code",
   "execution_count": null,
   "metadata": {
    "collapsed": false
   },
   "outputs": [],
   "source": [
    "d = {}\n",
    "distances4 = distances[[\"fmt_time\",\"ts\", \"mean_lat\", \"mean_lng\", \"baseline_distances4\", \n",
    "                       \"ground_distances\"]].copy()\n",
    "Threshold = sorted([40,35,30,25,20,15,12,10,8,5,3 ])\n",
    "for T in Threshold:\n",
    "    d[\"f_dist{0}\".format(T)] = distances4[distances4.baseline_distances4 < T]\n",
    "Quan = []\n",
    "error = []\n",
    "for T in Threshold:\n",
    "    Th.append(T)\n",
    "    Quan.append(d[\"f_dist{0}\".format(T)].baseline_distances4.describe()[\"count\"])\n",
    "    error.append(d[\"f_dist{0}\".format(T)][\"ground_distances\"].sum())\n",
    "final_df = pd.DataFrame({\"Threshold\":Threshold, \"Quantity\":Quan, \"Error\":error})\n",
    "\n",
    "\n",
    "#distances4.baseline_distances4.quantile([0.85, 0.90, 0.95, 0.99])\n",
    "fig, ax = plt.subplots(nrows=1, ncols=1)\n",
    "final_df.plot(x=\"Threshold\", y=\"Error\", ax=ax)\n",
    "final_df.plot(x=\"Threshold\", secondary_y=\"Error\", ax=ax)"
   ]
  },
  {
   "cell_type": "code",
   "execution_count": null,
   "metadata": {
    "collapsed": false
   },
   "outputs": [],
   "source": [
    "fig, ax = plt.subplots(nrows=1, ncols=1)\n",
    "final_df.plot(x=\"Error\", y=\"Quantity\", ax=ax)"
   ]
  },
  {
   "cell_type": "markdown",
   "metadata": {},
   "source": [
    "# Generic Thresholds"
   ]
  },
  {
   "cell_type": "code",
   "execution_count": null,
   "metadata": {
    "collapsed": false
   },
   "outputs": [],
   "source": [
    "#Assume thresholds are percentiles in the range [0.70, 0.75, 0.80, 0.85, 0.90, 0.95, 0.99]\n",
    "#for each of the four baselines, show quantity vs error, at those thresholds in one graph\n",
    "# are they similar or different? compare to thresholds from previous grahs where ground distance aka error\n",
    "#is taken into account. \n",
    "\n",
    "Thresholds = [0.70, 0.75, 0.80, 0.85, 0.90, 0.95, 0.99]\n",
    "#distances1, distances2, distances3, distances4\n",
    "fig, axes = plt.subplots(nrows=1, ncols=1)\n",
    "q1 = distances1.baseline_distances1.quantile(Thresholds)\n",
    "q2 = distances2.baseline_distances2.quantile(Thresholds)\n",
    "q3 = distances3.baseline_distances3.quantile(Thresholds)\n",
    "q4 = distances4.baseline_distances4.quantile(Thresholds)\n",
    "q1.plot(ax = axes, style='o-')\n",
    "q2.plot(ax = axes, style ='o-')\n",
    "q3.plot(ax = axes, style ='o-')\n",
    "q4.plot(ax = axes, style ='o-')\n",
    "lines, labels = axes.get_legend_handles_labels()\n",
    "axes.legend(lines, [\"and3_vs_and4\", \"ios3_vs_ios4\", \"and3_vs_ios3\", \"and4_vs_ios4\"], loc='best')"
   ]
  },
  {
   "cell_type": "markdown",
   "metadata": {},
   "source": [
    "# Analysis of thresholds"
   ]
  },
  {
   "cell_type": "code",
   "execution_count": null,
   "metadata": {
    "collapsed": false
   },
   "outputs": [],
   "source": [
    "q2"
   ]
  },
  {
   "cell_type": "code",
   "execution_count": null,
   "metadata": {
    "collapsed": false
   },
   "outputs": [],
   "source": [
    "#q1 = 0.90  - 7.8\n",
    "#q2 = 0.85 = 12\n",
    "#q3 = 0.90 = 8.47\n",
    "#q4 = 0.85 = 11.9\n",
    "\n",
    "#Values from knee graphs\n",
    "#q1 = 6 and 8  \n",
    "#q2 = 10 - 15  \n",
    "#q3 = 6 - 7  \n",
    "#q4 = 10 - 15 ( 12.5) \n"
   ]
  },
  {
   "cell_type": "markdown",
   "metadata": {},
   "source": [
    "# Maps"
   ]
  },
  {
   "cell_type": "code",
   "execution_count": null,
   "metadata": {
    "collapsed": false
   },
   "outputs": [],
   "source": [
    "gt_gj = [{\n",
    "  \"type\": \"Feature\",\n",
    "  \"geometry\": {\n",
    "    \"type\": \"Point\",\n",
    "    \"coordinates\": [[37.8705228,-122.2659393], [37.8696579, -122.2659628], \n",
    "        [37.8686967, -122.2663615],\n",
    "        [37.8677596, -122.2659781], [37.8681473, -122.2636508],\n",
    "        [37.8672381, -122.2634622], [37.8674299, -122.2612558], \n",
    "        [37.8666323, -122.261009], [37.8669238, -122.2587255]]\n",
    "  }\n",
    "}]\n"
   ]
  },
  {
   "cell_type": "code",
   "execution_count": null,
   "metadata": {
    "collapsed": false
   },
   "outputs": [],
   "source": [
    "import emission.analysis.plotting.leaflet_osm.our_plotter as lo\n",
    "import emission.analysis.plotting.geojson.geojson_feature_converter as gfc\n",
    "import emission.analysis.plotting.leaflet_osm.ipython_helper as ipy"
   ]
  },
  {
   "cell_type": "code",
   "execution_count": null,
   "metadata": {
    "collapsed": false,
    "scrolled": true
   },
   "outputs": [],
   "source": [
    "    ipy.inline_maps([lo.get_maps_for_geojson_unsectioned(\n",
    "                [gfc.get_feature_list_from_df(iphone_df_3)]) + \n",
    "                    lo.get_maps_for_geojson_unsectioned(\n",
    "                [gfc.get_feature_list_from_df(iphone_df_4)]) + \n",
    "                     lo.get_maps_for_geojson_unsectioned(\n",
    "                [gfc.get_feature_list_from_df(android_df_3)]) +\n",
    "                     lo.get_maps_for_geojson_unsectioned(\n",
    "                [gfc.get_feature_list_from_df(android_df_4)])])"
   ]
  },
  {
   "cell_type": "code",
   "execution_count": null,
   "metadata": {
    "collapsed": true
   },
   "outputs": [],
   "source": [
    "import geojson as gj"
   ]
  },
  {
   "cell_type": "code",
   "execution_count": null,
   "metadata": {
    "collapsed": false
   },
   "outputs": [],
   "source": [
    "gfc.get_feature_list_from_df(iphone_df_3)[\"features\"][1]"
   ]
  },
  {
   "cell_type": "code",
   "execution_count": null,
   "metadata": {
    "collapsed": false
   },
   "outputs": [],
   "source": [
    "distances_pts = distances[[\"android3_lat\",\"android3_lng\", \"android4_lat\",\n",
    "                           \"android4_lng\",\"ground_truth_lat\",\"ground_truth_lng\",\"ts\",\n",
    "                           \"fmt_time\", \"ground_distances\", \"baseline_distances3\"]].copy()"
   ]
  },
  {
   "cell_type": "code",
   "execution_count": null,
   "metadata": {
    "collapsed": false
   },
   "outputs": [],
   "source": [
    "gd_25 = distances_pts[(distances_pts.ground_distances < 25) & (distances_pts.ground_distances > 20)]\n",
    "new_gd_25 = pd.DataFrame({\"ts\": gd_25.ts, \"latitude\": gd_25.ground_truth_lat, \"longitude\":gd_25.ground_truth_lng,\n",
    "                         \"fmt_time\":gd_25.fmt_time})\n",
    "and3 = pd.DataFrame({\"ts\": gd_25.ts, \"latitude\": gd_25.android3_lat, \"longitude\":gd_25.android3_lng, \n",
    "                    \"fmt_time\":gd_25.fmt_time})\n",
    "and4 = pd.DataFrame({\"ts\": gd_25.ts, \"latitude\": gd_25.android4_lat, \"longitude\":gd_25.android4_lng,\n",
    "                    \"fmt_time\":gd_25.fmt_time})"
   ]
  },
  {
   "cell_type": "code",
   "execution_count": null,
   "metadata": {
    "collapsed": false
   },
   "outputs": [],
   "source": [
    "ipy.inline_maps([lo.get_maps_for_geojson_unsectioned(\n",
    "                [gfc.get_feature_list_from_df(new_gd_25)]) + \n",
    "                    lo.get_maps_for_geojson_unsectioned(\n",
    "                [gfc.get_feature_list_from_df(and3)]) + \n",
    "                     lo.get_maps_for_geojson_unsectioned(\n",
    "                [gfc.get_feature_list_from_df(and4)])])"
   ]
  },
  {
   "cell_type": "code",
   "execution_count": null,
   "metadata": {
    "collapsed": true
   },
   "outputs": [],
   "source": [
    "# reason for not using mean ( these particular points lower mean error instead of increaing it)\n",
    "# calculate mean with and without points  - actual ground distances. "
   ]
  },
  {
   "cell_type": "code",
   "execution_count": null,
   "metadata": {
    "collapsed": false
   },
   "outputs": [],
   "source": [
    "points_20_25 = gd_25\n",
    "e_p = [points_20_25.baseline_distances3.describe()[\"count\"],points_20_25[\"ground_distances\"].mean(),points_20_25[\"ground_distances\"].sum()]\n",
    "e_p"
   ]
  },
  {
   "cell_type": "code",
   "execution_count": null,
   "metadata": {
    "collapsed": false
   },
   "outputs": [],
   "source": [
    "# linear programming? - to calculate thresholds given only baseline input data. \n",
    "# objective function: want to chose a threshold that maximises the quantity and reduces the error\n",
    "# f(baseline data) threshold\n",
    "# threshold - value that maximises quantity and minimizes error - but we don't have that because \n",
    "# we calculate error based on ground-distance - we can calculate quantity for given thresholds\n",
    "# but need to figure out how to evaluate the quality of the points within that threshold only given baseline data\n",
    "\n",
    "# if i'm eye - balling  - all the ideal thresholds seem to be the ones that include all the points\n",
    "# based on the fact that the error is the standard mean error. the lowest error occurs at the highest threshold\n",
    "# so maybe thats not a good evaluation of quality? \n",
    "\n",
    "# quality  - \n",
    "\n",
    "def threshold_calc(data):\n",
    "    min_dist = min (data)\n",
    "    max_dist = max(data)\n",
    "    threshold_range = np.arange(min_dist,max_dist,5)\n",
    "    "
   ]
  },
  {
   "cell_type": "code",
   "execution_count": null,
   "metadata": {
    "collapsed": false
   },
   "outputs": [],
   "source": []
  }
 ],
 "metadata": {
  "anaconda-cloud": {},
  "kernelspec": {
   "display_name": "Python [conda env:py27]",
   "language": "python",
   "name": "conda-env-py27-py"
  },
  "language_info": {
   "codemirror_mode": {
    "name": "ipython",
    "version": 2
   },
   "file_extension": ".py",
   "mimetype": "text/x-python",
   "name": "python",
   "nbconvert_exporter": "python",
   "pygments_lexer": "ipython2",
   "version": "2.7.12"
  }
 },
 "nbformat": 4,
 "nbformat_minor": 1
}
